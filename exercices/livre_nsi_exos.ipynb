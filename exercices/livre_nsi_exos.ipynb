{
 "cells": [
  {
   "cell_type": "markdown",
   "metadata": {
    "slideshow": {
     "slide_type": "slide"
    }
   },
   "source": [
    "# Sélection d'exercices"
   ]
  },
  {
   "cell_type": "markdown",
   "metadata": {
    "slideshow": {
     "slide_type": "slide"
    }
   },
   "source": [
    "## 1 - Arithmétique, variables, instructions"
   ]
  },
  {
   "cell_type": "markdown",
   "metadata": {
    "slideshow": {
     "slide_type": "fragment"
    }
   },
   "source": [
    "### Ex4p22\n",
    "\n",
    "Quelle est la valeur affichée par l'interprèteur après la séquence d'instructions suivantes ? ____\n",
    "```python\n",
    ">>> a = 3\n",
    ">>> a = 4\n",
    ">>> a = a + 2\n",
    ">>> a\n",
    "```"
   ]
  },
  {
   "cell_type": "markdown",
   "metadata": {
    "slideshow": {
     "slide_type": "subslide"
    }
   },
   "source": [
    "### Ex5p22\n",
    "\n",
    "Même question. ___\n",
    "```python\n",
    ">>> a = 2\n",
    ">>> b = a * a\n",
    ">>> b = a * b\n",
    ">>> b = b * b\n",
    ">>> b\n",
    "```"
   ]
  },
  {
   "cell_type": "markdown",
   "metadata": {
    "slideshow": {
     "slide_type": "subslide"
    }
   },
   "source": [
    "### Ex6p22\n",
    "\n",
    "Initialiser une variable `a` avec la valeur 2, puis répéter dix fois l'instruction `a = a * a`. \n",
    "\n",
    "Observer le résultat. Quelle puissance de 2 a-t-on ainsi calculée ? ____"
   ]
  },
  {
   "cell_type": "code",
   "execution_count": null,
   "metadata": {},
   "outputs": [],
   "source": [
    "# à faire ici ..."
   ]
  },
  {
   "cell_type": "markdown",
   "metadata": {},
   "source": [
    "### Ex9p22\n",
    "\n",
    "On supposera qu'à l'origine les variables `a` et `b` contiennent chacune un nombre entier.\n",
    "\n",
    "1. Que fait la séquence d'instructions suivante? _____\n",
    "\n",
    "```python\n",
    ">>> tmp = a\n",
    ">>> a = b\n",
    ">>> b = tmp\n",
    "```\n"
   ]
  },
  {
   "cell_type": "code",
   "execution_count": null,
   "metadata": {},
   "outputs": [],
   "source": []
  },
  {
   "cell_type": "markdown",
   "metadata": {},
   "source": [
    "2. Écrire une instruction (une ligne) qui fait la même chose (*aide*: penser à l'affectaction multiple)"
   ]
  },
  {
   "cell_type": "code",
   "execution_count": null,
   "metadata": {},
   "outputs": [],
   "source": [
    "# à faire"
   ]
  },
  {
   "cell_type": "markdown",
   "metadata": {},
   "source": [
    "### Ex10p23\n",
    "\n",
    "On met deux entiers dans deux «boîtes» `a` et `b`, par exemple 55 et 89.\n",
    "\n",
    "On remplace le contenu de `a` par la somme de celui de `a` et de `b`.\n",
    "\n",
    "Puis on remplace le contenu de `b` par le contenu de `a` moins le contenu de `b`.\n",
    "\n",
    "Enfin, on remplace le contenu de `a` par son contenu moins celui de `b`.\n",
    "\n",
    "Que contiennent `a` et `b` à la fin de ces opérations? ____\n",
    "\n",
    "Programme cet algorihme en Python."
   ]
  },
  {
   "cell_type": "code",
   "execution_count": null,
   "metadata": {},
   "outputs": [],
   "source": [
    "# à faire"
   ]
  },
  {
   "cell_type": "markdown",
   "metadata": {},
   "source": [
    "### Ex12p23 - à faire après avoir vu la notion d'écriture d'un nombre dans une base donnée\n",
    "\n",
    "Écrire une fonction qui attend un entier entre 2 et 36 (base) et un nombre dans cette base et qui renvoie ce nombre en base 10.\n",
    "\n",
    "*Note*: La notation `int(<chaine>,<base>)` permet de convertir une *chaîne* représentant un entier dans une *base* donnée en un entier Python (*int*)"
   ]
  },
  {
   "cell_type": "code",
   "execution_count": null,
   "metadata": {},
   "outputs": [],
   "source": [
    "# zone de test pour la note\n",
    "int(\"101\", 2)\n",
    "int(\"ab\")"
   ]
  },
  {
   "cell_type": "code",
   "execution_count": null,
   "metadata": {},
   "outputs": [],
   "source": [
    "def conversion_base_10(base, chaine_nb):\n",
    "    pass # à compléter\n",
    "    return nb_base_10"
   ]
  },
  {
   "cell_type": "markdown",
   "metadata": {},
   "source": [
    "### Ex13p23\n",
    "\n",
    "Écrire une fonction qui attend un nombre de secondes et qui renvoie une chaîne (*str*) dans le format `<heures>/<minutes>/<secondes>`"
   ]
  },
  {
   "cell_type": "code",
   "execution_count": null,
   "metadata": {},
   "outputs": [],
   "source": [
    "def formatter_duree(duree_sec):\n",
    "    pass # à compléter\n",
    "    return f_duree"
   ]
  },
  {
   "cell_type": "markdown",
   "metadata": {},
   "source": [
    "### Ex14p23\n",
    "\n",
    "Écrire une fonction qui attend un nombre d'oeufs et qui renvoie le nombre de boîtes de 6 oeufs nécessaires à leur transport."
   ]
  },
  {
   "cell_type": "code",
   "execution_count": null,
   "metadata": {},
   "outputs": [],
   "source": [
    "def boites_oeufs(nb_oeufs):\n",
    "    pass # à compléter\n",
    "    return nb_boites"
   ]
  },
  {
   "cell_type": "markdown",
   "metadata": {},
   "source": [
    "### Ex15p23 - *maths*\n",
    "\n",
    "On souhaite calculer les coordonnées du point d'intersection de deux droites données sous la forme: \n",
    "$$\\left\\{\\begin{array}{l}y=ax+b\\cr y=cx+d\\end{array}\\right.$$\n",
    "\n",
    "On suppose ici que $a$, $b$, $c$ et $d$ sont des entiers.\n",
    "\n",
    "Écrire une fonction qui attend ces quatre valeurs et qui renvoie, sous la forme d'un `str` les coordonnées du point d'intersection.\n",
    "\n",
    "Que se passe-t-il si les droites sont parallèles ? ____"
   ]
  },
  {
   "cell_type": "code",
   "execution_count": null,
   "metadata": {},
   "outputs": [],
   "source": [
    "def coord_intersection(a, b, c, d):\n",
    "    pass\n",
    "    return ch_pt_inter"
   ]
  },
  {
   "cell_type": "markdown",
   "metadata": {
    "slideshow": {
     "slide_type": "slide"
    }
   },
   "source": [
    "## 2 - Boucle `for`"
   ]
  },
  {
   "cell_type": "markdown",
   "metadata": {},
   "source": [
    "### Ex22p36\n",
    "\n",
    "Écrire une fonction qui demande un entier `n` à l'utilisateur, puis calcule renvoie le résultat de la multiplication\n",
    "$$2\\times 2\\times 2\\cdots\\times 2$$\n",
    "où on a `n` occurences (répétitions) de $2$."
   ]
  },
  {
   "cell_type": "code",
   "execution_count": null,
   "metadata": {},
   "outputs": [],
   "source": [
    "def repeter_multiplication_avec_2(n):\n",
    "    res = 4 * n\n",
    "    return res\n",
    "\n",
    "repeter_multiplication_avec_2(3)"
   ]
  },
  {
   "cell_type": "markdown",
   "metadata": {},
   "source": [
    "### Ex23p36\n",
    "\n",
    "1. Écrire un programme qui calcule et affiche la chaîne de caractères `\"1*2*3*...*100\"` sans les points de suspensions!"
   ]
  },
  {
   "cell_type": "code",
   "execution_count": null,
   "metadata": {},
   "outputs": [],
   "source": [
    "pass"
   ]
  },
  {
   "cell_type": "markdown",
   "metadata": {},
   "source": [
    "2. Écrire une fonction qui attend un entier `n` et renvoie la `str` précédente où le dernier nombre est l'entier fourni."
   ]
  },
  {
   "cell_type": "code",
   "execution_count": null,
   "metadata": {},
   "outputs": [],
   "source": [
    "def chaine_factorielle(n):\n",
    "    pass\n",
    "    return ch_produit"
   ]
  },
  {
   "cell_type": "markdown",
   "metadata": {},
   "source": [
    "3. Écrire une fonction qui attend un entier `n` et renvoie le résultat *int* de l'opération précédente."
   ]
  },
  {
   "cell_type": "code",
   "execution_count": null,
   "metadata": {},
   "outputs": [],
   "source": [
    "def factorielle(n):\n",
    "    pass\n",
    "    return fact"
   ]
  },
  {
   "cell_type": "markdown",
   "metadata": {},
   "source": [
    "### Ex24p36\n",
    "\n",
    "1. Reprendre la dernière question de l'exercice précédent où la multiplication est remplacée par l'addition."
   ]
  },
  {
   "cell_type": "code",
   "execution_count": null,
   "metadata": {},
   "outputs": [],
   "source": [
    "def somme_entiers_consecutifs(n):\n",
    "    pass"
   ]
  },
  {
   "cell_type": "markdown",
   "metadata": {},
   "source": [
    "2. Réaliser une «micro»-fonction `lambda` qui implémente la fonction $n\\mapsto \\dfrac{n(n+1)}{2}$ (voir *note* en dessous)"
   ]
  },
  {
   "cell_type": "code",
   "execution_count": null,
   "metadata": {},
   "outputs": [],
   "source": [
    "micro = lambda ___ : ____"
   ]
  },
  {
   "cell_type": "markdown",
   "metadata": {},
   "source": [
    "*Note*: une «micro»-fonction sert à produire rapidement une fonction lorsque celle-ci est de la forme «$x\\mapsto\\text{expression}$». En python, cela donne `nom_fonction = lambda x:<expression>`.\n",
    "\n",
    "*expression*: tout ce qui produit une valeur\n",
    "\n",
    "*Exemples*:\n",
    "- la fonction carré $x\\mapsto x^2$ peut s'écrire `carre = lambda x: x ** 2`\n",
    "- la fonction «surface d'un rectangle» $\\quad l, L \\mapsto l\\times L\\quad$ peut s'écrire `surface_rect = lambda l, L: l * L`"
   ]
  },
  {
   "cell_type": "code",
   "execution_count": null,
   "metadata": {},
   "outputs": [],
   "source": [
    "# zone pour tester les «micro»-fonctions\n",
    "carre = lambda x: x ** 2\n",
    "carre(3)"
   ]
  },
  {
   "cell_type": "markdown",
   "metadata": {},
   "source": [
    "3. Comparer les résultats de l'une et de l'autre pour les valeurs 10, 100 et 347.\n",
    "\n",
    " Qu'observez-vous ? ____ (démontrer ... ou attendre le chapitre sur les suites)"
   ]
  },
  {
   "cell_type": "code",
   "execution_count": null,
   "metadata": {},
   "outputs": [],
   "source": [
    "# question 3\n",
    "pashttps://fr.wikipedia.org/wiki/OpenDocuments"
   ]
  },
  {
   "cell_type": "markdown",
   "metadata": {},
   "source": [
    "### Ex25p36\n",
    "\n",
    "Écrire une fonction pour résoudre le problème suivant.\n",
    "\n",
    ">Une somme initiale de `depot` € est déposée sur un livret rémunéré avec un taux d'intérêts annuels `taux` exprimé en pourcents.\n",
    ">\n",
    ">Quel montant total se trouve sur le livret après `n` années?\n"
   ]
  },
  {
   "cell_type": "code",
   "execution_count": null,
   "metadata": {},
   "outputs": [],
   "source": [
    "def montant_depot(depot, taux, n):\n",
    "    pass\n",
    "    return montant"
   ]
  },
  {
   "cell_type": "markdown",
   "metadata": {},
   "source": [
    "### Ex26p36\n",
    "\n",
    "Écrire une fonction sans argument qui demande à l'utilisateur un nombres de notes `n` à prendre en compte, puis à tour de rôle chacune des `n` notes et son coefficient. La fonction doit renvoyer la moyenne pondérée de ces notes. (voir *note* plus loin)"
   ]
  },
  {
   "cell_type": "code",
   "execution_count": null,
   "metadata": {},
   "outputs": [],
   "source": [
    "# Résolution de l'exercice\n",
    "def moyenne_ponderee():\n",
    "    pass\n",
    "    return moy"
   ]
  },
  {
   "cell_type": "markdown",
   "metadata": {},
   "source": [
    "*Note*: pour communiquer avec l'utilisateur, on utilise la notation `rep = input(\"ma question: \")`.\n",
    "\n",
    "la valeur renvoyée par `input(...)` est toujours une chaîne de caractères `str`.\n",
    "\n",
    "Si celle-ci est de la forme `\"123\"`, vous souhaiterez probablement la convertir en un `int` ou un `float` pour effectuer des calculs."
   ]
  },
  {
   "cell_type": "code",
   "execution_count": null,
   "metadata": {},
   "outputs": [],
   "source": [
    "# Note: zone d'expérimation comportant une (petite) erreur à trouver.\n",
    "age = input(\"Quel age as-tu? \")\n",
    "f\"C'est ton anniversaire! tu as {age + 1} ans\""
   ]
  },
  {
   "cell_type": "markdown",
   "metadata": {},
   "source": [
    "### Ex27p36\n",
    "\n",
    "1. Écrire une fonction sans argument qui demande à l'utilisateur un nombre de chiffres `n` puis, `n` chiffres (0,1,..ou 9), et qui renvoie le nombre `int` formé avec les `n` chiffres fournies dans l'ordre."
   ]
  },
  {
   "cell_type": "code",
   "execution_count": null,
   "metadata": {},
   "outputs": [],
   "source": [
    "def chiffres_vers_nombres():\n",
    "    pass\n",
    "    return nb_gauche_droite"
   ]
  },
  {
   "cell_type": "markdown",
   "metadata": {},
   "source": [
    "2. Écrire une variante de la même fonction qui renvoie le nombre formé avec les `n` chiffres mais dans l'ordre inverse."
   ]
  },
  {
   "cell_type": "code",
   "execution_count": null,
   "metadata": {},
   "outputs": [],
   "source": [
    "https://fr.wikipedia.org/wiki/OpenDocumentdef chiffres_vers_nombres_var():\n",
    "    pass\n",
    "    return nb_droite_gauche"
   ]
  },
  {
   "cell_type": "markdown",
   "metadata": {},
   "source": [
    "### Ex28p36"
   ]
  },
  {
   "cell_type": "markdown",
   "metadata": {},
   "source": [
    "## 3 - Comparaisons, booléens, tests"
   ]
  },
  {
   "cell_type": "markdown",
   "metadata": {},
   "source": [
    "### Ex37p53\n",
    "\n",
    "Écrire une fonction qui attend un entier `n` et renvoie la liste de tous ses diviseurs."
   ]
  },
  {
   "cell_type": "code",
   "execution_count": null,
   "metadata": {},
   "outputs": [],
   "source": [
    "def trouver_diviseurs(n):\n",
    "    pass\n",
    "    return diviseurs"
   ]
  },
  {
   "cell_type": "markdown",
   "metadata": {},
   "source": [
    "### Ex38p53\n",
    "\n",
    "1. Adapter la fonction de l'exercice précédent de façon à ce qu'elle renvoie la liste des diviseurs premiers de l'entier `n`.\n",
    "\n",
    "  *Rappel*: un nombre premier est strictement plus grand que 1 et n'est divisible que par 1 et par lui-même.\n",
    "\n",
    "  *Astuce*: il est possible de réutiliser la fonction `trouver_diviseurs` de l'exercice précédent."
   ]
  },
  {
   "cell_type": "code",
   "execution_count": null,
   "metadata": {},
   "outputs": [],
   "source": [
    "def trouver_diviseurs(n):\n",
    "    pass # copier coller le code trouvé à l'exercice précédent\n",
    "\n",
    "def trouver_diviseurs_premiers(n):\n",
    "    pass # à faire"
   ]
  },
  {
   "cell_type": "markdown",
   "metadata": {},
   "source": [
    "2. Dernière adaptation: votre fonction renvoie une chaîne de caractère de format `\"<div1>, <div2>, <div3>*,...\"` où `*` indique que le diviseur est premier."
   ]
  },
  {
   "cell_type": "code",
   "execution_count": null,
   "metadata": {},
   "outputs": [],
   "source": [
    "# 2.\n",
    "def trouver_diviseurs_var(n):\n",
    "    pass\n",
    "    return ch_diviseurs"
   ]
  },
  {
   "cell_type": "markdown",
   "metadata": {},
   "source": [
    "### Ex39p54 - Jeu de mölkky\n",
    "\n",
    "Au *jeu de mölkky*, chaque joueur marque à son tour de jeu entre 0 et 12 points, qui viennent s'ajouter à son score précédent.\n",
    "\n",
    "Le premier à atteindre un score de **51** gagne.\n",
    "\n",
    "Mais gare! Quiconque dépasse le score cible de 51 revient immédiatement à 25 points.\n",
    "\n",
    "1. Écrire une fonction qui attend le `score` du joueur ainsi que le nombre de points `gain` marqué à ce tour. Elle renvoie le nouveau score."
   ]
  },
  {
   "cell_type": "code",
   "execution_count": null,
   "metadata": {},
   "outputs": [],
   "source": [
    "def tour_molkky(score, gain):\n",
    "    pass # à faire"
   ]
  },
  {
   "cell_type": "markdown",
   "metadata": {},
   "source": [
    "2. Compléter la fonction qui suit et qui permet de jouer au *jeu de mölkky* avec un gain aléatoire (voir *note*) à chaque tour. Elle renvoie une chaîne de caractère au format \"Nombre de tour du jeu: xxx\""
   ]
  },
  {
   "cell_type": "code",
   "execution_count": null,
   "metadata": {},
   "outputs": [],
   "source": [
    "from random import randint\n",
    "\n",
    "def molkky_aleatoire():\n",
    "    score = 0\n",
    "    nb_tours = ___\n",
    "    \n",
    "    while True:\n",
    "        ____ = nb_tours + 1\n",
    "        gain = randint(0,12)\n",
    "        ____ = tour_molkky(score, gain)\n",
    "        if ___: return f\"___\"\n",
    "        \n",
    "        # on abandonne si c'est trop long: 30 tours max\n",
    "        if ___: return \"abandon\"         "
   ]
  },
  {
   "cell_type": "markdown",
   "metadata": {},
   "source": [
    "*Note*: la bibliothèque standard dispose d'un *module* `random` qui contient (entre autre) une fonction `randint(a,b)`. Cette fonction renvoie un nombre entier au hasard entre `a` inclus et `b` inclus. \n",
    "\n",
    "Pour utiliser une fonction (ou plusieurs) d'un *module* de la bibliothèque standard, la syntaxe est `from <module> import fn1, fn2, ...`"
   ]
  },
  {
   "cell_type": "code",
   "execution_count": null,
   "metadata": {},
   "outputs": [],
   "source": [
    "# zone de test pour la note\n",
    "from ___ import ___\n",
    "un_de = randint(___, ___)\n",
    "un_de"
   ]
  },
  {
   "cell_type": "markdown",
   "metadata": {},
   "source": [
    "3. Enrichir avec la règle suivante: si le joueur marque un score de 0 lors de trois coups consécutifs, il perd."
   ]
  },
  {
   "cell_type": "code",
   "execution_count": null,
   "metadata": {},
   "outputs": [],
   "source": [
    "pass"
   ]
  },
  {
   "cell_type": "markdown",
   "metadata": {},
   "source": [
    "### Ex40p54\n",
    "\n",
    "Au bowling, on a deux chances pour faire tomber un total de dix quilles.\n",
    "\n",
    "Écrire une fonction qui attends le nombre de quilles renversées avec chacune des deux boules et renvoie 'X' si toutes les quilles sont tombées à la première boule, '/' si toutes les quilles sont tombées, et sinon le nombre de quilles renversées."
   ]
  },
  {
   "cell_type": "code",
   "execution_count": null,
   "metadata": {},
   "outputs": [],
   "source": [
    "def bowling(boule1, boule2):\n",
    "    pass # à compléter"
   ]
  },
  {
   "cell_type": "markdown",
   "metadata": {},
   "source": [
    "### Ex43p54 - *math*\n",
    "\n",
    "Étant données trois mesures `a`, `b` et `c`, il n'est pas toujours possible de construire un triangle dont les côtés aient ces mesures.\n",
    "\n",
    "1. Écrire une fonction qui retourne un `bool` pour indiquer si le triangle est constructible ou pas. (*aide*: inégalités triangulaires ...)"
   ]
  },
  {
   "cell_type": "code",
   "execution_count": null,
   "metadata": {},
   "outputs": [],
   "source": [
    "def est_constructible(a, b, c):\n",
    "    pass"
   ]
  },
  {
   "cell_type": "markdown",
   "metadata": {},
   "source": [
    "2. Même consigne mais pour indiquer si le triangle est rectangle. (*aide*: Pythagore)"
   ]
  },
  {
   "cell_type": "code",
   "execution_count": null,
   "metadata": {},
   "outputs": [],
   "source": [
    "def est_rectangle(a, b, c):\n",
    "    pass"
   ]
  },
  {
   "cell_type": "markdown",
   "metadata": {},
   "source": [
    "### Ex48p55\n",
    "\n",
    "1. Écrire une fonction qui attend deux nombres et renvoie la distance entre ces deux nombres. (*rappel*: la distance est tjs un nombre positif)"
   ]
  },
  {
   "cell_type": "code",
   "execution_count": null,
   "metadata": {},
   "outputs": [],
   "source": [
    "def distance(a, b):\n",
    "    pass"
   ]
  },
  {
   "cell_type": "markdown",
   "metadata": {},
   "source": [
    "2. De même, mais entre deux points dans un repère. Chaque point sera représenté par un `tuple` ex `(-2, 5)` (voir *note*)"
   ]
  },
  {
   "cell_type": "code",
   "execution_count": null,
   "metadata": {},
   "outputs": [],
   "source": [
    "from math import sqrt\n",
    "\n",
    "def distance_2D(A, B):\n",
    "    x_A, y_A = A\n",
    "    ___, ___ = B\n",
    "    # à poursuivre\n",
    "    pass"
   ]
  },
  {
   "cell_type": "markdown",
   "metadata": {},
   "source": [
    "*note1*: le module `math` de la bibliothèque standard contient (entre autre) une fonction `sqrt` (*square root*) qui calcule la racine carrée de son argument.\n",
    "\n",
    "À ce propos, on peut utiliser une deuxième forme d'import `import nom_module`. Pour utiliser une fonction `fn` du module, on utilise alors la syntaxe:\n",
    "\n",
    "`resultat = nom_module.fn(...)`"
   ]
  },
  {
   "cell_type": "code",
   "execution_count": null,
   "metadata": {},
   "outputs": [],
   "source": [
    "# zone de test pour la note\n",
    "import math\n",
    "math.sqrt(9)"
   ]
  },
  {
   "cell_type": "markdown",
   "metadata": {},
   "source": [
    "*note2*: un `tuple` est un type très similaire à `list` sauf que les délimiteurs sont des parenthèses plutôt que des crochets.\n",
    "\n",
    "On les préfère aux listes lorsque 1. on connaît à l'avance le nombre d'éléments (qui est petit) 2. les éléments peuvent être de différents type.\n",
    "\n",
    "Voici un exemples. Observer bien comment on récupère les éléments."
   ]
  },
  {
   "cell_type": "code",
   "execution_count": null,
   "metadata": {},
   "outputs": [],
   "source": [
    "A = (-2, 5)\n",
    "x, y = A\n",
    "f\"Les coordonnées de A sont {x} et {y}\""
   ]
  },
  {
   "cell_type": "markdown",
   "metadata": {},
   "source": [
    "### Ex49p55\n",
    "\n",
    "Étant donnés trois nombres `a`, `b` et `c`, renvoyer une chaîne de caractère qui précise si `c` est *plus petit* que les deux autres, *plus grand* que les deux autres ou *entre* les deux autres."
   ]
  },
  {
   "cell_type": "code",
   "execution_count": null,
   "metadata": {},
   "outputs": [],
   "source": [
    "def position_de_c(a, b, c):\n",
    "    pass"
   ]
  },
  {
   "cell_type": "markdown",
   "metadata": {},
   "source": [
    "### Ex50p55\n",
    "\n",
    "Écrire une fonction qui, étant donnée une année, renvoie un `bool` pour indiquer si l'année est bissextile ou non.\n",
    "\n",
    "*Note*: une année est bissextile si elle est multiple de 4 mais pas multiple de 100, ou si elle est multiple de 400. \n",
    "\n",
    "Une année bissextile comporte 366 jours au lieu de 365 jours pour une année régulière."
   ]
  },
  {
   "cell_type": "code",
   "execution_count": null,
   "metadata": {},
   "outputs": [],
   "source": [
    "def est_bissextile(annee):\n",
    "    pass"
   ]
  },
  {
   "cell_type": "markdown",
   "metadata": {},
   "source": [
    "### Ex51p55\n",
    "\n",
    "Écrire une fonction qui, étant donné un entier `n`, analyse tous les entiers de 1 à `n` et renvoie une liste contenant 'fizz' si l'entier est un multiple de 3, 'buzz' si l'entier est un multiple de 5 (et en particulier 'fizzbuzz' lorsque c'est un multiple de 15) et l'entier sinon."
   ]
  },
  {
   "cell_type": "code",
   "execution_count": null,
   "metadata": {},
   "outputs": [],
   "source": [
    "def fizzbuzz(n):\n",
    "    pass"
   ]
  },
  {
   "cell_type": "markdown",
   "metadata": {},
   "source": [
    "### Ex52p55\n",
    "\n",
    "Écrire une fonction qui, étant donnés trois entiers, renvoie une `str` correcte de la forme `\"<nb1> < <nb2> < <nb3>\"`"
   ]
  },
  {
   "cell_type": "code",
   "execution_count": null,
   "metadata": {},
   "outputs": [],
   "source": [
    "def ordonner(a, b, c):\n",
    "    pass"
   ]
  },
  {
   "cell_type": "markdown",
   "metadata": {},
   "source": [
    "### Ex53p55 - *math*\n",
    "\n",
    "1. Écrire une fonction dans le but de résoudre une équation du second degré $ax^2+bx+c=0$. Que se passe-t-il lorsque $a=0$ ?"
   ]
  },
  {
   "cell_type": "code",
   "execution_count": null,
   "metadata": {},
   "outputs": [],
   "source": [
    "def resoudre_trinome(a, b, c):\n",
    "    pass"
   ]
  },
  {
   "cell_type": "markdown",
   "metadata": {},
   "source": [
    "2. L'améliorer de façon à refuser $a=0$ en levant une exception `Error` contenant un message indiquant alors qu'il ne s'agit pas d'une équation du second degré."
   ]
  },
  {
   "cell_type": "code",
   "execution_count": null,
   "metadata": {},
   "outputs": [],
   "source": [
    "def resoudre_trinome(a, b, c):\n",
    "    pass"
   ]
  },
  {
   "cell_type": "markdown",
   "metadata": {},
   "source": [
    "3. Modifier la encore pour ne pas refuser la cas $a=0$, mais résoudre dans ce cas l'équation du premier degré."
   ]
  },
  {
   "cell_type": "code",
   "execution_count": null,
   "metadata": {},
   "outputs": [],
   "source": [
    "def resoudre_trinome(a, b, c):\n",
    "    pass"
   ]
  },
  {
   "cell_type": "markdown",
   "metadata": {},
   "source": [
    "## 4 - Fonctions"
   ]
  },
  {
   "cell_type": "markdown",
   "metadata": {},
   "source": [
    "### Ex58p71\n",
    "\n",
    "Définir une fonction `valeur_absolue` qui prend un entier en argument et renvoie sa valeur absolue.\n",
    "\n",
    "**Note**: La valeur absolue d'un nombre est sa «distance à 0» c'est à dire ce nombre privé du signe moins s'il en avait un. ex: `valeur_absolue(-5)` donne `5`; `valeur_absolue(5)` donne `5`."
   ]
  },
  {
   "cell_type": "code",
   "execution_count": null,
   "metadata": {},
   "outputs": [],
   "source": [
    "def valeur_absolue(x):\n",
    "    pass"
   ]
  },
  {
   "cell_type": "markdown",
   "metadata": {},
   "source": [
    "### Ex59p71\n",
    "\n",
    "Modifier la fonction:\n",
    "\n",
    "```python\n",
    "def somme(n):\n",
    "    return n * (n + 1) // 2\n",
    "\n",
    "def multiples(i):\n",
    "    return i * somme(999 // 1)\n",
    "```\n",
    "\n",
    "pour qu'elle prenne la limite en argument plutôt que d'utiliser la valeur 999. En déduire une fonction `multiple_3_ou_5(n)` qui renvoie la somme des multiples de 3 ou 5 inférieurs ou égaux à `n`. Afficher le résultat de `multiples_3_ou_5(999999999)`"
   ]
  },
  {
   "cell_type": "code",
   "execution_count": null,
   "metadata": {},
   "outputs": [],
   "source": []
  },
  {
   "cell_type": "markdown",
   "metadata": {},
   "source": [
    "### Ex60p72\n",
    "\n",
    "1. Écrire une fonction `max2(a, b)` qui renvoie le plus grand des deux entiers `a` et `b`."
   ]
  },
  {
   "cell_type": "code",
   "execution_count": null,
   "metadata": {},
   "outputs": [],
   "source": []
  },
  {
   "cell_type": "markdown",
   "metadata": {},
   "source": [
    "2. En se servant de la fonction `max2`, écrire une fonction `max3(a, b, c)` qui renvoie le plus grand des trois entiers `a`, `b` et `c`."
   ]
  },
  {
   "cell_type": "markdown",
   "metadata": {},
   "source": [
    "### Ex62p72\n",
    "\n",
    "Écrire une fonction `puissance(x, k)` qui renvoie `x` à la puissance `k` sans utiliser l'opérateur `**`. On utilisera une boucle `for` pour faire le calcul. \n",
    "\n",
    "On suppose que `k` est un entier positif et on rappelle que $x^0=1$."
   ]
  },
  {
   "cell_type": "markdown",
   "metadata": {},
   "source": [
    "### Ex64p72\n",
    "\n",
    "1. En reprenant votre fonction `est_bissextile` d'un exercice précédent (*Ex50p55*), écrire une fonction `nb_jours_annee(a)` qui renvoie le nombre de jours de l'année `a`. "
   ]
  },
  {
   "cell_type": "markdown",
   "metadata": {},
   "source": [
    "2. Écrire une fonction `nb_jours_mois(a, m)` qui renvoie le nombre de jours dans le mois `m` de l'année `a` en réutilisant `nb_jours_annee(a)`.\n",
    "\n",
    "   On suppose que le mois `m` est un entier compris entre 1 (pour janvier) et 12 (pour décembre)."
   ]
  },
  {
   "cell_type": "markdown",
   "metadata": {},
   "source": [
    "3. En utilisant la fonction précédente, écrire une fonction `nb_jours(date1, date2)` qui renvoie le nombre de jours compris entre deux dates données.\n",
    "\n",
    "   On suppose que `date<n>` est un *tuple* de la forme `(jour, mois, annee)`."
   ]
  },
  {
   "cell_type": "markdown",
   "metadata": {},
   "source": [
    "4. En réutilisant les fonctions précédentes, écrire une fonction `calendrier()` qui demande une année à l'utilisateur et affiche le calendrier de cette année, c'est à dire la liste de tous les jours de tous les mois de cette année."
   ]
  },
  {
   "cell_type": "markdown",
   "metadata": {},
   "source": [
    "## 5 - Tableaux"
   ]
  },
  {
   "cell_type": "markdown",
   "metadata": {},
   "source": [
    "### Ex70p84\n",
    "\n",
    "Écrire une fonction `occurence(v, t)` qui renvoie le nombre d'occurences de la valeur `v` dans le tableau `t`."
   ]
  },
  {
   "cell_type": "markdown",
   "metadata": {},
   "source": [
    "### Ex71p84\n",
    "\n",
    "1. Écrire une foncion `cent_entiers_au_hasard()` qui renvoie un tableau de 100 entiers tirés au hasard entre 1 et 1000."
   ]
  },
  {
   "cell_type": "markdown",
   "metadata": {},
   "source": [
    "2. Écrire une fonction `maximum(l)` qui renvoie la plus grande valeur de la liste d'entier positif `l`.\n",
    "\n",
    "   *aide*: Définir un *accumulateur* `maxi` initialisé à $-1$ puis utiliser une boucle `for` pour parcourir la liste tout en mettant `maxi`."
   ]
  },
  {
   "cell_type": "markdown",
   "metadata": {},
   "source": [
    "### Ex73p84\n",
    "\n",
    "1. Écrire une fonction `repartition_1_a_10(entiers)` qui prend en argument une liste d'entiers supposés être compris entre 1 et 10 et qui renvoie un dictionnaire de la forme:\n",
    "\n",
    "  `{1:<occurence de l'entier 1>, 2: ..., 10:<occurrence de l'entier 10>}`\n",
    "\n",
    "  *aide*: Utiliser un accumulateur initialisé avec `{1: 0, 2: 0, ..., 10: 0}` ...\n",
    "\n",
    "2. Utiliser votre fonction pour étudier le générateur aléatoire `randint` du module `random`.\n",
    "\n",
    "   Pour cela, produire une liste de 1000 entiers entre 1 et 10 et utiliser la fonction précédente pour observer leur répartition. recommencer plusieurs fois."
   ]
  },
  {
   "cell_type": "markdown",
   "metadata": {},
   "source": [
    "### Ex74p85\n",
    "\n",
    "En mathématiques, la très célèbre *suite de Fibonacci* est une séquence infinie d'entiers définie de la façon suivante: on part des deux entiers 0 et 1 puis on construit à chaque fois l'entier suivant comme la somme des deux entiers précédents $$0, 1, 1, 2, 3, 5, \\dots$$\n",
    "\n",
    "Écrire une fonction qui renvoie un tableau contenant les 30 premiers termes de la suite. Le dernier élément de ce tableau est $514\\,229$."
   ]
  },
  {
   "cell_type": "markdown",
   "metadata": {},
   "source": [
    "### Ex75p85\n",
    "\n",
    "Écrire une fonction `copie(t)` qui prend en argument un tableau `t` et renvoie une copie de ce tableau (sans utiliser `list(...)`).\n",
    "\n",
    "Quelle expérience peut-on faire pour s'assurer qu'on ne s'est pas trompé ?"
   ]
  },
  {
   "cell_type": "markdown",
   "metadata": {},
   "source": [
    "### Ex76p85\n",
    "\n",
    "Écrire une fonction `ajout(v, t)` qui crée un nouveau tableau contenant d'abord tous les éléments de `t` puis `v`. Interdit d'utiliser l'opérateur `+`."
   ]
  },
  {
   "cell_type": "markdown",
   "metadata": {},
   "source": [
    "### Ex77p85\n",
    "\n",
    "Écrire une fonction `concatenation(t1, t2)` qui crée un nouveau tableau contenant, dans l'ordre, tous les éléments de `t1` puis tous les éléments de `t2`. Interdit d'utiliser l'opérateur `+`."
   ]
  },
  {
   "cell_type": "markdown",
   "metadata": {},
   "source": [
    "### Ex78p85\n",
    "\n",
    "Écrire une fonction `tableau_aleatoire(n, a, b)` qui renvoie un tableau de taille `n` contenant des entiers entre `a` et `b` tirés au hasard."
   ]
  },
  {
   "cell_type": "markdown",
   "metadata": {},
   "source": [
    "### Ex80p85\n",
    "\n",
    "Écrire une fonction `echange(tab, i, j)` qui echange dans tableau `tab` les éléments d'index (indices) `i` et `j`."
   ]
  },
  {
   "cell_type": "markdown",
   "metadata": {},
   "source": [
    "### Ex81p85\n",
    "\n",
    "1. Écrire une fonction `somme(tab)` qui calcule et renvoie la somme des éléments d'un tableau d'entiers.\n",
    "\n",
    "2. En déduire une fonction `moyenne(tab)` qui renvoie la moyenne des éléments du tableau `tab`, supposé non vide.\n",
    "\n",
    "3. Écrire une fonction `produit(tab)` qui renvoie le produit des éléments d'un tableau d'entiers. Si le tableau contient 0, la fonction devra renvoyer 0 sans terminer le parcours du tableau."
   ]
  },
  {
   "cell_type": "markdown",
   "metadata": {},
   "source": [
    "### Ex83p86\n",
    "\n",
    "Écrire une fonction `miroir(tab)` qui reçoit un tableau en argument et le modifie pour échanger le premier élément avec le dernier élément, le second avec l'avant dernier, etc. (`reverse` interdit!).\n",
    "\n",
    "On pourra réutiliser la fonction `echange` d'un exercice précédent."
   ]
  },
  {
   "cell_type": "markdown",
   "metadata": {},
   "source": [
    "### Ex84p86\n",
    "\n",
    "Pour mélanger les éléments d'un tableau aléatoirement, il existe un algorithme très simple qui procède ainsi:\n",
    "\n",
    "On parcourt le tableau de la gauche vers la droite et, pour chaque élément de l'indice `i`, on l'échange avec un élément situé à un indice tiré aléatoirement entre 0 et `i` (inclus).\n",
    "\n",
    "Écrire une fonction `melange(tab)` qui réalise cet algorithme (connu sous le nom de *melange de Knuth*)"
   ]
  },
  {
   "cell_type": "markdown",
   "metadata": {},
   "source": [
    "### Ex85p86\n",
    "\n",
    "1. Écrire une fonction `prefixe(tab1, tab2)` qui renvoie `True` si le tableau `tab1` est un préfixe du tableau `tab2`, c'est-à-dire si le tableau `tab2` commence par les éléments du tableau `tab1` dans le même ordre.\n",
    "\n",
    "2. Similairement, écrire une fonction `suffixe(tab1, tab2)` qui renvoie `True` si le tableau `tab2` se termine par les éléments du tableau `tab1` dans le même ordre."
   ]
  },
  {
   "cell_type": "markdown",
   "metadata": {},
   "source": [
    "### Ex87p86\n",
    "\n",
    "1. Écrire une fonction `hamming(tab1, tab2)` qui prend deux tableaux en arguments supposé de même taille, et qui renvoie le nombre d'indices auxquels les deux tableaux diffèrent.\n",
    "\n",
    "2. Même chose sans supposer que les tableaux ont la même taille. On considère qu'un indice auquel seul l'un des tableaux est défini compte pour une différence."
   ]
  },
  {
   "cell_type": "markdown",
   "metadata": {},
   "source": [
    "## 6 - Boucle `While`"
   ]
  },
  {
   "cell_type": "markdown",
   "metadata": {},
   "source": [
    "### Ex90p97\n",
    "\n",
    "Écrire une fonction qui prend un entier positif ou nul en argument et renvoie son nombre de chiffres"
   ]
  },
  {
   "cell_type": "markdown",
   "metadata": {},
   "source": [
    "### Ex91p97\n",
    "\n",
    "1. Écrire une fonction qui demande un entier strictement positif à l'utilisateur puis, tant que cet entier n'est pas égal à 1, le divise par deux s'il est pair ou le multiplie par trois et lui ajoute un s'il est impair.\n",
    "\n",
    "   La fonction renvoie la liste de tous les nombres ainsi obtenus. Essayer avec différents nombres de départ.\n",
    "\n",
    "2. Modifier la fonction précédente pour qu'elle affiche au final le nombre d'étapes pour arriver au nombre 1 et le nombre maximal qui a été rencontré en chemin. Pour le nombre de départ 7, le nombre d'étapes doit être 16 et le nombre maximum rencontré 52.\n",
    "\n",
    "3. Écrire une fonction pour tester tous les nombres de départ entre 1 et 20 et afficher pour chacun le nombre d'étapes et le maximum rencontré.\n",
    "\n",
    "   Quel est le nombre de départ donnant le plus grand nombre d'étapes? donnant le plus grand maximum rencontré? Tester ensuite au-delà de 20."
   ]
  },
  {
   "cell_type": "markdown",
   "metadata": {},
   "source": [
    "### Ex94p98\n",
    "\n",
    "Écrire une fonction qui renvoie une chaîne qui contient tous les termes de la suite de Fibonacci inférieurs à 1000. La chaîne est de la forme `\"1, 1, 2, 3, 5\\n8, 13, 21, 34, 55\\n...\"`\n",
    "\n",
    "**Indication**: On pourra maintenir dans deux variables les deux derniers termes construits."
   ]
  },
  {
   "cell_type": "markdown",
   "metadata": {},
   "source": [
    "### EX95p98\n",
    "\n",
    "Écrire une fonction `digramme(a, b, tab)` qui teste s'il existe dans le tableau `tab` une occurence de l'élément `a` immédiatement suivie d'une occurence de l'élément `b`."
   ]
  },
  {
   "cell_type": "markdown",
   "metadata": {},
   "source": [
    "### Ex96p98\n",
    "\n",
    "Écrire une fonction `a_la_suite(a, b, tab)` qui teste s'il existe dans le tableau `tab` une occurence de l'élément `a` et une occurence de l'élément `b` dans cette ordre (mais pas nécessairement consécutives).  "
   ]
  },
  {
   "cell_type": "markdown",
   "metadata": {},
   "source": [
    "### Ex97p98\n",
    "\n",
    "Écrire une fonction `sous_mot(tab1, tab2)`  qui teste si tous les éléments de tableau `tab1` apparaissent, dans l'ordre, dans le tableau `tab2`."
   ]
  },
  {
   "cell_type": "markdown",
   "metadata": {},
   "source": [
    "### Ex98p98\n",
    "\n",
    "1. Écrire une fonction `plus_grande_sequence(e, tab)` qui renvoie la longueur de la plus grande séquence d'occurences consécutives de l'élément `e` dans le tableau `tab`.\n",
    "\n",
    "2. Variante: `plus_grande_seq_var(tab)` renvoie la longueur de la plus grande séquence d'éléments identiques consécutifs."
   ]
  },
  {
   "cell_type": "markdown",
   "metadata": {},
   "source": [
    "### Ex100p98\n",
    "\n",
    "Écrire une fonction `plus_grand_prefixe_commun(tab1, tab2)` qui renvoie la longueur du plus grand préfixe comun à ces deux tableaux:\n",
    "\n",
    "ex: `plus_grand_prefixe_commun(list(\"bonjour\"), list(\"bonobo\"))` renvoie 3"
   ]
  },
  {
   "cell_type": "markdown",
   "metadata": {},
   "source": [
    "### Ex101p98\n",
    "\n",
    "Écrire une fonction `ordre(m1, m2)` qui prend en paramètres deux mots `m1` et `m2` sous la forme de chaînes de caractères, et qui renvoie `True` si `m1` est avant `m2` dans l'ordre du dictionnaire (ordre *lexicographique*) ou si `m1` et `m2` sont identiques.\n",
    "\n",
    "On refuse la solution de facilité:\n",
    "\n",
    "```python\n",
    "def ordre(m1, m2):\n",
    "    return m1 <= m2\n",
    "```\n",
    "\n",
    "**rappel et note**: \n",
    "- si `mot=\"abcd\"` alors `m[2]` (par ex.) a pour valeur `\"c\"` (une lettre).\n",
    "- on autorise seulement la comparaison de deux **lettres** avec les opérateurs `<`, `<=` etc."
   ]
  },
  {
   "cell_type": "markdown",
   "metadata": {},
   "source": [
    "### Ex102p98\n",
    "\n",
    "On prétend que les fonctions qui suivent retourne le produit de deux entiers `a` et `b̀:\n",
    "\n",
    "```python\n",
    "def mult1(a, b):\n",
    "    m = 0\n",
    "    while b > 0:\n",
    "        m += a\n",
    "        bressembler à -= 1\n",
    "    return m\n",
    "\n",
    "def mult2(a, b):\n",
    "    i, m = 0, 0\n",
    "    while i < b:\n",
    "        m += a\n",
    "        i += 1\n",
    "    return m\n",
    "```\n",
    "\n",
    "Ces fonctions terminent-elles? Identifier pour chacun un variant de la boucle."
   ]
  },
  {
   "cell_type": "markdown",
   "metadata": {},
   "source": [
    "### Ex103p99\n",
    "\n",
    "On prétend que les fonctions suivantes renvoient le nombre de chiffre d'un nombre positif `nb`\n",
    "\n",
    "```python\n",
    "def nb_chiffres1(nb):\n",
    "    i = 0\n",
    "    while nb > 0:\n",
    "        ressembler ànb = nb // 10\n",
    "        i += 1\n",
    "    return i\n",
    "\n",
    "def nb_chiffres2(nb):\n",
    "    k, i = 1, 0\n",
    "    while k < nb + 1:\n",
    "        k = k * 10\n",
    "        i += 1\n",
    "    return i\n",
    "```\n",
    "\n",
    "Justifier qu'ils terminent avec la technique du variant. \n",
    "\n",
    "Que se passe-t-il si on remplace `nb > 0` par `nb != 0` dans la première fonction?\n",
    "\n",
    "Et si on remplace `k < nb + 1` par `k != nb + 1` dans la deuxième?\n",
    "\n"
   ]
  },
  {
   "cell_type": "markdown",
   "metadata": {},
   "source": [
    "### Ex104p99\n",
    "\n",
    "Étudier la fonction ci après qui renvoie `True` si la valeur `v` est dans le tableau `t`\n",
    "\n",
    "```python\n",
    "def appartient(v, t):\n",
    "    i = 0\n",
    "    while i < len(t) and t[i] != v:\n",
    "        i = i + 1\n",
    "    return i < len(t)\n",
    "```\n",
    "\n",
    "Justifier qu'elle termine à l'aide de la technique du variant."
   ]
  },
  {
   "cell_type": "markdown",
   "metadata": {},
   "source": [
    "### Ex105p99\n",
    "\n",
    "On prétend que la fonction suivante renvoie un tableau dont les éléments sont une certaine alternance d'éléments des deux tableaux `t1` et `t2`.\n",
    "\n",
    "```python\n",
    "def entrelace(t1, t2):\n",
    "    i1, i2, t = 0, 0, []\n",
    "    while i1 < len(t1) and i2 < len(t2):\n",
    "        if t1[i1] < t2[i2]:\n",
    "            t.append(t1[i1])\n",
    "            i1 += 1\n",
    "        else:\n",
    "            t.append(t2[i2])\n",
    "            i2 += 1\n",
    "    return t\n",
    "```\n",
    "\n",
    "Justifier que cette fonction termine à l'aide de la technique du variant."
   ]
  },
  {
   "cell_type": "markdown",
   "metadata": {},
   "source": [
    "### Ex106p100\n",
    "\n",
    "On prétent que la fonction suivante réordonne les éléments du tableau `t` en plaçant à gauche les éléments plus petits que `v` et à droite les éléments plus grands?\n",
    "\n",
    "```python\n",
    "def separe(t, v):\n",
    "    i = 0\n",
    "    j = len(t) - 1\n",
    "    while i < j:\n",
    "        if t[i] <= v:\n",
    "            i += 1\n",
    "        else:\n",
    "            tmp = t[i]\n",
    "            t[i] = t[j]\n",
    "            t[j] = tmp\n",
    "            j -= 1\n",
    "```\n",
    "\n",
    "Justifier que cette fonction termine à l'aide de la technique du variant."
   ]
  },
  {
   "cell_type": "markdown",
   "metadata": {},
   "source": [
    "### Ex107p100\n",
    "\n",
    "Dans le jeu *devine le nombre*, un joueur doit trouver un nombre mystère choisi au préalable par le maître du jeu, qui sera ici l'ordinateur. À chaque tour, le joueur propose un nombre et le maître de jeu indique si le nombre mystère est plus petit ou plus grand que le nombre proposé. \n",
    "\n",
    "Si le nombre mystère est 5, par exemple, une partie pourra se dérouler ainsi:\n",
    "\n",
    "    Devine le nombre !\n",
    "    8\n",
    "    plus petit\n",
    "    4\n",
    "    plus grand\n",
    "    6\n",
    "    plus petit\n",
    "    5\n",
    "    Gagné !\n",
    "\n",
    "Écrire la fonction `devine_nombre()` permettant de jouer à ce jeu, avec un nombre à chercher compris par exemple entre zéro et cent."
   ]
  },
  {
   "cell_type": "markdown",
   "metadata": {},
   "source": [
    "### Ex108p101\n",
    "\n",
    "Le *jeu des allumettes* est un jeu à deux joueurs qui se joue ainsi:\n",
    "\n",
    "Initialement, 21 allumettes sont posées sur la table. À tour de rôle, chaque joueur enlève une, deux ou trois allumettes. Celui qui enlève la dernière allumette a perdu. Nous allons écrire un programme qui permet de jouer contre l'ordinateur.\n",
    "\n",
    "1. À l'aide d'une boucle `while` et d'une variable `allumettes` contenant le nombre courant d'allumettes, écrire un programme qui permet à l'utilisateur d'indiquer combien d'allumettes il enlève, puis à l'ordinateur d'enlever un nombre aléatoire d'allumettes (au moins une et pas plus de trois), tant qu'il reste des allumettes. Au début de chaque tour de boucle, on affichera le nombre actuel d'allumettes. L'exécution doit donc ressembler à quelque chose comme ceci:\n",
    "\n",
    "       il y a 21 allumettes\n",
    "       combien en prenez-vous ? 3\n",
    "       je prends 2 allumettes\n",
    "       il y a 16 allumettes\n",
    "       combien en prenvez-vous ? 1\n",
    "       ...\n",
    "\n",
    "   Attention à ne pas faire retirer par l'ordinateur plus d'allumettes qu'il n'en reste.\n",
    "\n",
    "2. Améliorer ce programme pour qu'il affiche `vous avez perdu` ou `vous avez gagné` lorsque la dernière allumette est retirée, juste avant de sortir de la boucle.\n",
    "\n",
    "3. Améliorer ce programme pour qu'il s'assure que le nombre d'allumettes choisi par le joueur est bien au moins égal à un, au plus égal à trois et pas plus grand que le nombre d'allumettes restantes. On pourra utiliser pour cela une boucle `while` pour répéter la saisie tant que la valeur n'est pas correcte.\n",
    "\n",
    "4. Il se trouve qu'il existe une stratégie gagnante pour le joueur qui joue en second. La trouver et la programmer, de manière à ce que l'ordinateur gagne systématiquement (et impressionner ensuite vos amis avec votre programme d'«intelligence artificielle»)."
   ]
  },
  {
   "cell_type": "markdown",
   "metadata": {},
   "source": [
    "## 7 - Utilisation avancée des boucles"
   ]
  },
  {
   "cell_type": "markdown",
   "metadata": {},
   "source": [
    "### 1 Boucles imbriquées\n",
    "\n",
    "*Note*: `print(<message>, end=\"ahah\")` affiche le message suivi de \"ahah\"; par défaut `end` vaut \"\\n\"."
   ]
  },
  {
   "cell_type": "code",
   "execution_count": null,
   "metadata": {},
   "outputs": [],
   "source": [
    "# test1\n",
    "print(1)\n",
    "print(2)\n",
    "print(3)"
   ]
  },
  {
   "cell_type": "code",
   "execution_count": null,
   "metadata": {},
   "outputs": [],
   "source": [
    "# test2\n",
    "print(1, end=\"héhé\")\n",
    "print(2, end=\"héhé\")\n",
    "print(3, end=\"héhé\")"
   ]
  },
  {
   "cell_type": "markdown",
   "metadata": {},
   "source": [
    "Qu'affichent les programmes suivants?\n",
    "```python\n",
    "for i in range(2):\n",
    "    print(i, end=\",\")\n",
    "for j in range(3):\n",
    "    print(j, end=\",\")\n",
    "```\n",
    "**réponse**: ____\n",
    "```python\n",
    "for i in range(2):\n",
    "    print(i, end=\",\")\n",
    "    for j in range(3):\n",
    "        print(j, end=\",\")\n",
    "```\n",
    "**réponse**: ____"
   ]
  },
  {
   "cell_type": "markdown",
   "metadata": {},
   "source": [
    "### 2 - Boucles imbriquées\n",
    "\n",
    "Dans chaque cas, que contient la variable `compte` à la fin?\n",
    "```python\n",
    "compte = 0\n",
    "for i in range(2):\n",
    "    compte += 1\n",
    "for j in range(3):\n",
    "    compte += 1\n",
    "```\n",
    "**réponse**: ____\n",
    "\n",
    "```python\n",
    "compte = 0\n",
    "for i in range(2):\n",
    "    compte += 1\n",
    "    for j in range(3):\n",
    "        compte += 1\n",
    "```\n",
    "**réponse**: ____\n",
    "```python\n",
    "compte = 0\n",
    "for i in range(2):\n",
    "    for j in range(3):\n",
    "        compte += 1\n",
    "```\n",
    "**réponse**: ____"
   ]
  },
  {
   "cell_type": "markdown",
   "metadata": {},
   "source": [
    "### 3 - Boucles imbriquées - savoir généraliser\n",
    "\n",
    "Exprimer en fonction des entiers `n1` et `n2` la valeur de `compte` à la fin.\n",
    "\n",
    "```python\n",
    "compte = 0\n",
    "for i in range(n1):\n",
    "    compte += 1\n",
    "for j in range(n2):\n",
    "    compte += 1\n",
    "```\n",
    "**réponse**: ____\n",
    "```python\n",
    "compte = 0\n",
    "for i in range(n1):\n",
    "    compte += 1\n",
    "    for j in range(n2):\n",
    "        compte += 1\n",
    "```\n",
    "**réponse**: ____\n",
    "```python\n",
    "compte = 0\n",
    "for _ in range(n1):\n",
    "    for _ in range(n2):\n",
    "        compte += 1\n",
    "```\n",
    "**réponse**: ____\n",
    "\n",
    "Si vous avez trouvé les précédentes, celles là ne devraient pas poser de problèmes ...\n",
    "```python\n",
    "compte = 0\n",
    "for i in range(n1):\n",
    "    compte += 1\n",
    "for j in range(n2):\n",
    "    compte += 1\n",
    "for k in range(n3):\n",
    "    compte += 1\n",
    "            \n",
    "```\n",
    "**réponse**: ____\n",
    "```python\n",
    "compte = 0\n",
    "for i in range(n1):\n",
    "    for j in range(n2):\n",
    "        for k in range(n3):\n",
    "            compte += 1\n",
    "```\n",
    "**réponse**: ____\n",
    "```python\n",
    "compte = 0\n",
    "for i in range(n1):\n",
    "    compte += 1\n",
    "    for j in range(n2):\n",
    "        compte += 1\n",
    "    for k in range(n3):\n",
    "        compte += 1\n",
    "```\n",
    "**réponse**: ____"
   ]
  },
  {
   "cell_type": "markdown",
   "metadata": {},
   "source": [
    "### 4 - Boucles imbriquées\n",
    "\n",
    "Écrire une fonction `element_commun(t1, t2)` qui renvoie `True` si les deux tableaux ont un élément en commun, `False` sinon.\n"
   ]
  },
  {
   "cell_type": "markdown",
   "metadata": {},
   "source": [
    "### 5 - Boucles imbriquées\n",
    "\n",
    "Écrire une fonction `doublon(t)` qui renvoie `True` si `t` a des éléments en double: si pour un certain `i` et un certain `j`, distincts, `t[i] == t[j]` est vrai; elle renvoie `False` si non.\n"
   ]
  },
  {
   "cell_type": "markdown",
   "metadata": {},
   "source": [
    "### Ex109p110\n",
    "\n",
    "Qu'affiche le programme suivant ?\n",
    "\n",
    "```python\n",
    "for _ in range(1000):\n",
    "    for _ in range(1000):\n",
    "        for _ in range(1000):\n",
    "            for _ in range(1000):\n",
    "                print(\"Mille sabords !\")\n",
    "```"
   ]
  },
  {
   "cell_type": "markdown",
   "metadata": {},
   "source": [
    "### Ex110p111\n",
    "\n",
    "Compléter de façon a afficher dans l'ordre tous les nombres de 0 à 999."
   ]
  },
  {
   "cell_type": "code",
   "execution_count": null,
   "metadata": {},
   "outputs": [],
   "source": [
    "for i in range(10):\n",
    "    for j in range(10):\n",
    "        for k in range(10):\n",
    "            ___"
   ]
  },
  {
   "cell_type": "markdown",
   "metadata": {},
   "source": [
    "### Ex111p111\n",
    "\n",
    "Voici deux fonctions qui prennent en paramètres deux tableaux de nombres et renvoient un nombre:\n",
    "\n",
    "```python\n",
    "def somme_produits(t1, t2):\n",
    "    somme = 0\n",
    "    for a in t1:\n",
    "        for b in t2:\n",
    "            somme = somme + a * b\n",
    "    return somme\n",
    "\n",
    "def produit_sommes(t1, t2):\n",
    "    somme1, somme2 = 0, 0\n",
    "    for a in t1:\n",
    "        somme1 += a\n",
    "    for b in t2:\n",
    "        somme2 += b\n",
    "    return somme1 * somme2\n",
    "```\n",
    "Expliquer pourquoi ces deux fonctions, appliquées aux mêmes paramètres, produisent le même résultat.\n",
    "\n",
    "Comment peut-on l'observer?"
   ]
  },
  {
   "cell_type": "markdown",
   "metadata": {},
   "source": [
    "### Ex112p111\n",
    "\n",
    "Écrire un programme qui affiche les tables de multiplications sous la forme:\n",
    "\n",
    "     Table de 1:\n",
    "       1 x 1 = 1\n",
    "       1 x 2 = 2\n",
    "       ...\n",
    "     Table de 2:\n",
    "       2 x 1 = 2\n",
    "       ..."
   ]
  },
  {
   "cell_type": "markdown",
   "metadata": {},
   "source": [
    "### Ex113p111\n",
    "\n",
    "Écrire un programme qui demande deux entiers `h` et `l` à l'utilisateur et affiche des symboles **#** disposés en un rectangle de hauteur `h` et de largeur `l`."
   ]
  },
  {
   "cell_type": "markdown",
   "metadata": {},
   "source": [
    "### Ex114p112\n",
    "\n",
    "Écrire des programmes qui demandent un entier `n` à l'utilisateur et affichent chacun l'une des figures suivantes (dans un carré de côté `n`).\n",
    "\n",
    "     #        ####   ####    ####\n",
    "     ##       ###    .###    #..#\n",
    "     ###      ##     ..##    #..#\n",
    "     ####     #      ...#    ####"
   ]
  },
  {
   "cell_type": "markdown",
   "metadata": {},
   "source": [
    "### Ex115p112\n",
    "\n",
    "En utilisant trois boucles imbriquées, afficher tous les triplets d'entier $1 \\leqslant a\\leqslant b\\leqslant c\\leqslant 100$ tels que $a^2+b^2=c^2$ (dits triplets pythagoriciens).\n",
    "\n",
    "Modifier le programme précédent pour qu'il renvoie le nombre de triplets. On doit trouver 52."
   ]
  },
  {
   "cell_type": "markdown",
   "metadata": {},
   "source": [
    "### Ex116p112\n",
    "\n",
    "Pour calculer les nombres premiers plus petits qu'une certaine limite `N` qu'on se fixe, il existe un algorithme appelé *crible d'Ératosthène*.\n",
    "\n",
    "On se donne un tableau `t` de `N` booléens, initialement tous égaux à `True`, sauf `t[0]` et `t[1]` qui valent `False`.\n",
    "\n",
    "On parcourt alors ce tableau, dans le sens des indices croissants. Pour chaque indice `i`, il y a deux cas de figure:\n",
    "\n",
    "- si `t[i]` vaut `False`, alors le nombre `i` n'est pas premier et il n'y a rien à faire;\n",
    "- si `t[i]` vaut `True`, alors le nombre `i` est premier et on met à `False` toutes les cases du tableau dont l'indice est un multiple de `i`, c'est à dire `2*i`, `3*i`, etc.\n",
    "\n",
    "Écrire un programme qui réalise cet algorithme et affiche tous les nombres premiers plus petits que 100. On doit en trouver 25.\n",
    "\n",
    "Améliorer ce programme en utilisant une instruction `continue`"
   ]
  },
  {
   "cell_type": "markdown",
   "metadata": {},
   "source": [
    "### Ex118p112\n",
    "\n",
    "Écrire une fonction `inclus(tab1, tab2)` qui renvoie `True` si chaque élément du tableau `tab1` apparaît aussi dans le tableau `tab2`.\n",
    "\n",
    "Proposer une version utilisant une fonction auxiliaire et une version utilisant des boucles imbriquées."
   ]
  },
  {
   "cell_type": "markdown",
   "metadata": {},
   "source": [
    "### Ex119p112\n",
    "\n",
    "Écrire une fonction `facteur(tab1, tab2)` qui renvoie `True` si les éléments du tableau `tab1` apparaissent dans l'ordre et de manière consécutives dans le tableau `tab2`.\n",
    "\n",
    "Proposer une solution utilisant une fonction auxiliaire et une solution utilisant des boucles imbriquées."
   ]
  },
  {
   "cell_type": "markdown",
   "metadata": {},
   "source": [
    "## 8 - Utilisation avancée des tableaux"
   ]
  },
  {
   "cell_type": "markdown",
   "metadata": {},
   "source": [
    "### 1 - utilisation avancée des tableaux\n",
    "\n",
    "Sachant que `t` est un tableau de type `list`, quelle(s) différence(s) y a-t-il entre:\n",
    "```python\n",
    "for e in t:\n",
    "    print(e)\n",
    "```\n",
    "et:\n",
    "```python\n",
    "for i in range(len(t)):\n",
    "    print(t[i])\n",
    "```\n",
    "**Réponse**: ___"
   ]
  },
  {
   "cell_type": "markdown",
   "metadata": {},
   "source": [
    "### 2 - utilisation avancée des tableaux - notation en compréhension\n",
    "\n",
    "Lorsque l'on désigne *explicitement* chaque élément d'un tableau comme dans `t = [4, 3, 2, 1]`, on parle de *notation en extension*.\n",
    "\n",
    "Python connaît une autre notation appelée *notation en compréhension*.\n",
    "\n",
    "En voici quelques exemples. **Expérimenter** pour bien comprendre cette *syntaxe*."
   ]
  },
  {
   "cell_type": "code",
   "execution_count": null,
   "metadata": {},
   "outputs": [],
   "source": [
    "[i for i in range(5)]"
   ]
  },
  {
   "cell_type": "code",
   "execution_count": null,
   "metadata": {},
   "outputs": [],
   "source": [
    "[truc * truc for truc in range(5)]"
   ]
  },
  {
   "cell_type": "code",
   "execution_count": null,
   "metadata": {},
   "outputs": [],
   "source": [
    "f = lambda x: 2 * x + 1\n",
    "[f(machin) for machin in range(5)]"
   ]
  },
  {
   "cell_type": "markdown",
   "metadata": {},
   "source": [
    "on peut même faire de la sélection avec un `if`"
   ]
  },
  {
   "cell_type": "code",
   "execution_count": null,
   "metadata": {},
   "outputs": [],
   "source": [
    "N = 10\n",
    "t = [i for i in range(N) if i not in [3, 7]]\n",
    "t"
   ]
  },
  {
   "cell_type": "code",
   "execution_count": null,
   "metadata": {},
   "outputs": [],
   "source": [
    "[i if i not in [3, 7] for i in range(N)]"
   ]
  },
  {
   "cell_type": "code",
   "execution_count": null,
   "metadata": {},
   "outputs": [],
   "source": [
    "a, b = 10, 20\n",
    "[i for i in range(a, b) if i % 2 != 0]"
   ]
  },
  {
   "cell_type": "markdown",
   "metadata": {},
   "source": [
    "ou utiliser plusieurs `for` en série ou de manière imbriquée"
   ]
  },
  {
   "cell_type": "code",
   "execution_count": null,
   "metadata": {},
   "outputs": [],
   "source": [
    "[(i, j) for i in range(3) for j in range(6)]"
   ]
  },
  {
   "cell_type": "code",
   "execution_count": null,
   "metadata": {},
   "outputs": [],
   "source": [
    "[(i, j) for j in range(6) for i in range(3)]"
   ]
  },
  {
   "cell_type": "code",
   "execution_count": null,
   "metadata": {},
   "outputs": [],
   "source": [
    "[x + 1 for x in [0, 1, 4, 9, 16, 25]]"
   ]
  },
  {
   "cell_type": "code",
   "execution_count": null,
   "metadata": {},
   "outputs": [],
   "source": [
    "[x + 1 for x in [x**2 for x in range(6)]]"
   ]
  },
  {
   "cell_type": "markdown",
   "metadata": {},
   "source": [
    "A FINIR!"
   ]
  },
  {
   "cell_type": "markdown",
   "metadata": {},
   "source": [
    "### Ex121p118\n",
    "\n",
    "Que construit l'expression `[i % 3 for i in range(100)]`?"
   ]
  },
  {
   "cell_type": "markdown",
   "metadata": {},
   "source": [
    "### Ex122p119\n",
    "\n",
    "Écrire un programme qui construit un tableau `t` de taille $11\\times 11$, tel que `t[i][j]` contient $i\\times j$."
   ]
  },
  {
   "cell_type": "markdown",
   "metadata": {},
   "source": [
    "### Ex123p119\n",
    "\n",
    "Écrire un programme qui transforme un tableau `t` de 64 cases en un tableau `m` à deux dimensions, de taille $8\\times 8$, tel que `m[i][j] == t[8 * i + j]` pour tout $0\\leqslant i,j<8$."
   ]
  },
  {
   "cell_type": "markdown",
   "metadata": {},
   "source": [
    "### Ex124p119\n",
    "Écrire un programme qui transforme un tableau `m` à deux dimensions, de taille $8\\times 8$, en un tableau `t` à une dimension, de taille $64$, tel que `t[8 * i + j] == m[i][j]` pour tout $0\\leqslant i, j<8$.\n",
    "\n",
    "*Indication*: commencer par créer le tableau `t` puis le remplir avec une double boucle."
   ]
  },
  {
   "cell_type": "markdown",
   "metadata": {},
   "source": [
    "###  Ex125p119\n",
    "Écrire un programme qui crée un tableau à deux dimensions de taille $30\\times 30$ contenant des entiers tirés au hasard entre $1$ et $9999$."
   ]
  },
  {
   "cell_type": "markdown",
   "metadata": {},
   "source": [
    "### Ex126p119\n",
    "Compléter le programme précédent pour calculer l'élément maximum de ce tableau.\n",
    "\n",
    "Comment modifier le programme si les éléments du tableau ne sont pas tous positifs."
   ]
  },
  {
   "cell_type": "markdown",
   "metadata": {},
   "source": [
    "### Ex127p119\n",
    "Écrire une fonction qui prend en paramètre un tableau à deux dimensions de hauteur et largeur non nulles et qui renvoie le maximum parmi les minima de chaque ligne.\n",
    "\n",
    "*Indication*: on pourra utiliser une fonction auxiliaire pour calculer le minimum d'une ligne."
   ]
  },
  {
   "cell_type": "markdown",
   "metadata": {},
   "source": [
    "### Ex128p119\n",
    "\n",
    "Le *puissance 4* est un jeu bien connu à deux joueurs qui joue sur une grille verticale de six lignes et sept colonnes. À tour de rôle, chaque joueur fait tomber un pion de sa couleur dans une colonne de son choix non encore pleine.\n",
    "\n",
    "Le premier joueur qui aligne quatre pions de sa couleur, horizontalement, verticalement ou en diagonale, gagne la partie. La partie est nulle si la grille est totalement remplie sans qu'aucun joueur ne gagne.\n",
    "\n",
    "Pour représenter une grille de ce jeu, on utilise un tableau à deux dimensions de taille $6\\times 7$, la première dimension représentant les lignes et la seconde les colonnes. Une ligne est notée `l` et prend une valeur entre 0 et 5, la ligne 0 étant située en bas; une colonne est notée `c` et prend une valeur entre 0 et 6, la colonne 0 étant située à gauche.\n",
    "\n",
    "Un joueur est noté `j` et prend la valeur 1 ou 2. Dans une grille, notée `g`, la valeur 0 représente une case vide et la valeur 1 ou 2 représente un pion du joueur correspondant.\n",
    "\n",
    "1. Écrire une fonction `grille_vide()` qui renvoie une grille vide.\n",
    "\n",
    "2. Écrire une fonction `affiche(g)` qui affiche une grille, avec le caractère `.` pour une case vide, le caractère `X` pour le joueur 1 et le caractère `O` pour le joueur 2. On prendra soin de bien afficher les lignes de haut en bas.\n",
    "\n",
    "3. Écrire une fonction `coup_possible(g, c)` qui renvoie un booléen indiquant s'il est possible de jouer dans la colonne `c`.\n",
    "\n",
    "4. Écrire une fonction `jouer(g, j, c)` qui joue un coup du joueur `j` dans la colonne `c`, en supposant que la colonne `c` n'est pas pleine.\n",
    "\n",
    "5. Écrire trois fonctions `horiz(g, j, l, c)`, `vert(g, j, l, c)` et `diag(g, j, l, c)` qui déterminent respectivement s'il y a un alignement de quatre pions du joueur `j` à partir de la case `(l, c)`.\n",
    "\n",
    "6. Écrire une fonction `victoire(g, j)` qui renvoie un booléen indiquant si le joueur `j` a gagné.\n",
    "\n",
    "7. Écrire une fonction `match_nul(g)` qui renvoie un booléen indiquant s'il y a match nul, c'est à dire si la grille est totalement remplie.\n",
    "\n",
    "   *Indication*: on peu se contenter d'examiner la ligne du haut.\n",
    "\n",
    "8. Écrire une fonction `coup_aleatoire(g, j)` qui joue un coup aléatoire légal pour le joueur `j`, en supposant que la grille n'est pas pleine. On prendra soin de ne pas favoriser de colonne particulière.\n",
    "\n",
    "9. Écrire un programme qui fait jouer deux adversaires aléatoirement à tour de rôle, en affichant la grille après chaque coup, et qui s'arrête dès qu'un joueur gagne ou que la partie est nulle.\n",
    "\n",
    "10. Écrire enfin un programme qui permet à l'utilisateur de jouer contre un adversaire qui joue aléatoirement, en affichant la grille après chaque coup et le résultat en fin de partie."
   ]
  },
  {
   "cell_type": "markdown",
   "metadata": {},
   "source": [
    "## 9 - Spécification et mise au point\n",
    "\n",
    "À FAIRE!"
   ]
  }
 ],
 "metadata": {
  "celltoolbar": "Diaporama",
  "kernelspec": {
   "display_name": "Python 3",
   "language": "python",
   "name": "python3"
  },
  "language_info": {
   "codemirror_mode": {
    "name": "ipython",
    "version": 3
   },
   "file_extension": ".py",
   "mimetype": "text/x-python",
   "name": "python",
   "nbconvert_exporter": "python",
   "pygments_lexer": "ipython3",
   "version": "3.6.8"
  }
 },
 "nbformat": 4,
 "nbformat_minor": 4
}
