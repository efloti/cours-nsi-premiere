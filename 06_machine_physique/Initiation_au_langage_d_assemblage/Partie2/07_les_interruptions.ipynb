{
 "cells": [
  {
   "cell_type": "markdown",
   "metadata": {},
   "source": [
    "# Les interruptions"
   ]
  },
  {
   "cell_type": "markdown",
   "metadata": {},
   "source": [
    "Les interruptions sont un mécanisme pour réagir à la survenue d'événement. Dans un système de controle industriel, ou de management d'un moteur, un événement peut survenir d'un capteur physique suite au changement de pression ou de température par exemple. Les événements peuvent aussi être engendré à l'intérieur d'un ordinateur: par l'horloge matérielle, un appui sur la touche d'un clavier ou un déplacement de la souris.\n",
    "\n",
    "Sans les interruptions, le seul moyen de gérer de tels événements est de «sonder» toutes les sources possibles de tels événement, régulièrement, afin de voir s'il y a eu une activation. Cette façon de procéder n'est pas efficace et requiert beaucoup de code spécialisé. Il est, de plus, difficile de s'assurer que le «sondage» est effectué de façon régulière, car la réponse à un événement donné peut prendre un temps variable. Et, dans la plupart des cas, il y a un «programme principal» qui doit être exécuté pendant ce temps là.\n",
    "\n",
    "Une interruption est un mécanisme matériel qui a pour effet de mettre en pause l'exécution du programme courant, d'effectuer un branchement vers un type particulier de sous-routine qui détermine la source et la nature de l'événement, puis effectue immédiatement toute action appropriée, puis enfin reprend l'éxécution du programme courant au point où il a été interrompu."
   ]
  },
  {
   "cell_type": "markdown",
   "metadata": {},
   "source": [
    "## Encart - les interruptions et le cycle chargement-décodage-exécution (fetch-decode-execute cycle)"
   ]
  },
  {
   "cell_type": "markdown",
   "metadata": {},
   "source": [
    "Les interruptions sont seulement gérer à la fin de chaque cycle «chargement-décodage-exécution». Pourquoi? Permettre les interruptions durant ce cycle empêcherait de sauvegarder l'état du processeur (de ses registres) de manière consistente, et donc il ne serait pas possible de reprendre le programme interrompu, de manière sûre, une fois l'interruption traitée."
   ]
  },
  {
   "cell_type": "markdown",
   "metadata": {},
   "source": [
    "## Encart - Interruptions en cascade\n",
    "\n",
    "Sur les systèmes qui ont de nombreuses interruptions, il y a un risque d'interruptions en cascade (*interrupt storm* - «orage d'interruptions»): de nouvelles interruptions se produisent à un rythme tel qu'il ne soit pas possible de les traiter. Les concepteurs de système informatique doivent éviter cette situation, par exemple:\n",
    "- en s'assurant que la vitesse d'exécution rendent la chose hautement improbable,\n",
    "- en permettant d'associer des niveaux de priorités matériel aux diverses interruptions de façon qu'une interromption de plus haute priorité puisse interrompre une interruption de priorité plus faible,\n",
    "- en régulant délibéremment leur débit: en utilisant le matériel pour limiter l'intervalle de temps minimum entre deux interruptions successives."
   ]
  },
  {
   "cell_type": "markdown",
   "metadata": {},
   "source": [
    "## broche d'interruption"
   ]
  },
  {
   "cell_type": "markdown",
   "metadata": {},
   "source": [
    "Les premiers microprocesseurs était muni d'une broche étiqueté avec quelquechose comme *IRQ* (pour *Interrupt ReQuest*). L'ARMlite simule un telle broche, mais elle n'est visible à l'écran qu'après avoir activé \\[ *enable* \\] explicitement les interruptions. Nous allons les utiliser à partir de maintenant. Premièrement, nous avons besoin d'un programme principale pour occuper le processeur:\n",
    "\n",
    "```\n",
    "// Programme principal\n",
    "    MOV R1, #.PixelScreen\n",
    "    MOV R2, #0 //index du pixel courant\n",
    "boucle: LDR R0, .Random // couleur au hasard\n",
    "    STR R0, [R1+R2]\n",
    "    ADD R2, R2, #4\n",
    "    CMP R2, #12288 //64x32 (mid-res)\n",
    "    BLT boucle\n",
    "    MOV R2, #0\n",
    "    B boucle\n",
    "```"
   ]
  },
  {
   "cell_type": "markdown",
   "metadata": {},
   "source": [
    "#### Exercice 34\n",
    "\n",
    "Faites fonctionner ce programme et vérifier par vous-même qu'il tourne vite et sans s'interrrompre. Mettez le en pause à un moment et faites une copie d'écran de sa zone d'affichage.\n",
    "____"
   ]
  },
  {
   "cell_type": "markdown",
   "metadata": {},
   "source": [
    "Nous voudrions interrompre cette routine principal \\[ *main* \\], et écrire quelquechose dans la console à chaque fois. Pour faire en sorte que les choses restent simples, nous écrirons une sous-routine qui écris juste le caractère A dans la console à chaque fois qu'elle est appelée:\n",
    "\n",
    "```\n",
    "// Routine d'interruption\n",
    "ecrireA: PUSH {R0}\n",
    "    MOV R0, #65\n",
    "    STR R0, .WriteChar\n",
    "    POP {R0}\n",
    "    RFE\n",
    "```"
   ]
  },
  {
   "cell_type": "markdown",
   "metadata": {},
   "source": [
    "*Notes*:\n",
    "- Comme pour toute sous-routine, si nous utilisons un (ou des) registre(s), nous devons prendre garde à sauvegarder/restaurer leur contenu en utilisant la pile système avec `PUSH` et `POP`,\n",
    "- Cependant, pour une routine d'interruption, la sauvegarde/restauration de la valeur du registre `LR` pour retrouver le point de retour, n'est pas nécessaire. En effet, lorsqu'une routine d'interruption est appelée, le processeur n'utilise pas la valeur de `LR` (nous verrons comment il procède un peu plus loin).\n",
    "- En raison de cette approche particulière du retour au programme principale, nous terminons notre routine d'interruption avec une instruction `RFE` (pour *Return From Exception*), «exception» pour marquer le caractère exceptionnel d'une interruption."
   ]
  },
  {
   "cell_type": "markdown",
   "metadata": {},
   "source": [
    "Ayant introduit nous routine d'interruption, nous devons préciser où et quand elle doit être appelée. C'est ce que réalise le code qui suit, au *départ du programme*:\n",
    "\n",
    "```\n",
    "// Activation des interruptions\n",
    "    MOV R0, #ecrireA\n",
    "    STR R0, .PinISR  // précise l'adresse de démarrage de la routine lorsque la broche d'interruption est activée\n",
    "    MOV R0, #1\n",
    "    STR R0, .PinMask // Active la broche d'interruption en la positionnant à 1 (plutôt que 0 par défaut)\n",
    "    STR R0, .InterruptRegister // Active les interruptions en général\n",
    "```"
   ]
  },
  {
   "cell_type": "markdown",
   "metadata": {},
   "source": [
    "*Notes*:\n",
    "- Comme détaillé dans les commentaires, ce code réalise trois opérations nécessaire au bon fonctionnement des interruptions,\n",
    "- Il peut sembler étrange qu'après avoir préciser que la broche d'interruption (si activé) doit appeler la routine `ecrireA`, il faille encore activer la broche d'interruption et encore les interruptions en général. C'est nécessaire car (comme nous le verrons) l'ARMlite gère plusieurs sortes d'interruptions, et, pour certaines applications, il est important de pouvoir activer/désactiver \\[ *enable/disable* \\] chaque sorte d'interruption, voir les désactiver toutes, durant certaine parties critiques du programme principal.\n",
    "- la forme d'écriture de l'ARMLite à propos des interruptions est très proche de celle d'un processeur ARM réel, bien que les sortes d'interruptions géré par ce simulateur lui soit particulières."
   ]
  },
  {
   "cell_type": "markdown",
   "metadata": {},
   "source": [
    "#### Exercice 35\n",
    "\n",
    "Ajouter le code de la routine d'interruption après celui du programme principale puis le code d'activation des interruptions au début.\n",
    "\n",
    "Faites tourner le programme complet et vérifier que le programme principal continu à s'exécuter comme avant.\n",
    "\n",
    "Vous voyez à présent que la broche d'interruption est apparue dans la zone Processor:\n",
    "\n",
    "Vérifier qu'à chaque fois que vous cliquez sur cette icone (le petit éclair), un A est écris dans la console.\n",
    "\n",
    "Est-ce que cette interruption semble ralentir le programme principal?\n",
    "\n",
    "Mettre le programme en pause, poser un point d'arrêt sur l'intruction `MOV R0, #65` puis relancer l'exécution.\n",
    "\n",
    "Cliquer sur la broche d'interruption (souvenez-vous que le processeur se met en pause juste avant que le point d'arrêt ne soit atteint).\n",
    "\n",
    "Quelle est la valeur du registre de lien LR?\n",
    "\n",
    "*Sans relancer l'exécution*, afficher la page mémoire ffe de façon à voir la pile à la fin de la page. Le pointeur de pile SP vous indique l'adresse mémoire du sommet de la pile à ce point. Cela vous permet de constater qu'il y a trois valeurs dans la pile à cet instant. Faites une copie d'écran qui montre ces trois valeurs.\n",
    "\n",
    "Quelle est la signification de la valeur au sommet de la pile (c'est-à-dire à l'adresse mémoire contenue dans SP)? (*indice*: rechercher cette valeur ailleurs sur l'écran)\n",
    "\n",
    "Appuyer sur Single Step quatre fois. À partir de quelle instruction le programme principal reprend-t-il son exécution? Comment le processeur sait à quelle instruction il doit reprendre son exécution?\n",
    "____"
   ]
  },
  {
   "cell_type": "markdown",
   "metadata": {},
   "source": [
    "La dernière valeur dans la pile (0x80000001) est le moyen par lequel le processeur sauvegarde son état courant qui inclu notamment les quatre bits de status (*Status bits*) que vous pouvez voir dans l'UI de l'ARMLite. C'est nécessaire car cet état pourrait être modifié à l'interieur de la routine d'interruption, il faut donc être en mesure de le restaurer.\n",
    "\n",
    "L'icone de broche d'interruption simule la façon dont une broche d'interruption matérielle fonctionne sur un microprocesseur réel. Sur un véritable ordinateur, cette broche serait connectée à un ou plusieurs périphérique \\[ *device* \\] matériel comme le clavier, la souris, ou une horloge matérielle (qui produit des impulsions régulières). L'ARMlite simule de telles possibilités."
   ]
  },
  {
   "cell_type": "markdown",
   "metadata": {},
   "source": [
    "## Interruptions clavier - *keyboard interrupts*"
   ]
  },
  {
   "cell_type": "markdown",
   "metadata": {},
   "source": [
    "En modifiant légèrement le code précédent, comme indiqué ci-dessous, nous pouvons utiliser la simulation des interruptions clavier.\n",
    "\n",
    "```\n",
    "// Activer les interruptions\n",
    "    MOV R0, #ecrire            //plutôt que #ecrireA\n",
    "    STR R0, .KeyboardISR       //précédemment .PinISR (ISR pour Interrupt Service Routine)\n",
    "    MOV R0, #1\n",
    "    STR R0, .KeyboardMask      //précédemment .pinMask\n",
    "    STR R0, .InterruptRegister\n",
    "    \n",
    "// Programme principal\n",
    "    MOV R1, #.PixelScreen\n",
    "    MOV R2, #0 //index du pixel courant\n",
    "boucle: LDR R0, .Random // couleur au hasard\n",
    "    STR R0, [R1+R2]\n",
    "    ADD R2, R2, #4\n",
    "    CMP R2, #12288 //64x32 (mid-res)\n",
    "    BLT boucle\n",
    "    MOV R2, #0\n",
    "    B boucle\n",
    "\n",
    "// routine d'interruption\n",
    "ecrire: PUSH {R0}\n",
    "    LDR R0, .LastKey //précédemment #65 pour A\n",
    "    STR R0, .WriteChar\n",
    "    POP {R0}\n",
    "    RFE\n",
    "```"
   ]
  },
  {
   "cell_type": "markdown",
   "metadata": {},
   "source": [
    "#### Exercice 36\n",
    "\n",
    "Faites tourner ce programme. Vois-t-on la proche d'interruption?\n",
    "\n",
    "Pendant que le programme tourne, taper des caractères sur le clavier et vérifier qu'ils sont écris immédiatement dans la console.\n",
    "\n",
    "Fait-il la différence entre des lettres en majuscules ou en minuscules?\n",
    "__________"
   ]
  },
  {
   "cell_type": "markdown",
   "metadata": {},
   "source": [
    "## Interruptions d'horloge - *clock interrupts*"
   ]
  },
  {
   "cell_type": "markdown",
   "metadata": {},
   "source": [
    "Beaucoup d'application ont besoin d'avoir une connaissance précise de l'écoulement du temps, pour rythmer les choses. Elles accomplissent cela par le moyen d'une horloge matérielle qui interrompt le processeur à un rythme régulier. L'ARMlite simule une telle horloge comme vous le montre le code suivant dont l'effet est de faire clignoter un large pixel entre noir et blanc.\n",
    "\n",
    "```\n",
    "// Activer les interruptions\n",
    "    MOV R0, #pixelHorloge\n",
    "    STR R0, .ClockISR\n",
    "    MOV R0, #1000\n",
    "    STR R0, .ClockInterruptFrequency\n",
    "    MOV R0, #1\n",
    "    STR R0, .InterruptRegister\n",
    "\n",
    "// programme principal\n",
    "main: B main // juste une boucle vide\n",
    "\n",
    "pixelHorloge:\n",
    "    PUSH {R0, R1}\n",
    "    MOV R1, #.white\n",
    "    LDR R0, .Pixel0\n",
    "    EOR R0, R0, R1\n",
    "    STR R0, .Pixel0\n",
    "    POP {R0, R1}\n",
    "    RFE\n",
    "```"
   ]
  },
  {
   "cell_type": "markdown",
   "metadata": {},
   "source": [
    "#### Exercice 37\n",
    "\n",
    "Faites tourner ce programme et mesurer le temps de clignotement avec votre montre - Quelle est sa périodicité?\n",
    "\n",
    "La fréquence des interruptions peut être réglée par **ClockInterruptFrequency**.\n",
    "\n",
    "Comment procéderiez-vous pour que la vitesse de clignottement soit d'un battement par seconde?\n",
    "____"
   ]
  },
  {
   "cell_type": "markdown",
   "metadata": {},
   "source": [
    "## Interruptions lors d'un clic sur un pixel"
   ]
  },
  {
   "cell_type": "markdown",
   "metadata": {},
   "source": [
    "L'autre forme d'interruptions que l'ARMlite sait gérer est le clic avec la souris sur un pixel de la zone d'affichage (en moyenne ou haute résolution). Cela peut servir pour écrire une simple application de dessin ou pour des jeux interactifs.\n",
    "\n",
    "L'exemple qui suit peint un pixel en rouge à l'endroit où l'utilisateur clique sur la zone d'affichage.\n",
    "\n",
    "```\n",
    "// Activer les interruptions\n",
    "    MOV R0, #peindre\n",
    "    STR R0, .PixelISR\n",
    "    MOV R0, #1\n",
    "    STR R0, .PixelMask\n",
    "    STR R0, .InterruptRegister\n",
    "\n",
    "// initialiser la couleur\n",
    "    MOV R12, #.red\n",
    "main: B main\n",
    "\n",
    "// Routine d'interruption pour peindre un pixel cliqué par l'utilisateur\n",
    "// La couleur est précisée dans R12 (variable global)\n",
    "peindre: PUSH {R1, R2}\n",
    "    MOV R1, #.PixelScreen\n",
    "    LDR R2, .LastPixelClicked\n",
    "    LSL R2, R2, #2 // multiplier ce nombre par 4 pour obtenir l'adresse du mot correspondant\n",
    "    STR R12, [R1+R2]\n",
    "    POP {R1, R2}\n",
    "    RFE\n",
    "```"
   ]
  },
  {
   "cell_type": "markdown",
   "metadata": {},
   "source": [
    "#### Exercice 38\n",
    "\n",
    "Faites tourner ce programme et vérifier que vous pouvez cliquer sur un pixel arbitraire qui sera peint en rouge.\n",
    "\n",
    "Créer une routine d'interruption supplémentaire qui est pilotée par les interruptions clavier (se référer à la section précédente) et, qui, selon la touche enfoncée parmi deux (ou plus) possibles, change la couleur dans la variable globale R12.\n",
    "\n",
    "Faites tourner votre programme et montrer, avec une capture d'écran que vous pouvez à présent peindre des pixels avec différentes couleurs (au moins 2). Montrer aussi votre code.\n",
    "__________"
   ]
  },
  {
   "cell_type": "markdown",
   "metadata": {},
   "source": [
    "### Encart - Les interruptions et le système d'exploitation ??\n",
    "\n",
    "Comme vous l'avez peut-être compris, le code que vous avez écris pour lire le clavier et écrire des caractères dans la console, pour utiliser l'horloge et pour répondre aux clics de la souris, pendant que d'autres processus continuent à tourner, émule, de façon simple, deux des principales fonctions du système d'exploitation de votre ordinateur: la gestion des interruptions et l'ordonnancement des processus (quel processus s'exécute à quel moment)."
   ]
  }
 ],
 "metadata": {
  "kernelspec": {
   "display_name": "",
   "name": ""
  },
  "language_info": {
   "codemirror_mode": {
    "name": "ipython",
    "version": 3
   },
   "file_extension": ".py",
   "mimetype": "text/x-python",
   "name": "python",
   "nbconvert_exporter": "python",
   "pygments_lexer": "ipython3",
   "version": "3.6.8"
  }
 },
 "nbformat": 4,
 "nbformat_minor": 4
}
