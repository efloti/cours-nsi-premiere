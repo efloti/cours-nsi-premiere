{
 "cells": [
  {
   "cell_type": "markdown",
   "metadata": {},
   "source": [
    "# Jeu du serpent - *Snake*"
   ]
  },
  {
   "cell_type": "markdown",
   "metadata": {},
   "source": [
    "Dans ce chapitre, nous allons mettre à profit la plupart des techniques que nous avons apprises jusqu'ici afin de construire une implémentation réaliste du jeu bien connu du [serpent](https://fr.wikipedia.org/wiki/Snake_(genre_de_jeu_vid%C3%A9o)) (*Snake game* [en](https://en.wikipedia.org/wiki/Snake_(video_game_genre)))."
   ]
  },
  {
   "attachments": {
    "snake.jpeg": {
     "image/jpeg": "[encoded data removed]"
    }
   },
   "cell_type": "markdown",
   "metadata": {},
   "source": [
    "<img src=\"attachment:snake.jpeg\"/>"
   ]
  },
  {
   "cell_type": "markdown",
   "metadata": {},
   "source": [
    "Comme nous allons développer une application plus substantielle cette fois, de manière incrémentale, vous trouverez certainement plus commode d'utiliser un éditeur de texte (aussi simple que Notepad ou aussi sophistiqué qu'un IDE). À chaque étape, écrivez votre code dans l'éditeur et sauvegarder la nouvelle version dans un fichier texte - utiliser alors le bouton Load de l'ARMlite pour charger la dernière version du code."
   ]
  },
  {
   "cell_type": "markdown",
   "metadata": {},
   "source": [
    "## Un serpent qui bouge"
   ]
  },
  {
   "cell_type": "markdown",
   "metadata": {},
   "source": [
    "Nous allons commencer par écrire un simple boucle qui va déplacer la tête du serpent d'un pixel vers la droite à chaque itération. Dans cette version, le serpent va grandir continuellement, ce qui n'est pas ce que nous voulons pour le jeu final, mais nous améliorerons ce point un peu plus tard:"
   ]
  },
  {
   "cell_type": "markdown",
   "metadata": {},
   "source": [
    "```\n",
    "// Définir les registres\n",
    "    // R0-R2: réservés pour des usages temporaires\n",
    "    // Variables globales\n",
    "    // R3: position de la queue\n",
    "    // R4: poistion de la tête\n",
    "    // Constantes:\n",
    "    MOV R10, #.PixelScreen\n",
    "    MOV R11, #.green // couleur du serpent\n",
    "    \n",
    "// Initialiser le jeu\n",
    "    MOV R3, #1084 // pour la queue et ...\n",
    "    MOV R4, #1088 // pour la tête à côté (4 octets = 1 mot = 1 pixel)\n",
    "    STR R11, [R10+R3]\n",
    "    STR R11, [R10+R4]\n",
    "\n",
    "// rafraîchissement ou mise à jour (update):\n",
    "maj:\n",
    "    ADD R4, R4, #4    // incrémenter la position de la tête\n",
    "    STR R11, [R10+R4] //dessiner la nouvelle tête\n",
    "    B maj\n",
    "```"
   ]
  },
  {
   "cell_type": "markdown",
   "metadata": {},
   "source": [
    "#### Exercice 39\n",
    "\n",
    "Charger le code et faites le fonctionner en mode pas à pas pendant quelques itérations de façon à bien comprendre ce qu'il fait.\n",
    "\n",
    "Ensuite faite-le tourner normalement. Quel problèmes observe-t-on immédiatement?\n",
    "\n",
    "**Sauvegarder votre programme**\n",
    "___"
   ]
  },
  {
   "cell_type": "markdown",
   "metadata": {},
   "source": [
    "## Controler la fréquence de rafraîchissement"
   ]
  },
  {
   "cell_type": "markdown",
   "metadata": {},
   "source": [
    "Parmi les problèmes trouvés à la première étape, le plus immédiat est la vitesse. La meilleur façon de la controler est d'utiliser les interruptions de l'horloge. Effectuer les modifications suivantes au code:"
   ]
  },
  {
   "cell_type": "markdown",
   "metadata": {},
   "source": [
    "```\n",
    "// Définir les registres\n",
    "    ...\n",
    "\n",
    "// Configurer les interruptions mais sans les activer pour l'instant\n",
    "    MOV R0, #maj\n",
    "    STR R0, .ClockISR\n",
    "    MOV R0, #50\n",
    "    STR R0, .ClockInterruptFrequency\n",
    "\n",
    "// Initialiser le jeu\n",
    "    ...\n",
    "    // ici, nous sommes prêt à gérer les interruptions\n",
    "    MOV R0, #1\n",
    "    STR R0, .InterruptRegister\n",
    "\n",
    "mainLoop: b mainLoop // pour occuper le processeur en attente d'interruption\n",
    "\n",
    "// rafraîchissement ou mise à jour (update)\n",
    "// piloté par l'horloge\n",
    "maj:\n",
    "    ADD R4, R4, #4    // incrémenter la position de la tête\n",
    "    STR R11, [R10+R4] // dessiner la nouvelle tête\n",
    "    RFE\n",
    "```"
   ]
  },
  {
   "cell_type": "markdown",
   "metadata": {},
   "source": [
    "*Notes*:\n",
    "- Nous configurons les interruptions d'horloge au début (par convention), mais les interruptions ne sont pas activées tant que le jeu n'a pas été initialisé - autrement la routine maj pourrait être appelée avant même qu'il n'y ait un serpent à déplacer.\n",
    "- **ClockInterruptFrequency** est défini en millisecondes. Ici, nous l'avons configuré pour qu'une interruption horloge ait lieu toutes les 50 millisecondes.\n",
    "- Comme **maj** est déclenchée par la survenue d'une interruption, elle se termine par `RFE` à la place de `B maj`.\n",
    "- **maj** ne sauvegarde aucun registre sur la pile car le seul registre qu'elle modifie est R4 qui est une variable globale (partagée par tout le code)."
   ]
  },
  {
   "cell_type": "markdown",
   "metadata": {},
   "source": [
    "#### Exercice 40\n",
    "\n",
    "Effectuer les changements indiqués et faites tourner le programme.\n",
    "\n",
    "Modifier **ClockInterruptFrequency** en augmentant ou en diminuant sa valeur (par rapport à 50 millisecondes)\n",
    "\n",
    "Comment pourrions-nous faire pour permettre à l'utilisateur de modifier la vitesse ce qui correspondrait à différents niveaux de difficulté? Seule une description est attendue, pas la peine de la coder pour l'instant.\n",
    "\n",
    "**Sauvegarder votre programme**\n",
    "___"
   ]
  },
  {
   "cell_type": "markdown",
   "metadata": {},
   "source": [
    "## Changer la direction avec les touches H, J, K, L"
   ]
  },
  {
   "cell_type": "markdown",
   "metadata": {},
   "source": [
    "Ensuite, nous allons permettre à l'utilisateur de modifier la direction du serpent en utilisant les touches H (gauche), J (bas), K (haut), L (droite). Nous pourrions vérifier si des touches ont été utilisées dans la boucle principale, mais une solution plus élégante est d'utiliser les interruptions clavier. Voici cette routine d'interruption:"
   ]
  },
  {
   "cell_type": "markdown",
   "metadata": {},
   "source": [
    "```\n",
    "// routine d'interruption clavier\n",
    "// Si la touche est valide (H,J,K,L), la transférer dans R7\n",
    "clavier: PUSH {R0}\n",
    "    LDR R0, .LastKey //lire la dernière touche enfoncée (mais sans attendre ...)\n",
    "    CMP R0, #74 // touche J (haut)\n",
    "    BEQ majTouche\n",
    "    CMP R0, #75 // touche K (bas)\n",
    "    BEQ majTouche\n",
    "    CMP R0, #72 // touche H (gauche)\n",
    "    BEQ majTouche\n",
    "    CMP R0, #76 // touche L (droite)\n",
    "    BEQ majTouche\n",
    "    B .+2 // branchement inconditionnel deux instructions plus bas (POP...)\n",
    "majTouche: MOV R7, R0\n",
    "    POP {R0}\n",
    "    RFE\n",
    "```"
   ]
  },
  {
   "cell_type": "markdown",
   "metadata": {},
   "source": [
    "*Notes*:\n",
    "- Cette nouvelle routine peut être placée après la routine **maj**.\n",
    "- `B .+2` signifie «effectuer un branchement deux instructions plus loin» (i.e. sauter par dessus la prochaîne instruction). Lorsqu'on effectue des petits sauts localement, cette syntaxe évite l'encombrement d'avoir à définir une nouvelle étiquette.\n",
    "- Ici, nous sauvegardons le registre R0 sur la pile car il peut être utilisé à d'autres fins lorsque la routine est appelée. En revanche, R7 a une portée globale."
   ]
  },
  {
   "cell_type": "markdown",
   "metadata": {},
   "source": [
    "Et voici les modifications nécessaires à apporter en début de programme - l'une pour la définition d'une nouvelle variable globale, l'autre pour la configuration d'une interruption supplémentaire:"
   ]
  },
  {
   "cell_type": "markdown",
   "metadata": {},
   "source": [
    "```\n",
    "// Définir les registres\n",
    "    ...\n",
    "    // R7: valeur ASCII de la dernière touche enfoncée\n",
    "    ...\n",
    "//initialiser le jeu\n",
    "    ...\n",
    "    MOV R7, #76 //Au départ le serpent se déplace vers la droite\n",
    "    // ici, nous sommes prêt à gérer les interruptions\n",
    "    ...\n",
    "\n",
    "// Configurer les interruptions mais sans les activer pour l'instant\n",
    "    ...\n",
    "    MOV R0, #clavier\n",
    "    STR R0, .KeyboardISR\n",
    "    MOV R0, #1\n",
    "    STR R0, .KeyboardMask\n",
    "\n",
    "...\n",
    "```"
   ]
  },
  {
   "cell_type": "markdown",
   "metadata": {},
   "source": [
    "À présent, nous devons exploiter la dernière touche utilisée (dans R7) afin de contrôler la direction du mouvement dans la routine **maj**:"
   ]
  },
  {
   "cell_type": "markdown",
   "metadata": {},
   "source": [
    "```\n",
    "// rafraîchissement ou mise à jour (update):\n",
    "maj:\n",
    "    CMP R7, #74\n",
    "    BEQ bas\n",
    "    CMP R7, #75\n",
    "    BEQ haut\n",
    "    CMP R7, #72\n",
    "    BEQ gauche\n",
    "    CMP R7, #76\n",
    "    BEQ droite\n",
    "gauche: SUB R4, R4, #4\n",
    "    B repeindre\n",
    "droite: ADD R4, R4, #4\n",
    "    B repeindre\n",
    "haut: SUB R4, R4, #256 // -64*4=-256 -> monter d'une ligne\n",
    "    B repeindre\n",
    "bas: ADD R4, R4, #256  // +64*4=256 -> descendre d'une ligne\n",
    "repeindre:\n",
    "    STR R11, [R10+R4]\n",
    "    RFE\n",
    "```"
   ]
  },
  {
   "cell_type": "markdown",
   "metadata": {},
   "source": [
    "#### Exercice 41\n",
    "\n",
    "Ajouter ces portions de code à l'ancien (à la bonne place) puis faites tourner le programme. Vérifiez que tout fonctionne bien en déplaçant le serpent dans les quatre directions (si c'est difficile allonger la durée entre deux interruptions horloge) puis faites une capture d'écran montrant la zone d'affichage.\n",
    "\n",
    "Pourquoi le fait de sortir de l'écran par le haut ou par le bas produit une erreur alors que ce n'est pas le cas lorsqu'on sort par la gauche ou par la droite?\n",
    "\n",
    "**Sauvegarder votre programme**\n",
    "____"
   ]
  },
  {
   "cell_type": "markdown",
   "metadata": {},
   "source": [
    "## Heurter un côté fait perdre"
   ]
  },
  {
   "cell_type": "markdown",
   "metadata": {},
   "source": [
    "Dans le vrai jeu, si le serpent heurte l'un des quatre bords de la scène, on perd. Les bords haut et bas de la scène sont simples à traiter: nous pouvons tester si la valeur de R4 est inférieure à 0 ou supérieure à l'adresse du dernier pixel: 12284 (=64\\*48\\*4 - le 4 car un pixel fait 4 octets). Pour les bords gauche et droit, il va nous falloir regarder les 8 bits de poids faibles de l'index du pixel en utilisant un ET logique avec #255 (0x000000ff).\n",
    "- Si le serpent bouge vers la gauche, nous devons agir au moment où ces 8 bits de poids faibles prennent la valeur 0,\n",
    "- Si le serpent bouge vers la droite, nous devons agir au moment où ces 8 bits de poids faibles prennent la valeur #252 (car nous enlevons 4 à chaque fois, non 1).\n",
    "\n",
    "Voici les modifications à appliquer au coeur de la routine de mise à jour:\n",
    "\n",
    "```\n",
    "...\n",
    "gauche: AND R0, R4, #255\n",
    "    CMP R0, #0\n",
    "    BEQ perdu\n",
    "    SUB R4, R4, #4\n",
    "    B repeindre\n",
    "droite: AND R0, R4, #255\n",
    "    CMP R0, #252\n",
    "    BEQ perdu\n",
    "    ADD R4, R4, #4\n",
    "    B repeindre\n",
    "haut: SUB R4, R4, #256 // -64*4=-256 -> monter d'une ligne\n",
    "    CMP R4, #0\n",
    "    BLT perdu\n",
    "    B repeindre\n",
    "bas: ADD R4, R4, #256 // +64*4=256 -> descendre d'une ligne\n",
    "    MOV R0, #12284\n",
    "    CMP R4, R0\n",
    "    BGT perdu\n",
    "...    \n",
    "```"
   ]
  },
  {
   "cell_type": "markdown",
   "metadata": {},
   "source": [
    "Nous devons aussi définir l'étiquette **perdu** qu'on peut mettre à la toute fin du code:\n",
    "\n",
    "```\n",
    "...\n",
    "perdu: \n",
    "    MOV R0, #msgPerdu\n",
    "    STR R0, .WriteString\n",
    "    HALT\n",
    "\n",
    "msgPerdu: .ASCIZ \" Game Over!\\n\"\n",
    "```"
   ]
  },
  {
   "cell_type": "markdown",
   "metadata": {},
   "source": [
    "#### Exercice 42\n",
    "\n",
    "Modifier le code en incorporant ces changements et faites tourner le programmes quatre fois de façon à vous assurer que le jeu s'arrête correctement lorsqu'on touche un des quatres bords, mais que vous pouvez tout de même tourner juste avant.\n",
    "\n",
    "(En programmation on parle de (test des) *conditions aux limites* \\[ *edge* ou *boundary conditions* \\] - dans ce cas, les conditions correspondent à une limite «physique»!)\n",
    "\n",
    "Faites une copie d'écran montrant un virage juste avant la collision.\n",
    "\n",
    "**Sauvegarder votre programme**\n",
    "_____"
   ]
  },
  {
   "cell_type": "markdown",
   "metadata": {},
   "source": [
    "## Le serpent ne peut pas se traverser lui même!"
   ]
  },
  {
   "cell_type": "markdown",
   "metadata": {},
   "source": [
    "Nous pouvons aussi ajouter la règle que le jeu est perdu si la tête du serpent repasse sur son corps. La manière la plus simple de faire cela est de vérifier si le tête s'apprête à bouger sur un pixel qui est déjà vert."
   ]
  },
  {
   "cell_type": "markdown",
   "metadata": {},
   "source": [
    "```\n",
    "...\n",
    "repeindre:\n",
    "    // commencer par vérifier que le serpent ne repasse pas sur lui-même\n",
    "    LDR R0, [R10+R4] // lire sur l'écran le contenu du pixel où l'on s'apprête à mettre la tête\n",
    "    CMP R0, R11      // ce pixel est-il vert ..\n",
    "    BEQ perdu        // si oui, c'est perdu\n",
    "    STR R11, [R10+R4]\n",
    "    RFE\n",
    "```"
   ]
  },
  {
   "cell_type": "markdown",
   "metadata": {},
   "source": [
    "#### Exercice 43\n",
    "\n",
    "Effectuer ce changement au code et faites tourner le programme. Prendre une capture d'écran qui montre que le jeu se termine si le serpent se traverse.\n",
    "\n",
    "Que se passe-t-il si l'on inverse la direction du mouvement? (on va vers la gauche puis vers la droite par exemple)\n",
    "\n",
    "**Sauvegarder votre programme**\n",
    "___________"
   ]
  },
  {
   "cell_type": "markdown",
   "metadata": {},
   "source": [
    "## Créer une pomme à une position aléatoire"
   ]
  },
  {
   "cell_type": "markdown",
   "metadata": {},
   "source": [
    "À présent ajoutons une pomme, dans un position aléatoire à l'écran. Alors, à chaque fois que le serpent «mange» (passe sur) la pomme, nous ajouterons 1 au score du joueur et générerons une pomme à une nouvelle position aléatoire. Nous avons besoin de produire un nombre aléatoire dans l'intervalle 0-12280, et il doit être divisible par 4. Par défaut, la directive `.Random` de l'ARMlite produit un nombre aléatoire de 32-bits (un mot). Nous pouvons le combiner avec `AND` et le *masque de bits* `0b00000000'00000011'11111111'11111100` (soit 0x3ffc) pour le ramener à un nombre divisible par 4 (car les 2 bits de poids faibles sont à zéro) de l'intervalle 0-16380 ( car $3\\cdot 16^3+15\\cdot 16^2+15\\cdot 16+12=16380$ ). Ensuite, il nous suffira de tester si le résultat est dans l'intervalle 0-12280 sinon nous relancerons «le dé» à nouveau.\n",
    "\n",
    "Premièrement, nous définirons une nouvelle constante pour la couleur de la pomme, ainsi qu'une nouvelle variable globale pour tenir le compte du nombre de pommes mangés:\n",
    "\n",
    "```\n",
    "// Définir les registres\n",
    "    ...\n",
    "    // R8: Nombre de pommes mangées\n",
    "    // Constantes:\n",
    "    ...\n",
    "    MOV R12, #.red // couleur d'une pomme\n",
    "...\n",
    "//initialiser le jeu\n",
    "    MOV R8, #0\n",
    "    ...\n",
    "```"
   ]
  },
  {
   "cell_type": "markdown",
   "metadata": {},
   "source": [
    "La sous-routine qui suit génére l'index d'un pixel au hasard dans l'intervalle requis et peint la pomme sur ce pixel. Elle vérifie aussi que nous ne plaçons pas la pomme sur le corps du serpent, c'est-à-dire sur un pixel déjà peint en vert:\n",
    "\n",
    "```\n",
    "// Produit une pomme dans une position au hasard mais valide\n",
    "creerPomme: PUSH {R0, R1, LR}\n",
    "auHasard: \n",
    "    LDR R1, .Random   // obtenir un mot de 32-bits au hasard\n",
    "    MOV R0, #0x3ffc       \n",
    "    AND R1, R1, R0    // conserver les bits de positions 2-14\n",
    "    MOV R0, #12284\n",
    "    CMP R1, R0\n",
    "    BGT auHasard      // relancer si on est pas dans l'intervalle correct\n",
    "    LDR R0, [R10+R1]\n",
    "    CMP R0, R11\n",
    "    BEQ auHasard      // relancer si on tombe sur le corps du serpent\n",
    "    STR R12, [R10+R1] // dessiner la pomme\n",
    "    POP {R0, R1, LR}\n",
    "    RET\n",
    "```"
   ]
  },
  {
   "cell_type": "markdown",
   "metadata": {},
   "source": [
    "*Notes*:\n",
    "- Cette nouvelle routine peut être placée à n'importe quel endroit pourvu qu'elle ne se chevauche pas avec une routine existante. L'auteur la place juste avant **perdu** et vous suggère d'en faire autant pour rester consistent avec ce livre.\n",
    "- Du fait qu'il s'agit d'une sous-routine qui sera donc appelée en utilisant l'instruction `BL` (ce n'est pas une routine d'interruption), elle se termine avec `RET`.\n",
    "- En fait, les instructions `PUSH` et `POP` ne sont pas strictement nécessaires pour ce code (car R0 et R1 ne sont utilisés que de façon locale et qu'il n'y pas d'appel à une autre sous-routine à l'intérieur de celle-ci qui risquerait de modifier le point de retour `LR`), mais nous les avons inclus pour suivre les «bonnes pratiques»."
   ]
  },
  {
   "cell_type": "markdown",
   "metadata": {},
   "source": [
    "Nous pouvons à présent appeler la sous-routine **creerPomme** dans la zone d'initialisation du jeu (mais toujours avant d'activer les interruptions):\n",
    "\n",
    "```\n",
    "// Initialiser le jeu\n",
    "    ...\n",
    "    BL creerPomme\n",
    "    // ici, nous sommes prêt à gérer les interruptions\n",
    "    ...\n",
    "```\n",
    "    "
   ]
  },
  {
   "cell_type": "markdown",
   "metadata": {},
   "source": [
    "Ensuite, à la fin de la routine de mise à jour de l'écran - **maj** et à l'intérieur de la zone **repeindre**, nous pouvons tester si la pomme a été mangée et, dans ce cas, mettre à jour le score (nombre de pommes mangées) et créer une nouvelle pomme: "
   ]
  },
  {
   "cell_type": "markdown",
   "metadata": {},
   "source": [
    "```\n",
    "repeindre:\n",
    "    ...\n",
    "    BEQ perdu        // pour repère d'insertion!\n",
    "    CMP R0, R12      // Vérifier si le pixel a la couleur d'une pomme ...\n",
    "    BNE .+3          // ... et sauter directement à l'affichage de la tête dans ce cas\n",
    "    ADD R8, R8, #1   // Incrémenter le «score»\n",
    "    BL creerPomme\n",
    "    STR R11, [R10+R4]\n",
    "    RFE\n",
    "```"
   ]
  },
  {
   "cell_type": "markdown",
   "metadata": {},
   "source": [
    "Enfin, nous pouvons aussi écrire le score dans la console à la fin du jeu en modifiant la séquence **perdu** (à la fin mais avant `HALT`):\n",
    "\n",
    "```\n",
    "perdu:\n",
    "    ...\n",
    "    MOV R0, #score\n",
    "    STR R0, .WriteString\n",
    "    STR R8, .WriteUnsignedNum\n",
    "    HALT\n",
    "\n",
    "msgPerdu: .ASCIZ \" Game Over!\\n\"\n",
    "score: .ASCIZ \"Votre score: \"\n",
    "```"
   ]
  },
  {
   "cell_type": "markdown",
   "metadata": {},
   "source": [
    "#### Exercice 44\n",
    "\n",
    "Effectuer tous les changements indiqués. Prendre une capture d'écran montrant le serpent et une pomme.\n",
    "\n",
    "Jouez à nouveau, en mangeant au moins deux pommes puis prendre à nouveau une capture d'écran de la scène finale et de votre score.\n",
    "\n",
    "**Sauvegarder votre programme**\n",
    "_____"
   ]
  },
  {
   "cell_type": "markdown",
   "metadata": {},
   "source": [
    "## Le serpent ne grandit que s'il mange une pomme"
   ]
  },
  {
   "cell_type": "markdown",
   "metadata": {},
   "source": [
    "Notre jeu dans sa version courante n'est pas comme le vrai jeu du serpent: le serpent démarre avec deux segments de long, mais il ne grandit que lorsqu'il mange une pomme. Implémenter cela est un bon challenge, car il nous allons avoir besoin de suivre non seulement la tête et la queue du serpent mais aussi chaque partie du corps - de façon que la queue suive la tête selon le même chemin. "
   ]
  },
  {
   "cell_type": "markdown",
   "metadata": {},
   "source": [
    "Si nous sauvegardons chaque adresse mémoire qui correspond à une partie du corps du serpent dans une structure de données *file* \\[ *queue data structure* \\], alors à chaque fois qu'on déplace la tête nous pouvons «enfiler» sa nouvelle adresse (celle du pixel qui la représente), c'est-à-dire la placer en fin de file et, tout en déplaçant la queue du serpent en avant, nous pouvons «défiler» (sortir de la file) sa position située au début de la file (Il est probablement peu intuitif qu'on «enfile» en fin de file et qu'on «défile» au début de la file - techniquement la queue est au début de la file et la tête à la fin).\n",
    "\n",
    "Une **file** est une collection de mots successifs en mémoire. Nous pouvons définir une telle collection avec une étiquette à la toute fin de notre code:\n",
    "\n",
    "```\n",
    "msgPerdu: .ASCIZ \" Game Over!\\n\"\n",
    "score: .ASCIZ \"Votre score: \"\n",
    ".ALIGN 256\n",
    "corps: // la file des parties du corps du serpent; commence ici et se poursuit aux adresses suivantes\n",
    "```\n",
    "\n",
    "*Note*: Nous avons besoin de `.ALIGN` afin de nous assurer que la file démarre sur le début d'un mot (contrainte d'alignement) - cela pourrait ne pas être le cas car les données qui précèdent sont rangées en mémoire comme des suites d'octets et non de mots. `.ALIGN 4` produirait l'effet voulu (démarrage à la prochaine adresse multiple de 4 libre), mais `.ALIGN 256` positionne la file au tout début de la prochaîne page mémoire, ce qui est plus commode pour la visualiser."
   ]
  },
  {
   "cell_type": "markdown",
   "metadata": {},
   "source": [
    "Nous avons aussi besoin de  définir deux registres supplémentaires, qui nous servirons de pointeurs sur le début et la fin de la file:\n",
    "\n",
    "```\n",
    "// Définir les registres\n",
    "    ...\n",
    "    // R5: pointeur sur le début de la file (pour la queue)\n",
    "    // R6: pointeur sur la fin de la file (pour la tête)\n",
    "    ...\n",
    "```"
   ]
  },
  {
   "cell_type": "markdown",
   "metadata": {},
   "source": [
    "Puis d'initialiser ces deux pointeurs:\n",
    "\n",
    "```\n",
    "// Initialiser le jeu\n",
    "    ...\n",
    "    STR R11, [R10+R4] // REPERE\n",
    "    MOV R5, #corps    // adresse du début de la file (pour la queue)\n",
    "    ADD R6, R5, #4    // adresse de fin de la file (pour la tête)\n",
    "    STR R3, [R5]      // R3 pointe sur l'adresse de la queue\n",
    "    STR R4, [R6]      // R4 pointe sur l'adresse de la tête\n",
    "    MOV R7, #76       // Au départ le serpent se déplace vers la droite\n",
    "    BL creerPomme     // REPERE\n",
    "    ...\n",
    "```"
   ]
  },
  {
   "cell_type": "markdown",
   "metadata": {},
   "source": [
    "*Note*: Ici nous faisons un usage effectif de l'adressage indirect. Dans R5, par exemple, il n'y a pas la valeur (#.green) de la queue du serpent, mais l'adresse en mémoire du pixel qui représente la queue du serpent."
   ]
  },
  {
   "cell_type": "markdown",
   "metadata": {},
   "source": [
    "À présent, à l'intérieur du code de **repeindre**, tout en peignant la tête en vert à sa nouvelle position, nous devons ajouter sa nouvelle position à la fin de la file «corps». Ensuite, sauf dans le cas où le serpent vient de manger une pomme, nous devons repeindre le pixel de queue en blanc à nouveau et défiler (sortir de la file) la référence à ce pixel. (si le serpent a mangé une pomme, nous sautons par dessus le code qui bouge la queue ce qui a pour effet de faire grandir le serpent d'un pixel.)\n",
    "\n",
    "```\n",
    "repeindre:\n",
    "    // commencer par vérifier que le serpent ne repasse pas sur lui-même\n",
    "    LDR R0, [R10+R4] // lire sur l'écran le contenu du pixel où l'on s'apprête à mettre la tête\n",
    "    CMP R0, R11      // ce pixel est-il vert ..\n",
    "    BEQ perdu        // si oui, c'est perdu\n",
    "    ADD R6, R6, #4   // Incrémenter le pointeur de fin de file d'un mot\n",
    "    STR R4, [R6]     // enfiler la nouvelle position de la tête (en fin de file)\n",
    "    CMP R0, R12      // Vérifier si le pixel a la couleur d'une pomme ...\n",
    "    BEQ manger\n",
    "    MOV R0, #.white\n",
    "    STR R0, [R10+R3] // blanchir l'ancienne position de la queue\n",
    "    ADD R5, R5, #4   // Incrémenter le pointeur de début de file (défiler)\n",
    "    LDR R3, [R5]     // mettre à jour le pointeur de la queue\n",
    "    // BNE .+3 à supprimer\n",
    "    B .+3             // ... et sauter directement à l'affichage de la tête dans ce cas\n",
    "manger: ADD R8, R8, #1   // Incrémenter le «score»\n",
    "    BL creerPomme\n",
    "    STR R11, [R10+R4]\n",
    "    RFE\n",
    "```"
   ]
  },
  {
   "cell_type": "markdown",
   "metadata": {},
   "source": [
    "#### Exercice 45\n",
    "\n",
    "Incorporer ces changements dans votre code. Vous devriez voir que votre serpent ne change pas de longueur tant qu'il n'a pas manger de pomme.\n",
    "\n",
    "Faites grandir votre serpent d'au moins deux pixels (donc deux pommes à manger) puis faites une copie d'écran montrant la scène finale ainsi que votre score.\n",
    "\n",
    "Lorsque le programme est à l'arrêt, aller à la page mémoire 002 et faites une capture d'écran de cette page mémoire.\n",
    "\n",
    "Décrivez avec vos propres mots ce que détiennent ces mots mémoire.\n",
    "____"
   ]
  },
  {
   "cell_type": "markdown",
   "metadata": {},
   "source": [
    "Bien que notre programme fonctionne correctement du point de vue de l'utilisateur, ce n'est pas une bonne implémentation.\n",
    "\n",
    "Le problème est qu'à chaque mouvement du serpent, la partie active de la file (les positions mémoire entre le début et la fin de la file) ne cesse d'avancer dans la mémoire, en laissant des données «mortes» derrière elle. Il se peut même que la file finisse par atteindre la fin de la mémoire quand bien même la longueur effective du serpent resterait assez petite.\n",
    "\n",
    "L'ARMlite dispose d'1 Mo de mémoire, ainsi, même si le serpent avance de 10 pixels par seconde et en supposant que vous fassiez exprès de louper la pomme afin de faire durer le jeu le plus longtemps possible, il vous faudrait plusieurs heures avant d'avoir saturé complètement la mémoire:\n",
    "\n",
    "(1s consomme $10\\times 4=40$ octets soit $60\\times 60 \\times 40 < 2\\times 10^5$ octets par heure donc plus de 5 heures pour 1Mo$\\approx 10^6$o)\n",
    "\n",
    "Mais, d'un programme qui fonctionne de cette manière, on dit qu'il a des «fuites mémoires» \\[ *memory leak* \\] et aucun programmeur qui se respecte ne laisserait son code dans cet état."
   ]
  },
  {
   "cell_type": "markdown",
   "metadata": {},
   "source": [
    "## Implémentation d'une file circulaire \\[ *circular queue* \\]"
   ]
  },
  {
   "cell_type": "markdown",
   "metadata": {},
   "source": [
    "La solution, comme vous le savez peut-être si vous avez déjà étudié les structures de données, est de fixer la longueur maximale de la file et de laisser les pointeurs revenir en début de file lorsqu'ils atteignent son extrémité droite.\n",
    "\n",
    "Quelle taille choisir pour notre file? Étant donné que, dans cette résolution (64x32), l'écran ne dispose que de 3072 pixels, même un excellent joueur ne pourra rendre le serpent plus long que cela. Nous réserverons donc 3072 mots en mémoire pour la file avec ce changement:\n",
    "\n",
    "```\n",
    ".ALIGN 256\n",
    "corps: .BLOCK 3072 //on réserve un bloc de 3072 mots pour notre file\n",
    "limite:            //adresse du mot juste après la fin de la file\n",
    "```"
   ]
  },
  {
   "cell_type": "markdown",
   "metadata": {},
   "source": [
    "Nous modifions à présent **repeindre**:\n",
    "\n",
    "```\n",
    "repeindre:\n",
    "    ...\n",
    "    BEQ perdu        // si oui, c'est perdu\n",
    "    ADD R6, R6, #4   // Incrémenter le pointeur de fin de file d'un mot\n",
    "    CMP R6, #limit   // le pointeur a-t-il atteint la fin de file? ...\n",
    "    BLT .+2\n",
    "    MOV R6, #corps   // ...si oui, le remettre au début\n",
    "    STR R4, [R6]     // enfiler la nouvelle position de la tête (en fin de file)\n",
    "    ...\n",
    "    ADD R5, R5, #4   // Incrémenter le pointeur de début de file (défiler)\n",
    "    CMP R5, #limit   // similaire au pointeur de tête pour la queue\n",
    "    BLT .+2\n",
    "    MOV R5, #corps\n",
    "    LDR R3, [R5]     // mettre à jour le pointeur de la queue\n",
    "    ...\n",
    "```"
   ]
  },
  {
   "cell_type": "markdown",
   "metadata": {},
   "source": [
    "#### Exercice 46\n",
    "\n",
    "Mettre en oeuvre ces modifications et, après avoir vérifier qu'il se charge correctement, **sauvegarder le programme**.\n",
    "\n",
    "Ensuite, passer en mode «player» en ajoutant la query string\n",
    "    \n",
    "    https://peterhigginson.co.uk/ARMlite/?profile=player\n",
    "\n",
    "et amusez-vous bien!\n",
    "____"
   ]
  },
  {
   "cell_type": "markdown",
   "metadata": {},
   "source": [
    "## Améliorations possibles"
   ]
  },
  {
   "cell_type": "markdown",
   "metadata": {},
   "source": [
    "Si vous avez un peu de temps pour améliorer le jeu, voici quelques suggestions, mais vous pouvez en trouver d'autres par vous-même:\n",
    "- À la fin du jeu, donner à l'utilisateur la possibilité de rejouer sans avoir à arrêter puis redémarrer le programme.\n",
    "- Faire en sorte que la position de démarrage et le mouvement initial du serpent soit aléatoire.\n",
    "- Donner au joueur la possibilité, au démarrage du programme, de modifier la vitese du jeu en saisissant un nombre lequel sera «décodé» pour régler de façon approprié l'intervalle de rafraichissement **ClockInterruptFrequency**.\n",
    "- Augmenter la fréquence d'horlorge au fur et à mesure que des pommes sont mangées.\n",
    "- Créer un ou plusieurs obstacles, aléatoirement, que le serpent ne doit pas toucher.\n",
    "- Ignorer les mouvements contraires plutôt que de faire mourir le joueur instantanément."
   ]
  }
 ],
 "metadata": {
  "kernelspec": {
   "display_name": "Python 3",
   "language": "python",
   "name": "python3"
  },
  "language_info": {
   "codemirror_mode": {
    "name": "ipython",
    "version": 3
   },
   "file_extension": ".py",
   "mimetype": "text/x-python",
   "name": "python",
   "nbconvert_exporter": "python",
   "pygments_lexer": "ipython3",
   "version": "3.6.8"
  }
 },
 "nbformat": 4,
 "nbformat_minor": 4
}
