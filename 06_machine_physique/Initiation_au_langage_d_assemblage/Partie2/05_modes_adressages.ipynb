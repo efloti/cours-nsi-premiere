{
 "cells": [
  {
   "cell_type": "markdown",
   "metadata": {},
   "source": [
    "# Adressage indirect et indexé"
   ]
  },
  {
   "cell_type": "markdown",
   "metadata": {},
   "source": [
    "Jusqu'ici, en utilisant `LDR` et `STR` pour accéder à la mémoire, nous nous servions d'un «adressage direct» - nous précisions *directement* l'adresse du mot mémoire soit par un nombre (en décimal ou en hexadécimal), soit par une étiquette qui est traduite en  un nombre par l'assembleur avant exécution:\n",
    "\n",
    "- `LDR R0, 100`: charge dans R0 le contenu du mot mémoire situé à l'adresse 100,\n",
    "- `STR R1, 0xf4`: range en mémoire le contenu du registre R1 dans le mot mémoire situé à l'adresse 0xf4, (hex)\n",
    "- `LDR R2, uneEtiquette`: charge dans R2 le contenu du mot mémoire situé à l'adresse étiquetée par `uneEtiquette` dans le code.\n",
    "\n",
    "L'exercice du pendu (chapitre 4) a dû vous faire sentir les limitations de l'adressage direct. Avec ce mode d'adressage, il est impossible de généraliser la plupart des routines: même pour dessiner une simple ligne droite à l'écran, vous êtes obligé d'écrire une instruction pour chaque pixel.\n",
    "\n",
    "À présent, observez attentivement le code ci-dessous (commentaires inclus). Notez en passant que nous passons du mode basse résolution du chapitre précédent au mode moyenne résolution: une grille de 64 x 48 pixels, chaque pixel étant toujours représenté par un mot (4 octets) qui contient une couleur en utilisant 24 bits (8\\*3):\n",
    "\n",
    "```\n",
    "    MOV R1, #.PixelScreen  // adresse du début de la mémoire graphique de résolution moyenne\n",
    "    MOV R2, #.red          \n",
    "    MOV R3, #0             // Notre «compteur» (index) de pixel\n",
    "loop:\n",
    "    ADD R4, R1, R3         // R4 contient l'adresse du pixel courant\n",
    "    STR R2, [R4]           // Colorie le pixel d'adresse R4\n",
    "    ADD R3, R3, #4         // Incrémente notre compteur (4 octets = 1 mot = 1 pixel)\n",
    "    CMP R3, #256           // 64*4=256 qui correspond donc au premier pixel de la deuxième ligne\n",
    "    BLT loop\n",
    "    HALT\n",
    "```"
   ]
  },
  {
   "cell_type": "markdown",
   "metadata": {},
   "source": [
    "L'idée principale et nouvelle se situe dans l'instruction `STR R2, [R4]`. L'utilisation des crochets \\[ *square brackets* \\] précise que la deuxième opérande utilise l'**adressage indirect** ce qui signifie que nous donnons l'adresse **indirectement** (ni un nombre, ni une étiquette) en utilisant dans ce cas le contenu d'un registre (lequel contient l'adresse d'un mot mémoire). "
   ]
  },
  {
   "cell_type": "markdown",
   "metadata": {},
   "source": [
    "`STR R2, [R4]` ne signifie **pas**: «ranger le contenu de R2 dans R4» (ce qui ne serait de toute façon pas possible avec une instruction `STR`). Cela signifie: «ranger le contenu de R2 à l'*adresse mémoire détenue par R4*»."
   ]
  },
  {
   "cell_type": "markdown",
   "metadata": {},
   "source": [
    "Un autre nom pour une adresse indirecte est **pointeur**. Les pointeurs sont utilisées de manière intensive, par exemple dans les implémentations bas niveau de toutes les principales structures de données (tableaux, liste, pile, file, arbre ...)."
   ]
  },
  {
   "cell_type": "markdown",
   "metadata": {},
   "source": [
    "#### Exercice 26\n",
    "\n",
    "Tester le code donné plus haut. Il devrait afficher une ligne rouge à travers la zone d'affichage. Modifier le pour peindre en rouge la 10e ligne et prendre une capture d'écran du résultat.\n",
    "___"
   ]
  },
  {
   "cell_type": "markdown",
   "metadata": {},
   "source": [
    "### Un peu d'histoire - John Von Neumann ..."
   ]
  },
  {
   "cell_type": "markdown",
   "metadata": {},
   "source": [
    "Dans l'exemple précédent, l'adresse indirecte, détenue par R4, est produite sur la base d'une valeur constante dans R1 (l'adresse de départ de la grille de pixels) à laquelle on ajoute un nombre variable (en R3). Nous pourrions dire que la valeur de R1 est l'adresse de **base** et celle de R3 est un **index** variable, ajouté à la base. Dans cette situation, qui est très commune, il existe une syntaxe simplifiée connue sous le nom d'**adressage indexé**, qui (sur l'ARMlite) est une forme spécialisée de l'adressage indirect:\n",
    "\n",
    "```\n",
    "    MOV R1, #.PixelScreen  //adresse du début de la mémoire graphique de résolution moyenne - CONSTANTE\n",
    "    MOV R2, #.red          \n",
    "    MOV R3, #0             //Notre «compteur» ou index\n",
    "loop:\n",
    "    STR R2, [R1+R3]        //Colorie le pixel situé à l'adresse définie par R1+R3\n",
    "    ADD R3, R3, #4         //Incrémente notre compteur (4 octets = 1 mot = 1 pixel)\n",
    "    CMP R3, #256           \n",
    "    BLT loop\n",
    "    HALT\n",
    "```"
   ]
  },
  {
   "cell_type": "markdown",
   "metadata": {},
   "source": [
    "L'adressage indexé permet ici d'éliminer une instruction et le besoin d'un registre supplémentaire (R4 dans la première version). Les crochets autour de R1+R3 sont toujours nécessaires ici - car l'écriture R1+R3 n'est ni un registre ni une valeur connue de l'assembleur au moment de la traduction (avant l'exécution), mais celle d'une adresse indirecte."
   ]
  },
  {
   "cell_type": "markdown",
   "metadata": {},
   "source": [
    "#### Exercice 27\n",
    "\n",
    "Tester cette nouvelle version du code (utilisant l'adressage indexé) et vérifier par vous-même qu'il produit le même effet.\n",
    "\n",
    "Modifiez alors le code de façon à dessiner une ligne verticale verte démarrant au pixel de gauche le plus haut. Souvenez-vous qu'il y a maintenant 64 pixels par ligne (et non 32) et qu'il y a toujours 4 octets (= 1 mot) par pixel. Prendre une capture d'écran montrant le nouveau code et le résultat.\n",
    "\n",
    "Enfin, écire du code de façon à dessiner un rectangle bleu (plein) de 20 pixels de large pour 10 pixels de haut et démarrant au pixel de gauche le plus haut comme précédemment. Vous aurez besoin de deux registres - pour suivre les coordonnées en x et en y  - qu'il faudra combiner dans un troisième (registre) de manière à former l'index à ajouter à la base en R1 pour dessiner chaque pixel. Commenter votre code. Prendre une capture d'écran montrant le nouveau code et le résultat.\n",
    "\n",
    "____"
   ]
  },
  {
   "cell_type": "markdown",
   "metadata": {},
   "source": [
    "L'adressage indexé est le moyen par lequel, un langage de haut niveau (comme Python), implémente les tableaux (ou liste), en permettant la récupération d'un élément arbitraire de celui-ci en temps constant - O(1) - plutôt que dans un temps proportionnel à la taille du tableau - 0(n)."
   ]
  },
  {
   "cell_type": "markdown",
   "metadata": {},
   "source": [
    "## Implémentation du trie bulle en utilisant l'adressage indexé"
   ]
  },
  {
   "cell_type": "markdown",
   "metadata": {},
   "source": [
    "Dans l'exemple qui suit, nous utilisons l'**adressage indexé** afin de trier un tableau de nombres qui forme une suite de données (consécutives) en mémoire. Nous utiliserons l'algorithme du «trie bulle» parce qu'il est simple à écrire et à observer en exécutant le programme lentement. Sachez néanmoins que c'est l'un des algorithmes de trie les moins performants."
   ]
  },
  {
   "cell_type": "markdown",
   "metadata": {},
   "source": [
    "```\n",
    "// Définition et initialisation des registres\n",
    "    MOV R0, #tableau      //base\n",
    "    LDR R1, tailleTableau //taille en mots\n",
    "    LSL R1, R1, #2        //taille en octets (*4) ; l'index du dernier elt du tableau est R1 - 4\n",
    "    MOV R2, #0            //initialisation du compteur de boucleExterne   \n",
    "// R3: index du premier de la paire de boucleInterne\n",
    "// R4: index limite haute de boucleInterne (R3 < R4)\n",
    "// R5: index du second de la paire de boucleInterne\n",
    "// R6: premier de la paire\n",
    "// R7: second de la paire\n",
    "// R8: ?\n",
    "\n",
    "debutDeBoucleExterne: \n",
    "//sert à délimiter le sous-tableau (0-R4) manipulé par boucleInterne\n",
    "    MOV R3, #0 // R3 va parcourir 0,4,...R4\n",
    "    SUB R4, R1, R2\n",
    "    SUB R4, R4, #4 // tailleTableau - 4, tailleTableau - 8, ..., \n",
    "    MOV R8, #0\n",
    "\n",
    "boucleInterne: \n",
    "//récupère deux éléments consécutifs, les compare et les échange si besoin\n",
    "// au final, le plus grand elt du sous-tableau est son dernier elt\n",
    "    LDR R6, [R0+R3]\n",
    "    ADD R5, R3, #4\n",
    "    LDR R7, [R0+R5]\n",
    "    CMP R6, R7\n",
    "    BGT echange\n",
    "    B suiteBoucleInterne\n",
    "\n",
    "echange:\n",
    "    STR R7, [R0+R3]\n",
    "    STR R6, [R0+R5]\n",
    "    MOV R8, #1\n",
    "\n",
    "suiteBoucleInterne:\n",
    "    ADD R3, R3, #4\n",
    "    CMP R3, R4\n",
    "    BLT boucleInterne\n",
    "\n",
    "suiteBoucleExterne:\n",
    "    CMP R8, #0\n",
    "    BEQ fait\n",
    "    ADD R2, R2, #4\n",
    "    CMP R2, R1\n",
    "    BGT fait\n",
    "    B debutDeBoucleExterne\n",
    "\n",
    "fait: HALT\n",
    "\n",
    ".ALIGN 256\n",
    "tailleTableau: 10\n",
    "tableau: //peuplé à la main ...\n",
    "    9\n",
    "    8\n",
    "    7\n",
    "    6\n",
    "    5\n",
    "    4\n",
    "    3\n",
    "    2\n",
    "    1\n",
    "    0\n",
    "```"
   ]
  },
  {
   "cell_type": "markdown",
   "metadata": {},
   "source": [
    "    9 8 7 ... 1 0  -> 8 9 7 ... 1 0 ->  8 7 9 ... 1 0 -> ... -> 8 7 6 ... 9 0 -> 8 7 6 ... 0 9   \n",
    "    ↑ ↑          |      ↑ ↑        |        ↑ ↑      |                    ↑ ↑|   ↑ ↑        | \n",
    "    \n",
    "    -> ... -> 7 6 5 ... 8 9 -> ... -> 1 0 2 ... 8 9 -> 0 1 2 ... 8 9 (trié)\n",
    "              ↑ ↑      |              ↑ ↑| "
   ]
  },
  {
   "cell_type": "markdown",
   "metadata": {},
   "source": [
    "#### Exercice 28\n",
    "\n",
    "Soumettre le programme à l'ARMlite sans le faire tourner. Inspecter les données en mémoire à partir de l'adresse 0x00100. Faites ensuite tourner le programme et inspecter à nouveau les données: elles ont été triées dans l'ordre croissant de leur valeur.\n",
    "\n",
    "À présent, modifier les données du tableau en utilisant des nombres aléatoires à plusieurs chiffres décimaux. En ajouter quelques-unes à la fin tout en ajustant la valeur de `tailleTableau`.\n",
    "\n",
    "Soumettre votre programme et prendre des captures d'écran partielles montrant le tableau en mémoire avant exécution et après.\n",
    "\n",
    "Dans la partie `// Définition et initialisation des registres` vous verrez `R8: ?`. Votre mission est d'identifier le rôle et la signification de ce registre.\n",
    "\n",
    "Commencer par relever toutes les lignes de code où R8 est référencé. Ensuite, suivre son évolution, soit sur papier, soit en faisant tourner le programme lentement et/ou en mode pas à pas, afin de comprendre le rôle de ce registre. Trouver alors l'avantage que son utilisation confère à l'algorithme."
   ]
  },
  {
   "cell_type": "markdown",
   "metadata": {},
   "source": [
    "## Implémentation de la recherche dichotomique \\[ *binary search* \\] en utilisant l'adressage indirect"
   ]
  },
  {
   "cell_type": "markdown",
   "metadata": {},
   "source": [
    "Voici, «tout de go», l'implémentation de cet algorithme en utilisant l'**adressage indirect**:"
   ]
  },
  {
   "cell_type": "markdown",
   "metadata": {},
   "source": [
    "```\n",
    "// Rôle des registres\n",
    "  //R0: valeur cible\n",
    "  //R1: pointeur borne basse\n",
    "  //R2: pointeur milieu\n",
    "  //R3: pointeur borne haute\n",
    "  //R4: valeur temporaire\n",
    "  //R5: utiliser pour afficher les messages\n",
    "\n",
    "debut:\n",
    "    MOV R1, #premier\n",
    "    MOV R3, #dernier\n",
    "    MOV R5, #msg1\n",
    "    STR R5, .WriteString\n",
    "    LDR R0, .InputNum\n",
    "    STR R0, .WriteUnsignedNum\n",
    "\n",
    "boucle:\n",
    "    ADD R2, R1, R3\n",
    "    LSR R2, R2, #3 // Diviser par 8\n",
    "    LSL R2, R2, #2 // puis multiplier par 4. Au final, on a divisé par 2 en s'assurant que l'adresse est un mutiple de 4.\n",
    "    LDR R4, [R2]   // récupérer la valeur du milieu\n",
    "    CMP R0, R4     // comparaison avec la valeur cible\n",
    "    BEQ trouve\n",
    "    BLT sousMilieu\n",
    "    // on doit être au dessus du milieu ici\n",
    "    MOV R1, R2\n",
    "    ADD R1, R1, #4 //modification de la borne basse\n",
    "    B verifSuperposition\n",
    "    \n",
    "sousMilieu:\n",
    "    MOV R3, R2\n",
    "    SUB R3, R3, #4\n",
    "    B verifSuperposition\n",
    "\n",
    "verifSuperposition:\n",
    "    CMP R1, R3\n",
    "    BGT pasTrouve\n",
    "    B boucle\n",
    "\n",
    "pasTrouve:\n",
    "    MOV R5, #msg3\n",
    "    STR R5, .WriteString\n",
    "    B debut\n",
    "\n",
    "trouve:\n",
    "    MOV R5, #msg2\n",
    "    STR R5, .WriteString\n",
    "    STR R2, .WriteHex\n",
    "    B debut\n",
    "\n",
    "msg1: .ASCIZ \"\\nRecherche de ?\"\n",
    "msg2: .ASCIZ \"\\na pour adresse en mémoire: \"\n",
    "msg3: .ASCIZ \"\\nJe ne l'ai pas trouve!\"\n",
    "\n",
    ".ALIGN 256\n",
    "premier: 3\n",
    "    6\n",
    "    7\n",
    "    15\n",
    "    22\n",
    "    24\n",
    "    31\n",
    "    50\n",
    "    79\n",
    "dernier: 94\n",
    "```"
   ]
  },
  {
   "cell_type": "markdown",
   "metadata": {},
   "source": [
    "#### Exercice 29\n",
    "\n",
    "Faites tourner ce programme puis réaliser une copie d'écran qui montre une recherche fructueuse en mettant en valeur le mot mémoire dont l'adresse est fournie en retour.\n",
    "\n",
    "Montrer ensuite le résultat d'une recherche qui n'aboutit pas c'est-à-dire dont le nombre cible ne figure pas parmi les nombres du tableau.\n",
    "\n",
    "Quelle hypothèse fait l'algorithme de recherche dichotomique à propos des données parmi lesquelles il effectue sa recherche?"
   ]
  }
 ],
 "metadata": {
  "kernelspec": {
   "display_name": "Python 3",
   "language": "python",
   "name": "python3"
  },
  "language_info": {
   "codemirror_mode": {
    "name": "ipython",
    "version": 3
   },
   "file_extension": ".py",
   "mimetype": "text/x-python",
   "name": "python",
   "nbconvert_exporter": "python",
   "pygments_lexer": "ipython3",
   "version": "3.6.8"
  }
 },
 "nbformat": 4,
 "nbformat_minor": 4
}
