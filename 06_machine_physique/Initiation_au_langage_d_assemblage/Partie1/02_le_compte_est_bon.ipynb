{
 "cells": [
  {
   "cell_type": "markdown",
   "metadata": {},
   "source": [
    "# Jeu le «compte est bon»"
   ]
  },
  {
   "cell_type": "markdown",
   "metadata": {},
   "source": [
    "Au fil de notre apprentissage, nous écrirons une série de jeux en assembleur. Toutefois, dans ce chapitre, nous apprendrons *comment jouer* à un jeu qui implique d'écrire du code en assembleur. Le jeu est une variante du «*Countdown Numbers Game*» que vous avez pu rencontrer à la télévision (des chiffres et des lettres) ou dans votre cours de maths."
   ]
  },
  {
   "cell_type": "markdown",
   "metadata": {},
   "source": [
    "Étant donné une série de *nombres de départ* et un ensemble d'*opérations*, vous devez écrire un court programme en assembleur qui produit un *nombre cible* (ou un nombre le plus proche possible). Ne soyez pas inquiet, nous allons voir comment écrire un tel programme et les opération spécifiques avant que vous ne jouiez au jeu."
   ]
  },
  {
   "cell_type": "markdown",
   "metadata": {},
   "source": [
    "## Ajouter, soustraire"
   ]
  },
  {
   "cell_type": "markdown",
   "metadata": {},
   "source": [
    "Nous commencerons en utilisant simplement des additions et des soustractions. Nos nombres initiaux sont 100, 25, 8, 7, 3 et 1 et notre cible est 84. On trouve facilement que 1+8+100-25=84. Voilà une façon de coder cela en assembleur:"
   ]
  },
  {
   "cell_type": "markdown",
   "metadata": {},
   "source": [
    "```\n",
    "MOV R0,#1\n",
    "ADD R1,R0,#8\n",
    "ADD R2,R1,#100\n",
    "SUB R3,R2,#25\n",
    "HALT\n",
    "```"
   ]
  },
  {
   "cell_type": "markdown",
   "metadata": {},
   "source": [
    "Ce programme consiste en une séquence de cinq instructions, une par ligne. Chaque instruction désigne une opération, montrée ici dans sa forme «mnémonique» (normalement une abréviation de la description de l'instruction). Vous avez probablement deviné que `ADD` et `SUB` désignent les opérations d'addition et de soustraction de valeurs, et que `HALT` permet de suspendre l'exécution du programme. `MOV` est l'opération qui consiste à déplacer \\[ *to move* \\] une valeur (plus précisément copier et déplacer)."
   ]
  },
  {
   "cell_type": "markdown",
   "metadata": {},
   "source": [
    "Chaque opération, mise à part `HALT`, est suivie d'au plus trois **opérandes**, lesquelles précisent à quoi sont appliquées les opérations dans chaque cas. Lorsqu'il y a plus d'une opérande, elles doivent être séparées par une virgule \\[ *comma* \\]."
   ]
  },
  {
   "cell_type": "markdown",
   "metadata": {},
   "source": [
    "La dernière opérande des quatres premières instructions est l'un de nos nombres initiaux: 1, 8, 100 et 25; dans chaque cas précédé par le symbole `#` (prononcer *hash* et non hashtag). En assembleur, on parle de **valeur immédiate** - ce qui veut dire qu'elles sont écrites directement dans le code du programme."
   ]
  },
  {
   "cell_type": "markdown",
   "metadata": {},
   "source": [
    "Les autres opérandes - `R0`, `R1`, `R2` et `R3` - précisent les registres utilisés pour porter \\[ *handle* \\] les valeurs initaliales, les calculs intermédiaires et le résultat. Les registres sont la forme la plus rapide de mémoire et leur contenu peut être manipulé directement. Dans ce chapitre, tous les calculs peuvent être effectués en utilisant seulement les 13 registres généraux (`R0` jusqu'à `R12`). Plus tard, vous apprendrez comment gérer un nombre de données qui excède la capacité des registres et qui doivent être persistées (sauvegardées) dans la mémoire principale. En fait, vous verrez que la plupart des instructions en assembleur servent à charger \\[ *loading* \\] dans les registres des valeurs situées en mémoire, manipuler ces valeurs dans les registres et, si nécessaire, ranger \\[ *storing* \\] les valeurs à nouveau en mémoire. Vous verrez que les entrées/sorties \\[ *input/output* \\] sont gérées d'une façon similaire."
   ]
  },
  {
   "cell_type": "markdown",
   "metadata": {},
   "source": [
    "#### Exercice 6\n",
    "\n",
    "Régler l'ARMlite pour qu'il affiche les données dans le format **Decimal (unsigned)**. Cela rendra les choses plus faciles au début parce que notre jeu fonctionnera initialement avec des nombres décimaux.\n",
    "\n",
    "Sélectionner **Edit** et copier/coller les 5 lignes de code assembleur qui suivent:\n",
    "\n",
    "```\n",
    "MOV R0,#1\n",
    "ADD R1,R0,#8\n",
    "ADD R2,R1,#100\n",
    "SUB R3,R2,#25\n",
    "HALT\n",
    "```\n",
    "\n",
    "Cliquer sur **Submit**, puis faites tourner le programme jusqu'à ce qu'il bloque (presque immédiatement). Faites une capture d'écran qui montre juste la valeur du registre `R3`.\n",
    "\n",
    "Note: Lorsque le programme stoppe, si vous voulez le faire tourner à nouveau, vous devez cliquer sur le bouton **Stop** avant de cliquer sur le bouton **Play**. Qu'est-ce qu'il se passe si, lorsqu'il est à l'arrêt sur HALT, vous cliquez sur **Play** *avant* d'avoir cliquer sur **Stop**?\n",
    "____"
   ]
  },
  {
   "cell_type": "markdown",
   "metadata": {},
   "source": [
    "Regardons à présent les instructions en détails:"
   ]
  },
  {
   "cell_type": "markdown",
   "metadata": {},
   "source": [
    "| Instructions      | Signification                                                                                                                                          |\n",
    "|------------------|--------------------------------------------------------------------------------------------------------------------------------------------------------|\n",
    "| `Mov R0,#1`      | Placer la valeur immédiate 1 dans le registre `R0`                                                                                                     |\n",
    "| `ADD R1,R0,#8`   | Ajouter 8 à la valeur du registre `R0` et placer le résultat dans `R1`<br/> Noter que `R1` est appelé **registre destination** pour cette instruction. |\n",
    "| `ADD R2,R1,#100` | Ajouter 100 à la valeur du registre `R1` et placer le résultat dans `R2`                                                                               |\n",
    "| `SUB R3,R2,#25`  | Soustraire 25 à la valeur de `R2` (R2-25) et placer le résultat dans `R3`                                                                              |\n",
    "| `HALT`           | Suspendre (temporairement) l'exécution du programme.                                                                                                   |"
   ]
  },
  {
   "cell_type": "markdown",
   "metadata": {},
   "source": [
    "#### Exercice 7"
   ]
  },
  {
   "cell_type": "markdown",
   "metadata": {},
   "source": [
    "Si nécessaire, stopper le programme et, cette fois-ci, utiliser le bouton **Step** (flèche creuse suivie d'une barre verticale) pour exécuter une instruction à la fois. Remarquez qu'à chaque étape, la valeur d'un seul registre change.\n",
    "\n",
    "Remarquer aussi que le «surlignage» orange bouge d'une instruction à une autre et, simultanément, d'un mot de code machine à un autre dans la mémoire.\n",
    "\n",
    "En regardant attentivement toutes ces indications, pensez-vous que le code surligné correspond à l'instruction à exécuter à la prochaîne étape ou à celle qui vient juste d'être exécutée?\n",
    "___"
   ]
  },
  {
   "cell_type": "markdown",
   "metadata": {},
   "source": [
    "Dans notre exemple, nous utilisons un registre différent pour mémoriser chaque résultat intermédiaire du calcul. Cela n'est pas essentiel, nous aurions tout aussi bien pu faire ce calcul en n'utilisant qu'un registre:\n",
    "\n",
    "    MOV R0,#1\n",
    "    ADD R0,R0,#8\n",
    "    ADD R0,R0,#100\n",
    "    SUB R0,R0,#25\n",
    "    HALT"
   ]
  },
  {
   "cell_type": "markdown",
   "metadata": {},
   "source": [
    "Dans l'exemple précédent, la dernière opérande pour les instructions `MOV`, `ADD` et `SUB` a toujours été une *valeur immédiate* (préfixé par `#`). Cette opérande peut aussi être spécifiée en utilisant un registre, par exemple:\n",
    "\n",
    "| Instructions      | Signification                                                                                                                                          |\n",
    "|------------------|--------------------------------------------------------------------------------------------------------------------------------------------------------|\n",
    "| `ADD R3,R2,R1`      | Ajouter les valeurs des registre `R2` et `R1`, et placer le résultat dans le registre `R3`                                                                                                     |\n",
    "| `ADD R4,#1,#2`   | **Syntaxe invalide** - seul le *dernier* opérande peut être une valeur immédiate! |\n"
   ]
  },
  {
   "cell_type": "markdown",
   "metadata": {},
   "source": [
    "## Multiplier et diviser?"
   ]
  },
  {
   "cell_type": "markdown",
   "metadata": {},
   "source": [
    "Le jeu du «bon compte» risque d'être peu motivant si nous sommes restreint à faire des additions ou des soustractions. L'ARMLite n'offre aucun moyen pour réaliser une multiplication ou une division en une seule instruction. Nous aurions besoin de créer notre propre *routine* pour réaliser cela (nous en réaliserons une plus tard)."
   ]
  },
  {
   "cell_type": "markdown",
   "metadata": {},
   "source": [
    "Cependant, il y a plusieurs autres opérations élémentaires que nous pouvons utiliser pour ce jeu et qui le rendront plus spécifique à la science informatique, et aussi plus motivant - parce qu'elles vont nous obliger à penser simultanément en décimal et en binaire (ou en hexadécimal)."
   ]
  },
  {
   "cell_type": "markdown",
   "metadata": {},
   "source": [
    "### Histoire - Multiplicateurs cablés\n",
    "\n",
    "à l'aube de l'informatique, la plupart des ordinateur disposaient de dispositifs matériels spécifiques pour effectuer des multiplications (et certain des divisions). Cela s'explique par le fait que les premiers ordinateurs étaient principalement utilisés pour réaliser des calculs mathématiques complexes.\n",
    "\n",
    "Néanmoins, avec l'apparition des microprocesseurs sur une puce \\[ *single chip microprocessors* \\], ces dispositifs matériels furent déplacés du matériel \\[ *hardware* \\] vers le logiciel \\[ *software* \\], sous la forme de sous-routines réutilisables basées sur l'addition, la soustraction et d'autres opérations au niveau bit.\n",
    "\n",
    "Depuis ce temps, la taille et la puissance des microprocesseurs n'a cessé d'augmenter de manière significative de sorte que la plupart des processeurs modernes disposent de circuits dédiés pour ces opérations (aussi bien sur des entiers que sur des nombres à virgule flottante). Ces circuit peuvent être directement intégrés à la puce ou bien être fournis sous la forme d'un *co-processeur* spécialisé dans les opérations mathématiques.\n",
    "___"
   ]
  },
  {
   "cell_type": "markdown",
   "metadata": {},
   "source": [
    "## Opérations bit-à-bit \\[ *bit-wise op.* \\]"
   ]
  },
  {
   "cell_type": "markdown",
   "metadata": {},
   "source": [
    "On les qualifie d'**opérations bit-à-bit** parce qu'elles manipulent les bits de façon individiduel dans les opérandes. Elles sont plus facile à comprendre en regardant le motif binaire des valeurs."
   ]
  },
  {
   "cell_type": "markdown",
   "metadata": {},
   "source": [
    "### ET, OU, OU BIEN"
   ]
  },
  {
   "cell_type": "markdown",
   "metadata": {},
   "source": [
    "Voici un bref rappel des opérateurs logiques ET \\[ *AND* \\], OU \\[ *OR* \\], OU_EXCLUSIF \\[ *XOR* \\] sur **un bit**:\n",
    "\n",
    "|a | b | a AND b | a OR b | a XOR b|\n",
    "|:-:|:-:|:-------:|:------:|:------:|\n",
    "|0 | 0 |    0    |    0   |   0|\n",
    "|0 | 1 |    0    |    1   |   1|\n",
    "|1 | 0 |    0    |    1   |   1|\n",
    "|1 | 1 |    1    |    1   |   0|"
   ]
  },
  {
   "cell_type": "markdown",
   "metadata": {},
   "source": [
    "Par exemple, 1 AND 0 = 0; 1 XOR 0 = 1 etc."
   ]
  },
  {
   "cell_type": "markdown",
   "metadata": {},
   "source": [
    "On *étend* ces opérations à des mots binaires en appliquant l'opération sur les bits de même position; on parle alors d'**opérations bit-à-bit**.\n",
    "\n",
    "Voici un exemple (les bits de même position sont dans la même colonne):\n",
    "\n",
    "           ET                OU           OU EXCLUSIF\n",
    "         10101010          10101010           10101010\n",
    "    AND  00111000      OR  00111000      XOR  00111000\n",
    "    -------------      ------------      -------------  \n",
    "    =    00101000      =   10111010      =    10010010"
   ]
  },
  {
   "cell_type": "markdown",
   "metadata": {},
   "source": [
    "Les instructions correspondantes pour l'assembleur de l'ARMlite sont `AND` (ET), `ORR` (OU), `EOR` (Exclusive OR).\n",
    "\n",
    "Elles attendent toutes *trois opérandes*: la première est le *registre destination*, les deux dernières sont les registres qui contiennent les valeurs sur lesquelles porte l'opération (seul la dernière opérande peut être une *valeur immédiate*). L'exemple précédent correspond à:\n",
    "\n",
    "    MOV R1, #0b10101010\n",
    "    MOV R2, #0b111000\n",
    "    AND R3, R1, R2\n",
    "    ORR R4, R1, R2\n",
    "    EOR R5, R1, R2\n",
    "    HALT"
   ]
  },
  {
   "cell_type": "markdown",
   "metadata": {},
   "source": [
    "| Syntaxe | commentaire |\n",
    "|:-------:|-------------|\n",
    "| `AND Rd, V1, V2`| **ET bit-à-bit** sur les valeurs contenues dans les registres *V1* et *V2*.<br/> le résultat est placé dans le registre destination `Rd`;<br/> *V2* peut être une valeur immédiate.|\n",
    "| `ORR Rd, V1, V2`| Similaire pour un **OU bit-à-bit**,|\n",
    "| `EOR Rd, V1, V2`| Similaire pour un **OU Exclusif**.|"
   ]
  },
  {
   "cell_type": "markdown",
   "metadata": {},
   "source": [
    "### Décalages logiques"
   ]
  },
  {
   "cell_type": "markdown",
   "metadata": {},
   "source": [
    "Parmi les opérations bit-à-bit, on trouve aussi les décalages «logiques» \\[ *Logical Shift* \\] vers la gauche \\[ *Left* \\] ou vers la droite \\[ *Right* \\]:\n",
    "\n",
    "Voici des exemples pour un mot d'un octet:\n",
    "\n",
    "    décalage gauche    décalage droite      bit perdu!\n",
    "         00101000          00101000           00101000\n",
    "    LSL         1      LSR        2      LSL         3\n",
    "    -------------      ------------      -------------  \n",
    "    =    01010000      =   00001010      =    01000000"
   ]
  },
  {
   "cell_type": "markdown",
   "metadata": {},
   "source": [
    "Les instructions correspondantes, `LSL` et `LSR`, prennent trois *opérandes*: \n",
    "- le registre destination (où sera placé le résultat),\n",
    "- le registre contenant le mot à décaler,\n",
    "- le registre ou la valeur immédiate indiquant le nombre de position du décalage."
   ]
  },
  {
   "cell_type": "markdown",
   "metadata": {},
   "source": [
    "L'exemple donné se traduit par:\n",
    "\n",
    "    MOV R1, #0b101000\n",
    "    LSL R2, R1, #1\n",
    "    LSR R3, R1, #2\n",
    "    LSL R4, R1, #3\n",
    "    HALT"
   ]
  },
  {
   "cell_type": "markdown",
   "metadata": {},
   "source": [
    "*Note*: comme les mots de l'ARMlite font 32 bits (et non 8), on ne perd aucun bit dans le dernier décalage. "
   ]
  },
  {
   "cell_type": "markdown",
   "metadata": {},
   "source": [
    "| Syntaxe | commentaire |\n",
    "|:-------:|-------------|\n",
    "| `LSL Rd, V, D`| *Logical Shift Left*. **Décalage logique** de chaque bit de la valeur contenu dans le registre *V* de *D* positions vers la **gauche**.<br/> Le résultat est placé dans le registre destination `Rd`.\n",
    "| `LSR Rd, V, D`| *Logical Shift Right*. Similaire mais vers la **droite**.|"
   ]
  },
  {
   "cell_type": "markdown",
   "metadata": {},
   "source": [
    "#### Exercice 8"
   ]
  },
  {
   "cell_type": "markdown",
   "metadata": {},
   "source": [
    "Écrire votre propre programme, qui débute par un `MOV` (comme dans l'exemple précédent) suivi par 5 instructions, chacune utilisant l'une de celles qui vient d'être décrite (une fois seulement) - sans oublier un HALT à la fin.\n",
    "\n",
    "*Note*: prenez des valeurs immédiates inférieures à 100 (décimal). De plus, en utilisant `LSL`, ne décaler pas de plus de, disons, #8 positions; autrement vous risquez de voir des valeurs négatives apparaître ce qui risque de vous embrouiller à ce point.\n",
    "\n",
    "Vous pouvez utiliser un registre destination différent pour chaque instruction, ou vous pouvez décider de n'en utiliser qu'un comme `R0` à la fois comme source et comme destination dans chaque cas; les deux façons de faire fonctionnent.\n",
    "\n",
    "Faites tourner votre programme en mode pas à pas tout en complétant le tableau ci-dessous. Vous pouvez le faire en utilisant la tooltip ou en modifiant l'affichage pour le faire passer de Decimal (unsigned) à **Binary**. Il n'est pas nécessaire d'inclure les zéros du début ou le préfixe `0b` dans vos réponses.\n",
    "\n",
    "Décrire l'effet sur un nombre décimal de l'opération «décalage logique à gauche» `LSL` d'une position, de deux position... Faites la même chose avec le décalage à droite `LSR`."
   ]
  },
  {
   "cell_type": "markdown",
   "metadata": {},
   "source": [
    "| Instructions |  Valeur décimale du registre destination<br/> après exécution de cette instruction | Valeur binaire du registre destination<br/> après exécution de cette instruction |\n",
    "|:--:|:--:|:--:|\n",
    "| `MOV R0, ...` | ... |  ... | \n",
    "|    ...        | ... |  ... |\n",
    "|    ...        | ... |  ... |\n",
    "|    ...        | ... |  ... |\n",
    "|    ...        | ... |  ... |\n",
    "|    ...        | ... |  ... |\n",
    "| `HALT`        | ... |  ... |\n",
    "\n",
    "____"
   ]
  },
  {
   "cell_type": "markdown",
   "metadata": {},
   "source": [
    "## Jouons!"
   ]
  },
  {
   "cell_type": "markdown",
   "metadata": {},
   "source": [
    "Vous être prêt à jouer le jeu. Souvenez vous de ces **règles**:\n",
    "- Pas besoin d'utiliser tous les nombres initiaux, mais chacun ne peut être utilisé qu'une fois comme valeur immédiate.\n",
    "- Vous pouvez utiliser autant de registre que vous le souhaitez, mais chaque registre ne peut servir qu'une fois comme registre destination puis comme registre source.\n",
    "- Vous n'avez le droit qu'aux opérations vues dans ce chapitre.\n",
    "- Le résultat doit être visible dans un registre et doit être correct comme nombre décimal. Par exemple, la réponse binaire `0b...101` (5 en décimal) n'est pas valable pour le décimal `101`!"
   ]
  },
  {
   "cell_type": "markdown",
   "metadata": {},
   "source": [
    "*Indication*: Commencer par trouver le motif binaire de chaque nombre - vous pouvez vérifier avec [ce convertisseur par exemple](http://sebastienguillon.com/test/javascript/convertisseur.html). Il peut aussi être utile d'écrire en commentaire le résultat décimal qui va dans le registre destination pour chaque instruction."
   ]
  },
  {
   "cell_type": "markdown",
   "metadata": {},
   "source": [
    "#### Exercice 9\n",
    "\n",
    "Les nombres initiaux sont: 12, 11, 7, 5, 3 et 2 et votre cible est 79.\n",
    "\n",
    "Coller une capture d'écran montrant votre programme et le résultat dans un registre.\n",
    "___"
   ]
  },
  {
   "cell_type": "markdown",
   "metadata": {},
   "source": [
    "#### Exercice 10\n",
    "\n",
    "Les nombres initiaux sont: 99, 77, 33, 31, 14 et 12 et votre cible est: 32\n",
    "\n",
    "Coller une capture d'écran montrant votre programme et le résultat dans un registre.\n",
    "___"
   ]
  },
  {
   "cell_type": "markdown",
   "metadata": {},
   "source": [
    "#### Exercice 11\n",
    "\n",
    "Les nombres initiaux sont: 30, 13, 7, 5, 2 et 1 et votre cible est: 390\n",
    "\n",
    "Coller une capture d'écran montrant votre programme et le résultat dans un registre.\n",
    "___"
   ]
  },
  {
   "cell_type": "markdown",
   "metadata": {},
   "source": [
    "## Nombres négatifs"
   ]
  },
  {
   "cell_type": "markdown",
   "metadata": {},
   "source": [
    "#### Exercice 12"
   ]
  },
  {
   "cell_type": "markdown",
   "metadata": {},
   "source": [
    "Régler l'ARMLite pour afficher les données dans le format **Decimal (signed)**.\n",
    "\n",
    "Puis, faites tourner ce simple programme et faites une capture d'écran du résultat montré dans `R1`.\n",
    "\n",
    "    MOV R0,#9999\n",
    "    LSL R1,R0,#18\n",
    "    HALT\n",
    "___"
   ]
  },
  {
   "cell_type": "markdown",
   "metadata": {},
   "source": [
    "Pourquoi le résultat apparaît comme un entier décimal *négatif* et sans relation évidente (en décimal) avec 9999?\n",
    "\n",
    "En utilisant la tooltip, vous verrez que les représentations binaires de `R0` et `R1` sont:\n",
    "\n",
    "    R0 - 0b00000000000000000010011100001111\n",
    "    \n",
    "    R1 - 0b10011100001111000000000000000000"
   ]
  },
  {
   "cell_type": "markdown",
   "metadata": {},
   "source": [
    "Le processeur a décalé la valeur binaire de `R0` de 18 bits vers la gauche pour produire la valeur de `R1` comme il fallait s'y attendre.\n",
    "\n",
    "En réglant le format d'affichage à **Decimal (signed)**, nous demandons à l'ARMlite d'afficher la valeur décimale *signée* de tous les mots en appliquant à leur motif binaire la *méthode du complément à 2* sur 32 bits.\n",
    "\n",
    "Tout mot dont le bit de poid lourd (le plus à gauche) est 1 correspondra à un entier négatif si il interprété selon la méthode du complément à 2 pour 32 bits. Mais il ne faut pas croire que le bit de poid lourd serait un bit de signe dans une représentation «signe+valeur absolue». Sa valeur est en fait $-2^{31}$ tandis que les 31 bits qui le suivent de gauche à droite représentent $+2^{30}$, $+2^{29}$, ..., $+2^{0}$."
   ]
  },
  {
   "cell_type": "markdown",
   "metadata": {},
   "source": [
    "#### Exercice 13"
   ]
  },
  {
   "cell_type": "markdown",
   "metadata": {},
   "source": [
    "Régler le format d'affichage de l'ARMLite en **Binary**.\n",
    "\n",
    "Vous ne pouvez pas éditer directement la valeur des registres, mais vous pouvez le faire pour les mots de la mémoire. Cliquer sur le mot en haut à gauche (adresse 0x00000) et saisir les valeurs qui suivent; elles seront interprétées en décimal et traduit en motif binaire selon la méthode du complément à 2 que vous pourrez copier en retour pour fournir votre réponse.\n",
    "\n",
    "Quelle est la représentation binaire de chacun de ces nombres entiers decimaux signés:\n",
    "\n",
    "     1\n",
    "    -1\n",
    "     2\n",
    "    -2\n",
    "\n",
    "Essayez de trouver la règle général avant de lire la suite.\n",
    "\n",
    "___"
   ]
  },
  {
   "cell_type": "markdown",
   "metadata": {},
   "source": [
    "La règle est la suivante. Pour obtenir la version négative d'un nombre:\n",
    "- inverser chaque bit,\n",
    "- ajouter 1 à la fin."
   ]
  },
  {
   "cell_type": "markdown",
   "metadata": {},
   "source": [
    "Nous pouvons le simuler en introduisant une nouvelle opération `MVN`, qui abrège \\[ *Move NOT* \\]. Elle fonctionne comme `MOV` à cela près que chaque bit de la deuxième opérande (que ce soit une valeur immédiate ou celle d'un registre) subit l'opération logique NON \\[ *NOT* \\] avant d'être transféré dans le registre destination.\n",
    "\n",
    "Dans le code qui suit, la 2e et 3e instructions implémentent (réalisent) la règle de conversion indiquée plus tôt:\n",
    "\n",
    "    MOV R0, #27\n",
    "    MVN R1, R0\n",
    "    ADD R2, R1, #1\n",
    "    HALT\n",
    "    \n",
    "*Note*: on aurait pu écrire plus directement `MVN R1, #27`."
   ]
  },
  {
   "cell_type": "markdown",
   "metadata": {},
   "source": [
    "#### Exercice 13 (suite)\n",
    "\n",
    "Repasser dans le format **Decimal (signed)**.\n",
    "\n",
    "Vérifier par vous-même que `R2` contient au final -27 lorsqu'on le représente comme un entier signé.\n",
    "____"
   ]
  },
  {
   "cell_type": "markdown",
   "metadata": {},
   "source": [
    "Vous pouvez inverser cette transformation en commençant par soustraire 1 puis en inversant tous les bits. De manière surprenante, on obtiendrait le même résultat qu'en appliquant la transformation d'origine à nouveau:\n",
    "\n",
    "    MOV R0, #27\n",
    "    MVN R1,R0\n",
    "    ADD R2,R1,#1\n",
    "    MVN R3,R2\n",
    "    ADD R4,R3,#1\n",
    "    HALT"
   ]
  },
  {
   "cell_type": "markdown",
   "metadata": {},
   "source": [
    "Vérifier par vous-même qu'en appliquant deux fois la même transformation vous récupérez la valeur initial de 27 (dans `R4`)."
   ]
  },
  {
   "cell_type": "markdown",
   "metadata": {},
   "source": [
    "À première vue, cette transformation en deux étapes semble plutôt arbitraire, pourtant elle fonctionne. Cela signifie que le processeur peut ajouter et soustraire des nombres sans avoir à se soucier du fait qu'ils soient positif ou négatif."
   ]
  },
  {
   "cell_type": "markdown",
   "metadata": {},
   "source": [
    "#### Exercice14\n",
    "\n",
    "Faites tourner ce programme:\n",
    "\n",
    "    MOV R0,#27\n",
    "    MOV R1,#-5\n",
    "    ADD R2,R0,R1\n",
    "    HALT\n",
    "\n",
    "Vérifier par vous-même qu'ajouter -5 à 27 produit le même résultat que de soustraire 5 à 27.\n",
    "\n",
    "Que se passe-t-il si on ajoute -49 à 27?\n",
    "\n",
    "___"
   ]
  }
 ],
 "metadata": {
  "kernelspec": {
   "display_name": "Python 3",
   "language": "python",
   "name": "python3"
  },
  "language_info": {
   "codemirror_mode": {
    "name": "ipython",
    "version": 3
   },
   "file_extension": ".py",
   "mimetype": "text/x-python",
   "name": "python",
   "nbconvert_exporter": "python",
   "pygments_lexer": "ipython3",
   "version": "3.6.8"
  },
  "toc-autonumbering": false,
  "toc-showcode": false,
  "toc-showmarkdowntxt": false,
  "toc-showtags": false
 },
 "nbformat": 4,
 "nbformat_minor": 4
}
