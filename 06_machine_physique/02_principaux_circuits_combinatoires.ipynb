{
 "cells": [
  {
   "cell_type": "markdown",
   "metadata": {},
   "source": [
    "# Principaux circuits combinatoires"
   ]
  },
  {
   "cell_type": "markdown",
   "metadata": {},
   "source": [
    "[Vidéo d'aide sur cette partie - n'est utile qu'après une première lecture...](https://vimeo.com/415196263)"
   ]
  },
  {
   "cell_type": "markdown",
   "metadata": {},
   "source": [
    "On parle de **circuit combinatoire** lorsque la (ou les) sortie(s) du circuit *ne dépendent que de ses valeurs d'entrées*.\n",
    "\n",
    "En effet, il existe aussi des **circuits séquentiels**: leurs sorties dépendent des valeurs d'entrées «courantes» *et aussi* de l'état dans lequel se trouve le circuit suites aux entrées «passées»; ces circuits présentent des propriétés de *mémorisation*.\n",
    "\n",
    "Ici, nous ne parlerons *que des circuits combinatoires*."
   ]
  },
  {
   "cell_type": "markdown",
   "metadata": {
    "toc-hr-collapsed": false
   },
   "source": [
    "## L'additionneur"
   ]
  },
  {
   "cell_type": "markdown",
   "metadata": {},
   "source": [
    "*Rappel de l'addition binaire sur un exemple*: soit à ajouter les nombres entiers codés en binaires 1110 et 1011:\n",
    "\n",
    "    Retenus  111\n",
    "            ------\n",
    "    1er nb    1110                             14\n",
    "    2e nb   + 1011    même calcul en décimal + 11\n",
    "            ------                           ----\n",
    "    somme    11001                             25\n",
    "\n"
   ]
  },
  {
   "cell_type": "markdown",
   "metadata": {
    "toc-hr-collapsed": false
   },
   "source": [
    "### Demi-additionneur"
   ]
  },
  {
   "cell_type": "markdown",
   "metadata": {},
   "source": [
    "Dans l'addition bit à bit, si il n'y a pas de retenue, on a les quatre cas suivants:\n",
    "\n",
    "       0       0      1      1     \n",
    "     + 0     + 1    + 0    + 1\n",
    "     ---     ---    ---    ---\n",
    "       0       1      1     10\n",
    "\n",
    "Le quatrième cas produit 0 et un bit de retenu \\[ *carry bit* \\] à 1. On peut facilement vérifier que le circuit ci-dessous - appelé *demi-additionneur* - réalise cette addition:"
   ]
  },
  {
   "cell_type": "code",
   "execution_count": null,
   "metadata": {},
   "outputs": [],
   "source": [
    "%%HTML\n",
    "\n",
    "<iframe width=\"600px\" height=\"400px\" src=\"https://circuitverse.org/simulator/embed/83705\" id=\"projectPreview\" scrolling=\"no\" webkitAllowFullScreen mozAllowFullScreen allowFullScreen></iframe>"
   ]
  },
  {
   "cell_type": "markdown",
   "metadata": {},
   "source": [
    "*Note*: ce circuit utilise une porte XOR pour minimiser le nombre de portes."
   ]
  },
  {
   "cell_type": "markdown",
   "metadata": {},
   "source": [
    "#### Exercice 1\n",
    "\n",
    "Compléter la table de vérité de ce circuit: $$\\begin{array}{cc|cc}\n",
    "A&B&S&R\\cr\\hline\n",
    "0&0&\\dots &\\dots\\cr\n",
    "0&1&\\dots &\\dots \\cr\n",
    "1&0&\\dots &\\dots \\cr\n",
    "1&1&\\dots &\\dots \n",
    "\\end{array}$$\n",
    "___"
   ]
  },
  {
   "cell_type": "markdown",
   "metadata": {
    "jupyter": {
     "source_hidden": true
    }
   },
   "source": [
    "$$\\begin{array}{cc|cc}\n",
    "A&B&S&R\\cr\\hline\n",
    "0&0&0&0\\cr\n",
    "0&1&1&0\\cr\n",
    "1&0&1&0\\cr\n",
    "1&1&0&1\n",
    "\\end{array}$$"
   ]
  },
  {
   "cell_type": "markdown",
   "metadata": {},
   "source": [
    "### Additionneur"
   ]
  },
  {
   "cell_type": "markdown",
   "metadata": {},
   "source": [
    "L'**additionneur complet** tient compte d'une entrée supplémentaire Re pour une retenue éventuelle (provenant de la «colonne» précédente); il est formé de deux demi-additionneurs (le second sert à ajouter la retenue éventuelle au résultat du premier)"
   ]
  },
  {
   "cell_type": "code",
   "execution_count": null,
   "metadata": {},
   "outputs": [],
   "source": [
    "%%HTML\n",
    "\n",
    "<iframe width=\"600px\" height=\"400px\" src=\"https://circuitverse.org/simulator/embed/83710\" id=\"projectPreview\" scrolling=\"no\" webkitAllowFullScreen mozAllowFullScreen allowFullScreen></iframe>"
   ]
  },
  {
   "cell_type": "markdown",
   "metadata": {},
   "source": [
    "#### Exercice 2\n",
    "\n",
    "Faire la table de vérité de l'additionneur.\n",
    "____"
   ]
  },
  {
   "cell_type": "markdown",
   "metadata": {
    "jupyter": {
     "source_hidden": true
    }
   },
   "source": [
    "$$\\begin{array}{ccc|cc}\n",
    "R_e&A&B&S&R_s\\cr\\hline\n",
    "0&0&0&0 &0\\cr\n",
    "0&0&1&1 &0 \\cr\n",
    "0&1&0&1 &0 \\cr\n",
    "0&1&1&0 &1\\cr\n",
    "1&0&0&1&0\\cr\n",
    "1&0&1&0&1\\cr\n",
    "1&1&0&0&1\\cr\n",
    "1&1&1&1&1\n",
    "\\end{array}$$"
   ]
  },
  {
   "cell_type": "markdown",
   "metadata": {},
   "source": [
    "### Additionneur n-bits"
   ]
  },
  {
   "cell_type": "markdown",
   "metadata": {},
   "source": [
    "En chaînant $n$ additionneur 1-bit de façon à propager la retenue, on obtient un circuit capable d'ajouter deux nombres binaires de $n$ bits. Voici un exemple pour des nombres sur 4 bits:"
   ]
  },
  {
   "cell_type": "code",
   "execution_count": null,
   "metadata": {},
   "outputs": [],
   "source": [
    "%%HTML\n",
    "\n",
    "<iframe width=\"600px\" height=\"400px\" src=\"https://circuitverse.org/simulator/embed/83719\" id=\"projectPreview\" scrolling=\"no\" webkitAllowFullScreen mozAllowFullScreen allowFullScreen></iframe>"
   ]
  },
  {
   "cell_type": "markdown",
   "metadata": {},
   "source": [
    "Inutile de préciser l'importance fondamentale d'un tel circuit pour un ordinateur..."
   ]
  },
  {
   "cell_type": "markdown",
   "metadata": {
    "toc-hr-collapsed": false
   },
   "source": [
    "## Le décaleur \\[ *shifter* \\]"
   ]
  },
  {
   "cell_type": "markdown",
   "metadata": {},
   "source": [
    "Le décaleur est un circuit qui décale tous les bits d'un «mot» d'une position vers la droite \\[ *LSR - Logical Shift Right* \\] ou vers la gauche \\[ *LSL - Logical Shift Left* \\]:\n",
    "- le bit qui déborde du mot est oublié,\n",
    "- les places vacantes sont mises à zéro."
   ]
  },
  {
   "cell_type": "markdown",
   "metadata": {},
   "source": [
    "*Exemple* pour un mot sur 1 octet: \n",
    "\n",
    "    Entrée            10010010\n",
    "                        <--\n",
    "    Sortie après LSL  00100100  (décalage à gauche)\n",
    "    \n",
    "    Entrée            10010010\n",
    "                         -->\n",
    "    Sortie après LSR  01001001  (décalage à droite)"
   ]
  },
  {
   "cell_type": "markdown",
   "metadata": {},
   "source": [
    "#### Exercice 3 - interprétation des décalages pour les entiers\n",
    "\n",
    "Dans cette exercice, les motifs binaires sont limités à 4 bits.\n",
    "\n",
    "1. 1. Reprend et complète le tableau ci-dessous en observant l'exemple donné: $$\\begin{array}{c|cc|c}\n",
    "\\text{base dix}&\\text{binaire} &\\text{LSL}&\\text{base dix}\\cr\\hline\n",
    "3&0011&0110&6\\cr\n",
    "5&&&\\cr\n",
    "7&&&\\cr\n",
    "9&&&\n",
    "\\end{array}$$\n",
    "   2. Quel semble être l'effet arithmétique du décalage à gauche (LSL) lorsque le bit de poids fort ne déborde pas?\n",
    "2. Effectuer une étude similaire pour interpréter le décalage à droite (LSR).\n",
    "___"
   ]
  },
  {
   "cell_type": "markdown",
   "metadata": {
    "jupyter": {
     "source_hidden": true
    }
   },
   "source": [
    "1. 1. Reprend et complète le tableau ci-dessous en observant l'exemple donné: $$\\begin{array}{c|cc|c}\n",
    "\\text{base dix}&\\text{binaire} &\\text{LSL}&\\text{base dix}\\cr\\hline\n",
    "5&0101&1010&10\\cr\n",
    "7&0111&1110&14\\cr\n",
    "9&1001&0010&2\n",
    "\\end{array}$$\n",
    "   2. Mise à part la dernière ligne où le bit de poids fort *déborde*, l'effet est de **multiplier par 2** la valeur de départ.\n",
    "2. Réalisons un tableau similaire: $$\\begin{array}{c|cc|c}\n",
    "\\text{base dix}&\\text{binaire} &\\text{LSR}&\\text{base dix}\\cr\\hline\n",
    "5&0101&0010&2\\cr\n",
    "7&0111&0011&3\\cr\n",
    "9&1001&0100&4\\cr\n",
    "8&1000&0100&4\n",
    "\\end{array}$$\n",
    "On constate que l'effet est de diviser le nombre par 2 (division entière) dans tous les cas."
   ]
  },
  {
   "cell_type": "markdown",
   "metadata": {},
   "source": [
    "**À retenir**"
   ]
  },
  {
   "cell_type": "markdown",
   "metadata": {
    "jupyter": {
     "source_hidden": true
    }
   },
   "source": [
    "- Le décalage à gauche - **LSL** - a pour effet de **multiplier par 2** s'il n'y a pas débordement.\n",
    "- Le décalage à droite - **LSR** - a pour effet de **diviser par 2** (division entière)."
   ]
  },
  {
   "cell_type": "markdown",
   "metadata": {},
   "source": [
    "### Réalisation du circuit pour un mot de 3-bits"
   ]
  },
  {
   "cell_type": "markdown",
   "metadata": {},
   "source": [
    "Si $b_2b_1b_0$ est le mot en entrée et si $d$ est à 1 pour un décalage à droite et à 0 pour un décalage à gauche:\n",
    "- si $d=1$ alors $s_2=0$, $s_1=b_2$ et $s_0=b_1$,\n",
    "- si $d=0$ alors $s_2=b_1$, $s_1=b_0$ et $s_0=0$\n",
    "\n",
    "On en déduit les expressions booléennes:\n",
    "$$\\bullet~ s_2=0d+\\overline{d}b_1\\qquad \\bullet~ s_1=\\overline{d}b_0+db_2\\qquad \\bullet~ s_0=0\\overline{d}+db_1$$\n",
    "et donc, après simplification:\n",
    "$$\\bullet~ s_2=\\overline{d}b_1\\qquad \\bullet~ s_1=\\overline{d}b_0+db_2\\qquad \\bullet~ s_0=db_1$$"
   ]
  },
  {
   "cell_type": "markdown",
   "metadata": {},
   "source": [
    "Cela donne:"
   ]
  },
  {
   "cell_type": "code",
   "execution_count": null,
   "metadata": {},
   "outputs": [],
   "source": [
    "%%HTML\n",
    "\n",
    "<iframe width=\"600px\" height=\"400px\" src=\"https://circuitverse.org/simulator/embed/80417\" id=\"projectPreview\" scrolling=\"no\" webkitAllowFullScreen mozAllowFullScreen allowFullScreen></iframe>"
   ]
  },
  {
   "cell_type": "markdown",
   "metadata": {},
   "source": [
    "On généralise sans peine le schéma à plus de 3 bits (voir onglet «décaleur 8-bit»)"
   ]
  },
  {
   "cell_type": "markdown",
   "metadata": {},
   "source": [
    "#### Exercice 4\n",
    "\n",
    "En utilisant le [simulateur circuitVerse](https://circuitverse.org/simulator), réalise un circuit qui effectue une **rotation bit-à-bit**, à gauche ou à droite, pour un mot de 3 bits $b_2b_1b_0$. Par exemple:\n",
    "\n",
    "- si d=1, le mot 110 devient 011; le mot 011 devient 101; le mot 101 devient 110,\n",
    "- si d=0, le mot 110 devient 101, le mot 101 devient 011, le mot 011 devient 110.\n",
    "\n",
    "*Conseil*: chercher les expressions booléennes de $s_2$, $s_1$ et $s_0$ en adaptant l'exemple donné plus tôt pour le décaleur 3-bit. \n",
    "____"
   ]
  },
  {
   "cell_type": "markdown",
   "metadata": {},
   "source": [
    "## Le décodeur"
   ]
  },
  {
   "cell_type": "markdown",
   "metadata": {},
   "source": [
    "Ce circuit active *une seule* de ses sorties en fonction du code reçu en entrée."
   ]
  },
  {
   "attachments": {
    "schema_decodeur.png": {
     "image/png": "[encoded data removed]"
    }
   },
   "cell_type": "markdown",
   "metadata": {},
   "source": [
    "Par exemple, un décodeur a $\\color{red}{n=2}$ entrées fait correspondre à un code de $\\color{red}{2}$ bits en entrée, une (et une seule) de ses $4=2^{\\color{red}{2}}$ sorties.\n",
    "\n",
    "<img src=\"attachment:schema_decodeur.png\" />"
   ]
  },
  {
   "cell_type": "markdown",
   "metadata": {},
   "source": [
    "si $c_1c_0$ désigne son entrée et $s_3s_2s_1s_0$ sa sortie, sa table de vérité est alors: $$\\begin{array}{cc|cccc}\n",
    "c_1&c_0&s_3&s_2&s_1&s_0\\cr\\hline\n",
    "0&0&0&0&0&1\\cr\n",
    "0&1&0&0&1&0\\cr\n",
    "1&0&0&1&0&0\\cr\n",
    "1&1&1&0&0&0\n",
    "\\end{array}$$"
   ]
  },
  {
   "cell_type": "markdown",
   "metadata": {},
   "source": [
    "Ainsi, $s_0=\\overline{c_1}\\,\\overline{c_0}$, $s_1=\\overline{c_1}c_0$ etc."
   ]
  },
  {
   "cell_type": "code",
   "execution_count": 2,
   "metadata": {},
   "outputs": [
    {
     "data": {
      "text/html": [
       "\n",
       "<iframe width=\"600px\" height=\"400px\" src=\"https://circuitverse.org/simulator/embed/83784\" id=\"projectPreview\" scrolling=\"no\" webkitAllowFullScreen mozAllowFullScreen allowFullScreen></iframe>\n"
      ],
      "text/plain": [
       "<IPython.core.display.HTML object>"
      ]
     },
     "metadata": {},
     "output_type": "display_data"
    }
   ],
   "source": [
    "%%HTML\n",
    "\n",
    "<iframe width=\"600px\" height=\"400px\" src=\"https://circuitverse.org/simulator/embed/83784\" id=\"projectPreview\" scrolling=\"no\" webkitAllowFullScreen mozAllowFullScreen allowFullScreen></iframe>"
   ]
  },
  {
   "cell_type": "markdown",
   "metadata": {},
   "source": [
    "Nous allons voir une application de ce circuit pour la construction d'une UAL qui est un composant fondamental du processeur d'un ordinateur."
   ]
  },
  {
   "cell_type": "markdown",
   "metadata": {
    "toc-hr-collapsed": true
   },
   "source": [
    "## Application: Unité Arithmétique et logique - UAL"
   ]
  },
  {
   "cell_type": "markdown",
   "metadata": {},
   "source": [
    "Composant essentiel du processeur, cette unité a pour mission d'effectuer des opérations *élémentaires* sur ses entrées, principalement: le ET bit-à-bit, le OU bit-à-bit, l'inversion (NON) bit-à-bit et l'addition."
   ]
  },
  {
   "cell_type": "markdown",
   "metadata": {},
   "source": [
    "Elle est formée d'un *décodeur* (pour sélectionner une opération), d'une *unité logique* (pour le ET, OU, NON bit-à-bit) et d'un *additionneur*."
   ]
  },
  {
   "cell_type": "markdown",
   "metadata": {},
   "source": [
    "### UAL 1-bit"
   ]
  },
  {
   "cell_type": "markdown",
   "metadata": {},
   "source": [
    "Voici un exemple d'UAL 1-bit - [explication de son fonctionnement](https://vimeo.com/414690577)"
   ]
  },
  {
   "cell_type": "code",
   "execution_count": null,
   "metadata": {},
   "outputs": [],
   "source": [
    "%%HTML\n",
    "\n",
    "<iframe width=\"600px\" height=\"400px\" src=\"https://circuitverse.org/simulator/embed/79002\" id=\"projectPreview\" scrolling=\"no\" webkitAllowFullScreen mozAllowFullScreen allowFullScreen></iframe>"
   ]
  },
  {
   "cell_type": "markdown",
   "metadata": {},
   "source": [
    "### UAL n-bit"
   ]
  },
  {
   "cell_type": "markdown",
   "metadata": {},
   "source": [
    "En «chaînant» de façon approprié cette UAL 1-bit, on peut obtenir une UAL $n$-bits. Voici le schéma de principe pour quatre bits:"
   ]
  },
  {
   "attachments": {
    "chainage_UAL_1-bit.png": {
     "image/png": "[encoded data removed]"
    }
   },
   "cell_type": "markdown",
   "metadata": {},
   "source": [
    "<img src=\"attachment:chainage_UAL_1-bit.png\"/>"
   ]
  },
  {
   "cell_type": "markdown",
   "metadata": {},
   "source": [
    "Et voici sa réalisation dans circuitVerse - [vidéo pour bien comprendre](https://vimeo.com/414722683):"
   ]
  },
  {
   "cell_type": "code",
   "execution_count": null,
   "metadata": {},
   "outputs": [],
   "source": [
    "%%HTML\n",
    "\n",
    "<iframe width=\"600px\" height=\"400px\" src=\"https://circuitverse.org/simulator/embed/83828\" id=\"projectPreview\" scrolling=\"no\" webkitAllowFullScreen mozAllowFullScreen allowFullScreen></iframe>"
   ]
  },
  {
   "cell_type": "markdown",
   "metadata": {},
   "source": [
    "Les bits de «contrôle» Sel (pour le décodeur), ENA (*enable A*), ENB, INVA (*INVerser A*) et INC (pour INCrément) permettent d'*ajuster* le comportement de l'UAL:"
   ]
  },
  {
   "cell_type": "markdown",
   "metadata": {},
   "source": [
    "$$\\begin{array}{c|ccccc}\n",
    "\\text{opérations}&Sel=F_1F_0&\\text{ENA}&\\text{ENB}&\\text{INVA}&\\text{INC}\\cr\n",
    "A~\\text{ET}~B&00&1&1&0&\\text{x}\\cr\n",
    "A~ \\text{OR}~B &01&1&1&0&\\text{x}\\cr\n",
    "\\overline{B}&10&\\text{x}&1&\\text{x}&\\text{x}\\cr\n",
    "A+B&11&1&1&0&0\\cr\n",
    "A+1&\\dots &\\dots &\\dots &\\dots &\\dots\\cr\n",
    "\\overline{A}&11&1&0&1&0\\cr\n",
    "-A&\\dots&\\dots &\\dots &\\dots &\\dots\\cr\n",
    "B-A&\\dots&\\dots &\\dots &\\dots &\\dots\\cr\n",
    "B+1&\\dots&\\dots &\\dots &\\dots &\\dots\n",
    "\\end{array}$$\n",
    "*Note*: «$\\text{x}$» indique que la valeur du bit n'a pas d'importance."
   ]
  },
  {
   "cell_type": "markdown",
   "metadata": {},
   "source": [
    "#### Exercice 5\n",
    "\n",
    "Dans le tableau précédent, en vous aidant du simulateur, trouver les valeurs manquantes afin de réaliser l'opération indiquée en première colonne. Voici quelques indices:\n",
    "- $A+1$: penser à INC,\n",
    "- $-A$ (en complément à 2!): rappelez vous des opérations du complément à 2,\n",
    "- $B-A=B+(-A)$\n",
    "____"
   ]
  }
 ],
 "metadata": {
  "kernelspec": {
   "display_name": "Python 3",
   "language": "python",
   "name": "python3"
  },
  "language_info": {
   "codemirror_mode": {
    "name": "ipython",
    "version": 3
   },
   "file_extension": ".py",
   "mimetype": "text/x-python",
   "name": "python",
   "nbconvert_exporter": "python",
   "pygments_lexer": "ipython3",
   "version": "3.6.8"
  }
 },
 "nbformat": 4,
 "nbformat_minor": 4
}
