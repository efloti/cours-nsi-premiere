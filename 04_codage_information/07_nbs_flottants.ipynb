{
 "cells": [
  {
   "cell_type": "markdown",
   "metadata": {},
   "source": [
    "# Codage des nombres réels"
   ]
  },
  {
   "cell_type": "markdown",
   "metadata": {},
   "source": [
    "Il repose sur l'**écriture scientifique** des nombres réels:\n",
    "$${\\Large \\pm\\ \\text{Mantisse}\\times\\text{Base}^{\\text{Exposant}} }$$\n",
    "\n",
    "$$\\text{où Mantisse}\\in[1;\\text{Base}[\\\\ \\text{ et Exposant est un entier «signé»}$$\n"
   ]
  },
  {
   "cell_type": "markdown",
   "metadata": {},
   "source": [
    "Exemples en base 10:\n",
    "- $-0,\\!000000138$ s'écrit $-1,\\!38\\times 10^{-7}$,\n",
    "- $299\\,790\\,000$ s'écrit $+2,9979\\times 10^{8}$.\n",
    "- $-5,\\!29$ s'écrit $-5,\\!29\\cdot 10^{0}$."
   ]
  },
  {
   "cell_type": "markdown",
   "metadata": {},
   "source": [
    "**Note**: en toute rigueur, 0 ne peut pas être représenté dans cette écriture."
   ]
  },
  {
   "cell_type": "markdown",
   "metadata": {},
   "source": [
    "## Codage des nombres purement fractionnaires (strictement inférieurs à 1)"
   ]
  },
  {
   "cell_type": "markdown",
   "metadata": {},
   "source": [
    "Les puissances négatives de deux sont **un-demi**, **un-quart**, **un-huitième**, **un-seizième**, **un-trente-deuxième**, etc."
   ]
  },
  {
   "cell_type": "markdown",
   "metadata": {},
   "source": [
    "| **puissances négatives de deux** | $2^{-1}$ | $2^{-2}$ | $2^{-3}$ |  $2^{-4}$ |   $2^{-5}$   |\n",
    "|------------------------|:-----:|:-----:|:-----:|:------:|:---------:|\n",
    "| **décimal**            |  $0,\\!5$  |  $0,\\!25$  |  $0,\\!125$  |   $0,\\!0625$  |    $0,\\!03125$   | \n",
    "| **binaire**            |  $0,\\!1$  |  $0,\\!01$ | $0,\\!001$ | $0,\\!0001$ | $0,\\!00001$ |"
   ]
  },
  {
   "cell_type": "markdown",
   "metadata": {},
   "source": [
    "**Méthode**: Pour trouver l'écriture binaire d'un nombre de l'intervalle $[0;1[$ (purement fractionnaire), on procède de manière analogue à la «méthode des différences»"
   ]
  },
  {
   "cell_type": "markdown",
   "metadata": {},
   "source": [
    "**Exemple**: Soit à coder le nombre (en base 10) $0,696$ sur **4 bits** - on ne s'intéresse qu'aux bits situés après la virgule. "
   ]
  },
  {
   "cell_type": "markdown",
   "metadata": {},
   "source": [
    "$$\\begin{array}{r|c|l}\n",
    "\\text{puissances de 2} & \\text{différences}&\\text{bits}\\cr\n",
    "\\hline & 0,\\!696 & \\cr\n",
    "0,\\!5 & 0,\\!196& 1\\cr\n",
    "0,\\!25 & & 0\\cr\n",
    "0,\\!125 & 0,\\!071 & 1\\cr\n",
    "0,\\!0625 & 0,\\!0085& 1\\cr\n",
    "\\hline\n",
    "\\end{array}\n",
    "\\\\\\text{donc: }0,\\!696 \\text{ correspond environ à }0,\\!1011\\text{ en base 2}$$"
   ]
  },
  {
   "cell_type": "markdown",
   "metadata": {},
   "source": [
    "**Notes**: \n",
    "\n",
    "- En observant les puissances négatives de deux, observer que sur 5 bits, le dernier chiffre du motif binaire serait 0 et qu'il s'agirait toujours d'une **approximation**.\n",
    "\n",
    "  En fait, même avec un très grand nombre de bits, la dernière différence ne serait probablement pas nulle pour cet exemple même si elle tendrait bien sûr à diminuer.\n",
    "\n",
    "- Il n'est pas difficile de comprendre qu'avec 4 bits l'approximation effectuée ne peut excédé un-seizieme ($2^{-4}$), avec 10 bits elle serait au pire de $1/2^{10}<$ un-millième, avec 20 bits au pire d'un-millionième, etc. "
   ]
  },
  {
   "cell_type": "markdown",
   "metadata": {},
   "source": [
    "**Inversement**, Quelle est la valeur en base 10 de $0,\\!0110$ (en base 2)?\n",
    "\n",
    "Le premier chiffre après la virgule correspond à un-demi, le second à un-quart, etc.\n",
    "\n",
    "donc on a un-quart + un-huitième soit $0,25+0,125={\\bf 0,\\!375}$"
   ]
  },
  {
   "cell_type": "markdown",
   "metadata": {},
   "source": [
    "## Norme IEEE 754"
   ]
  },
  {
   "cell_type": "markdown",
   "metadata": {},
   "source": [
    "L'exemple précédent doit vous faire sentir la difficulté du codage des réels; il a donc été décidé de normaliser cette représentation; il y a (entre autre)\n",
    "- la **simple précision** avec 32 bits,\n",
    "- la **double précision** avec 64 bits."
   ]
  },
  {
   "cell_type": "markdown",
   "metadata": {},
   "source": [
    "Dans tous les cas, le codage utilise l'écriture scientifique où la «Base» est 2.\n",
    "\n",
    "$${\\Large \\pm\\ \\text{Mantisse}\\times\\text{2}^{\\text{Exposant}} }$$\n",
    "\n",
    "$$\\text{où Mantisse}\\in[1;2[\\\\ \\text{ et Exposant est un entier «signé»}$$"
   ]
  },
  {
   "cell_type": "markdown",
   "metadata": {},
   "source": [
    "En **simple précision**, Le motif binaire correspondant est organisé comme suit:"
   ]
  },
  {
   "cell_type": "markdown",
   "metadata": {},
   "source": [
    "$$\\begin{array}{ccc}\n",
    "1\\text{ bit}& 8 \\text{ bits}& 23 \\text{ bits}\\cr\n",
    "\\hline\n",
    "\\text{signe}& \\text{exposant} & \\text{mantisse}\\cr\n",
    "\\hline\n",
    "\\end{array}$$"
   ]
  },
  {
   "cell_type": "markdown",
   "metadata": {},
   "source": [
    "**Signe**: 0 signifie + et 1 signifie -"
   ]
  },
  {
   "cell_type": "markdown",
   "metadata": {},
   "source": [
    "**Mantisse**: Comme elle est toujours de la forme: $$1,\\!b_1b_2b_3\\dots\\\\ \\text{les } b_i \\text{représentent un bit}$$les 23 bits de la mantisse correspondent aux bits situés après la virgule; le bit obligatoirement à 1 est omis - on parle de bit caché."
   ]
  },
  {
   "cell_type": "markdown",
   "metadata": {},
   "source": [
    "*Exemple*: Si la mantisse en mémoire est $0110\\dots 0$, elle correspond à $$\\underbrace{1}_{\\text{bit caché}}+1/4+1/8=1,\\!375$$"
   ]
  },
  {
   "cell_type": "markdown",
   "metadata": {},
   "source": [
    "**Exposant**: il peut-être positif ou négatif et on utilise le codage par «valeur biaisée (ou décalée)» pour le représenté."
   ]
  },
  {
   "cell_type": "markdown",
   "metadata": {},
   "source": [
    "*Exemple*: si l'exposant est $0111\\,1010$, qui correspond à soixante-quatre + trente-deux + seize + huit + deux soit à $122$,\n",
    "\n",
    "on lui soustrait le **biais** soit $127$ (pour un octet) ce qui donne $-5$"
   ]
  },
  {
   "cell_type": "markdown",
   "metadata": {},
   "source": [
    "*Exemple récapitulatif*: Le mot de 32 bits qui suit interprété comme un flottant en simple précision,\n",
    "\n",
    "$$\\large\\overbrace{\\color{red}{1}}^{\\text{signe}}\\ \\overbrace{\\color{green}{0111\\,1010}}^{\\text{exposant}}\\ \\overbrace{\\color{blue}{0110\\,0000\\,0000\\,0000\\,0000\\,000}}^{\\text{mantisse}}$$"
   ]
  },
  {
   "cell_type": "markdown",
   "metadata": {},
   "source": [
    "correspond au nombre: \n",
    "\n",
    "$$\\Large\\overbrace{\\color{red}{-}}^{\\text{signe}}\\overbrace{\\color{blue}{1,\\!375}}^{\\text{mantisse}} \\times 2^{\\overbrace{\\color{green}{-5}}^{\\text{exposant}}}\\\\ =-4,\\!296875\\times 10^{-2}$$"
   ]
  },
  {
   "cell_type": "markdown",
   "metadata": {},
   "source": [
    "**Notes**: \n",
    "- en **simple précision**, on peut représenter approximativement les nombres décimaux positifs de l'intervalle $[10^{-38}; 10^{38}]$ ainsi que les nombres négatifs correspondants. Voici comment on le voit:\n",
    "\n",
    "$$2^{128}=2^8\\times (2^{10})^{12}\\approx 100 \\times(10^3)^{12}=10^2\\times 10^{36}=10^{38}$$\n",
    "\n",
    "- en **double précision** (64 bits), la méthode est la même et:\n",
    "    - l'**exposant** est codé sur **11 bits** (avec un décalage ou biais de 1023),\n",
    "    - et la **mantisse** sur **52 bits**."
   ]
  },
  {
   "cell_type": "markdown",
   "metadata": {},
   "source": [
    "## Valeurs spéciales"
   ]
  },
  {
   "cell_type": "markdown",
   "metadata": {},
   "source": [
    "La norme précise que les valeurs $0000\\,0000$ et $1111\\,1111$ de l'exposant sont **réservées**:\n",
    " - le nombre $0$ est représenté conventionnellement avec un bit de signe arbitraires et tous les autres à $0$: on distingue donc $+0$ et $-0$,\n",
    " - les **infinis** sont représentés par l'exposant $1111\\,1111$ et une mantisse nulle: ils servent à indiquer le dépassement de capacité,\n",
    " - une valeur spéciale `NaN` (pour *Not a Number*) est représentée par un signe à 0, l'exposant $1111\\,1111$ et une mantisse non nulle: elle sert à représenter le résultat d'opérations invalides comme $0/0$, $\\sqrt{-1}$, $0\\times +\\infty$ etc.\n",
    " - enfin, lorsque l'exposant est nulle et la mantisse non, on convient que le nombre représenté est:\n",
    " $${\\large \\pm~ {\\bf 0},\\!m \\times 2^{-126}}\\qquad \\text{nombre dénormalisé sur 32 bits}$$ où $m$ est la représentation décimale de la mantisse non nulle."
   ]
  },
  {
   "cell_type": "markdown",
   "metadata": {},
   "source": [
    "|  Signe | Exposant | mantisse |          valeur spéciale         |\n",
    "|:------:|:--------:|:--------:|:--------------------------------:|\n",
    "|    0   |   0...0  |     0    |                $+0$               |\n",
    "|    1   |   0...0  |     0    |                $-0$               |\n",
    "| 0 ou 1 |   0...0  | $\\neq 0$ | $\\pm {\\bf 0},\\!m\\times 2^{-127}$ |\n",
    "|    0   |   1...1  |     0    |             $+\\infty$            |\n",
    "|    1   |   1...1  |     0    |             $-\\infty$            |\n",
    "|    0   |   1...1  | $\\neq 0$ |               `NaN`              |"
   ]
  },
  {
   "cell_type": "markdown",
   "metadata": {},
   "source": [
    "## Avec Python"
   ]
  },
  {
   "cell_type": "markdown",
   "metadata": {},
   "source": [
    "Les nombres flottants suivent la norme IEEE 754 en **double précision** (64 bits).\n",
    "\n",
    "On peut utiliser la notation décimale ou scientifique pour les définir:"
   ]
  },
  {
   "cell_type": "code",
   "execution_count": null,
   "metadata": {},
   "outputs": [],
   "source": [
    "x = 1.6\n",
    "y = 1.2e-4 # 1,2x10^{-4}\n",
    "print(f\"x={x}, y={y}\")"
   ]
  },
  {
   "cell_type": "markdown",
   "metadata": {},
   "source": [
    "la fonction `float` convertie un entier en un flottant tandis que `int` fait le contraire:"
   ]
  },
  {
   "cell_type": "code",
   "execution_count": null,
   "metadata": {},
   "outputs": [],
   "source": [
    "x = float(-4)\n",
    "y = int(5.9) # simple troncature\n",
    "print(f\"x={x}, y={y}\")"
   ]
  },
  {
   "cell_type": "markdown",
   "metadata": {},
   "source": [
    "L'opérateur `/` de division produit toujours un flottant quelque soit le type de ses arguments.\n",
    "\n",
    "Note: `isinstance(valeur, type)` renvoie `True` ou `False` selon que `valeur` est du type `type` ou non."
   ]
  },
  {
   "cell_type": "code",
   "execution_count": null,
   "metadata": {},
   "outputs": [],
   "source": [
    "x = 4 / 2\n",
    "print(f\"x est un entier? {isinstance(x, int)}, x est un flottant? {isinstance(x, float)}\")"
   ]
  },
  {
   "cell_type": "markdown",
   "metadata": {},
   "source": [
    "Certaines expression peuvent générer des valeurs spéciales:"
   ]
  },
  {
   "cell_type": "code",
   "execution_count": null,
   "metadata": {},
   "outputs": [],
   "source": [
    "x = 1e200\n",
    "y = x * x\n",
    "z = y * 0\n",
    "print(f\"x={x}, y={y}, z={z}\")"
   ]
  },
  {
   "cell_type": "code",
   "execution_count": null,
   "metadata": {},
   "outputs": [],
   "source": [
    "x = 10 ** 400\n",
    "# conversion implicite en flottant pour effectuer l'addition ...\n",
    "x + 0.5 # erreur..."
   ]
  },
  {
   "cell_type": "markdown",
   "metadata": {},
   "source": [
    "Un simple calcul peut donner un résultat inattendu ..."
   ]
  },
  {
   "cell_type": "code",
   "execution_count": null,
   "metadata": {},
   "outputs": [],
   "source": [
    "1.2 * 3"
   ]
  },
  {
   "cell_type": "markdown",
   "metadata": {},
   "source": [
    "On prendra donc garde à éviter tout test d'égalité `==` avec les flottants.\n",
    "\n",
    "À la place, on peut vérifier que la valeur absolue `abs` de leur différence est petite (très petite); par exemple:"
   ]
  },
  {
   "cell_type": "code",
   "execution_count": null,
   "metadata": {},
   "outputs": [],
   "source": [
    "x = 0.1+0.2\n",
    "y = 0.3\n",
    "print(f\"x et y sont identiques? {x==y}\")\n",
    "print(f\"x et y sont très proches? {abs(x-y) < 1e-10}\")"
   ]
  },
  {
   "cell_type": "markdown",
   "metadata": {},
   "source": [
    "### Complément"
   ]
  },
  {
   "cell_type": "markdown",
   "metadata": {},
   "source": [
    "À faire ..."
   ]
  }
 ],
 "metadata": {
  "kernelspec": {
   "display_name": "Python 3",
   "language": "python",
   "name": "python3"
  },
  "language_info": {
   "codemirror_mode": {
    "name": "ipython",
    "version": 3
   },
   "file_extension": ".py",
   "mimetype": "text/x-python",
   "name": "python",
   "nbconvert_exporter": "python",
   "pygments_lexer": "ipython3",
   "version": "3.7.3"
  }
 },
 "nbformat": 4,
 "nbformat_minor": 4
}
