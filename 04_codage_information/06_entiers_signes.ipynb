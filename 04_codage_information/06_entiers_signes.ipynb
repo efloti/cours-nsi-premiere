{
 "cells": [
  {
   "cell_type": "markdown",
   "metadata": {},
   "source": [
    "# Codages des entiers relatifs"
   ]
  },
  {
   "cell_type": "markdown",
   "metadata": {},
   "source": [
    "Différentes méthodes ont été utilisées au cours du temps, notamment:\n",
    "- *signe* et *valeur absolue*\n",
    "- complément à 1,\n",
    "- complément à 2 (la plus importante),\n",
    "- valeur biaisée."
   ]
  },
  {
   "cell_type": "markdown",
   "metadata": {},
   "source": [
    "**Attention**: tous ces codages dépendent du nombre de bits utilisés qui doit donc être **fixé à l'avance**.\n",
    "\n",
    "Sauf indication contraire, nous utiliserons **un octet** (même si en réalité le codage se fait sur plusieurs octets)."
   ]
  },
  {
   "cell_type": "markdown",
   "metadata": {},
   "source": [
    "## Signe et valeur absolue"
   ]
  },
  {
   "cell_type": "markdown",
   "metadata": {},
   "source": [
    "**Méthode**: \n",
    "- on réserve le bit de *poids fort* pour le signe: **1** pour le signe **négatif**, **0** pour le signe **positif**,\n",
    "- les bits qui suivent code l'entier positif associé."
   ]
  },
  {
   "cell_type": "markdown",
   "metadata": {},
   "source": [
    "Exemple: Selon cette méthode, pour coder (par exemple) $-45$ *sur un octet*, on utiliserait: $$\\color{red}{1}010\\,1101$$\n",
    "- le bit de poids fort indiquant le signe négatif,\n",
    "- les bits suivant codant $45$: (trente-deux + huit + quatre + un) soit $10\\,1101$ qu'on «cadre» en ajoutant $0$ à sa gauche."
   ]
  },
  {
   "cell_type": "markdown",
   "metadata": {},
   "source": [
    "Évidemment, le codage dépend du nombre de bits utilisés; le même nombre sur deux octets serait: $$\\overbrace{\\color{red}{1}000\\, 0000}^{\\text{1er octet}}\\overbrace{\\, 0010\\, 1101}^{\\text{second}}$$"
   ]
  },
  {
   "cell_type": "markdown",
   "metadata": {},
   "source": [
    "Cette méthode est peu employée en particulier car:\n",
    "- 0 a deux écritures: 0...0 et 10...0,\n",
    "- la gestion du bit de signe complique les calculs."
   ]
  },
  {
   "cell_type": "markdown",
   "metadata": {},
   "source": [
    "## Complément à 1"
   ]
  },
  {
   "cell_type": "markdown",
   "metadata": {},
   "source": [
    "**Méthode**: on *inverse* chaque bit du nombre positif correspondant: $1\\mapsto 0$ et $0\\mapsto 1$."
   ]
  },
  {
   "cell_type": "markdown",
   "metadata": {},
   "source": [
    "Exemple: Pour coder $-45$ *sur un octet*:\n",
    "1. on trouve $45$: $$0010\\,1101$$\n",
    "2. on inverse ses bits pour coder $-45$: $$1101\\,0010$$."
   ]
  },
  {
   "cell_type": "markdown",
   "metadata": {},
   "source": [
    "**Inversement**, lorsqu'on lit un tel motif, on considère que:\n",
    "- si le bit de *poids fort* est $0$, le nombre codé est **positif**,\n",
    "- *sinon* il est **négatif**."
   ]
  },
  {
   "cell_type": "markdown",
   "metadata": {},
   "source": [
    "Sur un octet, le plus grand nombre positif est $0111\\,1111$ soit $127$ et le plus petit négatif est $1000\\,0000$ soit $-127$."
   ]
  },
  {
   "cell_type": "markdown",
   "metadata": {},
   "source": [
    "Observer que zéro possède encore deux représentations distinctes: 0...0 et 1...1.\n",
    "\n",
    "C'est un inconvénient important."
   ]
  },
  {
   "cell_type": "markdown",
   "metadata": {},
   "source": [
    "## Complément à 2\n",
    "\n",
    "Pour trouver le codage d'un nombre négatif, on trouve son complément à 1 et on ajoute 1.\n",
    "\n",
    "Exemple: $-44$ en complément à 2 sur un octet s'obtient ainsi: "
   ]
  },
  {
   "cell_type": "markdown",
   "metadata": {},
   "source": [
    "$$\\underbrace{0010\\,1100}_{44}\\stackrel{\\text{inversion}}{\\longmapsto}\\underbrace{1101\\,0011}_{-44\\text{ en C1}}\\stackrel{+1}{\\longmapsto}\\underbrace{1101\\,0100}_{-44\\text{ en C2}}$$."
   ]
  },
  {
   "cell_type": "markdown",
   "metadata": {},
   "source": [
    "Observer que le complément à 2 de zéro est lui-même si *on omet le bit de retenue*:\n",
    "\n",
    "$$0000\\,0000\\stackrel{\\text{inversion}}{\\longmapsto}1111\\,1111\\stackrel{+1}{\\longmapsto}(\\color{red}{1})\\,0000\\,0000$$"
   ]
  },
  {
   "cell_type": "markdown",
   "metadata": {},
   "source": [
    "Inversement, pour retrouver la valeur d'un nombre *négatif* codé en complément à 2: on enlève 1 et on inverse les bits."
   ]
  },
  {
   "cell_type": "markdown",
   "metadata": {},
   "source": [
    "*Exemple*: Trouver la valeur de $1011\\,1010$"
   ]
  },
  {
   "cell_type": "markdown",
   "metadata": {},
   "source": [
    "$$1011\\,1010 \\stackrel{-1}{\\longmapsto} 1011\\,1001 \\stackrel{\\text{inversion}}{\\longmapsto} 0100\\,0110$$\n",
    "soit soixante-quatre + quatre + deux donc au final $-70$."
   ]
  },
  {
   "cell_type": "markdown",
   "metadata": {},
   "source": [
    "### Addition/soustraction"
   ]
  },
  {
   "cell_type": "markdown",
   "metadata": {},
   "source": [
    "Le point fort du complément à 2 est que tous les calculs se ramènent à des additions ordinaires."
   ]
  },
  {
   "cell_type": "markdown",
   "metadata": {},
   "source": [
    "Exemple: Soit à effectuer $27 - 53=27+(-53)$ en binaire.\n",
    "- $27$ vaut seize + huit + deux + un donc: $$0001\\,1011$$\n",
    "- $53$ vaut  trente-deux + seize + quatre + un donc \n",
    "$$0011\\,0101\\stackrel{\\text{inversion}}{\\longmapsto}1100\\,1010\\stackrel{+1}{\\longmapsto} 1100\\,1011\\qquad (-53)$$"
   ]
  },
  {
   "cell_type": "markdown",
   "metadata": {},
   "source": [
    "\n",
    "                                                                          11  11  --> retenues\n",
    "                                                                           1 1011 -->    27\n",
    "                                                                      + 1100 1011 --> + -53\n",
    "                                                                      -----------      ----\n",
    "                                                                        1110 0110 -->   -26"
   ]
  },
  {
   "cell_type": "markdown",
   "metadata": {},
   "source": [
    "$$1110\\,0110\\stackrel{-1}{\\longmapsto}1110\\,0101\\stackrel{\\text{inversion}}{\\longmapsto} 0001\\,1010\\qquad (26)$$"
   ]
  },
  {
   "cell_type": "markdown",
   "metadata": {},
   "source": [
    "Le résultat est bien $-26$."
   ]
  },
  {
   "cell_type": "markdown",
   "metadata": {},
   "source": [
    "On peut montrer que le calcul est toujours correct *sauf en cas de dépassement de capacité* c'est-à-dire si le résultat nécessite plus de place qu'un octet ici.\n",
    "\n",
    "sur un octet, le *dépassement de capacité* peut seulement se produire de deux façons:\n",
    "- deux nombres positifs dont la somme est supérieur à $127$,\n",
    "- deux nombres négatifs dont la somme est inférieure à $-128$."
   ]
  },
  {
   "cell_type": "markdown",
   "metadata": {},
   "source": [
    "## Valeur «biaisée» ou «décalée»"
   ]
  },
  {
   "cell_type": "markdown",
   "metadata": {},
   "source": [
    "Ce codage est employé dans la représentation des **flottants** que nous verrons bientôt."
   ]
  },
  {
   "cell_type": "markdown",
   "metadata": {},
   "source": [
    "Sur un octet on peut représenter les entiers positifs de 0 jusqu'à 255; l'idée est donc simplement d'appliquer une soustraction de $127$ à tous les nombres de façon à se ramener à l'intervalle de $-127$ à $+128$."
   ]
  },
  {
   "cell_type": "markdown",
   "metadata": {},
   "source": [
    "$$\\begin{array}{lcccccc}\n",
    "               & 0000\\,0000 & \\dots & 0011\\,1111 & 0100\\,0000 & \\dots & 1111\\,1111\\cr\n",
    "\\text{base 10} & 0          & \\dots &    126     & 127        & \\dots &    255\\cr\n",
    "\\text{décalage}& -127       & \\dots &    -1      & 0          & \\dots & 128\\cr\n",
    "\\end{array}$$\n",
    "\n"
   ]
  },
  {
   "cell_type": "markdown",
   "metadata": {},
   "source": [
    "Exemple: à quelle valeur correspond $0110\\,1001$ selon ce codage?\n",
    "\n",
    "- soixante-quatre + trente deux + huit + un donne $105$\n",
    "- on soustrait $127$: ${\\bf -22}$.\n",
    "\n"
   ]
  },
  {
   "cell_type": "markdown",
   "metadata": {},
   "source": [
    "Inversement, Pour retrouver le motif binaire, on ajoute 127 au nombre donné.\n",
    "\n",
    "Quel motif binaire sur un octet représente $-100$ (en base 10)?\n",
    "- On ajoute 127: 27 \n",
    "- et on trouve sa représentation binaire: $0001\\, 1011$."
   ]
  },
  {
   "cell_type": "markdown",
   "metadata": {},
   "source": [
    "**Note**: le décalage ou biais dépend du nombre de bits utilisé. \n",
    "\n",
    "- Sur un octet (8 bits), le biais ou décalage est $2^7-1=127$.\n",
    "- Sur deux octet (16 bits), on peut coder $2^{16}=65\\,536$ valeurs (la dernière étant $65\\,535$); le biais serait de $2^{15}-1=32\\,767$.\n",
    "- **de manière général**, si le codage se fait sur $n$ bits, le biais est $2^{n-1}-1$."
   ]
  }
 ],
 "metadata": {
  "kernelspec": {
   "display_name": "Python 3",
   "language": "python",
   "name": "python3"
  },
  "language_info": {
   "codemirror_mode": {
    "name": "ipython",
    "version": 3
   },
   "file_extension": ".py",
   "mimetype": "text/x-python",
   "name": "python",
   "nbconvert_exporter": "python",
   "pygments_lexer": "ipython3",
   "version": "3.6.8"
  }
 },
 "nbformat": 4,
 "nbformat_minor": 4
}
