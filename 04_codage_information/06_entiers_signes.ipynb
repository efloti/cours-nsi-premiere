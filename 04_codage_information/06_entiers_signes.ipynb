{
 "cells": [
  {
   "cell_type": "markdown",
   "metadata": {},
   "source": [
    "# Codages des entiers relatifs"
   ]
  },
  {
   "cell_type": "markdown",
   "metadata": {},
   "source": [
    "La difficulté principale vient de ce qu'un ordinateur ne manipule que des 0 et des 1; dès lors nous sommes obligé de *coder le signe $-$ avec un chiffre binaire*... Imaginez que nous codions le signe $-$ de $-39$ avec un chiffre décimale... Il y a intérêt à prendre garde pour s'y retrouver!\n",
    "\n",
    "Différentes méthodes sont couramment utilisées, notamment:\n",
    "- méthode de la *valeur biaisée*.\n",
    "- *signe* et *valeur absolue*\n",
    "- complément à 1 ($C_1$),\n",
    "- complément à 2 (la plus importante - $C_2$),"
   ]
  },
  {
   "cell_type": "markdown",
   "metadata": {},
   "source": [
    "Les deux premières nous resservirons pour les flottants (nombres réels)\n",
    "\n",
    "Les deux dernières servent à coder les entiers relatifs à proprement parler: le complément à 1 étant réutilisé dans la méthode du complément à 2."
   ]
  },
  {
   "cell_type": "markdown",
   "metadata": {},
   "source": [
    "**Attention**: tous ces codages dépendent du **nombre de bits utilisés** qui doit donc être **fixé à l'avance**.\n",
    "\n",
    "> Sauf indication contraire, nous utiliserons **un octet** - même si en réalité le codage se fait sur plusieurs octets - 4 (32 bits) ou 8 (64 bits)."
   ]
  },
  {
   "cell_type": "markdown",
   "metadata": {},
   "source": [
    "## Valeur «biaisée» ou «décalée»"
   ]
  },
  {
   "cell_type": "markdown",
   "metadata": {},
   "source": [
    "Ce codage est employé dans la représentation des **flottants** que nous verrons bientôt."
   ]
  },
  {
   "cell_type": "markdown",
   "metadata": {},
   "source": [
    "Sur un octet on peut représenter les entiers positifs de 0 jusqu'à 255; l'idée est donc simplement d'appliquer une soustraction de $127$ - **le biais** - à tous les nombres de façon à se ramener à l'intervalle de $-127$ à $+128$."
   ]
  },
  {
   "cell_type": "markdown",
   "metadata": {},
   "source": [
    "$$\\begin{array}{lccccccc}\n",
    "               & 0000\\,0000 & \\dots & 0111\\,1110 & 0111\\,1111 & 1000\\,0000 & \\dots & 1111\\,1111\\cr\n",
    "\\text{base 10} & 0          & \\dots &    126     & 127        & 128 & \\dots &    255\\cr\n",
    "\\text{décalage}& -127       & \\dots &    -1      & 0          & 1 & \\dots & 128\\cr\n",
    "\\end{array}$$\n",
    "\n"
   ]
  },
  {
   "cell_type": "markdown",
   "metadata": {},
   "source": [
    "#### Méthode 1 - coder\n",
    "\n",
    "Pour trouver le code (sur un octet) d'un entier signé donné en base 10:\n",
    "1. **ajouter** (le biais) 127 au nombre donné puis,\n",
    "2. trouver l'expression en base 2 du nombre obtenu (par la méthode «naturel»)\n",
    "_____"
   ]
  },
  {
   "cell_type": "markdown",
   "metadata": {},
   "source": [
    "*Exemple* Quel motif binaire sur un octet représente $-100$ (en base 10) par valeur biaisé?\n",
    "- ajouter le biais de 127: $-100+127=27$ \n",
    "- trouver la représentation binaire du résultat: $0001\\, 1011$."
   ]
  },
  {
   "cell_type": "markdown",
   "metadata": {},
   "source": [
    "**Conclusion**: Par valeur biaisé, $-100$ aura pour code $\\bf 0001\\,1011$."
   ]
  },
  {
   "cell_type": "markdown",
   "metadata": {},
   "source": [
    "#### Méthode 2 - décoder\n",
    "Pour trouver la valeur en base 10 d'un mot binaire d'un octet par «valeur biaisée»:\n",
    "1. convertir le motif en base 10 puis\n",
    "2. **soustraire** le biais c'est-à-dire $127$.\n",
    "_______"
   ]
  },
  {
   "cell_type": "markdown",
   "metadata": {},
   "source": [
    "*Exemple*: Trouver la valeur en base 10 de $0110\\,1001$:\n",
    "\n",
    "- On commence par trouver l'entier *non signé*: soixante-quatre + trente deux + huit + un donne $105$\n",
    "- On soustrait le biais de $127$: $105-127={\\bf -22}$."
   ]
  },
  {
   "cell_type": "markdown",
   "metadata": {},
   "source": [
    "**Conclusion**: Pour cette méthode, $0110\\,1001$ code $\\bf -22$"
   ]
  },
  {
   "cell_type": "markdown",
   "metadata": {},
   "source": [
    "#### Remarques importantes\n",
    "\n",
    "1. Le décalage ou biais *dépend du nombre de bits utilisé* pour le codage:\n",
    "   - Sur un octet (8 bits), le biais ou décalage est $2^7-1=127$.\n",
    "   - Sur deux octet (16 bits), on peut coder $2^{16}=65\\,536$ valeurs (la dernière étant $65\\,535$); le biais serait de $2^{15}-1=32\\,767$.\n",
    "   - **de manière général**, si le codage se fait sur $n$ bits, le biais est $$2^{n-1}-1$$.\n",
    "\n",
    "2. Observez que lorsque le code débute par un bit (tout à gauche):\n",
    "   - à **0**, l'entier correspondant est *négatif* ou nul, \n",
    "   - à **1**, l'entier correspondat est *strictement positif*.\n",
    "   - *attention*: pour les autres codages, ce sera l'inverse."
   ]
  },
  {
   "cell_type": "markdown",
   "metadata": {},
   "source": [
    "#### Exercice 1\n",
    "\n",
    "En utilisant la méthode par valeur biaisée:\n",
    "1. Sur un octet, comment coderait-on l'entier $-53$?\n",
    "2. Retrouver l'entier signé en base 10 codé par $1000\\,0110$\n"
   ]
  },
  {
   "cell_type": "markdown",
   "metadata": {
    "jupyter": {
     "source_hidden": true
    }
   },
   "source": [
    "1. $-53+127=74\\rightarrow {\\bf 0100\\,1010}$\n",
    "2. $128+4+2-127={\\bf 7}$"
   ]
  },
  {
   "cell_type": "markdown",
   "metadata": {},
   "source": [
    "## Signe et valeur absolue"
   ]
  },
  {
   "cell_type": "markdown",
   "metadata": {},
   "source": [
    "C'est la plus «naturel» des quatres méthodes utilisées."
   ]
  },
  {
   "cell_type": "markdown",
   "metadata": {},
   "source": [
    "**Méthode**: Pour un mot binaire de taille donné:\n",
    "- on réserve le *bit le plus à gauche* pour le **signe**: \n",
    "    - **1** pour le signe **négatif**,\n",
    "    - **0** pour le signe **positif**,\n",
    "- les bits qui suivent code l'entier positif associé c'est-à-dire sa valeur absolue.\n",
    "___"
   ]
  },
  {
   "cell_type": "markdown",
   "metadata": {},
   "source": [
    "*Exemple*: Selon cette méthode, pour coder (par exemple) $-45$ *sur un octet*, on utiliserait: $$\\color{red}{1}010\\,1101$$\n",
    "- le bit de poids fort indiquant le signe négatif,\n",
    "- les bits suivant codant $45$: (trente-deux + huit + quatre + un) soit $10\\,1101$ qu'on «cadre» en ajoutant $0$ à sa gauche."
   ]
  },
  {
   "cell_type": "markdown",
   "metadata": {},
   "source": [
    "Évidemment, le codage dépend du nombre de bits utilisés; le même nombre sur deux octets serait: $$\\overbrace{\\color{red}{1}000\\, 0000}^{\\text{1er octet}}\\overbrace{\\, 0010\\, 1101}^{\\text{second}}$$"
   ]
  },
  {
   "cell_type": "markdown",
   "metadata": {},
   "source": [
    "Cette méthode n'est pas couramment utilisée pour les entiers relatifs car:\n",
    "- $0=-0=+0$ a deux écritures: $0\\dots 0$ et $10\\dots 0$,\n",
    "- la gestion du bit de signe complique les calculs.\n",
    "\n",
    "Cependant, elle est utilisée pour **le codage des réels** (flottants)."
   ]
  },
  {
   "cell_type": "markdown",
   "metadata": {},
   "source": [
    "#### Exercice 2\n",
    "\n",
    "En utilisant la méthode «signe et valeur absolue»:\n",
    "1. Coder $-100$ et $31$,\n",
    "2. À quels entiers relatifs correspondent:\n",
    "$$\\text{a.}~1001\\,0011\\qquad \\text{b.}~0110\\,0000$$"
   ]
  },
  {
   "cell_type": "markdown",
   "metadata": {
    "jupyter": {
     "source_hidden": true
    }
   },
   "source": [
    "1. $-100\\rightarrow {\\bf 1110\\,0100}$ et $31=32-1\\rightarrow {\\bf 0001\\,1111}$.\n",
    "2. a. est négatif et correspond à ${\\bf -19}$. b. est positif et vaut ${\\bf 96}$."
   ]
  },
  {
   "cell_type": "markdown",
   "metadata": {},
   "source": [
    "## Complément à 1"
   ]
  },
  {
   "cell_type": "markdown",
   "metadata": {},
   "source": [
    "Cette méthode est basée sur l'**inversion bit à bit**: on *inverse* chaque bit du code binaire $1\\mapsto 0$ et $0\\mapsto 1$."
   ]
  },
  {
   "cell_type": "markdown",
   "metadata": {},
   "source": [
    "#### Méthode 1 - coder\n",
    "\n",
    "Pour coder un entier relatif donné en base 10 sur un octet:\n",
    "- s'il est **positif** procéder *ordinairement* en complétant par des 0 à gauche jusqu'à avoir 8 bits,\n",
    "- s'il est **négatif**:\n",
    "    - le convertir en oubliant son signe et compléter par des 0 à gauche, puis\n",
    "    - appliquer une inversion bit à bit sur les 8 bits du mot binaire obtenu.\n",
    "_____"
   ]
  },
  {
   "cell_type": "markdown",
   "metadata": {},
   "source": [
    "*Exemple*: Pour coder $-45$ *sur un octet*, et puisqu'il est négatif:\n",
    "1. convertir $45$ ordinairement: $$0010\\,1101$$\n",
    "2. inverser ses bits $$1101\\,0010$$.\n",
    "\n",
    "**Conclusion**: Le codage de $-45$ par la méthode du complément à 1 sur un octet est ${\\bf 1101\\,0010}$"
   ]
  },
  {
   "cell_type": "markdown",
   "metadata": {},
   "source": [
    "#### Méthode 2 - décoder\n",
    "\n",
    "Pour retrouver l'entier relatif à partir du code binaire de 8 bits, *regarder son bit le plus à gauche*:\n",
    "   - si c'est **0**, le convertir ordinairement,\n",
    "   - si c'est **1**, l'entier est négatif. Dans ce cas:\n",
    "    1. appliquer une inversion bit à bit,\n",
    "    2. trouver l'entier positif correspondant,\n",
    "    3. apposer le signe $-$ au résultat.\n",
    "______"
   ]
  },
  {
   "cell_type": "markdown",
   "metadata": {},
   "source": [
    "*Exemple*: À quel entier relatif correspond $1001\\,1100$ par la méthode du complément à 1 sur un octet? Même question pour $0001\\,0001$."
   ]
  },
  {
   "cell_type": "markdown",
   "metadata": {},
   "source": [
    "Le premier code correspond à un entier négatif puisque son bit le plus à gauche est $1$.\n",
    "- inversion bit à bit: $0110\\,0011$\n",
    "- conversion: $64+32+2+1=99$\n",
    "- apposer le signe $-$: $-99$\n",
    "\n",
    "**Conclusion:** $1001\\,1100$ code $-99$ par la méthode du complément à 1.\n",
    "\n",
    "Le second est positif puisque son bit le plus à gauche est $0$ et il correspond donc à $16+1={\\bf 17}$\n",
    "____"
   ]
  },
  {
   "cell_type": "markdown",
   "metadata": {},
   "source": [
    "#### Remarques complémentaires"
   ]
  },
  {
   "cell_type": "markdown",
   "metadata": {},
   "source": [
    "Sur un octet, le plus grand nombre positif est $0111\\,1111$ soit $127$ et le plus petit négatif est $1000\\,0000$ soit $-127$."
   ]
  },
  {
   "cell_type": "markdown",
   "metadata": {},
   "source": [
    "Observez que zéro possède encore deux représentations distinctes: 0...0 et 1...1.\n",
    "\n",
    "C'est un inconvénient important et en pratique on modifie légèrement cette méthode pour coder effectivement les entiers relatifs: c'est le complément à 2."
   ]
  },
  {
   "cell_type": "markdown",
   "metadata": {},
   "source": [
    "#### Exercice 3"
   ]
  },
  {
   "cell_type": "markdown",
   "metadata": {},
   "source": [
    "Par la méthode du complément à $1$:\n",
    "1. coder $-63$ et $127$\n",
    "2. À quels entier relatifs correspondent:\n",
    "$$\\text{a.}~1001\\,0011\\qquad \\text{b.}~0110\\,0000$$"
   ]
  },
  {
   "cell_type": "markdown",
   "metadata": {
    "jupyter": {
     "source_hidden": true
    }
   },
   "source": [
    "1. $-63\\rightarrow {\\bf 1100\\,0000}$ et $127=128-1\\rightarrow{\\bf 0111\\,1111}$.\n",
    "2. a. est négatif et correspond à ${\\bf -108}$; b. est positif et correspond ${\\bf 96}$."
   ]
  },
  {
   "cell_type": "markdown",
   "metadata": {},
   "source": [
    "## Complément à 2"
   ]
  },
  {
   "cell_type": "markdown",
   "metadata": {},
   "source": [
    "C'est la méthode effectivement utilisée dans les ordinateurs pour coder un entier relatif \\[*signed int*\\]. En effet, elle permet d'effectuer très simplement les opérations arithmétiques de base. Nous en verrons un exemple un peu plus loin."
   ]
  },
  {
   "cell_type": "markdown",
   "metadata": {},
   "source": [
    "#### Méthode 1 - coder\n",
    "\n",
    "Pour trouver le code associé à un nombre relatif:\n",
    "1. s'il est positif, on le code ordinairement,\n",
    "2. s'il est négatif, **on trouve son complément à 1 puis on ajoute 1**.\n",
    "\n",
    "____"
   ]
  },
  {
   "cell_type": "markdown",
   "metadata": {},
   "source": [
    "*Exemple*: $-44$ en complément à 2 sur un octet s'obtient ainsi: \n",
    "\n",
    "$$\\underbrace{0010\\,1100}_{44}\\stackrel{\\text{inversion}}{\\longmapsto}\\underbrace{1101\\,0011}_{-44\\text{ en C1}}\\stackrel{+1}{\\longmapsto}\\underbrace{1101\\,0100}_{-44\\text{ en C2}}$$."
   ]
  },
  {
   "cell_type": "markdown",
   "metadata": {},
   "source": [
    "#### Méthode 2 - décoder"
   ]
  },
  {
   "cell_type": "markdown",
   "metadata": {},
   "source": [
    "Pour retrouver l'entier relatif pour un code donné:\n",
    "- si le 8ème bit est 0, l'entier codé est positif et il suffit de le convertir ordinairement,\n",
    "- s'il est à $1$:\n",
    "     - inverser tous ses bits,\n",
    "     - ajouter $1$ au code obtenu,\n",
    "     - convertir ordinairemement,\n",
    "     - apposer le signe $-$.\n",
    "_______"
   ]
  },
  {
   "cell_type": "markdown",
   "metadata": {},
   "source": [
    "*Exemple*: Retrouver l'entier relatif codé par $1010\\,1000$ par la méthode du complément à 2 sur un octet. Même question pour $0011\\,0001$.\n",
    "\n",
    "Le premier code correspond à un entier négatif,\n",
    "- inverser tous ses bits: $$0101\\,0111$$,\n",
    "- ajouter $1$ (la retenue se propage...): $$0101\\,1000$$ \n",
    "- convertir ordinairement: $$64+16+8=88$$\n",
    "- apposer le signe $-$: $${\\bf -88}$$.\n",
    "\n",
    "Le second correspond à un entier positif donc on le convertit directement $$32+16+1=49$$.\n",
    "\n",
    "**Conclusion**: Par la méthode du complément à 2 sur un octet, $1010\\,1000$ correspond à $-88$ et $0011\\,0001$ à $49$\n",
    "_____"
   ]
  },
  {
   "cell_type": "markdown",
   "metadata": {},
   "source": [
    "Observez que le complément à 2 de zéro est lui-même si *on omet le bit de retenue* (qui déborde par rapport à un octet):\n",
    "\n",
    "$$0000\\,0000\\stackrel{\\text{inversion}}{\\longmapsto}1111\\,1111\\stackrel{+1}{\\longmapsto}(\\color{red}{1})\\,0000\\,0000$$"
   ]
  },
  {
   "cell_type": "markdown",
   "metadata": {},
   "source": [
    "### Addition/soustraction"
   ]
  },
  {
   "cell_type": "markdown",
   "metadata": {},
   "source": [
    "Le point fort du complément à 2 est que les soustractions se ramènent à des additions ordinaires. Voici un exemple:"
   ]
  },
  {
   "cell_type": "markdown",
   "metadata": {},
   "source": [
    "Exemple1: Soit à effectuer $27 - 53=27+(-53)$ en binaire.\n",
    "- $27$ vaut seize + huit + deux + un donc: $$0001\\,1011$$\n",
    "- $53$ vaut  trente-deux + seize + quatre + un donc \n",
    "$$0011\\,0101\\stackrel{\\text{inversion}}{\\longmapsto}1100\\,1010\\stackrel{+1}{\\longmapsto} 1100\\,1011\\qquad (-53)$$"
   ]
  },
  {
   "cell_type": "markdown",
   "metadata": {},
   "source": [
    "               conversions       11  11   <-- retenues\n",
    "             27    -->            1 1011   \n",
    "          + -53    -->       + 1100 1011 \n",
    "          -----     |         -----------      \n",
    "            -26    <--         1110 0110 "
   ]
  },
  {
   "cell_type": "markdown",
   "metadata": {},
   "source": [
    "$$1110\\,0110\\stackrel{\\text{inversion}}{\\longmapsto}0001\\,1001\\stackrel{+1}{\\longmapsto} 0001\\,1010\\qquad (26)$$"
   ]
  },
  {
   "cell_type": "markdown",
   "metadata": {},
   "source": [
    "Le résultat est bien $-26$ et ce n'est pas un hasard (voir dans les compléments mathématiques pour une explication détaillée...)."
   ]
  },
  {
   "cell_type": "markdown",
   "metadata": {},
   "source": [
    "*Exemple 2*: Effectuons maintenant $-27-53=(-27)+(-53)$ en binaire"
   ]
  },
  {
   "cell_type": "markdown",
   "metadata": {},
   "source": [
    "                conversions     1  1 111   <-- retenues\n",
    "            -27    -->          1110 0101   \n",
    "          + -53    -->        + 1100 1011 \n",
    "          -----     |          -----------      \n",
    "            -80    <--       (1)1011 0000  (on oublie le bit qui «déborde»)"
   ]
  },
  {
   "cell_type": "markdown",
   "metadata": {},
   "source": [
    "$$1011\\,0000\\stackrel{\\text{inversion}}{\\longmapsto}0100\\,1111\\stackrel{+1}{\\longmapsto} 0101\\,1000\\qquad (80)$$"
   ]
  },
  {
   "cell_type": "markdown",
   "metadata": {},
   "source": [
    "On peut montrer que le calcul est toujours correct *sauf en cas de dépassement de capacité* c'est-à-dire si le résultat nécessite plus de place qu'un octet ici.\n",
    "\n",
    "Sur un octet, le *dépassement de capacité* peut seulement se produire de deux façons:\n",
    "- deux nombres positifs dont la somme est supérieur à $127$,\n",
    "- deux nombres négatifs dont la somme est inférieure à $-128$."
   ]
  },
  {
   "cell_type": "markdown",
   "metadata": {},
   "source": [
    "#### Exercice 4"
   ]
  },
  {
   "cell_type": "markdown",
   "metadata": {},
   "source": [
    "En utilisant la méthode du complément à 2 sur un octet\n",
    "1. coder les nombres entiers relatifs $-53$, $-66$ et $78$.\n",
    "2. retrouver les entiers relatifs dont les codes sont:\n",
    "$$\\text{a.}~0010\\,0111\\qquad \\text{b.}~1100\\,1000$$\n",
    "3. Calculer en binaire $-53-66$."
   ]
  },
  {
   "cell_type": "markdown",
   "metadata": {
    "jupyter": {
     "source_hidden": true
    }
   },
   "source": [
    "1. $-53\\leftarrow {\\bf 1100\\,1011}$, $-66\\leftarrow {\\bf 1011\\,1110}$ et $78\\leftarrow {\\bf 0100\\, 1110}$\n",
    "2. a. est positif donc ${\\bf 39}$ et b. est négatif et vaut ${\\bf -56}$.\n",
    "3.\n",
    "\n",
    "            1100 1011\n",
    "           +1011 1110\n",
    "           ----------\n",
    "         (1)1000 1001  --> 0111 0110 + 1 --> 0111 0111 --> 127-8=119 soit -119"
   ]
  }
 ],
 "metadata": {
  "kernelspec": {
   "display_name": "Python 3",
   "language": "python",
   "name": "python3"
  },
  "language_info": {
   "codemirror_mode": {
    "name": "ipython",
    "version": 3
   },
   "file_extension": ".py",
   "mimetype": "text/x-python",
   "name": "python",
   "nbconvert_exporter": "python",
   "pygments_lexer": "ipython3",
   "version": "3.7.3"
  }
 },
 "nbformat": 4,
 "nbformat_minor": 4
}
