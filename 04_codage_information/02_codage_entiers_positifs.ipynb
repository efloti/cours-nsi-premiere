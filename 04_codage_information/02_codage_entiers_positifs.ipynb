{
 "cells": [
  {
   "cell_type": "markdown",
   "metadata": {
    "slideshow": {
     "slide_type": "slide"
    }
   },
   "source": [
    "# Codage des entiers positifs en base 2 - *binaire*"
   ]
  },
  {
   "cell_type": "markdown",
   "metadata": {
    "slideshow": {
     "slide_type": "subslide"
    }
   },
   "source": [
    "Comptons avec deux chiffres pour comprendre le principe:"
   ]
  },
  {
   "cell_type": "markdown",
   "metadata": {
    "slideshow": {
     "slide_type": "fragment"
    }
   },
   "source": [
    "| zéro | un | deux | trois | quatre | cinq | six | sept | huit | neuf |  dix |\n",
    "|:----:|:--:|:----:|:-----:|:------:|:----:|:---:|:----:|:----:|:----:|:----:|\n",
    "|   0  |  1 |  10  |   11  |   100  |  101 | 110 |  111 | 1000 | 1001 | 1010 |"
   ]
  },
  {
   "cell_type": "markdown",
   "metadata": {
    "slideshow": {
     "slide_type": "fragment"
    }
   },
   "source": [
    "*Vocabulaire* - dans l'écriture binaire:\n",
    "- le bit le plus à *droite* est appelé **bit de poids faible** (**lsb** - *least significant bit*),\n",
    "- le bit le plus à *gauche* **bit de poids fort**. (**msb** - *Most significant bit*)"
   ]
  },
  {
   "cell_type": "markdown",
   "metadata": {
    "slideshow": {
     "slide_type": "fragment"
    }
   },
   "source": [
    "### Exercice\n",
    "\n",
    "Poursuivre jusqu'à seize. \n",
    "_____"
   ]
  },
  {
   "cell_type": "markdown",
   "metadata": {
    "slideshow": {
     "slide_type": "skip"
    }
   },
   "source": [
    "**solution**"
   ]
  },
  {
   "cell_type": "markdown",
   "metadata": {
    "jupyter": {
     "source_hidden": true
    }
   },
   "source": [
    "onze: $1011$, douze: $1100$, treize: $1101$, quatorze: $1110$, quinze: $1111$ et seize: $1\\,0000$"
   ]
  },
  {
   "cell_type": "markdown",
   "metadata": {
    "slideshow": {
     "slide_type": "subslide"
    }
   },
   "source": [
    "Ainsi, on procède comme d'ordinaire mais avec seulement deux *chiffres* (au lieu de dix)."
   ]
  },
  {
   "cell_type": "markdown",
   "metadata": {
    "slideshow": {
     "slide_type": "fragment"
    }
   },
   "source": [
    "On observe que les **puissances** de deux: *un*, *deux*, *quatre*, *huit*, *seize*, ... ont une écriture particulière en binaire."
   ]
  },
  {
   "cell_type": "markdown",
   "metadata": {
    "slideshow": {
     "slide_type": "fragment"
    }
   },
   "source": [
    "| **puissances de deux** | $2^0$ | $2^1$ | $2^2$ |  $2^3$ |   $2^4$   |    $2^5$   |    $2^6$    |     $2^7$    |      $2^8$      |       $2^9$      |       $2^{10}$      |\n",
    "|------------------------|:-----:|:-----:|:-----:|:------:|:---------:|:----------:|:-----------:|:------------:|:---------------:|:----------------:|:-------------------:|\n",
    "| **décimal**            |  $1$  |  $2$  |  $4$  |   $8$  |    $16$   |    $32$    |     $64$    |     $128$    |      $256$      |       $512$      |        $1024$       |\n",
    "| **binaire**            |  $1$  |  $10$ | $100$ | $1000$ | $1\\,0000$ | $10\\,0000$ | $100\\,0000$ | $1000\\,0000$ | $1\\,0000\\,0000$ | $10\\,0000\\,0000$ | $100\\, 0000\\, 0000$ |"
   ]
  },
  {
   "cell_type": "markdown",
   "metadata": {
    "slideshow": {
     "slide_type": "fragment"
    }
   },
   "source": [
    "Observation: \n",
    "- **multiplier par deux** un nombre en écriture binaire revient à ajouter $0$ à sa *droite*.\n",
    "- **diviser par deux** (division entière) revient à oublier le bit de poids faible."
   ]
  },
  {
   "cell_type": "markdown",
   "metadata": {
    "slideshow": {
     "slide_type": "slide"
    }
   },
   "source": [
    "## Binaire $\\longmapsto$ décimale"
   ]
  },
  {
   "cell_type": "markdown",
   "metadata": {
    "slideshow": {
     "slide_type": "subslide"
    }
   },
   "source": [
    "### Méthode\n",
    "\n",
    "**En partant du bit de poids faible** (*lsb*), ajouter les puissances de deux successives qui correpondent à un bit à $1$.\n",
    "_______"
   ]
  },
  {
   "cell_type": "markdown",
   "metadata": {
    "slideshow": {
     "slide_type": "fragment"
    }
   },
   "source": [
    "*Exemple*: $101\\,100\\color{blue}{1}$ égal ${\\bf\\color{blue}{\\text{un}}}$ + **huit** + **seize** + **soixante-quatre** soit $1+8+16+64=\\bf{89}$ (décimal)."
   ]
  },
  {
   "cell_type": "markdown",
   "metadata": {
    "slideshow": {
     "slide_type": "fragment"
    }
   },
   "source": [
    "*Note* Il est aussi possible de partir du bit de poids fort mais cela suppose de bien connaitre les puissances de 2."
   ]
  },
  {
   "cell_type": "markdown",
   "metadata": {
    "slideshow": {
     "slide_type": "subslide"
    }
   },
   "source": [
    "Algorithme en pseudo-code:\n",
    "    \n",
    "    Donnée: bits (écriture binaire)\n",
    "    sortie: écriture décimale correspondante\n",
    "    \n",
    "    N ← longueur de bits\n",
    "    p ← 1\n",
    "    i ← N - 1\n",
    "    valeur ← 0 # l'accumulateur\n",
    "    \n",
    "    TantQue i supérieur ou égal à 0:\n",
    "        bit ← bits[i]\n",
    "        Si bit vaut 1:\n",
    "            valeur ← valeur + p\n",
    "        p ← 2 * p\n",
    "        i ← i - 1\n",
    "    \n",
    "    renvoyer valeur"
   ]
  },
  {
   "cell_type": "markdown",
   "metadata": {
    "slideshow": {
     "slide_type": "fragment"
    }
   },
   "source": [
    "### Exercice \n",
    "\n",
    "Utiliser cet algorithme pour implémenter la fonction `binaire_vers_decimal(bits)` qui prend en argument une chaîne `bits` (type *str*) pour représenter le nombre binaire et qui renvoie la valeur décimale correspondante."
   ]
  },
  {
   "cell_type": "code",
   "execution_count": null,
   "metadata": {
    "slideshow": {
     "slide_type": "skip"
    }
   },
   "outputs": [],
   "source": [
    "assert binaire_vers_decimal(\"1011001\") == 89"
   ]
  },
  {
   "cell_type": "markdown",
   "metadata": {
    "slideshow": {
     "slide_type": "skip"
    }
   },
   "source": [
    "____\n",
    "**solution**"
   ]
  },
  {
   "cell_type": "code",
   "execution_count": null,
   "metadata": {
    "jupyter": {
     "source_hidden": true
    }
   },
   "outputs": [],
   "source": [
    "def binaire_vers_decimal(bits):\n",
    "    N = len(bits)\n",
    "    p = 1\n",
    "    i = N - 1 # index du bit de poids faible\n",
    "    valeur = 0\n",
    "    \n",
    "    while i >= 0:\n",
    "        bit = bits[i]\n",
    "        if bit == '1':\n",
    "            valeur += p\n",
    "        p *= 2\n",
    "        i -= 1\n",
    "    return valeur\n",
    "\n",
    "assert binaire_vers_decimal(\"1011001\") == 89"
   ]
  },
  {
   "cell_type": "markdown",
   "metadata": {
    "slideshow": {
     "slide_type": "subslide"
    }
   },
   "source": [
    "#### Python\n",
    "- Préfixe `0b`: préfixe d'un entier en écriture binaire,\n",
    "- `int(bits, 2)`: renvoie l'entier qui correspond à l'écriture binaire - *str* - `bits` (si c'est possible)"
   ]
  },
  {
   "cell_type": "code",
   "execution_count": null,
   "metadata": {
    "slideshow": {
     "slide_type": "fragment"
    }
   },
   "outputs": [],
   "source": [
    "a = 0b1011001\n",
    "print(f\"a vaut {a}\")\n",
    "b = int(\"1011001\", 2)\n",
    "print(a == b)"
   ]
  },
  {
   "cell_type": "markdown",
   "metadata": {
    "slideshow": {
     "slide_type": "slide"
    }
   },
   "source": [
    "## Décimale $\\longmapsto$ binaire"
   ]
  },
  {
   "cell_type": "markdown",
   "metadata": {
    "slideshow": {
     "slide_type": "subslide"
    }
   },
   "source": [
    "**Rappel**: le reste de la division entière d'un nombre par 2 est soit 0 soit 1."
   ]
  },
  {
   "cell_type": "markdown",
   "metadata": {
    "slideshow": {
     "slide_type": "fragment"
    }
   },
   "source": [
    "### Méthode 1\n",
    "\n",
    "On effectue des divisions entières par 2 successivement *tant que le quotient est non nul*.\n",
    "\n",
    "Les restes obtenus forment l'écriture binaire du nombre mais attention:\n",
    "- *le bit de poids faible* est le **premier reste** obtenu.\n",
    "____"
   ]
  },
  {
   "cell_type": "markdown",
   "metadata": {
    "slideshow": {
     "slide_type": "subslide"
    }
   },
   "source": [
    "*Exemple*: Trouver l'écriture binaire de $13$:"
   ]
  },
  {
   "cell_type": "markdown",
   "metadata": {
    "slideshow": {
     "slide_type": "subslide"
    }
   },
   "source": [
    "$$\\begin{array}{r|l}\\text{quotients} & \\text{restes}\\cr\\hline 13 & \\color{blue}{1}\\qquad \\text{bit de poids faible}\\cr 6& 0\\cr 3&1\\cr 1&\\color{red}{1}\\qquad\\text{bit de poids fort}\\end{array}\\\\\\text{donc: }13=\\color{red}{1}10\\color{blue}{1}_2$$"
   ]
  },
  {
   "cell_type": "markdown",
   "metadata": {
    "slideshow": {
     "slide_type": "subslide"
    }
   },
   "source": [
    "Algorithme en pseudo-code:\n",
    "    \n",
    "    Donnée: nb (entier positif)\n",
    "    sortie: écriture binaire correspondante (str)\n",
    "    \n",
    "    Si nb égal 0: renvoyer \"0\"\n",
    "    \n",
    "    quotient ← nb\n",
    "    bit ← 0\n",
    "    bits ← \"\" # l'accumulateur\n",
    "    \n",
    "    TantQue quotient > 0:\n",
    "        bit ← reste de la division par 2 de quotient\n",
    "        quotient ← division entière par 2 de quotient \n",
    "        bits ← concaténer bit et bits # dans cet ordre!\n",
    "    \n",
    "    renvoyer bits"
   ]
  },
  {
   "cell_type": "markdown",
   "metadata": {
    "slideshow": {
     "slide_type": "fragment"
    }
   },
   "source": [
    "### Exercice\n",
    "\n",
    "Utiliser cet algorithme pour implémenter la fonction `decimal_vers_binaire(nb)` qui prend en argument un entier positif `nb` qui renvoie l'écriture décimale correspondante sous forme d'une chaîne."
   ]
  },
  {
   "cell_type": "code",
   "execution_count": null,
   "metadata": {
    "slideshow": {
     "slide_type": "skip"
    }
   },
   "outputs": [],
   "source": [
    "assert decimal_vers_binaire(13) == \"1101\"\n",
    "assert decimal_vers_binaire(89) == \"1011001\""
   ]
  },
  {
   "cell_type": "markdown",
   "metadata": {
    "slideshow": {
     "slide_type": "skip"
    }
   },
   "source": [
    "**solution**"
   ]
  },
  {
   "cell_type": "code",
   "execution_count": null,
   "metadata": {
    "jupyter": {
     "source_hidden": true
    }
   },
   "outputs": [],
   "source": [
    "def decimal_vers_binaire(nb):\n",
    "    if nb == 0: return '0'\n",
    "    \n",
    "    quotient = nb\n",
    "    bit = 0\n",
    "    bits = \"\"\n",
    "    \n",
    "    while quotient > 0:\n",
    "        bit = quotient % 2\n",
    "        quotient = quotient // 2\n",
    "        bits = str(bit) + bits\n",
    "    \n",
    "    return bits\n",
    "\n",
    "assert decimal_vers_binaire(13) == \"1101\"\n",
    "assert decimal_vers_binaire(89) == \"1011001\""
   ]
  },
  {
   "cell_type": "markdown",
   "metadata": {
    "slideshow": {
     "slide_type": "subslide"
    }
   },
   "source": [
    "### Méthode 2\n",
    "\n",
    "*repose sur la bonne connaissance des puissances de deux*.\n",
    "1. on commence par chercher la plus grande puissance de deux $p$ inférieure ou égale au nombre donné, on calcule sa différence $d$ au nombre donné et on écris $1$ pour le bit correspondant.\n",
    "2. tant que $p > 1$:, on divise $p$ par 2: c'est le nouveau $p$\n",
    "    - si la puissance obtenue $p$ est plus grande que $d$ on écrit $0$,\n",
    "    - sinon on calcule sa différence à $d$ et on écrit $1$.\n",
    "_____"
   ]
  },
  {
   "cell_type": "markdown",
   "metadata": {
    "slideshow": {
     "slide_type": "subslide"
    }
   },
   "source": [
    "*Exemple*: Trouver l'écriture binaire de $335$"
   ]
  },
  {
   "cell_type": "markdown",
   "metadata": {
    "slideshow": {
     "slide_type": "subslide"
    }
   },
   "source": [
    "$$\\begin{array}{r|c|l}\n",
    "\\text{puissances de 2} & \\text{différences}&\\text{bits}\\cr\n",
    "\\hline & 335 & \\cr\n",
    "256 & 79& 1\\cr\n",
    "128 & & 0\\cr\n",
    "64 & 15 & 1\\cr\n",
    "32 & & 0\\cr\n",
    "16 & & 0\\cr\n",
    "8 & 7 & 1\\cr\n",
    "4 & 3 & 1\\cr\n",
    "2 & 1 & 1\\cr\n",
    "1 & 0 & 1\\cr\n",
    "\\end{array}\n",
    "\\\\\\text{donc: }335=1\\,0100\\,1111_2$$"
   ]
  },
  {
   "cell_type": "markdown",
   "metadata": {
    "slideshow": {
     "slide_type": "fragment"
    }
   },
   "source": [
    "### Exercice\n",
    "\n",
    "Utiliser cet algorithme pour implémenter la fonction `decimal_vers_binaire2(nb)` qui prend en argument un entier positif `nb` qui renvoie l'écriture décimale correspondante sous forme d'une chaîne."
   ]
  },
  {
   "cell_type": "code",
   "execution_count": null,
   "metadata": {
    "jupyter": {
     "source_hidden": true
    }
   },
   "outputs": [],
   "source": [
    "def decimal_vers_binaire2(nb):\n",
    "    if nb == 0: return \"0\"\n",
    "    \n",
    "    # cherchons la plus grande puissance de deux\n",
    "    # inférieure ou égale à nb\n",
    "    p = 1\n",
    "    while p <= nb:\n",
    "        p *= 2\n",
    "    # à la fin de la boucle p > nb \n",
    "    # la bonne puissance de 2 est la précédente \n",
    "    p = p // 2\n",
    "    \n",
    "    bits = \"1\"\n",
    "    d = nb - p\n",
    "    while p > 1:\n",
    "        # puissance de deux précédente\n",
    "        p = p // 2\n",
    "        if p > d:\n",
    "            bits += \"0\"\n",
    "        else:\n",
    "            bits += \"1\"\n",
    "            d = d - p\n",
    "    \n",
    "    return bits\n",
    "    \n",
    "\n",
    "assert decimal_vers_binaire(13) == \"1101\"\n",
    "assert decimal_vers_binaire(89) == \"1011001\""
   ]
  },
  {
   "cell_type": "markdown",
   "metadata": {
    "slideshow": {
     "slide_type": "slide"
    },
    "toc-hr-collapsed": false
   },
   "source": [
    "## Addition"
   ]
  },
  {
   "cell_type": "markdown",
   "metadata": {
    "slideshow": {
     "slide_type": "subslide"
    }
   },
   "source": [
    "Commençons par l'addition de deux bits:\n",
    "- $0+0=0$ et retenue $0$\n",
    "- $0+1=0+1=1$ et retenue $0$\n",
    "- $1+1=0$ et retenue $1$ (car $1+1=10$ ...)"
   ]
  },
  {
   "cell_type": "markdown",
   "metadata": {
    "slideshow": {
     "slide_type": "fragment"
    }
   },
   "source": [
    "Pour ajouter deux motifs binaires plus longs, on les dispose comme à l'école primaire et on procède du bit de poids faible vers le bit de poids fort."
   ]
  },
  {
   "cell_type": "markdown",
   "metadata": {
    "slideshow": {
     "slide_type": "subslide"
    }
   },
   "source": [
    "*Exemple*: le calcul de 9+51 en binaire donne (retenues en rouge):"
   ]
  },
  {
   "cell_type": "markdown",
   "metadata": {
    "slideshow": {
     "slide_type": "subslide"
    }
   },
   "source": [
    "$$\n",
    "\\begin{matrix} &&&\\color{red}{1}&\\color{red}{1}&\\cr &&1&0&0&1\\cr 1&1&0&0&1&1&\\cr \\hline 1&1&1&1&0&0 \\end{matrix}\n",
    "$$\n",
    "ce qui fait - trente-deux + seize + huit + quatre - soit $60$."
   ]
  },
  {
   "cell_type": "markdown",
   "metadata": {
    "slideshow": {
     "slide_type": "subslide"
    }
   },
   "source": [
    "#### Python\n",
    "\n",
    "`bin(nb)`: renvoie l'écriture binaire de `nb` (sous la forme d'une chaîne préfixée par `0b`)."
   ]
  },
  {
   "cell_type": "code",
   "execution_count": null,
   "metadata": {},
   "outputs": [],
   "source": [
    "bin(89)"
   ]
  }
 ],
 "metadata": {
  "kernelspec": {
   "display_name": "Python 3",
   "language": "python",
   "name": "python3"
  },
  "language_info": {
   "codemirror_mode": {
    "name": "ipython",
    "version": 3
   },
   "file_extension": ".py",
   "mimetype": "text/x-python",
   "name": "python",
   "nbconvert_exporter": "python",
   "pygments_lexer": "ipython3",
   "version": "3.6.8"
  }
 },
 "nbformat": 4,
 "nbformat_minor": 4
}
