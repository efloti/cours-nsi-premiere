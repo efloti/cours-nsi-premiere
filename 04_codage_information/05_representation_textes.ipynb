{
 "cells": [
  {
   "cell_type": "markdown",
   "metadata": {},
   "source": [
    "# Représentation des textes"
   ]
  },
  {
   "cell_type": "markdown",
   "metadata": {},
   "source": [
    "À quoi servirait un ordinateur s'il ne pouvait pas afficher de texte?\n",
    "\n",
    "Ainsi, hormis les nombres, il est indispensable d'avoir un codage pour chaque **caractère imprimable** et aussi **non imprimable** appelé **caractère de controle**.\n",
    "\n",
    "Les **caractères de contrôle** correspondent à des *actions élémentaires* telles que «passer à la ligne», «supprimer le caractère précédent», «accuser réception», ...\n",
    "\n",
    "De plus, ce codage doit être *universel* afin de pouvoir communiquer d'une machine à une autre."
   ]
  },
  {
   "cell_type": "markdown",
   "metadata": {},
   "source": [
    "## Codage ASCII (7 bits)"
   ]
  },
  {
   "cell_type": "markdown",
   "metadata": {},
   "source": [
    "Ce codage à vu le jour dans les années 60 pour mettre de l'ordre dans le chao qui régnait à l'époque.\n",
    "\n",
    "Il a été proposé par l'ANSI (**A**merican **N**ational **S**tandards **I**nstitute).\n",
    "\n",
    "Il défini un jeu de **128** caractères codés sur un octet (même si le bit de poids fort est nul) dont la valeur est appelé **point de code** du caractère."
   ]
  },
  {
   "cell_type": "markdown",
   "metadata": {},
   "source": [
    "*ASCII*: **A**merican **S**tandard **C**ode for **I**nformation **I**nterchange"
   ]
  },
  {
   "cell_type": "markdown",
   "metadata": {},
   "source": [
    "|       |   0   |   1   |   2   |   3   |   4   |   5   |   6   |   7   |   8   |   9  |   A   |   B   |   C  |   D  |   E  |   F   |\n",
    "|-------|:-----:|:-----:|:-----:|:-----:|:-----:|:-----:|:-----:|:-----:|:-----:|:----:|:-----:|:-----:|:----:|:----:|:----:|:-----:|\n",
    "| **0** | `NUL` | `SOH` | `STX` | `ETX` | `EOT` | `ENQ` | `ACK` | `BEL` |  `BS` | `HT` |  `LF` |  `VT` | `FF` | `CR` | `SO` |  `SI` |\n",
    "| **1** | `DLE` | `DC1` | `DC2` | `DC3` | `DC4` | `NAK` | `SYN` | `ETB` | `CAN` | `EM` | `SUB` | `ESC` | `FS` | `GS` | `RS` |  `US` |\n",
    "| **2** |  `SP` |   !   |   \"   |   #   |   $   |   %   |   &   |   '   |   (   |   )  |   *   |   +   |   ,  |   -  |   .  |   /   |\n",
    "| **3** |   0   |   1   |   2   |   3   |   4   |   5   |   6   |   7   |   8   |   9  |   :   |   ;   |   <  |   =  |   >  |   ?   |\n",
    "| **4** |   @   |   A   |   B   |   C   |   D   |   E   |   F   |   G   |   H   |   I  |   J   |   K   |   L  |   M  |   N  |   O   |\n",
    "| **5** |   P   |   Q   |   R   |   S   |   T   |   U   |   V   |   W   |   X   |   Y  |   Z   |   [   |   \\  |   ]  |   ^  |   _   |\n",
    "| **6** |   `   |   a   |   b   |   c   |   d   |   e   |   f   |   g   |   h   |   i  |   j   |   k   |   l  |   m  |   n  |   o   |\n",
    "| **7** |   p   |   q   |   r   |   s   |   t   |   u   |   v   |   w   |   x   |   y  |   z   |   {   |  \\|  |   }  |   ~  | `DEL` |"
   ]
  },
  {
   "cell_type": "markdown",
   "metadata": {},
   "source": [
    "*Quelques explications*: \n",
    "- le caractère `b` (par exemple) a le **point de code** `62` (en base 16) soit 98 en base 10.\n",
    "- Les caractères dont le point de code est situé entre `0` et `20` (32) et `7F` (127) sont appelés **caractères de contrôle** par opposition aux autres dits **caractères imprimables**.\n",
    "\n",
    "  Ces caractères correspondent à des *actions* qui visent à contrôler des périphériques (écran, imprimante...) ou à fournir des informations sur «les flux de données». [Pour en savoir plus](https://fr.wikipedia.org/wiki/American_Standard_Code_for_Information_Interchange#Caract%C3%A8res_de_contr%C3%B4le)\n",
    "  \n",
    "  Certains peuvent être utile dans les chaînes de caractères en Python comme: `\\t` (`HT`) tabulation horizontale, `\\n` (`LF`) saut de ligne, ... \n",
    "\n"
   ]
  },
  {
   "cell_type": "markdown",
   "metadata": {},
   "source": [
    "Un texte codé en ASCII est simplement une séquence d'octets correspondant à cette séquence de caractères."
   ]
  },
  {
   "cell_type": "markdown",
   "metadata": {},
   "source": [
    "*Exemple*: Le texte `\"Python est RoYaL!\"` correspond à la suite d'octets (en hexa):\n",
    "   \n",
    "    P  y  t  h  o  n     e  s  t     R  o  Y  a  L  !\n",
    "    50 79 74 68 6F 6E 20 65 73 74 20 52 6F 59 61 4C 21"
   ]
  },
  {
   "cell_type": "markdown",
   "metadata": {},
   "source": [
    "#### Python \n",
    "\n",
    "La fonction `str.encode(encodage)` renvoie un tableau d'**octets** qui traduit la chaîne `str` dans le système d'`encodage` indiqué (par défaut `uft8` qui sera détaillé plus loin).\n",
    "\n",
    "Voici un exemple:"
   ]
  },
  {
   "cell_type": "code",
   "execution_count": null,
   "metadata": {},
   "outputs": [],
   "source": [
    "chaine_exemple = \"Python est RoYaL!\"\n",
    "# en ascii\n",
    "octets = chaine_exemple.encode(\"ascii\")\n",
    "for octet in octets:\n",
    "    # conversion de l'octet dans l'écriture hexadécimal\n",
    "    print(hex(octet), end = \" \")"
   ]
  },
  {
   "cell_type": "markdown",
   "metadata": {},
   "source": [
    "La fonction `ord(caractere)` renvoie le point de code de `caractère`."
   ]
  },
  {
   "cell_type": "code",
   "execution_count": null,
   "metadata": {},
   "outputs": [],
   "source": [
    "a, b, c = \"e\", \"é\", \"è\"\n",
    "# en base 10 par défaut,\n",
    "print( f\"'{a}' a pour point de code: {ord(a)}, '{b}': {ord(b)}, '{c}': {ord(c)}\" )\n",
    "# en hexa {var:x} (en binaire avec :b)\n",
    "print( f\"'{a}' a pour point de code: {ord(a):x}, '{b}': {ord(b):x}, '{c}': {ord(c):x}\" )"
   ]
  },
  {
   "cell_type": "markdown",
   "metadata": {},
   "source": [
    "- Modifier ce code pour afficher le point de code de chaque lettre en hexadécimal.\n",
    "- pourquoi les caractères 'é' et 'è' ne peuvent faire partie du codage ASCII?"
   ]
  },
  {
   "cell_type": "markdown",
   "metadata": {},
   "source": [
    "La fonction `chr(point_de_code)` renvoie le caractère *unicode* correspondant au `point_de_code` indiqué. Tester là."
   ]
  },
  {
   "cell_type": "markdown",
   "metadata": {},
   "source": [
    "Bien sûr, le code ASCII ne suffit pas pour représenter tous les textes du monde: le caractère \"œ\" par exemple n'y figure pas! (et les lettres grecs, signes arabes, les idéogrammes chinois ....)"
   ]
  },
  {
   "cell_type": "markdown",
   "metadata": {},
   "source": [
    "## Normes ISO 8859 - *International Standard Organisation*"
   ]
  },
  {
   "cell_type": "markdown",
   "metadata": {},
   "source": [
    "Pour résoudre le problème de l'insuffisance de caractères, dans les années (19)80, l'ISO à proposé des **extensions de l'ASCII** utilisant les 8 bits (et non 7) permettant de coder 256 caractères ($2^8$).\n",
    "\n",
    "Parmi ces **extensions** - *les 128 premiers caractères sont ceux de l'ASCII*! - on trouve:\n",
    "- `latin-1` alias de `ISO-8858-1` pour l'europe occidentale,\n",
    "- `latin-2` alias de `ISO-8859-2` pour l'europe centrale et de l'est,\n",
    "- `ISO-8859-7` pour le Grec (n'est pas *latin* ...)\n",
    "- `latin-9` alias de `ISO-8859-15` qui est une révision du *latin-1* (avec le caractère €)\n",
    "- ... il y a seize tables au total - voir la [liste complète](https://en.wikipedia.org/wiki/ISO/IEC_8859#The_parts_of_ISO/IEC_8859)"
   ]
  },
  {
   "cell_type": "markdown",
   "metadata": {},
   "source": [
    "Par exemple, en `latin-1`, on trouve les caractères supplémentaires `àéèêï` ... mais pas `œ` ni `€`. (on les trouve en `latin-9`). Pour les voir (explications un peu plus loin):"
   ]
  },
  {
   "cell_type": "code",
   "execution_count": null,
   "metadata": {},
   "outputs": [],
   "source": [
    "# Affichons les caractères imprimables du latin-1 et latin-9 (autre que ASCII)\n",
    "points_de_code_decimal = [i for i in range(128, 256)]\n",
    "octets = bytes(points_de_code_decimal)\n",
    "# latin-1\n",
    "print(octets.decode('iso-8859-1'))\n",
    "print()\n",
    "# latin-9 \n",
    "print(octets.decode('iso-8859-15', 'ignore')) # il est instructif d'enlever le print ...\n",
    "# NOTE: 'ignore' pour supprimer l'erreur lorsque le point de code n'est pas attribué."
   ]
  },
  {
   "cell_type": "markdown",
   "metadata": {},
   "source": [
    "Explications:\n",
    " - `bytes(entiers)` renvoie un tableau d'octets où chaque octet traduit l'entier correspondant de `entiers` (qui doit être entre 0 et 255!)\n",
    " - `bytes.decode(encodage)` renvoie la chaîne dont les caractères sont ceux qui correpondent aux octets de `bytes` (tableau d'octets) suivant l'`encodage` précisé."
   ]
  },
  {
   "cell_type": "markdown",
   "metadata": {},
   "source": [
    "Heureusement, tout cela a été rendu obsolète - dans une certaine mesure car on rencontre encore ces encodages! - par **Unicode**."
   ]
  },
  {
   "cell_type": "markdown",
   "metadata": {},
   "source": [
    "## Unicode"
   ]
  },
  {
   "cell_type": "markdown",
   "metadata": {},
   "source": [
    "Les *ascii étendus* ce sont avérés insuffisants notamment pour gérer le problème des documents «multi-langues».\n",
    "\n",
    "L'ISO a donc décider de créer un *jeu universel de caractères* (**UCS** pour *Universal Character Set*) dans sa norme `ISO-10646` qui est devenu **unicode**."
   ]
  },
  {
   "cell_type": "markdown",
   "metadata": {},
   "source": [
    "À chaque caractère - de contrôle ou imprimable - est associé un *nom* et un *point de code* unique:\n",
    "- le point de code est sur 32 bits (4 octets) - donc $2^{32}\\approx 4$ milliards de possibilités. En fait le *point de code* unicode le plus grand est `ox10FFFF`.\n",
    "- Les 256 premiers points de code sont ceux de `latin-1`."
   ]
  },
  {
   "cell_type": "markdown",
   "metadata": {},
   "source": [
    "Pour désigner un **point de code** on utilise de manière conventionnelle la notation `U+<hexa>` où hexa comporte de 4 à 6 chiffres hexadécimaux."
   ]
  },
  {
   "cell_type": "markdown",
   "metadata": {},
   "source": [
    "### Python"
   ]
  },
  {
   "cell_type": "markdown",
   "metadata": {},
   "source": [
    "On peut utiliser les notations `\\uxxxx` (pour un point de code d'au plus 16 bits) et `\\Uxxxxxxxxx` (pour un point de code d'au plus 32 bits) afin d'introduire le caractère correspondant."
   ]
  },
  {
   "cell_type": "code",
   "execution_count": null,
   "metadata": {},
   "outputs": [],
   "source": [
    "print(\"Rester zen \\u262F et en avant 🚀! \\U0001F60E\")"
   ]
  },
  {
   "cell_type": "markdown",
   "metadata": {},
   "source": [
    "Dans les années 19(90), **Unicode** reprend cette norme ISO et définit plusieurs techniques de codage connus sous le doux nom de *Universal Transformation Format* (**UTF**):\n",
    "- **UTF-8** (encodage le plus utilisé): compatible ASCII, le nombre d'octets par caractère est variable,\n",
    "- UTF-16 et UTF-32 que nous n'aborderons pas."
   ]
  },
  {
   "cell_type": "markdown",
   "metadata": {},
   "source": [
    "## Encodage UTF-8"
   ]
  },
  {
   "cell_type": "markdown",
   "metadata": {},
   "source": [
    "C'est devenu l'encodage le plus utilisé au monde et il est bon d'entrer un peu dans les détails."
   ]
  },
  {
   "cell_type": "markdown",
   "metadata": {},
   "source": [
    "Le 8 de UTF-8 signifie que le motif binaire d'un point de code comporte **au moins** 8 bits (1 octet)."
   ]
  },
  {
   "cell_type": "markdown",
   "metadata": {},
   "source": [
    "*Note*: UTF-16 donc au moins 2 octets, UTF-32 au moins 4 octets (en fait exactement dans ce cas)."
   ]
  },
  {
   "cell_type": "markdown",
   "metadata": {},
   "source": [
    "Chaque caractère - point de code - est représenté sur:\n",
    "- 1 octet: ASCII (`U+0000` à `U+007F`),\n",
    "- 2 octets: si le caractère a un point de code dans l'intervalle `U+0080` à `U+07FF`,\n",
    "- 3 octets pour l'intervalle `U+0800` à `U+FFFF`,\n",
    "- 4 octets pour l'intervalle `U+10000` à `U+10FFFF`."
   ]
  },
  {
   "cell_type": "markdown",
   "metadata": {},
   "source": [
    "| plages de points de code | Suite d'octets - *codet* - (en binaire)                                                  | bits significatifs | caractères             |\n",
    "|:------------------------:|-------------------------------------------------------------------------------------------|:------------------:|------------------------|\n",
    "| `U+0000` - `U+007F`      | $\\color{red}{0}bbbbbbb$                                                                   |        0 à 7       | ASCII                  |\n",
    "| `U+0080` - `U+07FF`      | $\\color{red}{110}bbbbb~\\color{red}{10}bbbbbb$                                              |       8 à 11       | Europe et Moyen-Orient |\n",
    "| `U+0800` - `U+FFFF`      | $\\color{red}{1110}bbbb~\\color{red}{10}bbbbbb~\\color{red}{10}bbbbbb$                       |       12 à 16      | autres alphabets       |\n",
    "| `U+10000` - `U+10FFFF`   | $\\color{red}{11110}bbb~\\color{red}{10}bbbbbb~\\color{red}{10}bbbbbb~\\color{red}{10}bbbbbb$ |       17 à 21      | ...                    |"
   ]
  },
  {
   "cell_type": "markdown",
   "metadata": {},
   "source": [
    "Par exemple, le point de code `10FFFF` s'exprime en binaire par $$000\\underbrace{1\\,0000\\,1111\\,1111\\,1111\\,1111}_{\\text{bits significatifs}}$$soit $4\\times 5+1 = {\\bf 21}$ **bits significatifs**.\n",
    "\n",
    "le caractère correspond aura donc un **codet de quatre octets** qu'on obtient en *insérant ses bits* au fur et à mesure dans les places manquantes indiquées par les $b$: \n",
    "\n",
    "$$\\text{point de code: }\\overline{1}\\,\\underline{0000}\\,\\overline{1111}\\,\\underline{1111}\\,\\overline{1111}\\,\\underline{1111} \\\\\\text{codet UTF-8 correspondant: }\\color{red}{11110}\\overline{1}\\underline{00}~\\color{red}{10}\\underline{00}\\overline{1111}~\\color{red}{10}\\underline{1111}\\overline{11}~\\color{red}{10}\\overline{11}\\underline{1111}$$"
   ]
  },
  {
   "cell_type": "markdown",
   "metadata": {},
   "source": [
    "*Exercice*: Trouver le codet UTF-8 de ☯ dont le point de code est **262F**"
   ]
  },
  {
   "cell_type": "markdown",
   "metadata": {
    "jupyter": {
     "source_hidden": true
    }
   },
   "source": [
    "le point de code en hexadécimal **262F** correpond au motif binaire **0010 0110 0010 1111** soit 14 bits significatifs.\n",
    "\n",
    "Son codet aura donc **trois octets** (voir tableau):\n",
    "$$\\text{point de code: }\\overline{0110}\\,\\underline{0110}\\,\\overline{0010}\\,\\underline{1111} \\\\\\text{codet UTF-8 correspondant: }\\color{red}{1110}\\overline{0010}~\\color{red}{10}\\underline{0110}\\overline{00}~\\color{red}{10}\\overline{10}\\underline{1111}$$"
   ]
  },
  {
   "cell_type": "markdown",
   "metadata": {},
   "source": [
    "*Exercice*: Écrire la fonction `utf_8(pt_code)` qui renvoie le codet (sous la forme d'une chaîne) correspondant à `pt_code` (un `int`) en UTF-8."
   ]
  },
  {
   "cell_type": "code",
   "execution_count": null,
   "metadata": {
    "jupyter": {
     "source_hidden": true
    }
   },
   "outputs": [],
   "source": [
    "def utf_8(entier): \n",
    "    bits = bin(entier)[2:]\n",
    "    N = len(bits)\n",
    "    \n",
    "    assert N <= 21, \"n'est pas un point de code valide (pour Unicode)\"\n",
    "    \n",
    "    if N <= 7:\n",
    "        bits = \"0\" * (7 - N) + bits\n",
    "        return f\"0{bits}\"\n",
    "    elif N <= 11:\n",
    "        bits = \"0\" * (11 - N) + bits\n",
    "        return f\"110{bits[:5]} 10{bits[5:]}\"\n",
    "    elif N <= 16:\n",
    "        bits = \"0\" * (16 - N) + bits\n",
    "        return f\"1110{bits[:4]} 10{bits[4:10]} 10{bits[10:]}\"\n",
    "    else:\n",
    "        bits = \"0\" * (21 - N) + bits\n",
    "        return f\"11110{bits[:3]} 10{bits[3:9]} 10{bits[9:15]} 10{bits[15:]}\"\n",
    "\n",
    "# exemples d'utilisation\n",
    "print(f\"{chr(127)} de point de code 127 a le codet: {utf_8(127)}\")\n",
    "print(f\"'à' de point de code {ord('à'):x} (hexa) a le codet: { utf_8(ord('à')) }\")\n",
    "print(f\"'€' de point de code {ord('€'):x} (hexa) a le codet: { utf_8(ord('€')) }\")\n",
    "a, b, c = '\\u262F', '\\U0001F60E', '\\U0010FFFF'\n",
    "print(f\"'{chr(0x262F)}' de point de code '262F' (hexa) a le codet: { utf_8(ord(a)) }\")\n",
    "print(f\"'{chr(0x1F60E)}' de point de code '1F60E' (hexa) a le codet: { utf_8(ord(b)) }\")\n",
    "print(f\"'{chr(0x10FFFF)}' de point de code '10FFFF' (hexa) a le codet: { utf_8(ord(c)) }\")"
   ]
  }
 ],
 "metadata": {
  "kernelspec": {
   "display_name": "Python 3",
   "language": "python",
   "name": "python3"
  },
  "language_info": {
   "codemirror_mode": {
    "name": "ipython",
    "version": 3
   },
   "file_extension": ".py",
   "mimetype": "text/x-python",
   "name": "python",
   "nbconvert_exporter": "python",
   "pygments_lexer": "ipython3",
   "version": "3.7.3"
  }
 },
 "nbformat": 4,
 "nbformat_minor": 4
}
