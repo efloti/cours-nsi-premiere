{
 "cells": [
  {
   "cell_type": "markdown",
   "metadata": {},
   "source": [
    "# Les «f-strings» revisitées"
   ]
  },
  {
   "cell_type": "markdown",
   "metadata": {},
   "source": [
    "Les «chaînes formatées» sont des chaînes préfixées par la lettre `f`.\n",
    "\n",
    "À l'intérieur d'une telle chaîne, les partie entre accolades `{...}` peuvent contenir des expressions dont le résultat est inséré dans la chaîne finale.\n",
    "\n",
    "Basiquement:"
   ]
  },
  {
   "cell_type": "code",
   "execution_count": null,
   "metadata": {},
   "outputs": [],
   "source": [
    "prenom, nom, age = \"john\", \"smith\", 31\n",
    "f_str = f\"Je m'appelle {prenom} {nom.upper()} et j'ai {age} ans\"\n",
    "print(f_str)"
   ]
  },
  {
   "cell_type": "markdown",
   "metadata": {},
   "source": [
    "Pour une variable `nb` de type `int`, on peut formatter sa représentation en *binaire* `{nb:b}`, en *octale* `{nb:o}`, ou en *hexadécimal* `{nb:x}`:"
   ]
  },
  {
   "cell_type": "code",
   "execution_count": null,
   "metadata": {},
   "outputs": [],
   "source": [
    "nb = 76 # essayer avec 0x1001100, 0o114 et 0x4C\n",
    "print(f\"{nb} s'écrit {nb:b} en base 2, {nb:o} en base 8 et {nb:x} en base 16\")"
   ]
  },
  {
   "cell_type": "markdown",
   "metadata": {},
   "source": [
    "Notamment, il peut être utile de calibrer l'écriture en binaire sur 1 octet `{nb:08b}` ou sur 2 octets `{nb:016b}`.\n",
    "\n",
    "Le `'0'` après les `:` indique le caractère de remplissage à gauche et `8` ou `16` indique le nombre de «caractères» utilisés pour écrire le nombre:"
   ]
  },
  {
   "cell_type": "code",
   "execution_count": null,
   "metadata": {},
   "outputs": [],
   "source": [
    "nb1, nb2 = 76, 345\n",
    "print(f\"Le premier nombre est {nb1:08b} et le second {nb2:016b}\")"
   ]
  },
  {
   "cell_type": "markdown",
   "metadata": {},
   "source": [
    "**Alternativement**, on peut préciser qu'on souhaite séparer les groupes de 4 bits par `_`"
   ]
  },
  {
   "cell_type": "code",
   "execution_count": null,
   "metadata": {},
   "outputs": [],
   "source": [
    "nb1, nb2 = 76, 345\n",
    "print(f\"Le premier nombre est {nb1:_b} et le second {nb2:_b}\")"
   ]
  },
  {
   "cell_type": "markdown",
   "metadata": {},
   "source": [
    "C'est similaire avec les nombres en base 10 (flottants ou entier):"
   ]
  },
  {
   "cell_type": "code",
   "execution_count": null,
   "metadata": {},
   "outputs": [],
   "source": [
    "nb1, nb2 = 10000000000000, 1.2e10\n",
    "print(f\"{nb1:_} et {nb2:_}\")"
   ]
  },
  {
   "cell_type": "markdown",
   "metadata": {},
   "source": [
    "# Le module `struct`"
   ]
  },
  {
   "cell_type": "markdown",
   "metadata": {},
   "source": [
    "La fonction `pack(format, valeur)` convertie la `valeur` Python en un type du langage C précisé par `format`; la valeur renvoyée est un **tableau d'octets** (*bytesarray*).\n",
    "\n",
    "`format` est une chaîne de caractère:\n",
    "- `h` ou `H`: vers le type *signed short* ou *unsigned short* (entier sur 2 octets)\n",
    "- `i` ou `I`: vers le type *signed int* ou *unsigned int* (entier sur 4 octets)\n",
    "- `f` ou `d`: vers le type *float* (flottant en simple précision) ou *double* (double précision).\n",
    "- ..."
   ]
  },
  {
   "cell_type": "code",
   "execution_count": null,
   "metadata": {},
   "outputs": [],
   "source": [
    "from struct import pack\n",
    "x = 12 # 0000 0000 0000 1100 (2 octets) \n",
    "octets = pack('h', x)\n",
    "print(octets)"
   ]
  },
  {
   "cell_type": "markdown",
   "metadata": {},
   "source": [
    "**Explication**: la machine est petit boutiste - *little endian* - donc le premier octet est celui de droite `0c` et le second est celui de gauche `00`!\n",
    "\n",
    "Observer que Python représente l'octet dans le tableau avec l'écriture `\\x--`.\n",
    "\n",
    "**Cependant**, on peut forcer la représentation «gros boutiste» - *big endian* - en utilisant le format `'!h'`"
   ]
  },
  {
   "cell_type": "code",
   "execution_count": null,
   "metadata": {},
   "outputs": [],
   "source": [
    "octets = pack('!h', x)\n",
    "print(octets)"
   ]
  },
  {
   "cell_type": "markdown",
   "metadata": {},
   "source": [
    "Trouvons la représentation binaire du nombre:"
   ]
  },
  {
   "cell_type": "code",
   "execution_count": null,
   "metadata": {},
   "outputs": [],
   "source": [
    "octets_b = [ f\"{octet:08b}\" for octet in octets ]\n",
    "\" \".join(octets_b)"
   ]
  },
  {
   "cell_type": "markdown",
   "metadata": {},
   "source": [
    "Essayons avec un nombre négatif:"
   ]
  },
  {
   "cell_type": "code",
   "execution_count": null,
   "metadata": {},
   "outputs": [],
   "source": [
    "x = -12\n",
    "octets = pack('!h', x) # essayer de remplacer !h par !H\n",
    "octets_b = [ f\"{octet:08b}\" for octet in octets ]\n",
    "\" \".join(octets_b)"
   ]
  },
  {
   "cell_type": "markdown",
   "metadata": {},
   "source": [
    "Il n'est pas trop difficile de voir que c'est la représentation en complément à 2 sur deux octets du nombre $-12$."
   ]
  },
  {
   "cell_type": "markdown",
   "metadata": {},
   "source": [
    "Vérifions qu'on retrouve la représentation binaire du flottant $-1,\\!375\\times 2^{-5}$"
   ]
  },
  {
   "cell_type": "code",
   "execution_count": null,
   "metadata": {},
   "outputs": [],
   "source": [
    "x = -1.375 * 2 ** (-5)\n",
    "# récupérons le tableau d'octets gros-boutiste de x vu comme un flottant en simple précision \n",
    "octets = pack('!f', x)\n",
    "# conversion de chaque octet en son motif binaire\n",
    "octets_b = [ f\"{octet:08b}\" for octet in octets]\n",
    "# collons les bouts\n",
    "repr_bin = \"\".join(octets_b)\n",
    "# 1er bit (n° 0) = signe, bit 1 à 9 = exposant, bit 10 à 31 = mantisse. \n",
    "signe, exposant, mantisse = repr_bin[0], repr_bin[1:9], repr_bin[9:]\n",
    "# affichons le tout proprement\n",
    "print(f\"{signe} {exposant} {mantisse}\")"
   ]
  },
  {
   "cell_type": "markdown",
   "metadata": {},
   "source": [
    "### Note complémentaire\n",
    "\n",
    "Lorsqu'on affiche directement le tableau d'octets, Python écrit sois:\n",
    "- `\\x--`: pour représenter un octet qui **n'est pas** le *point de code* ASCII d'un caractère imprimable,\n",
    "- autrement le caractère ASCII lui-même!.\n",
    "\n",
    "Cela donne parfois quelquechose de peu lisible:"
   ]
  },
  {
   "cell_type": "code",
   "execution_count": null,
   "metadata": {},
   "outputs": [],
   "source": [
    "x = -1.375 * 2 ** (-5)\n",
    "# récupérons le tableau d'octets gros-boutiste de x vu comme un flottant en simple précision \n",
    "octets = pack('!f', x)\n",
    "print(octets, len(octets))"
   ]
  },
  {
   "cell_type": "markdown",
   "metadata": {},
   "source": [
    "Il y a bien 4 octets, le deuxième est 0011 0000 soit «0x30» (hexa) qui vaut 32+16=48; c'est le point de code du caractère '0'!\n",
    "\n",
    "Il faut lire «bd 30 00 00» en hexadecimal, la preuve:"
   ]
  },
  {
   "cell_type": "code",
   "execution_count": null,
   "metadata": {},
   "outputs": [],
   "source": [
    "octets_hex = [ f\"{octet:02x}\" for octet in octets ]\n",
    "print(\" \".join(octets_hex))"
   ]
  }
 ],
 "metadata": {
  "kernelspec": {
   "display_name": "Python 3",
   "language": "python",
   "name": "python3"
  },
  "language_info": {
   "codemirror_mode": {
    "name": "ipython",
    "version": 3
   },
   "file_extension": ".py",
   "mimetype": "text/x-python",
   "name": "python",
   "nbconvert_exporter": "python",
   "pygments_lexer": "ipython3",
   "version": "3.7.3"
  }
 },
 "nbformat": 4,
 "nbformat_minor": 4
}
