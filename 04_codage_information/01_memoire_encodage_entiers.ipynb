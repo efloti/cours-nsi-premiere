{
 "cells": [
  {
   "cell_type": "markdown",
   "metadata": {
    "slideshow": {
     "slide_type": "slide"
    }
   },
   "source": [
    "# Mémoire et «boutisme» (*endianness*)"
   ]
  },
  {
   "cell_type": "markdown",
   "metadata": {
    "slideshow": {
     "slide_type": "slide"
    }
   },
   "source": [
    "## Bit (*binary digit*) et octet (*byte*)"
   ]
  },
  {
   "cell_type": "markdown",
   "metadata": {
    "slideshow": {
     "slide_type": "fragment"
    }
   },
   "source": [
    "Dans un ordinateur, en simplifiant, on distingue seulement deux états de tension électrique: \n",
    "- l'état *haut*: le courant passe, symbolisé par **1**, \n",
    "- l'état *bas*: le courant ne passe pas, symbolisé par **0**"
   ]
  },
  {
   "cell_type": "markdown",
   "metadata": {
    "slideshow": {
     "slide_type": "fragment"
    }
   },
   "source": [
    "Toute information doit alors être **encodé** avec une séquence n'utilisant que ces deux chiffres - **0** et **1** - appelés *bits* par contraction de *binary digits*."
   ]
  },
  {
   "cell_type": "markdown",
   "metadata": {
    "slideshow": {
     "slide_type": "fragment"
    }
   },
   "source": [
    "Une séquence de 8 bits est appelé **octet** (*byte*)."
   ]
  },
  {
   "cell_type": "markdown",
   "metadata": {
    "slideshow": {
     "slide_type": "slide"
    }
   },
   "source": [
    "## Organisation de la mémoire principale"
   ]
  },
  {
   "cell_type": "markdown",
   "metadata": {
    "slideshow": {
     "slide_type": "subslide"
    }
   },
   "source": [
    "La *mémoire principale* d'un ordinateur est divisée en **cellules** (ou *cases*) d'un octet (la plupart du temps).\n",
    "\n",
    "La **cellule** est la plus petite quantité d'information *adressable*: chaque cellule possède une adresse propre."
   ]
  },
  {
   "cell_type": "markdown",
   "metadata": {
    "slideshow": {
     "slide_type": "fragment"
    }
   },
   "source": [
    "Les **cellules** sont elle-mêmes regroupées en **mots**: c'est l'unité d'échange entre la *mémoire* et le *processeur*."
   ]
  },
  {
   "cell_type": "markdown",
   "metadata": {
    "slideshow": {
     "slide_type": "fragment"
    }
   },
   "source": [
    "<img src=\"illustrations/mem_cellule_mot.png\" width=\"300px\"/>"
   ]
  },
  {
   "cell_type": "markdown",
   "metadata": {
    "slideshow": {
     "slide_type": "subslide"
    }
   },
   "source": [
    "En pratique, un ordinateur 32 bits manipule des mots de 4 octets (comme sur la figure ci-dessus), un ordinateurs 64 bits des mots de 8 octets."
   ]
  },
  {
   "cell_type": "markdown",
   "metadata": {
    "slideshow": {
     "slide_type": "fragment"
    }
   },
   "source": [
    "<img src=\"illustrations/mem_cpu.png\"/>"
   ]
  },
  {
   "cell_type": "markdown",
   "metadata": {
    "slideshow": {
     "slide_type": "slide"
    }
   },
   "source": [
    "### Machine «gros ou petit boutiste» - *big or little endian*"
   ]
  },
  {
   "cell_type": "markdown",
   "metadata": {
    "slideshow": {
     "slide_type": "subslide"
    }
   },
   "source": [
    "À l'intérieur d'un mot mémoire, de **gauche à droite**:\n",
    "- organisation «gros boutiste» - **big endian** : les octets ont des **adresses croissantes** (comme sur la figure du haut)\n",
    "- organisation «petit boutiste - **little endian**: les octets ont des **adresses décroissantes**."
   ]
  },
  {
   "cell_type": "markdown",
   "metadata": {
    "slideshow": {
     "slide_type": "fragment"
    }
   },
   "source": [
    "<img src=\"illustrations/big-little-endian.png\"/>"
   ]
  },
  {
   "cell_type": "markdown",
   "metadata": {
    "slideshow": {
     "slide_type": "fragment"
    }
   },
   "source": [
    "Par exemple les processeurs *intel* sont «petit boutiste» tandis que les *motorola* sont «gros boutiste»."
   ]
  },
  {
   "cell_type": "markdown",
   "metadata": {
    "slideshow": {
     "slide_type": "subslide"
    }
   },
   "source": [
    "En pratique, cela n'a pas grande importance sauf dans les *transmissions réseaux* qui se font octet par octet (dans le sens croissant de leurs adresses mémoires)."
   ]
  },
  {
   "cell_type": "markdown",
   "metadata": {
    "slideshow": {
     "slide_type": "fragment"
    }
   },
   "source": [
    "Mettons qu'en mémoire soit rangé un objet comportant quatre descripteurs:\n",
    "- nom: smith,\n",
    "- prénom: john,\n",
    "- âge: 21,\n",
    "- n° d'identification: 260 \n",
    "\n",
    "260 ne peut pas s'écrire sur un octet, il faut *au moins 9 bits*.\n",
    "\n",
    "260 en binaire s'écrit $\\overbrace{00000001}^{8\\text{bits}}\\,\\overbrace{00000100}^{8\\text{bits}}$ d'où **1** pour l'octet gauche et **4** pour l'octet droit (nous comprendrons les détails un peu plus tard)\n",
    "\n",
    "Voici l'état de la mémoire dans les deux organisations et le résultat du transfert octet par octet:"
   ]
  },
  {
   "cell_type": "markdown",
   "metadata": {
    "slideshow": {
     "slide_type": "subslide"
    }
   },
   "source": [
    "<img src=\"illustrations/mem_transfert_boutisme.png\"/>"
   ]
  },
  {
   "cell_type": "markdown",
   "metadata": {
    "slideshow": {
     "slide_type": "fragment"
    }
   },
   "source": [
    "Il n'y a pas de solution générale à ce problème de transfert entre gros-boutiste et petit-boutiste."
   ]
  }
 ],
 "metadata": {
  "celltoolbar": "Diaporama",
  "kernelspec": {
   "display_name": "Python 3",
   "language": "python",
   "name": "python3"
  },
  "language_info": {
   "codemirror_mode": {
    "name": "ipython",
    "version": 3
   },
   "file_extension": ".py",
   "mimetype": "text/x-python",
   "name": "python",
   "nbconvert_exporter": "python",
   "pygments_lexer": "ipython3",
   "version": "3.6.8"
  },
  "toc-autonumbering": false
 },
 "nbformat": 4,
 "nbformat_minor": 4
}
