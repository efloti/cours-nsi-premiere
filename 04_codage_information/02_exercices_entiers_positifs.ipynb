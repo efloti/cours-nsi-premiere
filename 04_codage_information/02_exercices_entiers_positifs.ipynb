{
 "cells": [
  {
   "cell_type": "markdown",
   "metadata": {},
   "source": [
    "# Exercices sur la représentation binaire et hexadécimales des entiers"
   ]
  },
  {
   "cell_type": "markdown",
   "metadata": {},
   "source": [
    "#### 1 - Convertir les nombres suivants en base 2:\n",
    "- «mentalement»: $13$, $54$, $64$ et $77$,\n",
    "- en «posant»: $362$ et $1713$."
   ]
  },
  {
   "cell_type": "markdown",
   "metadata": {
    "jupyter": {
     "source_hidden": true
    }
   },
   "source": [
    "$13_{\\text{dix}}=1101_2$\n",
    "\n",
    "$54_{\\text{dix}}=11\\,0110_2$\n",
    "\n",
    "$64_{\\text{dix}}=100\\,0000_2$\n",
    "\n",
    "$77_{\\text{dix}}=100\\,1101_2$."
   ]
  },
  {
   "cell_type": "markdown",
   "metadata": {
    "jupyter": {
     "source_hidden": true
    }
   },
   "source": [
    "    362 | 0                          1713 | 1\n",
    "    181 | 1                           856 | 0\n",
    "     90 | 0                           428 | 0\n",
    "     45 | 1                           214 | 0\n",
    "     22 | 0                           107 | 1  \n",
    "     11 | 1                            53 | 1\n",
    "      5 | 1                            26 | 0  \n",
    "      2 | 0                            13 | 1\n",
    "      1 | 1                             6 | 0\n",
    "                                        3 | 1\n",
    "     362 -> 1 0110 1010                 1 | 1     1713 -> 110 1011 0001"
   ]
  },
  {
   "cell_type": "markdown",
   "metadata": {},
   "source": [
    "#### 2 - Quels sont les entiers en base 2 qui suivent et précèdent (d'une unité):\n",
    "\n",
    "$$\n",
    "{\\bf \\text{a.}}~ 1101\\qquad\n",
    "{\\bf \\text{b.}}~ 10\\,0110\\qquad\n",
    "{\\bf \\text{c.}}~ 1001\\,0001\\quad\n",
    "{\\bf \\text{d.}}~ 1111\\,1111\\,1111\n",
    "$$"
   ]
  },
  {
   "cell_type": "markdown",
   "metadata": {
    "jupyter": {
     "source_hidden": true
    }
   },
   "source": [
    "a. suivant $1110$; précédent $1100$\n",
    "\n",
    "b. suivant $10\\,0111$; précédent $10\\,0101$\n",
    "\n",
    "c. suivant $1001\\,0010$; précédent $1001\\,0000$\n",
    "\n",
    "d. suivant $1\\,0000\\,0000\\,0000$; précédent $1111\\,1111\\,1110$"
   ]
  },
  {
   "cell_type": "markdown",
   "metadata": {},
   "source": [
    "#### 3 - À quels entiers en base 10 correspondent les motifs binaires donnés dans la question précédente? Le faire mentalement (ou par observation...)"
   ]
  },
  {
   "cell_type": "markdown",
   "metadata": {
    "jupyter": {
     "source_hidden": true
    }
   },
   "source": [
    "a. $1101$ est $8+4+1={\\bf 13}$\n",
    "\n",
    "b. $10\\,0110$ est $32+4+2={\\bf 38}$.\n",
    "\n",
    "c. $1001\\,0001$ est $128+32+1=161$.\n",
    "\n",
    "d. $1111\\,1111\\,1111$ a pour suivant $1\\,0000\\,0000\\,0000$ qui vaut $4096$. donc il vaut ${\\bf 4095}$."
   ]
  },
  {
   "cell_type": "markdown",
   "metadata": {},
   "source": [
    "#### 4 - Donner l'écritures hexadécimales des nombres de la question 2."
   ]
  },
  {
   "cell_type": "markdown",
   "metadata": {
    "jupyter": {
     "source_hidden": true
    }
   },
   "source": [
    "a. $1101_2=D_{seize}$\n",
    "\n",
    "b. $10\\,0110=0010\\,0110=25_{seize}$\n",
    "\n",
    "c. $1001\\,0001=91_{seize}$\n",
    "\n",
    "d. $1111\\,1111\\,1111=FFF_{seize}$."
   ]
  },
  {
   "cell_type": "markdown",
   "metadata": {},
   "source": [
    "#### 5 - Quelle est l'écriture hexadécimale du motif binaire qui suit?\n",
    "\n",
    "$$110101101000101101111000011111$$"
   ]
  },
  {
   "cell_type": "markdown",
   "metadata": {
    "jupyter": {
     "source_hidden": true
    }
   },
   "source": [
    "$$\\underbrace{0011}_{3}\\,\\underbrace{0101}_{5}\\,\\underbrace{1010}_{A}\\,\\underbrace{0010}_{2}\\,\\underbrace{1101}_{D}\\,\\underbrace{1110}_{E}\\,\\underbrace{0001}_{1}\\,\\underbrace{1111}_{F}\\\\=35A2DE1F$$"
   ]
  },
  {
   "cell_type": "markdown",
   "metadata": {},
   "source": [
    "#### 6 - Effectuer les opérations arithmétiques suivantes:\n",
    "\n",
    "                       10100111          le double de 1010111 =            \n",
    "                      + 1110001      le quadruple de 11001100 =           \n",
    "                      ---------                                           \n",
    "    \n",
    "    \n",
    "                       10001010      la moitié (entière) de 1010111 =     \n",
    "                      *    1001       le quart (entier) de 11001100 =          \n",
    "                      ---------\n",
    "    "
   ]
  },
  {
   "cell_type": "markdown",
   "metadata": {
    "jupyter": {
     "source_hidden": true
    }
   },
   "source": [
    "             retenues 111  111  \n",
    "                       10100111          le double de 1010111 = 10101110   \n",
    "                      + 1110001      le quadruple de 11001100 = 1100110000\n",
    "                      ---------                                           \n",
    "                      100011000                       \n",
    "    \n",
    "                       10001010      la moitié (entière) de 1010111 = 101011\n",
    "                      *    1001       le quart (entier) de 11001100 = 110011   \n",
    "                      ---------\n",
    "                       10001010\n",
    "                  + 10001010\n",
    "                    -----------\n",
    "                    10011011010"
   ]
  },
  {
   "cell_type": "markdown",
   "metadata": {},
   "source": [
    "#### 7 - Effectuer les opérations logiques suivantes sur des motifs binaires d'un octet:\n",
    "    \n",
    "       11110011                   11110011                11110011      \n",
    "    &  00110100                 | 00110100              ^ 00110100      \n",
    "    -----------                 ----------              ----------\n",
    "    \n",
    "   \n",
    "    ~ 00110100                10010011 << 5 =\n",
    "    ----------                10010011 >> 3 =\n",
    "\n",
    "Rappels: `&` (ET), `|` (OU), `^` (OU EXCLUSIF), `~` (NON), `<< nb` LSR de nb bits, `>> nb` LSL de nb bits."
   ]
  },
  {
   "cell_type": "markdown",
   "metadata": {
    "jupyter": {
     "source_hidden": true
    }
   },
   "source": [
    "       11110011                   11110011                11110011      \n",
    "    &  00110100                 | 00110100              ^ 00110100      \n",
    "    -----------                 ----------              ----------\n",
    "       00110000                   11110111                11000111\n",
    "   \n",
    "    ~ 00110100                10010011 << 5 = 01100000\n",
    "    ----------                10010011 >> 3 = 00010010\n",
    "      11001011"
   ]
  },
  {
   "cell_type": "markdown",
   "metadata": {},
   "source": [
    "#### 8 - Combien de nombres entiers distincts peut-on coder avec:\n",
    "\n",
    "$$\n",
    "{\\bf \\text{a.}}~2~\\text{bits}?\\qquad\n",
    "{\\bf \\text{b.}}~5~\\text{bits}?\\qquad\n",
    "{\\bf \\text{c.}}~11~\\text{bits}?\\qquad\n",
    "{\\bf \\text{c.}}~n~\\text{bits}?\\qquad\n",
    "$$\n",
    "\n",
    "Quel est plus grand entier possible dans chaque cas?"
   ]
  },
  {
   "cell_type": "markdown",
   "metadata": {
    "jupyter": {
     "source_hidden": true
    }
   },
   "source": [
    "Avec 2 bits on peut coder **4** ($2^{\\color{red}{2}}$) entiers et le plus grand est **3**.\n",
    "\n",
    "Avec 5 bits on peut coder **32** ($2^{\\color{red}{5}}$) entiers et le plus grand est **31**.\n",
    "\n",
    "Avec 11 bits on peut coder **2048** ($2^{\\color{red}{11}}$) entiers et le plus grand est **2047**.\n",
    "\n",
    "Avec $n$ bits on peut coder $\\bf 2^n$ entiers et le plus grand est $\\bf 2^n-1$.\n",
    "\n"
   ]
  }
 ],
 "metadata": {
  "kernelspec": {
   "display_name": "Python 3",
   "language": "python",
   "name": "python3"
  },
  "language_info": {
   "codemirror_mode": {
    "name": "ipython",
    "version": 3
   },
   "file_extension": ".py",
   "mimetype": "text/x-python",
   "name": "python",
   "nbconvert_exporter": "python",
   "pygments_lexer": "ipython3",
   "version": "3.7.3"
  }
 },
 "nbformat": 4,
 "nbformat_minor": 4
}
