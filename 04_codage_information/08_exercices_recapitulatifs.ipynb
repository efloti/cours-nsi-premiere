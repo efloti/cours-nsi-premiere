{
 "cells": [
  {
   "cell_type": "markdown",
   "metadata": {},
   "source": [
    "# Exercices sur la représentation des nombres et des textes"
   ]
  },
  {
   "cell_type": "markdown",
   "metadata": {},
   "source": [
    "### Ex1 - entier positif"
   ]
  },
  {
   "cell_type": "markdown",
   "metadata": {},
   "source": [
    "Donner la représentation en base 2 et sur un octet des entiers 14, 42, 57 et 218. Vérifier vos réponses avec la fonction `bin`."
   ]
  },
  {
   "cell_type": "markdown",
   "metadata": {
    "jupyter": {
     "source_hidden": true
    }
   },
   "source": [
    "Par la «méthode des différences» - calcul mental:\n",
    "- 14: huit et quatre et deux donc **1110**\n",
    "- 42: trente-deux et huit et deux donc **10 1010**\n",
    "- 57: trente-deux et seize et huit et un donc **11 1001**\n",
    "\n",
    "Par la «méthode des divisions (entières) par 2» - calcul posé: \n",
    "$$\\begin{array}{r|l}\n",
    "\\text{quotients} & \\text{restes}\\cr\n",
    "\\hline\n",
    "218 & \\color{blue}{0}\\qquad \\text{bit de poids faible}\\cr \n",
    "109& 1\\cr \n",
    "54 & 0\\cr\n",
    "27 & 1\\cr\n",
    "13 & 1\\cr\n",
    "6 & 0\\cr\n",
    "3 & 1\\cr\n",
    "1&\\color{red}{1}\\qquad\\text{bit de poids fort}\n",
    "\\end{array}\\\\\n",
    "\\text{donc: }218=\\color{red}{1}101\\,101\\color{blue}{0}$$"
   ]
  },
  {
   "cell_type": "markdown",
   "metadata": {},
   "source": [
    "### Ex2 - notation hexadecimal"
   ]
  },
  {
   "cell_type": "markdown",
   "metadata": {},
   "source": [
    "Donner la représentation en base 16 des entiers binaires suivants. Vérifier vos réponses avec la fonction `hex`.\n",
    "\n",
    "    100 1010\n",
    "    1 0001 0001\n",
    "    1010 0100 1111 0010"
   ]
  },
  {
   "cell_type": "markdown",
   "metadata": {
    "jupyter": {
     "source_hidden": true
    }
   },
   "source": [
    "Rajouter autant de zéro à gauche que nécessaire pour pouvoir grouper les bits par 4:\n",
    "\n",
    "0100 1010:\n",
    "- le «quadret» gauche correspond à **4** en base dix et aussi en base 16\n",
    "- le «quadret» droit à 10 en base dix et donc à **A** en base 16\n",
    "\n",
    "donc 100 1010 se note **4A** en hexadécimal (base 16)"
   ]
  },
  {
   "cell_type": "markdown",
   "metadata": {
    "jupyter": {
     "source_hidden": true
    }
   },
   "source": [
    "Pour le second on trouve **111** et pour le troisième **A4F2**"
   ]
  },
  {
   "cell_type": "markdown",
   "metadata": {},
   "source": [
    "### Ex3 - nombres «signés» - complément à 2"
   ]
  },
  {
   "cell_type": "markdown",
   "metadata": {},
   "source": [
    "Donner la représentation en complément à 2 et sur un octet des entiers $-10$, $-128$, $-42$ et $97$."
   ]
  },
  {
   "cell_type": "markdown",
   "metadata": {
    "jupyter": {
     "source_hidden": true
    }
   },
   "source": [
    "1. oublions le signe «moins» et trouvons la représentation binaire:\n",
    "\n",
    "   10 (base dix) est huit et deux soit 0000 1010 (base deux)\n",
    "\n",
    "2. **inversons** (un 1 devient 0 et un 0 devient 1) chaque bit du motif binaire obtenu:\n",
    "\n",
    "   0000 1010 s'inverse bit à bit en 1111 0101\n",
    "\n",
    "3. ajoutons lui 1 (le suivant)\n",
    "\n",
    "   1111 0101 + 1 donne 1111 0110\n",
    "\n",
    "Donc la représentation de $-10$ en *complément à 2 sur un octet* est **1111 0110**.\n",
    "\n",
    "Sur feuille on peu écrire:\n",
    "\n",
    "     10 ->  0000 1010\n",
    "            ~~~~~~~~~\n",
    "            1111 0101\n",
    "           +        1\n",
    "            ---------\n",
    "            1111 0110 --> -10\n",
    "   "
   ]
  },
  {
   "cell_type": "markdown",
   "metadata": {
    "jupyter": {
     "source_hidden": true
    }
   },
   "source": [
    "On trouve de même:\n",
    "- $-128$: 1000 0000,\n",
    "- $-42$: 1101 0110,\n",
    "- $97$: 0110 0001 (on s'arrête à la première tape puisque le nombre est positif!)"
   ]
  },
  {
   "cell_type": "markdown",
   "metadata": {},
   "source": [
    "### Ex4 - complément à 2 dans l'autre sens"
   ]
  },
  {
   "cell_type": "markdown",
   "metadata": {},
   "source": [
    "Quelle est la valeur des octets *signés* $1110\\,0111$ et $1100\\,0001$?"
   ]
  },
  {
   "cell_type": "markdown",
   "metadata": {
    "jupyter": {
     "source_hidden": true
    }
   },
   "source": [
    "1110 0111\n",
    "1. **signe**: ce nombre est *négatif* puisque son bit de poids fort est 1,\n",
    "2. enlevons 1 (le contraire d'ajouter 1) 1110 0110\n",
    "3. inversons les bits: 00011001\n",
    "4. traduisons de décimal: seize et huit et un soit (penser au signe) ${\\bf -25}$\n",
    "\n",
    "**Note**:\n",
    "- nb négatif $\\stackrel{\\text{inversion}}{\\longmapsto}$ ... $\\stackrel{+1}{\\longmapsto}$ représentation binaire en C2 ...\n",
    "- ... s'inverse en ...\n",
    "- représentation binaire en C2 (bit de poids fort à 1) $\\stackrel{-1}{\\longmapsto}$ ... $\\stackrel{\\text{inversion}}{\\longmapsto}$ nb positif auquel on applique un signe $-$"
   ]
  },
  {
   "cell_type": "markdown",
   "metadata": {
    "jupyter": {
     "source_hidden": true
    }
   },
   "source": [
    "Le second donne $-63$."
   ]
  },
  {
   "cell_type": "markdown",
   "metadata": {},
   "source": [
    "### Ex5 - les flottants en simple précision"
   ]
  },
  {
   "cell_type": "markdown",
   "metadata": {},
   "source": [
    "Donner la représentation flottante en simple précision de $128$ et $-32,\\!25$"
   ]
  },
  {
   "cell_type": "markdown",
   "metadata": {
    "jupyter": {
     "source_hidden": true
    }
   },
   "source": [
    "128 s'écrit $1\\,0\\times 2^7$\n",
    "- signe: positif donc bit de signe à **0**\n",
    "- exposant: 7 mais il faut lui appliquer le «biais» de 127 **en plus** soit $7 + 127 = 6 + 128$ d'où **1000 0110**,\n",
    "- mantisse: $1,\\!0$ (aussi bien en décimal qu'en binaire), on omet le bit des unités (bit caché) d'où **00...0** (23 bits)\n",
    "\n",
    "donc ${\\bf 0~10000110}~\\underbrace{\\bf 00...0}_{23}$"
   ]
  },
  {
   "cell_type": "markdown",
   "metadata": {
    "jupyter": {
     "source_hidden": true
    }
   },
   "source": [
    "$$32,\\!25=32+0,\\!25=2^5+\\dfrac{1}{4}=\\color{red}{2^5}+2^{-2}=\\color{red}{2^5}\\times 1+\\color{red}{2^5}\\times 2^{-7}=(1+2^{-7})\\times \\color{red}{2^5}$$\n",
    "\n",
    "- bit de signe: **1**\n",
    "- exposant: 5 à biaisé soit $5+127=128+4$ donc **1000 0100**\n",
    "- mantisse: $1+2^{-7}$ et donc en omettant l'unité **0000 0010 00..0**\n",
    "\n",
    "donc\n",
    "    ${\\bf 1~10000100~00000010\\cdots0}$"
   ]
  },
  {
   "cell_type": "markdown",
   "metadata": {
    "toc-hr-collapsed": true,
    "toc-nb-collapsed": true
   },
   "source": [
    "#### Rappels de Maths - les puissances"
   ]
  },
  {
   "cell_type": "markdown",
   "metadata": {},
   "source": [
    "- l'écriture $a^3$, par exemple, est une *abréviation* de $a\\times a\\times a$,"
   ]
  },
  {
   "cell_type": "markdown",
   "metadata": {},
   "source": [
    "- l'écriture $a^{-3}$, par exemple, est une *abréviation* de $\\dfrac{1}{a\\times a\\times a}$ c'est à dire de $\\dfrac{1}{a^3}$ (inverse),"
   ]
  },
  {
   "cell_type": "markdown",
   "metadata": {},
   "source": [
    "- **généralisation-définition**: $a$ est un nombre différent de $0$ et $n$ un entier *relatif*, par définition:\n",
    "$$\n",
    "a^n=\\left\\{\\begin{array}{cl}\n",
    "\\quad\\overbrace{a\\times \\cdots \\times a}^{n \\text{ répétitions}}&\\text{ si }n > 0,\\cr\n",
    "1& \\text{ si } n=0,\\cr\n",
    "\\dfrac{1}{\\underbrace{a\\times \\cdots \\times a}_{|n| \\text{ répétitions}}}&\\text{ si }n < 0\n",
    "\\end{array}\\right.\n",
    "$$"
   ]
  },
  {
   "cell_type": "markdown",
   "metadata": {},
   "source": [
    "- **Propriété fondamentale**: $$a^n\\times a^m=a^{n+m}$$ où $n$ et $m$ sont des entiers *relatifs* et $a$ un nombre réel (non nul)."
   ]
  },
  {
   "cell_type": "markdown",
   "metadata": {},
   "source": [
    "- **cas particuliers essentiels**:\n",
    "    - Puissances de **dix**: \n",
    "      | ... |  mille |  cent  |   dix  |   un   |  dixième  |  centième |  millième | ... |\n",
    "      |:---:|:------:|:------:|:------:|:------:|:---------:|:---------:|:---------:|:---:|\n",
    "      | ... | $10^3$ | $10^2$ | $10^1$ | $10^0$ | $10^{-1}$ | $10^{-2}$ | $10^{-3}$ | ... |\n",
    "    \n",
    "      *exemple*: $0,\\!305\\dots$ **signifie** $3\\times 10^{-1}+0\\times 10^{-2}+ 5\\times 10^{-3}+\\dots$\n",
    "    \n",
    "    - Puissances de **deux**: \n",
    "      | ... |  huit |  quatre  |   deux  |   un   |  demi  |  quart |  huitième | ... |\n",
    "      |:---:|:------:|:------:|:------:|:------:|:---------:|:---------:|:---------:|:---:|\n",
    "      | ... | $2^3$ | $2^2$ | $2^1$ | $2^0$ | $2^{-1}$ | $2^{-2}$ | $2^{-3}$ | ... |\n",
    "      \n",
    "      *exemple*: $0,101\\dots$ (binaire) **signifie** $1\\times 2^{-1}+0\\times 2^{-2}+1\\times 2^{-3}+\\cdots$"
   ]
  },
  {
   "cell_type": "markdown",
   "metadata": {},
   "source": [
    "### Ex6 - ... dans l'autre sens"
   ]
  },
  {
   "cell_type": "markdown",
   "metadata": {},
   "source": [
    "Donner la valeur décimale des nombres flottants suivants codés en simple précision:\n",
    "    \n",
    "    1 01111110 11110000000000000000000\n",
    "    0 10000011 11100000000000000000000"
   ]
  },
  {
   "cell_type": "markdown",
   "metadata": {
    "jupyter": {
     "source_hidden": true
    }
   },
   "source": [
    "Le premier:\n",
    "- *signe*: négatif\n",
    "- *exposant*: $128-2=126$ (ajouter 1 et encore 1 au nombre binaire ...) mais la valeur est «biaisée» donc on soustrait $127$ ce qui donne ${\\bf -1}$\n",
    "- *mantisse*: $\\color{red}{1},\\!1111$ (base 2 - attention au «bit caché») c'est à dire $$1+1/2+1/4+1/8+1/16=1+0,\\!5+0,\\!25+0,\\!125+0,\\!0625=1,\\!9375$$\n",
    "\n",
    "Finalement ${\\bf -1,\\!9375\\times 2^{-1}}$ (inutile d'aller plus loin ...)"
   ]
  },
  {
   "cell_type": "markdown",
   "metadata": {
    "jupyter": {
     "source_hidden": true
    }
   },
   "source": [
    "Le second:\n",
    "- signe: positif\n",
    "- exposant: (128+3-127)=4 (biais ...)\n",
    "- mantisse: 1,\\!111 ce qui donne $1,875$\n",
    "\n",
    "Conclusion ${\\bf 1,\\!875\\times 2^4}$."
   ]
  },
  {
   "cell_type": "markdown",
   "metadata": {},
   "source": [
    "_____"
   ]
  },
  {
   "cell_type": "markdown",
   "metadata": {},
   "source": [
    "**Rappel: table ascii**"
   ]
  },
  {
   "cell_type": "markdown",
   "metadata": {
    "jupyter": {
     "source_hidden": true
    }
   },
   "source": [
    "|       |   0   |   1   |   2   |   3   |   4   |   5   |   6   |   7   |   8   |   9  |   A   |   B   |   C  |   D  |   E  |   F   |\n",
    "|-------|:-----:|:-----:|:-----:|:-----:|:-----:|:-----:|:-----:|:-----:|:-----:|:----:|:-----:|:-----:|:----:|:----:|:----:|:-----:|\n",
    "| **0** | `NUL` | `SOH` | `STX` | `ETX` | `EOT` | `ENQ` | `ACK` | `BEL` |  `BS` | `HT` |  `LF` |  `VT` | `FF` | `CR` | `SO` |  `SI` |\n",
    "| **1** | `DLE` | `DC1` | `DC2` | `DC3` | `DC4` | `NAK` | `SYN` | `ETB` | `CAN` | `EM` | `SUB` | `ESC` | `FS` | `GS` | `RS` |  `US` |\n",
    "| **2** |  `SP` |   !   |   \"   |   #   |   $   |   %   |   &   |   '   |   (   |   )  |   *   |   +   |   ,  |   -  |   .  |   /   |\n",
    "| **3** |   0   |   1   |   2   |   3   |   4   |   5   |   6   |   7   |   8   |   9  |   :   |   ;   |   <  |   =  |   >  |   ?   |\n",
    "| **4** |   @   |   A   |   B   |   C   |   D   |   E   |   F   |   G   |   H   |   I  |   J   |   K   |   L  |   M  |   N  |   O   |\n",
    "| **5** |   P   |   Q   |   R   |   S   |   T   |   U   |   V   |   W   |   X   |   Y  |   Z   |   [   |   \\  |   ]  |   ^  |   _   |\n",
    "| **6** |   `   |   a   |   b   |   c   |   d   |   e   |   f   |   g   |   h   |   i  |   j   |   k   |   l  |   m  |   n  |   o   |\n",
    "| **7** |   p   |   q   |   r   |   s   |   t   |   u   |   v   |   w   |   x   |   y  |   z   |   {   |  \\|  |   }  |   ~  | `DEL` |"
   ]
  },
  {
   "cell_type": "markdown",
   "metadata": {},
   "source": [
    "**Rappel: codage utf-8**"
   ]
  },
  {
   "cell_type": "markdown",
   "metadata": {},
   "source": [
    "| plages de points de code | Suite d'octets - *codets* - (en binaire)                                                  | bits significatifs | caractères             |\n",
    "|:------------------------:|-------------------------------------------------------------------------------------------|:------------------:|------------------------|\n",
    "| `U+0000` - `U+007F`      | $$\\color{red}{0}bbbbbbb$$                                                                   |        0 à 7       | ASCII                  |\n",
    "| `U+0080` - `U+07FF`      | $$\\color{red}{110}bbbbb~\\color{red}{10}bbbbbb$$                                              |       8 à 11       | Europe et Moyen-Orient |\n",
    "| `U+0800` - `U+FFFF`      | $$\\color{red}{1110}bbbb~\\color{red}{10}bbbbbb~\\color{red}{10}bbbbbb$$                       |       12 à 16      | autres alphabets       |\n",
    "| `U+10000` - `U+10FFFF`   | $$\\color{red}{11110}bbb~\\color{red}{10}bbbbbb~\\color{red}{10}bbbbbb~\\color{red}{10}bbbbbb$$ |       17 à 21      | ...                    |"
   ]
  },
  {
   "cell_type": "markdown",
   "metadata": {},
   "source": [
    "### Ex7 - Unicode et UTF8"
   ]
  },
  {
   "cell_type": "markdown",
   "metadata": {},
   "source": [
    "Sachant que le point de code du symbole `é` est 233, donner la séquence de points de code du mot `élégance`, puis les octets en binaire correspondant à l'encodage UTF-8 de ce mot."
   ]
  },
  {
   "cell_type": "markdown",
   "metadata": {
    "jupyter": {
     "source_hidden": true
    }
   },
   "source": [
    "Commençons par 'é': \n",
    "\n",
    "$233$ donne $128 + 64 + 32 + 8 + 2 + 1$ soit $1110\\,1011$ (8 bits significatifs donc 2 octets) soit $\\underline{000\\,11}\\overline{10\\,1011}$ (pour caler le motif binaire à gauche dans le codets)\n",
    "\n",
    "donc son codage UTF-8 est $\\color{red}{110}\\underline{00011}\\, \\color{red}{10}\\overline{101011}$ soit C3 AB en hexadécimal\n",
    "\n",
    "donc écrit en hexadécimal, le code demandé est (se reporter à la table ascii):\n",
    "\n",
    "      é   l    é   g  a  n  c  e\n",
    "    C3 AB 69 C3 AB 67 61 6E 63 65\n",
    "\n",
    "et donc en binaire (sans fioriture)\n",
    "\n",
    "            é             l            é            g        a        n        c        e\n",
    "    11000011 10101011 01101001 11000011 10101011 01100111 01100001 01101110 01100011 01100101 "
   ]
  },
  {
   "cell_type": "markdown",
   "metadata": {},
   "source": [
    "### Ex8 - ... distinguer point de code et nombre(s) décrivant le «codet»"
   ]
  },
  {
   "cell_type": "markdown",
   "metadata": {},
   "source": [
    "Pour chacun des caractères suivants, dont le point de code est donné en hexadécimal, donner l'encodage UTF-8 du caractère, en donnant les octets en hexadécimal puis en décimal.\n",
    "1. caractère `A` (point de code 41)\n",
    "2. caractère `è` (point de code E8)\n",
    "3. caractère ∞ (point de code 221E)\n",
    "\n",
    "Donner une séquence d'instructions Python permettant de tester les résultats."
   ]
  },
  {
   "cell_type": "markdown",
   "metadata": {
    "jupyter": {
     "source_hidden": true
    }
   },
   "source": [
    "1. 'A' est dans la table ascii donc son codet a un octet: **41** en hexadécimal et donc ($4\\times 16+1$) **65** en décimal. "
   ]
  },
  {
   "cell_type": "markdown",
   "metadata": {
    "jupyter": {
     "source_hidden": true
    }
   },
   "source": [
    "2. 'è' en binaire donne (000) 1110 1000 donc son codet a deux octets $$\\color{red}{110}0\\,0011~\\color{red}{10}10\\,1000$$ lequel se traduit par **C3  A8** en hexadécimal et donc (chaque octet) en décimal par **195 168** (deux nombres!)."
   ]
  },
  {
   "cell_type": "markdown",
   "metadata": {
    "jupyter": {
     "source_hidden": true
    }
   },
   "source": [
    "3. '∞' en binaire donne 0010 0010 0001 1110 (14 bits significatifs) donc son codet a 3 octets $$\\color{red}{1110}0010~\\color{red}{10}001000~\\color{red}{10}011110$$ lequel se traduit par **E2 88 9E** en hexadécimal et donc par **226 136 158** en décimal."
   ]
  },
  {
   "cell_type": "code",
   "execution_count": null,
   "metadata": {
    "jupyter": {
     "source_hidden": true
    }
   },
   "outputs": [],
   "source": [
    "lettres = \"Aè∞\"\n",
    "for l in lettres:\n",
    "    octets = l.encode(\"utf8\") # ou l.decode() car c'est l'encodage par défaut\n",
    "    print(l)\n",
    "    print(\" base 16:\", end=\" \")\n",
    "    for octet in octets:\n",
    "        print(f\"{octet:x}\", end=\" \")\n",
    "    print(\"\\n base 10:\", end=\" \")\n",
    "    for octet in octets:\n",
    "        print(octet, end=\" \")     \n",
    "    print()"
   ]
  },
  {
   "cell_type": "markdown",
   "metadata": {},
   "source": [
    "### Ex9 - séquence UTF-8 valide ou non"
   ]
  },
  {
   "cell_type": "markdown",
   "metadata": {},
   "source": [
    "Pour chacune des séquences d'octets suivantes, représentées en base 10, dire si elle représente une séquence UTF-8 valide et si oui combien de caractères sont représentés.\n",
    "1. `126 64 100`\n",
    "2. `198 129 129`\n",
    "3. `227 180 140`"
   ]
  },
  {
   "cell_type": "markdown",
   "metadata": {
    "jupyter": {
     "source_hidden": true
    }
   },
   "source": [
    "1. 126: 01111110, 64: 01000000, 100: 01100100.\n",
    "   qui est une séquence utf-8 **valide** de 3 codets ascii donc **trois caractères**. \n",
    "   \n",
    "   On ne nous les demande pas, mais par curiosité...\n",
    "   \n",
    "   ```python\n",
    "   help(chr)\n",
    "   print(\"ah d'accord!\")\n",
    "   print( chr(126)+chr(64)+chr(100) ) # ~@d\n",
    "   ```"
   ]
  },
  {
   "cell_type": "markdown",
   "metadata": {
    "jupyter": {
     "source_hidden": true
    }
   },
   "source": [
    "2. 198: 11000110, 129: 10000001 (2 fois)\n",
    "   le premier octet nous indique un *codet* de deux octets (les deux premiers) mais le troisième octet ne correspond à rien d'interprétable en utf8; cette séquence est **invalide**\n",
    "   \n",
    "   ```python\n",
    "   b\"\\xc6\\x81\\x81\".decode(\"utf8\")\n",
    "   # produit une erreur avec un message explicite \n",
    "   ```\n",
    " \n",
    "  **Note**: `b\"...\"` n'est pas une `str` (chaîne de caractères) mais une **séquence d'octet** - type *bytes*. Chaque octet peut être précisé en employant l'écriture `\\xcc` où les `c` représentent les chiffres en base 16 correspondant à un octet."
   ]
  },
  {
   "cell_type": "markdown",
   "metadata": {
    "jupyter": {
     "source_hidden": true
    }
   },
   "source": [
    "3. 227: 11100011, 180: 10110100, 140: 10001100\n",
    "   le premier indique une séquence de 3 octets, et les deux autres commencent par 10 donc c'est une séquence utf-8 **valide** pour **un seul** caractère.\n",
    "   \n",
    "    ```python\n",
    "    b\"\\xe3\\xb4\\x8c\".decode(\"utf8\") # 㴌\n",
    "    ```"
   ]
  }
 ],
 "metadata": {
  "kernelspec": {
   "display_name": "Python 3",
   "language": "python",
   "name": "python3"
  },
  "language_info": {
   "codemirror_mode": {
    "name": "ipython",
    "version": 3
   },
   "file_extension": ".py",
   "mimetype": "text/x-python",
   "name": "python",
   "nbconvert_exporter": "python",
   "pygments_lexer": "ipython3",
   "version": "3.7.3"
  }
 },
 "nbformat": 4,
 "nbformat_minor": 4
}
