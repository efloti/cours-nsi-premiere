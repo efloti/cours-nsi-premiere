{
 "cells": [
  {
   "cell_type": "markdown",
   "metadata": {},
   "source": [
    "# Compléments mathématiques"
   ]
  },
  {
   "cell_type": "markdown",
   "metadata": {},
   "source": [
    "## Écriture d'un nombre dans une base donnée"
   ]
  },
  {
   "cell_type": "markdown",
   "metadata": {},
   "source": [
    "L'écriture ordinaire en base ${\\bf\\text{dix}}$ d'un nombre est en fait la contraction d'une **somme**.\n",
    "\n",
    "Par exemple, $1\\,305$ signifie «$1$ mille et $3$ cents et $5$ unités» soit \n",
    "\n",
    "$$\\Large 1\\,305_{\\text{dix}}\n",
    "= \\color{blue}{1}_{\\color{red}{3}}\\,\\color{blue}{3}_{\\color{red}{2}}\\color{blue}{0}_{\\color{red}{1}}\\color{blue}{5}_{\\color{red}{0}}\n",
    "= \\color{blue}{1}\\times\\underbrace{\\text{dix}^{\\color{red}{3}}}_{\\text{mille}}+\n",
    "\\color{blue}{3}\\times\\underbrace{\\text{dix}^{\\color{red}{2}}}_{\\text{cent}}+\n",
    "\\color{blue}{0}\\times\\underbrace{\\text{dix}^{\\color{red}{1}}}_{\\text{dix}}+\n",
    "\\color{blue}{5}\\times\\underbrace{\\text{dix}^{\\color{red}{0}}}_{\\text{un}}$$"
   ]
  },
  {
   "cell_type": "markdown",
   "metadata": {},
   "source": [
    "De même pour l'écriture en base ${\\bf\\text{deux}}$; Par exemple: \n",
    "\n",
    "$$\\Large 1011_{\\text{deux}}=\n",
    "\\color{blue}{1}_{\\color{red}{3}}\\,\\color{blue}{0}_{\\color{red}{2}}\\color{blue}{1}_{\\color{red}{1}}\\color{blue}{1}_{\\color{red}{0}}=\n",
    "\\color{blue}{1}\\times\\underbrace{\\text{deux}^{\\color{red}{3}}}_{\\text{huit}}+\n",
    "\\color{blue}{0}\\times\\underbrace{\\text{deux}^{\\color{red}{2}}}_{\\text{quatre}}+\n",
    "\\color{blue}{1}\\times\\underbrace{\\text{deux}^{\\color{red}{1}}}_{\\text{deux}}+\n",
    "\\color{blue}{1}\\times\\underbrace{\\text{deux}^{\\color{red}{0}}}_{\\text{un}}$$"
   ]
  },
  {
   "cell_type": "markdown",
   "metadata": {},
   "source": [
    "De **manière générale**, un nombre exprimé dans une base ${\\bf\\text{b}}$ et qui comporte autant de chiffres $0$, $1$, ..., ${\\bf\\text{b}}-1$  (mais on pourrait tout aussi bien choisir ${\\bf\\text{b}}$ symboles distincts) sera de la forme\n",
    "\n",
    "$$\\Large \\color{blue}{c}_{\\color{red}{k}}\\color{blue}{c}_{\\color{red}{k-1}}\\dots \\color{blue}{c}_{\\color{red}{1}}\\color{blue}{c}_{\\color{red}{0}}=\\color{blue}{c}_{\\color{red}{k}}\\times {\\bf\\text{b}}^{\\color{red}{k}}+\\color{blue}{c}_{\\color{red}{k-1}}\\times {\\bf\\text{b}}^{\\color{red}{k-1}}+\\cdots +\\color{blue}{c}_{\\color{red}{1}}\\times {\\bf\\text{b}}^{\\color{red}{1}}+\\color{blue}{c}_{\\color{red}{0}}\\times {\\bf\\text{b}}^{\\color{red}{0}}$$\n",
    "\n",
    "$$\\text{où chaque }\\color{blue}{c}_{\\color{red}{i}}\\text{ avec } \\color{red}{i}\\in\\{0;1;...;k\\}\\text{ est un des chiffres associés à la base}$$"
   ]
  },
  {
   "cell_type": "markdown",
   "metadata": {},
   "source": [
    "### Conversion «binaire $\\longmapsto$ décimale»"
   ]
  },
  {
   "cell_type": "markdown",
   "metadata": {},
   "source": [
    "Elle devient évidente: les ${\\bf \\text{deux}^{i}}$ sont convertis dans la base ${\\bf \\text{dix}}$ et la somme est effectuée."
   ]
  },
  {
   "cell_type": "markdown",
   "metadata": {},
   "source": [
    "### Conversion «décimale $\\longmapsto$ binaire»."
   ]
  },
  {
   "cell_type": "markdown",
   "metadata": {},
   "source": [
    "**1ère façon - par le «petit bout»**\n",
    "\n",
    "Le nombre dont on cherche l'écriture binaire peut se mettre sous la forme:\n",
    "\n",
    "$$b_0\\times 2^0+b_1\\times 2^1+b_2\\times 2^2+b_3\\times 2^3+\\cdots\\qquad \\text{par le «petit bout»}$$\n",
    "\n",
    "Le problème revient à trouver $b_0$ (bit de poids faible), $b_1$, $b_2$, $b_3$ ... etc."
   ]
  },
  {
   "cell_type": "markdown",
   "metadata": {},
   "source": [
    "Remarquons que ce nombre peut se mettre sous la forme:\n",
    "\n",
    "$$b_0 + 2(b_1\\times 2^0+ b_2\\times 2^1+b_3\\times 2^2+\\cdots )$$\n",
    "\n",
    "Et cette écriture montre que le quotient et le reste de la division entière du nombre par $2$ sont respectivement:\n",
    "\n",
    "$$\\text{quotient}=b_1\\times 2^0+ b_2\\times 2^1+b_3\\times 2^2+\\cdots\\qquad\\text{et reste}= b_0$$"
   ]
  },
  {
   "cell_type": "markdown",
   "metadata": {},
   "source": [
    "En procédant de même avec le quotient, on obtient successivement $b_1$, $b_2$, ..."
   ]
  },
  {
   "cell_type": "markdown",
   "metadata": {},
   "source": [
    "Le processus s'arrête lorsque le quotient devient nul ce qui ne manquera pas d'arriver puiqu'il diminue strictement à chaque étape."
   ]
  },
  {
   "cell_type": "markdown",
   "metadata": {},
   "source": [
    "Il est important d'observer qu'on obtient **les bits de poids faibles en premier** dans cette méthode."
   ]
  },
  {
   "cell_type": "markdown",
   "metadata": {},
   "source": [
    "**2ème façon - par le «gros bout»**\n",
    "\n",
    "Le nombre dont on cherche l'écriture binaire peut s'écrire:\n",
    "\n",
    "$$1\\times 2^k+b_{k-1}\\times 2^{k-1}+b_{k-2}\\times 2^{k-2} + \\cdots\\qquad \\text{par le «gros bout»}$$\n",
    "\n",
    "Bien sûr, on suppose $b_k$ non nul ce qui implique $b_k=1$"
   ]
  },
  {
   "cell_type": "markdown",
   "metadata": {},
   "source": [
    "Enlevons la plus grande puissance de $2$ inférieure à ce nombre: c'est clairement $2^k$"
   ]
  },
  {
   "cell_type": "markdown",
   "metadata": {},
   "source": [
    "La différence $d$ est donc:\n",
    "$$d=b_{k-1}\\times 2^{k-1}+b_{k-2}\\times 2^{k-2}+\\cdots $$"
   ]
  },
  {
   "cell_type": "markdown",
   "metadata": {},
   "source": [
    "Là, il y a deux possibilités (voir note pour les détails):\n",
    "\n",
    "- soit $2^{k-1}=2^k/2$ est **strictement plus grand** que $d$ auquel cas $b_{k-1}=0$,\n",
    "- soit $2^{k-1}$ est **inférieure ou égale à $d$**, auquel cas $b_{k-1}=1$"
   ]
  },
  {
   "cell_type": "markdown",
   "metadata": {},
   "source": [
    "Dans le premier cas, on divise par $2$ la puissance courante et on recommence avec la puissance obtenue,\n",
    "\n",
    "Dans le second cas, on calcule la nouvelle différence $d \\leftarrow d-2^{k-1}$ et on recommence de manière similaire.\n",
    "\n",
    "Cette différence diminue strictement à chaque étape et finie donc par devenir nulle."
   ]
  },
  {
   "cell_type": "markdown",
   "metadata": {},
   "source": [
    "#### Note - formule des sommes des puissances successives"
   ]
  },
  {
   "cell_type": "markdown",
   "metadata": {},
   "source": [
    "Lorsque vous traiterez le chapitre sur les suites en spé maths (si vous la faites), vous apprendrez que, pour tout nombre $q$ différent de $1$:\n",
    "\n",
    "$$1+q+q^2+q^3+\\cdots +q^{n} = \\dfrac{q^{n+1}-1}{q-1}$$\n",
    "\n",
    "En particulier si $q=2$, la formule devient:\n",
    "\n",
    "$$1+2+2^2+2^3+\\cdots + 2^{n}=2^{n+1}-1$$\n",
    "\n",
    "Cette formule prouve que «la plus grande puissance de $2$ inférieure ou égale» au membre gauche est $2^n$ car le membre droit montre que $2^{n+1}$ est plus grand!!)\n",
    "\n",
    "Or le membre gauche est le plus grand nombre qu'on puisse écrire avec $n+1$ bits en binaire puisque tous les bits sont à $1$."
   ]
  },
  {
   "cell_type": "markdown",
   "metadata": {},
   "source": [
    "#### Preuve de la formule"
   ]
  },
  {
   "cell_type": "markdown",
   "metadata": {
    "jupyter": {
     "source_hidden": true
    }
   },
   "source": [
    "La preuve de cette formule est $$S=1+q+q^2+\\cdots +q^n\\quad\\text{ implique }\\quad qS=q+q^2+q^3+\\cdots +q^{n+1}$$ donc $$qS-S=S(q-1)\\quad\\text{d'une part et}\\quad qS-S=q^{n+1}-1\\quad\\text{d'autre part}$$ d'où, si $q\\neq 1$ $$S=\\dfrac{q^{n+1}-1}{q-1}$$ cqfd."
   ]
  },
  {
   "cell_type": "markdown",
   "metadata": {},
   "source": [
    "## L'algorithme d'addition de deux nombres dans une base donnée"
   ]
  },
  {
   "cell_type": "markdown",
   "metadata": {},
   "source": [
    "à faire ..."
   ]
  },
  {
   "cell_type": "markdown",
   "metadata": {},
   "source": [
    "## Retour sur les compléments à 1 et à 2"
   ]
  },
  {
   "cell_type": "markdown",
   "metadata": {},
   "source": [
    "Si $a$ désigne un nombre entier et $\\hat{a}$ désigne le nombre obtenu en inversant chaque bit de l'écriture binaire de $a$ - son complément à $1$ - alors $$a+\\hat{a}=\\underbrace{11\\cdots 1}_{n\\text{ bits}}\\quad\\text{en base }2$$"
   ]
  },
  {
   "cell_type": "markdown",
   "metadata": {},
   "source": [
    "*Exemple*: sur un octet ($n=8$), si $a=0010\\,1100$, alors $\\hat{a}=1101\\,0011$ et $a+\\hat{a}=1111\\,1111$"
   ]
  },
  {
   "cell_type": "markdown",
   "metadata": {},
   "source": [
    "De plus, Si on ajoute $1$ au nombre $\\underbrace{11\\cdots 1}_{n \\text{ bits}}$, on obtient $\\color{red}{1}\\,\\underbrace{00\\cdots 0}_{n}=2^n$. Par suite: $$\\underbrace{11\\cdots 1}_{n \\text{ bits}}+1=2^n \\iff \\underbrace{11\\cdots 1}_{n \\text{ bits}} =2^n - 1$$\n",
    "\n",
    "On en conclut que, si $n$ est le nombre de bits de l'écriture binaire de $a$: $$a+\\hat{a}=2^{n}-1 \\iff a + \\underbrace{(\\hat{a}+1)}_{\\text{complément à }2}=2^n=\\color{red}{1}\\,\\underbrace{00\\cdots0}_{n}$$"
   ]
  },
  {
   "cell_type": "markdown",
   "metadata": {},
   "source": [
    "Si le mot machine comporte exactement $n$ bits, le bit de poids fort précédent déborde et disparaît! **Dans ces conditions**, on peut écrire:\n",
    "\n",
    "$$ a +(\\hat{a}+1)=\\underbrace{00\\cdots 0}_{n\\text{ bits}}=0$$"
   ]
  },
  {
   "cell_type": "markdown",
   "metadata": {},
   "source": [
    "Cette relation, montre que **arithmétiquement et en précision finie**,  $\\hat{a}+1$, le complément à 2 de $a$, et $-a$ coincide."
   ]
  },
  {
   "cell_type": "markdown",
   "metadata": {},
   "source": [
    "si $b$ est un autre nombre, alors: $$b+(\\hat{a}+1)=b+2^n-a=2^n+b-a$$\n",
    "\n",
    "Et en négligeant le bit de retenue (qui vient de $2^n$), on obtient: \n",
    "\n",
    "$$b+(\\hat{a}+1)=b-a$$\n"
   ]
  },
  {
   "cell_type": "markdown",
   "metadata": {},
   "source": [
    "Ainsi, on voit que l'addition d'un nombre $b$ et du complément à deux d'un autre $a$ revient à calculer la différence $b-a$ **pourvu qu'on néglige le bit de retenue**."
   ]
  },
  {
   "cell_type": "markdown",
   "metadata": {},
   "source": [
    "C'est pour cela qu'on représente ordinairement les entiers négatifs par la méthode du complément à $2$ en binaire."
   ]
  },
  {
   "cell_type": "markdown",
   "metadata": {},
   "source": [
    "Dernier point, sur $n$ bits, le **dépassement de capacité** ne peut se produire que de deux façons:\n",
    "\n",
    "- deux entiers positifs dont la somme est supérieure à $2^n$\n",
    "- deux entiers négatifs dont la somme est inférieure à $-2^n$.\n",
    "\n",
    "Si les entiers sont de signes contraires, il ne peut y avoir de dépassement de capacité car la différence est toujours inférieure au plus grand des deux..."
   ]
  },
  {
   "cell_type": "markdown",
   "metadata": {},
   "source": [
    "## Les puissances d'exposants négatifs"
   ]
  },
  {
   "cell_type": "markdown",
   "metadata": {},
   "source": [
    "L'écriture $a^3$, par exemple, est une *abréviation* de $a\\times a\\times a$, tandis que"
   ]
  },
  {
   "cell_type": "markdown",
   "metadata": {},
   "source": [
    "l'écriture $a^{-3}$, par exemple, est une *abréviation* de $\\dfrac{1}{a\\times a\\times a}$ c'est à dire de $\\dfrac{1}{a^3}$ (inverse),"
   ]
  },
  {
   "cell_type": "markdown",
   "metadata": {},
   "source": [
    "### Définition des puissances\n",
    "\n",
    "$a$ est un nombre différent de $0$ et $n$ un entier *relatif*, par définition:\n",
    "$$\n",
    "a^n=\\left\\{\\begin{array}{cl}\n",
    "\\quad\\overbrace{a\\times \\cdots \\times a}^{n \\text{ répétitions}}&\\text{ si }n > 0,\\cr\n",
    "1& \\text{ si } n=0,\\cr\n",
    "\\dfrac{1}{\\underbrace{a\\times \\cdots \\times a}_{|n| \\text{ répétitions}}}&\\text{ si }n < 0\n",
    "\\end{array}\\right.\n",
    "$$"
   ]
  },
  {
   "cell_type": "markdown",
   "metadata": {},
   "source": [
    "**Propriété fondamentale**: $$a^n\\times a^m=a^{n+m}$$ où $n$ et $m$ sont des entiers *relatifs* et $a$ un nombre réel (non nul)."
   ]
  },
  {
   "cell_type": "markdown",
   "metadata": {},
   "source": [
    "### application aux écriture numériques\n",
    "\n",
    "- Puissances de **dix**: \n",
    "  | ... |  mille |  cent  |   dix  |   un   |  dixième  |  centième |  millième | ... |\n",
    "  |:---:|:------:|:------:|:------:|:------:|:---------:|:---------:|:---------:|:---:|\n",
    "  | ... | $10^3$ | $10^2$ | $10^1$ | $10^0$ | $10^{-1}$ | $10^{-2}$ | $10^{-3}$ | ... |\n",
    "\n",
    "  *exemple*: $0,\\!305\\dots$ **signifie** $3\\times 10^{-1}+0\\times 10^{-2}+ 5\\times 10^{-3}+\\dots$\n",
    "\n",
    "- Puissances de **deux**: \n",
    "  | ... |  huit |  quatre  |   deux  |   un   |  demi  |  quart |  huitième | ... |\n",
    "  |:---:|:------:|:------:|:------:|:------:|:---------:|:---------:|:---------:|:---:|\n",
    "  | ... | $2^3$ | $2^2$ | $2^1$ | $2^0$ | $2^{-1}$ | $2^{-2}$ | $2^{-3}$ | ... |\n",
    "\n",
    "  *exemple*: $0,101\\dots$ (binaire) **signifie** $1\\times 2^{-1}+0\\times 2^{-2}+1\\times 2^{-3}+\\cdots$"
   ]
  }
 ],
 "metadata": {
  "kernelspec": {
   "display_name": "Python 3",
   "language": "python",
   "name": "python3"
  },
  "language_info": {
   "codemirror_mode": {
    "name": "ipython",
    "version": 3
   },
   "file_extension": ".py",
   "mimetype": "text/x-python",
   "name": "python",
   "nbconvert_exporter": "python",
   "pygments_lexer": "ipython3",
   "version": "3.7.3"
  }
 },
 "nbformat": 4,
 "nbformat_minor": 4
}
