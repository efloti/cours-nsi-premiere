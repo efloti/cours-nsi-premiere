{
 "cells": [
  {
   "cell_type": "markdown",
   "metadata": {
    "slideshow": {
     "slide_type": "slide"
    }
   },
   "source": [
    "## Notation hexadécimale (base 16)"
   ]
  },
  {
   "cell_type": "markdown",
   "metadata": {
    "slideshow": {
     "slide_type": "subslide"
    }
   },
   "source": [
    "L'écriture binaire est longue, la notation hexadécimale visent à la raccourcir."
   ]
  },
  {
   "cell_type": "markdown",
   "metadata": {
    "slideshow": {
     "slide_type": "fragment"
    }
   },
   "source": [
    "**Chiffre en base 16** (hexadécimale): 0, ..., 9, A, B, C, D, E, F."
   ]
  },
  {
   "cell_type": "markdown",
   "metadata": {
    "slideshow": {
     "slide_type": "fragment"
    }
   },
   "source": [
    "| **Nombres**             | dix | onze | douze | treize | quatorze | quinze |\n",
    "|-------------------------|:---:|:----:|:-----:|:------:|:--------:|:------:|\n",
    "| **Chiffres en base 16** |  A  |   B  |   C   |    D   |     E    |    F   |"
   ]
  },
  {
   "cell_type": "markdown",
   "metadata": {
    "slideshow": {
     "slide_type": "fragment"
    }
   },
   "source": [
    "*compter en hexadécimal*: 0, 1, ..., F, 10 (seize), 11, ...,19, 1A (vingt six), ... ,1F, 20 (trente deux), ...,FF, 100 (deux cent cinquante six), ..."
   ]
  },
  {
   "cell_type": "markdown",
   "metadata": {
    "slideshow": {
     "slide_type": "subslide"
    }
   },
   "source": [
    "### binaire $\\longmapsto$ hexadécimal"
   ]
  },
  {
   "cell_type": "markdown",
   "metadata": {
    "slideshow": {
     "slide_type": "fragment"
    }
   },
   "source": [
    "**Méthode** Du fait que seize$=2^4$:\n",
    "- on groupe les bits par **paquets de quatre**,\n",
    "- chaque paquet est remplacé par le chiffre hexadécimal correspondant.\n",
    "____"
   ]
  },
  {
   "cell_type": "markdown",
   "metadata": {
    "slideshow": {
     "slide_type": "subslide"
    }
   },
   "source": [
    "**Exemple**: $1101\\, 1010\\, 0011\\, 0110$ en binaire à convertir en hexadécimal\n",
    "\n",
    "- $1101$ vaut huit + quatre + un donc treize soit **D**,\n",
    "- $1010$ vaut huit + deux donc dix soit **A**,\n",
    "- $0011$ vaut deux + un donc **3**,\n",
    "- $0110$ vaut quatre + deux donc **6**.\n",
    "\n",
    "*Conclusion*: $1101\\, 1010\\, 0011\\, 0110_2$ correspond à **DA36** en hexadécimal."
   ]
  },
  {
   "cell_type": "markdown",
   "metadata": {
    "slideshow": {
     "slide_type": "fragment"
    }
   },
   "source": [
    "**Note importante**: Observer qu'un **octet** (8 bits) peut se décrire à l'aide d'un **nombre hexadécimal à 2 chiffres**."
   ]
  },
  {
   "cell_type": "markdown",
   "metadata": {
    "slideshow": {
     "slide_type": "subslide"
    }
   },
   "source": [
    "### hexadécimal $\\longmapsto$ binaire"
   ]
  },
  {
   "cell_type": "markdown",
   "metadata": {
    "slideshow": {
     "slide_type": "fragment"
    }
   },
   "source": [
    "**Méthode**: On trouve les motifs binaires à quatre chiffres correspondant à chaque chiffre hexadécimal.\n",
    "____"
   ]
  },
  {
   "cell_type": "markdown",
   "metadata": {
    "slideshow": {
     "slide_type": "fragment"
    }
   },
   "source": [
    "*Exemple*: Convertir l'écriture hexadécimale **6C0F** en binaire\n",
    "- 6 vaut quatre + deux donc ${\\bf 0110}$,\n",
    "- C (douze) vaut huit + quatre donc ${\\bf 1100}$,\n",
    "- 0 vaut ${\\bf 0000}$\n",
    "- F (quinze) vaut huit + quatre + deux + un donc ${\\bf 1111}$\n",
    "\n",
    "*Conclusion*: 6C0F correspond à ${\\bf 0110\\,1100\\,0000\\,1111}$."
   ]
  },
  {
   "cell_type": "markdown",
   "metadata": {
    "slideshow": {
     "slide_type": "subslide"
    }
   },
   "source": [
    "### Python"
   ]
  },
  {
   "cell_type": "markdown",
   "metadata": {
    "slideshow": {
     "slide_type": "subslide"
    }
   },
   "source": [
    "- Préfixe `0x`: préfixe d'un entier en écriture hexadécimal,\n",
    "- `hex(entier)`: renvoie une chaîne donnant l'écriture hexadécimal de l'entier fournie."
   ]
  },
  {
   "cell_type": "code",
   "execution_count": null,
   "metadata": {},
   "outputs": [],
   "source": [
    "x = 0xa1\n",
    "y = -0x1A\n",
    "print(f\"x={x}, y={y}\")"
   ]
  },
  {
   "cell_type": "code",
   "execution_count": null,
   "metadata": {},
   "outputs": [],
   "source": [
    "h = hex(161)\n",
    "type(h)\n",
    "h"
   ]
  },
  {
   "cell_type": "markdown",
   "metadata": {
    "slideshow": {
     "slide_type": "slide"
    }
   },
   "source": [
    "## Notation octale (base 8)"
   ]
  },
  {
   "cell_type": "markdown",
   "metadata": {
    "slideshow": {
     "slide_type": "subslide"
    }
   },
   "source": [
    "Moins utilisée que l'hexadécimale, cette notation se rencontre encore souvent en informatique."
   ]
  },
  {
   "cell_type": "markdown",
   "metadata": {
    "slideshow": {
     "slide_type": "fragment"
    }
   },
   "source": [
    "**Chiffres en base 8** (octale): 0, 1, 2, 3, 4, 5, 6, 7.\n",
    "\n",
    "*compter en octal*: 0, 1, ..., 7, 10 (huit), 11, ...,20 (seize),..., 77, 100 (soixante-quatre), 101, 102, ..., 177, 200 (cent vingt-huit), ..., 777, 1000 (cinq cent douze), etc."
   ]
  },
  {
   "cell_type": "markdown",
   "metadata": {
    "slideshow": {
     "slide_type": "subslide"
    }
   },
   "source": [
    "**Conversions de et vers le binaire**: même principe que pour l'hexadécimale mais en groupant par **paquet de trois**.\n",
    "\n",
    "*Exemple1*: $101\\,001\\,110$ à convertir en octale.\n",
    "- $101$ vaut quatre + un donc **5**\n",
    "- $001$ vaut **1**\n",
    "- $110$ vaut quatre + deux donc **6**\n",
    "\n",
    "Conclusion: **516** en octal."
   ]
  },
  {
   "cell_type": "markdown",
   "metadata": {
    "slideshow": {
     "slide_type": "fragment"
    }
   },
   "source": [
    "*Exemple2*: 270 (octal) à convertir en binaire.\n",
    "- 2 vaut $010$\n",
    "- 7 vaut quatre + deux + un donc $111$\n",
    "- 0 vaut quatre + deux donc $000$\n",
    "\n",
    "Conclusion: $010\\,111\\,000$ en binaire."
   ]
  },
  {
   "cell_type": "markdown",
   "metadata": {
    "slideshow": {
     "slide_type": "subslide"
    }
   },
   "source": [
    "### Application aux permissions des fichiers."
   ]
  },
  {
   "cell_type": "markdown",
   "metadata": {
    "slideshow": {
     "slide_type": "fragment"
    }
   },
   "source": [
    "Les permissions de fichiers s'écrivent avec une chaîne de 9 lettres qu'on groupe par 3; par exemple `r-x-w---x` signifie:\n",
    "- l'utilisateur a les droits de lecture et exécution,\n",
    "- son groupe a seulement le droit d'écriture,\n",
    "- les autres ont seulement le droit d'exécution.\n",
    "\n",
    "Cette permission se traduit naturellement en binaire par $101\\,010\\,001$ et donc en octale par *521*.\n",
    "\n",
    "Pour cette raison, la commande `chmod 521 fichier` produira exactement ces permissions pour le fichier.\n",
    "\n",
    "Cette écriture est beaucoup plus concise que le «`u±rwx g±... o±...`» vu plus tôt."
   ]
  },
  {
   "cell_type": "markdown",
   "metadata": {
    "slideshow": {
     "slide_type": "subslide"
    }
   },
   "source": [
    "*Exemple1*: Pour indiquer qu'on souhaite qu'un fichier soit accessible en lecture écriture pour nous mais seulement en lecture pour les autres:\n",
    "\n",
    "La permission en binaire est $110\\,100\\,100$, donc on saisi `chmod 644 fichier`."
   ]
  },
  {
   "cell_type": "markdown",
   "metadata": {
    "slideshow": {
     "slide_type": "subslide"
    }
   },
   "source": [
    "*Exemple2*: Pour un fichier exécutable qu'on souhaite limiter en écriture pour le groupe et limiter en plus en exécution pour les autres:\n",
    "\n",
    "La permisssion en binaire est $111\\,101\\,100$, donc on saisi `chmod 754 fichier`."
   ]
  },
  {
   "cell_type": "markdown",
   "metadata": {
    "slideshow": {
     "slide_type": "subslide"
    }
   },
   "source": [
    "### Python"
   ]
  },
  {
   "cell_type": "markdown",
   "metadata": {
    "slideshow": {
     "slide_type": "subslide"
    }
   },
   "source": [
    "- Préfixe `0o`: préfixe d'un entier en écriture octale,\n",
    "- `oct(entier)`: renvoie une chaîne donnant l'écriture octale de l'entier fournie."
   ]
  },
  {
   "cell_type": "code",
   "execution_count": null,
   "metadata": {},
   "outputs": [],
   "source": [
    "x = 0o755\n",
    "y = -0o600\n",
    "print(f\"x={x}, y={y}\")"
   ]
  },
  {
   "cell_type": "code",
   "execution_count": null,
   "metadata": {},
   "outputs": [],
   "source": [
    "o = oct(3612)\n",
    "type(h)\n",
    "h"
   ]
  },
  {
   "cell_type": "markdown",
   "metadata": {},
   "source": [
    "## Exercice"
   ]
  },
  {
   "cell_type": "markdown",
   "metadata": {},
   "source": [
    "1. Écrire une fonction `decouper(chaine, periode)` dont voici quelques exemples:\n",
    "\n",
    "  `decouper(\"maman\", 2)` renvoie `['m', 'am', 'an']`; `decouper(\"1000110110\", 4)` renvoie `[\"10\", \"0011\", \"0110\"]`.\n",
    "\n",
    "  Ainsi, elle renvoie une liste dont les éléments sont des *sous-chaines* de `chaine` de longueur `periode` (un entier positif) *sauf peut-être celle d'indice 0*. \n",
    "  \n",
    "  La *concaténation* des ces sous-chaînes dans l'ordre de la liste doit reformer la chaine de départ `chaine`.\n",
    "\n",
    "  **solution**"
   ]
  },
  {
   "cell_type": "code",
   "execution_count": null,
   "metadata": {
    "jupyter": {
     "source_hidden": true
    }
   },
   "outputs": [],
   "source": [
    "def decouper(chaine, periode):\n",
    "    assert periode > 0\n",
    "    \n",
    "    N = len(chaine)\n",
    "    nb_grps = N // periode + 1 if N % periode != 0 else N // periode\n",
    "    sous_chaines = [None] * nb_grps\n",
    "    # index de la dernière lettre de chaine\n",
    "    i = N - 1\n",
    "    # index de la dernière sous_chaines\n",
    "    j = nb_grps - 1\n",
    "    \n",
    "    # nous travaillons à reculons en remplissant par la droite\n",
    "    # la liste sous_chaines.\n",
    "    while j >= 0:\n",
    "        sous_chaine = \"\"\n",
    "        for _ in range(periode):\n",
    "            if i < 0: break\n",
    "            sous_chaine = chaine[i] + sous_chaine\n",
    "            i -= 1\n",
    "        sous_chaines[j] = sous_chaine\n",
    "        \n",
    "        j -= 1\n",
    "    \n",
    "    return sous_chaines\n",
    "\n",
    "assert decouper(\"maman\", 2) == ['m', 'am', 'an']\n",
    "assert decouper(\"1000110110\", 4) == [\"10\", \"0011\", \"0110\"]"
   ]
  },
  {
   "cell_type": "markdown",
   "metadata": {},
   "source": [
    "2. En réutilisant cette fonction ainsi que `binaire_vers_decimal`, écrire  la fonction `bin_vers_hex(bits)` qui renvoie l'écriture en hexadécimal de la chaîne `bits`.\n",
    "\n",
    "  *aide*: Observer que dans la chaîne `\"0123456789ABCDEF\"`, l'index du chiffre hexadécimal est précisément l'entier correspondant (en base 10)\n",
    "  \n",
    "  **solution**"
   ]
  },
  {
   "cell_type": "code",
   "execution_count": null,
   "metadata": {
    "jupyter": {
     "source_hidden": true
    }
   },
   "outputs": [],
   "source": [
    "def bin_vers_hex(bits):\n",
    "    chiffres_hexa = \"0123456789ABCDEF\"\n",
    "    grps_de_4 = decouper(bits, 4)\n",
    "    \n",
    "    hexa = \"\"\n",
    "    for grp in grps_de_4:\n",
    "        i = binaire_vers_decimal(grp)\n",
    "        c_hexa = chiffres_hexa[i]\n",
    "        hexa += c_hexa\n",
    "    \n",
    "    return hexa"
   ]
  },
  {
   "cell_type": "code",
   "execution_count": null,
   "metadata": {},
   "outputs": [],
   "source": [
    "assert bin_vers_hex(\"0110110000001111\") == \"6C0F\"\n",
    "assert bin_vers_hex(\"1101101000110110\") == \"DA36\""
   ]
  },
  {
   "cell_type": "markdown",
   "metadata": {},
   "source": [
    "3. En utilisant le dictionnaire ci-dessous, écrire la fonction *converse* de la précédente `hex_vers_bin(hexa)`"
   ]
  },
  {
   "cell_type": "code",
   "execution_count": null,
   "metadata": {},
   "outputs": [],
   "source": [
    "corresp_hex_bin = {\n",
    "    '0': \"0000\", \n",
    "    '1': \"0001\",\n",
    "    '2': \"0010\",\n",
    "    '3': \"0011\",\n",
    "    '4': \"0100\",\n",
    "    '5': \"0101\",\n",
    "    '6': \"0110\",\n",
    "    '7': \"0111\",\n",
    "    '8': \"1000\",\n",
    "    '9': \"1001\",\n",
    "    'A': \"1010\",\n",
    "    'B': \"1011\",\n",
    "    'C': \"1100\",\n",
    "    'D': \"1101\",\n",
    "    'E': \"1110\",\n",
    "    'F': \"1111\",\n",
    "}"
   ]
  },
  {
   "cell_type": "markdown",
   "metadata": {
    "slideshow": {
     "slide_type": "skip"
    }
   },
   "source": [
    "**solution**"
   ]
  },
  {
   "cell_type": "code",
   "execution_count": null,
   "metadata": {
    "jupyter": {
     "source_hidden": true
    }
   },
   "outputs": [],
   "source": [
    "def hex_vers_bin(hexa):\n",
    "    liste = [ corresp_hex_bin[hx] for hx in hexa ]\n",
    "    return \"\".join(liste)\n",
    "\n",
    "hex_vers_bin(\"DA36\")"
   ]
  }
 ],
 "metadata": {
  "kernelspec": {
   "display_name": "Python 3",
   "language": "python",
   "name": "python3"
  },
  "language_info": {
   "codemirror_mode": {
    "name": "ipython",
    "version": 3
   },
   "file_extension": ".py",
   "mimetype": "text/x-python",
   "name": "python",
   "nbconvert_exporter": "python",
   "pygments_lexer": "ipython3",
   "version": "3.6.8"
  }
 },
 "nbformat": 4,
 "nbformat_minor": 4
}
