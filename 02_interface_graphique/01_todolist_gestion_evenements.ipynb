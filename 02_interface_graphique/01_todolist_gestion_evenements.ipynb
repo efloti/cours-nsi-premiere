{
 "cells": [
  {
   "cell_type": "markdown",
   "metadata": {},
   "source": [
    "# Tkinter: un gestionnaire de tâches"
   ]
  },
  {
   "cell_type": "markdown",
   "metadata": {},
   "source": [
    "**Objectifs**:\n",
    "- construire une interface graphique répondant à un cahier des charges\n",
    "- apprendre à gérer les actions de l'utilisateur sur les widgets de l'interface"
   ]
  },
  {
   "cell_type": "markdown",
   "metadata": {},
   "source": [
    "On souhaite construire une mini-**application** dont le but est de gérer une liste de tâches *todolist*.\n",
    "\n",
    "**Cahier des charges**: cette application doit permettre à l'utilisateur de\n",
    "- saisir une nouvelle tâche qui s'ajoute en fin de liste (lorsqu'il appui sur \"Enter\"),\n",
    "- supprimer une tâche en la sélectionnant à la souris et en appuyant sur \"suppr\"\n",
    "- vider la liste avec un bouton,\n",
    "- réordonner les tâche avec la souris."
   ]
  },
  {
   "cell_type": "markdown",
   "metadata": {},
   "source": [
    "<img src=\"http://tkinter.fdex.eu/presentation/_images/ill2-1.png\" />"
   ]
  },
  {
   "cell_type": "markdown",
   "metadata": {},
   "source": [
    "## Construction de l'interface graphique"
   ]
  },
  {
   "cell_type": "markdown",
   "metadata": {},
   "source": [
    "### Fenêtre de base"
   ]
  },
  {
   "cell_type": "markdown",
   "metadata": {},
   "source": [
    "```python\n",
    "from tkinter import *\n",
    "\n",
    "# construction des widgets (composants graphiques)\n",
    "\n",
    "## fenêtre principale\n",
    "fen = Tk()\n",
    "fen.title(______)\n",
    "```"
   ]
  },
  {
   "cell_type": "markdown",
   "metadata": {
    "jupyter": {
     "source_hidden": true
    }
   },
   "source": [
    "```python\n",
    "fen.title(\"«todo» liste\")\n",
    "```"
   ]
  },
  {
   "cell_type": "markdown",
   "metadata": {},
   "source": [
    "### Boucle principale - `mainloop()`"
   ]
  },
  {
   "cell_type": "markdown",
   "metadata": {},
   "source": [
    "Doit-être la **dernière instruction** du fichier car Python va bloquer dessus (c'est une boucle infinie)"
   ]
  },
  {
   "cell_type": "markdown",
   "metadata": {},
   "source": [
    "```python\n",
    "## Lancement de la boucle principale\n",
    "fen.mainloop()\n",
    "```"
   ]
  },
  {
   "cell_type": "markdown",
   "metadata": {},
   "source": [
    "### Autres widgets (composants graphiques)"
   ]
  },
  {
   "cell_type": "markdown",
   "metadata": {},
   "source": [
    "<img src=\"http://tkinter.fdex.eu/presentation/_images/todolist.gif\"/>\n",
    "\n",
    "Télécharge l'image ci-dessus (MAJ + clic droit) et met la dans le même répertoire (dossier) que le fichier principal.\n",
    "\n",
    "Aide toi de la vue de l'application pour compléter le code qui suit."
   ]
  },
  {
   "cell_type": "markdown",
   "metadata": {},
   "source": [
    "```python\n",
    "## Autres composants graphiques\n",
    "## w = Widget(parent, opt1=val1, opt2=val2, ...)\n",
    "\n",
    "t_saisie = Label(fen, ____)\n",
    "icone = PhotoImage(file='todolist.gif') # image à télécharger\n",
    "t_img = Label(fen, image=____)\n",
    "saisie = ____(fen)\n",
    "liste = ____(fen, height=3)\n",
    "b = Button(fen, ____)\n",
    "```"
   ]
  },
  {
   "cell_type": "markdown",
   "metadata": {
    "jupyter": {
     "source_hidden": true
    }
   },
   "source": [
    "```python\n",
    "## Autres composants graphiques\n",
    "## w = Widget(parent, opt1=val1, opt2=val2, ...)\n",
    "\n",
    "t_saisie = Label(fen, text=\"Nouvelle tâche\")\n",
    "icone = PhotoImage(file='todolist.gif') # image à télécharger\n",
    "t_img = Label(fen, image=icone)\n",
    "saisie = Entry(fen)\n",
    "liste = Listbox(fen, height=3)\n",
    "b = Button(fen, text=\"Vider\")\n",
    "```"
   ]
  },
  {
   "cell_type": "markdown",
   "metadata": {},
   "source": [
    "### Positionnement des widgets - `w.grid(...)`"
   ]
  },
  {
   "cell_type": "markdown",
   "metadata": {},
   "source": [
    "Ici, nous utiliserons le gestionnaire en **grille** (et non `pack`): `w.grid(row=n°, column=n°, options)`\n",
    "\n",
    "Les numéros débutent à 0 ...\n",
    "\n",
    "Il est possible de fusionner deux cellules d'une même ligne avec l'option `columnspan=nb` (nombre de cellules à fusionner)"
   ]
  },
  {
   "cell_type": "markdown",
   "metadata": {},
   "source": [
    "Organise les widgets de façon à réaliser l'interface graphique de l'application."
   ]
  },
  {
   "cell_type": "markdown",
   "metadata": {},
   "source": [
    "```python\n",
    "## Positionnement des widgets: w.grid(row=val1, column=val2, ...)\n",
    "t_saisie.grid(row=0, column=____)\n",
    "____.grid(____)\n",
    "____.grid(____)\n",
    "____.grid(____)\n",
    "____.grid(____)\n",
    "```"
   ]
  },
  {
   "cell_type": "markdown",
   "metadata": {
    "jupyter": {
     "source_hidden": true
    }
   },
   "source": [
    "```python\n",
    "## Positionnement des widgets: w.grid(row=val1, column=val2, ...)\n",
    "t_saisie.grid(row=0, column=0)\n",
    "saisie.grid(row=0, column=1)\n",
    "t_img.grid(row=1, column=0)\n",
    "liste.grid(row=1, column=1)\n",
    "b.grid(row=2, column=0, columnspan=2)\n",
    "```"
   ]
  },
  {
   "cell_type": "markdown",
   "metadata": {},
   "source": [
    "## Gestion des événements (clavier, souris ...)\n",
    "\n",
    "`w.bind('<...>', handler)` - méthode pour établir la **liaison** entre trois entités:\n",
    "\n",
    "- `w` *widget*: composant graphique qui doit réagir aux actions de l'utilisateur,\n",
    "- `'<...>'` décrit le type de l'événement: clavier, souris, ...,\n",
    "- `handler`: fonction de gestion  de la forme `nom_handler(evt)` (un argument!)\n",
    "\n",
    "Ainsi, il te faudra:\n",
    "1. Identifier le composant graphique qui doit réagir, \n",
    "\n",
    "2. Trouver le [type de l'événement](http://tkinter.fdex.eu/doc/event.html#types-d-evenements) adéquat,\n",
    "\n",
    "3. Définir l'action à entreprendre lorsque l'événement se produit en définissant le `handler`."
   ]
  },
  {
   "cell_type": "markdown",
   "metadata": {},
   "source": [
    "### Ajouter une tâche à la liste"
   ]
  },
  {
   "cell_type": "markdown",
   "metadata": {},
   "source": [
    "L'utilisateur saisie sa tâche puis appuie sur Enter; la tâche est alors ajoutée à la liste."
   ]
  },
  {
   "cell_type": "markdown",
   "metadata": {},
   "source": [
    "`w` est le **champ de saisie**:\n",
    "- `w.get()`: récupére le texte du champ de saisie.\n",
    "- `w.delete(ideb, ifin)`: supprime les caractères de l'index `ideb` à l'index `ifin` du champ de saisie,\n",
    "\n",
    "`w` est la **liste**:\n",
    "- `w.insert(index, elt)`: **insère** `elt` dans la liste de façon que sa position soit `index`\n",
    "\n",
    "*Note importante*: Les index sont des entiers ou la chaîne `'end'` pour indiquer la dernière position."
   ]
  },
  {
   "cell_type": "markdown",
   "metadata": {},
   "source": [
    "Complète le code qui suit pour y parvenir."
   ]
  },
  {
   "cell_type": "markdown",
   "metadata": {},
   "source": [
    "```python\n",
    "## gestionnaire d'événements: fn de la forme nom(evt)\n",
    "def inserer(evt):\n",
    "    # récupérer la tache\n",
    "    ____\n",
    "    # l'insérer à la fin de la liste\n",
    "    ____\n",
    "    # reste un truc à faire\n",
    "    ____\n",
    "\n",
    "____.bind('<Return>', ___)\n",
    "```"
   ]
  },
  {
   "cell_type": "markdown",
   "metadata": {
    "jupyter": {
     "source_hidden": true
    }
   },
   "source": [
    "```python\n",
    "def inserer(evt):\n",
    "    # récupérer la tache\n",
    "    tache = saisie.get()\n",
    "    # l'insérer à la fin de la liste\n",
    "    liste.insert('end', tache)\n",
    "    # vider le champ de saisie\n",
    "    saisie.delete(0, 'end')\n",
    "\n",
    "fen.bind('<Return>', inserer)\n",
    "```"
   ]
  },
  {
   "cell_type": "markdown",
   "metadata": {},
   "source": [
    "### Supprimer un élément de la liste\n",
    "\n",
    "L'utilisateur sélectionne un élément de la liste et appui sur la touche suppr. pour le supprimer.\n",
    "\n",
    "- `w.curselection()`: renvoie l'index de l'élément courant (sélectionné)\n",
    "- `w.delete(index)`: ..."
   ]
  },
  {
   "cell_type": "markdown",
   "metadata": {},
   "source": [
    "```python\n",
    "def supprimer(evt):\n",
    "    pass\n",
    "\n",
    "# bind à faire toi-même (cherche dans la doc pour la touche suppr.)\n",
    "```"
   ]
  },
  {
   "cell_type": "markdown",
   "metadata": {
    "jupyter": {
     "source_hidden": true
    }
   },
   "source": [
    "```python\n",
    "def supprimer(evt):\n",
    "    # récupérer la position de la tache pointée\n",
    "    pos = liste.curselection()\n",
    "    # la supprimer de la liste\n",
    "    liste.delete(pos)\n",
    "\n",
    "fen.bind('<Delete>', supprimer)\n",
    "```"
   ]
  },
  {
   "cell_type": "markdown",
   "metadata": {},
   "source": [
    "### Vider la liste avec le bouton (pas dur, à trouver tout seul)\n",
    "\n",
    "Pense à l'option `\"command\"`..."
   ]
  },
  {
   "cell_type": "markdown",
   "metadata": {
    "jupyter": {
     "source_hidden": true
    }
   },
   "source": [
    "```python\n",
    "def vider():\n",
    "    # voir doc.\n",
    "    liste.delete(0, 'end')\n",
    "\n",
    "b[\"command\"] = vider\n",
    "```"
   ]
  },
  {
   "cell_type": "markdown",
   "metadata": {},
   "source": [
    "### Glisser déposer pour modifier l'ordre des éléments dans la liste"
   ]
  },
  {
   "cell_type": "markdown",
   "metadata": {},
   "source": [
    "`w` est la liste:\n",
    "- `w.nearest(y)`: retourne l'index de l'élément le plus proche du \"y\" fournie (position verticale en pixel). \n",
    "    - Pour trouver cet 'y' qui correspond à la position verticale de la souris, utilise le paramètre `evt` du \"handler\" avec la syntaxe `evt.y`.\n",
    "- `w.get(index)`: récupère l'élément ayant l'index indiqué,"
   ]
  },
  {
   "cell_type": "markdown",
   "metadata": {},
   "source": [
    "```python\n",
    "index = - 1 # pour mémoriser l'index de l'item à déplacer\n",
    "def glisser(evt):\n",
    "    # pour pouvoir modifier la variable index (définie en dehors du handler),\n",
    "    # on précise que index est dans la «portée» globale avec la syntaxe qui suit\n",
    "    global index \n",
    "    pass\n",
    "\n",
    "def deposer(evt):\n",
    "    pass\n",
    "\n",
    "\n",
    "## liaison widget/événements: w.bind('<...>', gestionnaire)\n",
    "___.bind('<Button-1>', ____)\n",
    "___.bind('<ButtonRelease-1>', ____)\n",
    "```"
   ]
  },
  {
   "cell_type": "markdown",
   "metadata": {
    "jupyter": {
     "source_hidden": true
    }
   },
   "source": [
    "```python\n",
    "index = - 1 # pour mémoriser l'index de l'item à déplacer\n",
    "def glisser(evt):\n",
    "    # pour pouvoir modifier la variable index (définie en dehors du handler),\n",
    "    # on précise que index est dans la «portée» globale avec la syntaxe qui suit\n",
    "    global index \n",
    "    index = liste.curselection()\n",
    "    \n",
    "\n",
    "def deposer(evt):\n",
    "    index_fin = liste.nearest(evt.y)\n",
    "    # récupérons les taches pointées\n",
    "    tache1 = liste.get(index)\n",
    "    tache2 = liste.get(index_fin)\n",
    "    # puis supprimons les\n",
    "    liste.delete(index)\n",
    "    liste.delete(index_fin)\n",
    "    # enfin, insérons les de nouveau\n",
    "    liste.insert(index, tache2)\n",
    "    liste.insert(index_fin, tache1)\n",
    "\n",
    "\n",
    "## liaison widget/événements: w.bind('<...>', gestionnaire)\n",
    "fen.bind('<Button-1>', glisser)\n",
    "fen.bind('<ButtonRelease-1>', deposer)\n",
    "```"
   ]
  }
 ],
 "metadata": {
  "kernelspec": {
   "display_name": "Python 3",
   "language": "python",
   "name": "python3"
  },
  "language_info": {
   "codemirror_mode": {
    "name": "ipython",
    "version": 3
   },
   "file_extension": ".py",
   "mimetype": "text/x-python",
   "name": "python",
   "nbconvert_exporter": "python",
   "pygments_lexer": "ipython3",
   "version": "3.7.3"
  }
 },
 "nbformat": 4,
 "nbformat_minor": 4
}
