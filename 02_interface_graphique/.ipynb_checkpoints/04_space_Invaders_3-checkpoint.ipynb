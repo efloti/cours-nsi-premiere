{
 "cells": [
  {
   "cell_type": "markdown",
   "metadata": {},
   "source": [
    "# Space Invaders - Tirer"
   ]
  },
  {
   "cell_type": "markdown",
   "metadata": {},
   "source": [
    "## La notion de Classe - *Refactoring*"
   ]
  },
  {
   "cell_type": "markdown",
   "metadata": {},
   "source": [
    "Faire du *refactoring* consiste à **réorganiser le code**.\n",
    "\n",
    "On remarque que `rectangle.py` et `missile.py` sont très similaires dans leur organisation.\n",
    "\n",
    "Ils ont le défaut de définir beaucoup de noms dont certains sont commun:\n",
    "- *rectangle.py*: `initialiser_rect`, `gauche`, `droite`, `reagir`, `set_vitesse` et `lancer`\n",
    "- *missile.py*: `initialiser_missile`, `set_vitesse`, `lancer` et `supprimer`.\n",
    "\n",
    "Cela risque de poser des problèmes si nous souhaitons réaliser des imports.\n",
    "\n",
    "Pour résoudre ce problème, nous allons réécrire `missile.py` en utilisant la **notion de classe**:"
   ]
  },
  {
   "cell_type": "markdown",
   "metadata": {},
   "source": [
    "### Définir une classe"
   ]
  },
  {
   "cell_type": "markdown",
   "metadata": {},
   "source": [
    "```python\n",
    "# module space_invaders/missile.py\n",
    "from scene import fen, scene, LARGEUR, HAUTEUR\n",
    "\n",
    "class Missile:\n",
    "    \n",
    "    # même rôle que «initialiser_missile»\n",
    "    def __init__(self, x, y, largeur=5, hauteur=15, couleur=\"white\"):\n",
    "        idn = scene.create_rectangle(x, y, x+largeur, y+hauteur, fill=couleur)\n",
    "        \n",
    "        self.id = idn\n",
    "        self.dim = largeur, hauteur\n",
    "        self.pos = x, y\n",
    "        self.v = 0 # en pixels par seconde\n",
    "    \n",
    "    def supprimer(self):\n",
    "        pass\n",
    "    \n",
    "    def set_vitesse(self, v):\n",
    "        pass\n",
    "    \n",
    "    def lancer(self):\n",
    "        pass\n",
    "```"
   ]
  },
  {
   "cell_type": "markdown",
   "metadata": {},
   "source": [
    "`Missile` est le nom de notre classe. Le code est très similaire au code précédent à cela près que:\n",
    "\n",
    "- toutes les fonctions sont dans la **classe** (indentation),\n",
    "\n",
    "- leur premier argument est toujours `self` qui représente *un objet missile individuel*,\n",
    "\n",
    "- `initialiser_missile(...)` est devenue `__init__(self, ...)`\n",
    "    - au lieu de renvoyer un dictionnaire de la forme `{\"attribut\": valeur, ...}`\n",
    "    - on renseigne les attributs avec la syntaxe `self.attribut = valeur` et il n'y a plus de \"return\"\n",
    "\n",
    "\n",
    "- les autres fonctions prennent toutes en premier argument `self` qui joue le rôle de `fig`:\n",
    "\n",
    "    - au lieu d'écrire `x, y = fig[\"pos\"]`, nous écrivons `x, y = self.pos` (de même pour les autres attributs),\n",
    "    - au lieu d'écrire `fig[\"v\"] = 20`, nous écrivons `self.v = 20`,"
   ]
  },
  {
   "cell_type": "markdown",
   "metadata": {},
   "source": [
    "Ainsi, après conversion, notre module est à présent:\n",
    "```python\n",
    "# module space_invaders/missile.py\n",
    "from scene import fen, scene, LARGEUR, HAUTEUR\n",
    "\n",
    "class Missile:\n",
    "    \n",
    "    def __init__(self, x, y, largeur=5, hauteur=15, couleur=\"white\"):\n",
    "        _id = scene.create_rectangle(x, y, x+largeur, y+hauteur, fill=couleur)\n",
    "        \n",
    "        self.id = _id\n",
    "        self.dim = largeur, hauteur\n",
    "        self.pos = x, y\n",
    "        self.v = 0 # en pixels par seconde\n",
    "    \n",
    "    def supprimer(self):\n",
    "        # désallouer ressouce graphique\n",
    "        scene.delete(self.id)\n",
    "    \n",
    "    def set_vitesse(self, v):\n",
    "        self.v = v\n",
    "    \n",
    "    def lancer(self):\n",
    "        v = self.v\n",
    "        # si la vitesse est nulle, inutile de continuer\n",
    "        if v == 0: return\n",
    "\n",
    "        # déplacement pour 100ms\n",
    "        dy = v / 20\n",
    "\n",
    "        x, y = self.pos\n",
    "        largeur, hauteur = self.dim\n",
    "\n",
    "        # si le missile est sorti de la scene (entièrement) le détruire\n",
    "        if x > LARGEUR or x + largeur < 0 or y > HAUTEUR or y + hauteur < 0:\n",
    "            self.supprimer()\n",
    "            # attention à utiliser return pour mettre fin à la fonction! sinon...\n",
    "            return\n",
    "\n",
    "        # à présent, on peut agir ...\n",
    "        scene.move(self.id, 0, dy)\n",
    "        # ne pas oublier de mettre à jour\n",
    "        self.pos = x, y + dy\n",
    "\n",
    "        # et on recommence\n",
    "        fen.after(50, lambda: self.lancer())\n",
    "```"
   ]
  },
  {
   "cell_type": "markdown",
   "metadata": {},
   "source": [
    "**Note importante**:\n",
    "\n",
    "Pour utiliser une fonction «normale» de la classe, au lieu d'écrire «fn(fig)», on écrit `self.fn()`"
   ]
  },
  {
   "cell_type": "markdown",
   "metadata": {},
   "source": [
    "### Utiliser une classe"
   ]
  },
  {
   "cell_type": "markdown",
   "metadata": {},
   "source": [
    "`m = Missile(x,y,...)`: **construit** un «objet missile» puis l'affecte à la variable `m` (qu'on peut choisir librement), \n",
    "\n",
    "`m.fn(..)`: **applique** la fonction `fn` *definie dans la classe* à un objet missile `m`.\n",
    "\n",
    "**IMPORTANT**: il ne **faut pas** renseigner l'argument `self` car il est automatiquement remplacé par l'objet missile `m`.\n",
    "\n",
    "Pour notre cas, cela donne:\n",
    "```python\n",
    "if __name__ == \"__main__\":\n",
    "    from random import randint\n",
    "    missiles = []\n",
    "    for _ in range(5):\n",
    "        m = Missile(randint(0, LARGEUR), HAUTEUR - 30)\n",
    "        missiles.append(m)\n",
    "    for m in missiles:\n",
    "        m.set_vitesse(-randint(50, 300))\n",
    "    fen.bind( '<space>', lambda evt: (missiles.pop()).lancer() )\n",
    "    fen.mainloop()\n",
    "```"
   ]
  },
  {
   "cell_type": "markdown",
   "metadata": {},
   "source": [
    "## Objectif 3: notre «héro» tire des missiles"
   ]
  },
  {
   "cell_type": "markdown",
   "metadata": {},
   "source": [
    "1. Réécrire le module (fichier) *rectangle.py* qu'on renommera *hero.py* et dans lequel on définira la classe `Hero` de façon à obtenir le même comportement que l'ancien fichier."
   ]
  },
  {
   "cell_type": "markdown",
   "metadata": {
    "jupyter": {
     "source_hidden": true
    }
   },
   "source": [
    "```python\n",
    "# module space-invaders/hero.py\n",
    "from scene import fen, scene, LARGEUR, HAUTEUR\n",
    "\n",
    "class Hero:\n",
    "    \n",
    "    def __init__(self, x, y, largeur=50, hauteur=30, couleur=\"white\"):\n",
    "        _id = scene.create_rectangle(x, y, x+largeur, y+hauteur, fill=couleur)\n",
    "        \n",
    "        self.id = _id\n",
    "        self.dim = largeur, hauteur\n",
    "        self.pos = x, y\n",
    "        self.v = 0 # en pixels par seconde\n",
    "    \n",
    "    def gauche(self):\n",
    "        x, y = self.pos # fig[\"position\"]\n",
    "        if x - 5 >= 0:\n",
    "            scene.move(self.id, -5, 0)\n",
    "            # attention à mettre jour la figure!\n",
    "            self.pos = x - 5, y\n",
    "    \n",
    "    def droite(self):\n",
    "        x, y = self.pos\n",
    "        l, h = self.dim\n",
    "        if x + l + 5 <= LARGEUR:\n",
    "            scene.move(self.id, 5, 0)\n",
    "            self.pos = x + 5, y\n",
    "    \n",
    "    def reagir(self, evt_type, gestionnaire):\n",
    "        fen.bind(evt_type, lambda evt: gestionnaire())\n",
    "    \n",
    "    def set_vitesse(self, v):\n",
    "        self.v = v\n",
    "    \n",
    "    def lancer(self):\n",
    "        v = self.v\n",
    "        # si la vitesse est nulle, inutile de continuer\n",
    "        if v == 0: return\n",
    "\n",
    "        # déplacement pour 100ms\n",
    "        dx = v // 20\n",
    "\n",
    "        # doit-on changer de direction ?\n",
    "        x, y = self.pos\n",
    "        l, h = self.dim\n",
    "        if x + l + dx > LARGEUR and v > 0 or x - dx < 0 and v < 0:\n",
    "            # on change de direction!    \n",
    "            self.v = -v\n",
    "            dx = -dx\n",
    "\n",
    "        # à présent, on peut agir ...\n",
    "        scene.move(self.id, dx, 0)\n",
    "        # ne pas oublier de mettre à jour\n",
    "        self.pos = x + dx, y\n",
    "        \n",
    "        # et on recommence\n",
    "        fen.after(50, lambda: self.lancer())\n",
    "\n",
    "if __name__ == \"__main__\":\n",
    "    hero = Hero(450, 300) # initialiser_rect(450, 300)\n",
    "    hero.set_vitesse(80)\n",
    "    hero.lancer()\n",
    "    fen.mainloop()\n",
    "\n",
    "```"
   ]
  },
  {
   "cell_type": "markdown",
   "metadata": {},
   "source": [
    "2. Adapter le module *hero.py* de façon que le vaisseau tire un missile lorsqu'on appuie sur la touche espace:\n",
    "\n",
    "    - supprimer la fonction `lancer` qui n'est plus utile ici,\n",
    "    - importer la classe `Missile` du module `missile` et créer une fonction `tirer(self)` dans la classe `Hero`,\n",
    "    - Dans la fonction `__init__`, utiliser `reagir` de manière que notre «hero»:\n",
    "        - puisse être déplacé en utilisant les flèches du clavier,\n",
    "        - puisse tirer en utilisant la touche \"espace\".\n",
    "    - modifier enfin le code de test qui consiste juste à créer un objet `Hero`."
   ]
  },
  {
   "cell_type": "markdown",
   "metadata": {
    "jupyter": {
     "source_hidden": true
    }
   },
   "source": [
    "```python\n",
    "from scene import fen, scene, LARGEUR, HAUTEUR\n",
    "from missile import Missile\n",
    "\n",
    "class Hero:\n",
    "    \n",
    "    def __init__(self, x, y, largeur=50, hauteur=30, couleur=\"white\"):\n",
    "        _id = scene.create_rectangle(x, y, x+largeur, y+hauteur, fill=couleur)\n",
    "        \n",
    "        self.reagir('<Left>', self.gauche)\n",
    "        self.reagir('<Right>', self.droite)\n",
    "        self.reagir('<space>', self.tirer)\n",
    "        \n",
    "        self.id = _id\n",
    "        self.dim = largeur, hauteur\n",
    "        self.pos = x, y\n",
    "    \n",
    "    def gauche(self):\n",
    "        x, y = self.pos # fig[\"position\"]\n",
    "        if x - 5 >= 0:\n",
    "            scene.move(self.id, -5, 0)\n",
    "            # attention à mettre jour la figure!\n",
    "            self.pos = x - 5, y\n",
    "    \n",
    "    def droite(self):\n",
    "        x, y = self.pos\n",
    "        l, h = self.dim\n",
    "        if x + l + 5 <= LARGEUR:\n",
    "            scene.move(self.id, 5, 0)\n",
    "            self.pos = x + 5, y\n",
    "    \n",
    "    def tirer(self):\n",
    "        x, y = self.pos\n",
    "        m = Missile(x, y)\n",
    "        m.set_vitesse(-100)\n",
    "        m.lancer()\n",
    "\n",
    "    def reagir(self, evt_type, gestionnaire):\n",
    "        fen.bind(evt_type, lambda evt: gestionnaire())\n",
    "    \n",
    "\n",
    "if __name__ == \"__main__\":\n",
    "    hero = Hero(LARGEUR // 2 - 25 , HAUTEUR - 60)\n",
    "    fen.mainloop()\n",
    "```"
   ]
  }
 ],
 "metadata": {
  "kernelspec": {
   "display_name": "Python 3",
   "language": "python",
   "name": "python3"
  },
  "language_info": {
   "codemirror_mode": {
    "name": "ipython",
    "version": 3
   },
   "file_extension": ".py",
   "mimetype": "text/x-python",
   "name": "python",
   "nbconvert_exporter": "python",
   "pygments_lexer": "ipython3",
   "version": "3.6.8"
  }
 },
 "nbformat": 4,
 "nbformat_minor": 4
}
