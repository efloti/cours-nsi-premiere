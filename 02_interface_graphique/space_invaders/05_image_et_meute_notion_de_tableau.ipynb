{
 "cells": [
  {
   "cell_type": "markdown",
   "metadata": {
    "toc-hr-collapsed": false
   },
   "source": [
    "# Space Invaders - des images et une meute d'envahisseurs"
   ]
  },
  {
   "cell_type": "markdown",
   "metadata": {},
   "source": [
    "## Gestion des images"
   ]
  },
  {
   "cell_type": "markdown",
   "metadata": {},
   "source": [
    "Nous utiliserons les images suivantes; vous pouvez les récupérer dans le dossier *images*:\n",
    "\n",
    "|                *hero.png*                |          *env_mere.png*          |          *env_fils.png*          |\n",
    "|:----------------------------------------:|:--------------------------------:|:--------------------------------:|\n",
    "| <img src=\"images/hero.png\"/>             | <img src=\"images/env_mere.png\"/> | <img src=\"images/env_fils.png\"/> |"
   ]
  },
  {
   "cell_type": "markdown",
   "metadata": {},
   "source": [
    "Commencer par déposer ces images dans un répertoire (à créer) `images` situé dans le même répertoire que vos fichier *....py*."
   ]
  },
  {
   "cell_type": "markdown",
   "metadata": {},
   "source": [
    "- `Acteur`: modifions la fonction `__init__` afin de pouvoir afficher une image à la place d'un rectangle:\n",
    "```python\n",
    "def __init__(self, scene, largeur=100, hauteur=100, couleur=\"white\", image=None):\n",
    "    # ...\n",
    "    self.image = image\n",
    "    if image is not None:\n",
    "        # tenir compte des dimensions de l'image éventuelle\n",
    "        self.dim = image.width(), image.height()\n",
    "    else:\n",
    "        self.dim = largeur, hauteur\n",
    "    #...\n",
    "```"
   ]
  },
  {
   "cell_type": "markdown",
   "metadata": {},
   "source": [
    "- Adaptons la fonction `creer_acteur` de la `Scene`:\n",
    "```python\n",
    "def creer_acteur(self, acteur):\n",
    "    xmin, ymin, xmax, ymax = acteur.min_max()\n",
    "    if acteur.image is not None:\n",
    "        # on «ancre l'image» au nord ouest (coin supérieur gauche)\n",
    "        # car elle est ancrée au centre par défaut (voir doc).\n",
    "        _id = __.create_image(__, __, image=acteur.__, anchor=\"nw\")\n",
    "    else:\n",
    "\n",
    "        _id = __.__(xmin, ymin, xmax, ymax, fill=__, width=0)\n",
    "    # mémorisons cet acteur\n",
    "    __(acteur)\n",
    "    return _id\n",
    "```"
   ]
  },
  {
   "cell_type": "markdown",
   "metadata": {},
   "source": [
    "**Solution**"
   ]
  },
  {
   "cell_type": "markdown",
   "metadata": {
    "jupyter": {
     "source_hidden": true
    }
   },
   "source": [
    "```python\n",
    "def creer_acteur(self, acteur):\n",
    "    xmin, ymin, xmax, ymax = acteur.min_max()\n",
    "    if acteur.image is not None:\n",
    "        # on «ancre l'image» au nord ouest (coin supérieur gauche)\n",
    "        # car elle est ancrée au centre par défaut (voir doc).\n",
    "        _id = self.create_image(xmin, ymin, image=acteur.image, anchor=\"nw\")\n",
    "    else:\n",
    "\n",
    "        _id = self.create_rectangle(xmin, ymin, xmax, ymax, fill=acteur.couleur, width=0)\n",
    "    # mémorisons cet acteur\n",
    "    self.acteurs.add(acteur)\n",
    "    return _id\n",
    "```"
   ]
  },
  {
   "cell_type": "markdown",
   "metadata": {},
   "source": [
    "- Enfin, testons avec `Hero` en modifiant son initialisateur:\n",
    "```python\n",
    "def __init__(self, scene):\n",
    "        super().__init__(scene, image=PhotoImage(file=\"img/hero.png\"))\n",
    "        \n",
    "        #...\n",
    "```\n",
    "Ne pas oublier d'importer `PhotoImage`: `from tkinter import PhotoImage`"
   ]
  },
  {
   "cell_type": "markdown",
   "metadata": {},
   "source": [
    "### Exercice\n",
    "\n",
    "Adapter de la même façon l'envahisseur"
   ]
  },
  {
   "cell_type": "markdown",
   "metadata": {},
   "source": [
    "**Solution**"
   ]
  },
  {
   "cell_type": "markdown",
   "metadata": {
    "jupyter": {
     "source_hidden": true
    }
   },
   "source": [
    "```python\n",
    "#...\n",
    "from tkinter import PhotoImage\n",
    "\n",
    "class Envahisseur(Acteur):\n",
    "    \n",
    "    def __init__(self, scene):\n",
    "        super().__init__(scene, image=PhotoImage(file=\"images/env_mere.png\"))\n",
    "        #...\n",
    "```"
   ]
  },
  {
   "cell_type": "markdown",
   "metadata": {},
   "source": [
    "## La meute des envahisseurs"
   ]
  },
  {
   "cell_type": "markdown",
   "metadata": {},
   "source": [
    "Les envahisseurs «enfants» se déplacent en formation de type grille. Ils balaient l'écran horizontalement puis ils se dirigent vers le bas lorsqu'ils atteignent le bord de la scène."
   ]
  },
  {
   "cell_type": "markdown",
   "metadata": {},
   "source": [
    "Pour les gérer, nous allons utiliser un **tableau**."
   ]
  },
  {
   "cell_type": "markdown",
   "metadata": {},
   "source": [
    "### `Tableau`"
   ]
  },
  {
   "cell_type": "markdown",
   "metadata": {},
   "source": [
    "Pour maîtriser nos envahisseurs en meute, nous avons besoin d'un tableau. Nous prendrons les conventions suivantes (voir illustration plus loin):"
   ]
  },
  {
   "cell_type": "markdown",
   "metadata": {},
   "source": [
    "- `i` désigne un numéro de ligne, il est situé entre `0` et `nb_lignes`,\n",
    "- `j` désigne un numéro de colonne, il est situé entre `0` et `nb_colonnes`,\n",
    "- `None` représente l'absence d'une valeur,\n",
    "- `jmin` et `jmax` représentent respectivement le numéro de la première et dernière colonne non vide,\n",
    "- `frontiere_basse` désigne la liste des valeurs situées tout à la fin de chaque colonne (de gauche à droite) - voir croix rouge."
   ]
  },
  {
   "cell_type": "markdown",
   "metadata": {},
   "source": [
    "<img src=\"illustrations/Tableaux.png\"/>"
   ]
  },
  {
   "cell_type": "markdown",
   "metadata": {},
   "source": [
    "Python ne dispose pas de type «tableau», mais on peut *représenter* un tel tableau avec une liste de listes, chaque *sous-liste* représentant une **ligne** du tableau. \n",
    "\n",
    "Par exemple, le tableau précédent s'écrirais:\n",
    "```python\n",
    "[\n",
    "    [None,  'X',  'X',  'X', None],  # t[0]\n",
    "    [ 'X', None,  'X', None, None],  # t[1]\n",
    "    [' X', None, None, None, None],  # t[2]\n",
    "]\n",
    "```\n",
    "\n",
    "Si `t` désigne ce tableau alors `t[0]`, `t[1]`, `t[2]` font respectivement références aux lignes n°0, 1, 2.\n",
    "\n",
    "- `t[i][j]`: lecture `get` de l'élément situé en ligne n°`i` et en colonne n°`j`,\n",
    "\n",
    "- `t[i][j] = valeur`: écriture de `valeur` dans la case dont la ligne est `i` et la colonne `j`,\n",
    "\n",
    "- Pour **parcourir** l'ensemble des valeurs d'un tel tableau on utilise une «double boucle»:\n",
    "\n",
    "  ```python\n",
    "  for i in range(nb_lignes):\n",
    "      for j in range(nb_colonnes):\n",
    "          v = t[i][j]\n",
    "          # faire quelquechose avec v.\n",
    "  ```"
   ]
  },
  {
   "cell_type": "markdown",
   "metadata": {},
   "source": [
    "### Interface"
   ]
  },
  {
   "cell_type": "markdown",
   "metadata": {},
   "source": [
    "Pour faciliter les choses, nous allons définir une classe `Tableau` munie de l'interface suivante:"
   ]
  },
  {
   "cell_type": "markdown",
   "metadata": {},
   "source": [
    "```python\n",
    "class Tableau:\n",
    "    def __init__(self, nb_lignes, nb_colonnes):\n",
    "        self.nb_lignes = nb_lignes\n",
    "        self.nb_colonnes = nb_colonnes\n",
    "        self.nb_valeurs = 0\n",
    "\n",
    "        # amorçage de la liste de liste qui représente le tableau\n",
    "        tableau = []\n",
    "        for __ in range(nb_lignes):\n",
    "            # construction de la ligne __\n",
    "            ligne = []\n",
    "            for __ in range(nb_colonnes):\n",
    "                ligne.__(None)\n",
    "\n",
    "            # ajout de la ligne au tableau\n",
    "            __(ligne)\n",
    "\n",
    "        self.tableau = tableau\n",
    "    \n",
    "    def ajouter(self, valeur, i, j):\n",
    "        \"ajoute valeur dans la case i,j si elle est vide\"\n",
    "        assert 0 <= i < self.nb_lignes and 0 <= j < self.nb_colonnes\n",
    "        pass\n",
    "    \n",
    "    def supprimer(self, i, j):\n",
    "        \"supprime la valeur de la case i,j\"\n",
    "        assert 0 <= i < self.nb_lignes and 0 <= j < self.nb_colonnes\n",
    "        pass\n",
    "    \n",
    "    def supprimer_valeur(self, valeur):\n",
    "        \"supprimer valeur du tableau si elle y figure\"\n",
    "        pass\n",
    "    \n",
    "    def ligne(self, i):\n",
    "        \"renvoie la ligne i\"\n",
    "        assert 0 <= i < self.nb_lignes\n",
    "        return self.tableau[i]\n",
    "    \n",
    "    def colonne(self, j):\n",
    "        \"renvoie une liste qui correspond à la colonne j\"\n",
    "        assert 0 <= j < self.nb_colonnes\n",
    "        pass\n",
    "    \n",
    "    def liste_valeurs(self):\n",
    "        \"renvoie la liste des valeurs différente de None\"\n",
    "        pass\n",
    "    \n",
    "    def frontiere_basse(self):\n",
    "        \"renvoie la liste des valeurs qui sont les dernières de leur colonne\"\n",
    "        pass\n",
    "    \n",
    "    def jmin_max(self):\n",
    "        \"renvoie les numéros des colonnes frontières gauche et droite\"\n",
    "        pass\n",
    "    \n",
    "    def est_vide(self):\n",
    "        return self.nb_valeurs == 0       \n",
    "```"
   ]
  },
  {
   "cell_type": "markdown",
   "metadata": {},
   "source": [
    "**Solution** pour `__init__`"
   ]
  },
  {
   "cell_type": "markdown",
   "metadata": {
    "jupyter": {
     "source_hidden": true
    }
   },
   "source": [
    "```python\n",
    "def __init__(self, nb_lignes, nb_colonnes):\n",
    "    self.nb_lignes = nb_lignes\n",
    "    self.nb_colonnes = nb_colonnes\n",
    "    self.nb_valeurs = 0\n",
    "\n",
    "    # amorçage de la liste de liste qui représente le tableau\n",
    "    tableau = []\n",
    "    for i in range(nb_lignes):\n",
    "        # construction de la ligne i\n",
    "        ligne = []\n",
    "        for j in range(nb_colonnes):\n",
    "            ligne.append(None)\n",
    "\n",
    "        # ajout de la ligne au tableau\n",
    "        tableau.append(ligne)\n",
    "\n",
    "    self.tableau = tableau\n",
    "```"
   ]
  },
  {
   "cell_type": "markdown",
   "metadata": {},
   "source": [
    "### `ajouter` et `supprimer`"
   ]
  },
  {
   "cell_type": "markdown",
   "metadata": {},
   "source": [
    "```python\n",
    "def ajouter(self, valeur, i, j):\n",
    "    \"ajoute valeur dans la case i,j si elle est vide\"\n",
    "    assert 0 <= __ < self.nb_lignes and 0 <= j < __\n",
    "    \n",
    "    if self.tableau[i][j] is not __: return\n",
    "    \n",
    "    self.tableau[i][j] = __\n",
    "    self.nb_valeurs __\n",
    "\n",
    "def supprimer(self, i, j):\n",
    "    \"supprime la valeur de la case i,j\"\n",
    "    assert 0 <= __ < self.nb_lignes and 0 <= j < __\n",
    "    self.tableau[i][j] = __\n",
    "    self.nb_valeurs __\n",
    "```"
   ]
  },
  {
   "cell_type": "markdown",
   "metadata": {},
   "source": [
    "**Solution**"
   ]
  },
  {
   "cell_type": "markdown",
   "metadata": {
    "jupyter": {
     "source_hidden": true
    }
   },
   "source": [
    "```python\n",
    "def ajouter(self, valeur, i, j):\n",
    "    \"ajoute valeur dans la case i,j si elle est vide\"\n",
    "    assert 0 <= i < self.nb_lignes and 0 <= j < self.nb_colonnes\n",
    "    \n",
    "    if self.tableau[i][j] is not None: return\n",
    "    \n",
    "    self.tableau[i][j] = valeur\n",
    "    self.nb_valeurs += 1\n",
    "\n",
    "def supprimer(self, i, j):\n",
    "    \"supprime la valeur de la case i,j\"\n",
    "    assert 0 <= i < self.nb_lignes and 0 <= j < self.nb_colonnes\n",
    "    self.tableau[i][j] = None\n",
    "    self.nb_valeurs -=1\n",
    "```"
   ]
  },
  {
   "cell_type": "markdown",
   "metadata": {},
   "source": [
    "### `supprimer_valeur`"
   ]
  },
  {
   "cell_type": "markdown",
   "metadata": {},
   "source": [
    "```python\n",
    "def supprimer_valeur(self, valeur):\n",
    "    \"supprimer valeur du tableau autant de fois qu'elle y figure\"\n",
    "    a_supprimer = []\n",
    "    for i in range(self.nb_lignes):\n",
    "        for j in range(self.nb_colonnes):\n",
    "            v = self.tableau[i][j]\n",
    "            if valeur is __ or valeur == __:\n",
    "                __( (i, j) )\n",
    "    \n",
    "    for i, j in a_supprimer:\n",
    "        self.__(i, j)\n",
    "```"
   ]
  },
  {
   "cell_type": "markdown",
   "metadata": {},
   "source": [
    "**Solution**"
   ]
  },
  {
   "cell_type": "markdown",
   "metadata": {
    "jupyter": {
     "source_hidden": true
    }
   },
   "source": [
    "```python\n",
    "def supprimer_valeur(self, valeur):\n",
    "    \"supprimer valeur du tableau autant de fois qu'elle y figure\"\n",
    "    a_supprimer = []\n",
    "    for i in range(self.nb_lignes):\n",
    "        for j in range(self.nb_colonnes):\n",
    "            v = self.tableau[i][j]\n",
    "            if valeur is v or valeur == v:\n",
    "                a_supprimer.append( (i, j) )\n",
    "    \n",
    "    for i, j in a_supprimer:\n",
    "        self.supprimer(i, j)\n",
    "```"
   ]
  },
  {
   "cell_type": "markdown",
   "metadata": {},
   "source": [
    "### `colonne` et `liste_valeurs`"
   ]
  },
  {
   "cell_type": "markdown",
   "metadata": {},
   "source": [
    "```python\n",
    "def colonne(self, j):\n",
    "    \"renvoie une liste qui correspond à la colonne j\"\n",
    "    assert 0 <= __ < self.nb_colonnes\n",
    "    \n",
    "    col = []\n",
    "    for i in range(__):\n",
    "        col.__(__[i][j])\n",
    "    \n",
    "    return col\n",
    "\n",
    "def liste_valeurs(self):\n",
    "    \"renvoie la liste des valeurs différente de None\"\n",
    "    valeurs = []\n",
    "    for i in range(__):\n",
    "        for j in range(__):\n",
    "            v = self.__[i][j]\n",
    "            if v is not None:\n",
    "                __(v)\n",
    "    \n",
    "    return valeurs\n",
    "```"
   ]
  },
  {
   "cell_type": "markdown",
   "metadata": {},
   "source": [
    "**Solution**"
   ]
  },
  {
   "cell_type": "markdown",
   "metadata": {
    "jupyter": {
     "source_hidden": true
    }
   },
   "source": [
    "```python\n",
    "def colonne(self, j):\n",
    "    \"renvoie une liste qui correspond à la colonne j\"\n",
    "    assert 0 <= j < self.nb_colonnes\n",
    "    \n",
    "    col = []\n",
    "    for i in range(self.nb_lignes):\n",
    "        col.append(self.tableau[i][j])\n",
    "    \n",
    "    return col\n",
    "\n",
    "def liste_valeurs(self):\n",
    "    \"renvoie la liste des valeurs différente de None\"\n",
    "    valeurs = []\n",
    "    for i in range(self.nb_lignes):\n",
    "        for j in range(self.nb_colonnes):\n",
    "            v = self.tableau[i][j]\n",
    "            if v is not None:\n",
    "                valeurs.append(v)\n",
    "    \n",
    "    return valeurs\n",
    "```"
   ]
  },
  {
   "cell_type": "markdown",
   "metadata": {},
   "source": [
    "### `frontiere_basse`"
   ]
  },
  {
   "cell_type": "markdown",
   "metadata": {},
   "source": [
    "Celle-ci est plus difficile: il nous faut trouver la dernière valeur non nulle de chaque colonne."
   ]
  },
  {
   "cell_type": "markdown",
   "metadata": {},
   "source": [
    "#### Une fonction auxiliaire"
   ]
  },
  {
   "cell_type": "markdown",
   "metadata": {},
   "source": [
    "Écrivons une fonction **auxiliaire** (on pourra la placer juste avant la classe `Tableau`) `index_derniere_valeur(liste)` qui renvoie l'index de la dernière valeur non nulle de la liste fournie en argument ou -1 si il n'y a aucune valeur non nulle."
   ]
  },
  {
   "cell_type": "markdown",
   "metadata": {},
   "source": [
    "```python\n",
    "def index_derniere_valeur(liste):\n",
    "    N = len(liste)\n",
    "    i = __ # index du dernier élément de liste\n",
    "    \n",
    "    while i __ and liste[i] == None:\n",
    "        # reculons\n",
    "        i -= 1\n",
    "    \n",
    "    return __\n",
    "```"
   ]
  },
  {
   "cell_type": "markdown",
   "metadata": {},
   "source": [
    "**Solution**"
   ]
  },
  {
   "cell_type": "markdown",
   "metadata": {
    "jupyter": {
     "source_hidden": true
    }
   },
   "source": [
    "```python\n",
    "def index_derniere_valeur(liste):\n",
    "    N = len(liste)\n",
    "    i = N - 1 # index du dernier élément de liste\n",
    "    \n",
    "    while i >= 0 and liste[i] == None:\n",
    "        # reculons\n",
    "        i -= 1\n",
    "    \n",
    "    return i\n",
    "```"
   ]
  },
  {
   "cell_type": "markdown",
   "metadata": {},
   "source": [
    "#### Exercice\n",
    "\n",
    "Écrire la fonction similaire `index_premiere_valeur(liste)`"
   ]
  },
  {
   "cell_type": "markdown",
   "metadata": {},
   "source": [
    "**Solution**"
   ]
  },
  {
   "cell_type": "markdown",
   "metadata": {
    "jupyter": {
     "source_hidden": true
    }
   },
   "source": [
    "```python\n",
    "def index_premiere_valeur(liste):\n",
    "    N = len(liste)\n",
    "    i = 0 # index du premier élément de liste\n",
    "    \n",
    "    while i < N and liste[i] == None:\n",
    "        # avançons\n",
    "        i += 1\n",
    "    \n",
    "    return i\n",
    "```"
   ]
  },
  {
   "cell_type": "markdown",
   "metadata": {},
   "source": [
    "#### Implémentation"
   ]
  },
  {
   "cell_type": "markdown",
   "metadata": {},
   "source": [
    "Implémentons maintenant `frontiere_basse`"
   ]
  },
  {
   "cell_type": "markdown",
   "metadata": {},
   "source": [
    "```python\n",
    "def frontiere_basse(self):\n",
    "    \"renvoie la liste des valeurs qui sont les dernières de leur colonne\"\n",
    "    fr_basse = []\n",
    "    for j in range(__):\n",
    "        col = self.__(j)\n",
    "        index = index_derniere_valeur(__)\n",
    "        if index >= 0:\n",
    "            v = col[__]\n",
    "            fr_basse.__(v)\n",
    "    \n",
    "    return fr_basse\n",
    "```"
   ]
  },
  {
   "cell_type": "markdown",
   "metadata": {},
   "source": [
    "**Solution**"
   ]
  },
  {
   "cell_type": "markdown",
   "metadata": {
    "jupyter": {
     "source_hidden": true
    }
   },
   "source": [
    "```python\n",
    "def frontiere_basse(self):\n",
    "    \"renvoie la liste des valeurs qui sont les dernières de leur colonne\"\n",
    "    fr_basse = []\n",
    "    for j in range(self.nb_colonnes):\n",
    "        col = self.colonne(j)\n",
    "        index = index_derniere_valeur(col)\n",
    "        if index >= 0:\n",
    "            v = col[index]\n",
    "            fr_basse.append(v)\n",
    "    \n",
    "    return fr_basse\n",
    "```"
   ]
  },
  {
   "cell_type": "markdown",
   "metadata": {},
   "source": [
    "## Envahisseurs"
   ]
  },
  {
   "cell_type": "markdown",
   "metadata": {},
   "source": [
    "À ce stade, il nous faut distinguer les envahisseurs; nous appelerons:\n",
    "- `EnvahisseurMere`: celui qui se déplace en haut de l'écran de gauche à droite\n",
    "- `EnvahisseurFils`: ceux qui se déplacent en meute horizontalement et vers le bas.\n"
   ]
  },
  {
   "cell_type": "markdown",
   "metadata": {},
   "source": [
    "Il n'y a rien de bien nouveau dans cette partie sauf que:\n",
    "\n",
    "- Un `EnvahisseurFils` est construit sur la base de la scène et aussi de la **meute** dont il fait partie.\n",
    "- Un `EnvahisseurMere` ne tire pas: on a donc supprimé le code correspondant.\n",
    "\n",
    "Remplacer le contenu du fichier *envahisseurs.py* par:"
   ]
  },
  {
   "cell_type": "markdown",
   "metadata": {},
   "source": [
    "```python\n",
    "from acteur import Acteur\n",
    "from missile import Missile\n",
    "from random import choice\n",
    "from tkinter import PhotoImage\n",
    "\n",
    "class EnvahisseurMere(Acteur):\n",
    "    \n",
    "    def __init__(self, scene):\n",
    "        super().__init__(scene, image=PhotoImage(file=\"images/env_mere.png\"))\n",
    "        # choisir une vitesse au hasard\n",
    "        self.v = choice([-100, 100])\n",
    "        self._annul = None\n",
    "        \n",
    "        # régler la position de façon à apparaîte en haut\n",
    "        # à gauche ou à droite selon la vitesse ...\n",
    "        l, _ = self.dim\n",
    "        if self.v > 0:\n",
    "            self.set_position(-l+10, 30)\n",
    "        else:\n",
    "            self.set_position(self.L-10, 30)\n",
    "        \n",
    "        # tout est prêt! lançons le.\n",
    "        self._lancer()\n",
    "\n",
    "    def supprimer(self):\n",
    "        super().supprimer()\n",
    "        self.scene.after_cancel(self._annul)\n",
    "\n",
    "    def _lancer(self, duree_milli=50):\n",
    "        if self.est_hors_scene():\n",
    "            self.supprimer()\n",
    "            return\n",
    "        \n",
    "        self.deplacer_duree(duree_milli / 1000)\n",
    "        \n",
    "        self._annul = self.scene.after(\n",
    "            duree_milli,\n",
    "            lambda: self._lancer(duree_milli),\n",
    "        )\n",
    "```"
   ]
  },
  {
   "cell_type": "markdown",
   "metadata": {},
   "source": [
    "```python\n",
    "class EnvahisseurFils(Acteur):\n",
    "    \n",
    "    def __init__(self, scene, meute):\n",
    "        super().__init__(scene, image=PhotoImage(file=\"images/env_fils.png\"))\n",
    "        self.meute = meute\n",
    "    \n",
    "    def tirer(self):\n",
    "        x, y = self.pos\n",
    "        l, h = self.dim\n",
    "        m = Missile(self.scene)\n",
    "        m.set_position(x + l//2, y + h)\n",
    "        m.set_vitesse(300)\n",
    "        m.lancer()\n",
    "\n",
    "if __name__ == \"__main__\":\n",
    "    from scene import *\n",
    "    from hero import Hero\n",
    "    EnvahisseurMere(scene)\n",
    "    Hero(scene)\n",
    "    fen.mainloop()\n",
    "\n",
    "```"
   ]
  },
  {
   "cell_type": "markdown",
   "metadata": {},
   "source": [
    "## La `Meute` - du tableau à la grille"
   ]
  },
  {
   "cell_type": "markdown",
   "metadata": {},
   "source": [
    "Ici, le **tableau** est une structure *logique* (pas de représentation graphique).\n",
    "\n",
    "Lorsqu'on souhaite représenter (dessiner) un tableau, nous parlerons de **grille** laquelle est constituée de **cases**.\n",
    "\n",
    "Chaque **case** possède des *coordonnées* $(x;y)$ pour son coin supérieur gauche et des *dimensions* (largeur et hauteur).\n",
    "\n",
    "Pour dessiner la **grille** qui correspond au *tableau sous-jacent*, il faut associer aux coordonnées $(i;j)$ du tableau, les coordonnées $(x;y)$ pour la case correspondante."
   ]
  },
  {
   "cell_type": "markdown",
   "metadata": {},
   "source": [
    "Créer un nouveau fichier *meute.py* et pour bien comprendre le code de cette classe, étudier soigneusement le passage du tableau à la représentation graphique (grille):"
   ]
  },
  {
   "cell_type": "markdown",
   "metadata": {},
   "source": [
    "<img src=\"illustrations/tableau_vers_grille.png\"/>"
   ]
  },
  {
   "cell_type": "markdown",
   "metadata": {},
   "source": [
    "Ainsi qu'au problème du centrage d'un rectangle (l'envahisseur) dans un autre (la case):"
   ]
  },
  {
   "cell_type": "markdown",
   "metadata": {},
   "source": [
    "<img src=\"illustrations/rectangle_centre_dans_un_autre.png\"/>"
   ]
  },
  {
   "cell_type": "markdown",
   "metadata": {},
   "source": [
    "Voici l'interface la classe `Meute`:"
   ]
  },
  {
   "cell_type": "markdown",
   "metadata": {},
   "source": [
    "```python\n",
    "from tableau import Tableau\n",
    "from envahisseurs import EnvahisseurFils\n",
    "from random import choice, randint\n",
    "\n",
    "class Meute:\n",
    "    def __init__(self, scene, nb_lignes=3, nb_colonnes=5, largeur_case=70, hauteur_case=70):\n",
    "        # attributs généraux\n",
    "        self.scene = scene\n",
    "        self.nb_lignes = nb_lignes\n",
    "        self.nb_colonnes = nb_colonnes\n",
    "        self.largeur_case = largeur_case\n",
    "        self.hauteur_case = hauteur_case\n",
    "        \n",
    "        self.tableau = Tableau(nb_lignes, nb_colonnes)\n",
    "        self.pos = 0, 0 # position globale de la meute\n",
    "        \n",
    "        # gestion du déplacement\n",
    "        self.pas = 20 # en pixel\n",
    "        self.delai = 500 # durée entre deux pas en milliseconde\n",
    "        \n",
    "        # remplissons les cases de la meute.\n",
    "        # la position de cette meute est x=0 et y=0 (coin supérieur gauche)\n",
    "        for i in range(nb_lignes):\n",
    "            for j in range(nb_colonnes):\n",
    "                # coordonnées de la case i, j\n",
    "                x_case = __\n",
    "                y_case = __\n",
    "                \n",
    "                # centrons l'envahisseur dans sa case\n",
    "                env = EnvahisseurFils(scene, __)\n",
    "                l, h = env.dim\n",
    "                x_env = x_case + __\n",
    "                y_env = y_case + __              \n",
    "                env.set_position(x_env, y_env)\n",
    "                \n",
    "                # il est temps de l'ajouter au tableau sous jacent\n",
    "                self.tableau.__\n",
    "        \n",
    "    def supprimer_acteur(self, acteur):\n",
    "        pass\n",
    "    \n",
    "    def deplacer(self, dx, dy):\n",
    "        pass\n",
    "\n",
    "    def tirer(self):\n",
    "        pass\n",
    "    \n",
    "    def attaquer(self):\n",
    "        pass\n",
    "    \n",
    "    def min_max(self):\n",
    "        pass\n",
    "    \n",
    "    def lancer(self):\n",
    "        pass\n",
    "    \n",
    "    # Pour s'assurer que la meute est détruite par Python\n",
    "    # lorsqu'elle ne contient plus aucun envahisseur.\n",
    "    def __del__(self):\n",
    "        print(\"Mort de la meute\")\n",
    "\n",
    "if __name__ == \"__main__\":\n",
    "    from scene import *\n",
    "    from hero import Hero\n",
    "    from envahisseurs import EnvahisseurMere\n",
    "    m = Meute(scene, 3, 3)\n",
    "    # m.deplacer(0, 100)\n",
    "    # m.tirer()\n",
    "    # m.attaquer()\n",
    "    # m.lancer()\n",
    "    EnvahisseurMere(scene)\n",
    "    Hero(scene)\n",
    "    del m\n",
    "    fen.mainloop()\n",
    "```"
   ]
  },
  {
   "cell_type": "markdown",
   "metadata": {},
   "source": [
    "**Solution** pour la fin de `__init__`"
   ]
  },
  {
   "cell_type": "markdown",
   "metadata": {},
   "source": [
    "```python\n",
    "# ...\n",
    "def __init__(self, scene, nb_lignes=3, nb_colonnes=5, largeur_case=70, hauteur_case=70):\n",
    "    #...\n",
    "\n",
    "    # remplissons les cases de la meute.\n",
    "    # la position de cette meute est x=0 et y=0 (coin supérieur gauche)\n",
    "    for i in range(nb_lignes):\n",
    "        for j in range(nb_colonnes):\n",
    "            # coordonnées de la case i, j\n",
    "            x_case = j * largeur_case\n",
    "            y_case = i * hauteur_case\n",
    "\n",
    "            # centrons l'envahisseur dans sa case\n",
    "            env = EnvahisseurFils(scene, self)\n",
    "            l, h = env.dim\n",
    "            x_env = x_case + (largeur_case-l)/2\n",
    "            y_env = y_case + (hauteur_case-h)/2               \n",
    "            env.set_position(x_env, y_env)\n",
    "\n",
    "            # il est temps de l'ajouter au tableau sous jacent\n",
    "            self.tableau.ajouter(env, i, j)\n",
    "```"
   ]
  },
  {
   "cell_type": "markdown",
   "metadata": {},
   "source": [
    "À chaque étape de l'implémentation, décommenter les parties du code de test correspondantes."
   ]
  },
  {
   "cell_type": "markdown",
   "metadata": {},
   "source": [
    "### `supprimer_acteur`, `deplacer` et `tirer`"
   ]
  },
  {
   "cell_type": "markdown",
   "metadata": {},
   "source": [
    "```python\n",
    "def supprimer_acteur(self, acteur):\n",
    "    self.tableau.__(acteur)\n",
    "    \n",
    "def deplacer(self, dx, dy):\n",
    "    if self.tableau.__: return\n",
    "\n",
    "    x, y = self.pos\n",
    "    self.pos = __, __\n",
    "    for env in self.tableau.__:\n",
    "        env.deplacer(dx, dy)\n",
    "\n",
    "def tirer(self):\n",
    "    if self.tableau.__: return\n",
    "\n",
    "    tireurs = self.tableau.__\n",
    "    tireur = choice(tireurs)\n",
    "    tireur.__\n",
    "```"
   ]
  },
  {
   "cell_type": "markdown",
   "metadata": {},
   "source": [
    "**Solution**"
   ]
  },
  {
   "cell_type": "markdown",
   "metadata": {
    "jupyter": {
     "source_hidden": true
    }
   },
   "source": [
    "```python\n",
    "def supprimer_acteur(self, acteur):\n",
    "    self.tableau.supprimer_valeur(acteur)\n",
    "    \n",
    "def deplacer(self, dx, dy):\n",
    "    if self.tableau.est_vide(): return\n",
    "\n",
    "    x, y = self.pos\n",
    "    self.pos = x + dx, y + dy\n",
    "    for env in self.tableau.liste_valeurs():\n",
    "        env.deplacer(dx, dy)\n",
    "\n",
    "def tirer(self):\n",
    "    if self.tableau.est_vide(): return\n",
    "\n",
    "    tireurs = self.tableau.frontiere_basse()\n",
    "    tireur = choice(tireurs)\n",
    "    tireur.tirer()\n",
    "```"
   ]
  },
  {
   "cell_type": "markdown",
   "metadata": {},
   "source": [
    "### `attaquer`"
   ]
  },
  {
   "cell_type": "markdown",
   "metadata": {},
   "source": [
    "```python\n",
    "def attaquer(self):\n",
    "    \"\"\"engage le tir de la meute à répétition\n",
    "    avec un intervalle de temps aléatoire \"\"\"\n",
    "    if self.tableau.__: return\n",
    "    self.__\n",
    "    self.__.after(randint(400, 1000), __)\n",
    "```"
   ]
  },
  {
   "cell_type": "markdown",
   "metadata": {},
   "source": [
    "**Solution**"
   ]
  },
  {
   "cell_type": "markdown",
   "metadata": {
    "jupyter": {
     "source_hidden": true
    }
   },
   "source": [
    "```python\n",
    "def attaquer(self):\n",
    "    \"\"\"engage le tir de la meute à répétition\n",
    "    avec un intervalle de temps aléatoire \"\"\"\n",
    "    if self.tableau.est_vide(): return\n",
    "    self.tirer()\n",
    "    self.scene.after(randint(400, 1000), self.attaquer)\n",
    "```"
   ]
  },
  {
   "cell_type": "markdown",
   "metadata": {},
   "source": [
    "### `lancer`"
   ]
  },
  {
   "cell_type": "markdown",
   "metadata": {},
   "source": [
    "```python\n",
    "def lancer(self):\n",
    "    if __: return\n",
    "    \n",
    "    xmin, ymin = self.pos\n",
    "    # pour la meute\n",
    "    xmax = xmin + __ * self.largeur_case\n",
    "    \n",
    "    # si le déplacement fait sortir de la scène\n",
    "    if __ + self.pas < 0 or xmax + __ > int(self.scene[\"width\"]):\n",
    "        # déplacer vers le bas d'une case\n",
    "        self.deplacer(__)\n",
    "        # ... et changer de direction\n",
    "        self.pas = - __\n",
    "    else:\n",
    "        self.deplacer(__)\n",
    "    \n",
    "    # relancer\n",
    "    __.after(__, self.lancer)\n",
    "     \n",
    "```"
   ]
  },
  {
   "cell_type": "markdown",
   "metadata": {},
   "source": [
    "**Solution**"
   ]
  },
  {
   "cell_type": "markdown",
   "metadata": {
    "jupyter": {
     "source_hidden": true
    }
   },
   "source": [
    "```python\n",
    "def lancer(self):\n",
    "    if self.tableau.est_vide(): return\n",
    "    \n",
    "    xmin, ymin = self.pos\n",
    "    xmax = xmin + self.nb_colonnes * self.largeur_case\n",
    "    \n",
    "    # si le déplacement fait sortir de la scène\n",
    "    if xmin + self.pas < 0 or xmax + self.pas > int(self.scene[\"width\"]):\n",
    "        # déplacer vers le bas ...\n",
    "        self.deplacer(0, self.hauteur_case)\n",
    "        # ... et changer de direction\n",
    "        self.pas = - self.pas\n",
    "    else:\n",
    "        self.deplacer(self.pas, 0)\n",
    "    \n",
    "    # relancer\n",
    "    self.scene.after(self.delai, self.lancer)\n",
    "     \n",
    "```"
   ]
  },
  {
   "cell_type": "markdown",
   "metadata": {},
   "source": [
    "Arriver à ce stade, en exécutant le fichier *meute.py*, vous devriez avoir un bon aperçu du jeu."
   ]
  },
  {
   "cell_type": "markdown",
   "metadata": {},
   "source": [
    "## Conclusion"
   ]
  },
  {
   "cell_type": "markdown",
   "metadata": {},
   "source": [
    "À partir de là, si vous avez bien suivi, vous disposez de toutes les notions clés pour concevoir ou cloner un jeu 2D type Arcade avec tkinter:\n",
    "\n",
    "- la connaissance suffisante du widget `Canvas`,\n",
    "- l'organisation **modulaire** du code en fichiers,\n",
    "- la **séparation** entre *définition* d'une part, *test* d'autre part,\n",
    "- la gestion de nombreux objets grâce à la notion de **classe**,\n",
    "- la *réutilisation* et/ou *spécialisation* du code grâce à la notion d'**héritage**,\n",
    "- l'organisation des objets en grille grâce à la notion de **tableau**."
   ]
  },
  {
   "cell_type": "markdown",
   "metadata": {},
   "source": [
    "Notamment, vous devriez pouvoir comprendre comment le code du *space_invaders_final* situé dans le répertoire *archives* est organisé."
   ]
  },
  {
   "cell_type": "markdown",
   "metadata": {},
   "source": [
    "Il est temps maintenant de vous faire la main sur un projet de votre cru et ... de *voler de vos propres ailes!*"
   ]
  },
  {
   "cell_type": "markdown",
   "metadata": {},
   "source": [
    "## Complément pour une meilleur gestion du clavier"
   ]
  },
  {
   "cell_type": "markdown",
   "metadata": {},
   "source": [
    "À faire..."
   ]
  }
 ],
 "metadata": {
  "kernelspec": {
   "display_name": "Python 3",
   "language": "python",
   "name": "python3"
  },
  "language_info": {
   "codemirror_mode": {
    "name": "ipython",
    "version": 3
   },
   "file_extension": ".py",
   "mimetype": "text/x-python",
   "name": "python",
   "nbconvert_exporter": "python",
   "pygments_lexer": "ipython3",
   "version": "3.6.8"
  },
  "toc-autonumbering": false
 },
 "nbformat": 4,
 "nbformat_minor": 4
}
