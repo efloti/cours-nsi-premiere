{
 "cells": [
  {
   "cell_type": "markdown",
   "metadata": {},
   "source": [
    "# Space Invaders - missiles"
   ]
  },
  {
   "cell_type": "markdown",
   "metadata": {},
   "source": [
    "Maintenant que nous savons gérer le mouvement d'un simple rectangle avec le clavier ou automatiquement, appliquons nos connaissances pour modéliser les projectiles du jeu."
   ]
  },
  {
   "cell_type": "markdown",
   "metadata": {},
   "source": [
    "## Objectif 2: Gérer les missiles"
   ]
  },
  {
   "cell_type": "markdown",
   "metadata": {},
   "source": [
    "Un missile est basiquement un rectangle...\n",
    "\n",
    "Il est donc temps de faire le point sur notre module `rectangle.py` pour **réutiliser** au maximum ce que nous avons déjà fait et/ou l'**adapter** à notre nouvelle problématique.\n",
    "\n",
    "**module** *rectangle.py*:\n",
    "    \n",
    "1. objet rectangle (dictionnaire) a pour attributs (clés): `id`, `largeur`, `hauteur`, `position`, `vitesse`\n",
    "\n",
    "2. fonction «constructeur» car sert à produire un objet rectangle:\n",
    "    \n",
    "   `initialiser_rect`:renvoie un objet rectangle\n",
    "\n",
    "3. fonctions ayant un objet rectangle comme premier paramètre:\n",
    "    \n",
    "    - `gauche` et `droite`: déplace le rectangle vers la gauche ou la droite de 5 pixels\n",
    "    - `reagir`: associe un gestionnaire d'événement au rectangle\n",
    "    - `set_vitesse`: pour régler l'attribut vitesse du rectangle\n",
    "    - `lancer`: pour déclencher son mouvement automatique dans la scène (gauche-droite)"
   ]
  },
  {
   "cell_type": "markdown",
   "metadata": {},
   "source": [
    "Après avoir soigneusement étudié ce plan, quel sera celui du **module** *missile.py*?"
   ]
  },
  {
   "cell_type": "markdown",
   "metadata": {},
   "source": [
    "1. objet missile (dictionnaire) a pour attributs (clés): _____"
   ]
  },
  {
   "cell_type": "markdown",
   "metadata": {},
   "source": [
    "**Solution** - n'ouvrir qu'après avoir suffisemment cherché!"
   ]
  },
  {
   "cell_type": "markdown",
   "metadata": {
    "jupyter": {
     "source_hidden": true
    }
   },
   "source": [
    "`id`, `largeur`, `hauteur`, `position`, `vitesse`; rien à ajouter ou retrancher"
   ]
  },
  {
   "cell_type": "markdown",
   "metadata": {},
   "source": [
    "2. fonction «constructeur» pour un objet missile: ____"
   ]
  },
  {
   "cell_type": "markdown",
   "metadata": {},
   "source": [
    "**Solution** - n'ouvrir qu'après avoir suffisemment cherché!"
   ]
  },
  {
   "cell_type": "markdown",
   "metadata": {
    "jupyter": {
     "source_hidden": true
    }
   },
   "source": [
    "`initialiser_missile`: renvoie un objet missile ayant la même structure qu'un objet rectangle; penser à modifier les valeurs par défaut de largeur et hauteur."
   ]
  },
  {
   "cell_type": "markdown",
   "metadata": {},
   "source": [
    "3. fonctions ayant un objet missile comme premier paramètre:\n",
    "    - ..."
   ]
  },
  {
   "cell_type": "markdown",
   "metadata": {},
   "source": [
    "**Solution** - n'ouvrir qu'après avoir suffisemment cherché!"
   ]
  },
  {
   "cell_type": "markdown",
   "metadata": {
    "jupyter": {
     "source_hidden": true
    }
   },
   "source": [
    " on **élimine** `gauche`, `droite` et `reagir`\n",
    " \n",
    " on **conserve**: `set_vitesse` (identique), `lancer` (code à adapter)\n",
    " \n",
    " on **ajoute**: `supprimer`: qui sert à éliminer le missile lorsqu'il sort de la scene."
   ]
  },
  {
   "cell_type": "markdown",
   "metadata": {},
   "source": [
    "## «Schéma» du module `missile.py`"
   ]
  },
  {
   "cell_type": "markdown",
   "metadata": {},
   "source": [
    "Suivant notre analyse, notre module doit ressembler à ce qui suit; `...` indique des zones où le code est le même que pour le module `rectangle.py`:"
   ]
  },
  {
   "cell_type": "markdown",
   "metadata": {},
   "source": [
    "```python\n",
    "# fichier space_invaders/missile.py\n",
    "...\n",
    "\n",
    "def initialiser_missile(x, y, largeur=5, hauteur=15, couleur=\"white\")\n",
    "    ...\n",
    "\n",
    "def set_vitesse(fig, v):\n",
    "    ...\n",
    "\n",
    "def lancer(fig):\n",
    "    # code à adapter!\n",
    "    ...\n",
    "\n",
    "def supprimer(fig):\n",
    "    # code à implémenter\n",
    "    pass\n",
    "\n",
    "if __name__ == \"__main__\":\n",
    "    # code pour tester le module\n",
    "```"
   ]
  },
  {
   "cell_type": "markdown",
   "metadata": {},
   "source": [
    "## Tout à un début et ... une fin!"
   ]
  },
  {
   "cell_type": "markdown",
   "metadata": {},
   "source": [
    "`initialiser...` sert clairement à donner naissance à notre «missile»: **allocation** de ressource graphique et d'un dictionnaire.\n",
    "\n",
    "`supprimer` devra servir à le faire mourir: **désallouer** les ressources graphiques et le dictionnaire.\n",
    "\n",
    "Lorsqu'on écrit `var = valeur`, python alloue une place mémoire pour ranger la `valeur` et associe le nom `var` à cette place mémoire.\n",
    "\n",
    "`del var` a pour effet de désallouer l'espace mémoire occupée par `valeur` et supprime le nom `var` qui ne peut plus être référencé après cela."
   ]
  },
  {
   "cell_type": "markdown",
   "metadata": {},
   "source": [
    "```python\n",
    "def supprimer(fig):\n",
    "    # désallouer ressouce graphique\n",
    "    scene.______\n",
    "    # désallouer le dictionnaire\n",
    "    del ______   \n",
    "```"
   ]
  },
  {
   "cell_type": "markdown",
   "metadata": {},
   "source": [
    "**Solution** - n'ouvrir qu'après avoir suffisemment cherché!"
   ]
  },
  {
   "cell_type": "markdown",
   "metadata": {},
   "source": [
    "```python\n",
    "def supprimer(fig):\n",
    "    # désallouer ressouce graphique\n",
    "    scene.delete(fig[\"id\"])\n",
    "    # désallouer le dictionnaire\n",
    "    del fig\n",
    "```"
   ]
  },
  {
   "cell_type": "markdown",
   "metadata": {},
   "source": [
    "## Adapter `lancer`"
   ]
  },
  {
   "cell_type": "markdown",
   "metadata": {},
   "source": [
    "Souvenez-vous que cette fonction est, normalement, rappelée automatiquement par `fen.after(...)` sauf si ..."
   ]
  },
  {
   "cell_type": "markdown",
   "metadata": {},
   "source": [
    "Dans *space invaders* les missiles se déplacent verticalement (soit du haut vers le bas soit le contraire selon le lanceur)"
   ]
  },
  {
   "cell_type": "markdown",
   "metadata": {},
   "source": [
    "Enfin, un missile qui sort de l'écran est un missile ... mort...\n",
    "\n",
    "**Note**: nous gérerons les collisions plus tard et donc n'en tenons pas compte ici."
   ]
  },
  {
   "cell_type": "markdown",
   "metadata": {},
   "source": [
    "```python\n",
    "def lancer(fig):\n",
    "    ...\n",
    "    \n",
    "    # déplacement pour 50ms\n",
    "    ____ = v / 20\n",
    "\n",
    "    ...\n",
    "    largeur, hauteur = ___\n",
    "    \n",
    "    # si le missile est sorti de la scene (entièrement) le détruire\n",
    "    if ____ or ____ or ____ or ____:\n",
    "        ____\n",
    "    \n",
    "    # à présent, on peut agir ...\n",
    "    ___\n",
    "    \n",
    "    ...\n",
    "```"
   ]
  },
  {
   "cell_type": "markdown",
   "metadata": {},
   "source": [
    "**Solution** - n'ouvrir qu'après avoir suffisemment cherché!"
   ]
  },
  {
   "cell_type": "markdown",
   "metadata": {
    "jupyter": {
     "source_hidden": true
    }
   },
   "source": [
    "```python\n",
    "def lancer(fig):\n",
    "    v = fig[\"vitesse\"]\n",
    "    # si la vitesse est nulle, inutile de continuer\n",
    "    if v == 0: return\n",
    "    \n",
    "    # déplacement pour 100ms\n",
    "    dy = v / 20\n",
    "\n",
    "    x, y = fig[\"position\"]\n",
    "    largeur, hauteur = fig[\"largeur\"], fig[\"hauteur\"]\n",
    "    \n",
    "    # si le missile est sorti de la scene (entièrement) le détruire\n",
    "    if x > LARGEUR or x + largeur < 0 or y > HAUTEUR or y + hauteur < 0:\n",
    "        supprimer(fig)\n",
    "        # attention à utiliser return pour mettre fin à la fonction! sinon...\n",
    "        return\n",
    "    \n",
    "    # à présent, on peut agir ...\n",
    "    scene.move(fig[\"id\"], 0, dy)\n",
    "    # ne pas oublier de mettre à jour\n",
    "    fig[\"position\"] = x, y + dy\n",
    "    \n",
    "    # et on recommence\n",
    "    fen.after(50, lambda: lancer(fig))\n",
    "```"
   ]
  },
  {
   "cell_type": "markdown",
   "metadata": {},
   "source": [
    "## Tester que tout fonctionne bien"
   ]
  },
  {
   "cell_type": "markdown",
   "metadata": {},
   "source": [
    "Commençons par un **test basique** pour corriger au maximum les erreurs éventuelles"
   ]
  },
  {
   "cell_type": "markdown",
   "metadata": {},
   "source": [
    "```python\n",
    "if __name__ == \"__main__\":\n",
    "    m = ___(LARGEUR // 2, HAUTEUR - 30)\n",
    "    ____(m, -50)\n",
    "    ____\n",
    "    fen.mainloop()\n",
    "```"
   ]
  },
  {
   "cell_type": "markdown",
   "metadata": {},
   "source": [
    "**Solution** - n'ouvrir qu'après avoir suffisamment cherché!"
   ]
  },
  {
   "cell_type": "markdown",
   "metadata": {
    "jupyter": {
     "source_hidden": true
    }
   },
   "source": [
    "```python\n",
    "if __name__ == \"__main__\":\n",
    "    m = initialiser_missile(LARGEUR // 2, HAUTEUR - 30)\n",
    "    set_vitesse(m, -50)\n",
    "    lancer(m)\n",
    "    fen.mainloop()\n",
    "```"
   ]
  },
  {
   "cell_type": "markdown",
   "metadata": {},
   "source": [
    "Puis mettons nos missiles à l'épreuve des balles: réalisons un «**stress test**»"
   ]
  },
  {
   "cell_type": "markdown",
   "metadata": {},
   "source": [
    "**VERSION NSI**"
   ]
  },
  {
   "cell_type": "markdown",
   "metadata": {},
   "source": [
    "```python\n",
    "if __name__ == \"__main__\":\n",
    "    from random import randint\n",
    "    missiles = [ ____(randint(0, LARGEUR), HAUTEUR - 30) for _ in range(30) ]\n",
    "    for m in ____:\n",
    "        set_vitesse( ____, -randint(50, 300) )\n",
    "    ____.bind( '<space>', lambda evt: lancer( missiles.pop() ) )\n",
    "    fen.mainloop()\n",
    "```"
   ]
  },
  {
   "cell_type": "markdown",
   "metadata": {},
   "source": [
    "**Solution** - n'ouvrir qu'après avoir suffisemment cherché!"
   ]
  },
  {
   "cell_type": "markdown",
   "metadata": {
    "jupyter": {
     "source_hidden": true
    }
   },
   "source": [
    "```python\n",
    "if __name__ == \"__main__\":\n",
    "    from random import randint\n",
    "    missiles = [ initialiser_missile(randint(0, LARGEUR), HAUTEUR - 30) for _ in range(30) ]\n",
    "    for m in missiles:\n",
    "        # pourquoi pas une liste en compréhension ...???\n",
    "        set_vitesse( m, -randint(50, 300) )\n",
    "    fen.bind( '<space>', lambda evt: lancer( missiles.pop() ) )\n",
    "    fen.mainloop()\n",
    "```"
   ]
  },
  {
   "cell_type": "markdown",
   "metadata": {},
   "source": [
    "**VERSION ISN**"
   ]
  },
  {
   "cell_type": "markdown",
   "metadata": {},
   "source": [
    "```python\n",
    "if __name__ == \"__main__\":\n",
    "    from random import randint\n",
    "    missiles = []\n",
    "    for _ in range(30):\n",
    "        m = ____(randint(0, LARGEUR), HAUTEUR - 30)\n",
    "        ____.append(____)\n",
    "    for m in ____:\n",
    "        set_vitesse( ____, -randint(50, 300) )\n",
    "    ____.bind( '<space>', lambda evt: lancer( missiles.pop() ) )\n",
    "    fen.mainloop()\n",
    "```"
   ]
  },
  {
   "cell_type": "markdown",
   "metadata": {},
   "source": [
    "**Solution** - n'ouvrir qu'après avoir suffisemment cherché!"
   ]
  },
  {
   "cell_type": "markdown",
   "metadata": {
    "jupyter": {
     "source_hidden": true
    }
   },
   "source": [
    "```python\n",
    "if __name__ == \"__main__\":\n",
    "    from random import randint\n",
    "    missiles = []\n",
    "    for _ in range(30):\n",
    "        m = initialiser_missile(randint(0, LARGEUR), HAUTEUR - 30)\n",
    "        missiles.append(m)\n",
    "    for m in missiles:\n",
    "        set_vitesse( m, -randint(50, 300) )\n",
    "    fen.bind( '<space>', lambda evt: lancer( missiles.pop() ) )\n",
    "    fen.mainloop()\n",
    "```"
   ]
  },
  {
   "cell_type": "markdown",
   "metadata": {},
   "source": [
    "## Solution complète"
   ]
  },
  {
   "cell_type": "markdown",
   "metadata": {},
   "source": [
    "#### Fichier `missile.py`"
   ]
  },
  {
   "cell_type": "markdown",
   "metadata": {
    "editable": false,
    "jupyter": {
     "source_hidden": true
    }
   },
   "source": [
    "```python\n",
    "# module space_invaders/missile.py\n",
    "from scene import fen, scene, LARGEUR, HAUTEUR\n",
    "\n",
    "def initialiser_missile(x, y, largeur=5, hauteur=15, couleur=\"white\"):\n",
    "    _id = scene.create_rectangle(x, y, x+largeur, y+hauteur, fill=couleur)\n",
    "    return {\n",
    "        \"id\": _id,\n",
    "        \"largeur\": largeur,\n",
    "        \"hauteur\": hauteur,\n",
    "        \"position\": (x, y),\n",
    "        \"vitesse\": 0 # en pixels par seconde\n",
    "    }\n",
    "\n",
    "def set_vitesse(fig, v):\n",
    "    fig[\"vitesse\"] = v\n",
    "\n",
    "def lancer(fig):\n",
    "    v = fig[\"vitesse\"]\n",
    "    # si la vitesse est nulle, inutile de continuer\n",
    "    if v == 0: return\n",
    "\n",
    "    # déplacement pour 100ms\n",
    "    dy = v / 20\n",
    "\n",
    "    x, y = fig[\"position\"]\n",
    "    largeur, hauteur = fig[\"largeur\"], fig[\"hauteur\"]\n",
    "\n",
    "    # si le missile est sorti de la scene (entièrement) le détruire\n",
    "    if x > LARGEUR or x + largeur < 0 or y > HAUTEUR or y + hauteur < 0:\n",
    "        supprimer(fig)\n",
    "        # attention à utiliser return pour mettre fin à la fonction! sinon...\n",
    "        return\n",
    "\n",
    "    # à présent, on peut agir ...\n",
    "    scene.move(fig[\"id\"], 0, dy)\n",
    "    # ne pas oublier de mettre à jour\n",
    "    fig[\"position\"] = x, y + dy\n",
    "\n",
    "    # et on recommence\n",
    "    fen.after(50, lambda: lancer(fig))\n",
    "    \n",
    "def supprimer(fig):\n",
    "    # désallouer ressouce graphique\n",
    "    scene.delete(fig[\"id\"])\n",
    "    # désallouer le dictionnaire\n",
    "    del fig\n",
    "\n",
    "if __name__ == \"__main__\":\n",
    "    from random import randint\n",
    "    missiles = []\n",
    "    for _ in range(30):\n",
    "        m = initialiser_missile(randint(0, LARGEUR), HAUTEUR - 30)\n",
    "        missiles.append(m)\n",
    "    for m in missiles:\n",
    "        set_vitesse( m, -randint(50, 300) )\n",
    "    fen.bind( '<space>', lambda evt: lancer( missiles.pop() ) )\n",
    "    fen.mainloop()\n",
    "```"
   ]
  }
 ],
 "metadata": {
  "kernelspec": {
   "display_name": "Python 3",
   "language": "python",
   "name": "python3"
  },
  "language_info": {
   "codemirror_mode": {
    "name": "ipython",
    "version": 3
   },
   "file_extension": ".py",
   "mimetype": "text/x-python",
   "name": "python",
   "nbconvert_exporter": "python",
   "pygments_lexer": "ipython3",
   "version": "3.6.8"
  }
 },
 "nbformat": 4,
 "nbformat_minor": 4
}
