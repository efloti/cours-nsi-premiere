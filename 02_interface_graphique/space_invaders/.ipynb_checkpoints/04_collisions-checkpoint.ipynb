{
 "cells": [
  {
   "cell_type": "markdown",
   "metadata": {
    "toc-hr-collapsed": false
   },
   "source": [
    "# Space Invaders - gestion des collisions"
   ]
  },
  {
   "cell_type": "markdown",
   "metadata": {},
   "source": [
    "Basiquement, une collision met en jeu deux acteurs qui sont dans une même scène (pour l'instant un `Canevas`).\n",
    "\n",
    "Pour pouvoir les détecter, il semble naturel de le faire depuis la scène (et non depuis chaque acteur).\n",
    "\n",
    "Mais pour cela, il faudrait que la scène dispose d'un moyen d'accéder au différents acteurs.\n",
    "\n",
    "Il semble donc naturel de créer une classe `Scene` qui va hériter de la classe native de tkinter `Canevas`: on crée donc ainsi notre propre *widget*!\n",
    "\n",
    "Brossons son *interface*:"
   ]
  },
  {
   "cell_type": "markdown",
   "metadata": {},
   "source": [
    "## La classe `Scene` et son interface"
   ]
  },
  {
   "cell_type": "markdown",
   "metadata": {},
   "source": [
    "```python\n",
    "# module space_invaders/scene.py\n",
    "from tkinter import Canvas\n",
    "\n",
    "class Scene(Canvas):\n",
    "    \n",
    "    def __init__(self, fen):\n",
    "        super().__init__(fen, width=1000, height=800, bg=\"black\")\n",
    "        # un «ensemble» - set - pour suivre les acteurs\n",
    "        self.acteurs = set()\n",
    "        \n",
    "        self.gerer_collision()\n",
    "    \n",
    "    def creer_acteur(self, acteur):\n",
    "        pass\n",
    "    \n",
    "    def supprimer_acteur(self, acteur):\n",
    "        pass\n",
    "    \n",
    "    def est_en_collision(self, acteur1, acteur2):\n",
    "        \"\"\"renvoie True ou False selon que les acteurs sont en collision\n",
    "        (se recouvrent partiellement) ou non.\"\"\"\n",
    "        pass\n",
    "    \n",
    "    def gerer_collision(self, delai_milli=50):\n",
    "        \"\"\"toutes les 'delai_milli' millisecondes, vérifier si il y a des acteurs\n",
    "        en collision et agir en conséquence\"\"\"\n",
    "        pass\n",
    "    \n",
    "```"
   ]
  },
  {
   "cell_type": "markdown",
   "metadata": {},
   "source": [
    "Pour pouvoir surveiller les acteurs, il faut savoir quel acteur est en scène. Nous les enregistrerons donc dans un ensemble `set`."
   ]
  },
  {
   "cell_type": "markdown",
   "metadata": {},
   "source": [
    "*Note*: Nous aurions pu utiliser une `list` mais c'est plus efficace avec un `set`."
   ]
  },
  {
   "cell_type": "markdown",
   "metadata": {},
   "source": [
    "## Les ensembles - `set`"
   ]
  },
  {
   "cell_type": "markdown",
   "metadata": {},
   "source": [
    "Un ensemble `set` est une sorte de liste spécialisée sans index ... il permet de grouper des «objets» en étant assuré qu'un objet donné n'y figure pas deux fois. Basiquement, si `ens` est un ensemble, son *interface* est:\n",
    "\n",
    "- `ens = set()`: création d'un ensemble vide,\n",
    "\n",
    "- `ens.add(objet)`: ajoute `objet` à l'ensemble,\n",
    "\n",
    "- `ens.discard(objet)`: supprime `objet` de l'ensemble sans produire d'erreur si l'`objet` n'y est pas,\n",
    "\n",
    "- `len(ens)`: nombre d'objet dans l'ensemble,\n",
    "\n",
    "- `objet in ens`: renvoie `True` ou `False` selon que `objet` est dans l'ensemble `ens` ou non,\n",
    "\n",
    "- `for objet in ens: ...`: parcourt l'ensemble `ens`."
   ]
  },
  {
   "cell_type": "markdown",
   "metadata": {},
   "source": [
    "Quelques tests:"
   ]
  },
  {
   "cell_type": "code",
   "execution_count": null,
   "metadata": {},
   "outputs": [],
   "source": [
    "class A:\n",
    "    pass\n",
    "\n",
    "\n",
    "ens = set()\n",
    "ob1, ob2, ob3 = A(), A(), A()\n",
    "print(ob1 is ob2)\n",
    "print(type(ob1))"
   ]
  },
  {
   "cell_type": "markdown",
   "metadata": {},
   "source": [
    "ajouter deux fois le même objet ..."
   ]
  },
  {
   "cell_type": "code",
   "execution_count": null,
   "metadata": {},
   "outputs": [],
   "source": [
    "ens.add(ob1)\n",
    "ens.add(ob1)\n",
    "ens"
   ]
  },
  {
   "cell_type": "markdown",
   "metadata": {},
   "source": [
    "supprimer un objet qui n'est pas dans l'ensemble n'a pas d'effet (pas d'erreur!)"
   ]
  },
  {
   "cell_type": "code",
   "execution_count": null,
   "metadata": {},
   "outputs": [],
   "source": [
    "ens.add(ob2)\n",
    "ens.discard(ob3)\n",
    "ens"
   ]
  },
  {
   "cell_type": "code",
   "execution_count": null,
   "metadata": {},
   "outputs": [],
   "source": [
    "ens.discard(ob1)\n",
    "ens"
   ]
  },
  {
   "cell_type": "code",
   "execution_count": null,
   "metadata": {},
   "outputs": [],
   "source": [
    "print(len(ens))\n",
    "print(ob1 in ens, ob2 in ens)\n",
    "ens.discard(ob2)\n",
    "print(len(ens))"
   ]
  },
  {
   "cell_type": "code",
   "execution_count": null,
   "metadata": {},
   "outputs": [],
   "source": [
    "ens.add(ob1)\n",
    "ens.add(ob3)\n",
    "for ob in ens:\n",
    "    print(ob)"
   ]
  },
  {
   "cell_type": "markdown",
   "metadata": {
    "toc-hr-collapsed": true
   },
   "source": [
    "## Ajout et modification de la classe `Acteur`"
   ]
  },
  {
   "cell_type": "markdown",
   "metadata": {},
   "source": [
    "On observe qu'on a souvent besoin des quatres nombres xmin, ymin, xmax, ymax qui correspondent aux coins haut-gauche et bas-droite du rectangle.\n",
    "\n",
    "Nous allons donc ajouter une fonction `min_max` qui renvoie ces quatres nombres."
   ]
  },
  {
   "cell_type": "markdown",
   "metadata": {},
   "source": [
    "### ajout de la fonction `min_max`"
   ]
  },
  {
   "cell_type": "markdown",
   "metadata": {},
   "source": [
    "```python\n",
    "# dans la classe Acteur\n",
    "def min_max(self):\n",
    "    \"\"\"renvoie xmin, ymin, xmax, ymax\"\"\"\n",
    "    x, y = self.pos\n",
    "    l, h = self.dim\n",
    "    return ___, ___, ___, ___\n",
    "```"
   ]
  },
  {
   "cell_type": "markdown",
   "metadata": {},
   "source": [
    "**Solution**"
   ]
  },
  {
   "cell_type": "markdown",
   "metadata": {
    "jupyter": {
     "source_hidden": true
    }
   },
   "source": [
    "```python\n",
    "# dans la classe Acteur\n",
    "def min_max(self):\n",
    "    \"\"\"renvoie xmin, ymin, xmax, ymax\"\"\"\n",
    "    x, y = self.pos\n",
    "    l, h = self.dim\n",
    "    return x, y, x + l, y + h\n",
    "```"
   ]
  },
  {
   "cell_type": "markdown",
   "metadata": {},
   "source": [
    "On s'aperçoit après réflexion qu'on peut alors simplifier un peu le code (le rendre plus clair) en exploitant cette fonction ainsi que l'interface de la scène."
   ]
  },
  {
   "cell_type": "markdown",
   "metadata": {},
   "source": [
    "### réécriture de `est_hors_scene` et `est_dans_scene`"
   ]
  },
  {
   "cell_type": "markdown",
   "metadata": {},
   "source": [
    "```python\n",
    "# dans la classe Acteur\n",
    "def est_hors_scene(self):\n",
    "    \"\"\"Test si l'acteur est entièrement hors de la scène\"\"\"\n",
    "\n",
    "    xmin, ymin, xmax, ymax = ___()\n",
    "    return xmax < 0 or xmin >= self.L or ymax < 0 or ymin >= self.H\n",
    "\n",
    "def est_dans_scene(self, dx=0, dy=0):\n",
    "    \"\"\"Test si l'acteur est entièrement dans la scène,\n",
    "    après un déplacement (virtulel) dx, dy s'il est précisé\"\"\"\n",
    "\n",
    "    xmin, ymin, xmax, ymax = ___()\n",
    "    return xmin + dx >= 0 and ___ <= self.L and ___ >= 0 and ___ <= self.H\n",
    "```"
   ]
  },
  {
   "cell_type": "markdown",
   "metadata": {},
   "source": [
    "**Solution**"
   ]
  },
  {
   "cell_type": "markdown",
   "metadata": {
    "jupyter": {
     "source_hidden": true
    }
   },
   "source": [
    "```python\n",
    "def est_hors_scene(self):\n",
    "    \"\"\"Test si l'acteur est entièrement hors de la scène\"\"\"\n",
    "\n",
    "    xmin, ymin, xmax, ymax = self.min_max()\n",
    "    return xmax < 0 or xmin >= self.L or ymax < 0 or ymin >= self.H\n",
    "\n",
    "def est_dans_scene(self, dx=0, dy=0):\n",
    "    \"\"\"Test si l'acteur est entièrement dans la scène,\n",
    "    après un déplacement (virtulel) dx, dy s'il est précisé\"\"\"\n",
    "\n",
    "    xmin, ymin, xmax, ymax = self.min_max()\n",
    "    return xmin + dx >= 0 and xmax + dx <= self.L and ymin + dy >= 0 and ymax + dy <= self.H\n",
    "```"
   ]
  },
  {
   "cell_type": "markdown",
   "metadata": {},
   "source": [
    "### Autres modifications"
   ]
  },
  {
   "cell_type": "markdown",
   "metadata": {},
   "source": [
    "Modifions un peu l'initialisateur par défaut `__init__` (il n'y a que les lignes utiles), ainsi que `supprimer`.\n",
    "\n",
    "C'est aux fonctions spécialisées de la scène qu'il faut confier la création et la suppression de la figure."
   ]
  },
  {
   "cell_type": "markdown",
   "metadata": {},
   "source": [
    "```python\n",
    "def __init__(self, scene, largeur=100, hauteur=100, couleur=\"white\"):\n",
    "    # ...\n",
    "    # ...\n",
    "    # ...\n",
    "    self.couleur = couleur\n",
    "\n",
    "    self.id = self.scene.creer_acteur(self)\n",
    "\n",
    "\n",
    "def supprimer(self):\n",
    "    \"Efface l'acteur de la scene\"\n",
    "\n",
    "    self.scene.supprimer_acteur(self)\n",
    "```"
   ]
  },
  {
   "cell_type": "markdown",
   "metadata": {
    "toc-hr-collapsed": true
   },
   "source": [
    "## Implémentation de `Scene`"
   ]
  },
  {
   "cell_type": "markdown",
   "metadata": {},
   "source": [
    "### `creer_acteur` et `supprimer_acteur`"
   ]
  },
  {
   "cell_type": "markdown",
   "metadata": {},
   "source": [
    "```python\n",
    "def creer_acteur(self, acteur):\n",
    "    xmin, ymin, xmax, ymax = acteur.___\n",
    "    _id = self.create_rectangle(xmin, ___, ___, ___, fill=___.couleur, width=0)\n",
    "    # mémorisons cet acteur\n",
    "    self.acteurs.___(acteur)\n",
    "    return ___\n",
    "```"
   ]
  },
  {
   "cell_type": "markdown",
   "metadata": {},
   "source": [
    "**Solution**"
   ]
  },
  {
   "cell_type": "markdown",
   "metadata": {
    "jupyter": {
     "source_hidden": true
    }
   },
   "source": [
    "```python\n",
    "def creer_acteur(self, acteur):\n",
    "    xmin, ymin, xmax, ymax = acteur.min_max()\n",
    "    _id = self.create_rectangle(xmin, ymin, xmax, ymax, fill=acteur.couleur, width=0)\n",
    "    # mémorisons cet acteur\n",
    "    self.acteurs.add(acteur)\n",
    "    return _id\n",
    "```"
   ]
  },
  {
   "cell_type": "markdown",
   "metadata": {},
   "source": [
    "*Note*"
   ]
  },
  {
   "cell_type": "markdown",
   "metadata": {
    "jupyter": {
     "source_hidden": true
    }
   },
   "source": [
    "```python\n",
    "# en fait on peut écrire plus simplement:\n",
    "\n",
    "def creer_acteur(self, acteur):\n",
    "    _id = self.create_rectangle(acteur.min_max(), fill=acteur.couleur, width=0)\n",
    "    # mémorisons cet acteur\n",
    "    self.acteurs.add(acteur)\n",
    "    return _id\n",
    "```"
   ]
  },
  {
   "cell_type": "markdown",
   "metadata": {},
   "source": [
    "```python\n",
    "def supprimer_acteur(self, acteur):\n",
    "    # suppression de l'item graphique\n",
    "    self.delete(acteur.id)\n",
    "    # suppression des acteurs en scène\n",
    "    self.____.discard(____)\n",
    "```"
   ]
  },
  {
   "cell_type": "markdown",
   "metadata": {},
   "source": [
    "**Solution**"
   ]
  },
  {
   "cell_type": "markdown",
   "metadata": {
    "jupyter": {
     "source_hidden": true
    }
   },
   "source": [
    "```python\n",
    "def supprimer_acteur(self, acteur):\n",
    "    # suppression de l'item graphique\n",
    "    self.delete(acteur.id)\n",
    "    # suppression des acteurs en scène\n",
    "    self.acteurs.discard(acteur)\n",
    "```"
   ]
  },
  {
   "cell_type": "markdown",
   "metadata": {
    "toc-hr-collapsed": true
   },
   "source": [
    "### Tester!"
   ]
  },
  {
   "cell_type": "markdown",
   "metadata": {},
   "source": [
    "À ce stade, on devrait pouvoir tester la classe `Scene` et la classe `Acteur` et il faut tester dès que c'est possible!\n",
    "\n",
    "- on fait toujours des petites erreurs (frappes, oublie d'un self ...)\n",
    "- ou, plus embêtant, des erreurs de logique dans l'organisation du code."
   ]
  },
  {
   "cell_type": "markdown",
   "metadata": {},
   "source": [
    "#### Pour `Scene`"
   ]
  },
  {
   "cell_type": "markdown",
   "metadata": {},
   "source": [
    "```python\n",
    "# module space_invaders/scene.py\n",
    "from tkinter import Tk, Canvas\n",
    "\n",
    "fen = Tk()\n",
    "fen.title(\"space invaders\")\n",
    "\n",
    "class Scene(Canvas):\n",
    "\n",
    "    # ...\n",
    "\n",
    "scene = Scene(fen)\n",
    "scene.pack()\n",
    "\n",
    "if __name__ == \"__main__\":\n",
    "    # Regarder la console...\n",
    "    fen.mainloop()\n",
    "```"
   ]
  },
  {
   "cell_type": "markdown",
   "metadata": {},
   "source": [
    "#### Pour `Acteur`"
   ]
  },
  {
   "cell_type": "markdown",
   "metadata": {},
   "source": [
    "```python\n",
    "# module space_invaders/acteur.py\n",
    "class Acteur:\n",
    "    #...\n",
    "    \n",
    "if __name__ == \"__main__\":\n",
    "    from scene import *\n",
    "    acteur = Acteur(scene)\n",
    "    acteur.set_position(acteur.L - 50, 100)\n",
    "    # testons les fonctions modifiées avec min_max\n",
    "    print(\"dans scene?\", acteur.est_dans_scene())\n",
    "    print(\"hors scene?\", acteur.est_hors_scene())\n",
    "    acteur.reagir(\"<Left>\", lambda : acteur.deplacer(-5, 0) )\n",
    "    acteur.reagir(\"<Right>\", lambda : acteur.deplacer(5, 0) )\n",
    "    fen.mainloop()\n",
    "```"
   ]
  },
  {
   "cell_type": "markdown",
   "metadata": {},
   "source": [
    "### `est_en_collision`"
   ]
  },
  {
   "cell_type": "markdown",
   "metadata": {},
   "source": [
    "*aide*: il est plus facile de penser au cas où les rectangles ne se chevauchent pas. \n",
    "\n",
    "Par exemple si le *premier* se situe dans la **zone à gauche** du *second* alors `x1_max <= x2_min` ..."
   ]
  },
  {
   "cell_type": "markdown",
   "metadata": {},
   "source": [
    "```python\n",
    "def est_en_collision(self, acteur1, acteur2):\n",
    "    \"\"\"renvoie True ou False selon que les acteurs sont en collision\n",
    "    (se recouvrent partiellement) ou non.\"\"\"\n",
    "\n",
    "    assert acteur1 is not ___\n",
    "\n",
    "    x1_min, y1_min, x1_max, y1_max = acteur1.____\n",
    "    x2_min, y2_min, x2_max, y2_max = acteur2.____\n",
    "\n",
    "    # horizontalement\n",
    "    # si l'acteur1 est à gauche de l'acteur2\n",
    "    # ou si c'est le contraire, pas de collision\n",
    "    if ___ or ___:\n",
    "        return False\n",
    "\n",
    "    # verticalement\n",
    "    if ___ or ___:\n",
    "        return False\n",
    "\n",
    "    # dans tous les autres cas: collision!\n",
    "    return True\n",
    "```"
   ]
  },
  {
   "cell_type": "markdown",
   "metadata": {},
   "source": [
    "**Solution**"
   ]
  },
  {
   "cell_type": "markdown",
   "metadata": {
    "jupyter": {
     "source_hidden": true
    }
   },
   "source": [
    "```python\n",
    "def est_en_collision(self, acteur1, acteur2):\n",
    "    \"\"\"renvoie True ou False selon que les acteurs sont en collision\n",
    "    (se recouvrent partiellement) ou non.\"\"\"\n",
    "\n",
    "    assert acteur1 is not acteur2\n",
    "\n",
    "    x1_min, y1_min, x1_max, y1_max = acteur1.min_max()\n",
    "    x2_min, y2_min, x2_max, y2_max = acteur2.min_max()\n",
    "\n",
    "    # horizontalement\n",
    "    # si l'acteur1 est à gauche de l'acteur2\n",
    "    # ou si c'est le contraire, pas de collision\n",
    "    if x1_max <= x2_min or x2_max <= x1_min:\n",
    "        return False\n",
    "\n",
    "    # verticalement\n",
    "    if y1_max <= y2_min or y2_max <= y1_min:\n",
    "        return False\n",
    "\n",
    "    # dans tous les autres cas: collision!\n",
    "    return True\n",
    "```"
   ]
  },
  {
   "cell_type": "markdown",
   "metadata": {},
   "source": [
    "### `gerer_collision`"
   ]
  },
  {
   "cell_type": "markdown",
   "metadata": {},
   "source": [
    "C'est peut-être la première fois que vous rencontrez des **boucles imbriquées**: une boucle dans une autre boucle.\n",
    "\n",
    "L'idée c'est de collecter toutes les paires d'acteurs de la scène pour savoir s'ils sont en collision avec `est_en_collision`.\n",
    "\n",
    "Il va donc falloir parcourir deux fois l'ensemble des acteurs."
   ]
  },
  {
   "cell_type": "markdown",
   "metadata": {},
   "source": [
    "```python\n",
    "def gerer_collision(self, delai_milli=50):\n",
    "    # un ensemble pour collecter les acteurs en collision\n",
    "    a_supprimer = ___\n",
    "\n",
    "    for acteur1 in ___:\n",
    "        # si cet acteur est dans a_supprimer\n",
    "        # inutile de s'en occuper!\n",
    "        if acteur1 in a_supprimer: continue\n",
    "\n",
    "        for acteur2 in self.acteurs:\n",
    "            # si acteur2 est identique à acteur1 ou\n",
    "            # si il est déjà dans a_supprimer,\n",
    "            #inutile de s'en occuper!\n",
    "            if acteur1 ___ acteur2 or acteur2 ___ a_supprimer: continue\n",
    "\n",
    "            # sont-ils en collision ?\n",
    "            if self.___(acteur1, acteur2):\n",
    "                # si oui, on les collecte\n",
    "                ___.add(acteur1)\n",
    "                ___.add(acteur2)\n",
    "\n",
    "    # suppression des acteurs collectés\n",
    "    for acteur in ___:\n",
    "        acteur.___()\n",
    "\n",
    "    # ne pas oublier de relancer\n",
    "    self.___(delai_milli, ___)\n",
    "```"
   ]
  },
  {
   "cell_type": "markdown",
   "metadata": {},
   "source": [
    "**Solution**"
   ]
  },
  {
   "cell_type": "markdown",
   "metadata": {
    "jupyter": {
     "source_hidden": true
    }
   },
   "source": [
    "```python\n",
    "def gerer_collision(self, delai_milli=50):\n",
    "    # un ensemble pour collecter les acteurs en collision\n",
    "    a_supprimer = set()\n",
    "\n",
    "    for acteur1 in self.acteurs:\n",
    "        # si cet acteur est dans a_supprimer\n",
    "        # inutile de s'en occuper! \n",
    "        if acteur1 in a_supprimer: continue\n",
    "\n",
    "        for acteur2 in self.acteurs:\n",
    "            # si acteur2 est identique à acteur1 ou\n",
    "            # si il est déjà dans a_supprimer,\n",
    "            #inutile de s'en occuper!\n",
    "            if acteur1 is acteur2 or acteur2 in a_supprimer: continue\n",
    "            \n",
    "            # sont-ils en collision ?\n",
    "            if self.est_en_collision(acteur1, acteur2):\n",
    "                # si oui, on les collecte\n",
    "                a_supprimer.add(acteur1)\n",
    "                a_supprimer.add(acteur2)\n",
    "\n",
    "    # suppression des acteurs collectés\n",
    "    for a in a_supprimer:\n",
    "        a.supprimer()\n",
    "\n",
    "    # ne pas oublier de relancer\n",
    "    self.after(50, self.gerer_collision)\n",
    "```"
   ]
  },
  {
   "cell_type": "markdown",
   "metadata": {
    "toc-hr-collapsed": true
   },
   "source": [
    "## Adapter les autres classes si besoin"
   ]
  },
  {
   "cell_type": "markdown",
   "metadata": {},
   "source": [
    "### `Missile`"
   ]
  },
  {
   "cell_type": "markdown",
   "metadata": {},
   "source": [
    "Normalement le fichier missile fonctionne toujours..."
   ]
  },
  {
   "cell_type": "markdown",
   "metadata": {},
   "source": [
    "### `Hero`"
   ]
  },
  {
   "cell_type": "markdown",
   "metadata": {},
   "source": [
    "Pareil mais lorsqu'on lance un missile le héro est détruit (par son propre missile!)"
   ]
  },
  {
   "cell_type": "markdown",
   "metadata": {},
   "source": [
    "C'est en fait plutôt bon signe car on voit que la fonction `gerer_collision` fait son travail!"
   ]
  },
  {
   "cell_type": "markdown",
   "metadata": {},
   "source": [
    "Pour éviter tout de même de détruire le héro quand on lance le missile, il faut s'assurer que le missile ne le touche pas lorsqu'on tire:"
   ]
  },
  {
   "cell_type": "markdown",
   "metadata": {},
   "source": [
    "```python\n",
    "def tirer(self):\n",
    "    x, y = self.pos\n",
    "    l, _ = self.dim\n",
    "    m = Missile(self.scene)\n",
    "    _, hm = m.dim\n",
    "    m.set_position(x + l//2, y - hm)\n",
    "    m.set_vitesse(-300)\n",
    "    m.lancer()\n",
    "```"
   ]
  },
  {
   "cell_type": "markdown",
   "metadata": {},
   "source": [
    "### `Envahisseur`"
   ]
  },
  {
   "cell_type": "markdown",
   "metadata": {},
   "source": [
    "Tout fonctionne bien à cela près que l'envahisseur continue à tirer après avoir été détruit de même que le héro!!\n",
    "\n",
    "C'est un **bug** qu'il va falloir régler."
   ]
  },
  {
   "cell_type": "markdown",
   "metadata": {
    "toc-hr-collapsed": true
   },
   "source": [
    "## Correction du bug ..."
   ]
  },
  {
   "cell_type": "markdown",
   "metadata": {},
   "source": [
    "les bugs observés proviennent du fait que lorsqu'on utilise la fonction `after` ou la fonction `bind`, il faut pouvoir les *annuler*.\n",
    "\n",
    "La documentation de tkinter indique que pour annuler un `after` on utilise [`after_cancel`](http://tkinter.fdex.eu/doc/uwm.html#after_cancel) et pour un`bind` on utilise [`unbind`](http://tkinter.fdex.eu/doc/uwm.html#unbind)."
   ]
  },
  {
   "cell_type": "markdown",
   "metadata": {},
   "source": [
    "**Le principe**: \n",
    "\n",
    "les fonctions `after` et `bind` renvoient toute les deux un *identifiant numérique* que je note `idn`.\n",
    "\n",
    "Pour **annuler** un `after`, on écrit `after_cancel(idn)` et pour un `bind`, on écrit `unbind(type_evenement, idn)`.\n",
    "\n"
   ]
  },
  {
   "cell_type": "markdown",
   "metadata": {},
   "source": [
    "Ainsi, il faudrait *spécialiser* la fonction `supprimer` pour qu'elle s'occupe d'annuler les `after` et les `bind`."
   ]
  },
  {
   "cell_type": "markdown",
   "metadata": {},
   "source": [
    "### Pour `Hero`"
   ]
  },
  {
   "cell_type": "markdown",
   "metadata": {},
   "source": [
    "- Dans son `__init__` remplaçons:\n",
    "```python\n",
    "self.reagir('<space>', self.tirer)\n",
    "```\n",
    "par \n",
    "```python\n",
    "self._space = self.reagir('<space>', self.tirer)\n",
    "```"
   ]
  },
  {
   "cell_type": "markdown",
   "metadata": {},
   "source": [
    "- Redéfinissons ensuite la fonction `supprimer` pour `Hero`:\n",
    "```python\n",
    "def supprimer(self):\n",
    "    super().supprimer()\n",
    "    self.fen.unbind('<space>', self._space)\n",
    "```"
   ]
  },
  {
   "cell_type": "markdown",
   "metadata": {},
   "source": [
    "À ce stade, on doit pouvoir vérifier que lorsque le héro est détruit, il ne peut plus tirer!\n",
    "\n",
    "MAIS en fait on peut toujours le déplacer de gauche à droite même si on ne le voit pas ...\n",
    "\n",
    "Bref, il faut faire un `unbind` pour chacun des `bind`: ce n'est pas bien long!"
   ]
  },
  {
   "cell_type": "markdown",
   "metadata": {},
   "source": [
    "### Pour `Envahisseur`"
   ]
  },
  {
   "cell_type": "markdown",
   "metadata": {},
   "source": [
    "- Dans son `__init__` rajoutons un attribut `self._annul = None`"
   ]
  },
  {
   "cell_type": "markdown",
   "metadata": {},
   "source": [
    "- Dans `tirer` remplaçons:\n",
    "  ```python\n",
    "  self.scene.after(duree_milli, lambda: self._lancer(duree_milli))\n",
    "  ```\n",
    "  par\n",
    "  ```python\n",
    "  self._annul = self.scene.after(duree_milli, lambda: self._lancer(duree_milli))\n",
    "  ```"
   ]
  },
  {
   "cell_type": "markdown",
   "metadata": {},
   "source": [
    "- Redéfinissons `supprimer`:\n",
    "```python\n",
    "  def supprimer(self):\n",
    "        super().supprimer()\n",
    "        self.scene.after_cancel(self._annul)\n",
    "```"
   ]
  },
  {
   "cell_type": "markdown",
   "metadata": {},
   "source": [
    "## Complément: comment s'assurer qu'un objet est complètement supprimé?"
   ]
  },
  {
   "cell_type": "markdown",
   "metadata": {},
   "source": [
    "Dans une classe on peut ajouter une fonction spéciale de Python `__del__`.\n",
    "\n",
    "Dans la classe `Acteur` ajouter:\n",
    "```python\n",
    "def __del__(self):\n",
    "   print(self, \" supprimer!\")\n",
    "```"
   ]
  },
  {
   "cell_type": "markdown",
   "metadata": {},
   "source": [
    "La logique de Python est la suivante: \n",
    "- si **plus rien ne référence** un objet (un acteur par exemple), je le détruis automatiquement,\n",
    "- mais juste avant, j'appelle la fonction `__del__` de l'objet pour le prévenir."
   ]
  },
  {
   "cell_type": "markdown",
   "metadata": {},
   "source": [
    "Si la variable `obj` référence un objet, `del obj` détruit cette variable (son nom) mais l'objet n'est pas détruit **sauf si plus rien n'y fait référence**.\n",
    "\n",
    "Tester ce qui suit pour bien comprendre (une cellule après l'autre):"
   ]
  },
  {
   "cell_type": "code",
   "execution_count": null,
   "metadata": {},
   "outputs": [],
   "source": [
    "class Truc:\n",
    "    def __del__(self):\n",
    "        print(\"je meurs\")"
   ]
  },
  {
   "cell_type": "code",
   "execution_count": null,
   "metadata": {},
   "outputs": [],
   "source": [
    "# la variable truc référence un objet de type Truc\n",
    "truc = Truc()\n",
    "# on détruit la variable qui était la seul référence vers l'objet\n",
    "del truc\n",
    "# l'objet va être détruit par Python."
   ]
  },
  {
   "cell_type": "code",
   "execution_count": null,
   "metadata": {},
   "outputs": [],
   "source": [
    "truc = Truc()\n",
    "# On crée une autre référence vers l'objet de type Truc\n",
    "bidulle = truc\n",
    "# On détruit la première variable\n",
    "del truc\n",
    "# l'objet est-il détruit par Python?"
   ]
  },
  {
   "cell_type": "code",
   "execution_count": null,
   "metadata": {},
   "outputs": [],
   "source": [
    "# l'objet n'est toujours pas détruit, mais si on supprime la seconde variable\n",
    "del bidulle"
   ]
  },
  {
   "cell_type": "code",
   "execution_count": null,
   "metadata": {},
   "outputs": [],
   "source": [
    "# et si on ne fait aucune référence à l'objet créé?\n",
    "Truc()\n",
    "print(\"passons à autre chose...\")"
   ]
  },
  {
   "cell_type": "markdown",
   "metadata": {},
   "source": [
    "**Quel lien avec nos acteurs???** Nous souhaitons que chaque acteur soit détruit lorsque sa fonction `supprimer` est appelée \n",
    "\n",
    "Autrement, de nombreux acteurs vont s'accumuler tout au long du jeu (pensez aux missiles) et le jeu finira par planter (faute de mémoire).\n",
    "\n",
    "Nous allons pouvoir vérifier si les acteurs sont bien détruits par Python au fur et à mesure grace à la fonction spéciale `__del__` ajoutée à `Acteur`:.\n",
    "\n",
    "- Pour **Missile**, modifier le code de test en ajoutant `del m` après la dernière boucle `for`. \n",
    " Puis vérifier que tout fonctionne bien et que les missiles dont détruits par Python une fois hors scène.\n",
    "\n",
    "- Pour **Hero** inutile de créer une variable:\n",
    "```python\n",
    "if __name__ == \"__main__\":\n",
    "    from scene import *\n",
    "    Hero(scene)\n",
    "    fen.mainloop()\n",
    "```\n",
    "- même chose pour **Envahisseur**:\n",
    "```python\n",
    "if __name__ == \"__main__\":\n",
    "    from scene import *\n",
    "    from hero import Hero\n",
    "    Envahisseur(scene)\n",
    "    Hero(scene)\n",
    "    fen.mainloop()\n",
    "```"
   ]
  },
  {
   "cell_type": "markdown",
   "metadata": {},
   "source": [
    "REMARQUES:\n",
    "- Chaque acteur existe au cours du test car ils sont référencés par la scène (autrement il serait détruit dès le début du test!)\n",
    "- Lorsqu'on fait `fen.bind`, l'acteur est référencé par la fenêtre et ne peut être détruit par Python sans un `unbind`.\n",
    "- Lorqu'on fait `scene.after`, l'acteur concerné est référencé par le Canvas sous-jacent à la scène, il ne peut être détruit tant que `after` est appelé d'où la nécessité du `after_cancel`.\n",
    "\n",
    "**Conclusion**: tout `bind` doit prévoir un `unbind`, tout `after` qui sert à rappeler une fonction régulièrement doit-être arrêté d'une façon ou d'une autre pour que l'objet puisse être détruit.\n"
   ]
  }
 ],
 "metadata": {
  "kernelspec": {
   "display_name": "Python 3",
   "language": "python",
   "name": "python3"
  },
  "language_info": {
   "codemirror_mode": {
    "name": "ipython",
    "version": 3
   },
   "file_extension": ".py",
   "mimetype": "text/x-python",
   "name": "python",
   "nbconvert_exporter": "python",
   "pygments_lexer": "ipython3",
   "version": "3.6.8"
  }
 },
 "nbformat": 4,
 "nbformat_minor": 4
}
