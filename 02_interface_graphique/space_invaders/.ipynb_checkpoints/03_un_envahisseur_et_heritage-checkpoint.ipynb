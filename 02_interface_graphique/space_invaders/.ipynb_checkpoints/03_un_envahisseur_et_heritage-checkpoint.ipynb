{
 "cells": [
  {
   "cell_type": "markdown",
   "metadata": {
    "toc-hr-collapsed": false
   },
   "source": [
    "# Space Invaders - un «envahisseur»"
   ]
  },
  {
   "cell_type": "markdown",
   "metadata": {},
   "source": [
    "[Vidéo d'accompagnement](https://vimeo.com/502720878)"
   ]
  },
  {
   "cell_type": "markdown",
   "metadata": {},
   "source": [
    "Notre «hero» et les «missiles» ont pas mal de code similaire et nous allons ajouter une nouvelle classe pour représenter les «envahisseurs».\n",
    "\n",
    "Cela risque de produire beaucoup de **duplication de code** ce qui n'est **pas bon du tout**!!\n",
    "\n",
    "En effet, si on modifie le code d'un fichier, il va falloir faire la même modification dans tous les autres!"
   ]
  },
  {
   "cell_type": "markdown",
   "metadata": {
    "toc-hr-collapsed": false
   },
   "source": [
    "## L'héritage pour «factoriser» le code"
   ]
  },
  {
   "cell_type": "markdown",
   "metadata": {},
   "source": [
    "Voyons cela sur un exemple:"
   ]
  },
  {
   "cell_type": "code",
   "execution_count": null,
   "metadata": {},
   "outputs": [],
   "source": [
    "class A:\n",
    "    def __init__(self, a):\n",
    "        self.a = a\n",
    "\n",
    "    def fn1(self):\n",
    "        print(\"faire qqchose\")\n",
    "\n",
    "    def fn2(self, x):\n",
    "        print(self.a + x)\n",
    "\n",
    "\n",
    "# test\n",
    "a1, a2 = A(10), A(100)\n",
    "a1.fn1()\n",
    "a1.fn2(5)  # 15\n",
    "a2.fn2(5)  # 105"
   ]
  },
  {
   "cell_type": "markdown",
   "metadata": {},
   "source": [
    " Voici maintenant un exemple d'**héritage**:"
   ]
  },
  {
   "cell_type": "code",
   "execution_count": null,
   "metadata": {},
   "outputs": [],
   "source": [
    "class B(A):\n",
    "    def __init__(self, val):\n",
    "        super().__init__(val)\n",
    "\n",
    "    def fn2(self, x):\n",
    "        print(self.a * x)\n",
    "        super().fn2(x)\n",
    "\n",
    "\n",
    "# test\n",
    "b = B(10)\n",
    "print(b.a)  # 5\n",
    "b.fn1()\n",
    "b.fn2(5)  # 50 puis 15"
   ]
  },
  {
   "cell_type": "markdown",
   "metadata": {},
   "source": [
    "Observer bien:\n",
    "- l'attribut `a` n'est défini nul part dans la classe `B` et il est pourtant accessible depuis cette classe... car il a été *hérité* de la classe `A`,\n",
    "- de même `fn1` n'est pas définie dans `B` mais elle est héritée de `A`,\n",
    "- par contre, `fn2` est re-définie dans `B`, noter qu'il est tout de même encore possible d'accéder à la fonction de même nom définie dans `A`.\n"
   ]
  },
  {
   "cell_type": "markdown",
   "metadata": {},
   "source": [
    "### Résumé de la syntaxe"
   ]
  },
  {
   "cell_type": "markdown",
   "metadata": {},
   "source": [
    "- Pour qu'une classe `B` («fille») **hérite** d'une classe `A` («mère»), on écrit:\n",
    "    - `class B(A)`.\n",
    "- Pour pour utiliser une fonction `fn` définie dans la classe «mère» `A` **depuis** la classe «fille» `B`, on écrit:\n",
    "    - `self.fn()` si la fonction n'est **pas redéfinie**,\n",
    "    - `super().fn()` sinon."
   ]
  },
  {
   "cell_type": "markdown",
   "metadata": {},
   "source": [
    "*NOTES*: \n",
    "- la syntaxe `super().fn` est souvent la première instruction d'une fonction `fn` *re-définie*; c'est obligatoire pour la fonction spéciale `__init__`.\n",
    "- Dans `B`, il n'était pas nécessaire de redéfinir `__init__` car elle ne fait rien d'autre que d'appeler l'initialisateur de la classe mère ce qui est le comportement par défaut (vous pouvez la supprimer, ça ne change rien.)"
   ]
  },
  {
   "cell_type": "markdown",
   "metadata": {},
   "source": [
    "## Interface de la classe mère `Acteur`"
   ]
  },
  {
   "cell_type": "markdown",
   "metadata": {},
   "source": [
    "Nous souhaitons réaliser une classe `Envahisseur`, mais elle risque d'avoir de nombreux points communs avec `Hero` et `Missile`. \n",
    "\n",
    "Nous allons donc créer une classe `Acteur` qui va servir de classe «mère» à nos trois classes, voici son «interface»:"
   ]
  },
  {
   "cell_type": "markdown",
   "metadata": {},
   "source": [
    "```python\n",
    "# module space_invaders/acteur.py\n",
    "\n",
    "\n",
    "class Acteur:\n",
    "    def __init__(self, scene, largeur, hauteur, couleur=\"white\"):\n",
    "        # pour accéder facilement aux informations de contexte\n",
    "        self.scene = scene\n",
    "        self.fen = scene.winfo_toplevel()\n",
    "        self.L = int(scene[\"width\"])\n",
    "        self.H = int(scene[\"height\"])\n",
    "\n",
    "        # attributs propres de chaque acteur\n",
    "        self.dim = largeur, hauteur\n",
    "        self.pos = 0, 0\n",
    "        self.v = 0  # vitesse en pixel par seconde\n",
    "        self.id = scene.create_rectangle(0, 0, largeur, hauteur, fill=couleur)\n",
    "\n",
    "    def supprimer(self):\n",
    "        \"Efface l'acteur de la scene\"\n",
    "        pass\n",
    "\n",
    "    def set_position(self, x, y):\n",
    "        \"Met l'acteur dans la position indiquée\"\n",
    "        pass\n",
    "\n",
    "    def deplacer(self, dx, dy):\n",
    "        \"Déplace l'acteur de dx pixels horizontalement et de dy pixels verticalement\"\n",
    "        pass\n",
    "\n",
    "    def deplacer_duree(self, duree, direction=\"h\"):\n",
    "        \"\"\"Déplace l'acteur en utilisant sa vitesse (horizontalement par défaut).\n",
    "        l'unité de durée est la seconde\"\"\"\n",
    "        pass\n",
    "\n",
    "    def set_vitesse(self, v):\n",
    "        pass\n",
    "\n",
    "    def reagir(self, evt_type, gestionnaire):\n",
    "        pass\n",
    "\n",
    "    def est_dans_scene(self, dx=0, dy=0):\n",
    "        \"\"\"Test si l'acteur est entièrement dans la scène,\n",
    "        après un déplacement (virtulel) dx, dy s'il est précisé\"\"\"\n",
    "        pass\n",
    "\n",
    "    def est_hors_scene(self):\n",
    "        \"\"\"Test si l'acteur est entièrement hors de la scène\"\"\"\n",
    "        pass\n",
    "\n",
    "\n",
    "if __name__ == \"__main__\":\n",
    "    # zone pour tester son code\n",
    "    pass\n",
    "```"
   ]
  },
  {
   "cell_type": "markdown",
   "metadata": {},
   "source": [
    "L'étape qui consiste à **bien réfléchir à l'interface** d'une classe, c'est-à-dire:\n",
    "\n",
    "au choix du *rôle* et du *nom* de chaque attribut et fonction, et des *paramètres* et type de la valeur retournée s'il y en a.\n",
    "\n",
    "est **CRUCIALE**.\n",
    "\n",
    "En effet, c'est par l'intermédiaire de cette interface qu'on va manipuler chaque acteur: hero, missiles, envahisseurs.\n",
    "\n",
    "**Le piège du débutant**: *vouloir écrire trop rapidement le code de chaque fonction* avant d'avoir bien fixé l'*interface*."
   ]
  },
  {
   "cell_type": "markdown",
   "metadata": {},
   "source": [
    "## Jeu: réécrire la classe Missile avant d'avoir fini `Acteur`"
   ]
  },
  {
   "cell_type": "markdown",
   "metadata": {},
   "source": [
    "Essais de compléter le code manquant en utilisant l'interface de la classe acteur:"
   ]
  },
  {
   "cell_type": "markdown",
   "metadata": {},
   "source": [
    "```python\n",
    "# module space_invaders/missile.py\n",
    "from acteur import Acteur\n",
    "\n",
    "\n",
    "class Missile(___):\n",
    "    def __init__(self, scene, couleur=\"white\"):\n",
    "        super().__init__(scene, largeur=__, hauteur=__, couleur=__)\n",
    "\n",
    "    def lancer(self, duree_milli=50):\n",
    "        # si le missile est sorti de la scène (entièrement) le détruire\n",
    "        if self.___:\n",
    "            self.___\n",
    "            return\n",
    "\n",
    "        # à présent, on peut agir ...\n",
    "        self.deplacer_duree(___)\n",
    "\n",
    "        # et on recommence\n",
    "        self.scene.after(duree_milli, lambda: self.lancer(duree_milli))\n",
    "\n",
    "# ...\n",
    "```"
   ]
  },
  {
   "cell_type": "markdown",
   "metadata": {},
   "source": [
    "**Solution**"
   ]
  },
  {
   "cell_type": "markdown",
   "metadata": {
    "jupyter": {
     "source_hidden": true
    }
   },
   "source": [
    "```python\n",
    "# module space_invaders/missile.py\n",
    "from acteur import Acteur\n",
    "\n",
    "\n",
    "class Missile(Acteur):\n",
    "    def __init__(self, scene, couleur=\"white\"):\n",
    "        super().__init__(scene, largeur=5, hauteur=15, couleur=couleur)\n",
    "\n",
    "    def lancer(self, duree_milli=50):\n",
    "        # si le missile est sorti de la scène (entièrement) le détruire\n",
    "        if self.est_hors_scene():\n",
    "            self.supprimer()\n",
    "            return\n",
    "\n",
    "        # à présent, on peut agir ...\n",
    "        self.deplacer_duree(duree_milli / 1000)\n",
    "\n",
    "        # et on recommence\n",
    "        self.scene.after(duree_milli, lambda: self.lancer(duree_milli))\n",
    "```"
   ]
  },
  {
   "cell_type": "markdown",
   "metadata": {
    "toc-hr-collapsed": false
   },
   "source": [
    "## Implémentation de `Acteur`"
   ]
  },
  {
   "cell_type": "markdown",
   "metadata": {},
   "source": [
    "Complète le code des fonctions indiquées."
   ]
  },
  {
   "cell_type": "markdown",
   "metadata": {},
   "source": [
    "### `supprimer`"
   ]
  },
  {
   "cell_type": "markdown",
   "metadata": {},
   "source": [
    "```python\n",
    "def supprimer(self):\n",
    "    \"Efface l'acteur de la scene\"\n",
    "\n",
    "    ___.delete(self.__)\n",
    "```"
   ]
  },
  {
   "cell_type": "markdown",
   "metadata": {},
   "source": [
    "**Solution**"
   ]
  },
  {
   "cell_type": "markdown",
   "metadata": {
    "jupyter": {
     "source_hidden": true
    }
   },
   "source": [
    "```python\n",
    "def supprimer(self):\n",
    "    \"Efface l'acteur de la scene\"\n",
    "\n",
    "    self.scene.delete(self.id)\n",
    "```"
   ]
  },
  {
   "cell_type": "markdown",
   "metadata": {},
   "source": [
    "### `set_position`"
   ]
  },
  {
   "cell_type": "markdown",
   "metadata": {},
   "source": [
    "```python\n",
    "def set_position(self, x, y):\n",
    "    \"Met l'acteur dans la position indiquée\"\n",
    "\n",
    "    x0, y0 = ___\n",
    "    self.pos = x, y\n",
    "    self.scene.___(self.___, x - x0, y - y0)\n",
    "```"
   ]
  },
  {
   "cell_type": "markdown",
   "metadata": {},
   "source": [
    "**Solution**"
   ]
  },
  {
   "cell_type": "markdown",
   "metadata": {
    "jupyter": {
     "source_hidden": true
    }
   },
   "source": [
    "```python\n",
    "def set_position(self, x, y):\n",
    "    \"Met l'acteur dans la position indiquée\"\n",
    "\n",
    "    x0, y0 = self.pos\n",
    "    self.pos = x, y\n",
    "    self.scene.move(self.id, x - x0, y - y0)\n",
    "```"
   ]
  },
  {
   "cell_type": "markdown",
   "metadata": {},
   "source": [
    "### `deplacer` et `deplacer_duree`"
   ]
  },
  {
   "cell_type": "markdown",
   "metadata": {},
   "source": [
    "```python\n",
    "def deplacer(self, dx, dy):\n",
    "    \"Déplace l'acteur de dx pixels horizontalement et de dy pixels verticalement\"\n",
    "\n",
    "    x0, y0 = self.pos\n",
    "    ___(x0 + __, y0 + __)\n",
    "\n",
    "\n",
    "def deplacer_duree(self, duree, direction=\"h\"):\n",
    "    \"\"\"Déplace l'acteur en utilisant sa vitesse (horizontalement par défaut)\n",
    "        «duree» est supposé être en seconde\n",
    "        \"\"\"\n",
    "\n",
    "    if direction == \"h\":\n",
    "        dx = self.v * ___\n",
    "        self.__(dx, 0)\n",
    "    else:\n",
    "        ___\n",
    "```"
   ]
  },
  {
   "cell_type": "markdown",
   "metadata": {},
   "source": [
    "**Solution**"
   ]
  },
  {
   "cell_type": "markdown",
   "metadata": {
    "jupyter": {
     "source_hidden": true
    }
   },
   "source": [
    "```python\n",
    "def deplacer(self, dx, dy):\n",
    "    \"Déplace l'acteur de dx pixels horizontalement et de dy pixels verticalement\"\n",
    "\n",
    "    x0, y0 = self.pos\n",
    "    self.set_position(x0 + dx, y0 + dy)\n",
    "\n",
    "\n",
    "def deplacer_duree(self, duree, direction=\"h\"):\n",
    "    \"\"\"Déplace l'acteur en utilisant sa vitesse (horizontalement par défaut)\n",
    "        «duree» est supposé être en seconde\n",
    "        \"\"\"\n",
    "\n",
    "    if direction == \"h\":\n",
    "        dx = self.v * duree\n",
    "        self.deplacer(dx, 0)\n",
    "    else:\n",
    "        dy = self.v * duree\n",
    "        self.deplacer(0, dy)\n",
    "```"
   ]
  },
  {
   "cell_type": "markdown",
   "metadata": {},
   "source": [
    "### `est_dans_scene` et `est_hors_scene`"
   ]
  },
  {
   "cell_type": "markdown",
   "metadata": {},
   "source": [
    "```python\n",
    "def est_hors_scene(self):\n",
    "    \"\"\"Test si l'acteur est entièrement hors de la scène\"\"\"\n",
    "\n",
    "    x, y = ___\n",
    "    l, h = ___\n",
    "    return x + l < __ or x >= __ or ___ < 0 or y >= ___\n",
    "\n",
    "\n",
    "def est_dans_scene(self, dx=0, dy=0):\n",
    "    \"\"\"Test si l'acteur est entièrement dans la scène,\n",
    "        après un déplacement (virtulel) dx, dy s'il est précisé\"\"\"\n",
    "\n",
    "    x, y = ___\n",
    "    x, y = x + ___, y + ___\n",
    "    l, h = ___\n",
    "    return ___\n",
    "```"
   ]
  },
  {
   "cell_type": "markdown",
   "metadata": {},
   "source": [
    "**Solution**"
   ]
  },
  {
   "cell_type": "markdown",
   "metadata": {
    "jupyter": {
     "source_hidden": true
    }
   },
   "source": [
    "```python\n",
    "def est_hors_scene(self):\n",
    "    \"\"\"Test si l'acteur est entièrement hors de la scène\"\"\"\n",
    "\n",
    "    x, y = self.pos\n",
    "    l, h = self.dim\n",
    "    return x + l < 0 or x >= self.L or y + h < 0 or y >= self.H\n",
    "\n",
    "\n",
    "def est_dans_scene(self, dx=0, dy=0):\n",
    "    \"\"\"Test si l'acteur est entièrement dans la scène,\n",
    "        après un déplacement (virtulel) dx, dy s'il est précisé\"\"\"\n",
    "\n",
    "    x, y = self.pos\n",
    "    x, y = x + dx, y + dy\n",
    "    l, h = self.dim\n",
    "    return x >= 0 and x + l <= self.L and y >= 0 and y + h <= self.H\n",
    "```"
   ]
  },
  {
   "cell_type": "markdown",
   "metadata": {},
   "source": [
    "### `set_vitesse` et `reagir`"
   ]
  },
  {
   "cell_type": "markdown",
   "metadata": {},
   "source": [
    "voici la solution pour abréger!"
   ]
  },
  {
   "cell_type": "markdown",
   "metadata": {},
   "source": [
    "```python\n",
    "def set_vitesse(self, v):\n",
    "    self.v = v\n",
    "\n",
    "\n",
    "def reagir(self, evt_type, gestionnaire):\n",
    "    return self.fen.bind(evt_type, lambda _: gestionnaire())\n",
    "```"
   ]
  },
  {
   "cell_type": "markdown",
   "metadata": {},
   "source": [
    "### Penser à tester"
   ]
  },
  {
   "cell_type": "markdown",
   "metadata": {},
   "source": [
    "```python\n",
    "class Acteur:\n",
    "    #...\n",
    "\n",
    "if __name__ == \"__main__\":\n",
    "    # zone pour tester son code\n",
    "    from scene import *\n",
    "\n",
    "    acteur = Acteur(scene, 100, 100)\n",
    "    acteur.set_position(acteur.L - 50, 100)\n",
    "    assert not acteur.est_dans_scene()\n",
    "    assert acteur.est_hors_scene()\n",
    "    scene.pack()\n",
    "    acteur.reagir(\"<Left>\", lambda: acteur.deplacer(-5, 0))\n",
    "    acteur.reagir(\"<Right>\", lambda: acteur.deplacer(5, 0))\n",
    "    fen.mainloop()\n",
    "```"
   ]
  },
  {
   "cell_type": "markdown",
   "metadata": {},
   "source": [
    "Cela produit une erreur, voyez-vous pourquoi?"
   ]
  },
  {
   "cell_type": "markdown",
   "metadata": {
    "jupyter": {
     "source_hidden": true
    }
   },
   "source": [
    "La deuxième assertion est fausse: l'acteur n'est ni entièrement dans la scène, ni entièrement en dehors (il est à cheval...).\n",
    "\n",
    "`assert not acteur.est_hors_scene()` pour supprimer l'erreur."
   ]
  },
  {
   "cell_type": "markdown",
   "metadata": {},
   "source": [
    "## Réécriture de `Hero` "
   ]
  },
  {
   "cell_type": "markdown",
   "metadata": {},
   "source": [
    "Complète les parties manquantes."
   ]
  },
  {
   "cell_type": "markdown",
   "metadata": {},
   "source": [
    "```python\n",
    "from acteur import Acteur\n",
    "from missile import Missile\n",
    "\n",
    "class Hero(Acteur):\n",
    "    \n",
    "    def __init__(self, scene, couleur=\"white\"):\n",
    "        super().__init__(scene, largeur=__, hauteur=__, couleur=__)\n",
    "        \n",
    "        self.reagir('<Left>', self.__)\n",
    "        self.reagir('<Right>', self.__)\n",
    "        self.reagir('<space>', self.__)\n",
    "        \n",
    "        self.PAS = 10\n",
    "        self.set_position(self.L//2, self.H-50)\n",
    "    \n",
    "    def gauche(self):\n",
    "        if self.est_dans_scene(__, __):\n",
    "            self.deplacer(-self.PAS, 0)\n",
    "    \n",
    "    def droite(self):\n",
    "        # à toi de jouer\n",
    "        pass\n",
    "    \n",
    "    def tirer(self):\n",
    "        x, y = self.pos\n",
    "        l, _ = self.dim\n",
    "        m = Missile(___)\n",
    "        _, hm = m.dim\n",
    "        m.____(x + l//2, y - hm)\n",
    "        m.____(-300)\n",
    "        m.lancer()\n",
    "    \n",
    "\n",
    "if __name__ == \"__main__\":\n",
    "    from scene import *\n",
    "    hero = Hero(scene)\n",
    "    fen.mainloop()\n",
    "```"
   ]
  },
  {
   "cell_type": "markdown",
   "metadata": {},
   "source": [
    "**Solution**"
   ]
  },
  {
   "cell_type": "markdown",
   "metadata": {
    "jupyter": {
     "source_hidden": true
    }
   },
   "source": [
    "```python\n",
    "from acteur import Acteur\n",
    "from missile import Missile\n",
    "\n",
    "class Hero(Acteur):\n",
    "    \n",
    "    def __init__(self, scene, couleur=\"white\"):\n",
    "        super().__init__(scene, largeur=50, hauteur=30, couleur=couleur)\n",
    "        \n",
    "        self.reagir('<Left>', self.gauche)\n",
    "        self.reagir('<Right>', self.droite)\n",
    "        self.reagir('<space>', self.tirer)\n",
    "        \n",
    "        self.PAS = 10\n",
    "        self.set_position(self.L//2, self.H-50)\n",
    "    \n",
    "    def gauche(self):\n",
    "        if self.est_dans_scene(-self.PAS, 0):\n",
    "            self.deplacer(-self.PAS, 0)\n",
    "    \n",
    "    def droite(self):\n",
    "        if self.est_dans_scene(self.PAS, 0):\n",
    "            self.deplacer(self.PAS, 0)\n",
    "    \n",
    "    def tirer(self):\n",
    "        x, y = self.pos\n",
    "        l, _ = self.dim\n",
    "        m = Missile(self.scene)\n",
    "        _, hm = m.dim\n",
    "        m.set_position(x + l//2, y - hm)\n",
    "        m.set_vitesse(-300)\n",
    "        m.lancer()\n",
    "    \n",
    "\n",
    "if __name__ == \"__main__\":\n",
    "    from scene import *\n",
    "    hero = Hero(scene)\n",
    "    fen.mainloop()\n",
    "```"
   ]
  },
  {
   "cell_type": "markdown",
   "metadata": {},
   "source": [
    "## Écriture de `Envahisseur`"
   ]
  },
  {
   "cell_type": "markdown",
   "metadata": {},
   "source": [
    "Nous souhaitons que l'envahisseur (rouge par défaut):\n",
    "- parcourt le haut de l'écran de gauche à droite ou le contraire\n",
    "- tout en lançant des missiles au hasard.\n",
    "\n",
    "Il ressemble donc à un héro (lance des missiles) et à un missile (est lancé lui-même).\n",
    "\n",
    "Réalise ce comportement en complétant le code qui suit."
   ]
  },
  {
   "cell_type": "markdown",
   "metadata": {},
   "source": [
    "```python\n",
    "# dans space-invaders/envahisseur.py\n",
    "from acteur import Acteur\n",
    "from missile import Missile\n",
    "from random import choice, random\n",
    "\n",
    "\n",
    "class Envahisseur(Acteur):\n",
    "    def __init__(self, scene, couleur=\"red\"):\n",
    "        super().__init__(scene, largeur=50, hauteur=30, couleur=__)\n",
    "        \n",
    "        # choisir une vitesse au hasard\n",
    "        self.v = choice([-100, 100])\n",
    "\n",
    "        # régler la position de façon à apparaîte en haut\n",
    "        # à gauche ou à droite selon la vitesse ...\n",
    "        l, _ = self.dim\n",
    "        if self.v > 0:\n",
    "            self.___(-l + 10, 30)\n",
    "        else:\n",
    "            self.set_position(___)\n",
    "\n",
    "        # tout est prêt! lançons le.\n",
    "        self._lancer()\n",
    "\n",
    "    # un underscore devant une fonction est une *convention* pour\n",
    "    # indiquer que celle-ci ne doit pas être utilisée en dehors de la classe\n",
    "    def _lancer(self, duree_milli=50):\n",
    "        # revoie le code similaire de Missile ...\n",
    "        ________\n",
    "\n",
    "        # random() renvoie un nombre dans [0;1]\n",
    "        # utilisons le pour tirer aléatoirement\n",
    "        if random() < 0.025:\n",
    "            ____\n",
    "\n",
    "        ________\n",
    "\n",
    "    def tirer(self):\n",
    "        # revoie le code similaire de Hero ...\n",
    "        _____\n",
    "\n",
    "if __name__ == \"__main__\":\n",
    "    from scene import *\n",
    "    from hero import Hero\n",
    "\n",
    "    env = Envahisseur(scene)\n",
    "    hero = Hero(scene)\n",
    "    fen.mainloop()\n",
    "```"
   ]
  },
  {
   "cell_type": "markdown",
   "metadata": {},
   "source": [
    "**Solution**"
   ]
  },
  {
   "cell_type": "markdown",
   "metadata": {
    "jupyter": {
     "source_hidden": true
    }
   },
   "source": [
    "```python\n",
    "from acteur import Acteur\n",
    "from missile import Missile\n",
    "from random import choice, random\n",
    "\n",
    "\n",
    "class Envahisseur(Acteur):\n",
    "    def __init__(self, scene, couleur=\"red\"):\n",
    "        super().__init__(scene, largeur=50, hauteur=30, couleur=couleur)\n",
    "        # choisir une vitesse au hasard\n",
    "        self.v = choice([-100, 100])\n",
    "\n",
    "        # régler la position de façon à apparaîte en haut\n",
    "        # à gauche ou à droite selon la vitesse ...\n",
    "        l, _ = self.dim\n",
    "        if self.v > 0:\n",
    "            self.set_position(-l + 10, 30)\n",
    "        else:\n",
    "            self.set_position(self.L - 10, 30)\n",
    "\n",
    "        # tout est prêt! lançons le.\n",
    "        self._lancer()\n",
    "\n",
    "    # un underscore devant une fonction est une *convention* pour\n",
    "    # indiquer que celle-ci ne doit pas être utilisée en dehors de la classe\n",
    "    def _lancer(self, duree_milli=50):\n",
    "        if self.est_hors_scene():\n",
    "            self.supprimer()\n",
    "            return\n",
    "\n",
    "        self.deplacer_duree(duree_milli / 1000)\n",
    "\n",
    "        # random() renvoie un nombre dans [0;1]\n",
    "        # utilisons le pour tirer aléatoirement\n",
    "        if random() < 0.025:\n",
    "            self.tirer()\n",
    "\n",
    "        self.scene.after(\n",
    "            duree_milli, lambda: self._lancer(duree_milli),\n",
    "        )\n",
    "\n",
    "    def tirer(self):\n",
    "        x, y = self.pos\n",
    "        l, h = self.dim\n",
    "        m = Missile(self.scene)\n",
    "        m.set_position(x + l // 2, y + h)\n",
    "        m.set_vitesse(300)\n",
    "        m.lancer()\n",
    "\n",
    "    def __del__(self):\n",
    "        print(\"supprimer\")\n",
    "\n",
    "\n",
    "if __name__ == \"__main__\":\n",
    "    from scene import *\n",
    "    from hero import Hero\n",
    "\n",
    "    env = Envahisseur(scene)\n",
    "    hero = Hero(scene)\n",
    "    fen.mainloop()\n",
    "```"
   ]
  }
 ],
 "metadata": {
  "kernelspec": {
   "display_name": "Python 3",
   "language": "python",
   "name": "python3"
  },
  "language_info": {
   "codemirror_mode": {
    "name": "ipython",
    "version": 3
   },
   "file_extension": ".py",
   "mimetype": "text/x-python",
   "name": "python",
   "nbconvert_exporter": "python",
   "pygments_lexer": "ipython3",
   "version": "3.7.3"
  }
 },
 "nbformat": 4,
 "nbformat_minor": 4
}
