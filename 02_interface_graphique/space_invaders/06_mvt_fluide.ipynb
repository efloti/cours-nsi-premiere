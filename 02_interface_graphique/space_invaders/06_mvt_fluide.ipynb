{
 "cells": [
  {
   "cell_type": "markdown",
   "metadata": {},
   "source": [
    "# Mouvements fluides du «Hero»"
   ]
  },
  {
   "cell_type": "markdown",
   "metadata": {},
   "source": [
    "[Vidéo d'accompagnement](https://vimeo.com/506185892)"
   ]
  },
  {
   "cell_type": "markdown",
   "metadata": {
    "toc-hr-collapsed": true,
    "toc-nb-collapsed": true
   },
   "source": [
    "## Origine du problème"
   ]
  },
  {
   "cell_type": "markdown",
   "metadata": {},
   "source": [
    "Pour comprendre pourquoi notre héro bouge «mal», copier et exécuter le script qui suit:\n",
    "\n",
    "```python\n",
    "from tkinter import Tk\n",
    "\n",
    "# deux gestionnaires d'événements\n",
    "def appui(evt):\n",
    "    print(f'APPUI  = touche: {evt.keysym}, temps: {evt.time}')\n",
    "\n",
    "def relache(evt):\n",
    "    print(f'RELACHE= touche: {evt.keysym}, temps: {evt.time}')\n",
    "\n",
    "fen = Tk()\n",
    "fen.bind('<KeyPress>', appui)\n",
    "fen.bind('<KeyRelease>', relache)\n",
    "fen.mainloop()\n",
    "```"
   ]
  },
  {
   "cell_type": "markdown",
   "metadata": {},
   "source": [
    "On obtient par exemple (en enfonçant la touche a plus d'une demi-seconde):\n",
    "\n",
    "    ...\n",
    "    APPUI  = touche: a, temps: 872593933\n",
    "    RELACHE= touche: a, temps: 872594433\n",
    "    APPUI  = touche: a, temps: 872594433\n",
    "    RELACHE= touche: a, temps: 872594471\n",
    "    APPUI  = touche: a, temps: 872594471\n",
    "    RELACHE= touche: a, temps: 872594504\n",
    "    ..."
   ]
  },
  {
   "cell_type": "markdown",
   "metadata": {},
   "source": [
    "Cela vient du clavier lui-même qui est normalement utilisé pour saisir du texte:\n",
    "\n",
    "> si on garde une touche enfoncée, la lettre de la touche est «répétée» *automatiquement* comme si l'utilisateur tapotait sur la touche à un rythme très rapide."
   ]
  },
  {
   "cell_type": "markdown",
   "metadata": {},
   "source": [
    "Ainsi, lorsqu'on appuie sur une touche sans la relâcher, au bout d'une demi-seconde (500ms), le clavier génère des événements `KeyRelease`-`KeyPress` (dans cet ordre et simultanément) qui se répètent (environ 30 fois par seconde) tant qu'on ne relâche pas la touche."
   ]
  },
  {
   "cell_type": "markdown",
   "metadata": {},
   "source": [
    "Alors que nous, on souhaite effectuer des déplacements réguliers *seulement si la touche est enfoncée*."
   ]
  },
  {
   "cell_type": "markdown",
   "metadata": {
    "toc-hr-collapsed": true,
    "toc-nb-collapsed": true
   },
   "source": [
    "## Solution"
   ]
  },
  {
   "cell_type": "markdown",
   "metadata": {},
   "source": [
    "L'idée principale est de suivre les événements `KeyPress` et `KeyRelease` et de marquer l'état des touches intéressantes - *press* à True seulement si la touche est enfoncée.\n",
    "\n",
    "Il va donc falloir détecter les «faux» `KeyPress`/`KeyRelease` en utilisant le fait que `evt.time` a la même valeur pour les deux s'ils sont faux. "
   ]
  },
  {
   "cell_type": "markdown",
   "metadata": {},
   "source": [
    "Pour y parvenir, nous allons créer deux classes:\n",
    "- `Touche`: qui sert à représenter une touche particulière, son état (enfoncée ou non?) et l'action associée.\n",
    "\n",
    "- `Clavier`: sert à représenter le clavier qu'on va scruter pour des touches déclarée via:\n",
    "    - `reagir(nom_touche, action, dt)`: lorsque `nom_touche` est enfoncée, on souhaite répéter `action` toutes les `dt` ms."
   ]
  },
  {
   "cell_type": "markdown",
   "metadata": {},
   "source": [
    "Pour utiliser tout cela, il nous suffira d'écrire quelque chose comme:\n",
    "```python\n",
    "# l'action gauche est répétée toutes les 5Oms si la touche «flèche gauche» est enfoncée\n",
    "clavier.reagir('left', gauche, 50)\n",
    "# l'action tirer est déclenchée une seule fois lorsque la touche space est enfoncée.\n",
    "clavier.reagir('space', tirer, 0)\n",
    "```"
   ]
  },
  {
   "cell_type": "markdown",
   "metadata": {},
   "source": [
    "où `clavier` est un objet de type `Clavier`."
   ]
  },
  {
   "cell_type": "markdown",
   "metadata": {},
   "source": [
    "### module clavier.py"
   ]
  },
  {
   "cell_type": "markdown",
   "metadata": {},
   "source": [
    "*Note*: ce module est réutilisable dans n'importe quel projet de jeu avec tkinter."
   ]
  },
  {
   "cell_type": "markdown",
   "metadata": {},
   "source": [
    "Copier-coller le code qui suit dans un fichier *clavier.py*. Lire les commentaires si vous souhaitez comprendre l'«astuce»."
   ]
  },
  {
   "cell_type": "markdown",
   "metadata": {},
   "source": [
    "```python\n",
    "class Touche:\n",
    "    def __init__(self, fen, action, dt):\n",
    "        \"\"\"action est une fonction sans argument qui sera appelée\n",
    "        toutes les dt millisecondes lorsque la touche est enfoncée.\n",
    "        Si dt = 0, l'action n'a lieu qu'une seule fois (elle n'est pas répétée)\n",
    "        \"\"\"\n",
    "        self.fen = fen\n",
    "        self.action = action\n",
    "        self.dt = dt\n",
    "\n",
    "        self.press = False # enfoncée ou non?\n",
    "\n",
    "        self.time = 0 # horodatage pour reconnaître les faux relâchement (voir Clavier)\n",
    "\n",
    "    def appui(self):\n",
    "        self.press = True\n",
    "        self.__agir() # on déclenche l'action à répéter toutes les dt millisecondes\n",
    "\n",
    "    def relache(self):\n",
    "        self.press = False\n",
    "\n",
    "    def __agir(self):\n",
    "        if not self.press: # touche relâchée: on arrête!\n",
    "            return\n",
    "        self.action()\n",
    "        if self.dt == 0: # on a déjà agit donc on arrête\n",
    "            return\n",
    "        self.fen.after(self.dt, self.__agir)\n",
    "\n",
    "class Clavier:\n",
    "\n",
    "    def __init__(self, fen):\n",
    "        # un dictionnaire pour\n",
    "        self.touches = {} # forme {\"nom_touche\": obj de type Touche}\n",
    "        self.fen = fen\n",
    "\n",
    "        self.fen.bind('<KeyPress>', self.__appui)\n",
    "        self.fen.bind('<KeyRelease>', self.__relache)\n",
    "\n",
    "    def reagir(self, nom_touche, action, dt=40):\n",
    "        # on crée une touche et on la mémorise\n",
    "        self.touches[nom_touche] = Touche(self.fen, action, dt)\n",
    "    \n",
    "    def fin_reagir(self, nom_touche):\n",
    "        del self.touches[nom_touche]\n",
    "\n",
    "    def __appui(self, evt):\n",
    "        # on récupère le nom de la touche:\n",
    "        nom_touche = evt.keysym\n",
    "        # si cette touche n'est pas enregistrée (voir reagir), on ne fait rien\n",
    "        if not nom_touche in self.touches:\n",
    "            return\n",
    "        # on récupère l'objet touche\n",
    "        touche = self.touches[nom_touche]\n",
    "        # et on «marque» la touche avec l'horodatage de l'événement\n",
    "        touche.time = evt.time\n",
    "        # si la touche est déjà enfoncée, rien à faire de plus\n",
    "        if touche.press:\n",
    "            return\n",
    "        # autrement on prévient la touche\n",
    "        touche.appui()\n",
    "\n",
    "    def __relache(self, evt):\n",
    "        nom_touche = evt.keysym\n",
    "        if not nom_touche in self.touches:\n",
    "            return\n",
    "        touche = self.touches[nom_touche]\n",
    "        # si c'est un faux relâchement, la méthode __appui va être appelée immédiatement\n",
    "        # on va vérifier cela après un délai très court de 5ms\n",
    "        self.fen.after(5, lambda: self.__verif(touche, evt.time))\n",
    "\n",
    "    def __verif(self, touche, time):\n",
    "        if time == touche.time: # ainsi l'horodatage du relâchement et de l'appui sont les mêmes\n",
    "            # c'est un faux: donc la touche est toujours enfoncée\n",
    "            return\n",
    "        # autrement, cela signifie que c'est un vrai relâchement et on prévient la touche.\n",
    "        touche.relache()\n",
    "```"
   ]
  },
  {
   "cell_type": "markdown",
   "metadata": {},
   "source": [
    "Il ne reste plus qu'à adapter un peu:\n",
    "\n",
    "1. dans *scene.py*, importer la classe `Clavier` puis ajouter `self.clavier = Clavier(fen)`.\n",
    "\n",
    "2. dans la classe `Acteur`, adapter ...\n",
    "\n",
    "```python\n",
    "...\n",
    "def reagir(self, nom_touche, action, delai=50):\n",
    "    self.scene.clavier.reagir(nom_touche, action, delai)\n",
    "\n",
    "def fin_reagir(self, nom_touche):\n",
    "    self.scene.clavier.fin_reagir(nom_touche)\n",
    "...\n",
    "```\n",
    "\n",
    "3. dans `Hero`, adapter aussi:\n",
    "   \n",
    "```python\n",
    "    ...\n",
    "    self.reagir('Left', self.gauche)\n",
    "    self.reagir('Right', self.droite)\n",
    "    self.reagir('space', self.tirer, delai=0)\n",
    "\n",
    "def supprimer(self):\n",
    "    super().supprimer()\n",
    "    self.fin_reagir('space')\n",
    "    self.fin_reagir('Right')\n",
    "    self.fin_reagir('Left')\n",
    "...\n",
    "```\n"
   ]
  },
  {
   "cell_type": "markdown",
   "metadata": {
    "toc-hr-collapsed": true,
    "toc-nb-collapsed": true
   },
   "source": [
    "## Fichier principal *main.py*"
   ]
  },
  {
   "cell_type": "markdown",
   "metadata": {},
   "source": [
    "Enfin, Pour lancer le jeu plus agréablement, créer un fichier principal *main.py*:\n",
    "\n",
    "```python\n",
    "from scene import *\n",
    "from hero import Hero\n",
    "from envahisseurs import EnvahisseurMere\n",
    "from meute import Meute\n",
    "\n",
    "Meute(scene, 5, 5)\n",
    "EnvahisseurMere(scene)\n",
    "Hero(scene)\n",
    "\n",
    "fen.mainloop()\n",
    "```"
   ]
  },
  {
   "cell_type": "markdown",
   "metadata": {
    "toc-hr-collapsed": true,
    "toc-nb-collapsed": true
   },
   "source": [
    "## Conclusion"
   ]
  },
  {
   "cell_type": "markdown",
   "metadata": {},
   "source": [
    "Même s'il reste beaucoup à faire pour arriver à un jeu complet, ce TP vous aura permis d'acquérir des bases sur:\n",
    "\n",
    "- tkinter et son widget `Canvas`,\n",
    "- le découpage du code en **module**,\n",
    "- la **séparation** entre *définition* d'une part, *test* d'autre part,\n",
    "- la création et la gestion de nombreux objets grâce à la notion de **classe**,\n",
    "- la *réutilisation* et/ou *spécialisation* du code grâce à la notion d'**héritage**,\n",
    "- l'organisation des objets en grille grâce à la notion de **tableau**."
   ]
  },
  {
   "cell_type": "markdown",
   "metadata": {},
   "source": [
    "Notamment, vous devriez pouvoir comprendre comment le code du *space_invaders_final* situé dans le répertoire *archives* est organisé."
   ]
  }
 ],
 "metadata": {
  "kernelspec": {
   "display_name": "Python 3",
   "language": "python",
   "name": "python3"
  },
  "language_info": {
   "codemirror_mode": {
    "name": "ipython",
    "version": 3
   },
   "file_extension": ".py",
   "mimetype": "text/x-python",
   "name": "python",
   "nbconvert_exporter": "python",
   "pygments_lexer": "ipython3",
   "version": "3.7.3"
  }
 },
 "nbformat": 4,
 "nbformat_minor": 4
}
