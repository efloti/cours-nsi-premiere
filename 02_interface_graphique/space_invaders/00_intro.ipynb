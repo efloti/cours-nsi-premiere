{
 "cells": [
  {
   "cell_type": "markdown",
   "metadata": {},
   "source": [
    "# Tkinter: le widget `Canvas` - zone de dessins"
   ]
  },
  {
   "cell_type": "markdown",
   "metadata": {},
   "source": [
    "[Vidéo d'accompagnement](https://vimeo.com/500965709): la mettre sur pause pour chercher le plus possible par soi-même!"
   ]
  },
  {
   "cell_type": "markdown",
   "metadata": {},
   "source": [
    "**Objectifs**:\n",
    "- Comprendre le fonctionnement du widget `Canvas`\n",
    "- Re-construire le jeu *space-invaders* (l'un des tous premiers!)"
   ]
  },
  {
   "cell_type": "markdown",
   "metadata": {},
   "source": [
    "<img src=\"http://s3.amazonaws.com/digitaltrends-uploads-prod/2014/07/space-invaders.jpg\"/>"
   ]
  },
  {
   "cell_type": "markdown",
   "metadata": {},
   "source": [
    "**Cahier des charges**:\n",
    "- les envahisseurs se rapprochent dangereusement (en accélérant) de la terre tout en envoyant des missiles,\n",
    "- de temps à autre, un vaisseau mère parcours le haut de l'écran de gauche à droite,\n",
    "- une ligne de boucliers (passifs) protège le «char» du héro, mais ils sont progressivement détruis par les missiles qu'ils reçoivent.\n",
    "- le joueur déplace le vaisseau avec les flèches gauche et droite, il tire en appuyant sur la barre espace.\n",
    "- ..."
   ]
  },
  {
   "cell_type": "markdown",
   "metadata": {},
   "source": [
    "**IMPORTANT**: Créer un dossier `space_invaders` qui contiendra les différents fichiers du jeu. Si vous utilisez PyCharm, c'est le nom de votre projet (le dossier est créer automatiquement)"
   ]
  },
  {
   "cell_type": "markdown",
   "metadata": {},
   "source": [
    "## Objectif 1: un simple rectangle qui se déplace de gauche à droite"
   ]
  },
  {
   "cell_type": "markdown",
   "metadata": {},
   "source": [
    "### Interface graphique basique pour la scene\n",
    "\n",
    "Le widget [Canvas](http://tkinter.fdex.eu/doc/caw.html#Canvas.create_rectangle) correspond à une zone rectangulaire sur laquelle il est possible de dessiner.\n",
    "\n",
    "Ce widget possède entre autre les options `width` (largeur), `height` (hauteur), `bg` (couleur de fond)"
   ]
  },
  {
   "attachments": {
    "c7dfd0e2-02bf-43b4-9ab9-135006b30908.png": {
     "image/png": "[encoded data removed]"
    }
   },
   "cell_type": "markdown",
   "metadata": {},
   "source": [
    "<p style=\"text-align: center\">\n",
    "    <img src=\"attachment:c7dfd0e2-02bf-43b4-9ab9-135006b30908.png\"/>\n",
    "</p>"
   ]
  },
  {
   "cell_type": "markdown",
   "metadata": {},
   "source": [
    "**AVANT DE COMMENCER**:\n",
    "1. Crée un dossier `space_invaders` (ou un projet de même nom avec pycharm...) pour gérer les multiples fichiers de ce projet,\n",
    "2. Observe bien le nom du fichier dont on te donne une portion de code; par exemple le code qui suit doit-être dans le fichier `scene.py` comme il est indiqué si tu fais attention."
   ]
  },
  {
   "cell_type": "markdown",
   "metadata": {},
   "source": [
    "```python\n",
    "# module space_invaders/scene.py\n",
    "from tkinter import Tk, Canvas\n",
    "\n",
    "fen = Tk()\n",
    "fen.title(____)\n",
    "scene = Canvas(____, ____=1000, ____=500, ___=\"black\")\n",
    "scene.____\n",
    "\n",
    "# lorsqu'on exécute directement ce fichier, la variable __name__ vaut \"__main__\"\n",
    "# lorsqu'on importe ce fichier comme une bibliotheque avec \"import scene\", la variable __name__ vaut ... autrechose que \"__main__\"\n",
    "if __name__ == \"__main__\":\n",
    "    # si on est ici, c'est qu'on exécute directement ce fichier\n",
    "    fen.mainloop()\n",
    "```"
   ]
  },
  {
   "cell_type": "markdown",
   "metadata": {},
   "source": [
    "**Solution** - n'ouvrir qu'après avoir suffisamment cherché!"
   ]
  },
  {
   "cell_type": "markdown",
   "metadata": {
    "jupyter": {
     "source_hidden": true
    }
   },
   "source": [
    "```python\n",
    "# module space_invaders/scene.py\n",
    "from tkinter import Tk, Canvas\n",
    "\n",
    "fen = Tk()\n",
    "fen.title(\"space invaders\")\n",
    "scene = Canvas(fen, width=1000, height=500, bg=\"black\")\n",
    "scene.pack()\n",
    "\n",
    "if __name__ == \"__main__\":\n",
    "    fen.mainloop()\n",
    "```"
   ]
  },
  {
   "cell_type": "markdown",
   "metadata": {},
   "source": [
    "### Création d'un rectangle"
   ]
  },
  {
   "cell_type": "markdown",
   "metadata": {},
   "source": [
    "Pour créer une figure sur un `Canvas` désigné par `c`, on utilise une méthode de la forme `c.create_<fig_elementaire>(x0, y0, x1, y1, ...)`.\n",
    "\n",
    "Ces méthodes renvoient un *identifiant numérique* (un entier) qui permet d'**identifier** la figure créée.\n",
    "\n",
    "Cet identifiant est utilisé pour manipuler la figure avec les [autres méthodes](http://tkinter.fdex.eu/doc/caw.html#methodes-des-canevas) du `Canvas`.\n",
    "\n",
    "Pour un `rectangle`, `x0, y0` correspond au **coin supérieur gauche** du rectangle englobant - *bounding box* - de la figure, `x1, y1` à son **coin inférieur droit** (voir figure plus haut)\n",
    "\n",
    "Par exemple, si `c` désigne un `Canvas`:\n",
    "- `x0, y0, x1, y1 = c.coords(<idn>)`: renvoie les coordonnées de la figure dont l'identifiant numérique est fournie en argument.\n",
    "- `c.move(<idn>, dx, dy)`: déplace la figure de `dx` pixels horizontalement et `dy` pixels verticalement."
   ]
  },
  {
   "cell_type": "markdown",
   "metadata": {},
   "source": [
    "```python\n",
    "# module space_invaders/rectangle.py\n",
    "from scene import scene, fen\n",
    "\n",
    "def initialiser_rect(x, y, largeur=50, hauteur=30, couleur=\"white\"):\n",
    "    \"\"\" crée un rectangle blanc dont le coin supérieur gauche est situé en x, y et ayant les dimensions précisées.\n",
    "    la fonction renvoie l'identifiant numérique du rectangle.\"\"\"\n",
    "    \n",
    "    _____ = _____.create_rectangle(____)\n",
    "    return rect\n",
    "\n",
    "\n",
    "if __name__ == \"__main__\":\n",
    "    for x, y in [(20, 20), (300, 20), (20, 300), (300, 300)]:\n",
    "        initialiser_rect(____) \n",
    "    fen.mainloop()\n",
    "```"
   ]
  },
  {
   "cell_type": "markdown",
   "metadata": {},
   "source": [
    "**Solution** - n'ouvrir qu'après avoir suffisemment cherché!"
   ]
  },
  {
   "cell_type": "markdown",
   "metadata": {
    "jupyter": {
     "source_hidden": true
    }
   },
   "source": [
    "```python\n",
    "# module space_invaders/rectangle.py\n",
    "from scene import scene, fen\n",
    "\n",
    "def initialiser_rect(x, y, largeur=50, hauteur=30, couleur=\"white\"):\n",
    "    \"\"\" crée un rectangle blanc dont le coin supérieur gauche est situé en x, y et ayant les dimensions précisés.\n",
    "    la fonction renvoie l'identifiant numérique du rectangle.\"\"\"\n",
    "    \n",
    "    rect = scene.create_rectangle(x, y, x+largeur, y+hauteur, fill=couleur)\n",
    "    return rect\n",
    "\n",
    "\n",
    "if __name__ == \"__main__\":\n",
    "    for x, y in [(20, 20), (300, 20), (20, 300), (300, 300)]:\n",
    "        initialiser_rect(x, y) \n",
    "    fen.mainloop()\n",
    "```"
   ]
  },
  {
   "cell_type": "markdown",
   "metadata": {},
   "source": [
    "### Quelques constantes avant d'aller plus loin"
   ]
  },
  {
   "cell_type": "markdown",
   "metadata": {},
   "source": [
    "Une **constante** est une variable qui ne change pas de valeur pendant l'exécution du programme.\n",
    "\n",
    "Par convention, on utilise des majuscules pour leur nom.\n",
    "\n",
    "Modifier le fichier *scene.py* comme indiqué."
   ]
  },
  {
   "cell_type": "markdown",
   "metadata": {},
   "source": [
    "```python\n",
    "# module space_invaders/scene.py\n",
    "from tkinter import Tk, Canvas\n",
    "\n",
    "LARGEUR, HAUTEUR = 1000, 500\n",
    "...\n",
    "scene = Canvas(fen, width=LARGEUR, height=HAUTEUR, bg=\"black\")\n",
    "...\n",
    "```"
   ]
  },
  {
   "cell_type": "markdown",
   "metadata": {},
   "source": [
    "### Déplacement avec le clavier"
   ]
  },
  {
   "cell_type": "markdown",
   "metadata": {},
   "source": [
    "Pour anticiper certaines difficultés, nous modifions légèrement le code de *rectangle.py*. Nous en verrons tout l'intérêt par la suite."
   ]
  },
  {
   "cell_type": "markdown",
   "metadata": {},
   "source": [
    "```python\n",
    "# module space_invaders/rectangle.py\n",
    "from scene import fen, scene, LARGEUR, HAUTEUR\n",
    "\n",
    "def initialiser_rect(x, y, largeur=50, hauteur=30, couleur=\"white\"):\n",
    "    ...\n",
    "    return {\n",
    "        \"id\": rect,\n",
    "        \"largeur\": largeur,\n",
    "        \"hauteur\": hauteur,\n",
    "        \"position\": (x, y),\n",
    "        \"vitesse\": 0 # en pixels par seconde\n",
    "    }\n",
    "```"
   ]
  },
  {
   "cell_type": "markdown",
   "metadata": {},
   "source": [
    "Puis nous ajoutons à *rectangle.py* trois fonctions:\n",
    "- `gauche`: sert à déplacer un rectangle vers la gauche de 5 pixels\n",
    "- `droite`: idem mais vers la droite\n",
    "- `reagir`: sert à lier le rectangle si besoin aux touches du clavier"
   ]
  },
  {
   "cell_type": "markdown",
   "metadata": {},
   "source": [
    "```python\n",
    "def gauche(fig):\n",
    "    x, y = fig[____]\n",
    "    if ____ >= 0:\n",
    "        scene.move(fig[____], -5, 0)\n",
    "        # attention à mettre jour la figure!\n",
    "        fig[\"position\"] = _______\n",
    "\n",
    "def droite(fig):\n",
    "    x, y = ____\n",
    "    largeur = ____\n",
    "    if ____ <= LARGEUR:\n",
    "        scene.move(___, 5, 0)\n",
    "        ____\n",
    "\n",
    "def reagir(fig, evt_type, gestionnaire):\n",
    "    # pourquoi a-t-on besoin d'une fonction lambda ici?\n",
    "    fen.bind(evt_type, lambda evt: gestionnaire(fig))\n",
    "\n",
    "if __name__ == \"__main__\":\n",
    "    rect = initialiser_rect(450, 300)\n",
    "    reagir(rect, '<Left>', gauche)\n",
    "    reagir(rect, '<Right>', droite)\n",
    "    fen.mainloop()\n",
    "```"
   ]
  },
  {
   "cell_type": "markdown",
   "metadata": {},
   "source": [
    "**Solution pour gauche** - n'ouvrir qu'après avoir suffisemment cherché!"
   ]
  },
  {
   "cell_type": "markdown",
   "metadata": {
    "jupyter": {
     "source_hidden": true
    }
   },
   "source": [
    "```python\n",
    "def gauche(fig):\n",
    "    x, y = fig[\"position\"]\n",
    "    if x - 5 >= 0:\n",
    "        scene.move(fig[\"id\"], -5, 0)\n",
    "        # attention à mettre jour la figure!\n",
    "        fig[\"position\"] = x - 5, y\n",
    "```"
   ]
  },
  {
   "cell_type": "markdown",
   "metadata": {},
   "source": [
    "**Solution** - n'ouvrir qu'après avoir suffisemment cherché!"
   ]
  },
  {
   "cell_type": "markdown",
   "metadata": {
    "jupyter": {
     "source_hidden": true
    }
   },
   "source": [
    "```python\n",
    "def droite(fig):\n",
    "    x, y = fig[\"position\"]\n",
    "    largeur = fig[\"largeur\"]\n",
    "    if x + largeur + 5 <= LARGEUR:\n",
    "        scene.move(fig[\"id\"], 5, 0)\n",
    "        fig[\"position\"] = x + 5, y\n",
    "\n",
    "def reagir(fig, evt_type, gestionnaire):\n",
    "    # pourquoi a-t-on besoin d'une fonction lambda ici?\n",
    "    fen.bind(evt_type, lambda evt: gestionnaire(fig))\n",
    "\n",
    "if __name__ == \"__main__\":\n",
    "    rect = initialiser_rect(450, 300)\n",
    "    reagir(rect, '<Left>', gauche)\n",
    "    reagir(rect, '<Right>', droite)\n",
    "    fen.mainloop()\n",
    "```"
   ]
  },
  {
   "cell_type": "markdown",
   "metadata": {},
   "source": [
    "### Déplacement automatique"
   ]
  },
  {
   "cell_type": "markdown",
   "metadata": {},
   "source": [
    "Pour parvenir à ce résultat, nous utiliserons la méthode commune à tous les widgets `w.after(delai, fonction)`.\n",
    "\n",
    "Elle permet de programmer l'appel d'une fonction après qu'un certain temps se soit écoulé.\n",
    "\n",
    "Elle prend deux arguments: un délai (en milliseconde) et une fonction."
   ]
  },
  {
   "cell_type": "markdown",
   "metadata": {},
   "source": [
    "```python\n",
    "# fichier space_invaders/scene.py\n",
    "...\n",
    "def message():\n",
    "    print(\"hello\")\n",
    "\n",
    "if __name__ == \"__main__\":\n",
    "    # Regarder la console...\n",
    "    fen.after(3000, message)\n",
    "    print(\"c'est parti!\")\n",
    "    fen.mainloop()\n",
    "```"
   ]
  },
  {
   "cell_type": "markdown",
   "metadata": {},
   "source": [
    "Pour répéter le message toutes les 2 secondes, on peut utiliser l'astuce suivante:"
   ]
  },
  {
   "cell_type": "markdown",
   "metadata": {},
   "source": [
    "```python\n",
    "# fichier space_invaders/scene.py\n",
    "...\n",
    "def message():\n",
    "    print(\"hello\")\n",
    "    # on peut mentionner une fonction à l'intérieur d'elle même!\n",
    "    fen.after(2000, message)\n",
    "\n",
    "if __name__ == \"__main__\":\n",
    "    # Regarder la console...\n",
    "    fen.after(3000, message)\n",
    "    print(\"c'est parti!\")\n",
    "    fen.mainloop()\n",
    "```"
   ]
  },
  {
   "cell_type": "markdown",
   "metadata": {},
   "source": [
    "Nous sommes à présent en mesure de comprendre le déplacement automatique d'un objet."
   ]
  },
  {
   "cell_type": "markdown",
   "metadata": {},
   "source": [
    "```python\n",
    "# fichier space_invaders/rectangle.py\n",
    "...\n",
    "\n",
    "def set_vitesse(fig, v):\n",
    "    fig[____] = v\n",
    "    \n",
    "def lancer(fig):\n",
    "    v = fig[\"vitesse\"]\n",
    "    # si la vitesse est nulle, inutile de continuer\n",
    "    if v == 0: ____\n",
    "    \n",
    "    # déplacement pour 50ms\n",
    "    dx = v // ___\n",
    "    \n",
    "    # doit-on changer de direction ? tenir compte du signe de la vitesse...\n",
    "    x, y = fig[\"position\"]\n",
    "    largeur = fig[\"largeur\"]\n",
    "    if x + ___ > LARGEUR and ___ > 0 or x - ___ < 0 and ___ < 0:\n",
    "        # on change de direction!    \n",
    "        fig[\"vitesse\"] = ____\n",
    "        dx = _____\n",
    "    \n",
    "    # à présent, on peut agir ...\n",
    "    ____.move(____, dx, 0)\n",
    "    # ne pas oublier de mettre à jour\n",
    "    fig[\"position\"] = _____\n",
    "    \n",
    "    # et on recommence\n",
    "    fen.after(50, lambda: lancer(fig))\n",
    "    \n",
    "if __name__ == \"__main__\":\n",
    "    rect = initialiser_rect(450, 300)\n",
    "    set_vitesse(___, 80)\n",
    "    lancer(___)\n",
    "    fen.mainloop()\n",
    "```"
   ]
  },
  {
   "cell_type": "markdown",
   "metadata": {},
   "source": [
    "**Solution pour `set_vitesse`** - n'ouvrir qu'après avoir suffisemment cherché!"
   ]
  },
  {
   "cell_type": "markdown",
   "metadata": {
    "jupyter": {
     "source_hidden": true
    }
   },
   "source": [
    "```python\n",
    "# fichier space_invaders/rectangle.py\n",
    "...\n",
    "\n",
    "def set_vitesse(fig, v):\n",
    "    fig[\"vitesse\"] = v\n",
    "``` "
   ]
  },
  {
   "cell_type": "markdown",
   "metadata": {},
   "source": [
    "**Solution pour la section `if __name__ ...`** - n'ouvrir qu'après avoir suffisemment cherché!"
   ]
  },
  {
   "cell_type": "markdown",
   "metadata": {
    "jupyter": {
     "source_hidden": true
    }
   },
   "source": [
    "```python\n",
    "if __name__ == \"__main__\":\n",
    "    rect = initialiser_rect(450, 300)\n",
    "    set_vitesse(rect, 80)\n",
    "    lancer(rect)\n",
    "    fen.mainloop()\n",
    "```"
   ]
  },
  {
   "cell_type": "markdown",
   "metadata": {},
   "source": [
    "**Solution pour `lancer`** - n'ouvrir qu'après avoir suffisemment cherché!"
   ]
  },
  {
   "cell_type": "markdown",
   "metadata": {
    "jupyter": {
     "source_hidden": true
    }
   },
   "source": [
    "```python\n",
    "def lancer(fig):\n",
    "    v = fig[\"vitesse\"]\n",
    "    # si la vitesse est nulle, inutile de continuer\n",
    "    if v == 0: return\n",
    "    \n",
    "    # déplacement pour 50ms\n",
    "    dx = v // 20\n",
    "    \n",
    "    # doit-on changer de direction ?\n",
    "    x, y = fig[\"position\"]\n",
    "    largeur = fig[\"largeur\"]\n",
    "    if x + largeur + dx > LARGEUR and v > 0 or x - dx < 0 and v < 0:\n",
    "        # on change de direction!    \n",
    "        fig[\"vitesse\"] = -v\n",
    "        dx = -dx\n",
    "    \n",
    "    # à présent, on peut agir ...\n",
    "    scene.move(fig[\"id\"], dx, 0)\n",
    "    # ne pas oublier de mettre à jour\n",
    "    fig[\"position\"] = x + dx, y\n",
    "    \n",
    "    # et on recommence\n",
    "    fen.after(50, lambda: lancer(fig))\n",
    "```"
   ]
  },
  {
   "cell_type": "markdown",
   "metadata": {},
   "source": [
    "## Solution complète"
   ]
  },
  {
   "cell_type": "markdown",
   "metadata": {},
   "source": [
    "#### Fichier `scene.py`"
   ]
  },
  {
   "cell_type": "markdown",
   "metadata": {
    "editable": false,
    "jupyter": {
     "source_hidden": true
    }
   },
   "source": [
    "```python\n",
    "# module space_invaders/scene.py\n",
    "from tkinter import Tk, Canvas\n",
    "LARGEUR, HAUTEUR = 1000, 500\n",
    "\n",
    "fen = Tk()\n",
    "fen.title(\"space invaders\")\n",
    "scene = Canvas(fen, width=LARGEUR, height=HAUTEUR, bg=\"black\")\n",
    "scene.pack()\n",
    "\n",
    "def message():\n",
    "    print(\"hello\")\n",
    "    # on peut mentionner une fonction à l'intérieur d'elle même!\n",
    "    fen.after(2000, message)\n",
    "\n",
    "if __name__ == \"__main__\":\n",
    "    # Regarder la console...\n",
    "    fen.after(3000, message)\n",
    "    print(\"c'est parti!\")\n",
    "    fen.mainloop()\n",
    "```"
   ]
  },
  {
   "cell_type": "markdown",
   "metadata": {},
   "source": [
    "#### Fichier `rectangle.py`"
   ]
  },
  {
   "cell_type": "markdown",
   "metadata": {
    "editable": false,
    "jupyter": {
     "source_hidden": true
    }
   },
   "source": [
    "```python\n",
    "# module space_invaders/rectangle.py\n",
    "from scene import fen, scene, LARGEUR, HAUTEUR\n",
    "\n",
    "def initialiser_rect(x, y, largeur=50, hauteur=30, couleur=\"white\"):\n",
    "    rect = scene.create_rectangle(x, y, x+largeur, y+hauteur, fill=couleur)\n",
    "    return {\n",
    "        \"id\": rect,\n",
    "        \"largeur\": largeur,\n",
    "        \"hauteur\": hauteur,\n",
    "        \"position\": (x, y),\n",
    "        \"vitesse\": 0 # en pixels par seconde\n",
    "    }\n",
    "\n",
    "def gauche(fig):\n",
    "    x, y = fig[\"position\"]\n",
    "    if x - 5 >= 0:\n",
    "        scene.move(fig[\"id\"], -5, 0)\n",
    "        # attention à mettre jour la figure!\n",
    "        fig[\"position\"] = x - 5, y\n",
    "\n",
    "def droite(fig):\n",
    "    x, y = fig[\"position\"]\n",
    "    largeur = fig[\"largeur\"]\n",
    "    if x + largeur + 5 <= LARGEUR:\n",
    "        scene.move(fig[\"id\"], 5, 0)\n",
    "        fig[\"position\"] = x + 5, y\n",
    "\n",
    "def reagir(fig, evt_type, gestionnaire):\n",
    "    # pourquoi a-t-on besoin d'une fonction lambda ici?\n",
    "    fen.bind(evt_type, lambda evt: gestionnaire(fig))\n",
    "\n",
    "def set_vitesse(fig, v):\n",
    "    fig[\"vitesse\"] = v\n",
    "\n",
    "def lancer(fig):\n",
    "    v = fig[\"vitesse\"]\n",
    "    # si la vitesse est nulle, inutile de continuer\n",
    "    if v == 0: return\n",
    "\n",
    "    # déplacement pour 50ms\n",
    "    dx = v // 20\n",
    "\n",
    "    # doit-on changer de direction ?\n",
    "    x, y = fig[\"position\"]\n",
    "    largeur = fig[\"largeur\"]\n",
    "    if x + largeur + dx > LARGEUR and v > 0 or x - dx < 0 and v < 0:\n",
    "        # on change de direction!    \n",
    "        fig[\"vitesse\"] = -v\n",
    "        dx = -dx\n",
    "\n",
    "    # à présent, on peut agir ...\n",
    "    scene.move(fig[\"id\"], dx, 0)\n",
    "    # ne pas oublier de mettre à jour\n",
    "    fig[\"position\"] = x + dx, y\n",
    "\n",
    "    # et on recommence\n",
    "    fen.after(50, lambda: lancer(fig))    \n",
    "\n",
    "if __name__ == \"__main__\":\n",
    "    rect = initialiser_rect(450, 300)\n",
    "    set_vitesse(rect, 80)\n",
    "    lancer(rect)\n",
    "    fen.mainloop()\n",
    "```"
   ]
  }
 ],
 "metadata": {
  "kernelspec": {
   "display_name": "Python 3",
   "language": "python",
   "name": "python3"
  },
  "language_info": {
   "codemirror_mode": {
    "name": "ipython",
    "version": 3
   },
   "file_extension": ".py",
   "mimetype": "text/x-python",
   "name": "python",
   "nbconvert_exporter": "python",
   "pygments_lexer": "ipython3",
   "version": "3.7.3"
  },
  "toc-autonumbering": false
 },
 "nbformat": 4,
 "nbformat_minor": 4
}
