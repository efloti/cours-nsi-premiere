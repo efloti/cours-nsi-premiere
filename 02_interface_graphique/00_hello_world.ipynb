{
 "cells": [
  {
   "cell_type": "markdown",
   "metadata": {},
   "source": [
    "# Programmation graphique avec `tkinter` - *hello world*!"
   ]
  },
  {
   "cell_type": "markdown",
   "metadata": {},
   "source": [
    "`tkinter` est la **bibliothèque graphique** de la librairie standard de Python.\n",
    "\n",
    "Elle permet de réaliser des *Interfaces graphiques*: programme s'appuyant sur une **fenêtre** *window* et sur des **composants graphique** *widgets*.\n",
    "\n",
    "Un programme tkinter doit s'exécuter sur une machine munie d'une *interface graphique*, ce qui n'est pas le cas du serveur hébergeant vos notebooks.\n",
    "\n",
    "Ainsi, il vous faudra copier-coller les exemples de codes dans votre IDE (*Integrated Developpement Editor*), comme [geany](https://www.geany.org/), sur une machine «graphique», pour pouvoir exécuter les programmes."
   ]
  },
  {
   "cell_type": "markdown",
   "metadata": {},
   "source": [
    "Voici un exemple simple et commenté en détail pour démarrer:"
   ]
  },
  {
   "cell_type": "markdown",
   "metadata": {},
   "source": [
    "```python\n",
    "from tkinter import *\n",
    "\n",
    "# Construction des widgets (composants graphiques)\n",
    "\n",
    "## fenêtre principale\n",
    "fen = Tk()\n",
    "fen.title(\"Première fenêtre\")\n",
    "\n",
    "## autres composants graphiques\n",
    "## w = Widget(parent, opt1=val1, opt2=val2, ...)\n",
    "\n",
    "### Étiquette: Label\n",
    "t = Label(fen, text=\"Bonjour tout l'monde!\")\n",
    "### Bouton: Button\n",
    "b = Button(fen, text='Action')\n",
    "\n",
    "## Positionnement des widgets dans la fenêtre:\n",
    "## w.pack(opt=val, ...)\n",
    "t.pack()\n",
    "b.pack(pady=5)\n",
    "\n",
    "# Configuration widgets w\n",
    "# configuration d'une option (set): w[\"option\"] = valeur\n",
    "\n",
    "## étiquette - set\n",
    "\n",
    "t[\"bg\"] = 'black'\n",
    "t[\"fg\"] = 'green'\n",
    "t[\"width\"] = 30\n",
    "t[\"height\"] = 3\n",
    "\n",
    "## bouton - set et get\n",
    "\n",
    "# gestionnaire d'événements «simple»\n",
    "# accès à la valeur courante d'une option (get): w[\"option\"]  \n",
    "def action():\n",
    "    if t['fg'] == 'green': # get: lire la valeur de l'option pour la comparer\n",
    "        t['fg'] = 'red' # set: modifier la valeur de l'option\n",
    "    else:\n",
    "        t['fg'] = 'green'\n",
    "\n",
    "b[\"command\"] = action\n",
    "\n",
    "# Lancement de la boucle principale *mainloop*\n",
    "# ATTENTION, pas de code après la mainloop!\n",
    "fen.mainloop()\n",
    "```"
   ]
  },
  {
   "cell_type": "markdown",
   "metadata": {},
   "source": [
    "Observer que le code est divisé en sections:\n",
    "- **import** de tkinter,\n",
    "- **construction** et paramétrage de la **fenêtre principale** `Tk()`\n",
    "- **construction** des **widgets** `Label`, `Button` et il y en a bien d'autres,\n",
    "- **positionnement** des widgets dans la fenêtre principale ici `pack()`,\n",
    "- **configuration** des widgets `w[\"<option\"] = valeur`,\n",
    "- **gestion des événements**: comment doit réagir un widgets donné aux actions (clavier, souris) de l'utilisateur?\n",
    "- **boucle principale**: boucle infinie servant à scruter les actions de l'utilisateur - ne rien mettre après."
   ]
  },
  {
   "cell_type": "markdown",
   "metadata": {},
   "source": [
    "Une librairie graphique contient énormément de fonctions (de l'ordre d'un millier!), il est donc nécessaire d'utiliser sa documentation et d'apprendre à navigueur dans celle-ci pour trouver ce que l'on cherche.\n",
    "\n",
    "[Documentation de tkinter](http://tkinter.fdex.eu/)"
   ]
  },
  {
   "cell_type": "markdown",
   "metadata": {},
   "source": [
    "Comme un grand pays, une librairie de cette taille nécessite un survol (ou carte):"
   ]
  },
  {
   "cell_type": "markdown",
   "metadata": {},
   "source": [
    "[Diaporama de présentation](http://tkinter.fdex.eu/presentation)"
   ]
  }
 ],
 "metadata": {
  "kernelspec": {
   "display_name": "Python 3",
   "language": "python",
   "name": "python3"
  },
  "language_info": {
   "codemirror_mode": {
    "name": "ipython",
    "version": 3
   },
   "file_extension": ".py",
   "mimetype": "text/x-python",
   "name": "python",
   "nbconvert_exporter": "python",
   "pygments_lexer": "ipython3",
   "version": "3.7.3"
  }
 },
 "nbformat": 4,
 "nbformat_minor": 4
}
