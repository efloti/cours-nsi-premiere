{
 "cells": [
  {
   "cell_type": "markdown",
   "metadata": {
    "slideshow": {
     "slide_type": "slide"
    }
   },
   "source": [
    "# Principales opérations sur les tableaux de données"
   ]
  },
  {
   "cell_type": "markdown",
   "metadata": {
    "slideshow": {
     "slide_type": "slide"
    }
   },
   "source": [
    "## Conventions"
   ]
  },
  {
   "cell_type": "markdown",
   "metadata": {
    "slideshow": {
     "slide_type": "subslide"
    }
   },
   "source": [
    "|      nom      | alias |                           commentaire                           |      type      |   alias   |\n",
    "|:-------------:|:-----:|:---------------------------------------------------------------:|:--------------:|:---------:|\n",
    "|   `tableau`   |  `t`  | le tableau de données (tableau de tuples nommés)                |  `[ objet_t ]` |           |\n",
    "|    `objet`    |  `o`  | une ligne de ce tableau                                         | `{ d_t: v_t }` | `objet_t` |\n",
    "| `descripteur` |  `d`  | l'un des descripteurs (et donc une colonne du tableau)          |      `str`     |   `d_t`   |\n",
    "|    `valeur`   |  `v`  | valeur associée à un certain descripteur. (une case du tableau) |      `str`     |   `v_t`   |"
   ]
  },
  {
   "cell_type": "markdown",
   "metadata": {
    "slideshow": {
     "slide_type": "slide"
    }
   },
   "source": [
    "## Sélection"
   ]
  },
  {
   "cell_type": "markdown",
   "metadata": {
    "slideshow": {
     "slide_type": "subslide"
    }
   },
   "source": [
    "**Objectif**: Ne conserver que certaines **lignes** du tableau - c'est-à-dire certains *objets*."
   ]
  },
  {
   "cell_type": "markdown",
   "metadata": {
    "slideshow": {
     "slide_type": "fragment"
    }
   },
   "source": [
    "**Filtre** `fn_sel` - de type *function* ou plus précisément «`objet_t -> bool`»: si renvoie `True` on conserve, sinon on élimine."
   ]
  },
  {
   "cell_type": "code",
   "execution_count": null,
   "metadata": {
    "slideshow": {
     "slide_type": "fragment"
    }
   },
   "outputs": [],
   "source": [
    "# ensemble..."
   ]
  },
  {
   "cell_type": "markdown",
   "metadata": {
    "slideshow": {
     "slide_type": "subslide"
    }
   },
   "source": [
    "```python\n",
    "# o alias de objet\n",
    "[ o for o in tableau if fn_sel(o) ]\n",
    "```"
   ]
  },
  {
   "cell_type": "markdown",
   "metadata": {
    "slideshow": {
     "slide_type": "slide"
    }
   },
   "source": [
    "## Projection"
   ]
  },
  {
   "cell_type": "markdown",
   "metadata": {
    "slideshow": {
     "slide_type": "subslide"
    }
   },
   "source": [
    "**Objectif**: Ne conserver que certains *descripteurs* - revient à sélectionner certaine **colonnes** du tableau (et à oublier les autres)."
   ]
  },
  {
   "cell_type": "markdown",
   "metadata": {
    "slideshow": {
     "slide_type": "fragment"
    }
   },
   "source": [
    "`a_conserver`: la liste des **descripteurs** à conserver - de *type* «`[ d_t ]`»:"
   ]
  },
  {
   "cell_type": "code",
   "execution_count": null,
   "metadata": {
    "slideshow": {
     "slide_type": "fragment"
    }
   },
   "outputs": [],
   "source": [
    "# ensemble..."
   ]
  },
  {
   "cell_type": "markdown",
   "metadata": {
    "slideshow": {
     "slide_type": "subslide"
    }
   },
   "source": [
    "```python \n",
    "[ { \n",
    "    # d, v, o alias de descripteur, valeur, objet\n",
    "    d: v \n",
    "    for d, v in o.items()\n",
    "    if d in a_conserver \n",
    "  }\n",
    "    for o in tableau\n",
    "]\n",
    "```"
   ]
  },
  {
   "cell_type": "markdown",
   "metadata": {
    "slideshow": {
     "slide_type": "slide"
    }
   },
   "source": [
    "## Trie"
   ]
  },
  {
   "cell_type": "markdown",
   "metadata": {
    "slideshow": {
     "slide_type": "subslide"
    }
   },
   "source": [
    "**Objectif**: Ré-ordonner les objets (de type «tuples nommés») du tableau selon un certain critère: généralement les valeurs d'un ou de plusieurs descripteurs."
   ]
  },
  {
   "cell_type": "markdown",
   "metadata": {
    "slideshow": {
     "slide_type": "subslide"
    }
   },
   "source": [
    "**Cas 1**: Trier selon les valeurs croissantes d'*un seul descripteur* `'d'`"
   ]
  },
  {
   "cell_type": "code",
   "execution_count": null,
   "metadata": {
    "slideshow": {
     "slide_type": "fragment"
    }
   },
   "outputs": [],
   "source": [
    "# ensemble ..."
   ]
  },
  {
   "cell_type": "markdown",
   "metadata": {
    "slideshow": {
     "slide_type": "fragment"
    }
   },
   "source": [
    "```python\n",
    "# ajouter le paramètre reverse=True pour trier dans l'ordre inverse\n",
    "sorted( tableau, key=lambda objet: objet['d'] )\n",
    "```"
   ]
  },
  {
   "cell_type": "markdown",
   "metadata": {
    "slideshow": {
     "slide_type": "subslide"
    }
   },
   "source": [
    "**Cas 2**: Trier selon les valeurs croissantes d'un premier descripteur `'d1'` **puis** (en cas d'égalité) d'un second `'d2'`"
   ]
  },
  {
   "cell_type": "code",
   "execution_count": null,
   "metadata": {
    "slideshow": {
     "slide_type": "fragment"
    }
   },
   "outputs": [],
   "source": [
    "# ensemble ..."
   ]
  },
  {
   "cell_type": "markdown",
   "metadata": {
    "slideshow": {
     "slide_type": "fragment"
    }
   },
   "source": [
    "```python\n",
    "# même remarque que précédemment.\n",
    "sorted( tableau, key=lambda o: (o['d1'], o['d2']) )\n",
    "```"
   ]
  },
  {
   "cell_type": "markdown",
   "metadata": {
    "slideshow": {
     "slide_type": "slide"
    }
   },
   "source": [
    "## Pré-traitements - conversion"
   ]
  },
  {
   "cell_type": "markdown",
   "metadata": {
    "slideshow": {
     "slide_type": "subslide"
    }
   },
   "source": [
    "**Objectif**: les valeurs associées aux descripteurs son de type `str` par défaut. Pour un descripteur fixé, il est parfois souhaitable d'utiliser un **type plus précis**; on procède donc à un **ajustement de type** (*conversion*)."
   ]
  },
  {
   "cell_type": "markdown",
   "metadata": {
    "slideshow": {
     "slide_type": "fragment"
    }
   },
   "source": [
    "À un descripteur tel que:\n",
    "- `age`, `n_client`, `quantite` ... on s'attend à une valeur entière `int`.\n",
    "- `prix`, `latitude`, `coefficient` ...  à une valeur «décimale» `float` (ou ...)\n",
    "- `position`, `coordonnées`, ... à un `tuple` ou plus précisément `(float, float)`\n",
    "- ... etc."
   ]
  },
  {
   "cell_type": "markdown",
   "metadata": {
    "slideshow": {
     "slide_type": "subslide"
    }
   },
   "source": [
    "`fn_conv`: la fonction de conversion (`str -> t`) ou `t` représente le **type cible** comme `int`, `float`, ...\n",
    "\n",
    "`'d_cible'` représente le **descripteur** dont on souhaite convertir la *valeur*."
   ]
  },
  {
   "cell_type": "code",
   "execution_count": null,
   "metadata": {
    "slideshow": {
     "slide_type": "fragment"
    }
   },
   "outputs": [],
   "source": [
    "# ensemble..."
   ]
  },
  {
   "cell_type": "markdown",
   "metadata": {
    "slideshow": {
     "slide_type": "subslide"
    }
   },
   "source": [
    "```python \n",
    "[ { \n",
    "    # opérateur ternaire «e1 if cond else e2»\n",
    "    d: fn_conv(v) if d == 'd_cible' else v\n",
    "    for d, v in o.items() \n",
    "   } \n",
    " for o in tableau\n",
    "]\n",
    "```"
   ]
  },
  {
   "cell_type": "markdown",
   "metadata": {
    "slideshow": {
     "slide_type": "slide"
    }
   },
   "source": [
    "## Post-Traitements ..."
   ]
  },
  {
   "cell_type": "markdown",
   "metadata": {
    "slideshow": {
     "slide_type": "subslide"
    }
   },
   "source": [
    "**Objectif**: obtenir une **synthèse** de toutes ces données - **numérique**: somme, moyenne, médiane, ... - **graphique** carte, courbe, camembert ..."
   ]
  },
  {
   "cell_type": "markdown",
   "metadata": {
    "slideshow": {
     "slide_type": "subslide"
    }
   },
   "source": [
    "**Exemple1**: Supposons que l'on ait une collection de données dont les objets représentent des achats dans une boutique. \n",
    "De plus, supposons qu'il y ait un descripteur `'prix'` et un descripteur `'quantite'`.\n",
    "\n",
    "On souhaite connaître le *montant total des achats* ..."
   ]
  },
  {
   "cell_type": "markdown",
   "metadata": {
    "slideshow": {
     "slide_type": "fragment"
    }
   },
   "source": [
    "**1.** Construire la liste des produits «quantité * prix» puis faire sa somme."
   ]
  },
  {
   "cell_type": "code",
   "execution_count": null,
   "metadata": {
    "slideshow": {
     "slide_type": "fragment"
    }
   },
   "outputs": [],
   "source": [
    "# ensemble ..."
   ]
  },
  {
   "cell_type": "markdown",
   "metadata": {
    "slideshow": {
     "slide_type": "fragment"
    }
   },
   "source": [
    "```python\n",
    "total = sum( [ o['quantite'] * o['prix'] for o in tableau ] )\n",
    "```"
   ]
  },
  {
   "cell_type": "markdown",
   "metadata": {
    "slideshow": {
     "slide_type": "subslide"
    }
   },
   "source": [
    "**2.** Synthèse:"
   ]
  },
  {
   "cell_type": "code",
   "execution_count": null,
   "metadata": {
    "slideshow": {
     "slide_type": "fragment"
    }
   },
   "outputs": [],
   "source": [
    "# ensemble ..."
   ]
  },
  {
   "cell_type": "markdown",
   "metadata": {
    "slideshow": {
     "slide_type": "fragment"
    }
   },
   "source": [
    "```python\n",
    "print(f\"Total des achats: { round(total,2) } euros\")\n",
    "```"
   ]
  },
  {
   "cell_type": "markdown",
   "metadata": {
    "slideshow": {
     "slide_type": "subslide"
    }
   },
   "source": [
    "**Exemple2** - *suite de l'exemple1*: supposons de plus que les achats aient un descripteur `'nom_client'` et qu'on souhaite trouver le «meilleur» client ... pour lui envoyer un cadeau par exemple!"
   ]
  },
  {
   "cell_type": "markdown",
   "metadata": {
    "slideshow": {
     "slide_type": "fragment"
    }
   },
   "source": [
    "**1.** Fractionnons le tableau en plusieurs sous tableaux: *un par client*.\n",
    "\n",
    "**a.** Trouver les personnes à l'aide du descripteur `nom_client`"
   ]
  },
  {
   "cell_type": "code",
   "execution_count": 5,
   "metadata": {
    "slideshow": {
     "slide_type": "fragment"
    }
   },
   "outputs": [],
   "source": [
    "# ensemble ... (c'est le cas de le dire ici ...)"
   ]
  },
  {
   "cell_type": "markdown",
   "metadata": {
    "slideshow": {
     "slide_type": "fragment"
    }
   },
   "source": [
    "```python\n",
    "# Bizarre, il manque le séparateur «:» ...\n",
    "clients_set = { o['nom_client'] for o in tableau }\n",
    "```"
   ]
  },
  {
   "cell_type": "markdown",
   "metadata": {
    "slideshow": {
     "slide_type": "subslide"
    }
   },
   "source": [
    "**b.** Fractionnons le tableau ... «`{ nom: son_tableau }`» donc type `{ d_t: [ objet_t ] }`"
   ]
  },
  {
   "cell_type": "code",
   "execution_count": null,
   "metadata": {
    "slideshow": {
     "slide_type": "fragment"
    }
   },
   "outputs": [],
   "source": [
    "# ensemble ..."
   ]
  },
  {
   "cell_type": "markdown",
   "metadata": {
    "slideshow": {
     "slide_type": "fragment"
    }
   },
   "source": [
    "```python\n",
    "tableaux_d = { \n",
    "    c: [ o for o in tableaux if o['nom_client'] == c ]\n",
    "    for c in clients_set \n",
    "}\n",
    "```"
   ]
  },
  {
   "cell_type": "markdown",
   "metadata": {
    "slideshow": {
     "slide_type": "subslide"
    }
   },
   "source": [
    "**2.** Pour chaque client, calculons le total des ses achats *tout en conservant l'association du client et du total de ses achats* donc type « `{ client: montant }` » soit `{ d_t: float }`"
   ]
  },
  {
   "cell_type": "code",
   "execution_count": null,
   "metadata": {
    "slideshow": {
     "slide_type": "fragment"
    }
   },
   "outputs": [],
   "source": [
    "# ensemble ..."
   ]
  },
  {
   "cell_type": "markdown",
   "metadata": {
    "slideshow": {
     "slide_type": "fragment"
    }
   },
   "source": [
    "```python\n",
    "totaux = { \n",
    "    c: sum( [ o['quantite'] * o['prix'] for o in t ] )\n",
    "    # c, t alias de client, tableau\n",
    "    for c, t in tableaux_d.items()\n",
    "}\n",
    "```"
   ]
  },
  {
   "cell_type": "markdown",
   "metadata": {
    "slideshow": {
     "slide_type": "subslide"
    }
   },
   "source": [
    "**3.** Trouvons le gagnant et synthèse!"
   ]
  },
  {
   "cell_type": "code",
   "execution_count": null,
   "metadata": {
    "slideshow": {
     "slide_type": "fragment"
    }
   },
   "outputs": [],
   "source": [
    "# ensemble ..."
   ]
  },
  {
   "cell_type": "markdown",
   "metadata": {
    "slideshow": {
     "slide_type": "subslide"
    }
   },
   "source": [
    "```python\n",
    "# accumulateurs\n",
    "gagnant = None\n",
    "## -1 pour être sûr que c'est le plus petit ...\n",
    "montant_max = -1\n",
    "\n",
    "# parcours des totaux\n",
    "for c, m in totaux.items(): # c alias client, m alias montant\n",
    "    if m > montant_max:\n",
    "        montant_max = m\n",
    "        gagnant = c\n",
    "\n",
    "# Au final:\n",
    "print(f\"Le meilleur client est {gagnant} pour un montant total d'achat de { round(montant_max,2) }€\")\n",
    "```"
   ]
  },
  {
   "cell_type": "markdown",
   "metadata": {
    "slideshow": {
     "slide_type": "subslide"
    }
   },
   "source": [
    "**Exemple 3 - graphique**: voir TP 05_application_carte_interactive..."
   ]
  }
 ],
 "metadata": {
  "kernelspec": {
   "display_name": "Python 3",
   "language": "python",
   "name": "python3"
  },
  "language_info": {
   "codemirror_mode": {
    "name": "ipython",
    "version": 3
   },
   "file_extension": ".py",
   "mimetype": "text/x-python",
   "name": "python",
   "nbconvert_exporter": "python",
   "pygments_lexer": "ipython3",
   "version": "3.7.3"
  }
 },
 "nbformat": 4,
 "nbformat_minor": 4
}
