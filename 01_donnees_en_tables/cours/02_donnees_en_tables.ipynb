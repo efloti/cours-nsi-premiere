{
 "cells": [
  {
   "cell_type": "markdown",
   "metadata": {
    "slideshow": {
     "slide_type": "slide"
    }
   },
   "source": [
    "# Données en table"
   ]
  },
  {
   "cell_type": "markdown",
   "metadata": {
    "slideshow": {
     "slide_type": "slide"
    }
   },
   "source": [
    "## Format CSV - *Comma Separated Values*"
   ]
  },
  {
   "cell_type": "markdown",
   "metadata": {
    "slideshow": {
     "slide_type": "subslide"
    }
   },
   "source": [
    "Chaîne - `str` - au format CSV:\n",
    "```\n",
    "nom,prenom,date_naissance\n",
    "Durand,Jean-Pierre,23/05/1985\n",
    "Dupont,Christophe,15/12/1967\n",
    "Terta,Henry,12/06/1978       \n",
    "```"
   ]
  },
  {
   "cell_type": "markdown",
   "metadata": {
    "slideshow": {
     "slide_type": "fragment"
    }
   },
   "source": [
    "*1ère ligne*: les **descripteurs** des données"
   ]
  },
  {
   "cell_type": "markdown",
   "metadata": {
    "slideshow": {
     "slide_type": "fragment"
    }
   },
   "source": [
    "*lignes suivantes*: les **objets** de la **collection** de données"
   ]
  },
  {
   "cell_type": "markdown",
   "metadata": {
    "slideshow": {
     "slide_type": "fragment"
    }
   },
   "source": [
    "**chaque «objet»** est formé de **valeurs** séparées (le plus souvent) par des `,` ..."
   ]
  },
  {
   "cell_type": "markdown",
   "metadata": {
    "slideshow": {
     "slide_type": "fragment"
    }
   },
   "source": [
    "... ces **valeurs** correspondent aux **descripteurs** de même position."
   ]
  },
  {
   "cell_type": "markdown",
   "metadata": {
    "slideshow": {
     "slide_type": "subslide"
    }
   },
   "source": [
    "**Avantages**: simplicité et universalité"
   ]
  },
  {
   "cell_type": "markdown",
   "metadata": {
    "slideshow": {
     "slide_type": "fragment"
    }
   },
   "source": [
    "**Inconvénients**: format monolithique, pénible à manipuler directement par programme."
   ]
  },
  {
   "cell_type": "markdown",
   "metadata": {
    "slideshow": {
     "slide_type": "slide"
    }
   },
   "source": [
    "## Format tableau de tuples (ou n-uplet) nommés"
   ]
  },
  {
   "cell_type": "markdown",
   "metadata": {
    "slideshow": {
     "slide_type": "subslide"
    }
   },
   "source": [
    "Liste -`list` - dont les éléments sont des dictionnaires - `dict` - de la forme `{descr1: val1, descr2: val2, ...}`"
   ]
  },
  {
   "cell_type": "markdown",
   "metadata": {
    "slideshow": {
     "slide_type": "fragment"
    }
   },
   "source": [
    "```python\n",
    "[\n",
    " {'nom': 'Durand', 'prenom': 'Jean-Pierre', 'date_naissance': '23/05/1985'},\n",
    " {'nom': 'Dupont', 'prenom': 'Christophe', 'date_naissance': '15/12/1967'},\n",
    " {'nom': 'Terta', 'prenom': 'Henry', 'date_naissance': '12/06/1978'}\n",
    "]\n",
    "```"
   ]
  },
  {
   "cell_type": "markdown",
   "metadata": {
    "slideshow": {
     "slide_type": "fragment"
    }
   },
   "source": [
    "si `t` désigne ce tableau, on peut *accéder à* (get) ou *modifier* (set) une valeur via la syntaxe:\n",
    "- *get* - `t[n_ligne][descripteur]` - pour «**lire**» une valeur \n",
    "- *set* - `t[n_ligne][descripteur] = nouvelle_valeur` - pour «**écrire**» une valeur "
   ]
  },
  {
   "cell_type": "markdown",
   "metadata": {
    "slideshow": {
     "slide_type": "subslide"
    }
   },
   "source": [
    "**Avantages**: Facile à manipuler par programme - du moins avec Python"
   ]
  },
  {
   "cell_type": "markdown",
   "metadata": {
    "slideshow": {
     "slide_type": "fragment"
    }
   },
   "source": [
    "**Inconvénients**: Utilise des types spécifiques à Python - `list` et `dict` (pas universel)"
   ]
  },
  {
   "cell_type": "markdown",
   "metadata": {
    "slideshow": {
     "slide_type": "subslide"
    }
   },
   "source": [
    "## Syntaxe de l'affectation multiple - Unpacking"
   ]
  },
  {
   "cell_type": "markdown",
   "metadata": {
    "slideshow": {
     "slide_type": "subslide"
    }
   },
   "source": [
    "**But de l'unpacking**: affecter - *assignement* - plusieurs variables simplement en utilisant un «conteneur»"
   ]
  },
  {
   "cell_type": "code",
   "execution_count": null,
   "metadata": {
    "slideshow": {
     "slide_type": "fragment"
    }
   },
   "outputs": [],
   "source": [
    "# basique - autant de variable que de valeurs\n",
    "a, b, c = 1, 2, 3 # même résultat pour (1, 2, 3) ou [1, 2, 3]\n",
    "print(f\"a vaut {a}, b vaut {b}, c vaut {c}\")"
   ]
  },
  {
   "cell_type": "code",
   "execution_count": null,
   "metadata": {
    "slideshow": {
     "slide_type": "fragment"
    }
   },
   "outputs": [],
   "source": [
    "# 1. «syntaxe *»: Moins de variables que de valeurs\n",
    "a, *b = 1, 2, 3 # même résultat pour (1, 2, 3) ou [1, 2, 3]\n",
    "print(f\"a vaut {a}, b vaut {b}\")"
   ]
  },
  {
   "cell_type": "code",
   "execution_count": null,
   "metadata": {
    "slideshow": {
     "slide_type": "subslide"
    }
   },
   "outputs": [],
   "source": [
    "# 2. «syntaxe *»: ... suite\n",
    "a, *b, c, d = ( i for i in range(10) )\n",
    "print(f\"a vaut {a}, b vaut {b}, c vaut {c}, d vaut {d}\")"
   ]
  },
  {
   "cell_type": "markdown",
   "metadata": {
    "slideshow": {
     "slide_type": "slide"
    }
   },
   "source": [
    "## «Zipper» deux ou plusieurs «conteneur» - `zip(l1, l2)`"
   ]
  },
  {
   "cell_type": "markdown",
   "metadata": {
    "slideshow": {
     "slide_type": "subslide"
    }
   },
   "source": [
    "**zip**: action qui consiste à appareiller des valeurs de même position - *index* - de deux «conteneurs»"
   ]
  },
  {
   "cell_type": "code",
   "execution_count": null,
   "metadata": {
    "slideshow": {
     "slide_type": "fragment"
    }
   },
   "outputs": [],
   "source": [
    "# exemple:\n",
    "l1 = ['str', 'list', 'dict', 'int']\n",
    "l2 = [\"ahah\", [5, 6], {'prenom': 'etienne', 'age': 12}, 3]\n",
    "list(zip(l1, l2))"
   ]
  },
  {
   "cell_type": "markdown",
   "metadata": {
    "slideshow": {
     "slide_type": "subslide"
    }
   },
   "source": [
    "S'utilise souvent dans les boucles `for`:\n",
    "```python\n",
    "for v1, v2 in zip(liste1, liste2):\n",
    "    # v1 contient une valeur de liste1 tandis que ...\n",
    "    # v2 contient la valeur de même position de liste2.\n",
    "```"
   ]
  },
  {
   "cell_type": "code",
   "execution_count": null,
   "metadata": {
    "slideshow": {
     "slide_type": "fragment"
    }
   },
   "outputs": [],
   "source": [
    "# APPLICATION 1 - penser l1 - les descripteurs, l2 - un objet (qui est lui-même formé de valeurs)\n",
    "{ k: v for k, v in zip(l1, l2)}"
   ]
  },
  {
   "cell_type": "code",
   "execution_count": null,
   "metadata": {
    "slideshow": {
     "slide_type": "subslide"
    }
   },
   "outputs": [],
   "source": [
    "# APPLICATION 2 - produit scalaire (spé maths) - xx'+yy'\n",
    "v1, v2 = (5, -6), (-2, 3)\n",
    "print(\n",
    "    f\"Le produit scalaire des vecteurs de coordonnées {v1} et {v2} est { sum([ x1*x2 for x1, x2 in zip(v1, v2) ]) }\"\n",
    ")"
   ]
  },
  {
   "cell_type": "markdown",
   "metadata": {
    "slideshow": {
     "slide_type": "slide"
    }
   },
   "source": [
    "## Syntaxe en compréhension des dictionnaires"
   ]
  },
  {
   "cell_type": "markdown",
   "metadata": {
    "slideshow": {
     "slide_type": "subslide"
    }
   },
   "source": [
    "**Syntaxe**:\n",
    "```python\n",
    "{ expr1: expr2 for var in conteneur }\n",
    "```"
   ]
  },
  {
   "cell_type": "markdown",
   "metadata": {
    "slideshow": {
     "slide_type": "fragment"
    }
   },
   "source": [
    "**Expression** qui produit un *dictionnaire*.\n",
    "\n",
    "À chaque tour de boucle, les expressions `expr1` et `expr2` sont évaluées en tenant compte de la valeur courante de la variable `var` ..."
   ]
  },
  {
   "cell_type": "markdown",
   "metadata": {
    "slideshow": {
     "slide_type": "fragment"
    }
   },
   "source": [
    "... cela produit une nouvelle paire `cle: valeur` pour le dictionnaire en cours de construction."
   ]
  },
  {
   "cell_type": "code",
   "execution_count": null,
   "metadata": {
    "slideshow": {
     "slide_type": "subslide"
    }
   },
   "outputs": [],
   "source": [
    "# exemple1\n",
    "{ x**2: x**3 for x in [-i for i in range(4)] }"
   ]
  },
  {
   "cell_type": "markdown",
   "metadata": {
    "slideshow": {
     "slide_type": "fragment"
    }
   },
   "source": [
    "**Rappel**: \n",
    "- `for k, v in dictionnaire.items()` - à chaque tour de boucle, `k` est une clé du dictionnaire et `v` la valeur correspondante.\n",
    "- `for k in dictionnaire` - à chaque tour de boucle, `k` est une clé du dictionnaire."
   ]
  },
  {
   "cell_type": "code",
   "execution_count": null,
   "metadata": {
    "slideshow": {
     "slide_type": "fragment"
    }
   },
   "outputs": [],
   "source": [
    "# exemple2\n",
    "{ k.lower(): int(v) for k, v in {\"A\": \"1\", \"B\": \"2\"}.items() }"
   ]
  },
  {
   "cell_type": "code",
   "execution_count": null,
   "metadata": {
    "slideshow": {
     "slide_type": "subslide"
    }
   },
   "outputs": [],
   "source": [
    "# exemple3 - pour (faire) pousser les neurones\n",
    "{\n",
    "    k.title() + \" carrés\": [i**2 for i in range(n)] \n",
    "    for k, n in {\"deux\": 2 , \"quatre\": 4}.items()\n",
    "}"
   ]
  },
  {
   "cell_type": "code",
   "execution_count": null,
   "metadata": {
    "slideshow": {
     "slide_type": "fragment"
    }
   },
   "outputs": [],
   "source": [
    "# APPLICATION aux données\n",
    "descripteurs, objet = (\"nom\", \"prénom\", \"age\"), (\"DIXNEUF\", \"Sébastien\", 46)\n",
    "\n",
    "{ k.title(): v for k, v in zip(descripteurs, objet) }"
   ]
  },
  {
   "cell_type": "markdown",
   "metadata": {
    "slideshow": {
     "slide_type": "slide"
    }
   },
   "source": [
    "## Conversion: CSV $\\mapsto$ tableau de tuples nommés "
   ]
  },
  {
   "cell_type": "markdown",
   "metadata": {
    "slideshow": {
     "slide_type": "subslide"
    }
   },
   "source": [
    "Tout en utilisant judicieusement la **syntaxe en compréhension**:"
   ]
  },
  {
   "cell_type": "markdown",
   "metadata": {
    "slideshow": {
     "slide_type": "fragment"
    }
   },
   "source": [
    "1. `str.split(sep)`: **Couper** la chaîne CSV suivant les *séparateurs* de lignes `\\n` puis recommencer suivant les *séparateurs* de valeurs `,`  "
   ]
  },
  {
   "cell_type": "markdown",
   "metadata": {
    "slideshow": {
     "slide_type": "fragment"
    }
   },
   "source": [
    "2. Unpacking: **Séparer** les descripteurs (1ère ligne) des objets (les autres)"
   ]
  },
  {
   "cell_type": "markdown",
   "metadata": {
    "slideshow": {
     "slide_type": "fragment"
    }
   },
   "source": [
    "3. **zip**: appareiller les descripteurs au valeurs correspondantes"
   ]
  },
  {
   "cell_type": "code",
   "execution_count": null,
   "metadata": {
    "slideshow": {
     "slide_type": "subslide"
    }
   },
   "outputs": [],
   "source": [
    "csv = \"a,b,c\\nd,e,f\\ng,h,i\"\n",
    "# 1 Couper - split\n",
    "decoupe = [ligne.split(',') for ligne in csv.split('\\n')] # -> de type «[[str]]»\n",
    "# 2 Séparer - unpacking\n",
    "ds, *objs = decoupe # -> de type «[str]» pour ds et «[[str]]» pour objs\n",
    "# 3 Appareiller - zip\n",
    "tableau = [ {d: v for d, v in zip(ds, obj)} for obj in objs] # -> de type [{str: str}]\n",
    "tableau"
   ]
  }
 ],
 "metadata": {
  "celltoolbar": "Diaporama",
  "kernelspec": {
   "display_name": "Python 3",
   "language": "python",
   "name": "python3"
  },
  "language_info": {
   "codemirror_mode": {
    "name": "ipython",
    "version": 3
   },
   "file_extension": ".py",
   "mimetype": "text/x-python",
   "name": "python",
   "nbconvert_exporter": "python",
   "pygments_lexer": "ipython3",
   "version": "3.6.8"
  }
 },
 "nbformat": 4,
 "nbformat_minor": 4
}
