{
 "cells": [
  {
   "cell_type": "markdown",
   "metadata": {
    "slideshow": {
     "slide_type": "slide"
    }
   },
   "source": [
    "# Listes en compréhension"
   ]
  },
  {
   "cell_type": "markdown",
   "metadata": {
    "slideshow": {
     "slide_type": "fragment"
    }
   },
   "source": [
    "**Syntaxe** dont le but est de faciliter (raccourcir) la **construction** de tableau `list`."
   ]
  },
  {
   "cell_type": "markdown",
   "metadata": {
    "slideshow": {
     "slide_type": "subslide"
    }
   },
   "source": [
    "## Première forme: une boucle"
   ]
  },
  {
   "cell_type": "markdown",
   "metadata": {
    "slideshow": {
     "slide_type": "fragment"
    }
   },
   "source": [
    "```python\n",
    "[ <expr> for <var> in <conteneur> ]\n",
    "```"
   ]
  },
  {
   "cell_type": "markdown",
   "metadata": {
    "slideshow": {
     "slide_type": "fragment"
    }
   },
   "source": [
    "À chaque tour de boucle:"
   ]
  },
  {
   "cell_type": "markdown",
   "metadata": {
    "slideshow": {
     "slide_type": "fragment"
    }
   },
   "source": [
    "1. `var` prend une nouvelle valeur du `conteneur`,"
   ]
  },
  {
   "cell_type": "markdown",
   "metadata": {
    "slideshow": {
     "slide_type": "fragment"
    }
   },
   "source": [
    "2. puis l'expression `expr` est **évaluée** (en tenant compte de la valeur *actuelle* de `var`) afin de ...,"
   ]
  },
  {
   "cell_type": "markdown",
   "metadata": {
    "slideshow": {
     "slide_type": "fragment"
    }
   },
   "source": [
    "3. ... produire une *nouvelle valeur* pour la **liste en cours de construction**."
   ]
  },
  {
   "cell_type": "markdown",
   "metadata": {
    "slideshow": {
     "slide_type": "subslide"
    }
   },
   "source": [
    "```python\n",
    "liste = [ <expr> for <var> in <conteneur> ]\n",
    "```"
   ]
  },
  {
   "cell_type": "markdown",
   "metadata": {
    "slideshow": {
     "slide_type": "fragment"
    }
   },
   "source": [
    "est un **raccourci syntaxique** pour:\n",
    "```python\n",
    "liste = [] # accumulateur\n",
    "for <var> in <conteneur>:\n",
    "    valeur = <expr> # évaluation\n",
    "    liste.append(valeur) # ajout en fin d'accumulateur\n",
    "```"
   ]
  },
  {
   "cell_type": "markdown",
   "metadata": {
    "slideshow": {
     "slide_type": "subslide"
    }
   },
   "source": [
    "### Exemple:"
   ]
  },
  {
   "cell_type": "code",
   "execution_count": null,
   "metadata": {
    "slideshow": {
     "slide_type": "-"
    }
   },
   "outputs": [],
   "source": [
    "l1 = [\n",
    "    mot.upper() # <expr>: mot en majuscule \n",
    "    for mot in [\"syntaxe\", \"en\", \"compréhension\"] # <var> <-> mot; <conteneur> <-> [...]\n",
    "]\n",
    "\n",
    "print(l1)"
   ]
  },
  {
   "cell_type": "code",
   "execution_count": null,
   "metadata": {
    "slideshow": {
     "slide_type": "fragment"
    }
   },
   "outputs": [],
   "source": [
    "# équivalent à:\n",
    "l2 = []\n",
    "for mot in [\"syntaxe\", \"en\", \"compréhension\"]:\n",
    "    valeur = mot.upper() # l'expression est évaluée et mémorisée\n",
    "    l2.append(valeur) # on l'ajoute à la fin de la liste en cours de construction.\n",
    "\n",
    "print(l2)"
   ]
  },
  {
   "cell_type": "code",
   "execution_count": null,
   "metadata": {
    "slideshow": {
     "slide_type": "fragment"
    }
   },
   "outputs": [],
   "source": [
    "# vérification\n",
    "assert l1 == l2, \"y'a quelquechose qui cloche!\""
   ]
  },
  {
   "cell_type": "markdown",
   "metadata": {
    "slideshow": {
     "slide_type": "slide"
    }
   },
   "source": [
    "## Deuxième forme: plusieurs boucles\n",
    "    "
   ]
  },
  {
   "cell_type": "markdown",
   "metadata": {
    "slideshow": {
     "slide_type": "fragment"
    }
   },
   "source": [
    "```python\n",
    "[ <expr> for <var1> in <conteneur1> for <var2> in <conteneur2> ]\n",
    "```"
   ]
  },
  {
   "cell_type": "markdown",
   "metadata": {
    "slideshow": {
     "slide_type": "fragment"
    }
   },
   "source": [
    "1. À chaque tour de la 1ère boucle (la plus à gauche),"
   ]
  },
  {
   "cell_type": "markdown",
   "metadata": {
    "slideshow": {
     "slide_type": "fragment"
    }
   },
   "source": [
    "2. la 2ème se déroule et,"
   ]
  },
  {
   "cell_type": "markdown",
   "metadata": {
    "slideshow": {
     "slide_type": "fragment"
    }
   },
   "source": [
    "3. à chaque tour de celle-ci..."
   ]
  },
  {
   "cell_type": "markdown",
   "metadata": {
    "slideshow": {
     "slide_type": "fragment"
    }
   },
   "source": [
    "4. `<expr>` est *évaluée* et sa valeur est ajoutée à la liste en cours de construction."
   ]
  },
  {
   "cell_type": "markdown",
   "metadata": {
    "slideshow": {
     "slide_type": "subslide"
    }
   },
   "source": [
    "```python\n",
    "liste = [ <expr> for <var1> in <conteneur1> for <var2> in <conteneur2> ]\n",
    "```"
   ]
  },
  {
   "cell_type": "markdown",
   "metadata": {
    "slideshow": {
     "slide_type": "fragment"
    }
   },
   "source": [
    "est équivalent à:\n",
    "\n",
    "```python\n",
    "liste = []\n",
    "for <var1> in <conteneur1>:\n",
    "    for <var2> in <conteneur2>:\n",
    "        valeur = <expr>\n",
    "        liste.append(valeur)\n",
    "```"
   ]
  },
  {
   "cell_type": "code",
   "execution_count": null,
   "metadata": {
    "slideshow": {
     "slide_type": "subslide"
    }
   },
   "outputs": [],
   "source": [
    "# exemple\n",
    "l1 = [\n",
    "    mot[n:] # <expr>\n",
    "    for mot in [\"liste\", \"compréhension\"] # <var1> <-> mot \n",
    "    for n in [0, 1, 2] # <var2> <-> n\n",
    "]\n",
    "\n",
    "print(l1)"
   ]
  },
  {
   "cell_type": "code",
   "execution_count": null,
   "metadata": {
    "slideshow": {
     "slide_type": "fragment"
    }
   },
   "outputs": [],
   "source": [
    "# est équivalent à\n",
    "l2 = []\n",
    "for mot in [\"liste\", \"compréhension\"]:\n",
    "    for n in [0, 1, 2]:\n",
    "        valeur = mot[n:]\n",
    "        l2.append(valeur)\n",
    "\n",
    "print(l2)"
   ]
  },
  {
   "cell_type": "code",
   "execution_count": null,
   "metadata": {
    "slideshow": {
     "slide_type": "fragment"
    }
   },
   "outputs": [],
   "source": [
    "# vérification\n",
    "assert l1 == l2, \"y'a quelquechose qui cloche!\""
   ]
  },
  {
   "cell_type": "markdown",
   "metadata": {
    "slideshow": {
     "slide_type": "slide"
    }
   },
   "source": [
    "## Troisième forme: boucle sous condition (filtre)"
   ]
  },
  {
   "cell_type": "markdown",
   "metadata": {
    "slideshow": {
     "slide_type": "fragment"
    }
   },
   "source": [
    "```python\n",
    "[ <expr> for <var> in <conteneur1> if <cond> ]\n",
    "```"
   ]
  },
  {
   "cell_type": "markdown",
   "metadata": {
    "slideshow": {
     "slide_type": "fragment"
    }
   },
   "source": [
    "À chaque tour de boucle, l'expression est évaluée **à la condition que** `<cond>` soit vraie.\n",
    "    "
   ]
  },
  {
   "cell_type": "markdown",
   "metadata": {
    "slideshow": {
     "slide_type": "subslide"
    }
   },
   "source": [
    "```python\n",
    "liste = [ <expr> for <var> in <conteneur1> if <cond> ]\n",
    "```"
   ]
  },
  {
   "cell_type": "markdown",
   "metadata": {
    "slideshow": {
     "slide_type": "fragment"
    }
   },
   "source": [
    "C'est équivalent à:\n",
    "    \n",
    "```python\n",
    "liste = []\n",
    "for <var> in <conteneur>:\n",
    "    if <cond>:\n",
    "        valeur = <expr>\n",
    "        liste.append(valeur)\n",
    "```\n",
    "    "
   ]
  },
  {
   "cell_type": "code",
   "execution_count": null,
   "metadata": {
    "slideshow": {
     "slide_type": "subslide"
    }
   },
   "outputs": [],
   "source": [
    "# exemple:\n",
    "l1 = [\n",
    "    mot.upper() # <expr>: mot en majuscule \n",
    "    for mot in [\"syntaxe\", \"en\", \"compréhension\"] # <var> <-> mot; <conteneur> <-> [...]\n",
    "    if \"a\" not in mot\n",
    "]\n",
    "\n",
    "print(l1)"
   ]
  },
  {
   "cell_type": "code",
   "execution_count": null,
   "metadata": {
    "slideshow": {
     "slide_type": "fragment"
    }
   },
   "outputs": [],
   "source": [
    "# équivalent à:\n",
    "l2 = []\n",
    "for mot in [\"syntaxe\", \"en\", \"compréhension\"]:\n",
    "    if \"a\" not in mot:\n",
    "        valeur = mot.upper() # l'expression est évaluée et mémorisée\n",
    "        l2.append(valeur) # on l'ajoute à la fin de la liste en cours de construction.\n",
    "\n",
    "print(l2)"
   ]
  },
  {
   "cell_type": "code",
   "execution_count": null,
   "metadata": {
    "slideshow": {
     "slide_type": "fragment"
    }
   },
   "outputs": [],
   "source": [
    "# vérifications\n",
    "assert l1 == l2, \"y'a quelquechose qui cloche!\""
   ]
  }
 ],
 "metadata": {
  "celltoolbar": "Diaporama",
  "kernelspec": {
   "display_name": "Python 3",
   "language": "python",
   "name": "python3"
  },
  "language_info": {
   "codemirror_mode": {
    "name": "ipython",
    "version": 3
   },
   "file_extension": ".py",
   "mimetype": "text/x-python",
   "name": "python",
   "nbconvert_exporter": "python",
   "pygments_lexer": "ipython3",
   "version": "3.6.8"
  }
 },
 "nbformat": 4,
 "nbformat_minor": 4
}
