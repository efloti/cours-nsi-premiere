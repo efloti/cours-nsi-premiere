{
 "cells": [
  {
   "cell_type": "markdown",
   "metadata": {},
   "source": [
    "# Complément: les n-uplets ou tuple nommés de la librairie standard\n",
    "\n"
   ]
  },
  {
   "cell_type": "markdown",
   "metadata": {},
   "source": [
    "Les *p-uplets nommés* - `namedtuple` - sont définies dans le paquet `collections` de la librairie standard (livrée avec Python).\n",
    "\n",
    "Il faut donc les importer pour pouvoir les utiliser:"
   ]
  },
  {
   "cell_type": "code",
   "execution_count": null,
   "metadata": {},
   "outputs": [],
   "source": [
    "from collections import namedtuple"
   ]
  },
  {
   "cell_type": "markdown",
   "metadata": {
    "slideshow": {
     "slide_type": "subslide"
    }
   },
   "source": [
    "la fonction `namedtuple` sert à produire un *constructeur* c'est-à-dire *une fonction* dont le rôle est de produire le n-uplet nommé voulu.\n",
    "\n",
    "*Une fonction qui produit une fonction ça laisse songeur non?*\n",
    "\n",
    "Sa syntaxe est `mon_constructeur = namedtuple(<nom_du_type>, <descripteurs>)`"
   ]
  },
  {
   "cell_type": "code",
   "execution_count": null,
   "metadata": {},
   "outputs": [],
   "source": [
    "Personne = namedtuple('Personne', ('nom', 'prenom', 'age'))"
   ]
  },
  {
   "cell_type": "markdown",
   "metadata": {
    "slideshow": {
     "slide_type": "subslide"
    }
   },
   "source": [
    "`Personne` est alors un *constructeur* de p-uplets nommés:\n",
    "- de type 'Personne' dont les **descripteurs** ou attributs sont:\n",
    "    - 'nom',\n",
    "    - 'prenom',\n",
    "    - 'age'.\n",
    "\n",
    "On l'utilise pour construire une «Personne» selon la syntaxe:\n",
    "- `une_personne = Personne(<valeur du premier descripteur>, <valeur du second>, ...)`"
   ]
  },
  {
   "cell_type": "code",
   "execution_count": null,
   "metadata": {},
   "outputs": [],
   "source": [
    "moi = Personne('Florent', 'étienne', 43)\n",
    "print(f'le type de \"moi\" est:\\n\\t {type(moi)}\\n Ma représentation affichable est:\\n\\t {moi}')"
   ]
  },
  {
   "cell_type": "markdown",
   "metadata": {
    "slideshow": {
     "slide_type": "subslide"
    }
   },
   "source": [
    "On peut alors récupérer la valeur d'un descripteur avec la syntaxe:\n",
    "- `une_personne.<nom_descripteur>`\n",
    "- ou bien à l'aide de l'*index* du descripteur `une_personne[i]`"
   ]
  },
  {
   "cell_type": "code",
   "execution_count": null,
   "metadata": {},
   "outputs": [],
   "source": [
    "moi.prenom"
   ]
  },
  {
   "cell_type": "code",
   "execution_count": null,
   "metadata": {},
   "outputs": [],
   "source": [
    "moi[1]"
   ]
  },
  {
   "cell_type": "markdown",
   "metadata": {
    "slideshow": {
     "slide_type": "subslide"
    }
   },
   "source": [
    "Le résultat du code qui suit ne devrait pas vous surprendre ..."
   ]
  },
  {
   "cell_type": "code",
   "execution_count": null,
   "metadata": {},
   "outputs": [],
   "source": [
    "moi[0] == moi.nom, moi[-1] == 50, moi.age == 43"
   ]
  },
  {
   "cell_type": "markdown",
   "metadata": {},
   "source": [
    "Celui ci non plus ..."
   ]
  },
  {
   "cell_type": "code",
   "execution_count": null,
   "metadata": {},
   "outputs": [],
   "source": [
    "nom_complet = f'{moi.prenom} {moi.nom}'\n",
    "nom_complet"
   ]
  },
  {
   "cell_type": "markdown",
   "metadata": {
    "slideshow": {
     "slide_type": "subslide"
    }
   },
   "source": [
    "Ni celui là ... (quoi que)"
   ]
  },
  {
   "cell_type": "code",
   "execution_count": null,
   "metadata": {},
   "outputs": [],
   "source": [
    "for c in moi:\n",
    "    print(c)"
   ]
  },
  {
   "cell_type": "markdown",
   "metadata": {},
   "source": [
    "On peut «déballer» -*unpacking*- un tuple nommé (comme un tuple normal):"
   ]
  },
  {
   "cell_type": "code",
   "execution_count": null,
   "metadata": {},
   "outputs": [],
   "source": [
    "nom, prenom, age = moi"
   ]
  },
  {
   "cell_type": "code",
   "execution_count": null,
   "metadata": {},
   "outputs": [],
   "source": [
    "f\"Je m'appelle {prenom.capitalize()} {nom.upper()} et j'ai {age} ans.\""
   ]
  },
  {
   "cell_type": "markdown",
   "metadata": {},
   "source": [
    "### À faire toi-même"
   ]
  },
  {
   "cell_type": "markdown",
   "metadata": {},
   "source": [
    "Écris une fonction `csv_vers_tableau(csv)` qui prend un argument une chaîne de caractères au format csv et renvoie un tableau de «vrais» n-uplets nommés. \n",
    "\n",
    "Chaque n-uplets nommés correspond à un «objet» (ligne) de la collection en csv. "
   ]
  },
  {
   "cell_type": "code",
   "execution_count": null,
   "metadata": {},
   "outputs": [],
   "source": [
    "def csv_vers_tableau(csv):\n",
    "    \"\"\"Prend en argument une chaîne au format csv et renvoie le tableau de n-uplet nommés de type 'Objet' correspondant.\n",
    "    ex: Pour csv == \"a,b\\n1,2\\n3,4\", elle renvoie [Objet(a='1',b='2'), Objet(a='3',b='4')]\n",
    "    \"\"\"...\n",
    "    from collections import namedtuple\n",
    "    descripteurs, *___ = [___(obj.split(___)) for obj in ___.split(___)]\n",
    "    \n",
    "    Objet = namedtuple('Objet', ___)\n",
    "    return [___]"
   ]
  },
  {
   "cell_type": "markdown",
   "metadata": {},
   "source": [
    "**correction**"
   ]
  },
  {
   "cell_type": "code",
   "execution_count": null,
   "metadata": {
    "jupyter": {
     "source_hidden": true
    }
   },
   "outputs": [],
   "source": [
    "# correction\n",
    "def csv_vers_tableau(csv, sep=','):\n",
    "    \"\"\"Prend en argument une chaîne au format csv et renvoie le tableau de n-uplet nommés de type 'Objet' correspondant.\n",
    "    ex: Pour csv == \"a,b\\n1,2\\n3,4\", elle renvoie [Objet(a='1',b='2'), Objet(a='3',b='4')]\n",
    "    \"\"\"\n",
    "    from collections import namedtuple\n",
    "    descripteurs, *objets = [tuple(obj.split(sep)) for obj in csv.split('\\n')]\n",
    "    \n",
    "    Objet = namedtuple('Objet', descripteurs)\n",
    "    return [Objet(*obj) for obj in objets]\n",
    "\n",
    "csv_vers_tableau(\"a,b\\n1,2\\n3,4\")"
   ]
  },
  {
   "cell_type": "code",
   "execution_count": null,
   "metadata": {},
   "outputs": [],
   "source": [
    "# Pour tester\n",
    "from collections import namedtuple\n",
    "Objet = namedtuple('Objet', ('a', 'b'))\n",
    "assert csv_vers_tableau(\"a,b\\n1,2\\n3,4\") == [Objet(a='1', b='2'), Objet(a='3', b='4')]"
   ]
  }
 ],
 "metadata": {
  "kernelspec": {
   "display_name": "Python 3",
   "language": "python",
   "name": "python3"
  },
  "language_info": {
   "codemirror_mode": {
    "name": "ipython",
    "version": 3
   },
   "file_extension": ".py",
   "mimetype": "text/x-python",
   "name": "python",
   "nbconvert_exporter": "python",
   "pygments_lexer": "ipython3",
   "version": "3.6.8"
  }
 },
 "nbformat": 4,
 "nbformat_minor": 4
}
