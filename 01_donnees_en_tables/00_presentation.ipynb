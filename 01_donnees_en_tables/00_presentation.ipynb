{
 "cells": [
  {
   "cell_type": "markdown",
   "metadata": {},
   "source": [
    "# Traitement des données en tables - application à la construction d'une carte interactive simple."
   ]
  },
  {
   "cell_type": "markdown",
   "metadata": {},
   "source": [
    "## Objectif\n",
    "\n",
    "Développer une maîtrise satisfante de la création et du traitement des tableaux de données. Étre en mesure de les exploiter dans un mini-projet de bout en bout."
   ]
  },
  {
   "cell_type": "markdown",
   "metadata": {},
   "source": [
    "## Pré-requis:\n",
    "- avoir une maîtrise des fondamentaux de la programmation: données et leurs types; fonction; affectation; branchement avec if; boucles for et while\n",
    "- Connaître les constructions correspondantes dans le langage Python3 et notamment:\n",
    "    - bonne manipulation des chaînes de caractères\n",
    "    - distinguer les tuples des listes\n",
    "    - maîtriser les algorithmes simples de constructions d'une valeur en modifiant itérativement un accumulateur\n",
    "    - ...\n",
    "- les élèves ont l'habitude de travailler dans un notebook: ajouter/modifier du texte, éxécuter du code, ajouter/modifier des cellules etc.\n",
    "- de plus, ils ont (ou sont entrain de prendre) l'habitude d'écrire des assertions sur le code avant d'écrire le code."
   ]
  },
  {
   "cell_type": "markdown",
   "metadata": {},
   "source": [
    "## Sujets abordés:\n",
    "- boucles imbriqués,\n",
    "- construction d'une liste ou d'un dictionnaire suivant la syntaxe en compréhension,\n",
    "- format csv et ses turpitudes,\n",
    "- n-uplets (ou tuples) nommés: avec un dictionnaire ou en utilisant la bibliothèque standard (en complément),\n",
    "- conversion csv vers table de données comme liste de n-uplets nommés,\n",
    "- principales opérations sur des données en tables: pré-traitement, sélection, projection, tri selon un ou plusieurs descripteurs.\n",
    "- utiliser une bibliothèque en vue de réaliser une application: ipyleaflet"
   ]
  },
  {
   "cell_type": "markdown",
   "metadata": {},
   "source": [
    "## Moyen utilisé: \n",
    "- Les élèves ont tous accès à un hub jupyter (éventuellement à l'aide d'un outil comme binder)\n",
    "- ils copient le document source (qui est un notebook) et le modifient à leur guise:\n",
    "     - exécution des portions de codes; \n",
    "     - compléter des portions de textes manquantes;\n",
    "     - ajouter ou modifier une cellule pour répondre à une question (code ou texte)"
   ]
  },
  {
   "cell_type": "markdown",
   "metadata": {},
   "source": [
    "## Durée\n",
    "\n",
    "Entre deux et trois semaines (entre 8h et 12h)."
   ]
  }
 ],
 "metadata": {
  "kernelspec": {
   "display_name": "Python 3",
   "language": "python",
   "name": "python3"
  },
  "language_info": {
   "codemirror_mode": {
    "name": "ipython",
    "version": 3
   },
   "file_extension": ".py",
   "mimetype": "text/x-python",
   "name": "python",
   "nbconvert_exporter": "python",
   "pygments_lexer": "ipython3",
   "version": "3.6.8"
  }
 },
 "nbformat": 4,
 "nbformat_minor": 4
}
