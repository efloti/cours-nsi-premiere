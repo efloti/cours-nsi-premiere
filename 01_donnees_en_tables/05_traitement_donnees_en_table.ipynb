{
 "cells": [
  {
   "cell_type": "markdown",
   "metadata": {
    "toc-hr-collapsed": false
   },
   "source": [
    "# Traitement des données en tables"
   ]
  },
  {
   "cell_type": "markdown",
   "metadata": {},
   "source": [
    "[Vidéo d'accompagnement 2](https://vimeo.com/534400395)"
   ]
  },
  {
   "cell_type": "markdown",
   "metadata": {},
   "source": [
    "Dans cette section, nous supposons disposer d'une table de n-uplets nommés (à l'aide de dictionnaires) et donc de la forme:\n",
    "\n",
    "```python\n",
    "[\n",
    "    {\"descr1\": \"val1\", \"descr2\": \"val2\",...},\n",
    "    {\"descr1\": \"val'1\", ...}, \n",
    "    ...\n",
    "]\n",
    "```\n",
    "\n",
    "qui représente un **tableau** de données de la forme:\n",
    "\n",
    "| descr1   | descr2           | ...  |\n",
    "| :-------------:|:-------------:|:-----:|\n",
    "| val1      | val2 | ... |\n",
    "| val'1      | ...      |   ... |\n",
    "| ... | ...   |    ... |"
   ]
  },
  {
   "cell_type": "markdown",
   "metadata": {},
   "source": [
    "**Notre objectif est** d'apprendre à réaliser certaines **opérations incontournables** sur ce genre de données:\n",
    "- **«pré-traitements»**: adapter le **type** de certaines données,\n",
    "- **projection**: sélectionner certaines «**colonnes**» ou descripteurs,\n",
    "- **sélection**: sélectionner certaines «**lignes**» ou enregistrements,\n",
    "- **trier** les lignes ou enregistrements,\n",
    "- **fusionner**: produire un tableau sur la base de deux autres. "
   ]
  },
  {
   "cell_type": "markdown",
   "metadata": {},
   "source": [
    "Voici la table que nous utiliserons pour illustrer/tester ces opérations."
   ]
  },
  {
   "cell_type": "code",
   "execution_count": null,
   "metadata": {},
   "outputs": [],
   "source": [
    "table_test = [\n",
    "    {'n_client': '1212', 'nom': 'Lacasse'  , 'prenom': 'Aubrey'   , 'ville': 'Annecy'  , 'position': '45.900000,6.116667'},\n",
    "    {'n_client': '1343', 'nom': 'Primeau'  , 'prenom': 'Angelette', 'ville': 'Tours'   , 'position': '47.383333,0.683333'},\n",
    "    {'n_client': '2454', 'nom': 'Gabriaux' , 'prenom': 'Julie'    , 'ville': 'Bordeaux', 'position': '44.833333,-0.566667'},\n",
    "    {'n_client': '895' , 'nom': 'Gaulin'   , 'prenom': 'Dorene'   , 'ville': 'Lyon'    , 'position': '45.750000,4.850000'},\n",
    "    {'n_client': '2324', 'nom': 'Jobin'    , 'prenom': 'Aubrey'   , 'ville': 'Bourges' , 'position': '47.083333,2.400000'},\n",
    "    {'n_client': '34'  , 'nom': 'Boncoeur' , 'prenom': 'Kari'     , 'ville': 'Nantes'  , 'position': '47.216667,-1.550000'},\n",
    "    {'n_client': '1221', 'nom': 'Parizeau' , 'prenom': 'Olympia'  , 'ville': 'Metz'    , 'position': '49.133333,6.166667'},\n",
    "    {'n_client': '1114', 'nom': 'Paiement' , 'prenom': 'Inès'     , 'ville': 'Bordeaux', 'position': '44.833333,-0.566667'},\n",
    "    {'n_client': '3435', 'nom': 'Chrétien' , 'prenom': 'Adèle'    , 'ville': 'Moulin'  , 'position': '46.566667,3.333333'},\n",
    "    {'n_client': '5565', 'nom': 'Neufville', 'prenom': 'Ila'      , 'ville': 'Toulouse', 'position': '43.600000,1.433333'},\n",
    "    {'n_client': '2221', 'nom': 'Larivière', 'prenom': 'Alice'    , 'ville': 'Tours'   , 'position': '47.383333,0.683333'},\n",
    "]"
   ]
  },
  {
   "cell_type": "markdown",
   "metadata": {},
   "source": [
    "#### Exercice 1"
   ]
  },
  {
   "cell_type": "markdown",
   "metadata": {},
   "source": [
    "Quels sont les descripteurs de cette table? **réponse**: ______"
   ]
  },
  {
   "cell_type": "code",
   "execution_count": null,
   "metadata": {},
   "outputs": [],
   "source": [
    "# combien comporte-t-elle de lignes? de colonnes? réponses: ____"
   ]
  },
  {
   "cell_type": "markdown",
   "metadata": {},
   "source": [
    "Quel est le type commun de toutes les valeurs? **réponse**: ______\n",
    "_____"
   ]
  },
  {
   "cell_type": "markdown",
   "metadata": {
    "toc-hr-collapsed": true,
    "toc-nb-collapsed": true
   },
   "source": [
    "## Complément Python: Parcours d'un dictionnaire"
   ]
  },
  {
   "cell_type": "markdown",
   "metadata": {},
   "source": [
    "Lorsqu'on utilise la syntaxe `for <var> in <dictionnaire>`, la variable de boucle contient une nouvelle **clé** du dictionnaire à chaque *itération*."
   ]
  },
  {
   "cell_type": "code",
   "execution_count": null,
   "metadata": {},
   "outputs": [],
   "source": [
    "test = {\"un\": 1, \"deux\": 2, \"3\": \"trois\"}\n",
    "for var in test:\n",
    "    print(var)"
   ]
  },
  {
   "cell_type": "markdown",
   "metadata": {},
   "source": [
    "À partir de la clé, on peut facilement récupérer la valeur associée dans la paire clé-valeur avec la syntaxe `dico[cle]`:"
   ]
  },
  {
   "cell_type": "code",
   "execution_count": null,
   "metadata": {},
   "outputs": [],
   "source": [
    "test = {\"un\": 1, \"deux\": 2, \"3\": \"trois\"}\n",
    "for var in test:\n",
    "    print(test[var])"
   ]
  },
  {
   "cell_type": "markdown",
   "metadata": {},
   "source": [
    "Mais il est plus pratique de récupérer directement **la clé et la valeur** dans la variable de boucle. On peut faire cela en utilisant la méthode `dict.items()` dans la boucle:"
   ]
  },
  {
   "cell_type": "code",
   "execution_count": null,
   "metadata": {},
   "outputs": [],
   "source": [
    "test = {\"un\": 1, \"deux\": 2, \"3\": \"trois\"}\n",
    "for var in test.items():\n",
    "    print(var)"
   ]
  },
  {
   "cell_type": "markdown",
   "metadata": {},
   "source": [
    "Comme vous le constatez, à chaque itération la variable de boucle reçoit un *tuple de taille 2*, on peut récupérer directement chaque composante comme suit:"
   ]
  },
  {
   "cell_type": "code",
   "execution_count": null,
   "metadata": {},
   "outputs": [],
   "source": [
    "test = {\"un\": 1, \"deux\": 2, \"3\": \"trois\"}\n",
    "for cle, val in test.items():\n",
    "    print(f\"{cle} => {val}\")"
   ]
  },
  {
   "cell_type": "markdown",
   "metadata": {},
   "source": [
    "**Retenir**\n",
    "\n",
    "> si `d` est un dictionnaire, `for cle, val in d.items()` récupère une nouvelle paire clé-valeur à chaque itération de la boucle."
   ]
  },
  {
   "cell_type": "markdown",
   "metadata": {},
   "source": [
    "On peut utiliser cela dans l'écriture en compréhension pour «transformer» un dictionnaire."
   ]
  },
  {
   "cell_type": "code",
   "execution_count": null,
   "metadata": {},
   "outputs": [],
   "source": [
    "test = {\"entier\":\"13\", \"chaine\": \"python\", \"flottant\": \"3.14\", \"booleen\": \"Oui\", \"tuple_entiers\": \"4,5,6\"}"
   ]
  },
  {
   "cell_type": "markdown",
   "metadata": {},
   "source": [
    "On peut vouloir «oublier» certaines paires:"
   ]
  },
  {
   "cell_type": "code",
   "execution_count": null,
   "metadata": {},
   "outputs": [],
   "source": [
    "{c: v for c, v in test.items() if c not in [\"chaine\", \"booleen\"]}"
   ]
  },
  {
   "cell_type": "markdown",
   "metadata": {},
   "source": [
    "On peut vouloir *adapter* les **types** de certaines valeurs. Par exemple, dans le dictionnaire `test` la valeur associé à la clé \"entier\" est de type *str* et on voudrait un *int*:"
   ]
  },
  {
   "cell_type": "code",
   "execution_count": null,
   "metadata": {},
   "outputs": [],
   "source": [
    "def conv(c, v):\n",
    "    if c == \"entier\":\n",
    "        return int(v)\n",
    "    else:\n",
    "        return v\n",
    "\n",
    "{c: conv(c,v) for c, v in test.items()}"
   ]
  },
  {
   "cell_type": "markdown",
   "metadata": {},
   "source": [
    "Il est très courant de vouloir faire cela; pour cette raison (et d'autres...) Python propose l'opérateur *ternaire* `e1 if cond else e2` qui produit la valeur `e1` si `cond` vaut «vrai» et produit `e2` sinon:"
   ]
  },
  {
   "cell_type": "code",
   "execution_count": null,
   "metadata": {},
   "outputs": [],
   "source": [
    "{ \n",
    "  c: (float(v) if c == \"flottant\" else v) \n",
    "  for c, v in test.items()\n",
    "}"
   ]
  },
  {
   "cell_type": "markdown",
   "metadata": {},
   "source": [
    "Néanmoins, s'il y a trop de cas à traiter, l'écriture d'une fonction reste utile. Examinez attentivement cet exemple:"
   ]
  },
  {
   "cell_type": "code",
   "execution_count": null,
   "metadata": {},
   "outputs": [],
   "source": [
    "def adapter_types(c, v):\n",
    "    if c == \"entier\":\n",
    "        return int(v)\n",
    "    elif c == \"flottant\":\n",
    "        return float(v)\n",
    "    elif c == \"booleen\":\n",
    "        return (True if v == \"Oui\" else False)\n",
    "    elif c == \"tuple_entiers\":\n",
    "        # découper\n",
    "        vs = v.split(',')\n",
    "        # puis convertir chaque composante\n",
    "        vs = [int(v) for v in vs]\n",
    "        # puis tranformer la liste en tuple\n",
    "        return tuple(vs)\n",
    "    else:\n",
    "        return v\n",
    "\n",
    "{c:adapter_types(c, v) for c, v in test.items()}"
   ]
  },
  {
   "cell_type": "markdown",
   "metadata": {},
   "source": [
    "*Astuce*: il est possible d'utiliser une «compréhension de tuple» `tuple(...)` pour raccourcir le cas \"tuple_entiers\".\n",
    "Plus précisément, on pourrait remplacer cette partie par `return tuple( int(x) for x in v.split(',') )`. Essayez..."
   ]
  },
  {
   "cell_type": "markdown",
   "metadata": {},
   "source": [
    "> **Retenir**: Si `d` est un dictionnaire, on peut utiliser l'écriture en compréhension pour le *transformer*; notamment «oublier» certaines paires clé valeur avec `if` ou ajuster le type de certaines valeurs sur la base de leur clé."
   ]
  },
  {
   "cell_type": "markdown",
   "metadata": {
    "toc-hr-collapsed": true,
    "toc-nb-collapsed": true
   },
   "source": [
    "## Pré-traitement"
   ]
  },
  {
   "cell_type": "markdown",
   "metadata": {},
   "source": [
    "Pour rappel notre table de test est:"
   ]
  },
  {
   "cell_type": "code",
   "execution_count": null,
   "metadata": {},
   "outputs": [],
   "source": [
    "table_test = [\n",
    "    {'n_client': '1212', 'nom': 'Lacasse'  , 'prenom': 'Aubrey'   , 'ville': 'Annecy'  , 'position': '45.900000,6.116667'},\n",
    "    {'n_client': '1343', 'nom': 'Primeau'  , 'prenom': 'Angelette', 'ville': 'Tours'   , 'position': '47.383333,0.683333'},\n",
    "    {'n_client': '2454', 'nom': 'Gabriaux' , 'prenom': 'Julie'    , 'ville': 'Bordeaux', 'position': '44.833333,-0.566667'},\n",
    "    {'n_client': '895' , 'nom': 'Gaulin'   , 'prenom': 'Dorene'   , 'ville': 'Lyon'    , 'position': '45.750000,4.850000'},\n",
    "    {'n_client': '2324', 'nom': 'Jobin'    , 'prenom': 'Aubrey'   , 'ville': 'Bourges' , 'position': '47.083333,2.400000'},\n",
    "    {'n_client': '34'  , 'nom': 'Boncoeur' , 'prenom': 'Kari'     , 'ville': 'Nantes'  , 'position': '47.216667,-1.550000'},\n",
    "    {'n_client': '1221', 'nom': 'Parizeau' , 'prenom': 'Olympia'  , 'ville': 'Metz'    , 'position': '49.133333,6.166667'},\n",
    "    {'n_client': '1114', 'nom': 'Paiement' , 'prenom': 'Inès'     , 'ville': 'Bordeaux', 'position': '44.833333,-0.566667'},\n",
    "    {'n_client': '3435', 'nom': 'Chrétien' , 'prenom': 'Adèle'    , 'ville': 'Moulin'  , 'position': '46.566667,3.333333'},\n",
    "    {'n_client': '5565', 'nom': 'Neufville', 'prenom': 'Ila'      , 'ville': 'Toulouse', 'position': '43.600000,1.433333'},\n",
    "    {'n_client': '2221', 'nom': 'Larivière', 'prenom': 'Alice'    , 'ville': 'Tours'   , 'position': '47.383333,0.683333'},\n",
    "]"
   ]
  },
  {
   "cell_type": "markdown",
   "metadata": {},
   "source": [
    "On observe que certains **descripteurs** pourrait avoir un **type** plus précis que `str`, par exemple le descripteur `n_client` gagnerait a être de type `int`.\n",
    "\n",
    "Améliorons cela à l'aide de *l'écriture en compréhension*:"
   ]
  },
  {
   "cell_type": "code",
   "execution_count": null,
   "metadata": {},
   "outputs": [],
   "source": [
    "table_test_2 = [ # liste en compréhension: produit une liste de ...\n",
    "    { # ... dictionnaires ...\n",
    "        c: int(v) if c == 'n_client' else v # conversion de la valeur si le descripteur est 'n_client'\n",
    "        for c, v in enr.items() \n",
    "    }\n",
    "    # ... pour chaque enregistrement de la table d'origine.\n",
    "    for enr in table_test\n",
    "]\n",
    "# observe bien la valeur du descripteur 'n_client'\n",
    "table_test_2[:2]"
   ]
  },
  {
   "cell_type": "markdown",
   "metadata": {},
   "source": [
    "C'est encore un peu difficile à lire probablement? l'opérateur ternaire `e1 if cond else e2` n'est pas encore parfaitement clair? ni l'écriture en compréhension?\n",
    "\n",
    "Alors voici l'équivalent dans une fonction avec une boucle imbriquée."
   ]
  },
  {
   "cell_type": "code",
   "execution_count": null,
   "metadata": {},
   "outputs": [],
   "source": [
    "def conversion1(table):\n",
    "    tc = []  # table à construire\n",
    "    # pour chaque enregistrement\n",
    "    for l in table:\n",
    "        enr = {} # nouvel enregistrement\n",
    "        # pour chaque paire clé-valeur de l'enregistrement courant\n",
    "        for c, v in l.items():\n",
    "            # doit-on convertir en int?\n",
    "            if c == 'n_client':\n",
    "                enr[c] = int(v)\n",
    "            else:\n",
    "                enr[c] = v\n",
    "        # ajouter le nouvel enregistrement à la table en consruction\n",
    "        tc.append(enr)\n",
    "    return tc\n",
    "\n",
    "conversion1(table_test)"
   ]
  },
  {
   "cell_type": "markdown",
   "metadata": {},
   "source": [
    "Mais il y a un autre descripteur qui pose problème: `position`\n",
    "\n",
    "Son type est `str` au format `'<float>,<float>'`\n",
    "\n",
    "Nous voudrions que son type soit «`tuple` de `float`» c'est-à-dire passer par exemple de `'45.900000,6.116667'` à `(45.900000, 6.116667)`."
   ]
  },
  {
   "cell_type": "markdown",
   "metadata": {},
   "source": [
    "#### Exercice 2"
   ]
  },
  {
   "cell_type": "markdown",
   "metadata": {},
   "source": [
    "En t'inspirant de la conversion résolue précédente, transforme le descripteur `position` en un tuple de 2 floats."
   ]
  },
  {
   "cell_type": "code",
   "execution_count": null,
   "metadata": {},
   "outputs": [],
   "source": [
    "# avec une fonction\n",
    "def conversion2(table):\n",
    "    pass"
   ]
  },
  {
   "cell_type": "code",
   "execution_count": null,
   "metadata": {},
   "outputs": [],
   "source": [
    "# avec la syntaxe en compréhension (tu peux utiliser plusieurs étapes)\n"
   ]
  },
  {
   "cell_type": "markdown",
   "metadata": {},
   "source": [
    "_________"
   ]
  },
  {
   "cell_type": "markdown",
   "metadata": {
    "toc-hr-collapsed": true,
    "toc-nb-collapsed": true
   },
   "source": [
    "## Projection"
   ]
  },
  {
   "cell_type": "markdown",
   "metadata": {},
   "source": [
    "L'opération de **projection** consiste à «oublier» certaines «colonnes» du jeu de données."
   ]
  },
  {
   "cell_type": "markdown",
   "metadata": {},
   "source": [
    "On repart de la table ci-dessous:"
   ]
  },
  {
   "cell_type": "code",
   "execution_count": null,
   "metadata": {},
   "outputs": [],
   "source": [
    "table_test = [\n",
    "    {'n_client': 1212, 'nom': 'Lacasse'  , 'prenom': 'Aubrey'   , 'ville': 'Annecy'  , 'position': (45.900000,6.116667)},\n",
    "    {'n_client': 1343, 'nom': 'Primeau'  , 'prenom': 'Angelette', 'ville': 'Tours'   , 'position': (47.383333,0.683333)},\n",
    "    {'n_client': 2454, 'nom': 'Gabriaux' , 'prenom': 'Julie'    , 'ville': 'Bordeaux', 'position': (44.833333,-0.566667)},\n",
    "    {'n_client': 895 , 'nom': 'Gaulin'   , 'prenom': 'Dorene'   , 'ville': 'Lyon'    , 'position': (45.750000,4.850000)},\n",
    "    {'n_client': 2324, 'nom': 'Jobin'    , 'prenom': 'Aubrey'   , 'ville': 'Bourges' , 'position': (47.083333,2.400000)},\n",
    "    {'n_client': 34  , 'nom': 'Boncoeur' , 'prenom': 'Kari'     , 'ville': 'Nantes'  , 'position': (47.216667,-1.550000)},\n",
    "    {'n_client': 1221, 'nom': 'Parizeau' , 'prenom': 'Olympia'  , 'ville': 'Metz'    , 'position': (49.133333,6.166667)},\n",
    "    {'n_client': 1114, 'nom': 'Paiement' , 'prenom': 'Inès'     , 'ville': 'Bordeaux', 'position': (44.833333,-0.566667)},\n",
    "    {'n_client': 3435, 'nom': 'Chrétien' , 'prenom': 'Adèle'    , 'ville': 'Moulin'  , 'position': (46.566667,3.333333)},\n",
    "    {'n_client': 5565, 'nom': 'Neufville', 'prenom': 'Ila'      , 'ville': 'Toulouse', 'position': (43.600000,1.433333)},\n",
    "    {'n_client': 2221, 'nom': 'Larivière', 'prenom': 'Alice'    , 'ville': 'Tours'   , 'position': (47.383333,0.683333)},\n",
    "]"
   ]
  },
  {
   "cell_type": "markdown",
   "metadata": {},
   "source": [
    "Le problème est le suivant: étant donnée une liste de **descripteurs** *à oublier* (car chaque descripteur correspond à une «colonne» du jeu de données), produire la table de donnée correspondante."
   ]
  },
  {
   "cell_type": "markdown",
   "metadata": {},
   "source": [
    "*Exemple*: si `a_oublier = ['n_client', 'prenom', 'position']` alors l'enregistrement:\n",
    "\n",
    "    {'n_client': 1212, 'nom': 'Lacasse', 'prenom': 'Aubrey',\n",
    "     'ville': 'Annecy', 'position': (45.900000,6.116667)}\n",
    "doit être transformé en \n",
    "\n",
    "    {'nom': 'Lacasse', 'ville': 'Annecy'}`\n",
    "et ainsi de suite pour chaque enregistrement."
   ]
  },
  {
   "cell_type": "markdown",
   "metadata": {},
   "source": [
    "Voici une solution qui utilise une fonction:"
   ]
  },
  {
   "cell_type": "code",
   "execution_count": null,
   "metadata": {},
   "outputs": [],
   "source": [
    "def projection_par_oubli(tableau, a_oublier):\n",
    "    tsel = [] # pour notre nouveau tableau\n",
    "    # pour chaque enregistrement\n",
    "    for ligne in tableau:\n",
    "        enr = {} # pour notre nouvel enregistrement\n",
    "        # pour chaque paire clé-valeur de l'enregistrement courant\n",
    "        for c, v in ligne.items():\n",
    "            if not c in a_oublier:\n",
    "                # on conserve cette paire\n",
    "                enr[c] = v\n",
    "        # ajoutons notre nouvel enregistrement\n",
    "        tsel.append(enr)\n",
    "    return tsel\n",
    "\n",
    "projection_par_oubli(table_test, ['n_client', 'prenom', 'position'])"
   ]
  },
  {
   "cell_type": "markdown",
   "metadata": {},
   "source": [
    "Mais il est bien plus simple d'utiliser l'*écriture en compréhension* dans ce cas..."
   ]
  },
  {
   "cell_type": "markdown",
   "metadata": {},
   "source": [
    "#### Exercice 3"
   ]
  },
  {
   "cell_type": "markdown",
   "metadata": {},
   "source": [
    "1. Peux-tu réaliser la même chose avec la notation en compréhension en complétant ce qui suit?"
   ]
  },
  {
   "cell_type": "code",
   "execution_count": null,
   "metadata": {},
   "outputs": [],
   "source": [
    "a_oublier = ['n_client', 'prenom', 'position']\n",
    "[\n",
    "    { ... } \n",
    "    for enr in table_test\n",
    "]"
   ]
  },
  {
   "cell_type": "code",
   "execution_count": null,
   "metadata": {
    "jupyter": {
     "source_hidden": true
    }
   },
   "outputs": [],
   "source": [
    "a_oublier = ['n_client', 'prenom', 'position']\n",
    "[\n",
    "    { c: v for c, v in enr.items() if c not in a_oublier } \n",
    "    for enr in table_test\n",
    "]"
   ]
  },
  {
   "cell_type": "markdown",
   "metadata": {},
   "source": [
    "2. Écris une fonction `projection(tableau, a_conserver)` qui prend en argument le tableau de données et la liste des descripteurs **à conserver**; elle renvoie le tableau «projeté»."
   ]
  },
  {
   "cell_type": "code",
   "execution_count": null,
   "metadata": {
    "jupyter": {
     "source_hidden": true
    }
   },
   "outputs": [],
   "source": [
    "def projection(tableau, a_conserver):\n",
    "    return [\n",
    "        { c:v for c, v in enr.items() if c in a_conserver }\n",
    "        for enr in tableau\n",
    "    ]\n",
    "\n",
    "#test\n",
    "projection(table_test, ['nom', 'ville'])"
   ]
  },
  {
   "cell_type": "markdown",
   "metadata": {},
   "source": [
    "_____"
   ]
  },
  {
   "cell_type": "markdown",
   "metadata": {
    "toc-hr-collapsed": true,
    "toc-nb-collapsed": true
   },
   "source": [
    "## Sélection"
   ]
  },
  {
   "cell_type": "markdown",
   "metadata": {},
   "source": [
    "On souhaite à présent transformer le tableau en ne conservant que les *enregistrements* qui respectent *un certain critère*; autrement dit on veut **sélectionner certaines lignes** (et abandonner les autres)."
   ]
  },
  {
   "cell_type": "code",
   "execution_count": null,
   "metadata": {},
   "outputs": [],
   "source": [
    "table_test = [\n",
    "    {'n_client': 1212, 'nom': 'Lacasse'  , 'prenom': 'Aubrey'   , 'ville': 'Annecy'  , 'position': (45.900000,6.116667)},\n",
    "    {'n_client': 1343, 'nom': 'Primeau'  , 'prenom': 'Angelette', 'ville': 'Tours'   , 'position': (47.383333,0.683333)},\n",
    "    {'n_client': 2454, 'nom': 'Gabriaux' , 'prenom': 'Julie'    , 'ville': 'Bordeaux', 'position': (44.833333,-0.566667)},\n",
    "    {'n_client': 895 , 'nom': 'Gaulin'   , 'prenom': 'Dorene'   , 'ville': 'Lyon'    , 'position': (45.750000,4.850000)},\n",
    "    {'n_client': 2324, 'nom': 'Jobin'    , 'prenom': 'Aubrey'   , 'ville': 'Bourges' , 'position': (47.083333,2.400000)},\n",
    "    {'n_client': 34  , 'nom': 'Boncoeur' , 'prenom': 'Kari'     , 'ville': 'Nantes'  , 'position': (47.216667,-1.550000)},\n",
    "    {'n_client': 1221, 'nom': 'Parizeau' , 'prenom': 'Olympia'  , 'ville': 'Metz'    , 'position': (49.133333,6.166667)},\n",
    "    {'n_client': 1114, 'nom': 'Paiement' , 'prenom': 'Inès'     , 'ville': 'Bordeaux', 'position': (44.833333,-0.566667)},\n",
    "    {'n_client': 3435, 'nom': 'Chrétien' , 'prenom': 'Adèle'    , 'ville': 'Moulin'  , 'position': (46.566667,3.333333)},\n",
    "    {'n_client': 5565, 'nom': 'Neufville', 'prenom': 'Ila'      , 'ville': 'Toulouse', 'position': (43.600000,1.433333)},\n",
    "    {'n_client': 2221, 'nom': 'Larivière', 'prenom': 'Alice'    , 'ville': 'Tours'   , 'position': (47.383333,0.683333)},\n",
    "]"
   ]
  },
  {
   "cell_type": "markdown",
   "metadata": {},
   "source": [
    "Par exemple, on pourrait vouloir sélectionner les clients qui habitent à tours. Avec une fonction, cela donne:"
   ]
  },
  {
   "cell_type": "code",
   "execution_count": null,
   "metadata": {},
   "outputs": [],
   "source": [
    "def selection_exemple(tableau):\n",
    "    tsel = []\n",
    "    for enr in tableau:\n",
    "        if enr['ville'] == 'Tours':\n",
    "            tsel.append(enr)\n",
    "    return tsel\n",
    "\n",
    "selection_exemple(table_test)"
   ]
  },
  {
   "cell_type": "markdown",
   "metadata": {},
   "source": [
    "mais l'écriture en compréhension est bien plus simple!"
   ]
  },
  {
   "cell_type": "code",
   "execution_count": null,
   "metadata": {},
   "outputs": [],
   "source": [
    "[ enr for enr in table_test if enr['ville'] == 'Tours' ]"
   ]
  },
  {
   "cell_type": "markdown",
   "metadata": {},
   "source": [
    "#### Exercice 4"
   ]
  },
  {
   "cell_type": "markdown",
   "metadata": {},
   "source": [
    "1. Écris une fonction `selection2` qui renvoie le tableau en ne conservant que les enregistrements dont le numéro de client `\"n_client\"` est dans l'intervalle `[1000;3000]`."
   ]
  },
  {
   "cell_type": "code",
   "execution_count": null,
   "metadata": {},
   "outputs": [],
   "source": [
    "def selection2(tableau):\n",
    "    pass\n",
    "\n",
    "selection2(table_test)"
   ]
  },
  {
   "cell_type": "code",
   "execution_count": null,
   "metadata": {
    "jupyter": {
     "source_hidden": true
    }
   },
   "outputs": [],
   "source": [
    "def selection2(tableau):\n",
    "    tsel = []\n",
    "    for enr in tableau:\n",
    "        if 1000 <= enr['n_client'] <= 3000:\n",
    "            tsel.append(enr)\n",
    "    return tsel\n",
    "\n",
    "# ou mieux!\n",
    "def selection2_bis(tableau):\n",
    "    return [e for e in tableau if 1000 <= e['n_client'] <= 3000]\n",
    "\n",
    "selection2(table_test)"
   ]
  },
  {
   "cell_type": "markdown",
   "metadata": {},
   "source": [
    "2. Écris une fonction `selection3` qui sélectionne les enregistrements dont la longitude est positive - `\"position\": <(lat., long.)>` - et dont le `prenom` débute par un 'A'.\n",
    "\n",
    "   *Note*: les caractères d'un `str` sont *indexés*. si `c=\"Python\"` alors `c[0]` vaut \"P\"."
   ]
  },
  {
   "cell_type": "code",
   "execution_count": null,
   "metadata": {},
   "outputs": [],
   "source": [
    "def selection3(tableau):\n",
    "    pass\n",
    "\n",
    "selection3(table_test)"
   ]
  },
  {
   "cell_type": "code",
   "execution_count": null,
   "metadata": {
    "jupyter": {
     "source_hidden": true
    }
   },
   "outputs": [],
   "source": [
    "def selection3(tableau):\n",
    "    tsel = []\n",
    "    for enr in tableau:\n",
    "        if enr['position'][1] >= 0 and enr['prenom'][0] == 'A':\n",
    "            tsel.append(enr)\n",
    "    return tsel\n",
    "\n",
    "def selection3_bis(tableau):\n",
    "    return [\n",
    "        e for e in tableau\n",
    "        if e['position'][0] >= 0 and e['prenom'][0] == 'A'\n",
    "    ]\n",
    "\n",
    "selection3(table_test)"
   ]
  },
  {
   "cell_type": "markdown",
   "metadata": {},
   "source": [
    "____"
   ]
  },
  {
   "cell_type": "markdown",
   "metadata": {
    "toc-hr-collapsed": false
   },
   "source": [
    "### Une fonction qui prend en argument une autre fonction!"
   ]
  },
  {
   "cell_type": "markdown",
   "metadata": {},
   "source": [
    "Il est simple d'adapter le code précédent pour sélectionner selon un autre critère, mais il faut observer qu'*on fait toujours la même chose*:\n",
    "\n",
    "<pre>\n",
    "    <strong>Pour</strong> chaque enregistrement du jeu de donnees:\n",
    "        <strong>Si</strong> cet enregistrement vérifie le <strong>critère</strong>:\n",
    "            l'ajouter a l'accumulateur\n",
    "</pre>\n",
    "\n",
    "Seul le **critère** change!"
   ]
  },
  {
   "cell_type": "markdown",
   "metadata": {},
   "source": [
    "On peut faire bien mieux en suivant ces étapes:\n",
    "1. *Définir un* **filtre**: une fonction qui, *étant donné un enregistrement*, renvoie un **booléen**:\n",
    "   - `True` si l'enregistrement respecte un certain critère, `False` autrement.\n",
    "2. *Adapter* la fonction de **sélection** de façon à ce qu'elle puisse *recevoir la fonction **filtre** en argument*.\n",
    "\n",
    "Commençons par l'**étape 2** :-o"
   ]
  },
  {
   "cell_type": "code",
   "execution_count": null,
   "metadata": {},
   "outputs": [],
   "source": [
    "def selection(tableau, filtre_fn):\n",
    "    tsel = []\n",
    "    for enr in tableau:\n",
    "        # rappel: filtre_fn est une fonction qui\n",
    "        # s'attend à recevoir un enregistrement\n",
    "        # et qui renvoie `True` ou `False`\n",
    "        if filtre_fn(enr):\n",
    "            tsel.append(enr)\n",
    "    return tsel"
   ]
  },
  {
   "cell_type": "markdown",
   "metadata": {},
   "source": [
    "Pour l'**étape 1**, une «micro fonction» suffit bien souvent:"
   ]
  },
  {
   "cell_type": "code",
   "execution_count": null,
   "metadata": {},
   "outputs": [],
   "source": [
    "a_tours = lambda enregistrement: enregistrement['ville'] == 'Tours'"
   ]
  },
  {
   "cell_type": "markdown",
   "metadata": {},
   "source": [
    "Finalement, on combine les deux:"
   ]
  },
  {
   "cell_type": "code",
   "execution_count": null,
   "metadata": {},
   "outputs": [],
   "source": [
    "selection(table_test, a_tours)"
   ]
  },
  {
   "cell_type": "markdown",
   "metadata": {},
   "source": [
    "En fait, tout l'intérêt des «micro fonctions» `lambda`, parfois appelée *fonctions anonymes*, est de pouvoir les utiliser «en place»:"
   ]
  },
  {
   "cell_type": "code",
   "execution_count": null,
   "metadata": {},
   "outputs": [],
   "source": [
    "# sur plusieurs lignes pour plus de clarté; remettre sur une ligne. \n",
    "selection(\n",
    "    table_test,\n",
    "    # ici on attend une fonction et une lambda est une fonction!\n",
    "    lambda e: e['ville'] == 'Tours'\n",
    ")"
   ]
  },
  {
   "cell_type": "markdown",
   "metadata": {},
   "source": [
    "Si le filtre est plus compliqué, rien n'empêche d'utiliser une fonction «normale»"
   ]
  },
  {
   "cell_type": "code",
   "execution_count": null,
   "metadata": {},
   "outputs": [],
   "source": [
    "def filtre_tordu(enr):\n",
    "    condition1 = enr['ville'] == 'Tours'\n",
    "    condition2 = enr['nom'][0] in ['P', 'B']\n",
    "    return condition1 or condition2\n",
    "\n",
    "selection(table_test, filtre_tordu)"
   ]
  },
  {
   "cell_type": "code",
   "execution_count": null,
   "metadata": {},
   "outputs": [],
   "source": [
    "# ... mais on peut encore utiliser une «micro-fonction» dans ce cas.\n",
    "selection(\n",
    "    table_test,\n",
    "    lambda e: e['ville'] == 'Tours' or e['nom'][0] in ['P', 'B']\n",
    ")"
   ]
  },
  {
   "cell_type": "markdown",
   "metadata": {},
   "source": [
    "On peut même simplifier le code de la fonction `selection` en utilisant une compréhension:"
   ]
  },
  {
   "cell_type": "code",
   "execution_count": null,
   "metadata": {},
   "outputs": [],
   "source": [
    "def selection(tableau, filtre_fn):\n",
    "    return [e for e in tableau if filtre_fn(e)]\n",
    "\n",
    "selection(\n",
    "    table_test,\n",
    "    lambda e: e['ville'] == 'Tours' or e['nom'][0] in ['P', 'B']\n",
    ")"
   ]
  },
  {
   "cell_type": "markdown",
   "metadata": {},
   "source": [
    "#### Exercice 5"
   ]
  },
  {
   "cell_type": "markdown",
   "metadata": {},
   "source": [
    "Utilise la fonction `selection` conjointement avec des «micros fonctions» pour résoudre les sélections de l'exercice 4; sélectionner les enregistrements dont:\n",
    "1. le numéro de client `\"n_client\"` est dans l'intervalle `[1000;3000]`,\n",
    "2. la longitude est positive - \"position\": <(lat., long.)> - et dont le prenom débute par un 'A'."
   ]
  },
  {
   "cell_type": "code",
   "execution_count": null,
   "metadata": {},
   "outputs": [],
   "source": [
    "#1"
   ]
  },
  {
   "cell_type": "code",
   "execution_count": null,
   "metadata": {
    "jupyter": {
     "source_hidden": true
    }
   },
   "outputs": [],
   "source": [
    "#1\n",
    "selection(table_test, lambda e: 1000 <= e[\"n_client\"] <= 3000)"
   ]
  },
  {
   "cell_type": "code",
   "execution_count": null,
   "metadata": {},
   "outputs": [],
   "source": [
    "#2"
   ]
  },
  {
   "cell_type": "code",
   "execution_count": null,
   "metadata": {
    "jupyter": {
     "source_hidden": true
    }
   },
   "outputs": [],
   "source": [
    "#2\n",
    "selection(table_test, lambda e: e[\"position\"][1] >= 0 and e[\"prenom\"][0] == \"A\")"
   ]
  },
  {
   "cell_type": "markdown",
   "metadata": {},
   "source": [
    "_____"
   ]
  },
  {
   "cell_type": "markdown",
   "metadata": {},
   "source": [
    "Rencontrer pour la première fois «une fonction qui prend en argument une autre fonction» - parfois appelée **fonction d'ordre supérieur** - est souvent déroutant.\n",
    "\n",
    "Pour «passer le cap», voici un exercice complémentaire."
   ]
  },
  {
   "cell_type": "markdown",
   "metadata": {},
   "source": [
    "#### Exercice 6 - ma première fonction d'ordre supérieur"
   ]
  },
  {
   "cell_type": "markdown",
   "metadata": {},
   "source": [
    "Écrire une fonction `appliquer(liste, fn)` qui prend en argument:\n",
    "- une liste d'éléments de type 'a': ce type est arbitraire, l'important c'est que tous les éléments de la liste aient le même type,\n",
    "- une fonction `fn` qui prend en argument un élément de type 'a' et renvoie un élément de type 'b'.\n",
    "\n",
    "Finalement, la fonction `appliquer` renvoie une liste d'éléments de type 'b'.\n",
    "\n",
    "**En résumé**: `appliquer` reçois `liste: \"[a]\"` et `fn: \"a -> b\"` et elle produit `\"[b]\"`...\n",
    "\n",
    "Par *exemple*, `appliquer([\"1\", \"2\", \"3\"], int)` renvoie `[1, 2, 3]`\n",
    "\n",
    "Aide-toi des assertions qui suivent et de l'exemple de la fonction `selection` pour résoudre le problème."
   ]
  },
  {
   "cell_type": "code",
   "execution_count": null,
   "metadata": {},
   "outputs": [],
   "source": [
    "def appliquer(liste, fn):\n",
    "    # à toi de jouer!"
   ]
  },
  {
   "cell_type": "code",
   "execution_count": null,
   "metadata": {},
   "outputs": [],
   "source": [
    "l = [1,2,3]\n",
    "f = lambda x: x**2 # f: int -> int\n",
    "assert appliquer(l, f) == [1,4,9]\n",
    "l = [\"un\", \"deux\", \"trois\"]\n",
    "f = lambda ch: len(ch) # f: str -> int\n",
    "assert appliquer(l, f) == [2,4,5]\n",
    "f = lambda ch: ch.upper() # f: str -> str\n",
    "assert appliquer(l, f) == [\"UN\", \"DEUX\", \"TROIS\"]"
   ]
  },
  {
   "cell_type": "markdown",
   "metadata": {},
   "source": [
    "_____"
   ]
  },
  {
   "cell_type": "markdown",
   "metadata": {
    "toc-hr-collapsed": true,
    "toc-nb-collapsed": true
   },
   "source": [
    "## Trier le tableau selon un ou plusieurs descripteurs"
   ]
  },
  {
   "cell_type": "markdown",
   "metadata": {},
   "source": [
    "[Vidéo d'accompagnement 3](https://vimeo.com/535451191)"
   ]
  },
  {
   "cell_type": "code",
   "execution_count": null,
   "metadata": {},
   "outputs": [],
   "source": [
    "table_test = [\n",
    "    {'n_client': 1212, 'nom': 'Lacasse'  , 'prenom': 'Aubrey'   , 'ville': 'Annecy'  , 'position': (45.900000,6.116667)},\n",
    "    {'n_client': 1343, 'nom': 'Primeau'  , 'prenom': 'Angelette', 'ville': 'Tours'   , 'position': (47.383333,0.683333)},\n",
    "    {'n_client': 2454, 'nom': 'Gabriaux' , 'prenom': 'Julie'    , 'ville': 'Bordeaux', 'position': (44.833333,-0.566667)},\n",
    "    {'n_client': 895 , 'nom': 'Gaulin'   , 'prenom': 'Dorene'   , 'ville': 'Lyon'    , 'position': (45.750000,4.850000)},\n",
    "    {'n_client': 2324, 'nom': 'Jobin'    , 'prenom': 'Aubrey'   , 'ville': 'Bourges' , 'position': (47.083333,2.400000)},\n",
    "    {'n_client': 34  , 'nom': 'Boncoeur' , 'prenom': 'Kari'     , 'ville': 'Nantes'  , 'position': (47.216667,-1.550000)},\n",
    "    {'n_client': 1221, 'nom': 'Parizeau' , 'prenom': 'Olympia'  , 'ville': 'Metz'    , 'position': (49.133333,6.166667)},\n",
    "    {'n_client': 1114, 'nom': 'Paiement' , 'prenom': 'Inès'     , 'ville': 'Bordeaux', 'position': (44.833333,-0.566667)},\n",
    "    {'n_client': 3435, 'nom': 'Gabriaux' , 'prenom': 'Adèle'    , 'ville': 'Moulin'  , 'position': (46.566667,3.333333)},\n",
    "    {'n_client': 5565, 'nom': 'Neufville', 'prenom': 'Ila'      , 'ville': 'Toulouse', 'position': (43.600000,1.433333)},\n",
    "    {'n_client': 2221, 'nom': 'Larivière', 'prenom': 'Alice'    , 'ville': 'Tours'   , 'position': (47.383333,0.683333)},\n",
    "]"
   ]
  },
  {
   "cell_type": "markdown",
   "metadata": {},
   "source": [
    "Supposer que nous souhaitions **ordonner** les enregistrements selon leur descripteur `n_client` du plus petit numéro au plus grand.\n",
    "\n",
    "Pour faire cela, nous utiliserons la fonction *prédéfinie* \\[ *builtin* \\] de python `sorted`.\n",
    "\n",
    "Appliquée à une liste de valeurs comparables, elle fait ce qu'on attend: "
   ]
  },
  {
   "cell_type": "code",
   "execution_count": null,
   "metadata": {},
   "outputs": [],
   "source": [
    "sorted([3, 6, 2, 7, 1, 8])"
   ]
  },
  {
   "cell_type": "code",
   "execution_count": null,
   "metadata": {},
   "outputs": [],
   "source": [
    "sorted([\"un\", \"deux\", \"trois\", \"quatre\"]) # ordre du dictionnaire (lexicographique)"
   ]
  },
  {
   "cell_type": "code",
   "execution_count": null,
   "metadata": {},
   "outputs": [],
   "source": [
    "sorted([(1, 2), (2, 3), (2, 1), (1, 3)])"
   ]
  },
  {
   "cell_type": "markdown",
   "metadata": {},
   "source": [
    "Mais comment pourrait-elle trier nos enregistrements? Il faudrait qu'elle puisse savoir par rapport à quel(s) descripteurs(s) on souhaite les trier."
   ]
  },
  {
   "cell_type": "markdown",
   "metadata": {},
   "source": [
    "Pour cette raison, la fonction `sorted` admet un deuxième *paramètre* optionnel `key`.\n",
    "\n",
    "On peut l'utiliser pour préciser **une fonction** qui, à un «objet» de la liste, fait correspondre **la (ou les) valeurs par rapport à laquelle (auxquels) on souhaite effectuer le tri**.\n",
    "\n",
    "Par exemple, *pour trier nos enregistrements* **suivant le n° de client**, on va lui passer la fonction `lambda e: e[\"n_client\"]`:"
   ]
  },
  {
   "cell_type": "code",
   "execution_count": null,
   "metadata": {},
   "outputs": [],
   "source": [
    "sorted(table_test, key=lambda e: e['n_client'])"
   ]
  },
  {
   "cell_type": "markdown",
   "metadata": {},
   "source": [
    "*Autre exemple*: si nous souhaitons trier les enregistrement (clients) suivant leur *nom*, **puis** leur *prénom*, notre fonction devra renvoyée un tuple avec ces valeurs dans le même ordre:"
   ]
  },
  {
   "cell_type": "code",
   "execution_count": null,
   "metadata": {},
   "outputs": [],
   "source": [
    "sorted(\n",
    "    table_test,\n",
    "    key=lambda e: (e['nom'], e['prenom']) # attention; parenthèses autour du tuples obligatoires\n",
    ")"
   ]
  },
  {
   "cell_type": "markdown",
   "metadata": {},
   "source": [
    "Voyez-vous la différence si nous trions seulement sur le nom? (observez bien)."
   ]
  },
  {
   "cell_type": "markdown",
   "metadata": {
    "jupyter": {
     "source_hidden": true
    }
   },
   "source": [
    "À «noms égaux» (voir \"Gabriaux\"), les enregistrements sont ordonnées suivant le \"prénom\" (donc \"Adèle\" avant \"Julie\" contrairement à l'ordre initial...)"
   ]
  },
  {
   "cell_type": "markdown",
   "metadata": {},
   "source": [
    "#### Exercice 7"
   ]
  },
  {
   "cell_type": "markdown",
   "metadata": {},
   "source": [
    "1. Trier la table selon la première lettre du prénom puis selon la longitude.\n",
    "\n",
    "   *Rappel*: position=(lat,long)"
   ]
  },
  {
   "cell_type": "code",
   "execution_count": null,
   "metadata": {},
   "outputs": [],
   "source": []
  },
  {
   "cell_type": "code",
   "execution_count": null,
   "metadata": {
    "jupyter": {
     "source_hidden": true
    }
   },
   "outputs": [],
   "source": [
    "sorted(table_test, key=lambda e: (e[\"prenom\"][0], e[\"position\"][1]))"
   ]
  },
  {
   "cell_type": "markdown",
   "metadata": {},
   "source": [
    "2. Sachant que `sorted` possède un troisième paramètre optionnel nommé `reverse` et qui vaut `False` par défaut, trier la table selon le numéro de client dans l'ordre décroissant (plus grand en premier)."
   ]
  },
  {
   "cell_type": "code",
   "execution_count": null,
   "metadata": {},
   "outputs": [],
   "source": []
  },
  {
   "cell_type": "code",
   "execution_count": null,
   "metadata": {
    "jupyter": {
     "source_hidden": true
    }
   },
   "outputs": [],
   "source": [
    "sorted(table_test, key=lambda e: e[\"n_client\"], reverse=True)"
   ]
  },
  {
   "cell_type": "markdown",
   "metadata": {
    "toc-hr-collapsed": true,
    "toc-nb-collapsed": true
   },
   "source": [
    "## Fusionner deux tableaux ayant un descripteur commun"
   ]
  },
  {
   "cell_type": "markdown",
   "metadata": {},
   "source": [
    "En pratique, les données sont souvent «dispatchées» dans plusieurs tableaux. Par exemple, supposez qu'on trouve les deux «tableaux» qui suivent dans un jeu de données au format CSV."
   ]
  },
  {
   "cell_type": "raw",
   "metadata": {},
   "source": [
    "«personnes.csv»\n",
    "    id,nom,prenom,date_naissance\n",
    "    0,Durand,Jean-Pierre,23/05/1985\n",
    "    1,Dupont,Christophe,15/12/1967\n",
    "    2,Terta,Henry,12/06/1978\n",
    "\n",
    "«adresses.csv»\n",
    "    rue,cp,ville,id_personne\n",
    "    32 rue Général De Gaulle,27315,Harquency,2\n",
    "    7 rue Georges Courteline,37000,Tours,0"
   ]
  },
  {
   "cell_type": "markdown",
   "metadata": {},
   "source": [
    "Vous devinez peut-être que cela signifie par exemple: \n",
    "> Jean-Pierre Durand, né le 23/05/1985 *habite* au 7 rue Georges Courteline à Tours (37000)."
   ]
  },
  {
   "cell_type": "markdown",
   "metadata": {},
   "source": [
    "On obtient cela en «rapprochant» les enregistrements des deux tableaux dont les valeurs associées aux descripteurs `id` et `id_personne` coincident. Cet opération de rapprochement est appelée **jointure** ou **fusion**.\n",
    "\n",
    "Elle permet de produire un tableau sur la base de deux autres en s'appuyant sur des descripteurs «commun» aux deux tableaux."
   ]
  },
  {
   "cell_type": "code",
   "execution_count": null,
   "metadata": {},
   "outputs": [],
   "source": [
    "personnes = [\n",
    "    {\"id\": 0, \"nom\": \"Durand\", \"prenom\": \"Jean-Pierre\", \"date_naissance\": \"23/05/1985\"},\n",
    "    {\"id\": 1, \"nom\": \"Dupont\", \"prenom\": \"Christophe\", \"date_naissance\": \"15/12/1967\"},\n",
    "    {\"id\": 2, \"nom\": \"Terta\", \"prenom\": \"Henry\", \"date_naissance\": \"12/06/1978\"}\n",
    "]\n",
    "\n",
    "adresses = [\n",
    "    {\"rue\": \"32 rue Général De Gaulle\", \"cp\": \"27315\", \"ville\": \"Harquency\", \"id_personne\": 2},\n",
    "    {\"rue\": \"7 rue Georges Courteline\", \"cp\": \"37000\", \"ville\": \"Tours\", \"id_personne\": 0}\n",
    "]"
   ]
  },
  {
   "cell_type": "markdown",
   "metadata": {},
   "source": [
    "#### Exercice 8"
   ]
  },
  {
   "cell_type": "markdown",
   "metadata": {},
   "source": [
    "Écrire une fonction `fusionner(tab1, tab2, d1, d2)` qui à partir de deux tableaux (de n-uplets nommés), d'un descripteur du premier et d'un descripteur du second, renvoie un tableau qui «fusionne» les deux tableaux donnés.\n",
    "\n",
    "Plus précisément, chaque **couple d'enregistrements** des tableaux en entrée *ayant la même valeur pour les descripteurs `d1` et `d2`* produit un enregistrement pour le tableau en sortie. Les descripteurs du tableau en sortie sont les descripteurs des deux tableaux *hormis* `d1` et `d2`.\n",
    "\n",
    "*Par exemple*, `fusionner(personnes, adresses, \"id\", \"id_personne\")` produit:\n",
    "\n",
    "        [{'nom': 'Durand',\n",
    "          'prenom': 'Jean-Pierre',\n",
    "          'date_naissance': '23/05/1985',\n",
    "          'rue': '7 rue Georges Courteline',\n",
    "          'cp': '37000',\n",
    "          'ville': 'Tours'},\n",
    "         {'nom': 'Terta',\n",
    "          'prenom': 'Henry',\n",
    "          'date_naissance': '12/06/1978',\n",
    "          'rue': '32 rue Général De Gaulle',\n",
    "          'cp': '27315',\n",
    "          'ville': 'Harquency'}]"
   ]
  },
  {
   "cell_type": "markdown",
   "metadata": {},
   "source": [
    "*Aide*: Utiliser deux boucles imbriquées pour considérer tous les couples d'enregistrements possibles; lorsque les enregistrements du couple possèdent la même valeur pour `d1` et `d2`, produire un nouveau dictionnaire en copiant les paires clés-valeurs adéquates, puis l'ajouter à l'accumulateur ..."
   ]
  },
  {
   "cell_type": "code",
   "execution_count": null,
   "metadata": {},
   "outputs": [],
   "source": [
    "def fusionner(tab1, tab2, d1, d2):\n",
    "    tab = [] # l'accumulateur\n",
    "    pass\n",
    "\n",
    "fusionner(personnes, adresses, \"id\", \"id_personne\")"
   ]
  },
  {
   "cell_type": "code",
   "execution_count": null,
   "metadata": {
    "jupyter": {
     "source_hidden": true
    }
   },
   "outputs": [],
   "source": [
    "def fusionner(tab1, tab2, d1, d2):\n",
    "    tab = []\n",
    "    for e1 in tab1:\n",
    "        for e2 in tab2:\n",
    "            if e1[d1] == e2[d2]:\n",
    "                d = {}\n",
    "                for c in e1:\n",
    "                    if c != d1:\n",
    "                        d[c] = e1[c]\n",
    "                for c in e2:\n",
    "                    if c != d2:\n",
    "                        d[c] = e2[c]\n",
    "                tab.append(d)\n",
    "    return tab\n",
    "                \n",
    "fusionner(personnes, adresses, \"id\", \"id_personne\")"
   ]
  }
 ],
 "metadata": {
  "kernelspec": {
   "display_name": "Python 3",
   "language": "python",
   "name": "python3"
  },
  "language_info": {
   "codemirror_mode": {
    "name": "ipython",
    "version": 3
   },
   "file_extension": ".py",
   "mimetype": "text/x-python",
   "name": "python",
   "nbconvert_exporter": "python",
   "pygments_lexer": "ipython3",
   "version": "3.7.3"
  },
  "toc-autonumbering": false,
  "toc-showcode": false,
  "toc-showmarkdowntxt": false,
  "toc-showtags": false
 },
 "nbformat": 4,
 "nbformat_minor": 4
}
