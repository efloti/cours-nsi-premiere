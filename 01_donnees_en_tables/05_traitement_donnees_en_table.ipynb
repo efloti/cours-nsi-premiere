{
 "cells": [
  {
   "cell_type": "markdown",
   "metadata": {
    "toc-hr-collapsed": false
   },
   "source": [
    "# Traitement des données en tables"
   ]
  },
  {
   "cell_type": "markdown",
   "metadata": {},
   "source": [
    "**Plan du document**\n",
    "- **Pré-traitement** des données\n",
    "- **Projection**: sélection de «colonnes» - descripteurs\n",
    "- **Sélection**: sélection de «lignes» - objets\n",
    "    - fonction qui prend en argument ... une autre fonction!\n",
    "- **Trier** les données"
   ]
  },
  {
   "cell_type": "markdown",
   "metadata": {},
   "source": [
    "Dans cette section, nous supposons disposer d'une table de n-uplets nommés (à l'aide de dictionnaires) et donc de la forme:\n",
    "\n",
    "`[{descr1: val1, descr2: val2,...},{descr1: val'1, ...}, ...]`\n",
    "\n",
    "qui représente le tableau (qui peut avoir plus de trois colonnes!)\n",
    "\n",
    "| descr1   | descr2           | ...  |\n",
    "| :-------------:|:-------------:|:-----:|\n",
    "| val1      | val2 | ... |\n",
    "| val'1      | ...      |   ... |\n",
    "| ... | ...   |    ... |"
   ]
  },
  {
   "cell_type": "markdown",
   "metadata": {},
   "source": [
    "**Objectif**: apprendre à réaliser certaines opérations courantes sur ce genre de données:\n",
    "- pré-traitements\n",
    "- sélectionner des enregistrements (lignes) - **sélection**,\n",
    "- sélectionner des descripteurs (colonnes) - **projection**,\n",
    "- **trier** les enregistrements (lignes) sur la base d'un ou de plusieurs descripteurs."
   ]
  },
  {
   "cell_type": "markdown",
   "metadata": {},
   "source": [
    "Voici la table que nous utiliserons pour tester ces opérations."
   ]
  },
  {
   "cell_type": "code",
   "execution_count": null,
   "metadata": {},
   "outputs": [],
   "source": [
    "table_test = [\n",
    "    {'n_client': '1212', 'nom': 'Lacasse'  , 'prenom': 'Aubrey'   , 'ville': 'Annecy'  , 'position': '45.900000,6.116667'},\n",
    "    {'n_client': '1343', 'nom': 'Primeau'  , 'prenom': 'Angelette', 'ville': 'Tours'   , 'position': '47.383333,0.683333'},\n",
    "    {'n_client': '2454', 'nom': 'Gabriaux' , 'prenom': 'Julie'    , 'ville': 'Bordeaux', 'position': '44.833333,-0.566667'},\n",
    "    {'n_client': '895' , 'nom': 'Gaulin'   , 'prenom': 'Dorene'   , 'ville': 'Lyon'    , 'position': '45.750000,4.850000'},\n",
    "    {'n_client': '2324', 'nom': 'Jobin'    , 'prenom': 'Aubrey'   , 'ville': 'Bourges' , 'position': '47.083333,2.400000'},\n",
    "    {'n_client': '34'  , 'nom': 'Boncoeur' , 'prenom': 'Kari'     , 'ville': 'Nantes'  , 'position': '47.216667,-1.550000'},\n",
    "    {'n_client': '1221', 'nom': 'Parizeau' , 'prenom': 'Olympia'  , 'ville': 'Metz'    , 'position': '49.133333,6.166667'},\n",
    "    {'n_client': '1114', 'nom': 'Paiement' , 'prenom': 'Inès'     , 'ville': 'Bordeaux', 'position': '44.833333,-0.566667'},\n",
    "    {'n_client': '3435', 'nom': 'Chrétien' , 'prenom': 'Adèle'    , 'ville': 'Moulin'  , 'position': '46.566667,3.333333'},\n",
    "    {'n_client': '5565', 'nom': 'Neufville', 'prenom': 'Ila'      , 'ville': 'Toulouse', 'position': '43.600000,1.433333'},\n",
    "    {'n_client': '2221', 'nom': 'Larivière', 'prenom': 'Alice'    , 'ville': 'Tours'   , 'position': '47.383333,0.683333'},\n",
    "]"
   ]
  },
  {
   "cell_type": "markdown",
   "metadata": {},
   "source": [
    "Quels sont les descripteurs de cette table? **réponse**: ______"
   ]
  },
  {
   "cell_type": "code",
   "execution_count": null,
   "metadata": {},
   "outputs": [],
   "source": [
    "# combien comporte-t-elle d'«objets»? réponse: ____\n"
   ]
  },
  {
   "cell_type": "markdown",
   "metadata": {},
   "source": [
    "Quel est le type commun de toutes les valeurs? **réponse**: ______"
   ]
  },
  {
   "cell_type": "markdown",
   "metadata": {},
   "source": [
    "#### Parcours d'un dictionnaire"
   ]
  },
  {
   "cell_type": "markdown",
   "metadata": {},
   "source": [
    "Lorsqu'on utilise la syntaxe `for <var> in <dictionnaire>`, la variable de boucle contient une nouvelle **clé** du dictionnaire à chaque itération."
   ]
  },
  {
   "cell_type": "code",
   "execution_count": null,
   "metadata": {},
   "outputs": [],
   "source": [
    "test = {\"un\": 1, \"deux\": 2, \"3\": \"trois\"}\n",
    "for var in test:\n",
    "    print(var)"
   ]
  },
  {
   "cell_type": "markdown",
   "metadata": {},
   "source": [
    "À partir de la clé, on peut facilement récupérer la valeur associée dans la paire clé-valeur avec la syntaxe `dico[cle]`:"
   ]
  },
  {
   "cell_type": "code",
   "execution_count": null,
   "metadata": {},
   "outputs": [],
   "source": [
    "test = {\"un\": 1, \"deux\": 2, \"3\": \"trois\"}\n",
    "for var in test:\n",
    "    print(test[var])"
   ]
  },
  {
   "cell_type": "markdown",
   "metadata": {},
   "source": [
    "Mais il est plus pratique de récupérer directement **la clé et la valeur** dans la variable de boucle. On peut faire cela en utilisant la méthode `dico.items()` dans la boucle:"
   ]
  },
  {
   "cell_type": "code",
   "execution_count": null,
   "metadata": {},
   "outputs": [],
   "source": [
    "test = {\"un\": 1, \"deux\": 2, \"3\": \"trois\"}\n",
    "for var in test.items():\n",
    "    print(var)"
   ]
  },
  {
   "cell_type": "markdown",
   "metadata": {},
   "source": [
    "Comme à chaque itération, la variable de boucle reçoit un *tuple de taille 2*, on peut récupérer directement chaque composante comme suit:"
   ]
  },
  {
   "cell_type": "code",
   "execution_count": null,
   "metadata": {},
   "outputs": [],
   "source": [
    "test = {\"un\": 1, \"deux\": 2, \"3\": \"trois\"}\n",
    "for cle, val in test.items():\n",
    "    print(f\"{cle} => {val}\")"
   ]
  },
  {
   "cell_type": "markdown",
   "metadata": {},
   "source": [
    "**Retenir**\n",
    "\n",
    "> si `d` est un dictionnaire, `for cle, val in d.items()` récupère une nouvelle paire clé-valeur à chaque itération de la boucle."
   ]
  },
  {
   "cell_type": "markdown",
   "metadata": {},
   "source": [
    "## Pré-traitement ou préparation des données"
   ]
  },
  {
   "cell_type": "markdown",
   "metadata": {},
   "source": [
    "On observe que certains **descripteurs** pourrait avoir un **type** plus précis que `str`, par exemple le descripteur `n_client` gagnerait a être de type `int`.\n",
    "\n",
    "Améliorons cela à l'aide de la syntaxe en compréhension:"
   ]
  },
  {
   "cell_type": "code",
   "execution_count": null,
   "metadata": {},
   "outputs": [],
   "source": [
    "table_test_2 = [ # liste en compréhension: produit une liste de ...\n",
    "    { # ... dictionnaires ...\n",
    "        c: int(v) if c == 'n_client' else v # conversion de la valeur si le descripteur est 'n_client'\n",
    "        for c, v in l.items() \n",
    "    }\n",
    "    for l in table_test # sur la base de chaque ligne de la table d'origine\n",
    "]\n",
    "# observe bien la valeur du descripteur 'n_client'\n",
    "table_test_2[:2]"
   ]
  },
  {
   "cell_type": "markdown",
   "metadata": {},
   "source": [
    "C'est encore un peu difficile à lire probablement? l'opérateur ternaire `e1 if cond else e2` n'est pas encore parfaitement clair? ni l'écriture en compréhension?\n",
    "\n",
    "Alors voici l'équivalent dans une fonction avec une boucle imbriquée."
   ]
  },
  {
   "cell_type": "code",
   "execution_count": null,
   "metadata": {},
   "outputs": [],
   "source": [
    "def conversion1(table):\n",
    "    tc = []  # table à construire\n",
    "    # pour chaque enregistrement\n",
    "    for l in table:\n",
    "        enr = {} # nouvel enregistrement\n",
    "        # pour chaque paire clé-valeur de l'enregistrement courant\n",
    "        for c, v in l.items():\n",
    "            # doit-on convertir en int?\n",
    "            if c == 'n_client':\n",
    "                enr[c] = int(v)\n",
    "            else:\n",
    "                enr[c] = v\n",
    "        # ajouter le nouvel enregistrement à la table en consruction\n",
    "        tc.append(enr)\n",
    "    return tc\n",
    "\n",
    "conversion1(table_test)"
   ]
  },
  {
   "cell_type": "markdown",
   "metadata": {},
   "source": [
    "Mais il y a un autre descripteur qui pose problème: `position`\n",
    "\n",
    "son type est `str` au format `'<float>,<float>'`\n",
    "\n",
    "nous voudrions que son type soit «`tuple` de `float`» c'est-à-dire passer de (par ex.) `'45.900000,6.116667'` à `(45.900000, 6.116667)`."
   ]
  },
  {
   "cell_type": "markdown",
   "metadata": {},
   "source": [
    "### À toi de jouer\n",
    "\n",
    "En t'inspirant de la conversion résolue précédente, transforme le descripteur `position` en un tuple de 2 floats."
   ]
  },
  {
   "cell_type": "code",
   "execution_count": null,
   "metadata": {},
   "outputs": [],
   "source": [
    "# avec une fonction\n",
    "def conversion2(table):\n",
    "    pass"
   ]
  },
  {
   "cell_type": "code",
   "execution_count": null,
   "metadata": {},
   "outputs": [],
   "source": [
    "# avec la syntaxe en compréhension (tu peux utiliser plusieurs étapes)\n"
   ]
  },
  {
   "cell_type": "markdown",
   "metadata": {},
   "source": [
    "_________"
   ]
  },
  {
   "cell_type": "markdown",
   "metadata": {},
   "source": [
    "## Projection ou sélection de colonnes"
   ]
  },
  {
   "cell_type": "markdown",
   "metadata": {},
   "source": [
    "On repart de la table ci-dessous:"
   ]
  },
  {
   "cell_type": "code",
   "execution_count": null,
   "metadata": {},
   "outputs": [],
   "source": [
    "table_test = [\n",
    "    {'n_client': 1212, 'nom': 'Lacasse'  , 'prenom': 'Aubrey'   , 'ville': 'Annecy'  , 'position': (45.900000,6.116667)},\n",
    "    {'n_client': 1343, 'nom': 'Primeau'  , 'prenom': 'Angelette', 'ville': 'Tours'   , 'position': (47.383333,0.683333)},\n",
    "    {'n_client': 2454, 'nom': 'Gabriaux' , 'prenom': 'Julie'    , 'ville': 'Bordeaux', 'position': (44.833333,-0.566667)},\n",
    "    {'n_client': 895 , 'nom': 'Gaulin'   , 'prenom': 'Dorene'   , 'ville': 'Lyon'    , 'position': (45.750000,4.850000)},\n",
    "    {'n_client': 2324, 'nom': 'Jobin'    , 'prenom': 'Aubrey'   , 'ville': 'Bourges' , 'position': (47.083333,2.400000)},\n",
    "    {'n_client': 34  , 'nom': 'Boncoeur' , 'prenom': 'Kari'     , 'ville': 'Nantes'  , 'position': (47.216667,-1.550000)},\n",
    "    {'n_client': 1221, 'nom': 'Parizeau' , 'prenom': 'Olympia'  , 'ville': 'Metz'    , 'position': (49.133333,6.166667)},\n",
    "    {'n_client': 1114, 'nom': 'Paiement' , 'prenom': 'Inès'     , 'ville': 'Bordeaux', 'position': (44.833333,-0.566667)},\n",
    "    {'n_client': 3435, 'nom': 'Chrétien' , 'prenom': 'Adèle'    , 'ville': 'Moulin'  , 'position': (46.566667,3.333333)},\n",
    "    {'n_client': 5565, 'nom': 'Neufville', 'prenom': 'Ila'      , 'ville': 'Toulouse', 'position': (43.600000,1.433333)},\n",
    "    {'n_client': 2221, 'nom': 'Larivière', 'prenom': 'Alice'    , 'ville': 'Tours'   , 'position': (47.383333,0.683333)},\n",
    "]"
   ]
  },
  {
   "cell_type": "markdown",
   "metadata": {},
   "source": [
    "Cette opération consiste à «oublier» un ou plusieurs descripteurs (et les valeurs associées) pour chaque enregistrement. Par exemple, pour se concentrer sur ceux qui nous intéresse dans notre projet.\n",
    "\n",
    "Le problème est le suivant: étant donnée une liste de descripteurs à oublier, produire la table de donnée correspondante.\n",
    "\n",
    "ex: si `a_oublier = ['n_client', 'prenom', 'position']` alors l'enregistrement:\n",
    "- `{'n_client': 1212, 'nom': 'Lacasse', 'prenom': 'Aubrey', 'ville': 'Annecy', 'position': (45.900000,6.116667)}` ...\n",
    "- ... devient `{'nom': 'Lacasse', 'ville': 'Annecy'}` ...\n",
    "- et ainsi de suite pour chaque enregistrement."
   ]
  },
  {
   "cell_type": "code",
   "execution_count": null,
   "metadata": {},
   "outputs": [],
   "source": [
    "def projection_par_oubli(tableau, a_oublier):\n",
    "    tsel = [] # pour notre nouveau tableau\n",
    "    # pour chaque enregistrement\n",
    "    for l in tableau:\n",
    "        enr = {} # pour notre nouvel enregistrement\n",
    "        # pour chaque paire clé-valeur de l'enregistrement courant\n",
    "        for c, v in l.items():\n",
    "            if not c in a_oublier:\n",
    "                # on conserve cette paire\n",
    "                enr[c] = v\n",
    "        # ajoutons notre nouvel enregistrement\n",
    "        tsel.append(enr)\n",
    "    return tsel\n",
    "\n",
    "projection_par_oubli(table_test, ['n_client', 'prenom', 'position'])"
   ]
  },
  {
   "cell_type": "markdown",
   "metadata": {},
   "source": [
    "### À ton tour"
   ]
  },
  {
   "cell_type": "markdown",
   "metadata": {},
   "source": [
    "1. Peux-tu réaliser la même chose avec la notation en compréhension en une ou plusieurs étapes?"
   ]
  },
  {
   "cell_type": "markdown",
   "metadata": {},
   "source": [
    "2. Écris une fonction `projection(tableau, a_conserver)` qui prend en argument le tableau de données et la liste des descripteurs à conserver; elle renvoie le tableau «projeté»."
   ]
  },
  {
   "cell_type": "markdown",
   "metadata": {},
   "source": [
    "_____"
   ]
  },
  {
   "cell_type": "markdown",
   "metadata": {},
   "source": [
    "## Sélection d'enregistrement"
   ]
  },
  {
   "cell_type": "markdown",
   "metadata": {},
   "source": [
    "On souhaite à présent transformer le tableau en ne conservant que les *enregistrements* qui respectent *un certain critère*; autrement dit on veut sélectionner certaine lignes.\n",
    "\n",
    "Par exemple, on pourrait vouloir sélectionner les clients qui habitent à tours."
   ]
  },
  {
   "cell_type": "code",
   "execution_count": null,
   "metadata": {},
   "outputs": [],
   "source": [
    "def selection_exemple(tableau):\n",
    "    tsel = []\n",
    "    for l in tableau:\n",
    "        if l['ville'] == 'Tours':\n",
    "            tsel.append(l)\n",
    "    return tsel\n",
    "\n",
    "selection_exemple(table_test)"
   ]
  },
  {
   "cell_type": "markdown",
   "metadata": {},
   "source": [
    "### À ton tour!"
   ]
  },
  {
   "cell_type": "markdown",
   "metadata": {},
   "source": [
    "1. écris une fonction `selection2` qui renvoie le tableau en ne conservant que les objets dont le numéro de client est dans l'intervalle `[1000;3000]`."
   ]
  },
  {
   "cell_type": "markdown",
   "metadata": {},
   "source": [
    "2. écris une fonction `selection3` qui sélectionne les objets dont la longitude est positive - 'pos=(lat., long.)' - et dont le prénom débute par un 'A'."
   ]
  },
  {
   "cell_type": "markdown",
   "metadata": {},
   "source": [
    "____"
   ]
  },
  {
   "cell_type": "markdown",
   "metadata": {
    "toc-hr-collapsed": false
   },
   "source": [
    "### Une fonction qui prend en argument une autre fonction!"
   ]
  },
  {
   "cell_type": "markdown",
   "metadata": {},
   "source": [
    "Il est simple d'adapter le code précédent pour sélectionner selon un autre critère, mais on peut faire bien mieux en suivant ces étapes:\n",
    "1. Définir une fonction qui, étant donné un enregistrement, renvoie `True` si l'enregistrement respecte le critère, `False` autrement - une telle fonction est appelée un **filtre**.\n",
    "2. Passer en argument la fonction filtre à la fonction de selection.\n",
    "\n",
    "Commençons par l'**étape 2** :-o"
   ]
  },
  {
   "cell_type": "code",
   "execution_count": null,
   "metadata": {},
   "outputs": [],
   "source": [
    "def selection(tableau, filtre_fn):\n",
    "    tsel = []\n",
    "    for l in tableau:\n",
    "        if filtre_fn(l): # rappel filtre est une fonction qui renvoie `True` ou `False`\n",
    "            tsel.append(l)\n",
    "    return tsel"
   ]
  },
  {
   "cell_type": "markdown",
   "metadata": {},
   "source": [
    "Pour l'**étape 1**, une «micro fonction» suffit bien souvent:"
   ]
  },
  {
   "cell_type": "code",
   "execution_count": null,
   "metadata": {},
   "outputs": [],
   "source": [
    "a_tours = lambda enregistrement: enregistrement['ville'] == 'Tours'"
   ]
  },
  {
   "cell_type": "markdown",
   "metadata": {},
   "source": [
    "Finalement, on combine les deux:"
   ]
  },
  {
   "cell_type": "code",
   "execution_count": null,
   "metadata": {},
   "outputs": [],
   "source": [
    "selection(table_test, a_tours)"
   ]
  },
  {
   "cell_type": "markdown",
   "metadata": {},
   "source": [
    "En fait, on peut se passer de l'étape 2 et c'est justement la raison d'être des «micro fonctions» appelée parfois *fonction anonyme*, il suffit d'écrire:"
   ]
  },
  {
   "cell_type": "code",
   "execution_count": null,
   "metadata": {},
   "outputs": [],
   "source": [
    "# sur plusieurs lignes pour plus de clarté; remettre sur une ligne. \n",
    "selection(\n",
    "    table_test,\n",
    "    lambda o: o['ville'] == 'Tours'\n",
    ")"
   ]
  },
  {
   "cell_type": "markdown",
   "metadata": {},
   "source": [
    "Si le filtre est plus compliqué, rien n'empêche d'utiliser une fonction «normale»"
   ]
  },
  {
   "cell_type": "code",
   "execution_count": null,
   "metadata": {},
   "outputs": [],
   "source": [
    "def filtre_tordu(objet):\n",
    "    condition1 = objet['ville'] == 'Tours'\n",
    "    condition2 = objet['nom'][0] in ['P', 'B']\n",
    "    return condition1 or condition2\n",
    "\n",
    "# en fait, on pourrait encore utiliser une «micro-fonction» dans ce cas.\n",
    "selection(table_test, filtre_tordu)"
   ]
  },
  {
   "cell_type": "markdown",
   "metadata": {},
   "source": [
    "#### À ton tour!"
   ]
  },
  {
   "cell_type": "markdown",
   "metadata": {},
   "source": [
    "Écris les micros fonctions ou des fonctions ordinaire qui permettent de résoudre le dernier «À ton tour» "
   ]
  },
  {
   "cell_type": "markdown",
   "metadata": {},
   "source": [
    "_____"
   ]
  },
  {
   "cell_type": "markdown",
   "metadata": {},
   "source": [
    "Rencontrer pour la première fois «une fonction qui prend en argument une autre fonction» - parfois appelée **fonction d'ordre supérieur** - est souvent déroutant.\n",
    "\n",
    "Pour «passer le cap», voici une activité complémentaire."
   ]
  },
  {
   "cell_type": "markdown",
   "metadata": {},
   "source": [
    "#### Activité: ma première fonction d'ordre supérieur"
   ]
  },
  {
   "cell_type": "markdown",
   "metadata": {},
   "source": [
    "Écris une fonction `appliquer(liste, fn)` qui prend en argument:\n",
    "- une liste d'éléments de type 'a': ce type est arbitraire, l'important c'est que tous les éléments de la liste aient le même type,\n",
    "- une fonction `fn` qui prend en argument un élément de type 'a' et renvoie un élément de type 'b'.\n",
    "\n",
    "Finalement, la fonction `appliquer` renvoie une liste d'éléments de type 'b' (tous)\n",
    "\n",
    "**En résumé**: `appliquer` reçois `liste: \"[a]\"` et `fn: \"a -> b\"` et elle produit `\"[b]\"`...\n",
    "\n",
    "Aide-toi des assertions qui suivent pour résoudre le problème."
   ]
  },
  {
   "cell_type": "code",
   "execution_count": null,
   "metadata": {},
   "outputs": [],
   "source": [
    "def appliquer(liste, fn):\n",
    "    # à toi de jouer!"
   ]
  },
  {
   "cell_type": "code",
   "execution_count": null,
   "metadata": {},
   "outputs": [],
   "source": [
    "l = [1,2,3]\n",
    "f = lambda x: x**2 # f: int -> int\n",
    "assert appliquer(l, f) == [1,4,9]\n",
    "l = [\"un\", \"deux\", \"trois\"]\n",
    "f = lambda ch: len(ch) # f: str -> int\n",
    "assert appliquer(l, f) == [2,4,5]\n",
    "f = lambda ch: ch.upper() # f: str -> str\n",
    "assert appliquer(l, f) == [\"UN\", \"DEUX\", \"TROIS\"]"
   ]
  },
  {
   "cell_type": "markdown",
   "metadata": {},
   "source": [
    "_____"
   ]
  },
  {
   "cell_type": "markdown",
   "metadata": {},
   "source": [
    "## Trier le tableau selon un ou plusieurs descripteurs"
   ]
  },
  {
   "cell_type": "code",
   "execution_count": null,
   "metadata": {},
   "outputs": [],
   "source": [
    "table_test = [\n",
    "    {'n_client': 1212, 'nom': 'Lacasse'  , 'prenom': 'Aubrey'   , 'ville': 'Annecy'  , 'position': (45.900000,6.116667)},\n",
    "    {'n_client': 1343, 'nom': 'Primeau'  , 'prenom': 'Angelette', 'ville': 'Tours'   , 'position': (47.383333,0.683333)},\n",
    "    {'n_client': 2454, 'nom': 'Gabriaux' , 'prenom': 'Julie'    , 'ville': 'Bordeaux', 'position': (44.833333,-0.566667)},\n",
    "    {'n_client': 895 , 'nom': 'Gaulin'   , 'prenom': 'Dorene'   , 'ville': 'Lyon'    , 'position': (45.750000,4.850000)},\n",
    "    {'n_client': 2324, 'nom': 'Jobin'    , 'prenom': 'Aubrey'   , 'ville': 'Bourges' , 'position': (47.083333,2.400000)},\n",
    "    {'n_client': 34  , 'nom': 'Boncoeur' , 'prenom': 'Kari'     , 'ville': 'Nantes'  , 'position': (47.216667,-1.550000)},\n",
    "    {'n_client': 1221, 'nom': 'Parizeau' , 'prenom': 'Olympia'  , 'ville': 'Metz'    , 'position': (49.133333,6.166667)},\n",
    "    {'n_client': 1114, 'nom': 'Paiement' , 'prenom': 'Inès'     , 'ville': 'Bordeaux', 'position': (44.833333,-0.566667)},\n",
    "    {'n_client': 3435, 'nom': 'Gabriaux' , 'prenom': 'Adèle'    , 'ville': 'Moulin'  , 'position': (46.566667,3.333333)},\n",
    "    {'n_client': 5565, 'nom': 'Neufville', 'prenom': 'Ila'      , 'ville': 'Toulouse', 'position': (43.600000,1.433333)},\n",
    "    {'n_client': 2221, 'nom': 'Larivière', 'prenom': 'Alice'    , 'ville': 'Tours'   , 'position': (47.383333,0.683333)},\n",
    "]"
   ]
  },
  {
   "cell_type": "markdown",
   "metadata": {},
   "source": [
    "Supposer que nous souhaitions **ordonner** les objets selon leur descripteur `n_client`: du plus petit numéro au plus grand.\n",
    "\n",
    "Pour faire cela, nous utiliserons la fonction prédéfinie de python `sorted(liste, key=choix_descripteur_fn)` qui renvoie la liste `liste` triée suivant la *fonction* `choix_descripteur_fn` (la liste initiale n'est pas modifiée).\n",
    "\n",
    "Pour notre exemple, la fonction est `lambda o: o['n_client']`: elle prend un objet (une ligne) et renvoie la valeur de son descripteur `'n_client'`."
   ]
  },
  {
   "cell_type": "code",
   "execution_count": null,
   "metadata": {},
   "outputs": [],
   "source": [
    "triee1 = sorted(table_test, key=lambda o: o['n_client']) # argument nommé key\n",
    "triee1"
   ]
  },
  {
   "cell_type": "markdown",
   "metadata": {},
   "source": [
    "Si nous souhaitons trier les objets (clients) suivant leur nom, **puis** leur prenom, nous renvoyons un tuple dans cet ordre."
   ]
  },
  {
   "cell_type": "code",
   "execution_count": null,
   "metadata": {},
   "outputs": [],
   "source": [
    "sorted(\n",
    "    table_test,\n",
    "    key=lambda o: (o['nom'], o['prenom']) # les parenthèses sont en fait inutiles\n",
    ")"
   ]
  },
  {
   "cell_type": "markdown",
   "metadata": {},
   "source": [
    "Voyez-vous la différence si nous trions seulement sur le nom? (observez bien)."
   ]
  },
  {
   "cell_type": "markdown",
   "metadata": {},
   "source": [
    "### À faire vous-même"
   ]
  },
  {
   "cell_type": "markdown",
   "metadata": {},
   "source": [
    "1. Trier la table selon la première lettre du prénom puis selon la longitude (Est vers Ouest).\n",
    "\n",
    "   *Rappel*: position=(lat,long)"
   ]
  },
  {
   "cell_type": "markdown",
   "metadata": {},
   "source": [
    "2. Sachant que `sorted` prend un troisième argument optionnel nommé `reverse` et qui vaut `False` par défaut, trier la table selon le numéro de client dans l'ordre descendant (plus grand en premier)."
   ]
  }
 ],
 "metadata": {
  "kernelspec": {
   "display_name": "Python 3",
   "language": "python",
   "name": "python3"
  },
  "language_info": {
   "codemirror_mode": {
    "name": "ipython",
    "version": 3
   },
   "file_extension": ".py",
   "mimetype": "text/x-python",
   "name": "python",
   "nbconvert_exporter": "python",
   "pygments_lexer": "ipython3",
   "version": "3.7.3"
  },
  "toc-autonumbering": false,
  "toc-showcode": false,
  "toc-showmarkdowntxt": false,
  "toc-showtags": true
 },
 "nbformat": 4,
 "nbformat_minor": 4
}
