{
 "cells": [
  {
   "cell_type": "markdown",
   "metadata": {},
   "source": [
    "# Découverte du format CSV - *Comma-Separated values*"
   ]
  },
  {
   "cell_type": "markdown",
   "metadata": {},
   "source": [
    "**Plan du document**\n",
    "- Le format **CSV**\n",
    "- Représenter des données CSV avec Python\n",
    "    - Première solution: un tableau de tuples\n",
    "    - **Deuxième solution**: un tableau de *tuples nommés* (dictionnaires)\n",
    "        - l'*unpacking*,\n",
    "        - l'opération *zip*\n",
    "        - syntaxe en *compréhension des dictionnaires*\n",
    "        - **synthèse**: CSV -> tableau de tuples nommés"
   ]
  },
  {
   "cell_type": "markdown",
   "metadata": {},
   "source": [
    "## Le format CSV"
   ]
  },
  {
   "cell_type": "markdown",
   "metadata": {},
   "source": [
    "*Comma*: virgule; *CSV*: valeurs séparées par des virgule."
   ]
  },
  {
   "cell_type": "markdown",
   "metadata": {},
   "source": [
    "CSV est un format **textuel** (par opposition à *binaire*) qui sert à représenter des **données en tables**; voici à quoi cela ressemble:\n",
    "\n",
    "```\n",
    "nom,prenom,date_naissance\n",
    "Durand,Jean-Pierre,23/05/1985\n",
    "Dupont,Christophe,15/12/1967\n",
    "Terta,Henry,12/06/1978       \n",
    "```"
   ]
  },
  {
   "cell_type": "markdown",
   "metadata": {},
   "source": [
    "On devine qu'il s'agit d'informations à propos d'individus: Jean pierre Durand né le 23 mai 1985, etc. En informatique on parle de **collection de données**.\n",
    "\n",
    "La première ligne précise le sens des valeurs trouvées aux lignes suivantes; ses valeurs `nom`, `prenom`, `date_naissance` sont appelées **descripteurs** ou encore **attributs**.\n",
    "\n",
    "Les lignes suivantes correspondent à des individus différents; en informatique on parle souvent d'**objets** ou d'**entités**.\n",
    "\n",
    "Chaque «*objet*» (ici individu) correspond à une ligne: les **valeurs** qu'on y trouve sont associées aux *descripteurs* de même position."
   ]
  },
  {
   "cell_type": "markdown",
   "metadata": {},
   "source": [
    "On peut (re)présenter la même information plus agréablement avec un rendu table:\n",
    "\n",
    "| nom   | prenom           | date_naissance  |\n",
    "| ------------- |:-------------:| -----:|\n",
    "| Durand      | Jean-Pierre | 23/05/1985 |\n",
    "| Dupont      | Christophe      |   15/12/1967 |\n",
    "| Tertra | Henry   |    12/06/1978 |"
   ]
  },
  {
   "cell_type": "markdown",
   "metadata": {},
   "source": [
    "## Représenter des données CSV avec Python"
   ]
  },
  {
   "cell_type": "markdown",
   "metadata": {},
   "source": [
    "### Première solution: une liste de tuples"
   ]
  },
  {
   "cell_type": "markdown",
   "metadata": {},
   "source": [
    "Cela donnerait `[('Durand', 'Jean-Pierre', '23/05/1985'), ('Dupont',..),(..)]`"
   ]
  },
  {
   "cell_type": "markdown",
   "metadata": {},
   "source": [
    "On y parvient assez simplement à l'aide de `str.split(..)`:"
   ]
  },
  {
   "cell_type": "code",
   "execution_count": null,
   "metadata": {},
   "outputs": [],
   "source": [
    "donnees_CSV = \"\"\"nom,prenom,date_naissance\n",
    "Durand,Jean-Pierre,23/05/1985\n",
    "Dupont,Christophe,15/12/1967\n",
    "Terta,Henry,12/06/1978\"\"\""
   ]
  },
  {
   "cell_type": "code",
   "execution_count": null,
   "metadata": {},
   "outputs": [],
   "source": [
    "etape1 = donnees_CSV.split('\\n')\n",
    "etape1"
   ]
  },
  {
   "cell_type": "code",
   "execution_count": null,
   "metadata": {},
   "outputs": [],
   "source": [
    "etape2 = [obj.split(',') for obj in etape1]\n",
    "etape2 # une liste de liste"
   ]
  },
  {
   "cell_type": "code",
   "execution_count": null,
   "metadata": {},
   "outputs": [],
   "source": [
    "etape3 = [tuple(obj) for obj in etape2]\n",
    "etape3 # une liste de tuple"
   ]
  },
  {
   "cell_type": "code",
   "execution_count": null,
   "metadata": {},
   "outputs": [],
   "source": [
    "fin = etape3[1:] # un petit slice\n",
    "fin # sans l'en-tête"
   ]
  },
  {
   "cell_type": "markdown",
   "metadata": {},
   "source": [
    "#### À faire toi-même\n",
    "\n",
    "On peut parvenir à `fin` à partir de `donnees_CSV` en **une seule fois** par *composition* ... essais!"
   ]
  },
  {
   "cell_type": "code",
   "execution_count": null,
   "metadata": {},
   "outputs": [],
   "source": [
    "# deux_en_un = ____\n",
    "# trois_en_un = ____\n",
    "quatre_en_un = ___ # tu peux essayer de faire deux_en_un, puis trois_en_un avant."
   ]
  },
  {
   "cell_type": "code",
   "execution_count": null,
   "metadata": {},
   "outputs": [],
   "source": [
    "# pour tester\n",
    "assert quatre_en_un == fin"
   ]
  },
  {
   "cell_type": "markdown",
   "metadata": {},
   "source": [
    "___"
   ]
  },
  {
   "cell_type": "markdown",
   "metadata": {},
   "source": [
    "L'inconvénient de cette représentation c'est qu'elle «oublie» les descripteurs.\n",
    "\n",
    "Pourquoi ne pas les conserver comme à l'étape3? Pour éviter d'avoir un tableau *hétérogène*: le premier élément ne serait pas un «objet». De tels tableaux sont plus difficile à manipuler."
   ]
  },
  {
   "cell_type": "markdown",
   "metadata": {},
   "source": [
    "### Deuxième solution: un tableau de *tuples nommés*"
   ]
  },
  {
   "cell_type": "markdown",
   "metadata": {},
   "source": [
    "**n-uplet (ou tuples) nommés**: tuple dont chaque valeur est associée à un descripteur.\n",
    "\n",
    "Malheureusement Python ne possède pas un tel type par défaut (il existe toutefois dans la bibliothèque standard).\n",
    "\n",
    "Pour représenter ce type, nous utiliserons un dictionnaire dont les clés sont les descripteurs; voici un exemple:\n",
    "```python\n",
    "{'nom': 'Durand', 'prenom': 'Jean-Pierre', 'date_naissance': '23/05/1985'}\n",
    "```"
   ]
  },
  {
   "cell_type": "markdown",
   "metadata": {},
   "source": [
    "Pour y parvenir, nous partons de:"
   ]
  },
  {
   "cell_type": "code",
   "execution_count": null,
   "metadata": {},
   "outputs": [],
   "source": [
    "donnees_CSV = \"\"\"nom,prenom,date_naissance\n",
    "Durand,Jean-Pierre,23/05/1985\n",
    "Dupont,Christophe,15/12/1967\n",
    "Terta,Henry,12/06/1978\"\"\""
   ]
  },
  {
   "cell_type": "markdown",
   "metadata": {},
   "source": [
    "Les étapes qui suivent servent à **séparer les descripteurs et les objets**:"
   ]
  },
  {
   "cell_type": "code",
   "execution_count": null,
   "metadata": {},
   "outputs": [],
   "source": [
    "tmp = donnees_CSV.split('\\n')\n",
    "tmp"
   ]
  },
  {
   "cell_type": "code",
   "execution_count": null,
   "metadata": {},
   "outputs": [],
   "source": [
    "descripteurs_str = tmp[0]\n",
    "descripteurs = tuple(descripteurs_str.split(','))\n",
    "print(f\"le tuple des descripteurs: {descripteurs}\")"
   ]
  },
  {
   "cell_type": "code",
   "execution_count": null,
   "metadata": {},
   "outputs": [],
   "source": [
    "donnees_str = tmp[1:]\n",
    "donnees_str"
   ]
  },
  {
   "cell_type": "code",
   "execution_count": null,
   "metadata": {},
   "outputs": [],
   "source": [
    "objets = [tuple(obj.split(',')) for obj in donnees_str]\n",
    "print(f\"la liste des objets (des personnes ici):\\n {objets}\")"
   ]
  },
  {
   "cell_type": "markdown",
   "metadata": {},
   "source": [
    "**Récapitulatif**: nous avons bien séparé:\n",
    " - les **descripteurs** (1ère ligne des données csv source) sous la forme d'*un tuple*,\n",
    " - les **objets** (autres lignes) sous la forme d'une *liste de tuples*."
   ]
  },
  {
   "cell_type": "markdown",
   "metadata": {},
   "source": [
    "#### À faire toi-même\n",
    "\n",
    "Peux-tu compléter les parties manquantes pour obtenir le même résultat plus rapidement?"
   ]
  },
  {
   "cell_type": "code",
   "execution_count": null,
   "metadata": {},
   "outputs": [],
   "source": [
    "descripteurs = ___( donnees_CSV.split('\\n')[___].________ )\n",
    "objets = [ ____ for ligne in donnees_CSV.____ ]\n",
    "print(f\"- les descripteurs:\\n\\t {descripteurs}\\n- les objets:\\n\\t {objets}\")"
   ]
  },
  {
   "cell_type": "markdown",
   "metadata": {},
   "source": [
    "______"
   ]
  },
  {
   "cell_type": "markdown",
   "metadata": {},
   "source": [
    "#### À faire toi-même - *découverte de l'**unpacking** (déballage)*\n",
    "\n",
    "Peux-tu réaliser le traitement précédent en **vraiment** une seule ligne? Pour cela observe les trois exemples qui suivent:"
   ]
  },
  {
   "cell_type": "code",
   "execution_count": null,
   "metadata": {},
   "outputs": [],
   "source": [
    "# exemple1 d'unpacking\n",
    "tete, *queue = [1, 2, 3, 4]\n",
    "print(f\"La tête: {tete} et la queue: {queue}\")"
   ]
  },
  {
   "cell_type": "code",
   "execution_count": null,
   "metadata": {},
   "outputs": [],
   "source": [
    "# exemple2 d'unpacking\n",
    "un, deux, *reste = [1, 2, 3, 4]\n",
    "print(f\"un: {un}\\ndeux: {deux}\\nreste: {reste}\")"
   ]
  },
  {
   "cell_type": "code",
   "execution_count": null,
   "metadata": {},
   "outputs": [],
   "source": [
    "# exemple3 d'unpacking\n",
    "tete, *corps, pied = [1,2,3,4]\n",
    "print(f\"tete: {tete}\\ncorps: {corps}\\npied: {pied}\")"
   ]
  },
  {
   "cell_type": "markdown",
   "metadata": {},
   "source": [
    "Si tu as suivi, tu dois pouvoir compléter ce qui suit:"
   ]
  },
  {
   "cell_type": "code",
   "execution_count": null,
   "metadata": {},
   "outputs": [],
   "source": [
    "# À toi de jouer!\n",
    "descripteurs, *objets = [___ for ligne in donnees_CSV.__)]\n",
    "print(f\"les descripteurs:\\n\\t {descripteurs}\\nles objets:\\n\\t {objets}\")"
   ]
  },
  {
   "cell_type": "markdown",
   "metadata": {},
   "source": [
    "____"
   ]
  },
  {
   "cell_type": "markdown",
   "metadata": {},
   "source": [
    "Arrivé à ce stade nous voudrions combiner:\n",
    "- `('descr1', 'descr2', ...)` et `('v1', 'v2', ...)` en ...\n",
    "- `{'descr1': 'v1', 'descr2': 'v2', ..}` (n-uplet nommé) "
   ]
  },
  {
   "cell_type": "markdown",
   "metadata": {},
   "source": [
    "#### Apparier deux séquences - `zip`"
   ]
  },
  {
   "cell_type": "markdown",
   "metadata": {},
   "source": [
    "On a souvent besoin de grouper par paires deux séquences de même longueur `len`.\n",
    "\n",
    "*Ex*: je **dispose** de `['a', 'b', 'c']` et `[3, 2, 1]`\n",
    "\n",
    "j'ai **besoin de** `[('a', 3), ('b', 2), ('c', 1)]`."
   ]
  },
  {
   "cell_type": "markdown",
   "metadata": {},
   "source": [
    "#### À faire toi-même"
   ]
  },
  {
   "cell_type": "markdown",
   "metadata": {},
   "source": [
    "La fonction `apparier(t1, t2)` prend deux tableaux de même taille en argument et renvoie un tableau obtenue en appararillant les éléments de `t1` et `t2` de même index.\n",
    "\n",
    "Compléter le code qui suit pour résoudre ce problème"
   ]
  },
  {
   "cell_type": "code",
   "execution_count": null,
   "metadata": {},
   "outputs": [],
   "source": [
    "def apparier(t1, t2):\n",
    "    assert len(t1) == len(t2)\n",
    "    t = []\n",
    "    for i in range(len(t1)):\n",
    "        pass"
   ]
  },
  {
   "cell_type": "code",
   "execution_count": null,
   "metadata": {},
   "outputs": [],
   "source": [
    "# vérifier votre solution\n",
    "tab1 = ['a', 'b', 'c']\n",
    "tab2 = [3, 2, 1]\n",
    "assert apparier(tab1, tab2) == [('a', 3), ('b', 2), ('c', 1)]"
   ]
  },
  {
   "cell_type": "markdown",
   "metadata": {},
   "source": [
    "___"
   ]
  },
  {
   "cell_type": "markdown",
   "metadata": {},
   "source": [
    "Un cas d'utilisation fréquent de l'appariement est la lecture dans une boucle des paires"
   ]
  },
  {
   "cell_type": "code",
   "execution_count": null,
   "metadata": {},
   "outputs": [],
   "source": [
    "# tester moi\n",
    "tab1 = ['a', 'b', 'c']\n",
    "tab2 = [3, 2, 1]\n",
    "for a, b in apparier(tab1, tab2):\n",
    "    print(f'a vaut \"{a}\" et b vaut \"{b}\"')"
   ]
  },
  {
   "cell_type": "markdown",
   "metadata": {},
   "source": [
    "en fait, Python dispose d'une fonction prédéfinie `zip(seq1, seq2, ...)` qui fait la même chose avec des «séquences» (`list` est un cas particulier de séquence).\n",
    "\n",
    "*note*: `zip`?? penser à la «fermeture-éclair» d'un blouson ..."
   ]
  },
  {
   "cell_type": "code",
   "execution_count": null,
   "metadata": {},
   "outputs": [],
   "source": [
    "z = zip(tab1, tab2)\n",
    "print(z)\n",
    "print(list(z))"
   ]
  },
  {
   "cell_type": "markdown",
   "metadata": {},
   "source": [
    "*note*: elle renvoie un objet spécial de type `zip` car on l'utilise souvent dans une boucle directement c'est-à-dire sans mémoriser le zip (un peu comme avec `range`)"
   ]
  },
  {
   "cell_type": "code",
   "execution_count": null,
   "metadata": {},
   "outputs": [],
   "source": [
    "# tester moi\n",
    "tab1 = ['a', 'b', 'c']\n",
    "tab2 = [3, 2, 1]\n",
    "for a, b in zip(tab1, tab2):\n",
    "    print(f'a vaut \"{a}\" et b vaut \"{b}\"')"
   ]
  },
  {
   "cell_type": "markdown",
   "metadata": {},
   "source": [
    "#### Découverte: la syntaxe en compréhension est aussi valable pour les `dict`"
   ]
  },
  {
   "cell_type": "markdown",
   "metadata": {},
   "source": [
    "Voici un exemple simple:"
   ]
  },
  {
   "cell_type": "code",
   "execution_count": null,
   "metadata": {},
   "outputs": [],
   "source": [
    "modele_tuple_nomme = {desc: None for desc in descripteurs}\n",
    "modele_tuple_nomme"
   ]
  },
  {
   "cell_type": "markdown",
   "metadata": {},
   "source": [
    "Bien Noter que la partie avant `for` est de la forme `<cle>: <val>`.\n",
    "\n",
    "On utilise généralement cela avec `zip`:"
   ]
  },
  {
   "cell_type": "code",
   "execution_count": null,
   "metadata": {},
   "outputs": [],
   "source": [
    "cles = (\"cle1\", \"cle2\", \"cle3\")\n",
    "valeurs = (\"ah\", \"oh\", \"hein\")\n",
    "{c: v for c, v in zip(cles, valeurs)} # zip fonctionne aussi avec des tuples de même longueur!"
   ]
  },
  {
   "cell_type": "markdown",
   "metadata": {},
   "source": [
    "Voici encore un exemple bien utile pour réaliser un tableau à partir de données CSV."
   ]
  },
  {
   "cell_type": "code",
   "execution_count": null,
   "metadata": {},
   "outputs": [],
   "source": [
    "cles = (\"cle1\", \"cle2\", \"cle3\")\n",
    "liste_valeurs = [(\"ah\", \"oh\", \"hein\"), ('riri', 'fifi', 'loulou')]\n",
    "# on veut un tableau de tuples nommés\n",
    "[{c: v for c, v in zip(cles, valeurs)} for valeurs in liste_valeurs]"
   ]
  },
  {
   "cell_type": "markdown",
   "metadata": {},
   "source": [
    "### Synthèse: retour au problème des données au format CSV"
   ]
  },
  {
   "cell_type": "markdown",
   "metadata": {},
   "source": [
    "En combinant tout ce que tu as appris et les exemples précédents, tu devrais être capable d'obtenir notre liste de n-uplets nommés en quelques lignes ... Non?\n",
    "\n",
    "*rappel*: au départ, on **dispose de**\n",
    "```python\n",
    "donnees_CSV = \"\"\"nom,prenom,date_naissance\n",
    "Durand,Jean-Pierre,23/05/1985\n",
    "Dupont,Christophe,15/12/1967\n",
    "Terta,Henry,12/06/1978\"\"\"\n",
    "```\n",
    "\n",
    "au final, on veut **produire** une liste de *tuples nommés*:\n",
    "```python\n",
    "[\n",
    " {'nom': 'Durand', 'prenom': 'Jean-Pierre', 'date_naissance': '23/05/1985'},\n",
    " {'nom': 'Dupont', 'prenom': 'Christophe', 'date_naissance': '15/12/1967'},\n",
    " {'nom': 'Terta', 'prenom': 'Henry', 'date_naissance': '12/06/1978'}\n",
    "]\n",
    "```\n"
   ]
  },
  {
   "cell_type": "markdown",
   "metadata": {},
   "source": [
    "Voici comment y parvenir en deux «compréhensions»"
   ]
  },
  {
   "cell_type": "code",
   "execution_count": null,
   "metadata": {},
   "outputs": [],
   "source": [
    "descripteurs, *objets = [tuple(strs.split(',')) for strs in donnees_CSV.split('\\n')]\n",
    "objets = [ # sur plusieurs ligne pour plus de clarté.\n",
    "    {\n",
    "        desc: val for desc, val in zip(descripteurs, obj)\n",
    "    }\n",
    "    for obj in objets\n",
    "]\n",
    "objets"
   ]
  },
  {
   "cell_type": "markdown",
   "metadata": {},
   "source": [
    "#### À faire toi-même"
   ]
  },
  {
   "cell_type": "markdown",
   "metadata": {},
   "source": [
    "La syntaxe en compréhension des listes et des dictionnaires est utile et puissante mais nécessite pas mal d'investissement pour être bien maîtrisée.\n",
    "\n",
    "Pour cette raison, reprend le problème en écrivant une fonction `csv_vers_objets(csv_str)` qui prend en argument la chaîne au format csv et renvoie le tableau de n-uplets nommés correspondant.\n",
    "\n",
    "Nous la réutiliserons dans le 05_applications..."
   ]
  },
  {
   "cell_type": "code",
   "execution_count": null,
   "metadata": {},
   "outputs": [],
   "source": [
    "def csv_vers_objets(csv_str):\n",
    "    pass"
   ]
  },
  {
   "cell_type": "code",
   "execution_count": null,
   "metadata": {},
   "outputs": [],
   "source": [
    "assert csv_vers_objets(donnees_CSV) == objets"
   ]
  }
 ],
 "metadata": {
  "kernelspec": {
   "display_name": "Python 3",
   "language": "python",
   "name": "python3"
  },
  "language_info": {
   "codemirror_mode": {
    "name": "ipython",
    "version": 3
   },
   "file_extension": ".py",
   "mimetype": "text/x-python",
   "name": "python",
   "nbconvert_exporter": "python",
   "pygments_lexer": "ipython3",
   "version": "3.6.8"
  }
 },
 "nbformat": 4,
 "nbformat_minor": 4
}
