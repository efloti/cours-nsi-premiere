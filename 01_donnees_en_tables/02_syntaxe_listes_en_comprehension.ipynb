{
 "cells": [
  {
   "cell_type": "markdown",
   "metadata": {},
   "source": [
    "# Syntaxe des listes en compréhension"
   ]
  },
  {
   "cell_type": "markdown",
   "metadata": {},
   "source": [
    "Lorsque l'on désigne *explicitement* chaque élément d'un tableau comme dans `t = [4, 3, 2, 1]`, on parle de **notation en extension** du tableau.\n",
    "\n",
    "Python connaît une autre notation pour *construire des listes* appelée **notation en compréhension**.\n",
    "\n",
    "En voici quelques exemples; **expérimenter** pour vous familiariser avec cette *syntaxe*."
   ]
  },
  {
   "cell_type": "code",
   "execution_count": null,
   "metadata": {},
   "outputs": [],
   "source": [
    "[None for _ in range(10)] # on peut faire plus court pour obtenir cela ..."
   ]
  },
  {
   "cell_type": "code",
   "execution_count": null,
   "metadata": {},
   "outputs": [],
   "source": [
    "## trouve une version plus courte du précédent\n",
    "pass"
   ]
  },
  {
   "cell_type": "code",
   "execution_count": null,
   "metadata": {},
   "outputs": [],
   "source": [
    "[i for i in range(6)] # même résultat avec list(range(6))"
   ]
  },
  {
   "cell_type": "code",
   "execution_count": null,
   "metadata": {},
   "outputs": [],
   "source": [
    "[x + 1 for x in [0, 1, 4, 9, 16, 25]]"
   ]
  },
  {
   "cell_type": "markdown",
   "metadata": {},
   "source": [
    "On peut **utiliser la variable de boucle** pour calculer"
   ]
  },
  {
   "cell_type": "code",
   "execution_count": null,
   "metadata": {},
   "outputs": [],
   "source": [
    "[x * x for x in range(6)]"
   ]
  },
  {
   "cell_type": "markdown",
   "metadata": {},
   "source": [
    "On peut combiner les deux exemples précédents en **imbriquant** ..."
   ]
  },
  {
   "cell_type": "code",
   "execution_count": null,
   "metadata": {},
   "outputs": [],
   "source": [
    "[x + 1 for x in [i ** 2 for i in range(6)]] # la liste interne est construite en premier"
   ]
  },
  {
   "cell_type": "markdown",
   "metadata": {},
   "source": [
    "L'intérêt? Supposer que vous ayez besoins des précédents (et non suivants) des carrés de 1 à 100... (pas de 0 à 99...)"
   ]
  },
  {
   "cell_type": "markdown",
   "metadata": {},
   "source": [
    "#### À faire toi-même\n",
    "\n",
    "Réalise la liste indiquée précédemment en utilisant la **notation en compréhension**."
   ]
  },
  {
   "cell_type": "markdown",
   "metadata": {},
   "source": [
    "___"
   ]
  },
  {
   "cell_type": "markdown",
   "metadata": {},
   "source": [
    "On peut utiliser une **fonction** avec la variable de boucle"
   ]
  },
  {
   "cell_type": "code",
   "execution_count": null,
   "metadata": {},
   "outputs": [],
   "source": [
    "ma_fonc = lambda x: (x, x**2) # x -> (x, x**2)\n",
    "[ma_fonc(nb) for nb in range(5)]"
   ]
  },
  {
   "cell_type": "markdown",
   "metadata": {},
   "source": [
    "on peut faire des **sélections** avec un `if`..."
   ]
  },
  {
   "cell_type": "code",
   "execution_count": null,
   "metadata": {},
   "outputs": [],
   "source": [
    "N = 10\n",
    "t = [i for i in range(N) if i not in [3, 7]]\n",
    "t"
   ]
  },
  {
   "cell_type": "markdown",
   "metadata": {},
   "source": [
    "Attention à l'ordre!"
   ]
  },
  {
   "cell_type": "code",
   "execution_count": null,
   "metadata": {},
   "outputs": [],
   "source": [
    "[i if i not in [3, 7] for i in range(N)] # la sélection if doit toujours avoir lieu **après** la boucle associée"
   ]
  },
  {
   "cell_type": "code",
   "execution_count": null,
   "metadata": {},
   "outputs": [],
   "source": [
    "a, b = 10, 20\n",
    "[i for i in range(a, b) if i % 2 != 0]"
   ]
  },
  {
   "cell_type": "markdown",
   "metadata": {},
   "source": [
    "#### À faire toi-même"
   ]
  },
  {
   "cell_type": "markdown",
   "metadata": {},
   "source": [
    "Je voudrais une petite valse à trois temps de 100 mesures `[1,2,3,1,2,3,...]`\n",
    "\n",
    "*aide*: utiliser l'opérateur modulo `%` et un peu de sélection ... au fait, le reste d'une division est toujours strictement inférieure au diviseur ..."
   ]
  },
  {
   "cell_type": "code",
   "execution_count": null,
   "metadata": {},
   "outputs": [],
   "source": [
    "# à toi de jouer\n",
    "solution = ____"
   ]
  },
  {
   "cell_type": "code",
   "execution_count": null,
   "metadata": {},
   "outputs": [],
   "source": [
    "# pour tester ta solution.\n",
    "from random import randint\n",
    "i = 3 * randint(100)\n",
    "assert len(solution) == 100\n",
    "assert solution[i:i+3] == [1,2,3]"
   ]
  },
  {
   "cell_type": "markdown",
   "metadata": {},
   "source": [
    "___"
   ]
  },
  {
   "cell_type": "markdown",
   "metadata": {},
   "source": [
    "#### À faire toi-même"
   ]
  },
  {
   "cell_type": "markdown",
   "metadata": {},
   "source": [
    "Construire la liste de tous les entiers entre 50 et 100 qui ne sont ni des multiples de 2 ni des multiples de 5"
   ]
  },
  {
   "cell_type": "markdown",
   "metadata": {},
   "source": [
    "___"
   ]
  },
  {
   "cell_type": "markdown",
   "metadata": {},
   "source": [
    "On peut utiliser plusieurs `for`"
   ]
  },
  {
   "cell_type": "code",
   "execution_count": null,
   "metadata": {},
   "outputs": [],
   "source": [
    "[(i, j) for i in range(3) for j in range(6)]"
   ]
  },
  {
   "cell_type": "code",
   "execution_count": null,
   "metadata": {},
   "outputs": [],
   "source": [
    "[(i, j) for j in range(6) for i in range(3)]"
   ]
  },
  {
   "cell_type": "markdown",
   "metadata": {},
   "source": [
    "#### À faire toi-même"
   ]
  },
  {
   "cell_type": "markdown",
   "metadata": {},
   "source": [
    "Construire la liste de tous les mots possibles de trois lettres qu'on peut former à partir de 'a', 'b' et 'c'. Combien y en a-t-il?\n",
    "\n",
    "*aide*: `for l in \"abc\"` -> `l` vaut successivement `'a'`, `'b'`, `'c'`. Penser à la concaténation des `str` avec `+`... Utiliser plusieurs boucles... (combien?)."
   ]
  },
  {
   "cell_type": "markdown",
   "metadata": {},
   "source": [
    "_____"
   ]
  },
  {
   "cell_type": "markdown",
   "metadata": {},
   "source": [
    "#### À faire toi-même"
   ]
  },
  {
   "cell_type": "markdown",
   "metadata": {},
   "source": [
    "Pareil que le précédent mais les mots ne doivent pas contenir deux fois la même lettre (*aide*: utiliser un if...)"
   ]
  },
  {
   "cell_type": "markdown",
   "metadata": {},
   "source": [
    "___"
   ]
  },
  {
   "cell_type": "markdown",
   "metadata": {},
   "source": [
    "# Complément: difficile!"
   ]
  },
  {
   "cell_type": "markdown",
   "metadata": {},
   "source": [
    "on peut imbriquer les listes en compréhension à un bout ..."
   ]
  },
  {
   "cell_type": "code",
   "execution_count": null,
   "metadata": {},
   "outputs": [],
   "source": [
    "[x + 1 for x in [x**2 for x in range(6)]] # la liste interne est construite en premier"
   ]
  },
  {
   "cell_type": "markdown",
   "metadata": {},
   "source": [
    "ou à l'autre ..."
   ]
  },
  {
   "cell_type": "code",
   "execution_count": null,
   "metadata": {},
   "outputs": [],
   "source": [
    "[[i for i in range(j, j+4)] for j in [1, 5, 9]]"
   ]
  },
  {
   "cell_type": "markdown",
   "metadata": {},
   "source": [
    "ou au deux ..."
   ]
  },
  {
   "cell_type": "code",
   "execution_count": null,
   "metadata": {},
   "outputs": [],
   "source": [
    "N = 10\n",
    "matrice = [[i for i in range(j, j + N)] for j in [ 1 + i * N for i in range(N)]]\n",
    "matrice"
   ]
  },
  {
   "cell_type": "code",
   "execution_count": null,
   "metadata": {},
   "outputs": [],
   "source": [
    "bg, bd = 3, 18\n",
    "nb_subdivisions = 7\n",
    "sub_intervalle = [bg + i * (bd - bg) / nb_subdivisions for i in range(nb_subdivisions + 1)]\n",
    "sub_intervalle"
   ]
  },
  {
   "cell_type": "code",
   "execution_count": null,
   "metadata": {},
   "outputs": [],
   "source": [
    "deb = 2\n",
    "pas = 5\n",
    "nb_pas = 12\n",
    "intervalle = [deb + i * pas for i in range(nb_pas)]\n",
    "intervalle"
   ]
  }
 ],
 "metadata": {
  "kernelspec": {
   "display_name": "Python 3",
   "language": "python",
   "name": "python3"
  },
  "language_info": {
   "codemirror_mode": {
    "name": "ipython",
    "version": 3
   },
   "file_extension": ".py",
   "mimetype": "text/x-python",
   "name": "python",
   "nbconvert_exporter": "python",
   "pygments_lexer": "ipython3",
   "version": "3.6.8"
  }
 },
 "nbformat": 4,
 "nbformat_minor": 4
}
