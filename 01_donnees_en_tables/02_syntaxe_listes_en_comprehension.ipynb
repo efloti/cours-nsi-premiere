{
 "cells": [
  {
   "cell_type": "markdown",
   "metadata": {},
   "source": [
    "# Écriture des listes en «compréhension»"
   ]
  },
  {
   "cell_type": "markdown",
   "metadata": {},
   "source": [
    "**Utiliser la table des matières pour ouvrir/fermer les sections**"
   ]
  },
  {
   "cell_type": "markdown",
   "metadata": {},
   "source": [
    "Lorsque l'on désigne *explicitement* chaque élément d'un tableau comme dans `t = [4, 3, 2, 1]`, on parle de **notation en extension** du tableau: *chaque valeur est explicitée*.\n",
    "\n",
    "Python connaît une autre «notation» pour *construire des listes* (ou tableau) appelée **écriture en compréhension**.\n",
    "\n",
    "En voici quelques exemples; **expérimentez** pour vous familiariser avec cette *syntaxe*."
   ]
  },
  {
   "cell_type": "markdown",
   "metadata": {
    "toc-hr-collapsed": true,
    "toc-nb-collapsed": true
   },
   "source": [
    "### Premiers exemples"
   ]
  },
  {
   "cell_type": "code",
   "execution_count": null,
   "metadata": {},
   "outputs": [],
   "source": [
    "[None for _ in range(10)]"
   ]
  },
  {
   "cell_type": "markdown",
   "metadata": {},
   "source": [
    "L'écriture précédente est équivalente à:"
   ]
  },
  {
   "cell_type": "code",
   "execution_count": null,
   "metadata": {},
   "outputs": [],
   "source": [
    "lst = []\n",
    "for _ in range(10):\n",
    "    lst.append(None)\n",
    "print(lst)\n",
    "\n",
    "# Note: Dans ce cas particulier,\n",
    "# on peut aussi utiliser la syntaxe: (décommenter) \n",
    "#[None] * 10 "
   ]
  },
  {
   "cell_type": "markdown",
   "metadata": {},
   "source": [
    "Autre exemple:"
   ]
  },
  {
   "cell_type": "code",
   "execution_count": null,
   "metadata": {},
   "outputs": [],
   "source": [
    "[i for i in range(6)] # même résultat avec list(range(6))"
   ]
  },
  {
   "cell_type": "markdown",
   "metadata": {},
   "source": [
    "est équivalent à:"
   ]
  },
  {
   "cell_type": "code",
   "execution_count": null,
   "metadata": {},
   "outputs": [],
   "source": [
    "lst = []\n",
    "for i in range(6):\n",
    "    lst.append(i)\n",
    "print(lst)"
   ]
  },
  {
   "cell_type": "markdown",
   "metadata": {
    "toc-hr-collapsed": true,
    "toc-nb-collapsed": true
   },
   "source": [
    "### Calculer avec la variable de boucle"
   ]
  },
  {
   "cell_type": "markdown",
   "metadata": {},
   "source": [
    "On peut **utiliser la variable de boucle** pour calculer la «prochaîne valeur» de la liste en cours de production. Par exemple:"
   ]
  },
  {
   "cell_type": "code",
   "execution_count": null,
   "metadata": {},
   "outputs": [],
   "source": [
    "# produire les «suivants» de x pour chaque valeur x dans 0, 1, 4,...\n",
    "[x + 1 for x in [0, 1, 4, 9, 16, 25]]"
   ]
  },
  {
   "cell_type": "code",
   "execution_count": null,
   "metadata": {},
   "outputs": [],
   "source": [
    "# produire les carrés de x pour x allant de 0 jusqu'à 5.\n",
    "[x * x for x in range(6)]"
   ]
  },
  {
   "cell_type": "markdown",
   "metadata": {},
   "source": [
    "On peut combiner les deux exemples précédents en **imbriquant** le second dans le premier"
   ]
  },
  {
   "cell_type": "code",
   "execution_count": null,
   "metadata": {},
   "outputs": [],
   "source": [
    "[y + 1 for y in [x ** 2 for x in range(6)]] # la liste interne est construite en premier"
   ]
  },
  {
   "cell_type": "markdown",
   "metadata": {},
   "source": [
    "C'est équivalent à:"
   ]
  },
  {
   "cell_type": "code",
   "execution_count": null,
   "metadata": {},
   "outputs": [],
   "source": [
    "lst = []\n",
    "for x in range(6):\n",
    "    y = x ** 2\n",
    "    lst.append(y+1)\n",
    "print(lst)"
   ]
  },
  {
   "cell_type": "markdown",
   "metadata": {},
   "source": [
    "ou encore à (en combinant les deux calculs):"
   ]
  },
  {
   "cell_type": "code",
   "execution_count": null,
   "metadata": {},
   "outputs": [],
   "source": [
    "# produire x**2+1 pour x de 0 à 5.\n",
    "[x**2 + 1 for x in range(6)]"
   ]
  },
  {
   "cell_type": "markdown",
   "metadata": {},
   "source": [
    "#### Exercice 1"
   ]
  },
  {
   "cell_type": "markdown",
   "metadata": {},
   "source": [
    "En utilisant l'*écriture en compréhension* des listes, construit:\n",
    "1. une liste qui contient 10 fois le mot \"salut\".\n",
    "\n",
    "2. une liste de longueur 20 qui contient des nombres de la forme $-1$, $-0.9$, $-0.8$ etc.\n",
    "\n",
    "3. une liste de mots en majuscule à partir d'une liste de mots en minuscule comme `[\"syntaxe\", \"des\", \"listes\", \"en\", \"«compréhension»\"]`. *Aide*: penser à la méthode `upper` des chaînes.\n",
    "\n",
    "3. une liste qui contient contient `True` ou `False` à partir de la liste `l=[5, 2, 8, 9, 12]`. `True` signifie que la valeur correspondante de `l` est paire, `False` qu'elle est impaire. *Aide*: penser à l'opérateur modulo `%`."
   ]
  },
  {
   "cell_type": "code",
   "execution_count": null,
   "metadata": {},
   "outputs": [],
   "source": [
    "#1\n"
   ]
  },
  {
   "cell_type": "code",
   "execution_count": null,
   "metadata": {
    "jupyter": {
     "source_hidden": true
    }
   },
   "outputs": [],
   "source": [
    "#1\n",
    "[\"salut\" for _ in range(10)] # ou [\"salut\"] * 10"
   ]
  },
  {
   "cell_type": "code",
   "execution_count": null,
   "metadata": {},
   "outputs": [],
   "source": [
    "#2\n"
   ]
  },
  {
   "cell_type": "code",
   "execution_count": null,
   "metadata": {
    "jupyter": {
     "source_hidden": true
    }
   },
   "outputs": [],
   "source": [
    "#2\n",
    "[-1+i*0.1 for i in range(20)]"
   ]
  },
  {
   "cell_type": "code",
   "execution_count": null,
   "metadata": {},
   "outputs": [],
   "source": [
    "#3\n"
   ]
  },
  {
   "cell_type": "code",
   "execution_count": null,
   "metadata": {
    "jupyter": {
     "source_hidden": true
    }
   },
   "outputs": [],
   "source": [
    "#3\n",
    "[mot.upper() for mot in [\"syntaxe\", \"des\", \"listes\", \"en\", \"«compréhension»\"]]"
   ]
  },
  {
   "cell_type": "code",
   "execution_count": null,
   "metadata": {},
   "outputs": [],
   "source": [
    "#4\n"
   ]
  },
  {
   "cell_type": "code",
   "execution_count": null,
   "metadata": {
    "jupyter": {
     "source_hidden": true
    }
   },
   "outputs": [],
   "source": [
    "#4\n",
    "[n % 2 == 0 for n in [5, 2, 8, 9, 12]]"
   ]
  },
  {
   "cell_type": "markdown",
   "metadata": {},
   "source": [
    "___"
   ]
  },
  {
   "cell_type": "markdown",
   "metadata": {},
   "source": [
    "#### Exercice 2"
   ]
  },
  {
   "cell_type": "markdown",
   "metadata": {},
   "source": [
    "Je voudrais une petite valse à trois temps de 100 mesures `[1,2,3,1,2,3,...]`\n",
    "\n",
    "*Aide*: utiliser l'opérateur modulo `%` ... au fait, le reste d'une division est toujours strictement inférieure au diviseur ..."
   ]
  },
  {
   "cell_type": "code",
   "execution_count": null,
   "metadata": {},
   "outputs": [],
   "source": [
    "# à toi de jouer\n",
    "solution = ____"
   ]
  },
  {
   "cell_type": "code",
   "execution_count": null,
   "metadata": {},
   "outputs": [],
   "source": [
    "# pour tester ta solution.\n",
    "from random import randint\n",
    "i = 3 * randint(1, 100)\n",
    "assert len(solution) == 300\n",
    "assert solution[i:i+3] == [1,2,3]"
   ]
  },
  {
   "cell_type": "code",
   "execution_count": null,
   "metadata": {
    "jupyter": {
     "source_hidden": true
    }
   },
   "outputs": [],
   "source": [
    "solution1 = [(i % 3) + 1 for i in range(3 * 100)]\n",
    "print(solution1)\n",
    "solution2 = []"
   ]
  },
  {
   "cell_type": "markdown",
   "metadata": {},
   "source": [
    "___"
   ]
  },
  {
   "cell_type": "markdown",
   "metadata": {
    "toc-hr-collapsed": true,
    "toc-nb-collapsed": true
   },
   "source": [
    "### Utiliser une fonction"
   ]
  },
  {
   "cell_type": "markdown",
   "metadata": {},
   "source": [
    "On peut utiliser une **fonction** utilisant la variable de boucles pour produire les valeurs de la liste:"
   ]
  },
  {
   "cell_type": "code",
   "execution_count": null,
   "metadata": {},
   "outputs": [],
   "source": [
    "def ma_fonc(x):\n",
    "    return (x, x ** 2)\n",
    "\n",
    "[ma_fonc(val) for val in range(5)]"
   ]
  },
  {
   "cell_type": "code",
   "execution_count": null,
   "metadata": {},
   "outputs": [],
   "source": [
    "# ou alternativement avec les «micro-fonctions» lambda:\n",
    "ma_fonc = lambda x: (x, x**2) # x -> (x, x**2)\n",
    "[ma_fonc(val) for val in range(5)]"
   ]
  },
  {
   "cell_type": "markdown",
   "metadata": {},
   "source": [
    "Bien sûr, on aurait pu écrire plus directement:"
   ]
  },
  {
   "cell_type": "code",
   "execution_count": null,
   "metadata": {},
   "outputs": [],
   "source": [
    "[(val, val**2) for val in range(5)]"
   ]
  },
  {
   "cell_type": "markdown",
   "metadata": {},
   "source": [
    "#### Exercice 3 - conversions"
   ]
  },
  {
   "cell_type": "markdown",
   "metadata": {},
   "source": [
    "Après avoir ouvert un fichier, on suppose avoir obtenue une chaîne comme `\"12,5,-9\"` qui *représente* une liste de nombres entiers. \n",
    "\n",
    "1. Convertir une telle chaîne en une *liste d'entiers*; Pour notre exemple, cela donnerait `[12, 5, -9]`."
   ]
  },
  {
   "cell_type": "code",
   "execution_count": null,
   "metadata": {},
   "outputs": [],
   "source": [
    "ligne = \"12,5,-9\"\n",
    "# à toi de jouer (pense à split afin d'obtenir une liste de chaînes)"
   ]
  },
  {
   "cell_type": "code",
   "execution_count": null,
   "metadata": {
    "jupyter": {
     "source_hidden": true
    }
   },
   "outputs": [],
   "source": [
    "[int(nb) for nb in ligne.split(\",\")]"
   ]
  },
  {
   "cell_type": "markdown",
   "metadata": {},
   "source": [
    "2. *Inversement*, on suppose disposer d'une liste d'entiers qu'on souhaiterait enregistrer dans un fichier texte (par opposition à binaire). On décide donc de convertir cette liste en *une chaîne de valeurs séparées par des virgules*...\n",
    "\n",
    "   Par exemple, `[8, -12, 4]` doit être transformé en `\"8,-12,4\"`."
   ]
  },
  {
   "cell_type": "code",
   "execution_count": null,
   "metadata": {},
   "outputs": [],
   "source": [
    "lst = [8, -12, 4]\n",
    "#1: transforme cette liste d'entiers en une liste de chaînes\n",
    "\n",
    "#2: Utilise join pour transformer cette liste de chaînes en une liste d'entiers\n"
   ]
  },
  {
   "cell_type": "code",
   "execution_count": null,
   "metadata": {
    "jupyter": {
     "source_hidden": true
    }
   },
   "outputs": [],
   "source": [
    "lst = [8, -12, 4]\n",
    "#1: transforme cette liste d'entiers en une liste de chaînes\n",
    "tmp = [str(x) for x in lst]\n",
    "#2: Utilise join pour transformer cette liste de chaînes en une liste d'entiers\n",
    "\",\".join(tmp)"
   ]
  },
  {
   "cell_type": "code",
   "execution_count": null,
   "metadata": {
    "jupyter": {
     "source_hidden": true
    }
   },
   "outputs": [],
   "source": [
    "lst = [8, -12, 4]\n",
    "# note: on peut «composer» les deux étapes:\n",
    "\",\".join([str(x) for x in lst])"
   ]
  },
  {
   "cell_type": "markdown",
   "metadata": {},
   "source": [
    "____"
   ]
  },
  {
   "cell_type": "markdown",
   "metadata": {
    "toc-hr-collapsed": true,
    "toc-nb-collapsed": true
   },
   "source": [
    "### Sélectionner avec `if`"
   ]
  },
  {
   "cell_type": "markdown",
   "metadata": {},
   "source": [
    "L'objectif est de ne *produire* les valeurs que lorsque la condition qui suit le `if` vaut «vraie». "
   ]
  },
  {
   "cell_type": "code",
   "execution_count": null,
   "metadata": {},
   "outputs": [],
   "source": [
    "N = 10\n",
    "# produire i pour i de 0 à N-1 à condition que i ne soit ni 3, ni 7.\n",
    "[i for i in range(N) if i not in [3, 7]]"
   ]
  },
  {
   "cell_type": "markdown",
   "metadata": {},
   "source": [
    "*Attention à l'ordre*: la condition doit suivre la boucle. Ceci ne fonctionnera pas:"
   ]
  },
  {
   "cell_type": "code",
   "execution_count": null,
   "metadata": {},
   "outputs": [],
   "source": [
    "[i if i not in [3, 7] for i in range(N)] # la sélection if doit toujours avoir lieu **après** la boucle associée"
   ]
  },
  {
   "cell_type": "markdown",
   "metadata": {},
   "source": [
    "Encore un exemple:"
   ]
  },
  {
   "cell_type": "code",
   "execution_count": null,
   "metadata": {},
   "outputs": [],
   "source": [
    "a, b = 10, 20\n",
    "# produire i pour i de a à b-1 à condition que i soit impair \n",
    "#     «être impair»: le reste de la division entière par 2 n'est pas nul.\n",
    "[i for i in range(a, b) if i % 2 != 0]"
   ]
  },
  {
   "cell_type": "markdown",
   "metadata": {},
   "source": [
    "#### Exercice 4"
   ]
  },
  {
   "cell_type": "markdown",
   "metadata": {},
   "source": [
    "Construire la liste de tous les entiers entre 50 et 100 (inclus) qui ne sont ni des multiples de 2 ni des multiples de 5: `[51,53,57,...]`"
   ]
  },
  {
   "cell_type": "code",
   "execution_count": null,
   "metadata": {},
   "outputs": [],
   "source": []
  },
  {
   "cell_type": "code",
   "execution_count": null,
   "metadata": {
    "jupyter": {
     "source_hidden": true
    }
   },
   "outputs": [],
   "source": [
    "[i for i in range(50, 101) if not i % 2 == 0 and not i % 5 == 0]"
   ]
  },
  {
   "cell_type": "markdown",
   "metadata": {},
   "source": [
    "___"
   ]
  },
  {
   "cell_type": "markdown",
   "metadata": {
    "toc-hr-collapsed": true,
    "toc-nb-collapsed": true
   },
   "source": [
    "### Utiliser plusieurs `for`"
   ]
  },
  {
   "cell_type": "markdown",
   "metadata": {},
   "source": [
    "Cela ressemble aux *boucles imbriquées*:"
   ]
  },
  {
   "cell_type": "code",
   "execution_count": null,
   "metadata": {},
   "outputs": [],
   "source": [
    "# produire (i,j) pour i de 0 à 2 et, pour chaque i, pour j de 0 à 6.  \n",
    "[(i,j) for i in range(3) for j in range(6)]"
   ]
  },
  {
   "cell_type": "code",
   "execution_count": null,
   "metadata": {},
   "outputs": [],
   "source": [
    "# produire (i,j) pour j de 0 à 6 et, pour chaque j, pour i de 0 à 2.\n",
    "[(i,j) for j in range(6) for i in range(3)]"
   ]
  },
  {
   "cell_type": "markdown",
   "metadata": {},
   "source": [
    "Observez que la seconde boucle est complètement «déroulée» *à chaque itération* de la première. \n",
    "\n",
    "On obtient la même chose (que dans le 1er cas ci-dessus) comme cela:"
   ]
  },
  {
   "cell_type": "code",
   "execution_count": null,
   "metadata": {},
   "outputs": [],
   "source": [
    "l = []\n",
    "for i in range(3):\n",
    "    for j in range(6):\n",
    "        l.append( (i,j) )\n",
    "l"
   ]
  },
  {
   "cell_type": "markdown",
   "metadata": {},
   "source": [
    "#### Exercice 5"
   ]
  },
  {
   "cell_type": "markdown",
   "metadata": {},
   "source": [
    "Construire la liste de tous les mots possibles de trois lettres qu'on peut former à partir de 'a', 'b' et 'c'. Combien y en a-t-il?\n",
    "\n",
    "*Aide*: \n",
    "- Lorsqu'on parcourt - `for` - une chaîne, la variable de boucle prend pour valeurs successives chaque caractère de la chaîne (voir l'exemple ci-après),\n",
    "- Penser à la concaténation des chaînes avec `+`: `\"b\"+\"a\"` produit `\"ba\"`,\n",
    "- Utiliser plusieurs boucles... (combien?)."
   ]
  },
  {
   "cell_type": "code",
   "execution_count": null,
   "metadata": {},
   "outputs": [],
   "source": [
    "# parcourir une chaîne\n",
    "for l in \"abc\":\n",
    "    print(l)"
   ]
  },
  {
   "cell_type": "code",
   "execution_count": null,
   "metadata": {},
   "outputs": [],
   "source": [
    "# ta solution\n"
   ]
  },
  {
   "cell_type": "code",
   "execution_count": null,
   "metadata": {
    "jupyter": {
     "source_hidden": true
    }
   },
   "outputs": [],
   "source": [
    "# Cela produit 3*3*3=3**3=27 mots\n",
    "[l1+l2+l3 for l1 in \"abc\" for l2 in \"abc\" for l3 in \"abc\"]"
   ]
  },
  {
   "cell_type": "markdown",
   "metadata": {},
   "source": [
    "_____"
   ]
  },
  {
   "cell_type": "markdown",
   "metadata": {},
   "source": [
    "#### Exercice 6"
   ]
  },
  {
   "cell_type": "markdown",
   "metadata": {},
   "source": [
    "Pareil que le précédent mais les mots ne doivent pas contenir deux fois la même lettre (*aide*: utiliser un `if`...puis réfléchir «à l'envers»: on **ne veut pas** que la première lettre soit égale à la seconde, ou à la troisième ou la seconde à la troisième)"
   ]
  },
  {
   "cell_type": "code",
   "execution_count": null,
   "metadata": {},
   "outputs": [],
   "source": [
    "# ta solution\n"
   ]
  },
  {
   "cell_type": "code",
   "execution_count": null,
   "metadata": {
    "jupyter": {
     "source_hidden": true
    }
   },
   "outputs": [],
   "source": [
    "[ l1+l2+l3\n",
    "     for l1 in \"abc\" \n",
    "     for l2 in \"abc\" \n",
    "     for l3 in \"abc\" \n",
    "     if not (l1 == l2 or l1 == l3 or l2 == l3)\n",
    "]"
   ]
  },
  {
   "cell_type": "markdown",
   "metadata": {},
   "source": [
    "___"
   ]
  },
  {
   "cell_type": "markdown",
   "metadata": {},
   "source": [
    "#### Exercice 7"
   ]
  },
  {
   "cell_type": "markdown",
   "metadata": {},
   "source": [
    "**Subdiviser** un intervalle $[a, b]$ en $n$ *sous-intervalles de même longueur* consiste à:\n",
    "1. diviser la longueur de l'intervalle - $b-a$ - par $n$ pour trouver le «`pas`»,\n",
    "2. puis à utiliser ce `pas` pour trouver la suite:\n",
    "        a, a + pas, a + 2*pas, a + 3*pas, ..., b"
   ]
  },
  {
   "attachments": {
    "81e34905-78fb-47d9-8e43-c0f0e9e944a9.png": {
     "image/png": "[encoded data removed]"
    }
   },
   "cell_type": "markdown",
   "metadata": {},
   "source": [
    "![subdivision.png](attachment:81e34905-78fb-47d9-8e43-c0f0e9e944a9.png)"
   ]
  },
  {
   "cell_type": "markdown",
   "metadata": {},
   "source": [
    "Par exemple, subdiviser l'intervalle $[-3,3]$ en $3$ sous-intervalles:\n",
    "- pas = $(3-(-3))/3=6/3=2$,\n",
    "- suite: $-3, -1, 1, 3$."
   ]
  },
  {
   "cell_type": "markdown",
   "metadata": {},
   "source": [
    "Écrire une fonction `subdiviser(a, b, n)` dont le corps contient au plus deux lignes et qui renvoie la subdivision de l'intervalle $[a, b]$ en $n$ sous intervalles sous la forme d'une liste. "
   ]
  },
  {
   "cell_type": "code",
   "execution_count": null,
   "metadata": {},
   "outputs": [],
   "source": [
    "def subdiviser(a, b, n):\n",
    "    # au plus deux lignes\n",
    "    pass"
   ]
  },
  {
   "cell_type": "code",
   "execution_count": null,
   "metadata": {
    "jupyter": {
     "source_hidden": true
    }
   },
   "outputs": [],
   "source": [
    "def subdiviser(a, b, n):\n",
    "    pas = (b-a)/n\n",
    "    return [a + i*pas for i in range(n+1)]\n",
    "\n",
    "subdiviser(-3, 3, 3)"
   ]
  },
  {
   "cell_type": "markdown",
   "metadata": {
    "toc-hr-collapsed": true,
    "toc-nb-collapsed": true
   },
   "source": [
    "### Liste de listes - notion de matrice"
   ]
  },
  {
   "cell_type": "markdown",
   "metadata": {},
   "source": [
    "Comme déjà vu, on peut **imbriquer** les listes en compréhension à un bout (après le `in` de la première boucle)"
   ]
  },
  {
   "cell_type": "code",
   "execution_count": null,
   "metadata": {},
   "outputs": [],
   "source": [
    "[x + 1 for x in [x**2 for x in range(6)]] # la liste interne est construite en premier"
   ]
  },
  {
   "cell_type": "markdown",
   "metadata": {},
   "source": [
    "ou à l'autre ... (avant le `for` associé aux crochets de premier niveau)"
   ]
  },
  {
   "cell_type": "code",
   "execution_count": null,
   "metadata": {},
   "outputs": [],
   "source": [
    "[[i for i in range(j, j+4)] for j in [1, 5, 9]]"
   ]
  },
  {
   "cell_type": "markdown",
   "metadata": {},
   "source": [
    "On produit ainsi une liste de listes. Lorsque les listes internes contiennent des nombres, on parle de **matrice numérique**."
   ]
  },
  {
   "cell_type": "markdown",
   "metadata": {
    "toc-hr-collapsed": true,
    "toc-nb-collapsed": true
   },
   "source": [
    "#### Exercice 8\n",
    "\n",
    "En vous inspirant de l'exemple précédent, produire la «matrice»:\n",
    "\n",
    "    [[1 , 2,..., 10],\n",
    "     [11,12,..., 20],\n",
    "     ...\n",
    "     [91,92,...,100]]\n",
    "     \n",
    "*Aide*: construire la liste «intermédiaire» `[1, 11, 21, ...,91]`"
   ]
  },
  {
   "cell_type": "code",
   "execution_count": null,
   "metadata": {},
   "outputs": [],
   "source": []
  },
  {
   "cell_type": "markdown",
   "metadata": {
    "toc-hr-collapsed": true,
    "toc-nb-collapsed": true
   },
   "source": [
    "#### Solution"
   ]
  },
  {
   "cell_type": "code",
   "execution_count": null,
   "metadata": {},
   "outputs": [],
   "source": [
    "N = 10\n",
    "matrice = [[j+i for i in range(N)] for j in [1+i*N for i in range(N)]]\n",
    "matrice"
   ]
  },
  {
   "cell_type": "markdown",
   "metadata": {},
   "source": [
    "L'écriture devient quelques peu illisible! Mais python autorise la «ventilation» des éléments sur plusieurs lignes comme suit:"
   ]
  },
  {
   "cell_type": "code",
   "execution_count": null,
   "metadata": {},
   "outputs": [],
   "source": [
    "N = 10\n",
    "matrice = [\n",
    "    [j+k for k in range(N)]\n",
    "    for j in [ \n",
    "        1+i*N for i in range(N)\n",
    "    ] # ou range(1,100,N)\n",
    "]"
   ]
  },
  {
   "cell_type": "markdown",
   "metadata": {
    "toc-hr-collapsed": true,
    "toc-nb-collapsed": true
   },
   "source": [
    "## Synthèse"
   ]
  },
  {
   "cell_type": "markdown",
   "metadata": {},
   "source": [
    "La syntaxe des listes en compréhension *a pour but de produire des* **listes** avec «une syntaxe compacte». Celle-ci admet *plusieurs formes*:"
   ]
  },
  {
   "cell_type": "markdown",
   "metadata": {},
   "source": [
    "#### Syntaxe «simple»"
   ]
  },
  {
   "cell_type": "markdown",
   "metadata": {},
   "source": [
    "```python\n",
    "[ <expr> for <var> in <sequence> ]\n",
    "```\n",
    "  \n",
    "  \n",
    "`<expr>` désigne une **expression** (*tout ce qui produit une valeur*) qui peut contenir la variable de boucle `<var>`. \n",
    "  \n",
    "À chaque itération de la boucle `for`, l'expression est **évaluée** pour produire la prochaîne valeur de la liste en construction. "
   ]
  },
  {
   "cell_type": "markdown",
   "metadata": {},
   "source": [
    "C'est, équivalent à:\n",
    "\n",
    "```python\n",
    "l = []\n",
    "for <var> in <sequence>:\n",
    "    valeur = <expr>\n",
    "    l.append(valeur)\n",
    "```"
   ]
  },
  {
   "cell_type": "markdown",
   "metadata": {},
   "source": [
    "#### Syntaxe avec `if`"
   ]
  },
  {
   "cell_type": "markdown",
   "metadata": {},
   "source": [
    "```python\n",
    "[ <expr> for <var> in <sequence> if <condition> ]\n",
    "```\n",
    "  \n",
    "Similaire, mais l'expression n'est évaluée que si la condition est vraie. Ainsi `if` agit comme une sorte de *filtre*. "
   ]
  },
  {
   "cell_type": "markdown",
   "metadata": {},
   "source": [
    "C'est équivalent à:\n",
    "\n",
    "```python\n",
    "l = []\n",
    "for <var> in <sequence>:\n",
    "    if <condition>:\n",
    "        valeur = <expr>\n",
    "        l.append(valeur)\n",
    "```"
   ]
  },
  {
   "cell_type": "markdown",
   "metadata": {},
   "source": [
    "#### Syntaxe «multiple»"
   ]
  },
  {
   "cell_type": "markdown",
   "metadata": {},
   "source": [
    "```python\n",
    "[ <expr> for <var1> in <sequence1> for <var2> in <sequence2> ...]\n",
    "```\n",
    "  \n",
    "Notez que chaque `for` peut être suivi d'un filtre `if`. La deuxième boucle est entièrement exécutée à chaque itération de la première: elle est «imbriquée» dans la première."
   ]
  },
  {
   "cell_type": "markdown",
   "metadata": {},
   "source": [
    "C'est équivalent à:\n",
    "\n",
    "```python\n",
    "l = []\n",
    "for <var1> in <sequence1>:\n",
    "    # if <cond1>: si un if suit le premier for\n",
    "    for <var2> in <sequence2>:\n",
    "        # if <cond2>: si un if suit le deuxime for\n",
    "        valeur = <expr>\n",
    "        l.append(valeur)\n",
    "```"
   ]
  },
  {
   "cell_type": "markdown",
   "metadata": {},
   "source": [
    "Enfin, puisque cette «syntaxe» produit une valeur, il s'agit d'une **expression**. Il est donc logique de pouvoir l'«imbriquer» là où une expression est attendue... (voir la partie sur la notion de matrice)."
   ]
  }
 ],
 "metadata": {
  "kernelspec": {
   "display_name": "Python 3",
   "language": "python",
   "name": "python3"
  },
  "language_info": {
   "codemirror_mode": {
    "name": "ipython",
    "version": 3
   },
   "file_extension": ".py",
   "mimetype": "text/x-python",
   "name": "python",
   "nbconvert_exporter": "python",
   "pygments_lexer": "ipython3",
   "version": "3.7.3"
  },
  "toc-autonumbering": false
 },
 "nbformat": 4,
 "nbformat_minor": 4
}
