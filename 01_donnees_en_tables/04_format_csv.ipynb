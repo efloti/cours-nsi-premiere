{
 "cells": [
  {
   "cell_type": "markdown",
   "metadata": {},
   "source": [
    "# Données au format CSV"
   ]
  },
  {
   "cell_type": "markdown",
   "metadata": {},
   "source": [
    "[Vidéo d'accompagnement](https://vimeo.com/534374962)"
   ]
  },
  {
   "cell_type": "markdown",
   "metadata": {},
   "source": [
    "**Utilisez la table des matières**"
   ]
  },
  {
   "cell_type": "markdown",
   "metadata": {
    "toc-hr-collapsed": true,
    "toc-nb-collapsed": true
   },
   "source": [
    "## Le format CSV - *Comma Separated Values*"
   ]
  },
  {
   "cell_type": "markdown",
   "metadata": {},
   "source": [
    "*Comma*: virgule; *CSV*: valeurs séparées par des virgule."
   ]
  },
  {
   "cell_type": "markdown",
   "metadata": {},
   "source": [
    "Il s'agit d'un format de fichier simple et très répandu pour stocker et transmettre des données structurées «en table». On peut l'utiliser en lien avec un tableur."
   ]
  },
  {
   "cell_type": "markdown",
   "metadata": {},
   "source": [
    "Son objectif est de «transcrire» des données qu'on présente souvent dans un tableau comme celui-ci (mais souvent bien plus grand):\n",
    "\n",
    "| nom   | prenom           | date_naissance  |\n",
    "| ------------- |:-------------:| -----:|\n",
    "| Durand      | Jean-Pierre | 23/05/1985 |\n",
    "| Dupont      | Christophe      |   15/12/1967 |\n",
    "| Tertra | Henry   |    12/06/1978 |"
   ]
  },
  {
   "cell_type": "markdown",
   "metadata": {},
   "source": [
    "CSV est un format **textuel** (par opposition à *binaire*) qui sert donc à conserver des **une collection (ou jeu) de données** dans un fichier dont l'extension est *.csv*. \n",
    "\n",
    "Un tel fichier contient une chaîne de caractères *formatées* comme suit:\n",
    "\n",
    "```\n",
    "nom,prenom,date_naissance\n",
    "Durand,Jean-Pierre,23/05/1985\n",
    "Dupont,Christophe,15/12/1967\n",
    "Terta,Henry,12/06/1978\n",
    "```"
   ]
  },
  {
   "cell_type": "markdown",
   "metadata": {},
   "source": [
    "1. La *première ligne* (optionnelle) contient les **descripteurs** (ou *attributs*) des données: ils servent à préciser le sens des *valeurs* trouvées aux lignes suivantes.\n",
    "\n",
    "   Ici, ces descripteurs sont `nom`, `prenom`, `date_naissance`."
   ]
  },
  {
   "cell_type": "markdown",
   "metadata": {},
   "source": [
    "2. Les *lignes suivantes* correspondent chacune à un individu différent dans cet exemple; ce sont elles qui contiennent effectivement les données. Chaque ligne correspond à un **enregistrement** \\[ *record* \\]; on parle aussi parfois d'*objet* ou d'*entité*.\n",
    "\n",
    "   > Chaque « *enregistrement* » (ici individu) correspond à une ligne: les **valeurs** qu'on y trouve sont associées aux *descripteurs* de **même position**."
   ]
  },
  {
   "cell_type": "markdown",
   "metadata": {},
   "source": [
    "Cet exemple comporte trois enregistrements qui correspondent chacun à un individu: Jean-Pierre Durand né le 23 mai 1985; Christophe ..."
   ]
  },
  {
   "cell_type": "markdown",
   "metadata": {},
   "source": [
    "Ce format admet de *nombreuses variantes* (ou *dialect*); par exemple:\n",
    "- le **séparateur** de valeurs peut être autre chose qu'une virgule `,`. En France, on choisit souvent le *point-virgule* `;` pour préserver le séparateur décimal,\n",
    "- lorsqu'une une valeur peut contenir le séparateur, par exemple des coordonnées de géolocalisation `<latitude>, <longitude>`, on *quote* la valeur avec `\"` ou `'` ce qui donne `\"<latitude>, <longitude>\"`."
   ]
  },
  {
   "cell_type": "markdown",
   "metadata": {},
   "source": [
    "## Représenter des données CSV avec Python"
   ]
  },
  {
   "cell_type": "markdown",
   "metadata": {},
   "source": [
    "Pour pouvoir *utiliser* les données d'un fichier CSV, il est nécessaire d'effectuer un travail préparatoire afin de les mettre sous une forme «manipulable» par programmation:\n",
    "- **au départ**: une simple chaîne de caractère au format CSV\n",
    "- **après transformation**: un type de donnée manipulable.\n",
    "\n",
    "Du fait des nombreuses variantes du format CSV (on parle de «dialectes»), cette «transformation» peut être délicate. \n",
    "\n",
    "Ici, nous supposons le cas simple: le séparateur est `,` et pas de quotes."
   ]
  },
  {
   "cell_type": "markdown",
   "metadata": {
    "toc-hr-collapsed": true,
    "toc-nb-collapsed": true
   },
   "source": [
    "### Première solution: une liste de tuples"
   ]
  },
  {
   "cell_type": "markdown",
   "metadata": {},
   "source": [
    "En lisant un fichier CSV, nous obtenons une chaîne. L'objectif ici est de transformer cette chaîne en une **liste de tuples** où chaque tuple correspond à un enregistrement ou objet du jeu de données."
   ]
  },
  {
   "cell_type": "markdown",
   "metadata": {},
   "source": [
    "         chaîne au format CSV                                         liste de tuples\n",
    "                                                      \n",
    "     \"\"\"nom,prenom,date_naissance                        [('Durand', 'Jean-Pierre', '23/05/1985'),\n",
    "     Durand,Jean-Pierre,23/05/1985    transformation      ('Dupont', 'Christophe' , '15/12/1967'),\n",
    "     Dupont,Christophe,15/12/1967        ------->         ('Terta' , 'Henry'      , '12/06/1978')]\n",
    "     Terta,Henry,12/06/1978\"\"\"                  "
   ]
  },
  {
   "cell_type": "markdown",
   "metadata": {},
   "source": [
    "Notez que nous perdons les descripteurs."
   ]
  },
  {
   "cell_type": "markdown",
   "metadata": {},
   "source": [
    "#### Exercice 1"
   ]
  },
  {
   "cell_type": "markdown",
   "metadata": {},
   "source": [
    "Si `donnees` est le nom choisi pour la liste de tuples de l'exemple ci-dessus, que faut-il écrire pour récupérer:\n",
    "1. le nombre des individus de ce jeu de donnée?\n",
    "2. la date de naissance du deuxième individu?\n",
    "3. la liste des noms des individus de ce jeu de données?"
   ]
  },
  {
   "cell_type": "code",
   "execution_count": null,
   "metadata": {},
   "outputs": [],
   "source": [
    "donnees = [('Durand', 'Jean-Pierre', '23/05/1985'), ('Dupont', 'Christophe' , '15/12/1967'), ('Terta' , 'Henry', '12/06/1978')]"
   ]
  },
  {
   "cell_type": "code",
   "execution_count": null,
   "metadata": {},
   "outputs": [],
   "source": [
    "#1"
   ]
  },
  {
   "cell_type": "code",
   "execution_count": null,
   "metadata": {},
   "outputs": [],
   "source": [
    "#2"
   ]
  },
  {
   "cell_type": "code",
   "execution_count": null,
   "metadata": {},
   "outputs": [],
   "source": [
    "#3"
   ]
  },
  {
   "cell_type": "code",
   "execution_count": null,
   "metadata": {
    "jupyter": {
     "source_hidden": true
    }
   },
   "outputs": [],
   "source": [
    "#1\n",
    "len(donnees)\n",
    "#2\n",
    "donnees[1][2]\n",
    "#3\n",
    "[d[0] for d in donnees]"
   ]
  },
  {
   "cell_type": "markdown",
   "metadata": {},
   "source": [
    "________"
   ]
  },
  {
   "cell_type": "markdown",
   "metadata": {},
   "source": [
    "Pour tranformer la chaîne d'entrée au format CSV en une liste de tuples, on peut utiliser `<chaine>.split(<sep>)` qui découpe la chaine en utilisant le `sep`arateur fourni et renvoie la liste des «morceaux». \n",
    "\n",
    "*Exemple* `\"a->b->c\".split(\"->\")` renvoie `[\"a\", \"b\", \"c\"]`."
   ]
  },
  {
   "cell_type": "code",
   "execution_count": null,
   "metadata": {},
   "outputs": [],
   "source": [
    "csv = \"\"\"nom,prenom,date_naissance\n",
    "Durand,Jean-Pierre,23/05/1985\n",
    "Dupont,Christophe,15/12/1967\n",
    "Terta,Henry,12/06/1978\"\"\""
   ]
  },
  {
   "cell_type": "markdown",
   "metadata": {},
   "source": [
    "**Étape 1** `str -> [str]`: On commence par découper sur le caractère séparateur `\\n` (fin les ligne):"
   ]
  },
  {
   "cell_type": "code",
   "execution_count": null,
   "metadata": {},
   "outputs": [],
   "source": [
    "# à compléter\n",
    "etape1 = __.split(__)\n",
    "etape1"
   ]
  },
  {
   "cell_type": "code",
   "execution_count": null,
   "metadata": {
    "jupyter": {
     "source_hidden": true
    }
   },
   "outputs": [],
   "source": [
    "etape1 = csv.split('\\n')\n",
    "etape1"
   ]
  },
  {
   "cell_type": "markdown",
   "metadata": {},
   "source": [
    "On obtient une liste dont chaque élément correspond à une ligne.\n",
    "\n",
    "**Étape 2** `[str] -> [[str]]`: Ensuite, on découpe chaque ligne de cette liste sur le caractère séparateur `,` afin de produire une liste de liste:"
   ]
  },
  {
   "cell_type": "code",
   "execution_count": null,
   "metadata": {},
   "outputs": [],
   "source": [
    "# à compléter\n",
    "etape2 = [ligne.split(___) for ___ in etape1]\n",
    "etape2 # est une liste de listes"
   ]
  },
  {
   "cell_type": "code",
   "execution_count": null,
   "metadata": {
    "jupyter": {
     "source_hidden": true
    }
   },
   "outputs": [],
   "source": [
    "etape2 = [ligne.split(',') for ligne in etape1]\n",
    "etape2"
   ]
  },
  {
   "cell_type": "markdown",
   "metadata": {},
   "source": [
    "**Étape 3** `[[str]] -> [tuple(str)]`:  Transformons chaque liste interne en tuple à l'aide de la fonction prédéfinie `tuple`:"
   ]
  },
  {
   "cell_type": "code",
   "execution_count": null,
   "metadata": {},
   "outputs": [],
   "source": [
    "etape3 = [tuple(enr) for enr in etape2]\n",
    "etape3 # une liste de tuples"
   ]
  },
  {
   "cell_type": "markdown",
   "metadata": {},
   "source": [
    "**Étape 4**: Enfin, supprimons la 1ère ligne qui correspond aux descripteurs des données car nous ne les conservons pas dans cette représentation."
   ]
  },
  {
   "cell_type": "code",
   "execution_count": null,
   "metadata": {},
   "outputs": [],
   "source": [
    "fin = etape3[1:] # un petit slice (du n°1 jusqu'au dernier)\n",
    "fin # sans l'en-tête"
   ]
  },
  {
   "cell_type": "markdown",
   "metadata": {
    "toc-hr-collapsed": true,
    "toc-nb-collapsed": true
   },
   "source": [
    "#### Rappels sur les «slices»"
   ]
  },
  {
   "cell_type": "markdown",
   "metadata": {
    "toc-hr-collapsed": true,
    "toc-nb-collapsed": true
   },
   "source": [
    "`liste[i_dep:i_fin]` produit la *sous-liste* des éléments dont les index vont de `i_dep` (inclus) à `i_fin` (exclus). Par *exemple* `[\"a\", \"b\", \"c\", \"d\"][1:3]` produit `[\"b\", \"c\"]`.\n",
    "\n",
    "Si on ne précise pas `i_dep`, on part du *début* (0), si on ne précise par `i_fin` on va jusqu'à la fin:"
   ]
  },
  {
   "cell_type": "code",
   "execution_count": null,
   "metadata": {},
   "outputs": [],
   "source": [
    "l = [\"a\", \"b\", \"c\", \"d\"]\n",
    "print(l[1:3]) # de 1 à 3 (exclu)\n",
    "print(l[:3])  # du début (0) jusqu'à 3 (exclu)\n",
    "print(l[1:])  # de 1 jusqu'au bout"
   ]
  },
  {
   "cell_type": "markdown",
   "metadata": {},
   "source": [
    "#### Exercice 2\n",
    "\n",
    "1. On peut parvenir à `fin` à partir de `donnees_CSV` en **une seule fois** par *composition* ... essais! Il est conseillé de faire `deux_en_un` (csv→etape2), puis `trois_en_un` (csv→etape3) avant de faire `quatre_en_un`."
   ]
  },
  {
   "cell_type": "code",
   "execution_count": null,
   "metadata": {},
   "outputs": [],
   "source": [
    "# deux_en_un = ____ \n",
    "# trois_en_un = ____\n",
    "# quatre_en_un = ____"
   ]
  },
  {
   "cell_type": "code",
   "execution_count": null,
   "metadata": {},
   "outputs": [],
   "source": [
    "# pour tester\n",
    "assert quatre_en_un == fin"
   ]
  },
  {
   "cell_type": "code",
   "execution_count": null,
   "metadata": {
    "jupyter": {
     "source_hidden": true
    }
   },
   "outputs": [],
   "source": [
    "deux_en_un = [ligne.split(',') for ligne in donnee_CSV.split('\\n')]\n",
    "trois_en_un = [tuple(ligne.split(',')) for ligne in donnee_CSV.split('\\n')]\n",
    "quatre_en_un = [tuple(ligne.split(',')) for ligne in donnee_CSV.split('\\n')][1:]"
   ]
  },
  {
   "cell_type": "markdown",
   "metadata": {},
   "source": [
    "2. Écris une fonction `csv_vers_tuples(csv)` qui construit et renvoie la liste des tuples qui représente le jeu de données fourni par `csv`."
   ]
  },
  {
   "cell_type": "code",
   "execution_count": null,
   "metadata": {},
   "outputs": [],
   "source": [
    "# à faire et à tester"
   ]
  },
  {
   "cell_type": "code",
   "execution_count": null,
   "metadata": {
    "jupyter": {
     "source_hidden": true
    }
   },
   "outputs": [],
   "source": [
    "def csv_vers_tuples(csv):\n",
    "    lignes = csv.split('\\n')\n",
    "    lignes = lignes[1:] # oublions les descripteurs\n",
    "    lignes = [ligne.split(',') for ligne in lignes]\n",
    "    return [tuple(ligne) for ligne in lignes]\n",
    "\n",
    "csv_vers_tuples(csv)"
   ]
  },
  {
   "cell_type": "markdown",
   "metadata": {},
   "source": [
    "___"
   ]
  },
  {
   "cell_type": "markdown",
   "metadata": {},
   "source": [
    "L'inconvénient de cette représentation est qu'elle «oublie» les descripteurs.\n",
    "\n",
    "On ne les conserve pas pour éviter d'avoir un tableau *hétérogène* c'est-à-dire dont la structure ne serait pas régulière; cela complique les traitements qu'on souhaite souvent réaliser sur le jeu de données."
   ]
  },
  {
   "cell_type": "markdown",
   "metadata": {
    "toc-hr-collapsed": true,
    "toc-nb-collapsed": true
   },
   "source": [
    "### Deuxième solution: un tableau de *n-uplets nommés*"
   ]
  },
  {
   "cell_type": "markdown",
   "metadata": {},
   "source": [
    "On appelle **n-uplets (ou tuples) nommés** une séquence de paires descripteur-valeur.\n",
    "\n",
    "Malheureusement Python ne possède pas un tel type par défaut (il existe toutefois dans la bibliothèque standard).\n",
    "\n",
    "Pour représenter ce type, nous utiliserons un **dictionnaire dont les clés sont les descripteurs**; voici un exemple:\n",
    "```python\n",
    "{'nom': 'Durand', 'prenom': 'Jean-Pierre', 'date_naissance': '23/05/1985'}\n",
    "```"
   ]
  },
  {
   "cell_type": "markdown",
   "metadata": {},
   "source": [
    "Ainsi nous souhaiterions effectuer la transformation suivante:"
   ]
  },
  {
   "cell_type": "markdown",
   "metadata": {},
   "source": [
    "**En entrée**: une chaîne au format CSV\n",
    "```python\n",
    "\"\"\"nom,prenom,date_naissance\n",
    "Durand,Jean-Pierre,23/05/1985\n",
    "Dupont,Christophe,15/12/1967\n",
    "Terta,Henry,12/06/1978\"\"\"\n",
    "```\n",
    "\n",
    "**En sortie**: une liste de *tuples nommés*:\n",
    "```python\n",
    "[\n",
    " {'nom': 'Durand', 'prenom': 'Jean-Pierre', 'date_naissance': '23/05/1985'},\n",
    " {'nom': 'Dupont', 'prenom': 'Christophe', 'date_naissance': '15/12/1967'},\n",
    " {'nom': 'Terta', 'prenom': 'Henry', 'date_naissance': '12/06/1978'},\n",
    "]\n",
    "```\n"
   ]
  },
  {
   "cell_type": "markdown",
   "metadata": {},
   "source": [
    "L'avantage de cette description est que, sans oublier les descripteurs, le tableau obtenu est homogène (ses lignes ont la même forme)."
   ]
  },
  {
   "cell_type": "markdown",
   "metadata": {},
   "source": [
    "#### Exercice 3\n",
    "\n",
    "Si `personnes` désigne la liste de *tuples nommés* qui précède, que faut-il écrire pour:\n",
    "1. connaître le nombre d'enregistrements du jeu de données?\n",
    "2. récupérer le nom de la 3ème personne,\n",
    "3. récupérer la liste des prénoms des individus de ce jeu de donnée?"
   ]
  },
  {
   "cell_type": "code",
   "execution_count": null,
   "metadata": {},
   "outputs": [],
   "source": [
    "personnes = [\n",
    " {'nom': 'Durand', 'prenom': 'Jean-Pierre', 'date_naissance': '23/05/1985'},\n",
    " {'nom': 'Dupont', 'prenom': 'Christophe', 'date_naissance': '15/12/1967'},\n",
    " {'nom': 'Terta', 'prenom': 'Henry', 'date_naissance': '12/06/1978'},\n",
    "]"
   ]
  },
  {
   "cell_type": "code",
   "execution_count": null,
   "metadata": {},
   "outputs": [],
   "source": [
    "#1"
   ]
  },
  {
   "cell_type": "code",
   "execution_count": null,
   "metadata": {},
   "outputs": [],
   "source": [
    "#2"
   ]
  },
  {
   "cell_type": "code",
   "execution_count": null,
   "metadata": {},
   "outputs": [],
   "source": [
    "#3"
   ]
  },
  {
   "cell_type": "code",
   "execution_count": null,
   "metadata": {
    "jupyter": {
     "source_hidden": true
    }
   },
   "outputs": [],
   "source": [
    "# 1\n",
    "len(personnes)\n",
    "# 2\n",
    "personnes[2][\"nom\"]\n",
    "# 3\n",
    "[p[\"prenom\"] for p in personnes]"
   ]
  },
  {
   "cell_type": "markdown",
   "metadata": {},
   "source": [
    "_____________"
   ]
  },
  {
   "cell_type": "markdown",
   "metadata": {},
   "source": [
    "Cette transformation - chaîne CSV vers liste de n-uplets nommés - est un peu plus délicate que la précédente. Voici les grandes lignes de l'algorithme correspondant en *pseudo-code*:\n",
    "\n",
    "<pre>\n",
    "    <strong>Entrée</strong>: une chaîne au format csv (on suppose que le séparateur est la virgule)\n",
    "    \n",
    "    <strong>Sortie</strong>: un tableau de n-uplets nommés.\n",
    "\n",
    "    <strong>Traitement</strong>:\n",
    "        lignes: <em>liste de listes</em> ← découper la chaîne fournie suivant «\\n» puis suivant «,»\n",
    "        descripteurs: <em>liste</em> ← récupérer la première ligne (de lignes)\n",
    "        enregistrements: <em>liste de listes</em> ← récupérer les lignes suivantes de lignes\n",
    "        \n",
    "        nuplets_nommes ← liste vide (à remplir et à renvoyer)\n",
    "        \n",
    "        <strong>Pour</strong> chaque enregistrement<strong>:</strong>\n",
    "            dico: <em>dict</em> ← initialiser un dictionnaire vide\n",
    "            \n",
    "            <strong>Pour</strong> chaque position (index) dans descripteurs<strong>:</strong>\n",
    "                cle ← recupérer le descripteur ayant cette position\n",
    "                valeur ← récupérer la valeur <em>de même position</em> dans l'enregistrement courant \n",
    "                créer la paire «cle: valeur» dans dico\n",
    "            \n",
    "            Insérer dico dans nuplets_nommes\n",
    "        \n",
    "        <strong>Renvoyer</strong> nuplets_nommes\n",
    "</pre>"
   ]
  },
  {
   "cell_type": "markdown",
   "metadata": {},
   "source": [
    "#### Exercice 4\n",
    "\n",
    "Implémenter cet algorithme sous la forme d'une fonction `csv_vers_nuplets_nommes(csv)`."
   ]
  },
  {
   "cell_type": "code",
   "execution_count": null,
   "metadata": {},
   "outputs": [],
   "source": [
    "def csv_vers_nuplets_nommes(csv):\n",
    "    \"\"\"Transforme la chaine csv en tableau de n-uplets nommés qu'on renvoie.\"\"\"\n",
    "    # récupérer la liste des lignes\n",
    "    pass\n",
    "    # récupérer la liste des descripteurs \n",
    "    pass\n",
    "    # puis celles des enregistrements\n",
    "    pass\n",
    "    # initialiser l'«accumulateur»\n",
    "    pass\n",
    "    \n",
    "    # parcours des enregistrements\n",
    "    for enr in enregistrements:\n",
    "        # pour chaque enregistrement initialiser un dictionnaire\n",
    "        pass\n",
    "        \n",
    "        # parcours *indirect* (avec range) des descripteurs\n",
    "        for j in range(___):\n",
    "            # associer le descripteur de position j \n",
    "            # avec la valeur de même position \n",
    "            # dans l'enregistrement courant\n",
    "            pass\n",
    "        \n",
    "        # ajouter le dictionnaire à l'accumulateur \n",
    "        pass\n",
    "    \n",
    "    return ___\n",
    "\n"
   ]
  },
  {
   "cell_type": "code",
   "execution_count": null,
   "metadata": {},
   "outputs": [],
   "source": [
    "# pour tester\n",
    "ex_csv = \"\"\"nom,prenom,date_naissance\n",
    "Durand,Jean-Pierre,23/05/1985\n",
    "Dupont,Christophe,15/12/1967\n",
    "Terta,Henry,12/06/1978\"\"\"\n",
    "\n",
    "csv_vers_nuplets_nommes(ex_csv)"
   ]
  },
  {
   "cell_type": "code",
   "execution_count": null,
   "metadata": {
    "jupyter": {
     "source_hidden": true
    }
   },
   "outputs": [],
   "source": [
    "def csv_vers_nuplets_nommes(csv):\n",
    "    \"\"\"Transforme la chaine csv en tableau de n-uplets nommés qu'on renvoie.\"\"\"\n",
    "    # récupérer la liste des lignes\n",
    "    lignes = csv.split('\\n')\n",
    "    lignes = [ligne.split(',') for ligne in lignes]\n",
    "    # récupérer la liste des descripteurs \n",
    "    descripteurs = lignes[0]\n",
    "    # puis celles des enregistrements\n",
    "    enregistrements = lignes[1:]\n",
    "    # initialiser l'«accumulateur»\n",
    "    nuplets_nommes = []\n",
    "    # parcours des enregistrements\n",
    "    for enr in enregistrements:\n",
    "        # pour chaque enregistrement initialiser un dictionnaire\n",
    "        dico = {}\n",
    "        # parcours *indirect* (avec range) des descripteurs\n",
    "        #      car la position du descripteur est aussi celle de la valeur associée\n",
    "        for j in range(len(descripteurs)):\n",
    "            # associer le descripteur de position j \n",
    "            # avec la valeur de même position \n",
    "            # dans l'enregistrement courant\n",
    "            descripteur = descripteurs[j]\n",
    "            dico[descripteur] = enr[j]\n",
    "        nuplets_nommes.append(dico)\n",
    "    return nuplets_nommes\n",
    "\n",
    "csv_vers_nuplets_nommes(ex_csv)"
   ]
  },
  {
   "cell_type": "markdown",
   "metadata": {},
   "source": [
    "____________"
   ]
  },
  {
   "cell_type": "markdown",
   "metadata": {},
   "source": [
    "## Compléments Python"
   ]
  },
  {
   "cell_type": "markdown",
   "metadata": {
    "toc-hr-collapsed": true,
    "toc-nb-collapsed": true
   },
   "source": [
    "### *Unpacking* (déballage)"
   ]
  },
  {
   "cell_type": "markdown",
   "metadata": {},
   "source": [
    "L'objectif de cette syntaxe originale est de permettre de récupérer facilement des éléments et des «portions» de listes. Voilà à quoi ça ressemble:"
   ]
  },
  {
   "cell_type": "code",
   "execution_count": null,
   "metadata": {},
   "outputs": [],
   "source": [
    "# exemple1 d'unpacking\n",
    "tete, *queue = [1, 2, 3, 4]\n",
    "print(f\"La tête: {tete} et la queue: {queue}\")"
   ]
  },
  {
   "cell_type": "code",
   "execution_count": null,
   "metadata": {},
   "outputs": [],
   "source": [
    "# exemple2 d'unpacking\n",
    "un, deux, *reste = [1, 2, 3, 4]\n",
    "print(f\"un: {un}\\ndeux: {deux}\\nreste: {reste}\")"
   ]
  },
  {
   "cell_type": "code",
   "execution_count": null,
   "metadata": {},
   "outputs": [],
   "source": [
    "# exemple3 d'unpacking\n",
    "tete, *corps, pied = [1,2,3,4]\n",
    "print(f\"tete: {tete}\\ncorps: {corps}\\npied: {pied}\")"
   ]
  },
  {
   "cell_type": "markdown",
   "metadata": {},
   "source": [
    "#### Exercice 5"
   ]
  },
  {
   "cell_type": "markdown",
   "metadata": {},
   "source": [
    "Utiliser l'*unpacking* pour mettre le code qui suit sur une ligne:\n",
    "```python\n",
    "descripteurs = lignes[0]\n",
    "enregistrements = lignes[1:]\n",
    "```\n"
   ]
  },
  {
   "cell_type": "code",
   "execution_count": null,
   "metadata": {},
   "outputs": [],
   "source": []
  },
  {
   "cell_type": "code",
   "execution_count": null,
   "metadata": {
    "jupyter": {
     "source_hidden": true
    }
   },
   "outputs": [],
   "source": [
    "descripteurs, *enregistrements = lignes"
   ]
  },
  {
   "cell_type": "markdown",
   "metadata": {},
   "source": [
    "____"
   ]
  },
  {
   "cell_type": "markdown",
   "metadata": {
    "toc-hr-collapsed": true,
    "toc-nb-collapsed": true
   },
   "source": [
    "### Apparier deux séquences - `zip`"
   ]
  },
  {
   "cell_type": "markdown",
   "metadata": {},
   "source": [
    "On a souvent besoin d'apparier - grouper par paires - deux séquences de *même longueur*.\n",
    "\n",
    "*Exemple*: je **dispose** de `['a', 'b', 'c']` et `[3, 2, 1]`\n",
    "\n",
    "j'ai **besoin de** `[('a', 3), ('b', 2), ('c', 1)]`."
   ]
  },
  {
   "cell_type": "markdown",
   "metadata": {},
   "source": [
    "#### Exercice 6"
   ]
  },
  {
   "cell_type": "markdown",
   "metadata": {},
   "source": [
    "La fonction `apparier(t1, t2)` prend deux tableaux de même taille en argument et renvoie un tableau obtenue en appararillant les éléments de `t1` et `t2` de même index (position). Termine son implémentation."
   ]
  },
  {
   "cell_type": "code",
   "execution_count": null,
   "metadata": {},
   "outputs": [],
   "source": [
    "def apparier(t1, t2):\n",
    "    assert len(t1) == len(t2)\n",
    "    N = len(t1)\n",
    "    t = [] # accumulateur\n",
    "    # parcourt indirect puis extraction des valeurs pour former les couples\n",
    "    pass"
   ]
  },
  {
   "cell_type": "code",
   "execution_count": null,
   "metadata": {
    "jupyter": {
     "source_hidden": true
    }
   },
   "outputs": [],
   "source": [
    "def apparier(t1, t2):\n",
    "    assert len(t1) == len(t2)\n",
    "    t = []\n",
    "    for i in range(len(t1)):\n",
    "        v1 = t1[i]\n",
    "        v2 = t2[i]\n",
    "        couple = v1, v2\n",
    "        t.append(couple)\n",
    "    return t"
   ]
  },
  {
   "cell_type": "code",
   "execution_count": null,
   "metadata": {},
   "outputs": [],
   "source": [
    "# vérifier votre solution\n",
    "tab1 = ['a', 'b', 'c']\n",
    "tab2 = [3, 2, 1]\n",
    "assert apparier(tab1, tab2) == [('a', 3), ('b', 2), ('c', 1)]"
   ]
  },
  {
   "cell_type": "markdown",
   "metadata": {},
   "source": [
    "___"
   ]
  },
  {
   "cell_type": "markdown",
   "metadata": {},
   "source": [
    "Un cas d'utilisation fréquent de l'appariement est la lecture des paires dans une boucle. \n",
    "\n",
    "On peut alors utiliser une paire de variables de boucles pour récupérer chaque composante de la paire:"
   ]
  },
  {
   "cell_type": "code",
   "execution_count": null,
   "metadata": {},
   "outputs": [],
   "source": [
    "# tester moi\n",
    "tab1 = ['a', 'b', 'c']\n",
    "tab2 = [3, 2, 1]\n",
    "for a, b in apparier(tab1, tab2):\n",
    "    print(f'a vaut \"{a}\" et b vaut \"{b}\"')"
   ]
  },
  {
   "cell_type": "markdown",
   "metadata": {},
   "source": [
    "Python dispose d'une fonction *prédéfinie* `zip(seq1, seq2, ...)` qui fait la même chose avec des «séquences» (une `list` est un cas particulier de séquence).\n",
    "\n",
    "*Note*: `zip`?? penser à une «fermeture-éclair» (d'un blouson ...)"
   ]
  },
  {
   "cell_type": "code",
   "execution_count": null,
   "metadata": {},
   "outputs": [],
   "source": [
    "z = zip(tab1, tab2)\n",
    "print(z)\n",
    "print(list(z))"
   ]
  },
  {
   "cell_type": "markdown",
   "metadata": {},
   "source": [
    "Elle renvoie un objet spécial de type `zip` qui est une sorte de liste de paires qu'on peut parcourir directement dans une boucle (un peu comme avec `range`)"
   ]
  },
  {
   "cell_type": "code",
   "execution_count": null,
   "metadata": {},
   "outputs": [],
   "source": [
    "# tester moi\n",
    "tab1 = ['a', 'b', 'c']\n",
    "tab2 = [3, 2, 1]\n",
    "for a, b in zip(tab1, tab2):\n",
    "    print(f'a vaut \"{a}\" et b vaut \"{b}\"')"
   ]
  },
  {
   "cell_type": "markdown",
   "metadata": {},
   "source": [
    "#### Exercice 7\n",
    "\n",
    "On dispose d'un tableau d'enregistrements `enregs` ainsi que de la liste des descripteurs associés `descrs`."
   ]
  },
  {
   "cell_type": "code",
   "execution_count": null,
   "metadata": {},
   "outputs": [],
   "source": [
    "enregs = [[\"Alice\", 16, 9],[\"Basile\", 8, 15]]\n",
    "descrs = [\"nom\", \"note1\", \"note2\"]"
   ]
  },
  {
   "cell_type": "markdown",
   "metadata": {},
   "source": [
    "Pour construire le tableau de 3-uplets correspondants, on sait qu'on peut utiliser les boucles imbriquées:"
   ]
  },
  {
   "cell_type": "code",
   "execution_count": null,
   "metadata": {},
   "outputs": [],
   "source": [
    "tab = []\n",
    "for enr in enregs:\n",
    "    d = {}\n",
    "    for i in range(len(descrs)):\n",
    "        cle = descrs[i]\n",
    "        val = enr[i]\n",
    "        d[cle] = val\n",
    "    tab.append(d)\n",
    "print(tab)"
   ]
  },
  {
   "cell_type": "markdown",
   "metadata": {},
   "source": [
    "«Simplifier» la boucle interne de ce code en utilisant `zip`"
   ]
  },
  {
   "cell_type": "code",
   "execution_count": null,
   "metadata": {},
   "outputs": [],
   "source": [
    "tab = []\n",
    "for enr in enregs:\n",
    "    d = {}\n",
    "    # boucle interne à «simplifier» avec zip\n",
    "    pass\n",
    "    tab.append(d)\n",
    "print(tab)"
   ]
  },
  {
   "cell_type": "code",
   "execution_count": null,
   "metadata": {
    "jupyter": {
     "source_hidden": true
    }
   },
   "outputs": [],
   "source": [
    "tab = []\n",
    "for enr in enregs:\n",
    "    d = {}\n",
    "    for cle, val in zip(descrs, enr):\n",
    "        d[cle] = val\n",
    "    tab.append(d)\n",
    "print(tab)"
   ]
  },
  {
   "cell_type": "markdown",
   "metadata": {
    "toc-hr-collapsed": true,
    "toc-nb-collapsed": true
   },
   "source": [
    "### Syntaxe en compréhension des `dict`ionnaires"
   ]
  },
  {
   "cell_type": "markdown",
   "metadata": {},
   "source": [
    "Voici un exemple simple:"
   ]
  },
  {
   "cell_type": "code",
   "execution_count": null,
   "metadata": {},
   "outputs": [],
   "source": [
    "{desc: None for desc in descripteurs}"
   ]
  },
  {
   "cell_type": "markdown",
   "metadata": {},
   "source": [
    "Bien noter que la partie *avant* `for` est de la forme `<cle>: <val>`. Mise à part ce point et l'utilisation des accolades, la syntaxe est similaire à celle des listes en compréhension.\n",
    "\n",
    "On utilise généralement cela avec `zip`:"
   ]
  },
  {
   "cell_type": "code",
   "execution_count": null,
   "metadata": {},
   "outputs": [],
   "source": [
    "cles = (\"cle1\", \"cle2\", \"cle3\")\n",
    "valeurs = (\"ah\", \"oh\", \"hein\")\n",
    "{cle: val for cle, val in zip(cles, valeurs)} # zip fonctionne aussi avec des tuples de même longueur!"
   ]
  },
  {
   "cell_type": "markdown",
   "metadata": {},
   "source": [
    "Voici encore un exemple bien utile pour réaliser un tableau de n-uplets nommés à partir de données CSV. \n",
    "\n",
    "On veut une liste de dictionnaires ... Alors combinons l'écriture en compréhension des listes et celle des dictionnaires!"
   ]
  },
  {
   "cell_type": "code",
   "execution_count": null,
   "metadata": {},
   "outputs": [],
   "source": [
    "cles = (\"cle1\", \"cle2\", \"cle3\")\n",
    "liste_valeurs = [(\"ah\", \"oh\", \"hein\"), ('riri', 'fifi', 'loulou')]\n",
    "# on veut un tableau de n-uplets nommés\n",
    "[{c: v for c, v in zip(cles, valeurs)} for valeurs in liste_valeurs]"
   ]
  },
  {
   "cell_type": "markdown",
   "metadata": {},
   "source": [
    "#### Exercice de synthèse\n",
    "\n",
    "On rappelle le code de la fonction `csv_vers_nuplets_nommes(csv)` ainsi que le jeu de données test ci-dessous (à ouvrir/refermer)."
   ]
  },
  {
   "cell_type": "code",
   "execution_count": null,
   "metadata": {
    "jupyter": {
     "source_hidden": true
    }
   },
   "outputs": [],
   "source": [
    "def csv_vers_nuplets_nommes(csv):\n",
    "    \"\"\"Transforme la chaine csv en tableau de n-uplets nommés qu'on renvoie.\"\"\"\n",
    "    lignes = csv.split('\\n')\n",
    "    lignes = [ligne.split(',') for ligne in lignes]\n",
    "    descripteurs = lignes[0]\n",
    "    enregistrements = lignes[1:]\n",
    "    nuplets_nommes = []\n",
    "    for enr in enregistrements:\n",
    "        dico = {}\n",
    "        for j in range(len(descripteurs)):\n",
    "            descripteur = descripteurs[j]\n",
    "            dico[descripteur] = enr[j]\n",
    "        nuplets_nommes.append(dico)\n",
    "    return nuplets_nommes\n",
    "\n",
    "csv_vers_nuplets_nommes(csv)"
   ]
  },
  {
   "cell_type": "code",
   "execution_count": null,
   "metadata": {
    "jupyter": {
     "source_hidden": true
    }
   },
   "outputs": [],
   "source": [
    "csv = \"\"\"nom,prenom,date_naissance\n",
    "Durand,Jean-Pierre,23/05/1985\n",
    "Dupont,Christophe,15/12/1967\n",
    "Terta,Henry,12/06/1978\"\"\""
   ]
  },
  {
   "cell_type": "markdown",
   "metadata": {},
   "source": [
    " En utilisant l'*unpacking*, `zip` et la *syntaxe en compréhension des dictionnaires*, *simplifier le plus possible* le code de la fonction `csv_vers_nuplet_nommes`:"
   ]
  },
  {
   "cell_type": "code",
   "execution_count": null,
   "metadata": {},
   "outputs": [],
   "source": [
    "def csv_vers_nuplets_nommes(chaine_csv):\n",
    "    \"\"\"Transforme la chaine csv en tableau de n-uplets nommés qu'on renvoie.\"\"\"\n",
    "    pass\n",
    "\n",
    "# pour tester\n",
    "csv_vers_nuplets_nommes(csv)"
   ]
  },
  {
   "cell_type": "markdown",
   "metadata": {
    "toc-hr-collapsed": true,
    "toc-nb-collapsed": true
   },
   "source": [
    "#### Solution"
   ]
  },
  {
   "cell_type": "code",
   "execution_count": null,
   "metadata": {},
   "outputs": [],
   "source": [
    "def csv_vers_tuples_nommes(chaine_csv):\n",
    "    \"\"\"Transforme la chaine csv en tableau de n-uplets nommés qu'on renvoie.\"\"\"\n",
    "    lignes = [ligne.split(',') for ligne in chaine_csv.split('\\n')]\n",
    "    descripteurs, *enregistrements = lignes\n",
    "    tuples_nommes = []\n",
    "    for enr in enregistrements:\n",
    "        dico = {cle: valeur for cle, valeur in zip(descripteurs, enregistrements)}\n",
    "        tuples_nommes.append(dico)\n",
    "    return tuples_nommes\n",
    "\n",
    "csv_vers_tuples_nommes(csv)"
   ]
  },
  {
   "cell_type": "markdown",
   "metadata": {},
   "source": [
    "On peut même améliorer encore en combinant les deux syntaxes en compréhension:"
   ]
  },
  {
   "cell_type": "code",
   "execution_count": null,
   "metadata": {},
   "outputs": [],
   "source": [
    "def csv_vers_tuples_nommes(chaine_csv):\n",
    "    \"\"\"Transforme la chaine csv en tableau de n-uplets nommés qu'on renvoie.\"\"\"\n",
    "    lignes = [ligne.split(',') for ligne in chaine_csv.split('\\n')]\n",
    "    descripteurs, *enregistrements = lignes\n",
    "    return [\n",
    "        { cle: valeur for cle, valeur in zip(descripteurs, enregistrement) }\n",
    "        for enregistrement in enregistrements\n",
    "    ]\n",
    "\n",
    "csv_vers_tuples_nommes(csv)"
   ]
  }
 ],
 "metadata": {
  "kernelspec": {
   "display_name": "Python 3",
   "language": "python",
   "name": "python3"
  },
  "language_info": {
   "codemirror_mode": {
    "name": "ipython",
    "version": 3
   },
   "file_extension": ".py",
   "mimetype": "text/x-python",
   "name": "python",
   "nbconvert_exporter": "python",
   "pygments_lexer": "ipython3",
   "version": "3.7.3"
  }
 },
 "nbformat": 4,
 "nbformat_minor": 4
}
