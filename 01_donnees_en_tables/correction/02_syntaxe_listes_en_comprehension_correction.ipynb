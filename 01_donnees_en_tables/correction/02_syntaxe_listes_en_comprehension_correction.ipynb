{
 "cells": [
  {
   "cell_type": "markdown",
   "metadata": {},
   "source": [
    "# Syntaxe des listes en compréhension"
   ]
  },
  {
   "cell_type": "markdown",
   "metadata": {},
   "source": [
    "Lorsque l'on désigne *explicitement* chaque élément d'un tableau comme dans `t = [4, 3, 2, 1]`, on parle de **notation en extension** du tableau.\n",
    "\n",
    "Python connaît une autre notation pour *construire des listes* appelée **notation en compréhension**.\n",
    "\n",
    "En voici quelques exemples; **expérimenter** pour vous familiariser avec cette *syntaxe*."
   ]
  },
  {
   "cell_type": "code",
   "execution_count": 1,
   "metadata": {},
   "outputs": [
    {
     "data": {
      "text/plain": [
       "[None, None, None, None, None, None, None, None, None, None]"
      ]
     },
     "execution_count": 1,
     "metadata": {},
     "output_type": "execute_result"
    }
   ],
   "source": [
    "[None for _ in range(10)] # on peut faire plus court pour obtenir cela ..."
   ]
  },
  {
   "cell_type": "code",
   "execution_count": 2,
   "metadata": {},
   "outputs": [
    {
     "data": {
      "text/plain": [
       "[None, None, None, None, None, None, None, None, None, None]"
      ]
     },
     "execution_count": 2,
     "metadata": {},
     "output_type": "execute_result"
    }
   ],
   "source": [
    "## version plus courte du précédent\n",
    "[None] * 10"
   ]
  },
  {
   "cell_type": "code",
   "execution_count": 3,
   "metadata": {},
   "outputs": [
    {
     "data": {
      "text/plain": [
       "[0, 1, 2, 3, 4, 5]"
      ]
     },
     "execution_count": 3,
     "metadata": {},
     "output_type": "execute_result"
    }
   ],
   "source": [
    "[i for i in range(6)] # même résultat avec list(range(6))"
   ]
  },
  {
   "cell_type": "markdown",
   "metadata": {},
   "source": [
    "On peut **utiliser la variable de boucle** pour calculer"
   ]
  },
  {
   "cell_type": "code",
   "execution_count": 4,
   "metadata": {},
   "outputs": [
    {
     "data": {
      "text/plain": [
       "[1, 2, 5, 10, 17, 26]"
      ]
     },
     "execution_count": 4,
     "metadata": {},
     "output_type": "execute_result"
    }
   ],
   "source": [
    "[x + 1 for x in [0, 1, 4, 9, 16, 25]]"
   ]
  },
  {
   "cell_type": "code",
   "execution_count": 5,
   "metadata": {},
   "outputs": [
    {
     "data": {
      "text/plain": [
       "[0, 1, 4, 9, 16, 25]"
      ]
     },
     "execution_count": 5,
     "metadata": {},
     "output_type": "execute_result"
    }
   ],
   "source": [
    "[x * x for x in range(6)]"
   ]
  },
  {
   "cell_type": "markdown",
   "metadata": {},
   "source": [
    "On peut combiner les deux exemples précédents en **imbriquant** ..."
   ]
  },
  {
   "cell_type": "code",
   "execution_count": 6,
   "metadata": {},
   "outputs": [
    {
     "data": {
      "text/plain": [
       "[1, 2, 5, 10, 17, 26]"
      ]
     },
     "execution_count": 6,
     "metadata": {},
     "output_type": "execute_result"
    }
   ],
   "source": [
    "[x + 1 for x in [i ** 2 for i in range(6)]] # la liste interne est construite en premier!"
   ]
  },
  {
   "cell_type": "markdown",
   "metadata": {},
   "source": [
    "L'intérêt? Supposer que vous ayez besoins des précédents (et non suivants) des carrés de 1 à 100... (pas de 0 à 99...)"
   ]
  },
  {
   "cell_type": "markdown",
   "metadata": {},
   "source": [
    "#### À faire toi-même\n",
    "\n",
    "Réalise la liste indiquée précédemment en utilisant la **notation en compréhension**."
   ]
  },
  {
   "cell_type": "code",
   "execution_count": 9,
   "metadata": {
    "scrolled": true
   },
   "outputs": [
    {
     "data": {
      "text/plain": [
       "[0,\n",
       " 3,\n",
       " 8,\n",
       " 15,\n",
       " 24,\n",
       " 35,\n",
       " 48,\n",
       " 63,\n",
       " 80,\n",
       " 99,\n",
       " 120,\n",
       " 143,\n",
       " 168,\n",
       " 195,\n",
       " 224,\n",
       " 255,\n",
       " 288,\n",
       " 323,\n",
       " 360,\n",
       " 399,\n",
       " 440,\n",
       " 483,\n",
       " 528,\n",
       " 575,\n",
       " 624,\n",
       " 675,\n",
       " 728,\n",
       " 783,\n",
       " 840,\n",
       " 899,\n",
       " 960,\n",
       " 1023,\n",
       " 1088,\n",
       " 1155,\n",
       " 1224,\n",
       " 1295,\n",
       " 1368,\n",
       " 1443,\n",
       " 1520,\n",
       " 1599,\n",
       " 1680,\n",
       " 1763,\n",
       " 1848,\n",
       " 1935,\n",
       " 2024,\n",
       " 2115,\n",
       " 2208,\n",
       " 2303,\n",
       " 2400,\n",
       " 2499,\n",
       " 2600,\n",
       " 2703,\n",
       " 2808,\n",
       " 2915,\n",
       " 3024,\n",
       " 3135,\n",
       " 3248,\n",
       " 3363,\n",
       " 3480,\n",
       " 3599,\n",
       " 3720,\n",
       " 3843,\n",
       " 3968,\n",
       " 4095,\n",
       " 4224,\n",
       " 4355,\n",
       " 4488,\n",
       " 4623,\n",
       " 4760,\n",
       " 4899,\n",
       " 5040,\n",
       " 5183,\n",
       " 5328,\n",
       " 5475,\n",
       " 5624,\n",
       " 5775,\n",
       " 5928,\n",
       " 6083,\n",
       " 6240,\n",
       " 6399,\n",
       " 6560,\n",
       " 6723,\n",
       " 6888,\n",
       " 7055,\n",
       " 7224,\n",
       " 7395,\n",
       " 7568,\n",
       " 7743,\n",
       " 7920,\n",
       " 8099,\n",
       " 8280,\n",
       " 8463,\n",
       " 8648,\n",
       " 8835,\n",
       " 9024,\n",
       " 9215,\n",
       " 9408,\n",
       " 9603,\n",
       " 9800,\n",
       " 9999]"
      ]
     },
     "execution_count": 9,
     "metadata": {},
     "output_type": "execute_result"
    }
   ],
   "source": [
    "# solution 1\n",
    "sol1 = [x - 1 for x in [i ** 2 for i in range(1,101)]]\n",
    "sol1"
   ]
  },
  {
   "cell_type": "code",
   "execution_count": 10,
   "metadata": {},
   "outputs": [
    {
     "name": "stdout",
     "output_type": "stream",
     "text": [
      "[0, 3, 8, 15, 24, 35, 48, 63, 80, 99, 120, 143, 168, 195, 224, 255, 288, 323, 360, 399, 440, 483, 528, 575, 624, 675, 728, 783, 840, 899, 960, 1023, 1088, 1155, 1224, 1295, 1368, 1443, 1520, 1599, 1680, 1763, 1848, 1935, 2024, 2115, 2208, 2303, 2400, 2499, 2600, 2703, 2808, 2915, 3024, 3135, 3248, 3363, 3480, 3599, 3720, 3843, 3968, 4095, 4224, 4355, 4488, 4623, 4760, 4899, 5040, 5183, 5328, 5475, 5624, 5775, 5928, 6083, 6240, 6399, 6560, 6723, 6888, 7055, 7224, 7395, 7568, 7743, 7920, 8099, 8280, 8463, 8648, 8835, 9024, 9215, 9408, 9603, 9800, 9999]\n"
     ]
    }
   ],
   "source": [
    "# solution 2\n",
    "sol2 = [ x ** 2 - 1 for x in range(1, 101)]\n",
    "assert sol1 == sol2 # doit passer sans erreur\n",
    "print(sol2) # avec print(...) la liste est affichée différemment..."
   ]
  },
  {
   "cell_type": "markdown",
   "metadata": {},
   "source": [
    "___"
   ]
  },
  {
   "cell_type": "markdown",
   "metadata": {},
   "source": [
    "On peut utiliser une **fonction** avec la variable de boucle"
   ]
  },
  {
   "cell_type": "code",
   "execution_count": 11,
   "metadata": {},
   "outputs": [
    {
     "data": {
      "text/plain": [
       "[(0, 0), (1, 1), (2, 4), (3, 9), (4, 16)]"
      ]
     },
     "execution_count": 11,
     "metadata": {},
     "output_type": "execute_result"
    }
   ],
   "source": [
    "ma_fonc = lambda x: (x, x**2) # x -> (x, x**2); attend un nombre et renvoie un tuple (ce nombre, son carré)\n",
    "[ma_fonc(nb) for nb in range(5)] # la fonction est exécuté à chaque changement de nb"
   ]
  },
  {
   "cell_type": "markdown",
   "metadata": {},
   "source": [
    "on peut faire des **sélections** avec un `if`..."
   ]
  },
  {
   "cell_type": "code",
   "execution_count": 12,
   "metadata": {},
   "outputs": [
    {
     "data": {
      "text/plain": [
       "[0, 1, 2, 4, 5, 6, 8, 9]"
      ]
     },
     "execution_count": 12,
     "metadata": {},
     "output_type": "execute_result"
    }
   ],
   "source": [
    "N = 10\n",
    "t = [i for i in range(N) if i not in [3, 7]]\n",
    "t"
   ]
  },
  {
   "cell_type": "markdown",
   "metadata": {},
   "source": [
    "Attention à l'ordre"
   ]
  },
  {
   "cell_type": "code",
   "execution_count": null,
   "metadata": {},
   "outputs": [],
   "source": [
    "# produit une erreur!\n",
    "[i if i not in [3, 7] for i in range(N)] # la sélection if doit toujours avoir lieu **après** la boucle associée"
   ]
  },
  {
   "cell_type": "code",
   "execution_count": null,
   "metadata": {},
   "outputs": [],
   "source": [
    "a, b = 10, 20\n",
    "[i for i in range(a, b) if i % 2 != 0] # i % 2 ne vaut zéro que lorsque i est pair!"
   ]
  },
  {
   "cell_type": "markdown",
   "metadata": {},
   "source": [
    "#### À faire toi-même"
   ]
  },
  {
   "cell_type": "markdown",
   "metadata": {},
   "source": [
    "Je voudrais une petite valse à trois temps de 100 mesures `[1,2,3,1,2,3,...]`\n",
    "\n",
    "*aide*: utiliser l'opérateur modulo `%` et un peu de sélection ... au fait, le reste d'une division est toujours strictement inférieure au diviseur ..."
   ]
  },
  {
   "cell_type": "code",
   "execution_count": 15,
   "metadata": {},
   "outputs": [
    {
     "name": "stdout",
     "output_type": "stream",
     "text": [
      "[1, 2, 3, 1, 2, 3, 1, 2, 3, 1]\n"
     ]
    }
   ],
   "source": [
    "# correction: note que le reste d'une division ne peut être que 0, 1, 2, ..., diviseur-1 (toujours strictement inférieur au diviseur)\n",
    "solution = [(i % 3) + 1 for i in range(300)] \n",
    "print(solution[:10]) # on ne regarde que les 10 premières valeurs"
   ]
  },
  {
   "cell_type": "code",
   "execution_count": 16,
   "metadata": {},
   "outputs": [],
   "source": [
    "# pour tester ta solution.\n",
    "from random import randint\n",
    "i = 3 * randint(0, 100)\n",
    "assert len(solution) == 300\n",
    "assert solution[i:i+3] == [1,2,3]"
   ]
  },
  {
   "cell_type": "markdown",
   "metadata": {},
   "source": [
    "___"
   ]
  },
  {
   "cell_type": "markdown",
   "metadata": {},
   "source": [
    "#### À faire toi-même"
   ]
  },
  {
   "cell_type": "markdown",
   "metadata": {},
   "source": [
    "Construire la liste de tous les entiers entre 50 et 100 qui ne sont ni des multiples de 2 ni des multiples de 5"
   ]
  },
  {
   "cell_type": "code",
   "execution_count": 17,
   "metadata": {
    "scrolled": true
   },
   "outputs": [
    {
     "name": "stdout",
     "output_type": "stream",
     "text": [
      "[51, 53, 57, 59, 61, 63, 67, 69, 71, 73, 77, 79, 81, 83, 87, 89, 91, 93, 97, 99]\n"
     ]
    }
   ],
   "source": [
    "# correction\n",
    "sol = [x for x in range(50, 101) if x % 2 != 0 and x % 5 != 0]\n",
    "print(sol)"
   ]
  },
  {
   "cell_type": "markdown",
   "metadata": {},
   "source": [
    "___"
   ]
  },
  {
   "cell_type": "markdown",
   "metadata": {},
   "source": [
    "On peut utiliser plusieurs `for`"
   ]
  },
  {
   "cell_type": "code",
   "execution_count": 18,
   "metadata": {
    "scrolled": true
   },
   "outputs": [
    {
     "data": {
      "text/plain": [
       "[(0, 0),\n",
       " (0, 1),\n",
       " (0, 2),\n",
       " (0, 3),\n",
       " (0, 4),\n",
       " (0, 5),\n",
       " (1, 0),\n",
       " (1, 1),\n",
       " (1, 2),\n",
       " (1, 3),\n",
       " (1, 4),\n",
       " (1, 5),\n",
       " (2, 0),\n",
       " (2, 1),\n",
       " (2, 2),\n",
       " (2, 3),\n",
       " (2, 4),\n",
       " (2, 5)]"
      ]
     },
     "execution_count": 18,
     "metadata": {},
     "output_type": "execute_result"
    }
   ],
   "source": [
    "[(i, j) for i in range(3) for j in range(6)]"
   ]
  },
  {
   "cell_type": "markdown",
   "metadata": {},
   "source": [
    "observe qu'à chaque tour de la première boucle, la seconde est complètement réalisée.\n",
    "\n",
    "Et lorsqu'on change l'ordre des deux boucles:"
   ]
  },
  {
   "cell_type": "code",
   "execution_count": 19,
   "metadata": {
    "scrolled": true
   },
   "outputs": [
    {
     "data": {
      "text/plain": [
       "[(0, 0),\n",
       " (1, 0),\n",
       " (2, 0),\n",
       " (0, 1),\n",
       " (1, 1),\n",
       " (2, 1),\n",
       " (0, 2),\n",
       " (1, 2),\n",
       " (2, 2),\n",
       " (0, 3),\n",
       " (1, 3),\n",
       " (2, 3),\n",
       " (0, 4),\n",
       " (1, 4),\n",
       " (2, 4),\n",
       " (0, 5),\n",
       " (1, 5),\n",
       " (2, 5)]"
      ]
     },
     "execution_count": 19,
     "metadata": {},
     "output_type": "execute_result"
    }
   ],
   "source": [
    "[(i, j) for j in range(6) for i in range(3)]"
   ]
  },
  {
   "cell_type": "markdown",
   "metadata": {},
   "source": [
    "#### À faire toi-même"
   ]
  },
  {
   "cell_type": "markdown",
   "metadata": {},
   "source": [
    "Construire la liste de tous les mots possibles de trois lettres qu'on peut former à partir de 'a', 'b' et 'c'. Combien y en a-t-il?\n",
    "\n",
    "*aide*: \n",
    "- dans la boucle `for l in \"abc\": ...` -> la variable `l` prend successivement les valeurs `'a'`, `'b'`, `'c'`. \n",
    "- Penser à la **concaténation** des `str` avec `+`... Utiliser plusieurs boucles... (combien?)."
   ]
  },
  {
   "cell_type": "code",
   "execution_count": 20,
   "metadata": {},
   "outputs": [
    {
     "name": "stdout",
     "output_type": "stream",
     "text": [
      "a\n",
      "b\n",
      "c\n"
     ]
    }
   ],
   "source": [
    "# test de l'aide\n",
    "for l in \"abc\":\n",
    "    print(l)"
   ]
  },
  {
   "cell_type": "markdown",
   "metadata": {},
   "source": [
    "**Rappel**: lorsqu'on ajoute des chaînes de caractères, le résultat est une chaîne de caractère obtenue en mettant bout à bout chaque chaîne (**concaténation**)\n",
    "ex: `\"123\"+\"4\"+\"cinq\"` donne `\"1234cinq\"`"
   ]
  },
  {
   "cell_type": "code",
   "execution_count": 24,
   "metadata": {},
   "outputs": [
    {
     "name": "stdout",
     "output_type": "stream",
     "text": [
      "['aa', 'ab', 'ba', 'bb']\n"
     ]
    }
   ],
   "source": [
    "# solution partielle pour deux lettres \"ab\"\n",
    "sol = [l1+l2 for l1 in \"ab\" for l2 in \"ab\"]\n",
    "print(sol)"
   ]
  },
  {
   "cell_type": "code",
   "execution_count": 23,
   "metadata": {},
   "outputs": [
    {
     "name": "stdout",
     "output_type": "stream",
     "text": [
      "['aaa', 'aab', 'aac', 'aba', 'abb', 'abc', 'aca', 'acb', 'acc', 'baa', 'bab', 'bac', 'bba', 'bbb', 'bbc', 'bca', 'bcb', 'bcc', 'caa', 'cab', 'cac', 'cba', 'cbb', 'cbc', 'cca', 'ccb', 'ccc']\n"
     ]
    }
   ],
   "source": [
    "# solution\n",
    "sol = [l1+l2+l3 for l1 in \"abc\" for l2 in \"abc\" for l3 in \"abc\"]\n",
    "print(sol)"
   ]
  },
  {
   "cell_type": "markdown",
   "metadata": {},
   "source": [
    "Inutile de compter à la main ou avec `len`: il y en a $3\\times 3\\times 3 = 9\\times 3={\\bf 27}$.\n",
    "\n",
    "_____"
   ]
  },
  {
   "cell_type": "markdown",
   "metadata": {},
   "source": [
    "#### À faire toi-même"
   ]
  },
  {
   "cell_type": "markdown",
   "metadata": {},
   "source": [
    "Pareil que le précédent mais les mots ne doivent pas contenir deux fois la même lettre (*aide*: utiliser un if...)"
   ]
  },
  {
   "cell_type": "code",
   "execution_count": 25,
   "metadata": {},
   "outputs": [
    {
     "name": "stdout",
     "output_type": "stream",
     "text": [
      "['ab', 'ba']\n"
     ]
    }
   ],
   "source": [
    "# solution pour 2 lettres\n",
    "sol = [l1 + l2 for l1 in \"ab\" for l2 in \"ab\" if l1 != l2]\n",
    "print(sol)"
   ]
  },
  {
   "cell_type": "code",
   "execution_count": 35,
   "metadata": {},
   "outputs": [
    {
     "data": {
      "text/plain": [
       "['abc', 'acb', 'bac', 'bca', 'cab', 'cba']"
      ]
     },
     "execution_count": 35,
     "metadata": {},
     "output_type": "execute_result"
    }
   ],
   "source": [
    "# solution complète\n",
    "[l1 + l2 + l3\n",
    " for l1 in \"abc\"\n",
    " for l2 in \"abc\"\n",
    " for l3 in \"abc\" \n",
    " if l1 != l2 and # première lettre différente de la seconde,\n",
    "    l2 != l3 and # la seconde de la troisième\n",
    "    l3 != l1     # et la troisième de la première!\n",
    "]"
   ]
  },
  {
   "cell_type": "markdown",
   "metadata": {},
   "source": [
    "____"
   ]
  },
  {
   "cell_type": "markdown",
   "metadata": {},
   "source": [
    "# Complément: difficile!"
   ]
  },
  {
   "cell_type": "markdown",
   "metadata": {},
   "source": [
    "On peut imbriquer les listes en compréhension à un bout ..."
   ]
  },
  {
   "cell_type": "code",
   "execution_count": null,
   "metadata": {},
   "outputs": [],
   "source": [
    "[x + 1 for x in [x**2 for x in range(6)]] # déjà vu!"
   ]
  },
  {
   "cell_type": "markdown",
   "metadata": {},
   "source": [
    "ou ... à l'autre! C'est-à-dire l'**expression** peut aussi être une liste en compréhension!"
   ]
  },
  {
   "cell_type": "code",
   "execution_count": 29,
   "metadata": {},
   "outputs": [
    {
     "data": {
      "text/plain": [
       "[[1, 2, 3, 4], [5, 6, 7, 8], [9, 10, 11, 12]]"
      ]
     },
     "execution_count": 29,
     "metadata": {},
     "output_type": "execute_result"
    }
   ],
   "source": [
    "[[i for i in range(j, j+4)] for j in [1, 5, 9]]"
   ]
  },
  {
   "cell_type": "markdown",
   "metadata": {},
   "source": [
    "ou au deux ..."
   ]
  },
  {
   "cell_type": "code",
   "execution_count": 30,
   "metadata": {},
   "outputs": [
    {
     "data": {
      "text/plain": [
       "[[1, 2, 3, 4, 5, 6, 7, 8, 9, 10],\n",
       " [11, 12, 13, 14, 15, 16, 17, 18, 19, 20],\n",
       " [21, 22, 23, 24, 25, 26, 27, 28, 29, 30],\n",
       " [31, 32, 33, 34, 35, 36, 37, 38, 39, 40],\n",
       " [41, 42, 43, 44, 45, 46, 47, 48, 49, 50],\n",
       " [51, 52, 53, 54, 55, 56, 57, 58, 59, 60],\n",
       " [61, 62, 63, 64, 65, 66, 67, 68, 69, 70],\n",
       " [71, 72, 73, 74, 75, 76, 77, 78, 79, 80],\n",
       " [81, 82, 83, 84, 85, 86, 87, 88, 89, 90],\n",
       " [91, 92, 93, 94, 95, 96, 97, 98, 99, 100]]"
      ]
     },
     "execution_count": 30,
     "metadata": {},
     "output_type": "execute_result"
    }
   ],
   "source": [
    "N = 10\n",
    "matrice = [\n",
    "    [ i for i in range(j, j+N) ] # expression à évaluer à chaque ...\n",
    "    for j in [ 1 + i*N for i in range(N) ] # ... changement de la valeur de j\n",
    "]\n",
    "matrice"
   ]
  },
  {
   "cell_type": "code",
   "execution_count": 32,
   "metadata": {},
   "outputs": [
    {
     "data": {
      "text/plain": [
       "[3.0, 6.0, 9.0, 12.0, 15.0, 18.0]"
      ]
     },
     "execution_count": 32,
     "metadata": {},
     "output_type": "execute_result"
    }
   ],
   "source": [
    "bg, bd = 3, 18 # borne gauche, borne droite\n",
    "largeur = bd - bg # ici 15\n",
    "nb_subdivisions = 5 # nb de «pas» pour aller de la borne gauche à la borne droite\n",
    "pas = largeur / nb_subdivisions\n",
    "sub_intervalle = [bg + i * pas for i in range(nb_subdivisions + 1)]\n",
    "sub_intervalle"
   ]
  },
  {
   "cell_type": "code",
   "execution_count": 34,
   "metadata": {},
   "outputs": [
    {
     "data": {
      "text/plain": [
       "[2, 7, 12, 17, 22, 27, 32, 37, 42, 47, 52, 57]"
      ]
     },
     "execution_count": 34,
     "metadata": {},
     "output_type": "execute_result"
    }
   ],
   "source": [
    "depart = 2\n",
    "taille_pas = 5\n",
    "nb_pas = 12\n",
    "pas = [depart + i * taille_pas for i in range(nb_pas)]\n",
    "pas"
   ]
  }
 ],
 "metadata": {
  "kernelspec": {
   "display_name": "Python 3",
   "language": "python",
   "name": "python3"
  },
  "language_info": {
   "codemirror_mode": {
    "name": "ipython",
    "version": 3
   },
   "file_extension": ".py",
   "mimetype": "text/x-python",
   "name": "python",
   "nbconvert_exporter": "python",
   "pygments_lexer": "ipython3",
   "version": "3.6.8"
  }
 },
 "nbformat": 4,
 "nbformat_minor": 4
}
