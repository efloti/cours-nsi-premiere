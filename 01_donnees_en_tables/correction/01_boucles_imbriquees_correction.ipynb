{
 "cells": [
  {
   "cell_type": "markdown",
   "metadata": {},
   "source": [
    "# Boucles imbriquées - TP"
   ]
  },
  {
   "cell_type": "markdown",
   "metadata": {},
   "source": [
    "*Note*: `print(<message>, end=\"ahah\")` affiche le message suivi de \"ahah\"; par défaut `end` vaut \"\\n\" (saut de ligne). Voyez par vous-même."
   ]
  },
  {
   "cell_type": "code",
   "execution_count": null,
   "metadata": {},
   "outputs": [],
   "source": [
    "# test1\n",
    "print(1); print(2); print(3)"
   ]
  },
  {
   "cell_type": "code",
   "execution_count": null,
   "metadata": {},
   "outputs": [],
   "source": [
    "# test2\n",
    "print(1, end=\"héhé\"); print(2, end=\"héhé\"); print(3, end=\"héhé\")"
   ]
  },
  {
   "cell_type": "markdown",
   "metadata": {},
   "source": [
    "Qu'affichent les programmes suivants? Répondre puis tester! Corriger éventuellement...\n",
    "```python\n",
    "for i in range(2):\n",
    "    print(i, end=\",\")\n",
    "for j in range(3):\n",
    "    print(j, end=\",\")\n",
    "```"
   ]
  },
  {
   "cell_type": "markdown",
   "metadata": {},
   "source": [
    "**réponse**: `0,1,0,1,2,`"
   ]
  },
  {
   "cell_type": "code",
   "execution_count": null,
   "metadata": {},
   "outputs": [],
   "source": [
    "for i in range(2):\n",
    "    print(i, end=\",\")\n",
    "for j in range(3):\n",
    "    print(j, end=\",\")"
   ]
  },
  {
   "cell_type": "markdown",
   "metadata": {},
   "source": [
    "```python\n",
    "for i in range(2):\n",
    "    print(i, end=\",\")\n",
    "    for j in range(3):\n",
    "        print(j, end=\",\")\n",
    "```\n",
    "**réponse**: `0,0,1,2,1,0,1,2,`"
   ]
  },
  {
   "cell_type": "code",
   "execution_count": null,
   "metadata": {},
   "outputs": [],
   "source": [
    "for i in range(2):\n",
    "    print(i, end=\",\")\n",
    "    for j in range(3):\n",
    "        print(j, end=\",\")"
   ]
  },
  {
   "cell_type": "markdown",
   "metadata": {},
   "source": [
    "Dans chaque cas, que contient la variable `compte` à la fin?\n",
    "```python\n",
    "compte = 0\n",
    "for i in range(2):\n",
    "    compte += 1\n",
    "for j in range(3):\n",
    "    compte += 1\n",
    "```\n",
    "**réponse**: 2+3=5; le nombre de tour de la boucle1 + le nombre de tour de la boucle2"
   ]
  },
  {
   "cell_type": "code",
   "execution_count": null,
   "metadata": {},
   "outputs": [],
   "source": [
    "compte = 0\n",
    "for i in range(2): # boucle1\n",
    "    compte += 1\n",
    "for j in range(3): # boucle2\n",
    "    compte += 1\n",
    "compte"
   ]
  },
  {
   "cell_type": "markdown",
   "metadata": {},
   "source": [
    "```python\n",
    "compte = 0\n",
    "for i in range(2):\n",
    "    compte += 1\n",
    "    for j in range(3):\n",
    "        compte += 1\n",
    "```\n",
    "**réponse**: 2*(1 + 3) = 2*4 = 8 c'est-à-dire (nb tour boucle externe) * (1 + nb tour boucle interne)\n",
    "\n",
    "à chaque tour de la boucle «externe» (il y en a 2):\n",
    "- compte augmente de 1 puis,\n",
    "- la boucle interne est entièrement réalisée ce qui augmente compte de 3"
   ]
  },
  {
   "cell_type": "code",
   "execution_count": null,
   "metadata": {},
   "outputs": [],
   "source": [
    "compte = 0\n",
    "for i in range(2): # boucle «externe»\n",
    "    compte += 1\n",
    "    for j in range(3): # boucle «interne»\n",
    "        compte += 1\n",
    "compte"
   ]
  },
  {
   "cell_type": "markdown",
   "metadata": {},
   "source": [
    "```python\n",
    "compte = 0\n",
    "for i in range(2):\n",
    "    for j in range(3):\n",
    "        compte += 1\n",
    "```\n",
    "**réponse**: (nb tour boucle externe) * (nb tour boucle interne) = 2 * 3 = 6"
   ]
  },
  {
   "cell_type": "markdown",
   "metadata": {},
   "source": [
    "Exprimer en fonction des entiers `n1` et `n2` la valeur de `compte` à la fin.\n",
    "\n",
    "```python\n",
    "compte = 0\n",
    "for i in range(n1):\n",
    "    compte += 1\n",
    "for j in range(n2):\n",
    "    compte += 1\n",
    "```\n",
    "**réponse**: n1 + n2 car les deux boucles s'exécutent l'une après l'autre, en **séquence**."
   ]
  },
  {
   "cell_type": "markdown",
   "metadata": {},
   "source": [
    "```python\n",
    "compte = 0\n",
    "for i in range(n1): # n1 tours pour la boucle externe, et à chaque tour ...\n",
    "    compte += 1\n",
    "    for j in range(n2): # ... n2 tours de la boucle interne\n",
    "        compte += 1\n",
    "```\n",
    "**réponse**: n1 * (1 + n2) ou n1 + n1 * n2 car chaque tour de la boucle «externe» engendre la réalisation totale de la boucle interne; situation de **boucles imbriquées**. "
   ]
  },
  {
   "cell_type": "markdown",
   "metadata": {},
   "source": [
    "```python\n",
    "compte = 0\n",
    "for _ in range(n1):\n",
    "    for _ in range(n2):\n",
    "        compte += 1\n",
    "```\n",
    "**réponse**: n1 * n2 situation des **boucles imbriquées** (par opposition aux *boucles en séquence*)."
   ]
  },
  {
   "cell_type": "markdown",
   "metadata": {},
   "source": [
    "## Généraliser vos observations\n",
    "Si vous avez trouvé les précédentes, celles là ne devraient pas poser de problèmes ...\n",
    "```python\n",
    "compte = 0\n",
    "for i in range(n1):\n",
    "    compte += 1\n",
    "for j in range(n2):\n",
    "    compte += 1\n",
    "for k in range(n3):\n",
    "    compte += 1\n",
    "            \n",
    "```\n",
    "**réponse**: n1 + n2 + n3 **boucles en séquences**."
   ]
  },
  {
   "cell_type": "markdown",
   "metadata": {},
   "source": [
    "```python\n",
    "compte = 0\n",
    "for i in range(n1):\n",
    "    for j in range(n2):\n",
    "        for k in range(n3):\n",
    "            compte += 1\n",
    "```\n",
    "**réponse**: n1 * n2 * n3 **boucles imbriquées**"
   ]
  },
  {
   "cell_type": "markdown",
   "metadata": {},
   "source": [
    "```python\n",
    "compte = 0\n",
    "for i in range(n1):\n",
    "    compte += 1\n",
    "    for j in range(n2):\n",
    "        compte += 1\n",
    "    for k in range(n3):\n",
    "        compte += 1\n",
    "```\n",
    "**réponse**: n1 * (1 + n2 + n3) combinaison des deux cas précédents."
   ]
  },
  {
   "cell_type": "markdown",
   "metadata": {},
   "source": [
    "Deux dernières pour le fun; Que vaut `compte` après éxécution de ce code si on suppose que `n` vaut 4.\n",
    "\n",
    "```python\n",
    "compte = 0\n",
    "for i in range(n):\n",
    "    for j in range(i,n):\n",
    "        compte += 1\n",
    "```\n",
    "\n",
    "**réponse**: n + (n-1) + (n-2) + ... + 1,  autant de termes que de tours de la boucle externe\n",
    "ici  compte vaut 4 + 3 + 2 + 1 = 10\n",
    "\n",
    "**pour bien comprendre**\n",
    "\n",
    "boucle *externe*:\n",
    "- 1er tour (i == 0):\n",
    "    - boucle *interne* avec range(0, n): donc **n tours** - n - 0 ...\n",
    "- 2e tour (i == 1):\n",
    "    - boucle *interne* avec range(1, n): donc **n-1 tours**\n",
    "- ...\n",
    "- n-ième tour (i == n - 1):\n",
    "    - boucle *interne* avec range(n-1, n): donc n - (n-1) = **1 tours**.\n",
    "    \n",
    "maths: on sait que $1 + 2 + ... + (n-1) + n$ vaut toujours $\\dfrac{n(n+1)}{2}$ qui est donc le nombre de tours ici."
   ]
  },
  {
   "cell_type": "markdown",
   "metadata": {},
   "source": [
    "Qu'affiche le programme suivant?\n",
    "\n",
    "```python\n",
    "for _ in range(1000):\n",
    "    for _ in range(1000):\n",
    "        for _ in range(1000):\n",
    "            for _ in range(1000):\n",
    "                print(\"Mille sabords !\")\n",
    "```\n",
    "**réponse**: mille (1000 *) milliards (1000 * 1000 * 1000 *) de \"Mille sabords\" :-)"
   ]
  },
  {
   "cell_type": "markdown",
   "metadata": {},
   "source": [
    "## Mise en pratique"
   ]
  },
  {
   "cell_type": "markdown",
   "metadata": {},
   "source": [
    "### Problème des doublons\n",
    "\n",
    "Une valeur est en **doublon** dans une liste si elle se répète. ex: `[1,2,3]` aucun doublon; `[1,2,2,1,2]` 1 et 2 se répètent donc ces valeurs sont en doublon.\n",
    "\n",
    "Écrire une fonction `doublon(t)` qui renvoie `True` si le tableau (liste) `t` fournie en argument contient une valeur en doublon.\n",
    "\n",
    "*aide*: \n",
    "1. une valeur `v` est en doublon si on peut trouver deux index *distincts* `i` et `j` de façon que `v == t[i] == t[j]` ait pour valeur `True`.\n",
    "2. parcourir le tableau deux fois à l'aide d'une boucle imbriquée ..."
   ]
  },
  {
   "cell_type": "code",
   "execution_count": null,
   "metadata": {},
   "outputs": [],
   "source": [
    "def doublon(t):\n",
    "    N = len(t)\n",
    "    for i in range(N):\n",
    "        for j in range(N): # à améliorer\n",
    "            if i != j and t[i] == t[j]: return True\n",
    "    return False\n",
    "\n",
    "# en fait on fait trop de travail car, **dans un tour «i» de la boucle externe**, ...\n",
    "# on sait déjà que les valeurs t[0], t[1], ..., t[i-1] ne sont pas en doublons ...\n",
    "# donc il suffit de tester les valeurs de t situées après t[i] ...\n",
    "\n",
    "def doublon_ameliore(t):\n",
    "    N = len(t)\n",
    "    for i in range(N-1): # pourquoi N-1 (réfléchir!!!)\n",
    "        for j in range(i+1, N):\n",
    "            if t[i] == t[j]: return True\n",
    "    return False\n",
    "\n",
    "# Quantité de travail: supposons que le tableau t soit de taille N=1000\n",
    "# pour doublon: \n",
    "#       nb de tours de boucle maximum: N * N = 1 million\n",
    "# pour doublon_ameliore:\n",
    "#       nb de tours de boucle maximum: N-1 + N-2 + ... + 1 = (N-1) * N / 2 ce qui donne environ 500 000 tours (moitié moins); division par 2 de la quantité de travail\n",
    "\n",
    "doublon(\"bonjour\")"
   ]
  },
  {
   "cell_type": "code",
   "execution_count": null,
   "metadata": {},
   "outputs": [],
   "source": [
    "# Pour tester sa réponse\n",
    "t1, t2, t3, t4 = [1,2,3,4], [1,2,3,2], ['a', 'b', 'b', 'c'], []\n",
    "\n",
    "assert doublon(t1) == False # ou assert not doublon(t1)\n",
    "assert doublon(t2) == True # ou assert doublon(t2)\n",
    "assert doublon(t3) == True # ...\n",
    "assert doublon(t4) == False\n",
    "\n",
    "assert not doublon_ameliore(t1)\n",
    "assert doublon_ameliore(t2)\n",
    "assert doublon_ameliore(t3)\n",
    "assert not doublon_ameliore(t4)"
   ]
  },
  {
   "cell_type": "markdown",
   "metadata": {},
   "source": [
    "### Ascii art\n",
    "\n",
    "Écrire des fonctions qui prenne un entier `n` en argument et affichent chacune l'une des figures suivantes (dans un carré de côté `n`). Ses fonctions ne renvoient rien (`None`).\n",
    "\n",
    "     #        ####   ####    ####\n",
    "     ##       ###    .###    #..#\n",
    "     ###      ##     ..##    #..#\n",
    "     ####     #      ...#    ####"
   ]
  },
  {
   "cell_type": "code",
   "execution_count": null,
   "metadata": {},
   "outputs": [],
   "source": [
    "def ascii1(n):\n",
    "    # préconditions\n",
    "    assert n > 0 and isinstance(n, int), \"l'argument doit être un entier strictement positif\" \n",
    "    \n",
    "    for i in range(n): # n° ligne (row)\n",
    "        for j in range(i+1): # n° col\n",
    "            print(\"#\", end=\"\")\n",
    "        print() # on saute à la ligne suivante.\n",
    "\n",
    "ascii1(4)"
   ]
  },
  {
   "cell_type": "code",
   "execution_count": null,
   "metadata": {},
   "outputs": [],
   "source": [
    "def ascii2(n):\n",
    "    # préconditions ...\n",
    "    \n",
    "    for i in range(n): # n° ligne (row)\n",
    "        for j in range(n-i): # n° col\n",
    "            print(\"#\", end=\"\")\n",
    "        print() # on saute à la ligne suivante.\n",
    "\n",
    "ascii2(4)"
   ]
  },
  {
   "cell_type": "code",
   "execution_count": null,
   "metadata": {},
   "outputs": [],
   "source": [
    "def ascii3(n):\n",
    "    for i in range(n): # n° ligne\n",
    "        for j in range(n): # n° col\n",
    "            if j < i:  # diagonale «descendante» caractérisée par n°col == n°ligne\n",
    "                print(\".\", end=\"\") # en dessous\n",
    "            else:\n",
    "                print(\"#\", end=\"\") # au dessus\n",
    "        print()\n",
    "\n",
    "ascii3(4)"
   ]
  },
  {
   "cell_type": "code",
   "execution_count": null,
   "metadata": {},
   "outputs": [],
   "source": [
    "def ascii4(n):\n",
    "    for i in range(n): # n° ligne\n",
    "        for j in range(n): # n° colonne\n",
    "            if i == 0 or i == n-1: # 1ere ou derniere ligne\n",
    "                print(\"#\", end=\"\")\n",
    "            elif j == 0 or j == n-1: # 1ere ou deuxième col pour les autres lignes\n",
    "                print(\"#\", end=\"\")\n",
    "            else:\n",
    "                print(\".\", end=\"\") # à l'intérieur du carré\n",
    "        print()\n",
    "            \n",
    "ascii4(4)"
   ]
  }
 ],
 "metadata": {
  "kernelspec": {
   "display_name": "Python 3",
   "language": "python",
   "name": "python3"
  },
  "language_info": {
   "codemirror_mode": {
    "name": "ipython",
    "version": 3
   },
   "file_extension": ".py",
   "mimetype": "text/x-python",
   "name": "python",
   "nbconvert_exporter": "python",
   "pygments_lexer": "ipython3",
   "version": "3.7.3"
  }
 },
 "nbformat": 4,
 "nbformat_minor": 4
}
