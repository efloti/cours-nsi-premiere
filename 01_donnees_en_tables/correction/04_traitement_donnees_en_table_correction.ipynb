{
 "cells": [
  {
   "cell_type": "markdown",
   "metadata": {},
   "source": [
    "# Traitement des données en tables"
   ]
  },
  {
   "cell_type": "markdown",
   "metadata": {},
   "source": [
    "**Plan du document**\n",
    "- **Pré-traitement** des données\n",
    "- **Projection**: sélection de «colonnes» - descripteurs\n",
    "- **Sélection**: sélection de «lignes» - objets\n",
    "    - fonction qui prend en argument ... une autre fonction!\n",
    "- **Trier** les données"
   ]
  },
  {
   "cell_type": "markdown",
   "metadata": {},
   "source": [
    "Dans cette section, nous supposons disposer d'une table de n-uplet nommés (à l'aide de dictionnaires) et donc de la forme:\n",
    "\n",
    "`[{descr1: val1, descr2: val2,...},{descr1: val'1, ...}, ...]`\n",
    "\n",
    "qui représente le tableau (qui peut avoir plus de trois colonnes!)\n",
    "\n",
    "| descr1   | descr2           | ...  |\n",
    "| :-------------:|:-------------:|:-----:|\n",
    "| val1      | val2 | ... |\n",
    "| val'1      | ...      |   ... |\n",
    "| ... | ...   |    ... |"
   ]
  },
  {
   "cell_type": "markdown",
   "metadata": {},
   "source": [
    "**Objectif**: apprendre à réaliser certaines opérations courantes sur ce genre de données:\n",
    "- pré-traitements\n",
    "- sélectionner des «objets» (lignes) - **selection**,\n",
    "- sélectionner des descripteurs (colonnes) - **projection**,\n",
    "- **trier** les objets (lignes) sur la base d'un ou de plusieurs descripteurs.\n",
    "\n",
    "Voici la table que nous utiliserons pour tester ces opérations"
   ]
  },
  {
   "cell_type": "code",
   "execution_count": 1,
   "metadata": {
    "collapsed": true,
    "jupyter": {
     "outputs_hidden": true,
     "source_hidden": true
    }
   },
   "outputs": [],
   "source": [
    "table_test = [\n",
    "    {'n_client': '1212', 'nom': 'Lacasse', 'prenom': 'Aubrey', 'ville': 'Annecy', 'position': '45.900000,6.116667'},\n",
    "    {'n_client': '1343', 'nom': 'Primeau', 'prenom': 'Angelette', 'ville': 'Tours', 'position': '47.383333,0.683333'},\n",
    "    {'n_client': '2454', 'nom': 'Gabriaux', 'prenom': 'Julie', 'ville': 'Bordeaux', 'position': '44.833333,-0.566667'},\n",
    "    {'n_client': '895', 'nom': 'Gaulin', 'prenom': 'Dorene', 'ville': 'Lyon', 'position': '45.750000,4.850000'},\n",
    "    {'n_client': '2324', 'nom': 'Jobin', 'prenom': 'Aubrey', 'ville': 'Bourges', 'position': '47.083333,2.400000'},\n",
    "    {'n_client': '34', 'nom': 'Boncoeur', 'prenom': 'Kari', 'ville': 'Nantes', 'position': '47.216667,-1.550000'},\n",
    "    {'n_client': '1221', 'nom': 'Parizeau', 'prenom': 'Olympia', 'ville': 'Metz', 'position': '49.133333,6.166667'},\n",
    "    {'n_client': '1114', 'nom': 'Paiement', 'prenom': 'Inès', 'ville': 'Bordeaux', 'position': '44.833333,-0.566667'},\n",
    "    {'n_client': '3435', 'nom': 'Chrétien', 'prenom': 'Adèle', 'ville': 'Moulin', 'position': '46.566667,3.333333'},\n",
    "    {'n_client': '5565', 'nom': 'Neufville', 'prenom': 'Ila', 'ville': 'Toulouse', 'position': '43.600000,1.433333'},\n",
    "    {'n_client': '2221', 'nom': 'Larivière', 'prenom': 'Alice', 'ville': 'Tours', 'position': '47.383333,0.683333'},\n",
    "]"
   ]
  },
  {
   "cell_type": "markdown",
   "metadata": {},
   "source": [
    "Quels sont les descripteurs de cette table? **réponse**: *n_client, nom, prenom, ville, position*"
   ]
  },
  {
   "cell_type": "code",
   "execution_count": 2,
   "metadata": {
    "collapsed": true,
    "jupyter": {
     "outputs_hidden": true,
     "source_hidden": true
    }
   },
   "outputs": [
    {
     "data": {
      "text/plain": [
       "11"
      ]
     },
     "execution_count": 2,
     "metadata": {},
     "output_type": "execute_result"
    }
   ],
   "source": [
    "# combien comporte-t-elle d'«objets»? **réponse**: 11\n",
    "len(table_test)"
   ]
  },
  {
   "cell_type": "markdown",
   "metadata": {},
   "source": [
    "Quel est le type commun de toutes les valeurs? **réponse**: `str`"
   ]
  },
  {
   "cell_type": "markdown",
   "metadata": {},
   "source": [
    "## Pré-traitement ou préparation des données"
   ]
  },
  {
   "cell_type": "markdown",
   "metadata": {},
   "source": [
    "On observe que certains **descripteurs** pourrait avoir un **type** plus précis que `str`, par exemple le descripteur `n_client` gagnerait a être de type `int`.\n",
    "\n",
    "Améliorons cela à l'aide de la syntaxe en compréhension:"
   ]
  },
  {
   "cell_type": "code",
   "execution_count": 3,
   "metadata": {
    "collapsed": true,
    "jupyter": {
     "outputs_hidden": true,
     "source_hidden": true
    }
   },
   "outputs": [
    {
     "data": {
      "text/plain": [
       "[{'n_client': 1212,\n",
       "  'nom': 'Lacasse',\n",
       "  'prenom': 'Aubrey',\n",
       "  'ville': 'Annecy',\n",
       "  'position': '45.900000,6.116667'},\n",
       " {'n_client': 1343,\n",
       "  'nom': 'Primeau',\n",
       "  'prenom': 'Angelette',\n",
       "  'ville': 'Tours',\n",
       "  'position': '47.383333,0.683333'}]"
      ]
     },
     "execution_count": 3,
     "metadata": {},
     "output_type": "execute_result"
    }
   ],
   "source": [
    "table_test_2 = [ \n",
    "    { \n",
    "    k: int(v) if k == 'n_client' else v\n",
    "    for k, v in o.items()\n",
    "    }\n",
    "    for o in table_test\n",
    "]\n",
    "# observe bien la valeur du descripteur 'n_client'\n",
    "table_test_2[:2]"
   ]
  },
  {
   "cell_type": "markdown",
   "metadata": {},
   "source": [
    "C'est encore un peu difficile à lire probablement? l'opérateur ternaire `e1 if cond else e2` n'est pas encore parfaitement clair? ni l'écriture en compréhension?\n",
    "\n",
    "Alors voici l'équivalent dans une fonction avec une boucle imbriquée."
   ]
  },
  {
   "cell_type": "code",
   "execution_count": 4,
   "metadata": {
    "collapsed": true,
    "jupyter": {
     "outputs_hidden": true,
     "source_hidden": true
    }
   },
   "outputs": [
    {
     "data": {
      "text/plain": [
       "[{'n_client': 1212,\n",
       "  'nom': 'Lacasse',\n",
       "  'prenom': 'Aubrey',\n",
       "  'ville': 'Annecy',\n",
       "  'position': '45.900000,6.116667'},\n",
       " {'n_client': 1343,\n",
       "  'nom': 'Primeau',\n",
       "  'prenom': 'Angelette',\n",
       "  'ville': 'Tours',\n",
       "  'position': '47.383333,0.683333'},\n",
       " {'n_client': 2454,\n",
       "  'nom': 'Gabriaux',\n",
       "  'prenom': 'Julie',\n",
       "  'ville': 'Bordeaux',\n",
       "  'position': '44.833333,-0.566667'},\n",
       " {'n_client': 895,\n",
       "  'nom': 'Gaulin',\n",
       "  'prenom': 'Dorene',\n",
       "  'ville': 'Lyon',\n",
       "  'position': '45.750000,4.850000'},\n",
       " {'n_client': 2324,\n",
       "  'nom': 'Jobin',\n",
       "  'prenom': 'Aubrey',\n",
       "  'ville': 'Bourges',\n",
       "  'position': '47.083333,2.400000'},\n",
       " {'n_client': 34,\n",
       "  'nom': 'Boncoeur',\n",
       "  'prenom': 'Kari',\n",
       "  'ville': 'Nantes',\n",
       "  'position': '47.216667,-1.550000'},\n",
       " {'n_client': 1221,\n",
       "  'nom': 'Parizeau',\n",
       "  'prenom': 'Olympia',\n",
       "  'ville': 'Metz',\n",
       "  'position': '49.133333,6.166667'},\n",
       " {'n_client': 1114,\n",
       "  'nom': 'Paiement',\n",
       "  'prenom': 'Inès',\n",
       "  'ville': 'Bordeaux',\n",
       "  'position': '44.833333,-0.566667'},\n",
       " {'n_client': 3435,\n",
       "  'nom': 'Chrétien',\n",
       "  'prenom': 'Adèle',\n",
       "  'ville': 'Moulin',\n",
       "  'position': '46.566667,3.333333'},\n",
       " {'n_client': 5565,\n",
       "  'nom': 'Neufville',\n",
       "  'prenom': 'Ila',\n",
       "  'ville': 'Toulouse',\n",
       "  'position': '43.600000,1.433333'},\n",
       " {'n_client': 2221,\n",
       "  'nom': 'Larivière',\n",
       "  'prenom': 'Alice',\n",
       "  'ville': 'Tours',\n",
       "  'position': '47.383333,0.683333'}]"
      ]
     },
     "execution_count": 4,
     "metadata": {},
     "output_type": "execute_result"
    }
   ],
   "source": [
    "def conversion1(table):\n",
    "    tc = []\n",
    "    for o in table:\n",
    "        obj = {}\n",
    "        for k, v in o.items():\n",
    "            if k == 'n_client':\n",
    "                obj[k] = int(v)\n",
    "            else:\n",
    "                obj[k] = v\n",
    "        tc.append(obj)\n",
    "    return tc\n",
    "\n",
    "conversion1(table_test)"
   ]
  },
  {
   "cell_type": "markdown",
   "metadata": {},
   "source": [
    "Mais il y a un autre descripteur qui pose problème: `position`\n",
    "\n",
    "son type est `str` au format `'<float>,<float>'`\n",
    "\n",
    "nous voudrions que son type soit «`tuple` de `float`» c'est-à-dire passer de (par ex.) `'45.900000,6.116667'` à `(45.900000, 6.116667)`."
   ]
  },
  {
   "cell_type": "markdown",
   "metadata": {},
   "source": [
    "### À toi de jouer\n",
    "\n",
    "En t'inspirant de la conversion résolue précédente, transforme le descripteur `position` en un tuple de 2 floats."
   ]
  },
  {
   "cell_type": "code",
   "execution_count": 5,
   "metadata": {
    "collapsed": true,
    "jupyter": {
     "outputs_hidden": true
    }
   },
   "outputs": [
    {
     "data": {
      "text/plain": [
       "[{'n_client': '1212',\n",
       "  'nom': 'Lacasse',\n",
       "  'prenom': 'Aubrey',\n",
       "  'ville': 'Annecy',\n",
       "  'position': (45.9, 6.116667)},\n",
       " {'n_client': '1343',\n",
       "  'nom': 'Primeau',\n",
       "  'prenom': 'Angelette',\n",
       "  'ville': 'Tours',\n",
       "  'position': (47.383333, 0.683333)}]"
      ]
     },
     "execution_count": 5,
     "metadata": {},
     "output_type": "execute_result"
    }
   ],
   "source": [
    "# avec une fonction\n",
    "def conversion2(table):\n",
    "    tc = []\n",
    "    for o in table:\n",
    "        obj = {}\n",
    "        for k, v in o.items():\n",
    "            if k == 'position':\n",
    "                x, y = v.split(',')\n",
    "                x, y = float(x), float(y)\n",
    "                obj[k] = (x, y)\n",
    "            else:\n",
    "                obj[k] = v\n",
    "        tc.append(obj)\n",
    "    return tc\n",
    "\n",
    "res = conversion2(table_test)\n",
    "res[:2]"
   ]
  },
  {
   "cell_type": "code",
   "execution_count": 6,
   "metadata": {
    "collapsed": true,
    "jupyter": {
     "outputs_hidden": true
    }
   },
   "outputs": [
    {
     "data": {
      "text/plain": [
       "[{'n_client': '1212',\n",
       "  'nom': 'Lacasse',\n",
       "  'prenom': 'Aubrey',\n",
       "  'ville': 'Annecy',\n",
       "  'position': (45.9, 6.116667)},\n",
       " {'n_client': '1343',\n",
       "  'nom': 'Primeau',\n",
       "  'prenom': 'Angelette',\n",
       "  'ville': 'Tours',\n",
       "  'position': (47.383333, 0.683333)}]"
      ]
     },
     "execution_count": 6,
     "metadata": {},
     "output_type": "execute_result"
    }
   ],
   "source": [
    "# avec la syntaxe en compréhension (tu peux utiliser plusieurs étapes)\n",
    "# ici en une étape (voir aussi l'autre solution plus «facile»)\n",
    "table_test_3 = [ \n",
    "    { \n",
    "    k: tuple(float(x) for x in v.split(','))\n",
    "        if k == 'position' else v\n",
    "    for k, v in o.items()\n",
    "    }\n",
    "    for o in table_test\n",
    "]\n",
    "table_test_3[:2]"
   ]
  },
  {
   "cell_type": "code",
   "execution_count": 7,
   "metadata": {
    "collapsed": true,
    "jupyter": {
     "outputs_hidden": true
    }
   },
   "outputs": [
    {
     "data": {
      "text/plain": [
       "[{'n_client': '1212',\n",
       "  'nom': 'Lacasse',\n",
       "  'prenom': 'Aubrey',\n",
       "  'ville': 'Annecy',\n",
       "  'position': (45.9, 6.116667)},\n",
       " {'n_client': '1343',\n",
       "  'nom': 'Primeau',\n",
       "  'prenom': 'Angelette',\n",
       "  'ville': 'Tours',\n",
       "  'position': (47.383333, 0.683333)}]"
      ]
     },
     "execution_count": 7,
     "metadata": {},
     "output_type": "execute_result"
    }
   ],
   "source": [
    "# autre solution\n",
    "\n",
    "# 1 définir une fonction qui transforme (par ex.) \"2.3,12.5\" en (2.3, 12.5)\n",
    "def utile(couple_str):\n",
    "    x, y = couple_str.split(',')\n",
    "    x, y = float(x), float(y)\n",
    "    return (x, y)\n",
    "\n",
    "# 2 L'utiliser pour simplifier la syntaxe en compréhension\n",
    "table_test4 = [ \n",
    "    { \n",
    "    k: utile(v) if k == 'position' else v\n",
    "    for k, v in o.items()\n",
    "    }\n",
    "    for o in table_test\n",
    "]\n",
    "table_test4[:2]"
   ]
  },
  {
   "cell_type": "markdown",
   "metadata": {},
   "source": [
    "_________"
   ]
  },
  {
   "cell_type": "markdown",
   "metadata": {},
   "source": [
    "## Projection ou sélection de colonnes"
   ]
  },
  {
   "cell_type": "code",
   "execution_count": 8,
   "metadata": {
    "collapsed": true,
    "jupyter": {
     "outputs_hidden": true,
     "source_hidden": true
    }
   },
   "outputs": [],
   "source": [
    "table_test = [\n",
    "    {'n_client': 1212, 'nom': 'Lacasse', 'prenom': 'Aubrey', 'ville': 'Annecy', 'position': (45.900000,6.116667)},\n",
    "    {'n_client': 1343, 'nom': 'Primeau', 'prenom': 'Angelette', 'ville': 'Tours', 'position': (47.383333,0.683333)},\n",
    "    {'n_client': 2454, 'nom': 'Gabriaux', 'prenom': 'Julie', 'ville': 'Bordeaux', 'position': (44.833333,-0.566667)},\n",
    "    {'n_client': 895, 'nom': 'Gaulin', 'prenom': 'Dorene', 'ville': 'Lyon', 'position': (45.750000,4.850000)},\n",
    "    {'n_client': 2324, 'nom': 'Jobin', 'prenom': 'Aubrey', 'ville': 'Bourges', 'position': (47.083333,2.400000)},\n",
    "    {'n_client': 34, 'nom': 'Boncoeur', 'prenom': 'Kari', 'ville': 'Nantes', 'position': (47.216667,-1.550000)},\n",
    "    {'n_client': 1221, 'nom': 'Parizeau', 'prenom': 'Olympia', 'ville': 'Metz', 'position': (49.133333,6.166667)},\n",
    "    {'n_client': 1114, 'nom': 'Paiement', 'prenom': 'Inès', 'ville': 'Bordeaux', 'position': (44.833333,-0.566667)},\n",
    "    {'n_client': 3435, 'nom': 'Chrétien', 'prenom': 'Adèle', 'ville': 'Moulin', 'position': (46.566667,3.333333)},\n",
    "    {'n_client': 5565, 'nom': 'Neufville', 'prenom': 'Ila', 'ville': 'Toulouse', 'position': (43.600000,1.433333)},\n",
    "    {'n_client': 2221, 'nom': 'Larivière', 'prenom': 'Alice', 'ville': 'Tours', 'position': (47.383333,0.683333)},\n",
    "]"
   ]
  },
  {
   "cell_type": "markdown",
   "metadata": {},
   "source": [
    "Cette opération consiste à «oublier» un ou plusieurs descripteurs d'un objet. Par exemple, pour se concentrer sur ceux qui nous intéresse dans notre projet.\n",
    "\n",
    "Le problème est le suivant: étant donnée une liste de descripteurs à oublier, produire la table de donnée correspondante.\n",
    "\n",
    "ex: si `a_oublier = ['n_client', 'prenom', 'position']` alors l'objet:\n",
    "- `{'n_client': 1212, 'nom': 'Lacasse', 'prenom': 'Aubrey', 'ville': 'Annecy', 'position': (45.900000,6.116667)}` ...\n",
    "- ... devient `{'nom': 'Lacasse', 'ville': 'Annecy'}` ...\n",
    "- et ainsi de suite pour chaque objet."
   ]
  },
  {
   "cell_type": "code",
   "execution_count": 9,
   "metadata": {
    "collapsed": true,
    "jupyter": {
     "outputs_hidden": true,
     "source_hidden": true
    }
   },
   "outputs": [
    {
     "data": {
      "text/plain": [
       "[{'nom': 'Lacasse', 'ville': 'Annecy'},\n",
       " {'nom': 'Primeau', 'ville': 'Tours'},\n",
       " {'nom': 'Gabriaux', 'ville': 'Bordeaux'},\n",
       " {'nom': 'Gaulin', 'ville': 'Lyon'},\n",
       " {'nom': 'Jobin', 'ville': 'Bourges'},\n",
       " {'nom': 'Boncoeur', 'ville': 'Nantes'},\n",
       " {'nom': 'Parizeau', 'ville': 'Metz'},\n",
       " {'nom': 'Paiement', 'ville': 'Bordeaux'},\n",
       " {'nom': 'Chrétien', 'ville': 'Moulin'},\n",
       " {'nom': 'Neufville', 'ville': 'Toulouse'},\n",
       " {'nom': 'Larivière', 'ville': 'Tours'}]"
      ]
     },
     "execution_count": 9,
     "metadata": {},
     "output_type": "execute_result"
    }
   ],
   "source": [
    "def projection_par_oubli(tableau, a_oublier):\n",
    "    tsel = []\n",
    "    for o in tableau:\n",
    "        obj = {}\n",
    "        for k, v in o.items():\n",
    "            if not k in a_oublier:\n",
    "                obj[k] = v\n",
    "        tsel.append(obj)\n",
    "    return tsel\n",
    "\n",
    "projection_par_oubli(table_test, ['n_client', 'prenom', 'position'])"
   ]
  },
  {
   "cell_type": "markdown",
   "metadata": {},
   "source": [
    "### À ton tour"
   ]
  },
  {
   "cell_type": "markdown",
   "metadata": {},
   "source": [
    "1. Peux-tu réaliser la même chose avec la notation en compréhension en une ou plusieurs étapes?"
   ]
  },
  {
   "cell_type": "code",
   "execution_count": 10,
   "metadata": {
    "collapsed": true,
    "jupyter": {
     "outputs_hidden": true
    }
   },
   "outputs": [
    {
     "data": {
      "text/plain": [
       "[{'nom': 'Lacasse', 'ville': 'Annecy'}, {'nom': 'Primeau', 'ville': 'Tours'}]"
      ]
     },
     "execution_count": 10,
     "metadata": {},
     "output_type": "execute_result"
    }
   ],
   "source": [
    "def projection_par_oubli2(tableau, a_oublier):\n",
    "    return [\n",
    "        {\n",
    "            k: v\n",
    "            for k, v in o.items() if k not in a_oublier\n",
    "        }\n",
    "        for o in tableau\n",
    "    ]\n",
    "\n",
    "res = projection_par_oubli2(table_test, ['n_client', 'prenom', 'position'])\n",
    "res[:2]"
   ]
  },
  {
   "cell_type": "markdown",
   "metadata": {},
   "source": [
    "2. Écris une fonction `projection(tableau, a_conserver)` qui prend en argument le tableau de données et la liste des descripteurs à conserver; elle renvoie le tableau «projeté»."
   ]
  },
  {
   "cell_type": "code",
   "execution_count": 11,
   "metadata": {
    "collapsed": true,
    "jupyter": {
     "outputs_hidden": true
    }
   },
   "outputs": [
    {
     "data": {
      "text/plain": [
       "[{'n_client': 1212, 'prenom': 'Aubrey', 'position': (45.9, 6.116667)},\n",
       " {'n_client': 1343, 'prenom': 'Angelette', 'position': (47.383333, 0.683333)}]"
      ]
     },
     "execution_count": 11,
     "metadata": {},
     "output_type": "execute_result"
    }
   ],
   "source": [
    "# 1 - avec la syntaxe en compréhension\n",
    "def projection(tableau, a_conserver):\n",
    "    return [\n",
    "        {\n",
    "            k: v\n",
    "            for k, v in o.items() if k in a_conserver\n",
    "        }\n",
    "        for o in tableau\n",
    "    ]\n",
    "\n",
    "res = projection(table_test, ['n_client', 'prenom', 'position'])\n",
    "res[:2]"
   ]
  },
  {
   "cell_type": "code",
   "execution_count": 12,
   "metadata": {
    "collapsed": true,
    "jupyter": {
     "outputs_hidden": true
    }
   },
   "outputs": [
    {
     "data": {
      "text/plain": [
       "[{'n_client': 1212, 'prenom': 'Aubrey', 'position': (45.9, 6.116667)},\n",
       " {'n_client': 1343, 'prenom': 'Angelette', 'position': (47.383333, 0.683333)}]"
      ]
     },
     "execution_count": 12,
     "metadata": {},
     "output_type": "execute_result"
    }
   ],
   "source": [
    "# 2 - de façon classique (boucles imbriquées)\n",
    "def projection2(tableau, a_conserver):\n",
    "    proj = []\n",
    "    for o in tableau:\n",
    "        new_o = {}\n",
    "        for k, v in o.items():\n",
    "            if k in a_conserver:\n",
    "                new_o[k] = v\n",
    "        proj.append(new_o)\n",
    "    return proj\n",
    "\n",
    "res = projection2(table_test, ['n_client', 'prenom', 'position'])\n",
    "res[:2]"
   ]
  },
  {
   "cell_type": "code",
   "execution_count": 13,
   "metadata": {
    "collapsed": true,
    "jupyter": {
     "outputs_hidden": true
    }
   },
   "outputs": [
    {
     "data": {
      "text/plain": [
       "[{'n_client': 1212, 'prenom': 'Aubrey', 'position': (45.9, 6.116667)},\n",
       " {'n_client': 1343, 'prenom': 'Angelette', 'position': (47.383333, 0.683333)}]"
      ]
     },
     "execution_count": 13,
     "metadata": {},
     "output_type": "execute_result"
    }
   ],
   "source": [
    "# 3 - en combinant les deux!\n",
    "def projection3(tableau, a_conserver):\n",
    "    proj = []\n",
    "    for o in tableau:\n",
    "        proj.append(\n",
    "            {k: v for k, v in o.items() if k in a_conserver}\n",
    "        )\n",
    "    return proj\n",
    "\n",
    "res = projection3(table_test, ['n_client', 'prenom', 'position'])\n",
    "res[:2]"
   ]
  },
  {
   "cell_type": "markdown",
   "metadata": {},
   "source": [
    "_____"
   ]
  },
  {
   "cell_type": "markdown",
   "metadata": {},
   "source": [
    "## Sélection d'objets"
   ]
  },
  {
   "cell_type": "markdown",
   "metadata": {},
   "source": [
    "On souhaite à présent transformer le tableau en ne conservant que les objets qui respectent un certain critère.\n",
    "\n",
    "Par exemple, on pourrait vouloir sélectionner les clients qui habitent à tours."
   ]
  },
  {
   "cell_type": "code",
   "execution_count": 14,
   "metadata": {
    "collapsed": true,
    "jupyter": {
     "outputs_hidden": true,
     "source_hidden": true
    }
   },
   "outputs": [
    {
     "data": {
      "text/plain": [
       "[{'n_client': 1343,\n",
       "  'nom': 'Primeau',\n",
       "  'prenom': 'Angelette',\n",
       "  'ville': 'Tours',\n",
       "  'position': (47.383333, 0.683333)},\n",
       " {'n_client': 2221,\n",
       "  'nom': 'Larivière',\n",
       "  'prenom': 'Alice',\n",
       "  'ville': 'Tours',\n",
       "  'position': (47.383333, 0.683333)}]"
      ]
     },
     "execution_count": 14,
     "metadata": {},
     "output_type": "execute_result"
    }
   ],
   "source": [
    "def selection_exemple(tableau):\n",
    "    tsel = []\n",
    "    for o in tableau:\n",
    "        if o['ville'] == 'Tours':\n",
    "            tsel.append(o)\n",
    "    return tsel\n",
    "\n",
    "selection_exemple(table_test)"
   ]
  },
  {
   "cell_type": "markdown",
   "metadata": {},
   "source": [
    "### À ton tour!"
   ]
  },
  {
   "cell_type": "markdown",
   "metadata": {},
   "source": [
    "1. écris une fonction `selection2` qui renvoie le tableau en ne conservant que les objets dont le numéro de client est dans l'intervalle `[1000;3000]`."
   ]
  },
  {
   "cell_type": "code",
   "execution_count": 15,
   "metadata": {
    "collapsed": true,
    "jupyter": {
     "outputs_hidden": true
    }
   },
   "outputs": [
    {
     "data": {
      "text/plain": [
       "[{'n_client': 1114,\n",
       "  'nom': 'Paiement',\n",
       "  'prenom': 'Inès',\n",
       "  'ville': 'Bordeaux',\n",
       "  'position': (44.833333, -0.566667)},\n",
       " {'n_client': 2221,\n",
       "  'nom': 'Larivière',\n",
       "  'prenom': 'Alice',\n",
       "  'ville': 'Tours',\n",
       "  'position': (47.383333, 0.683333)}]"
      ]
     },
     "execution_count": 15,
     "metadata": {},
     "output_type": "execute_result"
    }
   ],
   "source": [
    "def selection2(tableau):\n",
    "    tsel = []\n",
    "    for o in tableau:\n",
    "        if 1000 <= o['n_client'] <= 3000:\n",
    "            tsel.append(o)\n",
    "    return tsel\n",
    "\n",
    "res = selection2(table_test)\n",
    "res[-2:] # les deux derniers"
   ]
  },
  {
   "cell_type": "markdown",
   "metadata": {},
   "source": [
    "2. écris une fonction `selection3` qui sélectionne les objets dont la longitude est positive - 'pos=(lat., long.)' et dont le prénom débute par un 'A'."
   ]
  },
  {
   "cell_type": "code",
   "execution_count": 16,
   "metadata": {
    "collapsed": true,
    "jupyter": {
     "outputs_hidden": true
    }
   },
   "outputs": [
    {
     "data": {
      "text/plain": [
       "[{'n_client': 1212,\n",
       "  'nom': 'Lacasse',\n",
       "  'prenom': 'Aubrey',\n",
       "  'ville': 'Annecy',\n",
       "  'position': (45.9, 6.116667)},\n",
       " {'n_client': 1343,\n",
       "  'nom': 'Primeau',\n",
       "  'prenom': 'Angelette',\n",
       "  'ville': 'Tours',\n",
       "  'position': (47.383333, 0.683333)},\n",
       " {'n_client': 2324,\n",
       "  'nom': 'Jobin',\n",
       "  'prenom': 'Aubrey',\n",
       "  'ville': 'Bourges',\n",
       "  'position': (47.083333, 2.4)},\n",
       " {'n_client': 3435,\n",
       "  'nom': 'Chrétien',\n",
       "  'prenom': 'Adèle',\n",
       "  'ville': 'Moulin',\n",
       "  'position': (46.566667, 3.333333)},\n",
       " {'n_client': 2221,\n",
       "  'nom': 'Larivière',\n",
       "  'prenom': 'Alice',\n",
       "  'ville': 'Tours',\n",
       "  'position': (47.383333, 0.683333)}]"
      ]
     },
     "execution_count": 16,
     "metadata": {},
     "output_type": "execute_result"
    }
   ],
   "source": [
    "def selection3(tableau):\n",
    "    tsel = []\n",
    "    for o in tableau:\n",
    "        # récupérer les éléments d'informations pertinents...\n",
    "        _, lat = o['position']\n",
    "        l = o['prenom'][0]\n",
    "        # ... afin d'écrire simplement la condition\n",
    "        if lat >= 0 and l == 'A':\n",
    "            tsel.append(o)\n",
    "    return tsel\n",
    "\n",
    "res = selection3(table_test)\n",
    "res"
   ]
  },
  {
   "cell_type": "markdown",
   "metadata": {},
   "source": [
    "____"
   ]
  },
  {
   "cell_type": "markdown",
   "metadata": {},
   "source": [
    "### Une fonction qui prend en argument une autre fonction!"
   ]
  },
  {
   "cell_type": "markdown",
   "metadata": {},
   "source": [
    "Il est simple d'adapter le code précédent pour sélectionner selon un autre critère, mais on peut faire bien mieux en suivant ces étapes:\n",
    "1. Définir une fonction qui étant donné un objet renvoie `True` si l'objet respecte le critère, `False` autrement - une telle fonction est appelée **filtre**.\n",
    "2. Passer en argument la fonction filtre à la fonction de selection.\n",
    "\n",
    "Commençons par l'**étape 2** :-o"
   ]
  },
  {
   "cell_type": "code",
   "execution_count": 17,
   "metadata": {
    "collapsed": true,
    "jupyter": {
     "outputs_hidden": true,
     "source_hidden": true
    }
   },
   "outputs": [],
   "source": [
    "def selection(tableau, filtre_fn):\n",
    "    tsel = []\n",
    "    for o in tableau:\n",
    "        if filtre_fn(o): # rappel filtre est une fonction qui renvoie `True` ou `False`\n",
    "            tsel.append(o)\n",
    "    return tsel"
   ]
  },
  {
   "cell_type": "markdown",
   "metadata": {},
   "source": [
    "Pour l'**étape 1**, une «micro fonction» suffit bien souvent:"
   ]
  },
  {
   "cell_type": "code",
   "execution_count": 18,
   "metadata": {
    "collapsed": true,
    "jupyter": {
     "outputs_hidden": true,
     "source_hidden": true
    }
   },
   "outputs": [],
   "source": [
    "a_tours = lambda objet: objet['ville'] == 'Tours'"
   ]
  },
  {
   "cell_type": "markdown",
   "metadata": {},
   "source": [
    "Finalement, on combine les deux:"
   ]
  },
  {
   "cell_type": "code",
   "execution_count": 19,
   "metadata": {
    "collapsed": true,
    "jupyter": {
     "outputs_hidden": true,
     "source_hidden": true
    }
   },
   "outputs": [
    {
     "data": {
      "text/plain": [
       "[{'n_client': 1343,\n",
       "  'nom': 'Primeau',\n",
       "  'prenom': 'Angelette',\n",
       "  'ville': 'Tours',\n",
       "  'position': (47.383333, 0.683333)},\n",
       " {'n_client': 2221,\n",
       "  'nom': 'Larivière',\n",
       "  'prenom': 'Alice',\n",
       "  'ville': 'Tours',\n",
       "  'position': (47.383333, 0.683333)}]"
      ]
     },
     "execution_count": 19,
     "metadata": {},
     "output_type": "execute_result"
    }
   ],
   "source": [
    "selection(table_test, a_tours)"
   ]
  },
  {
   "cell_type": "markdown",
   "metadata": {},
   "source": [
    "En fait, on peut se passer de l'étape 2 et c'est justement la raison d'être des «micro fonctions» appelée parfois *fonction anonyme*, il suffit d'écrire:"
   ]
  },
  {
   "cell_type": "code",
   "execution_count": 20,
   "metadata": {
    "collapsed": true,
    "jupyter": {
     "outputs_hidden": true,
     "source_hidden": true
    }
   },
   "outputs": [
    {
     "data": {
      "text/plain": [
       "[{'n_client': 1343,\n",
       "  'nom': 'Primeau',\n",
       "  'prenom': 'Angelette',\n",
       "  'ville': 'Tours',\n",
       "  'position': (47.383333, 0.683333)},\n",
       " {'n_client': 2221,\n",
       "  'nom': 'Larivière',\n",
       "  'prenom': 'Alice',\n",
       "  'ville': 'Tours',\n",
       "  'position': (47.383333, 0.683333)}]"
      ]
     },
     "execution_count": 20,
     "metadata": {},
     "output_type": "execute_result"
    }
   ],
   "source": [
    "# sur plusieurs lignes pour plus de clarté; remettre sur une ligne. \n",
    "selection(\n",
    "    table_test,\n",
    "    lambda o: o['ville'] == 'Tours'\n",
    ")"
   ]
  },
  {
   "cell_type": "markdown",
   "metadata": {},
   "source": [
    "Si le filtre est plus compliqué, rien n'empêche d'utiliser une fonction «normale»"
   ]
  },
  {
   "cell_type": "code",
   "execution_count": 21,
   "metadata": {
    "collapsed": true,
    "jupyter": {
     "outputs_hidden": true,
     "source_hidden": true
    }
   },
   "outputs": [
    {
     "data": {
      "text/plain": [
       "[{'n_client': 1343,\n",
       "  'nom': 'Primeau',\n",
       "  'prenom': 'Angelette',\n",
       "  'ville': 'Tours',\n",
       "  'position': (47.383333, 0.683333)},\n",
       " {'n_client': 34,\n",
       "  'nom': 'Boncoeur',\n",
       "  'prenom': 'Kari',\n",
       "  'ville': 'Nantes',\n",
       "  'position': (47.216667, -1.55)},\n",
       " {'n_client': 1221,\n",
       "  'nom': 'Parizeau',\n",
       "  'prenom': 'Olympia',\n",
       "  'ville': 'Metz',\n",
       "  'position': (49.133333, 6.166667)},\n",
       " {'n_client': 1114,\n",
       "  'nom': 'Paiement',\n",
       "  'prenom': 'Inès',\n",
       "  'ville': 'Bordeaux',\n",
       "  'position': (44.833333, -0.566667)},\n",
       " {'n_client': 2221,\n",
       "  'nom': 'Larivière',\n",
       "  'prenom': 'Alice',\n",
       "  'ville': 'Tours',\n",
       "  'position': (47.383333, 0.683333)}]"
      ]
     },
     "execution_count": 21,
     "metadata": {},
     "output_type": "execute_result"
    }
   ],
   "source": [
    "def filtre_tordu(objet):\n",
    "    condition1 = objet['ville'] == 'Tours'\n",
    "    condition2 = objet['nom'][0] in ['P', 'B']\n",
    "    return condition1 or condition2\n",
    "\n",
    "# en fait, on pourrait encore utiliser une «micro-fonction» dans ce cas.\n",
    "selection(table_test, filtre_tordu)"
   ]
  },
  {
   "cell_type": "markdown",
   "metadata": {},
   "source": [
    "#### À ton tour!"
   ]
  },
  {
   "cell_type": "markdown",
   "metadata": {},
   "source": [
    "Écris les micros fonctions ou des fonctions ordinaire qui permettent de résoudre le dernier «À ton tour» "
   ]
  },
  {
   "cell_type": "code",
   "execution_count": 22,
   "metadata": {
    "collapsed": true,
    "jupyter": {
     "outputs_hidden": true
    }
   },
   "outputs": [
    {
     "data": {
      "text/plain": [
       "[{'n_client': 1343,\n",
       "  'nom': 'Primeau',\n",
       "  'prenom': 'Angelette',\n",
       "  'ville': 'Tours',\n",
       "  'position': (47.383333, 0.683333)},\n",
       " {'n_client': 2221,\n",
       "  'nom': 'Larivière',\n",
       "  'prenom': 'Alice',\n",
       "  'ville': 'Tours',\n",
       "  'position': (47.383333, 0.683333)}]"
      ]
     },
     "execution_count": 22,
     "metadata": {},
     "output_type": "execute_result"
    }
   ],
   "source": [
    "filtre1 = lambda o: o['ville'] == 'Tours'\n",
    "\n",
    "selection(table_test, filtre1)"
   ]
  },
  {
   "cell_type": "code",
   "execution_count": 23,
   "metadata": {
    "collapsed": true,
    "jupyter": {
     "outputs_hidden": true
    }
   },
   "outputs": [
    {
     "data": {
      "text/plain": [
       "[{'n_client': 1212,\n",
       "  'nom': 'Lacasse',\n",
       "  'prenom': 'Aubrey',\n",
       "  'ville': 'Annecy',\n",
       "  'position': (45.9, 6.116667)},\n",
       " {'n_client': 1343,\n",
       "  'nom': 'Primeau',\n",
       "  'prenom': 'Angelette',\n",
       "  'ville': 'Tours',\n",
       "  'position': (47.383333, 0.683333)},\n",
       " {'n_client': 2324,\n",
       "  'nom': 'Jobin',\n",
       "  'prenom': 'Aubrey',\n",
       "  'ville': 'Bourges',\n",
       "  'position': (47.083333, 2.4)},\n",
       " {'n_client': 3435,\n",
       "  'nom': 'Chrétien',\n",
       "  'prenom': 'Adèle',\n",
       "  'ville': 'Moulin',\n",
       "  'position': (46.566667, 3.333333)},\n",
       " {'n_client': 2221,\n",
       "  'nom': 'Larivière',\n",
       "  'prenom': 'Alice',\n",
       "  'ville': 'Tours',\n",
       "  'position': (47.383333, 0.683333)}]"
      ]
     },
     "execution_count": 23,
     "metadata": {},
     "output_type": "execute_result"
    }
   ],
   "source": [
    "def filtre2(o):\n",
    "    _, lat = o['position']\n",
    "    l = o['prenom'][0]\n",
    "    return lat > 0 and l == 'A'\n",
    "\n",
    "selection(table_test, filtre2)"
   ]
  },
  {
   "cell_type": "markdown",
   "metadata": {},
   "source": [
    "_____"
   ]
  },
  {
   "cell_type": "markdown",
   "metadata": {},
   "source": [
    "Rencontrer pour la première fois «une fonction qui prend en argument une autre fonction» - parfois appelée **fonction d'ordre supérieur** - est souvent déroutant.\n",
    "\n",
    "Pour «passer le cap», voici une activité complémentaire."
   ]
  },
  {
   "cell_type": "markdown",
   "metadata": {},
   "source": [
    "#### Activité: ma première fonction d'ordre supérieur"
   ]
  },
  {
   "cell_type": "markdown",
   "metadata": {},
   "source": [
    "Écris une fonction `appliquer(liste, fn)` qui prend en argument:\n",
    "- une liste d'éléments de type 'a': ce type est arbitraire, l'important c'est que tous les éléments de la liste aient le même type,\n",
    "- une fonction `fn` qui prend en argument un élément de type 'a' et renvoie un élément de type 'b'.\n",
    "\n",
    "Finalement, la fonction `appliquer` renvoie une liste d'éléments de type 'b' (tous)\n",
    "\n",
    "**En résumé**: `appliquer` reçois `liste: \"[a]\"` et `fn: \"a -> b\"` et elle produit `\"[b]\"`...\n",
    "\n",
    "Aide-toi des assertions qui suivent pour résoudre le problème."
   ]
  },
  {
   "cell_type": "code",
   "execution_count": 24,
   "metadata": {
    "collapsed": true,
    "jupyter": {
     "outputs_hidden": true
    }
   },
   "outputs": [],
   "source": [
    "def appliquer(liste, fn):\n",
    "    res = []\n",
    "    for v in liste:\n",
    "        y = fn(v)\n",
    "        res.append(y)\n",
    "    return res"
   ]
  },
  {
   "cell_type": "code",
   "execution_count": 25,
   "metadata": {
    "collapsed": true,
    "jupyter": {
     "outputs_hidden": true
    }
   },
   "outputs": [],
   "source": [
    "l = [1,2,3]\n",
    "f = lambda x: x**2 # f: int -> int\n",
    "assert appliquer(l, f) == [1,4,9]\n",
    "l = [\"un\", \"deux\", \"trois\"]\n",
    "f = lambda ch: len(ch) # f: str -> int\n",
    "assert appliquer(l, f) == [2,4,5]\n",
    "f = lambda ch: ch.upper() # f: str -> str\n",
    "assert appliquer(l, f) == [\"UN\", \"DEUX\", \"TROIS\"]"
   ]
  },
  {
   "cell_type": "markdown",
   "metadata": {},
   "source": [
    "_____"
   ]
  },
  {
   "cell_type": "markdown",
   "metadata": {},
   "source": [
    "## Trier le tableau selon un ou plusieurs descripteurs"
   ]
  },
  {
   "cell_type": "code",
   "execution_count": 26,
   "metadata": {
    "collapsed": true,
    "jupyter": {
     "outputs_hidden": true,
     "source_hidden": true
    }
   },
   "outputs": [],
   "source": [
    "table_test = [\n",
    "    {'n_client': 1212, 'nom': 'Lacasse', 'prenom': 'Aubrey', 'ville': 'Annecy', 'position': (45.900000,6.116667)},\n",
    "    {'n_client': 1343, 'nom': 'Primeau', 'prenom': 'Angelette', 'ville': 'Tours', 'position': (47.383333,0.683333)},\n",
    "    {'n_client': 2454, 'nom': 'Gabriaux', 'prenom': 'Julie', 'ville': 'Bordeaux', 'position': (44.833333,-0.566667)},\n",
    "    {'n_client': 895, 'nom': 'Gaulin', 'prenom': 'Dorene', 'ville': 'Lyon', 'position': (45.750000,4.850000)},\n",
    "    {'n_client': 2324, 'nom': 'Jobin', 'prenom': 'Aubrey', 'ville': 'Bourges', 'position': (47.083333,2.400000)},\n",
    "    {'n_client': 34, 'nom': 'Boncoeur', 'prenom': 'Kari', 'ville': 'Nantes', 'position': (47.216667,-1.550000)},\n",
    "    {'n_client': 1221, 'nom': 'Parizeau', 'prenom': 'Olympia', 'ville': 'Metz', 'position': (49.133333,6.166667)},\n",
    "    {'n_client': 1114, 'nom': 'Paiement', 'prenom': 'Inès', 'ville': 'Bordeaux', 'position': (44.833333,-0.566667)},\n",
    "    {'n_client': 3435, 'nom': 'Gabriaux', 'prenom': 'Adèle', 'ville': 'Moulin', 'position': (46.566667,3.333333)},\n",
    "    {'n_client': 5565, 'nom': 'Neufville', 'prenom': 'Ila', 'ville': 'Toulouse', 'position': (43.600000,1.433333)},\n",
    "    {'n_client': 2221, 'nom': 'Larivière', 'prenom': 'Alice', 'ville': 'Tours', 'position': (47.383333,0.683333)},\n",
    "]"
   ]
  },
  {
   "cell_type": "markdown",
   "metadata": {},
   "source": [
    "Supposer que nous souhaitions **ordonner** les objets selon leur descripteur `n_client`: du plus petit numéro au plus grand.\n",
    "\n",
    "Pour faire cela, nous utiliserons la fonction prédéfinie de python `sorted(liste, key=choix_descripteur_fn)` qui renvoie la liste `liste` triée suivant la *fonction* `choix_descripteur_fn` (la liste initiale n'est pas modifiée).\n",
    "\n",
    "Pour notre exemple, la fonction est `lambda o: o['n_client']`: elle prend un objet (une ligne) et renvoie la valeur de son descripteur `'n_client'`."
   ]
  },
  {
   "cell_type": "code",
   "execution_count": 27,
   "metadata": {
    "collapsed": true,
    "jupyter": {
     "outputs_hidden": true,
     "source_hidden": true
    }
   },
   "outputs": [
    {
     "data": {
      "text/plain": [
       "[{'n_client': 34,\n",
       "  'nom': 'Boncoeur',\n",
       "  'prenom': 'Kari',\n",
       "  'ville': 'Nantes',\n",
       "  'position': (47.216667, -1.55)},\n",
       " {'n_client': 895,\n",
       "  'nom': 'Gaulin',\n",
       "  'prenom': 'Dorene',\n",
       "  'ville': 'Lyon',\n",
       "  'position': (45.75, 4.85)},\n",
       " {'n_client': 1114,\n",
       "  'nom': 'Paiement',\n",
       "  'prenom': 'Inès',\n",
       "  'ville': 'Bordeaux',\n",
       "  'position': (44.833333, -0.566667)},\n",
       " {'n_client': 1212,\n",
       "  'nom': 'Lacasse',\n",
       "  'prenom': 'Aubrey',\n",
       "  'ville': 'Annecy',\n",
       "  'position': (45.9, 6.116667)},\n",
       " {'n_client': 1221,\n",
       "  'nom': 'Parizeau',\n",
       "  'prenom': 'Olympia',\n",
       "  'ville': 'Metz',\n",
       "  'position': (49.133333, 6.166667)},\n",
       " {'n_client': 1343,\n",
       "  'nom': 'Primeau',\n",
       "  'prenom': 'Angelette',\n",
       "  'ville': 'Tours',\n",
       "  'position': (47.383333, 0.683333)},\n",
       " {'n_client': 2221,\n",
       "  'nom': 'Larivière',\n",
       "  'prenom': 'Alice',\n",
       "  'ville': 'Tours',\n",
       "  'position': (47.383333, 0.683333)},\n",
       " {'n_client': 2324,\n",
       "  'nom': 'Jobin',\n",
       "  'prenom': 'Aubrey',\n",
       "  'ville': 'Bourges',\n",
       "  'position': (47.083333, 2.4)},\n",
       " {'n_client': 2454,\n",
       "  'nom': 'Gabriaux',\n",
       "  'prenom': 'Julie',\n",
       "  'ville': 'Bordeaux',\n",
       "  'position': (44.833333, -0.566667)},\n",
       " {'n_client': 3435,\n",
       "  'nom': 'Gabriaux',\n",
       "  'prenom': 'Adèle',\n",
       "  'ville': 'Moulin',\n",
       "  'position': (46.566667, 3.333333)},\n",
       " {'n_client': 5565,\n",
       "  'nom': 'Neufville',\n",
       "  'prenom': 'Ila',\n",
       "  'ville': 'Toulouse',\n",
       "  'position': (43.6, 1.433333)}]"
      ]
     },
     "execution_count": 27,
     "metadata": {},
     "output_type": "execute_result"
    }
   ],
   "source": [
    "triee1 = sorted(table_test, key=lambda o: o['n_client']) # argument nommé key\n",
    "triee1"
   ]
  },
  {
   "cell_type": "markdown",
   "metadata": {},
   "source": [
    "Si nous souhaitons trier les objets (clients) suivant leur nom, **puis** leur prenom, nous renvoyons un tuple dans cet ordre."
   ]
  },
  {
   "cell_type": "code",
   "execution_count": 28,
   "metadata": {
    "collapsed": true,
    "jupyter": {
     "outputs_hidden": true,
     "source_hidden": true
    }
   },
   "outputs": [
    {
     "data": {
      "text/plain": [
       "[{'n_client': 34,\n",
       "  'nom': 'Boncoeur',\n",
       "  'prenom': 'Kari',\n",
       "  'ville': 'Nantes',\n",
       "  'position': (47.216667, -1.55)},\n",
       " {'n_client': 3435,\n",
       "  'nom': 'Gabriaux',\n",
       "  'prenom': 'Adèle',\n",
       "  'ville': 'Moulin',\n",
       "  'position': (46.566667, 3.333333)},\n",
       " {'n_client': 2454,\n",
       "  'nom': 'Gabriaux',\n",
       "  'prenom': 'Julie',\n",
       "  'ville': 'Bordeaux',\n",
       "  'position': (44.833333, -0.566667)},\n",
       " {'n_client': 895,\n",
       "  'nom': 'Gaulin',\n",
       "  'prenom': 'Dorene',\n",
       "  'ville': 'Lyon',\n",
       "  'position': (45.75, 4.85)},\n",
       " {'n_client': 2324,\n",
       "  'nom': 'Jobin',\n",
       "  'prenom': 'Aubrey',\n",
       "  'ville': 'Bourges',\n",
       "  'position': (47.083333, 2.4)},\n",
       " {'n_client': 1212,\n",
       "  'nom': 'Lacasse',\n",
       "  'prenom': 'Aubrey',\n",
       "  'ville': 'Annecy',\n",
       "  'position': (45.9, 6.116667)},\n",
       " {'n_client': 2221,\n",
       "  'nom': 'Larivière',\n",
       "  'prenom': 'Alice',\n",
       "  'ville': 'Tours',\n",
       "  'position': (47.383333, 0.683333)},\n",
       " {'n_client': 5565,\n",
       "  'nom': 'Neufville',\n",
       "  'prenom': 'Ila',\n",
       "  'ville': 'Toulouse',\n",
       "  'position': (43.6, 1.433333)},\n",
       " {'n_client': 1114,\n",
       "  'nom': 'Paiement',\n",
       "  'prenom': 'Inès',\n",
       "  'ville': 'Bordeaux',\n",
       "  'position': (44.833333, -0.566667)},\n",
       " {'n_client': 1221,\n",
       "  'nom': 'Parizeau',\n",
       "  'prenom': 'Olympia',\n",
       "  'ville': 'Metz',\n",
       "  'position': (49.133333, 6.166667)},\n",
       " {'n_client': 1343,\n",
       "  'nom': 'Primeau',\n",
       "  'prenom': 'Angelette',\n",
       "  'ville': 'Tours',\n",
       "  'position': (47.383333, 0.683333)}]"
      ]
     },
     "execution_count": 28,
     "metadata": {},
     "output_type": "execute_result"
    }
   ],
   "source": [
    "sorted(\n",
    "    table_test,\n",
    "    key=lambda o: (o['nom'], o['prenom']) # les parenthèses sont en fait inutiles\n",
    ")"
   ]
  },
  {
   "cell_type": "markdown",
   "metadata": {},
   "source": [
    "Voyez-vous la différence si nous trions seulement sur le nom? (observez bien)."
   ]
  },
  {
   "cell_type": "markdown",
   "metadata": {},
   "source": [
    "### À faire vous-même"
   ]
  },
  {
   "cell_type": "markdown",
   "metadata": {},
   "source": [
    "1. Trier la table selon la première lettre du prénom puis selon la longitude (Est vers Ouest).\n",
    "\n",
    "   *Rappel*: position=(lat,long)"
   ]
  },
  {
   "cell_type": "code",
   "execution_count": 29,
   "metadata": {
    "collapsed": true,
    "jupyter": {
     "outputs_hidden": true
    }
   },
   "outputs": [
    {
     "data": {
      "text/plain": [
       "[{'n_client': 1343,\n",
       "  'nom': 'Primeau',\n",
       "  'prenom': 'Angelette',\n",
       "  'ville': 'Tours',\n",
       "  'position': (47.383333, 0.683333)},\n",
       " {'n_client': 2221,\n",
       "  'nom': 'Larivière',\n",
       "  'prenom': 'Alice',\n",
       "  'ville': 'Tours',\n",
       "  'position': (47.383333, 0.683333)},\n",
       " {'n_client': 2324,\n",
       "  'nom': 'Jobin',\n",
       "  'prenom': 'Aubrey',\n",
       "  'ville': 'Bourges',\n",
       "  'position': (47.083333, 2.4)},\n",
       " {'n_client': 3435,\n",
       "  'nom': 'Gabriaux',\n",
       "  'prenom': 'Adèle',\n",
       "  'ville': 'Moulin',\n",
       "  'position': (46.566667, 3.333333)},\n",
       " {'n_client': 1212,\n",
       "  'nom': 'Lacasse',\n",
       "  'prenom': 'Aubrey',\n",
       "  'ville': 'Annecy',\n",
       "  'position': (45.9, 6.116667)},\n",
       " {'n_client': 895,\n",
       "  'nom': 'Gaulin',\n",
       "  'prenom': 'Dorene',\n",
       "  'ville': 'Lyon',\n",
       "  'position': (45.75, 4.85)},\n",
       " {'n_client': 1114,\n",
       "  'nom': 'Paiement',\n",
       "  'prenom': 'Inès',\n",
       "  'ville': 'Bordeaux',\n",
       "  'position': (44.833333, -0.566667)},\n",
       " {'n_client': 5565,\n",
       "  'nom': 'Neufville',\n",
       "  'prenom': 'Ila',\n",
       "  'ville': 'Toulouse',\n",
       "  'position': (43.6, 1.433333)},\n",
       " {'n_client': 2454,\n",
       "  'nom': 'Gabriaux',\n",
       "  'prenom': 'Julie',\n",
       "  'ville': 'Bordeaux',\n",
       "  'position': (44.833333, -0.566667)},\n",
       " {'n_client': 34,\n",
       "  'nom': 'Boncoeur',\n",
       "  'prenom': 'Kari',\n",
       "  'ville': 'Nantes',\n",
       "  'position': (47.216667, -1.55)},\n",
       " {'n_client': 1221,\n",
       "  'nom': 'Parizeau',\n",
       "  'prenom': 'Olympia',\n",
       "  'ville': 'Metz',\n",
       "  'position': (49.133333, 6.166667)}]"
      ]
     },
     "execution_count": 29,
     "metadata": {},
     "output_type": "execute_result"
    }
   ],
   "source": [
    "sorted( table_test, key=lambda o: (o['prenom'][0], o['position'][1]) )"
   ]
  },
  {
   "cell_type": "markdown",
   "metadata": {},
   "source": [
    "2. Sachant que `sorted` prend un troisième argument optionnel nommé `reverse` et qui vaut `False` par défaut, trier la table selon le numéro de client dans l'ordre descendant (plus grand en premier)."
   ]
  },
  {
   "cell_type": "code",
   "execution_count": 30,
   "metadata": {
    "collapsed": true,
    "jupyter": {
     "outputs_hidden": true
    }
   },
   "outputs": [
    {
     "data": {
      "text/plain": [
       "[{'n_client': 5565,\n",
       "  'nom': 'Neufville',\n",
       "  'prenom': 'Ila',\n",
       "  'ville': 'Toulouse',\n",
       "  'position': (43.6, 1.433333)},\n",
       " {'n_client': 3435,\n",
       "  'nom': 'Gabriaux',\n",
       "  'prenom': 'Adèle',\n",
       "  'ville': 'Moulin',\n",
       "  'position': (46.566667, 3.333333)},\n",
       " {'n_client': 2454,\n",
       "  'nom': 'Gabriaux',\n",
       "  'prenom': 'Julie',\n",
       "  'ville': 'Bordeaux',\n",
       "  'position': (44.833333, -0.566667)},\n",
       " {'n_client': 2324,\n",
       "  'nom': 'Jobin',\n",
       "  'prenom': 'Aubrey',\n",
       "  'ville': 'Bourges',\n",
       "  'position': (47.083333, 2.4)},\n",
       " {'n_client': 2221,\n",
       "  'nom': 'Larivière',\n",
       "  'prenom': 'Alice',\n",
       "  'ville': 'Tours',\n",
       "  'position': (47.383333, 0.683333)},\n",
       " {'n_client': 1343,\n",
       "  'nom': 'Primeau',\n",
       "  'prenom': 'Angelette',\n",
       "  'ville': 'Tours',\n",
       "  'position': (47.383333, 0.683333)},\n",
       " {'n_client': 1221,\n",
       "  'nom': 'Parizeau',\n",
       "  'prenom': 'Olympia',\n",
       "  'ville': 'Metz',\n",
       "  'position': (49.133333, 6.166667)},\n",
       " {'n_client': 1212,\n",
       "  'nom': 'Lacasse',\n",
       "  'prenom': 'Aubrey',\n",
       "  'ville': 'Annecy',\n",
       "  'position': (45.9, 6.116667)},\n",
       " {'n_client': 1114,\n",
       "  'nom': 'Paiement',\n",
       "  'prenom': 'Inès',\n",
       "  'ville': 'Bordeaux',\n",
       "  'position': (44.833333, -0.566667)},\n",
       " {'n_client': 895,\n",
       "  'nom': 'Gaulin',\n",
       "  'prenom': 'Dorene',\n",
       "  'ville': 'Lyon',\n",
       "  'position': (45.75, 4.85)},\n",
       " {'n_client': 34,\n",
       "  'nom': 'Boncoeur',\n",
       "  'prenom': 'Kari',\n",
       "  'ville': 'Nantes',\n",
       "  'position': (47.216667, -1.55)}]"
      ]
     },
     "execution_count": 30,
     "metadata": {},
     "output_type": "execute_result"
    }
   ],
   "source": [
    "sorted( table_test, key=lambda o: o['n_client'], reverse=True )"
   ]
  }
 ],
 "metadata": {
  "kernelspec": {
   "display_name": "Python 3",
   "language": "python",
   "name": "python3"
  },
  "language_info": {
   "codemirror_mode": {
    "name": "ipython",
    "version": 3
   },
   "file_extension": ".py",
   "mimetype": "text/x-python",
   "name": "python",
   "nbconvert_exporter": "python",
   "pygments_lexer": "ipython3",
   "version": "3.6.8"
  }
 },
 "nbformat": 4,
 "nbformat_minor": 4
}
