{
 "cells": [
  {
   "cell_type": "markdown",
   "metadata": {},
   "source": [
    "# Découverte du format CSV - *Comma-Separated values*"
   ]
  },
  {
   "cell_type": "markdown",
   "metadata": {
    "jupyter": {
     "source_hidden": true
    }
   },
   "source": [
    "**Plan du document**\n",
    "- Le format **CSV**\n",
    "- Représenter des données CSV avec Python\n",
    "    - Première solution: un tableau de tuples\n",
    "    - **Deuxième solution**: un tableau de *tuples nommés* (dictionnaires)\n",
    "        - l'*unpacking*,\n",
    "        - l'opération *zip*\n",
    "        - syntaxe en *compréhension des dictionnaires*\n",
    "        - **synthèse**: CSV -> tableau de tuples nommés"
   ]
  },
  {
   "cell_type": "markdown",
   "metadata": {},
   "source": [
    "## Le format CSV"
   ]
  },
  {
   "cell_type": "markdown",
   "metadata": {
    "jupyter": {
     "source_hidden": true
    }
   },
   "source": [
    "*Comma*: virgule; *CSV*: valeurs séparées par des virgule."
   ]
  },
  {
   "cell_type": "markdown",
   "metadata": {
    "jupyter": {
     "source_hidden": true
    }
   },
   "source": [
    "CSV est un format **textuel** (par opposition à *binaire*) qui sert à représenter des **données en tables**; voici à quoi cela ressemble:\n",
    "\n",
    "```\n",
    "nom,prenom,date_naissance\n",
    "Durand,Jean-Pierre,23/05/1985\n",
    "Dupont,Christophe,15/12/1967\n",
    "Terta,Henry,12/06/1978       \n",
    "```"
   ]
  },
  {
   "cell_type": "markdown",
   "metadata": {
    "jupyter": {
     "source_hidden": true
    }
   },
   "source": [
    "On devine qu'il s'agit d'informations à propos d'individus: Jean pierre Durand né le 23 mai 1985, etc. En informatique on parle de **collection de données**.\n",
    "\n",
    "La première ligne précise le sens des valeurs trouvées aux lignes suivantes; ses valeurs `nom`, `prenom`, `date_naissance` sont appelées **descripteurs** ou encore **attributs**.\n",
    "\n",
    "Les lignes suivantes correspondent à des individus différents; en informatique on parle souvent d'**objets** ou d'**entités**.\n",
    "\n",
    "Chaque «*objet*» (ici individu) correspond à une ligne: les **valeurs** qu'on y trouve sont associées aux *descripteurs* de même position."
   ]
  },
  {
   "cell_type": "markdown",
   "metadata": {
    "jupyter": {
     "source_hidden": true
    }
   },
   "source": [
    "On peut (re)présenter la même information plus agréablement avec un rendu table:\n",
    "\n",
    "| nom   | prenom           | date_naissance  |\n",
    "| ------------- |:-------------:| -----:|\n",
    "| Durand      | Jean-Pierre | 23/05/1985 |\n",
    "| Dupont      | Christophe      |   15/12/1967 |\n",
    "| Tertra | Henry   |    12/06/1978 |"
   ]
  },
  {
   "cell_type": "markdown",
   "metadata": {},
   "source": [
    "## Représenter des données CSV avec Python"
   ]
  },
  {
   "cell_type": "markdown",
   "metadata": {},
   "source": [
    "### Première solution: une liste de tuples"
   ]
  },
  {
   "cell_type": "markdown",
   "metadata": {},
   "source": [
    "Cela donnerait `[('Durand', 'Jean-Pierre', '23/05/1985'), ('Dupont',..),(..)]`"
   ]
  },
  {
   "cell_type": "markdown",
   "metadata": {},
   "source": [
    "On y parvient assez simplement à l'aide de `str.split(..)`:"
   ]
  },
  {
   "cell_type": "code",
   "execution_count": 1,
   "metadata": {
    "jupyter": {
     "source_hidden": true
    }
   },
   "outputs": [],
   "source": [
    "donnees_CSV = \"\"\"nom,prenom,date_naissance\n",
    "Durand,Jean-Pierre,23/05/1985\n",
    "Dupont,Christophe,15/12/1967\n",
    "Terta,Henry,12/06/1978\"\"\""
   ]
  },
  {
   "cell_type": "code",
   "execution_count": 2,
   "metadata": {
    "collapsed": true,
    "jupyter": {
     "outputs_hidden": true,
     "source_hidden": true
    }
   },
   "outputs": [
    {
     "data": {
      "text/plain": [
       "['nom,prenom,date_naissance',\n",
       " 'Durand,Jean-Pierre,23/05/1985',\n",
       " 'Dupont,Christophe,15/12/1967',\n",
       " 'Terta,Henry,12/06/1978']"
      ]
     },
     "execution_count": 2,
     "metadata": {},
     "output_type": "execute_result"
    }
   ],
   "source": [
    "etape1 = donnees_CSV.split('\\n')\n",
    "etape1"
   ]
  },
  {
   "cell_type": "code",
   "execution_count": 3,
   "metadata": {
    "collapsed": true,
    "jupyter": {
     "outputs_hidden": true,
     "source_hidden": true
    }
   },
   "outputs": [
    {
     "data": {
      "text/plain": [
       "[['nom', 'prenom', 'date_naissance'],\n",
       " ['Durand', 'Jean-Pierre', '23/05/1985'],\n",
       " ['Dupont', 'Christophe', '15/12/1967'],\n",
       " ['Terta', 'Henry', '12/06/1978']]"
      ]
     },
     "execution_count": 3,
     "metadata": {},
     "output_type": "execute_result"
    }
   ],
   "source": [
    "etape2 = [obj.split(',') for obj in etape1]\n",
    "etape2 # une liste de liste"
   ]
  },
  {
   "cell_type": "code",
   "execution_count": 4,
   "metadata": {
    "collapsed": true,
    "jupyter": {
     "outputs_hidden": true,
     "source_hidden": true
    }
   },
   "outputs": [
    {
     "data": {
      "text/plain": [
       "[('nom', 'prenom', 'date_naissance'),\n",
       " ('Durand', 'Jean-Pierre', '23/05/1985'),\n",
       " ('Dupont', 'Christophe', '15/12/1967'),\n",
       " ('Terta', 'Henry', '12/06/1978')]"
      ]
     },
     "execution_count": 4,
     "metadata": {},
     "output_type": "execute_result"
    }
   ],
   "source": [
    "etape3 = [tuple(obj) for obj in etape2]\n",
    "etape3 # une liste de tuple"
   ]
  },
  {
   "cell_type": "code",
   "execution_count": 5,
   "metadata": {
    "collapsed": true,
    "jupyter": {
     "outputs_hidden": true,
     "source_hidden": true
    }
   },
   "outputs": [
    {
     "data": {
      "text/plain": [
       "[('Durand', 'Jean-Pierre', '23/05/1985'),\n",
       " ('Dupont', 'Christophe', '15/12/1967'),\n",
       " ('Terta', 'Henry', '12/06/1978')]"
      ]
     },
     "execution_count": 5,
     "metadata": {},
     "output_type": "execute_result"
    }
   ],
   "source": [
    "fin = etape3[1:] # un petit slice\n",
    "fin # sans l'en-tête"
   ]
  },
  {
   "cell_type": "markdown",
   "metadata": {},
   "source": [
    "#### À faire toi-même\n",
    "\n",
    "On peut parvenir à `fin` à partir de `donnees_CSV` en **une seule fois** par *composition* ... essais!"
   ]
  },
  {
   "cell_type": "code",
   "execution_count": 6,
   "metadata": {},
   "outputs": [],
   "source": [
    "# deux_en_un = [ obj.split(',') for obj in donnees_CSV.split('\\n') ]\n",
    "# trois_en_un = [ tuple( obj.split(',') ) for obj in donnees_CSV.split('\\n') ]\n",
    "# tu peux essayer de faire deux_en_un, puis trois_en_un avant.\n",
    "quatre_en_un = [ tuple( obj.split(',') ) for obj in donnees_CSV.split('\\n') ][1:]"
   ]
  },
  {
   "cell_type": "code",
   "execution_count": 7,
   "metadata": {},
   "outputs": [],
   "source": [
    "# pour tester\n",
    "assert quatre_en_un == fin"
   ]
  },
  {
   "cell_type": "markdown",
   "metadata": {},
   "source": [
    "___"
   ]
  },
  {
   "cell_type": "markdown",
   "metadata": {},
   "source": [
    "L'inconvénient de cette représentation c'est qu'elle «oublie» les descripteurs.\n",
    "\n",
    "Pourquoi ne pas les conserver comme à l'étape3? Pour éviter d'avoir un tableau *hétérogène*: le premier élément ne serait pas un «objet». De tels tableaux sont plus difficile à manipuler."
   ]
  },
  {
   "cell_type": "markdown",
   "metadata": {},
   "source": [
    "### Deuxième solution: un tableau de *tuples nommés*"
   ]
  },
  {
   "cell_type": "markdown",
   "metadata": {
    "jupyter": {
     "source_hidden": true
    }
   },
   "source": [
    "**n-uplet (ou tuples) nommés**: tuple dont chaque valeur est associée à un descripteur.\n",
    "\n",
    "Malheureusement Python ne possède pas un tel type par défaut (il existe toutefois dans la bibliothèque standard).\n",
    "\n",
    "Pour représenter ce type, nous utiliserons un dictionnaire dont les clés sont les descripteurs; voici un exemple:\n",
    "```python\n",
    "{'nom': 'Durand', 'prenom': 'Jean-Pierre', 'date_naissance': '23/05/1985'}\n",
    "```"
   ]
  },
  {
   "cell_type": "markdown",
   "metadata": {
    "jupyter": {
     "source_hidden": true
    }
   },
   "source": [
    "Pour y parvenir, nous partons de:"
   ]
  },
  {
   "cell_type": "code",
   "execution_count": 8,
   "metadata": {
    "jupyter": {
     "source_hidden": true
    }
   },
   "outputs": [],
   "source": [
    "donnees_CSV = \"\"\"nom,prenom,date_naissance\n",
    "Durand,Jean-Pierre,23/05/1985\n",
    "Dupont,Christophe,15/12/1967\n",
    "Terta,Henry,12/06/1978\"\"\""
   ]
  },
  {
   "cell_type": "markdown",
   "metadata": {
    "jupyter": {
     "source_hidden": true
    }
   },
   "source": [
    "Les étapes qui suivent servent à séparer les descripteurs et les objets:"
   ]
  },
  {
   "cell_type": "code",
   "execution_count": 9,
   "metadata": {
    "collapsed": true,
    "jupyter": {
     "outputs_hidden": true,
     "source_hidden": true
    }
   },
   "outputs": [
    {
     "data": {
      "text/plain": [
       "['nom,prenom,date_naissance',\n",
       " 'Durand,Jean-Pierre,23/05/1985',\n",
       " 'Dupont,Christophe,15/12/1967',\n",
       " 'Terta,Henry,12/06/1978']"
      ]
     },
     "execution_count": 9,
     "metadata": {},
     "output_type": "execute_result"
    }
   ],
   "source": [
    "tmp = donnees_CSV.split('\\n')\n",
    "tmp"
   ]
  },
  {
   "cell_type": "code",
   "execution_count": 10,
   "metadata": {
    "collapsed": true,
    "jupyter": {
     "outputs_hidden": true,
     "source_hidden": true
    }
   },
   "outputs": [
    {
     "data": {
      "text/plain": [
       "('nom', 'prenom', 'date_naissance')"
      ]
     },
     "execution_count": 10,
     "metadata": {},
     "output_type": "execute_result"
    }
   ],
   "source": [
    "descripteurs_str = tmp[0]\n",
    "descripteurs = tuple(descripteurs_str.split(','))\n",
    "print(f\"le tuple des descripteurs: {descripteurs}\")"
   ]
  },
  {
   "cell_type": "code",
   "execution_count": 11,
   "metadata": {
    "collapsed": true,
    "jupyter": {
     "outputs_hidden": true,
     "source_hidden": true
    }
   },
   "outputs": [
    {
     "data": {
      "text/plain": [
       "['Durand,Jean-Pierre,23/05/1985',\n",
       " 'Dupont,Christophe,15/12/1967',\n",
       " 'Terta,Henry,12/06/1978']"
      ]
     },
     "execution_count": 11,
     "metadata": {},
     "output_type": "execute_result"
    }
   ],
   "source": [
    "donnees_str = tmp[1:]\n",
    "donnees_str"
   ]
  },
  {
   "cell_type": "code",
   "execution_count": 14,
   "metadata": {
    "collapsed": true,
    "jupyter": {
     "outputs_hidden": true,
     "source_hidden": true
    }
   },
   "outputs": [
    {
     "name": "stdout",
     "output_type": "stream",
     "text": [
      "la liste des objets (des personnes ici):\n",
      " [('Durand', 'Jean-Pierre', '23/05/1985'), ('Dupont', 'Christophe', '15/12/1967'), ('Terta', 'Henry', '12/06/1978')]\n"
     ]
    }
   ],
   "source": [
    "objets = [tuple(obj.split(',')) for obj in donnees_str]\n",
    "print(f\"la liste des objets (des personnes ici):\\n {objets}\")"
   ]
  },
  {
   "cell_type": "markdown",
   "metadata": {},
   "source": [
    "#### À faire toi-même\n",
    "\n",
    "Peux-tu compléter les parties manquantes pour obtenir le même résultat plus rapidement?"
   ]
  },
  {
   "cell_type": "code",
   "execution_count": 15,
   "metadata": {},
   "outputs": [
    {
     "name": "stdout",
     "output_type": "stream",
     "text": [
      "- les descripteurs:\n",
      "\t ('nom', 'prenom', 'date_naissance')\n",
      "- les objets:\n",
      "\t [('Durand', 'Jean-Pierre', '23/05/1985'), ('Dupont', 'Christophe', '15/12/1967'), ('Terta', 'Henry', '12/06/1978')]\n"
     ]
    }
   ],
   "source": [
    "descripteurs = tuple( donnees_CSV.split('\\n')[0].split(',') )\n",
    "objets = [ tuple( ligne.split(',') ) for ligne in donnees_CSV.split('\\n')[1:] ]\n",
    "print(f\"- les descripteurs:\\n\\t {descripteurs}\\n- les objets:\\n\\t {objets}\")"
   ]
  },
  {
   "cell_type": "markdown",
   "metadata": {},
   "source": [
    "______"
   ]
  },
  {
   "cell_type": "markdown",
   "metadata": {},
   "source": [
    "#### À faire toi-même - *découverte de l'**unpacking** (déballage)*\n",
    "\n",
    "Peux-tu réaliser le traitement précédent en **vraiment** une seule ligne? Pour cela observe les trois exemples qui suivent:"
   ]
  },
  {
   "cell_type": "code",
   "execution_count": 16,
   "metadata": {
    "collapsed": true,
    "jupyter": {
     "outputs_hidden": true,
     "source_hidden": true
    }
   },
   "outputs": [
    {
     "name": "stdout",
     "output_type": "stream",
     "text": [
      "La tête: 1 et la queue: [2, 3, 4]\n"
     ]
    }
   ],
   "source": [
    "# exemple1 d'unpacking\n",
    "tete, *queue = [1, 2, 3, 4]\n",
    "print(f\"La tête: {tete} et la queue: {queue}\")"
   ]
  },
  {
   "cell_type": "code",
   "execution_count": 31,
   "metadata": {
    "collapsed": true,
    "jupyter": {
     "outputs_hidden": true,
     "source_hidden": true
    }
   },
   "outputs": [
    {
     "name": "stdout",
     "output_type": "stream",
     "text": [
      "5 6\n"
     ]
    }
   ],
   "source": [
    "# exemple2 d'unpacking\n",
    "un, deux, *reste = [1, 2, 3, 4]\n",
    "print(f\"un: {un}\\ndeux: {deux}\\nreste: {reste}\")"
   ]
  },
  {
   "cell_type": "code",
   "execution_count": 13,
   "metadata": {
    "collapsed": true,
    "jupyter": {
     "outputs_hidden": true,
     "source_hidden": true
    }
   },
   "outputs": [
    {
     "name": "stdout",
     "output_type": "stream",
     "text": [
      "3 4\n"
     ]
    }
   ],
   "source": [
    "# exemple3 d'unpacking\n",
    "tete, *corps, pied = [1,2,3,4]\n",
    "print(f\"tete: {tete}\\ncorps: {corps}\\npied: {pied}\")"
   ]
  },
  {
   "cell_type": "code",
   "execution_count": 17,
   "metadata": {},
   "outputs": [
    {
     "name": "stdout",
     "output_type": "stream",
     "text": [
      "les descripteurs:\n",
      "\t ('nom', 'prenom', 'date_naissance')\n",
      "les objets:\n",
      "\t [('Durand', 'Jean-Pierre', '23/05/1985'), ('Dupont', 'Christophe', '15/12/1967'), ('Terta', 'Henry', '12/06/1978')]\n"
     ]
    }
   ],
   "source": [
    "# À toi de jouer!\n",
    "descripteurs, *objets = [tuple(d.split(',')) for d in donnees_CSV.split('\\n')]\n",
    "print(f\"les descripteurs:\\n\\t {descripteurs}\\nles objets:\\n\\t {objets}\")"
   ]
  },
  {
   "cell_type": "markdown",
   "metadata": {},
   "source": [
    "____"
   ]
  },
  {
   "cell_type": "markdown",
   "metadata": {
    "jupyter": {
     "source_hidden": true
    }
   },
   "source": [
    "Arrivé à ce stade nous voudrions combiner:\n",
    "- `('descr1', 'descr2', ...)` et `('v1', 'v2', ...)` en ...\n",
    "- `{'descr1': 'v1', 'descr2': 'v2', ..}` (n-uplet nommé) "
   ]
  },
  {
   "cell_type": "markdown",
   "metadata": {},
   "source": [
    "#### Appareiller deux séquences - `zip`"
   ]
  },
  {
   "cell_type": "markdown",
   "metadata": {
    "jupyter": {
     "source_hidden": true
    }
   },
   "source": [
    "On a souvent besoin de grouper par paires deux séquences de même longueur `len`.\n",
    "\n",
    "*Ex*: je **dispose** de `['a', 'b', 'c']` et `[3, 2, 1]`\n",
    "\n",
    "j'ai **besoin de** `[('a', 3), ('b', 2), ('c', 1)]`."
   ]
  },
  {
   "cell_type": "markdown",
   "metadata": {},
   "source": [
    "#### À faire toi-même"
   ]
  },
  {
   "cell_type": "markdown",
   "metadata": {},
   "source": [
    "La fonction `appareiller(t1, t2)` prend deux tableaux de même taille en argument et renvoie un tableau obtenue en appararillant les éléments de `t1` et `t2` de même index.\n",
    "\n",
    "Compléter le code qui suit pour résoudre ce problème"
   ]
  },
  {
   "cell_type": "code",
   "execution_count": 18,
   "metadata": {},
   "outputs": [],
   "source": [
    "def appareiller(t1, t2):\n",
    "    assert len(t1) == len(t2)\n",
    "    t = []\n",
    "    for i in range(len(t1)):\n",
    "        couple = (t1[i], t2[i])\n",
    "        t.append( couple )\n",
    "    return t\n",
    "\n",
    "# autre solution avec la syntaxe en compréhension\n",
    "def appareiller2(t1, t2):\n",
    "    assert len(t1) == len(t2)\n",
    "    return [\n",
    "        (t1[i], t2[i])\n",
    "        for i in range(len(t1))\n",
    "    ]"
   ]
  },
  {
   "cell_type": "code",
   "execution_count": 19,
   "metadata": {},
   "outputs": [],
   "source": [
    "# vérifier votre solution\n",
    "tab1 = ['a', 'b', 'c']\n",
    "tab2 = [3, 2, 1]\n",
    "assert appareiller(tab1, tab2) == [('a', 3), ('b', 2), ('c', 1)]\n",
    "assert appareiller2(tab1, tab2) == [('a', 3), ('b', 2), ('c', 1)]"
   ]
  },
  {
   "cell_type": "markdown",
   "metadata": {},
   "source": [
    "___"
   ]
  },
  {
   "cell_type": "markdown",
   "metadata": {
    "jupyter": {
     "source_hidden": true
    }
   },
   "source": [
    "Un cas d'utilisation fréquent de l'apparaillement est la lecture dans une boucle des paires"
   ]
  },
  {
   "cell_type": "code",
   "execution_count": 21,
   "metadata": {
    "collapsed": true,
    "jupyter": {
     "outputs_hidden": true,
     "source_hidden": true
    }
   },
   "outputs": [
    {
     "name": "stdout",
     "output_type": "stream",
     "text": [
      "a vaut \"a\" et b vaut \"3\"\n",
      "a vaut \"b\" et b vaut \"2\"\n",
      "a vaut \"c\" et b vaut \"1\"\n"
     ]
    }
   ],
   "source": [
    "# tester moi\n",
    "tab1 = ['a', 'b', 'c']\n",
    "tab2 = [3, 2, 1]\n",
    "for a, b in appareiller(tab1, tab2):\n",
    "    print(f'a vaut \"{a}\" et b vaut \"{b}\"')"
   ]
  },
  {
   "cell_type": "markdown",
   "metadata": {
    "jupyter": {
     "source_hidden": true
    }
   },
   "source": [
    "en fait, Python dispose d'une fonction prédéfinie `zip(seq1, seq2, ...)` qui fait la même chose avec des «séquences» (`list` est un cas particulier de séquence).\n",
    "\n",
    "*note*: `zip`?? penser à la «fermeture-éclair» d'un blouson ..."
   ]
  },
  {
   "cell_type": "code",
   "execution_count": 22,
   "metadata": {
    "collapsed": true,
    "jupyter": {
     "outputs_hidden": true,
     "source_hidden": true
    }
   },
   "outputs": [
    {
     "data": {
      "text/plain": [
       "(<zip at 0x7f85c768fd88>, [('a', 3), ('b', 2), ('c', 1)])"
      ]
     },
     "execution_count": 22,
     "metadata": {},
     "output_type": "execute_result"
    }
   ],
   "source": [
    "z = zip(tab1, tab2)\n",
    "print(z)\n",
    "print(list(z))"
   ]
  },
  {
   "cell_type": "markdown",
   "metadata": {
    "jupyter": {
     "source_hidden": true
    }
   },
   "source": [
    "*note*: elle renvoie un objet spécial de type `zip` car on l'utilise souvent dans une boucle directement c'est-à-dire sans mémoriser le zip (un peu comme avec `range`)"
   ]
  },
  {
   "cell_type": "code",
   "execution_count": 24,
   "metadata": {
    "collapsed": true,
    "jupyter": {
     "outputs_hidden": true,
     "source_hidden": true
    }
   },
   "outputs": [
    {
     "name": "stdout",
     "output_type": "stream",
     "text": [
      "a vaut \"a\" et b vaut \"3\"\n",
      "a vaut \"b\" et b vaut \"2\"\n"
     ]
    }
   ],
   "source": [
    "# tester moi\n",
    "tab1 = ['a', 'b', 'c']\n",
    "tab2 = [3, 2, 1]\n",
    "for a, b in zip(tab1, tab):\n",
    "    print(f'a vaut \"{a}\" et b vaut \"{b}\"')"
   ]
  },
  {
   "cell_type": "markdown",
   "metadata": {},
   "source": [
    "#### Découverte: la syntaxe en compréhension est aussi valable pour les `dict`"
   ]
  },
  {
   "cell_type": "markdown",
   "metadata": {
    "jupyter": {
     "source_hidden": true
    }
   },
   "source": [
    "Voici un exemple simple:"
   ]
  },
  {
   "cell_type": "code",
   "execution_count": 28,
   "metadata": {
    "collapsed": true,
    "jupyter": {
     "outputs_hidden": true,
     "source_hidden": true
    }
   },
   "outputs": [
    {
     "data": {
      "text/plain": [
       "{'nom': None, 'prenom': None, 'date_naissance': None}"
      ]
     },
     "execution_count": 28,
     "metadata": {},
     "output_type": "execute_result"
    }
   ],
   "source": [
    "modele_tuple_nomme = {desc: None for desc in descripteurs}\n",
    "modele_tuple_nomme"
   ]
  },
  {
   "cell_type": "markdown",
   "metadata": {
    "jupyter": {
     "source_hidden": true
    }
   },
   "source": [
    "Bien Noter que la partie avant `for` est de la forme `<cle>: <val>`.\n",
    "\n",
    "On utilise généralement cela avec `zip`:"
   ]
  },
  {
   "cell_type": "code",
   "execution_count": 29,
   "metadata": {
    "collapsed": true,
    "jupyter": {
     "outputs_hidden": true,
     "source_hidden": true
    }
   },
   "outputs": [
    {
     "data": {
      "text/plain": [
       "{'cle1': 'ah', 'cle2': 'oh', 'cle3': 'hein'}"
      ]
     },
     "execution_count": 29,
     "metadata": {},
     "output_type": "execute_result"
    }
   ],
   "source": [
    "cles = (\"cle1\", \"cle2\", \"cle3\")\n",
    "valeurs = (\"ah\", \"oh\", \"hein\")\n",
    "{c: v for c, v in zip(cles, valeurs)} # zip fonctionne aussi avec des tuples de même longueur!"
   ]
  },
  {
   "cell_type": "markdown",
   "metadata": {
    "jupyter": {
     "source_hidden": true
    }
   },
   "source": [
    "Voici encore un exemple bien utile pour réaliser un tableau à partir de données CSV."
   ]
  },
  {
   "cell_type": "code",
   "execution_count": 33,
   "metadata": {
    "collapsed": true,
    "jupyter": {
     "outputs_hidden": true,
     "source_hidden": true
    }
   },
   "outputs": [
    {
     "data": {
      "text/plain": [
       "[{'cle1': 'ah', 'cle2': 'oh', 'cle3': 'hein'},\n",
       " {'cle1': 'riri', 'cle2': 'fifi', 'cle3': 'loulou'}]"
      ]
     },
     "execution_count": 33,
     "metadata": {},
     "output_type": "execute_result"
    }
   ],
   "source": [
    "cles = (\"cle1\", \"cle2\", \"cle3\")\n",
    "objets = [(\"ah\", \"oh\", \"hein\"), ('riri', 'fifi', 'loulou')]\n",
    "# on veut un tableau de tuples nommés\n",
    "[ {desc: val for desc, val in zip(cles, objet)} for objet in objets ]"
   ]
  },
  {
   "cell_type": "markdown",
   "metadata": {},
   "source": [
    "### Synthèse: retour au problème des données au format CSV"
   ]
  },
  {
   "cell_type": "markdown",
   "metadata": {
    "jupyter": {
     "source_hidden": true
    }
   },
   "source": [
    "En combinant tout ce que tu as appris et les exemples précédents, tu devrais être capable d'obtenir notre liste de n-uplets nommés en quelques lignes ... Non?\n",
    "\n",
    "*rappel*: au départ, on **dispose de**\n",
    "```python\n",
    "donnees_CSV = \"\"\"nom,prenom,date_naissance\n",
    "Durand,Jean-Pierre,23/05/1985\n",
    "Dupont,Christophe,15/12/1967\n",
    "Terta,Henry,12/06/1978\"\"\"\n",
    "```\n",
    "\n",
    "au final, on veut **produire** une liste de *tuples nommés*:\n",
    "```python\n",
    "[\n",
    " {'nom': 'Durand', 'prenom': 'Jean-Pierre', 'date_naissance': '23/05/1985'},\n",
    " {'nom': 'Dupont', 'prenom': 'Christophe', 'date_naissance': '15/12/1967'},\n",
    " {'nom': 'Terta', 'prenom': 'Henry', 'date_naissance': '12/06/1978'}\n",
    "]\n",
    "```\n"
   ]
  },
  {
   "cell_type": "markdown",
   "metadata": {},
   "source": [
    "Voici comment y parvenir en deux «compréhensions»"
   ]
  },
  {
   "cell_type": "code",
   "execution_count": 20,
   "metadata": {
    "collapsed": true,
    "jupyter": {
     "outputs_hidden": true,
     "source_hidden": true
    }
   },
   "outputs": [
    {
     "data": {
      "text/plain": [
       "[{'nom': 'Durand', 'prenom': 'Jean-Pierre', 'date_naissance': '23/05/1985'},\n",
       " {'nom': 'Dupont', 'prenom': 'Christophe', 'date_naissance': '15/12/1967'},\n",
       " {'nom': 'Terta', 'prenom': 'Henry', 'date_naissance': '12/06/1978'}]"
      ]
     },
     "execution_count": 20,
     "metadata": {},
     "output_type": "execute_result"
    }
   ],
   "source": [
    "descripteurs, *objets = [tuple(ligne.split(',')) for ligne in donnees_CSV.split('\\n')]\n",
    "\n",
    "objets = [ # sur plusieurs ligne pour plus de clarté.\n",
    "    {\n",
    "        desc: val for desc, val in zip(descripteurs, obj)\n",
    "    }\n",
    "    for obj in objets\n",
    "]\n",
    "objets"
   ]
  },
  {
   "cell_type": "markdown",
   "metadata": {},
   "source": [
    "#### À faire toi-même"
   ]
  },
  {
   "cell_type": "markdown",
   "metadata": {},
   "source": [
    "La syntaxe en compréhension des listes et des dictionnaires est utile et puissante mais nécessite pas mal d'investissement pour être bien maîtrisée.\n",
    "\n",
    "Pour cette raison, reprend le problème en écrivant une fonction `csv_vers_objets(csv_str)` qui prend en argument la chaîne au format csv et renvoie le tableau de n-uplets nommés correspondant.\n",
    "\n",
    "Nous la réutiliserons dans le 05_applications..."
   ]
  },
  {
   "cell_type": "code",
   "execution_count": 46,
   "metadata": {},
   "outputs": [
    {
     "data": {
      "text/plain": [
       "[{'nom': 'Durand', 'prenom': 'Jean-Pierre', 'date_naissance': '23/05/1985'},\n",
       " {'nom': 'Dupont', 'prenom': 'Christophe', 'date_naissance': '15/12/1967'},\n",
       " {'nom': 'Terta', 'prenom': 'Henry', 'date_naissance': '12/06/1978'}]"
      ]
     },
     "execution_count": 46,
     "metadata": {},
     "output_type": "execute_result"
    }
   ],
   "source": [
    "def csv_vers_objets(csv_str):\n",
    "    descripteurs, *objets = [tuple(ligne.split(',')) for ligne in csv_str.split('\\n')]\n",
    "\n",
    "    objets = [ # sur plusieurs ligne pour plus de clarté.\n",
    "        {\n",
    "            desc: val for desc, val in zip(descripteurs, obj)\n",
    "        }\n",
    "        for obj in objets\n",
    "    ]\n",
    "    return objets\n",
    "\n",
    "csv_vers_objets(donnees_CSV)"
   ]
  },
  {
   "cell_type": "code",
   "execution_count": 45,
   "metadata": {},
   "outputs": [],
   "source": [
    "assert csv_vers_objets(donnees_CSV) == objets"
   ]
  }
 ],
 "metadata": {
  "kernelspec": {
   "display_name": "Python 3",
   "language": "python",
   "name": "python3"
  },
  "language_info": {
   "codemirror_mode": {
    "name": "ipython",
    "version": 3
   },
   "file_extension": ".py",
   "mimetype": "text/x-python",
   "name": "python",
   "nbconvert_exporter": "python",
   "pygments_lexer": "ipython3",
   "version": "3.6.8"
  }
 },
 "nbformat": 4,
 "nbformat_minor": 4
}
