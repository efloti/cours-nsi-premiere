{
 "cells": [
  {
   "cell_type": "markdown",
   "metadata": {},
   "source": [
    "# Bitmap"
   ]
  },
  {
   "cell_type": "markdown",
   "metadata": {},
   "source": [
    "**Utiliser la table des matières pour ouvrir/fermer les sections**"
   ]
  },
  {
   "cell_type": "markdown",
   "metadata": {
    "toc-hr-collapsed": true,
    "toc-nb-collapsed": true
   },
   "source": [
    "## Introduction"
   ]
  },
  {
   "cell_type": "markdown",
   "metadata": {},
   "source": [
    "Une image *bitmap* se code en utilisant deux valeurs seulement."
   ]
  },
  {
   "cell_type": "markdown",
   "metadata": {},
   "source": [
    "Par exemple, on pourrait coder l'image du mot **NSI** en noir et blanc de la façon suivante:"
   ]
  },
  {
   "attachments": {
    "d0fcba94-363c-4523-a9ea-7d91f1bcc3e4.png": {
     "image/png": "[encoded data removed]"
    }
   },
   "cell_type": "markdown",
   "metadata": {},
   "source": [
    "![nsi_bitmap.png](attachment:d0fcba94-363c-4523-a9ea-7d91f1bcc3e4.png)"
   ]
  },
  {
   "cell_type": "markdown",
   "metadata": {},
   "source": [
    "Une telle image est généralement sauvegardée dans un fichier texte (ou non) formaté comme suit:\n",
    "        \n",
    "        14 7\n",
    "        0 0 0 0 0 0 0 0 0 0 0 0 0 0\n",
    "        0 1 0 0 0 1 0 0 1 1 1 0 1 0\n",
    "        0 1 1 0 0 1 0 1 0 0 0 0 1 0\n",
    "        0 1 0 1 0 1 0 0 1 1 0 0 1 0\n",
    "        0 1 0 0 1 1 0 0 0 0 1 0 1 0\n",
    "        0 1 0 0 0 1 0 1 1 1 0 0 1 0\n",
    "        0 0 0 0 0 0 0 0 0 0 0 0 0 0"
   ]
  },
  {
   "cell_type": "markdown",
   "metadata": {},
   "source": [
    "La première ligne donne (souvent) les dimensions de l'image; ici 14 bits de large pour 7 bits de hauts.\n",
    "\n",
    "Ainsi pour pouvoir manipuler une telle image par programme, on doit:\n",
    "- ouvrir le fichier qui la contient en mode «lecture texte»,\n",
    "- lire son contenu."
   ]
  },
  {
   "cell_type": "markdown",
   "metadata": {},
   "source": [
    "On obtient alors une *chaîne de caractère*:"
   ]
  },
  {
   "cell_type": "code",
   "execution_count": null,
   "metadata": {},
   "outputs": [],
   "source": [
    "# à exécuter!\n",
    "NSI = \"\"\"14 7\n",
    "0 0 0 0 0 0 0 0 0 0 0 0 0 0\n",
    "0 1 0 0 0 1 0 0 1 1 1 0 1 0\n",
    "0 1 1 0 0 1 0 1 0 0 0 0 1 0\n",
    "0 1 0 1 0 1 0 0 1 1 0 0 1 0\n",
    "0 1 0 0 1 1 0 0 0 0 1 0 1 0\n",
    "0 1 0 0 0 1 0 1 1 1 0 0 1 0\n",
    "0 0 0 0 0 0 0 0 0 0 0 0 0 0\"\"\"\n",
    "# ou NSI = \"14 7\\n0 0 ...\\n0 1 ...\" \n",
    "# il est plus facile d'écrire avec une chaîne multilignes (triple quotes) \"\"\"...\"\"\""
   ]
  },
  {
   "cell_type": "markdown",
   "metadata": {},
   "source": [
    "Manipuler une telle chaîne «directement» est très difficile. Pour cette raison, on la **transforme** en **matrice**:\n",
    "- chaque ligne de la chaîne (excepté la première) devient une liste de nombres,\n",
    "- toutes ces listes sont regroupées dans une liste globale.\n",
    "\n",
    "Par exemple:\n",
    "\n",
    "         la chaîne              la matrice\n",
    "    (sauf sa 1ère ligne)  \n",
    "                      est\n",
    "         3 2       transformé   [\n",
    "         0 1 0 1       en        [0,1,0,1],\n",
    "         1 0 1 0    ------>      [1,0,1,0]\n",
    "                                ]"
   ]
  },
  {
   "cell_type": "markdown",
   "metadata": {
    "toc-hr-collapsed": true,
    "toc-nb-collapsed": true
   },
   "source": [
    "## De la chaîne formatée à la matrice"
   ]
  },
  {
   "cell_type": "markdown",
   "metadata": {},
   "source": [
    "Pour pouvoir manipuler l'image, il est utile de transformer cette représentation textuelle en une représentation «liste de listes» c'est-à-dire en une **matrice numérique**. Pour cela, on procède étape par étape:"
   ]
  },
  {
   "cell_type": "markdown",
   "metadata": {},
   "source": [
    "#### Étape 1: `str -> [str]`"
   ]
  },
  {
   "cell_type": "markdown",
   "metadata": {},
   "source": [
    "On commence par produire une liste de chaînes `[\"14 7\", \"0 0 0 ...\", ...]` où chaque chaîne correspond à une ligne de la chaîne d'entrée `\"14 7\\n0 0 ...\"`.\n",
    "\n",
    "Pour cela, on utilise `split`. Par *exemple* `\"a-b-c\".split(\"-\")` produit `[\"a\",\"b\",\"c\"]`."
   ]
  },
  {
   "cell_type": "code",
   "execution_count": null,
   "metadata": {},
   "outputs": [],
   "source": [
    "#1 str -> [str]\n",
    "# cherche un peu (pas trop longtemps) avant d'étudier la solution.\n",
    "etape1 = NSI.?\n",
    "print(etape1)"
   ]
  },
  {
   "cell_type": "code",
   "execution_count": null,
   "metadata": {
    "jupyter": {
     "source_hidden": true
    }
   },
   "outputs": [],
   "source": [
    "etape1 = NSI.split(\"\\n\")\n",
    "print(etape1)"
   ]
  },
  {
   "cell_type": "markdown",
   "metadata": {},
   "source": [
    "#### Étape 2: `[str] -> [[str]]`"
   ]
  },
  {
   "cell_type": "markdown",
   "metadata": {},
   "source": [
    "Convertir chaque chaîne dans la liste précédente en une (sous-)liste de chaînes «numériques»."
   ]
  },
  {
   "cell_type": "code",
   "execution_count": null,
   "metadata": {},
   "outputs": [],
   "source": [
    "#2 [str] -> [[str]]\n",
    "etape2 = [ligne.? for ligne in etape1]\n",
    "print(etape2)"
   ]
  },
  {
   "cell_type": "code",
   "execution_count": null,
   "metadata": {
    "jupyter": {
     "source_hidden": true
    }
   },
   "outputs": [],
   "source": [
    "#2 [str] -> [[str]]\n",
    "etape2 = [ligne.split(\" \") for ligne in etape1]\n",
    "print(etape2)"
   ]
  },
  {
   "cell_type": "markdown",
   "metadata": {},
   "source": [
    "#### Étape 3: `[[str]] -> [[int]]`"
   ]
  },
  {
   "cell_type": "markdown",
   "metadata": {},
   "source": [
    "Convertir chaque chaîne numérique en un entier à l'aide de `int`."
   ]
  },
  {
   "cell_type": "code",
   "execution_count": null,
   "metadata": {},
   "outputs": [],
   "source": [
    "#3 [[str]] -> [[int]]\n",
    "etape3 = [[? for bit in ?] for ligne in etape2]\n",
    "print(etape3)"
   ]
  },
  {
   "cell_type": "code",
   "execution_count": null,
   "metadata": {
    "jupyter": {
     "source_hidden": true
    }
   },
   "outputs": [],
   "source": [
    "#3 [[str]] -> [[int]]\n",
    "etape3 = [[int(bit) for bit in ligne] for ligne in etape2]\n",
    "print(etape3)"
   ]
  },
  {
   "cell_type": "markdown",
   "metadata": {},
   "source": [
    "#### Étape 4: séparer"
   ]
  },
  {
   "cell_type": "markdown",
   "metadata": {},
   "source": [
    "Séparer la première ligne (dimensions) des autres"
   ]
  },
  {
   "cell_type": "code",
   "execution_count": null,
   "metadata": {},
   "outputs": [],
   "source": [
    "dim, matrice = etape3[0], etape3[1:] # [1:] -> de l'index 1 jusqu'au dernier\n",
    "largeur, hauteur = dim # fonctionne car on sait que len(dim)==2\n",
    "(largeur, hauteur, matrice)"
   ]
  },
  {
   "cell_type": "markdown",
   "metadata": {},
   "source": [
    "*Note*: Lorsqu'on connaît à l'avance la longueur d'une liste, on peut utiliser la «multi-affectaction» avec *autant de variables* que la liste a *d'éléments*.\n",
    "Par exemple: si `l=[5,12]`, on peut écrire `a,b=l` et alors `a` vaut `5` et `b` vaut `12`."
   ]
  },
  {
   "cell_type": "markdown",
   "metadata": {},
   "source": [
    "Récapitulons:\n",
    "\n",
    "        au départ                 à l'arrivée\n",
    "    \n",
    "    \"14 7\\n0 0...\\n0 1...\" --->  largeur = 14, \n",
    "                                 hauteur = 7\n",
    "                                 matrice = [[0 0 ...],\n",
    "                                            [0 1 ...],\n",
    "                                            ...\n",
    "                                           ]"
   ]
  },
  {
   "cell_type": "markdown",
   "metadata": {},
   "source": [
    "#### Exercice 1\n",
    "\n",
    "Écrire une fonction `lire_bmp(bmp)` qui «récapitule les étapes précédentes».\n",
    "\n",
    "Elle prend en argument une chaîne correspondant à une image bitmap (formatée comme indiquée plus tôt) et elle renvoie un *3-uplet* de la forme «(largeur, hauteur, matrice)» où:\n",
    "- largeur et hauteur correspondent aux dimensions de l'image (entiers!),\n",
    "- matrice est la liste de listes d'entiers (0 ou 1) qui représente l'image."
   ]
  },
  {
   "cell_type": "code",
   "execution_count": null,
   "metadata": {},
   "outputs": [],
   "source": []
  },
  {
   "cell_type": "code",
   "execution_count": null,
   "metadata": {},
   "outputs": [],
   "source": [
    "# on suppose que chacune des étapes du début a été correctement exécutée.\n",
    "assert lire_bmp(NSI) == (largeur, hauteur, matrice)"
   ]
  },
  {
   "cell_type": "code",
   "execution_count": null,
   "metadata": {
    "jupyter": {
     "source_hidden": true
    }
   },
   "outputs": [],
   "source": [
    "def lire_bmp(bmp):\n",
    "    #1 séparer les lignes: str->[str]\n",
    "    e1 = bmp.split(\"\\n\")\n",
    "    #2 séparer les colonnes pour chaque ligne: [str]->[[str]]\n",
    "    e2 = [ligne.split(\" \") for ligne in e1]\n",
    "    #3 convertir chaque «case» de str vers entier: [[str]]->[[int]]\n",
    "    e3 = [[int(bit) for bit in ligne] for ligne in e2]\n",
    "    #4 séparer largeur, hauteur (1ère ligne) et matrice (autres lignes)\n",
    "    dim, matrice = e3[0], e3[1:]\n",
    "    return dim[0], dim[1], matrice"
   ]
  },
  {
   "cell_type": "markdown",
   "metadata": {
    "toc-hr-collapsed": true,
    "toc-nb-collapsed": true
   },
   "source": [
    "## Exemples de manipulations"
   ]
  },
  {
   "cell_type": "markdown",
   "metadata": {
    "toc-hr-collapsed": true,
    "toc-nb-collapsed": true
   },
   "source": [
    "### Visulaliser avec `ipycanvas`"
   ]
  },
  {
   "cell_type": "markdown",
   "metadata": {},
   "source": [
    "Afin de pouvoir mieux visualiser les choses, nous utiliserons la librairie `ipycanvas` qui permet de dessiner dans un canevas. Lire brièvement et exécuter le code qui suit:"
   ]
  },
  {
   "cell_type": "code",
   "execution_count": null,
   "metadata": {},
   "outputs": [],
   "source": [
    "from ipycanvas import Canvas\n",
    "\n",
    "def dessiner(matrice, dim_case=10):\n",
    "    \"\"\"dessine la matrice fourni en argument.\n",
    "    La matrice est une liste de listes de bits (entier: 0 ou 1).\n",
    "    Toutes les listes «internes» sont de même longueur et représente une ligne du dessin.\n",
    "    Exemple de matrice valide: [[0,1,0,1], [1,0,1,0]]\n",
    "    \"\"\"\n",
    "    h = len(matrice) # hauteur de l'image = nombre de lignes\n",
    "    l = len(matrice[0]) # largeur de l'image = nombre de valeurs dans une ligne\n",
    "    \n",
    "    # Définition de la zone d'affichage (fond blanc)\n",
    "    # xmin=0, xmax=width, ymin=0, ymax=height\n",
    "    can = Canvas(width=l*dim_case, height=h*dim_case)\n",
    "    # couleur de remplissage des rectangles\n",
    "    can.fill_style = \"black\"\n",
    "    \n",
    "    # parcours de la matrice ligne par ligne\n",
    "    for i in range(h):\n",
    "        for j in range(l):\n",
    "            # si le pixel est éteint\n",
    "            if matrice[i][j] == 0:\n",
    "                # afficher un rectangle noir: calcul de son coin supérieur gauche\n",
    "                x = j * dim_case\n",
    "                y = i * dim_case\n",
    "                # la position x,y du coin supérieur gauche, sa largeur et sa hauteur\n",
    "                can.fill_rect(x, y, dim_case, dim_case)\n",
    "    return can"
   ]
  },
  {
   "cell_type": "markdown",
   "metadata": {},
   "source": [
    "Exemples d'utilisation:"
   ]
  },
  {
   "cell_type": "code",
   "execution_count": null,
   "metadata": {},
   "outputs": [],
   "source": [
    "dessiner(\n",
    "    [[0,1,0,1], \n",
    "     [1,0,1,0]]\n",
    ")"
   ]
  },
  {
   "cell_type": "code",
   "execution_count": null,
   "metadata": {},
   "outputs": [],
   "source": [
    "dessiner(\n",
    "    [[0,1,0,1], \n",
    "     [1,0,1,0]],\n",
    "    dim_case=50\n",
    ")"
   ]
  },
  {
   "cell_type": "code",
   "execution_count": null,
   "metadata": {},
   "outputs": [],
   "source": [
    "#largeur, hauteur, matrice\n",
    "lg_nsi, ht_nsi, nsi_mat = lire_bmp(NSI)\n",
    "dessiner(nsi_mat)"
   ]
  },
  {
   "cell_type": "markdown",
   "metadata": {},
   "source": [
    "**ATTENTION**: par la suite, nous réutiliserons les noms `lg_nsi`, `ht_nsi` (largeur, hauteur) et `nsi_mat` (matrice) pour expérimenter. **Ne pas affecter une nouvelle valeur à ces noms**."
   ]
  },
  {
   "cell_type": "markdown",
   "metadata": {
    "toc-hr-collapsed": true,
    "toc-nb-collapsed": true
   },
   "source": [
    "### Négatif"
   ]
  },
  {
   "cell_type": "markdown",
   "metadata": {},
   "source": [
    "On souhaite inverser les bits (0 -> 1, 1 -> 0) de façon à échanger noir et blanc. Pour cela on peut utiliser une fonction (à compléter): "
   ]
  },
  {
   "cell_type": "code",
   "execution_count": null,
   "metadata": {},
   "outputs": [],
   "source": [
    "def inv(b):\n",
    "    \"\"\"inverse le bit fourni.\"\"\"\n",
    "    ___"
   ]
  },
  {
   "cell_type": "code",
   "execution_count": null,
   "metadata": {
    "jupyter": {
     "source_hidden": true
    }
   },
   "outputs": [],
   "source": [
    "def inv(b):\n",
    "    if b == 0:\n",
    "        return 1\n",
    "    else:\n",
    "        return 0"
   ]
  },
  {
   "cell_type": "markdown",
   "metadata": {},
   "source": [
    "Il suffit alors de l'appliquer à chaque bit de l'image:"
   ]
  },
  {
   "cell_type": "code",
   "execution_count": null,
   "metadata": {},
   "outputs": [],
   "source": [
    "nsi_inv = [[inv(bit) for bit in ligne] for ligne in nsi_mat]\n",
    "dessiner(nsi_inv)"
   ]
  },
  {
   "cell_type": "markdown",
   "metadata": {},
   "source": [
    "Ou, en utilisant les *index* (et c'est important de bien comprendre cette autre écriture pour la suite):"
   ]
  },
  {
   "cell_type": "code",
   "execution_count": null,
   "metadata": {},
   "outputs": [],
   "source": [
    "nsi_inv = [\n",
    "     [inv(nsi_mat[i][j]) for j in range(lg_nsi)] \n",
    "     for i in range(ht_nsi)\n",
    "]\n",
    "dessiner(nsi_inv)"
   ]
  },
  {
   "cell_type": "markdown",
   "metadata": {},
   "source": [
    "*Note-rappel*: L'opérateur *ternaire* (car il a trois places «vacantes») `<expr1> if <condition> else <expr2>` produit:\n",
    "- la valeur de l'expression 1 si la condition est vraie\n",
    "- celle de l'expression 2 sinon. \n",
    "\n",
    "Par exemple:\n",
    "- l'expression `1 if bit == 0 else 0` permet de se passer de la fonction `inv`.\n",
    "- l'expression `x if x >= 0 else -x` permet de se passer de la fonction valeur absolue `abs`."
   ]
  },
  {
   "cell_type": "markdown",
   "metadata": {},
   "source": [
    "#### Exercice 2\n",
    "\n",
    "Ré-écrire l'inversion du bitmap en utilisant l'opérateur ternaire expliqué dans la note précédente."
   ]
  },
  {
   "cell_type": "code",
   "execution_count": null,
   "metadata": {},
   "outputs": [],
   "source": [
    "nsi_inv = ?\n",
    "dessiner(nsi_inv)"
   ]
  },
  {
   "cell_type": "code",
   "execution_count": null,
   "metadata": {
    "jupyter": {
     "source_hidden": true
    }
   },
   "outputs": [],
   "source": [
    "nsi_inv = [\n",
    "    [0 if bit == 1 else 1 for bit in ligne] \n",
    "    for ligne in nsi_mat\n",
    "]\n",
    "dessiner(nsi_inv)"
   ]
  },
  {
   "cell_type": "markdown",
   "metadata": {},
   "source": [
    "____"
   ]
  },
  {
   "cell_type": "markdown",
   "metadata": {
    "toc-hr-collapsed": true,
    "toc-nb-collapsed": true
   },
   "source": [
    "### Symétries"
   ]
  },
  {
   "cell_type": "markdown",
   "metadata": {},
   "source": [
    "#### Maîtriser les index"
   ]
  },
  {
   "cell_type": "markdown",
   "metadata": {
    "toc-hr-collapsed": true,
    "toc-nb-collapsed": true
   },
   "source": [
    "On souhaite inverser la gauche et la droite c'est à dire appliquer une symétrie d'axe vertical à l'image. Pour cela il est nécessaire de *bien comprendre le lien entre l'index d'un pixel et celui de son symétrique*.\n",
    "\n",
    "Commençons par nous mettre les idées au clair sur les **déplacements d'une case à une autre**."
   ]
  },
  {
   "attachments": {
    "97f8a74b-64f3-4d47-a71e-c49521214d12.png": {
     "image/png": "[encoded data removed]"
    }
   },
   "cell_type": "markdown",
   "metadata": {},
   "source": [
    "![deplacement_et_index.png](attachment:97f8a74b-64f3-4d47-a71e-c49521214d12.png)"
   ]
  },
  {
   "cell_type": "markdown",
   "metadata": {},
   "source": [
    "> **Retenir**: le passage d'une case d'index $i$ à une case d'index $j$ correspond à un déplacement de $\\boxed{j-i}$ cases (*indépendamment de la numérotation*)."
   ]
  },
  {
   "cell_type": "markdown",
   "metadata": {},
   "source": [
    "Si deux cases d'index $i$ et $i'$ se correspondent dans une symétrie «gauche-droite», on peut observer qu'on a deux déplacements **égaux**:\n",
    "- de la **première case** à la case d'index $i$,\n",
    "- de la case d'index $i'$ à la **dernière case**."
   ]
  },
  {
   "attachments": {
    "9f706ee4-ee0e-41b3-a23f-e0e56df0deeb.png": {
     "image/png": "[encoded data removed]"
    }
   },
   "cell_type": "markdown",
   "metadata": {},
   "source": [
    "![symetrie_tableau.png](attachment:9f706ee4-ee0e-41b3-a23f-e0e56df0deeb.png)"
   ]
  },
  {
   "cell_type": "markdown",
   "metadata": {},
   "source": [
    "Ce déplacement vaut clairement $i$ si la première case a pour index $0$ et pour trouver $i'$:\n",
    "\n",
    "> il suffit d'appliquer ce déplacement en *sens contraire* en partant de la dernière case.\n",
    "\n",
    "Ainsi, si le tableau a $n$ cases et que la numérotation démarre à $0$, la dernière case a l'index $n-1$ et donc: $$\\boxed{i'=(n-1)-i}$$"
   ]
  },
  {
   "cell_type": "markdown",
   "metadata": {},
   "source": [
    "Par exemple, pour lire un tableau de la droite vers la gauche:"
   ]
  },
  {
   "cell_type": "code",
   "execution_count": null,
   "metadata": {},
   "outputs": [],
   "source": [
    "tab = [10, 11, 12, 13, 14]\n",
    "n = len(tab)\n",
    "for i in range(n):\n",
    "    print(tab[(n-1)-i]) # (n-1)-i est l'index du symétrique de la case n°i"
   ]
  },
  {
   "cell_type": "markdown",
   "metadata": {},
   "source": [
    "ou, pour construire le tableau «miroir»:"
   ]
  },
  {
   "cell_type": "code",
   "execution_count": null,
   "metadata": {},
   "outputs": [],
   "source": [
    "tab = [10, 11, 12, 13, 14]\n",
    "n = len(tab)\n",
    "miroir = [tab[(n-1)-i] for i in range(n)]\n",
    "print(miroir)"
   ]
  },
  {
   "cell_type": "markdown",
   "metadata": {},
   "source": [
    "#### Exercice 3\n",
    "\n",
    "Trouver une formule analogue ($i'$ en fonction de $i$) dans le cas où la numérotation du tableau débute à $1$."
   ]
  },
  {
   "cell_type": "markdown",
   "metadata": {
    "jupyter": {
     "source_hidden": true
    }
   },
   "source": [
    "Dans ce cas le déplacement (de la première case à celle d'index $i$) vaut $i-1$ et l'index de la dernière case est $n$ donc $$i'=n-(i-1)\\quad \\text{ou, après simplification}\\quad i'=n-i+1$$"
   ]
  },
  {
   "cell_type": "markdown",
   "metadata": {},
   "source": [
    "___"
   ]
  },
  {
   "cell_type": "markdown",
   "metadata": {},
   "source": [
    "Finalement, pour effectuer une symétrie «gauche-droite» de l'image, il suffit de changer chaque «ligne» par son «miroir»:"
   ]
  },
  {
   "cell_type": "code",
   "execution_count": null,
   "metadata": {},
   "outputs": [],
   "source": [
    "# ? à remplacer...\n",
    "nsi_symv = [\n",
    "    [ ? for j in range(lg_nsi)] # miroir de «ligne»\n",
    "    for ligne in nsi_mat\n",
    "]\n",
    "dessiner(nsi_symv)"
   ]
  },
  {
   "cell_type": "code",
   "execution_count": null,
   "metadata": {
    "jupyter": {
     "source_hidden": true
    }
   },
   "outputs": [],
   "source": [
    "nsi_symv = [\n",
    "    [ ligne[largeur-1-j] for j in range(largeur)] \n",
    "    for ligne in nsi\n",
    "]\n",
    "dessiner(nsi_symv)"
   ]
  },
  {
   "cell_type": "markdown",
   "metadata": {},
   "source": [
    "ou, ce qui revient au même:"
   ]
  },
  {
   "cell_type": "code",
   "execution_count": null,
   "metadata": {},
   "outputs": [],
   "source": [
    "# ? à remplacer...\n",
    "nsi_symv = [\n",
    "    [ ? for j in range(lg_nsi) ]\n",
    "    for i in range(hg_nsi)\n",
    "]\n",
    "dessiner(nsi_symv)"
   ]
  },
  {
   "cell_type": "code",
   "execution_count": null,
   "metadata": {
    "jupyter": {
     "source_hidden": true
    }
   },
   "outputs": [],
   "source": [
    "# ou, ce qui revient au même\n",
    "nsi_symv = [\n",
    "    [ nsi[i][largeur-1-j] for j in range(largeur) ]\n",
    "    for i in range(hauteur)\n",
    "]\n",
    "dessiner(nsi_symv)"
   ]
  },
  {
   "cell_type": "markdown",
   "metadata": {},
   "source": [
    "#### Exercice 4\n",
    "\n",
    "Utiliser l'écriture en compréhension pour produire le symétrique de l'image par rapport à un axe horizontal. Par exemple:\n",
    "\n",
    "    100            111\n",
    "    100   devient  100\n",
    "    111            100"
   ]
  },
  {
   "cell_type": "code",
   "execution_count": null,
   "metadata": {},
   "outputs": [],
   "source": [
    "nsi_symh = ___"
   ]
  },
  {
   "cell_type": "code",
   "execution_count": null,
   "metadata": {
    "jupyter": {
     "source_hidden": true
    }
   },
   "outputs": [],
   "source": [
    "# on prend le miroir de la matrice dans son ensemble\n",
    "nsi_symh = [\n",
    "    nsi_mat[(ht_nsi-1)-i] for i in range(ht_nsi)\n",
    "]\n",
    "dessiner(nsi_symh)"
   ]
  },
  {
   "cell_type": "markdown",
   "metadata": {},
   "source": [
    "______"
   ]
  },
  {
   "cell_type": "markdown",
   "metadata": {
    "toc-hr-collapsed": true,
    "toc-nb-collapsed": true
   },
   "source": [
    "### Quart de tour"
   ]
  },
  {
   "attachments": {
    "ad4dfc77-9377-4c44-b39a-280b8bd7469d.png": {
     "image/png": "[encoded data removed]"
    }
   },
   "cell_type": "markdown",
   "metadata": {},
   "source": [
    "![quart_de_tour_horaire.png](attachment:ad4dfc77-9377-4c44-b39a-280b8bd7469d.png)"
   ]
  },
  {
   "cell_type": "markdown",
   "metadata": {},
   "source": [
    "#### Exercice 5\n",
    "\n",
    "En vous aidant de l'image précédente, utiliser l'écriture en compréhension pour appliquer un quart de tour dans le sens horaire à l'image. \n",
    "\n",
    "*Aide*: bien établir le lien entre les lignes de l'image *après transformation* (ce qu'il faut produire) et les «éléments» correspondant dans *l'image initiale*."
   ]
  },
  {
   "cell_type": "code",
   "execution_count": null,
   "metadata": {},
   "outputs": [],
   "source": [
    "# ? à remplacer\n",
    "nsi_qdt = ?"
   ]
  },
  {
   "cell_type": "markdown",
   "metadata": {
    "toc-hr-collapsed": true,
    "toc-nb-collapsed": true
   },
   "source": [
    "#### Solution"
   ]
  },
  {
   "cell_type": "markdown",
   "metadata": {},
   "source": [
    "On observe que les nouvelles lignes de l'image correspondent aux colonnes «miroirs» de l'image initiale:"
   ]
  },
  {
   "cell_type": "code",
   "execution_count": null,
   "metadata": {},
   "outputs": [],
   "source": [
    "nsi_qdt = [ \n",
    "    # miroir de la colonne j\n",
    "    [nsi_mat[ht_nsi-1-i][j] for i in range(ht_nsi) ]\n",
    "    for j in range(lg_nsi)\n",
    "]\n",
    "dessiner(nsi_qdt)"
   ]
  },
  {
   "cell_type": "markdown",
   "metadata": {},
   "source": [
    "______"
   ]
  },
  {
   "cell_type": "markdown",
   "metadata": {
    "toc-hr-collapsed": true,
    "toc-nb-collapsed": true
   },
   "source": [
    "## De la matrice à la chaîne formatée"
   ]
  },
  {
   "cell_type": "markdown",
   "metadata": {},
   "source": [
    "Après avoir manipulé l'image par programme, on souhaite souvent sauvegarder dans un fichier le résultat obtenu (autrement il sera perdu dès que le programme termine ou en cas de coupure de courant).\n",
    "\n",
    "Il est donc nécessaire de transformer la matrice qui code cette image en une chaîne de caractères **formatée** (du moins si on veut la sauvegarder dans un fichier texte).\n",
    "\n",
    "On procède de façon similaire à ce qu'on a fait pour décoder cette chaîne mais *à l'envers*."
   ]
  },
  {
   "cell_type": "markdown",
   "metadata": {},
   "source": [
    "#### Étape 1: `[[int]] -> [[str]]`"
   ]
  },
  {
   "cell_type": "markdown",
   "metadata": {},
   "source": [
    "Transformer chaque ligne (liste d'entiers) de la matrice en une liste de chaînes à l'aide de `str`:"
   ]
  },
  {
   "cell_type": "code",
   "execution_count": null,
   "metadata": {},
   "outputs": [],
   "source": [
    "#1 [[int]] -> [[str]]\n",
    "# ? à remplacer...\n",
    "etape1 = [[? for bit in ?] for ligne in nsi]\n",
    "etape1"
   ]
  },
  {
   "cell_type": "code",
   "execution_count": null,
   "metadata": {
    "jupyter": {
     "source_hidden": true
    }
   },
   "outputs": [],
   "source": [
    "etape1 = [[str(bit) for bit in ligne] for ligne in nsi]\n",
    "etape1"
   ]
  },
  {
   "cell_type": "markdown",
   "metadata": {},
   "source": [
    "#### Étape 2: `[[str]] -> [str]`"
   ]
  },
  {
   "cell_type": "markdown",
   "metadata": {},
   "source": [
    "Transformer chaque ligne obtenue en une chaîne de \"0\" et de \"1\" séparé par un espace. Pour cela on peut utiliser `join`. Par exemple,  `\"->\".join([\"a\",\"b\",\"c\"])` produit `\"a->b->c\"`."
   ]
  },
  {
   "cell_type": "code",
   "execution_count": null,
   "metadata": {},
   "outputs": [],
   "source": [
    "#2 [[str]] -> [str]\n",
    "etape2 = [?.join(?) for ligne in etape1]\n",
    "etape2"
   ]
  },
  {
   "cell_type": "code",
   "execution_count": null,
   "metadata": {
    "jupyter": {
     "source_hidden": true
    }
   },
   "outputs": [],
   "source": [
    "etape2 = [\" \".join(ligne) for ligne in etape1]\n",
    "etape2"
   ]
  },
  {
   "cell_type": "markdown",
   "metadata": {},
   "source": [
    "#### Étape 3: `[str] -> str`"
   ]
  },
  {
   "cell_type": "markdown",
   "metadata": {},
   "source": [
    "Transformer la liste obtenue en une chaîne où chaque élément est séparé par un saut de ligne:"
   ]
  },
  {
   "cell_type": "code",
   "execution_count": null,
   "metadata": {},
   "outputs": [],
   "source": [
    "#3 [str] -> str\n",
    "etape3 = ?.join(etape2)\n",
    "etape3"
   ]
  },
  {
   "cell_type": "code",
   "execution_count": null,
   "metadata": {
    "jupyter": {
     "source_hidden": true
    }
   },
   "outputs": [],
   "source": [
    "etape3 = \"\\n\".join(etape2)\n",
    "etape3"
   ]
  },
  {
   "cell_type": "markdown",
   "metadata": {},
   "source": [
    "#### Étape 4: regrouper"
   ]
  },
  {
   "cell_type": "markdown",
   "metadata": {},
   "source": [
    "4. Ajouter au début de cette chaîne la largeur et la hauteur:"
   ]
  },
  {
   "cell_type": "code",
   "execution_count": null,
   "metadata": {},
   "outputs": [],
   "source": [
    "#4\n",
    "etape4 = f\"{largeur} ?\""
   ]
  },
  {
   "cell_type": "code",
   "execution_count": null,
   "metadata": {
    "jupyter": {
     "source_hidden": true
    }
   },
   "outputs": [],
   "source": [
    "etape4 = f\"{largeur} {hauteur}\\n{etape2}\""
   ]
  },
  {
   "cell_type": "markdown",
   "metadata": {},
   "source": [
    "#### Exercice 6\n",
    "\n",
    "Écris une fonction `ecrire_bmp(l,h,m)` qui récapitule les étapes précédentes. `l` et `h` correspondent à la largeur et la hauteur de l'image et `m` à la matrice qui la représente.  Elle renvoie la chaîne formatée à sauvegarder. "
   ]
  },
  {
   "cell_type": "code",
   "execution_count": null,
   "metadata": {},
   "outputs": [],
   "source": [
    "def ecrire_bmp(l, h, m):\n",
    "    m1 = [[str(b) for b in lg] for lg in m] # [[int]] -> [[str]]\n",
    "    m2 = [\" \".join(lg) for lg in m1] # «[[str]]» -> «[str]»\n",
    "    m3 = \"\\n\".join(m2) # «[str]» -> str\n",
    "    # ne pas oublier la largeur et la hauteur\n",
    "    return f\"{l} {h}\\n{m3}\""
   ]
  },
  {
   "cell_type": "markdown",
   "metadata": {
    "toc-hr-collapsed": true,
    "toc-nb-collapsed": true
   },
   "source": [
    "## Synthèse"
   ]
  },
  {
   "cell_type": "markdown",
   "metadata": {},
   "source": [
    "Les images les plus simples (noir et blanc) sont appelées *bitmaps*. On peut les représenter simplement avec une chaîne de caractères **formatée**. Ce format consiste (par exemple) à représenter un pixel noir par \"0\" et un blanc par \"1\" et à séparer les différentes lignes de l'image par un saut de ligne \"\\n\" dans le texte. La première ligne du texte donne souvent les dimensions de l'image (largeur, hauteur)."
   ]
  },
  {
   "cell_type": "markdown",
   "metadata": {},
   "source": [
    "Ainsi l'image est simplement représentée par un *flux structuré de caractères* ce qui est commode pour la **sauvegarder** sur le disque (dans un fichier) mais *pas pour sa manipulation* par programme."
   ]
  },
  {
   "cell_type": "markdown",
   "metadata": {},
   "source": [
    "Lorsqu'un programme ouvre une image, la première action qu'il entreprend est donc de transformer la chaîne obtenue en une structure interne plus adaptée appelée **matrice** et qui consiste en un tableau de nombres (à deux dimensions). "
   ]
  },
  {
   "attachments": {
    "988ec4e2-45c5-413b-a58b-c21e2e5367f8.png": {
     "image/png": "[encoded data removed]"
    }
   },
   "cell_type": "markdown",
   "metadata": {},
   "source": [
    "![bitmap_workflow.png](attachment:988ec4e2-45c5-413b-a58b-c21e2e5367f8.png)"
   ]
  },
  {
   "cell_type": "markdown",
   "metadata": {},
   "source": [
    "Après avoir effectué le traitement voulu (affichage, transformation géométrique...) et pour sauvegarder le résultat, le programme doit à nouveau transformer la matrice qui représente l'image en une chaîne de caractères qui respecte le format qui lui a permis de l'ouvrir au début."
   ]
  }
 ],
 "metadata": {
  "kernelspec": {
   "display_name": "Python 3",
   "language": "python",
   "name": "python3"
  },
  "language_info": {
   "codemirror_mode": {
    "name": "ipython",
    "version": 3
   },
   "file_extension": ".py",
   "mimetype": "text/x-python",
   "name": "python",
   "nbconvert_exporter": "python",
   "pygments_lexer": "ipython3",
   "version": "3.7.3"
  },
  "toc-autonumbering": false
 },
 "nbformat": 4,
 "nbformat_minor": 4
}
