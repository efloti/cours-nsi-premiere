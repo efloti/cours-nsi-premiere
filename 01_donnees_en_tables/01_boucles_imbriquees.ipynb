{
 "cells": [
  {
   "cell_type": "markdown",
   "metadata": {},
   "source": [
    "# Boucles imbriquées - TP"
   ]
  },
  {
   "cell_type": "markdown",
   "metadata": {},
   "source": [
    "**Objectif**: comprendre ce qui se passe quand on met une boucle *à l'intérieur* d'une autre."
   ]
  },
  {
   "cell_type": "markdown",
   "metadata": {},
   "source": [
    "*Note sur print*: `print(<message>, end=\"ahah\")` affiche le message suivi de \"ahah\"; par défaut `end` vaut \"\\n\" (saut de ligne). Voyez par vous-même."
   ]
  },
  {
   "cell_type": "code",
   "execution_count": null,
   "metadata": {},
   "outputs": [],
   "source": [
    "# test1\n",
    "print(1); print(2); print(3)"
   ]
  },
  {
   "cell_type": "code",
   "execution_count": null,
   "metadata": {},
   "outputs": [],
   "source": [
    "# test2\n",
    "print(1, end=\"héhé\"); print(2, end=\"héhé\"); print(3, end=\"héhé\")"
   ]
  },
  {
   "cell_type": "markdown",
   "metadata": {},
   "source": [
    "**1.** Qu'affichent les programmes suivants? Répondre puis tester! Corriger éventuellement...\n",
    "```python\n",
    "for i in range(2):\n",
    "    print(i, end=\",\")\n",
    "for j in range(3):\n",
    "    print(j, end=\",\")\n",
    "```\n",
    "**réponse**: ____"
   ]
  },
  {
   "cell_type": "markdown",
   "metadata": {
    "jupyter": {
     "source_hidden": true
    }
   },
   "source": [
    "`0,1,0,1,2,` les boucles s'exécutent en **séquence** (l'une après l'autre)."
   ]
  },
  {
   "cell_type": "markdown",
   "metadata": {},
   "source": [
    "```python\n",
    "for i in range(2):\n",
    "    print(i, end=\",\")\n",
    "    for j in range(3):\n",
    "        print(j, end=\",\")\n",
    "```\n",
    "**réponse**: ____"
   ]
  },
  {
   "cell_type": "markdown",
   "metadata": {
    "jupyter": {
     "source_hidden": true
    }
   },
   "source": [
    "`0,0,1,2,1,0,1,2,` La boucle «`j`» est *imbriquée dans* la boucle «`i`». Ainsi, à chaque **itération** de la boucle «externe» `i`, la boucle «interne» `j` s'exécute **complètement**. "
   ]
  },
  {
   "cell_type": "markdown",
   "metadata": {},
   "source": [
    "[Prendre le temps d'observer pas à pas ces boucles imbriquées](http://pythontutor.com/visualize.html#code=for%20i%20in%20range%282%29%3A%0A%20%20%20%20print%28i,%20end%3D%22,%22%29%0A%20%20%20%20for%20j%20in%20range%283%29%3A%0A%20%20%20%20%20%20%20%20print%28j,%20end%3D%22,%22%29&cumulative=false&curInstr=0&heapPrimitives=nevernest&mode=display&origin=opt-frontend.js&py=3&rawInputLstJSON=%5B%5D&textReferences=false)"
   ]
  },
  {
   "cell_type": "markdown",
   "metadata": {},
   "source": [
    "**2** Dans chaque cas, que contient la variable `compte` à la fin?\n",
    "```python\n",
    "compte = 0\n",
    "for i in range(2):\n",
    "    compte += 1\n",
    "for j in range(3):\n",
    "    compte += 1\n",
    "```\n",
    "**réponse**: ____"
   ]
  },
  {
   "cell_type": "markdown",
   "metadata": {
    "jupyter": {
     "source_hidden": true
    }
   },
   "source": [
    "Elle vaut **5**.\n",
    "\n",
    "À chaque itération de la boucle «`i`», la valeur de `compte` augmente de 1 or elle réalise **2** itérations, donc une fois terminée `compte` vaut **2**. Ensuite, la boucle «`j`» produit à son tour **3** itérations donc `compte` *augmente* de **3** et finalement il vaut **5**. "
   ]
  },
  {
   "cell_type": "markdown",
   "metadata": {},
   "source": [
    "```python\n",
    "compte = 0\n",
    "for i in range(2):\n",
    "    for j in range(3):\n",
    "        compte += 1\n",
    "```\n",
    "**réponse**: ____"
   ]
  },
  {
   "cell_type": "markdown",
   "metadata": {
    "jupyter": {
     "source_hidden": true
    }
   },
   "source": [
    "À chaque itération de la boucle `i`, la boucle `j` en effectue 3 et donc `compte` augmente de 3. Comme elle effectue 2 itérations, `compte` augmente de $3+3=2\\times 3=6$."
   ]
  },
  {
   "cell_type": "markdown",
   "metadata": {},
   "source": [
    "```python\n",
    "compte = 0\n",
    "for i in range(2):\n",
    "    compte += 1\n",
    "    for j in range(3):\n",
    "        compte += 1\n",
    "```\n",
    "**réponse**: ____"
   ]
  },
  {
   "cell_type": "markdown",
   "metadata": {
    "jupyter": {
     "source_hidden": true
    }
   },
   "source": [
    "Elle vaut **8**.\n",
    "\n",
    "À chaque itération de la boucle externe «`i`», `compte` augmente de $1+3=4$ (3 pour la boucle interne). Comme elle contient 2 itérations, `compte` augmente au total de $4+4=2\\times 4=8$."
   ]
  },
  {
   "cell_type": "markdown",
   "metadata": {},
   "source": [
    "**3. Généraliser** - Exprimer en fonction des entiers `n1` et `n2` la valeur de `compte` à la fin.\n",
    "\n",
    "```python\n",
    "compte = 0\n",
    "for i in range(n1):\n",
    "    compte += 1\n",
    "for j in range(n2):\n",
    "    compte += 1\n",
    "```\n",
    "**réponse**: ____"
   ]
  },
  {
   "cell_type": "markdown",
   "metadata": {
    "jupyter": {
     "source_hidden": true
    }
   },
   "source": [
    "`n1 + n2`."
   ]
  },
  {
   "cell_type": "markdown",
   "metadata": {},
   "source": [
    "```python\n",
    "compte = 0\n",
    "for _ in range(n1):\n",
    "    for _ in range(n2):\n",
    "        compte += 1\n",
    "```\n",
    "**réponse**: ____"
   ]
  },
  {
   "cell_type": "markdown",
   "metadata": {
    "jupyter": {
     "source_hidden": true
    }
   },
   "source": [
    "`n1 * n2`\n",
    "\n",
    "À chaque exécution de la boucle *interne*, `compte` augmente de $n_2$.\n",
    "De plus, la boucle *externe* contient $n_1$ itérations donc `compte` augmente de:\n",
    "$$\\underbrace{n_2+n_2+\\cdots +n_2}_{n_1 \\text{répétitions de}  n_2}=n_1\\times n_2$$"
   ]
  },
  {
   "cell_type": "markdown",
   "metadata": {},
   "source": [
    "```python\n",
    "compte = 0\n",
    "for i in range(n1):\n",
    "    compte += 1\n",
    "    for j in range(n2):\n",
    "        compte += 1\n",
    "```\n",
    "**réponse**: ____"
   ]
  },
  {
   "cell_type": "markdown",
   "metadata": {
    "jupyter": {
     "source_hidden": true
    }
   },
   "source": [
    "`n1 * (1 + n2)` ou `n1 + n1 * n2`\n",
    "\n",
    "La deuxième formule s'obtient en observant que la première incrémentation de compte aura lieue `n1` fois (ou en développant la première)"
   ]
  },
  {
   "cell_type": "markdown",
   "metadata": {},
   "source": [
    "## Avec trois boucles"
   ]
  },
  {
   "cell_type": "markdown",
   "metadata": {},
   "source": [
    "Si vous avez trouvé les précédentes, celles là ne devraient pas poser de problèmes ...\n",
    "```python\n",
    "compte = 0\n",
    "for i in range(n1):\n",
    "    compte += 1\n",
    "for j in range(n2):\n",
    "    compte += 1\n",
    "for k in range(n3):\n",
    "    compte += 1\n",
    "            \n",
    "```\n",
    "**réponse**: ____"
   ]
  },
  {
   "cell_type": "markdown",
   "metadata": {
    "jupyter": {
     "source_hidden": true
    }
   },
   "source": [
    "`n1 + n2 + n3`"
   ]
  },
  {
   "cell_type": "markdown",
   "metadata": {},
   "source": [
    "```python\n",
    "compte = 0\n",
    "for i in range(n1):\n",
    "    for j in range(n2):\n",
    "        for k in range(n3):\n",
    "            compte += 1\n",
    "```\n",
    "**réponse**: ____"
   ]
  },
  {
   "cell_type": "markdown",
   "metadata": {
    "jupyter": {
     "source_hidden": true
    }
   },
   "source": [
    "`n1 * n2 * n3`"
   ]
  },
  {
   "cell_type": "markdown",
   "metadata": {},
   "source": [
    "```python\n",
    "compte = 0\n",
    "for i in range(n1):\n",
    "    compte += 1\n",
    "    for j in range(n2):\n",
    "        compte += 1\n",
    "    for k in range(n3):\n",
    "        compte += 1\n",
    "```\n",
    "**réponse**: ____"
   ]
  },
  {
   "cell_type": "markdown",
   "metadata": {
    "jupyter": {
     "source_hidden": true
    }
   },
   "source": [
    "`n1 * (1 + n2 + n3)` ou `n1 + n1 * n2 + n1 * n3`\n",
    "\n",
    "La deuxième formule s'obtient en comptant chaque incrémentation séparemment."
   ]
  },
  {
   "cell_type": "markdown",
   "metadata": {},
   "source": [
    "Une dernière pour le fun; Que vaut `compte` après éxécution de ce code si on suppose que `n` vaut 4.\n",
    "\n",
    "```python\n",
    "compte = 0\n",
    "for i in range(n):\n",
    "    for j in range(i,n):\n",
    "        compte += 1\n",
    "```"
   ]
  },
  {
   "cell_type": "markdown",
   "metadata": {
    "jupyter": {
     "source_hidden": true
    }
   },
   "source": [
    "Ici, il faut observer que la boucle interne **dépend** de la boucle externe:\n",
    "\n",
    "    i = 0:\n",
    "        range(i,n)=range(0,n)=range(n) donc n itérations\n",
    "    i = 1:\n",
    "        range(i,n)=range(1,n) donc n-1 itérations\n",
    "    i = 2:\n",
    "        range(i,n)=range(2,n) donc n-2 itérations\n",
    "    ...\n",
    "    i = n-1:\n",
    "        range(i,n)=range(n-1,n) donc 1 itération.\n",
    "\n",
    "Finalement, `compte` sera augmenté de $$n+(n-1)+(n-2)+\\cdots +1$$ et pour $n=4$ cela donne $4+3+2+1={\\bf 10}$.\n",
    "        "
   ]
  },
  {
   "cell_type": "markdown",
   "metadata": {},
   "source": [
    "Qu'affiche le programme suivant?\n",
    "\n",
    "```python\n",
    "for _ in range(1000):\n",
    "    for _ in range(1000):\n",
    "        for _ in range(1000):\n",
    "            for _ in range(1000):\n",
    "                print(\"Mille sabords !\")\n",
    "```\n",
    "**réponse**: ____"
   ]
  },
  {
   "cell_type": "markdown",
   "metadata": {
    "jupyter": {
     "source_hidden": true
    }
   },
   "source": [
    "Mille milliard de `\"Mille sabords !\"` (fameuse réplique du capitaine Haddock)\n",
    "\n",
    "En effet: 1 milliard = mille millions = mille (mille mille). "
   ]
  },
  {
   "cell_type": "markdown",
   "metadata": {},
   "source": [
    "## Mise en pratique"
   ]
  },
  {
   "cell_type": "markdown",
   "metadata": {},
   "source": [
    "### Problème des doublons\n",
    "\n",
    "Une valeur est en doublon dans une liste si elle se répète. ex: `[1,2,3]` aucun doublon; `[1,2,2,1,2]` 1 et 2 se répètent donc ces valeurs sont en doublon.\n",
    "\n",
    "Écrire une fonction `doublon(t)` qui renvoie `True` si le tableau (liste) `t` fournie en argument contient une valeur en doublon.\n",
    "\n",
    "*aide*: \n",
    "1. une valeur `v=t[i]` est en doublon si on peut trouver *un autre index* que `i` noté `j` de façon que `(v == )t[i] == t[j]` ait pour valeur `True`.\n",
    "2. parcourir le tableau deux fois à l'aide d'une boucle imbriquée ..."
   ]
  },
  {
   "cell_type": "code",
   "execution_count": null,
   "metadata": {},
   "outputs": [],
   "source": [
    "def doublon(t):\n",
    "    pass"
   ]
  },
  {
   "cell_type": "code",
   "execution_count": null,
   "metadata": {},
   "outputs": [],
   "source": [
    "# Pour tester sa réponse\n",
    "t1, t2, t3, t4 = [1,2,3,4], [1,2,3,2], ['a', 'b', 'b', 'c'], []\n",
    "assert doublon(t1) == False # ou assert not doublon(t1)\n",
    "assert doublon(t2) == True # ou assert doublon(t2)\n",
    "assert doublon(t3) == True # ...\n",
    "assert doublon(t4) == False"
   ]
  },
  {
   "cell_type": "code",
   "execution_count": null,
   "metadata": {
    "jupyter": {
     "source_hidden": true
    }
   },
   "outputs": [],
   "source": [
    "# première solution «naïve»\n",
    "def doublon(t):\n",
    "    N = len(t)\n",
    "    for i in range(N):\n",
    "        for j in range(N):\n",
    "            if i != j and t[i] == t[j]:\n",
    "                return True\n",
    "    return False\n",
    "\n",
    "# deuxième solution plus efficace\n",
    "# car on évite de lire deux fois la même chose...\n",
    "def doublon2(t):\n",
    "    N = len(t)\n",
    "    for i in range(N-1):\n",
    "        for j in range(j+1, N):\n",
    "            # ici nous sommes sûr que i < j\n",
    "            if t[i] == t[j]:\n",
    "                return True\n",
    "    return False"
   ]
  },
  {
   "cell_type": "markdown",
   "metadata": {},
   "source": [
    "### Ascii art\n",
    "\n",
    "Écrire des fonctions qui prenne un entier `n` en argument et affichent chacune l'une des figures suivantes (dans un carré de côté `n`). Ses fonctions ne renvoient rien (`None`).\n",
    "\n",
    "     #        ####   ####    ####\n",
    "     ##       ###    .###    #..#\n",
    "     ###      ##     ..##    #..#\n",
    "     ####     #      ...#    ####"
   ]
  },
  {
   "cell_type": "code",
   "execution_count": null,
   "metadata": {},
   "outputs": [],
   "source": [
    "def ascii1(n):\n",
    "    pass\n",
    "\n",
    "ascii1(4)"
   ]
  },
  {
   "cell_type": "code",
   "execution_count": null,
   "metadata": {
    "jupyter": {
     "source_hidden": true
    }
   },
   "outputs": [],
   "source": [
    "def ascii1(n):\n",
    "    for i in range(n): # i -> n° de ligne\n",
    "        for j in range(i+1): # j -> n° de colonne\n",
    "            print(\"#\", end=\"\")\n",
    "        print() # pour sauter à la ligne\n",
    "\n",
    "ascii1(4)"
   ]
  },
  {
   "cell_type": "code",
   "execution_count": null,
   "metadata": {},
   "outputs": [],
   "source": [
    "def ascii2(n):\n",
    "    pass\n",
    "\n",
    "ascii2(4)"
   ]
  },
  {
   "cell_type": "code",
   "execution_count": null,
   "metadata": {
    "jupyter": {
     "source_hidden": true
    }
   },
   "outputs": [],
   "source": [
    "def ascii2(n):\n",
    "    for i in range(n):\n",
    "        for j in range(n-i):\n",
    "            print(\"#\", end=\"\")\n",
    "        print()\n",
    "\n",
    "ascii2(4)"
   ]
  },
  {
   "cell_type": "code",
   "execution_count": null,
   "metadata": {},
   "outputs": [],
   "source": [
    "def ascii3(n):\n",
    "    pass\n",
    "\n",
    "ascii3(4)"
   ]
  },
  {
   "cell_type": "code",
   "execution_count": null,
   "metadata": {
    "jupyter": {
     "source_hidden": true
    }
   },
   "outputs": [],
   "source": [
    "def ascii3(n):\n",
    "    for i in range(n):\n",
    "        for j in range(n):\n",
    "            if j < i:\n",
    "                print(\".\", end=\"\")\n",
    "            else:\n",
    "                print(\"#\", end=\"\")\n",
    "        print()\n",
    "\n",
    "ascii3(4)"
   ]
  },
  {
   "cell_type": "code",
   "execution_count": null,
   "metadata": {},
   "outputs": [],
   "source": [
    "def ascii4(n):\n",
    "    pass\n",
    "\n",
    "ascii4(4)"
   ]
  },
  {
   "cell_type": "code",
   "execution_count": null,
   "metadata": {
    "jupyter": {
     "source_hidden": true
    }
   },
   "outputs": [],
   "source": [
    "def ascii4(n):\n",
    "    for i in range(n):\n",
    "        for j in range(n):\n",
    "            if i == 0 or i == n-1 or j == 0 or j == n-1:\n",
    "                print(\"#\", end=\"\")\n",
    "            else:\n",
    "                print(\".\", end=\"\")\n",
    "        print()\n",
    "\n",
    "ascii4(4)"
   ]
  },
  {
   "cell_type": "markdown",
   "metadata": {},
   "source": [
    "## Synthèse"
   ]
  },
  {
   "cell_type": "markdown",
   "metadata": {},
   "source": [
    "Les boucles imbriquées - sont en particulier - très utiles pour «parcourir» des tableaux de dimension 2 formés de lignes et de colonnes."
   ]
  },
  {
   "attachments": {
    "6be3e262-e863-4377-b578-f96cc6e7c9ce.png": {
     "image/png": "[encoded data removed]"
    }
   },
   "cell_type": "markdown",
   "metadata": {},
   "source": [
    "<p style=\"text-align: center;\">\n",
    "<img src=\"attachment:6be3e262-e863-4377-b578-f96cc6e7c9ce.png\" width=\"70%\"/>\n",
    "</p>"
   ]
  },
  {
   "cell_type": "markdown",
   "metadata": {},
   "source": [
    "Ce genre de tableau est souvent représenté comme *une liste de liste* en Python; par exemple:\n",
    "\n",
    "```python\n",
    "tableau_2d = [\n",
    "    [\"l\", \"i\", \"g\", \"n\", \"e\", \"0\"],\n",
    "    [\"l\", \"i\", \"g\", \"n\", \"e\", \"1\"],\n",
    "    [\"l\", \"i\", \"g\", \"n\", \"e\", \"2\"],\n",
    "    ...\n",
    "]\n",
    "```"
   ]
  },
  {
   "cell_type": "markdown",
   "metadata": {},
   "source": [
    "La boucle qui suit:\n",
    "\n",
    "```python \n",
    "for i in range(nb_lignes):\n",
    "    for j in range(nb_colonnes):\n",
    "        # ici nous pouvons accéder à la case\n",
    "        # située à la ligne n°i et à la colonne n°j\n",
    "        print(tableau_2d[i][j], end=\"-\")\n",
    "    print()\n",
    "```"
   ]
  },
  {
   "cell_type": "markdown",
   "metadata": {},
   "source": [
    "afficherait:\n",
    "\n",
    "    l-i-g-n-e-0-\n",
    "    l-i-g-n-e-1-\n",
    "    l-i-g-n-e-2-\n",
    "    ..."
   ]
  },
  {
   "cell_type": "markdown",
   "metadata": {},
   "source": [
    "En échangeant la boucle `i` et la boucle `j`, on obtiendrait:\n",
    "\n",
    "    l-l-l-...-\n",
    "    i-i-i-...-\n",
    "    g-g-g-...-\n",
    "    n-n-n-...-\n",
    "    e-e-e-...-\n",
    "    0-1-2-...-"
   ]
  },
  {
   "cell_type": "markdown",
   "metadata": {},
   "source": [
    "Pour bien visualiser ce qui se passe:"
   ]
  },
  {
   "attachments": {
    "0bce8db8-337e-4c47-84f4-ed71d2158e78.png": {
     "image/png": "[encoded data removed]"
    }
   },
   "cell_type": "markdown",
   "metadata": {},
   "source": [
    "<p style=\"text-align: center;\">\n",
    "<img src=\"attachment:0bce8db8-337e-4c47-84f4-ed71d2158e78.png\" width=\"70%\"/>\n",
    "</p>"
   ]
  },
  {
   "cell_type": "markdown",
   "metadata": {},
   "source": [
    "Il arrive souvent qu'on souhaite limiter le parcourt à une partie du tableau seulement; voici deux cas à bien repérer:\n",
    "\n",
    "- aux éléments **au-dessus de (ou sur)** la diagonale «principale»:\n",
    "\n",
    "```python\n",
    "for i in range(nb_lignes):\n",
    "    # mettre i+1 à la place de i pour «strictement» au dessus\n",
    "    for j in range(i, nb_colonnes):\n",
    "        ...\n",
    "```\n",
    "\n",
    "- aux éléments **strictement en-dessous** de la diagonale «principale»:\n",
    "\n",
    "```python\n",
    "for i in range(nb_lignes):\n",
    "    # mettre i+1 à la place de i pour inclure la diagonale\n",
    "    for j in range(i):\n",
    "        ...\n",
    "```\n",
    "        "
   ]
  },
  {
   "cell_type": "markdown",
   "metadata": {},
   "source": [
    "Voici quelques illustrations:"
   ]
  },
  {
   "attachments": {
    "c6c348f5-21ff-4ca5-9361-0a261c224efb.png": {
     "image/png": "[encoded data removed]"
    }
   },
   "cell_type": "markdown",
   "metadata": {},
   "source": [
    "<p style=\"text-align: center;\">\n",
    "<img src=\"attachment:c6c348f5-21ff-4ca5-9361-0a261c224efb.png\" width=\"70%\"/>\n",
    "</p>"
   ]
  }
 ],
 "metadata": {
  "kernelspec": {
   "display_name": "Python 3",
   "language": "python",
   "name": "python3"
  },
  "language_info": {
   "codemirror_mode": {
    "name": "ipython",
    "version": 3
   },
   "file_extension": ".py",
   "mimetype": "text/x-python",
   "name": "python",
   "nbconvert_exporter": "python",
   "pygments_lexer": "ipython3",
   "version": "3.7.3"
  }
 },
 "nbformat": 4,
 "nbformat_minor": 4
}
