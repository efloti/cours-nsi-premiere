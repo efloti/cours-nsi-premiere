{
 "cells": [
  {
   "cell_type": "markdown",
   "metadata": {},
   "source": [
    "# Boucles imbriquées - TP"
   ]
  },
  {
   "cell_type": "markdown",
   "metadata": {},
   "source": [
    "*Note*: `print(<message>, end=\"ahah\")` affiche le message suivi de \"ahah\"; par défaut `end` vaut \"\\n\" (saut de ligne). Voyez par vous-même."
   ]
  },
  {
   "cell_type": "code",
   "execution_count": null,
   "metadata": {},
   "outputs": [],
   "source": [
    "# test1\n",
    "print(1); print(2); print(3)"
   ]
  },
  {
   "cell_type": "code",
   "execution_count": null,
   "metadata": {},
   "outputs": [],
   "source": [
    "# test2\n",
    "print(1, end=\"héhé\"); print(2, end=\"héhé\"); print(3, end=\"héhé\")"
   ]
  },
  {
   "cell_type": "markdown",
   "metadata": {},
   "source": [
    "Qu'affichent les programmes suivants? Répondre puis tester! Corriger éventuellement...\n",
    "```python\n",
    "for i in range(2):\n",
    "    print(i, end=\",\")\n",
    "for j in range(3):\n",
    "    print(j, end=\",\")\n",
    "```\n",
    "**réponse**: ____"
   ]
  },
  {
   "cell_type": "markdown",
   "metadata": {},
   "source": [
    "```python\n",
    "for i in range(2):\n",
    "    print(i, end=\",\")\n",
    "    for j in range(3):\n",
    "        print(j, end=\",\")\n",
    "```\n",
    "**réponse**: ____"
   ]
  },
  {
   "cell_type": "markdown",
   "metadata": {},
   "source": [
    "Dans chaque cas, que contient la variable `compte` à la fin?\n",
    "```python\n",
    "compte = 0\n",
    "for i in range(2):\n",
    "    compte += 1\n",
    "for j in range(3):\n",
    "    compte += 1\n",
    "```\n",
    "**réponse**: ____"
   ]
  },
  {
   "cell_type": "markdown",
   "metadata": {},
   "source": [
    "```python\n",
    "compte = 0\n",
    "for i in range(2):\n",
    "    compte += 1\n",
    "    for j in range(3):\n",
    "        compte += 1\n",
    "```\n",
    "**réponse**: ____"
   ]
  },
  {
   "cell_type": "markdown",
   "metadata": {},
   "source": [
    "```python\n",
    "compte = 0\n",
    "for i in range(2):\n",
    "    for j in range(3):\n",
    "        compte += 1\n",
    "```\n",
    "**réponse**: ____"
   ]
  },
  {
   "cell_type": "markdown",
   "metadata": {},
   "source": [
    "Exprimer en fonction des entiers `n1` et `n2` la valeur de `compte` à la fin.\n",
    "\n",
    "```python\n",
    "compte = 0\n",
    "for i in range(n1):\n",
    "    compte += 1\n",
    "for j in range(n2):\n",
    "    compte += 1\n",
    "```\n",
    "**réponse**: ____"
   ]
  },
  {
   "cell_type": "markdown",
   "metadata": {},
   "source": [
    "```python\n",
    "compte = 0\n",
    "for i in range(n1):\n",
    "    compte += 1\n",
    "    for j in range(n2):\n",
    "        compte += 1\n",
    "```\n",
    "**réponse**: ____"
   ]
  },
  {
   "cell_type": "markdown",
   "metadata": {},
   "source": [
    "```python\n",
    "compte = 0\n",
    "for _ in range(n1):\n",
    "    for _ in range(n2):\n",
    "        compte += 1\n",
    "```\n",
    "**réponse**: ____"
   ]
  },
  {
   "cell_type": "markdown",
   "metadata": {},
   "source": [
    "## Généraliser vos observations\n",
    "Si vous avez trouvé les précédentes, celles là ne devraient pas poser de problèmes ...\n",
    "```python\n",
    "compte = 0\n",
    "for i in range(n1):\n",
    "    compte += 1\n",
    "for j in range(n2):\n",
    "    compte += 1\n",
    "for k in range(n3):\n",
    "    compte += 1\n",
    "            \n",
    "```\n",
    "**réponse**: ____"
   ]
  },
  {
   "cell_type": "markdown",
   "metadata": {},
   "source": [
    "```python\n",
    "compte = 0\n",
    "for i in range(n1):\n",
    "    for j in range(n2):\n",
    "        for k in range(n3):\n",
    "            compte += 1\n",
    "```\n",
    "**réponse**: ____"
   ]
  },
  {
   "cell_type": "markdown",
   "metadata": {},
   "source": [
    "```python\n",
    "compte = 0\n",
    "for i in range(n1):\n",
    "    compte += 1\n",
    "    for j in range(n2):\n",
    "        compte += 1\n",
    "    for k in range(n3):\n",
    "        compte += 1\n",
    "```\n",
    "**réponse**: ____"
   ]
  },
  {
   "cell_type": "markdown",
   "metadata": {},
   "source": [
    "Une dernière pour le fun; Que vaut `compte` après éxécution de ce code si on suppose que `n` vaut 4.\n",
    "\n",
    "```python\n",
    "compte = 0\n",
    "for i in range(n):\n",
    "    for j in range(i,n):\n",
    "        compte += 1\n",
    "```"
   ]
  },
  {
   "cell_type": "markdown",
   "metadata": {},
   "source": [
    "Qu'affiche le programme suivant?\n",
    "\n",
    "```python\n",
    "for _ in range(1000):\n",
    "    for _ in range(1000):\n",
    "        for _ in range(1000):\n",
    "            for _ in range(1000):\n",
    "                print(\"Mille sabords !\")\n",
    "```\n",
    "**réponse**: ____"
   ]
  },
  {
   "cell_type": "markdown",
   "metadata": {},
   "source": [
    "## Mise en pratique"
   ]
  },
  {
   "cell_type": "markdown",
   "metadata": {},
   "source": [
    "### Problème des doublons\n",
    "\n",
    "Une valeur est en doublon dans une liste si elle se répète. ex: `[1,2,3]` aucun doublon; `[1,2,2,1,2]` 1 et 2 se répètent donc ces valeurs sont en doublon.\n",
    "\n",
    "Écrire une fonction `doublon(t)` qui renvoie `True` si le tableau (liste) `t` fournie en argument contient une valeur en doublon.\n",
    "\n",
    "*aide*: \n",
    "1. une valeur `v` est en doublon si on peut trouver deux index *distincts* `i` et `j` de façon que `v == t[i] == t[j]` ait pour valeur `True`.\n",
    "2. parcourir le tableau deux fois à l'aide d'une boucle imbriquée ..."
   ]
  },
  {
   "cell_type": "code",
   "execution_count": null,
   "metadata": {},
   "outputs": [],
   "source": [
    "def doublon(t):\n",
    "    pass"
   ]
  },
  {
   "cell_type": "code",
   "execution_count": null,
   "metadata": {},
   "outputs": [],
   "source": [
    "# Pour tester sa réponse\n",
    "t1, t2, t3, t4 = [1,2,3,4], [1,2,3,2], ['a', 'b', 'b', 'c'], []\n",
    "assert doublon(t1) == False # ou assert not doublon(t1)\n",
    "assert doublon(t2) == True # ou assert doublon(t2)\n",
    "assert doublon(t3) == True # ...\n",
    "assert doublon(t4) == False"
   ]
  },
  {
   "cell_type": "markdown",
   "metadata": {},
   "source": [
    "### Ascii art\n",
    "\n",
    "Écrire des fonctions qui prenne un entier `n` en argument et affichent chacune l'une des figures suivantes (dans un carré de côté `n`). Ses fonctions ne renvoient rien (`None`).\n",
    "\n",
    "     #        ####   ####    ####\n",
    "     ##       ###    .###    #..#\n",
    "     ###      ##     ..##    #..#\n",
    "     ####     #      ...#    ####"
   ]
  },
  {
   "cell_type": "code",
   "execution_count": null,
   "metadata": {},
   "outputs": [],
   "source": [
    "def ascii1(n):\n",
    "    pass\n",
    "\n",
    "ascii1()"
   ]
  },
  {
   "cell_type": "code",
   "execution_count": null,
   "metadata": {},
   "outputs": [],
   "source": [
    "def ascii2(n):\n",
    "    pass\n",
    "\n",
    "ascii2()"
   ]
  },
  {
   "cell_type": "code",
   "execution_count": null,
   "metadata": {},
   "outputs": [],
   "source": [
    "def ascii3(n):\n",
    "    pass\n",
    "\n",
    "ascii3()"
   ]
  },
  {
   "cell_type": "code",
   "execution_count": null,
   "metadata": {},
   "outputs": [],
   "source": [
    "def ascii4(n):\n",
    "    pass\n",
    "\n",
    "ascii4()"
   ]
  }
 ],
 "metadata": {
  "kernelspec": {
   "display_name": "Python 3",
   "language": "python",
   "name": "python3"
  },
  "language_info": {
   "codemirror_mode": {
    "name": "ipython",
    "version": 3
   },
   "file_extension": ".py",
   "mimetype": "text/x-python",
   "name": "python",
   "nbconvert_exporter": "python",
   "pygments_lexer": "ipython3",
   "version": "3.6.8"
  }
 },
 "nbformat": 4,
 "nbformat_minor": 4
}
