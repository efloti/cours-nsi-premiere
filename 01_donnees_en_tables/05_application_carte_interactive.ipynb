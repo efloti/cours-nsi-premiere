{
 "cells": [
  {
   "cell_type": "markdown",
   "metadata": {},
   "source": [
    "# Application - construire une carte interactive (type google map)"
   ]
  },
  {
   "cell_type": "markdown",
   "metadata": {},
   "source": [
    "**Mini-projet guidé**: afficher dans une carte interactive centrée sur Tours toutes les gares de *voyageurs* d'indre-et-loire avec leur nom.\n",
    "\n",
    "Les ingrédients de ce mini-projet:\n",
    "\n",
    "1. Récupérer un fichier au format CSV contenant l'ensemble des gares de france,\n",
    "2. Traitement des données avec Python:\n",
    "    - Adapter les données pour Python,\n",
    "    - Sélectionner les objets (gares) pertinents,\n",
    "    - Ne conserver que les descripteurs utiles,\n",
    "    - Transformer les données textes en données compatibles avec l'outil utilisé dans l'étape 3;\n",
    "3. Utilisation de la bibliothèque *ipyleaflet* pour afficher et manipuler une carte interactive."
   ]
  },
  {
   "cell_type": "markdown",
   "metadata": {},
   "source": [
    "## ipyleaflet"
   ]
  },
  {
   "cell_type": "markdown",
   "metadata": {},
   "source": [
    "Cette bibliothèque sert à afficher des cartes interactives dans un notebook.\n",
    "\n",
    "Elle est basée sur la bibliothèque (en javascript) [leaflet](https://leafletjs.com/)\n",
    "\n",
    "Pour l'utiliser, on commence par importer (elle est installée sur le hub) deux constructeurs `Map` (carte) et `Marker` (pour créer des marques sur la cartes)"
   ]
  },
  {
   "cell_type": "code",
   "execution_count": null,
   "metadata": {},
   "outputs": [],
   "source": [
    "from ipyleaflet import Map, Marker"
   ]
  },
  {
   "cell_type": "markdown",
   "metadata": {},
   "source": [
    "Commençons par construire la carte"
   ]
  },
  {
   "cell_type": "code",
   "execution_count": null,
   "metadata": {},
   "outputs": [],
   "source": [
    "# Coordonnées de bordeaux pour centrer la carte\n",
    "bordeaux = (44.833333,-0.566667)\n",
    "\n",
    "#L'objet carte\n",
    "carte = Map(center=bordeaux, zoom=10)\n",
    "display(carte) # display est une fonction spéciale des notebook"
   ]
  },
  {
   "cell_type": "markdown",
   "metadata": {},
   "source": [
    "Ajoutons un petit marqueur"
   ]
  },
  {
   "cell_type": "code",
   "execution_count": null,
   "metadata": {},
   "outputs": [],
   "source": [
    "marker = Marker(location=bordeaux, title='bordeau', draggable=False)\n",
    "carte.add_layer(marker) # regarder de nouveau la carte."
   ]
  },
  {
   "cell_type": "markdown",
   "metadata": {},
   "source": [
    "Simple non? Si vous souhaitez en savoir davantage chercher dans la [documentation de ipyleaflet](https://ipyleaflet.readthedocs.io/en/latest/)"
   ]
  },
  {
   "cell_type": "markdown",
   "metadata": {},
   "source": [
    "## Récupération des données au format CSV"
   ]
  },
  {
   "cell_type": "markdown",
   "metadata": {},
   "source": [
    "Rendez vous sur le site [data.sncf.com](https://data.sncf.com) et chercher la liste des gares au format csv.\n",
    "\n",
    "Une fois le fichier récupéré, enregistrer le dans le même dossier que ce notebook et renommer le `gares.csv`"
   ]
  },
  {
   "cell_type": "markdown",
   "metadata": {},
   "source": [
    "### Lire le fichier avec Python"
   ]
  },
  {
   "cell_type": "markdown",
   "metadata": {},
   "source": [
    "Pour lire un fichier texte avec Python, on utilise la syntaxe:"
   ]
  },
  {
   "cell_type": "code",
   "execution_count": null,
   "metadata": {},
   "outputs": [],
   "source": [
    "with open('gares.csv') as f_csv:\n",
    "    csv = f_csv.read()\n",
    "\n",
    "# pour afficher 500 premiers caractères de la chaîne.\n",
    "print(csv[:500])"
   ]
  },
  {
   "cell_type": "markdown",
   "metadata": {},
   "source": [
    "Cela fonctionne très bien ici mais le fichier contient (**premier hic**) un caractère spécial `\\uefeff` (invisible); *enlever le print pour le voir*.\n",
    "\n",
    "Pour l'éliminer (il risque de gêner autrement), un petit slice suffit."
   ]
  },
  {
   "cell_type": "code",
   "execution_count": null,
   "metadata": {},
   "outputs": [],
   "source": [
    "csv = csv.strip() # éliminer les blancs (il y a un saut de ligne tout à la fin du fichier! souvent le cas)\n",
    "csv = csv[1:] # élimine le caractère zarbi dont je vous parlais..."
   ]
  },
  {
   "cell_type": "markdown",
   "metadata": {},
   "source": [
    "Il ne reste plus qu'à exploiter comme vu précédemment la chaine `csv`...\n",
    "\n",
    "Mais il y a un **deuxième hic** (encore? et oui c'est souvent comme ça avec les exemples réels) ... **l'avez-vous remarqué?**\n",
    "\n",
    "Le séparateur n'est pas la virgule `,` mais le point-virgule `;`: c'est souvent le cas pour les fichiers csv français car la virgule est utilisée comme séparateur décimal.\n",
    "\n",
    "Il va donc falloir adapter le code qui va nous permettre de tranformer cette chaîne en un tableau de données (sous forme de n-uplets nommés)"
   ]
  },
  {
   "cell_type": "markdown",
   "metadata": {},
   "source": [
    "### À vous de jouer!\n",
    "\n",
    "Compléter la fonction suivante pour effectuer la conversion."
   ]
  },
  {
   "cell_type": "code",
   "execution_count": null,
   "metadata": {},
   "outputs": [],
   "source": [
    "def csv_vers_tableau(csv_str, sep=','): # valeur par défaut\n",
    "    lignes = csv_str.split(___)\n",
    "    descripteurs = tuple(lignes[___].split(sep))\n",
    "    liste_objs = [tuple(___.split(___)) for l in lignes[1:]]\n",
    "    \n",
    "    objets = []\n",
    "    for o in ____:\n",
    "        objet = {}\n",
    "        for d, v in ___(descripteurs, o):\n",
    "            objet[d] = ____\n",
    "        objets.append(____)\n",
    "    return objets"
   ]
  },
  {
   "cell_type": "code",
   "execution_count": null,
   "metadata": {
    "jupyter": {
     "source_hidden": true
    }
   },
   "outputs": [],
   "source": [
    "def csv_vers_tableau(csv_str, sep=','): # valeur par défaut\n",
    "    lignes = csv_str.split('\\n')\n",
    "    descripteurs = tuple(lignes[0].split(sep))\n",
    "    liste_objs = [tuple(l.split(sep)) for l in lignes[1:]]\n",
    "    \n",
    "    objets = []\n",
    "    for o in liste_objs:\n",
    "        objet = {}\n",
    "        if len(descripteurs) != len(o):\n",
    "            print(descripteurs)\n",
    "            print(o)\n",
    "        for d, v in zip(descripteurs, o):\n",
    "            objet[d] = v\n",
    "        objets.append(objet)\n",
    "    return objets"
   ]
  },
  {
   "cell_type": "code",
   "execution_count": null,
   "metadata": {},
   "outputs": [],
   "source": [
    "# vérifier que tout se passe bien pour les gares\n",
    "tableau_gares = csv_vers_tableau(csv, ';')\n",
    "tableau_gares[:2]"
   ]
  },
  {
   "cell_type": "markdown",
   "metadata": {},
   "source": [
    "Regarder attentivement comment les gares sont décrites.\n",
    "\n",
    "Votre **objectif** est d'afficher toutes les gares de voyageurs d'Indre-et-Loire sur une carte interactive.\n",
    "\n",
    "*Conseils*: Il va falloir:\n",
    "- sélectionner les bonnes gares (**sélection**),\n",
    "- ne conserver que les informations pertinentes (**projection**),\n",
    "- effectuer un traitement de certaines chaînes de caractères (**pré-traitement**),\n",
    "- enfin, utiliser effectivement la table en lien avec la carte interactive fournie par **ipyleaflet**.\n",
    "\n",
    "# À vous de jouer!"
   ]
  },
  {
   "cell_type": "code",
   "execution_count": null,
   "metadata": {
    "jupyter": {
     "source_hidden": true
    }
   },
   "outputs": [],
   "source": [
    "# 1. Sélectionner les bonnes gares: utiliser le descripteur 'DEPARTEMENT' avec la valeur 'INDRE-ET-LOIRE'\n",
    "selection1 = [ gare for gare in tableau_gares if gare['DEPARTEMENT'] == 'INDRE-ET-LOIRE' ]\n",
    "len(selection1)"
   ]
  },
  {
   "cell_type": "code",
   "execution_count": null,
   "metadata": {
    "jupyter": {
     "source_hidden": true
    }
   },
   "outputs": [],
   "source": [
    "# 2. On veut seulement les gares de voyageurs\n",
    "selection2 = [ gare for gare in selection1 if gare['VOYAGEURS'] == 'O' ]\n",
    "len(selection2)"
   ]
  },
  {
   "cell_type": "code",
   "execution_count": null,
   "metadata": {
    "jupyter": {
     "source_hidden": true
    }
   },
   "outputs": [],
   "source": [
    "# 3. projection: on veut juste les colonnes 'LIBELLE' et 'C_GEO'\n",
    "projection = [ {d: v for d, v in g.items() if d in ['LIBELLE', 'C_GEO']} for g in selection2]\n",
    "projection[:1]"
   ]
  },
  {
   "cell_type": "code",
   "execution_count": null,
   "metadata": {
    "jupyter": {
     "source_hidden": true
    }
   },
   "outputs": [],
   "source": [
    "# 4. transformer la chaîne des coordonnées en tuple (float, float)\n",
    "def coord(ch):\n",
    "    x, y = ch.split(',')\n",
    "    return (float(x), float(y))\n",
    "\n",
    "gares = [ {d: coord(v) if d == 'C_GEO' else v for d, v in o.items()} for o in projection ]\n",
    "gares[:2]"
   ]
  },
  {
   "cell_type": "code",
   "execution_count": null,
   "metadata": {
    "jupyter": {
     "source_hidden": true
    }
   },
   "outputs": [],
   "source": [
    "# 5. constuire la carte et y ajouter un marqueur par gare\n",
    "from ipyleaflet import Map, Marker\n",
    "\n",
    "# recherche sur internet\n",
    "tours = (47.383331, 0.68333)\n",
    "\n",
    "# L'objet carte\n",
    "carte = Map(center=tours, zoom=10)\n",
    "display(carte) # display est une fonction spéciale des notebook\n",
    "\n",
    "# Mettre les gares.\n",
    "for gare in gares:\n",
    "    marker = Marker(location=gare['C_GEO'], title=gare['LIBELLE'], draggable=False)\n",
    "    carte.add_layer(marker)"
   ]
  }
 ],
 "metadata": {
  "kernelspec": {
   "display_name": "Python 3",
   "language": "python",
   "name": "python3"
  },
  "language_info": {
   "codemirror_mode": {
    "name": "ipython",
    "version": 3
   },
   "file_extension": ".py",
   "mimetype": "text/x-python",
   "name": "python",
   "nbconvert_exporter": "python",
   "pygments_lexer": "ipython3",
   "version": "3.6.8"
  }
 },
 "nbformat": 4,
 "nbformat_minor": 4
}
