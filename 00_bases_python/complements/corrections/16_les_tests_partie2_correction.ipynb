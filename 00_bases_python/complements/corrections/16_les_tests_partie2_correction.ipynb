{
 "cells": [
  {
   "cell_type": "code",
   "execution_count": null,
   "metadata": {},
   "outputs": [],
   "source": [
    "# Required boilerplate\n",
    "import sys\n",
    "!{sys.executable} -m pip install pytest\n",
    "!{sys.executable} -m pip install ipytest\n",
    "\n",
    "import ipytest.magics\n",
    "import pytest\n",
    "\n",
    "__file__ = '16_les_tests_partie2_correction.ipynb'"
   ]
  },
  {
   "cell_type": "markdown",
   "metadata": {},
   "source": [
    "# 1. Finaliser des scénarios de tests\n",
    "La partie test de l'implémentation de `ListeTaches` est incomplète. Compléter les portions `____` des tests."
   ]
  },
  {
   "cell_type": "code",
   "execution_count": null,
   "metadata": {
    "editable": false
   },
   "outputs": [],
   "source": [
    "class TacheNonTrouvee(Exception):\n",
    "    pass\n",
    "\n",
    "\n",
    "class ListeTaches:\n",
    "    def __init__(self):\n",
    "        self._tache = {}\n",
    "        self._fait = {}\n",
    "        self._compteur_tache = 1\n",
    "\n",
    "    @property\n",
    "    def taches(self):\n",
    "        return self._tache\n",
    "\n",
    "    @property\n",
    "    def taches_faites(self):\n",
    "        return self._fait\n",
    "\n",
    "    def ajouter(self, tache):\n",
    "        self._tache[self._compteur_tache] = tache\n",
    "        self._compteur_tache += 1\n",
    "\n",
    "    def achever(self, nombre):\n",
    "        if nombre not in self._tache:\n",
    "            raise TacheNonTrouvee(f\"{nombre} n'est pas dans la liste\")\n",
    "\n",
    "        tache = self._tache.pop(nombre)\n",
    "        self._fait[nombre] = tache\n",
    "\n",
    "    def supprimer(self, nombre):\n",
    "        if nombre not in self._tache:\n",
    "            raise TacheNonTrouvee(f\"{nombre} n'est pas dans la liste\")\n",
    "\n",
    "        del self._tache[nombre]"
   ]
  },
  {
   "cell_type": "markdown",
   "metadata": {},
   "source": [
    "Finaliser les tests pour `ListeTaches`."
   ]
  },
  {
   "cell_type": "code",
   "execution_count": null,
   "metadata": {},
   "outputs": [],
   "source": [
    "%%run_pytest[clean]\n",
    "\n",
    "\n",
    "@pytest.fixture()\n",
    "def liste_taches():\n",
    "    lt = ListeTaches()\n",
    "    lt.ajouter('acheter du lait')\n",
    "    lt.ajouter('sortir le chien')\n",
    "    lt.ajouter('apprendre les fixtures de pytest')\n",
    "    return lt\n",
    "\n",
    "\n",
    "def test_taches_property(liste_taches):\n",
    "    a_faire = liste_taches.taches\n",
    "    assert a_faire == {\n",
    "        1: 'acheter du lait',\n",
    "        2: 'sortir le chien',\n",
    "        3: 'apprendre les fixtures de pytest',\n",
    "    }\n",
    "\n",
    "\n",
    "def test_ajouter(liste_taches):\n",
    "    liste_taches.ajouter('Vérifier dans la doc de pytest')\n",
    "    a_faire = liste_taches.taches\n",
    "    assert a_faire[4] == 'Vérifier dans la doc de pytest'\n",
    "\n",
    "\n",
    "def test_achever(liste_taches):\n",
    "    # S'assurer qu'aucune tache n'a encore été faite\n",
    "    assert not liste_taches.taches_faites\n",
    "\n",
    "    liste_taches.achever(3)\n",
    "    fait = liste_taches.taches_faites\n",
    "    a_faire = liste_taches.taches\n",
    "    assert fait[3] == 'apprendre les fixtures de pytest'\n",
    "    assert 3 not in a_faire\n",
    "\n",
    "\n",
    "def test_achever_avec_no_tache_inconnu(liste_taches):\n",
    "    # Voila comment tester qu'une certaine exception est bien levée\n",
    "    with pytest.raises(TacheNonTrouvee):\n",
    "        liste_taches.achever(10)\n",
    "\n",
    "\n",
    "def test_supprimer(liste_taches):\n",
    "    liste_taches.supprimer(1)\n",
    "    fait = liste_taches.taches_faites\n",
    "    a_faire = liste_taches.taches\n",
    "\n",
    "    assert 1 not in a_faire\n",
    "    # S'assurer que la tache n'a pas été mise dans fait\n",
    "    assert 1 not in fait\n",
    "\n",
    "\n",
    "def test_supprimer_avec_no_tache_inconnu(liste_taches):\n",
    "    with pytest.raises(TacheNonTrouvee):\n",
    "        liste_taches.supprimer(12)\n"
   ]
  },
  {
   "cell_type": "markdown",
   "metadata": {},
   "source": [
    "# 2. Tester les [nombres de Fibonacci](https://en.wikipedia.org/wiki/Fibonacci_number)\n",
    "\n",
    "Implémenter un test pour la fonction `fibonacci`. Utiliser `pytest.mark.parametrize` et tester au moins avec les nombres: 0, 1, 2, 3, et 10. Vous pouvez trouver les résultats attendus et plus d'informations à propos des suites de Fibonacci [ici](https://en.wikipedia.org/wiki/Fibonacci_number)."
   ]
  },
  {
   "cell_type": "code",
   "execution_count": null,
   "metadata": {
    "editable": false
   },
   "outputs": [],
   "source": [
    "def fibonacci(nombre):\n",
    "    if nombre in [0, 1]:\n",
    "        return nombre\n",
    "    return fibonacci(nombre - 1) + fibonacci(nombre - 2)"
   ]
  },
  {
   "cell_type": "code",
   "execution_count": null,
   "metadata": {},
   "outputs": [],
   "source": [
    "%%run_pytest[clean]\n",
    "\n",
    "@pytest.mark.parametrize(\"nb,attendu\",[(0,0),(1,1),(2,1),(3,2),(10,55)])\n",
    "def test_fibonacci(nb, attendu):\n",
    "    resultat = fibonacci(nb)\n",
    "    assert resultat == attendu\n"
   ]
  }
 ],
 "metadata": {
  "kernelspec": {
   "display_name": "Python 3",
   "language": "python",
   "name": "python3"
  },
  "language_info": {
   "codemirror_mode": {
    "name": "ipython",
    "version": 3
   },
   "file_extension": ".py",
   "mimetype": "text/x-python",
   "name": "python",
   "nbconvert_exporter": "python",
   "pygments_lexer": "ipython3",
   "version": "3.6.8"
  }
 },
 "nbformat": 4,
 "nbformat_minor": 4
}
