{
 "cells": [
  {
   "cell_type": "markdown",
   "metadata": {},
   "source": [
    "# Découverte de quelques paquets de la [bibliothèque standard de Python](https://docs.python.org/3/library/#the-python-standard-library)"
   ]
  },
  {
   "cell_type": "markdown",
   "metadata": {},
   "source": [
    "La bibliothèque standard de Python (The Python Standard Libary) est intégrée à python lors de son installation. Elle contient de nombreux paquets qui peuvent s'avérer bien utiles pour réaliser des projets ambitieux.\n",
    "Nous allons découvrir quelques paquets très utilisés et leur principales fonctionnalités."
   ]
  },
  {
   "cell_type": "markdown",
   "metadata": {},
   "source": [
    "## [`datetime`](https://docs.python.org/3/library/datetime.html#module-datetime) pour travailler avec les dates et les horaires"
   ]
  },
  {
   "cell_type": "code",
   "execution_count": null,
   "metadata": {},
   "outputs": [],
   "source": [
    "import datetime as dt\n",
    "\n",
    "maintenant_ici = dt.datetime.now()\n",
    "print(f'Maintenant dans le système de temps local:\\n\\t {maintenant_ici}')\n",
    "\n",
    "# utc pour Temps universel coordonné (*Coordinated Universal Time*)\n",
    "maintenant_utc = dt.datetime.utcnow()\n",
    "print(f'Maintenant dans le système de temps universel\\n\\t: {maintenant_utc}')\n",
    "\n",
    "# vous pouvez utiliser chaque valeur séparemment:\n",
    "ici = maintenant_ici # pour raccourcir la saisie\n",
    "print(f'Nous sommes le {ici.day}/{ici.month}/{ici.year} et il est {ici.hour}h{ici.minute}m{ici.second}s')\n",
    "\n",
    "print(f'date: {ici.date()}')\n",
    "print(f'heure: {ici.time()}')"
   ]
  },
  {
   "cell_type": "markdown",
   "metadata": {},
   "source": [
    "### `strftime()`"
   ]
  },
  {
   "cell_type": "markdown",
   "metadata": {},
   "source": [
    "Pour formater la chaîne de caractère du `datetime`:"
   ]
  },
  {
   "cell_type": "code",
   "execution_count": null,
   "metadata": {},
   "outputs": [],
   "source": [
    "ici = dt.datetime.now()\n",
    "# %d -> jour(day); %m -> mois(month); %Y -> année(Year)\n",
    "# %H -> heure; %M -> minute; %S -> seconde\n",
    "formatee1 = ici.strftime('%d/%m/%Y-%H:%M:%S')\n",
    "print(formatee1)\n",
    "\n",
    "formatee2 = ici.strftime('date: %d-%m-%Y\\nheure: %Hh%M et %Ssec')\n",
    "print(formatee2)"
   ]
  },
  {
   "cell_type": "markdown",
   "metadata": {},
   "source": [
    "### `strptime()`"
   ]
  },
  {
   "cell_type": "markdown",
   "metadata": {},
   "source": [
    "Pour convertir une chaîne qui représente un «datetime» en un objet `datetime`"
   ]
  },
  {
   "cell_type": "code",
   "execution_count": null,
   "metadata": {},
   "outputs": [],
   "source": [
    "mon_dt = dt.datetime.strptime('01-01-2020 10:00:00', '%d-%m-%Y %H:%M:%S')\n",
    "print(f'mon_dt: {mon_dt}')"
   ]
  },
  {
   "cell_type": "markdown",
   "metadata": {},
   "source": [
    "### [`timedelta`](https://docs.python.org/3/library/datetime.html#timedelta-objects)"
   ]
  },
  {
   "cell_type": "markdown",
   "metadata": {},
   "source": [
    "Pour travailler avec les durées."
   ]
  },
  {
   "cell_type": "code",
   "execution_count": null,
   "metadata": {},
   "outputs": [],
   "source": [
    "maintenant = dt.datetime.now()\n",
    "plus_tard = maintenant + dt.timedelta(days=7)\n",
    "print(f'La semaine prochaine à cette heure: {plus_tard}')"
   ]
  },
  {
   "cell_type": "code",
   "execution_count": null,
   "metadata": {},
   "outputs": [],
   "source": [
    "delta = plus_tard - dt.datetime.now()\n",
    "print(f'futur - maintenant = {delta}')\n",
    "print(f'nombre de jours: {delta.days}, nombre de secondes: {delta.seconds}')\n",
    "print(f'durée totale en secondes: {delta.total_seconds()}')"
   ]
  },
  {
   "cell_type": "markdown",
   "metadata": {},
   "source": [
    "### Gérer les fuseaux horaires -*timezones*"
   ]
  },
  {
   "cell_type": "markdown",
   "metadata": {},
   "source": [
    "Nous utiliserons un paquet [`pytz`](http://pytz.sourceforge.net/) déjà installé sur le système."
   ]
  },
  {
   "cell_type": "code",
   "execution_count": null,
   "metadata": {},
   "outputs": [],
   "source": [
    "import datetime as dt\n",
    "import pytz\n",
    "\n",
    "maintenant_utc_naif = dt.datetime.utcnow()\n",
    "print(f'En UTC naïf: {maintenant_utc_naif}, tzinfo: { maintenant_utc_naif.tzinfo}')\n",
    "\n",
    "# Convertir un datetime naïf en un datetime avisé (en temps universel coordonnée - UTC)\n",
    "TZ_UTC = pytz.timezone('UTC')\n",
    "maintenant_utc = TZ_UTC.localize(maintenant_utc_naif)\n",
    "print(f'UTC: {maintenant_utc}, tzinfo: {maintenant_utc.tzinfo}')\n",
    "\n",
    "# Convertir un datetime avisé en un autre situé dans un fuseau horaire différent\n",
    "TZ_ATHENE = pytz.timezone('Europe/Athens')\n",
    "athene_maintenant = TZ_ATHENE.normalize(maintenant_utc)\n",
    "print(f'Athène: {athene_maintenant}, tzinfo: {athene_maintenant.tzinfo}')\n",
    "\n",
    "TZ_NEW_YORK = pytz.timezone('America/New_York')\n",
    "new_york_maintenant = TZ_NEW_YORK.normalize(maintenant_utc)\n",
    "print(f'New York: {new_york_maintenant}, tzinfo: {new_york_maintenant.tzinfo}')"
   ]
  },
  {
   "cell_type": "markdown",
   "metadata": {},
   "source": [
    "**NOTE**: Si votre projet utilise intensivement les dates et horaires, vous pouvez jeter un oeil à des bibliothèques externes comme [Pendulum](https://pendulum.eustace.io/docs/) et [Maya](https://github.com/kennethreitz/maya), qui facilitent le travail sur les données temporelles dans certain cas de figure."
   ]
  },
  {
   "cell_type": "markdown",
   "metadata": {},
   "source": [
    "## Produire un journal - [`logging`](https://docs.python.org/3/library/logging.html#module-logging)"
   ]
  },
  {
   "cell_type": "code",
   "execution_count": null,
   "metadata": {},
   "outputs": [],
   "source": [
    "import logging\n",
    "\n",
    "# Moyen commode pour obtenir un journal dédié - logger - pour chaque module séparement.\n",
    "logger = logging.getLogger(__name__)\n",
    "logger.setLevel(logging.WARNING)\n",
    "\n",
    "logger.debug('This is debug')\n",
    "logger.info('This is info')\n",
    "logger.warning('This is warning')\n",
    "logger.error('This is error')\n",
    "logger.critical('This is critical')"
   ]
  },
  {
   "cell_type": "markdown",
   "metadata": {},
   "source": [
    "### Journaliser les exceptions"
   ]
  },
  {
   "cell_type": "markdown",
   "metadata": {},
   "source": [
    "On trouve une petite fonction `exception` dans le module `logging` qui permet d'ajouter automatiquement à vos entrées personnelles les traces d'erreurs (stack trace) de votre code dans le journal. "
   ]
  },
  {
   "cell_type": "code",
   "execution_count": null,
   "metadata": {},
   "outputs": [],
   "source": [
    "try:\n",
    "    calcul_du_chemin = 1 / 0\n",
    "except ZeroDivisionError:\n",
    "    logging.exception('Tout est partie en live dans mes calculs')"
   ]
  },
  {
   "cell_type": "markdown",
   "metadata": {},
   "source": [
    "### Formater les entrées du journal - log -"
   ]
  },
  {
   "cell_type": "code",
   "execution_count": null,
   "metadata": {},
   "outputs": [],
   "source": [
    "import logging\n",
    "\n",
    "# Cette portion n'est nécessaire que dans le cadre d'un notebook jupyter\n",
    "from importlib import reload\n",
    "reload(logging)\n",
    "\n",
    "mon_format = '%(asctime)s | %(name)-12s | %(levelname)-10s | %(message)s'\n",
    "logging.basicConfig(format=mon_format)\n",
    "\n",
    "logger = logging.getLogger('MonJournal')\n",
    "\n",
    "logger.warning('Quelquechose de mauvais est entrain de se produire')\n",
    "logger.error('Oups, ça c\\'est déjà produit')"
   ]
  },
  {
   "cell_type": "markdown",
   "metadata": {},
   "source": [
    "### Écrire le journal dans un fichier"
   ]
  },
  {
   "cell_type": "code",
   "execution_count": null,
   "metadata": {},
   "outputs": [],
   "source": [
    "import os\n",
    "import logging\n",
    "\n",
    "# Cette portion n'est nécessaire que dans le cadre d'un notebook jupyter\n",
    "from importlib import reload\n",
    "reload(logging)\n",
    "\n",
    "logger = logging.getLogger('MonFichierJournal')\n",
    "\n",
    "# Précisons un fichier pour notre journal\n",
    "chemin_journal = os.path.join(os.getcwd(), 'mon_journal.txt')\n",
    "journal = logging.FileHandler(chemin_journal)\n",
    "\n",
    "# Ainsi qu'un format agréable\n",
    "formatter = logging.Formatter('%(asctime)s | %(name)-12s | %(levelname)-10s | %(message)s')\n",
    "journal.setFormatter(formatter)\n",
    "\n",
    "logger.addHandler(journal)\n",
    "\n",
    "# Si vous voulez le voir aussi dans la console, ajouter un autre «handler» pour cela\n",
    "# logger.addHandler(logging.StreamHandler())\n",
    "\n",
    "logger.warning(\"Oups quelquechose est entrain d'arriver\")\n",
    "logger.error(\"John Doe s'est infiltré dans la place\")"
   ]
  },
  {
   "cell_type": "markdown",
   "metadata": {},
   "source": [
    "## [`random`](https://docs.python.org/3/library/random.html) pour générer des nombres aléatoires"
   ]
  },
  {
   "cell_type": "code",
   "execution_count": null,
   "metadata": {},
   "outputs": [],
   "source": [
    "import random\n",
    "\n",
    "entier_alea = random.randint(1, 100)\n",
    "print(f'Entier aléatoire entre 1 et 100: {entier_alea}')\n",
    "\n",
    "alea = random.random()\n",
    "print(f'Flottant aléatoire entre 0 et 1: {alea}')"
   ]
  },
  {
   "cell_type": "markdown",
   "metadata": {},
   "source": [
    "Si vous avez besoin d'une séquence aléatoire reproductible, vous pouvez donner une graine - seed - à random (essayer de relancer la cellule plusieurs fois):"
   ]
  },
  {
   "cell_type": "code",
   "execution_count": null,
   "metadata": {},
   "outputs": [],
   "source": [
    "import random\n",
    "\n",
    "random.seed(5)  # Positionner la «graine» \n",
    "\n",
    "# Affichons 10 nombres au hasard\n",
    "for _ in range(10):\n",
    "    print(random.random())"
   ]
  },
  {
   "cell_type": "markdown",
   "metadata": {},
   "source": [
    "## [`re`](https://docs.python.org/3/library/re.html#module-re) pour les expressions régulières - regular expressions"
   ]
  },
  {
   "cell_type": "markdown",
   "metadata": {},
   "source": [
    "### Chercher des occurences"
   ]
  },
  {
   "cell_type": "code",
   "execution_count": null,
   "metadata": {},
   "outputs": [],
   "source": [
    "import re\n",
    "\n",
    "code_secret = 'qwret 8sfg12f5 fd09f_df'\n",
    "# \"r\" au début signifie «format brut» - raw format -, utiliser le avec les motifs d'expressions régulières\n",
    "motif_de_recherche = r'(g12)'\n",
    "\n",
    "correspondance = re.search(motif_de_recherche, code_secret)\n",
    "print(f'correspondance: {correspondance}')\n",
    "print(f'groupe de correspondance: {correspondance.group()}')\n",
    "\n",
    "motif_nombres = r'[0-9]'\n",
    "corresp_nbs = re.findall(motif_nombres, code_secret)\n",
    "print(f'nombres: {corresp_nbs}')"
   ]
  },
  {
   "cell_type": "markdown",
   "metadata": {},
   "source": [
    "### Validation de variable"
   ]
  },
  {
   "cell_type": "code",
   "execution_count": null,
   "metadata": {},
   "outputs": [],
   "source": [
    "import re\n",
    "\n",
    "def valider_lettres_minuscules_seulement(a_valider):\n",
    "    motif = r'^[a-z]+$'\n",
    "    return bool(re.match(motif, a_valider))\n",
    "\n",
    "print(valider_lettres_minuscules_seulement('devraitfonctionner'))\n",
    "print(valider_lettres_minuscules_seulement('nedevraitpas fonctionner'))\n",
    "print(valider_lettres_minuscules_seulement('Nedevraitpasfonctionner'))\n",
    "print(valider_lettres_minuscules_seulement('celanonplus1'))\n",
    "print(valider_lettres_minuscules_seulement(''))"
   ]
  },
  {
   "cell_type": "markdown",
   "metadata": {},
   "source": [
    "# Exercices"
   ]
  },
  {
   "cell_type": "markdown",
   "metadata": {},
   "source": [
    "## 1. Jouons avec les datetimes"
   ]
  },
  {
   "cell_type": "markdown",
   "metadata": {},
   "source": [
    "On vous donne un datetime naïf, voir la variable `NAIF_DT` ci-dessous. Bien que cette variable soit naive, il se trouve que vous savez que le temps contenu dans `NAIF_DT` est en UTC.\n",
    "\n",
    "En vous basant sur cette information, votre tache est de créer trois nouvelles variables datetime en convertissant `NAIF_DT` en UTC et ensuite en des temps valable pour Sydney et pour Los Angeles. Utilisez les noms de variables: `utc_dt`, `sydney_dt`, and `la_dt`. "
   ]
  },
  {
   "cell_type": "code",
   "execution_count": null,
   "metadata": {
    "editable": false
   },
   "outputs": [],
   "source": [
    "import datetime as dt\n",
    "import pytz\n",
    "\n",
    "NAIF_DT = dt.datetime(2000, 1, 1, 10)"
   ]
  },
  {
   "cell_type": "markdown",
   "metadata": {},
   "source": [
    "Si vous ne connaissez pas le nom du fuseau horaire (timezone) que vous rechercher, cela pourait être bien utile:"
   ]
  },
  {
   "cell_type": "code",
   "execution_count": null,
   "metadata": {
    "scrolled": true
   },
   "outputs": [],
   "source": [
    "for tz in pytz.all_timezones:\n",
    "    print(tz)"
   ]
  },
  {
   "cell_type": "markdown",
   "metadata": {},
   "source": [
    "À présent créer `utc_dt`, `sydney_dt`, et `la_dt`."
   ]
  },
  {
   "cell_type": "code",
   "execution_count": null,
   "metadata": {},
   "outputs": [],
   "source": [
    "# À vous de jouer!"
   ]
  },
  {
   "cell_type": "markdown",
   "metadata": {},
   "source": [
    "Vérifions que la solution est correcte."
   ]
  },
  {
   "cell_type": "code",
   "execution_count": null,
   "metadata": {
    "editable": false
   },
   "outputs": [],
   "source": [
    "assert utc_dt.isoformat() == '2000-01-01T10:00:00+00:00'\n",
    "assert sydney_dt.isoformat() == '2000-01-01T21:00:00+11:00'\n",
    "assert la_dt.isoformat() == '2000-01-01T02:00:00-08:00'\n",
    "\n",
    "print('Tout va bien!')"
   ]
  },
  {
   "cell_type": "markdown",
   "metadata": {},
   "source": [
    "### Solution"
   ]
  },
  {
   "cell_type": "code",
   "execution_count": null,
   "metadata": {
    "jupyter": {
     "source_hidden": true
    }
   },
   "outputs": [],
   "source": [
    "utc_dt = pytz.timezone('UTC').localize(NAIF_DT)\n",
    "sydney_dt = pytz.timezone('Australia/Sydney').normalize(utc_dt)\n",
    "la_dt = pytz.timezone('America/Los_Angeles').normalize(utc_dt)"
   ]
  }
 ],
 "metadata": {
  "kernelspec": {
   "display_name": "Python 3",
   "language": "python",
   "name": "python3"
  },
  "language_info": {
   "codemirror_mode": {
    "name": "ipython",
    "version": 3
   },
   "file_extension": ".py",
   "mimetype": "text/x-python",
   "name": "python",
   "nbconvert_exporter": "python",
   "pygments_lexer": "ipython3",
   "version": "3.7.3"
  }
 },
 "nbformat": 4,
 "nbformat_minor": 4
}
