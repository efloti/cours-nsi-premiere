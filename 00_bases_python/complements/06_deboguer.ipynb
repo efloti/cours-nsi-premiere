{
 "cells": [
  {
   "cell_type": "markdown",
   "metadata": {},
   "source": [
    "# Déboguer avec [`pdb`](https://docs.python.org/3/library/pdb.html#module-pdb)"
   ]
  },
  {
   "cell_type": "markdown",
   "metadata": {},
   "source": [
    "Votre programme ne se comporte pas toujours comme vous l'espérez. \n",
    "Si l'origine de l'erreur n'est pas claire, déboguer est la façon la plus efficace pour découvrir la cause principale du comportement inattendu.\n",
    "La bibliothèque standard de Python fournie un débogueur qui est un puissant outil pour résoudre n'importe quel problème relatif à votre code."
   ]
  },
  {
   "cell_type": "markdown",
   "metadata": {},
   "source": [
    "## `import pdb; pdb.set_trace()`"
   ]
  },
  {
   "cell_type": "markdown",
   "metadata": {},
   "source": [
    "Le cas d'utilisation basique pour déboguer est de vouloir stopper l'éxécution du programme à un certain point du code et visualiser les valeurs des variables et de l'éxécution du programme à partir de ce point. \n",
    "\n",
    "Pour cela, vous placer un point d'arrêt -*breakpoint*- à l'endroit voulu de votre code en utilisant `import pdb; pdb.set_trace()` (note: à partir des versions >= 3.7 de python, il y a un raccourci: `breakpoint()`).\n",
    "\n",
    "Lorsque vous éxécutez votre programme, l'éxécution s'arrêtera à ce point et vous entrerez dans une session interactive du débogueur. Vous pouvez mettre autant de points d'arrêt que vous le souhaitez."
   ]
  },
  {
   "cell_type": "markdown",
   "metadata": {},
   "source": [
    "## Commandes les plus utiles"
   ]
  },
  {
   "cell_type": "markdown",
   "metadata": {},
   "source": [
    "Voir la liste complète [ici](https://docs.python.org/3/library/pdb.html#debugger-commands).\n",
    "\n",
    "* `h` or `help`: Affiche la liste des commandes disponibles. Si vous donnez un argument, par exemple `help continue`, cela affichera l'aide pour la commande `continue`.\n",
    "* `l` or `list`: affiche le morceau du code situé autour de la position courrante du débogueur.\n",
    "* `n` or `next`: Exécute la ligne suivante.\n",
    "* `s` or `step`: Similaire à `next` mais entre dans la fonction appelée à la ligne suivante: \"steps into\" \n",
    "* `c` or `continue`: Poursuis l'éxécution jusqu'au prochain point d'arrêt.\n",
    "* `r` or `return`: Poursuis l'éxécution juqu'au retour de la fonction courante.\n",
    "* `q` or `quit`: quitte le débogueur et interrompt l'éxécution du programme.\n",
    "\n",
    "Noter que vous pouvez voir la valeur courante d'une variable en saisissant son nom pendant la session de débogage. Vous pouvez aussi éxécuter du code pendant ces sessions."
   ]
  },
  {
   "cell_type": "markdown",
   "metadata": {},
   "source": [
    "## Voyons comment cela fonctionne"
   ]
  },
  {
   "cell_type": "markdown",
   "metadata": {},
   "source": [
    "Supprimer le `#` au début des lignes `import pdb; pdb.set_trace()` et éxécuter la cellule. Éxécuter alors le programme ligne par ligne en utilisant les commandes données ci-dessus. Essayer les toutes au moins une fois et soyez attentif à la différence entre `n` et `s`."
   ]
  },
  {
   "cell_type": "code",
   "execution_count": null,
   "metadata": {},
   "outputs": [],
   "source": [
    "class SuperSaluateur:\n",
    "    def __init__(self, gens_a_saluer):\n",
    "        self.gens = gens_a_saluer\n",
    "\n",
    "    def saluer(self):\n",
    "        for personne in self.gens:\n",
    "            if personne.islower():\n",
    "                self._saluer_genre_rue(personne)\n",
    "            elif len(personne) > 7:\n",
    "                self._saluer_hawaii(personne)\n",
    "            else:\n",
    "                self._saluer_poliment(personne)\n",
    "            \n",
    "    def _saluer_poliment(self, nom):\n",
    "        salutation = f\"Bonjour {nom}! Comment allez-vous?\"\n",
    "        print(salutation)\n",
    "\n",
    "    def _saluer_genre_rue(self, nom):\n",
    "        # import pdb; pdb.set_trace()  # supprimer le premier #\n",
    "        nom = nom.upper()\n",
    "        print(f'OUAICHE, comment va {nom}!?')\n",
    "\n",
    "    def _saluer_hawaii(self, nom):\n",
    "        print(f'Aloha {nom}!')\n",
    "\n",
    "\n",
    "def main():\n",
    "    gens = ['John Doe', 'Donald', 'Lisa', 'alex']\n",
    "    # import pdb; pdb.set_trace()  # supprimer le premier #\n",
    "    saluateur = SuperSaluateur(gens)\n",
    "    saluateur.saluer()\n",
    "\n",
    "\n",
    "main()"
   ]
  },
  {
   "cell_type": "markdown",
   "metadata": {},
   "source": [
    "# Exercices"
   ]
  },
  {
   "cell_type": "markdown",
   "metadata": {},
   "source": [
    "## 1. Identifier les bugs de ce code"
   ]
  },
  {
   "cell_type": "markdown",
   "metadata": {},
   "source": [
    "La fonction `sans_blanc_renverser_minuscule` qui suit contient au moins un bug. Vous pouvez vous en apercevoir en éxécutant la cellule qui teste les fonctionnalités de cette fonction.\n",
    "\n",
    "Placer un point d'arrêt au début de la fonction `sans_blanc_renverser_minuscule` et utiliser le débogueur pour résoudre le ou les bugs. Éxécuter le code ligne par ligne et afficher les variables utilisées dans la fonction pour comprendre ce qui ne va pas."
   ]
  },
  {
   "cell_type": "code",
   "execution_count": null,
   "metadata": {},
   "outputs": [],
   "source": [
    "def sans_blanc_renverser_minuscule(original):\n",
    "    # Placer un point d'arrêt ici et commencer à déboguer\n",
    "    sans_blanc = original.lstrip()\n",
    "    reversed = ' '.join(reversed(sans_blanc))\n",
    "    reversed.lower()\n",
    "    return reversed"
   ]
  },
  {
   "cell_type": "code",
   "execution_count": null,
   "metadata": {
    "editable": false
   },
   "outputs": [],
   "source": [
    "# Vérifions que cela fonctionnne\n",
    "original = ' \\n Chaine Originale '\n",
    "resultat = sans_blanc_renverser_minuscule(original)\n",
    "assert resultat == 'elanigiro eniahc'"
   ]
  },
  {
   "cell_type": "markdown",
   "metadata": {},
   "source": [
    "### Solution"
   ]
  },
  {
   "cell_type": "code",
   "execution_count": null,
   "metadata": {
    "jupyter": {
     "source_hidden": true
    }
   },
   "outputs": [],
   "source": [
    "def sans_blanc_renverser_minuscule(original):\n",
    "    sans_blanc = original.strip()             # 1. `strip` à la place de `lstrip`\n",
    "    reversed_ = ''.join(reversed(sans_blanc)) # 2. `reversed` est prédéfinie -> astuce de l'underscore final\n",
    "                                              # 3. le séparateur est '' et non ' '  \n",
    "    minuscule = reversed_.lower()             # 4. ne pas oublier d'affecter le résultat de la méthode lower() à une variable.\n",
    "    return minuscule"
   ]
  }
 ],
 "metadata": {
  "kernelspec": {
   "display_name": "Python 3",
   "language": "python",
   "name": "python3"
  },
  "language_info": {
   "codemirror_mode": {
    "name": "ipython",
    "version": 3
   },
   "file_extension": ".py",
   "mimetype": "text/x-python",
   "name": "python",
   "nbconvert_exporter": "python",
   "pygments_lexer": "ipython3",
   "version": "3.7.3"
  }
 },
 "nbformat": 4,
 "nbformat_minor": 4
}
