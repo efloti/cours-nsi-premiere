{
 "cells": [
  {
   "cell_type": "markdown",
   "metadata": {},
   "source": [
    "# [Entrée/Sortie fichier - File I/O](https://docs.python.org/3/tutorial/inputoutput.html#reading-and-writing-files)\n",
    "Lire et écrire un fichier.\n",
    "\n",
    "**ATTENTION**: il est indispensable de *copier ce fichier* ainsi que le *répertoire* `donnees` dans un même lieu pour que tout fonctionne bien."
   ]
  },
  {
   "cell_type": "markdown",
   "metadata": {},
   "source": [
    "## Travailler avec les chemins -*paths*-"
   ]
  },
  {
   "cell_type": "code",
   "execution_count": null,
   "metadata": {},
   "outputs": [],
   "source": [
    "import os\n",
    "\n",
    "fichier_courant = os.path.realpath('02_les_fichiers.ipynb')  \n",
    "print(f'fichier courant: {fichier_courant}')\n",
    "# Note: dans un fichier .py vous pouvez obtenir le chemin du fichier courant avec la variable prédéfinie __file__\n",
    "\n",
    "dossier_courant = os.path.dirname(fichier_courant)  \n",
    "print(f'dossier courant: {dossier_courant}')\n",
    "# Note: dans un fichier .py vous pouvez obtenir le chemin du répertoire courant en utilisant os.path.dirname(__file__)\n",
    "\n",
    "dossier_de_donnees = os.path.join(dossier_courant, 'donnees')\n",
    "print(f'dossier de données: {dossier_de_donnees}')"
   ]
  },
  {
   "cell_type": "markdown",
   "metadata": {},
   "source": [
    "### Vérifier qu'un chemin existe"
   ]
  },
  {
   "cell_type": "code",
   "execution_count": null,
   "metadata": {},
   "outputs": [],
   "source": [
    "print(f'existe-t-il ? {os.path.exists(dossier_de_donnees)}')\n",
    "print(f'est-ce un fichier ? {os.path.isfile(dossier_de_donnees)}')\n",
    "print(f'est-ce un répertoire ? {os.path.isdir(dossier_de_donnees)}')"
   ]
  },
  {
   "cell_type": "markdown",
   "metadata": {},
   "source": [
    "## Lire un fichier"
   ]
  },
  {
   "cell_type": "code",
   "execution_count": null,
   "metadata": {},
   "outputs": [],
   "source": [
    "chemin_fichier = os.path.join(dossier_de_donnees, 'simple_fichier.txt')\n",
    "\n",
    "with open(chemin_fichier, 'r') as simple_fichier:\n",
    "    for ligne in simple_fichier:\n",
    "        print(ligne.strip())"
   ]
  },
  {
   "cell_type": "markdown",
   "metadata": {},
   "source": [
    "La construction [`with`](https://docs.python.org/3/reference/compound_stmts.html#the-with-statement) sert à obtenir un manager de contexte -[context manager](https://docs.python.org/3/reference/datamodel.html#with-statement-context-managers)- qui sera utilisé comme un contexte d'exécution pour les commandes à l'intérieur du bloc `with`. Les managers de contextes garantissent qu'un certain nombre d'opérations seront réalisées lorsqu'on quitte le contexte. \n",
    "\n",
    "Dans ce cas, le manager de contexte garanti la fermeture du fichier - `simple_fichier.close()` est appelé implicitement - lorsqu'on sort du bloc de contexte. C'est une façon de simplifier la vie du développeur: vous n'avez pas à vous occuper de la fermeture du fichier ni de la survenue d'erreur à l'ouverture du fichier. Oublier de fermer un fichier peut conduire à de sérieux problèmes ... (c'est une ressource partagée).\n",
    "\n",
    "Ainsi, pour les entrées/sorties fichier, il est toujours préférable d'utilisé la construction `with open(...) as <nom>:`\n",
    "\n",
    "Pour vous donner un exemple, le même que précédemment sans le `with`:"
   ]
  },
  {
   "cell_type": "code",
   "execution_count": null,
   "metadata": {},
   "outputs": [],
   "source": [
    "chemin_fichier = os.path.join(dossier_de_donnees, 'simple_fichier.txt')\n",
    "\n",
    "# ÉVITER CETTE FAÇON DE FAIRE\n",
    "simple_fichier = open(chemin_fichier, 'r')\n",
    "for ligne in simple_fichier:\n",
    "    print(ligne.strip())\n",
    "simple_fichier.close()  # Nous sommes obligés de fermer le fichier explicitement"
   ]
  },
  {
   "cell_type": "markdown",
   "metadata": {},
   "source": [
    "## Écrire dans un fichier"
   ]
  },
  {
   "cell_type": "code",
   "execution_count": null,
   "metadata": {},
   "outputs": [],
   "source": [
    "nouveau_chemin_fichier = os.path.join(dossier_de_donnees, 'nouveau_fichier.txt')\n",
    "\n",
    "with open(nouveau_chemin_fichier, 'w') as mon_fichier:\n",
    "    mon_fichier.write(\"C'est le premier fichier que j'écris avec Python.\")"
   ]
  },
  {
   "cell_type": "markdown",
   "metadata": {},
   "source": [
    "Après ça, assurez-vous qu'un fichier 'nouveau_fichier.txt' se trouve dans le dossier de données. \n",
    "\n",
    "Pour le supprimer:"
   ]
  },
  {
   "cell_type": "code",
   "execution_count": null,
   "metadata": {},
   "outputs": [],
   "source": [
    "if os.path.exists(nouveau_chemin_fichier):  # assurons-nous qu'il est bien présent.\n",
    "    os.remove(nouveau_chemin_fichier)"
   ]
  },
  {
   "cell_type": "markdown",
   "metadata": {},
   "source": [
    "# Exercices"
   ]
  },
  {
   "cell_type": "code",
   "execution_count": null,
   "metadata": {
    "editable": false
   },
   "outputs": [],
   "source": [
    "# ÉXÉCUTER CETTE CELLULE AVANT TOUT!\n",
    "\n",
    "# Constantes pour les exercices:\n",
    "REPERTOIRE_COURANT = os.getcwd()\n",
    "REPERTOIRE_DONNEES = os.path.join(REPERTOIRE_COURANT, 'donnees')"
   ]
  },
  {
   "cell_type": "markdown",
   "metadata": {},
   "source": [
    "## 1. Ajouter des nombres contenus dans un fichier\n",
    "Compléter les parties manquantes  ____  du code qui suit. La fonction `somme_nombres_dans_fichier` prend un chemin de fichier en argument, lis les nombres qu'il contient ligne à ligne et retourne la somme de ces nombres. Vous pouvez supposer que chaque ligne contient exactement un valeur numérique."
   ]
  },
  {
   "cell_type": "code",
   "execution_count": null,
   "metadata": {},
   "outputs": [],
   "source": [
    "def somme_nombres_dans_fichier(chemin_fichier):\n",
    "    sum_ = 0  # Astuce: un moyen courant d'utiliser une variable en conflit avec un nom prédéfini\n",
    "              #  est de le faire suivre d'un caractère de soulignement _ (underscore)\n",
    "    with ____(chemin_fichier, ____) as ____:\n",
    "        for ligne in ____:\n",
    "            ____ = ligne.strip()  # Supprimer des caractères «blancs» éventuels \n",
    "            ____ += float(____)   # conversion str -> float\n",
    "    return ____"
   ]
  },
  {
   "cell_type": "code",
   "execution_count": null,
   "metadata": {
    "editable": false
   },
   "outputs": [],
   "source": [
    "fichier_nombres = os.path.join(REPERTOIRE_DONNEES, 'nombres.txt')\n",
    "assert somme_nombres_dans_fichier(fichier_nombres) == 189.5"
   ]
  },
  {
   "cell_type": "markdown",
   "metadata": {},
   "source": [
    "### Solution"
   ]
  },
  {
   "cell_type": "code",
   "execution_count": null,
   "metadata": {
    "jupyter": {
     "source_hidden": true
    }
   },
   "outputs": [],
   "source": [
    "def somme_nombres_dans_fichier(chemin_fichier):\n",
    "    sum_ = 0  # Astuce: un moyen courant d'utiliser une variable en conflit avec un nom prédéfini\n",
    "              #  est de le faire suivre d'un caractère de soulignement _ (underscore)\n",
    "    with open(chemin_fichier, 'r') as le_fichier:\n",
    "        for ligne in le_fichier:\n",
    "            chaine_nb = ligne.strip()  # Supprimer des caractères «blancs» éventuels \n",
    "            sum_ += float(chaine_nb)   # conversion str -> float\n",
    "    return sum_"
   ]
  },
  {
   "cell_type": "markdown",
   "metadata": {},
   "source": [
    "## 2. Lire le premier mot de chaque ligne d'un fichier\n",
    "Implémenter la fonction `trouver_premier_mots` qui prend un chemin de fichier en argument. La fonction devrait trouver le premier mot de chaque ligne du fichier et retourner ces mots dans une liste. Si une ligne est vide, la liste devrait contenir une chaîne vide pour cette ligne."
   ]
  },
  {
   "cell_type": "code",
   "execution_count": null,
   "metadata": {},
   "outputs": [],
   "source": [
    "# À toi de jouer!"
   ]
  },
  {
   "cell_type": "code",
   "execution_count": null,
   "metadata": {
    "editable": false
   },
   "outputs": [],
   "source": [
    "fichier_1 = os.path.join(REPERTOIRE_DONNEES, 'simple_fichier.txt')\n",
    "fichier_2 = os.path.join(REPERTOIRE_DONNEES, 'simple_fichier_avec_des_lignes_vides.txt')\n",
    "\n",
    "attendu_pour_fichier_1 = ['Première', 'Deuxième', 'Troisième', 'Et']\n",
    "assert trouver_premier_mots(fichier_1) == attendu_pour_fichier_1\n",
    "\n",
    "attendu_pour_fichier_2 = ['Le', '', 'Premier', 'sans', '', 'Puis']\n",
    "assert trouver_premier_mots(fichier_2) == attendu_pour_fichier_2"
   ]
  },
  {
   "cell_type": "markdown",
   "metadata": {},
   "source": [
    "### Solution"
   ]
  },
  {
   "cell_type": "code",
   "execution_count": null,
   "metadata": {
    "jupyter": {
     "source_hidden": true
    }
   },
   "outputs": [],
   "source": [
    "def trouver_premier_mots(chemin_fichier):\n",
    "    liste_a_retourner = []\n",
    "    with open(chemin_fichier, 'r') as le_fichier:\n",
    "        for ligne in le_fichier:\n",
    "            mots = ligne.split()\n",
    "            if len(mots) != 0:\n",
    "                premier_mot = mots[0]\n",
    "            else:\n",
    "                premier_mot = ''\n",
    "            liste_a_retourner.append(premier_mot)\n",
    "    return liste_a_retourner"
   ]
  }
 ],
 "metadata": {
  "kernelspec": {
   "display_name": "Python 3",
   "language": "python",
   "name": "python3"
  },
  "language_info": {
   "codemirror_mode": {
    "name": "ipython",
    "version": 3
   },
   "file_extension": ".py",
   "mimetype": "text/x-python",
   "name": "python",
   "nbconvert_exporter": "python",
   "pygments_lexer": "ipython3",
   "version": "3.7.3"
  }
 },
 "nbformat": 4,
 "nbformat_minor": 4
}
