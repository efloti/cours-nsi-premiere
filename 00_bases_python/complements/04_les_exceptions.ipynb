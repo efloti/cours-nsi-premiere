{
 "cells": [
  {
   "cell_type": "markdown",
   "metadata": {},
   "source": [
    "# [Les Exceptions](https://docs.python.org/3/library/exceptions.html#concrete-exceptions)"
   ]
  },
  {
   "cell_type": "markdown",
   "metadata": {},
   "source": [
    "Lorsque quelquechose ne va pas, une exception est «levée» \\[*raise*\\]. Par exemple, si vous essayer de diviser par 0, une exception `ZeroDivisionError` est «lançée» ou, si vous essayer d'accéder à une clé qui n'existe pas dans un dictionnaire, l'exception `KeyError` est levée."
   ]
  },
  {
   "cell_type": "code",
   "execution_count": null,
   "metadata": {},
   "outputs": [],
   "source": [
    "dictionnaire_vide = {}\n",
    "# dictionnaire_vide['clé']  # supprimer le commentaire pour voir ce que cela donne (traceback)"
   ]
  },
  {
   "cell_type": "markdown",
   "metadata": {},
   "source": [
    "## Construction`try-except` "
   ]
  },
  {
   "cell_type": "markdown",
   "metadata": {},
   "source": [
    "Si vous savez qu'une portion de code peut échouer d'une façon ou d'une autre, vous pouvez utiliser la construction `try-except` afin de gérer une éventuelle exception dans le sens désiré."
   ]
  },
  {
   "cell_type": "code",
   "execution_count": null,
   "metadata": {},
   "outputs": [],
   "source": [
    "# Essayons d'ouvrir un fichier qui n'existe pas\n",
    "nom_fichier = 'fichier_inexistant.txt'\n",
    "\n",
    "try:\n",
    "    with open(nom_fichier, 'r') as mon_fichier:\n",
    "        print('Le fichier a bien été ouvert en lecture')\n",
    "        \n",
    "except FileNotFoundError as exception:\n",
    "    print(f'Oups, le fichier \"{nom_fichier}\" n\\'a pas été trouvé!')\n",
    "    print(f'L\\'exception:\\n\\t {exception}\\na été levée')"
   ]
  },
  {
   "cell_type": "markdown",
   "metadata": {},
   "source": [
    "Si vous ne connaissez pas le type exact d'exceptions que le code pourrait lancée, vous pouvez utiliser `Exception` qui «attrapera» n'importe quelle exception. De plus, vous pouvez avoir autant d'instructions `except` que vous voulez."
   ]
  },
  {
   "cell_type": "code",
   "execution_count": null,
   "metadata": {},
   "outputs": [],
   "source": [
    "def calculer_division(var1, var2):\n",
    "    resultat = 0\n",
    "    \n",
    "    try:\n",
    "        resultat = var1 / var2\n",
    "    except ZeroDivisionError as e1:\n",
    "        print(\"Impossible de diviser par zéro!\")\n",
    "    except Exception as e2:\n",
    "        print(f'Exception: {e2}')\n",
    "\n",
    "    return resultat\n",
    "\n",
    "resultat1 = calculer_division(3, 3)\n",
    "print(f'resultat1: {resultat1}')\n",
    "\n",
    "resultat2 = calculer_division(3, '3')\n",
    "print(f'resultat2: {resultat2}')\n",
    "\n",
    "resultat3 = calculer_division(3, 0)\n",
    "print(f'resultat3: {resultat3}')"
   ]
  },
  {
   "cell_type": "markdown",
   "metadata": {},
   "source": [
    "La construction `try-except` peut aussi se trouver en dehors de la portée de la fonction:"
   ]
  },
  {
   "cell_type": "code",
   "execution_count": null,
   "metadata": {},
   "outputs": [],
   "source": [
    "def calculer_division(var1, var2):\n",
    "    return var1 / var2\n",
    "\n",
    "try:\n",
    "    resultat = calculer_division(3, '3')\n",
    "except Exception as e:\n",
    "    print(e)"
   ]
  },
  {
   "cell_type": "markdown",
   "metadata": {},
   "source": [
    "## Créer vos propres exceptions"
   ]
  },
  {
   "cell_type": "markdown",
   "metadata": {},
   "source": [
    "Dans vos propres applications, vous pouvez customisez les exceptions pour avertir et informer les utilisateurs à propos des erreurs qui apparaîssent lorsqu'il éxécutre votre application.  "
   ]
  },
  {
   "cell_type": "code",
   "execution_count": null,
   "metadata": {},
   "outputs": [],
   "source": [
    "import math\n",
    "\n",
    "# Définir des exceptions personnalisées\n",
    "class AllergieAuxNombresNegatifs(Exception):\n",
    "    pass\n",
    "\n",
    "# Exemple «idiot» sur la façon d'utiliser vos exceptions\n",
    "def calcul_secret(nombre1, nombre2):\n",
    "    if nombre1 < 0 or nombre2 < 0:\n",
    "        message = (f'Nombres négatifs pour au moins l\\'un des deux paramètres: {nombre1}, {nombre2}\\n'\n",
    "                  '\\t--> je suis allergique aux nombres négatifs aaaaaaaah!!')\n",
    "        raise AllergieAuxNombresNegatifs(message)\n",
    "\n",
    "    return math.sqrt(nombre1) + math.sqrt(nombre2)\n",
    "\n",
    "# Supprimer le commentaire pour voir voir le résultat\n",
    "# resultat = calcul_secret(-1, 1)"
   ]
  },
  {
   "cell_type": "markdown",
   "metadata": {},
   "source": [
    "Pour lever une exception, utilisez `raise <Exception>`."
   ]
  },
  {
   "cell_type": "markdown",
   "metadata": {},
   "source": [
    "# Exercices"
   ]
  },
  {
   "cell_type": "markdown",
   "metadata": {},
   "source": [
    "## 1. Gérer les exceptions - Dealing with exceptions"
   ]
  },
  {
   "cell_type": "markdown",
   "metadata": {},
   "source": [
    "Compléter les portions manquantes `____` du code qui suit. La fonction `sommer_liste` attend une liste comme argument et calcule la somme des valeurs qui s'y trouvent. Si des éléments de la liste ne peuvent pas être convertit en valeur numérique, on les ignore purement et simplement pour le calcule de la somme."
   ]
  },
  {
   "cell_type": "code",
   "execution_count": null,
   "metadata": {},
   "outputs": [],
   "source": [
    "def sommer_liste(valeurs):\n",
    "    ____ = 0\n",
    "    for valeur in valeurs:\n",
    "        ____:\n",
    "            val_numerique = float(valeur)\n",
    "        ____ ____ as e:\n",
    "            ____\n",
    "        ____ += val_numerique\n",
    "    return ____"
   ]
  },
  {
   "cell_type": "code",
   "execution_count": null,
   "metadata": {
    "editable": false
   },
   "outputs": [],
   "source": [
    "liste1 = [1, 2, 3]\n",
    "liste2 = ['1', 2.5, '3.0']\n",
    "liste3 = ['', '1']\n",
    "liste4 = []\n",
    "liste5 = ['John', 'Doe', 'was', 'here']\n",
    "liste_pourrie = [KeyError(), [], dict()]\n",
    "\n",
    "assert sommer_liste(liste1) == 6\n",
    "assert sommer_liste(liste2) == 6.5\n",
    "assert sommer_liste(liste3) == 1\n",
    "assert sommer_liste(liste4) == 0\n",
    "assert sommer_liste(liste5) == 0\n",
    "assert sommer_liste(liste_pourrie) == 0"
   ]
  },
  {
   "cell_type": "markdown",
   "metadata": {},
   "source": [
    "### Solution"
   ]
  },
  {
   "cell_type": "code",
   "execution_count": null,
   "metadata": {
    "jupyter": {
     "source_hidden": true
    }
   },
   "outputs": [],
   "source": [
    "def sommer_liste(valeurs):\n",
    "    somme = 0\n",
    "    for valeur in valeurs:\n",
    "        try:\n",
    "            val_numerique = float(valeur)\n",
    "        except Exception as e:\n",
    "            continue\n",
    "        somme += val_numerique\n",
    "    return somme"
   ]
  },
  {
   "cell_type": "markdown",
   "metadata": {},
   "source": [
    "## 2. Utiliser des exceptions personnalisées"
   ]
  },
  {
   "cell_type": "markdown",
   "metadata": {},
   "source": [
    "Implémenter la fonction `verifier_chaine_courte` qui prend en entrée une chaîne de caractère. Dans le cas où la longueur de la chaîne fournie fait plus de dix caractères, la fonction devrait levée une exception `ChaineTropLongue` (note: ça fait partie de votre mission de créer l'exception `ChaineTropLongue`). La fonction n'a pas à retourner quoi que ce soit.  "
   ]
  },
  {
   "cell_type": "code",
   "execution_count": null,
   "metadata": {},
   "outputs": [],
   "source": [
    "# À toi de jouer!"
   ]
  },
  {
   "cell_type": "code",
   "execution_count": null,
   "metadata": {
    "editable": false
   },
   "outputs": [],
   "source": [
    "# Pas d'exception ici\n",
    "verifier_chaine_courte('court') \n",
    "verifier_chaine_courte('dix  trucs')\n",
    "\n",
    "# Une exception devrait être levée\n",
    "try:\n",
    "    verifier_chaine_courte('Ceci est long')\n",
    "except ChaineTropLongue as e:\n",
    "    # Si on passe par là, tout va bien\n",
    "    pass\n",
    "else:\n",
    "    # Cela signifie qu'il ne s'est pas produit d'exception\n",
    "    assert False"
   ]
  },
  {
   "cell_type": "markdown",
   "metadata": {},
   "source": [
    "### Solution"
   ]
  },
  {
   "cell_type": "code",
   "execution_count": null,
   "metadata": {
    "jupyter": {
     "source_hidden": true
    }
   },
   "outputs": [],
   "source": [
    "# À toi de jouer!\n",
    "class ChaineTropLongue(Exception):\n",
    "    pass\n",
    "\n",
    "def verifier_chaine_courte(chaine):\n",
    "    if len(chaine) > 10:\n",
    "        raise ChaineTropLongue"
   ]
  }
 ],
 "metadata": {
  "kernelspec": {
   "display_name": "Python 3",
   "language": "python",
   "name": "python3"
  },
  "language_info": {
   "codemirror_mode": {
    "name": "ipython",
    "version": 3
   },
   "file_extension": ".py",
   "mimetype": "text/x-python",
   "name": "python",
   "nbconvert_exporter": "python",
   "pygments_lexer": "ipython3",
   "version": "3.7.3"
  }
 },
 "nbformat": 4,
 "nbformat_minor": 4
}
