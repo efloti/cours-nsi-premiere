{
 "cells": [
  {
   "cell_type": "markdown",
   "metadata": {},
   "source": [
    "# 1. [Pierre-feuille-ciseaux](https://en.wikipedia.org/wiki/Rock%E2%80%93paper%E2%80%93scissors) "
   ]
  },
  {
   "cell_type": "markdown",
   "metadata": {},
   "source": [
    "Implémenter la fonction `pierre_feuille_ciseaux` qui prend en entrée le choix du joueur (un entier), fait un choix aléatoire pour l'ordinateur et le révèle en l'affichant et finalement annonces (en affichant) le résultat de la confrontation. La fonction devrait retourner `PLAYER_WINS`, `COMPUTER_WINS` ou `NUL`."
   ]
  },
  {
   "cell_type": "code",
   "execution_count": null,
   "metadata": {
    "editable": false
   },
   "outputs": [],
   "source": [
    "# Constantes à utiliser dans votre implémentation\n",
    "PIERRE = 1\n",
    "FEUILLE = 2\n",
    "CISEAUX = 3\n",
    "\n",
    "PLAYER_WINS = 'Le joueur gagne!! Yououh!'\n",
    "COMPUTER_WINS = 'Robocop gagne :-('\n",
    "NUL = \"... égalité ...\""
   ]
  },
  {
   "cell_type": "code",
   "execution_count": null,
   "metadata": {},
   "outputs": [],
   "source": [
    "# À toi de jouer!\n"
   ]
  },
  {
   "cell_type": "markdown",
   "metadata": {},
   "source": [
    "Une fois terminée votre fonction `pierre_feuille_ciseaux`, vous pouvez vérifier que tout fonctionne comme prévu en jouant:"
   ]
  },
  {
   "cell_type": "code",
   "execution_count": null,
   "metadata": {
    "editable": false
   },
   "outputs": [],
   "source": [
    "def play_pfc():\n",
    "    print('Bienvenu dans le jeu pierre-feuille-ciseaux')\n",
    "    print('Vos possibilités sont:\\npierre: 1\\npapier: 2\\nciseaux: 3')\n",
    "\n",
    "    resultat = NUL\n",
    "    while resultat == NUL:\n",
    "        choix_joueur = input('Votre choix\\n')\n",
    "        \n",
    "        if not choix_joueur in ['1', '2', '3']:\n",
    "            print('Choix invalide')\n",
    "            continue\n",
    "            \n",
    "        resultat = pierre_feuille_ciseaux(int(choix_joueur))\n",
    "        \n",
    "if __name__ == '__main__':\n",
    "    play_pfc()"
   ]
  },
  {
   "cell_type": "markdown",
   "metadata": {},
   "source": [
    "Si vous copier le code des cellules précédentes dans un simple fichier .py, vous avez un jeu de pierre-feuille-ciseaux en ligne de commande!"
   ]
  },
  {
   "cell_type": "markdown",
   "metadata": {},
   "source": [
    "### Solution"
   ]
  },
  {
   "cell_type": "code",
   "execution_count": null,
   "metadata": {
    "jupyter": {
     "source_hidden": true
    }
   },
   "outputs": [],
   "source": [
    "import random\n",
    "\n",
    "asso = {\n",
    "    PIERRE: \"pierre\",\n",
    "    FEUILLE: \"feuille\",\n",
    "    CISEAUX: \"ciseaux\",\n",
    "}\n",
    "\n",
    "# petit utilitaire pour éviter trop de duplication\n",
    "def affiche_et_retourne(gagnant):\n",
    "    print(gagnant)\n",
    "    return gagnant\n",
    "\n",
    "\n",
    "def pierre_feuille_ciseaux(choix):\n",
    "    ordi = random.randint(1, 3)\n",
    "    print(\n",
    "        f\"On a donc {asso[choix]} contre {asso[ordi]} ...\"\n",
    "    )\n",
    "\n",
    "    if choix == ordi:\n",
    "        return affiche_et_retourne(NUL)\n",
    "\n",
    "    if choix == PIERRE:\n",
    "        if ordi == FEUILLE:\n",
    "            return affiche_et_retourne(COMPUTER_WINS)\n",
    "        else:  # ordi == CISEAUX\n",
    "            return affiche_et_retourne(PLAYER_WINS)\n",
    "    elif choix == FEUILLE:\n",
    "        if ordi == PIERRE:\n",
    "            return affiche_et_retourne(PLAYER_WINS)\n",
    "        else:  # ordi == CISEAUX\n",
    "            return affiche_et_retourne(COMPUTER_WINS)\n",
    "    else:  # choix == CISEAUX\n",
    "        if ordi == PIERRE:\n",
    "            return affiche_et_retourne(COMPUTER_WINS)\n",
    "        else:  # ordi == FEUILLE\n",
    "            return affiche_et_retourne(PLAYER_WINS)\n"
   ]
  },
  {
   "cell_type": "markdown",
   "metadata": {},
   "source": [
    "# 2. Analyseur de données"
   ]
  },
  {
   "cell_type": "markdown",
   "metadata": {},
   "source": [
    "Implémenter la classe `AnalyseurDeDonnees` dont voici la spécification:\n",
    "* `__init__` prend un argument qui est le chemin du fichier à analyser\n",
    "* `nombre_valeurs` méthode qui retourne le nombre d'échantillons de données dans le fichier\n",
    "* `moyenne` méthode qui retourne la moyenne des échantillons de données du fichier\n",
    "* `mediane`  méthode qui retourne la médiane des échantillons de données du fichier\n",
    "* `valeur_maximum` méthode qui retourne la valeur maximum des échantillons de données du fichier\n",
    "* `valeur_minimum` méthode qui retourne la valeur minimum des échantillons de données du fichier\n",
    "* `creer_compte_rendu` méthode qui retourne un résumé (compte rendu) sous forme de chaîne de caractère dans le format suivant:\n",
    "\n",
    "```\n",
    "Résumé pour <filename>\n",
    "taille échantillon: x\n",
    "moyenne: x.xx\n",
    "médiane: xx.xx\n",
    "max: xx.xx\n",
    "min: x.xx\n",
    "```\n",
    " \n",
    "Remarquer que moyenne, médiane, max et min apparaissent avec deux décimales dans le résumé.\n",
    "\n",
    "Le format du fichier de données est formé de valeurs numériques séparées par des points virgules.\n",
    "\n",
    "Si le fichier est vide (aucune données), l'exception `AucuneDonnees` est levée. Note: `AucuneDonnees` est une exception personnalisée."
   ]
  },
  {
   "cell_type": "code",
   "execution_count": null,
   "metadata": {},
   "outputs": [],
   "source": [
    "# À toi de jouer!\n"
   ]
  },
  {
   "cell_type": "markdown",
   "metadata": {},
   "source": [
    "Vérifions si cela fonctionne."
   ]
  },
  {
   "cell_type": "code",
   "execution_count": null,
   "metadata": {
    "editable": false
   },
   "outputs": [],
   "source": [
    "import os\n",
    "REP_COURANT = os.getcwd()\n",
    "DOSSIER_DONNEES = os.path.join(os.path.dirname(REP_COURANT), 'donnees')\n",
    "FICHIER_DONNEES = os.path.join(DOSSIER_DONNEES, 'donnees_aleatoires.txt')\n",
    "\n",
    "ad = AnalyseurDeDonnees(FICHIER_DONNEES)\n",
    "\n",
    "assert ad.nombre_valeurs() == 20\n",
    "assert ad.moyenne() == 49.35\n",
    "assert ad.mediane() == 47.5\n",
    "assert ad.valeur_maximum() == 94\n",
    "assert ad.valeur_minimum() == 4\n",
    "\n",
    "rapport = ad.creer_compte_rendu()\n",
    "print(rapport)\n",
    "\n",
    "rapport_attendu = (\n",
    "'Résumé pour random_data.txt\\n'\n",
    "'taille échantillon: 20\\n'\n",
    "'moyenne: 49.35\\n'\n",
    "'médiane: 47.50\\n'\n",
    "'max: 94.00\\n'\n",
    "'min: 4.00')\n",
    "assert rapport == rapport_attendu"
   ]
  },
  {
   "cell_type": "markdown",
   "metadata": {},
   "source": [
    "Vérifions que l'exception `AucuneDonnees` est lançée si le fichier est vide."
   ]
  },
  {
   "cell_type": "code",
   "execution_count": null,
   "metadata": {
    "editable": false
   },
   "outputs": [],
   "source": [
    "FICHIER_VIDE = os.path.join(DOSSIER_DONNEES, 'fichier_vide.txt')\n",
    "try:\n",
    "    ad_vide = AnalyseurDeDonnees(FICHIER_VIDE)\n",
    "except AucuneDonnees:\n",
    "    print('Tout va bien :)')\n",
    "else: # Il n'y a pas eu d'exception\n",
    "    assert False"
   ]
  },
  {
   "cell_type": "markdown",
   "metadata": {},
   "source": [
    "### Solution"
   ]
  },
  {
   "cell_type": "code",
   "execution_count": null,
   "metadata": {
    "jupyter": {
     "source_hidden": true
    }
   },
   "outputs": [],
   "source": [
    "class AucuneDonnees(Exception):\n",
    "    pass\n",
    "\n",
    "\n",
    "class AnalyseurDeDonnees:\n",
    "    def __init__(self, chemin_fichier_donnees):\n",
    "        valeurs = []\n",
    "        with open(chemin_fichier_donnees, \"r\") as fd:\n",
    "            for l in fd:\n",
    "                valeurs.extend(l.split(\";\"))\n",
    "\n",
    "        if not valeurs:\n",
    "            raise AucuneDonnees\n",
    "\n",
    "        valeurs = [float(v) for v in valeurs]\n",
    "\n",
    "        self._valeurs = valeurs\n",
    "        self._ch_donnees = chemin_fichier_donnees\n",
    "\n",
    "    def nombre_valeurs(self):\n",
    "        return len(self._valeurs)\n",
    "\n",
    "    def moyenne(self):\n",
    "        S = 0\n",
    "        for v in self._valeurs:\n",
    "            S = S + v\n",
    "        return S / self.nombre_valeurs()\n",
    "\n",
    "    def mediane(self):\n",
    "        vals_triees = sorted(self._valeurs)\n",
    "        N = self.nombre_valeurs()\n",
    "        if N % 2 != 0:\n",
    "            return vals_triees[N // 2]\n",
    "        else:\n",
    "            vg = vals_triees[(N - 1) // 2]\n",
    "            vd = vals_triees[N // 2]\n",
    "            return (vg + vd) / 2\n",
    "\n",
    "    def valeur_maximum(self):\n",
    "        return max(self._valeurs)\n",
    "\n",
    "    def valeur_minimum(self):\n",
    "        return min(self._valeurs)\n",
    "\n",
    "    def creer_compte_rendu(self):\n",
    "        rapport = (\n",
    "            \"Résumé pour {}\\n\"\n",
    "            \"taille échantillon: {}\\n\"\n",
    "            \"moyenne: {:.2f}\\n\"\n",
    "            \"médiane: {:.2f}\\n\"\n",
    "            \"max: {:.2f}\\n\"\n",
    "            \"min: {:.2f}\"\n",
    "        ).format(\n",
    "            self._ch_donnees.split(\"/\")[-1],\n",
    "            self.nombre_valeurs(),\n",
    "            self.moyenne(),\n",
    "            self.mediane(),\n",
    "            self.valeur_maximum(),\n",
    "            self.valeur_minimum(),\n",
    "        )\n",
    "        return rapport\n"
   ]
  }
 ],
 "metadata": {
  "kernelspec": {
   "display_name": "Python 3",
   "language": "python",
   "name": "python3"
  },
  "language_info": {
   "codemirror_mode": {
    "name": "ipython",
    "version": 3
   },
   "file_extension": ".py",
   "mimetype": "text/x-python",
   "name": "python",
   "nbconvert_exporter": "python",
   "pygments_lexer": "ipython3",
   "version": "3.7.3"
  }
 },
 "nbformat": 4,
 "nbformat_minor": 4
}
