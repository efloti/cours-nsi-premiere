{
 "cells": [
  {
   "cell_type": "markdown",
   "metadata": {},
   "source": [
    "# [Dictionnaires](https://docs.python.org/3/library/stdtypes.html#dict)"
   ]
  },
  {
   "cell_type": "markdown",
   "metadata": {},
   "source": [
    "Collections de paires clé-valeur \\[*key* - *value*\\]. "
   ]
  },
  {
   "cell_type": "code",
   "execution_count": null,
   "metadata": {},
   "outputs": [],
   "source": [
    "dictionnaire_vide = {}  # alternativement: dictionnaire_vide = dict()\n",
    "print('dictionnaire: {}, type: {}'.format(dictionnaire_vide, type(dictionnaire_vide)))"
   ]
  },
  {
   "cell_type": "markdown",
   "metadata": {},
   "source": [
    "## Initialisation"
   ]
  },
  {
   "cell_type": "code",
   "execution_count": null,
   "metadata": {},
   "outputs": [],
   "source": [
    "dict1 = {'valeur1': 1.6, 'valeur2': 10, 'nom': 'John Doe'}\n",
    "dict2 = dict(valeur1=1.6, valeur2=10, nom='John Doe')\n",
    "\n",
    "print(dict1)\n",
    "print(dict2)\n",
    "\n",
    "print(f'égaux ?: {dict1 == dict2}')\n",
    "print(f'longueur: {len(dict1)}')"
   ]
  },
  {
   "cell_type": "markdown",
   "metadata": {},
   "source": [
    "## `dict.keys(), dict.values(), dict.items()`"
   ]
  },
  {
   "cell_type": "code",
   "execution_count": null,
   "metadata": {},
   "outputs": [],
   "source": [
    "print(f'clés: {dict1.keys()}')\n",
    "print(f'valeurs: {dict1.values()}')\n",
    "print(f'items: {dict1.items()}')"
   ]
  },
  {
   "cell_type": "markdown",
   "metadata": {},
   "source": [
    "## Accéder et modifier les valeurs"
   ]
  },
  {
   "cell_type": "code",
   "execution_count": null,
   "metadata": {},
   "outputs": [],
   "source": [
    "mon_dict = {}\n",
    "mon_dict['cle1'] = 'valeur1'\n",
    "mon_dict['cle2'] = 99\n",
    "mon_dict['cle1'] = 'nouvelle valeur'  # écrase la valeur existante\n",
    "print(mon_dict)\n",
    "print(f\"valeur associée à 'cle1': {mon_dict['cle1']}\")"
   ]
  },
  {
   "cell_type": "markdown",
   "metadata": {},
   "source": [
    "Accéder à une clé qui n'existe pas produit une erreur `KeyError` (voir [`dict.get()`](#dict_get) pour un accès prudent):"
   ]
  },
  {
   "cell_type": "code",
   "execution_count": null,
   "metadata": {},
   "outputs": [],
   "source": [
    "# print(mon_dict['truc'])"
   ]
  },
  {
   "cell_type": "markdown",
   "metadata": {},
   "source": [
    "## Suppression"
   ]
  },
  {
   "cell_type": "code",
   "execution_count": null,
   "metadata": {},
   "outputs": [],
   "source": [
    "mon_dict = {'cle1': 'valeur1', 'cle2': 99, 'cleX': 'valeurX'}\n",
    "del mon_dict['cleX']\n",
    "print(mon_dict)"
   ]
  },
  {
   "cell_type": "code",
   "execution_count": null,
   "metadata": {},
   "outputs": [],
   "source": [
    "# il est préférable de s'assurer que la clé existe (voir aussi pop() et popitem())\n",
    "cle_a_supprimer = 'ma_cle'\n",
    "if cle_a_supprimer in mon_dict:\n",
    "    del mon_dict[cle_a_supprimer]\n",
    "else:\n",
    "    print(f\"'{cle_a_supprimer}' n'est pas dans {mon_dict}\")"
   ]
  },
  {
   "cell_type": "markdown",
   "metadata": {},
   "source": [
    "## Les Dictionnaires sont muables (mutables)"
   ]
  },
  {
   "cell_type": "code",
   "execution_count": null,
   "metadata": {},
   "outputs": [],
   "source": [
    "mon_dict = {'jambon': 'miam', 'carotte': 'moyen'}\n",
    "mon_autre_dict = mon_dict\n",
    "mon_autre_dict['carotte'] = 'super bon'\n",
    "mon_autre_dict['saucisse'] = \"y'a pas mieux\"\n",
    "print(f'mon_dict: {mon_dict}\\nautre: {mon_autre_dict}')\n",
    "print(f'égaux ?: {mon_dict == mon_autre_dict}')"
   ]
  },
  {
   "cell_type": "markdown",
   "metadata": {},
   "source": [
    "Créer un nouveau dictionnaire `dict` si vous voulez en avoir une copie:"
   ]
  },
  {
   "cell_type": "code",
   "execution_count": null,
   "metadata": {},
   "outputs": [],
   "source": [
    "mon_dict = {'jambon': 'miam', 'carotte': 'moyen'}\n",
    "mon_autre_dict = dict(mon_dict) # noter l'utilisation de dict()\n",
    "mon_autre_dict['bière'] = 'pas mal'\n",
    "print(f'mon_dict: {mon_dict}\\nautre: {mon_autre_dict}')\n",
    "print(f'égaux ?: {mon_dict == mon_autre_dict}')"
   ]
  },
  {
   "cell_type": "markdown",
   "metadata": {},
   "source": [
    "## `dict.get(<cle>)`"
   ]
  },
  {
   "cell_type": "markdown",
   "metadata": {},
   "source": [
    "Retourne `None` si `cle` n'est pas dans `dict`. Il est aussi possible de préciser une valeur de retour par défaut laquelle sera retournée si la `cle` n'est pas présente dans `dict`. "
   ]
  },
  {
   "cell_type": "code",
   "execution_count": null,
   "metadata": {},
   "outputs": [],
   "source": [
    "mon_dict = {'a': 1, 'b': 2, 'c': 3}\n",
    "d = mon_dict.get('d')\n",
    "print(f'd: {d}')\n",
    "\n",
    "d = mon_dict.get('d', 'ma valeur par défaut')\n",
    "print(f'd: {d}')"
   ]
  },
  {
   "cell_type": "markdown",
   "metadata": {},
   "source": [
    "## `dict.pop()`"
   ]
  },
  {
   "cell_type": "code",
   "execution_count": null,
   "metadata": {},
   "outputs": [],
   "source": [
    "mon_dict = dict(nourriture='jambon', boisson='bière', sport='football')\n",
    "print(f'mon_dict avant les «pops»: {mon_dict}')"
   ]
  },
  {
   "cell_type": "code",
   "execution_count": null,
   "metadata": {},
   "outputs": [],
   "source": [
    "nourriture = mon_dict.pop('nourriture')\n",
    "print(f'nourriture: {nourriture}')\n",
    "print(f'mon_dict après avoir «poppé» la nourriture: {mon_dict}')"
   ]
  },
  {
   "cell_type": "code",
   "execution_count": null,
   "metadata": {},
   "outputs": [],
   "source": [
    "nourriture_encore = mon_dict.pop('nourriture', 'plus rien à becqueter :(')\n",
    "print(f'encore faim: {nourriture_encore}')\n",
    "print(f'mon_dict après avoir de nouveau «poppé» la nourriture: {mon_dict}')"
   ]
  },
  {
   "cell_type": "markdown",
   "metadata": {},
   "source": [
    "## `dict.setdefault(<cle>,<val_defaut>)`\n",
    "Retourne la  `valeur` associée à la `cle` donnée comme premier paramètre. Si la `cle` n'est pas dans le dictionnaire `dict`, elle l'ajoute avec la valeur `val_defaut` précisé en deuxième paramètre."
   ]
  },
  {
   "cell_type": "code",
   "execution_count": null,
   "metadata": {},
   "outputs": [],
   "source": [
    "mon_dict = {'a': 1, 'b': 2, 'c': 3}\n",
    "a = mon_dict.setdefault('a', 'valeur par defaut')\n",
    "d = mon_dict.setdefault('d', 'valeur par defaut')\n",
    "print(f'a: {a}\\nd: {d}\\nmy_dict: {mon_dict}')"
   ]
  },
  {
   "cell_type": "markdown",
   "metadata": {},
   "source": [
    "## `dict.update()`\n",
    "Fusionne deux dictionnaires `dict`s"
   ]
  },
  {
   "cell_type": "code",
   "execution_count": null,
   "metadata": {},
   "outputs": [],
   "source": [
    "dict1 = {'a': 1, 'b': 2}\n",
    "dict2 = {'c': 3}\n",
    "dict1.update(dict2)\n",
    "print(dict1)\n",
    "\n",
    "# Dans le cas où ils ont une clé en commun:\n",
    "dict1.update({'c': 4})\n",
    "print(dict1)"
   ]
  },
  {
   "cell_type": "markdown",
   "metadata": {},
   "source": [
    "## La clé d'un dictionnaire `dict` doit-être immuable (immutable)"
   ]
  },
  {
   "cell_type": "markdown",
   "metadata": {},
   "source": [
    "Ainsi vous ne pouvez pas utiliser, par exemple, une`list` ou un `dict` comme clé car ce sont des objets muables.\n",
    ":"
   ]
  },
  {
   "cell_type": "code",
   "execution_count": null,
   "metadata": {},
   "outputs": [],
   "source": [
    "# mauvais_dict = {['ma_liste'], 'valeur'}  # déclenche une erreur `TypeError`"
   ]
  },
  {
   "cell_type": "markdown",
   "metadata": {},
   "source": [
    "Les valeurs par contre peuvent-être muables"
   ]
  },
  {
   "cell_type": "code",
   "execution_count": null,
   "metadata": {},
   "outputs": [],
   "source": [
    "bon_dict = {'ma cle': ['Python', 'est', 'toujours', 'cool']}\n",
    "print(bon_dict)"
   ]
  },
  {
   "cell_type": "markdown",
   "metadata": {},
   "source": [
    "# Exercices"
   ]
  },
  {
   "cell_type": "markdown",
   "metadata": {},
   "source": [
    "## 1. «Peupler» un dictionnaire\n",
    "Créer un dictionnaire en utilisant toutes les variables données."
   ]
  },
  {
   "cell_type": "code",
   "execution_count": null,
   "metadata": {
    "editable": false
   },
   "outputs": [],
   "source": [
    "prenom = 'John'\n",
    "nom = 'Doe'\n",
    "loisir_prefere = 'Python'\n",
    "loisir_sport = 'tennis de table'\n",
    "age = 82"
   ]
  },
  {
   "cell_type": "code",
   "execution_count": null,
   "metadata": {},
   "outputs": [],
   "source": [
    "# À toi de jouer\n",
    "mon_dict = "
   ]
  },
  {
   "cell_type": "code",
   "execution_count": null,
   "metadata": {
    "editable": false
   },
   "outputs": [],
   "source": [
    "assert mon_dict == {\n",
    "        'nom': 'John Doe',\n",
    "        'age': 82,\n",
    "        'loisirs': ['Python', 'tennis de table']\n",
    "    }"
   ]
  },
  {
   "cell_type": "markdown",
   "metadata": {},
   "source": [
    "### Solution"
   ]
  },
  {
   "cell_type": "code",
   "execution_count": null,
   "metadata": {
    "jupyter": {
     "source_hidden": true
    }
   },
   "outputs": [],
   "source": [
    "# À toi de jouer\n",
    "mon_dict = {}\n",
    "mon_dict['nom'] = f'{prenom} {nom}'\n",
    "mon_dict['age'] = age\n",
    "mon_dict['loisirs'] = [loisir_prefere, loisir_sport]"
   ]
  },
  {
   "cell_type": "markdown",
   "metadata": {},
   "source": [
    "## 2. Accéder et fusionner des dictionnaires\n",
    "Combiner `dict1`, `dict2` et `dict3` dans `mon_dict`. Cela fait, récupérer la valeur de `cle_speciale` à partir de `mon_dict` dans une variable `valeur_speciale`. \n",
    "- Noter bien que les dictionnaires d'origines devraient rester intacts et que `cle_special` devrait être supprimée de `mon_dict`."
   ]
  },
  {
   "cell_type": "code",
   "execution_count": null,
   "metadata": {},
   "outputs": [],
   "source": [
    "dict1 = dict(cle1=\"Ce n'est pas si difficile\", cle2='Python est toujours cool')\n",
    "dict2 = {'cle1': 123, 'cle_speciale': 'secret'}\n",
    "# C'est une autre façon d'initialiser un dictionnaire (avec une liste de 2-tuples) \n",
    "dict3 = dict([('cle2', 456), ('cleX', 'X')])"
   ]
  },
  {
   "cell_type": "code",
   "execution_count": null,
   "metadata": {},
   "outputs": [],
   "source": [
    "# À toi de jouer\n",
    "mon_dict = \n",
    "valeur_speciale = "
   ]
  },
  {
   "cell_type": "code",
   "execution_count": null,
   "metadata": {
    "editable": false
   },
   "outputs": [],
   "source": [
    "assert mon_dict == {'cle1': 123, 'cle2': 456, 'cleX': 'X'}\n",
    "assert valeur_speciale == 'secret'\n",
    "\n",
    "# Vérifions que les originaux n'ont pas été modifiés\n",
    "assert dict1 == {\n",
    "        'cle1': \"Ce n'est pas si difficile\",\n",
    "        'cle2': 'Python est toujours cool'\n",
    "    }\n",
    "assert dict2 == {'cle1': 123, 'cle_speciale': 'secret'}\n",
    "assert dict3 == {'cle2': 456, 'cleX': 'X'}"
   ]
  },
  {
   "cell_type": "markdown",
   "metadata": {},
   "source": [
    "### Solution"
   ]
  },
  {
   "cell_type": "code",
   "execution_count": null,
   "metadata": {
    "jupyter": {
     "source_hidden": true
    }
   },
   "outputs": [],
   "source": [
    "# À toi de jouer\n",
    "mon_dict = {}\n",
    "mon_dict.update(dict1)\n",
    "mon_dict.update(dict2)\n",
    "mon_dict.update(dict3)\n",
    "valeur_speciale = mon_dict.pop('cle_speciale', \"mince, elle y'est pas\")"
   ]
  }
 ],
 "metadata": {
  "kernelspec": {
   "display_name": "Python 3",
   "language": "python",
   "name": "python3"
  },
  "language_info": {
   "codemirror_mode": {
    "name": "ipython",
    "version": 3
   },
   "file_extension": ".py",
   "mimetype": "text/x-python",
   "name": "python",
   "nbconvert_exporter": "python",
   "pygments_lexer": "ipython3",
   "version": "3.7.3"
  }
 },
 "nbformat": 4,
 "nbformat_minor": 4
}
