{
 "cells": [
  {
   "cell_type": "code",
   "execution_count": null,
   "metadata": {
    "editable": false
   },
   "outputs": [],
   "source": [
    "# ÉXÉCUTER CETTE CELLULE AVANT TOUT!\n",
    "\n",
    "import os\n",
    "\n",
    "# Constantes pour les exercices:\n",
    "REPERTOIRE_COURANT = os.getcwd()\n",
    "REPERTOIRE_DONNEES = os.path.join(os.path.dirname(REPERTOIRE_COURANT), 'donnees')"
   ]
  },
  {
   "cell_type": "markdown",
   "metadata": {},
   "source": [
    "# 1. Ajouter des nombres contenus dans un fichier\n",
    "Compléter les parties manquantes  ____  du code qui suit. La fonction `somme_nombres_dans_fichier` prend un chemin de fichier en argument, lis les nombres qu'il contient ligne à ligne et retourne la somme de ces nombres. Vous pouvez supposer que chaque ligne contient exactement un valeur numérique."
   ]
  },
  {
   "cell_type": "code",
   "execution_count": null,
   "metadata": {},
   "outputs": [],
   "source": [
    "def somme_nombres_dans_fichier(chemin_fichier):\n",
    "    sum_ = 0  # Astuce: un moyen courant d'utiliser une variable en conflit avec un nom prédéfini\n",
    "              #  est de le faire suivre d'un caractère de soulignement _ (underscore)\n",
    "    with open(chemin_fichier, 'r') as le_fichier:\n",
    "        for ligne in le_fichier:\n",
    "            chaine_nb = ligne.strip()  # Supprimer des caractères «blancs» éventuels \n",
    "            sum_ += float(chaine_nb)   # conversion str -> float\n",
    "    return sum_"
   ]
  },
  {
   "cell_type": "code",
   "execution_count": null,
   "metadata": {
    "editable": false
   },
   "outputs": [],
   "source": [
    "fichier_nombres = os.path.join(REPERTOIRE_DONNEES, 'nombres.txt')\n",
    "assert somme_nombres_dans_fichier(fichier_nombres) == 189.5"
   ]
  },
  {
   "cell_type": "markdown",
   "metadata": {},
   "source": [
    "# 2. Lire le premier mot de chaque ligne d'un fichier\n",
    "Implémenter la fonction `trouver_premier_mots` qui prend un chemin de fichier en argument. La fonction devrait trouver le premier mot de chaque ligne du fichier et retourner ces mots dans une liste. Si une ligne est vide, la liste devrait contenir une chaîne vide pour cette ligne."
   ]
  },
  {
   "cell_type": "code",
   "execution_count": null,
   "metadata": {},
   "outputs": [],
   "source": [
    "def trouver_premier_mots(chemin_fichier):\n",
    "    liste_a_retourner = []\n",
    "    with open(chemin_fichier, 'r') as le_fichier:\n",
    "        for ligne in le_fichier:\n",
    "            mots = ligne.split()\n",
    "            if len(mots) != 0:\n",
    "                premier_mot = mots[0]\n",
    "            else:\n",
    "                premier_mot = ''\n",
    "            liste_a_retourner.append(premier_mot)\n",
    "    return liste_a_retourner"
   ]
  },
  {
   "cell_type": "code",
   "execution_count": null,
   "metadata": {
    "editable": false
   },
   "outputs": [],
   "source": [
    "fichier_1 = os.path.join(REPERTOIRE_DONNEES, 'simple_fichier.txt')\n",
    "fichier_2 = os.path.join(REPERTOIRE_DONNEES, 'simple_fichier_avec_des_lignes_vides.txt')\n",
    "\n",
    "attendu_pour_fichier_1 = ['Première', 'Deuxième', 'Troisième', 'Et']\n",
    "assert trouver_premier_mots(fichier_1) == attendu_pour_fichier_1\n",
    "\n",
    "attendu_pour_fichier_2 = ['Le', '', 'Premier', 'sans', '', 'Puis']\n",
    "assert trouver_premier_mots(fichier_2) == attendu_pour_fichier_2"
   ]
  }
 ],
 "metadata": {
  "kernelspec": {
   "display_name": "Python 3",
   "language": "python",
   "name": "python3"
  },
  "language_info": {
   "codemirror_mode": {
    "name": "ipython",
    "version": 3
   },
   "file_extension": ".py",
   "mimetype": "text/x-python",
   "name": "python",
   "nbconvert_exporter": "python",
   "pygments_lexer": "ipython3",
   "version": "3.6.8"
  }
 },
 "nbformat": 4,
 "nbformat_minor": 4
}
