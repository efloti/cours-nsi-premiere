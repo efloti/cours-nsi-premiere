{
 "cells": [
  {
   "cell_type": "markdown",
   "metadata": {},
   "source": [
    "# 1. Compléter les portions manquantes\n",
    "Compléter les portions `____` du code ci-dessous."
   ]
  },
  {
   "cell_type": "code",
   "execution_count": null,
   "metadata": {},
   "outputs": [],
   "source": [
    "# Créons une liste vide\n",
    "ma_liste = []\n",
    "\n",
    "# Ajoutons lui quelques valeurs\n",
    "ma_liste.append('Python')\n",
    "ma_liste.append('est cool')\n",
    "ma_liste.append('parfois')\n",
    "\n",
    "# Supprimons 'parfois' ...\n",
    "ma_liste.remove('parfois')\n",
    "\n",
    "# Modifions le deuxième item\n",
    "ma_liste[1] = 'est clair'"
   ]
  },
  {
   "cell_type": "code",
   "execution_count": null,
   "metadata": {
    "editable": false
   },
   "outputs": [],
   "source": [
    "# Vérifions que c'est correcte\n",
    "assert ma_liste == ['Python', 'est clair']"
   ]
  },
  {
   "cell_type": "markdown",
   "metadata": {},
   "source": [
    "# 2. Créer une nouvelle liste sans modifier l'originale\n"
   ]
  },
  {
   "cell_type": "code",
   "execution_count": null,
   "metadata": {
    "editable": false
   },
   "outputs": [],
   "source": [
    "originale = [\"J'\", 'apprends', 'à devenir', 'un «hacker»', 'en ...']"
   ]
  },
  {
   "cell_type": "code",
   "execution_count": null,
   "metadata": {},
   "outputs": [],
   "source": [
    "# À toi de jouer\n",
    "modifiee = list(originale)\n",
    "modifiee[2] = 'les'\n",
    "modifiee[3] = 'listes'\n",
    "modifiee.append('Python')\n",
    "modifiee"
   ]
  },
  {
   "cell_type": "code",
   "execution_count": null,
   "metadata": {
    "editable": false
   },
   "outputs": [],
   "source": [
    "assert originale == [\"J'\", 'apprends', 'à devenir', 'un «hacker»', 'en ...']\n",
    "assert modifiee == [\"J'\", 'apprends', 'les', 'listes', 'en ...', 'Python']"
   ]
  },
  {
   "cell_type": "markdown",
   "metadata": {},
   "source": [
    "# 3. Créer une liste en fusionner/trier"
   ]
  },
  {
   "cell_type": "code",
   "execution_count": null,
   "metadata": {
    "editable": false
   },
   "outputs": [],
   "source": [
    "list1 = [6, 12, 5]\n",
    "list2 = [6.2, 0, 14, 1]\n",
    "list3 = [0.9]"
   ]
  },
  {
   "cell_type": "code",
   "execution_count": null,
   "metadata": {},
   "outputs": [],
   "source": [
    "# À toi de jouer\n",
    "ma_liste = list1 + list2 + list3\n",
    "ma_liste.sort()\n",
    "ma_liste.reverse()"
   ]
  },
  {
   "cell_type": "code",
   "execution_count": null,
   "metadata": {
    "editable": false,
    "scrolled": true
   },
   "outputs": [],
   "source": [
    "print(ma_liste)\n",
    "assert ma_liste == [14, 12, 6.2, 6, 5, 1, 0.9, 0]"
   ]
  }
 ],
 "metadata": {
  "kernelspec": {
   "display_name": "Python 3",
   "language": "python",
   "name": "python3"
  },
  "language_info": {
   "codemirror_mode": {
    "name": "ipython",
    "version": 3
   },
   "file_extension": ".py",
   "mimetype": "text/x-python",
   "name": "python",
   "nbconvert_exporter": "python",
   "pygments_lexer": "ipython3",
   "version": "3.6.8"
  }
 },
 "nbformat": 4,
 "nbformat_minor": 4
}
