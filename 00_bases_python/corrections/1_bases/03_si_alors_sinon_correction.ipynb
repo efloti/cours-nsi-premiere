{
 "cells": [
  {
   "cell_type": "markdown",
   "metadata": {},
   "source": [
    "# 1. `if-elif-else`\n",
    "Compléter les parties manquantes (`____`) du code qui suit de façon que le message affiché fasse sens."
   ]
  },
  {
   "cell_type": "code",
   "execution_count": null,
   "metadata": {
    "editable": false
   },
   "outputs": [],
   "source": [
    "nom = 'John Doe'"
   ]
  },
  {
   "cell_type": "markdown",
   "metadata": {},
   "source": [
    "**Première solution**"
   ]
  },
  {
   "cell_type": "code",
   "execution_count": null,
   "metadata": {},
   "outputs": [],
   "source": [
    "if len(nom) > 20:\n",
    "    print(f'Nom \"{nom}\" fait plus de 20 caractères de long')\n",
    "    description_longueur = 'long'\n",
    "elif len(nom) > 15:\n",
    "    print(f'Nom \"{nom}\" fait plus de 15 caractères de long')\n",
    "    description_longueur = 'semi long'\n",
    "elif len(nom) > 10:\n",
    "    print(f'Nom \"{nom}\" fait plus de 10 caractères de long')\n",
    "    description_longueur = 'semi long'\n",
    "elif len(nom) > 7:\n",
    "    print(f'Nom \"{nom}\" a 8, 9 ou 10 caractères')\n",
    "    description_longueur = 'semi court'\n",
    "else:\n",
    "    print(f'Nom \"{nom}\" est un nom court')\n",
    "    description_longueur = 'court'"
   ]
  },
  {
   "cell_type": "markdown",
   "metadata": {},
   "source": [
    "**Deuxième solution**: afin d'éviter la répétition de `len(nom)` qui occasionne des calculs inutiles; en plus c'est (un peu) plus court."
   ]
  },
  {
   "cell_type": "code",
   "execution_count": null,
   "metadata": {},
   "outputs": [],
   "source": [
    "tn = len(nom) # tn pour taille_nom\n",
    "if tn > 20:\n",
    "    print(f'Nom \"{nom}\" fait plus de 20 caractères de long')\n",
    "    description_longueur = 'long'\n",
    "elif tn > 15:\n",
    "    print(f'Nom \"{nom}\" fait plus de 15 caractères de long')\n",
    "    description_longueur = 'semi long'\n",
    "elif tn > 10:\n",
    "    print(f'Nom \"{nom}\" fait plus de 10 caractères de long')\n",
    "    description_longueur = 'semi long'\n",
    "elif tn > 7:\n",
    "    print(f'Nom \"{nom}\" a 8, 9 ou 10 caractères')\n",
    "    description_longueur = 'semi court'\n",
    "else:\n",
    "    print(f'Nom \"{nom}\" est un nom court')\n",
    "    description_longueur = 'court'"
   ]
  },
  {
   "cell_type": "code",
   "execution_count": null,
   "metadata": {
    "editable": false
   },
   "outputs": [],
   "source": [
    "assert description_longueur == 'semi court'"
   ]
  }
 ],
 "metadata": {
  "kernelspec": {
   "display_name": "Python 3",
   "language": "python",
   "name": "python3"
  },
  "language_info": {
   "codemirror_mode": {
    "name": "ipython",
    "version": 3
   },
   "file_extension": ".py",
   "mimetype": "text/x-python",
   "name": "python",
   "nbconvert_exporter": "python",
   "pygments_lexer": "ipython3",
   "version": "3.6.8"
  }
 },
 "nbformat": 4,
 "nbformat_minor": 4
}
