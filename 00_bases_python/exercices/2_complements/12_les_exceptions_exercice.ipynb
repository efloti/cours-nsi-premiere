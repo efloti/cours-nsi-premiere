{
 "cells": [
  {
   "cell_type": "markdown",
   "metadata": {},
   "source": [
    "# 1. Gérer les exceptions - Dealing with exceptions\n",
    "Compléter les portions manquantes `____` du code qui suit. La fonction `sommer_liste` attend une liste comme argument et calcule la somme des valeurs qui s'y trouvent. Si des éléments de la liste ne peuvent pas être convertit en valeur numérique, on les ignore purement et simplement pour le calcule de la somme."
   ]
  },
  {
   "cell_type": "code",
   "execution_count": null,
   "metadata": {},
   "outputs": [],
   "source": [
    "def sommer_liste(valeurs):\n",
    "    ____ = 0\n",
    "    for valeur in valeurs:\n",
    "        ____:\n",
    "            val_numerique = float(valeur)\n",
    "        ____ ____ as e:\n",
    "            ____\n",
    "        ____ += val_numerique\n",
    "    return ____"
   ]
  },
  {
   "cell_type": "code",
   "execution_count": null,
   "metadata": {
    "editable": false
   },
   "outputs": [],
   "source": [
    "liste1 = [1, 2, 3]\n",
    "liste2 = ['1', 2.5, '3.0']\n",
    "liste3 = ['', '1']\n",
    "liste4 = []\n",
    "liste5 = ['John', 'Doe', 'was', 'here']\n",
    "liste_pourrie = [KeyError(), [], dict()]\n",
    "\n",
    "assert sommer_liste(liste1) == 6\n",
    "assert sommer_liste(liste2) == 6.5\n",
    "assert sommer_liste(liste3) == 1\n",
    "assert sommer_liste(liste4) == 0\n",
    "assert sommer_liste(liste5) == 0\n",
    "assert sommer_liste(liste_pourrie) == 0"
   ]
  },
  {
   "cell_type": "markdown",
   "metadata": {},
   "source": [
    "# 2. Utiliser des exceptions personnalisées\n",
    "Implémenter la fonction `verifier_chaine_courte` qui prend en entrée une chaîne de caractère. Dans le cas où la longueur de la chaîne fournie fait plus de dix caractères, la fonction devrait levée une exception `ChaineTropLongue` (note: ça fait partie de votre mission de créer l'exception `ChaineTropLongue`). La fonction n'a pas à retourner quoi que ce soit.  "
   ]
  },
  {
   "cell_type": "code",
   "execution_count": null,
   "metadata": {},
   "outputs": [],
   "source": [
    "# À toi de jouer!"
   ]
  },
  {
   "cell_type": "code",
   "execution_count": null,
   "metadata": {
    "editable": false
   },
   "outputs": [],
   "source": [
    "# Pas d'exception ici\n",
    "verifier_chaine_courte('court') \n",
    "verifier_chaine_courte('dix  trucs')\n",
    "\n",
    "# Une exception devrait être levée\n",
    "try:\n",
    "    verifier_chaine_courte('Ceci est long')\n",
    "except ChaineTropLongue as e:\n",
    "    # Si on passe par là, tout va bien\n",
    "    pass\n",
    "else:\n",
    "    # Cela signifie qu'il ne s'est pas produit d'exception\n",
    "    assert False"
   ]
  }
 ],
 "metadata": {
  "kernelspec": {
   "display_name": "Python 3",
   "language": "python",
   "name": "python3"
  },
  "language_info": {
   "codemirror_mode": {
    "name": "ipython",
    "version": 3
   },
   "file_extension": ".py",
   "mimetype": "text/x-python",
   "name": "python",
   "nbconvert_exporter": "python",
   "pygments_lexer": "ipython3",
   "version": "3.6.8"
  }
 },
 "nbformat": 4,
 "nbformat_minor": 4
}
