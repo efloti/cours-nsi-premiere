{
 "cells": [
  {
   "cell_type": "markdown",
   "metadata": {},
   "source": [
    "# 1. Compléter les parties manquantes de la classe `Calculateur`\n",
    "Compléter les portions `____` de l'implémentation de `Calculateur` afin de vérifier les assertions données plus loin."
   ]
  },
  {
   "cell_type": "code",
   "execution_count": null,
   "metadata": {},
   "outputs": [],
   "source": [
    "class Calculateur:\n",
    "    def __init__(self, var1, ____):\n",
    "        self.____ = var1\n",
    "        self.____ = _____\n",
    "    \n",
    "    def calculer_puissance(self):\n",
    "        return self.____ ** ____.____\n",
    "    \n",
    "    def calculer_somme(____, var3):\n",
    "        return ____.____ + ____.____ + var3"
   ]
  },
  {
   "cell_type": "code",
   "execution_count": null,
   "metadata": {
    "editable": false
   },
   "outputs": [],
   "source": [
    "calc = Calculateur(2, 3)\n",
    "assert calc.calculer_puissance() == 8\n",
    "assert calc.calculer_somme(4) == 9"
   ]
  },
  {
   "cell_type": "markdown",
   "metadata": {},
   "source": [
    "# 2. Finaliser la classe `ManipulateurDeChaine`\n",
    "Compléter les portions `____` et implémenter la méthode `creer_titre()`."
   ]
  },
  {
   "cell_type": "code",
   "execution_count": null,
   "metadata": {},
   "outputs": [],
   "source": [
    "class ManipulateurDeChaine:\n",
    "    \"\"\"____\"\"\"\n",
    "    \n",
    "    categorie = ____\n",
    "    \n",
    "    def __init__(self, original):\n",
    "        self.chaine = ____\n",
    "        \n",
    "    def reverser_mots(self):\n",
    "        mots = self.chaine.____\n",
    "        self.chaine = ' '.join(reversed(____))\n",
    "        \n",
    "    def creer_titre(self):\n",
    "        # Implémenter vous-même cette méthode\n",
    "        \n",
    "    def obtenir_chaine_manipulee(____):\n",
    "        return self._____"
   ]
  },
  {
   "cell_type": "code",
   "execution_count": null,
   "metadata": {
    "editable": false
   },
   "outputs": [],
   "source": [
    "assert ManipulateurDeChaine.__doc__ == 'Chaîne de documentation de ManipulateurDeChaine'\n",
    "assert ManipulateurDeChaine.categorie == 'Manipulateur'\n",
    "\n",
    "chaine_manip = ManipulateurDeChaine('pyThON cOOL')\n",
    "\n",
    "chaine_manip.reverser_mots()\n",
    "assert chaine_manip.obtenir_chaine_manipulee() == 'cOOL pyThON'\n",
    "\n",
    "chaine_manip.creer_titre()\n",
    "assert chaine_manip.obtenir_chaine_manipulee() == 'Cool Python'"
   ]
  },
  {
   "cell_type": "markdown",
   "metadata": {},
   "source": [
    "# 3. Créer une classe `Chien`\n",
    "Créer la classe `Chien` dont voici les spécifications:\n",
    "* Les Chiens dépense leur énergie en aboyant et en regagne en dormant\n",
    "* Une nouvelle instance de `Chien` a 10 unités d'énergie\n",
    "* `Chien` a une méthode `dormir` qui permet de récupérer 2 unités d'energie\n",
    "* `Chien` a une méthode `aboyer` qui dépense 1 unité d'énergie\n",
    "* `Chien` a une méthode `obtenir_energie` qui retourne le niveau d'énergie restant "
   ]
  },
  {
   "cell_type": "code",
   "execution_count": null,
   "metadata": {},
   "outputs": [],
   "source": [
    "class Chien:\n",
    "    # À vous de jouer!"
   ]
  },
  {
   "cell_type": "code",
   "execution_count": null,
   "metadata": {
    "editable": false
   },
   "outputs": [],
   "source": [
    "chien = Chien()\n",
    "assert chien.obtenir_energie() == 10\n",
    "\n",
    "chien.aboyer()\n",
    "chien.aboyer()\n",
    "chien.aboyer()\n",
    "assert chien.obtenir_energie() == 7\n",
    "\n",
    "chien.dormir()\n",
    "assert chien.obtenir_energie() == 9\n",
    "\n",
    "un_autre_chien = Chien()\n",
    "assert un_autre_chien.obtenir_energie() == 10"
   ]
  }
 ],
 "metadata": {
  "kernelspec": {
   "display_name": "Python 3",
   "language": "python",
   "name": "python3"
  },
  "language_info": {
   "codemirror_mode": {
    "name": "ipython",
    "version": 3
   },
   "file_extension": ".py",
   "mimetype": "text/x-python",
   "name": "python",
   "nbconvert_exporter": "python",
   "pygments_lexer": "ipython3",
   "version": "3.6.8"
  }
 },
 "nbformat": 4,
 "nbformat_minor": 4
}
