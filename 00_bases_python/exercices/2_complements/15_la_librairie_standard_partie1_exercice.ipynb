{
 "cells": [
  {
   "cell_type": "code",
   "execution_count": null,
   "metadata": {},
   "outputs": [],
   "source": [
    "# Nous aurons besoin de pytz dans cet exercice\n",
    "import sys\n",
    "!{sys.executable} -m pip install pytz"
   ]
  },
  {
   "cell_type": "markdown",
   "metadata": {},
   "source": [
    "# 1. Jouons avec les datetimes\n",
    "On vous donne un datetime naïf, voir la variable `NAIF_DT` ci-dessous. Bien que cette variable soit naive, il se trouve que vous savez que le temps contenu dans `NAIF_DT` est en UTC.\n",
    "\n",
    "En vous basant sur cette information, votre tache est de créer trois nouvelles variables datetime en convertissant `NAIF_DT` en UTC et ensuite en des temps valable pour Sydney et pour Los Angeles. Utilisez les noms de variables: `utc_dt`, `sydney_dt`, and `la_dt`. "
   ]
  },
  {
   "cell_type": "code",
   "execution_count": null,
   "metadata": {
    "editable": false
   },
   "outputs": [],
   "source": [
    "import datetime as dt\n",
    "import pytz\n",
    "\n",
    "NAIF_DT = dt.datetime(2000, 1, 1, 10)"
   ]
  },
  {
   "cell_type": "markdown",
   "metadata": {},
   "source": [
    "Si vous ne connaissez pas le nom du fuseau horaire (timezone) que vous rechercher, cela pourait être bien utile:"
   ]
  },
  {
   "cell_type": "code",
   "execution_count": null,
   "metadata": {
    "scrolled": true
   },
   "outputs": [],
   "source": [
    "for tz in pytz.all_timezones:\n",
    "    print(tz)"
   ]
  },
  {
   "cell_type": "markdown",
   "metadata": {},
   "source": [
    "À présent créer `utc_dt`, `sydney_dt`, et `la_dt`."
   ]
  },
  {
   "cell_type": "code",
   "execution_count": null,
   "metadata": {},
   "outputs": [],
   "source": [
    "# À vous de jouer!"
   ]
  },
  {
   "cell_type": "markdown",
   "metadata": {},
   "source": [
    "Vérifions que la solution est correcte."
   ]
  },
  {
   "cell_type": "code",
   "execution_count": null,
   "metadata": {
    "editable": false
   },
   "outputs": [],
   "source": [
    "assert utc_dt.isoformat() == '2000-01-01T10:00:00+00:00'\n",
    "assert sydney_dt.isoformat() == '2000-01-01T21:00:00+11:00'\n",
    "assert la_dt.isoformat() == '2000-01-01T02:00:00-08:00'\n",
    "\n",
    "print('Tout va bien!')"
   ]
  }
 ],
 "metadata": {
  "kernelspec": {
   "display_name": "Python 3",
   "language": "python",
   "name": "python3"
  },
  "language_info": {
   "codemirror_mode": {
    "name": "ipython",
    "version": 3
   },
   "file_extension": ".py",
   "mimetype": "text/x-python",
   "name": "python",
   "nbconvert_exporter": "python",
   "pygments_lexer": "ipython3",
   "version": "3.6.8"
  }
 },
 "nbformat": 4,
 "nbformat_minor": 4
}
