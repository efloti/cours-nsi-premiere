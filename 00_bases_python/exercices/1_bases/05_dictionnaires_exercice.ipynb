{
 "cells": [
  {
   "cell_type": "markdown",
   "metadata": {},
   "source": [
    "# 1. «Peupler» un dictionnaire\n",
    "Créer un dictionnaire en utilisant toutes les variables données."
   ]
  },
  {
   "cell_type": "code",
   "execution_count": null,
   "metadata": {
    "editable": false
   },
   "outputs": [],
   "source": [
    "prenom = 'John'\n",
    "nom = 'Doe'\n",
    "loisir_prefere = 'Python'\n",
    "loisir_sport = 'tennis de table'\n",
    "age = 82"
   ]
  },
  {
   "cell_type": "code",
   "execution_count": null,
   "metadata": {},
   "outputs": [],
   "source": [
    "# À toi de jouer\n",
    "mon_dict = "
   ]
  },
  {
   "cell_type": "code",
   "execution_count": null,
   "metadata": {
    "editable": false
   },
   "outputs": [],
   "source": [
    "assert mon_dict == {\n",
    "        'nom': 'John Doe',\n",
    "        'age': 82,\n",
    "        'loisirs': ['Python', 'tennis de table']\n",
    "    }"
   ]
  },
  {
   "cell_type": "markdown",
   "metadata": {},
   "source": [
    "# 2. Accéder et fusionner des dictionnaires\n",
    "Combiner `dict1`, `dict2` et `dict3` dans `mon_dict`. Cela fait, récupérer la valeur de `cle_speciale` à partir de `mon_dict` dans une variable `valeur_speciale`. \n",
    "- Noter bien que les dictionnaires d'origines devraient rester intacts et que `cle_special` devrait être supprimée de `mon_dict`."
   ]
  },
  {
   "cell_type": "code",
   "execution_count": null,
   "metadata": {},
   "outputs": [],
   "source": [
    "dict1 = dict(cle1=\"Ce n'est pas si difficile\", cle2='Python est toujours cool')\n",
    "dict2 = {'cle1': 123, 'cle_speciale': 'secret'}\n",
    "# C'est une autre façon d'initialiser un dictionnaire (avec une liste de 2-tuples) \n",
    "dict3 = dict([('cle2', 456), ('cleX', 'X')])"
   ]
  },
  {
   "cell_type": "code",
   "execution_count": null,
   "metadata": {},
   "outputs": [],
   "source": [
    "# À toi de jouer\n",
    "mon_dict = \n",
    "valeur_speciale = "
   ]
  },
  {
   "cell_type": "code",
   "execution_count": null,
   "metadata": {
    "editable": false
   },
   "outputs": [],
   "source": [
    "assert mon_dict == {'cle1': 123, 'cle2': 456, 'cleX': 'X'}\n",
    "assert valeur_speciale == 'secret'\n",
    "\n",
    "# Vérifions que les originaux n'ont pas été modifiés\n",
    "assert dict1 == {\n",
    "        'cle1': \"Ce n'est pas si difficile\",\n",
    "        'cle2': 'Python est toujours cool'\n",
    "    }\n",
    "assert dict2 == {'cle1': 123, 'cle_speciale': 'secret'}\n",
    "assert dict3 == {'cle2': 456, 'cleX': 'X'}"
   ]
  }
 ],
 "metadata": {
  "celltoolbar": "Edit Metadata",
  "kernelspec": {
   "display_name": "Python 3",
   "language": "python",
   "name": "python3"
  },
  "language_info": {
   "codemirror_mode": {
    "name": "ipython",
    "version": 3
   },
   "file_extension": ".py",
   "mimetype": "text/x-python",
   "name": "python",
   "nbconvert_exporter": "python",
   "pygments_lexer": "ipython3",
   "version": "3.6.8"
  }
 },
 "nbformat": 4,
 "nbformat_minor": 4
}
