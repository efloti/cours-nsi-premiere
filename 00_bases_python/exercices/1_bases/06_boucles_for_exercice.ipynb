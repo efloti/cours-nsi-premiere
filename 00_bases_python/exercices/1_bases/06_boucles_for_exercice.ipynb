{
 "cells": [
  {
   "cell_type": "markdown",
   "metadata": {},
   "source": [
    "# 1. Compléter les parties manquantes\n",
    "Complète les portions `____` du code ci-dessous."
   ]
  },
  {
   "cell_type": "code",
   "execution_count": null,
   "metadata": {
    "editable": false
   },
   "outputs": [],
   "source": [
    "mots = ['PYTHON', 'JOHN', 'frOMage', 'jaMbon', 'DOE', '123']"
   ]
  },
  {
   "cell_type": "code",
   "execution_count": null,
   "metadata": {},
   "outputs": [],
   "source": [
    "mots_en_majuscule = []\n",
    "\n",
    "for ____ in mots:\n",
    "    if ____.isupper():\n",
    "        ____.append(____)"
   ]
  },
  {
   "cell_type": "code",
   "execution_count": null,
   "metadata": {
    "editable": false
   },
   "outputs": [],
   "source": [
    "assert mots_en_majuscule == ['PYTHON', 'JOHN', 'DOE']"
   ]
  },
  {
   "cell_type": "markdown",
   "metadata": {},
   "source": [
    "# 2. Calculer la somme des valeurs d'un dictionnaire\n",
    "Calcule la somme des valeurs de `magique_dict` en prenant seulement en compte les valeurs numériques (aide: voir [isinstance](https://docs.python.org/3/library/functions.html#isinstance)). "
   ]
  },
  {
   "cell_type": "code",
   "execution_count": null,
   "metadata": {
    "editable": false
   },
   "outputs": [],
   "source": [
    "magique_dict = dict(val1=44, val2='valeur secrète', val3=55.0, val4=1)"
   ]
  },
  {
   "cell_type": "code",
   "execution_count": null,
   "metadata": {},
   "outputs": [],
   "source": [
    "# À toi de jouer\n",
    "somme_des_valeurs =     "
   ]
  },
  {
   "cell_type": "code",
   "execution_count": null,
   "metadata": {
    "editable": false
   },
   "outputs": [],
   "source": [
    "assert somme_des_valeurs == 100"
   ]
  },
  {
   "cell_type": "markdown",
   "metadata": {},
   "source": [
    "# 3. Créer une liste de chaînes - `str` - à partir d'une liste de nombres\n",
    "Les règles:\n",
    "* Si le nombre est un multiple de 5 et est impaire, la chaîne est `'cinq impaire'`\n",
    "* Si le nombre est un multiple de 5 et est paire, la chaîne est `'cinq paire'`\n",
    "* Si le nombre est impaire, la chaîne est `'impaire'`\n",
    "* Si le nombre est paire, la chaîne est `'paire'`"
   ]
  },
  {
   "cell_type": "code",
   "execution_count": null,
   "metadata": {
    "editable": false
   },
   "outputs": [],
   "source": [
    "nombres = [1, 3, 4, 6, 81, 80, 100, 95]"
   ]
  },
  {
   "cell_type": "code",
   "execution_count": null,
   "metadata": {},
   "outputs": [],
   "source": [
    "# À toi de jouer\n",
    "ma_liste = "
   ]
  },
  {
   "cell_type": "code",
   "execution_count": null,
   "metadata": {
    "editable": false
   },
   "outputs": [],
   "source": [
    "assert ma_liste == ['impaire', 'impaire', 'paire', 'paire', 'impaire', 'cinq paire', 'cinq paire', 'cinq impaire']"
   ]
  }
 ],
 "metadata": {
  "kernelspec": {
   "display_name": "Python 3",
   "language": "python",
   "name": "python3"
  },
  "language_info": {
   "codemirror_mode": {
    "name": "ipython",
    "version": 3
   },
   "file_extension": ".py",
   "mimetype": "text/x-python",
   "name": "python",
   "nbconvert_exporter": "python",
   "pygments_lexer": "ipython3",
   "version": "3.6.8"
  }
 },
 "nbformat": 4,
 "nbformat_minor": 4
}
