{
 "cells": [
  {
   "cell_type": "markdown",
   "metadata": {},
   "source": [
    "# 1. Compléter les parties manquantes\n",
    "Remplir les portions `____` ci-dessous pour obtenir les valeurs correctes pour les variables `en_minuscule`, `sans_blancs_inutiles` and `minuscules_et_sans_blancs_inutiles`."
   ]
  },
  {
   "cell_type": "code",
   "execution_count": null,
   "metadata": {},
   "outputs": [],
   "source": [
    "original = ' Les chaînes de caractères - strings - de Python sont TOP! '\n",
    "en_minuscule = original._____\n",
    "sans_blancs_inutiles = ____.strip()\n",
    "minuscules_et_sans_blancs_inutiles = original._____._____"
   ]
  },
  {
   "cell_type": "markdown",
   "metadata": {},
   "source": [
    "Vérifier votre réponse en exécutant la cellule ci-dessous:\n",
    "- `assert` lèvera une erreur de type `AssertionError` si le test est faux. \n",
    "- L'absence de valeur indique que vous avez réussi."
   ]
  },
  {
   "cell_type": "code",
   "execution_count": null,
   "metadata": {
    "editable": false
   },
   "outputs": [],
   "source": [
    "assert en_minuscule == ' les chaînes de caractères - strings - de python sont top! '\n",
    "assert sans_blancs_inutiles == 'Les chaînes de caractères - strings - de Python sont TOP!'\n",
    "assert minuscules_et_sans_blancs_inutiles == 'les chaînes de caractères - strings - de python sont top!'"
   ]
  },
  {
   "cell_type": "markdown",
   "metadata": {},
   "source": [
    "# 2. Améliorer une chaîne mal formatée\n",
    "Utiliser les méthodes de `str` pour convertir `laid` en `joli`."
   ]
  },
  {
   "cell_type": "code",
   "execution_count": null,
   "metadata": {
    "editable": false
   },
   "outputs": [],
   "source": [
    "laid = ' lE tiTre de MON nouveau Livre\\n\\n'"
   ]
  },
  {
   "cell_type": "code",
   "execution_count": null,
   "metadata": {},
   "outputs": [],
   "source": [
    "# À toi de jouer:\n",
    "joli = 'A FAIRE'"
   ]
  },
  {
   "cell_type": "markdown",
   "metadata": {},
   "source": [
    "Vérifions que cela produit le résultat désiré. `assert` lèvera -*raise* - une erreur [`AssertionError`](https://docs.python.org/3/library/exceptions.html#AssertionError) si le test ne vaut pas `True`."
   ]
  },
  {
   "cell_type": "code",
   "execution_count": null,
   "metadata": {
    "editable": false
   },
   "outputs": [],
   "source": [
    "print('Amélioration: {}'.format(joli))\n",
    "assert joli == 'Le Titre De Mon Nouveau Livre'"
   ]
  },
  {
   "cell_type": "markdown",
   "metadata": {},
   "source": [
    "# 3. Formater une chaîne de caractères - *string* - en utilisant des variables prédéfinies\n",
    "Créer `phrase` en utilisant `verbe`, `langage`, et `ponctuation` et tout autre chaîne dont vous pourriez avoir besoin."
   ]
  },
  {
   "cell_type": "code",
   "execution_count": null,
   "metadata": {
    "editable": false
   },
   "outputs": [],
   "source": [
    "verbe = 'est'\n",
    "langage = 'Python'\n",
    "ponctuation = '!'"
   ]
  },
  {
   "cell_type": "code",
   "execution_count": null,
   "metadata": {},
   "outputs": [],
   "source": [
    "# À toi de jouer:\n",
    "phrase = 'A FAIRE'"
   ]
  },
  {
   "cell_type": "code",
   "execution_count": null,
   "metadata": {
    "editable": false
   },
   "outputs": [],
   "source": [
    "print('phrase: {}'.format(phrase))\n",
    "assert phrase == \"Apprendre Python c'est marrant!\""
   ]
  }
 ],
 "metadata": {
  "celltoolbar": "Aucun(e)",
  "kernelspec": {
   "display_name": "Python 3",
   "language": "python",
   "name": "python3"
  },
  "language_info": {
   "codemirror_mode": {
    "name": "ipython",
    "version": 3
   },
   "file_extension": ".py",
   "mimetype": "text/x-python",
   "name": "python",
   "nbconvert_exporter": "python",
   "pygments_lexer": "ipython3",
   "version": "3.6.8"
  }
 },
 "nbformat": 4,
 "nbformat_minor": 4
}
