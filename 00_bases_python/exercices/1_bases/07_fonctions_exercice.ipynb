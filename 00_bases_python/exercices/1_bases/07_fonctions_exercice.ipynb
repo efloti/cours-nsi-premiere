{
 "cells": [
  {
   "cell_type": "markdown",
   "metadata": {},
   "source": [
    "# 1. Compléter les parties manquantes de la fonction `compter_nombres_pairs` \n",
    "Compléter les portions marquées `____` de l'implémentation de `compter_nombres_pairs` de façon à vérifier les assertions. Vous pouvez supposer que l'argument `nombres` est une liste d'entiers."
   ]
  },
  {
   "cell_type": "code",
   "execution_count": null,
   "metadata": {},
   "outputs": [],
   "source": [
    "____ compter_nombres_pairs(nombres):\n",
    "    compte = 0\n",
    "    for nb in ____:\n",
    "        if ____ % 2 == ____:\n",
    "            compte += ____\n",
    "    _____ _____"
   ]
  },
  {
   "cell_type": "code",
   "execution_count": null,
   "metadata": {
    "editable": false
   },
   "outputs": [],
   "source": [
    "assert compter_nombres_pairs([1, 2, 3, 4, 5, 6]) == 3\n",
    "assert compter_nombres_pairs([1, 3, 5, 7]) == 0\n",
    "assert compter_nombres_pairs([-2, 2, -10, 8]) == 4"
   ]
  },
  {
   "cell_type": "markdown",
   "metadata": {},
   "source": [
    "# 2. Personnes recherchées!\n",
    "Implémenter la fonction `trouver_personnes_recherchees` qui prend en argument une liste de noms (chaînes de caractères - `str`). La fonction devrait retourner une liste de noms qui sont présents à la fois dans `PERSONNES_RECHERCHEES` et dans la liste de noms fournie en argument à la fonction."
   ]
  },
  {
   "cell_type": "code",
   "execution_count": null,
   "metadata": {
    "editable": false
   },
   "outputs": [],
   "source": [
    "PERSONNES_RECHERCHEES = ['John Doe', 'Clint Eastwood', 'Chuck Norris']"
   ]
  },
  {
   "cell_type": "code",
   "execution_count": null,
   "metadata": {},
   "outputs": [],
   "source": [
    "# À toi de jouer!"
   ]
  },
  {
   "cell_type": "code",
   "execution_count": null,
   "metadata": {
    "editable": false
   },
   "outputs": [],
   "source": [
    "gens_a_verifier = ['Donald Duck', 'Clint Eastwood', 'John Doe', 'Barack Obama']\n",
    "recherches1 = trouver_personnes_recherchees(gens_a_verifier)\n",
    "assert len(recherches1) == 2\n",
    "assert 'John Doe' in recherches1\n",
    "assert 'Clint Eastwood'in recherches1\n",
    "\n",
    "gens_a_verifier2 = ['Donald Duck', 'Mickey Mouse', 'Zorro', 'Superman', 'Robin Hood']\n",
    "recherches2 = trouver_personnes_recherchees(gens_a_verifier2)\n",
    "assert recherches2 == []"
   ]
  },
  {
   "cell_type": "markdown",
   "metadata": {},
   "source": [
    "# 3. Trouver la longueur moyenne des mots d'une phrase\n",
    "Créer la fonction `longueur_moyenne_mots` qui prend une chaîne de caractères en arguments et retourne la longueur moyenne des mots qui forment cette chaîne. Vous pouvez supposer qu'il y a un seul espace entre chaque mot de la phrase et que la phrase n'a pas de ponctuation.\n",
    "Le résultat devrait être arrondi à un chiffre après la virgule (aide: voir [`round`](https://docs.python.org/3/library/functions.html#round))."
   ]
  },
  {
   "cell_type": "code",
   "execution_count": null,
   "metadata": {},
   "outputs": [],
   "source": [
    "# À toi de jouer!"
   ]
  },
  {
   "cell_type": "code",
   "execution_count": null,
   "metadata": {
    "editable": false
   },
   "outputs": [],
   "source": [
    "assert longueur_moyenne_mots('selt 4tre lett erwo rdss') == 4\n",
    "assert longueur_moyenne_mots('un deux trois') == 3.7\n",
    "assert longueur_moyenne_mots('un deux trois quatre') == 4.2\n",
    "assert longueur_moyenne_mots('') == 0"
   ]
  }
 ],
 "metadata": {
  "kernelspec": {
   "display_name": "Python 3",
   "language": "python",
   "name": "python3"
  },
  "language_info": {
   "codemirror_mode": {
    "name": "ipython",
    "version": 3
   },
   "file_extension": ".py",
   "mimetype": "text/x-python",
   "name": "python",
   "nbconvert_exporter": "python",
   "pygments_lexer": "ipython3",
   "version": "3.6.8"
  }
 },
 "nbformat": 4,
 "nbformat_minor": 4
}
