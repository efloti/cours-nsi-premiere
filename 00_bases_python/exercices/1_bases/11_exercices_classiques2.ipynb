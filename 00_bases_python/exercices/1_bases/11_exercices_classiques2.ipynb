{
 "cells": [
  {
   "cell_type": "markdown",
   "metadata": {
    "slideshow": {
     "slide_type": "slide"
    }
   },
   "source": [
    "# Exercices: Fonctions, Tableaux"
   ]
  },
  {
   "cell_type": "markdown",
   "metadata": {
    "slideshow": {
     "slide_type": "slide"
    }
   },
   "source": [
    "### Fonction 1\n",
    "\n",
    "Définir une fonction `valeur_absolue` qui prend un entier en argument et renvoie sa valeur absolue.\n",
    "\n",
    "**Note**: La valeur absolue d'un nombre est sa «distance à 0» c'est à dire ce nombre privé du signe moins s'il en avait un. ex: `valeur_absolue(-5)` donne `5`; `valeur_absolue(5)` donne `5`."
   ]
  },
  {
   "cell_type": "code",
   "execution_count": null,
   "metadata": {},
   "outputs": [],
   "source": []
  },
  {
   "cell_type": "markdown",
   "metadata": {
    "slideshow": {
     "slide_type": "subslide"
    }
   },
   "source": [
    "### Fonction 2\n",
    "\n",
    "1. Écrire une fonction `max2(a, b)` qui renvoie le plus grand des deux entiers `a` et `b`."
   ]
  },
  {
   "cell_type": "code",
   "execution_count": null,
   "metadata": {},
   "outputs": [],
   "source": []
  },
  {
   "cell_type": "markdown",
   "metadata": {
    "slideshow": {
     "slide_type": "fragment"
    }
   },
   "source": [
    "2. En se servant de la fonction `max2`, écrire une fonction `max3(a, b, c)` qui renvoie le plus grand des trois entiers `a`, `b` et `c`."
   ]
  },
  {
   "cell_type": "code",
   "execution_count": null,
   "metadata": {},
   "outputs": [],
   "source": []
  },
  {
   "cell_type": "markdown",
   "metadata": {
    "slideshow": {
     "slide_type": "subslide"
    }
   },
   "source": [
    "### Fonction 3\n",
    "\n",
    "Écrire une fonction `puissance(x, k)` qui renvoie `x` à la puissance `k` sans utiliser l'opérateur `**`. On utilisera une boucle `for` pour faire le calcul. \n",
    "\n",
    "On suppose que `k` est un entier positif et on rappelle que $x^0=1$."
   ]
  },
  {
   "cell_type": "code",
   "execution_count": null,
   "metadata": {},
   "outputs": [],
   "source": []
  },
  {
   "cell_type": "markdown",
   "metadata": {
    "slideshow": {
     "slide_type": "subslide"
    }
   },
   "source": [
    "### Fonction 4\n",
    "\n",
    "Une année est **bissextile** si elle est multiple de 4 mais pas multiple de 100, ou si elle est multiple de 400.\n",
    "\n",
    "De plus une année bissextile dure 366 jours au lieu de 355 ordinairement."
   ]
  },
  {
   "cell_type": "markdown",
   "metadata": {
    "slideshow": {
     "slide_type": "subslide"
    }
   },
   "source": [
    "1. Écrire une fonction `est_bissextile(annee)` qui renvoie `True` si l'année fournie en argument est bissextile, `False` autrement."
   ]
  },
  {
   "cell_type": "code",
   "execution_count": null,
   "metadata": {},
   "outputs": [],
   "source": []
  },
  {
   "cell_type": "markdown",
   "metadata": {
    "slideshow": {
     "slide_type": "subslide"
    }
   },
   "source": [
    "2. En reprenant votre fonction `est_bissextile`, écrire une fonction `nb_jours_annee(a)` qui renvoie le nombre de jours de l'année `a`."
   ]
  },
  {
   "cell_type": "code",
   "execution_count": null,
   "metadata": {},
   "outputs": [],
   "source": []
  },
  {
   "cell_type": "markdown",
   "metadata": {
    "slideshow": {
     "slide_type": "fragment"
    }
   },
   "source": [
    "3. Écrire une fonction `nb_jours_mois(a, m)` qui renvoie le nombre de jours dans le mois `m` de l'année `a` en réutilisant `nb_jours_annee(a)`.\n",
    "\n",
    "   On suppose que le mois `m` est un entier compris entre 1 (pour janvier) et 12 (pour décembre)."
   ]
  },
  {
   "cell_type": "code",
   "execution_count": null,
   "metadata": {},
   "outputs": [],
   "source": []
  },
  {
   "cell_type": "markdown",
   "metadata": {
    "slideshow": {
     "slide_type": "subslide"
    }
   },
   "source": [
    "4. À partir de là, ça se complique! L'exercice peut-être considéré comme un **mini-projet**. \n",
    "\n",
    "   Écrire une fonction `nb_jours(date1, date2)` qui renvoie le nombre de jours compris entre deux dates données.\n",
    "\n",
    "   On suppose que `date<n>` est un *tuple* de la forme `(jour, mois, annee)`.\n",
    "   \n",
    "   *conseil*: Commencer par écrire une fonction qui attend deux dates en arguments et renvoie ces deux dates dans l'ordre chronologique."
   ]
  },
  {
   "cell_type": "code",
   "execution_count": null,
   "metadata": {},
   "outputs": [],
   "source": []
  },
  {
   "cell_type": "code",
   "execution_count": null,
   "metadata": {},
   "outputs": [],
   "source": [
    "# zone de test: noter que le nombre de jours ne doit pas dépendre de l'ordre des dates.\n",
    "d1, d2 = (12, 3, 2019), (16, 3, 2019)\n",
    "assert nb_jours(d1, d2) == 4\n",
    "assert nb_jours(d2, d1) == 4\n",
    "d1, d2 = (12, 3, 2019), (16, 5, 2019)\n",
    "assert nb_jours(d1, d2) == 30 - 12 + 1 + 31 + (16-1)\n",
    "assert nb_jours(d2, d1) == 30 - 12 + 1 + 31 + (16-1)\n",
    "d1, d2, d3 = (12, 3, 2019), (17, 9, 2025), (16, 5, 2030)\n",
    "assert nb_jours(d1, d3) == nb_jours(d1, d2) + nb_jours(d2, d3)"
   ]
  },
  {
   "cell_type": "markdown",
   "metadata": {
    "slideshow": {
     "slide_type": "fragment"
    }
   },
   "source": [
    "5. En réutilisant les fonctions précédentes, écrire une fonction `calendrier()` qui demande une année à l'utilisateur et affiche le calendrier de cette année, c'est à dire la liste de tous les jours de tous les mois de cette année."
   ]
  },
  {
   "cell_type": "code",
   "execution_count": null,
   "metadata": {},
   "outputs": [],
   "source": []
  },
  {
   "cell_type": "markdown",
   "metadata": {
    "slideshow": {
     "slide_type": "slide"
    }
   },
   "source": [
    "### Tableau 1\n",
    "\n",
    "Écrire une fonction `occurence(v, t)` qui renvoie le nombre d'occurences de la valeur `v` dans le tableau `t`."
   ]
  },
  {
   "cell_type": "code",
   "execution_count": null,
   "metadata": {},
   "outputs": [],
   "source": []
  },
  {
   "cell_type": "markdown",
   "metadata": {
    "slideshow": {
     "slide_type": "subslide"
    }
   },
   "source": [
    "### Tableau 2\n",
    "\n",
    "1. Écrire une foncion `cent_entiers_au_hasard()` qui renvoie un tableau de 100 entiers tirés au hasard entre 1 et 1000."
   ]
  },
  {
   "cell_type": "code",
   "execution_count": null,
   "metadata": {},
   "outputs": [],
   "source": []
  },
  {
   "cell_type": "markdown",
   "metadata": {
    "slideshow": {
     "slide_type": "fragment"
    }
   },
   "source": [
    "2. Écrire une fonction `maximum(l)` qui renvoie la plus grande valeur de la liste d'entier positif `l`.\n",
    "\n",
    "   *aide*: Définir un *accumulateur* `maxi` initialisé à $-1$ puis utiliser une boucle `for` pour parcourir la liste tout en mettant `maxi` à jour..."
   ]
  },
  {
   "cell_type": "code",
   "execution_count": null,
   "metadata": {},
   "outputs": [],
   "source": []
  },
  {
   "cell_type": "markdown",
   "metadata": {
    "slideshow": {
     "slide_type": "subslide"
    }
   },
   "source": [
    "### Tableau 3\n",
    "\n",
    "En mathématiques, la très célèbre *suite de Fibonacci* est une séquence infinie d'entiers définie de la façon suivante: \n",
    "\n",
    "on part des deux entiers 0 et 1 puis on construit à chaque fois l'entier suivant comme la somme des deux entiers précédents $$0, 1, 1, 2, 3, 5, \\dots$$\n",
    "\n",
    "Écrire une fonction qui renvoie un tableau contenant les 30 premiers termes de la suite. Le dernier élément de ce tableau est $514\\,229$."
   ]
  },
  {
   "cell_type": "code",
   "execution_count": null,
   "metadata": {},
   "outputs": [],
   "source": []
  },
  {
   "cell_type": "markdown",
   "metadata": {
    "slideshow": {
     "slide_type": "subslide"
    }
   },
   "source": [
    "### Tableau 4\n",
    "\n",
    "Écrire une fonction `copie(t)` qui prend en argument un tableau `t` et renvoie une copie de ce tableau (sans utiliser `list(...)`).\n",
    "\n",
    "Quelle expérience peut-on faire pour s'assurer qu'on ne s'est pas trompé ?"
   ]
  },
  {
   "cell_type": "code",
   "execution_count": null,
   "metadata": {},
   "outputs": [],
   "source": []
  },
  {
   "cell_type": "markdown",
   "metadata": {
    "slideshow": {
     "slide_type": "subslide"
    }
   },
   "source": [
    "### Tableau 5\n",
    "\n",
    "Écrire une fonction `ajout(v, t)` qui crée un nouveau tableau contenant d'abord tous les éléments de `t` puis `v`. Interdit d'utiliser l'opérateur `+`."
   ]
  },
  {
   "cell_type": "code",
   "execution_count": null,
   "metadata": {},
   "outputs": [],
   "source": []
  },
  {
   "cell_type": "markdown",
   "metadata": {
    "slideshow": {
     "slide_type": "subslide"
    }
   },
   "source": [
    "### Tableau 6\n",
    "\n",
    "Écrire une fonction `concatenation(t1, t2)` qui crée un nouveau tableau contenant, dans l'ordre, tous les éléments de `t1` puis tous les éléments de `t2`. Interdit d'utiliser l'opérateur `+` (pour les listes...), ni la méthode `list.extend()`."
   ]
  },
  {
   "cell_type": "code",
   "execution_count": null,
   "metadata": {},
   "outputs": [],
   "source": []
  },
  {
   "cell_type": "markdown",
   "metadata": {
    "slideshow": {
     "slide_type": "subslide"
    }
   },
   "source": [
    "### Tableau 7\n",
    "\n",
    "Écrire une fonction `echange(tab, i, j)` qui echange dans tableau `tab` les éléments d'index (indices) `i` et `j`."
   ]
  },
  {
   "cell_type": "code",
   "execution_count": null,
   "metadata": {},
   "outputs": [],
   "source": []
  },
  {
   "cell_type": "markdown",
   "metadata": {
    "slideshow": {
     "slide_type": "subslide"
    }
   },
   "source": [
    "### Tableau 8\n",
    "\n",
    "1. Écrire une fonction `somme(tab)` qui calcule et renvoie la somme des éléments d'un tableau d'entiers.\n",
    "\n",
    "2. En déduire une fonction `moyenne(tab)` qui renvoie la moyenne des éléments du tableau `tab`, supposé non vide.\n",
    "\n",
    "3. Écrire une fonction `produit(tab)` qui renvoie le produit des éléments d'un tableau d'entiers. Si le tableau contient 0, la fonction devra renvoyer 0 sans terminer le parcours du tableau."
   ]
  },
  {
   "cell_type": "code",
   "execution_count": null,
   "metadata": {},
   "outputs": [],
   "source": []
  },
  {
   "cell_type": "markdown",
   "metadata": {
    "slideshow": {
     "slide_type": "subslide"
    }
   },
   "source": [
    "### Tableau 9\n",
    "\n",
    "Écrire une fonction `miroir(tab)` qui reçoit un tableau en argument et le modifie pour échanger le premier élément avec le dernier élément, le second avec l'avant dernier, etc. (`reverse` interdit!).\n",
    "\n",
    "On pourra réutiliser la fonction `echange` d'un exercice précédent."
   ]
  },
  {
   "cell_type": "code",
   "execution_count": null,
   "metadata": {},
   "outputs": [],
   "source": []
  },
  {
   "cell_type": "markdown",
   "metadata": {
    "slideshow": {
     "slide_type": "subslide"
    }
   },
   "source": [
    "### Tableau 10\n",
    "\n",
    "Pour mélanger les éléments d'un tableau aléatoirement, il existe un algorithme très simple qui procède ainsi:\n",
    "\n",
    "On parcourt le tableau de la gauche vers la droite et, pour chaque élément d'indice `i`, on l'échange avec un élément situé à un indice tiré aléatoirement entre 0 et `i` (inclus).\n",
    "\n",
    "Écrire une fonction `melange(tab)` qui réalise cet algorithme (connu sous le nom de *melange de Knuth*)"
   ]
  },
  {
   "cell_type": "code",
   "execution_count": null,
   "metadata": {},
   "outputs": [],
   "source": []
  },
  {
   "cell_type": "markdown",
   "metadata": {
    "slideshow": {
     "slide_type": "subslide"
    }
   },
   "source": [
    "### Tableau 11\n",
    "\n",
    "1. Écrire une fonction `prefixe(tab1, tab2)` qui renvoie `True` si le tableau `tab1` est un préfixe du tableau `tab2`, c'est-à-dire si le tableau `tab2` commence par les éléments du tableau `tab1` dans le même ordre.\n",
    "\n",
    "2. Similairement, écrire une fonction `suffixe(tab1, tab2)` qui renvoie `True` si le tableau `tab2` se termine par les éléments du tableau `tab1` dans le même ordre."
   ]
  },
  {
   "cell_type": "code",
   "execution_count": null,
   "metadata": {},
   "outputs": [],
   "source": []
  },
  {
   "cell_type": "markdown",
   "metadata": {
    "slideshow": {
     "slide_type": "subslide"
    }
   },
   "source": [
    "### Tableau 12\n",
    "\n",
    "1. Écrire une fonction `hamming(tab1, tab2)` qui prend deux tableaux en arguments supposé de même taille, et qui renvoie le nombre d'indices auxquels les deux tableaux diffèrent.\n",
    "\n",
    "2. Même chose sans supposer que les tableaux ont la même taille. On considère qu'un indice auquel seul l'un des tableaux est défini compte pour une différence."
   ]
  },
  {
   "cell_type": "code",
   "execution_count": null,
   "metadata": {},
   "outputs": [],
   "source": []
  }
 ],
 "metadata": {
  "celltoolbar": "Diaporama",
  "kernelspec": {
   "display_name": "Python 3",
   "language": "python",
   "name": "python3"
  },
  "language_info": {
   "codemirror_mode": {
    "name": "ipython",
    "version": 3
   },
   "file_extension": ".py",
   "mimetype": "text/x-python",
   "name": "python",
   "nbconvert_exporter": "python",
   "pygments_lexer": "ipython3",
   "version": "3.6.8"
  }
 },
 "nbformat": 4,
 "nbformat_minor": 4
}
