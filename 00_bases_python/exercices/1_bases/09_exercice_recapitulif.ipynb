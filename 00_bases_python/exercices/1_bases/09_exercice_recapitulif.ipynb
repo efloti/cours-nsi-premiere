{
 "cells": [
  {
   "cell_type": "markdown",
   "metadata": {},
   "source": [
    "# 1. Super voyelles\n",
    "Implémenter la fonction `super_voyelles` qui prend une chaîne en argument et qui en retourne une version modifiée. Dans la valeur de retour de `super_voyelles`, toutes les voyelles doivent être en majuscule et toutes les consonnes en minuscule. Les voyelles sont listées dans la variables `VOYELLES`. \n",
    "\n",
    "- aide: qu'obtient-on lorsqu'on applique la fonction prédéfinie `list` a une chaîne de caractères ?"
   ]
  },
  {
   "cell_type": "code",
   "execution_count": null,
   "metadata": {
    "editable": false
   },
   "outputs": [],
   "source": [
    "VOYELLES = ['a', 'e', 'i', 'o', 'u']"
   ]
  },
  {
   "cell_type": "code",
   "execution_count": null,
   "metadata": {},
   "outputs": [],
   "source": [
    "# À toi de jouer"
   ]
  },
  {
   "cell_type": "code",
   "execution_count": null,
   "metadata": {
    "editable": false
   },
   "outputs": [],
   "source": [
    "assert super_voyelles('hi wassup!') == 'hI wAssUp!'\n",
    "assert super_voyelles('HOw aRE You?') == 'hOw ArE yOU?'"
   ]
  },
  {
   "cell_type": "markdown",
   "metadata": {},
   "source": [
    "# 2. Jeu de plateau\n",
    "Implémenter la fonction `plateau_de_jeu` qui prend un argument entier. La fonction devrait retourner une chaîne qui ressemble à celle d'un plateau de jeu ordinaire (comme un jeu d'échec). Le plateau doit contenir autant de lignes et de colonnes que l'indique l'argument entier. Voir la cellule plus bas pour des exemples du comportement attendu.\n"
   ]
  },
  {
   "cell_type": "code",
   "execution_count": null,
   "metadata": {},
   "outputs": [],
   "source": [
    "# À toi de jouer"
   ]
  },
  {
   "cell_type": "code",
   "execution_count": null,
   "metadata": {
    "editable": false
   },
   "outputs": [],
   "source": [
    "plateau_de_5 = (\n",
    "' * * \\n'\n",
    "'* * *\\n'\n",
    "' * * \\n'\n",
    "'* * *\\n'\n",
    "' * * \\n'\n",
    ")\n",
    "\n",
    "plateau_de_10 = (\n",
    "' * * * * *\\n'\n",
    "'* * * * * \\n'\n",
    "' * * * * *\\n'\n",
    "'* * * * * \\n'\n",
    "' * * * * *\\n'\n",
    "'* * * * * \\n'\n",
    "' * * * * *\\n'\n",
    "'* * * * * \\n'\n",
    "' * * * * *\\n'\n",
    "'* * * * * \\n'\n",
    ")\n",
    "\n",
    "assert plateau_de_jeu(5) == plateau_de_5\n",
    "assert plateau_de_jeu(10) == plateau_de_10\n",
    "\n",
    "print(plateau_de_jeu(50))"
   ]
  }
 ],
 "metadata": {
  "kernelspec": {
   "display_name": "Python 3",
   "language": "python",
   "name": "python3"
  },
  "language_info": {
   "codemirror_mode": {
    "name": "ipython",
    "version": 3
   },
   "file_extension": ".py",
   "mimetype": "text/x-python",
   "name": "python",
   "nbconvert_exporter": "python",
   "pygments_lexer": "ipython3",
   "version": "3.6.8"
  }
 },
 "nbformat": 4,
 "nbformat_minor": 4
}
