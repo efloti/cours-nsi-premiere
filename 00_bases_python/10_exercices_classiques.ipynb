{
 "cells": [
  {
   "cell_type": "markdown",
   "metadata": {
    "slideshow": {
     "slide_type": "slide"
    }
   },
   "source": [
    "# Exercices"
   ]
  },
  {
   "cell_type": "markdown",
   "metadata": {},
   "source": [
    "**ATTENTION**: Les différentes sections sont cachées car le notebook est «gros». Utiliser la table des matières pour les ouvrir et bien vous organiser."
   ]
  },
  {
   "cell_type": "markdown",
   "metadata": {
    "toc-hr-collapsed": true,
    "toc-nb-collapsed": true
   },
   "source": [
    "## 1 - Affectations"
   ]
  },
  {
   "cell_type": "markdown",
   "metadata": {
    "slideshow": {
     "slide_type": "slide"
    }
   },
   "source": [
    "### Affectaction 1 - séquences"
   ]
  },
  {
   "cell_type": "markdown",
   "metadata": {
    "slideshow": {
     "slide_type": "slide"
    }
   },
   "source": [
    "Quelle est la valeur affichée par l'interprèteur après la séquence d'instructions suivantes ? ___\n",
    "```python\n",
    ">>> a = 3\n",
    ">>> a = 4\n",
    ">>> a = a + 2\n",
    ">>> a\n",
    "```"
   ]
  },
  {
   "cell_type": "markdown",
   "metadata": {},
   "source": [
    "**Solution**"
   ]
  },
  {
   "cell_type": "markdown",
   "metadata": {
    "jupyter": {
     "source_hidden": true
    }
   },
   "source": [
    "**6**"
   ]
  },
  {
   "cell_type": "markdown",
   "metadata": {
    "slideshow": {
     "slide_type": "subslide"
    }
   },
   "source": [
    "### Affectaction 2 - séquence bis"
   ]
  },
  {
   "cell_type": "markdown",
   "metadata": {
    "slideshow": {
     "slide_type": "subslide"
    }
   },
   "source": [
    "Même question. ___\n",
    "```python\n",
    ">>> a = 2\n",
    ">>> b = a * a\n",
    ">>> b = a * b\n",
    ">>> b = b * b\n",
    ">>> b\n",
    "```"
   ]
  },
  {
   "cell_type": "markdown",
   "metadata": {},
   "source": [
    "**Solution**"
   ]
  },
  {
   "cell_type": "markdown",
   "metadata": {
    "jupyter": {
     "source_hidden": true
    }
   },
   "source": [
    "**64**"
   ]
  },
  {
   "cell_type": "markdown",
   "metadata": {
    "slideshow": {
     "slide_type": "subslide"
    }
   },
   "source": [
    "### Affectaction 3 - répétition"
   ]
  },
  {
   "cell_type": "markdown",
   "metadata": {
    "slideshow": {
     "slide_type": "subslide"
    }
   },
   "source": [
    "Initialiser une variable `a` avec la valeur 2, puis répéter dix fois l'instruction `a = a * a`. \n",
    "\n",
    "Observer le résultat. Quelle puissance de 2 a-t-on ainsi calculée ? ___"
   ]
  },
  {
   "cell_type": "code",
   "execution_count": null,
   "metadata": {},
   "outputs": [],
   "source": [
    "# à faire ici ..."
   ]
  },
  {
   "cell_type": "markdown",
   "metadata": {},
   "source": [
    "**Solution**"
   ]
  },
  {
   "cell_type": "markdown",
   "metadata": {
    "jupyter": {
     "source_hidden": true
    }
   },
   "source": [
    "$\\bf{2^{(2^{10})}=2^{1024}}$"
   ]
  },
  {
   "cell_type": "markdown",
   "metadata": {
    "slideshow": {
     "slide_type": "subslide"
    }
   },
   "source": [
    "### Affectaction 4 - swap"
   ]
  },
  {
   "cell_type": "markdown",
   "metadata": {
    "slideshow": {
     "slide_type": "subslide"
    }
   },
   "source": [
    "On supposera qu'à l'origine les variables `a` et `b` contiennent chacune un nombre entier.\n",
    "\n",
    "1. Que fait la séquence d'instructions suivante? ___\n",
    "\n",
    "```python\n",
    ">>> tmp = a\n",
    ">>> a = b\n",
    ">>> b = tmp\n",
    "```"
   ]
  },
  {
   "cell_type": "code",
   "execution_count": null,
   "metadata": {},
   "outputs": [],
   "source": []
  },
  {
   "cell_type": "markdown",
   "metadata": {},
   "source": [
    "**Solution**"
   ]
  },
  {
   "cell_type": "markdown",
   "metadata": {
    "jupyter": {
     "source_hidden": true
    }
   },
   "source": [
    "**Échange (*swap*) les valeurs des variables a et b**"
   ]
  },
  {
   "cell_type": "markdown",
   "metadata": {
    "slideshow": {
     "slide_type": "fragment"
    }
   },
   "source": [
    "2. Écrire une instruction (une ligne) qui fait la même chose (*aide*: penser à l'affectaction multiple)"
   ]
  },
  {
   "cell_type": "code",
   "execution_count": null,
   "metadata": {},
   "outputs": [],
   "source": []
  },
  {
   "cell_type": "markdown",
   "metadata": {},
   "source": [
    "**Solution**"
   ]
  },
  {
   "cell_type": "code",
   "execution_count": null,
   "metadata": {
    "jupyter": {
     "source_hidden": true
    }
   },
   "outputs": [],
   "source": [
    "a, b = 1, 2\n",
    "a, b = b, a # la ligne importante\n",
    "a, b"
   ]
  },
  {
   "cell_type": "markdown",
   "metadata": {
    "slideshow": {
     "slide_type": "subslide"
    }
   },
   "source": [
    "### Affectaction 5 - sans dessus dessous"
   ]
  },
  {
   "cell_type": "markdown",
   "metadata": {
    "slideshow": {
     "slide_type": "subslide"
    }
   },
   "source": [
    "On met deux entiers dans deux «boîtes» `a` et `b`, par exemple 55 et 89.\n",
    "\n",
    "On remplace le contenu de `a` par la somme de celui de `a` et de `b`.\n",
    "\n",
    "Puis on remplace le contenu de `b` par le contenu de `a` moins le contenu de `b`.\n",
    "\n",
    "Enfin, on remplace le contenu de `a` par son contenu moins celui de `b`.\n",
    "\n",
    "Que contiennent `a` et `b` à la fin de ces opérations? ____\n",
    "\n",
    "Programme cet algorihme en Python."
   ]
  },
  {
   "cell_type": "code",
   "execution_count": null,
   "metadata": {},
   "outputs": [],
   "source": [
    "# à faire"
   ]
  },
  {
   "cell_type": "markdown",
   "metadata": {},
   "source": [
    "**Solution**"
   ]
  },
  {
   "cell_type": "markdown",
   "metadata": {
    "jupyter": {
     "source_hidden": true
    }
   },
   "source": [
    "**89** et **55**"
   ]
  },
  {
   "cell_type": "code",
   "execution_count": null,
   "metadata": {
    "jupyter": {
     "source_hidden": true
    }
   },
   "outputs": [],
   "source": [
    "a, b = 55, 89\n",
    "a = a + b\n",
    "b = a - b\n",
    "a = a - b\n",
    "a, b"
   ]
  },
  {
   "cell_type": "markdown",
   "metadata": {
    "toc-hr-collapsed": true,
    "toc-nb-collapsed": true
   },
   "source": [
    "## 2 - Opérations"
   ]
  },
  {
   "cell_type": "markdown",
   "metadata": {
    "slideshow": {
     "slide_type": "slide"
    }
   },
   "source": [
    "### Opération 1 - temps"
   ]
  },
  {
   "cell_type": "markdown",
   "metadata": {
    "slideshow": {
     "slide_type": "slide"
    }
   },
   "source": [
    "Écrire une fonction qui attend un nombre de secondes et qui renvoie une chaîne (*str*) dans le format `<heures>/<minutes>/<secondes>`"
   ]
  },
  {
   "cell_type": "code",
   "execution_count": null,
   "metadata": {},
   "outputs": [],
   "source": [
    "def formatter_duree(duree_sec):\n",
    "    pass # à faire"
   ]
  },
  {
   "cell_type": "markdown",
   "metadata": {},
   "source": [
    "**Solution**"
   ]
  },
  {
   "cell_type": "code",
   "execution_count": null,
   "metadata": {
    "jupyter": {
     "source_hidden": true
    }
   },
   "outputs": [],
   "source": [
    "def formatter_duree(duree_sec):\n",
    "    secondes = duree_sec % 60\n",
    "    duree_min = duree_sec // 60\n",
    "    \n",
    "    minutes = duree_min % 60\n",
    "    heures = duree_min // 60\n",
    "        \n",
    "    return f\"{heures}/{minutes}/{secondes}\"\n",
    "\n",
    "formatter_duree(130)"
   ]
  },
  {
   "cell_type": "markdown",
   "metadata": {
    "slideshow": {
     "slide_type": "subslide"
    }
   },
   "source": [
    "### Opération 2 - grouper"
   ]
  },
  {
   "cell_type": "markdown",
   "metadata": {
    "slideshow": {
     "slide_type": "subslide"
    }
   },
   "source": [
    "Écrire une fonction qui attend un nombre d'oeufs et qui renvoie le nombre de boîtes de 6 oeufs nécessaires à leur transport."
   ]
  },
  {
   "cell_type": "code",
   "execution_count": null,
   "metadata": {},
   "outputs": [],
   "source": [
    "def boites_oeufs(nb_oeufs):\n",
    "    pass # à faire     \n",
    "    return nb_boites"
   ]
  },
  {
   "cell_type": "markdown",
   "metadata": {},
   "source": [
    "**Solution**"
   ]
  },
  {
   "cell_type": "code",
   "execution_count": null,
   "metadata": {
    "jupyter": {
     "source_hidden": true
    }
   },
   "outputs": [],
   "source": [
    "def boites_oeufs(nb_oeufs):\n",
    "    nb_boites = nb_oeufs // 6\n",
    "    if nb_oeufs % 6 != 0: # reste des oeufs!\n",
    "        nb_boites += 1 # il nous faut donc une boîte de plus\n",
    "        \n",
    "    return nb_boites\n",
    "\n",
    "boites_oeufs(13)"
   ]
  },
  {
   "cell_type": "markdown",
   "metadata": {
    "toc-hr-collapsed": true,
    "toc-nb-collapsed": true
   },
   "source": [
    "## 3 - Boucles"
   ]
  },
  {
   "cell_type": "markdown",
   "metadata": {
    "slideshow": {
     "slide_type": "slide"
    }
   },
   "source": [
    "### Boucle 1 - répétition d'une multiplication"
   ]
  },
  {
   "cell_type": "markdown",
   "metadata": {
    "slideshow": {
     "slide_type": "slide"
    }
   },
   "source": [
    "Écrire une fonction qui demande un entier `n` à l'utilisateur, puis calcule renvoie le résultat de la multiplication\n",
    "$$2\\times 2\\times 2\\cdots\\times 2$$\n",
    "où on a `n` occurences (répétitions) de $2$."
   ]
  },
  {
   "cell_type": "code",
   "execution_count": null,
   "metadata": {
    "slideshow": {
     "slide_type": "-"
    }
   },
   "outputs": [],
   "source": [
    "def repeter_multiplication_avec_2(n):\n",
    "    pass"
   ]
  },
  {
   "cell_type": "markdown",
   "metadata": {},
   "source": [
    "**Solution**"
   ]
  },
  {
   "cell_type": "code",
   "execution_count": null,
   "metadata": {
    "jupyter": {
     "source_hidden": true
    }
   },
   "outputs": [],
   "source": [
    "def repeter_multiplication_avec_2(n):\n",
    "    resultat = 1 # accumulateur initialisé à 1: l'élément neutre de la multiplication.\n",
    "    \n",
    "    for i in range(n):\n",
    "        resultat = resultat * 2\n",
    "    \n",
    "    return resultat\n",
    "\n",
    "def repeter_multiplication_avec_2_var(n):\n",
    "    resultat = 2 # accumulateur initialisé à 2: ça complique\n",
    "    \n",
    "    if n == 0:\n",
    "        return 1 # tout nombre à la puissance 0 vaut 1.\n",
    "    \n",
    "    \n",
    "    for i in range(n-1):\n",
    "        resultat = resultat * 2\n",
    "    \n",
    "    return resultat"
   ]
  },
  {
   "cell_type": "markdown",
   "metadata": {},
   "source": [
    "[Voir pas à pas dans python tutor](http://pythontutor.com/visualize.html#code=def%20repeter_multiplication_avec_2%28n%29%3A%0A%20%20%20%20resultat%20%3D%201%20%23%20accumulateur%20initialis%C3%A9%20%C3%A0%201%3A%20l'%C3%A9l%C3%A9ment%20neutre%20de%20la%20multiplication.%0A%20%20%20%20%0A%20%20%20%20for%20i%20in%20range%28n%29%3A%0A%20%20%20%20%20%20%20%20resultat%20%3D%20resultat%20*%202%0A%20%20%20%20%0A%20%20%20%20return%20resultat%0A%0Arepeter_multiplication_avec_2%285%29&cumulative=false&curInstr=0&heapPrimitives=false&mode=display&origin=opt-frontend.js&py=3&rawInputLstJSON=%5B%5D&textReferences=false)"
   ]
  },
  {
   "cell_type": "markdown",
   "metadata": {
    "slideshow": {
     "slide_type": "subslide"
    }
   },
   "source": [
    "### Boucle 2 - factorielle"
   ]
  },
  {
   "cell_type": "markdown",
   "metadata": {
    "slideshow": {
     "slide_type": "subslide"
    }
   },
   "source": [
    "1. Écrire un programme qui calcule et affiche la chaîne de caractères `\"1*2*3*...*100\"` sans les points de suspensions!"
   ]
  },
  {
   "cell_type": "code",
   "execution_count": null,
   "metadata": {},
   "outputs": [],
   "source": [
    "# à faire"
   ]
  },
  {
   "cell_type": "markdown",
   "metadata": {},
   "source": [
    "**Solution**"
   ]
  },
  {
   "cell_type": "code",
   "execution_count": null,
   "metadata": {
    "jupyter": {
     "source_hidden": true
    }
   },
   "outputs": [],
   "source": [
    "prod_str = \"\" # accumulateur initialisé avec une chaîne vide\n",
    "\n",
    "for i in range(1, 101):\n",
    "    prod_str = f\"{prod_str}{i}\"\n",
    "    if i < 100: # sans ça une étoile en trop à la fin\n",
    "        prod_str = prod_str + \"*\"\n",
    "\n",
    "prod_str"
   ]
  },
  {
   "cell_type": "code",
   "execution_count": null,
   "metadata": {
    "jupyter": {
     "source_hidden": true
    }
   },
   "outputs": [],
   "source": [
    "# autre solution: avec `str.join(<liste>)`\n",
    "entiers_str = []\n",
    "for i in range(1,101):\n",
    "    i_str = str(i)\n",
    "    entiers_str.append(i_str)\n",
    "\"*\".join(entiers_str)"
   ]
  },
  {
   "cell_type": "markdown",
   "metadata": {},
   "source": [
    "[Voir pas à pas dans python tutor](http://pythontutor.com/visualize.html#code=prod_str%20%3D%20%22%22%20%23%20accumulateur%20initialis%C3%A9%20avec%20une%20cha%C3%AEne%20vide%0A%0Afor%20i%20in%20range%281,%20101%29%3A%0A%20%20%20%20prod_str%20%3D%20f%22%7Bprod_str%7D%7Bi%7D%22%0A%20%20%20%20if%20i%20%3C%20100%3A%20%23%20sans%20%C3%A7a%20une%20%C3%A9toile%20en%20trop%20%C3%A0%20la%20fin%0A%20%20%20%20%20%20%20%20prod_str%20%3D%20prod_str%20%2B%20%22*%22%0A%0Aprod_str&cumulative=false&curInstr=0&heapPrimitives=false&mode=display&origin=opt-frontend.js&py=3&rawInputLstJSON=%5B%5D&textReferences=false)"
   ]
  },
  {
   "cell_type": "markdown",
   "metadata": {
    "slideshow": {
     "slide_type": "fragment"
    }
   },
   "source": [
    "2. Écrire une fonction qui attend un entier `n` et renvoie la `str` précédente où le dernier nombre est l'entier fourni."
   ]
  },
  {
   "cell_type": "code",
   "execution_count": null,
   "metadata": {},
   "outputs": [],
   "source": [
    "def chaine_factorielle(n):\n",
    "    pass"
   ]
  },
  {
   "cell_type": "markdown",
   "metadata": {},
   "source": [
    "**Solution**"
   ]
  },
  {
   "cell_type": "code",
   "execution_count": null,
   "metadata": {
    "jupyter": {
     "source_hidden": true
    }
   },
   "outputs": [],
   "source": [
    "def chaine_factorielle(n):\n",
    "    ch_produit = \"\" # accumulateur initialisé avec une chaîne vide\n",
    "\n",
    "    for i in range(1, n + 1):\n",
    "        ch_produit = f\"{ch_produit}{i}\"\n",
    "        if i < n: # sans ça une étoile en trop à la fin\n",
    "            ch_produit += \"*\"\n",
    "    \n",
    "    return ch_produit\n",
    "\n",
    "chaine_factorielle(10)"
   ]
  },
  {
   "cell_type": "markdown",
   "metadata": {},
   "source": [
    "[Voir pas à pas dans python tutor](http://pythontutor.com/visualize.html#code=def%20chaine_factorielle%28n%29%3A%0A%20%20%20%20ch_produit%20%3D%20%22%22%20%23%20accumulateur%20initialis%C3%A9%20avec%20une%20cha%C3%AEne%20vide%0A%0A%20%20%20%20for%20i%20in%20range%281,%20n%20%2B%201%29%3A%0A%20%20%20%20%20%20%20%20ch_produit%20%3D%20f%22%7Bch_produit%7D%7Bi%7D%22%0A%20%20%20%20%20%20%20%20if%20i%20%3C%20n%3A%20%23%20sans%20%C3%A7a%20une%20%C3%A9toile%20en%20trop%20%C3%A0%20la%20fin%0A%20%20%20%20%20%20%20%20%20%20%20%20ch_produit%20%2B%3D%20%22*%22%0A%20%20%20%20%0A%20%20%20%20return%20ch_produit%0A%0Achaine_factorielle%2810%29&cumulative=false&curInstr=0&heapPrimitives=false&mode=display&origin=opt-frontend.js&py=3&rawInputLstJSON=%5B%5D&textReferences=false)"
   ]
  },
  {
   "cell_type": "markdown",
   "metadata": {
    "slideshow": {
     "slide_type": "subslide"
    }
   },
   "source": [
    "3. Écrire une fonction qui attend un entier `n` et renvoie le résultat *int* de l'opération précédente."
   ]
  },
  {
   "cell_type": "code",
   "execution_count": null,
   "metadata": {},
   "outputs": [],
   "source": [
    "def factorielle(n):\n",
    "    pass"
   ]
  },
  {
   "cell_type": "markdown",
   "metadata": {},
   "source": [
    "**Solution**"
   ]
  },
  {
   "cell_type": "code",
   "execution_count": null,
   "metadata": {
    "jupyter": {
     "source_hidden": true
    }
   },
   "outputs": [],
   "source": [
    "def factorielle(n):\n",
    "    fact = 1 # accumultateur initialisé à 1 car «produit»\n",
    "    for i in range(1,n+1):\n",
    "        fact = fact * i\n",
    "    return fact\n",
    "\n",
    "factorielle(3)"
   ]
  },
  {
   "cell_type": "markdown",
   "metadata": {},
   "source": [
    "[Voir pas à pas dans python tutor](http://pythontutor.com/visualize.html#code=def%20factorielle%28n%29%3A%0A%20%20%20%20fact%20%3D%201%20%23%20accumultateur%20initialis%C3%A9%20%C3%A0%201%20car%20%C2%ABproduit%C2%BB%0A%20%20%20%20for%20i%20in%20range%281,n%2B1%29%3A%0A%20%20%20%20%20%20%20%20fact%20%3D%20fact%20*%20i%0A%20%20%20%20return%20fact%0A%0Afactorielle%283%29&cumulative=false&curInstr=0&heapPrimitives=false&mode=display&origin=opt-frontend.js&py=3&rawInputLstJSON=%5B%5D&textReferences=false)"
   ]
  },
  {
   "cell_type": "markdown",
   "metadata": {
    "slideshow": {
     "slide_type": "subslide"
    }
   },
   "source": [
    "### Boucle 3 - somme entiers consecutifs"
   ]
  },
  {
   "cell_type": "markdown",
   "metadata": {
    "slideshow": {
     "slide_type": "subslide"
    }
   },
   "source": [
    "1. Reprendre la dernière question de l'exercice précédent où la multiplication est remplacée par l'addition."
   ]
  },
  {
   "cell_type": "code",
   "execution_count": null,
   "metadata": {},
   "outputs": [],
   "source": [
    "def somme_entiers_consecutifs(n):\n",
    "    pass"
   ]
  },
  {
   "cell_type": "markdown",
   "metadata": {},
   "source": [
    "**Solution**"
   ]
  },
  {
   "cell_type": "code",
   "execution_count": null,
   "metadata": {
    "jupyter": {
     "source_hidden": true
    }
   },
   "outputs": [],
   "source": [
    "def somme_entiers_consecutifs(n):\n",
    "    somme = 0 # acc initialisé à 0 car «addition»\n",
    "    for i in range(1, n+1):\n",
    "        somme = somme + i\n",
    "    return somme\n",
    "\n",
    "somme_entiers_consecutifs(4)"
   ]
  },
  {
   "cell_type": "markdown",
   "metadata": {},
   "source": [
    "[Voir pas à pas dans python tutor](http://pythontutor.com/visualize.html#code=def%20somme_entiers_consecutifs%28n%29%3A%0A%20%20%20%20somme%20%3D%200%20%23%20acc%20initialis%C3%A9%20%C3%A0%200%20car%20%C2%ABaddition%C2%BB%0A%20%20%20%20for%20i%20in%20range%281,%20n%2B1%29%3A%0A%20%20%20%20%20%20%20%20somme%20%3D%20somme%20%2B%20i%0A%20%20%20%20return%20somme%0A%0Asomme_entiers_consecutifs%284%29&cumulative=false&curInstr=0&heapPrimitives=false&mode=display&origin=opt-frontend.js&py=3&rawInputLstJSON=%5B%5D&textReferences=false)"
   ]
  },
  {
   "cell_type": "markdown",
   "metadata": {
    "slideshow": {
     "slide_type": "subslide"
    }
   },
   "source": [
    "2. Réaliser une «micro»-fonction `lambda` qui implémente la fonction $n\\mapsto \\dfrac{n(n+1)}{2}$ (voir *note* en dessous)"
   ]
  },
  {
   "cell_type": "code",
   "execution_count": null,
   "metadata": {},
   "outputs": [],
   "source": []
  },
  {
   "cell_type": "markdown",
   "metadata": {},
   "source": [
    "*Note*: une «micro»-fonction sert à produire rapidement une fonction lorsque celle-ci est de la forme «$x\\mapsto\\text{expression}$». En python, cela donne `nom_fonction = lambda x: <expression>`.\n",
    "\n",
    "*expression*: tout ce qui produit une valeur\n",
    "\n",
    "*Exemples*:\n",
    "- la fonction carré $x\\mapsto x^2$ peut s'écrire `carre = lambda x: x ** 2`\n",
    "- la fonction «surface d'un rectangle» $\\quad l, L \\mapsto l\\times L\\quad$ peut s'écrire `surface_rect = lambda l, L: l * L`"
   ]
  },
  {
   "cell_type": "code",
   "execution_count": null,
   "metadata": {
    "slideshow": {
     "slide_type": "subslide"
    }
   },
   "outputs": [],
   "source": [
    "# zone pour tester les «micro»-fonctions\n",
    "carre = lambda x: x ** 2\n",
    "carre(3)"
   ]
  },
  {
   "cell_type": "markdown",
   "metadata": {},
   "source": [
    "**Solution**"
   ]
  },
  {
   "cell_type": "code",
   "execution_count": null,
   "metadata": {
    "jupyter": {
     "source_hidden": true
    }
   },
   "outputs": [],
   "source": [
    "micro = lambda n : n * (n + 1) / 2"
   ]
  },
  {
   "cell_type": "markdown",
   "metadata": {
    "slideshow": {
     "slide_type": "fragment"
    }
   },
   "source": [
    "3. Comparer les résultats de l'une et de l'autre pour les valeurs 10, 100 et 347.\n",
    "\n",
    " Qu'observez-vous ? ___ (Démontrer... ou attendre le chapitre sur les suites!)"
   ]
  },
  {
   "cell_type": "code",
   "execution_count": null,
   "metadata": {},
   "outputs": [],
   "source": []
  },
  {
   "cell_type": "markdown",
   "metadata": {},
   "source": [
    "**Solution**"
   ]
  },
  {
   "cell_type": "markdown",
   "metadata": {
    "jupyter": {
     "source_hidden": true
    }
   },
   "source": [
    "**Elles donnent le même résultat** (démontrer ... ou attendre le chapitre sur les suites)\n",
    " \n",
    " **Démontrer** : \n",
    " \n",
    "         S     =    1  +    2  + ...... +   n-1 +    n\n",
    "         S     =    n  +  n-1  + ...... +     2 +    1\n",
    "         S + S = (n+1) + (n+1) + ...... + (n+1) + (n+1)\n",
    "         en ajoutant membre a membre, «colonne par colonne»\n",
    "     \n",
    "         à gauche de = 2S\n",
    "         à droite de = n*(n+1) car (n+1) est répété précisément n fois\n",
    "         les deux sont égaux donc S=n*(n+1)/2             c.q.f.d"
   ]
  },
  {
   "cell_type": "code",
   "execution_count": null,
   "metadata": {
    "jupyter": {
     "source_hidden": true
    }
   },
   "outputs": [],
   "source": [
    "for nb in [10, 100, 347]:\n",
    "    test = ( micro(nb) == somme_entiers_consecutifs(nb) )\n",
    "    print(test)"
   ]
  },
  {
   "cell_type": "markdown",
   "metadata": {
    "slideshow": {
     "slide_type": "subslide"
    }
   },
   "source": [
    "### Boucle 4 - dépôt rémunéré"
   ]
  },
  {
   "cell_type": "markdown",
   "metadata": {
    "slideshow": {
     "slide_type": "subslide"
    }
   },
   "source": [
    "Écrire une fonction pour résoudre le problème suivant.\n",
    "\n",
    ">Une somme initiale de `depot` € est déposée sur un livret rémunéré avec un taux d'intérêts annuels `taux` exprimé en pourcents.\n",
    ">\n",
    ">Quel montant total se trouve sur le livret après `n` années?"
   ]
  },
  {
   "cell_type": "code",
   "execution_count": null,
   "metadata": {},
   "outputs": [],
   "source": [
    "def montant_depot(depot, taux, n):\n",
    "    pass"
   ]
  },
  {
   "cell_type": "markdown",
   "metadata": {},
   "source": [
    "**Solution**"
   ]
  },
  {
   "cell_type": "code",
   "execution_count": null,
   "metadata": {
    "jupyter": {
     "source_hidden": true
    }
   },
   "outputs": [],
   "source": [
    "def montant_depot(depot, taux, n):\n",
    "    montant = depot\n",
    "    for _ in range(n):\n",
    "        interet = montant * taux / 100\n",
    "        montant = montant + interet\n",
    "    return montant\n",
    "\n",
    "d, t, a = 100, 5, 10\n",
    "au_final = montant_depot(d, t, a)\n",
    "print(f\"Montant du dépot après {a} années rémunéré à {t}% avec une mise de départ de {d}€: {round(au_final, 2)}€\")"
   ]
  },
  {
   "cell_type": "markdown",
   "metadata": {},
   "source": [
    "[Voir pas à pas dans python tutor](http://pythontutor.com/visualize.html#code=def%20montant_depot%28depot,%20taux,%20n%29%3A%0A%20%20%20%20montant%20%3D%20depot%0A%20%20%20%20for%20_%20in%20range%28n%29%3A%0A%20%20%20%20%20%20%20%20interet%20%3D%20montant%20*%20taux%20/%20100%0A%20%20%20%20%20%20%20%20montant%20%3D%20montant%20%2B%20interet%0A%20%20%20%20return%20montant%0A%0Ad,%20t,%20a%20%3D%20100,%205,%2010%0Aau_final%20%3D%20montant_depot%28d,%20t,%20a%29%0Aprint%28f%22Montant%20du%20d%C3%A9pot%20apr%C3%A8s%20%7Ba%7D%20ann%C3%A9es%20r%C3%A9mun%C3%A9r%C3%A9%20%C3%A0%20%7Bt%7D%25%20avec%20une%20mise%20de%20d%C3%A9part%20de%20%7Bd%7D%E2%82%AC%3A%20%7Bround%28au_final,%202%29%7D%E2%82%AC%22%29&cumulative=false&curInstr=0&heapPrimitives=false&mode=display&origin=opt-frontend.js&py=3&rawInputLstJSON=%5B%5D&textReferences=false)"
   ]
  },
  {
   "cell_type": "markdown",
   "metadata": {
    "toc-hr-collapsed": true,
    "toc-nb-collapsed": true
   },
   "source": [
    "## 4 - Tests"
   ]
  },
  {
   "cell_type": "markdown",
   "metadata": {
    "slideshow": {
     "slide_type": "slide"
    }
   },
   "source": [
    "### Test 1 - diviseurs d'un entier"
   ]
  },
  {
   "cell_type": "markdown",
   "metadata": {
    "slideshow": {
     "slide_type": "slide"
    }
   },
   "source": [
    "Écrire une fonction qui attend un entier `n` et renvoie la liste de tous ses diviseurs."
   ]
  },
  {
   "cell_type": "code",
   "execution_count": null,
   "metadata": {},
   "outputs": [],
   "source": [
    "def trouver_diviseurs(n):\n",
    "    pass"
   ]
  },
  {
   "cell_type": "markdown",
   "metadata": {},
   "source": [
    "**Solution**"
   ]
  },
  {
   "cell_type": "code",
   "execution_count": null,
   "metadata": {
    "jupyter": {
     "source_hidden": true
    }
   },
   "outputs": [],
   "source": [
    "def trouver_diviseurs(n):\n",
    "    diviseurs = []\n",
    "    for i in range(1,n+1):\n",
    "        if n % i == 0:\n",
    "            diviseurs.append(i)\n",
    "    return diviseurs\n",
    "\n",
    "trouver_diviseurs(24)"
   ]
  },
  {
   "cell_type": "markdown",
   "metadata": {},
   "source": [
    "[Voir pas à pas dans python tutor](http://pythontutor.com/visualize.html#code=def%20trouver_diviseurs%28n%29%3A%0A%20%20%20%20diviseurs%20%3D%20%5B%5D%0A%20%20%20%20for%20i%20in%20range%281,n%2B1%29%3A%0A%20%20%20%20%20%20%20%20if%20n%20%25%20i%20%3D%3D%200%3A%0A%20%20%20%20%20%20%20%20%20%20%20%20diviseurs.append%28i%29%0A%20%20%20%20return%20diviseurs%0A%0Atrouver_diviseurs%2824%29&cumulative=false&curInstr=0&heapPrimitives=false&mode=display&origin=opt-frontend.js&py=3&rawInputLstJSON=%5B%5D&textReferences=false)"
   ]
  },
  {
   "cell_type": "markdown",
   "metadata": {
    "slideshow": {
     "slide_type": "subslide"
    }
   },
   "source": [
    "### Test 2 - diviseurs premiers"
   ]
  },
  {
   "cell_type": "markdown",
   "metadata": {
    "slideshow": {
     "slide_type": "subslide"
    }
   },
   "source": [
    "1. Réutiliser la fonction de l'exercice précédent de façon à écrire une fonction `trouver_diviseurs_premiers(n)` qui renvoie la liste des diviseurs premiers de l'entier `n`.\n",
    "\n",
    "  *Rappel*: un nombre premier est strictement plus grand que 1 et n'est divisible que par 1 et par lui-même."
   ]
  },
  {
   "cell_type": "code",
   "execution_count": null,
   "metadata": {},
   "outputs": [],
   "source": [
    "def trouver_diviseurs_premiers(n):\n",
    "    pass"
   ]
  },
  {
   "cell_type": "markdown",
   "metadata": {},
   "source": [
    "**Solution**"
   ]
  },
  {
   "cell_type": "code",
   "execution_count": null,
   "metadata": {
    "jupyter": {
     "source_hidden": true
    }
   },
   "outputs": [],
   "source": [
    "def trouver_diviseurs(n):\n",
    "    diviseurs = []\n",
    "    for i in range(1,n+1):\n",
    "        if n % i == 0:\n",
    "            diviseurs.append(i)\n",
    "    return diviseurs\n",
    "\n",
    "def trouver_diviseurs_premiers(n):\n",
    "    diviseurs_p = []\n",
    "    for i in range(1,n+1):\n",
    "        if n % i == 0 and len(trouver_diviseurs(i)) == 2:\n",
    "            diviseurs_p.append(i)\n",
    "    return diviseurs_p\n",
    "\n",
    "trouver_diviseurs_premiers(24)"
   ]
  },
  {
   "cell_type": "markdown",
   "metadata": {},
   "source": [
    "[Voir pas à pas dans python tutor](http://pythontutor.com/visualize.html#code=def%20trouver_diviseurs%28n%29%3A%0A%20%20%20%20diviseurs%20%3D%20%5B%5D%0A%20%20%20%20for%20i%20in%20range%281,n%2B1%29%3A%0A%20%20%20%20%20%20%20%20if%20n%20%25%20i%20%3D%3D%200%3A%0A%20%20%20%20%20%20%20%20%20%20%20%20diviseurs.append%28i%29%0A%20%20%20%20return%20diviseurs%0A%0Adef%20trouver_diviseurs_premiers%28n%29%3A%0A%20%20%20%20diviseurs_p%20%3D%20%5B%5D%0A%20%20%20%20for%20i%20in%20range%281,n%2B1%29%3A%0A%20%20%20%20%20%20%20%20if%20n%20%25%20i%20%3D%3D%200%20and%20len%28trouver_diviseurs%28i%29%29%20%3D%3D%202%3A%0A%20%20%20%20%20%20%20%20%20%20%20%20diviseurs_p.append%28i%29%0A%20%20%20%20return%20diviseurs_p%0A%0Atrouver_diviseurs_premiers%2824%29&cumulative=false&curInstr=0&heapPrimitives=false&mode=display&origin=opt-frontend.js&py=3&rawInputLstJSON=%5B%5D&textReferences=false)"
   ]
  },
  {
   "cell_type": "markdown",
   "metadata": {
    "slideshow": {
     "slide_type": "subslide"
    }
   },
   "source": [
    "*Dernière adaptation*: votre fonction renvoie une chaîne de caractère de format `\"<div1>, <div2>, <div3>*,...\"` où `*` indique que le diviseur est premier."
   ]
  },
  {
   "cell_type": "code",
   "execution_count": null,
   "metadata": {},
   "outputs": [],
   "source": [
    "def trouver_diviseurs_var(n):\n",
    "    pass"
   ]
  },
  {
   "cell_type": "markdown",
   "metadata": {},
   "source": [
    "**Solution**"
   ]
  },
  {
   "cell_type": "code",
   "execution_count": null,
   "metadata": {
    "jupyter": {
     "source_hidden": true
    }
   },
   "outputs": [],
   "source": [
    "def trouver_diviseurs_var(n):\n",
    "    diviseurs = trouver_diviseurs(n)\n",
    "    diviseurs_p = trouver_diviseurs_premiers(n)\n",
    "    \n",
    "    ch_diviseurs = \"\"\n",
    "    \n",
    "    Nb_diviseurs = len(diviseurs)\n",
    "    for i in range(Nb_diviseurs):\n",
    "        d = diviseurs[i]\n",
    "        ch_diviseurs += str(d)\n",
    "        if d in diviseurs_p:\n",
    "            ch_diviseurs += \"*\"\n",
    "        \n",
    "        if i < Nb_diviseurs - 1:\n",
    "            ch_diviseurs += \", \"\n",
    "            \n",
    "    return ch_diviseurs\n",
    "\n",
    "trouver_diviseurs_var(24)"
   ]
  },
  {
   "cell_type": "markdown",
   "metadata": {},
   "source": [
    "[Voir pas à pas dans python tutor](http://pythontutor.com/visualize.html#code=def%20trouver_diviseurs%28n%29%3A%0A%20%20%20%20diviseurs%20%3D%20%5B%5D%0A%20%20%20%20for%20i%20in%20range%281,n%2B1%29%3A%0A%20%20%20%20%20%20%20%20if%20n%20%25%20i%20%3D%3D%200%3A%0A%20%20%20%20%20%20%20%20%20%20%20%20diviseurs.append%28i%29%0A%20%20%20%20return%20diviseurs%0A%0Adef%20trouver_diviseurs_premiers%28n%29%3A%0A%20%20%20%20diviseurs_p%20%3D%20%5B%5D%0A%20%20%20%20for%20i%20in%20range%281,n%2B1%29%3A%0A%20%20%20%20%20%20%20%20if%20n%20%25%20i%20%3D%3D%200%20and%20len%28trouver_diviseurs%28i%29%29%20%3D%3D%202%3A%0A%20%20%20%20%20%20%20%20%20%20%20%20diviseurs_p.append%28i%29%0A%20%20%20%20return%20diviseurs_p%0A%0Adef%20trouver_diviseurs_var%28n%29%3A%0A%20%20%20%20diviseurs%20%3D%20trouver_diviseurs%28n%29%0A%20%20%20%20diviseurs_p%20%3D%20trouver_diviseurs_premiers%28n%29%0A%20%20%20%20%0A%20%20%20%20ch_diviseurs%20%3D%20%22%22%0A%20%20%20%20%0A%20%20%20%20Nb_diviseurs%20%3D%20len%28diviseurs%29%0A%20%20%20%20for%20i%20in%20range%28Nb_diviseurs%29%3A%0A%20%20%20%20%20%20%20%20d%20%3D%20diviseurs%5Bi%5D%0A%20%20%20%20%20%20%20%20ch_diviseurs%20%2B%3D%20str%28d%29%0A%20%20%20%20%20%20%20%20if%20d%20in%20diviseurs_p%3A%0A%20%20%20%20%20%20%20%20%20%20%20%20ch_diviseurs%20%2B%3D%20%22*%22%0A%20%20%20%20%20%20%20%20%0A%20%20%20%20%20%20%20%20if%20i%20%3C%20Nb_diviseurs%20-%201%3A%0A%20%20%20%20%20%20%20%20%20%20%20%20ch_diviseurs%20%2B%3D%20%22,%20%22%0A%20%20%20%20%20%20%20%20%20%20%20%20%0A%20%20%20%20return%20ch_diviseurs%0A%0Atrouver_diviseurs_var%2824%29&cumulative=false&curInstr=0&heapPrimitives=false&mode=display&origin=opt-frontend.js&py=3&rawInputLstJSON=%5B%5D&textReferences=false)"
   ]
  },
  {
   "cell_type": "markdown",
   "metadata": {
    "slideshow": {
     "slide_type": "subslide"
    }
   },
   "source": [
    "### Test 3 - Jeu de mölkky"
   ]
  },
  {
   "cell_type": "markdown",
   "metadata": {
    "slideshow": {
     "slide_type": "subslide"
    }
   },
   "source": [
    "Au *jeu de mölkky*, chaque joueur marque à son tour de jeu entre 0 et 12 points, qui viennent s'ajouter à son score précédent.\n",
    "\n",
    "Le premier à atteindre un score de **51** gagne.\n",
    "\n",
    "Mais gare! Quiconque dépasse le score cible de 51 revient immédiatement à 25 points.\n",
    "\n",
    "1. Écrire une fonction qui attend le `score` du joueur ainsi que le nombre de points `gain` marqué à ce tour. Elle renvoie le nouveau score."
   ]
  },
  {
   "cell_type": "code",
   "execution_count": null,
   "metadata": {},
   "outputs": [],
   "source": [
    "def tour_molkky(score, gain):\n",
    "    pass"
   ]
  },
  {
   "cell_type": "markdown",
   "metadata": {},
   "source": [
    "**Solution**"
   ]
  },
  {
   "cell_type": "code",
   "execution_count": null,
   "metadata": {
    "jupyter": {
     "source_hidden": true
    }
   },
   "outputs": [],
   "source": [
    "def tour_molkky(score, gain):\n",
    "    if score + gain > 51:\n",
    "        score = 25\n",
    "    else:\n",
    "        score += gain\n",
    "    return score"
   ]
  },
  {
   "cell_type": "markdown",
   "metadata": {
    "slideshow": {
     "slide_type": "subslide"
    }
   },
   "source": [
    "2. Compléter la fonction qui suit et qui permet de jouer au *jeu de mölkky* avec un gain aléatoire (voir *note*) à chaque tour. Elle renvoie une chaîne de caractères au format \"Gagné! Nombre de tour du jeu: xxx\""
   ]
  },
  {
   "cell_type": "code",
   "execution_count": null,
   "metadata": {},
   "outputs": [],
   "source": [
    "from random import randint\n",
    "\n",
    "def molkky_aleatoire():\n",
    "    score = ___\n",
    "    nb_tours = ___\n",
    "    \n",
    "    while True:\n",
    "        ___ = nb_tours + 1\n",
    "        gain = randint(___,___)\n",
    "        score = ___\n",
    "        print(f\"Score={score} au {nb_tours}-ième tour.\")\n",
    "        if score == 51: ___"
   ]
  },
  {
   "cell_type": "markdown",
   "metadata": {
    "slideshow": {
     "slide_type": "subslide"
    }
   },
   "source": [
    "*Note*: la bibliothèque standard dispose d'un *module* `random` qui contient (entre autre) une fonction `randint(a,b)`. Cette fonction renvoie un nombre entier au hasard entre `a` inclus et `b` inclus. \n",
    "\n",
    "Pour utiliser une fonction (ou plusieurs) d'un *module* de la bibliothèque standard, la syntaxe est `from <module> import fn1, fn2, ...`"
   ]
  },
  {
   "cell_type": "code",
   "execution_count": null,
   "metadata": {},
   "outputs": [],
   "source": [
    "# zone de test pour la note; à éxecuter plusieurs fois pour bien comprendre.\n",
    "from random import randint\n",
    "un_de = randint(1, 6)\n",
    "un_de"
   ]
  },
  {
   "cell_type": "markdown",
   "metadata": {},
   "source": [
    "**Solution**"
   ]
  },
  {
   "cell_type": "code",
   "execution_count": null,
   "metadata": {
    "jupyter": {
     "source_hidden": true
    }
   },
   "outputs": [],
   "source": [
    "from random import randint\n",
    "\n",
    "def molkky_aleatoire():\n",
    "    score = 0\n",
    "    nb_tours = 0\n",
    "    \n",
    "    while True:\n",
    "        nb_tours = nb_tours + 1\n",
    "        gain = randint(0,12)\n",
    "        score = tour_molkky(score, gain)\n",
    "        print(f\"Score={score} au {nb_tours}-ième tour.\")\n",
    "        if score == 51: return f\"Nombre de tour du jeu: {nb_tours}\"\n",
    "        \n",
    "        # on abandonne si c'est trop long: 30 tours max\n",
    "        if nb_tours >= 30: return \"abandon\"\n",
    "\n",
    "molkky_aleatoire()"
   ]
  },
  {
   "cell_type": "markdown",
   "metadata": {
    "slideshow": {
     "slide_type": "subslide"
    }
   },
   "source": [
    "3. Enrichir avec la règle suivante: si le joueur a un gain de 0 lors de deux coups consécutifs, il perd."
   ]
  },
  {
   "cell_type": "code",
   "execution_count": null,
   "metadata": {},
   "outputs": [],
   "source": [
    "pass"
   ]
  },
  {
   "cell_type": "markdown",
   "metadata": {},
   "source": [
    "**Solution**"
   ]
  },
  {
   "cell_type": "code",
   "execution_count": null,
   "metadata": {
    "jupyter": {
     "source_hidden": true
    }
   },
   "outputs": [],
   "source": [
    "def molkky_aleatoire():\n",
    "    score = 0\n",
    "    nb_tours = 0\n",
    "    nb_zero_consecutifs = 0\n",
    "    \n",
    "    while True:\n",
    "        nb_tours = nb_tours + 1\n",
    "        gain = randint(0,12)\n",
    "        \n",
    "        if gain == 0:\n",
    "            nb_zero_consecutifs += 1\n",
    "        else:\n",
    "            nb_zero_consecutifs = 0\n",
    "        if nb_zero_consecutifs == 2:\n",
    "            return \"Perdu: deux zéros consécutifs!\"\n",
    "        \n",
    "        score = tour_molkky(score, gain) \n",
    "        print(f\"Score={score} au {nb_tours}-ième tour.\")\n",
    "        if score == 51: return f\"Gagné!. Nombre de tour du jeu: {nb_tours}\"\n",
    "        \n",
    "        # on abandonne si c'est trop long: 30 tours max\n",
    "        # if nb_tours >= 30: return \"abandon\"\n",
    "\n",
    "molkky_aleatoire()"
   ]
  },
  {
   "cell_type": "markdown",
   "metadata": {},
   "source": [
    "[Voir pas à pas dans python tutor](http://pythontutor.com/visualize.html#code=from%20random%20import%20randint%0A%0Adef%20molkky_aleatoire%28%29%3A%0A%20%20%20%20score%20%3D%200%0A%20%20%20%20nb_tours%20%3D%200%0A%20%20%20%20%0A%20%20%20%20while%20True%3A%0A%20%20%20%20%20%20%20%20nb_tours%20%3D%20nb_tours%20%2B%201%0A%20%20%20%20%20%20%20%20gain%20%3D%20randint%280,12%29%0A%20%20%20%20%20%20%20%20score%20%3D%20tour_molkky%28score,%20gain%29%0A%20%20%20%20%20%20%20%20print%28f%22Score%3D%7Bscore%7D%20au%20%7Bnb_tours%7D-i%C3%A8me%20tour.%22%29%0A%20%20%20%20%20%20%20%20if%20score%20%3D%3D%2051%3A%20return%20f%22Nombre%20de%20tour%20du%20jeu%3A%20%7Bnb_tours%7D%22%0A%20%20%20%20%20%20%20%20%0A%20%20%20%20%20%20%20%20%23%20on%20abandonne%20si%20c'est%20trop%20long%3A%2030%20tours%20max%0A%20%20%20%20%20%20%20%20if%20nb_tours%20%3E%3D%2030%3A%20return%20%22abandon%22%0A%0Amolkky_aleatoire%28%29&cumulative=false&curInstr=0&heapPrimitives=false&mode=display&origin=opt-frontend.js&py=3&rawInputLstJSON=%5B%5D&textReferences=false)"
   ]
  },
  {
   "cell_type": "markdown",
   "metadata": {
    "slideshow": {
     "slide_type": "subslide"
    }
   },
   "source": [
    "### Test 4 - bowling"
   ]
  },
  {
   "cell_type": "markdown",
   "metadata": {
    "slideshow": {
     "slide_type": "subslide"
    }
   },
   "source": [
    "Au bowling, on a deux chances pour faire tomber un total de dix quilles.\n",
    "\n",
    "Écrire une fonction qui attends le nombre de quilles renversées avec chacune des deux boules et renvoie 'X' si toutes les quilles sont tombées à la première boule, '/' si toutes les quilles sont tombées, et sinon le nombre de quilles renversées. En outre, elle renvoie 'impossible' si les données sont incohérentes."
   ]
  },
  {
   "cell_type": "code",
   "execution_count": null,
   "metadata": {},
   "outputs": [],
   "source": [
    "def bowling(boule1, boule2):\n",
    "    pass"
   ]
  },
  {
   "cell_type": "markdown",
   "metadata": {},
   "source": [
    "**Solution**"
   ]
  },
  {
   "cell_type": "code",
   "execution_count": null,
   "metadata": {
    "jupyter": {
     "source_hidden": true
    }
   },
   "outputs": [],
   "source": [
    "def bowling(boule1, boule2):\n",
    "    total = boule1 + boule2\n",
    "    if boule1 > 10 or boule2 > 10 or total > 10:\n",
    "        return 'impossible!'\n",
    "    elif boule1 == 10:\n",
    "        return '/'\n",
    "    elif total == 10:\n",
    "        return 'X'\n",
    "    else:\n",
    "        return str(total)\n",
    "\n",
    "print(bowling(1,3))\n",
    "print(bowling(10, 1))\n",
    "print(bowling(10, 0))\n",
    "print(bowling(6, 4))"
   ]
  },
  {
   "cell_type": "markdown",
   "metadata": {},
   "source": [
    "[Voir pas à pas dans python tutor](http://pythontutor.com/visualize.html#code=def%20bowling%28boule1,%20boule2%29%3A%0A%20%20%20%20total%20%3D%20boule1%20%2B%20boule2%0A%20%20%20%20if%20boule1%20%3E%2010%20or%20boule2%20%3E%2010%20or%20total%20%3E%2010%3A%0A%20%20%20%20%20%20%20%20return%20'impossible!'%0A%20%20%20%20elif%20boule1%20%3D%3D%2010%3A%0A%20%20%20%20%20%20%20%20return%20'/'%0A%20%20%20%20elif%20total%20%3D%3D%2010%3A%0A%20%20%20%20%20%20%20%20return%20'X'%0A%20%20%20%20else%3A%0A%20%20%20%20%20%20%20%20return%20str%28total%29%0A%0Aprint%28bowling%281,3%29%29%0Aprint%28bowling%2810,%201%29%29%0Aprint%28bowling%2810,%200%29%29%0Aprint%28bowling%286,%204%29%29&cumulative=false&curInstr=0&heapPrimitives=false&mode=display&origin=opt-frontend.js&py=3&rawInputLstJSON=%5B%5D&textReferences=false)"
   ]
  },
  {
   "cell_type": "markdown",
   "metadata": {
    "toc-hr-collapsed": true,
    "toc-nb-collapsed": true
   },
   "source": [
    "## 5 - Fonctions"
   ]
  },
  {
   "cell_type": "markdown",
   "metadata": {
    "slideshow": {
     "slide_type": "slide"
    }
   },
   "source": [
    "### Fonction 1 - valeur absolue\n",
    "\n",
    "Définir une fonction `valeur_absolue` qui prend un entier en argument et renvoie sa valeur absolue.\n",
    "\n",
    "**Note**: La valeur absolue d'un nombre est sa «distance à 0» c'est à dire ce nombre privé du signe moins s'il en avait un. ex: `valeur_absolue(-5)` donne `5`; `valeur_absolue(5)` donne `5`."
   ]
  },
  {
   "cell_type": "code",
   "execution_count": null,
   "metadata": {},
   "outputs": [],
   "source": []
  },
  {
   "cell_type": "markdown",
   "metadata": {},
   "source": [
    "**Solution**"
   ]
  },
  {
   "cell_type": "code",
   "execution_count": null,
   "metadata": {
    "jupyter": {
     "source_hidden": true
    }
   },
   "outputs": [],
   "source": [
    "def valeur_absolue(x):\n",
    "    if x < 0:\n",
    "        return -1 * x # ou -x\n",
    "    else:\n",
    "        return x\n",
    "\n",
    "assert valeur_absolue(-5) == 5\n",
    "assert valeur_absolue(5) == 5\n",
    "assert valeur_absolue(0) == 0  "
   ]
  },
  {
   "cell_type": "markdown",
   "metadata": {
    "slideshow": {
     "slide_type": "subslide"
    }
   },
   "source": [
    "### Fonction 2 - maximum de 2 à 3 nombres\n",
    "\n",
    "1. Écrire une fonction `max2(a, b)` qui renvoie le plus grand des deux entiers `a` et `b`."
   ]
  },
  {
   "cell_type": "code",
   "execution_count": null,
   "metadata": {},
   "outputs": [],
   "source": []
  },
  {
   "cell_type": "markdown",
   "metadata": {},
   "source": [
    "**Solution**"
   ]
  },
  {
   "cell_type": "code",
   "execution_count": null,
   "metadata": {
    "jupyter": {
     "source_hidden": true
    }
   },
   "outputs": [],
   "source": [
    "def max2(a,b):\n",
    "    if a > b:\n",
    "        return a\n",
    "    else:\n",
    "        return b\n",
    "\n",
    "assert max2(2,4) == 4\n",
    "assert max2(4,2) == 4"
   ]
  },
  {
   "cell_type": "markdown",
   "metadata": {
    "slideshow": {
     "slide_type": "fragment"
    }
   },
   "source": [
    "2. En se servant de la fonction `max2`, écrire une fonction `max3(a, b, c)` qui renvoie le plus grand des trois entiers `a`, `b` et `c`."
   ]
  },
  {
   "cell_type": "code",
   "execution_count": null,
   "metadata": {},
   "outputs": [],
   "source": []
  },
  {
   "cell_type": "markdown",
   "metadata": {},
   "source": [
    "**Solution**"
   ]
  },
  {
   "cell_type": "code",
   "execution_count": null,
   "metadata": {
    "jupyter": {
     "source_hidden": true
    }
   },
   "outputs": [],
   "source": [
    "def max3(a, b, c):\n",
    "    mab = max2(a,b)\n",
    "    if c > mab:\n",
    "        return c\n",
    "    else:\n",
    "        return mab\n",
    "\n",
    "assert max3(1,2,3) == 3\n",
    "assert max3(1,3,2) == 3\n",
    "assert max3(3,2,1) == 3"
   ]
  },
  {
   "cell_type": "markdown",
   "metadata": {},
   "source": [
    "[Voir pas à pas dans python tutor](http://pythontutor.com/visualize.html#code=def%20max2%28a,b%29%3A%0A%20%20%20%20if%20a%20%3E%20b%3A%0A%20%20%20%20%20%20%20%20return%20a%0A%20%20%20%20else%3A%0A%20%20%20%20%20%20%20%20return%20b%0A%0Adef%20max3%28a,%20b,%20c%29%3A%0A%20%20%20%20mab%20%3D%20max2%28a,b%29%0A%20%20%20%20if%20c%20%3E%20mab%3A%0A%20%20%20%20%20%20%20%20return%20c%0A%20%20%20%20else%3A%0A%20%20%20%20%20%20%20%20return%20mab%0A%0Aprint%28max3%281,2,3%29%29&cumulative=false&curInstr=0&heapPrimitives=false&mode=display&origin=opt-frontend.js&py=3&rawInputLstJSON=%5B%5D&textReferences=false)"
   ]
  },
  {
   "cell_type": "markdown",
   "metadata": {
    "slideshow": {
     "slide_type": "subslide"
    }
   },
   "source": [
    "### Fonction 3 - reprogrammer les puissances\n",
    "\n",
    "Écrire une fonction `puissance(x, k)` qui renvoie `x` à la puissance `k` sans utiliser l'opérateur `**`. On utilisera une boucle `for` pour faire le calcul. \n",
    "\n",
    "On suppose que `k` est un entier positif et on rappelle que $x^0=1$."
   ]
  },
  {
   "cell_type": "code",
   "execution_count": null,
   "metadata": {},
   "outputs": [],
   "source": []
  },
  {
   "cell_type": "markdown",
   "metadata": {},
   "source": [
    "**Solution**"
   ]
  },
  {
   "cell_type": "code",
   "execution_count": null,
   "metadata": {
    "jupyter": {
     "source_hidden": true
    }
   },
   "outputs": [],
   "source": [
    "def puissance(x, k):\n",
    "    if k == 0: return 1 # en fait inutile ici (réfléchir!)\n",
    "    res = 1\n",
    "    for _ in range(k): # répéter k fois\n",
    "        res = res * x # ou res *= x\n",
    "    return res\n",
    "\n",
    "assert puissance(2, 3) == 2 ** 3\n",
    "assert puissance(5, 10) == 5 ** 10"
   ]
  },
  {
   "cell_type": "markdown",
   "metadata": {},
   "source": [
    "[Voir pas à pas dans python tutor](http://pythontutor.com/visualize.html#code=def%20puissance%28x,%20k%29%3A%0A%20%20%20%20if%20k%20%3D%3D%200%3A%20return%201%20%23%20en%20fait%20inutile%20ici%20%28r%C3%A9fl%C3%A9chir!%29%0A%20%20%20%20res%20%3D%201%0A%20%20%20%20for%20_%20in%20range%28k%29%3A%20%23%20r%C3%A9p%C3%A9ter%20k%20fois%0A%20%20%20%20%20%20%20%20res%20%3D%20res%20*%20x%20%23%20ou%20res%20*%3D%20x%0A%20%20%20%20return%20res%0A%0Aprint%28puissance%282,%203%29%29&cumulative=false&curInstr=0&heapPrimitives=false&mode=display&origin=opt-frontend.js&py=3&rawInputLstJSON=%5B%5D&textReferences=false)"
   ]
  },
  {
   "cell_type": "markdown",
   "metadata": {
    "slideshow": {
     "slide_type": "subslide"
    }
   },
   "source": [
    "### Fonction 4 - calendrier\n",
    "\n",
    "Une année est **bissextile** si elle est multiple de 4 mais pas multiple de 100, ou si elle est multiple de 400.\n",
    "\n",
    "De plus une année bissextile dure 366 jours au lieu de 355 ordinairement."
   ]
  },
  {
   "cell_type": "markdown",
   "metadata": {
    "slideshow": {
     "slide_type": "subslide"
    }
   },
   "source": [
    "1. Écrire une fonction `est_bissextile(annee)` qui renvoie `True` si l'année fournie en argument est bissextile, `False` autrement."
   ]
  },
  {
   "cell_type": "code",
   "execution_count": null,
   "metadata": {},
   "outputs": [],
   "source": []
  },
  {
   "cell_type": "markdown",
   "metadata": {},
   "source": [
    "**Solution**"
   ]
  },
  {
   "cell_type": "code",
   "execution_count": null,
   "metadata": {
    "jupyter": {
     "source_hidden": true
    }
   },
   "outputs": [],
   "source": [
    "def est_bissextile(annee):\n",
    "    return (annee % 4 == 0 and annee % 100 != 0) or annee % 400 == 0\n",
    "\n",
    "assert est_bissextile(2000) == True # multiple de 400\n",
    "assert est_bissextile(2012) == True # multiple de 4 mais pas de 100\n",
    "assert est_bissextile(200) == False # multiple de 4 et aussi de 100"
   ]
  },
  {
   "cell_type": "markdown",
   "metadata": {
    "slideshow": {
     "slide_type": "subslide"
    }
   },
   "source": [
    "2. En reprenant votre fonction `est_bissextile`, écrire une fonction `nb_jours_annee(a)` qui renvoie le nombre de jours de l'année `a`."
   ]
  },
  {
   "cell_type": "code",
   "execution_count": null,
   "metadata": {},
   "outputs": [],
   "source": []
  },
  {
   "cell_type": "markdown",
   "metadata": {},
   "source": [
    "**Solution**"
   ]
  },
  {
   "cell_type": "code",
   "execution_count": null,
   "metadata": {
    "jupyter": {
     "source_hidden": true
    }
   },
   "outputs": [],
   "source": [
    "def nb_jours_annee(a):\n",
    "    return 366 if est_bissextile(a) else 365"
   ]
  },
  {
   "cell_type": "markdown",
   "metadata": {
    "slideshow": {
     "slide_type": "fragment"
    }
   },
   "source": [
    "3. Écrire une fonction `nb_jours_mois(a, m)` qui renvoie le nombre de jours dans le mois `m` de l'année `a` en réutilisant `est_bissextile(a)`.\n",
    "\n",
    "   On suppose que le mois `m` est un entier compris entre 1 (pour janvier) et 12 (pour décembre)."
   ]
  },
  {
   "cell_type": "code",
   "execution_count": null,
   "metadata": {},
   "outputs": [],
   "source": []
  },
  {
   "cell_type": "markdown",
   "metadata": {},
   "source": [
    "**Solution**"
   ]
  },
  {
   "cell_type": "code",
   "execution_count": null,
   "metadata": {
    "jupyter": {
     "source_hidden": true
    }
   },
   "outputs": [],
   "source": [
    "def nb_jours_mois(a, m):\n",
    "    if m in [1, 3, 5, 7, 8, 10, 12]:\n",
    "        return 31\n",
    "    elif m in [4, 6, 9, 11]:\n",
    "        return 30\n",
    "    else:\n",
    "        return 29 if est_bissextile(a) else 28\n",
    "\n",
    "assert 31 * 7 + 4 * 30 + 28 == 365"
   ]
  },
  {
   "cell_type": "markdown",
   "metadata": {
    "slideshow": {
     "slide_type": "subslide"
    }
   },
   "source": [
    "**À partir de là, ça se complique!** L'exercice peut-être considéré comme un **mini-projet**. \n",
    "\n",
    "   **SAUTER LA FIN DE CET EXERCICE EN PREMIERE LECTURE**\n",
    "\n",
    "   Écrire une fonction `nb_jours(date1, date2)` qui renvoie le nombre de jours compris entre deux dates données.\n",
    "\n",
    "   On suppose que `date<n>` est un *tuple* de la forme `(jour, mois, annee)`.\n",
    "   \n",
    "   *conseil*: Commencer par écrire une fonction qui attend deux dates en arguments et renvoie ces deux dates dans l'ordre chronologique."
   ]
  },
  {
   "cell_type": "code",
   "execution_count": null,
   "metadata": {},
   "outputs": [],
   "source": []
  },
  {
   "cell_type": "code",
   "execution_count": null,
   "metadata": {},
   "outputs": [],
   "source": [
    "# zone de test: noter que le nombre de jours ne doit pas dépendre de l'ordre des dates.\n",
    "d1, d2 = (12, 3, 2019), (16, 3, 2019)\n",
    "assert nb_jours(d1, d2) == 4\n",
    "assert nb_jours(d2, d1) == 4\n",
    "d1, d2 = (12, 3, 2019), (16, 5, 2019)\n",
    "assert nb_jours(d1, d2) == 30 - 12 + 1 + 31 + (16-1)\n",
    "assert nb_jours(d2, d1) == 30 - 12 + 1 + 31 + (16-1)\n",
    "d1, d2, d3 = (12, 3, 2019), (17, 9, 2025), (16, 5, 2030)\n",
    "assert nb_jours(d1, d3) == nb_jours(d1, d2) + nb_jours(d2, d3)"
   ]
  },
  {
   "cell_type": "markdown",
   "metadata": {},
   "source": [
    "**Solution**"
   ]
  },
  {
   "cell_type": "code",
   "execution_count": null,
   "metadata": {
    "jupyter": {
     "source_hidden": true
    }
   },
   "outputs": [],
   "source": [
    "def ordonner_dates(date1, date2):\n",
    "    \"renvoie le tuple formée des deux dates dans l'ordre chronologique\"\n",
    "    j1, m1, a1 = date1\n",
    "    j2, m2, a2 = date2\n",
    "    if a2 > a1:\n",
    "        return date1, date2\n",
    "    elif a2 < a1:\n",
    "        return date2, date1\n",
    "    else:\n",
    "        if m2 > m1:\n",
    "            return date1, date2\n",
    "        elif m2 < m1:\n",
    "            return date2, date1\n",
    "        else:\n",
    "            if j2 > j1:\n",
    "                return date1, date2\n",
    "            elif j2 < j1:\n",
    "                return date2, date1\n",
    "            else:\n",
    "                return date1, date2\n",
    "\n",
    "def nb_jours(date1, date2):\n",
    "    date1, date2 = ordonner_dates(date1, date2)\n",
    "    j1, m1, a1 = date1\n",
    "    j2, m2, a2 = date2\n",
    "    j = 0\n",
    "    \n",
    "    if a1 == a2:\n",
    "        if m2 == m1:\n",
    "            # j2 >= j1 nécessairement\n",
    "            return j2 - j1\n",
    "        else: # m2 > m1 nécessairement\n",
    "            j += nb_jours_mois(a1, m1) - j1 + 1\n",
    "            for m in range(m1+1,m2):\n",
    "                j += nb_jours_mois(a1, m)\n",
    "            j += j2 - 1\n",
    "            return j\n",
    "    # a1 > a2\n",
    "    else:    \n",
    "        # nb jours juqu'à la fin du mois en cours\n",
    "        j += nb_jours_mois(a1, m1) - j1  + 1\n",
    "        # nb jours jusqu'au dernier jour de l'année en cours\n",
    "        for m in range(m1+1, 13):\n",
    "            j += nb_jours_mois(a1, m)\n",
    "        # nb jours de l'année a1+1 au début de l'année a2 (dernier jour de l'année précédente)\n",
    "        for a in range(a1+1, a2):\n",
    "            j += nb_jours_annee(a)\n",
    "        # nb jours jusqu'au mois en cours de la date2 dans l'année a2\n",
    "        for m in range(1, m2):\n",
    "            j += nb_jours_mois(a2, m)\n",
    "        # nb jours du mois en cours jusqu'à j2\n",
    "        j += j2 - 1\n",
    "    return j"
   ]
  },
  {
   "cell_type": "markdown",
   "metadata": {
    "slideshow": {
     "slide_type": "fragment"
    }
   },
   "source": [
    "5. En réutilisant les fonctions précédentes, écrire une fonction `calendrier()` qui demande une année à l'utilisateur et affiche le calendrier de cette année, c'est à dire la liste de tous les jours de tous les mois de cette année."
   ]
  },
  {
   "cell_type": "code",
   "execution_count": null,
   "metadata": {},
   "outputs": [],
   "source": []
  },
  {
   "cell_type": "markdown",
   "metadata": {},
   "source": [
    "**Solution**"
   ]
  },
  {
   "cell_type": "code",
   "execution_count": null,
   "metadata": {
    "jupyter": {
     "source_hidden": true
    }
   },
   "outputs": [],
   "source": [
    "def cal_mois(j_deb, nb_jours):\n",
    "    \"\"\"\n",
    "    Fonction utilitaire qui prend en argument le jour du début d'un mois ainsi que le nombre de jours - nb_jours - de ce mois.\n",
    "      j_deb est un entier de 0 à 6 à mettre en correspondance avec lundi, mardi, ..., dimanche\n",
    "    \n",
    "    elle renvoie un tuple a deux composantes:\n",
    "        - 1ère composante: la chaîne des numéros des jours du mois proprement formatée,\n",
    "        - 2ème composante: le jour du debut du mois suivant\n",
    "    \"\"\"\n",
    "    j_deb_mois_suivant = (j_deb + nb_jours) % 7 # calcul du 1er jour du mois suivant.\n",
    "    ch = (\" \" * 3) * j_deb # calcul du décalage\n",
    "    # construction de la chaîne des n° des jours pour ce mois\n",
    "    for i in range(nb_jours):\n",
    "        nj = str(f\"0{i+1}\") if i+1 < 10 else str(i+1) # on met un 0 devant un nombre d'un seul chiffre\n",
    "        if (i + j_deb) % 7 == 0:\n",
    "            ch += '\\n'\n",
    "        ch += nj + \" \"\n",
    "    return ch, j_deb_mois_suivant\n",
    "\n",
    "def calendrier(annee):\n",
    "    \"fonction principale qui, pour une annee donnée, renvoie la chaîne correspond au calendrier de cette année\"\n",
    "    \n",
    "    noms_mois = ['janvier', 'février', 'mars', 'avril', 'mai', 'juin', 'juillet', 'août', 'septembre', 'octobre', 'novembre', 'décembre']\n",
    "    jours_semaine = ['lu', 'ma', 'me', 'je', 've', 'sa', 'di']\n",
    "    # le premier janvier 2000 était un samedi\n",
    "    d_ref = (1,1,2000)\n",
    "    j_ref = 5 # un samedi\n",
    "    \n",
    "    \n",
    "    j_deb_a = (nb_jours((1,1,2000), (1,1,annee)) + j_ref) % 7\n",
    "    cal = \"\"\n",
    "    \n",
    "    for i in range(12):\n",
    "        nom_mois = noms_mois[i]\n",
    "        cal += nom_mois + \"\\n\"\n",
    "        cal += \" \".join(jours_semaine) + \"\\n\"\n",
    "        cal += \"-\" * (2*7 + 6) + \"\\n\"\n",
    "        nj = nb_jours_mois(annee, i+1)\n",
    "        suite, j_deb_a = cal_mois(j_deb_a, nj)\n",
    "        cal += suite\n",
    "        cal += \"\\n\\n\"\n",
    "    \n",
    "    return cal\n",
    "\n",
    "annee = int(input('Calendrier de l\\'année? '))\n",
    "print(calendrier(annee))"
   ]
  },
  {
   "cell_type": "markdown",
   "metadata": {
    "toc-hr-collapsed": true,
    "toc-nb-collapsed": true
   },
   "source": [
    "## 6 - Tableaux"
   ]
  },
  {
   "cell_type": "markdown",
   "metadata": {
    "slideshow": {
     "slide_type": "slide"
    }
   },
   "source": [
    "### Tableau 1 - Nombre d'occurences\n",
    "\n",
    "Écrire une fonction `occurence(v, t)` qui renvoie le nombre d'occurences de la valeur `v` dans le tableau `t`."
   ]
  },
  {
   "cell_type": "code",
   "execution_count": null,
   "metadata": {},
   "outputs": [],
   "source": []
  },
  {
   "cell_type": "markdown",
   "metadata": {},
   "source": [
    "**Solution**"
   ]
  },
  {
   "cell_type": "code",
   "execution_count": null,
   "metadata": {
    "jupyter": {
     "source_hidden": true
    }
   },
   "outputs": [],
   "source": [
    "def occurence(v, t):\n",
    "    occ = 0\n",
    "    for x in t: # parcours des items\n",
    "        if x == v:\n",
    "            occ += 1\n",
    "    return occ\n",
    "\n",
    "assert occurence(2, [1,2,1,1]) == 1\n",
    "assert occurence(1, [1,2,1,1]) == 3\n",
    "assert occurence(10, [1,2,1,1]) == 0"
   ]
  },
  {
   "cell_type": "markdown",
   "metadata": {},
   "source": [
    "[Voir pas à pas dans python tutor](http://pythontutor.com/visualize.html#code=def%20occurence%28v,%20t%29%3A%0A%20%20%20%20occ%20%3D%200%0A%20%20%20%20for%20x%20in%20t%3A%20%23%20parcours%20des%20items%0A%20%20%20%20%20%20%20%20if%20x%20%3D%3D%20v%3A%0A%20%20%20%20%20%20%20%20%20%20%20%20occ%20%2B%3D%201%0A%20%20%20%20return%20occ%0A%0Aprint%28occurence%281,%20%5B1,2,1,1%5D%29%29&cumulative=false&curInstr=0&heapPrimitives=false&mode=display&origin=opt-frontend.js&py=3&rawInputLstJSON=%5B%5D&textReferences=false)"
   ]
  },
  {
   "cell_type": "markdown",
   "metadata": {
    "slideshow": {
     "slide_type": "subslide"
    }
   },
   "source": [
    "### Tableau 2 - maximum d'une série de nombres\n",
    "\n",
    "1. Écrire une foncion `cent_entiers_au_hasard()` qui renvoie un tableau de 100 entiers tirés au hasard entre 1 et 1000. Revoir éventuellement le jeu du Molky (dans Test 3) pour obtenir un entier aléatoire."
   ]
  },
  {
   "cell_type": "code",
   "execution_count": null,
   "metadata": {},
   "outputs": [],
   "source": []
  },
  {
   "cell_type": "markdown",
   "metadata": {},
   "source": [
    "**Solution**"
   ]
  },
  {
   "cell_type": "code",
   "execution_count": null,
   "metadata": {
    "jupyter": {
     "source_hidden": true
    }
   },
   "outputs": [],
   "source": [
    "def cent_entiers_au_hasard():\n",
    "    from random import randint\n",
    "    tab = []\n",
    "    for _ in range(100):\n",
    "        nb = randint(1, 1000)\n",
    "        tab.append(nb)\n",
    "    return tab"
   ]
  },
  {
   "cell_type": "markdown",
   "metadata": {
    "slideshow": {
     "slide_type": "fragment"
    }
   },
   "source": [
    "2. Écrire une fonction `maximum(l)` qui renvoie la plus grande valeur de la liste d'entier positif `l`.\n",
    "\n",
    "   *aide*: Définir un *accumulateur* `maxi` initialisé à $-1$ puis utiliser une boucle `for` pour parcourir la liste tout en mettant `maxi` à jour..."
   ]
  },
  {
   "cell_type": "code",
   "execution_count": null,
   "metadata": {},
   "outputs": [],
   "source": []
  },
  {
   "cell_type": "markdown",
   "metadata": {},
   "source": [
    "**Solution**"
   ]
  },
  {
   "cell_type": "code",
   "execution_count": null,
   "metadata": {
    "jupyter": {
     "source_hidden": true
    }
   },
   "outputs": [],
   "source": [
    "def maximum(l):\n",
    "    maxi = -1 # cette valeur n'est sûrement pas dans l d'après l'hypothèse\n",
    "    for v in l:\n",
    "        if v > maxi:\n",
    "            maxi = v\n",
    "    return maxi\n",
    "\n",
    "assert maximum([1,2,3,5,4,3,2,1]) == 5"
   ]
  },
  {
   "cell_type": "markdown",
   "metadata": {},
   "source": [
    "[Voir pas à pas dans python tutor](http://pythontutor.com/visualize.html#code=def%20maximum%28l%29%3A%0A%20%20%20%20maxi%20%3D%20-1%20%23%20cette%20valeur%20n'est%20s%C3%BBrement%20pas%20dans%20l%20d'apr%C3%A8s%20l'hypoth%C3%A8se%0A%20%20%20%20for%20v%20in%20l%3A%0A%20%20%20%20%20%20%20%20if%20v%20%3E%20maxi%3A%0A%20%20%20%20%20%20%20%20%20%20%20%20maxi%20%3D%20v%0A%20%20%20%20return%20maxi%0A%0Amaximum%28%5B1,2,3,5,4,3,2,1%5D%29&cumulative=false&curInstr=0&heapPrimitives=false&mode=display&origin=opt-frontend.js&py=3&rawInputLstJSON=%5B%5D&textReferences=false)"
   ]
  },
  {
   "cell_type": "markdown",
   "metadata": {
    "slideshow": {
     "slide_type": "subslide"
    }
   },
   "source": [
    "### Tableau 3 - Fibonacci\n",
    "\n",
    "En mathématiques, la très célèbre *suite de Fibonacci* est une séquence infinie d'entiers définie de la façon suivante: \n",
    "\n",
    "on part des deux entiers 0 et 1 puis on construit à chaque fois l'entier suivant comme la somme des deux entiers précédents $$0, 1, 1, 2, 3, 5, \\dots$$\n",
    "\n",
    "Écrire une fonction qui renvoie un tableau contenant les 30 premiers termes de la suite. Le dernier élément de ce tableau est $514\\,229$."
   ]
  },
  {
   "cell_type": "code",
   "execution_count": null,
   "metadata": {},
   "outputs": [],
   "source": []
  },
  {
   "cell_type": "markdown",
   "metadata": {},
   "source": [
    "**Solution**"
   ]
  },
  {
   "cell_type": "code",
   "execution_count": null,
   "metadata": {
    "jupyter": {
     "source_hidden": true
    }
   },
   "outputs": [],
   "source": [
    "def fibonacci_30():\n",
    "    a, b = 0, 1\n",
    "    fib = [a,b]\n",
    "    for _ in range(28):\n",
    "        a, b = b, a + b\n",
    "        fib.append(b)\n",
    "    return fib\n",
    "\n",
    "assert (fibonacci_30())[-1] == 514229"
   ]
  },
  {
   "cell_type": "markdown",
   "metadata": {},
   "source": [
    "[Voir pas à pas dans python tutor](http://pythontutor.com/visualize.html#code=def%20fibonacci_30%28%29%3A%0A%20%20%20%20a,%20b%20%3D%200,%201%0A%20%20%20%20fib%20%3D%20%5Ba,b%5D%0A%20%20%20%20for%20_%20in%20range%2828%29%3A%0A%20%20%20%20%20%20%20%20a,%20b%20%3D%20b,%20a%20%2B%20b%0A%20%20%20%20%20%20%20%20fib.append%28b%29%0A%20%20%20%20return%20fib%0A%0Aassert%20%28fibonacci_30%28%29%29%5B-1%5D%20%3D%3D%20514229&cumulative=false&curInstr=0&heapPrimitives=false&mode=display&origin=opt-frontend.js&py=3&rawInputLstJSON=%5B%5D&textReferences=false)"
   ]
  },
  {
   "cell_type": "markdown",
   "metadata": {
    "slideshow": {
     "slide_type": "subslide"
    }
   },
   "source": [
    "### Tableau 4 - (re)copie d'un tableau\n",
    "\n",
    "Écrire une fonction `copie(t)` qui prend en argument un tableau `t` et renvoie une copie de ce tableau (sans utiliser `list(...)` ni l'écriture `t[:]`).\n",
    "\n",
    "Quelle expérience peut-on faire pour s'assurer qu'on ne s'est pas trompé ?"
   ]
  },
  {
   "cell_type": "code",
   "execution_count": null,
   "metadata": {},
   "outputs": [],
   "source": []
  },
  {
   "cell_type": "markdown",
   "metadata": {},
   "source": [
    "**Solution**"
   ]
  },
  {
   "cell_type": "code",
   "execution_count": null,
   "metadata": {
    "jupyter": {
     "source_hidden": true
    }
   },
   "outputs": [],
   "source": [
    "def copie(t):\n",
    "    cp = []\n",
    "    for v in t: # et si l'une des valeurs de t était une liste ou un type muable?\n",
    "        cp.append(v)\n",
    "    return cp\n",
    "\n",
    "t = [1, 2, 3]\n",
    "cp = copie(t)\n",
    "cp.append(4)\n",
    "# la modification de l'un ne doit pas entraîner la modification de l'autre.\n",
    "assert t == [1, 2, 3] and cp == [1, 2, 3, 4] "
   ]
  },
  {
   "cell_type": "markdown",
   "metadata": {},
   "source": [
    "[Voir pas à pas dans python tutor](http://pythontutor.com/visualize.html#code=def%20copie%28t%29%3A%0A%20%20%20%20cp%20%3D%20%5B%5D%0A%20%20%20%20for%20v%20in%20t%3A%20%23%20et%20si%20l'une%20des%20valeurs%20de%20t%20%C3%A9tait%20une%20liste%20ou%20un%20type%20muable%3F%0A%20%20%20%20%20%20%20%20cp.append%28v%29%0A%20%20%20%20return%20cp%0A%0At%20%3D%20%5B1,%202,%203%5D%0Acp%20%3D%20copie%28t%29%0Acp.append%284%29%0A%23%20la%20modification%20de%20l'un%20ne%20doit%20pas%20entra%C3%AEner%20la%20modification%20de%20l'autre.%0Aassert%20t%20%3D%3D%20%5B1,%202,%203%5D%20and%20cp%20%3D%3D%20%5B1,%202,%203,%204%5D%20&cumulative=false&curInstr=0&heapPrimitives=false&mode=display&origin=opt-frontend.js&py=3&rawInputLstJSON=%5B%5D&textReferences=false)"
   ]
  },
  {
   "cell_type": "markdown",
   "metadata": {
    "slideshow": {
     "slide_type": "subslide"
    }
   },
   "source": [
    "### Tableau 5 - ajout «immuable» (sans supprimer l'original)\n",
    "\n",
    "Écrire une fonction `ajout(v, t)` qui crée un nouveau tableau contenant d'abord tous les éléments de `t` puis `v`. Interdit d'utiliser l'opérateur `+`."
   ]
  },
  {
   "cell_type": "code",
   "execution_count": null,
   "metadata": {},
   "outputs": [],
   "source": []
  },
  {
   "cell_type": "markdown",
   "metadata": {},
   "source": [
    "**Solution**"
   ]
  },
  {
   "cell_type": "code",
   "execution_count": null,
   "metadata": {
    "jupyter": {
     "source_hidden": true
    }
   },
   "outputs": [],
   "source": [
    "def ajout(v, t):\n",
    "    nt = copie(t)\n",
    "    nt.append(v)\n",
    "    return nt\n",
    "\n",
    "assert ajout(2, [1,3,7]) == [1,3,7,2]"
   ]
  },
  {
   "cell_type": "markdown",
   "metadata": {},
   "source": [
    "[Voir pas à pas dans python tutor](http://pythontutor.com/visualize.html#code=def%20copie%28t%29%3A%0A%20%20%20%20cp%20%3D%20%5B%5D%0A%20%20%20%20for%20v%20in%20t%3A%20%23%20et%20si%20l'une%20des%20valeurs%20de%20t%20%C3%A9tait%20une%20liste%20ou%20un%20type%20muable%3F%0A%20%20%20%20%20%20%20%20cp.append%28v%29%0A%20%20%20%20return%20cp%0A%0Adef%20ajout%28v,%20t%29%3A%0A%20%20%20%20nt%20%3D%20copie%28t%29%0A%20%20%20%20nt.append%28v%29%0A%20%20%20%20return%20nt%0A%0Aassert%20ajout%282,%20%5B1,3,7%5D%29%20%3D%3D%20%5B1,3,7,2%5D&cumulative=false&curInstr=0&heapPrimitives=false&mode=display&origin=opt-frontend.js&py=3&rawInputLstJSON=%5B%5D&textReferences=false)"
   ]
  },
  {
   "cell_type": "markdown",
   "metadata": {
    "slideshow": {
     "slide_type": "subslide"
    }
   },
   "source": [
    "### Tableau 6 - concaténation non destructive\n",
    "\n",
    "Écrire une fonction `concatenation(t1, t2)` qui crée un nouveau tableau contenant, dans l'ordre, tous les éléments de `t1` puis tous les éléments de `t2`. Interdit d'utiliser l'opérateur `+` (pour les listes...), ni la méthode `list.extend()`."
   ]
  },
  {
   "cell_type": "code",
   "execution_count": null,
   "metadata": {},
   "outputs": [],
   "source": []
  },
  {
   "cell_type": "markdown",
   "metadata": {},
   "source": [
    "**Solution**"
   ]
  },
  {
   "cell_type": "code",
   "execution_count": null,
   "metadata": {
    "jupyter": {
     "source_hidden": true
    }
   },
   "outputs": [],
   "source": [
    "def concatenation(t1, t2):\n",
    "    # on réutilise les fonctions précédentes: copie et ajout\n",
    "    nt = copie(t1)\n",
    "    for v in t2:\n",
    "        nt = ajout(v, nt)\n",
    "    return nt\n",
    "\n",
    "assert concatenation([1,2,3], [4,5,6]) == [1,2,3,4,5,6]"
   ]
  },
  {
   "cell_type": "markdown",
   "metadata": {},
   "source": [
    "[Voir pas à pas dans python tutor](http://pythontutor.com/visualize.html#code=def%20copie%28t%29%3A%0A%20%20%20%20cp%20%3D%20%5B%5D%0A%20%20%20%20for%20v%20in%20t%3A%20%23%20et%20si%20l'une%20des%20valeurs%20de%20t%20%C3%A9tait%20une%20liste%20ou%20un%20type%20muable%3F%0A%20%20%20%20%20%20%20%20cp.append%28v%29%0A%20%20%20%20return%20cp%0A%0Adef%20ajout%28v,%20t%29%3A%0A%20%20%20%20nt%20%3D%20copie%28t%29%0A%20%20%20%20nt.append%28v%29%0A%20%20%20%20return%20nt%0A%0Adef%20concatenation%28t1,%20t2%29%3A%0A%20%20%20%20nt%20%3D%20copie%28t1%29%0A%20%20%20%20for%20v%20in%20t2%3A%0A%20%20%20%20%20%20%20%20nt%20%3D%20ajout%28v,%20nt%29%0A%20%20%20%20return%20nt%0A%0Aassert%20concatenation%28%5B1,2,3%5D,%20%5B4,5,6%5D%29%20%3D%3D%20%5B1,2,3,4,5,6%5D&cumulative=false&curInstr=0&heapPrimitives=false&mode=display&origin=opt-frontend.js&py=3&rawInputLstJSON=%5B%5D&textReferences=false)"
   ]
  },
  {
   "cell_type": "markdown",
   "metadata": {
    "slideshow": {
     "slide_type": "subslide"
    }
   },
   "source": [
    "### Tableau 7 - swap avec index\n",
    "\n",
    "Écrire une fonction `echange(tab, i, j)` qui echange dans tableau `tab` les éléments d'index (indices) `i` et `j`."
   ]
  },
  {
   "cell_type": "code",
   "execution_count": null,
   "metadata": {},
   "outputs": [],
   "source": []
  },
  {
   "cell_type": "markdown",
   "metadata": {},
   "source": [
    "**Solution**"
   ]
  },
  {
   "cell_type": "code",
   "execution_count": null,
   "metadata": {
    "jupyter": {
     "source_hidden": true
    }
   },
   "outputs": [],
   "source": [
    "def echange(tab, i, j):\n",
    "    tmp = tab[i]\n",
    "    tab[i] = tab[j]\n",
    "    tab[j] = tmp\n",
    "\n",
    "t = [1,2,3]\n",
    "echange(t, 1, 2)\n",
    "assert t == [1,3,2]"
   ]
  },
  {
   "cell_type": "markdown",
   "metadata": {},
   "source": [
    "[Voir pas à pas dans python tutor](http://pythontutor.com/visualize.html#code=def%20echange%28tab,%20i,%20j%29%3A%0A%20%20%20%20tmp%20%3D%20tab%5Bi%5D%0A%20%20%20%20tab%5Bi%5D%20%3D%20tab%5Bj%5D%0A%20%20%20%20tab%5Bj%5D%20%3D%20tmp%0A%0At%20%3D%20%5B1,2,3%5D%0Aechange%28t,%201,%202%29%0Aassert%20t%20%3D%3D%20%5B1,3,2%5D&cumulative=false&curInstr=0&heapPrimitives=false&mode=display&origin=opt-frontend.js&py=3&rawInputLstJSON=%5B%5D&textReferences=false)"
   ]
  },
  {
   "cell_type": "markdown",
   "metadata": {
    "slideshow": {
     "slide_type": "subslide"
    }
   },
   "source": [
    "### Tableau 8 - calculer avec ses valeurs\n",
    "\n",
    "1. Écrire une fonction `somme(tab)` qui calcule et renvoie la somme des éléments d'un tableau d'entiers.\n",
    "\n",
    "2. En déduire une fonction `moyenne(tab)` qui renvoie la moyenne des éléments du tableau `tab`, supposé non vide.\n",
    "\n",
    "3. Écrire une fonction `produit(tab)` qui renvoie le produit des éléments d'un tableau d'entiers. Si le tableau contient 0, la fonction devra renvoyer 0 sans terminer le parcours du tableau."
   ]
  },
  {
   "cell_type": "code",
   "execution_count": null,
   "metadata": {},
   "outputs": [],
   "source": []
  },
  {
   "cell_type": "markdown",
   "metadata": {},
   "source": [
    "**Solution**"
   ]
  },
  {
   "cell_type": "code",
   "execution_count": null,
   "metadata": {
    "jupyter": {
     "source_hidden": true
    }
   },
   "outputs": [],
   "source": [
    "def somme(tab):\n",
    "    s = 0\n",
    "    for v in tab:\n",
    "        s += v\n",
    "    return s\n",
    "\n",
    "assert somme([1, 2, 3]) == 6"
   ]
  },
  {
   "cell_type": "markdown",
   "metadata": {},
   "source": [
    "[Voir pas à pas dans python tutor](http://pythontutor.com/visualize.html#code=def%20somme%28tab%29%3A%0A%20%20%20%20s%20%3D%200%0A%20%20%20%20for%20v%20in%20tab%3A%0A%20%20%20%20%20%20%20%20s%20%2B%3D%20v%0A%20%20%20%20return%20s%0A%0Aassert%20somme%28%5B1,%202,%203%5D%29%20%3D%3D%206&cumulative=false&curInstr=0&heapPrimitives=false&mode=display&origin=opt-frontend.js&py=3&rawInputLstJSON=%5B%5D&textReferences=false)"
   ]
  },
  {
   "cell_type": "code",
   "execution_count": null,
   "metadata": {
    "jupyter": {
     "source_hidden": true
    }
   },
   "outputs": [],
   "source": [
    "def moyenne(tab):\n",
    "    N = len(tab)\n",
    "    return somme(tab) / N\n",
    "\n",
    "assert int(moyenne([8, 10, 12])) == 10 # int car le résultat de moyenne est un float"
   ]
  },
  {
   "cell_type": "code",
   "execution_count": null,
   "metadata": {
    "jupyter": {
     "source_hidden": true
    }
   },
   "outputs": [],
   "source": [
    "def produit(tab):\n",
    "    p = 1\n",
    "    for v in tab:\n",
    "        if v == 0: return 0\n",
    "        p *= v\n",
    "    return p\n",
    "\n",
    "assert produit([5, 2, 3]) == 30\n",
    "assert produit([2,0,3,4]) == 0"
   ]
  },
  {
   "cell_type": "markdown",
   "metadata": {},
   "source": [
    "[Voir pas à pas dans python tutor](http://pythontutor.com/visualize.html#code=def%20produit%28tab%29%3A%0A%20%20%20%20p%20%3D%201%0A%20%20%20%20for%20v%20in%20tab%3A%0A%20%20%20%20%20%20%20%20if%20v%20%3D%3D%200%3A%20return%200%0A%20%20%20%20%20%20%20%20p%20*%3D%20v%0A%20%20%20%20return%20p%0A%0Aassert%20produit%28%5B5,%202,%203%5D%29%20%3D%3D%2030&cumulative=false&curInstr=0&heapPrimitives=false&mode=display&origin=opt-frontend.js&py=3&rawInputLstJSON=%5B%5D&textReferences=false)"
   ]
  },
  {
   "cell_type": "markdown",
   "metadata": {
    "slideshow": {
     "slide_type": "subslide"
    }
   },
   "source": [
    "### Tableau 9 - renversant\n",
    "\n",
    "Écrire une fonction `miroir(tab)` qui reçoit un tableau en argument et le modifie pour échanger le premier élément avec le dernier élément, le second avec l'avant dernier, etc. (`reverse` interdit!).\n",
    "\n",
    "On pourra réutiliser la fonction `echange` d'un exercice précédent."
   ]
  },
  {
   "cell_type": "code",
   "execution_count": null,
   "metadata": {},
   "outputs": [],
   "source": []
  },
  {
   "cell_type": "markdown",
   "metadata": {},
   "source": [
    "**Solution**"
   ]
  },
  {
   "cell_type": "code",
   "execution_count": null,
   "metadata": {
    "jupyter": {
     "source_hidden": true
    }
   },
   "outputs": [],
   "source": [
    "def miroir(tab):\n",
    "    N = len(tab)\n",
    "    # on parcourt les index de la moitié gauche du tableau (autrement on échange deux fois!)\n",
    "    for i in range(N // 2): \n",
    "        # échange (swap)!\n",
    "        tmp = tab[i]\n",
    "        tab[i] = tab[N-1-i]\n",
    "        tab[N-1-i] = tmp\n",
    "\n",
    "t1, t2 = [1,2,3], [1,2,3,4] # il  est bon de tester le cas pair et impair\n",
    "miroir(t1)\n",
    "miroir(t2)\n",
    "assert t1 == [3,2,1]\n",
    "assert t2 == [4,3,2,1]"
   ]
  },
  {
   "cell_type": "markdown",
   "metadata": {},
   "source": [
    "[Voir pas à pas dans python tutor](http://pythontutor.com/visualize.html#code=def%20miroir%28tab%29%3A%0A%20%20%20%20N%20%3D%20len%28tab%29%0A%20%20%20%20%23%20on%20parcourt%20les%20index%20de%20la%20moiti%C3%A9%20gauche%20du%20tableau%20%28autrement%20on%20%C3%A9change%20deux%20fois!%29%0A%20%20%20%20for%20i%20in%20range%28N%20//%202%29%3A%20%0A%20%20%20%20%20%20%20%20%23%20%C3%A9change%20%28swap%29!%0A%20%20%20%20%20%20%20%20tmp%20%3D%20tab%5Bi%5D%0A%20%20%20%20%20%20%20%20tab%5Bi%5D%20%3D%20tab%5BN-1-i%5D%0A%20%20%20%20%20%20%20%20tab%5BN-1-i%5D%20%3D%20tmp%0A%0Amiroir%28%5B1,2,3,4,5%5D%29&cumulative=false&curInstr=0&heapPrimitives=false&mode=display&origin=opt-frontend.js&py=3&rawInputLstJSON=%5B%5D&textReferences=false)"
   ]
  },
  {
   "cell_type": "markdown",
   "metadata": {
    "slideshow": {
     "slide_type": "subslide"
    }
   },
   "source": [
    "### Tableau 10 - mélange de Knuth\n",
    "\n",
    "Pour mélanger les éléments d'un tableau aléatoirement, il existe un algorithme très simple qui procède ainsi:\n",
    "\n",
    "On parcourt le tableau de la gauche vers la droite et, pour chaque élément d'indice `i`, on l'échange avec un élément situé à un indice tiré aléatoirement entre 0 et `i` (inclus).\n",
    "\n",
    "Écrire une fonction `melange(tab)` qui réalise cet algorithme (connu sous le nom de *mélange de Knuth*)"
   ]
  },
  {
   "cell_type": "code",
   "execution_count": null,
   "metadata": {},
   "outputs": [],
   "source": []
  },
  {
   "cell_type": "markdown",
   "metadata": {},
   "source": [
    "**Solution**"
   ]
  },
  {
   "cell_type": "code",
   "execution_count": null,
   "metadata": {
    "jupyter": {
     "source_hidden": true
    }
   },
   "outputs": [],
   "source": [
    "def melange(tab):\n",
    "    from random import randint\n",
    "    for i in range(len(tab)):\n",
    "        j = randint(0, i)\n",
    "        tmp = tab[i]\n",
    "        tab[i] = tab[j]\n",
    "        tab[j] = tmp\n",
    "\n",
    "t = [1,2,3,4,5]\n",
    "melange(t)\n",
    "t"
   ]
  },
  {
   "cell_type": "markdown",
   "metadata": {},
   "source": [
    "[Voir pas à pas dans python tutor](http://pythontutor.com/visualize.html#code=def%20melange%28tab%29%3A%0A%20%20%20%20from%20random%20import%20randint%0A%20%20%20%20for%20i%20in%20range%28len%28tab%29%29%3A%0A%20%20%20%20%20%20%20%20j%20%3D%20randint%280,%20i%29%0A%20%20%20%20%20%20%20%20tmp%20%3D%20tab%5Bi%5D%0A%20%20%20%20%20%20%20%20tab%5Bi%5D%20%3D%20tab%5Bj%5D%0A%20%20%20%20%20%20%20%20tab%5Bj%5D%20%3D%20tmp%0A%0At%20%3D%20%5B1,2,3,4,5%5D%0Amelange%28t%29%0Aprint%28t%29&cumulative=false&curInstr=0&heapPrimitives=false&mode=display&origin=opt-frontend.js&py=3&rawInputLstJSON=%5B%5D&textReferences=false)"
   ]
  },
  {
   "cell_type": "markdown",
   "metadata": {
    "slideshow": {
     "slide_type": "subslide"
    }
   },
   "source": [
    "### Tableau 11 - préfixe et suffixe\n",
    "\n",
    "1. Écrire une fonction `prefixe(tab1, tab2)` qui renvoie `True` si le tableau `tab1` est un préfixe du tableau `tab2`, c'est-à-dire si le tableau `tab2` commence par les éléments du tableau `tab1` dans le même ordre.\n",
    "\n",
    "2. Similairement, écrire une fonction `suffixe(tab1, tab2)` qui renvoie `True` si le tableau `tab2` se termine par les éléments du tableau `tab1` dans le même ordre."
   ]
  },
  {
   "cell_type": "code",
   "execution_count": null,
   "metadata": {},
   "outputs": [],
   "source": []
  },
  {
   "cell_type": "markdown",
   "metadata": {},
   "source": [
    "**Solution**"
   ]
  },
  {
   "cell_type": "code",
   "execution_count": null,
   "metadata": {
    "jupyter": {
     "source_hidden": true
    }
   },
   "outputs": [],
   "source": [
    "def prefixe(tab1, tab2):\n",
    "    N1, N2 = len(tab1), len(tab2)\n",
    "    if N1 > N2: return False\n",
    "    # ici nous savons que N1 <= N2 donc\n",
    "    for i in range(N1):\n",
    "        if tab1[i] != tab2[i]: return False\n",
    "    return True\n",
    "\n",
    "assert prefixe([1,2], [1,2,3]) == True\n",
    "assert prefixe([1,2,3], [1,2]) == False\n",
    "assert prefixe([1,2,3], [1,2,4,3]) == False"
   ]
  },
  {
   "cell_type": "markdown",
   "metadata": {},
   "source": [
    "[Voir pas à pas dans python tutor](http://pythontutor.com/visualize.html#code=def%20prefixe%28tab1,%20tab2%29%3A%0A%20%20%20%20N1,%20N2%20%3D%20len%28tab1%29,%20len%28tab2%29%0A%20%20%20%20if%20N1%20%3E%20N2%3A%20return%20False%0A%20%20%20%20%23%20ici%20nous%20savons%20que%20N1%20%3C%3D%20N2%20donc%0A%20%20%20%20for%20i%20in%20range%28N1%29%3A%0A%20%20%20%20%20%20%20%20if%20tab1%5Bi%5D%20!%3D%20tab2%5Bi%5D%3A%20return%20False%0A%20%20%20%20return%20True%0A%0Aassert%20prefixe%28%5B1,2%5D,%20%5B1,2,3%5D%29%20%3D%3D%20True&cumulative=false&curInstr=0&heapPrimitives=false&mode=display&origin=opt-frontend.js&py=3&rawInputLstJSON=%5B%5D&textReferences=false)"
   ]
  },
  {
   "cell_type": "code",
   "execution_count": null,
   "metadata": {
    "jupyter": {
     "source_hidden": true
    }
   },
   "outputs": [],
   "source": [
    "def suffixe(tab1, tab2):\n",
    "    # copions puis renversons\n",
    "    t1, t2 = copie(tab1), copie(tab2)\n",
    "    miroir(t1)\n",
    "    miroir(t2)\n",
    "    # un suffixe potentiel est devenu un préfixe...\n",
    "    return prefixe(t1, t2)\n",
    "\n",
    "assert suffixe([2,3], [1,2,3]) == True\n",
    "assert suffixe([3,1,2], [1,2]) == False\n",
    "assert suffixe([1,2,3], [0,1,2,2]) == False"
   ]
  },
  {
   "cell_type": "markdown",
   "metadata": {},
   "source": [
    "Autre solution qu'il est bon de travailler... (elle est moins simple mais nettement plus efficace!)"
   ]
  },
  {
   "cell_type": "code",
   "execution_count": null,
   "metadata": {
    "jupyter": {
     "source_hidden": true
    }
   },
   "outputs": [],
   "source": [
    "def suffixe_bis(tab1, tab2):\n",
    "    N1, N2 = len(tab1), len(tab2)\n",
    "    if N1 > N2: return False\n",
    "    # Il est bon de connaître la technique de parcours à l'envers d'un tableau\n",
    "    # Si N est sa longueur, le dernier index est N-1=N-1-0,\n",
    "    # l'avant dernier N-1-1, l'avant avant dernier N-1-2, ...\n",
    "    # et le dernier est N-1-(N-1)=0!\n",
    "    for i in range(N1):\n",
    "        j1 = N1 - 1 - i\n",
    "        j2 = N2 - 1 - i\n",
    "        if tab1[j1] != tab2[j2]:\n",
    "            return False\n",
    "    return True\n",
    "\n",
    "assert suffixe_bis([2,3], [1,2,3]) == True\n",
    "assert suffixe_bis([3,1,2], [1,2]) == False\n",
    "assert suffixe_bis([1,2,3], [0,1,2,2]) == False"
   ]
  },
  {
   "cell_type": "markdown",
   "metadata": {},
   "source": [
    "[Voir pas à pas dans python tutor](http://pythontutor.com/visualize.html#code=def%20suffixe_bis%28tab1,%20tab2%29%3A%0A%20%20%20%20N1,%20N2%20%3D%20len%28tab1%29,%20len%28tab2%29%0A%20%20%20%20if%20N1%20%3E%20N2%3A%20return%20False%0A%20%20%20%20%23%20Il%20est%20bon%20de%20conna%C3%AEtre%20la%20technique%20de%20parcours%20%C3%A0%20l'envers%20d'un%20tableau%0A%20%20%20%20%23%20Si%20N%20est%20sa%20longueur,%20le%20dernier%20index%20est%20N-1%3DN-1-0,%0A%20%20%20%20%23%20l'avant%20dernier%20N-1-1,%20l'avant%20avant%20dernier%20N-1-2,%20...%0A%20%20%20%20%23%20et%20le%20dernier%20est%20N-1-%28N-1%29%3D0!%0A%20%20%20%20for%20i%20in%20range%28N1%29%3A%0A%20%20%20%20%20%20%20%20j1%20%3D%20N1%20-%201%20-%20i%0A%20%20%20%20%20%20%20%20j2%20%3D%20N2%20-%201%20-%20i%0A%20%20%20%20%20%20%20%20if%20tab1%5Bj1%5D%20!%3D%20tab2%5Bj2%5D%3A%0A%20%20%20%20%20%20%20%20%20%20%20%20return%20False%0A%20%20%20%20return%20True%0A%0Aassert%20suffixe_bis%28%5B2,3%5D,%20%5B1,2,3%5D%29%20%3D%3D%20True&cumulative=false&curInstr=0&heapPrimitives=false&mode=display&origin=opt-frontend.js&py=3&rawInputLstJSON=%5B%5D&textReferences=false)"
   ]
  },
  {
   "cell_type": "markdown",
   "metadata": {
    "slideshow": {
     "slide_type": "subslide"
    }
   },
   "source": [
    "### Tableau 12 - distance de hamming"
   ]
  },
  {
   "cell_type": "markdown",
   "metadata": {
    "slideshow": {
     "slide_type": "subslide"
    }
   },
   "source": [
    "1. Écrire une fonction `hamming(tab1, tab2)` qui prend deux tableaux en arguments supposé de même taille, et qui renvoie le nombre d'indices auxquels les deux tableaux diffèrent. Voici quelques exemples:"
   ]
  },
  {
   "cell_type": "code",
   "execution_count": null,
   "metadata": {},
   "outputs": [],
   "source": [
    "assert hamming1([1,2,3], [1,2,3]) == 0\n",
    "assert hamming1([1,2,3], [1,2,2]) == 1 \n",
    "assert hamming1([1,2,3], [2,2,2]) == 2 \n",
    "assert hamming1([1,2,3], [3,1,2]) == 3"
   ]
  },
  {
   "cell_type": "code",
   "execution_count": null,
   "metadata": {},
   "outputs": [],
   "source": []
  },
  {
   "cell_type": "markdown",
   "metadata": {},
   "source": [
    "**Solution**"
   ]
  },
  {
   "cell_type": "code",
   "execution_count": null,
   "metadata": {
    "jupyter": {
     "source_hidden": true
    }
   },
   "outputs": [],
   "source": [
    "def hamming1(tab1, tab2):\n",
    "    assert len(tab1) == len(tab2)\n",
    "    diff = 0\n",
    "    N = len(tab1)\n",
    "    for i in range(N):\n",
    "        if tab1[i] != tab2[i]: \n",
    "            diff += 1\n",
    "    return diff"
   ]
  },
  {
   "cell_type": "markdown",
   "metadata": {},
   "source": [
    "[Voir pas à pas dans python tutor](http://pythontutor.com/visualize.html#code=def%20hamming1%28tab1,%20tab2%29%3A%0A%20%20%20%20assert%20len%28tab1%29%20%3D%3D%20len%28tab2%29%0A%20%20%20%20diff%20%3D%200%0A%20%20%20%20N%20%3D%20len%28tab1%29%0A%20%20%20%20for%20i%20in%20range%28N%29%3A%0A%20%20%20%20%20%20%20%20if%20tab1%5Bi%5D%20!%3D%20tab2%5Bi%5D%3A%20%0A%20%20%20%20%20%20%20%20%20%20%20%20diff%20%2B%3D%201%0A%20%20%20%20return%20diff%0A%0Aassert%20hamming1%28%5B1,2,3%5D,%20%5B2,2,2%5D%29%20%3D%3D%202&cumulative=false&curInstr=0&heapPrimitives=false&mode=display&origin=opt-frontend.js&py=3&rawInputLstJSON=%5B%5D&textReferences=false)"
   ]
  },
  {
   "cell_type": "markdown",
   "metadata": {
    "slideshow": {
     "slide_type": "subslide"
    }
   },
   "source": [
    "2. Même chose sans supposer que les tableaux ont la même taille. On considère qu'un indice auquel seul l'un des tableaux est défini compte pour une différence."
   ]
  },
  {
   "cell_type": "code",
   "execution_count": null,
   "metadata": {},
   "outputs": [],
   "source": [
    "assert hamming2([1,2,3], [1,2,2,4]) == 2\n",
    "assert hamming2([1,2,2,4], [1,3,3]) == 3"
   ]
  },
  {
   "cell_type": "markdown",
   "metadata": {},
   "source": [
    "**Solution**"
   ]
  },
  {
   "cell_type": "code",
   "execution_count": null,
   "metadata": {
    "jupyter": {
     "source_hidden": true
    }
   },
   "outputs": [],
   "source": [
    "def hamming2(tab1, tab2):\n",
    "    diff = 0\n",
    "    N1, N2 = len(tab1), len(tab2)\n",
    "    if N1 < N2:\n",
    "        # rappel: tab[:i] -> sous tableau contenant les elts d'index 0, 1, ..., i-1\n",
    "        return hamming1(tab1, tab2[:N1]) + (N2 - N1) # tenir compte des éléments restant\n",
    "    else:\n",
    "        return hamming1(tab1[:N2], tab2) + (N1 - N2)"
   ]
  },
  {
   "cell_type": "markdown",
   "metadata": {},
   "source": [
    "[Voir pas à pas dans python tutor](http://pythontutor.com/visualize.html#code=def%20hamming2%28tab1,%20tab2%29%3A%0A%20%20%20%20diff%20%3D%200%0A%20%20%20%20N1,%20N2%20%3D%20len%28tab1%29,%20len%28tab2%29%0A%20%20%20%20if%20N1%20%3C%20N2%3A%0A%20%20%20%20%20%20%20%20%23%20rappel%3A%20tab%5B%3Ai%5D%20-%3E%20sous%20tableau%20contenant%20les%20elts%20d'index%200,%201,%20...,%20i-1%0A%20%20%20%20%20%20%20%20return%20hamming1%28tab1,%20tab2%5B%3AN1%5D%29%20%2B%20%28N2%20-%20N1%29%20%23%20tenir%20compte%20des%20%C3%A9l%C3%A9ments%20restant%0A%20%20%20%20else%3A%0A%20%20%20%20%20%20%20%20return%20hamming1%28tab1%5B%3AN2%5D,%20tab2%29%20%2B%20%28N1%20-%20N2%29%0A%0Aassert%20hamming2%28%5B1,2,3%5D,%20%5B1,2,2,4%5D%29%20%3D%3D%202&cumulative=false&curInstr=0&heapPrimitives=false&mode=display&origin=opt-frontend.js&py=3&rawInputLstJSON=%5B%5D&textReferences=false)"
   ]
  }
 ],
 "metadata": {
  "celltoolbar": "Diaporama",
  "kernelspec": {
   "display_name": "Python 3",
   "language": "python",
   "name": "python3"
  },
  "language_info": {
   "codemirror_mode": {
    "name": "ipython",
    "version": 3
   },
   "file_extension": ".py",
   "mimetype": "text/x-python",
   "name": "python",
   "nbconvert_exporter": "python",
   "pygments_lexer": "ipython3",
   "version": "3.7.3"
  }
 },
 "nbformat": 4,
 "nbformat_minor": 4
}
