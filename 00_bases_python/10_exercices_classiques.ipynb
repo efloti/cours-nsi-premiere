{
 "cells": [
  {
   "cell_type": "markdown",
   "metadata": {
    "slideshow": {
     "slide_type": "slide"
    }
   },
   "source": [
    "# Exercices"
   ]
  },
  {
   "cell_type": "markdown",
   "metadata": {},
   "source": [
    "**ATTENTION**: Les différentes sections sont cachées car le notebook est «gros». Utiliser la table des matières pour les ouvrir et bien vous organiser."
   ]
  },
  {
   "cell_type": "markdown",
   "metadata": {
    "toc-hr-collapsed": true,
    "toc-nb-collapsed": true
   },
   "source": [
    "## 1 - Affectations"
   ]
  },
  {
   "cell_type": "markdown",
   "metadata": {
    "slideshow": {
     "slide_type": "slide"
    }
   },
   "source": [
    "### Affectaction 1"
   ]
  },
  {
   "cell_type": "markdown",
   "metadata": {
    "slideshow": {
     "slide_type": "slide"
    }
   },
   "source": [
    "Quelle est la valeur affichée par l'interprèteur après la séquence d'instructions suivantes ? ___\n",
    "```python\n",
    ">>> a = 3\n",
    ">>> a = 4\n",
    ">>> a = a + 2\n",
    ">>> a\n",
    "```"
   ]
  },
  {
   "cell_type": "markdown",
   "metadata": {},
   "source": [
    "#### Solution"
   ]
  },
  {
   "cell_type": "markdown",
   "metadata": {},
   "source": [
    "**6**"
   ]
  },
  {
   "cell_type": "markdown",
   "metadata": {
    "slideshow": {
     "slide_type": "subslide"
    }
   },
   "source": [
    "### Affectaction 2"
   ]
  },
  {
   "cell_type": "markdown",
   "metadata": {
    "slideshow": {
     "slide_type": "subslide"
    }
   },
   "source": [
    "Même question. ___\n",
    "```python\n",
    ">>> a = 2\n",
    ">>> b = a * a\n",
    ">>> b = a * b\n",
    ">>> b = b * b\n",
    ">>> b\n",
    "```"
   ]
  },
  {
   "cell_type": "markdown",
   "metadata": {},
   "source": [
    "#### Solution"
   ]
  },
  {
   "cell_type": "markdown",
   "metadata": {},
   "source": [
    "**64**"
   ]
  },
  {
   "cell_type": "markdown",
   "metadata": {
    "slideshow": {
     "slide_type": "subslide"
    }
   },
   "source": [
    "### Affectaction 3"
   ]
  },
  {
   "cell_type": "markdown",
   "metadata": {
    "slideshow": {
     "slide_type": "subslide"
    }
   },
   "source": [
    "Initialiser une variable `a` avec la valeur 2, puis répéter dix fois l'instruction `a = a * a`. \n",
    "\n",
    "Observer le résultat. Quelle puissance de 2 a-t-on ainsi calculée ? ___"
   ]
  },
  {
   "cell_type": "code",
   "execution_count": null,
   "metadata": {},
   "outputs": [],
   "source": [
    "# à faire ici ..."
   ]
  },
  {
   "cell_type": "markdown",
   "metadata": {},
   "source": [
    "#### Solution"
   ]
  },
  {
   "cell_type": "markdown",
   "metadata": {},
   "source": [
    "$\\bf{2^{(2^{10})}=2^{1024}}$"
   ]
  },
  {
   "cell_type": "markdown",
   "metadata": {
    "slideshow": {
     "slide_type": "subslide"
    }
   },
   "source": [
    "### Affectaction 4"
   ]
  },
  {
   "cell_type": "markdown",
   "metadata": {
    "slideshow": {
     "slide_type": "subslide"
    }
   },
   "source": [
    "On supposera qu'à l'origine les variables `a` et `b` contiennent chacune un nombre entier.\n",
    "\n",
    "1. Que fait la séquence d'instructions suivante? ___\n",
    "\n",
    "```python\n",
    ">>> tmp = a\n",
    ">>> a = b\n",
    ">>> b = tmp\n",
    "```"
   ]
  },
  {
   "cell_type": "code",
   "execution_count": null,
   "metadata": {},
   "outputs": [],
   "source": []
  },
  {
   "cell_type": "markdown",
   "metadata": {},
   "source": [
    "#### Solution"
   ]
  },
  {
   "cell_type": "markdown",
   "metadata": {},
   "source": [
    "**Échange (*swap*) les valeurs des variables a et b**"
   ]
  },
  {
   "cell_type": "markdown",
   "metadata": {
    "slideshow": {
     "slide_type": "fragment"
    }
   },
   "source": [
    "2. Écrire une instruction (une ligne) qui fait la même chose (*aide*: penser à l'affectaction multiple)"
   ]
  },
  {
   "cell_type": "code",
   "execution_count": null,
   "metadata": {},
   "outputs": [],
   "source": []
  },
  {
   "cell_type": "markdown",
   "metadata": {},
   "source": [
    "#### Solution"
   ]
  },
  {
   "cell_type": "code",
   "execution_count": null,
   "metadata": {
    "jupyter": {
     "source_hidden": true
    }
   },
   "outputs": [],
   "source": [
    "a, b = 1, 2\n",
    "a, b = b, a # la ligne importante\n",
    "a, b"
   ]
  },
  {
   "cell_type": "markdown",
   "metadata": {
    "slideshow": {
     "slide_type": "subslide"
    }
   },
   "source": [
    "### Affectaction 5"
   ]
  },
  {
   "cell_type": "markdown",
   "metadata": {
    "slideshow": {
     "slide_type": "subslide"
    }
   },
   "source": [
    "On met deux entiers dans deux «boîtes» `a` et `b`, par exemple 55 et 89.\n",
    "\n",
    "On remplace le contenu de `a` par la somme de celui de `a` et de `b`.\n",
    "\n",
    "Puis on remplace le contenu de `b` par le contenu de `a` moins le contenu de `b`.\n",
    "\n",
    "Enfin, on remplace le contenu de `a` par son contenu moins celui de `b`.\n",
    "\n",
    "Que contiennent `a` et `b` à la fin de ces opérations? ____\n",
    "\n",
    "Programme cet algorihme en Python."
   ]
  },
  {
   "cell_type": "code",
   "execution_count": null,
   "metadata": {},
   "outputs": [],
   "source": [
    "# à faire"
   ]
  },
  {
   "cell_type": "markdown",
   "metadata": {},
   "source": [
    "#### Solution"
   ]
  },
  {
   "cell_type": "markdown",
   "metadata": {},
   "source": [
    "**89** et **55**"
   ]
  },
  {
   "cell_type": "code",
   "execution_count": null,
   "metadata": {
    "jupyter": {
     "source_hidden": true
    }
   },
   "outputs": [],
   "source": [
    "a, b = 55, 89\n",
    "a = a + b\n",
    "b = a - b\n",
    "a = a - b\n",
    "a, b"
   ]
  },
  {
   "cell_type": "markdown",
   "metadata": {
    "toc-hr-collapsed": true,
    "toc-nb-collapsed": true
   },
   "source": [
    "## 2 - Opérations"
   ]
  },
  {
   "cell_type": "markdown",
   "metadata": {
    "slideshow": {
     "slide_type": "slide"
    }
   },
   "source": [
    "### Opération 1"
   ]
  },
  {
   "cell_type": "markdown",
   "metadata": {
    "slideshow": {
     "slide_type": "slide"
    }
   },
   "source": [
    "Écrire une fonction qui attend un nombre de secondes et qui renvoie une chaîne (*str*) dans le format `<heures>/<minutes>/<secondes>`"
   ]
  },
  {
   "cell_type": "code",
   "execution_count": null,
   "metadata": {},
   "outputs": [],
   "source": [
    "def formatter_duree(duree_sec):\n",
    "    pass # à faire"
   ]
  },
  {
   "cell_type": "markdown",
   "metadata": {},
   "source": [
    "#### Solution"
   ]
  },
  {
   "cell_type": "code",
   "execution_count": null,
   "metadata": {
    "jupyter": {
     "source_hidden": true
    }
   },
   "outputs": [],
   "source": [
    "def formatter_duree(duree_sec):\n",
    "    secondes = duree_sec % 60\n",
    "    duree_min = duree_sec // 60\n",
    "    \n",
    "    minutes = duree_min % 60\n",
    "    heures = duree_min // 60\n",
    "        \n",
    "    return f\"{heures}/{minutes}/{secondes}\"\n",
    "\n",
    "formatter_duree(130)"
   ]
  },
  {
   "cell_type": "markdown",
   "metadata": {
    "slideshow": {
     "slide_type": "subslide"
    }
   },
   "source": [
    "### Opération 2"
   ]
  },
  {
   "cell_type": "markdown",
   "metadata": {
    "slideshow": {
     "slide_type": "subslide"
    }
   },
   "source": [
    "Écrire une fonction qui attend un nombre d'oeufs et qui renvoie le nombre de boîtes de 6 oeufs nécessaires à leur transport."
   ]
  },
  {
   "cell_type": "code",
   "execution_count": null,
   "metadata": {},
   "outputs": [],
   "source": [
    "def boites_oeufs(nb_oeufs):\n",
    "    pass # à faire     \n",
    "    return nb_boites"
   ]
  },
  {
   "cell_type": "markdown",
   "metadata": {},
   "source": [
    "#### Solution"
   ]
  },
  {
   "cell_type": "code",
   "execution_count": null,
   "metadata": {
    "jupyter": {
     "source_hidden": true
    }
   },
   "outputs": [],
   "source": [
    "def boites_oeufs(nb_oeufs):\n",
    "    nb_boites = nb_oeufs // 6\n",
    "    if nb_oeufs % 6 != 0: # reste des oeufs!\n",
    "        nb_boites += 1 # il nous faut donc une boîte de plus\n",
    "        \n",
    "    return nb_boites\n",
    "\n",
    "boites_oeufs(13)"
   ]
  },
  {
   "cell_type": "markdown",
   "metadata": {
    "toc-hr-collapsed": true,
    "toc-nb-collapsed": true
   },
   "source": [
    "## 3 - Boucles"
   ]
  },
  {
   "cell_type": "markdown",
   "metadata": {
    "slideshow": {
     "slide_type": "slide"
    }
   },
   "source": [
    "### Boucle 1"
   ]
  },
  {
   "cell_type": "markdown",
   "metadata": {
    "slideshow": {
     "slide_type": "slide"
    }
   },
   "source": [
    "Écrire une fonction qui demande un entier `n` à l'utilisateur, puis calcule renvoie le résultat de la multiplication\n",
    "$$2\\times 2\\times 2\\cdots\\times 2$$\n",
    "où on a `n` occurences (répétitions) de $2$."
   ]
  },
  {
   "cell_type": "code",
   "execution_count": null,
   "metadata": {
    "slideshow": {
     "slide_type": "-"
    }
   },
   "outputs": [],
   "source": [
    "def repeter_multiplication_avec_2(n):\n",
    "    pass"
   ]
  },
  {
   "cell_type": "markdown",
   "metadata": {},
   "source": [
    "#### Solution"
   ]
  },
  {
   "cell_type": "code",
   "execution_count": null,
   "metadata": {
    "jupyter": {
     "source_hidden": true
    }
   },
   "outputs": [],
   "source": [
    "def repeter_multiplication_avec_2(n):\n",
    "    resultat = 1 # accumulateur initialisé à 1: l'élément neutre de la multiplication.\n",
    "    \n",
    "    for i in range(n):\n",
    "        resultat = resultat * 2\n",
    "    \n",
    "    return resultat\n",
    "\n",
    "def repeter_multiplication_avec_2_var(n):\n",
    "    resultat = 2 # accumulateur initialisé à 2: ça complique\n",
    "    \n",
    "    if n == 0:\n",
    "        return 1 # tout nombre à la puissance 0 vaut 1.\n",
    "    \n",
    "    \n",
    "    for i in range(n-1):\n",
    "        resultat = resultat * 2\n",
    "    \n",
    "    return resultat"
   ]
  },
  {
   "cell_type": "markdown",
   "metadata": {
    "slideshow": {
     "slide_type": "subslide"
    }
   },
   "source": [
    "### Boucle 2"
   ]
  },
  {
   "cell_type": "markdown",
   "metadata": {
    "slideshow": {
     "slide_type": "subslide"
    }
   },
   "source": [
    "1. Écrire un programme qui calcule et affiche la chaîne de caractères `\"1*2*3*...*100\"` sans les points de suspensions!"
   ]
  },
  {
   "cell_type": "code",
   "execution_count": null,
   "metadata": {},
   "outputs": [],
   "source": [
    "# à faire"
   ]
  },
  {
   "cell_type": "markdown",
   "metadata": {},
   "source": [
    "#### Solution"
   ]
  },
  {
   "cell_type": "code",
   "execution_count": null,
   "metadata": {
    "jupyter": {
     "source_hidden": true
    }
   },
   "outputs": [],
   "source": [
    "prod_str = \"\" # accumulateur initialisé avec une chaîne vide\n",
    "\n",
    "for i in range(1, 101):\n",
    "    prod_str = f\"{prod_str}{i}\"\n",
    "    if i < 100: # sans ça une étoile en trop à la fin\n",
    "        prod_str = prod_str + \"*\"\n",
    "\n",
    "prod_str"
   ]
  },
  {
   "cell_type": "code",
   "execution_count": null,
   "metadata": {
    "jupyter": {
     "source_hidden": true
    }
   },
   "outputs": [],
   "source": [
    "# autre solution: avec `str.join(<liste>)`\n",
    "entiers_str = []\n",
    "for i in range(1,101):\n",
    "    i_str = str(i)\n",
    "    entiers_str.append(i_str)\n",
    "\"*\".join(entiers_str)"
   ]
  },
  {
   "cell_type": "markdown",
   "metadata": {
    "slideshow": {
     "slide_type": "fragment"
    }
   },
   "source": [
    "2. Écrire une fonction qui attend un entier `n` et renvoie la `str` précédente où le dernier nombre est l'entier fourni."
   ]
  },
  {
   "cell_type": "code",
   "execution_count": null,
   "metadata": {},
   "outputs": [],
   "source": [
    "def chaine_factorielle(n):\n",
    "    pass"
   ]
  },
  {
   "cell_type": "markdown",
   "metadata": {},
   "source": [
    "#### Solution"
   ]
  },
  {
   "cell_type": "code",
   "execution_count": null,
   "metadata": {
    "jupyter": {
     "source_hidden": true
    }
   },
   "outputs": [],
   "source": [
    "def chaine_factorielle(n):\n",
    "    ch_produit = \"\" # accumulateur initialisé avec une chaîne vide\n",
    "\n",
    "    for i in range(1, n + 1):\n",
    "        ch_produit = f\"{ch_produit}{i}\"\n",
    "        if i < n: # sans ça une étoile en trop à la fin\n",
    "            ch_produit += \"*\"\n",
    "    \n",
    "    return ch_produit\n",
    "\n",
    "chaine_factorielle(10)"
   ]
  },
  {
   "cell_type": "markdown",
   "metadata": {
    "slideshow": {
     "slide_type": "subslide"
    }
   },
   "source": [
    "3. Écrire une fonction qui attend un entier `n` et renvoie le résultat *int* de l'opération précédente."
   ]
  },
  {
   "cell_type": "code",
   "execution_count": null,
   "metadata": {},
   "outputs": [],
   "source": [
    "def factorielle(n):\n",
    "    pass"
   ]
  },
  {
   "cell_type": "markdown",
   "metadata": {},
   "source": [
    "#### Solution"
   ]
  },
  {
   "cell_type": "code",
   "execution_count": null,
   "metadata": {
    "jupyter": {
     "source_hidden": true
    }
   },
   "outputs": [],
   "source": [
    "def factorielle(n):\n",
    "    fact = 1 # accumultateur initialisé à 1 car «produit»\n",
    "    for i in range(1,n+1):\n",
    "        fact = fact * i\n",
    "    return fact\n",
    "\n",
    "factorielle(3)"
   ]
  },
  {
   "cell_type": "markdown",
   "metadata": {
    "slideshow": {
     "slide_type": "subslide"
    }
   },
   "source": [
    "### Boucle 3"
   ]
  },
  {
   "cell_type": "markdown",
   "metadata": {
    "slideshow": {
     "slide_type": "subslide"
    }
   },
   "source": [
    "1. Reprendre la dernière question de l'exercice précédent où la multiplication est remplacée par l'addition."
   ]
  },
  {
   "cell_type": "code",
   "execution_count": null,
   "metadata": {},
   "outputs": [],
   "source": [
    "def somme_entiers_consecutifs(n):\n",
    "    pass"
   ]
  },
  {
   "cell_type": "markdown",
   "metadata": {},
   "source": [
    "#### Solution"
   ]
  },
  {
   "cell_type": "code",
   "execution_count": null,
   "metadata": {
    "jupyter": {
     "source_hidden": true
    }
   },
   "outputs": [],
   "source": [
    "def somme_entiers_consecutifs(n):\n",
    "    somme = 0 # acc initialisé à 0 car «addition»\n",
    "    for i in range(1, n+1):\n",
    "        somme = somme + i\n",
    "    return somme\n",
    "\n",
    "somme_entiers_consecutifs(4)"
   ]
  },
  {
   "cell_type": "markdown",
   "metadata": {
    "slideshow": {
     "slide_type": "subslide"
    }
   },
   "source": [
    "2. Réaliser une «micro»-fonction `lambda` qui implémente la fonction $n\\mapsto \\dfrac{n(n+1)}{2}$ (voir *note* en dessous)"
   ]
  },
  {
   "cell_type": "code",
   "execution_count": null,
   "metadata": {},
   "outputs": [],
   "source": []
  },
  {
   "cell_type": "markdown",
   "metadata": {},
   "source": [
    "*Note*: une «micro»-fonction sert à produire rapidement une fonction lorsque celle-ci est de la forme «$x\\mapsto\\text{expression}$». En python, cela donne `nom_fonction = lambda x:<expression>`.\n",
    "\n",
    "*expression*: tout ce qui produit une valeur\n",
    "\n",
    "*Exemples*:\n",
    "- la fonction carré $x\\mapsto x^2$ peut s'écrire `carre = lambda x: x ** 2`\n",
    "- la fonction «surface d'un rectangle» $\\quad l, L \\mapsto l\\times L\\quad$ peut s'écrire `surface_rect = lambda l, L: l * L`"
   ]
  },
  {
   "cell_type": "code",
   "execution_count": null,
   "metadata": {
    "slideshow": {
     "slide_type": "subslide"
    }
   },
   "outputs": [],
   "source": [
    "# zone pour tester les «micro»-fonctions\n",
    "carre = lambda x: x ** 2\n",
    "carre(3)"
   ]
  },
  {
   "cell_type": "markdown",
   "metadata": {},
   "source": [
    "#### Solution"
   ]
  },
  {
   "cell_type": "code",
   "execution_count": null,
   "metadata": {
    "jupyter": {
     "source_hidden": true
    }
   },
   "outputs": [],
   "source": [
    "micro = lambda n : n * (n + 1) / 2"
   ]
  },
  {
   "cell_type": "markdown",
   "metadata": {
    "slideshow": {
     "slide_type": "fragment"
    }
   },
   "source": [
    "3. Comparer les résultats de l'une et de l'autre pour les valeurs 10, 100 et 347.\n",
    "\n",
    " Qu'observez-vous ? ___ (Démontrer... ou attendre le chapitre sur les suites!)"
   ]
  },
  {
   "cell_type": "code",
   "execution_count": null,
   "metadata": {},
   "outputs": [],
   "source": []
  },
  {
   "cell_type": "markdown",
   "metadata": {},
   "source": [
    "#### Solution"
   ]
  },
  {
   "cell_type": "markdown",
   "metadata": {},
   "source": [
    "**Elles donnent le même résultat** (démontrer ... ou attendre le chapitre sur les suites)\n",
    " \n",
    " **Démontrer** : \n",
    " \n",
    "         S     =    1  +    2  + ...... +   n-1 +    n\n",
    "         S     =    n  +  n-1  + ...... +     2 +    1\n",
    "         S + S = (n+1) + (n+1) + ...... + (n+1) + (n+1)\n",
    "         en ajoutant membre a membre, «colonne par colonne»\n",
    "     \n",
    "         à gauche de = 2S\n",
    "         à droite de = n*(n+1) car (n+1) est répété précisément n fois\n",
    "         les deux sont égaux donc S=n*(n+1)/2             c.q.f.d"
   ]
  },
  {
   "cell_type": "code",
   "execution_count": null,
   "metadata": {
    "jupyter": {
     "source_hidden": true
    }
   },
   "outputs": [],
   "source": [
    "for nb in [10, 100, 347]:\n",
    "    test = ( micro(nb) == somme_entiers_consecutifs(nb) )\n",
    "    print(test)"
   ]
  },
  {
   "cell_type": "markdown",
   "metadata": {
    "slideshow": {
     "slide_type": "subslide"
    }
   },
   "source": [
    "### Boucle 4"
   ]
  },
  {
   "cell_type": "markdown",
   "metadata": {
    "slideshow": {
     "slide_type": "subslide"
    }
   },
   "source": [
    "Écrire une fonction pour résoudre le problème suivant.\n",
    "\n",
    ">Une somme initiale de `depot` € est déposée sur un livret rémunéré avec un taux d'intérêts annuels `taux` exprimé en pourcents.\n",
    ">\n",
    ">Quel montant total se trouve sur le livret après `n` années?"
   ]
  },
  {
   "cell_type": "code",
   "execution_count": null,
   "metadata": {},
   "outputs": [],
   "source": [
    "def montant_depot(depot, taux, n):\n",
    "    pass"
   ]
  },
  {
   "cell_type": "markdown",
   "metadata": {},
   "source": [
    "#### Solution"
   ]
  },
  {
   "cell_type": "code",
   "execution_count": null,
   "metadata": {
    "jupyter": {
     "source_hidden": true
    }
   },
   "outputs": [],
   "source": [
    "def montant_depot(depot, taux, n):\n",
    "    montant = depot\n",
    "    for _ in range(n):\n",
    "        interet = montant * taux / 100\n",
    "        montant = montant + interet\n",
    "    return montant\n",
    "\n",
    "d, t, a = 100, 5, 10\n",
    "au_final = montant_depot(d, t, a)\n",
    "print(f\"Montant du dépot après {a} années rémunéré à {t}% avec une mise de départ de {d}€: {round(au_final, 2)}€\")"
   ]
  },
  {
   "cell_type": "markdown",
   "metadata": {
    "toc-hr-collapsed": true,
    "toc-nb-collapsed": true
   },
   "source": [
    "## 4 - Tests"
   ]
  },
  {
   "cell_type": "markdown",
   "metadata": {
    "slideshow": {
     "slide_type": "slide"
    }
   },
   "source": [
    "### Test 1"
   ]
  },
  {
   "cell_type": "markdown",
   "metadata": {
    "slideshow": {
     "slide_type": "slide"
    }
   },
   "source": [
    "Écrire une fonction qui attend un entier `n` et renvoie la liste de tous ses diviseurs."
   ]
  },
  {
   "cell_type": "code",
   "execution_count": null,
   "metadata": {},
   "outputs": [],
   "source": [
    "def trouver_diviseurs(n):\n",
    "    pass"
   ]
  },
  {
   "cell_type": "markdown",
   "metadata": {},
   "source": [
    "#### Solution"
   ]
  },
  {
   "cell_type": "code",
   "execution_count": null,
   "metadata": {
    "jupyter": {
     "source_hidden": true
    }
   },
   "outputs": [],
   "source": [
    "def trouver_diviseurs(n):\n",
    "    diviseurs = []\n",
    "    for i in range(1,n+1):\n",
    "        if n % i == 0:\n",
    "            diviseurs.append(i)\n",
    "    return diviseurs\n",
    "\n",
    "trouver_diviseurs(24)"
   ]
  },
  {
   "cell_type": "markdown",
   "metadata": {
    "slideshow": {
     "slide_type": "subslide"
    }
   },
   "source": [
    "### Test 2"
   ]
  },
  {
   "cell_type": "markdown",
   "metadata": {
    "slideshow": {
     "slide_type": "subslide"
    }
   },
   "source": [
    "1. Réutiliser la fonction de l'exercice précédent de façon à écrire une fonction `trouver_diviseurs_premiers(n)` qui renvoie la liste des diviseurs premiers de l'entier `n`.\n",
    "\n",
    "  *Rappel*: un nombre premier est strictement plus grand que 1 et n'est divisible que par 1 et par lui-même."
   ]
  },
  {
   "cell_type": "code",
   "execution_count": null,
   "metadata": {},
   "outputs": [],
   "source": [
    "def trouver_diviseurs_premiers(n):\n",
    "    pass"
   ]
  },
  {
   "cell_type": "code",
   "execution_count": null,
   "metadata": {
    "jupyter": {
     "source_hidden": true
    }
   },
   "outputs": [],
   "source": [
    "def trouver_diviseurs(n):\n",
    "    diviseurs = []\n",
    "    for i in range(1,n+1):\n",
    "        if n % i == 0:\n",
    "            diviseurs.append(i)\n",
    "    return diviseurs\n",
    "\n",
    "def trouver_diviseurs_premiers(n):\n",
    "    diviseurs_p = []\n",
    "    for i in range(1,n+1):\n",
    "        if n % i == 0 and len(trouver_diviseurs(i)) == 2:\n",
    "            diviseurs_p.append(i)\n",
    "    return diviseurs_p\n",
    "\n",
    "trouver_diviseurs_premiers(24)"
   ]
  },
  {
   "cell_type": "markdown",
   "metadata": {},
   "source": [
    "#### Solution"
   ]
  },
  {
   "cell_type": "markdown",
   "metadata": {
    "slideshow": {
     "slide_type": "subslide"
    }
   },
   "source": [
    "Affectaction2. *Dernière adaptation*: votre fonction renvoie une chaîne de caractère de format `\"<div1>, <div2>, <div3>*,...\"` où `*` indique que le diviseur est premier."
   ]
  },
  {
   "cell_type": "code",
   "execution_count": null,
   "metadata": {},
   "outputs": [],
   "source": [
    "def trouver_diviseurs_var(n):\n",
    "    pass"
   ]
  },
  {
   "cell_type": "markdown",
   "metadata": {},
   "source": [
    "#### Solution"
   ]
  },
  {
   "cell_type": "code",
   "execution_count": null,
   "metadata": {
    "jupyter": {
     "source_hidden": true
    }
   },
   "outputs": [],
   "source": [
    "def trouver_diviseurs_var(n):\n",
    "    diviseurs = trouver_diviseurs(n)\n",
    "    diviseurs_p = trouver_diviseurs_premiers(n)\n",
    "    \n",
    "    ch_diviseurs = \"\"\n",
    "    \n",
    "    Nb_diviseurs = len(diviseurs)\n",
    "    for i in range(Nb_diviseurs):\n",
    "        d = diviseurs[i]\n",
    "        ch_diviseurs += str(d)\n",
    "        if d in diviseurs_p:\n",
    "            ch_diviseurs += \"*\"\n",
    "        \n",
    "        if i < Nb_diviseurs - 1:\n",
    "            ch_diviseurs += \", \"\n",
    "            \n",
    "    return ch_diviseurs\n",
    "\n",
    "trouver_diviseurs_var(24)"
   ]
  },
  {
   "cell_type": "markdown",
   "metadata": {
    "slideshow": {
     "slide_type": "subslide"
    }
   },
   "source": [
    "### Test 3 - Jeu de mölkky"
   ]
  },
  {
   "cell_type": "markdown",
   "metadata": {
    "slideshow": {
     "slide_type": "subslide"
    }
   },
   "source": [
    "Au *jeu de mölkky*, chaque joueur marque à son tour de jeu entre 0 et 12 points, qui viennent s'ajouter à son score précédent.\n",
    "\n",
    "Le premier à atteindre un score de **51** gagne.\n",
    "\n",
    "Mais gare! Quiconque dépasse le score cible de 51 revient immédiatement à 25 points.\n",
    "\n",
    "1. Écrire une fonction qui attend le `score` du joueur ainsi que le nombre de points `gain` marqué à ce tour. Elle renvoie le nouveau score."
   ]
  },
  {
   "cell_type": "code",
   "execution_count": null,
   "metadata": {},
   "outputs": [],
   "source": [
    "def tour_molkky(score, gain):\n",
    "    pass"
   ]
  },
  {
   "cell_type": "markdown",
   "metadata": {},
   "source": [
    "#### Solution"
   ]
  },
  {
   "cell_type": "code",
   "execution_count": null,
   "metadata": {
    "jupyter": {
     "source_hidden": true
    }
   },
   "outputs": [],
   "source": [
    "def tour_molkky(score, gain):\n",
    "    if score + gain > 51:\n",
    "        score = 25\n",
    "    else:\n",
    "        score += gain\n",
    "    return score"
   ]
  },
  {
   "cell_type": "markdown",
   "metadata": {
    "slideshow": {
     "slide_type": "subslide"
    }
   },
   "source": [
    "2. Compléter la fonction qui suit et qui permet de jouer au *jeu de mölkky* avec un gain aléatoire (voir *note*) à chaque tour. Elle renvoie une chaîne de caractères au format \"Gagné! Nombre de tour du jeu: xxx\""
   ]
  },
  {
   "cell_type": "code",
   "execution_count": null,
   "metadata": {},
   "outputs": [],
   "source": [
    "from random import randint\n",
    "\n",
    "def molkky_aleatoire():\n",
    "    score = ___\n",
    "    nb_tours = ___\n",
    "    \n",
    "    while True:\n",
    "        ___ = nb_tours + 1\n",
    "        gain = randint(___,___)\n",
    "        score = ___\n",
    "        print(f\"Score={score} au {nb_tours}-ième tour.\")\n",
    "        if score == 51: ___"
   ]
  },
  {
   "cell_type": "markdown",
   "metadata": {
    "slideshow": {
     "slide_type": "subslide"
    }
   },
   "source": [
    "*Note*: la bibliothèque standard dispose d'un *module* `random` qui contient (entre autre) une fonction `randint(a,b)`. Cette fonction renvoie un nombre entier au hasard entre `a` inclus et `b` inclus. \n",
    "\n",
    "Pour utiliser une fonction (ou plusieurs) d'un *module* de la bibliothèque standard, la syntaxe est `from <module> import fn1, fn2, ...`"
   ]
  },
  {
   "cell_type": "code",
   "execution_count": null,
   "metadata": {},
   "outputs": [],
   "source": [
    "# zone de test pour la note; à éxecuter plusieurs fois pour bien comprendre.\n",
    "from random import randint\n",
    "un_de = randint(1, 6)\n",
    "un_de"
   ]
  },
  {
   "cell_type": "markdown",
   "metadata": {},
   "source": [
    "#### Solution"
   ]
  },
  {
   "cell_type": "code",
   "execution_count": null,
   "metadata": {
    "jupyter": {
     "source_hidden": true
    }
   },
   "outputs": [],
   "source": [
    "from random import randint\n",
    "\n",
    "def molkky_aleatoire():\n",
    "    score = 0\n",
    "    nb_tours = 0\n",
    "    \n",
    "    while True:\n",
    "        nb_tours = nb_tours + 1\n",
    "        gain = randint(0,12)\n",
    "        score = tour_molkky(score, gain)\n",
    "        print(f\"Score={score} au {nb_tours}-ième tour.\")\n",
    "        if score == 51: return f\"Nombre de tour du jeu: {nb_tours}\"\n",
    "        \n",
    "        # on abandonne si c'est trop long: 30 tours max\n",
    "        if nb_tours >= 30: return \"abandon\"\n",
    "\n",
    "molkky_aleatoire()"
   ]
  },
  {
   "cell_type": "markdown",
   "metadata": {
    "slideshow": {
     "slide_type": "subslide"
    }
   },
   "source": [
    "3. Enrichir avec la règle suivante: si le joueur a un gain de 0 lors de deux coups consécutifs, il perd."
   ]
  },
  {
   "cell_type": "code",
   "execution_count": null,
   "metadata": {},
   "outputs": [],
   "source": [
    "pass"
   ]
  },
  {
   "cell_type": "markdown",
   "metadata": {},
   "source": [
    "#### Solution"
   ]
  },
  {
   "cell_type": "code",
   "execution_count": null,
   "metadata": {
    "jupyter": {
     "source_hidden": true
    }
   },
   "outputs": [],
   "source": [
    "def molkky_aleatoire():\n",
    "    score = 0\n",
    "    nb_tours = 0\n",
    "    nb_zero_consecutifs = 0\n",
    "    \n",
    "    while True:\n",
    "        nb_tours = nb_tours + 1\n",
    "        gain = randint(0,12)\n",
    "        \n",
    "        if gain == 0:\n",
    "            nb_zero_consecutifs += 1\n",
    "        else:\n",
    "            nb_zero_consecutifs = 0\n",
    "        if nb_zero_consecutifs == 2:\n",
    "            return \"Perdu: deux zéros consécutifs!\"\n",
    "        \n",
    "        score = tour_molkky(score, gain) \n",
    "        print(f\"Score={score} au {nb_tours}-ième tour.\")\n",
    "        if score == 51: return f\"Gagné!. Nombre de tour du jeu: {nb_tours}\"\n",
    "        \n",
    "        # on abandonne si c'est trop long: 30 tours max\n",
    "        # if nb_tours >= 30: return \"abandon\"\n",
    "\n",
    "molkky_aleatoire()"
   ]
  },
  {
   "cell_type": "markdown",
   "metadata": {
    "slideshow": {
     "slide_type": "subslide"
    }
   },
   "source": [
    "### Test 4"
   ]
  },
  {
   "cell_type": "markdown",
   "metadata": {
    "slideshow": {
     "slide_type": "subslide"
    }
   },
   "source": [
    "Au bowling, on a deux chances pour faire tomber un total de dix quilles.\n",
    "\n",
    "Écrire une fonction qui attends le nombre de quilles renversées avec chacune des deux boules et renvoie 'X' si toutes les quilles sont tombées à la première boule, '/' si toutes les quilles sont tombées, et sinon le nombre de quilles renversées. En outre, elle renvoie 'impossible' si les données sont incohérentes."
   ]
  },
  {
   "cell_type": "code",
   "execution_count": null,
   "metadata": {},
   "outputs": [],
   "source": [
    "def bowling(boule1, boule2):\n",
    "    pass"
   ]
  },
  {
   "cell_type": "markdown",
   "metadata": {},
   "source": [
    "#### Solution"
   ]
  },
  {
   "cell_type": "code",
   "execution_count": null,
   "metadata": {
    "jupyter": {
     "source_hidden": true
    }
   },
   "outputs": [],
   "source": [
    "def bowling(boule1, boule2):\n",
    "    total = boule1 + boule2\n",
    "    if boule1 > 10 or boule2 > 10 or total > 10:\n",
    "        return 'impossible!'\n",
    "    elif boule1 == 10:\n",
    "        return '/'\n",
    "    elif total == 10:\n",
    "        return 'X'\n",
    "    else:\n",
    "        return str(total)\n",
    "\n",
    "print(bowling(1,3))\n",
    "print(bowling(10, 1))\n",
    "print(bowling(10, 0))\n",
    "print(bowling(6, 4))"
   ]
  },
  {
   "cell_type": "markdown",
   "metadata": {
    "toc-hr-collapsed": true,
    "toc-nb-collapsed": true
   },
   "source": [
    "## 5 - Fonctions"
   ]
  },
  {
   "cell_type": "markdown",
   "metadata": {
    "slideshow": {
     "slide_type": "slide"
    }
   },
   "source": [
    "### Fonction 1\n",
    "\n",
    "Définir une fonction `valeur_absolue` qui prend un entier en argument et renvoie sa valeur absolue.\n",
    "\n",
    "**Note**: La valeur absolue d'un nombre est sa «distance à 0» c'est à dire ce nombre privé du signe moins s'il en avait un. ex: `valeur_absolue(-5)` donne `5`; `valeur_absolue(5)` donne `5`."
   ]
  },
  {
   "cell_type": "code",
   "execution_count": null,
   "metadata": {},
   "outputs": [],
   "source": []
  },
  {
   "cell_type": "markdown",
   "metadata": {},
   "source": [
    "#### Solution"
   ]
  },
  {
   "cell_type": "code",
   "execution_count": null,
   "metadata": {
    "jupyter": {
     "source_hidden": true
    }
   },
   "outputs": [],
   "source": [
    "def valeur_absolue(x):\n",
    "    if x < 0:\n",
    "        return -1 * x # ou -x\n",
    "    else:\n",
    "        return x"
   ]
  },
  {
   "cell_type": "code",
   "execution_count": null,
   "metadata": {
    "jupyter": {
     "source_hidden": true
    }
   },
   "outputs": [],
   "source": [
    "assert valeur_absolue(-5) == 5\n",
    "assert valeur_absolue(5) == 5\n",
    "assert valeur_absolue(0) == 0"
   ]
  },
  {
   "cell_type": "markdown",
   "metadata": {
    "slideshow": {
     "slide_type": "subslide"
    }
   },
   "source": [
    "### Fonction 2\n",
    "\n",
    "1. Écrire une fonction `max2(a, b)` qui renvoie le plus grand des deux entiers `a` et `b`."
   ]
  },
  {
   "cell_type": "code",
   "execution_count": null,
   "metadata": {},
   "outputs": [],
   "source": []
  },
  {
   "cell_type": "markdown",
   "metadata": {},
   "source": [
    "#### Solution"
   ]
  },
  {
   "cell_type": "code",
   "execution_count": null,
   "metadata": {
    "jupyter": {
     "source_hidden": true
    }
   },
   "outputs": [],
   "source": [
    "def max2(a,b):\n",
    "    if a > b:\n",
    "        return a\n",
    "    else:\n",
    "        return b"
   ]
  },
  {
   "cell_type": "code",
   "execution_count": null,
   "metadata": {
    "jupyter": {
     "source_hidden": true
    }
   },
   "outputs": [],
   "source": [
    "assert max2(2,4) == 4\n",
    "assert max2(4,2) == 4"
   ]
  },
  {
   "cell_type": "markdown",
   "metadata": {
    "slideshow": {
     "slide_type": "fragment"
    }
   },
   "source": [
    "2. En se servant de la fonction `max2`, écrire une fonction `max3(a, b, c)` qui renvoie le plus grand des trois entiers `a`, `b` et `c`."
   ]
  },
  {
   "cell_type": "code",
   "execution_count": null,
   "metadata": {},
   "outputs": [],
   "source": []
  },
  {
   "cell_type": "markdown",
   "metadata": {},
   "source": [
    "#### Solution"
   ]
  },
  {
   "cell_type": "code",
   "execution_count": null,
   "metadata": {
    "jupyter": {
     "source_hidden": true
    }
   },
   "outputs": [],
   "source": [
    "def max3(a, b, c):\n",
    "    mab = max2(a,b)\n",
    "    if c > mab:\n",
    "        return c\n",
    "    else:\n",
    "        return mab"
   ]
  },
  {
   "cell_type": "code",
   "execution_count": null,
   "metadata": {
    "jupyter": {
     "source_hidden": true
    }
   },
   "outputs": [],
   "source": [
    "assert max3(1,2,3) == 3\n",
    "assert max3(1,3,2) == 3\n",
    "assert max3(3,2,1) == 3"
   ]
  },
  {
   "cell_type": "markdown",
   "metadata": {
    "slideshow": {
     "slide_type": "subslide"
    }
   },
   "source": [
    "### Fonction 3\n",
    "\n",
    "Écrire une fonction `puissance(x, k)` qui renvoie `x` à la puissance `k` sans utiliser l'opérateur `**`. On utilisera une boucle `for` pour faire le calcul. \n",
    "\n",
    "On suppose que `k` est un entier positif et on rappelle que $x^0=1$."
   ]
  },
  {
   "cell_type": "code",
   "execution_count": null,
   "metadata": {},
   "outputs": [],
   "source": []
  },
  {
   "cell_type": "markdown",
   "metadata": {},
   "source": [
    "#### Solution"
   ]
  },
  {
   "cell_type": "code",
   "execution_count": null,
   "metadata": {
    "jupyter": {
     "source_hidden": true
    }
   },
   "outputs": [],
   "source": [
    "def puissance(x, k):\n",
    "    if k == 0: return 1 # en fait inutile ici (réfléchir!)\n",
    "    res = 1\n",
    "    for _ in range(k): # répéter k fois\n",
    "        res = res * x # ou res *= x\n",
    "    return res"
   ]
  },
  {
   "cell_type": "code",
   "execution_count": null,
   "metadata": {
    "jupyter": {
     "source_hidden": true
    }
   },
   "outputs": [],
   "source": [
    "assert puissance(2, 3) == 2 ** 3\n",
    "assert puissance(5, 10) == 5 ** 10"
   ]
  },
  {
   "cell_type": "markdown",
   "metadata": {
    "slideshow": {
     "slide_type": "subslide"
    }
   },
   "source": [
    "### Fonction 4\n",
    "\n",
    "Une année est **bissextile** si elle est multiple de 4 mais pas multiple de 100, ou si elle est multiple de 400.\n",
    "\n",
    "De plus une année bissextile dure 366 jours au lieu de 355 ordinairement."
   ]
  },
  {
   "cell_type": "markdown",
   "metadata": {
    "slideshow": {
     "slide_type": "subslide"
    }
   },
   "source": [
    "1. Écrire une fonction `est_bissextile(annee)` qui renvoie `True` si l'année fournie en argument est bissextile, `False` autrement."
   ]
  },
  {
   "cell_type": "code",
   "execution_count": null,
   "metadata": {},
   "outputs": [],
   "source": []
  },
  {
   "cell_type": "markdown",
   "metadata": {},
   "source": [
    "#### Solution"
   ]
  },
  {
   "cell_type": "code",
   "execution_count": null,
   "metadata": {
    "jupyter": {
     "source_hidden": true
    }
   },
   "outputs": [],
   "source": [
    "def est_bissextile(annee):\n",
    "    return (annee % 4 == 0 and annee % 100 != 0) or annee % 400 == 0"
   ]
  },
  {
   "cell_type": "code",
   "execution_count": null,
   "metadata": {
    "jupyter": {
     "source_hidden": true
    }
   },
   "outputs": [],
   "source": [
    "assert est_bissextile(2000) == True # multiple de 400\n",
    "assert est_bissextile(2012) == True # multiple de 4 mais pas de 100\n",
    "assert est_bissextile(200) == False # multiple de 4 et aussi de 100"
   ]
  },
  {
   "cell_type": "markdown",
   "metadata": {
    "slideshow": {
     "slide_type": "subslide"
    }
   },
   "source": [
    "2. En reprenant votre fonction `est_bissextile`, écrire une fonction `nb_jours_annee(a)` qui renvoie le nombre de jours de l'année `a`."
   ]
  },
  {
   "cell_type": "code",
   "execution_count": null,
   "metadata": {},
   "outputs": [],
   "source": []
  },
  {
   "cell_type": "markdown",
   "metadata": {},
   "source": [
    "#### Solution"
   ]
  },
  {
   "cell_type": "code",
   "execution_count": null,
   "metadata": {
    "jupyter": {
     "source_hidden": true
    }
   },
   "outputs": [],
   "source": [
    "def nb_jours_annee(a):\n",
    "    return 366 if est_bissextile(a) else 365"
   ]
  },
  {
   "cell_type": "markdown",
   "metadata": {
    "slideshow": {
     "slide_type": "fragment"
    }
   },
   "source": [
    "3. Écrire une fonction `nb_jours_mois(a, m)` qui renvoie le nombre de jours dans le mois `m` de l'année `a` en réutilisant `nb_jours_annee(a)`.\n",
    "\n",
    "   On suppose que le mois `m` est un entier compris entre 1 (pour janvier) et 12 (pour décembre)."
   ]
  },
  {
   "cell_type": "code",
   "execution_count": null,
   "metadata": {},
   "outputs": [],
   "source": []
  },
  {
   "cell_type": "markdown",
   "metadata": {},
   "source": [
    "#### Solution"
   ]
  },
  {
   "cell_type": "code",
   "execution_count": null,
   "metadata": {
    "jupyter": {
     "source_hidden": true
    }
   },
   "outputs": [],
   "source": [
    "def nb_jours_mois(a, m):\n",
    "    if m in [1, 3, 5, 7, 8, 10, 12]:\n",
    "        return 31\n",
    "    elif m in [4, 6, 9, 11]:\n",
    "        return 30\n",
    "    else:\n",
    "        return 29 if est_bissextile(a) else 28"
   ]
  },
  {
   "cell_type": "code",
   "execution_count": null,
   "metadata": {
    "jupyter": {
     "source_hidden": true
    }
   },
   "outputs": [],
   "source": [
    "assert 31 * 7 + 4 * 30 + 28 == 365"
   ]
  },
  {
   "cell_type": "markdown",
   "metadata": {
    "slideshow": {
     "slide_type": "subslide"
    }
   },
   "source": [
    "Affectaction4. **À partir de là, ça se complique!** L'exercice peut-être considéré comme un **mini-projet**. \n",
    "\n",
    "   **SAUTER LA FIN DE CET EXERCICE EN PREMIERE LECTURE**\n",
    "\n",
    "   Écrire une fonction `nb_jours(date1, date2)` qui renvoie le nombre de jours compris entre deux dates données.\n",
    "\n",
    "   On suppose que `date<n>` est un *tuple* de la forme `(jour, mois, annee)`.\n",
    "   \n",
    "   *conseil*: Commencer par écrire une fonction qui attend deux dates en arguments et renvoie ces deux dates dans l'ordre chronologique."
   ]
  },
  {
   "cell_type": "code",
   "execution_count": null,
   "metadata": {},
   "outputs": [],
   "source": []
  },
  {
   "cell_type": "code",
   "execution_count": null,
   "metadata": {},
   "outputs": [],
   "source": [
    "# zone de test: noter que le nombre de jours ne doit pas dépendre de l'ordre des dates.\n",
    "d1, d2 = (12, 3, 2019), (16, 3, 2019)\n",
    "assert nb_jours(d1, d2) == 4\n",
    "assert nb_jours(d2, d1) == 4\n",
    "d1, d2 = (12, 3, 2019), (16, 5, 2019)\n",
    "assert nb_jours(d1, d2) == 30 - 12 + 1 + 31 + (16-1)\n",
    "assert nb_jours(d2, d1) == 30 - 12 + 1 + 31 + (16-1)\n",
    "d1, d2, d3 = (12, 3, 2019), (17, 9, 2025), (16, 5, 2030)\n",
    "assert nb_jours(d1, d3) == nb_jours(d1, d2) + nb_jours(d2, d3)"
   ]
  },
  {
   "cell_type": "markdown",
   "metadata": {},
   "source": [
    "#### Solution"
   ]
  },
  {
   "cell_type": "code",
   "execution_count": null,
   "metadata": {
    "jupyter": {
     "source_hidden": true
    }
   },
   "outputs": [],
   "source": [
    "def ordonner_dates(date1, date2):\n",
    "    \"renvoie le tuple formée des deux dates dans l'ordre chronologique\"\n",
    "    j1, m1, a1 = date1\n",
    "    j2, m2, a2 = date2\n",
    "    if a2 > a1:\n",
    "        return date1, date2\n",
    "    elif a2 < a1:\n",
    "        return date2, date1\n",
    "    else:\n",
    "        if m2 > m1:\n",
    "            return date1, date2\n",
    "        elif m2 < m1:\n",
    "            return date2, date1\n",
    "        else:\n",
    "            if j2 > j1:\n",
    "                return date1, date2\n",
    "            elif j2 < j1:\n",
    "                return date2, date1\n",
    "            else:\n",
    "                return date1, date2\n",
    "\n",
    "def nb_jours(date1, date2):\n",
    "    date1, date2 = ordonner_dates(date1, date2)\n",
    "    j1, m1, a1 = date1\n",
    "    j2, m2, a2 = date2\n",
    "    j = 0\n",
    "    \n",
    "    if a1 == a2:\n",
    "        if m2 == m1:\n",
    "            # j2 >= j1 nécessairement\n",
    "            return j2 - j1\n",
    "        else: # m2 > m1 nécessairement\n",
    "            j += nb_jours_mois(a1, m1) - j1 + 1\n",
    "            for m in range(m1+1,m2):\n",
    "                j += nb_jours_mois(a1, m)\n",
    "            j += j2 - 1\n",
    "            return j\n",
    "    # a1 > a2\n",
    "    else:    \n",
    "        # nb jours juqu'à la fin du mois en cours\n",
    "        j += nb_jours_mois(a1, m1) - j1  + 1\n",
    "        # nb jours jusqu'au dernier jour de l'année en cours\n",
    "        for m in range(m1+1, 13):\n",
    "            j += nb_jours_mois(a1, m)\n",
    "        # nb jours de l'année a1+1 au début de l'année a2 (dernier jour de l'année précédente)\n",
    "        for a in range(a1+1, a2):\n",
    "            j += nb_jours_annee(a)\n",
    "        # nb jours jusqu'au mois en cours de la date2 dans l'année a2\n",
    "        for m in range(1, m2):\n",
    "            j += nb_jours_mois(a2, m)\n",
    "        # nb jours du mois en cours jusqu'à j2\n",
    "        j += j2 - 1\n",
    "    return j"
   ]
  },
  {
   "cell_type": "markdown",
   "metadata": {
    "slideshow": {
     "slide_type": "fragment"
    }
   },
   "source": [
    "5. En réutilisant les fonctions précédentes, écrire une fonction `calendrier()` qui demande une année à l'utilisateur et affiche le calendrier de cette année, c'est à dire la liste de tous les jours de tous les mois de cette année."
   ]
  },
  {
   "cell_type": "code",
   "execution_count": null,
   "metadata": {},
   "outputs": [],
   "source": []
  },
  {
   "cell_type": "markdown",
   "metadata": {},
   "source": [
    "#### Solution"
   ]
  },
  {
   "cell_type": "code",
   "execution_count": null,
   "metadata": {
    "jupyter": {
     "source_hidden": true
    }
   },
   "outputs": [],
   "source": [
    "def cal_mois(j_deb, nb_jours):\n",
    "    \"\"\"\n",
    "    Fonction utilitaire qui prend en argument le jour du début d'un mois ainsi que le nombre de jours - nb_jours - de ce mois.\n",
    "      j_deb est un entier de 0 à 6 à mettre en correspondance avec lundi, mardi, ..., dimanche\n",
    "    \n",
    "    elle renvoie un tuple a deux composantes:\n",
    "        - 1ère composante: la chaîne des numéros des jours du mois proprement formatée,\n",
    "        - 2ème composante: le jour du debut du mois suivant\n",
    "    \"\"\"\n",
    "    j_deb_mois_suivant = (j_deb + nb_jours) % 7 # calcul du 1er jour du mois suivant.\n",
    "    ch = (\" \" * 3) * j_deb # calcul du décalage\n",
    "    # construction de la chaîne des n° des jours pour ce mois\n",
    "    for i in range(nb_jours):\n",
    "        nj = str(f\"0{i+1}\") if i+1 < 10 else str(i+1) # on met un 0 devant un nombre d'un seul chiffre\n",
    "        if (i + j_deb) % 7 == 0:\n",
    "            ch += '\\n'\n",
    "        ch += nj + \" \"\n",
    "    return ch, j_deb_mois_suivant\n",
    "\n",
    "def calendrier(annee):\n",
    "    \"fonction principale qui, pour une annee donnée, renvoie la chaîne correspond au calendrier de cette année\"\n",
    "    \n",
    "    noms_mois = ['janvier', 'février', 'mars', 'avril', 'mai', 'juin', 'juillet', 'août', 'septembre', 'octobre', 'novembre', 'décembre']\n",
    "    jours_semaine = ['lu', 'ma', 'me', 'je', 've', 'sa', 'di']\n",
    "    # le premier janvier 2000 était un samedi\n",
    "    d_ref = (1,1,2000)\n",
    "    j_ref = 5 # un samedi\n",
    "    \n",
    "    \n",
    "    j_deb_a = (nb_jours((1,1,2000), (1,1,annee)) + j_ref) % 7\n",
    "    cal = \"\"\n",
    "    \n",
    "    for i in range(12):\n",
    "        nom_mois = noms_mois[i]\n",
    "        cal += nom_mois + \"\\n\"\n",
    "        cal += \" \".join(jours_semaine) + \"\\n\"\n",
    "        cal += \"-\" * (2*7 + 6) + \"\\n\"\n",
    "        nj = nb_jours_mois(annee, i+1)\n",
    "        suite, j_deb_a = cal_mois(j_deb_a, nj)\n",
    "        cal += suite\n",
    "        cal += \"\\n\\n\"\n",
    "    \n",
    "    return cal\n",
    "\n",
    "annee = int(input('Calendrier de l\\'année? '))\n",
    "print(calendrier(annee))"
   ]
  },
  {
   "cell_type": "markdown",
   "metadata": {
    "toc-hr-collapsed": true,
    "toc-nb-collapsed": true
   },
   "source": [
    "## 6 - Tableaux"
   ]
  },
  {
   "cell_type": "markdown",
   "metadata": {
    "slideshow": {
     "slide_type": "slide"
    }
   },
   "source": [
    "### Tableau 1\n",
    "\n",
    "Écrire une fonction `occurence(v, t)` qui renvoie le nombre d'occurences de la valeur `v` dans le tableau `t`."
   ]
  },
  {
   "cell_type": "code",
   "execution_count": null,
   "metadata": {},
   "outputs": [],
   "source": []
  },
  {
   "cell_type": "markdown",
   "metadata": {},
   "source": [
    "#### Solution"
   ]
  },
  {
   "cell_type": "code",
   "execution_count": null,
   "metadata": {
    "jupyter": {
     "source_hidden": true
    }
   },
   "outputs": [],
   "source": [
    "def occurence(v, t):\n",
    "    occ = 0\n",
    "    for x in t: # parcours des items\n",
    "        if x == v:\n",
    "            occ += 1\n",
    "    return occ"
   ]
  },
  {
   "cell_type": "code",
   "execution_count": null,
   "metadata": {
    "jupyter": {
     "source_hidden": true
    }
   },
   "outputs": [],
   "source": [
    "assert occurence(2, [1,2,1,1]) == 1\n",
    "assert occurence(1, [1,2,1,1]) == 3\n",
    "assert occurence(10, [1,2,1,1]) == 0"
   ]
  },
  {
   "cell_type": "markdown",
   "metadata": {
    "slideshow": {
     "slide_type": "subslide"
    }
   },
   "source": [
    "### Tableau 2\n",
    "\n",
    "1. Écrire une foncion `cent_entiers_au_hasard()` qui renvoie un tableau de 100 entiers tirés au hasard entre 1 et 1000."
   ]
  },
  {
   "cell_type": "code",
   "execution_count": null,
   "metadata": {},
   "outputs": [],
   "source": []
  },
  {
   "cell_type": "markdown",
   "metadata": {},
   "source": [
    "#### Solution"
   ]
  },
  {
   "cell_type": "code",
   "execution_count": null,
   "metadata": {
    "jupyter": {
     "source_hidden": true
    }
   },
   "outputs": [],
   "source": [
    "def cent_entiers_au_hasard():\n",
    "    from random import randint\n",
    "    tab = []\n",
    "    for _ in range(100):\n",
    "        nb = randint(1, 1000)\n",
    "        tab.append(nb)\n",
    "    return tab"
   ]
  },
  {
   "cell_type": "markdown",
   "metadata": {
    "slideshow": {
     "slide_type": "fragment"
    }
   },
   "source": [
    "2. Écrire une fonction `maximum(l)` qui renvoie la plus grande valeur de la liste d'entier positif `l`.\n",
    "\n",
    "   *aide*: Définir un *accumulateur* `maxi` initialisé à $-1$ puis utiliser une boucle `for` pour parcourir la liste tout en mettant `maxi` à jour..."
   ]
  },
  {
   "cell_type": "code",
   "execution_count": null,
   "metadata": {},
   "outputs": [],
   "source": []
  },
  {
   "cell_type": "markdown",
   "metadata": {},
   "source": [
    "Affectaction#### Solution"
   ]
  },
  {
   "cell_type": "code",
   "execution_count": null,
   "metadata": {
    "jupyter": {
     "source_hidden": true
    }
   },
   "outputs": [],
   "source": [
    "def maximum(l):\n",
    "    maxi = -1 # cette valeur n'est sûrement pas dans l d'après l'hypothèse\n",
    "    for v in l:\n",
    "        if v > maxi:\n",
    "            maxi = v\n",
    "    return maxi"
   ]
  },
  {
   "cell_type": "code",
   "execution_count": null,
   "metadata": {
    "jupyter": {
     "source_hidden": true
    }
   },
   "outputs": [],
   "source": [
    "assert maximum([1,2,3,5,4,3,2,1]) == 5"
   ]
  },
  {
   "cell_type": "markdown",
   "metadata": {
    "slideshow": {
     "slide_type": "subslide"
    }
   },
   "source": [
    "### Tableau 3\n",
    "\n",
    "En mathématiques, la très célèbre *suite de Fibonacci* est une séquence infinie d'entiers définie de la façon suivante: \n",
    "\n",
    "on part des deux entiers 0 et 1 puis on construit à chaque fois l'entier suivant comme la somme des deux entiers précédents $$0, 1, 1, 2, 3, 5, \\dots$$\n",
    "\n",
    "Écrire une fonction qui renvoie un tableau contenant les 30 premiers termes de la suite. Le dernier élément de ce tableau est $514\\,229$."
   ]
  },
  {
   "cell_type": "code",
   "execution_count": null,
   "metadata": {},
   "outputs": [],
   "source": []
  },
  {
   "cell_type": "markdown",
   "metadata": {},
   "source": [
    "#### Solution"
   ]
  },
  {
   "cell_type": "code",
   "execution_count": null,
   "metadata": {
    "jupyter": {
     "source_hidden": true
    }
   },
   "outputs": [],
   "source": [
    "def fibonacci_30():\n",
    "    a, b = 0, 1\n",
    "    fib = [a,b]\n",
    "    for _ in range(28):\n",
    "        a, b = b, a + b\n",
    "        fib.append(b)\n",
    "    return fib"
   ]
  },
  {
   "cell_type": "code",
   "execution_count": null,
   "metadata": {
    "jupyter": {
     "source_hidden": true
    }
   },
   "outputs": [],
   "source": [
    "assert (fibonacci_30())[-1] == 514229"
   ]
  },
  {
   "cell_type": "markdown",
   "metadata": {
    "slideshow": {
     "slide_type": "subslide"
    }
   },
   "source": [
    "### Tableau 4\n",
    "\n",
    "Écrire une fonction `copie(t)` qui prend en argument un tableau `t` et renvoie une copie de ce tableau (sans utiliser `list(...)`).\n",
    "\n",
    "Quelle expérience peut-on faire pour s'assurer qu'on ne s'est pas trompé ?"
   ]
  },
  {
   "cell_type": "code",
   "execution_count": null,
   "metadata": {},
   "outputs": [],
   "source": []
  },
  {
   "cell_type": "markdown",
   "metadata": {},
   "source": [
    "#### Solution"
   ]
  },
  {
   "cell_type": "code",
   "execution_count": null,
   "metadata": {
    "jupyter": {
     "source_hidden": true
    }
   },
   "outputs": [],
   "source": [
    "def copie(t):\n",
    "    nt = []\n",
    "    for v in t: # et si l'une des valeurs de t était une liste ou un type muable?\n",
    "        nt.append(v)\n",
    "    return nt"
   ]
  },
  {
   "cell_type": "code",
   "execution_count": null,
   "metadata": {
    "jupyter": {
     "source_hidden": true
    }
   },
   "outputs": [],
   "source": [
    "t = [1,2,3]\n",
    "nt = copie(t)\n",
    "nt.append(4)\n",
    "assert t == [1,2,3] and nt == [1,2,3,4]"
   ]
  },
  {
   "cell_type": "markdown",
   "metadata": {
    "slideshow": {
     "slide_type": "subslide"
    }
   },
   "source": [
    "### Tableau 5\n",
    "\n",
    "Écrire une fonction `ajout(v, t)` qui crée un nouveau tableau contenant d'abord tous les éléments de `t` puis `v`. Interdit d'utiliser l'opérateur `+`."
   ]
  },
  {
   "cell_type": "code",
   "execution_count": null,
   "metadata": {},
   "outputs": [],
   "source": []
  },
  {
   "cell_type": "code",
   "execution_count": null,
   "metadata": {
    "jupyter": {
     "source_hidden": true
    }
   },
   "outputs": [],
   "source": [
    "def ajout(v, t):\n",
    "    nt = copie(t)\n",
    "    nt.append(v)\n",
    "    return nt"
   ]
  },
  {
   "cell_type": "code",
   "execution_count": null,
   "metadata": {
    "jupyter": {
     "source_hidden": true
    }
   },
   "outputs": [],
   "source": [
    "assert ajout(2, [1,3,7]) == [1,3,7,2]"
   ]
  },
  {
   "cell_type": "markdown",
   "metadata": {},
   "source": [
    "#### Solution"
   ]
  },
  {
   "cell_type": "markdown",
   "metadata": {
    "slideshow": {
     "slide_type": "subslide"
    }
   },
   "source": [
    "### Tableau 6\n",
    "\n",
    "Écrire une fonction `concatenation(t1, t2)` qui crée un nouveau tableau contenant, dans l'ordre, tous les éléments de `t1` puis tous les éléments de `t2`. Interdit d'utiliser l'opérateur `+` (pour les listes...), ni la méthode `list.extend()`."
   ]
  },
  {
   "cell_type": "code",
   "execution_count": null,
   "metadata": {},
   "outputs": [],
   "source": []
  },
  {
   "cell_type": "markdown",
   "metadata": {},
   "source": [
    "#### Solution"
   ]
  },
  {
   "cell_type": "code",
   "execution_count": null,
   "metadata": {
    "jupyter": {
     "source_hidden": true
    }
   },
   "outputs": [],
   "source": [
    "def concatenation(t1, t2):\n",
    "    nt = copie(t1)\n",
    "    for v in t2:\n",
    "        nt = ajout(v, nt)\n",
    "    retunr nt"
   ]
  },
  {
   "cell_type": "code",
   "execution_count": null,
   "metadata": {
    "jupyter": {
     "source_hidden": true
    }
   },
   "outputs": [],
   "source": [
    "assert concatenation([1,2,3], [4,5,6]) == [1,2,3,4,5,6]"
   ]
  },
  {
   "cell_type": "markdown",
   "metadata": {
    "slideshow": {
     "slide_type": "subslide"
    }
   },
   "source": [
    "### Tableau 7\n",
    "\n",
    "Écrire une fonction `echange(tab, i, j)` qui echange dans tableau `tab` les éléments d'index (indices) `i` et `j`."
   ]
  },
  {
   "cell_type": "code",
   "execution_count": null,
   "metadata": {},
   "outputs": [],
   "source": []
  },
  {
   "cell_type": "markdown",
   "metadata": {},
   "source": [
    "#### Solution"
   ]
  },
  {
   "cell_type": "code",
   "execution_count": null,
   "metadata": {
    "jupyter": {
     "source_hidden": true
    }
   },
   "outputs": [],
   "source": [
    "def echange(tab, i, j):\n",
    "    tmp = tab[i]\n",
    "    tab[i] = tab[j]\n",
    "    tab[j] = tmp"
   ]
  },
  {
   "cell_type": "code",
   "execution_count": null,
   "metadata": {
    "jupyter": {
     "source_hidden": true
    }
   },
   "outputs": [],
   "source": [
    "t = [1,2,3]\n",
    "echange(t, 1, 2)\n",
    "assert t == [1,3,2]"
   ]
  },
  {
   "cell_type": "markdown",
   "metadata": {
    "slideshow": {
     "slide_type": "subslide"
    }
   },
   "source": [
    "### Tableau 8\n",
    "\n",
    "1. Écrire une fonction `somme(tab)` qui calcule et renvoie la somme des éléments d'un tableau d'entiers.\n",
    "\n",
    "2. En déduire une fonction `moyenne(tab)` qui renvoie la moyenne des éléments du tableau `tab`, supposé non vide.\n",
    "\n",
    "3. Écrire une fonction `produit(tab)` qui renvoie le produit des éléments d'un tableau d'entiers. Si le tableau contient 0, la fonction devra renvoyer 0 sans terminer le parcours du tableau."
   ]
  },
  {
   "cell_type": "code",
   "execution_count": null,
   "metadata": {},
   "outputs": [],
   "source": []
  },
  {
   "cell_type": "markdown",
   "metadata": {},
   "source": [
    "Affectaction#### Solution"
   ]
  },
  {
   "cell_type": "code",
   "execution_count": null,
   "metadata": {
    "jupyter": {
     "source_hidden": true
    }
   },
   "outputs": [],
   "source": [
    "def somme(tab):\n",
    "    s = 0\n",
    "    for v in tab:\n",
    "        s += v\n",
    "    return s"
   ]
  },
  {
   "cell_type": "code",
   "execution_count": null,
   "metadata": {
    "jupyter": {
     "source_hidden": true
    }
   },
   "outputs": [],
   "source": [
    "def moyenne(tab):\n",
    "    N = len(tab)\n",
    "    return somme(tab) / N"
   ]
  },
  {
   "cell_type": "code",
   "execution_count": null,
   "metadata": {
    "jupyter": {
     "source_hidden": true
    }
   },
   "outputs": [],
   "source": [
    "def produit(tab):\n",
    "    p = 1\n",
    "    for v in tab:\n",
    "        if v == 0: return 0\n",
    "        p *= v\n",
    "    return p"
   ]
  },
  {
   "cell_type": "code",
   "execution_count": null,
   "metadata": {
    "jupyter": {
     "source_hidden": true
    }
   },
   "outputs": [],
   "source": [
    "assert somme([1,2,3]) == 6\n",
    "assert moyenne([1,2,3]) == 2\n",
    "assert produit([2,3,4]) == 24\n",
    "assert produit([2,0,3,4]) == 0"
   ]
  },
  {
   "cell_type": "markdown",
   "metadata": {
    "slideshow": {
     "slide_type": "subslide"
    }
   },
   "source": [
    "### Tableau 9\n",
    "\n",
    "Écrire une fonction `miroir(tab)` qui reçoit un tableau en argument et le modifie pour échanger le premier élément avec le dernier élément, le second avec l'avant dernier, etc. (`reverse` interdit!).\n",
    "\n",
    "On pourra réutiliser la fonction `echange` d'un exercice précédent."
   ]
  },
  {
   "cell_type": "code",
   "execution_count": null,
   "metadata": {},
   "outputs": [],
   "source": []
  },
  {
   "cell_type": "markdown",
   "metadata": {},
   "source": [
    "#### Solution"
   ]
  },
  {
   "cell_type": "code",
   "execution_count": null,
   "metadata": {
    "jupyter": {
     "source_hidden": true
    }
   },
   "outputs": [],
   "source": [
    "def miroir(tab):\n",
    "    N = len(tab)\n",
    "    for i in range(N // 2):\n",
    "        # swap!\n",
    "        tmp = tab[i]\n",
    "        tab[i] = tab[N-1-i]\n",
    "        tab[N-1-i] = tmp"
   ]
  },
  {
   "cell_type": "code",
   "execution_count": null,
   "metadata": {
    "jupyter": {
     "source_hidden": true
    }
   },
   "outputs": [],
   "source": [
    "t1, t2 = [1,2,3], [1,2,3,4]\n",
    "miroir(t1)\n",
    "miroir(t2)\n",
    "assert t1 == [3,2,1]\n",
    "assert t2 == [4,3,2,1]"
   ]
  },
  {
   "cell_type": "markdown",
   "metadata": {
    "slideshow": {
     "slide_type": "subslide"
    }
   },
   "source": [
    "### Tableau 10\n",
    "\n",
    "Pour mélanger les éléments d'un tableau aléatoirement, il existe un algorithme très simple qui procède ainsi:\n",
    "\n",
    "On parcourt le tableau de la gauche vers la droite et, pour chaque élément d'indice `i`, on l'échange avec un élément situé à un indice tiré aléatoirement entre 0 et `i` (inclus).\n",
    "\n",
    "Écrire une fonction `melange(tab)` qui réalise cet algorithme (connu sous le nom de *melange de Knuth*)"
   ]
  },
  {
   "cell_type": "code",
   "execution_count": null,
   "metadata": {},
   "outputs": [],
   "source": []
  },
  {
   "cell_type": "markdown",
   "metadata": {},
   "source": [
    "#### Solution"
   ]
  },
  {
   "cell_type": "code",
   "execution_count": null,
   "metadata": {
    "jupyter": {
     "source_hidden": true
    }
   },
   "outputs": [],
   "source": [
    "def melange(tab):\n",
    "    from random import randint\n",
    "    for i in range(len(tab)):\n",
    "        j = randint(0, i)\n",
    "        tmp = tab[i]\n",
    "        tab[i] = tab[j]\n",
    "        tab[j] = tmp\n",
    "\n",
    "t = [1,2,3,4,5]\n",
    "melange(t)\n",
    "t"
   ]
  },
  {
   "cell_type": "markdown",
   "metadata": {
    "slideshow": {
     "slide_type": "subslide"
    }
   },
   "source": [
    "Affectaction### Tableau 11\n",
    "\n",
    "1. Écrire une fonction `prefixe(tab1, tab2)` qui renvoie `True` si le tableau `tab1` est un préfixe du tableau `tab2`, c'est-à-dire si le tableau `tab2` commence par les éléments du tableau `tab1` dans le même ordre.\n",
    "\n",
    "2. Similairement, écrire une fonction `suffixe(tab1, tab2)` qui renvoie `True` si le tableau `tab2` se termine par les éléments du tableau `tab1` dans le même ordre."
   ]
  },
  {
   "cell_type": "code",
   "execution_count": null,
   "metadata": {},
   "outputs": [],
   "source": []
  },
  {
   "cell_type": "markdown",
   "metadata": {},
   "source": [
    "#### Solution"
   ]
  },
  {
   "cell_type": "code",
   "execution_count": null,
   "metadata": {
    "jupyter": {
     "source_hidden": true
    }
   },
   "outputs": [],
   "source": [
    "def prefixe(tab1, tab2):\n",
    "    N1, N2 = len(tab1), len(tab2)\n",
    "    if N1 > N2: return False\n",
    "    for i in range(N1):\n",
    "        if tab1[i] != tab2[i]: return False\n",
    "    return True"
   ]
  },
  {
   "cell_type": "code",
   "execution_count": null,
   "metadata": {
    "jupyter": {
     "source_hidden": true
    }
   },
   "outputs": [],
   "source": [
    "assert prefixe([1,2], [1,2,3]) == True\n",
    "assert prefixe([1,2,3], [1,2]) == False\n",
    "assert prefixe([1,2,3], [1,2,4,3]) == False"
   ]
  },
  {
   "cell_type": "code",
   "execution_count": null,
   "metadata": {
    "jupyter": {
     "source_hidden": true
    }
   },
   "outputs": [],
   "source": [
    "def suffixe(tab1, tab2):\n",
    "    t1, t2 = copie(tab1), copie(tab2)\n",
    "    miroir(t1)\n",
    "    miroir(t2)\n",
    "    return prefixe(t1, t2)"
   ]
  },
  {
   "cell_type": "code",
   "execution_count": null,
   "metadata": {
    "jupyter": {
     "source_hidden": true
    }
   },
   "outputs": [],
   "source": [
    "assert suffixe([2,3], [1,2,3]) == True\n",
    "assert suffixe([3,1,2], [1,2]) == False\n",
    "assert suffixe([1,2,3], [0,1,2,2]) == False"
   ]
  },
  {
   "cell_type": "markdown",
   "metadata": {
    "slideshow": {
     "slide_type": "subslide"
    }
   },
   "source": [
    "### Tableau 12\n",
    "\n",
    "1. Écrire une fonction `hamming(tab1, tab2)` qui prend deux tableaux en arguments supposé de même taille, et qui renvoie le nombre d'indices auxquels les deux tableaux diffèrent.\n",
    "\n",
    "2. Même chose sans supposer que les tableaux ont la même taille. On considère qu'un indice auquel seul l'un des tableaux est défini compte pour une différence."
   ]
  },
  {
   "cell_type": "code",
   "execution_count": null,
   "metadata": {},
   "outputs": [],
   "source": []
  },
  {
   "cell_type": "markdown",
   "metadata": {},
   "source": [
    "#### Solution"
   ]
  },
  {
   "cell_type": "code",
   "execution_count": null,
   "metadata": {
    "jupyter": {
     "source_hidden": true
    }
   },
   "outputs": [],
   "source": [
    "def hamming1(tab1, tab2):\n",
    "    assert len(tab1) == len(tab2)\n",
    "    diff = 0\n",
    "    for i in range(len(tab1)):\n",
    "        if tab1[i] != tab2[i]: diff += 1\n",
    "    return diff"
   ]
  },
  {
   "cell_type": "code",
   "execution_count": null,
   "metadata": {
    "jupyter": {
     "source_hidden": true
    }
   },
   "outputs": [],
   "source": [
    "assert hamming1([1,2,3], [1,2,3]) == 0\n",
    "assert hamming1([1,2,3], [1,2,2]) == 1 \n",
    "assert hamming1([1,2,3], [2,2,2]) == 2 \n",
    "assert hamming1([1,2,3], [3,1,2]) == 3"
   ]
  },
  {
   "cell_type": "code",
   "execution_count": null,
   "metadata": {
    "jupyter": {
     "source_hidden": true
    }
   },
   "outputs": [],
   "source": [
    "def hamming2(tab1, tab2):\n",
    "    diff = 0\n",
    "    N1, N2 = len(tab1), len(tab2)\n",
    "    if N1 < N2:\n",
    "        return hamming1(tab1, tab2[:N1]) + (N2 - N1)\n",
    "    else:\n",
    "        return hamming1(tab1[:N2], tab2) + (N1 - N2)    "
   ]
  },
  {
   "cell_type": "code",
   "execution_count": null,
   "metadata": {
    "jupyter": {
     "source_hidden": true
    }
   },
   "outputs": [],
   "source": [
    "assert hamming2([1,2,3], [1,2,2,4]) == 2\n",
    "assert hamming2([1,2,2,4], [1,3,3]) == 3"
   ]
  }
 ],
 "metadata": {
  "celltoolbar": "Diaporama",
  "kernelspec": {
   "display_name": "Python 3",
   "language": "python",
   "name": "python3"
  },
  "language_info": {
   "codemirror_mode": {
    "name": "ipython",
    "version": 3
   },
   "file_extension": ".py",
   "mimetype": "text/x-python",
   "name": "python",
   "nbconvert_exporter": "python",
   "pygments_lexer": "ipython3",
   "version": "3.7.3"
  }
 },
 "nbformat": 4,
 "nbformat_minor": 4
}
