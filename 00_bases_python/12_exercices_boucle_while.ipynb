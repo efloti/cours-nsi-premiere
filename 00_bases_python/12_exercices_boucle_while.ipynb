{
 "cells": [
  {
   "cell_type": "markdown",
   "metadata": {},
   "source": [
    "# Boucle non bornée - **while**"
   ]
  },
  {
   "cell_type": "markdown",
   "metadata": {},
   "source": [
    "## 1 - Somme des nombres d'une liste (encore)"
   ]
  },
  {
   "cell_type": "markdown",
   "metadata": {},
   "source": [
    "Voici une implémentation d'un élève de la fonction `somme(valeurs)` en utilisant une boucle **while**."
   ]
  },
  {
   "cell_type": "code",
   "execution_count": null,
   "metadata": {},
   "outputs": [],
   "source": [
    "def somme(valeurs):\n",
    "    s = 0\n",
    "    i = 1 # rôle d'index\n",
    "    while i < len(valeurs)\n",
    "        s += valeur\n",
    "    return s"
   ]
  },
  {
   "cell_type": "markdown",
   "metadata": {},
   "source": [
    "Cette implémentation comporte quatres erreurs (syntaxe ou «logique»). *Les trouver et les corriger*."
   ]
  },
  {
   "cell_type": "markdown",
   "metadata": {
    "jupyter": {
     "source_hidden": true
    }
   },
   "source": [
    "Voici les erreurs:\n",
    "- **syntaxe** - manque `:` en fin de ligne `while`,\n",
    "- **«logiques»** - boucle infini: la condition de boucle ne varie pas elle vaudra donc toujours `True`\n",
    "- **syntaxe** - `valeur` n'est pas défini; semble désigner une valeur particulière de la liste `valeurs`,\n",
    "- **«logiques»** - l'index `i` devrait être initialisé à zéro pour parcourir toute la liste\n",
    "\n",
    "```python\n",
    "def somme(valeurs):\n",
    "    s = 0\n",
    "    i = 0 #4\n",
    "    while i < len(valeurs): #1\n",
    "        valeur = valeurs[i] #3\n",
    "        s += valeur\n",
    "        i += 1 #2\n",
    "    return s\n",
    "```"
   ]
  },
  {
   "cell_type": "markdown",
   "metadata": {},
   "source": [
    "## 2 - Lire une liste en commençant par la fin"
   ]
  },
  {
   "cell_type": "markdown",
   "metadata": {},
   "source": [
    "La fonction `droite_vers_gauche(xs)`, *qui ne renvoie rien*, **affiche** les valeurs de la liste `xs` de la droite vers la gauche (les derniers en premier). Par exemple:\n",
    "\n",
    "- `droite_vers_gauche([1, 2, 3])` affiche 3, 2, 1.\n",
    "\n",
    "Implémenter cette fonction en utilisant une bouche non bornée."
   ]
  },
  {
   "cell_type": "code",
   "execution_count": null,
   "metadata": {
    "jupyter": {
     "source_hidden": true
    }
   },
   "outputs": [],
   "source": [
    "def droite_vers_gauche(xs):\n",
    "    i = len(xs) - 1 # index de la dernière valeur de xs\n",
    "    while i >= 0: # tant que l'index est valide\n",
    "        print(xs[i])\n",
    "        i -= 1\n",
    "\n",
    "droite_vers_gauche([1, 2, 3])"
   ]
  },
  {
   "cell_type": "markdown",
   "metadata": {},
   "source": [
    "## 3 - Demander un nombre d'un intervalle donné\n",
    "\n",
    "Implémenter la fonction `saisir_nb_dans(a, b)`:\n",
    "- Elle est chargée de demander à l'utilisateur un nombre et de s'assurer qu'il est bien dans l'intervalle $[a, b]$. \n",
    "- Si l'utilisateur donne un nombre incorrect, elle lui indique et lui redemande un nombre. \n",
    "- Finalement, elle renvoie toujours un nombre situé dans cet intervalle (ou produit une erreur si l'utilisateur saisi autre chose qu'un nombre)."
   ]
  },
  {
   "cell_type": "code",
   "execution_count": null,
   "metadata": {
    "jupyter": {
     "source_hidden": true
    }
   },
   "outputs": [],
   "source": [
    "def saisir_nb_dans(a, b):\n",
    "    # si les nombres ne sont pas dans le bon ordre, les échanger\n",
    "    if b < a:\n",
    "        a, b = b, a\n",
    "    \n",
    "    while True:\n",
    "        nb = input(f\"Nombre entre {a} et {b}? \") # attention nb est une str donc conversion:\n",
    "        nb = float(nb) # risque de produire une erreur si l'utilisateur saisi \"q\" par ex.\n",
    "        if a <= nb <= b:\n",
    "            return nb\n",
    "        print(\"Ce nombre n'est pas dans l'intervalle...\")\n",
    "\n",
    "v = saisir_nb_dans(5, 10)\n",
    "assert 5 <= v <= 10"
   ]
  },
  {
   "cell_type": "markdown",
   "metadata": {},
   "source": [
    "## 4 - Écriture binaire d'un nombre\n",
    "\n",
    "Souvenez-vous de l'algorithme qui consiste à diviser successivement un nombre pour trouver son écriture binaire. Voici un exemple pour vous rafraîchir la mémoire:\n",
    "\n",
    "        34 | 0\n",
    "        17 | 1\n",
    "        8  | 0       donc 34 = 100010\n",
    "        4  | 0\n",
    "        2  | 0\n",
    "        1  | 1"
   ]
  },
  {
   "cell_type": "markdown",
   "metadata": {},
   "source": [
    "Implémenter la fonction `dec_vers_bin(nb)` qui renvoie l'écriture binaire de `nb` sous la forme d'une chaîne de caractère. Par exemple:\n",
    "- `dec_vers_bin(34)` renvoie `\"100010\"`."
   ]
  },
  {
   "cell_type": "code",
   "execution_count": null,
   "metadata": {
    "jupyter": {
     "source_hidden": true
    }
   },
   "outputs": [],
   "source": [
    "def dec_vers_bin(nb):\n",
    "    q, r = nb, 0 # q pour quotient, r pour reste\n",
    "    res = \"\"\n",
    "    while q > 0:\n",
    "        r = q % 2 # attention de calculer le reste avant de modifier le quotient\n",
    "        q = q // 2\n",
    "        res = str(r) + res # concaténation...\n",
    "    return res\n",
    "\n",
    "assert dec_vers_bin(34) == \"100010\""
   ]
  }
 ],
 "metadata": {
  "kernelspec": {
   "display_name": "Python 3",
   "language": "python",
   "name": "python3"
  },
  "language_info": {
   "codemirror_mode": {
    "name": "ipython",
    "version": 3
   },
   "file_extension": ".py",
   "mimetype": "text/x-python",
   "name": "python",
   "nbconvert_exporter": "python",
   "pygments_lexer": "ipython3",
   "version": "3.7.3"
  }
 },
 "nbformat": 4,
 "nbformat_minor": 4
}
