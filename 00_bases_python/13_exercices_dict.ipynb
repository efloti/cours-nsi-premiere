{
 "cells": [
  {
   "cell_type": "markdown",
   "metadata": {},
   "source": [
    "# Exercices sur les dictionnaires"
   ]
  },
  {
   "cell_type": "markdown",
   "metadata": {},
   "source": [
    "[Aide en vidéo (dictionnaire et fichier...)](https://vimeo.com/490115205)"
   ]
  },
  {
   "cell_type": "markdown",
   "metadata": {},
   "source": [
    "## Exercice 1 - occurence encore!"
   ]
  },
  {
   "cell_type": "markdown",
   "metadata": {},
   "source": [
    "La fonction `occurences(chaine)` renvoie un dictionnaire contenant les paires «caractère: nb d'apparition» où caractère est l'un de ceux de la chaîne fournie en argument.\n",
    "\n",
    "Par exemple `ocurrences(\"tagada\")` renvoie le dictionnaire `{'t': 1, 'a': 3, 'g': 1, 'd': 1}`."
   ]
  },
  {
   "cell_type": "markdown",
   "metadata": {},
   "source": [
    "Notez qu'il est possible de parcourir les caractères d'une chaîne à l'aide d'une boucle `for car in chaine`; par exemple:"
   ]
  },
  {
   "cell_type": "code",
   "execution_count": null,
   "metadata": {},
   "outputs": [],
   "source": [
    "une_chaine = \"Python\"\n",
    "for car in une_chaine:\n",
    "    print(car)"
   ]
  },
  {
   "cell_type": "markdown",
   "metadata": {},
   "source": [
    "Définir la fonction `occurences`."
   ]
  },
  {
   "cell_type": "code",
   "execution_count": null,
   "metadata": {
    "jupyter": {
     "source_hidden": true
    }
   },
   "outputs": [],
   "source": [
    "def occurences(chaine):\n",
    "    d = {} # partons d'un dictionnaire vide comme accumulateur\n",
    "    for car in chaine:\n",
    "        if not car in d: # pas d'entrée pour ce caractère\n",
    "            d[car] = 1 # on insère la paire «car: 1»\n",
    "        else: # on l'a déjà vue\n",
    "            d[car] = d[car] + 1 # mise à jour de la valeur associée à car\n",
    "    return d\n",
    "\n",
    "occurences(\"tagada tsoin tsoin\")"
   ]
  },
  {
   "cell_type": "markdown",
   "metadata": {},
   "source": [
    "<a href=\"http://pythontutor.com/visualize.html#code=def%20occurences%28chaine%29%3A%0A%20%20%20%20d%20%3D%20%7B%7D%20%23%20partons%20d'un%20dictionnaire%20vide%20comme%20accumulateur%0A%20%20%20%20for%20car%20in%20chaine%3A%0A%20%20%20%20%20%20%20%20if%20not%20car%20in%20d%3A%20%23%20pas%20d'entr%C3%A9e%20pour%20ce%20caract%C3%A8re%0A%20%20%20%20%20%20%20%20%20%20%20%20d%5Bcar%5D%20%3D%201%20%23%20on%20ins%C3%A8re%20la%20paire%20%C2%ABcar%3A%201%C2%BB%0A%20%20%20%20%20%20%20%20else%3A%20%23%20on%20l'a%20d%C3%A9j%C3%A0%20vue%0A%20%20%20%20%20%20%20%20%20%20%20%20d%5Bcar%5D%20%3D%20d%5Bcar%5D%20%2B%201%20%23%20mise%20%C3%A0%20jour%20de%20la%20valeur%20associ%C3%A9e%20%C3%A0%20car%0A%20%20%20%20return%20d%0A%0Aoccurences%28%22tagada%20tsoin%20tsoin%22%29&cumulative=false&curInstr=0&heapPrimitives=false&mode=display&origin=opt-frontend.js&py=3&rawInputLstJSON=%5B%5D&textReferences=false\">Voir avec python tutor</a>"
   ]
  },
  {
   "cell_type": "markdown",
   "metadata": {},
   "source": [
    "## Exercice 2 - mots d'un fichier."
   ]
  },
  {
   "cell_type": "markdown",
   "metadata": {},
   "source": [
    "La fonction `effectif_mots(chemin_fichier)` renvoie un dictionnaire contenant des paires de la forme «mot: nb d'apparition» où mot est l'un de ceux qui apparaît dans le fichier dont le chemin est fourni en argument.\n",
    "\n",
    "On rappelle que la fonction `str.split()` découpe une chaîne à chaque «blanc» et renvoie la liste des portions de chaîne obtenues; par exemple:"
   ]
  },
  {
   "cell_type": "code",
   "execution_count": null,
   "metadata": {},
   "outputs": [],
   "source": [
    "phrases = \"\"\"\n",
    "On n'est pas sérieux, quand on a dix-sept ans.\n",
    "Un beau soir, foin des bocks et de la limonade,\n",
    "Des cafés tapageurs aux lustres éclatants !\n",
    "On va sous les tilleuls verts de la promenade.\n",
    "\"\"\"\n",
    "phrases.lower().split() # lower() pour n'avoir que des minuscules."
   ]
  },
  {
   "cell_type": "markdown",
   "metadata": {},
   "source": [
    "Écrire cette fonction et l'appliquer au fichier *ltdme80j.txt* situé dans le dossier OS_et_shell."
   ]
  },
  {
   "cell_type": "markdown",
   "metadata": {},
   "source": [
    "**Solution «brute»**"
   ]
  },
  {
   "cell_type": "code",
   "execution_count": null,
   "metadata": {
    "jupyter": {
     "source_hidden": true
    }
   },
   "outputs": [],
   "source": [
    "def effectif_mots(chemin_fichier):\n",
    "    #1. lisons le fichier\n",
    "    with open(chemin_fichier, \"r\") as fichier:\n",
    "        contenu = fichier.read()\n",
    "    #2. Découpons ce contenu (chaîne) au niveau des blancs\n",
    "    mots = contenu.split()\n",
    "    \n",
    "    #3. mots est une liste et une liste se parcourt comme une chaîne...\n",
    "    # donc, on peut réutiliser la fonction précédente!\n",
    "    return occurences(mots)\n",
    "\n",
    "import os\n",
    "# Attention, le chemin dépend de l'emplacement de ce notebook et du fichier\n",
    "# 'ltdme80j': il faudra probablement adapter...\n",
    "chem_ltdme80j = os.path.join('..', '03_OS_et_shell', 'ltdme80j.txt')\n",
    "\n",
    "effectif_mots(chem_ltdme80j) # ou effectif_mots('ltdme80j.txt') si le fichier est dans le même répertoire que le notebook."
   ]
  },
  {
   "cell_type": "markdown",
   "metadata": {},
   "source": [
    "**Solution améliorée (en éliminant certains caractères indésirables)**"
   ]
  },
  {
   "cell_type": "code",
   "execution_count": null,
   "metadata": {
    "jupyter": {
     "source_hidden": true
    },
    "scrolled": true
   },
   "outputs": [],
   "source": [
    "def effectif_mots(chemin_fichier):\n",
    "    #1. lisons le fichier pour récupérer son contenu\n",
    "    with open(chemin_fichier, \"r\") as fichier:\n",
    "        contenu = fichier.read()\n",
    "    \n",
    "    #2. Nettoyons ce contenu pour mieux récupérer les mots\n",
    "    contenu = contenu.lower() #normalisons: en minuscule\n",
    "    \n",
    "    # Éliminons les caractères indésirables avec str.translate() \n",
    "    # -> voir https://docs.python.org/fr/3/library/stdtypes.html#str.translate\n",
    "    #   ex: \"abccba\".translate({\"a\": \"b\", \"b\": \"c\", \"c\": \"d\"}) renvoie \"bcddcb\"\n",
    "    # On peut réaliser une association «caractère à caractère» avec:\n",
    "    #   asso = str.maketrans(ch1, ch2)\n",
    "    # -> chaque caractère de ch1 est associé au caractère de même position dans ch2 et donc\n",
    "    #   ex: \"abccba\".translate(str.maketrans(\"abc\", \"bcd\")) renvoie encore \"bcddcb\"\n",
    "    table = str.maketrans(\",;.:!?<>()=\", \" \"*11) \n",
    "    contenu = contenu.translate(table) # ou translate({\",\": \"\", \";\": \"\", ...})\n",
    "    mots = contenu.split()\n",
    "    \n",
    "    #3. mots est une liste et on parcourt une liste comme une chaîne\n",
    "    # donc, on peut réutiliser la fonction précédente...\n",
    "    return occurences(mots)\n",
    "\n",
    "import os\n",
    "# Attention, le chemin dépend de l'emplacement de ce notebook et du fichier\n",
    "# 'ltdme80j': il faudra probablement adapter...\n",
    "chem_ltdme80j = os.path.join('..', '03_OS_et_shell', 'ltdme80j.txt')\n",
    "\n",
    "effectif_mots(chem_ltdme80j)"
   ]
  },
  {
   "cell_type": "markdown",
   "metadata": {},
   "source": [
    "## Exercice 3 - distance touches"
   ]
  },
  {
   "cell_type": "markdown",
   "metadata": {},
   "source": [
    "On peut voir un clavier comme un tableau à deux dimensions dans lequel chaque case contient un caractère. Ainsi, la partie principale d'un clavier AZERTY peut être vue comme le tableau suivant:"
   ]
  },
  {
   "cell_type": "code",
   "execution_count": null,
   "metadata": {},
   "outputs": [],
   "source": [
    "AZERTY = [ ['a', 'z', 'e', 'r', 't', 'y', 'u', 'i', 'o', 'p'],\n",
    "           ['q', 's', 'd', 'f', 'g', 'h', 'j', 'k', 'l', 'm'],\n",
    "           ['<', 'w', 'x', 'c', 'v', 'b', 'n', ',', ';', ':'] ]"
   ]
  },
  {
   "cell_type": "markdown",
   "metadata": {},
   "source": [
    "L'objectif est d'écrire une fonction `distance_touches` calculant la distance entre les touches de deux caractères sur un clavier.\n",
    "\n",
    "1. Écrire une fonction `inverse_clavier(clavier)` prenant en paramètre un tableau à deux dimensions représentant une disposition de clavier et renvoyant un dictionnaire dont les clés sont les caractères et les valeurs des coordonnées de la touche correspondante (par ex: `'a': (0, 0)` et  `'f': (1, 3)`)."
   ]
  },
  {
   "cell_type": "code",
   "execution_count": null,
   "metadata": {
    "jupyter": {
     "source_hidden": true
    }
   },
   "outputs": [],
   "source": [
    "def inverse_clavier(clavier):\n",
    "    # clavier est supposé être une liste de listes comme dans AZERTY.\n",
    "    d = {} # accu.\n",
    "    # Nous allons lire le clavier ligne par ligne PUIS, pour chaque ligne, touche par touche\n",
    "    n_clavier = len(clavier)\n",
    "    for i in range(n_clavier):\n",
    "        touches = clavier[i] # une ligne de touches\n",
    "        n = len(touches)     # nb de touches\n",
    "        for j in range(n):\n",
    "            touche = touches[j]\n",
    "            # la position de la touche est ligne n°i, colonne n°j donc:\n",
    "            d[touche] = (i, j)\n",
    "    return d\n",
    "\n",
    "inverse_clavier(AZERTY)"
   ]
  },
  {
   "cell_type": "markdown",
   "metadata": {},
   "source": [
    "<a href=\"http://pythontutor.com/visualize.html#code=AZERTY_SIMPLE%20%3D%20%5B%20%5B'a',%20'z'%5D,%0A%20%20%20%20%20%20%20%20%20%20%20%20%20%20%20%20%20%20%5B'q',%20's'%5D,%0A%20%20%20%20%20%20%20%20%20%20%20%20%20%20%20%20%20%20%5B'%3C',%20'w'%5D%20%5D%0A%0Adef%20inverse_clavier%28clavier%29%3A%0A%20%20%20%20d%20%3D%20%7B%7D%20%23%20accu.%0A%20%20%20%20n_clavier%20%3D%20len%28clavier%29%0A%20%20%20%20for%20i%20in%20range%28n_clavier%29%3A%0A%20%20%20%20%20%20%20%20touches%20%3D%20clavier%5Bi%5D%0A%20%20%20%20%20%20%20%20n%20%3D%20len%28touches%29%0A%20%20%20%20%20%20%20%20for%20j%20in%20range%28n%29%3A%0A%20%20%20%20%20%20%20%20%20%20%20%20touche%20%3D%20touches%5Bj%5D%0A%20%20%20%20%20%20%20%20%20%20%20%20d%5Btouche%5D%20%3D%20%28i,%20j%29%0A%20%20%20%20return%20d%0A%0Ainverse_clavier%28AZERTY_SIMPLE%29&cumulative=false&curInstr=0&heapPrimitives=false&mode=display&origin=opt-frontend.js&py=3&rawInputLstJSON=%5B%5D&textReferences=false\">Voir avec python tutor</a>"
   ]
  },
  {
   "cell_type": "markdown",
   "metadata": {},
   "source": [
    "2. Ré-utiliser la fonction précédente pour écrire une fonction `distance_touches(car1, car2, clavier)` qui donne la distance entre les touches correspondant à `car1` et `car2` pour le clavier fourni. Comme distance, on prendra la somme des écarts horizontaux et verticaux entre les touches; par exemple: "
   ]
  },
  {
   "cell_type": "code",
   "execution_count": null,
   "metadata": {
    "jupyter": {
     "source_hidden": true
    }
   },
   "outputs": [],
   "source": [
    "def distance_touches(car1, car2, clavier):\n",
    "    touche_pos = inverse_clavier(clavier)\n",
    "    i1, j1 = touche_pos[car1] # car c'est un tuple...\n",
    "    i2, j2 = touche_pos[car2]\n",
    "    # rappel: la fonction valeur absolue - abs - élimine le signe «-» éventuel.\n",
    "    return abs(i2 - i1) + abs(j2 - j1)"
   ]
  },
  {
   "cell_type": "code",
   "execution_count": null,
   "metadata": {},
   "outputs": [],
   "source": [
    "assert distance_touches('s', 'g', AZERTY) == 3\n",
    "assert distance_touches('c', 'y', AZERTY) == 4\n",
    "assert distance_touches(',', ',', AZERTY) == 0"
   ]
  }
 ],
 "metadata": {
  "kernelspec": {
   "display_name": "Python 3",
   "language": "python",
   "name": "python3"
  },
  "language_info": {
   "codemirror_mode": {
    "name": "ipython",
    "version": 3
   },
   "file_extension": ".py",
   "mimetype": "text/x-python",
   "name": "python",
   "nbconvert_exporter": "python",
   "pygments_lexer": "ipython3",
   "version": "3.7.3"
  }
 },
 "nbformat": 4,
 "nbformat_minor": 4
}
