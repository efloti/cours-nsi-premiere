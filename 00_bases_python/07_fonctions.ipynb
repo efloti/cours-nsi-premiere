{
 "cells": [
  {
   "cell_type": "markdown",
   "metadata": {},
   "source": [
    "# Fonctions"
   ]
  },
  {
   "cell_type": "code",
   "execution_count": null,
   "metadata": {},
   "outputs": [],
   "source": [
    "def ma_premiere_fonction():\n",
    "    print('Salutation tout le monde')\n",
    "\n",
    "print(f'type: {ma_premiere_fonction}')\n",
    "\n",
    "ma_premiere_fonction()  # Appel d'une fonction"
   ]
  },
  {
   "cell_type": "markdown",
   "metadata": {},
   "source": [
    "### Arguments"
   ]
  },
  {
   "cell_type": "code",
   "execution_count": null,
   "metadata": {},
   "outputs": [],
   "source": [
    "def salutation(nom1, nom2):\n",
    "    print(f'Salut à vous {nom1} et {nom2}!')\n",
    "\n",
    "salutation('John Doe', 'Superman')"
   ]
  },
  {
   "cell_type": "code",
   "execution_count": null,
   "metadata": {},
   "outputs": [],
   "source": [
    "# Fonction avec une valeur de retour\n",
    "def sans_blancs_et_en_minuscule(originale):\n",
    "    modifiee = originale.strip().lower()\n",
    "    return modifiee\n",
    "\n",
    "laid = '  MéLangE maJuScuLE/miNuSCule '\n",
    "joli = sans_blancs_et_en_minuscule(laid)\n",
    "print(f'Mieux: {joli}')"
   ]
  },
  {
   "cell_type": "markdown",
   "metadata": {},
   "source": [
    "### Arguments nommés (*keyword arguments*)"
   ]
  },
  {
   "cell_type": "code",
   "execution_count": null,
   "metadata": {},
   "outputs": [],
   "source": [
    "def mon_super_calcul(un, deux, trois):\n",
    "    return un + deux - trois \n",
    "\n",
    "print(mon_super_calcul(3, 2, 1))\n",
    "\n",
    "print(mon_super_calcul(un=3, deux=2, trois=1))\n",
    "\n",
    "# Avec les arguments nommés l'ordre n'a pas d'importance\n",
    "print(mon_super_calcul(trois=1, un=3, deux=2))\n",
    "\n",
    "# Vous pouvez combiner arguments «positionnés» et nommés mais il faut commencer par les arguments positionnés\n",
    "print(mon_super_calcul(3, trois=1, deux=2))  "
   ]
  },
  {
   "cell_type": "markdown",
   "metadata": {},
   "source": [
    "### Arguments par défaut"
   ]
  },
  {
   "cell_type": "code",
   "execution_count": null,
   "metadata": {},
   "outputs": [],
   "source": [
    "def creer_fiche_personne(nom, age, job=None, salaire=300):\n",
    "    fiche = {'nom': nom, 'age': age, 'salaire': salaire}\n",
    "    \n",
    "    # ajouter la clé 'job' seulement si on a fourni un en paramètre\n",
    "    if job:  \n",
    "        fiche.update(dict(job=job))\n",
    "        \n",
    "    return fiche\n",
    "\n",
    "personne1 = creer_fiche_personne('John Doe', 82)  # utilise les valeurs par défaut pour job et salaire\n",
    "personne2 = creer_fiche_personne('Lisa Doe', 22, 'hacker', 10000)\n",
    "print(personne1)\n",
    "print(personne2)"
   ]
  },
  {
   "cell_type": "markdown",
   "metadata": {},
   "source": [
    "**N'utilisez pas d'objets muables comme arguments par défaut!**"
   ]
  },
  {
   "cell_type": "code",
   "execution_count": null,
   "metadata": {},
   "outputs": [],
   "source": [
    "def ajoute_si_multiple_de_cinq(nombre, liste_magique=[]):\n",
    "    if nombre % 5 == 0:\n",
    "        liste_magique.append(nombre)\n",
    "    return liste_magique\n",
    "\n",
    "print(ajoute_si_multiple_de_cinq(100))\n",
    "print(ajoute_si_multiple_de_cinq(105))\n",
    "print(ajoute_si_multiple_de_cinq(123))\n",
    "print(ajoute_si_multiple_de_cinq(123, []))\n",
    "print(ajoute_si_multiple_de_cinq(123))"
   ]
  },
  {
   "cell_type": "markdown",
   "metadata": {},
   "source": [
    "Voila comment obtenir le comportement désiré:"
   ]
  },
  {
   "cell_type": "code",
   "execution_count": null,
   "metadata": {},
   "outputs": [],
   "source": [
    "def ajoute_si_multiple_de_cinq(nombre, liste_magique=None):\n",
    "    if not liste_magique:\n",
    "        liste_magique = []\n",
    "    if nombre % 5 == 0:\n",
    "        liste_magique.append(nombre)\n",
    "    return liste_magique\n",
    "\n",
    "print(ajoute_si_multiple_de_cinq(100))\n",
    "print(ajoute_si_multiple_de_cinq(105))\n",
    "print(ajoute_si_multiple_de_cinq(123))\n",
    "print(ajoute_si_multiple_de_cinq(123, []))\n",
    "print(ajoute_si_multiple_de_cinq(123))"
   ]
  },
  {
   "cell_type": "markdown",
   "metadata": {},
   "source": [
    "### Chaîne de documentation - Docstrings\n",
    "Chaînes pour documenter vos fonction, méthodes, modules et variables."
   ]
  },
  {
   "cell_type": "code",
   "execution_count": null,
   "metadata": {},
   "outputs": [],
   "source": [
    "def afficher_somme(valeur1, valeur2):\n",
    "    \"\"\"Fonction qui affiche la somme des arguments fournis.\"\"\"\n",
    "    print(f'Somme: {valeur1 + valeur2}')\n",
    "\n",
    "print(help(afficher_somme))"
   ]
  },
  {
   "cell_type": "code",
   "execution_count": null,
   "metadata": {},
   "outputs": [],
   "source": [
    "def calculer_somme(valeur1, valeur2):\n",
    "    \"\"\"Voici une chaîne de documentation - docstring - plus longue qui précise aussi les arguments et la valeur de retour. \n",
    "\n",
    "    Args:\n",
    "        valeur1: le premier paramètre.\n",
    "        valeur2: le second paramètre.\n",
    "\n",
    "    Returns:\n",
    "        La somme de valeur1 et valeur2.\n",
    "        \n",
    "    \"\"\"\n",
    "    return valeur1 + valeur2\n",
    "\n",
    "print(help(calculer_somme))"
   ]
  },
  {
   "cell_type": "markdown",
   "metadata": {},
   "source": [
    "### [Instruction `pass`](https://docs.python.org/3/reference/simple_stmts.html#the-pass-statement)\n",
    "`pass` est une instruction qui ne fait rien lorsqu'elle est éxécutée. \n",
    "Elle peut être utilisée comme indicateur d'une zone de code à compléter ultérieurement tout en conservant un code syntaxiquement correct.\n",
    "par exemple lorsqu'on veut «brosser à grands traits» - *sketching* - les fonctions et/ou classes de notre application puis compléter progressivement.\n",
    "\n",
    "Ce qui suit est valide pour python."
   ]
  },
  {
   "cell_type": "code",
   "execution_count": null,
   "metadata": {},
   "outputs": [],
   "source": [
    "def ma_fonction(des_arguments):\n",
    "    pass\n",
    "\n",
    "def mon_autre_fonction():\n",
    "    pass"
   ]
  },
  {
   "cell_type": "markdown",
   "metadata": {},
   "source": [
    "# Exercices"
   ]
  },
  {
   "cell_type": "markdown",
   "metadata": {},
   "source": [
    "## 1. Compléter les parties manquantes de la fonction `compter_nombres_pairs`\n",
    "\n",
    "Compléter les portions marquées `____` de l'implémentation de `compter_nombres_pairs` de façon à vérifier les assertions. Vous pouvez supposer que l'argument `nombres` est une liste d'entiers."
   ]
  },
  {
   "cell_type": "code",
   "execution_count": null,
   "metadata": {},
   "outputs": [],
   "source": [
    "____ compter_nombres_pairs(nombres):\n",
    "    compte = 0\n",
    "    for nb in ____:\n",
    "        if ____ % 2 == ____:\n",
    "            compte += ____\n",
    "    _____ _____"
   ]
  },
  {
   "cell_type": "code",
   "execution_count": null,
   "metadata": {
    "editable": false
   },
   "outputs": [],
   "source": [
    "assert compter_nombres_pairs([1, 2, 3, 4, 5, 6]) == 3\n",
    "assert compter_nombres_pairs([1, 3, 5, 7]) == 0\n",
    "assert compter_nombres_pairs([-2, 2, -10, 8]) == 4"
   ]
  },
  {
   "cell_type": "markdown",
   "metadata": {},
   "source": [
    "### Solution"
   ]
  },
  {
   "cell_type": "code",
   "execution_count": null,
   "metadata": {
    "jupyter": {
     "source_hidden": true
    }
   },
   "outputs": [],
   "source": [
    "def compter_nombres_pairs(nombres):\n",
    "    compte = 0\n",
    "    for nb in nombres:\n",
    "        if nb % 2 == 0:\n",
    "            compte += 1\n",
    "    return compte"
   ]
  },
  {
   "cell_type": "markdown",
   "metadata": {},
   "source": [
    "## 2. Personnes recherchées!\n",
    "\n",
    "Implémenter la fonction `trouver_personnes_recherchees` qui prend en argument une liste de noms (chaînes de caractères - `str`). La fonction devrait retourner une liste de noms qui sont présents à la fois dans `PERSONNES_RECHERCHEES` et dans la liste de noms fournie en argument à la fonction."
   ]
  },
  {
   "cell_type": "code",
   "execution_count": null,
   "metadata": {
    "editable": false
   },
   "outputs": [],
   "source": [
    "PERSONNES_RECHERCHEES = ['John Doe', 'Clint Eastwood', 'Chuck Norris']"
   ]
  },
  {
   "cell_type": "code",
   "execution_count": null,
   "metadata": {},
   "outputs": [],
   "source": [
    "# À toi de jouer!"
   ]
  },
  {
   "cell_type": "code",
   "execution_count": null,
   "metadata": {
    "editable": false
   },
   "outputs": [],
   "source": [
    "gens_a_verifier = ['Donald Duck', 'Clint Eastwood', 'John Doe', 'Barack Obama']\n",
    "recherches1 = trouver_personnes_recherchees(gens_a_verifier)\n",
    "assert len(recherches1) == 2\n",
    "assert 'John Doe' in recherches1\n",
    "assert 'Clint Eastwood'in recherches1\n",
    "\n",
    "gens_a_verifier2 = ['Donald Duck', 'Mickey Mouse', 'Zorro', 'Superman', 'Robin Hood']\n",
    "recherches2 = trouver_personnes_recherchees(gens_a_verifier2)\n",
    "assert recherches2 == []"
   ]
  },
  {
   "cell_type": "markdown",
   "metadata": {},
   "source": [
    "### Solution"
   ]
  },
  {
   "cell_type": "code",
   "execution_count": null,
   "metadata": {
    "jupyter": {
     "source_hidden": true
    }
   },
   "outputs": [],
   "source": [
    "# À toi de jouer!\n",
    "def trouver_personnes_recherchees(personnes):\n",
    "    trouvees = []\n",
    "    for p in personnes:\n",
    "        if p in PERSONNES_RECHERCHEES:\n",
    "            trouvees.append(p)\n",
    "    return trouvees"
   ]
  },
  {
   "cell_type": "markdown",
   "metadata": {},
   "source": [
    "## 3. Trouver la longueur moyenne des mots d'une phrase\n",
    "\n",
    "Créer la fonction `longueur_moyenne_mots` qui prend une chaîne de caractères en arguments et retourne la longueur moyenne des mots qui forment cette chaîne. Vous pouvez supposer qu'il y a un seul espace entre chaque mot de la phrase et que la phrase n'a pas de ponctuation.\n",
    "Le résultat devrait être arrondi à un chiffre après la virgule (aide: voir [`round`](https://docs.python.org/3/library/functions.html#round))."
   ]
  },
  {
   "cell_type": "code",
   "execution_count": null,
   "metadata": {},
   "outputs": [],
   "source": [
    "# À toi de jouer!"
   ]
  },
  {
   "cell_type": "code",
   "execution_count": null,
   "metadata": {
    "editable": false
   },
   "outputs": [],
   "source": [
    "assert longueur_moyenne_mots('selt 4tre lett erwo rdss') == 4\n",
    "assert longueur_moyenne_mots('un deux trois') == 3.7\n",
    "assert longueur_moyenne_mots('un deux trois quatre') == 4.2\n",
    "assert longueur_moyenne_mots('') == 0"
   ]
  },
  {
   "cell_type": "markdown",
   "metadata": {},
   "source": [
    "### Solution"
   ]
  },
  {
   "cell_type": "code",
   "execution_count": null,
   "metadata": {
    "jupyter": {
     "source_hidden": true
    }
   },
   "outputs": [],
   "source": [
    "# À toi de jouer!\n",
    "def longueur_moyenne_mots(phrase):\n",
    "    mots = phrase.split()\n",
    "    \n",
    "    if len(mots) == 0:\n",
    "        return 0\n",
    "    \n",
    "    somme = 0\n",
    "    for mot in mots:\n",
    "        somme += len(mot)\n",
    "    \n",
    "    return round(somme/len(mots),1)"
   ]
  }
 ],
 "metadata": {
  "kernelspec": {
   "display_name": "Python 3",
   "language": "python",
   "name": "python3"
  },
  "language_info": {
   "codemirror_mode": {
    "name": "ipython",
    "version": 3
   },
   "file_extension": ".py",
   "mimetype": "text/x-python",
   "name": "python",
   "nbconvert_exporter": "python",
   "pygments_lexer": "ipython3",
   "version": "3.7.3"
  }
 },
 "nbformat": 4,
 "nbformat_minor": 4
}
