{
 "cells": [
  {
   "cell_type": "markdown",
   "metadata": {},
   "source": [
    "# 1. Super voyelles\n",
    "Implémenter la fonction `super_voyelles` qui prend une chaîne en argument et qui en retourne une version modifiée. Dans la valeur de retour de `super_voyelles`, toutes les voyelles doivent être en majuscule et toutes les consonnes en minuscule. Les voyelles sont listées dans la variables `VOYELLES`. \n",
    "\n",
    "- aide: qu'obtient-on lorsqu'on applique la fonction prédéfinie `list` a une chaîne de caractères ?"
   ]
  },
  {
   "cell_type": "code",
   "execution_count": null,
   "metadata": {
    "editable": false
   },
   "outputs": [],
   "source": [
    "VOYELLES = ['a', 'e', 'i', 'o', 'u']"
   ]
  },
  {
   "cell_type": "code",
   "execution_count": null,
   "metadata": {},
   "outputs": [],
   "source": [
    "# À toi de jouer\n",
    "def super_voyelles(phrase):\n",
    "    lettres = list(phrase)\n",
    "    nouvelle_phrase = []\n",
    "    for lettre in lettres:\n",
    "        if lettre.lower() in VOYELLES:\n",
    "            nouvelle_phrase.append(lettre.upper())\n",
    "        else:\n",
    "            nouvelle_phrase.append(lettre.lower())\n",
    "    \n",
    "    return ''.join(nouvelle_phrase)"
   ]
  },
  {
   "cell_type": "code",
   "execution_count": null,
   "metadata": {
    "editable": false
   },
   "outputs": [],
   "source": [
    "assert super_voyelles('hi wassup!') == 'hI wAssUp!'\n",
    "assert super_voyelles('HOw aRE You?') == 'hOw ArE yOU?'"
   ]
  },
  {
   "cell_type": "markdown",
   "metadata": {},
   "source": [
    "# 2. Jeu de plateau\n",
    "Implémenter la fonction `plateau_de_jeu` qui prend un argument entier. La fonction devrait retourner une chaîne qui ressemble à celle d'un plateau de jeu ordinaire (comme un jeu d'échec). Le plateau doit contenir autant de lignes et de colonnes que l'indique l'argument entier. Voir la cellule plus bas pour des exemples du comportement attendu.\n"
   ]
  },
  {
   "cell_type": "markdown",
   "metadata": {},
   "source": [
    "**Première solution** (naïve)"
   ]
  },
  {
   "cell_type": "code",
   "execution_count": null,
   "metadata": {},
   "outputs": [],
   "source": [
    "# À toi de jouer\n",
    "def plateau_de_jeu(dimension):\n",
    "    plateau = []\n",
    "    nb_cases = dimension ** 2\n",
    "    if dimension % 2 != 0: # cas où la dimension du plateau est impaire\n",
    "        for i in range(nb_cases):\n",
    "            if i % 2 == 0:\n",
    "                plateau.append(' ')\n",
    "            else:\n",
    "                plateau.append('*')\n",
    "            if (i + 1) % dimension == 0:\n",
    "                plateau.append('\\n')\n",
    "    \n",
    "    else: # cas où dimension est paire.\n",
    "        for i in range(nb_cases):\n",
    "            j = i // dimension # n° de ligne: 0, 1, ..., dimension-1\n",
    "            if j % 2 == 0:\n",
    "                if i % 2 == 0:\n",
    "                    plateau.append(' ')\n",
    "                else:\n",
    "                    plateau.append('*')\n",
    "            else:\n",
    "                if i % 2 == 0:\n",
    "                    plateau.append('*')\n",
    "                else: \n",
    "                    plateau.append(' ')\n",
    "            \n",
    "            if (i + 1) % dimension == 0:\n",
    "                plateau.append('\\n')\n",
    "                \n",
    "    return ''.join(plateau)"
   ]
  },
  {
   "cell_type": "markdown",
   "metadata": {},
   "source": [
    "**Deuxième solution** (plus élégante)"
   ]
  },
  {
   "cell_type": "code",
   "execution_count": null,
   "metadata": {},
   "outputs": [],
   "source": [
    "# À toi de jouer\n",
    "def plateau_de_jeu(dimension):\n",
    "    plateau = []\n",
    "    for index_ligne in range(dimension): \n",
    "        for index_col in range(dimension):\n",
    "            if (index_ligne + index_col) % 2 == 0:\n",
    "                plateau.append(' ')\n",
    "            else:\n",
    "                plateau.append('*')\n",
    "            if (index_col + 1) % dimension == 0:\n",
    "                plateau.append('\\n')\n",
    "                \n",
    "    return ''.join(plateau)"
   ]
  },
  {
   "cell_type": "code",
   "execution_count": null,
   "metadata": {
    "editable": false
   },
   "outputs": [],
   "source": [
    "plateau_de_5 = (\n",
    "' * * \\n'\n",
    "'* * *\\n'\n",
    "' * * \\n'\n",
    "'* * *\\n'\n",
    "' * * \\n'\n",
    ")\n",
    "\n",
    "plateau_de_10 = (\n",
    "' * * * * *\\n'\n",
    "'* * * * * \\n'\n",
    "' * * * * *\\n'\n",
    "'* * * * * \\n'\n",
    "' * * * * *\\n'\n",
    "'* * * * * \\n'\n",
    "' * * * * *\\n'\n",
    "'* * * * * \\n'\n",
    "' * * * * *\\n'\n",
    "'* * * * * \\n'\n",
    ")\n",
    "\n",
    "assert plateau_de_jeu(5) == plateau_de_5\n",
    "assert plateau_de_jeu(10) == plateau_de_10\n",
    "\n",
    "print(plateau_de_jeu(50))"
   ]
  }
 ],
 "metadata": {
  "kernelspec": {
   "display_name": "Python 3",
   "language": "python",
   "name": "python3"
  },
  "language_info": {
   "codemirror_mode": {
    "name": "ipython",
    "version": 3
   },
   "file_extension": ".py",
   "mimetype": "text/x-python",
   "name": "python",
   "nbconvert_exporter": "python",
   "pygments_lexer": "ipython3",
   "version": "3.7.3"
  }
 },
 "nbformat": 4,
 "nbformat_minor": 4
}
