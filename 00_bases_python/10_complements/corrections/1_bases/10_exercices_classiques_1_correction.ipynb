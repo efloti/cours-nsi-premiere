{
 "cells": [
  {
   "cell_type": "markdown",
   "metadata": {
    "slideshow": {
     "slide_type": "slide"
    }
   },
   "source": [
    "# Exercices: Affectaction, Opérations, Boucles, Tests"
   ]
  },
  {
   "cell_type": "markdown",
   "metadata": {
    "slideshow": {
     "slide_type": "slide"
    }
   },
   "source": [
    "### Affectaction 1\n",
    "\n",
    "Quelle est la valeur affichée par l'interprèteur après la séquence d'instructions suivantes ? **6**\n",
    "```python\n",
    ">>> a = 3\n",
    ">>> a = 4\n",
    ">>> a = a + 2\n",
    ">>> a\n",
    "```"
   ]
  },
  {
   "cell_type": "markdown",
   "metadata": {
    "slideshow": {
     "slide_type": "subslide"
    }
   },
   "source": [
    "### Affectaction 2\n",
    "\n",
    "Même question. **64**\n",
    "```python\n",
    ">>> a = 2\n",
    ">>> b = a * a\n",
    ">>> b = a * b\n",
    ">>> b = b * b\n",
    ">>> b\n",
    "```"
   ]
  },
  {
   "cell_type": "markdown",
   "metadata": {
    "slideshow": {
     "slide_type": "subslide"
    }
   },
   "source": [
    "### Affectaction 3\n",
    "\n",
    "Initialiser une variable `a` avec la valeur 2, puis répéter dix fois l'instruction `a = a * a`. \n",
    "\n",
    "Observer le résultat. Quelle puissance de 2 a-t-on ainsi calculée ? $\\bf{2^{(2^{10})}=2^{1024}}$"
   ]
  },
  {
   "cell_type": "code",
   "execution_count": null,
   "metadata": {},
   "outputs": [],
   "source": [
    "# à faire ici ..."
   ]
  },
  {
   "cell_type": "markdown",
   "metadata": {
    "slideshow": {
     "slide_type": "subslide"
    }
   },
   "source": [
    "### Affectaction 4\n",
    "\n",
    "On supposera qu'à l'origine les variables `a` et `b` contiennent chacune un nombre entier.\n",
    "\n",
    "1. Que fait la séquence d'instructions suivante? **Échange (*swap*) les valeurs des variables a et b**\n",
    "\n",
    "```python\n",
    ">>> tmp = a\n",
    ">>> a = b\n",
    ">>> b = tmp\n",
    "```\n"
   ]
  },
  {
   "cell_type": "code",
   "execution_count": null,
   "metadata": {},
   "outputs": [],
   "source": []
  },
  {
   "cell_type": "markdown",
   "metadata": {
    "slideshow": {
     "slide_type": "fragment"
    }
   },
   "source": [
    "2. Écrire une instruction (une ligne) qui fait la même chose (*aide*: penser à l'affectaction multiple)"
   ]
  },
  {
   "cell_type": "code",
   "execution_count": null,
   "metadata": {},
   "outputs": [],
   "source": [
    "a, b = 1, 2\n",
    "a, b = b, a # la ligne importante\n",
    "a, b"
   ]
  },
  {
   "cell_type": "markdown",
   "metadata": {
    "slideshow": {
     "slide_type": "subslide"
    }
   },
   "source": [
    "### Affectaction 5\n",
    "\n",
    "On met deux entiers dans deux «boîtes» `a` et `b`, par exemple 55 et 89.\n",
    "\n",
    "On remplace le contenu de `a` par la somme de celui de `a` et de `b`.\n",
    "\n",
    "Puis on remplace le contenu de `b` par le contenu de `a` moins le contenu de `b`.\n",
    "\n",
    "Enfin, on remplace le contenu de `a` par son contenu moins celui de `b`.\n",
    "\n",
    "Que contiennent `a` et `b` à la fin de ces opérations? ____\n",
    "\n",
    "Programme cet algorihme en Python."
   ]
  },
  {
   "cell_type": "code",
   "execution_count": null,
   "metadata": {},
   "outputs": [],
   "source": [
    "a, b = 55, 89\n",
    "a = a + b\n",
    "b = a - b\n",
    "a = a - b\n",
    "a, b"
   ]
  },
  {
   "cell_type": "markdown",
   "metadata": {
    "slideshow": {
     "slide_type": "slide"
    }
   },
   "source": [
    "### Opération 1\n",
    "\n",
    "Écrire une fonction qui attend un nombre de secondes et qui renvoie une chaîne (*str*) dans le format `<heures>/<minutes>/<secondes>`"
   ]
  },
  {
   "cell_type": "code",
   "execution_count": null,
   "metadata": {},
   "outputs": [],
   "source": [
    "def formatter_duree(duree_sec):\n",
    "    secondes = duree_sec % 60\n",
    "    duree_min = duree_sec // 60\n",
    "    \n",
    "    minutes = duree_min % 60\n",
    "    heures = duree_min // 60\n",
    "        \n",
    "    return f\"{heures}/{minutes}/{secondes}\"\n",
    "\n",
    "formatter_duree(130)"
   ]
  },
  {
   "cell_type": "markdown",
   "metadata": {},
   "source": [
    "### Opération 2\n",
    "\n",
    "Écrire une fonction qui attend un nombre d'oeufs et qui renvoie le nombre de boîtes de 6 oeufs nécessaires à leur transport."
   ]
  },
  {
   "cell_type": "code",
   "execution_count": null,
   "metadata": {},
   "outputs": [],
   "source": [
    "def boites_oeufs(nb_oeufs):\n",
    "    nb_boites = nb_oeufs // 6\n",
    "    if nb_oeufs % 6 != 0: # reste des oeufs!\n",
    "        nb_boites += 1 # il nous faut donc une boîte de plus\n",
    "        \n",
    "    return nb_boites\n",
    "\n",
    "boites_oeufs(13)"
   ]
  },
  {
   "cell_type": "markdown",
   "metadata": {},
   "source": [
    "### Boucle 1\n",
    "\n",
    "Écrire une fonction qui demande un entier `n` à l'utilisateur, puis calcule renvoie le résultat de la multiplication\n",
    "$$2\\times 2\\times 2\\cdots\\times 2$$\n",
    "où on a `n` occurences (répétitions) de $2$."
   ]
  },
  {
   "cell_type": "code",
   "execution_count": null,
   "metadata": {},
   "outputs": [],
   "source": [
    "def repeter_multiplication_avec_2(n):\n",
    "    resultat = 1 # accumulateur initialisé à 1: l'élément neutre de la multiplication.\n",
    "    \n",
    "    for i in range(n):\n",
    "        resultat = resultat * 2\n",
    "    \n",
    "    return resultat\n",
    "\n",
    "def repeter_multiplication_avec_2_var(n):\n",
    "    resultat = 2 # accumulateur initialisé à 2: ça complique\n",
    "    \n",
    "    if n == 0:\n",
    "        return 1 # tout nombre à la puissance 0 vaut 1.\n",
    "    \n",
    "    \n",
    "    for i in range(n-1):\n",
    "        resultat = resultat * 2\n",
    "    \n",
    "    return resultat"
   ]
  },
  {
   "cell_type": "markdown",
   "metadata": {},
   "source": [
    "### Boucle 2\n",
    "\n",
    "1. Écrire un programme qui calcule et affiche la chaîne de caractères `\"1*2*3*...*100\"` sans les points de suspensions!"
   ]
  },
  {
   "cell_type": "code",
   "execution_count": null,
   "metadata": {},
   "outputs": [],
   "source": [
    "prod_str = \"\" # accumulateur initialisé avec une chaîne vide\n",
    "\n",
    "for i in range(1, 101):\n",
    "    prod_str = f\"{prod_str}{i}\"\n",
    "    if i < 100: # sans ça une étoile en trop à la fin\n",
    "        prod_str = prod_str + \"*\"\n",
    "\n",
    "prod_str"
   ]
  },
  {
   "cell_type": "code",
   "execution_count": null,
   "metadata": {},
   "outputs": [],
   "source": [
    "# autre solution: avec `str.join(<liste>)`\n",
    "entiers_str = []\n",
    "for i in range(1,101):\n",
    "    i_str = str(i)\n",
    "    entiers_str.append(i_str)\n",
    "\"*\".join(entiers_str)"
   ]
  },
  {
   "cell_type": "markdown",
   "metadata": {},
   "source": [
    "2. Écrire une fonction qui attend un entier `n` et renvoie la `str` précédente où le dernier nombre est l'entier fourni."
   ]
  },
  {
   "cell_type": "code",
   "execution_count": null,
   "metadata": {},
   "outputs": [],
   "source": [
    "def chaine_factorielle(n):\n",
    "    ch_produit = \"\" # accumulateur initialisé avec une chaîne vide\n",
    "\n",
    "    for i in range(1, n + 1):\n",
    "        ch_produit = f\"{ch_produit}{i}\"\n",
    "        if i < n: # sans ça une étoile en trop à la fin\n",
    "            ch_produit += \"*\"\n",
    "    \n",
    "    return ch_produit\n",
    "\n",
    "chaine_factorielle(10)"
   ]
  },
  {
   "cell_type": "markdown",
   "metadata": {},
   "source": [
    "3. Écrire une fonction qui attend un entier `n` et renvoie le résultat *int* de l'opération précédente."
   ]
  },
  {
   "cell_type": "code",
   "execution_count": null,
   "metadata": {},
   "outputs": [],
   "source": [
    "def factorielle(n):\n",
    "    fact = 1 # accumultateur initialisé à 1 car «produit»\n",
    "    for i in range(1,n+1):\n",
    "        fact = fact * i\n",
    "    return fact\n",
    "\n",
    "factorielle(3)"
   ]
  },
  {
   "cell_type": "markdown",
   "metadata": {},
   "source": [
    "### Boucle 3\n",
    "\n",
    "1. Reprendre la dernière question de l'exercice précédent où la multiplication est remplacée par l'addition."
   ]
  },
  {
   "cell_type": "code",
   "execution_count": null,
   "metadata": {},
   "outputs": [],
   "source": [
    "def somme_entiers_consecutifs(n):\n",
    "    somme = 0 # acc initialisé à 0 car «addition»\n",
    "    for i in range(1, n+1):\n",
    "        somme = somme + i\n",
    "    return somme\n",
    "\n",
    "somme_entiers_consecutifs(4)"
   ]
  },
  {
   "cell_type": "markdown",
   "metadata": {},
   "source": [
    "2. Réaliser une «micro»-fonction `lambda` qui implémente la fonction $n\\mapsto \\dfrac{n(n+1)}{2}$ (voir *note* en dessous)"
   ]
  },
  {
   "cell_type": "code",
   "execution_count": null,
   "metadata": {},
   "outputs": [],
   "source": [
    "micro = lambda n : n * (n + 1) / 2"
   ]
  },
  {
   "cell_type": "markdown",
   "metadata": {},
   "source": [
    "*Note*: une «micro»-fonction sert à produire rapidement une fonction lorsque celle-ci est de la forme «$x\\mapsto\\text{expression}$». En python, cela donne `nom_fonction = lambda x:<expression>`.\n",
    "\n",
    "*expression*: tout ce qui produit une valeur\n",
    "\n",
    "*Exemples*:\n",
    "- la fonction carré $x\\mapsto x^2$ peut s'écrire `carre = lambda x: x ** 2`\n",
    "- la fonction «surface d'un rectangle» $\\quad l, L \\mapsto l\\times L\\quad$ peut s'écrire `surface_rect = lambda l, L: l * L`"
   ]
  },
  {
   "cell_type": "code",
   "execution_count": null,
   "metadata": {},
   "outputs": [],
   "source": [
    "# zone pour tester les «micro»-fonctions\n",
    "carre = lambda x: x ** 2\n",
    "carre(3)"
   ]
  },
  {
   "cell_type": "markdown",
   "metadata": {},
   "source": [
    "3. Comparer les résultats de l'une et de l'autre pour les valeurs 10, 100 et 347.\n",
    "\n",
    " Qu'observez-vous ? **Elles donnent le même résultat** (démontrer ... ou attendre le chapitre sur les suites)\n",
    " \n",
    " **Démontrer** : \n",
    " \n",
    "         S     =    1  +    2  + ...... +   n-1 +    n\n",
    "         S     =    n  +  n-1  + ...... +     2 +    1\n",
    "         S + S = (n+1) + (n+1) + ...... + (n+1) + (n+1)\n",
    "         en ajoutant membre a membre, «colonne par colonne»\n",
    "     \n",
    "         à gauche de = 2S\n",
    "         à droite de = n*(n+1) car (n+1) est répété précisément n fois\n",
    "         les deux sont égaux donc S=n*(n+1)/2             c.q.f.d"
   ]
  },
  {
   "cell_type": "code",
   "execution_count": null,
   "metadata": {},
   "outputs": [],
   "source": [
    "for nb in [10, 100, 347]:\n",
    "    test = ( micro(nb) == somme_entiers_consecutifs(nb) )\n",
    "    print(test)"
   ]
  },
  {
   "cell_type": "markdown",
   "metadata": {},
   "source": [
    "### Boucle 4\n",
    "\n",
    "Écrire une fonction pour résoudre le problème suivant.\n",
    "\n",
    ">Une somme initiale de `depot` € est déposée sur un livret rémunéré avec un taux d'intérêts annuels `taux` exprimé en pourcents.\n",
    ">\n",
    ">Quel montant total se trouve sur le livret après `n` années?\n"
   ]
  },
  {
   "cell_type": "code",
   "execution_count": null,
   "metadata": {},
   "outputs": [],
   "source": [
    "def montant_depot(depot, taux, n):\n",
    "    montant = depot\n",
    "    for _ in range(n):\n",
    "        interet = montant * taux / 100\n",
    "        montant = montant + interet\n",
    "    return montant\n",
    "\n",
    "d, t, a = 100, 5, 10\n",
    "au_final = montant_depot(d, t, a)\n",
    "print(f\"Montant du dépot après {a} années rémunéré à {t}% avec une mise de départ de {d}€: {round(au_final, 2)}€\")"
   ]
  },
  {
   "cell_type": "markdown",
   "metadata": {},
   "source": [
    "### Test 1\n",
    "\n",
    "Écrire une fonction qui attend un entier `n` et renvoie la liste de tous ses diviseurs."
   ]
  },
  {
   "cell_type": "code",
   "execution_count": null,
   "metadata": {},
   "outputs": [],
   "source": [
    "def trouver_diviseurs(n):\n",
    "    diviseurs = []\n",
    "    for i in range(1,n+1):\n",
    "        if n % i == 0:\n",
    "            diviseurs.append(i)\n",
    "    return diviseurs\n",
    "\n",
    "trouver_diviseurs(24)"
   ]
  },
  {
   "cell_type": "markdown",
   "metadata": {},
   "source": [
    "### Test 2\n",
    "\n",
    "1. Adapter la fonction de l'exercice précédent de façon à ce qu'elle renvoie la liste des diviseurs premiers de l'entier `n`.\n",
    "\n",
    "  *Rappel*: un nombre premier est strictement plus grand que 1 et n'est divisible que par 1 et par lui-même.\n",
    "\n",
    "  *Astuce*: il est possible de réutiliser la fonction `trouver_diviseurs` de l'exercice précédent."
   ]
  },
  {
   "cell_type": "code",
   "execution_count": null,
   "metadata": {},
   "outputs": [],
   "source": [
    "def trouver_diviseurs(n):\n",
    "    diviseurs = []\n",
    "    for i in range(1,n+1):\n",
    "        if n % i == 0:\n",
    "            diviseurs.append(i)\n",
    "    return diviseurs\n",
    "\n",
    "def trouver_diviseurs_premiers(n):\n",
    "    diviseurs_p = []\n",
    "    for i in range(1,n+1):\n",
    "        if n % i == 0 and len(trouver_diviseurs(i)) == 2:\n",
    "            diviseurs_p.append(i)\n",
    "    return diviseurs_p\n",
    "\n",
    "trouver_diviseurs_premiers(24)"
   ]
  },
  {
   "cell_type": "markdown",
   "metadata": {},
   "source": [
    "2. Dernière adaptation: votre fonction renvoie une chaîne de caractère de format `\"<div1>, <div2>, <div3>*,...\"` où `*` indique que le diviseur est premier."
   ]
  },
  {
   "cell_type": "code",
   "execution_count": null,
   "metadata": {},
   "outputs": [],
   "source": [
    "def trouver_diviseurs_var(n):\n",
    "    diviseurs = trouver_diviseurs(n)\n",
    "    diviseurs_p = trouver_diviseurs_premiers(n)\n",
    "    \n",
    "    ch_diviseurs = \"\"\n",
    "    \n",
    "    Nb_diviseurs = len(diviseurs)\n",
    "    for i in range(Nb_diviseurs):\n",
    "        d = diviseurs[i]\n",
    "        ch_diviseurs += str(d)\n",
    "        if d in diviseurs_p:\n",
    "            ch_diviseurs += \"*\"\n",
    "        \n",
    "        if i < Nb_diviseurs - 1:\n",
    "            ch_diviseurs += \", \"\n",
    "            \n",
    "    return ch_diviseurs\n",
    "\n",
    "trouver_diviseurs_var(24)"
   ]
  },
  {
   "cell_type": "markdown",
   "metadata": {},
   "source": [
    "### Test 3 - Jeu de mölkky\n",
    "\n",
    "Au *jeu de mölkky*, chaque joueur marque à son tour de jeu entre 0 et 12 points, qui viennent s'ajouter à son score précédent.\n",
    "\n",
    "Le premier à atteindre un score de **51** gagne.\n",
    "\n",
    "Mais gare! Quiconque dépasse le score cible de 51 revient immédiatement à 25 points.\n",
    "\n",
    "1. Écrire une fonction qui attend le `score` du joueur ainsi que le nombre de points `gain` marqué à ce tour. Elle renvoie le nouveau score."
   ]
  },
  {
   "cell_type": "code",
   "execution_count": null,
   "metadata": {},
   "outputs": [],
   "source": [
    "def tour_molkky(score, gain):\n",
    "    if score + gain > 51:\n",
    "        score = 25\n",
    "    else:\n",
    "        score += gain\n",
    "    return score"
   ]
  },
  {
   "cell_type": "markdown",
   "metadata": {},
   "source": [
    "2. Compléter la fonction qui suit et qui permet de jouer au *jeu de mölkky* avec un gain aléatoire (voir *note*) à chaque tour. Elle renvoie une chaîne de caractères au format \"Nombre de tour du jeu: xxx\""
   ]
  },
  {
   "cell_type": "code",
   "execution_count": null,
   "metadata": {},
   "outputs": [],
   "source": [
    "from random import randint\n",
    "\n",
    "def molkky_aleatoire():\n",
    "    score = 0\n",
    "    nb_tours = 0\n",
    "    \n",
    "    while True:\n",
    "        nb_tours = nb_tours + 1\n",
    "        gain = randint(0,12)\n",
    "        score = tour_molkky(score, gain)\n",
    "        print(f\"Score={score} au {nb_tours}-ième tour.\")\n",
    "        if score == 51: return f\"Nombre de tour du jeu: {nb_tours}\"\n",
    "        \n",
    "        # on abandonne si c'est trop long: 30 tours max\n",
    "        if nb_tours >= 30: return \"abandon\"\n",
    "\n",
    "molkky_aleatoire()"
   ]
  },
  {
   "cell_type": "markdown",
   "metadata": {},
   "source": [
    "*Note*: la bibliothèque standard dispose d'un *module* `random` qui contient (entre autre) une fonction `randint(a,b)`. Cette fonction renvoie un nombre entier au hasard entre `a` inclus et `b` inclus. \n",
    "\n",
    "Pour utiliser une fonction (ou plusieurs) d'un *module* de la bibliothèque standard, la syntaxe est `from <module> import fn1, fn2, ...`"
   ]
  },
  {
   "cell_type": "code",
   "execution_count": null,
   "metadata": {},
   "outputs": [],
   "source": [
    "# zone de test pour la note\n",
    "from random import randint\n",
    "un_de = randint(1, 6)\n",
    "un_de"
   ]
  },
  {
   "cell_type": "markdown",
   "metadata": {},
   "source": [
    "3. Enrichir avec la règle suivante: si le joueur a un gain de 0 lors de deux coups consécutifs, il perd."
   ]
  },
  {
   "cell_type": "code",
   "execution_count": null,
   "metadata": {},
   "outputs": [],
   "source": [
    "def molkky_aleatoire():\n",
    "    score = 0\n",
    "    nb_tours = 0\n",
    "    nb_zero_consecutifs = 0\n",
    "    \n",
    "    while True:\n",
    "        nb_tours = nb_tours + 1\n",
    "        gain = randint(0,12)\n",
    "        \n",
    "        if gain == 0:\n",
    "            nb_zero_consecutifs += 1\n",
    "        else:\n",
    "            nb_zero_consecutifs = 0\n",
    "        if nb_zero_consecutifs == 2:\n",
    "            return \"Perdu: deux zéros consécutifs!\"\n",
    "        \n",
    "        score = tour_molkky(score, gain) \n",
    "        print(f\"Score={score} au {nb_tours}-ième tour.\")\n",
    "        if score == 51: return f\"Gagné!. Nombre de tour du jeu: {nb_tours}\"\n",
    "        \n",
    "        # on abandonne si c'est trop long: 30 tours max\n",
    "        # if nb_tours >= 30: return \"abandon\"\n",
    "\n",
    "molkky_aleatoire()"
   ]
  },
  {
   "cell_type": "markdown",
   "metadata": {},
   "source": [
    "### Test 4\n",
    "\n",
    "Au bowling, on a deux chances pour faire tomber un total de dix quilles.\n",
    "\n",
    "Écrire une fonction qui attends le nombre de quilles renversées avec chacune des deux boules et renvoie 'X' si toutes les quilles sont tombées à la première boule, '/' si toutes les quilles sont tombées, et sinon le nombre de quilles renversées. En outre, elle renvoie 'impossible' si les données sont incohérentes."
   ]
  },
  {
   "cell_type": "code",
   "execution_count": null,
   "metadata": {},
   "outputs": [],
   "source": [
    "def bowling(boule1, boule2):\n",
    "    total = boule1 + boule2\n",
    "    if boule1 > 10 or boule2 > 10 or total > 10:\n",
    "        return 'impossible!'\n",
    "    elif boule1 == 10:\n",
    "        return '/'\n",
    "    elif total == 10:\n",
    "        return 'X'\n",
    "    else:\n",
    "        return str(total)\n",
    "\n",
    "print(bowling(1,3))\n",
    "print(bowling(10, 1))\n",
    "print(bowling(10, 0))\n",
    "print(bowling(6, 4))"
   ]
  }
 ],
 "metadata": {
  "celltoolbar": "Diaporama",
  "kernelspec": {
   "display_name": "Python 3",
   "language": "python",
   "name": "python3"
  },
  "language_info": {
   "codemirror_mode": {
    "name": "ipython",
    "version": 3
   },
   "file_extension": ".py",
   "mimetype": "text/x-python",
   "name": "python",
   "nbconvert_exporter": "python",
   "pygments_lexer": "ipython3",
   "version": "3.7.3"
  }
 },
 "nbformat": 4,
 "nbformat_minor": 4
}
