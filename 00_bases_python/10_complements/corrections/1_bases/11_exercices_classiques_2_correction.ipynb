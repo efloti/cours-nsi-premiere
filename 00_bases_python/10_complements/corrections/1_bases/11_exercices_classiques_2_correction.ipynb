{
 "cells": [
  {
   "cell_type": "markdown",
   "metadata": {
    "slideshow": {
     "slide_type": "slide"
    }
   },
   "source": [
    "# Exercices: Fonctions, Tableaux"
   ]
  },
  {
   "cell_type": "markdown",
   "metadata": {
    "slideshow": {
     "slide_type": "slide"
    }
   },
   "source": [
    "### Fonction 1\n",
    "\n",
    "Définir une fonction `valeur_absolue` qui prend un entier en argument et renvoie sa valeur absolue.\n",
    "\n",
    "**Note**: La valeur absolue d'un nombre est sa «distance à 0» c'est à dire ce nombre privé du signe moins s'il en avait un. ex: `valeur_absolue(-5)` donne `5`; `valeur_absolue(5)` donne `5`."
   ]
  },
  {
   "cell_type": "code",
   "execution_count": null,
   "metadata": {},
   "outputs": [],
   "source": [
    "def valeur_absolue(x):\n",
    "    if x < 0:\n",
    "        return -1 * x # ou -x\n",
    "    else:\n",
    "        return x"
   ]
  },
  {
   "cell_type": "code",
   "execution_count": null,
   "metadata": {},
   "outputs": [],
   "source": [
    "assert valeur_absolue(-5) == 5\n",
    "assert valeur_absolue(5) == 5\n",
    "assert valeur_absolue(0) == 0"
   ]
  },
  {
   "cell_type": "markdown",
   "metadata": {
    "slideshow": {
     "slide_type": "subslide"
    }
   },
   "source": [
    "### Fonction 2\n",
    "\n",
    "1. Écrire une fonction `max2(a, b)` qui renvoie le plus grand des deux entiers `a` et `b`."
   ]
  },
  {
   "cell_type": "code",
   "execution_count": null,
   "metadata": {},
   "outputs": [],
   "source": [
    "def max2(a,b):\n",
    "    if a > b:\n",
    "        return a\n",
    "    else:\n",
    "        return b"
   ]
  },
  {
   "cell_type": "code",
   "execution_count": null,
   "metadata": {},
   "outputs": [],
   "source": [
    "assert max2(2,4) == 4\n",
    "assert max2(4,2) == 4"
   ]
  },
  {
   "cell_type": "markdown",
   "metadata": {
    "slideshow": {
     "slide_type": "fragment"
    }
   },
   "source": [
    "2. En se servant de la fonction `max2`, écrire une fonction `max3(a, b, c)` qui renvoie le plus grand des trois entiers `a`, `b` et `c`."
   ]
  },
  {
   "cell_type": "code",
   "execution_count": null,
   "metadata": {},
   "outputs": [],
   "source": [
    "def max3(a, b, c):\n",
    "    mab = max2(a,b)\n",
    "    if c > mab:\n",
    "        return c\n",
    "    else:\n",
    "        return mab"
   ]
  },
  {
   "cell_type": "code",
   "execution_count": null,
   "metadata": {},
   "outputs": [],
   "source": [
    "assert max3(1,2,3) == 3\n",
    "assert max3(1,3,2) == 3\n",
    "assert max3(3,2,1) == 3"
   ]
  },
  {
   "cell_type": "markdown",
   "metadata": {
    "slideshow": {
     "slide_type": "subslide"
    }
   },
   "source": [
    "### Fonction 3\n",
    "\n",
    "Écrire une fonction `puissance(x, k)` qui renvoie `x` à la puissance `k` sans utiliser l'opérateur `**`. On utilisera une boucle `for` pour faire le calcul. \n",
    "\n",
    "On suppose que `k` est un entier positif et on rappelle que $x^0=1$."
   ]
  },
  {
   "cell_type": "code",
   "execution_count": null,
   "metadata": {},
   "outputs": [],
   "source": [
    "def puissance(x, k):\n",
    "    if k == 0: return 1 # en fait inutile ici (réfléchir!)\n",
    "    res = 1\n",
    "    for _ in range(k): # répéter k fois\n",
    "        res = res * x # ou res *= x\n",
    "    return res"
   ]
  },
  {
   "cell_type": "code",
   "execution_count": null,
   "metadata": {},
   "outputs": [],
   "source": [
    "assert puissance(2, 3) == 2 ** 3\n",
    "assert puissance(5, 10) == 5 ** 10"
   ]
  },
  {
   "cell_type": "markdown",
   "metadata": {
    "slideshow": {
     "slide_type": "subslide"
    }
   },
   "source": [
    "### Fonction 4\n",
    "\n",
    "Une année est **bissextile** si elle est multiple de 4 mais pas multiple de 100, ou si elle est multiple de 400.\n",
    "\n",
    "De plus une année bissextile dure 366 jours au lieu de 355 ordinairement."
   ]
  },
  {
   "cell_type": "markdown",
   "metadata": {
    "slideshow": {
     "slide_type": "subslide"
    }
   },
   "source": [
    "1. Écrire une fonction `est_bissextile(annee)` qui renvoie `True` si l'année fournie en argument est bissextile, `False` autrement."
   ]
  },
  {
   "cell_type": "code",
   "execution_count": null,
   "metadata": {},
   "outputs": [],
   "source": [
    "def est_bissextile(annee):\n",
    "    return (annee % 4 == 0 and annee % 100 != 0) or annee % 400 == 0"
   ]
  },
  {
   "cell_type": "code",
   "execution_count": null,
   "metadata": {},
   "outputs": [],
   "source": [
    "assert est_bissextile(2000) == True # multiple de 400\n",
    "assert est_bissextile(2012) == True # multiple de 4 mais pas de 100\n",
    "assert est_bissextile(200) == False # multiple de 4 et aussi de 100"
   ]
  },
  {
   "cell_type": "markdown",
   "metadata": {
    "slideshow": {
     "slide_type": "subslide"
    }
   },
   "source": [
    "2. En reprenant votre fonction `est_bissextile`, écrire une fonction `nb_jours_annee(a)` qui renvoie le nombre de jours de l'année `a`. "
   ]
  },
  {
   "cell_type": "code",
   "execution_count": null,
   "metadata": {},
   "outputs": [],
   "source": [
    "def nb_jours_annee(a):\n",
    "    return 366 if est_bissextile(a) else 365"
   ]
  },
  {
   "cell_type": "markdown",
   "metadata": {
    "slideshow": {
     "slide_type": "fragment"
    }
   },
   "source": [
    "3. Écrire une fonction `nb_jours_mois(a, m)` qui renvoie le nombre de jours dans le mois `m` de l'année `a` en réutilisant `nb_jours_annee(a)`.\n",
    "\n",
    "   On suppose que le mois `m` est un entier compris entre 1 (pour janvier) et 12 (pour décembre)."
   ]
  },
  {
   "cell_type": "code",
   "execution_count": null,
   "metadata": {},
   "outputs": [],
   "source": [
    "def nb_jours_mois(a, m):\n",
    "    if m in [1, 3, 5, 7, 8, 10, 12]:\n",
    "        return 31\n",
    "    elif m in [4, 6, 9, 11]:\n",
    "        return 30\n",
    "    else:\n",
    "        return 29 if est_bissextile(a) else 28"
   ]
  },
  {
   "cell_type": "code",
   "execution_count": null,
   "metadata": {},
   "outputs": [],
   "source": [
    "assert 31 * 7 + 4 * 30 + 28 == 365"
   ]
  },
  {
   "cell_type": "markdown",
   "metadata": {
    "slideshow": {
     "slide_type": "subslide"
    }
   },
   "source": [
    "4. **À partir de là, ça se complique!** L'exercice peut-être considéré comme un **mini-projet**. \n",
    "\n",
    "   **SAUTER LA FIN DE CET EXERCICE EN PREMIERE LECTURE**\n",
    "\n",
    "   Écrire une fonction `nb_jours(date1, date2)` qui renvoie le nombre de jours compris entre deux dates données.\n",
    "\n",
    "   On suppose que `date<n>` est un *tuple* de la forme `(jour, mois, annee)`.\n",
    "   \n",
    "   *conseil*: Commencer par écrire une fonction qui attend deux dates en arguments et renvoie ces deux dates dans l'ordre chronologique."
   ]
  },
  {
   "cell_type": "code",
   "execution_count": null,
   "metadata": {},
   "outputs": [],
   "source": [
    "def ordonner_dates(date1, date2):\n",
    "    \"renvoie le tuple formée des deux dates dans l'ordre chronologique\"\n",
    "    j1, m1, a1 = date1\n",
    "    j2, m2, a2 = date2\n",
    "    if a2 > a1:\n",
    "        return date1, date2\n",
    "    elif a2 < a1:\n",
    "        return date2, date1\n",
    "    else:\n",
    "        if m2 > m1:\n",
    "            return date1, date2\n",
    "        elif m2 < m1:\n",
    "            return date2, date1\n",
    "        else:\n",
    "            if j2 > j1:\n",
    "                return date1, date2\n",
    "            elif j2 < j1:\n",
    "                return date2, date1\n",
    "            else:\n",
    "                return date1, date2\n",
    "\n",
    "def nb_jours(date1, date2):\n",
    "    date1, date2 = ordonner_dates(date1, date2)\n",
    "    j1, m1, a1 = date1\n",
    "    j2, m2, a2 = date2\n",
    "    j = 0\n",
    "    \n",
    "    if a1 == a2:\n",
    "        if m2 == m1:\n",
    "            # j2 >= j1 nécessairement\n",
    "            return j2 - j1\n",
    "        else: # m2 > m1 nécessairement\n",
    "            j += nb_jours_mois(a1, m1) - j1 + 1\n",
    "            for m in range(m1+1,m2):\n",
    "                j += nb_jours_mois(a1, m)\n",
    "            j += j2 - 1\n",
    "            return j\n",
    "    # a1 > a2\n",
    "    else:    \n",
    "        # nb jours juqu'à la fin du mois en cours\n",
    "        j += nb_jours_mois(a1, m1) - j1  + 1\n",
    "        # nb jours jusqu'au dernier jour de l'année en cours\n",
    "        for m in range(m1+1, 13):\n",
    "            j += nb_jours_mois(a1, m)\n",
    "        # nb jours de l'année a1+1 au début de l'année a2 (dernier jour de l'année précédente)\n",
    "        for a in range(a1+1, a2):\n",
    "            j += nb_jours_annee(a)\n",
    "        # nb jours jusqu'au mois en cours de la date2 dans l'année a2\n",
    "        for m in range(1, m2):\n",
    "            j += nb_jours_mois(a2, m)\n",
    "        # nb jours du mois en cours jusqu'à j2\n",
    "        j += j2 - 1\n",
    "    return j"
   ]
  },
  {
   "cell_type": "code",
   "execution_count": null,
   "metadata": {},
   "outputs": [],
   "source": [
    "d1, d2 = (12, 3, 2019), (16, 3, 2019)\n",
    "assert nb_jours(d1, d2) == 4\n",
    "assert nb_jours(d2, d1) == 4\n",
    "d1, d2 = (12, 3, 2019), (16, 5, 2019)\n",
    "assert nb_jours(d1, d2) == 30 - 12 + 1 + 31 + (16-1)\n",
    "assert nb_jours(d2, d1) == 30 - 12 + 1 + 31 + (16-1)\n",
    "d1, d2, d3 = (12, 3, 2019), (17, 9, 2025), (16, 5, 2030)\n",
    "assert nb_jours(d1, d3) == nb_jours(d1, d2) + nb_jours(d2, d3)"
   ]
  },
  {
   "cell_type": "markdown",
   "metadata": {
    "slideshow": {
     "slide_type": "fragment"
    }
   },
   "source": [
    "5. En réutilisant les fonctions précédentes, écrire une fonction `calendrier()` qui demande une année à l'utilisateur et affiche le calendrier de cette année, c'est à dire la liste de tous les jours de tous les mois de cette année."
   ]
  },
  {
   "cell_type": "code",
   "execution_count": null,
   "metadata": {},
   "outputs": [],
   "source": [
    "def cal_mois(j_deb, nb_jours):\n",
    "    \"\"\"\n",
    "    Fonction utilitaire qui prend en argument le jour du début d'un mois ainsi que le nombre de jours - nb_jours - de ce mois.\n",
    "      j_deb est un entier de 0 à 6 à mettre en correspondance avec lundi, mardi, ..., dimanche\n",
    "    \n",
    "    elle renvoie un tuple a deux composantes:\n",
    "        - 1ère composante: la chaîne des numéros des jours du mois proprement formatée,\n",
    "        - 2ème composante: le jour du debut du mois suivant\n",
    "    \"\"\"\n",
    "    j_deb_mois_suivant = (j_deb + nb_jours) % 7 # calcul du 1er jour du mois suivant.\n",
    "    ch = (\" \" * 3) * j_deb # calcul du décalage\n",
    "    # construction de la chaîne des n° des jours pour ce mois\n",
    "    for i in range(nb_jours):\n",
    "        nj = str(f\"0{i+1}\") if i+1 < 10 else str(i+1) # on met un 0 devant un nombre d'un seul chiffre\n",
    "        if (i + j_deb) % 7 == 0:\n",
    "            ch += '\\n'\n",
    "        ch += nj + \" \"\n",
    "    return ch, j_deb_mois_suivant\n",
    "\n",
    "def calendrier(annee):\n",
    "    \"fonction principale qui, pour une annee donnée, renvoie la chaîne correspond au calendrier de cette année\"\n",
    "    \n",
    "    noms_mois = ['janvier', 'février', 'mars', 'avril', 'mai', 'juin', 'juillet', 'août', 'septembre', 'octobre', 'novembre', 'décembre']\n",
    "    jours_semaine = ['lu', 'ma', 'me', 'je', 've', 'sa', 'di']\n",
    "    # le premier janvier 2000 était un samedi\n",
    "    d_ref = (1,1,2000)\n",
    "    j_ref = 5 # un samedi\n",
    "    \n",
    "    \n",
    "    j_deb_a = (nb_jours((1,1,2000), (1,1,annee)) + j_ref) % 7\n",
    "    cal = \"\"\n",
    "    \n",
    "    for i in range(12):\n",
    "        nom_mois = noms_mois[i]\n",
    "        cal += nom_mois + \"\\n\"\n",
    "        cal += \" \".join(jours_semaine) + \"\\n\"\n",
    "        cal += \"-\" * (2*7 + 6) + \"\\n\"\n",
    "        nj = nb_jours_mois(annee, i+1)\n",
    "        suite, j_deb_a = cal_mois(j_deb_a, nj)\n",
    "        cal += suite\n",
    "        cal += \"\\n\\n\"\n",
    "    \n",
    "    return cal\n",
    "\n",
    "annee = int(input('Calendrier de l\\'année? '))\n",
    "print(calendrier(annee))"
   ]
  },
  {
   "cell_type": "markdown",
   "metadata": {
    "slideshow": {
     "slide_type": "slide"
    }
   },
   "source": [
    "### Tableau 1\n",
    "\n",
    "Écrire une fonction `occurence(v, t)` qui renvoie le nombre d'occurences de la valeur `v` dans le tableau `t`."
   ]
  },
  {
   "cell_type": "code",
   "execution_count": null,
   "metadata": {},
   "outputs": [],
   "source": [
    "def occurence(v, t):\n",
    "    occ = 0\n",
    "    for x in t: # parcours des items\n",
    "        if x == v:\n",
    "            occ += 1\n",
    "    return occ"
   ]
  },
  {
   "cell_type": "code",
   "execution_count": null,
   "metadata": {},
   "outputs": [],
   "source": [
    "assert occurence(2, [1,2,1,1]) == 1\n",
    "assert occurence(1, [1,2,1,1]) == 3\n",
    "assert occurence(10, [1,2,1,1]) == 0"
   ]
  },
  {
   "cell_type": "markdown",
   "metadata": {
    "slideshow": {
     "slide_type": "subslide"
    }
   },
   "source": [
    "### Tableau 2\n",
    "\n",
    "1. Écrire une foncion `cent_entiers_au_hasard()` qui renvoie un tableau de 100 entiers tirés au hasard entre 1 et 1000."
   ]
  },
  {
   "cell_type": "code",
   "execution_count": null,
   "metadata": {},
   "outputs": [],
   "source": [
    "def cent_entiers_au_hasard():\n",
    "    from random import randint\n",
    "    tab = []\n",
    "    for _ in range(100):\n",
    "        nb = randint(1, 1000)\n",
    "        tab.append(nb)\n",
    "    return tab"
   ]
  },
  {
   "cell_type": "markdown",
   "metadata": {
    "slideshow": {
     "slide_type": "fragment"
    }
   },
   "source": [
    "2. Écrire une fonction `maximum(l)` qui renvoie la plus grande valeur de la liste d'entier positif `l`.\n",
    "\n",
    "   *aide*: Définir un *accumulateur* `maxi` initialisé à $-1$ puis utiliser une boucle `for` pour parcourir la liste tout en mettant `maxi`."
   ]
  },
  {
   "cell_type": "code",
   "execution_count": null,
   "metadata": {},
   "outputs": [],
   "source": [
    "def maximum(l):\n",
    "    maxi = -1 # cette valeur n'est sûrement pas dans l d'après l'hypothèse\n",
    "    for v in l:\n",
    "        if v > maxi:\n",
    "            maxi = v\n",
    "    return maxi"
   ]
  },
  {
   "cell_type": "code",
   "execution_count": null,
   "metadata": {},
   "outputs": [],
   "source": [
    "assert maximum([1,2,3,5,4,3,2,1]) == 5"
   ]
  },
  {
   "cell_type": "markdown",
   "metadata": {
    "slideshow": {
     "slide_type": "subslide"
    }
   },
   "source": [
    "### Tableau 3\n",
    "\n",
    "En mathématiques, la très célèbre *suite de Fibonacci* est une séquence infinie d'entiers définie de la façon suivante: \n",
    "\n",
    "on part des deux entiers 0 et 1 puis on construit à chaque fois l'entier suivant comme la somme des deux entiers précédents $$0, 1, 1, 2, 3, 5, \\dots$$\n",
    "\n",
    "Écrire une fonction qui renvoie un tableau contenant les 30 premiers termes de la suite. Le dernier élément de ce tableau est $514\\,229$."
   ]
  },
  {
   "cell_type": "code",
   "execution_count": null,
   "metadata": {},
   "outputs": [],
   "source": [
    "def fibonacci_30():\n",
    "    a, b = 0, 1\n",
    "    fib = [a,b]\n",
    "    for _ in range(28):\n",
    "        a, b = b, a + b\n",
    "        fib.append(b)\n",
    "    return fib"
   ]
  },
  {
   "cell_type": "code",
   "execution_count": null,
   "metadata": {},
   "outputs": [],
   "source": [
    "assert (fibonacci_30())[-1] == 514229"
   ]
  },
  {
   "cell_type": "markdown",
   "metadata": {
    "slideshow": {
     "slide_type": "subslide"
    }
   },
   "source": [
    "### Tableau 4\n",
    "\n",
    "Écrire une fonction `copie(t)` qui prend en argument un tableau `t` et renvoie une copie de ce tableau (sans utiliser `list(...)`).\n",
    "\n",
    "Quelle expérience peut-on faire pour s'assurer qu'on ne s'est pas trompé ?"
   ]
  },
  {
   "cell_type": "code",
   "execution_count": null,
   "metadata": {},
   "outputs": [],
   "source": [
    "def copie(t):\n",
    "    nt = []\n",
    "    for v in t: # et si l'une des valeurs de t était une liste ou un type muable?\n",
    "        nt.append(v)\n",
    "    return nt"
   ]
  },
  {
   "cell_type": "code",
   "execution_count": null,
   "metadata": {},
   "outputs": [],
   "source": [
    "t = [1,2,3]\n",
    "nt = copie(t)\n",
    "nt.append(4)\n",
    "assert t == [1,2,3] and nt == [1,2,3,4]"
   ]
  },
  {
   "cell_type": "markdown",
   "metadata": {
    "slideshow": {
     "slide_type": "subslide"
    }
   },
   "source": [
    "### Tableau 5\n",
    "\n",
    "Écrire une fonction `ajout(v, t)` qui crée un nouveau tableau contenant d'abord tous les éléments de `t` puis `v`. Interdit d'utiliser l'opérateur `+`."
   ]
  },
  {
   "cell_type": "code",
   "execution_count": null,
   "metadata": {},
   "outputs": [],
   "source": [
    "def ajout(v, t):\n",
    "    nt = copie(t)\n",
    "    nt.append(v)\n",
    "    return nt"
   ]
  },
  {
   "cell_type": "code",
   "execution_count": null,
   "metadata": {},
   "outputs": [],
   "source": [
    "assert ajout(2, [1,3,7]) == [1,3,7,2]"
   ]
  },
  {
   "cell_type": "markdown",
   "metadata": {
    "slideshow": {
     "slide_type": "subslide"
    }
   },
   "source": [
    "### Tableau 6\n",
    "\n",
    "Écrire une fonction `concatenation(t1, t2)` qui crée un nouveau tableau contenant, dans l'ordre, tous les éléments de `t1` puis tous les éléments de `t2`. Interdit d'utiliser l'opérateur `+`."
   ]
  },
  {
   "cell_type": "code",
   "execution_count": null,
   "metadata": {},
   "outputs": [],
   "source": [
    "def concatenation(t1, t2):\n",
    "    nt = copie(t1)\n",
    "    for v in t2:\n",
    "        nt = ajout(v, nt)\n",
    "    retunr nt"
   ]
  },
  {
   "cell_type": "code",
   "execution_count": null,
   "metadata": {},
   "outputs": [],
   "source": [
    "assert concatenation([1,2,3], [4,5,6]) == [1,2,3,4,5,6]"
   ]
  },
  {
   "cell_type": "markdown",
   "metadata": {
    "slideshow": {
     "slide_type": "subslide"
    }
   },
   "source": [
    "### Tableau 7\n",
    "\n",
    "Écrire une fonction `echange(tab, i, j)` qui echange dans tableau `tab` les éléments d'index (indices) `i` et `j`."
   ]
  },
  {
   "cell_type": "code",
   "execution_count": null,
   "metadata": {},
   "outputs": [],
   "source": [
    "def echange(tab, i, j):\n",
    "    tmp = tab[i]\n",
    "    tab[i] = tab[j]\n",
    "    tab[j] = tmp"
   ]
  },
  {
   "cell_type": "code",
   "execution_count": null,
   "metadata": {},
   "outputs": [],
   "source": [
    "t = [1,2,3]\n",
    "echange(t, 1, 2)\n",
    "assert t == [1,3,2]"
   ]
  },
  {
   "cell_type": "markdown",
   "metadata": {
    "slideshow": {
     "slide_type": "subslide"
    }
   },
   "source": [
    "### Tableau 8\n",
    "\n",
    "1. Écrire une fonction `somme(tab)` qui calcule et renvoie la somme des éléments d'un tableau d'entiers.\n",
    "\n",
    "2. En déduire une fonction `moyenne(tab)` qui renvoie la moyenne des éléments du tableau `tab`, supposé non vide.\n",
    "\n",
    "3. Écrire une fonction `produit(tab)` qui renvoie le produit des éléments d'un tableau d'entiers. Si le tableau contient 0, la fonction devra renvoyer 0 sans terminer le parcours du tableau."
   ]
  },
  {
   "cell_type": "code",
   "execution_count": null,
   "metadata": {},
   "outputs": [],
   "source": [
    "def somme(tab):\n",
    "    s = 0\n",
    "    for v in tab:\n",
    "        s += v\n",
    "    return s"
   ]
  },
  {
   "cell_type": "code",
   "execution_count": null,
   "metadata": {},
   "outputs": [],
   "source": [
    "def moyenne(tab):\n",
    "    N = len(tab)\n",
    "    return somme(tab) / N"
   ]
  },
  {
   "cell_type": "code",
   "execution_count": null,
   "metadata": {},
   "outputs": [],
   "source": [
    "def produit(tab):\n",
    "    p = 1\n",
    "    for v in tab:\n",
    "        if v == 0: return 0\n",
    "        p *= v\n",
    "    return p"
   ]
  },
  {
   "cell_type": "code",
   "execution_count": null,
   "metadata": {},
   "outputs": [],
   "source": [
    "assert somme([1,2,3]) == 6\n",
    "assert moyenne([1,2,3]) == 2\n",
    "assert produit([2,3,4]) == 24\n",
    "assert produit([2,0,3,4]) == 0"
   ]
  },
  {
   "cell_type": "markdown",
   "metadata": {
    "slideshow": {
     "slide_type": "subslide"
    }
   },
   "source": [
    "### Tableau 9\n",
    "\n",
    "Écrire une fonction `miroir(tab)` qui reçoit un tableau en argument et le modifie pour échanger le premier élément avec le dernier élément, le second avec l'avant dernier, etc. (`reverse` interdit!).\n",
    "\n",
    "On pourra réutiliser la fonction `echange` d'un exercice précédent."
   ]
  },
  {
   "cell_type": "code",
   "execution_count": null,
   "metadata": {},
   "outputs": [],
   "source": [
    "def miroir(tab):\n",
    "    N = len(tab)\n",
    "    for i in range(N // 2):\n",
    "        # swap!\n",
    "        tmp = tab[i]\n",
    "        tab[i] = tab[N-1-i]\n",
    "        tab[N-1-i] = tmp"
   ]
  },
  {
   "cell_type": "code",
   "execution_count": null,
   "metadata": {},
   "outputs": [],
   "source": [
    "t1, t2 = [1,2,3], [1,2,3,4]\n",
    "miroir(t1)\n",
    "miroir(t2)\n",
    "assert t1 == [3,2,1]\n",
    "assert t2 == [4,3,2,1]"
   ]
  },
  {
   "cell_type": "markdown",
   "metadata": {
    "slideshow": {
     "slide_type": "subslide"
    }
   },
   "source": [
    "### Tableau 10\n",
    "\n",
    "Pour mélanger les éléments d'un tableau aléatoirement, il existe un algorithme très simple qui procède ainsi:\n",
    "\n",
    "On parcourt le tableau de la gauche vers la droite et, pour chaque élément de l'indice `i`, on l'échange avec un élément situé à un indice tiré aléatoirement entre 0 et `i` (inclus).\n",
    "\n",
    "Écrire une fonction `melange(tab)` qui réalise cet algorithme (connu sous le nom de *melange de Knuth*)"
   ]
  },
  {
   "cell_type": "code",
   "execution_count": null,
   "metadata": {},
   "outputs": [],
   "source": [
    "def melange(tab):\n",
    "    from random import randint\n",
    "    for i in range(len(tab)):\n",
    "        j = randint(0, i)\n",
    "        tmp = tab[i]\n",
    "        tab[i] = tab[j]\n",
    "        tab[j] = tmp\n",
    "\n",
    "t = [1,2,3,4,5]\n",
    "melange(t)\n",
    "t"
   ]
  },
  {
   "cell_type": "markdown",
   "metadata": {
    "slideshow": {
     "slide_type": "subslide"
    }
   },
   "source": [
    "### Tableau 11\n",
    "\n",
    "1. Écrire une fonction `prefixe(tab1, tab2)` qui renvoie `True` si le tableau `tab1` est un préfixe du tableau `tab2`, c'est-à-dire si le tableau `tab2` commence par les éléments du tableau `tab1` dans le même ordre.\n",
    "\n",
    "2. Similairement, écrire une fonction `suffixe(tab1, tab2)` qui renvoie `True` si le tableau `tab2` se termine par les éléments du tableau `tab1` dans le même ordre."
   ]
  },
  {
   "cell_type": "code",
   "execution_count": null,
   "metadata": {},
   "outputs": [],
   "source": [
    "def prefixe(tab1, tab2):\n",
    "    N1, N2 = len(tab1), len(tab2)\n",
    "    if N1 > N2: return False\n",
    "    for i in range(N1):\n",
    "        if tab1[i] != tab2[i]: return False\n",
    "    return True"
   ]
  },
  {
   "cell_type": "code",
   "execution_count": null,
   "metadata": {},
   "outputs": [],
   "source": [
    "assert prefixe([1,2], [1,2,3]) == True\n",
    "assert prefixe([1,2,3], [1,2]) == False\n",
    "assert prefixe([1,2,3], [1,2,4,3]) == False"
   ]
  },
  {
   "cell_type": "code",
   "execution_count": null,
   "metadata": {},
   "outputs": [],
   "source": [
    "def suffixe(tab1, tab2):\n",
    "    t1, t2 = copie(tab1), copie(tab2)\n",
    "    miroir(t1)\n",
    "    miroir(t2)\n",
    "    return prefixe(t1, t2)"
   ]
  },
  {
   "cell_type": "code",
   "execution_count": null,
   "metadata": {},
   "outputs": [],
   "source": [
    "assert suffixe([2,3], [1,2,3]) == True\n",
    "assert suffixe([3,1,2], [1,2]) == False\n",
    "assert suffixe([1,2,3], [0,1,2,2]) == False"
   ]
  },
  {
   "cell_type": "markdown",
   "metadata": {
    "slideshow": {
     "slide_type": "subslide"
    }
   },
   "source": [
    "### Tableau 12\n",
    "\n",
    "1. Écrire une fonction `hamming(tab1, tab2)` qui prend deux tableaux en arguments supposé de même taille, et qui renvoie le nombre d'indices auxquels les deux tableaux diffèrent.\n",
    "\n",
    "2. Même chose sans supposer que les tableaux ont la même taille. On considère qu'un indice auquel seul l'un des tableaux est défini compte pour une différence."
   ]
  },
  {
   "cell_type": "code",
   "execution_count": null,
   "metadata": {},
   "outputs": [],
   "source": [
    "def hamming1(tab1, tab2):\n",
    "    assert len(tab1) == len(tab2)\n",
    "    diff = 0\n",
    "    for i in range(len(tab1)):\n",
    "        if tab1[i] != tab2[i]: diff += 1\n",
    "    return diff"
   ]
  },
  {
   "cell_type": "code",
   "execution_count": null,
   "metadata": {},
   "outputs": [],
   "source": [
    "assert hamming1([1,2,3], [1,2,3]) == 0\n",
    "assert hamming1([1,2,3], [1,2,2]) == 1 \n",
    "assert hamming1([1,2,3], [2,2,2]) == 2 \n",
    "assert hamming1([1,2,3], [3,1,2]) == 3"
   ]
  },
  {
   "cell_type": "code",
   "execution_count": null,
   "metadata": {},
   "outputs": [],
   "source": [
    "def hamming2(tab1, tab2):\n",
    "    diff = 0\n",
    "    N1, N2 = len(tab1), len(tab2)\n",
    "    if N1 < N2:\n",
    "        return hamming1(tab1, tab2[:N1]) + (N2 - N1)\n",
    "    else:\n",
    "        return hamming1(tab1[:N2], tab2) + (N1 - N2)    "
   ]
  },
  {
   "cell_type": "code",
   "execution_count": null,
   "metadata": {},
   "outputs": [],
   "source": [
    "assert hamming2([1,2,3], [1,2,2,4]) == 2\n",
    "assert hamming2([1,2,2,4], [1,3,3]) == 3"
   ]
  }
 ],
 "metadata": {
  "celltoolbar": "Diaporama",
  "kernelspec": {
   "display_name": "Python 3",
   "language": "python",
   "name": "python3"
  },
  "language_info": {
   "codemirror_mode": {
    "name": "ipython",
    "version": 3
   },
   "file_extension": ".py",
   "mimetype": "text/x-python",
   "name": "python",
   "nbconvert_exporter": "python",
   "pygments_lexer": "ipython3",
   "version": "3.7.3"
  }
 },
 "nbformat": 4,
 "nbformat_minor": 4
}
