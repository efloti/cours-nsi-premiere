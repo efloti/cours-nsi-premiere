{
 "cells": [
  {
   "cell_type": "code",
   "execution_count": null,
   "metadata": {},
   "outputs": [],
   "source": [
    "# Préalables à l'utilisation de pytest dans un notebook\n",
    "\n",
    "# import sys\n",
    "# !{sys.executable} -m pip install pytest\n",
    "# !{sys.executable} -m pip install ipytest\n",
    "\n",
    "import ipytest.magics\n",
    "import pytest\n",
    "\n",
    "__file__ = '08_les_tests_partie1_correction.ipynb'"
   ]
  },
  {
   "cell_type": "markdown",
   "metadata": {},
   "source": [
    "# 1. Créer votre premier scénario de test\n",
    "Voici l'implémentation de la fonction `obtenir_les_multiples_de_cinq`. Votre mission est de créer un scénario de test pour vérifier que cette fonction fait bien ce qu'elle est censée faire.\n"
   ]
  },
  {
   "cell_type": "code",
   "execution_count": null,
   "metadata": {},
   "outputs": [],
   "source": [
    "def obtenir_les_multiples_de_cinq(nombres):\n",
    "    '''Retourne la liste des nombres qui sont divisibles par cinq dans la liste fournie en argument'''\n",
    "    resultat = []\n",
    "    for nb in nombres:\n",
    "        if not nb % 5:\n",
    "            resultat.append(nb)\n",
    "\n",
    "    return resultat"
   ]
  },
  {
   "cell_type": "code",
   "execution_count": null,
   "metadata": {},
   "outputs": [],
   "source": [
    "%%run_pytest[clean]\n",
    "\n",
    "def test_obtenir_les_multiples_de_cinq():\n",
    "    # 1. Définir variables ...Your implementation here\n",
    "    nbs1 = [0, 5, 10, 15]\n",
    "    nbs2 = [2, 15, -28, -10125]\n",
    "    \n",
    "    # 2. Appeler la fonction\n",
    "    res1 = obtenir_les_multiples_de_cinq(nbs1)\n",
    "    res2 = obtenir_les_multiples_de_cinq(nbs2)\n",
    "    \n",
    "    # 3. quelques assertions\n",
    "    assert res1 == nbs1\n",
    "    assert res2 == [nbs2[1], nbs2[-1]]"
   ]
  }
 ],
 "metadata": {
  "kernelspec": {
   "display_name": "Python 3",
   "language": "python",
   "name": "python3"
  },
  "language_info": {
   "codemirror_mode": {
    "name": "ipython",
    "version": 3
   },
   "file_extension": ".py",
   "mimetype": "text/x-python",
   "name": "python",
   "nbconvert_exporter": "python",
   "pygments_lexer": "ipython3",
   "version": "3.6.8"
  }
 },
 "nbformat": 4,
 "nbformat_minor": 4
}
