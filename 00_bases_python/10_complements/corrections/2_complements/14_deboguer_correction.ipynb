{
 "cells": [
  {
   "cell_type": "markdown",
   "metadata": {},
   "source": [
    "# 1. Identifier les bugs de ce code\n",
    "La fonction `sans_blanc_renverser_minuscule` qui suit contient au moins un bug. Vous pouvez vous en apercevoir en éxécutant la cellule qui teste les fonctionnalités de cette fonction.\n",
    "\n",
    "Placer un point d'arrêt au début de la fonction `sans_blanc_renverser_minuscule` et utiliser le débogueur pour résoudre le ou les bugs. Éxécuter le code ligne par ligne et afficher les variables utilisées dans la fonction pour comprendre ce qui ne va pas. "
   ]
  },
  {
   "cell_type": "code",
   "execution_count": null,
   "metadata": {},
   "outputs": [],
   "source": [
    "def sans_blanc_renverser_minuscule(original):\n",
    "    sans_blanc = original.strip()             # 1. `strip` à la place de `lstrip`\n",
    "    reversed_ = ''.join(reversed(sans_blanc)) # 2. `reversed` est prédéfinie -> astuce de l'underscore final\n",
    "                                              # 3. le séparateur est '' et non ' '  \n",
    "    minuscule = reversed_.lower()             # 4. ne pas oublier d'affecter le résultat de la méthode lower() à une variable.\n",
    "    return minuscule"
   ]
  },
  {
   "cell_type": "code",
   "execution_count": null,
   "metadata": {
    "editable": false
   },
   "outputs": [],
   "source": [
    "# Vérifions que cela fonctionnne\n",
    "original = ' \\n Chaine Originale '\n",
    "resultat = sans_blanc_renverser_minuscule(original)\n",
    "assert resultat == 'elanigiro eniahc'"
   ]
  }
 ],
 "metadata": {
  "kernelspec": {
   "display_name": "Python 3",
   "language": "python",
   "name": "python3"
  },
  "language_info": {
   "codemirror_mode": {
    "name": "ipython",
    "version": 3
   },
   "file_extension": ".py",
   "mimetype": "text/x-python",
   "name": "python",
   "nbconvert_exporter": "python",
   "pygments_lexer": "ipython3",
   "version": "3.6.8"
  }
 },
 "nbformat": 4,
 "nbformat_minor": 4
}
