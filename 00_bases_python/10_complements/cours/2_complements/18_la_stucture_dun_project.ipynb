{
 "cells": [
  {
   "cell_type": "markdown",
   "metadata": {},
   "source": [
    "# Project structure"
   ]
  },
  {
   "cell_type": "markdown",
   "metadata": {},
   "source": [
    "## Script Python\n",
    "Python est un très bon langage pour produire des petits outils pour différentes sorte de tachse. De tels outils peuvent souvent être produit à partir d'un simple fichier contenant votre script Python.\n",
    "\n",
    "Voici un exemple de ce à quoi ressemble ce genre de petit script Python (en l'occurence un module Python éxécutable)."
   ]
  },
  {
   "cell_type": "code",
   "execution_count": null,
   "metadata": {},
   "outputs": [],
   "source": [
    "# Le contenu de mon_script.py\n",
    "\n",
    "# Les imports\n",
    "import logging\n",
    "\n",
    "# Les constantes\n",
    "LOGGER = logging.getLogger()\n",
    "\n",
    "\n",
    "def fonction_magique():\n",
    "    LOGGER.warning('Nous sommes sur le point de faire des choses magiques')\n",
    "\n",
    "\n",
    "def main():\n",
    "    # La logique effective du script\n",
    "    fonction_magique()\n",
    "\n",
    "\n",
    "if __name__ == '__main__':\n",
    "    main()"
   ]
  },
  {
   "cell_type": "markdown",
   "metadata": {},
   "source": [
    "## Paquet - package - Python\n",
    "Un exemple d'organisation d'un projet Python:\n",
    "\n",
    "```\n",
    "mon_projet/\n",
    "    LISEZMOI.md\n",
    "    requirements.txt\n",
    "    setup.py\n",
    "    \n",
    "    src/\n",
    "        mon_projet/\n",
    "            __init__.py\n",
    "            mon_module.py\n",
    "            autre_module.py\n",
    "            \n",
    "            mon_paquet1/\n",
    "                __init__.py\n",
    "                mon_troisieme_module.py\n",
    "                \n",
    "    tests/\n",
    "        conftest.py\n",
    "        test_mon_module.py\n",
    "        test_autre_module.py\n",
    "        \n",
    "        mon_paquet1/\n",
    "            test_mon_troisieme_module.py\n",
    "\n",
    "```\n",
    "\n",
    "* [requirements.txt](https://pip.pypa.io/en/latest/user_guide/#requirements-files) liste les paquets Python dont mon_projet dépend.\n",
    "    * On peut l'installer en lançant la commande `pip install -r requirements`\n",
    "* [setup.py](https://packaging.python.org/tutorials/distributing-packages/#setup-py) est un fichier dans lequel vous renseignez quelques éléments d'informations importants à propos de votre projet. Ce fichier est aussi utilisé pour paqueter votre projet (pour le partager facilement). Voici un exemple minimal pour le fichier setup.py:\n",
    "\n",
    "```python\n",
    "'''fichier setup.py minimal'''\n",
    "\n",
    "from setuptools import setup, find_packages\n",
    "\n",
    "setup(\n",
    "    name='mon_projet',\n",
    "    version='0.1',\n",
    "    packages=find_packages(where=\"src\"),\n",
    "    package_dir={\"\": \"src\"})\n",
    "```\n",
    "* Une fois le fichier setup.py en place, vous pouvez installer votre projet en mode éditable en lançant `pip install -e .` dans le répertoire principal de votre projet. En mode éditable, la version installée est mise à jour au fur et à mesure lorsque vous modifiez le code source des fichiers."
   ]
  }
 ],
 "metadata": {
  "kernelspec": {
   "display_name": "Python 3",
   "language": "python",
   "name": "python3"
  },
  "language_info": {
   "codemirror_mode": {
    "name": "ipython",
    "version": 3
   },
   "file_extension": ".py",
   "mimetype": "text/x-python",
   "name": "python",
   "nbconvert_exporter": "python",
   "pygments_lexer": "ipython3",
   "version": "3.6.8"
  }
 },
 "nbformat": 4,
 "nbformat_minor": 4
}
