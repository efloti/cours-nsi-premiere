{
 "cells": [
  {
   "cell_type": "markdown",
   "metadata": {},
   "source": [
    "# 1. `if-elif-else`\n",
    "Compléter les parties manquantes (`____`) du code qui suit de façon que le message affiché fasse sens."
   ]
  },
  {
   "cell_type": "code",
   "execution_count": null,
   "metadata": {
    "editable": false
   },
   "outputs": [],
   "source": [
    "nom = 'John Doe'"
   ]
  },
  {
   "cell_type": "code",
   "execution_count": null,
   "metadata": {},
   "outputs": [],
   "source": [
    "if ____:\n",
    "    print(f'Nom \"{nom}\" fait plus de 20 caractères de long')\n",
    "    description_longueur = 'long'\n",
    "elif ____:\n",
    "    print(f'Nom \"{nom}\" fait plus de 15 caractères de long')\n",
    "    description_longueur = 'semi long'\n",
    "elif ____:\n",
    "    print(f'Nom \"{nom}\" fait plus de 10 caractères de long')\n",
    "    description_longueur = 'semi long'\n",
    "elif ____:\n",
    "    print(f'Nom \"{nom}\" a 8, 9 ou 10 caractères')\n",
    "    description_longueur = 'semi court'\n",
    "else:\n",
    "    print(f'Nom \"{nom}\" est un nom court')\n",
    "    description_longueur = 'court'"
   ]
  },
  {
   "cell_type": "code",
   "execution_count": null,
   "metadata": {
    "editable": false
   },
   "outputs": [],
   "source": [
    "assert description_longueur == 'semi court'"
   ]
  }
 ],
 "metadata": {
  "kernelspec": {
   "display_name": "Python 3",
   "language": "python",
   "name": "python3"
  },
  "language_info": {
   "codemirror_mode": {
    "name": "ipython",
    "version": 3
   },
   "file_extension": ".py",
   "mimetype": "text/x-python",
   "name": "python",
   "nbconvert_exporter": "python",
   "pygments_lexer": "ipython3",
   "version": "3.7.3"
  }
 },
 "nbformat": 4,
 "nbformat_minor": 4
}
