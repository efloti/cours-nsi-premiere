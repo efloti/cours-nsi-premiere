{
 "cells": [
  {
   "cell_type": "markdown",
   "metadata": {},
   "source": [
    "# Mémento Python"
   ]
  },
  {
   "cell_type": "markdown",
   "metadata": {},
   "source": [
    "## Chaîne de caractères - *str*"
   ]
  },
  {
   "cell_type": "markdown",
   "metadata": {},
   "source": [
    "`\"` ou `'`: délimiteurs ex: `test=\"ah d'accord\"`."
   ]
  },
  {
   "cell_type": "markdown",
   "metadata": {},
   "source": [
    "`\\n`, `\\t`, `\\'` ou `\\\"`: Saut de ligne, tabulation et désactivation d'un délimiteur ex: `\"c'est \\\"bon\\\"\"`."
   ]
  },
  {
   "cell_type": "markdown",
   "metadata": {},
   "source": [
    "`str.lower()` ou `str.upper()`: minuscule ou MAJUSCULE. "
   ]
  },
  {
   "cell_type": "markdown",
   "metadata": {},
   "source": [
    "`str.title()`: Première lettre de chaque mot en Majuscule."
   ]
  },
  {
   "cell_type": "markdown",
   "metadata": {},
   "source": [
    "`len(chaine)`: Nombre de caractères de `chaine`."
   ]
  },
  {
   "cell_type": "markdown",
   "metadata": {},
   "source": [
    "`str.format(var1, var2, ...)` ou `f\"...{var1}...{var2}...\"`: Formater c'est à dire insérer le contenu d'une ou plusieurs variables dans une chaîne:\n",
    "- ex1: `\"un {} trois {}\".format(2, 4.0)` produit `\"un 2 trois 4.0\"`\n",
    "- ex2: après `a=2` et `b=4.0`, `f\"un {a} deux {b}\"` produit `\"un 2 trois 4.0\"`"
   ]
  },
  {
   "cell_type": "markdown",
   "metadata": {},
   "source": [
    "`str.strip()`: Nettoyer les blancs aux extrémités ex: `\" \\t\\n cool   \\n\".strip()` donne `\"cool\"`."
   ]
  },
  {
   "cell_type": "markdown",
   "metadata": {},
   "source": [
    "`str.replace(<quoi>, <par_quoi>)`: remplace toutes les occurences de `<quoi>` par `<par_quoi>` ex: `\"aba\".replace(\"a\", \"c\")` donne `\"cbc\"`."
   ]
  },
  {
   "cell_type": "markdown",
   "metadata": {},
   "source": [
    "`str.split(<separateur>)`: Couper une chaîne en morceaux sur un séparateur ex: `\"un-deux- trois\".split(\"-\")` produit la liste `[\"un\", \"deux\", \" trois\"]`."
   ]
  },
  {
   "cell_type": "markdown",
   "metadata": {},
   "source": [
    "**Complément**: les chaînes - `str` - sont immuables, les opérations ne modifient pas la chaîne de base mais produisent le résultat désiré.\n",
    "- ex: `a=\"un\"` puis `a.upper()` produit `\"UN\"` mais la variable `a` n'a pas été modifiée, il faut donc faire une affectaction `b = a.upper()` pour utiliser le résultat."
   ]
  },
  {
   "cell_type": "markdown",
   "metadata": {},
   "source": [
    "## Nombres - `int`, `float`, `Decimal`\n",
    "\n",
    "`int` (entiers), `float` (flottants) et `Decimal` (décimaux).\n",
    "- Ne pas utiliser un test d'égalité avec les flottants `0.3 == 0.2 + 0.1` donne faux!!.\n",
    "- Pour ce genre de cas, utiliser des décimaux avec une chaîne: `Decimal(\"0.3\") == Decimal(\"0.2\") + Decimal(\"0.1\")` est correct (après l'import...).\n",
    "- Les décimaux nécéssite un import `from decimal import Decimal`."
   ]
  },
  {
   "cell_type": "markdown",
   "metadata": {},
   "source": [
    "`+`, `-`, `*`, `/`, `//` (division entière), `%` (reste de la division entière) et `**` (les puissances).\n",
    "\n",
    "Les priorités d'opérations sont celles des maths et on peut utiliser des `(`, `)`."
   ]
  },
  {
   "cell_type": "markdown",
   "metadata": {},
   "source": [
    "## Tests et branchement avec `if ...`"
   ]
  },
  {
   "cell_type": "markdown",
   "metadata": {},
   "source": [
    "### Les tests"
   ]
  },
  {
   "cell_type": "markdown",
   "metadata": {},
   "source": [
    "`True` ou `False`: Booléens - *bool* ; valeur produite par un test."
   ]
  },
  {
   "cell_type": "markdown",
   "metadata": {},
   "source": [
    "Conversion vers `bool`: \n",
    "- un nombre non nul, un «conteneur» non vide est convertit en `True`\n",
    "    - `bool([1, 2])` vaut `True`\n",
    "- un nombre nul, un conteneur vide est convertit en `False`:\n",
    "    - ex: `bool(\"\")` vaut `False`.\n",
    " "
   ]
  },
  {
   "cell_type": "markdown",
   "metadata": {},
   "source": [
    "`==` identique, `!=` différent, `<` strictement inférieur, `<=` inférieur ou égal, `>` et `>=`: opérateurs de comparaison\n",
    "- ex: `2 != 2` vaut `False`."
   ]
  },
  {
   "cell_type": "markdown",
   "metadata": {},
   "source": [
    "`not` (négation), `and` (et logique), `or` (ou logique): Pour combiner des tests: \n",
    "- `not <test>`: vrai si `<test>` est faux et vice versa\n",
    "- `<test1> and <test2>`: vrai ssi les deux tests sont vrais.\n",
    "- `<test1> or <test2>`: vrai ssi au moins l'un des deux tests est vrai."
   ]
  },
  {
   "cell_type": "markdown",
   "metadata": {},
   "source": [
    "### Instruction de branchement (ou sélection)"
   ]
  },
  {
   "cell_type": "markdown",
   "metadata": {},
   "source": [
    "- Forme simple:\n",
    "\n",
    "```\n",
    "if <test>:\n",
    "    <à faire si test vrai>\n",
    "<fait dans tous les cas>\n",
    "```"
   ]
  },
  {
   "cell_type": "markdown",
   "metadata": {},
   "source": [
    "- Forme double:\n",
    "\n",
    "```\n",
    "if <test>:\n",
    "    <à faire si test vrai>\n",
    "else:\n",
    "    <à faire si test faux>\n",
    "<fait dans tous les cas>\n",
    "```"
   ]
  },
  {
   "cell_type": "markdown",
   "metadata": {},
   "source": [
    "- Forme complète:\n",
    "\n",
    "```\n",
    "if <test1>:\n",
    "    <à faire si test1 vrai>\n",
    "elif <test2>:\n",
    "    <à faire si test1 faux mais test2 vrai>\n",
    "elif <test3>:\n",
    "    <à faire si les deux premiers échouent mais test3 vrai>\n",
    "...\n",
    "```"
   ]
  },
  {
   "cell_type": "markdown",
   "metadata": {},
   "source": [
    "## Listes - `list`"
   ]
  },
  {
   "cell_type": "markdown",
   "metadata": {},
   "source": [
    "### créaction d'une liste"
   ]
  },
  {
   "cell_type": "markdown",
   "metadata": {},
   "source": [
    "- Vide -> `liste = []`  \n",
    "- Remplie -> `liste = [valeur0, valeur1, ...]`"
   ]
  },
  {
   "cell_type": "markdown",
   "metadata": {},
   "source": [
    "### accéder aux valeurs"
   ]
  },
  {
   "cell_type": "markdown",
   "metadata": {},
   "source": [
    "- `liste[0]` montre la premiere valeur de la liste; `liste[1]` la seconde etc.  \n",
    "\n",
    "note: `valeur in liste`: test si valeur est dans liste"
   ]
  },
  {
   "cell_type": "markdown",
   "metadata": {},
   "source": [
    "### modifier/supprimer"
   ]
  },
  {
   "cell_type": "markdown",
   "metadata": {},
   "source": [
    "ma liste est `['a','b','c']`.\n",
    "- `liste[2] = 'f'`: je change le \"c\" en \"f\"\n",
    "- `del liste[1]` ou `liste.remove('b')` : Pour supprimer le \"b\"\n",
    "- `liste.reverse()`: Pour inverser l'ordre des valeurs "
   ]
  },
  {
   "cell_type": "markdown",
   "metadata": {},
   "source": [
    "### dupliquer ou cloner une liste"
   ]
  },
  {
   "cell_type": "markdown",
   "metadata": {},
   "source": [
    "`liste2 = list(liste1)`: liste2 est un clone de la liste1, modifier liste2 ne modifie pas liste1"
   ]
  },
  {
   "cell_type": "markdown",
   "metadata": {},
   "source": [
    "### ajouter un élément à la fin d'une liste"
   ]
  },
  {
   "cell_type": "markdown",
   "metadata": {},
   "source": [
    "`liste.append(element)` ajouter \"element\" à la fin de liste."
   ]
  },
  {
   "cell_type": "markdown",
   "metadata": {},
   "source": [
    "### Fusionner les listes:\n",
    "- `liste1.extend(liste2)` ou `liste1 += liste2` modifie liste1 en insérant à la fin les éléments de liste2  \n",
    "- `<liste1+2> = liste1 + liste2` créer une nouvelle liste (liste1+2) avec la liste1 et la liste2 réunies"
   ]
  },
  {
   "cell_type": "markdown",
   "metadata": {},
   "source": [
    "### Trier\n",
    "\n",
    "- `liste.sort()` trier dans l'ordre croissant les valeurs de \"liste\"; \n",
    "- `liste.sort(reverse=True)` trier dans l'ordre décroissant les valeurs  \n",
    "- `sorted(liste)` créer une nouvelle liste avec les valeurs triées"
   ]
  },
  {
   "cell_type": "markdown",
   "metadata": {},
   "source": [
    "## Dictionnaires - `dict`"
   ]
  },
  {
   "cell_type": "markdown",
   "metadata": {},
   "source": [
    "Un dictionnaire se représente sous la forme `{}`; Il contient des clés auquelles sont associées des valeurs `cle: valeur`."
   ]
  },
  {
   "cell_type": "markdown",
   "metadata": {},
   "source": [
    "### création d'un dictionnaire"
   ]
  },
  {
   "cell_type": "markdown",
   "metadata": {},
   "source": [
    "- vide: `nom_dict={}`\n",
    "- remplie:`nom_dict = {'cle1': valeur1, 'cle2': valeur2, ...}` ou encore `nom_dict = dict(cle1=valeur1, cle2=valeur2, ...)`"
   ]
  },
  {
   "cell_type": "markdown",
   "metadata": {},
   "source": [
    "Les clés doivent être *immuables*, ex: une *chaîne*, un *entier*, un *tuple* mais pas une *list* ...\n",
    "\n",
    "Les valeurs associées sont arbitraires: on peut mettre une *list* ou ... un dictionnaire *dict*!"
   ]
  },
  {
   "cell_type": "markdown",
   "metadata": {},
   "source": [
    "### récupérer/obtenir - *get*"
   ]
  },
  {
   "cell_type": "markdown",
   "metadata": {},
   "source": [
    "- la **valeur** associée  une clé:\n",
    "    - `mon_dict[cle]` si cle existe, renvoie la valeur associée sinon produit une erreur!\n",
    "    - `dict.get(cle[, valeur_secours])` idem mais si cle n'est pas dedans, renvoie valeur_secours ou `None` si elle n'est pas précisée.\n",
    "    - `dict.pop(cle)` renvoie la valeur associée à cle tout en supprimant la paire \"cle: valeur\" du dictionnaire; erreur si cle n'existe pas!"
   ]
  },
  {
   "cell_type": "markdown",
   "metadata": {},
   "source": [
    "- une **liste** de:\n",
    "    - `dict.values()` toutes les *valeurs* du dictionnaire\n",
    "    - `dict.keys()` toutes les *clés* du dictionnaire\n",
    "    - `<dict>.items()` toutes les *paires (clé, valeur)* du dictionnaire"
   ]
  },
  {
   "cell_type": "markdown",
   "metadata": {},
   "source": [
    "### ajouter/modifier - *set*"
   ]
  },
  {
   "cell_type": "markdown",
   "metadata": {},
   "source": [
    "- `nom_dict[cle] = <nouvelle_valeur>`: si 'cle' existe modifie la valeur associée, sinon crée la paire `cle: <nouvelle valeur>`\n",
    "- `nom_dict.setdefault(cle[, valeur])`: si 'cle' existe déjà ne fait rien, sinon ajoute la paire `cle: valeur` ou `cle: None` si valeur n'est pas précisé. \n",
    "- `dict1.update(dict2)`: ajoute toutes les paires `cle: valeur` de dict2 à dict1; si un clé est commune, c'est la valeur du deuxième dictionnaire qui est attribuée."
   ]
  },
  {
   "cell_type": "markdown",
   "metadata": {},
   "source": [
    "### supprimer"
   ]
  },
  {
   "cell_type": "markdown",
   "metadata": {},
   "source": [
    "`del nomdict[cle]` supprime 'cle' et la valeur associée (voir aussi `dict.pop(cle)`). Erreur si 'cle' n'existe pas!"
   ]
  },
  {
   "cell_type": "markdown",
   "metadata": {},
   "source": [
    "### cloner"
   ]
  },
  {
   "cell_type": "markdown",
   "metadata": {},
   "source": [
    "`nouveau_dict = dict(ancien_dict)` les valeurs modifiées dans le nouveau dictionnaire ne le sont pas dans l'ancien."
   ]
  },
  {
   "cell_type": "markdown",
   "metadata": {},
   "source": [
    "## Boucles `for`"
   ]
  },
  {
   "cell_type": "markdown",
   "metadata": {},
   "source": [
    "Sert à parcourir un «conteneur» comme une `list`, un `dict`, un `range` ou autre (essayez avec une `str`!). Syntaxe générale:\n",
    "\n",
    "    for <variable> in <conteneur>:\n",
    "        <corps de la boucle>"
   ]
  },
  {
   "cell_type": "markdown",
   "metadata": {},
   "source": [
    "Le `<corp de la boucle>` est répété et, à chaque répétition, `<variable>` correspond à un *élément* différent du conteneur."
   ]
  },
  {
   "cell_type": "markdown",
   "metadata": {},
   "source": [
    "Le nombre d'éléments de `<conteneur>` est exactement le nombre de répétitions (par défaut)."
   ]
  },
  {
   "cell_type": "markdown",
   "metadata": {},
   "source": [
    "### avec une `list`"
   ]
  },
  {
   "cell_type": "markdown",
   "metadata": {},
   "source": [
    "- `for elt in liste:`: à chaque «tour» \"elt\" désigne un nouvel élément de \"liste\"\n",
    "- `for i, elt in enumerate(liste):` énumération; à chaque «tour» \"i\" contient la position (*index*) de \"elt\""
   ]
  },
  {
   "cell_type": "markdown",
   "metadata": {},
   "source": [
    "### avec un `dict`"
   ]
  },
  {
   "cell_type": "markdown",
   "metadata": {},
   "source": [
    "- `for cle in dict:` à chaque «tour», \"cle\" est une nouvelle clé de \"dict\"; on peut s'en servir pour récupérer la valeur associée `dict[cle]`.\n",
    "- `for cle, val in dict.items():` à chaque «tour», on récupère une nouvelle \"cle\" et *sa* \"val\"eur.\n",
    "- `for val in dict.values():` à chaque «tour», on récupère une des \"val\"eurs (mais non la clé)."
   ]
  },
  {
   "cell_type": "markdown",
   "metadata": {},
   "source": [
    "### avec un `range`"
   ]
  },
  {
   "cell_type": "markdown",
   "metadata": {},
   "source": [
    "    for i in range(...):\n",
    "        ..."
   ]
  },
  {
   "cell_type": "markdown",
   "metadata": {},
   "source": [
    "- `range(N)`: sorte de liste contenant \"N\" valeurs: `[0,1,2,...,N-1]` (\"N\" **exclu**)\n",
    "- `range(N1,N2)` sorte de liste `[N1,N1+1,...,N2-1]` (de \"N1\" inclus jusqu'à \"N2\" **exclus**)\n",
    "- `range(N1,N2,pas)` idem mais avec un «pas» ou «saut» autre que 1: `[N1,N1+pas,...]`"
   ]
  },
  {
   "cell_type": "markdown",
   "metadata": {},
   "source": [
    "**Note**: sert souvent à parcourir *tout* ou *partie* d'une **séquence** c'est à dire d'un conteneur dont les éléments sont numérotés ex: `list`, `str`, ...)."
   ]
  },
  {
   "cell_type": "markdown",
   "metadata": {},
   "source": [
    "### ruptures avec `break` et `continue`"
   ]
  },
  {
   "cell_type": "markdown",
   "metadata": {},
   "source": [
    "- `break`: quitter la boucle immédiatement\n",
    "- `continue`: passer au «tour» suivant immédiatement"
   ]
  },
  {
   "cell_type": "markdown",
   "metadata": {},
   "source": [
    "## Fonction"
   ]
  },
  {
   "cell_type": "markdown",
   "metadata": {},
   "source": [
    "Un algorithme **reçoit** (*in*) des *données* (*datas*) et **renvoie** (*out*) un *résultat*.\n",
    "\n",
    "Une fonction sert à «enfermer» un *algorithme* par l'intermédiaire d'un **nom** afin de pouvoir l'invoquer (*l'appeler*)."
   ]
  },
  {
   "cell_type": "markdown",
   "metadata": {},
   "source": [
    "### définition"
   ]
  },
  {
   "cell_type": "markdown",
   "metadata": {},
   "source": [
    "    def nom_de_ma_fonction(<par1>, <par2>, ...):\n",
    "        \"\"\"\n",
    "        documentation (docstring)\n",
    "        \"\"\"\n",
    "        \n",
    "        <corps de ma fonction ...\n",
    "        return <mon_resultat>\n",
    "        ...>"
   ]
  },
  {
   "cell_type": "markdown",
   "metadata": {},
   "source": [
    "- **in - entre les parenthèses**: on mets un ou plusieurs *paramètres* (de simples noms) qui servent à récupérer les *données* (ou *arguments*) à transmettre à l'algorithme.\n",
    "- **out - return**: mot clé suivi de la variable qui contient le résultat final de l'algorithme; a pour effet de «quitter» la fonction."
   ]
  },
  {
   "cell_type": "markdown",
   "metadata": {},
   "source": [
    "### utilisation: appel de la fonction\n",
    "\n",
    "    resultat = nom_de_ma_fonction(<donné1>, <donné2>, ...)"
   ]
  },
  {
   "cell_type": "markdown",
   "metadata": {},
   "source": [
    "- **Entre les parenthèses**: les données fournie à l'algorithme («enfermé» dans la fonction)\n",
    "    - \"par1\" reçoit \"donné1\", \"par2\" reçoit \"donné2\" etc\n",
    "    - les noms \"par1\", \"par2\" ne sont utiles qu'à l'intérieur du corps de la fonction.\n",
    "- La variable \"resultat\" reçoit la **valeur renvoyée** par la fonction (voir `return`)."
   ]
  },
  {
   "cell_type": "markdown",
   "metadata": {},
   "source": [
    "#### arguments nommés \n",
    "    \n",
    "    resultat = nom_de_ma_fonction(<par1>=<donné1>, <par2>=<donné2>, ...)\n",
    "\n",
    "est utile pour fournir les données dans l'ordre que l'on veut; l'association se fait sur le nom plutôt que sur la position."
   ]
  },
  {
   "cell_type": "markdown",
   "metadata": {},
   "source": [
    "### valeur par défaut\n",
    "\n",
    "    def nom_de_ma_fonction(<par1>, <par2>=valeur_par_defaut)\n",
    "        ...\n",
    "\n",
    "si, lors de l'appel, on ne fourni pas d'argument pour \"par2\", il prend la valeur \"valeur_par_defaut\".\n",
    "    "
   ]
  },
  {
   "cell_type": "markdown",
   "metadata": {},
   "source": [
    "### instruction `pass`\n",
    "\n",
    "`pass`: ne rien faire\n",
    "\n",
    "Sert comme «bouche trou» pour le corps de la fonction: lorsqu'on ne sait pas encore quoi écrire! (voir les tests et les classes)"
   ]
  }
 ],
 "metadata": {
  "kernelspec": {
   "display_name": "Python 3",
   "language": "python",
   "name": "python3"
  },
  "language_info": {
   "codemirror_mode": {
    "name": "ipython",
    "version": 3
   },
   "file_extension": ".py",
   "mimetype": "text/x-python",
   "name": "python",
   "nbconvert_exporter": "python",
   "pygments_lexer": "ipython3",
   "version": "3.7.3"
  },
  "toc": {
   "base_numbering": 1,
   "nav_menu": {},
   "number_sections": true,
   "sideBar": true,
   "skip_h1_title": true,
   "title_cell": "Table des matières",
   "title_sidebar": "Contenu",
   "toc_cell": false,
   "toc_position": {},
   "toc_section_display": true,
   "toc_window_display": false
  },
  "varInspector": {
   "cols": {
    "lenName": 16,
    "lenType": 16,
    "lenVar": 40
   },
   "kernels_config": {
    "python": {
     "delete_cmd_postfix": "",
     "delete_cmd_prefix": "del ",
     "library": "var_list.py",
     "varRefreshCmd": "print(var_dic_list())"
    },
    "r": {
     "delete_cmd_postfix": ") ",
     "delete_cmd_prefix": "rm(",
     "library": "var_list.r",
     "varRefreshCmd": "cat(var_dic_list()) "
    }
   },
   "types_to_exclude": [
    "module",
    "function",
    "builtin_function_or_method",
    "instance",
    "_Feature"
   ],
   "window_display": false
  }
 },
 "nbformat": 4,
 "nbformat_minor": 4
}
