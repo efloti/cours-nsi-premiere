{
 "cells": [
  {
   "cell_type": "markdown",
   "metadata": {},
   "source": [
    "# [Les Listes](https://docs.python.org/3/library/stdtypes.html#lists)"
   ]
  },
  {
   "cell_type": "code",
   "execution_count": null,
   "metadata": {},
   "outputs": [],
   "source": [
    "ma_liste_vide = []\n",
    "print('liste vide: {}, type: {}'.format(ma_liste_vide, type(ma_liste_vide)))"
   ]
  },
  {
   "cell_type": "code",
   "execution_count": null,
   "metadata": {},
   "outputs": [],
   "source": [
    "liste_entiers = [1, 2, 6, 7]\n",
    "liste_heterogene = [0.2, 5, 'Python', 'est', 'toujours marrant', '!']\n",
    "print('longueurs: {} et {}'.format(len(liste_entiers), len(liste_heterogene)))"
   ]
  },
  {
   "cell_type": "markdown",
   "metadata": {},
   "source": [
    "## Accéder aux valeurs"
   ]
  },
  {
   "cell_type": "code",
   "execution_count": null,
   "metadata": {},
   "outputs": [],
   "source": [
    "ma_liste = ['Python', 'est', 'toujours', 'cool']\n",
    "print(ma_liste[0])\n",
    "print(ma_liste[3])"
   ]
  },
  {
   "cell_type": "code",
   "execution_count": null,
   "metadata": {},
   "outputs": [],
   "source": [
    "coordonnees = [[12.0, 13.3], [0.6, 18.0], [88.0, 1.1]]  # en 2D\n",
    "print(f'première localisation: {coordonnees[0]}')\n",
    "print(f'ordonnée (y) de cette première localisation: {coordonnees[0][1]}')"
   ]
  },
  {
   "cell_type": "markdown",
   "metadata": {},
   "source": [
    "## Modifier les valeurs"
   ]
  },
  {
   "cell_type": "code",
   "execution_count": null,
   "metadata": {},
   "outputs": [],
   "source": [
    "ma_liste = [0, 1, 2, 3, 4, 5]\n",
    "ma_liste[0] = 99\n",
    "print(ma_liste)\n",
    "\n",
    "# supprimer la première valeur\n",
    "del ma_liste[0]\n",
    "print(ma_liste)"
   ]
  },
  {
   "cell_type": "markdown",
   "metadata": {},
   "source": [
    "## Vérifier si une certaine valeur est présente dans la liste"
   ]
  },
  {
   "cell_type": "code",
   "execution_count": null,
   "metadata": {},
   "outputs": [],
   "source": [
    "langages = ['Java', 'C++', 'Go', 'Python', 'JavaScript']\n",
    "if 'Python' in langages:\n",
    "    print('Python est là!')"
   ]
  },
  {
   "cell_type": "code",
   "execution_count": null,
   "metadata": {},
   "outputs": [],
   "source": [
    "if 6 not in [1, 2, 3, 7]:\n",
    "    print(\"le nombre 6 n'est pas présent\")"
   ]
  },
  {
   "cell_type": "markdown",
   "metadata": {},
   "source": [
    "## Les listes sont muables (*mutable*)"
   ]
  },
  {
   "cell_type": "code",
   "execution_count": null,
   "metadata": {},
   "outputs": [],
   "source": [
    "originale = [1, 2, 3]\n",
    "modifiee = originale\n",
    "modifiee[0] = 99\n",
    "print(f'liste originale: {originale}, liste modifiée: {modifiee}')"
   ]
  },
  {
   "cell_type": "markdown",
   "metadata": {},
   "source": [
    "Vous pouvez contourner ce problème en réalisant une copie:"
   ]
  },
  {
   "cell_type": "code",
   "execution_count": null,
   "metadata": {},
   "outputs": [],
   "source": [
    "originale = [1, 2, 3]\n",
    "modifiee = list(originale)  # Noter list(...) \n",
    "# Alternativement, en utilisant la méthode `list.copy()`\n",
    "# modifiee = originale.copy()\n",
    "modifiee[0] = 99\n",
    "print(f'liste originale: {originale}, liste modifiée: {modifiee}')"
   ]
  },
  {
   "cell_type": "markdown",
   "metadata": {},
   "source": [
    "## Ajout en fin de liste: `list.append()`"
   ]
  },
  {
   "cell_type": "code",
   "execution_count": null,
   "metadata": {},
   "outputs": [],
   "source": [
    "ma_liste = [1]\n",
    "ma_liste.append('jambon')\n",
    "print(ma_liste)"
   ]
  },
  {
   "cell_type": "markdown",
   "metadata": {},
   "source": [
    "## Suppression d'une valeur `list.remove(<valeur>)`"
   ]
  },
  {
   "cell_type": "code",
   "execution_count": null,
   "metadata": {},
   "outputs": [],
   "source": [
    "ma_liste = ['Python', 'est', 'parfois', 'marrant']\n",
    "ma_liste.remove('parfois')\n",
    "print(ma_liste)\n",
    "\n",
    "# Si vous n'êtes pas sûr que la valeur est dans la liste, mieux vaut vérifier:\n",
    "if 'Java' in ma_liste:\n",
    "    ma_liste.remove('Java')\n",
    "else:\n",
    "    print('Java ne fait pas partie de cette histoire.')"
   ]
  },
  {
   "cell_type": "markdown",
   "metadata": {},
   "source": [
    "## Trier: `list.sort()`"
   ]
  },
  {
   "cell_type": "code",
   "execution_count": null,
   "metadata": {},
   "outputs": [],
   "source": [
    "nombres = [8, 1, 6, 5, 10]\n",
    "nombres.sort()\n",
    "print(f\"nombres dans l'ordre croissant: {nombres}\")\n",
    "\n",
    "nombres.sort(reverse=True)\n",
    "print(f\"nombres dans l'ordre décroissant: {nombres}\")\n",
    "\n",
    "mots = ['ceci', 'est', 'une', 'liste', 'de', 'mots']\n",
    "mots.sort()\n",
    "print(f'mots: {mots}')"
   ]
  },
  {
   "cell_type": "markdown",
   "metadata": {},
   "source": [
    "## Trier (encore): `sorted(<list>)`\n",
    "Alors que `list.sort()` trie la liste «en place», `sorted(<list>)` produit une nouvelle liste sans modifier l'originale:"
   ]
  },
  {
   "cell_type": "code",
   "execution_count": null,
   "metadata": {},
   "outputs": [],
   "source": [
    "nombres = [8, 1, 6, 5, 10]\n",
    "nombres_tries = sorted(nombres)\n",
    "print(f'nombres: {nombres}, nombres triés: {nombres_tries}')"
   ]
  },
  {
   "cell_type": "markdown",
   "metadata": {},
   "source": [
    "## Fusion de listes: `list.extend(<list>)`"
   ]
  },
  {
   "cell_type": "code",
   "execution_count": null,
   "metadata": {},
   "outputs": [],
   "source": [
    "liste_1 = ['boeuf', 'jambon']\n",
    "liste_2 = ['patates', 1 , 3]\n",
    "liste_1.extend(liste_2)\n",
    "print(f'première: {liste_1}, deuxième: {liste_2}')"
   ]
  },
  {
   "cell_type": "markdown",
   "metadata": {},
   "source": [
    "Alternativement, vous pouvez étendre une liste en lui ajoutant la seconde:"
   ]
  },
  {
   "cell_type": "code",
   "execution_count": null,
   "metadata": {},
   "outputs": [],
   "source": [
    "premiere = [1, 2, 3]\n",
    "seconde = [4, 5]\n",
    "premiere += seconde  # même chose que: premiere = premiere + seconde\n",
    "print(f'premiere: {premiere}')\n",
    "\n",
    "# Si vous avez besoin d'une nouvelle liste\n",
    "bout_a_bout = premiere + seconde\n",
    "print(f'bout à bout: {bout_a_bout}')"
   ]
  },
  {
   "cell_type": "markdown",
   "metadata": {},
   "source": [
    "## Premier, tu seras dernier: `list.reverse()`"
   ]
  },
  {
   "cell_type": "code",
   "execution_count": null,
   "metadata": {},
   "outputs": [],
   "source": [
    "a_faire = ['travailler', 'se détendre', 'voir les potos']\n",
    "a_faire.reverse()\n",
    "print(a_faire)"
   ]
  },
  {
   "cell_type": "markdown",
   "metadata": {},
   "source": [
    "# Exercices"
   ]
  },
  {
   "cell_type": "markdown",
   "metadata": {},
   "source": [
    "## 1. Compléter les portions manquantes\n",
    "Compléter les portions `____` du code ci-dessous."
   ]
  },
  {
   "cell_type": "code",
   "execution_count": null,
   "metadata": {},
   "outputs": [],
   "source": [
    "# Créons une liste vide\n",
    "ma_liste = ____\n",
    "\n",
    "# Ajoutons lui quelques valeurs\n",
    "ma_liste.____('Python')\n",
    "ma_liste.____('est cool')\n",
    "ma_liste.____('parfois')\n",
    "\n",
    "# Supprimons 'parfois' ...\n",
    "ma_liste.____('parfois')\n",
    "\n",
    "# Modifions le deuxième item\n",
    "ma_liste[____] = 'est clair'"
   ]
  },
  {
   "cell_type": "code",
   "execution_count": null,
   "metadata": {
    "editable": false
   },
   "outputs": [],
   "source": [
    "# Vérifions que c'est correcte\n",
    "assert ma_liste == ['Python', 'est clair']"
   ]
  },
  {
   "cell_type": "markdown",
   "metadata": {},
   "source": [
    "### Solution"
   ]
  },
  {
   "cell_type": "code",
   "execution_count": null,
   "metadata": {
    "jupyter": {
     "source_hidden": true
    }
   },
   "outputs": [],
   "source": [
    "# Créons une liste vide\n",
    "ma_liste = []\n",
    "\n",
    "# Ajoutons lui quelques valeurs\n",
    "ma_liste.append('Python')\n",
    "ma_liste.append('est cool')\n",
    "ma_liste.append('parfois')\n",
    "\n",
    "# Supprimons 'parfois' ...\n",
    "ma_liste.remove('parfois')\n",
    "\n",
    "# Modifions le deuxième item\n",
    "ma_liste[1] = 'est clair'"
   ]
  },
  {
   "cell_type": "markdown",
   "metadata": {},
   "source": [
    "## 2. Créer une nouvelle liste sans modifier l'originale\n"
   ]
  },
  {
   "cell_type": "code",
   "execution_count": null,
   "metadata": {
    "editable": false
   },
   "outputs": [],
   "source": [
    "originale = [\"J'\", 'apprends', 'à devenir', 'un «hacker»', 'en ...']"
   ]
  },
  {
   "cell_type": "code",
   "execution_count": null,
   "metadata": {},
   "outputs": [],
   "source": [
    "# À toi de jouer\n",
    "modifiee = "
   ]
  },
  {
   "cell_type": "code",
   "execution_count": null,
   "metadata": {
    "editable": false
   },
   "outputs": [],
   "source": [
    "assert originale == [\"J'\", 'apprends', 'à devenir', 'un «hacker»', 'en ...']\n",
    "assert modifiee == [\"J'\", 'apprends', 'les', 'listes', 'en ...', 'Python']"
   ]
  },
  {
   "cell_type": "markdown",
   "metadata": {},
   "source": [
    "### Solution"
   ]
  },
  {
   "cell_type": "code",
   "execution_count": null,
   "metadata": {
    "jupyter": {
     "source_hidden": true
    }
   },
   "outputs": [],
   "source": [
    "# À toi de jouer\n",
    "modifiee = list(originale)\n",
    "modifiee[2] = 'les'\n",
    "modifiee[3] = 'listes'\n",
    "modifiee.append('Python')\n",
    "modifiee"
   ]
  },
  {
   "cell_type": "markdown",
   "metadata": {},
   "source": [
    "## 3. Créer une liste en fusionner/trier"
   ]
  },
  {
   "cell_type": "code",
   "execution_count": null,
   "metadata": {
    "editable": false
   },
   "outputs": [],
   "source": [
    "list1 = [6, 12, 5]\n",
    "list2 = [6.2, 0, 14, 1]\n",
    "list3 = [0.9]"
   ]
  },
  {
   "cell_type": "code",
   "execution_count": null,
   "metadata": {},
   "outputs": [],
   "source": [
    "# À toi de jouer\n",
    "ma_liste = "
   ]
  },
  {
   "cell_type": "code",
   "execution_count": null,
   "metadata": {
    "editable": false,
    "scrolled": true
   },
   "outputs": [],
   "source": [
    "print(ma_liste)\n",
    "assert ma_liste == [14, 12, 6.2, 6, 5, 1, 0.9, 0]"
   ]
  },
  {
   "cell_type": "markdown",
   "metadata": {},
   "source": [
    "### Solution"
   ]
  },
  {
   "cell_type": "code",
   "execution_count": null,
   "metadata": {
    "jupyter": {
     "source_hidden": true
    }
   },
   "outputs": [],
   "source": [
    "# À toi de jouer\n",
    "ma_liste = list1 + list2 + list3\n",
    "ma_liste.sort()\n",
    "ma_liste.reverse()"
   ]
  }
 ],
 "metadata": {
  "kernelspec": {
   "display_name": "Python 3",
   "language": "python",
   "name": "python3"
  },
  "language_info": {
   "codemirror_mode": {
    "name": "ipython",
    "version": 3
   },
   "file_extension": ".py",
   "mimetype": "text/x-python",
   "name": "python",
   "nbconvert_exporter": "python",
   "pygments_lexer": "ipython3",
   "version": "3.7.3"
  },
  "toc-showcode": false,
  "toc-showmarkdowntxt": false
 },
 "nbformat": 4,
 "nbformat_minor": 4
}
