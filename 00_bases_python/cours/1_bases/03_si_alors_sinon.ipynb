{
 "cells": [
  {
   "cell_type": "markdown",
   "metadata": {
    "toc-hr-collapsed": false
   },
   "source": [
    "# Conditions et structures conditionnelles"
   ]
  },
  {
   "cell_type": "markdown",
   "metadata": {
    "toc-hr-collapsed": false
   },
   "source": [
    "## Construire des conditions"
   ]
  },
  {
   "cell_type": "markdown",
   "metadata": {},
   "source": [
    "### Booléens - `bool`"
   ]
  },
  {
   "cell_type": "code",
   "execution_count": 1,
   "metadata": {},
   "outputs": [
    {
     "name": "stdout",
     "output_type": "stream",
     "text": [
      "type de True et False: <class 'bool'>\n"
     ]
    }
   ],
   "source": [
    "print(f'type de True et False: {type(True)}')"
   ]
  },
  {
   "cell_type": "code",
   "execution_count": 2,
   "metadata": {},
   "outputs": [
    {
     "name": "stdout",
     "output_type": "stream",
     "text": [
      "0 est convertit en: {bool(0)}, 1 en: {bool(1)}\n"
     ]
    }
   ],
   "source": [
    "print(f'0 est convertit en: {bool(0)}, 1 en: {bool(1)}')"
   ]
  },
  {
   "cell_type": "code",
   "execution_count": 5,
   "metadata": {},
   "outputs": [
    {
     "name": "stdout",
     "output_type": "stream",
     "text": [
      "une liste vide est convertit en: False, une liste non vide en: True\n"
     ]
    }
   ],
   "source": [
    "print(f'une liste vide est convertit en: {bool([])}, une liste non vide en: {bool([\"woop\"])}')"
   ]
  },
  {
   "cell_type": "code",
   "execution_count": 6,
   "metadata": {},
   "outputs": [
    {
     "name": "stdout",
     "output_type": "stream",
     "text": [
      "un dictionnaire vide est convertit en: False, un dictionnaire non vide en: True\n"
     ]
    }
   ],
   "source": [
    "print('un dictionnaire vide est convertit en: {}, un dictionnaire non vide en: {}'.format(bool({}), bool({'Python': 'cool'})))"
   ]
  },
  {
   "cell_type": "markdown",
   "metadata": {},
   "source": [
    "### Opérateurs de comparaison `==, !=, >, <, >=, <=`"
   ]
  },
  {
   "cell_type": "code",
   "execution_count": null,
   "metadata": {},
   "outputs": [],
   "source": [
    "print('1 == 0: {}'.format(1 == 0))\n",
    "print('1 != 0: {}'.format(1 != 0))\n",
    "print('1 > 0: {}'.format(1 > 0))\n",
    "print('1 > 1: {}'.format(1 > 1))\n",
    "print('1 < 0: {}'.format(1 < 0))\n",
    "print('1 < 1: {}'.format(1 < 1))\n",
    "print('1 >= 0: {}'.format(1 >= 0))\n",
    "print('1 >= 1: {}'.format(1 >= 1))\n",
    "print('1 <= 0: {}'.format(1 <= 0))\n",
    "print('1 <= 1: {}'.format(1 <= 1))"
   ]
  },
  {
   "cell_type": "markdown",
   "metadata": {},
   "source": [
    "Vous pouvez les combiner:"
   ]
  },
  {
   "cell_type": "code",
   "execution_count": null,
   "metadata": {},
   "outputs": [],
   "source": [
    "print('1 <= 2 <= 3: {}'.format(1 <= 2 <= 3))"
   ]
  },
  {
   "cell_type": "markdown",
   "metadata": {},
   "source": [
    "### Combiner: Et, Ou, Non - `and, or, not`"
   ]
  },
  {
   "cell_type": "code",
   "execution_count": null,
   "metadata": {},
   "outputs": [],
   "source": [
    "python_est_cool = True\n",
    "java_est_cool = False\n",
    "liste_vide = []\n",
    "valeur_secrete = 3.14"
   ]
  },
  {
   "cell_type": "code",
   "execution_count": null,
   "metadata": {},
   "outputs": [],
   "source": [
    "print(f'«Python et java sont tous les deux cools» c\\'est: {python_est_cool and java_est_cool}')"
   ]
  },
  {
   "cell_type": "code",
   "execution_count": null,
   "metadata": {},
   "outputs": [],
   "source": [
    "print(f'«valeur_secrete et python_est_cool» c\\'est: {valeur_secrete and python_est_cool}')"
   ]
  },
  {
   "cell_type": "code",
   "execution_count": null,
   "metadata": {},
   "outputs": [],
   "source": [
    "print(f'«Python ou java est cool» c\\est: {python_est_cool or java_est_cool}')"
   ]
  },
  {
   "cell_type": "code",
   "execution_count": null,
   "metadata": {},
   "outputs": [],
   "source": [
    "print('1 est supérieur ou égal à 1,1 ou 2 est strictement inférieur à float(\"1.4\"): {}'.format(\n",
    "        1 >= 1.1 or 2 < float('1.4')\n",
    "    )\n",
    ")"
   ]
  },
  {
   "cell_type": "code",
   "execution_count": null,
   "metadata": {},
   "outputs": [],
   "source": [
    "print(f\"Java n'est pas cool: {not java_est_cool}\")"
   ]
  },
  {
   "cell_type": "markdown",
   "metadata": {},
   "source": [
    "Vous pouvez combiner autant de tests que vous le désirer, l'ordre d'évaluation va de la gauche vers la droite. Vous pouvez controler cela en utilisant des parenthèses."
   ]
  },
  {
   "cell_type": "code",
   "execution_count": null,
   "metadata": {},
   "outputs": [],
   "source": [
    "print(\n",
    "    bool(\n",
    "        not java_est_cool or valeur_secrete and  python_est_cool or liste_vide\n",
    "    )\n",
    ")\n",
    "print(bool(not (java_est_cool or valeur_secrete and  python_est_cool or liste_vide)))"
   ]
  },
  {
   "cell_type": "markdown",
   "metadata": {
    "toc-hr-collapsed": false
   },
   "source": [
    "## Structures conditionnelles"
   ]
  },
  {
   "cell_type": "markdown",
   "metadata": {},
   "source": [
    "### Si -`if`"
   ]
  },
  {
   "cell_type": "code",
   "execution_count": null,
   "metadata": {},
   "outputs": [],
   "source": [
    "test = True\n",
    "if test:\n",
    "    print('test est True')\n",
    "    \n",
    "if not test:\n",
    "    print(\"test n'est pas True\"SinonSi)"
   ]
  },
  {
   "cell_type": "code",
   "execution_count": null,
   "metadata": {},
   "outputs": [],
   "source": [
    "liste_vide = []\n",
    "# Avec -if- et aussi -elif-, la conversion en booleen -`bool` est implicite\n",
    "if liste_vide:\n",
    "    print(\"Une liste vide n'est pas évaluer à True\")  # ne sera pas éxécuté ..."
   ]
  },
  {
   "cell_type": "code",
   "execution_count": null,
   "metadata": {},
   "outputs": [],
   "source": [
    "val = 3\n",
    "if 0 <= val < 1 or val == 3:\n",
    "    print('val est positive et inférieure à 1, ou elle vaut exactement 3')"
   ]
  },
  {
   "cell_type": "markdown",
   "metadata": {},
   "source": [
    "### Si-Autrement: `if-else`"
   ]
  },
  {
   "cell_type": "code",
   "execution_count": null,
   "metadata": {},
   "outputs": [],
   "source": [
    "mon_dictionnaire = {}\n",
    "if mon_dictionnaire:\n",
    "    print('il y a quelquechose dans mon dictionnaire')\n",
    "else:\n",
    "    print('mon dictionnaire est vide :(')"
   ]
  },
  {
   "cell_type": "markdown",
   "metadata": {},
   "source": [
    "### Si-SinonSi-Autrement:`if-elif-else`"
   ]
  },
  {
   "cell_type": "code",
   "execution_count": null,
   "metadata": {},
   "outputs": [],
   "source": [
    "val = 88\n",
    "if val >= 100:\n",
    "    print('val est inférieure ou égale à 100')\n",
    "elif val > 10:\n",
    "    print('val est strictement supérieur à 10 mais inférieure à 100')\n",
    "else:\n",
    "    print('val est inférieure ou égale à 10')"
   ]
  },
  {
   "cell_type": "markdown",
   "metadata": {},
   "source": [
    "Vous pouvez avoir autant de `elif` que vous le souhaitez. De plus, `else` à la fin est optionnel."
   ]
  },
  {
   "cell_type": "code",
   "execution_count": null,
   "metadata": {},
   "outputs": [],
   "source": [
    "salutation = 'Salut camarades de la Pythonista!'\n",
    "langage = 'Français'\n",
    "\n",
    "if langage == 'Suédois':\n",
    "    salutation = 'Hejsan!'\n",
    "elif langage == 'Finlandais':\n",
    "    salutation = 'Latua perkele!'\n",
    "elif langage == 'Espagnol':\n",
    "    salutation = 'Hola!'\n",
    "elif langage == 'Allemand':\n",
    "    salutation = 'Guten Tag!'\n",
    "    \n",
    "print(salutation)"
   ]
  },
  {
   "cell_type": "markdown",
   "metadata": {},
   "source": [
    "Pour en savoir davantage à propos des structures conditionelles, jetez un oeil à ce site (en anglais) [tutorial from Real Python](https://realpython.com/python-conditional-statements/)."
   ]
  }
 ],
 "metadata": {
  "kernelspec": {
   "display_name": "Python 3",
   "language": "python",
   "name": "python3"
  },
  "language_info": {
   "codemirror_mode": {
    "name": "ipython",
    "version": 3
   },
   "file_extension": ".py",
   "mimetype": "text/x-python",
   "name": "python",
   "nbconvert_exporter": "python",
   "pygments_lexer": "ipython3",
   "version": "3.6.8"
  }
 },
 "nbformat": 4,
 "nbformat_minor": 4
}
