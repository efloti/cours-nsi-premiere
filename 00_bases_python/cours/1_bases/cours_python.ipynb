{
 "cells": [
  {
   "cell_type": "markdown",
   "metadata": {
    "slideshow": {
     "slide_type": "slide"
    }
   },
   "source": [
    "# Python: les fondamentaux"
   ]
  },
  {
   "cell_type": "markdown",
   "metadata": {
    "slideshow": {
     "slide_type": "slide"
    }
   },
   "source": [
    "## Données prédéfinies, types et opérations basiques"
   ]
  },
  {
   "cell_type": "markdown",
   "metadata": {
    "slideshow": {
     "slide_type": "fragment"
    }
   },
   "source": [
    "### Types simples: `str` - `int` - `float` - `bool` - `tuple` - `NoneType`"
   ]
  },
  {
   "cell_type": "markdown",
   "metadata": {
    "slideshow": {
     "slide_type": "fragment"
    }
   },
   "source": [
    "Tous ces types sont **immuables** (*immutable*)"
   ]
  },
  {
   "cell_type": "markdown",
   "metadata": {
    "slideshow": {
     "slide_type": "subslide"
    }
   },
   "source": [
    "#### Chaînes de caractères - *string* - `str` - `\"..\"` ou `'..'`"
   ]
  },
  {
   "cell_type": "code",
   "execution_count": 1,
   "metadata": {
    "slideshow": {
     "slide_type": "fragment"
    }
   },
   "outputs": [
    {
     "data": {
      "text/plain": [
       "(str, 13)"
      ]
     },
     "execution_count": 1,
     "metadata": {},
     "output_type": "execute_result"
    }
   ],
   "source": [
    "bonjour = \"Salut à tous!\" # ou 'Salut à tous'\n",
    "bonjour[0], bonjour[1], bonjour[2], bonjour[-1] # -> 'S', 'a', '!'\n",
    "bonjour.upper(), bonjour.lower(), bonjour.split() # -> 'SALUT À TOUS!', 'salut à tous!', ['Salut', 'à', 'tous!']\n",
    "bonjour + \" et toutes!\" # -> 'Salut à tous! et toutes!'\n",
    "type(bonjour), len(bonjour) # -> str, 13"
   ]
  },
  {
   "cell_type": "markdown",
   "metadata": {
    "slideshow": {
     "slide_type": "subslide"
    }
   },
   "source": [
    "#### Numériques: entiers `int` et flottant `float`"
   ]
  },
  {
   "cell_type": "code",
   "execution_count": null,
   "metadata": {
    "slideshow": {
     "slide_type": "fragment"
    }
   },
   "outputs": [],
   "source": [
    "a = 1 # type int\n",
    "b = -1.0 # type float\n",
    "c = 1.9e-5 # float en notation scientifique 1,9x10^(-5)\n",
    "a * b + c # float\n",
    "int(c), float(a) # -> 0, 1.0"
   ]
  },
  {
   "cell_type": "markdown",
   "metadata": {
    "slideshow": {
     "slide_type": "subslide"
    }
   },
   "source": [
    "#### Logique: booléens `bool` - `True` ou `False`"
   ]
  },
  {
   "cell_type": "code",
   "execution_count": null,
   "metadata": {
    "slideshow": {
     "slide_type": "fragment"
    }
   },
   "outputs": [],
   "source": [
    "ok = False\n",
    "not ok # -> True\n",
    "type(ok) # -> bool"
   ]
  },
  {
   "cell_type": "markdown",
   "metadata": {
    "slideshow": {
     "slide_type": "subslide"
    }
   },
   "source": [
    "#### n-uplet ou `tuple` - `(<premier>, <second>, ...)`"
   ]
  },
  {
   "cell_type": "code",
   "execution_count": null,
   "metadata": {
    "slideshow": {
     "slide_type": "fragment"
    }
   },
   "outputs": [],
   "source": [
    "vide = ()\n",
    "position = (-2, 5) # ou position = -2, 5\n",
    "x, y = position\n",
    "x, y # -> (-2, 5)\n",
    "type(position), len(position) # -> tuple, 2"
   ]
  },
  {
   "cell_type": "markdown",
   "metadata": {
    "slideshow": {
     "slide_type": "subslide"
    }
   },
   "source": [
    "#### Absence de valeur: `NoneType` - `None`"
   ]
  },
  {
   "cell_type": "code",
   "execution_count": null,
   "metadata": {
    "slideshow": {
     "slide_type": "fragment"
    }
   },
   "outputs": [],
   "source": [
    "reponse = None"
   ]
  },
  {
   "cell_type": "markdown",
   "metadata": {
    "slideshow": {
     "slide_type": "slide"
    }
   },
   "source": [
    "### Types construits `list` - `dict` - `set`"
   ]
  },
  {
   "cell_type": "markdown",
   "metadata": {
    "slideshow": {
     "slide_type": "fragment"
    }
   },
   "source": [
    "Tous ces types sont **muables** (*mutable*) - voir partie «*Affectation*»"
   ]
  },
  {
   "cell_type": "markdown",
   "metadata": {
    "slideshow": {
     "slide_type": "subslide"
    }
   },
   "source": [
    "#### Les listes (ou tableaux) `list` - `[<premier>, <second>, ...]` et les `range`"
   ]
  },
  {
   "cell_type": "markdown",
   "metadata": {
    "slideshow": {
     "slide_type": "fragment"
    }
   },
   "source": [
    "Regroupe des données de type arbitraire appelées **items** de la liste.\n",
    "\n",
    "Chaque *item* possède un numéro d'ordre appelé **index** ou indice: le premier a l'index 0, le second l'index 1 etc."
   ]
  },
  {
   "cell_type": "code",
   "execution_count": null,
   "metadata": {
    "slideshow": {
     "slide_type": "fragment"
    }
   },
   "outputs": [],
   "source": [
    "ds = [\"un\", 2, 3.0, False, None, [1, \"deux\"]]\n",
    "ds[0], ds[3], ds[-1], ds[-1][1] # -> \"un\", False, [1, \"deux\"] et \"deux\"\n",
    "len(ds) # -> 6\n",
    "vide = [] # liste vide\n",
    "vide.append(\"truc\") # vide est modifiée et vaut ['truc']\n",
    "autre = vide + ['bidulle'] # vide n'est pas modifiée et autre vaut ['truc', 'bidulle']"
   ]
  },
  {
   "cell_type": "markdown",
   "metadata": {},
   "source": [
    "Ajoutons à cette catégorie les `range` qui sont des listes optimisées; `range` attend 1, 2 ou 3 arguments entiers (type `int`).\n",
    "\n",
    "- **très souvent utilisé**: `range(10)` correspond à `[0,1,2,...,9]` (10 premiers entiers); `range(100)` à `[0,1,...,99]` (100 premiers entiers).\n",
    "   \n",
    "   *généralisation*: `range(N)` correspond ainsi à `[0,1,..,N-2,N-1]` (`N` premiers entiers); les index des éléments d'une liste de longueur `N`...\n",
    "- **assez souvent**: `range(20,30)` correpond à `[20,21,..,29]` (30-20=10 entiers à partir de 20)\n",
    "\n",
    "   *généralisation*: `range(a,b)` (lire `a` inclus, `b` exclus) correspond à `[a, a+1, ..., b-2, b-1]` (b-a entiers à partir de a).\n",
    "- **moins souvent**: `range(a,b,pas)` correspond à `[a, a+pas, a+2*pas, ...]` et le dernier entier est strictement inférieur à `b`."
   ]
  },
  {
   "cell_type": "code",
   "execution_count": null,
   "metadata": {},
   "outputs": [],
   "source": [
    "type(range(10)), list(range(10)), list(range(20,30)), list(range(20,30,3))"
   ]
  },
  {
   "cell_type": "markdown",
   "metadata": {
    "slideshow": {
     "slide_type": "subslide"
    }
   },
   "source": [
    "#### Les dictionnaires `dict` - `{<cle1>: <val1>, <cle2>: <val2>, ...}`"
   ]
  },
  {
   "cell_type": "markdown",
   "metadata": {
    "slideshow": {
     "slide_type": "fragment"
    }
   },
   "source": [
    "Regroupe des *paires* `clé: valeur`: \n",
    "- la **clé** doit-être *unique* (dans le dictionnaire) et *immuable*,\n",
    "- la **valeur** associée est une donnée arbitraire (même une liste ou ... un dictionnaire!)"
   ]
  },
  {
   "cell_type": "code",
   "execution_count": null,
   "metadata": {
    "slideshow": {
     "slide_type": "fragment"
    }
   },
   "outputs": [],
   "source": [
    "cvs = {} # dictionnaire vide\n",
    "cvs[\"nom\"] = \"jean Trucmuche\"\n",
    "cvs[\"age\"] = 25\n",
    "cvs[\"celibataire\"] = False\n",
    "cvs[\"sports\"] = [\"tennis\", \"course à pied\"]\n",
    "cvs # -> {\"nom\": \"jean Trucmuche\", \"age\": 25, \"celibataire\": False, \"sports\": [\"tennis, \"course à pied\"]}\n",
    "len(cvs) # -> 4"
   ]
  },
  {
   "cell_type": "markdown",
   "metadata": {
    "slideshow": {
     "slide_type": "subslide"
    }
   },
   "source": [
    "#### Les ensembles `set` - `{<item1>, <item2>, ...}`"
   ]
  },
  {
   "cell_type": "markdown",
   "metadata": {
    "slideshow": {
     "slide_type": "fragment"
    }
   },
   "source": [
    "Regroupe des valeurs *immuables* et qui ne **peuvent pas se répéter**."
   ]
  },
  {
   "cell_type": "code",
   "execution_count": null,
   "metadata": {
    "slideshow": {
     "slide_type": "fragment"
    }
   },
   "outputs": [],
   "source": [
    "ens_vide = set()\n",
    "ens = {1,2,1,3}\n",
    "ens, type(ens) # -> {1, 2, 3}, set\n",
    "ens.add(2)\n",
    "ens # -> {1, 2, 3}\n",
    "ens.remove(1)\n",
    "ens, type(ens) # -> {2, 3}, set"
   ]
  },
  {
   "cell_type": "markdown",
   "metadata": {
    "slideshow": {
     "slide_type": "slide"
    }
   },
   "source": [
    "### Type fonction `function` - `def ...` ou `lambda ...`"
   ]
  },
  {
   "cell_type": "markdown",
   "metadata": {
    "slideshow": {
     "slide_type": "fragment"
    }
   },
   "source": [
    "Nous les reverrons plus tard ... mais voici deux exemples simples"
   ]
  },
  {
   "cell_type": "code",
   "execution_count": null,
   "metadata": {
    "slideshow": {
     "slide_type": "subslide"
    }
   },
   "outputs": [],
   "source": [
    "# forme habituelle de la déclaration\n",
    "def carre1(x):\n",
    "    return x ** 2\n",
    "\n",
    "# «micro-fonction»\n",
    "carre2 = lambda x: x ** 2\n",
    "\n",
    "carre1(5), carre2(5)"
   ]
  },
  {
   "cell_type": "markdown",
   "metadata": {
    "slideshow": {
     "slide_type": "fragment"
    }
   },
   "source": [
    "les «micros fonctions» ressemblent à celles qu'on trouvent basiquement en mathématique avec la notation flèchée:\n",
    "$$\\text{carre2}: x\\mapsto x^2$$\n",
    "où $\\mapsto$ est remplacé par `:` et $:$ par `= lambda`"
   ]
  },
  {
   "cell_type": "markdown",
   "metadata": {
    "slideshow": {
     "slide_type": "subslide"
    }
   },
   "source": [
    "#### Fonctions prédéfinies *built-in*"
   ]
  },
  {
   "cell_type": "markdown",
   "metadata": {
    "slideshow": {
     "slide_type": "fragment"
    }
   },
   "source": [
    "ce sont les fonctions que python connaît par défaut; elles sont *built-in* (construite directement dans Python).\n",
    "\n",
    "Voici les plus utiles: \n",
    "\n",
    "- `str(..)`, `int(..)`, `float(..)`, `bool(..)`, `tuple(..)`, `list(..)`, `dict(..)`, `set(..)`: convertisse la valeur fournie dans le type indiqué par leur nom; on parle de **constructeurs**.\n",
    "- `len(<str ou list ou dict ou set>)` renvoie le nombre d'items contenus dans l'argument,\n",
    "- `print(..)`: affiche la ou les valeurs fournies en argument,\n",
    "- `input(<message>)`: affiche message et attend que l'utilisateur saisisse une réponse; elle renvoie une `str` qui contient la réponse de l'utilisateur,\n",
    "- **à explorer vous-même**: `min(..)`, `max(..)`, `sum(..)`, `round(..)`, `sorted(..)`, `abs(..)`, `format(..)`, `range(..)`, `enumerate(..)`, `type(..)` (les plus courantes au début) ... etc."
   ]
  },
  {
   "cell_type": "code",
   "execution_count": 1,
   "metadata": {},
   "outputs": [
    {
     "name": "stdout",
     "output_type": "stream",
     "text": [
      "Bonjour, quel âge as-tu? 5\n",
      "<class 'str'>\n"
     ]
    },
    {
     "data": {
      "text/plain": [
       "'Anniversaire!! tu as maintenant 6 ans!'"
      ]
     },
     "execution_count": 1,
     "metadata": {},
     "output_type": "execute_result"
    }
   ],
   "source": [
    "# un exemple pour input\n",
    "message = \"Bonjour, quel âge as-tu? \"\n",
    "reponse = input(message)\n",
    "print(type(reponse))\n",
    "age = int(reponse)\n",
    "f'Anniversaire!! tu as maintenant {age+1} ans!'"
   ]
  },
  {
   "cell_type": "markdown",
   "metadata": {
    "slideshow": {
     "slide_type": "slide"
    }
   },
   "source": [
    "## Affectation - `<variable> = <valeur ou expression>`"
   ]
  },
  {
   "cell_type": "markdown",
   "metadata": {
    "slideshow": {
     "slide_type": "fragment"
    }
   },
   "source": [
    "**variable**: mot arbitraire (sans espace); sert à se référer à une donnée."
   ]
  },
  {
   "cell_type": "markdown",
   "metadata": {
    "slideshow": {
     "slide_type": "fragment"
    }
   },
   "source": [
    "**expression**: tout ce qui produit une *valeur*: \n",
    "- *ex*: `2 + (3 * 5)`; `len(\"affectation\")`, etc."
   ]
  },
  {
   "cell_type": "markdown",
   "metadata": {},
   "source": [
    "IMPORTANT: il faut bien différencier **expression** (produit une valeur), **instruction** (produit un effet sans avoir de valeur)"
   ]
  },
  {
   "cell_type": "markdown",
   "metadata": {
    "slideshow": {
     "slide_type": "fragment"
    }
   },
   "source": [
    "L'instruction d'**affectation** - `<var> = <expr>` - sert à *mémoriser une valeur* et à s'*y référer* par la suite.\n"
   ]
  },
  {
   "cell_type": "markdown",
   "metadata": {
    "slideshow": {
     "slide_type": "subslide"
    }
   },
   "source": [
    "*Exemple*:\n",
    "```python\n",
    "une_var = len('affectaction')\n",
    "```\n",
    "\n",
    "Cette instruction est lue de **droite à gauche**:"
   ]
  },
  {
   "cell_type": "markdown",
   "metadata": {
    "slideshow": {
     "slide_type": "fragment"
    }
   },
   "source": [
    "1. L'expression de droite est *évaluée et remplacée* par sa **valeur**,\n",
    "    - 'expr' qui est ici `len('affectation')` est remplacé par sa valeur: `11`"
   ]
  },
  {
   "cell_type": "markdown",
   "metadata": {
    "slideshow": {
     "slide_type": "fragment"
    }
   },
   "source": [
    "2. cette valeur est *mémorisée* et son emplacement en mémoire est «étiqueté» avec le mot situé à gauche de `=`,\n",
    "    - `11` est placé dans une case mémoire marquée avec 'var', ici le mot `ma_var`"
   ]
  },
  {
   "cell_type": "markdown",
   "metadata": {
    "slideshow": {
     "slide_type": "fragment"
    }
   },
   "source": [
    "3. si la variable existe déjà, la valeur écrase celle qui était présente en mémoire.\n",
    "    - l'instruction `ma_variable = 0` a pour effet d'écraser la valeur `11` avec la valeur `0` à l'emplacement mémoire `ma_var`  "
   ]
  },
  {
   "cell_type": "markdown",
   "metadata": {
    "slideshow": {
     "slide_type": "subslide"
    }
   },
   "source": [
    "**Type d'une variable**: c'est le type de la valeur à laquelle elle donne accès. \n",
    "\n",
    "*IMPORTANT*: Il est d'usage d'éviter qu'une variable change de type au cours d'un programme."
   ]
  },
  {
   "cell_type": "markdown",
   "metadata": {
    "slideshow": {
     "slide_type": "slide"
    }
   },
   "source": [
    "### Compléments sur l'affectation"
   ]
  },
  {
   "cell_type": "markdown",
   "metadata": {
    "slideshow": {
     "slide_type": "subslide"
    }
   },
   "source": [
    "#### notion de mémoire"
   ]
  },
  {
   "cell_type": "markdown",
   "metadata": {
    "slideshow": {
     "slide_type": "fragment"
    }
   },
   "source": [
    "Penser à la mémoire comme à un meuble composé de **cases**:\n",
    "\n",
    "- «à l'extérieur»: chaque *case* possède un **numéro** (son *adresse*) et peut être **étiquetée**.\n",
    "- «à l'intérieur»: chaque *case* peut *contenir* une **valeur simple**, *une seule*! (ainsi que son type)\n",
    "\n"
   ]
  },
  {
   "cell_type": "markdown",
   "metadata": {
    "slideshow": {
     "slide_type": "subslide"
    }
   },
   "source": [
    "Plus précisément, il y a deux cas:\n",
    "\n",
    "1. Pour `a = <valeur simple>` la variable se référe **directement** à la valeur situé dans la case étiquetée `a`."
   ]
  },
  {
   "cell_type": "code",
   "execution_count": null,
   "metadata": {
    "slideshow": {
     "slide_type": "fragment"
    }
   },
   "outputs": [],
   "source": [
    "a = 5\n",
    "b = a\n",
    "b = 2\n",
    "a, b # -> 5, 2 # a n'a pas changé de valeur..."
   ]
  },
  {
   "cell_type": "markdown",
   "metadata": {
    "slideshow": {
     "slide_type": "subslide"
    }
   },
   "source": [
    "2. Pour `a = <valeur construite>` la variable se réfère **indirectement** à la valeur; la case `a` contient en fait l'**adresse** (ou *référence*) de la première valeur simple contenu dans 'valeur construite'.\n",
    "\n",
    "   Le cas 2 est le plus délicat à comprendre; voici un exemple:"
   ]
  },
  {
   "cell_type": "code",
   "execution_count": null,
   "metadata": {
    "slideshow": {
     "slide_type": "fragment"
    }
   },
   "outputs": [],
   "source": [
    "a = [1, 2]\n",
    "b = a\n",
    "b.append(5)\n",
    "a, b"
   ]
  },
  {
   "cell_type": "markdown",
   "metadata": {
    "slideshow": {
     "slide_type": "fragment"
    }
   },
   "source": [
    "Le résultat s'explique car l'affectation `b = a` **copie le contenu** de la case `a` dans la case `b` ..."
   ]
  },
  {
   "cell_type": "markdown",
   "metadata": {
    "slideshow": {
     "slide_type": "subslide"
    }
   },
   "source": [
    "**Mais** la case `a` contient en fait l'**adresse** de la liste `[1, 2]` et NON *la liste elle-même* (qui ne tient pas dans une case)."
   ]
  },
  {
   "cell_type": "markdown",
   "metadata": {
    "slideshow": {
     "slide_type": "fragment"
    }
   },
   "source": [
    "Ainsi la case `b` contient à présent la **même adresse** et `b.append(5) = 3` ajoute à la **même liste** la valeur 5."
   ]
  },
  {
   "cell_type": "markdown",
   "metadata": {
    "slideshow": {
     "slide_type": "fragment"
    }
   },
   "source": [
    "Finalement, `a` se réfère encore à cette liste donc `a == [1, 2, 5]`"
   ]
  },
  {
   "cell_type": "markdown",
   "metadata": {
    "slideshow": {
     "slide_type": "fragment"
    }
   },
   "source": [
    "*Pourquoi en est-il ainsi?*: la *taille mémoire* (nombre de cases) de la liste peut être **modifiée** ... car une liste est *muable*! "
   ]
  },
  {
   "cell_type": "markdown",
   "metadata": {
    "slideshow": {
     "slide_type": "subslide"
    }
   },
   "source": [
    "#### Multi-affectation"
   ]
  },
  {
   "cell_type": "markdown",
   "metadata": {
    "slideshow": {
     "slide_type": "fragment"
    }
   },
   "source": [
    "l'instruction `a, b = <val1>, <val2>` attribut à la variable `a` la valeur 'val1' et à `b` la valeur 'val2'.\n",
    "\n",
    "Cette syntaxe se généralise pourvu qu'il y ait **autant de variables à gauche que de valeurs à droites**"
   ]
  },
  {
   "cell_type": "markdown",
   "metadata": {
    "slideshow": {
     "slide_type": "subslide"
    }
   },
   "source": [
    "#### Opérateurs raccourcis `<op>=`: `+=`, `-=`, `*=` ..."
   ]
  },
  {
   "cell_type": "markdown",
   "metadata": {
    "slideshow": {
     "slide_type": "fragment"
    }
   },
   "source": [
    "l'instruction `a += <val>` est un raccourci pour l'affectation `a = a + <val>`.\n",
    "\n",
    "Cela fonctionne pour tous les opérateurs arithmétiques avec la même logique.* \n",
    "\n",
    "**Retenir**: \n",
    "- **incrémenter** une variable signifie lui ajouter 1 - `a = a + 1 ou a += 1`\n",
    "- **décrémenter** une variable signifie lui enlever 1 - `a = a - 1 ou a -= 1`\n",
    "\n",
    "*Note*: lire `a /= 2` par «la valeur de `a` est divisée par 2»"
   ]
  },
  {
   "cell_type": "markdown",
   "metadata": {
    "slideshow": {
     "slide_type": "slide"
    }
   },
   "source": [
    "## Opérations sur les données\n",
    "\n",
    "Les opérations dépendent du type des données; on peut dire que le **type d'une donnée** caractérise à la fois:\n",
    "- la donnée elle-même,\n",
    "- mais aussi les opérations qu'elle supporte.\n",
    "\n",
    "**En bref**: type == donnée + opérations!"
   ]
  },
  {
   "cell_type": "markdown",
   "metadata": {
    "slideshow": {
     "slide_type": "subslide"
    }
   },
   "source": [
    "#### Opérateurs arithmétiques - `+`, `-`, `*`, `/`, `**`, `//`, `%`"
   ]
  },
  {
   "cell_type": "markdown",
   "metadata": {
    "slideshow": {
     "slide_type": "fragment"
    }
   },
   "source": [
    "`**`: exponentiation (puissance); ex: `3 ** 2` vaut `9`"
   ]
  },
  {
   "cell_type": "markdown",
   "metadata": {
    "slideshow": {
     "slide_type": "fragment"
    }
   },
   "source": [
    "`//`: division entière; ex: «dans 32 combien de fois 5?» `32 // 5` vaut `6`"
   ]
  },
  {
   "cell_type": "markdown",
   "metadata": {
    "slideshow": {
     "slide_type": "fragment"
    }
   },
   "source": [
    "`%`: modulo ou reste de la division entière; ex: «Dans la division de 32 par 5 que reste-t-il?» `32 % 5` (se lit 32 modulo 5) vaut 2; "
   ]
  },
  {
   "cell_type": "markdown",
   "metadata": {
    "slideshow": {
     "slide_type": "subslide"
    }
   },
   "source": [
    "#### Opérateurs de comparaisons - `==`, `!=`, `<`, `<=`, `>`, `>=`, `in`\n",
    "\n",
    "Produisent un booléen: `True` ou `False`.\n",
    "\n",
    "`==` identique ?; `!=` différent ?; `<` strictement inférieur?; etc.\n",
    "\n",
    "`<valeur> in <chaine ou liste ou ...>` vaut `True` si 'valeur' appartient à la chaîne ou la liste ou ...; `False` autrement "
   ]
  },
  {
   "cell_type": "code",
   "execution_count": null,
   "metadata": {
    "slideshow": {
     "slide_type": "fragment"
    }
   },
   "outputs": [],
   "source": [
    "2 == 3, 2 != 3, 2 < 3, 2 >= 3 # -> False, True, True, False"
   ]
  },
  {
   "cell_type": "code",
   "execution_count": null,
   "metadata": {
    "slideshow": {
     "slide_type": "fragment"
    }
   },
   "outputs": [],
   "source": [
    "\"onj\" in \"bonjour\" # -> True"
   ]
  },
  {
   "cell_type": "code",
   "execution_count": null,
   "metadata": {
    "slideshow": {
     "slide_type": "fragment"
    }
   },
   "outputs": [],
   "source": [
    "\"ok\" in [\"un\", \"dix\", \"pok\"] # -> False"
   ]
  },
  {
   "cell_type": "markdown",
   "metadata": {
    "slideshow": {
     "slide_type": "subslide"
    }
   },
   "source": [
    "#### Opérateurs logiques - `not`, `and`, `or`"
   ]
  },
  {
   "cell_type": "markdown",
   "metadata": {
    "slideshow": {
     "slide_type": "fragment"
    }
   },
   "source": [
    "Servent à combiner des booléens obtenus avec des comparaisons; ex:\n",
    "\n",
    "l'expression `x % 2 == 0 or x % 5 == 0` vaut `True` si $x$ est divisible par 2 ou par 5; `False` sinon. \n",
    "\n",
    "*Note*: Dans le contexte de ces opérateurs, tout nombre nul, chaîne ou liste ou dictionnaire vide vaut `False`; et `True` si tel n'est pas le cas."
   ]
  },
  {
   "cell_type": "markdown",
   "metadata": {
    "slideshow": {
     "slide_type": "subslide"
    }
   },
   "source": [
    "#### Opérations communes aux *séquences*: chaînes `str`, aux n-uplet `tuple`, aux listes `list`"
   ]
  },
  {
   "cell_type": "markdown",
   "metadata": {
    "slideshow": {
     "slide_type": "subslide"
    }
   },
   "source": [
    "**nombre d'items** - `len(..)`"
   ]
  },
  {
   "cell_type": "code",
   "execution_count": null,
   "metadata": {
    "slideshow": {
     "slide_type": "fragment"
    }
   },
   "outputs": [],
   "source": [
    "len('oh hé hein bon'), len(('truc', 'bidulle', 'machin')), len(['a', 'e', 'i', 'o', 'u']) # 14, 3, 5"
   ]
  },
  {
   "cell_type": "markdown",
   "metadata": {
    "slideshow": {
     "slide_type": "subslide"
    }
   },
   "source": [
    "**concaténation** - `+`"
   ]
  },
  {
   "cell_type": "code",
   "execution_count": null,
   "metadata": {
    "slideshow": {
     "slide_type": "fragment"
    }
   },
   "outputs": [],
   "source": [
    "'ah' + ' ' + \"bon ?\", (1, 2) + (3, 4), [1, 2] + [3, 4] # -> 'ah bon ?', (1,2,3,4), [1, 2, 3, 4]"
   ]
  },
  {
   "cell_type": "markdown",
   "metadata": {
    "slideshow": {
     "slide_type": "subslide"
    }
   },
   "source": [
    "concaténation *répétée* - `.. * <int>`"
   ]
  },
  {
   "cell_type": "code",
   "execution_count": null,
   "metadata": {
    "slideshow": {
     "slide_type": "fragment"
    }
   },
   "outputs": [],
   "source": [
    "'a' * 5, (1,2) * 3, [None] * 4 # -> 'aaaaa', (1,2,1,2,1,2), [None, None, None, None]"
   ]
  },
  {
   "cell_type": "markdown",
   "metadata": {
    "slideshow": {
     "slide_type": "subslide"
    }
   },
   "source": [
    "**indexation** - `..[index]`"
   ]
  },
  {
   "cell_type": "code",
   "execution_count": null,
   "metadata": {
    "slideshow": {
     "slide_type": "fragment"
    }
   },
   "outputs": [],
   "source": [
    "\"undeuxtrois\"[5], ('a','b')[1], [True, False, True, False][2] # -> 'x', 'b', True"
   ]
  },
  {
   "cell_type": "markdown",
   "metadata": {
    "slideshow": {
     "slide_type": "subslide"
    }
   },
   "source": [
    "**tranches** (*slice*) - `..[index1:index2]`"
   ]
  },
  {
   "cell_type": "code",
   "execution_count": null,
   "metadata": {
    "slideshow": {
     "slide_type": "fragment"
    }
   },
   "outputs": [],
   "source": [
    "\"undeuxtrois\"[3:5], (6,5,4,3,2,1)[2:], [6,5,4,3,2,1][:4]"
   ]
  },
  {
   "cell_type": "markdown",
   "metadata": {
    "slideshow": {
     "slide_type": "slide"
    }
   },
   "source": [
    "## Fonction - `def ...` ou `lambda ...`"
   ]
  },
  {
   "cell_type": "markdown",
   "metadata": {
    "slideshow": {
     "slide_type": "fragment"
    }
   },
   "source": [
    "Algorithme nommé qui **reçoit** des données en argument et **renvoie** un résultat."
   ]
  },
  {
   "cell_type": "markdown",
   "metadata": {
    "slideshow": {
     "slide_type": "subslide"
    }
   },
   "source": [
    "Dans l'exemple qui suit: `capital` est le nom de la fonction.\n",
    "\n",
    "`depot`, `taux` et `n_annee` sont ses **paramètres formels**: ils servent à **recevoir** les données attendues par la fonction.\n",
    "\n",
    "Le code indenté après la ligne `def ...:` est appelé *corps de la fonction*\n",
    "\n",
    "Le mot clé **return** indique que le résultat est prêt à être **renvoyé** (ce qui termine immédiatement la fonction)"
   ]
  },
  {
   "cell_type": "code",
   "execution_count": null,
   "metadata": {
    "slideshow": {
     "slide_type": "fragment"
    }
   },
   "outputs": [],
   "source": [
    "# exemple: calcul d'intérêts\n",
    "def capital(depot, taux, n_annee):\n",
    "    final = depot\n",
    "    for _ in range(n_annee):\n",
    "        final = final + final * taux / 100 # ou mieux: final *= 1 + taux/100\n",
    "    return depot"
   ]
  },
  {
   "cell_type": "markdown",
   "metadata": {},
   "source": [
    "L'exemple qui précède donne la syntaxe de **définition** de la fonction `capital`.\n",
    "\n",
    "Voici un exemple d'**utilisation** (ne pas confondre définition/utilisation)."
   ]
  },
  {
   "cell_type": "code",
   "execution_count": null,
   "metadata": {
    "slideshow": {
     "slide_type": "subslide"
    }
   },
   "outputs": [],
   "source": [
    "# utilisation\n",
    "d, t, a = 1000, 5, 10\n",
    "c = capital(d, t, a) # d, t, a sont les *arguments* fournis à la fonction\n",
    "f\"Un dépot de {d}€ placé à un taux de {t}% aura une valeur de {round(c, 2)}€ au bout de {a} ans\""
   ]
  },
  {
   "cell_type": "markdown",
   "metadata": {},
   "source": [
    "On dit souvent «**appeler** - *call* - une fonction» au lieu d'«utiliser une fonction»."
   ]
  },
  {
   "cell_type": "markdown",
   "metadata": {
    "slideshow": {
     "slide_type": "subslide"
    }
   },
   "source": [
    "### Portée des variables"
   ]
  },
  {
   "cell_type": "markdown",
   "metadata": {
    "slideshow": {
     "slide_type": "fragment"
    }
   },
   "source": [
    "Les variables déclarées dans le corps d'une fonction sont **locales** à cette fonction. *Ex*:"
   ]
  },
  {
   "cell_type": "code",
   "execution_count": null,
   "metadata": {
    "slideshow": {
     "slide_type": "fragment"
    }
   },
   "outputs": [],
   "source": [
    "a, x = 5, 2\n",
    "\n",
    "def f(x):\n",
    "    a = x\n",
    "    y = x ** 2\n",
    "    return a\n",
    "    \n",
    "print(f(x))\n",
    "print(a, x)\n",
    "print(y) # produit une erreur car y n'existe pas dans la portée globale."
   ]
  },
  {
   "cell_type": "markdown",
   "metadata": {
    "slideshow": {
     "slide_type": "subslide"
    }
   },
   "source": [
    "Il y a en fait deux variables `a`, une dans la **portée globale** (en dehors de toute fonction) et l'autre dans la **portée locale** de la fonction `f`.\n",
    "\n",
    "En effet, lorsqu'une fonction est **appelée**, une *zone mémoire* lui est allouée automatiquement:\n",
    "- c'est à **cette** *zone mémoire* que les variables *situées dans le corps de la fonction* se réfèrent.\n",
    "\n",
    "Lorsque la fonction (se) **termine** (`return` ou dernière instruction):\n",
    "- **sa** *zone mémoire* est **détruite** et donc **ses** variables aussi.\n",
    "\n",
    "Pour cette raison, le valeur de la variable `a` situé en dehors du corps de la fonction n'est pas modifié; Néanmoins:"
   ]
  },
  {
   "cell_type": "markdown",
   "metadata": {
    "slideshow": {
     "slide_type": "subslide"
    }
   },
   "source": [
    "### cas des objets muables: `list`, `dict`, ..."
   ]
  },
  {
   "cell_type": "markdown",
   "metadata": {
    "slideshow": {
     "slide_type": "fragment"
    }
   },
   "source": [
    "Pour ces objets, les variables qui s'y réfèrent le font **indirectement**; la valeur qui leur est associé est en fait l'**adresse** des objets.\n",
    "\n",
    "Pour les fonctions, cela à une importance cruciale; ex:"
   ]
  },
  {
   "cell_type": "code",
   "execution_count": null,
   "metadata": {
    "slideshow": {
     "slide_type": "fragment"
    }
   },
   "outputs": [],
   "source": [
    "l = [1, 2]\n",
    "def f(x):\n",
    "    x.append(5)\n",
    "    return x\n",
    "\n",
    "f(l), l # -> [1,2,5], [1,2,5] "
   ]
  },
  {
   "cell_type": "markdown",
   "metadata": {
    "slideshow": {
     "slide_type": "subslide"
    }
   },
   "source": [
    "En fait, `x` reçoit le *contenu* de la case `l`, c'est à dire l'*adresse de la liste* (et non la liste).\n",
    "\n",
    "**Conséquence**: l'instruction `x.append(5)` travaille sur la liste référencée par `x` or c'est la même que celle référencée par `l` qui est donc modifiée en conséquence.\n",
    "\n",
    "C'est très MAUVAIS car la fonction modifie une variable qui lui est extérieur et cela peut avoir des conséquences inattendues.\n",
    "\n",
    "Pour cette raison, on procède souvent à un **clonage** de la liste à l'aide du constructeur `list` ou du slice `..[:]`:"
   ]
  },
  {
   "cell_type": "code",
   "execution_count": null,
   "metadata": {
    "slideshow": {
     "slide_type": "fragment"
    }
   },
   "outputs": [],
   "source": [
    "l = [1, 2]\n",
    "def f(x):\n",
    "    y = list(x) # ou y = x[:]\n",
    "    y.append(5)\n",
    "    return y\n",
    "\n",
    "f(l), l # -> [1,2,5], [1,2] ; «l» n'est pas modifiée"
   ]
  },
  {
   "cell_type": "markdown",
   "metadata": {
    "slideshow": {
     "slide_type": "fragment"
    }
   },
   "source": [
    "Ici la liste pointée par `l` reste intacte; c'est ce qu'on veut la plupart du temps"
   ]
  },
  {
   "cell_type": "markdown",
   "metadata": {
    "slideshow": {
     "slide_type": "slide"
    }
   },
   "source": [
    "## Test et branchement - `if`"
   ]
  },
  {
   "cell_type": "markdown",
   "metadata": {
    "slideshow": {
     "slide_type": "fragment"
    }
   },
   "source": [
    "Un **test** est une *expression* dont la *valeur* est `True` ou `False`.\n",
    "\n",
    "**Note**: là où Python attend un test - après `if` ou `elif`, par exemple; si il trouve une expression dont la valeur n'est pas un `bool`, il la convertit automatiquement (en utilisant la fonction `bool()` tout simplement).\n",
    "\n",
    "Voici les algorigrammes des trois cas principaux d'utilisation des branchements conditionnels:"
   ]
  },
  {
   "cell_type": "code",
   "execution_count": null,
   "metadata": {},
   "outputs": [],
   "source": [
    "# instructions avant le if\n",
    "# ...\n",
    "if condition:\n",
    "    # bloc if\n",
    "    # ...\n",
    "# instructions après le if\n",
    "# ..."
   ]
  },
  {
   "cell_type": "markdown",
   "metadata": {
    "slideshow": {
     "slide_type": "subslide"
    }
   },
   "source": [
    "<img src=\"img/if1.png\"/>"
   ]
  },
  {
   "cell_type": "code",
   "execution_count": null,
   "metadata": {
    "slideshow": {
     "slide_type": "subslide"
    }
   },
   "outputs": [],
   "source": [
    "# instructions avant le if\n",
    "# ...\n",
    "if condition:\n",
    "    # bloc if\n",
    "    # ...\n",
    "else:\n",
    "    # bloc else\n",
    "    # ...\n",
    "# instructions après le if\n",
    "# ..."
   ]
  },
  {
   "cell_type": "markdown",
   "metadata": {},
   "source": [
    "<img src=\"img/if2.png\"/>"
   ]
  },
  {
   "cell_type": "code",
   "execution_count": null,
   "metadata": {},
   "outputs": [],
   "source": [
    "# instructions avant le if\n",
    "# ...\n",
    "if condition1:\n",
    "    # bloc if\n",
    "    # ...\n",
    "elif condition2:\n",
    "    # bloc elif\n",
    "    # ...\n",
    "else:\n",
    "    # bloc else\n",
    "    # ...\n",
    "# instructions après le if\n",
    "# ..."
   ]
  },
  {
   "cell_type": "markdown",
   "metadata": {
    "slideshow": {
     "slide_type": "subslide"
    }
   },
   "source": [
    "<img src=\"img/if3.png\" centered/>"
   ]
  },
  {
   "cell_type": "markdown",
   "metadata": {
    "slideshow": {
     "slide_type": "subslide"
    }
   },
   "source": [
    "### Compléments"
   ]
  },
  {
   "cell_type": "markdown",
   "metadata": {
    "slideshow": {
     "slide_type": "fragment"
    }
   },
   "source": [
    "1. Si le *bloc if* ne contient qu'une instruction, on peut écrire sur une seule ligne:"
   ]
  },
  {
   "cell_type": "code",
   "execution_count": null,
   "metadata": {
    "slideshow": {
     "slide_type": "fragment"
    }
   },
   "outputs": [],
   "source": [
    "age = 15\n",
    "if age < 18: print(\"Vous êtes mineurs!\")"
   ]
  },
  {
   "cell_type": "markdown",
   "metadata": {
    "slideshow": {
     "slide_type": "subslide"
    }
   },
   "source": [
    "2. Il existe un *opérateur ternaire* (expression a trois arguments) de la forme:\n",
    "   \n",
    "   ```python\n",
    "   e1 if cond else e2\n",
    "   ```\n",
    "   \n",
    "   sa **valeur** est celle de `e1` si `cond` est vraie, celle de `e2` sinon.\n",
    "   \n",
    "   J'insiste: `e1 if cond else e2` est une **expression** (possède une valeur); donc on l'utilise souvent à droite d'une affectation."
   ]
  },
  {
   "cell_type": "code",
   "execution_count": null,
   "metadata": {
    "slideshow": {
     "slide_type": "fragment"
    }
   },
   "outputs": [],
   "source": [
    "j_ai_compris = False\n",
    "alors = \"passer à l'étape suivante\" if j_ai_compris else \"relire!\"\n",
    "alors"
   ]
  },
  {
   "cell_type": "markdown",
   "metadata": {
    "slideshow": {
     "slide_type": "slide"
    }
   },
   "source": [
    "## Boucle `while`"
   ]
  },
  {
   "cell_type": "markdown",
   "metadata": {},
   "source": [
    "Sert à **répéter** une ou plusieurs instructions - corps de boucle - **tant que** la `condition` (ou test) vaut `True`."
   ]
  },
  {
   "cell_type": "markdown",
   "metadata": {},
   "source": [
    "**syntaxe**:\n",
    "\n",
    "```python\n",
    "# instructions avant la boucle\n",
    "while condition:\n",
    "    # corps de la ...\n",
    "    # boucle\n",
    "# instructions après la boucle\n",
    "```"
   ]
  },
  {
   "cell_type": "code",
   "execution_count": null,
   "metadata": {},
   "outputs": [],
   "source": [
    "j_ai_compris = False\n",
    "\n",
    "while not j_ai_compris: # condition: not j_ai_compris\n",
    "    print('va falloir relire...')\n",
    "    c_est_bon = input(\"T'as compris? (O ou N)\")\n",
    "    if c_est_bon == 'O':\n",
    "        j_ai_compris = True\n",
    "\n",
    "print(\"C'est bien ... t'as compris\")"
   ]
  },
  {
   "cell_type": "markdown",
   "metadata": {},
   "source": [
    "Voici l'algorigramme correspondant:\n",
    "\n",
    "<img src=\"img/while.png\" centered/>"
   ]
  },
  {
   "cell_type": "markdown",
   "metadata": {},
   "source": [
    "`break`: instruction qui force la fin de la boucle.\n",
    "\n",
    "`continue`: instruction qui force le retour à la condition; sert à passer au tour de boucle suivant de manière anticipée."
   ]
  },
  {
   "cell_type": "code",
   "execution_count": null,
   "metadata": {},
   "outputs": [],
   "source": [
    "t_as_compris = False\n",
    "ma_patience = 5\n",
    "\n",
    "while not t_as_compris:\n",
    "    if ma_patience <= 0: break\n",
    "    print('il y a un cap à passer...')\n",
    "    c_est_bon = input(\"t'as compris? (O ou N ou ??)\")\n",
    "    if c_est_bon not in ['O', 'N']:\n",
    "        if c_est_bon = '??':\n",
    "            ma_patience -= 2\n",
    "            continue\n",
    "        print(\"c'est quoi cette réponse? tu le fais exprès j'espère...\")\n",
    "        ma_patience -= 3\n",
    "    if c_est_bon == 'O':\n",
    "        break\n",
    "    else:\n",
    "        ma_patience -= 1\n",
    "        \n",
    "    \n",
    "print(\"Prof content\" if ma_patience > 0 else \"Prof désespéré!\")"
   ]
  },
  {
   "cell_type": "markdown",
   "metadata": {},
   "source": [
    "**DANGER1**: si on oublie de modifier la condition dans le corps de boucle ou qu'on n'utilise pas l'instruction `break`; la boucle peut tourner indéfiniment!\n",
    "\n",
    "**DANGER2** (moins grave): si la condition vaut `False` au départ, le corps de boucle n'est pas exécuter... (code mort)"
   ]
  },
  {
   "cell_type": "markdown",
   "metadata": {
    "slideshow": {
     "slide_type": "slide"
    }
   },
   "source": [
    "## Boucle `for`"
   ]
  },
  {
   "cell_type": "markdown",
   "metadata": {},
   "source": [
    "Variante de la boucle `while` avec l'assurance que la boucle se termine.\n",
    "\n",
    "En pratique: sert à *parcourir* un ensemble de valeurs fixées au départ.\n",
    "\n",
    "**syntaxe**\n",
    "\n",
    "```python\n",
    "# instructions avant la boucle\n",
    "for variable in sequence:\n",
    "    # corps de la ...\n",
    "    # boucle\n",
    "# instructions après la boucle\n",
    "```\n",
    "\n",
    "- `variable` est une variable qu'on peut nommer comme on veut; à chaque tour de boucle elle prend une nouvelle valeur de `sequence`,\n",
    "- `sequence` est une expression dont la valeur est une `str`, un `range`, un `tuple`, une `list`, un `dict`, un `set`, ...; **bref**: tout type qui peut renfermer plusieurs *items*."
   ]
  },
  {
   "cell_type": "code",
   "execution_count": null,
   "metadata": {},
   "outputs": [],
   "source": [
    "p = lambda x: print(x, end=',') # pour afficher sans retour à la ligne.\n",
    "for c in \"abc\": p(c) # -> a, b, c,\n",
    "for n in [1,2,3]: p(n) # -> 1, 2, 3,\n",
    "for k in {\"un\": 1, \"deux\": 2}: p(k) # -> \"un\", \"deux\",\n",
    "for i in range(10): p(i) # -> 0, 1, ..., 9,"
   ]
  },
  {
   "cell_type": "markdown",
   "metadata": {},
   "source": [
    " *note*: comme avec `if` et `while`, si le *corps* ne contient qu'une instruction, on peut **la** mettre juste après les `:`"
   ]
  },
  {
   "cell_type": "markdown",
   "metadata": {},
   "source": [
    "Tout ce qu'on peut faire avec un `for` peut être fait avec un `while`; par ex:"
   ]
  },
  {
   "cell_type": "code",
   "execution_count": null,
   "metadata": {},
   "outputs": [],
   "source": [
    "# traduction de: for c in \"abc\": p(c)\n",
    "i=0\n",
    "while i < 3:\n",
    "    print(\"abc\"[i], end=\",\")\n",
    "    i = i + 1"
   ]
  },
  {
   "cell_type": "markdown",
   "metadata": {},
   "source": [
    "`for` est donc un *raccourci de syntaxe*; cela se justifie par le fait que, la plupart du temps, on utilise une boucle pour parcourir un certain nombre de valeurs; et aussi par le besoin de ne pas se soucier de la terminaison des boucles (voir DANGER1 avec while)"
   ]
  },
  {
   "cell_type": "markdown",
   "metadata": {},
   "source": [
    "Voici son algorigramme:\n",
    "\n",
    "<img src=\"img/for.png\" centered/>"
   ]
  },
  {
   "cell_type": "markdown",
   "metadata": {},
   "source": [
    "Pour terminer cette section, je veux insister sur l'**importance de** `range` pour la boucle `for`:\n",
    "\n",
    "En informatique, pour accéder aux objets, valeurs, ... on se sert (très) **souvent** de leur *adresse*: on y accède alors *indirectement*.\n",
    "\n",
    "Par exemple, si je veux échanger le premier et le dernier item de la liste `[\"dormir\", \"manger\", \"bosser\"]` sans produire une nouvelle liste (en mémoire), il est nécessaire d'utiliser les adresses de `\"dormir\"` et `\"bosser\"` par rapport à cette liste.\n",
    "\n",
    "L'adresse de `\"dormir\"` est 0 et celle de `\"bosser\"` est 2 d'où"
   ]
  },
  {
   "cell_type": "code",
   "execution_count": null,
   "metadata": {},
   "outputs": [],
   "source": [
    "todo = [\"dormir\", \"manger\", \"bosser\"]\n",
    "tmp = todo[0]\n",
    "todo[0] = todo[2]\n",
    "todo[2] = tmp\n",
    "todo"
   ]
  },
  {
   "cell_type": "markdown",
   "metadata": {},
   "source": [
    "Quel rapport avec `for` et `range`? Et bien, imaginons que j'ai besoin de mettre à 0 tous les nombres pairs d'une liste sans en faire une nouvelle... simple non?\n",
    "\n",
    "On se dit: parcourons la liste, si le nombre lu est pair, mettons 0 à la place.\n",
    "\n",
    "**Mais**: mettre 0 à la place suppose de connaître son *adresse* - son index ..."
   ]
  },
  {
   "cell_type": "code",
   "execution_count": null,
   "metadata": {},
   "outputs": [],
   "source": [
    "liste_exemple = list(range(100))\n",
    "print(liste_exemple)\n",
    "# for nb in liste_exemple: ... -> ne peut pas fonctionner pour ce pb...\n",
    "for adr in range(100):\n",
    "    if liste_exemple[adr] % 2 == 0:\n",
    "        liste_exemple[adr] = 0\n",
    "print(liste_exemple)"
   ]
  },
  {
   "cell_type": "markdown",
   "metadata": {},
   "source": [
    "*note*: Pour la boucle while, il n'y a pas le choix: parcourir la liste ou autre revient à parcourir les adresses ou index; seul moyen d'accéder aux items associés."
   ]
  }
 ],
 "metadata": {
  "celltoolbar": "Diaporama",
  "kernelspec": {
   "display_name": "Python 3",
   "language": "python",
   "name": "python3"
  },
  "language_info": {
   "codemirror_mode": {
    "name": "ipython",
    "version": 3
   },
   "file_extension": ".py",
   "mimetype": "text/x-python",
   "name": "python",
   "nbconvert_exporter": "python",
   "pygments_lexer": "ipython3",
   "version": "3.8.5"
  }
 },
 "nbformat": 4,
 "nbformat_minor": 4
}
