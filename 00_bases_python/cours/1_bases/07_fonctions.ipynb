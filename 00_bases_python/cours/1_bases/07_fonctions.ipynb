{
 "cells": [
  {
   "cell_type": "markdown",
   "metadata": {},
   "source": [
    "# Fonctions"
   ]
  },
  {
   "cell_type": "code",
   "execution_count": null,
   "metadata": {},
   "outputs": [],
   "source": [
    "def ma_premiere_fonction():\n",
    "    print('Salutation tout le monde')\n",
    "\n",
    "print(f'type: {ma_premiere_fonction}')\n",
    "\n",
    "ma_premiere_fonction()  # Appel d'une fonction"
   ]
  },
  {
   "cell_type": "markdown",
   "metadata": {},
   "source": [
    "### Arguments"
   ]
  },
  {
   "cell_type": "code",
   "execution_count": null,
   "metadata": {},
   "outputs": [],
   "source": [
    "def salutation(nom1, nom2):\n",
    "    print(f'Salut à vous {nom1} et {nom2}!')\n",
    "\n",
    "salutation('John Doe', 'Superman')"
   ]
  },
  {
   "cell_type": "code",
   "execution_count": null,
   "metadata": {},
   "outputs": [],
   "source": [
    "# Fonction avec une valeur de retour\n",
    "def sans_blancs_et_en_minuscule(originale):\n",
    "    modifiee = originale.strip().lower()\n",
    "    return modifiee\n",
    "\n",
    "laid = '  MéLangE maJuScuLE/miNuSCule '\n",
    "joli = sans_blancs_et_en_minuscule(laid)\n",
    "print(f'Mieux: {joli}')"
   ]
  },
  {
   "cell_type": "markdown",
   "metadata": {},
   "source": [
    "### Arguments nommés (*keyword arguments*)"
   ]
  },
  {
   "cell_type": "code",
   "execution_count": null,
   "metadata": {},
   "outputs": [],
   "source": [
    "def mon_super_calcul(un, deux, trois):\n",
    "    return un + deux - trois \n",
    "\n",
    "print(mon_super_calcul(3, 2, 1))\n",
    "\n",
    "print(mon_super_calcul(un=3, deux=2, trois=1))\n",
    "\n",
    "# Avec les arguments nommés l'ordre n'a pas d'importance\n",
    "print(mon_super_calcul(trois=1, un=3, deux=2))\n",
    "\n",
    "# Vous pouvez combiner arguments «positionnés» et nommés mais il faut commencer par les arguments positionnés\n",
    "print(mon_super_calcul(3, trois=1, deux=2))  "
   ]
  },
  {
   "cell_type": "markdown",
   "metadata": {},
   "source": [
    "### Arguments par défaut"
   ]
  },
  {
   "cell_type": "code",
   "execution_count": null,
   "metadata": {},
   "outputs": [],
   "source": [
    "def creer_fiche_personne(nom, age, job=None, salaire=300):\n",
    "    fiche = {'nom': nom, 'age': age, 'salaire': salaire}\n",
    "    \n",
    "    # ajouter la clé 'job' seulement si on a fourni un en paramètre\n",
    "    if job:  \n",
    "        fiche.update(dict(job=job))\n",
    "        \n",
    "    return fiche\n",
    "\n",
    "personne1 = creer_fiche_personne('John Doe', 82)  # utilise les valeurs par défaut pour job et salaire\n",
    "personne2 = creer_fiche_personne('Lisa Doe', 22, 'hacker', 10000)\n",
    "print(personne1)\n",
    "print(personne2)"
   ]
  },
  {
   "cell_type": "markdown",
   "metadata": {},
   "source": [
    "**N'utilisez pas d'objets muables comme arguments par défaut!**"
   ]
  },
  {
   "cell_type": "code",
   "execution_count": null,
   "metadata": {},
   "outputs": [],
   "source": [
    "def ajoute_si_multiple_de_cinq(nombre, liste_magique=[]):\n",
    "    if nombre % 5 == 0:\n",
    "        liste_magique.append(nombre)\n",
    "    return liste_magique\n",
    "\n",
    "print(ajoute_si_multiple_de_cinq(100))\n",
    "print(ajoute_si_multiple_de_cinq(105))\n",
    "print(ajoute_si_multiple_de_cinq(123))\n",
    "print(ajoute_si_multiple_de_cinq(123, []))\n",
    "print(ajoute_si_multiple_de_cinq(123))"
   ]
  },
  {
   "cell_type": "markdown",
   "metadata": {},
   "source": [
    "Voila comment obtenir le comportement désiré:"
   ]
  },
  {
   "cell_type": "code",
   "execution_count": null,
   "metadata": {},
   "outputs": [],
   "source": [
    "def ajoute_si_multiple_de_cinq(nombre, liste_magique=None):\n",
    "    if not liste_magique:\n",
    "        liste_magique = []\n",
    "    if nombre % 5 == 0:\n",
    "        liste_magique.append(nombre)\n",
    "    return liste_magique\n",
    "\n",
    "print(ajoute_si_multiple_de_cinq(100))\n",
    "print(ajoute_si_multiple_de_cinq(105))\n",
    "print(ajoute_si_multiple_de_cinq(123))\n",
    "print(ajoute_si_multiple_de_cinq(123, []))\n",
    "print(ajoute_si_multiple_de_cinq(123))"
   ]
  },
  {
   "cell_type": "markdown",
   "metadata": {},
   "source": [
    "### Chaîne de documentation - Docstrings\n",
    "Chaînes pour documenter vos fonction, méthodes, modules et variables."
   ]
  },
  {
   "cell_type": "code",
   "execution_count": null,
   "metadata": {},
   "outputs": [],
   "source": [
    "def afficher_somme(valeur1, valeur2):\n",
    "    \"\"\"Fonction qui affiche la somme des arguments fournis.\"\"\"\n",
    "    print(f'Somme: {valeur1 + valeur2}')\n",
    "\n",
    "print(help(afficher_somme))"
   ]
  },
  {
   "cell_type": "code",
   "execution_count": null,
   "metadata": {},
   "outputs": [],
   "source": [
    "def calculer_somme(valeur1, valeur2):\n",
    "    \"\"\"Voici une chaîne de documentation - docstring - plus longue qui précise aussi les arguments et la valeur de retour. \n",
    "\n",
    "    Args:\n",
    "        valeur1: le premier paramètre.\n",
    "        valeur2: le second paramètre.\n",
    "\n",
    "    Returns:\n",
    "        La somme de valeur1 et valeur2.\n",
    "        \n",
    "    \"\"\"\n",
    "    return valeur1 + valeur2\n",
    "\n",
    "print(help(calculer_somme))"
   ]
  },
  {
   "cell_type": "markdown",
   "metadata": {},
   "source": [
    "### [Instruction `pass`](https://docs.python.org/3/reference/simple_stmts.html#the-pass-statement)\n",
    "`pass` est une instruction qui ne fait rien lorsqu'elle est éxécutée. \n",
    "Elle peut être utilisée comme indicateur d'une zone de code à compléter ultérieurement tout en conservant un code syntaxiquement correct.\n",
    "par exemple lorsqu'on veut «brosser à grands traits» - *sketching* - les fonctions et/ou classes de notre application puis compléter progressivement.\n",
    "\n",
    "Ce qui suit est valide pour python."
   ]
  },
  {
   "cell_type": "code",
   "execution_count": null,
   "metadata": {},
   "outputs": [],
   "source": [
    "def ma_fonction(des_arguments):\n",
    "    pass\n",
    "\n",
    "def mon_autre_fonction():\n",
    "    pass"
   ]
  }
 ],
 "metadata": {
  "kernelspec": {
   "display_name": "Python 3",
   "language": "python",
   "name": "python3"
  },
  "language_info": {
   "codemirror_mode": {
    "name": "ipython",
    "version": 3
   },
   "file_extension": ".py",
   "mimetype": "text/x-python",
   "name": "python",
   "nbconvert_exporter": "python",
   "pygments_lexer": "ipython3",
   "version": "3.6.8"
  }
 },
 "nbformat": 4,
 "nbformat_minor": 4
}
