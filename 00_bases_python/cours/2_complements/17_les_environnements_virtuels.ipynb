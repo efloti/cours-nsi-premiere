{
 "cells": [
  {
   "cell_type": "markdown",
   "metadata": {},
   "source": [
    "# Environnements virtuels\n",
    "Lorsque vous travailler sur un ou plusieurs projets Python, il est préférable d'avoir un environnement virtuel séparé pour chacun d'eux. \n",
    "\n",
    "Chaque environnement virtuel possède son propre interpréteur Python. Lorsque vous installer un paquet Python dans votre environnement virtuel, il sera installé seulement dans cet environnement particulier.\n",
    "Cela signifie que vous pouvez avoir plusieurs versions d'un paquet python sur votre système; un pour chaque environnement virtuel.\n",
    "Les environnement virtuels sont aussi très utiles si vous avez besoin d'utiliser différente version de Python dans vos projets."
   ]
  },
  {
   "cell_type": "markdown",
   "metadata": {},
   "source": [
    "## [`venv`](https://docs.python.org/3/library/venv.html#module-venv)"
   ]
  },
  {
   "cell_type": "markdown",
   "metadata": {},
   "source": [
    "#### Créer un nouvel environnement virtuel\n",
    "Vous pouvez créer tous vos environnements virtuels dans un seul répertoire (par exemple, en créant un répertoire caché `.virtualenvs` dans votre répertoire personnel). Cela les rends plus faciles à trouver."
   ]
  },
  {
   "cell_type": "markdown",
   "metadata": {},
   "source": [
    "`python3 -m venv /chemin/vers/nouvel/environnement`\n",
    "\n",
    "or\n",
    "\n",
    "`chemin/vers/votre/python -m venv /chemin/vers/nouvel/environnement`"
   ]
  },
  {
   "cell_type": "markdown",
   "metadata": {},
   "source": [
    "#### Activer un environnement virtuel"
   ]
  },
  {
   "cell_type": "markdown",
   "metadata": {},
   "source": [
    "Windows: `chemin_vers_env_virtuel\\Scripts\\activate.bat`\n",
    "\n",
    "Posix: `source chemin_vers_env_virtuel/bin/activate`"
   ]
  },
  {
   "cell_type": "markdown",
   "metadata": {},
   "source": [
    "#### Désactiver"
   ]
  },
  {
   "cell_type": "markdown",
   "metadata": {},
   "source": [
    "Windows ou posix: `deactivate`"
   ]
  },
  {
   "cell_type": "markdown",
   "metadata": {},
   "source": [
    "#### Installer des paquets\n",
    "Après avoir activer votre environnement virtuel, vous pouvez installer des paquets en utilisant `pip`. Par exemple, si vous voulez installer `pytest`:\n",
    "\n",
    "`python -m pip install pytest`\n",
    "\n",
    "Le paquet sera installé dans `chemin_vers_env_virtuel/lib/<python_version>/site-packages`. Le chemin vers `site-packages` peut être légèrement différent selon le système d'exploitation que vous utilisez.\n",
    "\n",
    "Vous pouvez lister les paquets installés et leur version en utilisant:\n",
    "\n",
    "`python -m pip freeze`"
   ]
  }
 ],
 "metadata": {
  "kernelspec": {
   "display_name": "Python 3",
   "language": "python",
   "name": "python3"
  },
  "language_info": {
   "codemirror_mode": {
    "name": "ipython",
    "version": 3
   },
   "file_extension": ".py",
   "mimetype": "text/x-python",
   "name": "python",
   "nbconvert_exporter": "python",
   "pygments_lexer": "ipython3",
   "version": "3.6.8"
  }
 },
 "nbformat": 4,
 "nbformat_minor": 4
}
