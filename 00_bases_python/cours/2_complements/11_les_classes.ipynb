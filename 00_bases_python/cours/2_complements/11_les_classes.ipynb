{
 "cells": [
  {
   "cell_type": "markdown",
   "metadata": {},
   "source": [
    "# [Les Classes](https://docs.python.org/3/tutorial/classes.html#a-first-look-at-classes)"
   ]
  },
  {
   "cell_type": "code",
   "execution_count": null,
   "metadata": {},
   "outputs": [],
   "source": [
    "class MaPremiereClasse:\n",
    "    def __init__(self, nom):\n",
    "        self.nom = nom\n",
    "\n",
    "    def saluer(self):\n",
    "        print(f'Bonjour {self.nom}!')"
   ]
  },
  {
   "cell_type": "code",
   "execution_count": null,
   "metadata": {},
   "outputs": [],
   "source": [
    "mon_instance = MaPremiereClasse('John Doe')\n",
    "print(f'mon_instance: {mon_instance}')\n",
    "print(f'type: {type(mon_instance)}')\n",
    "print(f'mon_instance.nom: {mon_instance.nom}')"
   ]
  },
  {
   "cell_type": "markdown",
   "metadata": {},
   "source": [
    "## Méthodes\n",
    "Les fonctions situées dans une classe sont appelées méthodes. Elles sont utilisées de manière similaire aux fonctions. "
   ]
  },
  {
   "cell_type": "code",
   "execution_count": null,
   "metadata": {},
   "outputs": [],
   "source": [
    "alice = MaPremiereClasse(nom='Alice')\n",
    "alice.saluer()"
   ]
  },
  {
   "cell_type": "markdown",
   "metadata": {},
   "source": [
    "### `__init__()`\n",
    "`__init__()` est une méthode spéciale qui est utilisée pour initialiser les instances de la classe. Elle est appelée automatiquement lorsque vous créer une instance de la classe. "
   ]
  },
  {
   "cell_type": "code",
   "execution_count": null,
   "metadata": {},
   "outputs": [],
   "source": [
    "class Exemple:\n",
    "    def __init__(self):\n",
    "        print(\"Là, nous sommes à l'intérieur d'__init__\")\n",
    "        \n",
    "print(\"Avant la création d'une instance de la classe Exemple\")\n",
    "exemple = Exemple()\n",
    "print('Après la création de cette instance')"
   ]
  },
  {
   "cell_type": "markdown",
   "metadata": {},
   "source": [
    "`__init__()` est typiquement utilisée pour initialiser les variables d'instance de votre classe. Elles peuvent être listées en arguments après `self`. Pour être en mesure d'accéder à ces variables d'instance plus tard, pendant la durée de vie de celle-ci, il faut associer ces variables à `self` avec une syntaxe de la forme `self.<nom_attribut> = ma_variable`.\n",
    "\n",
    "`self` est le premier argument des méthodes de votre classe et c'est aussi votre moyen d'accéder aux variables d'instances et aux autres méthodes."
   ]
  },
  {
   "cell_type": "code",
   "execution_count": null,
   "metadata": {},
   "outputs": [],
   "source": [
    "class Exemple:\n",
    "    def __init__(self, var1, var2):\n",
    "        self.nom_attribut1 = var1\n",
    "        self.nom_attribut2 = var2\n",
    "        \n",
    "    def affiche_valeurs_attributs(self):\n",
    "        print(f'{self.nom_attribut1} {self.nom_attribut2}')\n",
    "        \n",
    "e = Exemple('abc', 123)\n",
    "e.affiche_valeurs_attributs()\n",
    "    "
   ]
  },
  {
   "cell_type": "markdown",
   "metadata": {},
   "source": [
    "### `__str__()`\n",
    "`__str__()` est une méthode spéciale que vous pouvez appeler lorsqu'une instance d'une classe doit être convertie en une chaîne de caractère (typiquement lorsque vous voulez l'afficher avec `print`). Autrement dit, en définissant la méthode `__str__` pour votre classe, vous décidez de la version textuelle des instances de votre classe. La méthode doit retourner une chaîne de caractères."
   ]
  },
  {
   "cell_type": "code",
   "execution_count": null,
   "metadata": {},
   "outputs": [],
   "source": [
    "class Personne:\n",
    "    def __init__(self, nom, age):\n",
    "        self.nom = nom\n",
    "        self.age = age\n",
    "        \n",
    "    def __str__(self):\n",
    "        return f\"Mon nom est {self.nom} et j'ai {self.age} ans.\"\n",
    "    \n",
    "jacques = Personne('Jacques', 82)\n",
    "print(f'Voici la représentation textuelle de jacques: {jacques}')"
   ]
  },
  {
   "cell_type": "markdown",
   "metadata": {},
   "source": [
    "## Variables de classe / variables d'instance\n",
    "Les variables de classe sont partagées entre toutes les instances de cette classe tandis que les variables d'instance peuvent avoir des valeurs différentes d'une instance à une autre de cette classe."
   ]
  },
  {
   "cell_type": "code",
   "execution_count": null,
   "metadata": {},
   "outputs": [],
   "source": [
    "class Exemple:\n",
    "    # Voici des variables de classes\n",
    "    nom = 'Classe exemple'\n",
    "    description = \"Juste un exemple d'une simple classe\"\n",
    "\n",
    "    def __init__(self, var1):\n",
    "        # Voici une variable d'instance\n",
    "        self.variable_instance = var1\n",
    "\n",
    "    def montrer_info(self):\n",
    "        info = f'variable d\\'instancee: {self.variable_instance}, nom: {Exemple.nom}, description: {Exemple.description}'\n",
    "        print(info)\n",
    "\n",
    "\n",
    "instance_1 = Exemple('truc')\n",
    "instance_2 = Exemple('machin')\n",
    "\n",
    "# Le nom et la description sont partagées (ont même valeur) d'une instance à l'autre\n",
    "assert instance_1.nom == instance_2.nom == Exemple.nom\n",
    "assert instance_1.description == instance_2.description == Exemple.description\n",
    "\n",
    "# Si vous modifier la valeur d'une variable de classe, le changement est perçu par chaque instance\n",
    "Exemple.nom = 'Nom modifié'\n",
    "instance_1.montrer_info()\n",
    "instance_2.montrer_info()"
   ]
  },
  {
   "cell_type": "markdown",
   "metadata": {},
   "source": [
    "## Publique / privée\n",
    "En python il n'y a pas de séparation stricte entre les méthodes ou variable d'instance publique/privée. La convention est de débuter le nom d'une variable ou d'une méthode d'instance avec un caractère de soulignement `_` (underscore) si elle doit être considéré comme privée.\n",
    "\n",
    "Privée veut dire qu'elle ne devrait pas être accessible depuis l'extérieur de la classe.\n",
    "\n",
    "Par exemple, supposons disposer d'une classe `Personne` qui définie une variable d'instance `age`. Nous voulons que cette variable ne puisse être accéder directement (par exemple pour la modifier) après la création d'une instance. En python, on écrirait:"
   ]
  },
  {
   "cell_type": "code",
   "execution_count": null,
   "metadata": {},
   "outputs": [],
   "source": [
    "class Personne:\n",
    "    def __init__(self, age):\n",
    "        self._age = age\n",
    "        \n",
    "personne_exemple = Personne(age=15)\n",
    "# Vous ne pouvez pas faire ça:\n",
    "# print(personne_exemple.age)\n",
    "# Ni ça:\n",
    "# personne_exemple.age = 16"
   ]
  },
  {
   "cell_type": "markdown",
   "metadata": {},
   "source": [
    "Si vous souhtaitez que `age` puisse être consultée directement sans être modifiable, vous pouvez utiliser le décorateur `@property`:"
   ]
  },
  {
   "cell_type": "code",
   "execution_count": null,
   "metadata": {},
   "outputs": [],
   "source": [
    "class Personne:\n",
    "    def __init__(self, age):\n",
    "        self._age = age\n",
    "        \n",
    "    @property # le décorateur pour la méthode qui suit\n",
    "    def age(self): # cette méthode peut être utilisée sans les parenthèses habituelles ...\n",
    "        return self._age\n",
    "        \n",
    "personne_exemple = Personne(age=15)\n",
    "# Maintenant vous pouvez faire cela:\n",
    "print(personne_exemple.age)\n",
    "# Mais pas cela:\n",
    "#personne_exemple.age = 16"
   ]
  },
  {
   "cell_type": "markdown",
   "metadata": {},
   "source": [
    "De cette façon vous avez un contrôle d'accès pour les variables d'instances de votre classe. "
   ]
  },
  {
   "cell_type": "code",
   "execution_count": null,
   "metadata": {},
   "outputs": [],
   "source": [
    "class Personne:\n",
    "    def __init__(self, age):\n",
    "        self._age = age\n",
    "        \n",
    "    @property\n",
    "    def age(self):\n",
    "        return self._age\n",
    "    \n",
    "    def celebrer_anniversaire(self):\n",
    "        self._age += 1\n",
    "        print(f'Joyeux anniversaire pour tes {self._age} ans!')\n",
    "        \n",
    "personne_exemple = Personne(age=15)\n",
    "personne_exemple.celebrer_anniversaire()"
   ]
  },
  {
   "cell_type": "markdown",
   "metadata": {},
   "source": [
    "## Introduction à l'héritage -*inheritance*"
   ]
  },
  {
   "cell_type": "code",
   "execution_count": null,
   "metadata": {},
   "outputs": [],
   "source": [
    "class Animal:\n",
    "    def saluer(self):\n",
    "        print('Bonjour, je suis un ... animal!')\n",
    "\n",
    "    @property\n",
    "    def nourriture_preferee(self):\n",
    "        return 'boeuf'\n",
    "\n",
    "\n",
    "class Chien(Animal):\n",
    "    def saluer(self):\n",
    "        print('Wouf Wouf')\n",
    "\n",
    "\n",
    "class Chat(Animal):\n",
    "    @property\n",
    "    def nourriture_preferee(self):\n",
    "        return 'poisson'"
   ]
  },
  {
   "cell_type": "code",
   "execution_count": null,
   "metadata": {},
   "outputs": [],
   "source": [
    "chien = Chien()\n",
    "chien.saluer()\n",
    "print(f\"La nourriture préférée d'un chien est le {chien.nourriture_preferee}\")\n",
    "\n",
    "chat = Chat()\n",
    "chat.saluer()\n",
    "print(f\"La nourriture préférée d'un chat est le {chat.nourriture_preferee}\")"
   ]
  }
 ],
 "metadata": {
  "kernelspec": {
   "display_name": "Python 3",
   "language": "python",
   "name": "python3"
  },
  "language_info": {
   "codemirror_mode": {
    "name": "ipython",
    "version": 3
   },
   "file_extension": ".py",
   "mimetype": "text/x-python",
   "name": "python",
   "nbconvert_exporter": "python",
   "pygments_lexer": "ipython3",
   "version": "3.6.8"
  }
 },
 "nbformat": 4,
 "nbformat_minor": 4
}
