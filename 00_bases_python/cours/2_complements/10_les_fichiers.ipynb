{
 "cells": [
  {
   "cell_type": "markdown",
   "metadata": {},
   "source": [
    "# [Entrée/Sortie fichier - File I/O](https://docs.python.org/3/tutorial/inputoutput.html#reading-and-writing-files)\n",
    "Lire et écrire un fichier.\n",
    "\n",
    "**Attention**: il est indispensable de *copier ce fichier* ainsi que le *repertoire `donnees` dans un même lieu pour que tout fonctionne bien."
   ]
  },
  {
   "cell_type": "markdown",
   "metadata": {},
   "source": [
    "## Travailler avec les chemins -*paths*-"
   ]
  },
  {
   "cell_type": "code",
   "execution_count": null,
   "metadata": {},
   "outputs": [],
   "source": [
    "import os\n",
    "\n",
    "fichier_courant = os.path.realpath('10_les_fichiers.ipynb')  \n",
    "print(f'fichier courant: {fichier_courant}')\n",
    "# Note: dans un fichier .py vous pouvez obtenir le chemin du fichier courant avec la variable prédéfinie __file__\n",
    "\n",
    "dossier_courant = os.path.dirname(fichier_courant)  \n",
    "print(f'dossier courant: {dossier_courant}')\n",
    "# Note: dans un fichier .py vous pouvez obtenir le chemin du répertoire courant en utilisant os.path.dirname(__file__)\n",
    "\n",
    "dossier_de_donnees = os.path.join(os.path.dirname(dossier_courant), 'donnee') # une faute à corriger ...\n",
    "print(f'dossier de données: {dossier_de_donnees}')"
   ]
  },
  {
   "cell_type": "markdown",
   "metadata": {},
   "source": [
    "### Vérifier qu'un chemin existe"
   ]
  },
  {
   "cell_type": "code",
   "execution_count": null,
   "metadata": {},
   "outputs": [],
   "source": [
    "print(f'existe-t-il ? {os.path.exists(dossier_de_donnees)}')\n",
    "print(f'est-ce un fichier ? {os.path.isfile(dossier_de_donnees)}')\n",
    "print(f'est-ce un répertoire ? {os.path.isdir(dossier_de_donnees)}')"
   ]
  },
  {
   "cell_type": "markdown",
   "metadata": {},
   "source": [
    "## Lire un fichier"
   ]
  },
  {
   "cell_type": "code",
   "execution_count": null,
   "metadata": {},
   "outputs": [],
   "source": [
    "chemin_fichier = os.path.join(dossier_de_donnees, 'simple_fichier.txt')\n",
    "\n",
    "with open(chemin_fichier, 'r') as simple_fichier:\n",
    "    for ligne in simple_fichier:\n",
    "        print(ligne.strip())"
   ]
  },
  {
   "cell_type": "markdown",
   "metadata": {},
   "source": [
    "La construction [`with`](https://docs.python.org/3/reference/compound_stmts.html#the-with-statement) sert à obtenir un manager de contexte -[context manager](https://docs.python.org/3/reference/datamodel.html#with-statement-context-managers)- qui sera utilisé comme un contexte d'exécution pour les commandes à l'intérieur du bloc `with`. Les managers de contextes garantissent qu'un certain nombre d'opérations seront réalisées lorsqu'on quitte le contexte. \n",
    "\n",
    "Dans ce cas, le manager de contexte garanti la fermeture du fichier - `simple_fichier.close()` est appelé implicitement - lorsqu'on sort du bloc de contexte. C'est une façon de simplifier la vie du développeur: vous n'avez pas à vous occuper de la fermeture du fichier ni de la survenue d'erreur à l'ouverture du fichier. Oublier de fermer un fichier peut conduire à de sérieux problèmes ... (c'est une ressource partagée).\n",
    "\n",
    "Ainsi, pour les entrées/sorties fichier, il est toujours préférable d'utilisé la construction `with open(...) as <nom>:`\n",
    "\n",
    "Pour vous donner un exemple, le même que précédemment sans le `with`:"
   ]
  },
  {
   "cell_type": "code",
   "execution_count": null,
   "metadata": {},
   "outputs": [],
   "source": [
    "chemin_fichier = os.path.join(dossier_de_donnees, 'simple_fichier.txt')\n",
    "\n",
    "# ÉVITER CETTE FAÇON DE FAIRE\n",
    "simple_fichier = open(chemin_fichier, 'r')\n",
    "for ligne in simple_fichier:\n",
    "    print(ligne.strip())\n",
    "simple_fichier.close()  # Nous sommes obligés de fermer le fichier explicitement"
   ]
  },
  {
   "cell_type": "markdown",
   "metadata": {},
   "source": [
    "## Écrire dans un fichier"
   ]
  },
  {
   "cell_type": "code",
   "execution_count": null,
   "metadata": {},
   "outputs": [],
   "source": [
    "nouveau_chemin_fichier = os.path.join(dossier_de_donnees, 'nouveau_fichier.txt')\n",
    "\n",
    "with open(nouveau_chemin_fichier, 'w') as mon_fichier:\n",
    "    mon_fichier.write(\"C'est le premier fichier que j'écris avec Python.\")"
   ]
  },
  {
   "cell_type": "markdown",
   "metadata": {},
   "source": [
    "Après ça, assurez-vous qu'un fichier 'nouveau_fichier.txt' se trouve dans le dossier de données. \n",
    "\n",
    "Pour le supprimer:"
   ]
  },
  {
   "cell_type": "code",
   "execution_count": null,
   "metadata": {},
   "outputs": [],
   "source": [
    "if os.path.exists(nouveau_chemin_fichier):  # assurons-nous qu'il est bien présent.\n",
    "    os.remove(nouveau_chemin_fichier)"
   ]
  }
 ],
 "metadata": {
  "kernelspec": {
   "display_name": "Python 3",
   "language": "python",
   "name": "python3"
  },
  "language_info": {
   "codemirror_mode": {
    "name": "ipython",
    "version": 3
   },
   "file_extension": ".py",
   "mimetype": "text/x-python",
   "name": "python",
   "nbconvert_exporter": "python",
   "pygments_lexer": "ipython3",
   "version": "3.6.8"
  }
 },
 "nbformat": 4,
 "nbformat_minor": 4
}
