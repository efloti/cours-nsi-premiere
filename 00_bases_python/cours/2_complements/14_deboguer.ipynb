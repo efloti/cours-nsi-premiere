{
 "cells": [
  {
   "cell_type": "markdown",
   "metadata": {},
   "source": [
    "# Déboguer avec [`pdb`](https://docs.python.org/3/library/pdb.html#module-pdb)\n",
    "Votre programme ne se comporte pas toujours comme vous l'espérez. \n",
    "Si l'origine de l'erreur n'est pas claire, déboguer est la façon la plus efficace pour découvrir la cause principale du comportement inattendu.\n",
    "La bibliothèque standard de Python fournie un débogueur qui est un puissant outil pour résoudre n'importe quel problème relatif à votre code."
   ]
  },
  {
   "cell_type": "markdown",
   "metadata": {},
   "source": [
    "## `import pdb; pdb.set_trace()`\n",
    "Le cas d'utilisation basique pour déboguer est de vouloir stopper l'éxécution du programme à un certain point du code et visualiser les valeurs des variables et de l'éxécution du programme à partir de ce point. \n",
    "\n",
    "Pour cela, vous placer un point d'arrêt -*breakpoint*- à l'endroit voulu de votre code en utilisant `import pdb; pdb.set_trace()` (note: à partir des versions >= 3.7 de python, il y a un raccourci: `breakpoint()`).\n",
    "\n",
    "Lorsque vous éxécutez votre programme, l'éxécution s'arrêtera à ce point et vous entrerez dans une session interactive du débogueur. Vous pouvez mettre autant de points d'arrêt que vous le souhaitez."
   ]
  },
  {
   "cell_type": "markdown",
   "metadata": {},
   "source": [
    "## Commandes les plus utiles\n",
    "Voir la liste complète [ici](https://docs.python.org/3/library/pdb.html#debugger-commands).\n",
    "\n",
    "* `h` or `help`: Affiche la liste des commandes disponibles. Si vous donnez un argument, par exemple `help continue`, cela affichera l'aide pour la commande `continue`.\n",
    "* `l` or `list`: affiche le morceau du code situé autour de la position courrante du débogueur.\n",
    "* `n` or `next`: Exécute la ligne suivante.\n",
    "* `s` or `step`: Similaire à `next` mais entre dans la fonction appelée à la ligne suivante: \"steps into\" \n",
    "* `c` or `continue`: Poursuis l'éxécution jusqu'au prochain point d'arrêt.\n",
    "* `r` or `return`: Poursuis l'éxécution juqu'au retour de la fonction courante.\n",
    "* `q` or `quit`: quitte le débogueur et interrompt l'éxécution du programme.\n",
    "\n",
    "Noter que vous pouvez voir la valeur courante d'une variable en saisissant son nom pendant la session de débogage. Vous pouvez aussi éxécuter du code pendant ces sessions."
   ]
  },
  {
   "cell_type": "markdown",
   "metadata": {},
   "source": [
    "## Voyons comment cela fonctionne\n",
    "Supprimer le `#` au début des lignes `import pdb; pdb.set_trace()` et éxécuter la cellule. Éxécuter alors le programme ligne par ligne en utilisant les commandes données ci-dessus. Essayer les toutes au moins une fois et soyez attentif à la différence entre `n` et `s`."
   ]
  },
  {
   "cell_type": "code",
   "execution_count": null,
   "metadata": {},
   "outputs": [],
   "source": [
    "class SuperSaluateur:\n",
    "    def __init__(self, gens_a_saluer):\n",
    "        self.gens = gens_a_saluer\n",
    "\n",
    "    def saluer(self):\n",
    "        for personne in self.gens:\n",
    "            if personne.islower():\n",
    "                self._saluer_genre_rue(personne)\n",
    "            elif len(personne) > 7:\n",
    "                self._saluer_hawaii(personne)\n",
    "            else:\n",
    "                self._saluer_poliment(personne)\n",
    "            \n",
    "    def _saluer_poliment(self, nom):\n",
    "        salutation = f\"Bonjour {nom}! Comment allez-vous?\"\n",
    "        print(salutation)\n",
    "\n",
    "    def _saluer_genre_rue(self, nom):\n",
    "        # import pdb; pdb.set_trace()  # supprimer le premier #\n",
    "        nom = nom.upper()\n",
    "        print(f'OUAICHE, comment va {nom}!?')\n",
    "\n",
    "    def _saluer_hawaii(self, nom):\n",
    "        print(f'Aloha {nom}!')\n",
    "\n",
    "\n",
    "def main():\n",
    "    gens = ['John Doe', 'Donald', 'Lisa', 'alex']\n",
    "    # import pdb; pdb.set_trace()  # supprimer le premier #\n",
    "    saluateur = SuperSaluateur(gens)\n",
    "    saluateur.saluer()\n",
    "\n",
    "\n",
    "main()"
   ]
  }
 ],
 "metadata": {
  "kernelspec": {
   "display_name": "Python 3",
   "language": "python",
   "name": "python3"
  },
  "language_info": {
   "codemirror_mode": {
    "name": "ipython",
    "version": 3
   },
   "file_extension": ".py",
   "mimetype": "text/x-python",
   "name": "python",
   "nbconvert_exporter": "python",
   "pygments_lexer": "ipython3",
   "version": "3.6.8"
  }
 },
 "nbformat": 4,
 "nbformat_minor": 4
}
