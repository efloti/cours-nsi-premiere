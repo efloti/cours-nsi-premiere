{
 "cells": [
  {
   "cell_type": "markdown",
   "metadata": {},
   "source": [
    "# [Modules et paquets](https://docs.python.org/3/tutorial/modules.html#modules)\n",
    "\n",
    "> Un module est un fichier source contenant du code Python, c'est à dire un fichier avec une extension `.py`.\n",
    "\n",
    "> Un paquet est un répertoire qui contient un fichier `__init__.py` et qui peut contenir des modules python et d'autres paquets.  \n"
   ]
  },
  {
   "cell_type": "markdown",
   "metadata": {},
   "source": [
    "## Pourquoi organiser votre code en modules et paquets\n",
    "* Facile à maintenir\n",
    "* Réutilisation\n",
    "* Les espaces de noms -*Namespacing*\n",
    "* Quelqu'un qui n'est pas familier avec votre projet peut avoir une vue d'ensemble claire simplement en regardant l'organisation des répertoires de votre projet\n",
    "* Chercher certaine fonctionnalité ou classe est simple"
   ]
  },
  {
   "cell_type": "markdown",
   "metadata": {},
   "source": [
    "## Comment faire\n",
    "\n",
    "Utilisons l'organisation de répertoires suivante comme un exemple:\n",
    "\n",
    "      \n",
    "```\n",
    "epicerie/\n",
    "    __init__.py\n",
    "    \n",
    "    produit/\n",
    "        __init__.py\n",
    "        \n",
    "        fruit/\n",
    "            __init__.py\n",
    "            pomme.py\n",
    "            banane.py\n",
    "            \n",
    "        boisson/\n",
    "            __init__.py\n",
    "            jus.py\n",
    "            lait.py\n",
    "            biere.py\n",
    "\n",
    "    caisse/\n",
    "        __ini__.py\n",
    "        ticket.py\n",
    "        calculateur.py\n",
    "```\n",
    "\n",
    "\n",
    "Supposons que le fichier `biere.py` contienne:\n",
    "\n",
    "```python\n",
    "\n",
    "def obtenir_marques_disponibles():\n",
    "    return ['heineken', 'leffe', 'grimbergen']\n",
    "\n",
    "\n",
    "class Biere:\n",
    "    def __init__(self, marque='heineken'):\n",
    "        if marque not in obtenir_marques_disponibles():\n",
    "            raise ValueError(f'Marque inconnue: {marque}')\n",
    "        self._marque = marque\n",
    "     \n",
    "```"
   ]
  },
  {
   "cell_type": "markdown",
   "metadata": {},
   "source": [
    "### Importer\n",
    "\n",
    "Disons que nous avons besoin de la classe `Biere` définie dans biere.py à l'intérieur du fichier ticket.py. On y parvient en l'important au début du fichier ticket.py:\n",
    "\n",
    "```python\n",
    "# au début du fichier ticket.py\n",
    "from epicerie.produit.boisson.biere import Biere\n",
    "\n",
    "# On peut maintant l'utiliser comme cela:\n",
    "ma_biere = Biere()\n",
    "```\n",
    "\n",
    "\n",
    "\n",
    "Si nous avons besoin d'accéder à plusieurs classes ou fonctions définies dans le fichier biere.py:\n",
    "\n",
    "```python\n",
    "# au début du fichier ticket.py\n",
    "from epicerie.produit.boisson import biere\n",
    "\n",
    "# Cela s'utilise alors comme suit\n",
    "marques = biere.obtenir_marques_disponibles()\n",
    "ma_biere = biere.Biere(marques[-1])\n",
    "```"
   ]
  },
  {
   "cell_type": "markdown",
   "metadata": {},
   "source": [
    "Une introduction plus complète aux modules et paquets [ici](https://realpython.com/python-modules-packages/)."
   ]
  }
 ],
 "metadata": {
  "kernelspec": {
   "display_name": "Python 3",
   "language": "python",
   "name": "python3"
  },
  "language_info": {
   "codemirror_mode": {
    "name": "ipython",
    "version": 3
   },
   "file_extension": ".py",
   "mimetype": "text/x-python",
   "name": "python",
   "nbconvert_exporter": "python",
   "pygments_lexer": "ipython3",
   "version": "3.6.8"
  }
 },
 "nbformat": 4,
 "nbformat_minor": 4
}
