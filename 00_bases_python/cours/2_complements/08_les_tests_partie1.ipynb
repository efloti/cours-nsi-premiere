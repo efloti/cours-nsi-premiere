{
 "cells": [
  {
   "cell_type": "markdown",
   "metadata": {},
   "source": [
    "# Tester avec [pytest](https://docs.pytest.org/en/latest/) - partie 1"
   ]
  },
  {
   "cell_type": "markdown",
   "metadata": {},
   "source": [
    "## Pourquoi écrire des tests?\n",
    "* Qui a envie de faire des tests à la main lorsque ça va mal?\n",
    "* Lorsque vous venez à bout d'un bogue -*bug*-, les tests sont une façon de s'assurer que vous n'en avez pas introduit d'autres par la même occasion\n",
    "* Si vous avez des prérequis clairs, vous pouvez vérifier qu'ils sont bien respectés en réalisant un test pour chacun d'eux\n",
    "* Vous n'aurez pas peur au moment de la réorganisation du code -*refactoring*-\n",
    "* Les tests documentent l'organisation de votre code - ils montrent aux autres codeurs des cas d'utilisation -*use case*- de votre implémentation\n",
    "* Cette liste est sans fin..."
   ]
  },
  {
   "cell_type": "markdown",
   "metadata": {},
   "source": [
    "## [Développement dirigé par les tests - Test-driven development](https://en.wikipedia.org/wiki/Test-driven_development) aka TDD\n",
    "En bref, l'idée de base du TDD - développement dirigé par les tests - est d'écrire les tests avant même de réaliser l'implémentation effective.\n",
    "\n",
    "Le bénéfice le plus important, probablement, c'est que le développeur porte toute son attention à écrire des tests qui exprime ce que le programme est censé faire.\n",
    "\n",
    "Lorsqu'on procède dans l'autre sens - tests écris après l'implémentation - il y a de fortes chances qu'ils ne soient qu'une paraphrase de la logique déjà utilisée (et probablement mal ficelée) pour l'implémentation actuelle.\n",
    "\n",
    "Les tests sont «des citoyens de première classe» dans le développement moderne et agile d'applications, voila pourquoi il est si important de commencer à penser TDD pendant votre apprentissage de Python.\n",
    "\n",
    "La manière de travailler du TDD peut se résumer comme suit:\n",
    "1. Ajouter un scénario de test(s) (*test case*) pour chaque modification / nouvelle fonctionnalité / résolution de bug que vous vous apprêter à entreprendre\n",
    "2. Faire tourner tous les tests et vérifier que le nouveau échoue\n",
    "3. Implémenter les changements requis\n",
    "4. Faire de nouveau tourner tous les tests et vérifier que tout se passe bien (y compris le ou les nouveaux)\n",
    "5. Réorganiser le code (*refactoring*)"
   ]
  },
  {
   "cell_type": "markdown",
   "metadata": {},
   "source": [
    "### Utiliser `pytest` à l'intérieur des notebooks\n",
    "Pour pouvoir faire tourner `pytest` dans une cellule d'un notebook, il faut déjà s'assurer qu'il est bien installé ainsi que `ipytest`.\n",
    "\n",
    "Cela peut se faire avec les deux commandes suivantes dans la console:\n",
    "```bash\n",
    "python -m pip install pytest\n",
    "python -m pip install ipytest\n",
    "```\n",
    "\n",
    "Exécuter la cellule suivante pour vous en assurer:"
   ]
  },
  {
   "cell_type": "code",
   "execution_count": null,
   "metadata": {},
   "outputs": [],
   "source": [
    "# Assurons-nous que les paquets pytest et ipytest sont bien installés\n",
    "# ipytest est requis pour faire fonctionner pytest dans un notebook jupyter\n",
    "import sys\n",
    "!{sys.executable} -m pip install pytest\n",
    "!{sys.executable} -m pip install ipytest"
   ]
  },
  {
   "cell_type": "markdown",
   "metadata": {},
   "source": [
    "Il suffit ensuite d'importer les modules `ipytest.magics` et `pytest` puis d'indiquer le nom du notebook (extension comprise) courant dans la variable spéciale `__file__`\n",
    "."
   ]
  },
  {
   "cell_type": "code",
   "execution_count": null,
   "metadata": {},
   "outputs": [],
   "source": [
    "import ipytest.magics\n",
    "import pytest\n",
    "\n",
    "# Le nom du fichier doit obligatoirement précisé pour ipytest \n",
    "__file__ = '08_les_tests_partie1.ipynb'"
   ]
  },
  {
   "cell_type": "markdown",
   "metadata": {},
   "source": [
    "## Scénario de test avec `pytest`\n",
    "Supposons disposer d'une fonction nommée `somme_de_trois_nombres` pour laquelle nous souhaitons réaliser un test."
   ]
  },
  {
   "cell_type": "code",
   "execution_count": null,
   "metadata": {},
   "outputs": [],
   "source": [
    "# Cela pourrait être, par exemple, dans un fichier implementation.py\n",
    "def somme_de_trois_nombres(nb1, nb2, nb3):\n",
    "    return nb1 + nb2 + nb3"
   ]
  },
  {
   "cell_type": "markdown",
   "metadata": {},
   "source": [
    "Les scénarios de test de `pytest` sont en réalité très similaire à ce que vous avez déjà vu dans les exercices.\n",
    "La plupart des exercices sont structurés comme des scénarios de test en divisant chaque exercice en trois cellules:\n",
    "1. Définition des variables à utiliser dans les tests\n",
    "2. Votre implémentation (À ton tour!)\n",
    "3. Vérification que votre implémentation respecte l'énoncé en utilisant des assertions (`assert <test>`)\n",
    "\n",
    "Voir l'exemple de scénario de test ci-dessous pour observer les similitudes entre l'organisation des exercices et la structure habituel des scénarios de test."
   ]
  },
  {
   "cell_type": "code",
   "execution_count": null,
   "metadata": {},
   "outputs": [],
   "source": [
    "%%run_pytest[clean]\n",
    "# Mention à utiliser au tout début de la cellule qui contient un ou plusieurs tests.\n",
    "# C'est seulement requis pour faire fonctionner pytest dans les notebooks Jupyter.\n",
    "\n",
    "\n",
    "# Cela pourrait se situer dans un fichier test_implementation.py\n",
    "def test_somme_de_trois_nombres():\n",
    "    # 1. Définir les variables utilisées dans le test\n",
    "    nb1 = 2\n",
    "    nb2 = 3\n",
    "    nb3 = 5\n",
    "    \n",
    "    # 2. Appeler la fonction à tester\n",
    "    resultat = somme_de_trois_nombres(nb1, nb2, nb3)\n",
    "    \n",
    "    # 3. Vérifier que cela produit le résultat voulu\n",
    "    assert resultat == 10"
   ]
  },
  {
   "cell_type": "markdown",
   "metadata": {},
   "source": [
    "Maintenant changer la ligne `assert resultat == 10` de façon à faire échouer l'assertion afin de voir à quoi ressemble un test qui échoue."
   ]
  }
 ],
 "metadata": {
  "kernelspec": {
   "display_name": "Python 3",
   "language": "python",
   "name": "python3"
  },
  "language_info": {
   "codemirror_mode": {
    "name": "ipython",
    "version": 3
   },
   "file_extension": ".py",
   "mimetype": "text/x-python",
   "name": "python",
   "nbconvert_exporter": "python",
   "pygments_lexer": "ipython3",
   "version": "3.6.8"
  }
 },
 "nbformat": 4,
 "nbformat_minor": 4
}
