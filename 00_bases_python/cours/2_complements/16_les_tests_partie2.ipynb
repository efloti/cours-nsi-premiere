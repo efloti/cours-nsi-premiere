{
 "cells": [
  {
   "cell_type": "markdown",
   "metadata": {},
   "source": [
    "# Testing with [pytest](https://docs.pytest.org/en/latest/) - part 2"
   ]
  },
  {
   "cell_type": "code",
   "execution_count": null,
   "metadata": {},
   "outputs": [],
   "source": [
    "# Assurons nous que les paquets pytest et ipytest sont installés\n",
    "# ipytest est requis pour faire tourner pytest dans un notebook Jupyter\n",
    "import sys\n",
    "!{sys.executable} -m pip install pytest\n",
    "!{sys.executable} -m pip install ipytest\n",
    "\n",
    "import ipytest.magics\n",
    "import pytest\n",
    "__file__ = '16_les_tests_partie2.ipynb'"
   ]
  },
  {
   "cell_type": "markdown",
   "metadata": {},
   "source": [
    "## [`@pytest.fixture`](https://docs.pytest.org/en/latest/fixture.html#pytest-fixtures-explicit-modular-scalable)\n",
    "Supposons disposer de l'implémentation d'une classe `Personne` que nous souhaitons tester."
   ]
  },
  {
   "cell_type": "code",
   "execution_count": null,
   "metadata": {},
   "outputs": [],
   "source": [
    "# Cela pourrait se trouver dans un fichier personne.py par exemple\n",
    "class Personne:\n",
    "    def __init__(self, prenom, nom, age):\n",
    "        self.prenom = prenom\n",
    "        self.nom = nom\n",
    "        self.age = age\n",
    "    \n",
    "    @property\n",
    "    def nom_complet(self):\n",
    "        return f'{self.prenom} {self.nom}'\n",
    "    \n",
    "    @property\n",
    "    def comme_dictionnaire(self):\n",
    "        return {'nom': self.nom_complet, 'age': self.age}\n",
    "        \n",
    "    def augmenter_age(self, annees):\n",
    "        if annees < 0:\n",
    "            raise ValueError('Je ne peux pas rajeunir les gens :(')\n",
    "        self.age += annees"
   ]
  },
  {
   "cell_type": "markdown",
   "metadata": {},
   "source": [
    "Vous pouvez facilement réutiliser du code de test en utilisant les «fixtures» de pytest.\n",
    "Si vous placez vos fixtures dans [_conftest.py_](https://docs.pytest.org/en/latest/fixture.html#conftest-py-sharing-fixture-functions), ces fixtures sont disponibles pour tout vos scénarios de test.\n",
    "En général, le fichier _conftest.py_ se situe à la racine de votre répertoire _tests_."
   ]
  },
  {
   "cell_type": "code",
   "execution_count": null,
   "metadata": {},
   "outputs": [],
   "source": [
    "# Cela serait soit dans conftest.py soit dans test_personne.py\n",
    "@pytest.fixture()\n",
    "def personne_par_defaut():\n",
    "    personne = Personne(prenom='John', nom='Doe', age=82)\n",
    "    return personne"
   ]
  },
  {
   "cell_type": "markdown",
   "metadata": {},
   "source": [
    "Dès lors, vous pouvez utiliser la fixture `personne_par_defaut` dans les scénarios de tests effectifs. "
   ]
  },
  {
   "cell_type": "code",
   "execution_count": null,
   "metadata": {},
   "outputs": [],
   "source": [
    "%%run_pytest[clean]\n",
    "\n",
    "# Cela se trouverait dans le fichier test_personne.py\n",
    "def test_nom_complet(personne_par_defaut): # Note: nous utilisons la fixture comme un argument du test\n",
    "    resultat = personne_par_defaut.nom_complet\n",
    "    assert resultat == 'John Doe'\n",
    "    \n",
    "    \n",
    "def test_comme_dictionnaire(personne_par_defaut):\n",
    "    attendu = {'nom': 'John Doe', 'age': 82}\n",
    "    resultat = personne_par_defaut.comme_dictionnaire\n",
    "    assert resultat == attendu\n",
    "    \n",
    "    \n",
    "def test_augmenter_age(personne_par_defaut):\n",
    "    personne_par_defaut.augmenter_age(1)\n",
    "    assert personne_par_defaut.age == 83\n",
    "    \n",
    "    personne_par_defaut.augmenter_age(10)\n",
    "    assert personne_par_defaut.age == 93\n",
    "    \n",
    "    \n",
    "def test_augmenter_age_avec_nombre_negatif(personne_par_defaut):\n",
    "    with pytest.raises(ValueError):\n",
    "        personne_par_defaut.augmenter_age(-1)"
   ]
  },
  {
   "cell_type": "markdown",
   "metadata": {},
   "source": [
    "En utilisant une fixture, nous pouvons utiliser la même `personne_par_defaut` pour tout nos scénarios de test!\n",
    "\n",
    "Dans le `test_augmenter_age_avec_nombre_negatif` nous avons utilisé [`pytest.raises`](https://docs.pytest.org/en/latest/assert.html#assertions-about-expected-exceptions) pour vérifier qu'une exception a bien été levée. "
   ]
  },
  {
   "cell_type": "markdown",
   "metadata": {},
   "source": [
    "## [`@pytest.mark.parametrize`](https://docs.pytest.org/en/latest/parametrize.html#pytest-mark-parametrize-parametrizing-test-functions)\n",
    "Parfois vous voulez tester la même fonctionnalité avec de multiples entrées. `pytest.mark.parametrize` est votre solution pour définir de multiples entrées avec les sorties attendues. Considérons l'implémentation suivante de la fonction `remplacer_noms`."
   ]
  },
  {
   "cell_type": "code",
   "execution_count": null,
   "metadata": {},
   "outputs": [],
   "source": [
    "# Par exemple dans string_manipulate.py\n",
    "def remplacer_noms(chaine_originale, nouveau_nom):\n",
    "    \"\"\"Remplace les noms (qui débutent par une majuscule) de la chaine_originale par nouveau_nom\"\"\"\n",
    "    mots = chaine_originale.split()\n",
    "    mots_manipulees = [nouveau_nom if mot.istitle() else mot for mot in mots]\n",
    "    return ' '.join(mots_manipulees)"
   ]
  },
  {
   "cell_type": "markdown",
   "metadata": {},
   "source": [
    "Nous pouvons tester la fonction `remplacer_noms` avec plusieurs entrées en utilisant `pytest.mark.parametrize`."
   ]
  },
  {
   "cell_type": "code",
   "execution_count": null,
   "metadata": {},
   "outputs": [],
   "source": [
    "%%run_pytest[clean]\n",
    "\n",
    "# Cela pourrait être dans votre module de test\n",
    "@pytest.mark.parametrize(\"orig,nom,attendu\", [\n",
    "        ('je suis Lisa', 'John Doe', 'je suis John Doe'),\n",
    "        ('comment vont Anne et Bob', 'John', 'comment vont John et John'),\n",
    "        ('pas de nom ici', 'John Doe', 'pas de nom ici'),\n",
    "    ])\n",
    "def test_remplacer_noms(orig, nom, attendu):\n",
    "    resultat = remplacer_noms(orig, nom)\n",
    "    assert resultat == attendu"
   ]
  }
 ],
 "metadata": {
  "kernelspec": {
   "display_name": "Python 3",
   "language": "python",
   "name": "python3"
  },
  "language_info": {
   "codemirror_mode": {
    "name": "ipython",
    "version": 3
   },
   "file_extension": ".py",
   "mimetype": "text/x-python",
   "name": "python",
   "nbconvert_exporter": "python",
   "pygments_lexer": "ipython3",
   "version": "3.6.8"
  }
 },
 "nbformat": 4,
 "nbformat_minor": 4
}
