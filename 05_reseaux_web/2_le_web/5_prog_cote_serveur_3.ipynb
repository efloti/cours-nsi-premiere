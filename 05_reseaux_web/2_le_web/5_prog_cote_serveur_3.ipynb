{
 "cells": [
  {
   "cell_type": "markdown",
   "metadata": {},
   "source": [
    "# Programmation côté serveur - 3ème partie"
   ]
  },
  {
   "cell_type": "markdown",
   "metadata": {},
   "source": [
    "Dans cette dernière partie, nous abordons:\n",
    "\n",
    "- exploiter un **formulaire** avec la méthode `POST`; application à la réalisation d'une **session** très simple (nous réutiliserons les cookies).\n",
    "\n",
    "- **persister les données** côtés serveur; application à l'enregistrement de messages d'un utilisateur identifié."
   ]
  },
  {
   "cell_type": "markdown",
   "metadata": {},
   "source": [
    "## Formulaire soumis avec la méthode `POST`"
   ]
  },
  {
   "cell_type": "markdown",
   "metadata": {},
   "source": [
    "La première méthode de soumission du formulaire modifie l'url et affiche en clair les valeurs envoyées ... cela n'est pas toujours souhaitable. Par exemple, imaginer le problème avec un formulaire d'authentification (login, mot de passe)..."
   ]
  },
  {
   "cell_type": "markdown",
   "metadata": {},
   "source": [
    "On peut donc soumettre le formulaire avec `method=\"post\"` de façon à ce que les données envoyées soient placées dans le **corps** de la requête du navigateur (elles sont toutefois envoyées en clair si on utilise pas http**s**...)"
   ]
  },
  {
   "cell_type": "markdown",
   "metadata": {},
   "source": [
    "### Exemple"
   ]
  },
  {
   "cell_type": "markdown",
   "metadata": {},
   "source": [
    "Le programme cgi <a href=\"demo_web_cgi/cgi-bin/form_post.py\">form_post.py</a> (répertoire *demo_web_cgi/cgi-bin*) illustre la création d'une **session**. "
   ]
  },
  {
   "cell_type": "markdown",
   "metadata": {},
   "source": [
    "On appelle **session** l'ensemble des requête/réponse http d'un utilisateur «reconnue» par le serveur."
   ]
  },
  {
   "cell_type": "markdown",
   "metadata": {},
   "source": [
    "La **création d'une session** s'appuie sur l'**enregistrement d'un cookie** dont le rôle est d'identifier l'utilisateur en cours."
   ]
  },
  {
   "cell_type": "markdown",
   "metadata": {},
   "source": [
    "Dans cet exemple volontairement très simple, si l'utilisateur connaît le mot de passe du site (trouver le!), il peut s'authentifier et accéder à un contenu réservé aux utilisateur connectés. "
   ]
  },
  {
   "cell_type": "markdown",
   "metadata": {},
   "source": [
    "La logique de ce script est un peu plus élaborée que les précédents du fait que le programme peut s'exécuter dans plusieurs cas de figure:\n",
    "\n",
    "- **si** l'utilisateur n'a pas de cookie de session: \n",
    "    - **si** le formulaire n'a pas été soumis: on lui affiche le formulaire,\n",
    "    - **sinon si** (l'utilisateur vient de soumettre le formulaire) le mot de passe est correct:\n",
    "        - on demande l'enregistrement d'un cookie et on affiche le contenu «secret»,\n",
    "    - **sinon**: on réaffiche le formulaire avec un petit message d'erreur\n",
    "- **sinon** (l'utilisateur a un cookie de session):\n",
    "    - on récupère les informations de session (son login) en parsant le cookie,\n",
    "    - et on affiche le message secret."
   ]
  },
  {
   "cell_type": "markdown",
   "metadata": {},
   "source": [
    "## Persistance des messages de l'utilisateur"
   ]
  },
  {
   "cell_type": "markdown",
   "metadata": {},
   "source": [
    "Nous souhaitons à présent qu'un utilisateur authentifié puisse écrire des messages, se déconnecter, revenir plus tard et **récupérer** ses messages."
   ]
  },
  {
   "cell_type": "markdown",
   "metadata": {},
   "source": [
    "Pour parvenir à un tel résultat, il est nécessaire que le programme cgi enregistre les messages quelques part sur son hôte (la machine où il s'exécute).\n",
    "\n",
    "**N'oublier pas** que le programme cgi s'exécute à chaque requête du client, il ne peut donc mémoriser des information dans une variable pour long terme."
   ]
  },
  {
   "cell_type": "markdown",
   "metadata": {},
   "source": [
    "On peut imaginer plusieurs façons de procéder pour enregistrer les informations, on peut le faire dans:\n",
    "1. un **simple fichier texte** comme un fichier *csv* ou *json* par exemple,\n",
    "\n",
    "2. un **fichier binaire** (non lisible) qui permet facilement de récupérer des données structurées (liste, dictionnaire, etc.),\n",
    "\n",
    "3.  une **base de données** (programme de terminale) - seule solution possible pour un site qui permet d'enregistre beaucoup d'informations de natures différentes.\n"
   ]
  },
  {
   "cell_type": "markdown",
   "metadata": {},
   "source": [
    "### Rappel python - les fichiers"
   ]
  },
  {
   "cell_type": "markdown",
   "metadata": {},
   "source": [
    "Pour ouvrir un fichier texte avec Python, on utilise la fonction prédéfinie `open(\"nom_fichier\", mode)` laquelle renvoie un «handler» de fichier qui sert à agir dessus."
   ]
  },
  {
   "cell_type": "markdown",
   "metadata": {},
   "source": [
    "Voilà à quoi cela ressemble basiquement, exemple d'un fichier ouvert en écriture (mode \"w\"):\n",
    "\n",
    "```python\n",
    "# éviter de procéder comme cela; utiliser with (voir plus loin)\n",
    "f = open(\"mon_fichier\", \"w\") \n",
    "f.write(\"...contenu...\")\n",
    "...\n",
    "f.close() # libérer la ressource quand on a fini.\n",
    "```"
   ]
  },
  {
   "cell_type": "markdown",
   "metadata": {},
   "source": [
    "Le **mode** précise si le fichier est ouvert en lecture `\"r\"`, en écriture `\"w\"`, en mode «ajout» `\"a\"` (on peut les combiner par ex `\"rw\"`)\n",
    "\n",
    "Par défaut, le fichier est ouvert en mode «texte». Pour un fichier **binaire**, on précise `b` au mode."
   ]
  },
  {
   "cell_type": "markdown",
   "metadata": {},
   "source": [
    "Après ouverture, le fichier (qui est sur le disque) est placé en mémoire centrale dans une zone spéciale appelée tampon *buffer* (par le système d'exploitation); il est indispensable d'indiquer la fin de l'utilisation du fichier par `.close()` qui indique au système d'exploitation de libérer cette zone mémoire."
   ]
  },
  {
   "cell_type": "markdown",
   "metadata": {},
   "source": [
    "Pour rendre ce processus plus net pour le programmeur, python dispose d'un mot clé spécial `with` (on appelle cela un manager de contexte). L'utilisation d'un fichier sera alors de la forme:\n",
    "\n",
    "```python\n",
    "with open(\"mon_fichier\", \"w\") as f:\n",
    "    # bloc d'accès au fichier via f\n",
    "    f.write(\"...contenu...\")\n",
    "    ...\n",
    "    # à la sortie du bloc, le fichier est libéré: inutile de penser à close\n",
    "\n",
    "# dans cette zone, le fichier a été libéré.\n",
    "```"
   ]
  },
  {
   "cell_type": "markdown",
   "metadata": {},
   "source": [
    "Voici un exemple (attention, pour le tester, il faut copier ce notebook dans votre espace personnel):"
   ]
  },
  {
   "cell_type": "code",
   "execution_count": null,
   "metadata": {},
   "outputs": [],
   "source": [
    "descripteurs = [\"nom\", \"prenom\", \"email\"]\n",
    "valeurss = [\n",
    "    [\"Dupond\", \"tartampion\", \"d.tart@truc.com\"],\n",
    "    [\"Ulrich\", \"Yahn\", \"champion@world.org\"],\n",
    "]\n",
    "\n",
    "with open(\"personnes_importantes\", \"w\") as f:\n",
    "    f.write(\n",
    "        \",\".join(descripteurs) + \"\\n\"\n",
    "    )\n",
    "    for valeurs in valeurss:\n",
    "        f.write(\n",
    "            \",\".join(valeurs) + \"\\n\"\n",
    "        )"
   ]
  },
  {
   "cell_type": "markdown",
   "metadata": {},
   "source": [
    "Après exécution de cette cellule, vous devriez apercevoir le fichier créé (sinon c'est que ce notebook n'est pas dans votre répertoire personnelle).\n",
    "\n",
    "Ajoutons une ligne, puis relisons le tout:"
   ]
  },
  {
   "cell_type": "code",
   "execution_count": null,
   "metadata": {},
   "outputs": [],
   "source": [
    "with open(\"personnes_importantes\", \"a\") as f:\n",
    "    f.write(\"Doe, John, john.doe@python.org\\n\")\n",
    "\n",
    "with open(\"personnes_importantes\", \"r\") as f:\n",
    "    for ligne in f:\n",
    "        print(ligne, end=\"\")\n",
    "\n",
    "print(\"fin de la démo\")"
   ]
  },
  {
   "cell_type": "markdown",
   "metadata": {},
   "source": [
    "Observer ce qui se passe lorque vous exécuter plusieurs fois la dernière cellule... comprenez-vous?"
   ]
  },
  {
   "cell_type": "markdown",
   "metadata": {},
   "source": [
    "Dans le contexte d'une application web, la difficulté avec cette manière de faire est qu'il est nécessaire de formater l'information dans le sens de l'écriture puis de décrypter ce format dans le sens de la lecture."
   ]
  },
  {
   "cell_type": "markdown",
   "metadata": {},
   "source": [
    "Heureusement, Python propose des outils afin de sauvegarder/restaurer ses propres structures (liste, dictionnaire, ...)"
   ]
  },
  {
   "cell_type": "markdown",
   "metadata": {},
   "source": [
    "### Sauvegarder/Restaurer des données avec le module `pickle`"
   ]
  },
  {
   "cell_type": "markdown",
   "metadata": {},
   "source": [
    "Ce module, propre à Python, utilise un fichier binaire comme support de la sauvegarde.\n",
    "\n",
    "Voici comment il s'utilise dans les grandes lignes (sauvegarder -> `dump`; restaurer -> `load`):\n",
    "\n",
    "```python\n",
    "import pickle\n",
    "\n",
    "# sauvegarde d'une donnée structurée (qui peut être de type list, dict, set, ...)\n",
    "with open(\"sauvegarde\", \"wb\") as f:\n",
    "    # sauvegarde d'une structure référencée par variable\n",
    "    pickle.dump(variable, f)\n",
    "\n",
    "# restauration\n",
    "with open(\"sauvegarde\", \"rb\") as f:\n",
    "    variable = pickle.load(f)\n",
    "```"
   ]
  },
  {
   "cell_type": "markdown",
   "metadata": {},
   "source": [
    "### Exemple final"
   ]
  },
  {
   "cell_type": "markdown",
   "metadata": {},
   "source": [
    "Le programme cgi <a href=\"demo_web_cgi/cgi-bin/messages.py\">messages.py</a> (répertoire *demo_web_cgi/cgi-bin*) permet à l'utilisateur authentifié d'écrire des messages sauvegardés par l'application. "
   ]
  },
  {
   "cell_type": "markdown",
   "metadata": {},
   "source": [
    "Il utilise quelques éléments que nous n'avons pas encore vue:"
   ]
  },
  {
   "cell_type": "markdown",
   "metadata": {},
   "source": [
    "- **Redirection**: Pour éviter que le code soit trop long, on réutilise le programme        d'authentification *form_post.py* en utilisant une redirection à l'aide d'une balise d'entête HTML de   la forme:\n",
    "\n",
    "  ```html\n",
    "  <meta http-equiv=\"refresh\" \n",
    "        content=\"<nb_secondes_attente>;URL=<chemin_prog_cgi>\"\n",
    "  />\n",
    "  ```\n",
    "  Son effet est d'attendre le temps indiqué puis de demander la ressource précisée par URL."
   ]
  },
  {
   "cell_type": "markdown",
   "metadata": {},
   "source": [
    "- **Gestion des cookie**: nous avons vu que décrypter un cookie n'était pas si simple. Heureusement le sous-module `cookies` de `http` permet de faire cela plus simplement:\n",
    "\n",
    "  ```python\n",
    "  import os\n",
    "  from http import cookies\n",
    "  \n",
    "  # récupération du cookie\n",
    "  cookie = cookies.SimpleCookie(\n",
    "      os.environ(\"HTTP_COOKIE\")\n",
    "  )\n",
    "  \n",
    "  # extraction de la valeur associée à une clé\n",
    "  valeur_de_cle = cookie[\"<la clef>\"].value\n",
    "  ```"
   ]
  },
  {
   "cell_type": "markdown",
   "metadata": {},
   "source": [
    "- **Tentative de lecture d'un fichier inexistant**: la première fois que la page d'écriture des messages est visitée, le fichier qui les contient n'existe pas.\n",
    "\n",
    "  Plutôt que de détecter si c'est la première fois que la page est visitée, on utilise un structure\n",
    "  permettant d'éviter que le programme ne s'arrête en cas d'erreur (tentative d'ouvrir un fichier non   existant). Voilà à quoi cette structure ressemble.\n",
    "\n",
    "  ```python\n",
    "  try:\n",
    "      # code risquant de produire une erreur (on dit exception)\n",
    "  except:\n",
    "      # code à appliquer si l'erreur se produit\n",
    "  ```"
   ]
  },
  {
   "cell_type": "markdown",
   "metadata": {},
   "source": [
    "### Vidéo d'aide"
   ]
  },
  {
   "cell_type": "code",
   "execution_count": null,
   "metadata": {},
   "outputs": [],
   "source": [
    "%%HTML\n",
    "<iframe src=\"https://player.vimeo.com/video/403634384\" width=\"640\" height=\"564\" frameborder=\"0\" allow=\"autoplay; fullscreen\" allowfullscreen></iframe>"
   ]
  },
  {
   "cell_type": "markdown",
   "metadata": {},
   "source": [
    "## Conclusion - perspective"
   ]
  },
  {
   "cell_type": "markdown",
   "metadata": {},
   "source": [
    "La programmation web côté serveur fait intervenir beaucoup de connaissances diverses et est donc difficile pour un débutant. \n",
    "\n",
    "L'informatique ressemble à un gigantesque puzzle dont on prend connaissance pièce par pièce sans pour autant parvenir à voir le paysage dans son ensemble: mais rassurez-vous, petit à petit les pièces s'assemblent, le tout prend corps et cela va de plus en plus vite car les même techniques sont utilisées encore et encore. Patience donc.\n",
    "\n",
    "\n",
    "\n",
    "Néanmoins, si vous êtes parvenu jusqu'ici et avez le sentiment de comprendre les programmes dans les grandes lignes (sans pour autant être en mesure de les écrire par vous-même), vous avez acquis l'essentiel."
   ]
  },
  {
   "cell_type": "markdown",
   "metadata": {},
   "source": [
    "Pour réaliser des applications web de grande envergure, on utilise en pratique des **frameworks**. Ce terme regroupe à la fois:\n",
    "\n",
    "- une méthodologie de codage propre au framework utilisé,\n",
    "- des librairies pour automatiser les tâches ingrates (gestion des sessions, persistance des données, etc.)"
   ]
  },
  {
   "cell_type": "markdown",
   "metadata": {},
   "source": [
    "Il y a de très nombreux **frameworks** pour différents usages et différents langages.\n",
    "\n",
    "Pour ce qui concerne Python, il y a notamment:\n",
    "- [flask](https://palletsprojects.com/p/flask/) qui regroupe en fait une palette d'outils pour le web,\n",
    "- [django](https://www.djangoproject.com/) très puissant et très utilisé,\n",
    "- et la liste ne s'arrête pas là ..."
   ]
  },
  {
   "cell_type": "markdown",
   "metadata": {},
   "source": [
    "**Pourquoi ne pas avoir appris l'un d'eux alors?** Eh bien ... il y a deux raisons principales:\n",
    "1. ces outils font appels à des notions de programmation avancées (packetage, classes, structures, base de données...),\n",
    "2. ils cachent les détails du dialogue http, tout en les utilisant intensivement. Ils présupposent que leurs utilisateurs connaissent les mécanismes de base du web et s'appuient dessus."
   ]
  },
  {
   "cell_type": "markdown",
   "metadata": {},
   "source": [
    "### Mini-projet - pour faire le point sur toutes les notions vues jusqu'ici"
   ]
  },
  {
   "cell_type": "markdown",
   "metadata": {},
   "source": [
    "Avec les connaissances acquises (ou en cours d'acquisition...), vous devriez être en mesure de réaliser une petite «chatroom»:\n",
    "\n",
    "- Les utilisateurs peuvent s'authentifier,\n",
    "- ils postent des messages et voient les messages des autres utilisateurs «en ligne»."
   ]
  },
  {
   "cell_type": "markdown",
   "metadata": {},
   "source": [
    "Cela n'a pas besoin d'être beau, mais simplement fonctionnel: un seul programme cgi suffit."
   ]
  },
  {
   "cell_type": "markdown",
   "metadata": {},
   "source": [
    "Cependant, le serveur cgi de python (lancé en ligne de commande) a le défaut d'exiger que les scripts soit dans un sous dossier *cgi-bin* ce qui n'est pas pratique pour une telle application «mono-script».\n",
    "\n",
    "Voici le code d'un serveur cgi qui lance le (ou les scripts) situés dans le répertoire où on le lance:"
   ]
  },
  {
   "cell_type": "markdown",
   "metadata": {},
   "source": [
    "```python\n",
    "#!/opt/tljh/user/bin/python\n",
    "\n",
    "import sys\n",
    "import http.server as s\n",
    " \n",
    "port = sys.argv[1]\n",
    "\n",
    "gestionnaire = s.CGIHTTPRequestHandler\n",
    "gestionnaire.cgi_directories = [\"/\"]\n",
    "\n",
    "httpd = s.HTTPServer(\n",
    "    (\"\", int(port)),\n",
    "    gestionnaire\n",
    ")\n",
    "print(\"Serveur actif sur le port :\", port)\n",
    "httpd.serve_forever()\n",
    "```"
   ]
  },
  {
   "cell_type": "markdown",
   "metadata": {},
   "source": [
    "Créer un fichier *httpd_cgi* avec ce code, rendez le exécutable et placer le dans votre dossier `~/bin` pour en faire une commande (comme expliqué dans [cette vidéo](https://vimeo.com/398805308)).\n",
    "\n",
    "Créer un dossier *web_mini_chat* et dedans, votre programme cgi *minichat.py* (à rendre exécutable) dont le début pourrait être:\n",
    "\n",
    "```python\n",
    "#!/opt/tljh/user/bin/python\n",
    "\n",
    "import cgitb; cgitb.enable() # facilite le débogage en cours de développement\n",
    "\n",
    "print(\"Content-type: text/html; charset=utf-8/n\")\n",
    "print(\"<h2>Mini-Chat: c'est parti!</h2>\")\n",
    "```\n",
    "\n",
    "Cela fait, commencer votre développement en lançant votre serveur `$ httpd_cgi <port>` **depuis** le dossier *web_mini_chat* et en ouvrant l'url `jhub.fdex.eu:<port>/minichat.py`.\n"
   ]
  }
 ],
 "metadata": {
  "kernelspec": {
   "display_name": "Python 3",
   "language": "python",
   "name": "python3"
  },
  "language_info": {
   "codemirror_mode": {
    "name": "ipython",
    "version": 3
   },
   "file_extension": ".py",
   "mimetype": "text/x-python",
   "name": "python",
   "nbconvert_exporter": "python",
   "pygments_lexer": "ipython3",
   "version": "3.6.8"
  }
 },
 "nbformat": 4,
 "nbformat_minor": 4
}
