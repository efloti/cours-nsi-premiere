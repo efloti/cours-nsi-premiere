{
 "cells": [
  {
   "cell_type": "markdown",
   "metadata": {},
   "source": [
    "# Programmation côté client avec Javascript"
   ]
  },
  {
   "cell_type": "markdown",
   "metadata": {},
   "source": [
    "**Javascript** est un langage de programmation né en 1995 (peu après la naissance du web) en étroite relation avec le navigateur web dominant de l'époque, Netscape. Il est rapidement devenu un **standard** pour tous les navigateurs web.\n",
    "\n",
    "Son but est d'améliorer l'*interactivité* des pages webs, de les rendre «dynamique» sans pour autant envoyer de requête au serveur.\n",
    "\n",
    "Ainsi, tous les navigateurs web intègre un **interpréteur Javascript** dont le rôle est d'exécuter du code Javascript *associé* à une page web particulière afin de savoir comment réagir aux actions de l'utilisateur sur cette page."
   ]
  },
  {
   "cell_type": "markdown",
   "metadata": {},
   "source": [
    "**Note**: tous les fichiers de cette partie sont dans le dossier *Exemples_prog_client_javascript*"
   ]
  },
  {
   "cell_type": "markdown",
   "metadata": {},
   "source": [
    "## Exemple basique - un compteur"
   ]
  },
  {
   "cell_type": "markdown",
   "metadata": {},
   "source": [
    "Dans la page html un peu après, le code source javascript est situé à deux endroits:\n",
    "- à l'intérieur de la balise `<script>`,\n",
    "- dans l'attribut `onclick` de l'élément `<button>`"
   ]
  },
  {
   "cell_type": "markdown",
   "metadata": {},
   "source": [
    "Charger cet exemple pour voir ce qu'il fait."
   ]
  },
  {
   "cell_type": "markdown",
   "metadata": {},
   "source": [
    "```html\n",
    "<!DOCTYPE html>\n",
    "<html>\n",
    "    <head>\n",
    "        <script>\n",
    "            let compteur = 0;\n",
    "            function suivant() {\n",
    "                compteur = compteur + 1;\n",
    "                let vElt = document.querySelector('#valeur');\n",
    "                vElt.textContent = compteur;\n",
    "            }\n",
    "        </script>\n",
    "    </head>\n",
    "    <body>\n",
    "        <button onclick=\"suivant();\">clic!</button>\n",
    "        <span id=\"valeur\">0</span>\n",
    "    </body>\n",
    "</html>\n",
    "```"
   ]
  },
  {
   "cell_type": "markdown",
   "metadata": {},
   "source": [
    "Vous devinez (je l'espère) que `let compteur = 0;` sert à *définir* et *initialiser* une variable et que `function suivant() { ... }` sert à *définir* une fonction.\n",
    "\n",
    "Observer quelques différences importantes avec Python, principalement:\n",
    "- la **déclaration** d'une variable est précédée par un mot clé `let`,\n",
    "- chaque **instruction** est terminée par un point virgule `;`,\n",
    "- le **corps d'une fonction** est délimité par des accolades `{ instruction1; instruction2; ... }`; l'indentation n'a pas de signification pour Javascript."
   ]
  },
  {
   "cell_type": "markdown",
   "metadata": {},
   "source": [
    "### Objets javascript associés aux balises"
   ]
  },
  {
   "cell_type": "markdown",
   "metadata": {},
   "source": [
    "Lorsque le navigateur charge le fichier html, il produit *pour chaque balise html* un **objet javascript** qui représente cette balise. \n",
    "\n",
    "Il produit aussi un objet `document` qui représente la page HTML dans son ensemble.\n",
    "\n",
    "Afin de récupérer un objet produit par le navigateur, on peut utiliser:  \n",
    "```javascript\n",
    "document.querySelector(<selecteur_css>);\n",
    "```\n",
    "\n",
    "Dans notre cas, pour l'objet associé à `<span id=\"valeur\">`, cela donne:\n",
    "```javascript\n",
    "let vElt = document.querySelector('#valeur');\n",
    "```\n",
    "\n",
    "Cet objet dispose d'un **attribut**  `textContent` accessible en lecture et en écriture.\n",
    "Sa valeur est précisément le texte contenu dans la balise, ce qui va permettre de le modifier.\n",
    "```javascript\n",
    "vElt.textContent = compteur;\n",
    "```"
   ]
  },
  {
   "cell_type": "markdown",
   "metadata": {},
   "source": [
    "### Repères sur la notion d'objet"
   ]
  },
  {
   "cell_type": "markdown",
   "metadata": {},
   "source": [
    "De façon générale, en informatique, un «objet» - notons le `obj` - est une *structure de données* qui représente une entité (matérielle ou conceptuelle) au moyen:\n",
    "1. d' **attributs** qu'on peut \n",
    "    - **lire** (*get*): `valeur = obj.attribut` ou,\n",
    "    - **écrire** (*set*): `obj.attribut = valeur`\n",
    "\n",
    "\n",
    "2. et de **méthodes** qu'on peut **exécuter**: `obj.methode(<paramètres éventuelles>)`"
   ]
  },
  {
   "cell_type": "markdown",
   "metadata": {},
   "source": [
    "Par exemple, l'objet - nommons le `b` - qui représente `<button>` possède (entre autre!):\n",
    "- un **attribut** `textContent` qui représente son contenu textuel\n",
    "  \n",
    "  ainsi `b.textContent` a pour *valeur* `'clic!'`\n",
    "- une **méthode** `.clic()` qui permet de simuler un clic sur le bouton\n",
    "  \n",
    "  ainsi `b.clic()` a pour *effet* d'activer le bouton de la page."
   ]
  },
  {
   "cell_type": "markdown",
   "metadata": {},
   "source": [
    "### Gestion des événements"
   ]
  },
  {
   "cell_type": "markdown",
   "metadata": {},
   "source": [
    "Lorsque l'utilisateur agit sur la page, le navigateur génére des **événements** (*event*)."
   ]
  },
  {
   "cell_type": "markdown",
   "metadata": {},
   "source": [
    "Si l'événement produit est surveillé par un élément de la page (objet qui représente une balise ici), celui ci déclenche un **gestionnaire** (*handler*) approprié.\n",
    "\n",
    "Un **gestionnaire** est tout simplement une fonction dont le rôle est de préciser ce qu'il faut faire lorsque l'événement surveillé survient.\n",
    "\n",
    "En Javascript, cette association (liaison) est souvent de la forme:\n",
    "```javascript\n",
    "elt.addEventListener(<événement_a_surveiller>, <gestionnaire>);\n",
    "```"
   ]
  },
  {
   "cell_type": "markdown",
   "metadata": {},
   "source": [
    "*Note*: on réalisait quelquechose de similaire avec le module graphique tkinter en python. Pour rappel, l'association était de la forme:\n",
    "\n",
    "```python\n",
    "widget.bind(<événement_a_surveiller>, <gestionnaire>)\n",
    "```"
   ]
  },
  {
   "cell_type": "markdown",
   "metadata": {},
   "source": [
    "Il existe aussi une syntaxe intégrée au HTML de la forme:\n",
    "```html\n",
    "<balise onEvenement=\"code à exécuter;\">\n",
    "```"
   ]
  },
  {
   "cell_type": "markdown",
   "metadata": {},
   "source": [
    "*Note*: cette dernière syntaxe est normalement déconseillée sauf pour des cas très simples (comme ici)."
   ]
  },
  {
   "cell_type": "markdown",
   "metadata": {},
   "source": [
    "Dans notre, exemple, le clic sur le bouton déclenche l'exécution de la fonction `suivant` laquelle met à jour le texte contenu dans `<span>`."
   ]
  },
  {
   "cell_type": "markdown",
   "metadata": {},
   "source": [
    "### Approche modulaire"
   ]
  },
  {
   "cell_type": "markdown",
   "metadata": {},
   "source": [
    "En informatique, le fait de mélanger dans un même fichier des éléments dont les rôles sont très différents, est une **mauvaise pratique**.\n",
    "\n",
    "On préfère adopter une **approche modulaire**: chaque fichier (module) prend en charge un aspect des choses.\n",
    "\n",
    "Il est donc conseillé de **séparer** ces éléments: HTML d'une part, CSS d'autre part et Javascript aussi.\n",
    "\n",
    "Ici, cela donnerait en supposant que les fichiers sont dans le même répertoire:"
   ]
  },
  {
   "cell_type": "markdown",
   "metadata": {},
   "source": [
    "Fichier *compteur.html*\n",
    "\n",
    "```html\n",
    "<!DOCTYPE html>\n",
    "<html>\n",
    "<head>\n",
    "    <script src=\"compteur.js\" defer=\"defer\"></script>\n",
    "</head>\n",
    "<body>\n",
    "    <button id=\"bouton\">clic!</button>\n",
    "    <span id=\"valeur\">0</span>\n",
    "</body>\n",
    "</html>\n",
    "```"
   ]
  },
  {
   "cell_type": "markdown",
   "metadata": {},
   "source": [
    "Fichier *compteur.js*\n",
    "```javascript\n",
    "let compteur = 0;\n",
    "\n",
    "function suivant() {\n",
    "    compteur = compteur + 1;\n",
    "    let vElt = document.querySelector('#valeur');\n",
    "    vElt.textContent = compteur++;\n",
    "}\n",
    "\n",
    "let bouton = document.querySelector('#bouton');\n",
    "bouton.addEventListener('click', suivant);\n",
    "```"
   ]
  },
  {
   "cell_type": "markdown",
   "metadata": {},
   "source": [
    "*Note*: le navigateur charge le fichier au fur et à mesure de sa réception ce qui a pour effet d'exécuter le code javascript **avant** que les objets associés aux balises n'aient été créés. Par exemple, l'objet bouton risque d'être cherché par le code javascript avant d'avoir été créé ce qui produirait une erreur. L'attribut `defer` indique au navigateur d'exécuter le script **après** avoir complètement chargé le document."
   ]
  },
  {
   "cell_type": "markdown",
   "metadata": {},
   "source": [
    "## Un mini jeu"
   ]
  },
  {
   "cell_type": "markdown",
   "metadata": {},
   "source": [
    "L'exemple précédent était minimal. Il est utile d'en examiner un autre, un peu plus évolué, pour mieux sentir les possibilités offertes par Javascript."
   ]
  },
  {
   "cell_type": "markdown",
   "metadata": {},
   "source": [
    "### Présentation"
   ]
  },
  {
   "cell_type": "markdown",
   "metadata": {},
   "source": [
    "Voici la portion de html qui va être manipulée par le script\n",
    "```html\n",
    "<h1>Jeu - nombre mystère</h1>\n",
    "<p>\n",
    "    Nous avons sélectionné un nombre mystère compris entre 1 et 1000. \n",
    "    Tu dois le retrouver le plus vite possible!\n",
    "</p>\n",
    "<label>Saisis le nombre auquel tu penses: </label>\n",
    "<input type=\"text\" id=\"saisie\">\n",
    "<div class=\"informations\">\n",
    "  <p class=\"essais\"></p>\n",
    "  <p class=\"feedback\"></p>\n",
    "  <p class=\"indice\"></p>\n",
    "</div>\n",
    "```"
   ]
  },
  {
   "cell_type": "markdown",
   "metadata": {},
   "source": [
    "En bref, le script va choisir un nombre au hasard entre 1 et 1000, lire les choix du joueur, vérifier ce choix et lui fournir un feedback pour lui permettre d'adopter une stratégie.\n",
    "\n",
    "Voici le code javascript en quatre portions:\n",
    "\n",
    "```javascript\n",
    "let a_deviner = Math.floor(Math.random() * 1000) + 1;\n",
    "let nbEssais = 1;\n",
    "\n",
    "let saisieElt = document.querySelector('#saisie');\n",
    "let essaisElt = document.querySelector('.essais');\n",
    "let feedbackElt = document.querySelector('.feedback');\n",
    "let indiceElt = document.querySelector('.indice');\n",
    "let recommencerElt;\n",
    "```\n",
    "Ici, on **initialise** les variables du script. Les deux premières correspondent au nombre choisi au hasard et au nombre d'essais du joueur. Les suivantes sont les objets javascripts associées aux balises qu'on souhaite manipuler au cours du programme.\n",
    "\n",
    "Observer que la dernière est **déclarée** sans être *initialisée*. Il n'est pas possible de faire cela en Python.\n",
    "\n",
    "Ensuite vient la fonction principale:\n",
    "\n",
    "```javascript\n",
    "function verifierChoix(evt) {\n",
    "    if (evt.key !== \"Enter\") return;\n",
    "\n",
    "    let choix = Number(saisieElt.value);\n",
    "\n",
    "    if (nbEssais === 1) {\n",
    "      essaisElt.textContent = 'Essais précédent: ';\n",
    "    }\n",
    "\n",
    "    essaisElt.textContent += choix + ' ';\n",
    "\n",
    "    if (choix === a_deviner) {\n",
    "      feedbackElt.textContent = 'Félicitation! Tu as trouvé!';\n",
    "      feedbackElt.style.backgroundColor = 'green';\n",
    "      indiceElt.textContent = '';\n",
    "      finJeu();\n",
    "    } else if (nbEssais === 10) {\n",
    "      feedbackElt.textContent = \"!!!PERDU!!! c'était \" + a_deviner;\n",
    "      indiceElt.textContent = '';\n",
    "      finJeu();\n",
    "    } else {\n",
    "      feedbackElt.textContent = 'FAUX!';\n",
    "      feedbackElt.style.backgroundColor = 'red';\n",
    "      if(choix < a_deviner) {\n",
    "        indiceElt.textContent = 'Le dernier choix est trop petit!' ;\n",
    "      } else if (choix > a_deviner) {\n",
    "        indiceElt.textContent = 'Le dernier choix est trop grand!';\n",
    "      }\n",
    "    }\n",
    "\n",
    "    nbEssais++;\n",
    "    saisieElt.value = '';\n",
    "    saisieElt.focus();\n",
    "}\n",
    "\n",
    "saisieElt.addEventListener('keyup', verifierChoix)\n",
    "```"
   ]
  },
  {
   "cell_type": "markdown",
   "metadata": {},
   "source": [
    "Il s'agit d'un gestionnaire d'événement comme la dernière ligne le montre: `'keyup'` correspond au relâchement d'une touche (après enfoncement). Ainsi, la fonction sera exécutée à chaque fois que l'utilisateur relâche une touche; la fonction n'agit que si cette touche est `'Enter'`."
   ]
  },
  {
   "cell_type": "markdown",
   "metadata": {},
   "source": [
    "###  `if` avec Javascript"
   ]
  },
  {
   "cell_type": "markdown",
   "metadata": {},
   "source": [
    " Les différences avec Python sont mineures:\n",
    "- la condition est située entre parenthèse,\n",
    "- les blocs sont délimités par des accolades (déjà vu),\n",
    "- `elif` en python correspond à `else if` en Javascript.\n",
    "\n",
    "Notez que `var++;` est (à peu près) équivalent à `var = var + 1` en python.\n",
    "\n",
    "Enfin la méthode `.focus()` sert à rediriger le clavier vers la zone de saisie; autrement, il faudrait cliquer dans la zone de saisie pour la réactiver (curseur clignotant).\n",
    "\n",
    "```javascript\n",
    "function finJeu() {\n",
    "    saisieElt.disabled = true;\n",
    "    recommencerElt = document.createElement('button');\n",
    "    recommencerElt.textContent = 'Recommencer une partie';\n",
    "    document.body.appendChild(recommencerElt);\n",
    "    recommencerElt.addEventListener('click', reinitialiserJeu);\n",
    "}\n",
    "```\n",
    "\n",
    "Cette fonction sert à gérer la fin de partie. "
   ]
  },
  {
   "cell_type": "markdown",
   "metadata": {},
   "source": [
    "### Créer des balises html à la volée"
   ]
  },
  {
   "cell_type": "markdown",
   "metadata": {},
   "source": [
    "La fonction `finJeu` crée un bouton dynamiquement selon les étapes:\n",
    "- créer un nouvel objet javascript de type *button* avec `.createElement('balise')`,\n",
    "- renseigner son contenu et\n",
    "- l'intègrer au corps du document avec `.appendChild(objet)`. (sinon il ne serait pas insérer dans le document) \n",
    "\n",
    "La dernière étape revient en effet à ajouter la balise `<button>Rec...</button>` à l'intérieur et à la fin de `<body>`.\n",
    "\n",
    "Ainsi l'utilisateur peut, en cliquant sur ce bouton (qui à reçu un gestionnaire...), relancer une nouvelle partie avec ...\n",
    "\n",
    "```javascript\n",
    "function reinitialiserJeu() {\n",
    "    nbEssais = 1;\n",
    "\n",
    "    let informationElts = document.querySelectorAll('.informations p');\n",
    "    for(let i = 0 ; i < informationElts.length ; i++) {\n",
    "      informationElts[i].textContent = '';\n",
    "    }\n",
    "\n",
    "    recommencerElt.parentNode.removeChild(recommencerElt);\n",
    "    saisieElt.disabled = false;\n",
    "    saisieElt.value = '';\n",
    "    saisieElt.focus();\n",
    "    feedbackElt.style.backgroundColor = 'white';\n",
    "    a_deviner = Math.floor(Math.random() * 1000) + 1;\n",
    "}\n",
    "```"
   ]
  },
  {
   "cell_type": "markdown",
   "metadata": {},
   "source": [
    "La mission de cette fonction est de «tout remettre en ordre»: repositionner `nbEssais`, nettoyer la zone *informations*, supprimer le bouton «recommencer», réactiver, vider et focaliser la zone de saisie et enfin tirer un nouveau nombre au hasard."
   ]
  },
  {
   "cell_type": "markdown",
   "metadata": {},
   "source": [
    "### Boucle `for` en Javascript"
   ]
  },
  {
   "cell_type": "markdown",
   "metadata": {},
   "source": [
    "Notez la boucle `for` pour parcourir la liste de trois éléments `informationsElts`:\n",
    "- en *Python*, on écrirait (parcours direct d'une liste de taille N)\n",
    "```python\n",
    "for i in range(N): ...\n",
    "```\n",
    "\n",
    "\n",
    "- en *Javascript* la syntaxe est de la forme:\n",
    "```javascript\n",
    "for(init_var; condition; changement_var) {...}\n",
    "```\n",
    "    - *init_var*: déclaration et initialisation de la variable de boucle - ici `let i = 0`,\n",
    "    - *condition*: doit être vraie pour poursuivre la boucle - ici `i < N`,\n",
    "    - *changement_var*: précise la modification de la variable de boucle à chaque nouveau tour - ici `i++` (incrémentation)"
   ]
  },
  {
   "cell_type": "markdown",
   "metadata": {},
   "source": [
    "Notez encore que, comme avec Python, les indices démarrent à zéro."
   ]
  },
  {
   "cell_type": "markdown",
   "metadata": {},
   "source": [
    "### Arbre du document"
   ]
  },
  {
   "attachments": {
    "arbre_html_jeu.png": {
     "image/png": "[encoded data removed]"
    }
   },
   "cell_type": "markdown",
   "metadata": {},
   "source": [
    "Observer la stratégie pour supprimer le bouton «relancer»:\n",
    "```javascript\n",
    "recommencerElt.parentNode.removeChild(recommencerElt);\n",
    "```\n",
    "\n",
    "En effet, le navigateur ne se contente pas de créer un objet javascript par balise. Il les **lie** entre eux de façon à reconstituer l'**arbre du document** (qui reflète l'imbrication des balises). Dans notre cas, voilà son allure (sans détailler le head):\n",
    "\n",
    "<img src=\"attachment:arbre_html_jeu.png\" width=\"50%\"/>"
   ]
  },
  {
   "cell_type": "markdown",
   "metadata": {},
   "source": [
    "En particulier, chaque objet lié à une balise possède un attribut `parentNode` dont la valeur est son «parent direct»; par exemple le noeud (*node*) parent de *label* est *body*.\n",
    "\n",
    "Chaque «noeud» peut supprimer l'un de ces enfant:\n",
    "```javascript\n",
    "noeud_parent.removeChild(noeud_enfant)\n",
    "```"
   ]
  },
  {
   "cell_type": "markdown",
   "metadata": {},
   "source": [
    "or `noeud_parent` est précisément `noeud_enfant.parentNode` ... voyez-vous l'astuce?"
   ]
  },
  {
   "cell_type": "markdown",
   "metadata": {},
   "source": [
    "## Vidéo d'aide"
   ]
  },
  {
   "cell_type": "code",
   "execution_count": null,
   "metadata": {},
   "outputs": [],
   "source": [
    "%%HTML\n",
    "<iframe src=\"https://player.vimeo.com/video/403636684\" width=\"640\" height=\"564\" frameborder=\"0\" allow=\"autoplay; fullscreen\" allowfullscreen></iframe>"
   ]
  },
  {
   "cell_type": "markdown",
   "metadata": {},
   "source": [
    "## Conclusion"
   ]
  },
  {
   "cell_type": "markdown",
   "metadata": {},
   "source": [
    "Javascript est un langage puissant qui permet la réalisation d'interfaces web proche d'un logiciel de bureau.\n",
    "\n",
    "C'est devenu au fil du temps un langage à part entière qui peut être utilisé en dehors de tout navigateur web et qui peut même servir à faire de la programmation côté serveur.\n",
    "\n",
    "Si vous voulez approfondir vos connaissances dans ce langage (et croyez moi, ce ne sera pas «peine perdu»), le [site de la fondation Mozilla](https://developer.mozilla.org/fr/) est un bon point de départ."
   ]
  }
 ],
 "metadata": {
  "kernelspec": {
   "display_name": "Python 3",
   "language": "python",
   "name": "python3"
  },
  "language_info": {
   "codemirror_mode": {
    "name": "ipython",
    "version": 3
   },
   "file_extension": ".py",
   "mimetype": "text/x-python",
   "name": "python",
   "nbconvert_exporter": "python",
   "pygments_lexer": "ipython3",
   "version": "3.7.3"
  }
 },
 "nbformat": 4,
 "nbformat_minor": 4
}
