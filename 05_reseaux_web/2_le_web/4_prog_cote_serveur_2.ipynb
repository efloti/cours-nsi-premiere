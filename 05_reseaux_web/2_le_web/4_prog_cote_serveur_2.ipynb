{
 "cells": [
  {
   "cell_type": "markdown",
   "metadata": {},
   "source": [
    "# Programmation côté serveur - 2ème partie"
   ]
  },
  {
   "cell_type": "markdown",
   "metadata": {},
   "source": [
    "Dans cette deuxième partie, nous abordons différents thèmes:\n",
    "\n",
    "- les **variables d'environnement** du programme cgi,\n",
    "\n",
    "- enregistrer un **cookie** sur le navigateur ,\n",
    "\n",
    "- exploiter un **formulaire** avec la méthode `GET`\n",
    "\n",
    "Dans la troisième partie, nous aborderons:\n",
    "\n",
    "- exploiter un **formulaire** avec la méthode `POST`; application à la réalisation d'une *session* très simple\n",
    "\n",
    "- **persister les données** côtés serveur; application à l'enregistrement de messages d'un utilisateur identifié."
   ]
  },
  {
   "cell_type": "markdown",
   "metadata": {},
   "source": [
    "## Variables d'environnement - introduction"
   ]
  },
  {
   "cell_type": "markdown",
   "metadata": {},
   "source": [
    "Tout programme en cours d'exécution (un *processus*), bénéficie d'un «contexte» qui consiste (entre autre) en différentes variables prépositionnées (par le système d'exploitation entre autre) dites **variables d'environnement**.\n",
    "\n",
    "Pour afficher les variables d'environnement du shell:\n",
    "\n",
    "```\n",
    "$ printenv\n",
    "USER=jupyter-etienne\n",
    "LANG=fr_FR.UTF-8\n",
    "OLDPWD=/home/jupyter-etienne\n",
    "PWD=/home/jupyter-etienne/web\n",
    "HOME=/home/jupyter-etienne\n",
    "PATH=/home/jupyter-etienne/bin:/opt/tljh/user/bin:...\n",
    "...\n",
    "```\n"
   ]
  },
  {
   "cell_type": "markdown",
   "metadata": {},
   "source": [
    "Dans un programme python, on peut accéder à ces variables en utilisant l'objet `environ` du module `os`; cet objet s'utilise *comme un dictionnaire*."
   ]
  },
  {
   "cell_type": "code",
   "execution_count": 2,
   "metadata": {},
   "outputs": [
    {
     "name": "stdout",
     "output_type": "stream",
     "text": [
      "/opt/tljh/user/bin:/usr/local/sbin:/usr/local/bin:/usr/sbin:/usr/bin:/sbin:/bin:/snap/bin\n"
     ]
    }
   ],
   "source": [
    "import os\n",
    "\n",
    "path = os.environ[\"PATH\"]\n",
    "print(path)"
   ]
  },
  {
   "cell_type": "markdown",
   "metadata": {},
   "source": [
    "Il est plus prudent d'utiliser la méthode `dict.get(clef, defaut)` pour se prémunir d'une erreur dans le cas où la clef n'existe pas."
   ]
  },
  {
   "cell_type": "code",
   "execution_count": 3,
   "metadata": {},
   "outputs": [
    {
     "name": "stdout",
     "output_type": "stream",
     "text": [
      "répertoire personnel: /home/jupyter-etienne\n",
      "pid: tiens, je pensais...\n"
     ]
    }
   ],
   "source": [
    "mon_rep = os.environ.get(\"HOME\", \"~\")\n",
    "print(f\"répertoire personnel: {mon_rep}\")\n",
    "mon_pid = os.environ.get(\"PID\", \"tiens, je pensais...\")\n",
    "print(f\"pid: {mon_pid}\")"
   ]
  },
  {
   "cell_type": "markdown",
   "metadata": {},
   "source": [
    "## Environnement produit par le serveur CGI"
   ]
  },
  {
   "cell_type": "markdown",
   "metadata": {},
   "source": [
    "Un serveur web CGI, avant de lancer l'exécution d'un programme, renseigne son environnement avec des variables associées à la requête http qu'il a reçu."
   ]
  },
  {
   "cell_type": "markdown",
   "metadata": {},
   "source": [
    "En particulier, il renseigne les variables suivantes:\n",
    "\n",
    "- `REQUEST_METHOD`: GET ou POST ?\n",
    "- `QUERY_STRING`: le cas échéant, la chaîne de requête située après le `?` dans l'url,\n",
    "- `HTTP_REFERER`: sur quelle page était le navigateur avant d'effectuer sa demande,\n",
    "- `HTTP_COOKIE`: la chaîne brut du cookie précédemment enregistré (voir plus loin)\n",
    "- ... et bien d'autres!"
   ]
  },
  {
   "cell_type": "markdown",
   "metadata": {},
   "source": [
    "### Exemple"
   ]
  },
  {
   "cell_type": "markdown",
   "metadata": {},
   "source": [
    "Le programme cgi <a href=\"demo_web_cgi/cgi-bin/environ.py\">environ.py</a> (répertoire *demo_web_cgi/cgi-bin*) se propose d'afficher ces variables dans une page web."
   ]
  },
  {
   "cell_type": "markdown",
   "metadata": {},
   "source": [
    "### Vidéos d'aide\n",
    "\n",
    "Désolé, j'ai été interrompu pendant la première ... la seconde est à la fin de la page."
   ]
  },
  {
   "cell_type": "code",
   "execution_count": 4,
   "metadata": {},
   "outputs": [
    {
     "data": {
      "text/html": [
       "<iframe src=\"https://player.vimeo.com/video/403640556\" width=\"640\" height=\"564\" frameborder=\"0\" allow=\"autoplay; fullscreen\" allowfullscreen></iframe>\n"
      ],
      "text/plain": [
       "<IPython.core.display.HTML object>"
      ]
     },
     "metadata": {},
     "output_type": "display_data"
    }
   ],
   "source": [
    "%%HTML\n",
    "<iframe src=\"https://player.vimeo.com/video/403640556\" width=\"640\" height=\"564\" frameborder=\"0\" allow=\"autoplay; fullscreen\" allowfullscreen></iframe>"
   ]
  },
  {
   "cell_type": "markdown",
   "metadata": {},
   "source": [
    "### Quelques rappels python\n",
    "\n",
    "Remplacements dans un «gabarit» (*template* d'où le *_tpl* du code)\n",
    "\n",
    "`gabarit.format(inser1=val1, inser2=val2, ...)`: renvoie la chaîne obtenue en remplaçant les zones d'insertions `{inser<n>}` du gabarit  par les valeurs fournis"
   ]
  },
  {
   "cell_type": "code",
   "execution_count": null,
   "metadata": {},
   "outputs": [],
   "source": [
    "message_tpl = \"blah blah {a} blah blah {b}\".format(b=\"bli\", a=\"blu\")\n",
    "message_tpl"
   ]
  },
  {
   "cell_type": "markdown",
   "metadata": {},
   "source": [
    "Itérer (boucler sur) sur un dictionnaire avec `dict.items()`"
   ]
  },
  {
   "cell_type": "code",
   "execution_count": null,
   "metadata": {},
   "outputs": [],
   "source": [
    "test = {\"nom\": \"Doe\", \"prénom\": \"John\"}\n",
    "for k, v in test.items():\n",
    "    print(\n",
    "        \"<li>{cle} => {valeur}</li>\".format(\n",
    "            cle=k,\n",
    "            valeur=v\n",
    "        )\n",
    "    )"
   ]
  },
  {
   "cell_type": "markdown",
   "metadata": {},
   "source": [
    "Construire une liste en compréhension `[expr for var in sequence]`"
   ]
  },
  {
   "cell_type": "code",
   "execution_count": null,
   "metadata": {},
   "outputs": [],
   "source": [
    "li_tpl = \"<li>{cle} => {valeur}</li>\"\n",
    "lis = [\n",
    "    li_tpl.format(cle=k, valeur=v)\n",
    "    for k, v in test.items()\n",
    "]\n",
    "lis"
   ]
  },
  {
   "cell_type": "markdown",
   "metadata": {},
   "source": [
    "Former une chaine à partir d'une liste de chaînes `sep.join(liste_de_str)`"
   ]
  },
  {
   "cell_type": "code",
   "execution_count": null,
   "metadata": {},
   "outputs": [],
   "source": [
    "print(\n",
    "    '\\n'.join(lis)\n",
    ")"
   ]
  },
  {
   "cell_type": "markdown",
   "metadata": {},
   "source": [
    "## Cookie"
   ]
  },
  {
   "cell_type": "markdown",
   "metadata": {},
   "source": [
    "Un **cookie** est une petite donnée enregistrée par le navigateur à la demande du serveur.\n",
    "\n",
    "En réponse à certaine circonstance, un serveur peut demander au navigateur (client) d'enregistrer une petite donnée en plaçant dans sa réponse un entête de la forme:\n",
    "\n",
    "    Set-Cookie: <cle>=<val>; options"
   ]
  },
  {
   "cell_type": "markdown",
   "metadata": {},
   "source": [
    "Le navigateur enregistre alors la donnée; après cela, il la retransmet dans l'entête de *chaque requête* (sur le même site) par la suite:\n",
    "\n",
    "    Cookie: <cle1>=<val2>; <cle2>=<val2>; ..."
   ]
  },
  {
   "cell_type": "markdown",
   "metadata": {},
   "source": [
    "Noter que le navigateur peut avoir plusieurs cookies pour le même site."
   ]
  },
  {
   "cell_type": "markdown",
   "metadata": {},
   "source": [
    "**À quoi cela sert-il?** on dit que le protocole http est un protocole *sans mémoire*: le serveur ne mémorise rien au sujet du client qui le consulte.\n",
    "\n",
    "Pour que le serveur puisse réagir en fonction d'un client particulier, il est nécessaire que celui-ci transmette des informations qui permettent de le distinguer: c'est le rôle des cookies. "
   ]
  },
  {
   "cell_type": "markdown",
   "metadata": {},
   "source": [
    "### Exemple"
   ]
  },
  {
   "cell_type": "markdown",
   "metadata": {},
   "source": [
    "Le programme cgi <a href=\"demo_web_cgi/cgi-bin/cookie.py\">cookie.py</a> (répertoire *demo_web_cgi/cgi-bin*) illustre très basiquement l'utilisation de cookie pour savoir si une page a déjà été consultée."
   ]
  },
  {
   "cell_type": "markdown",
   "metadata": {},
   "source": [
    "## Formulaire géré par la méthode `GET`"
   ]
  },
  {
   "cell_type": "markdown",
   "metadata": {},
   "source": [
    "Un formulaire html\n",
    "```html\n",
    "<form method=\"nom_meth\" action=\"chemin_prog\">\n",
    "    <input name=\"champ1\" .../>\n",
    "    <input name=\"champ2\" .../>\n",
    "    ...\n",
    "    <input type=\"submit\"/>\n",
    "</form>\n",
    "```\n",
    "permet à l'utilisateur d'envoyer des informations au serveur selon plusieurs méthodes de requête, en particulier `GET` ou `POST`.\n",
    "\n",
    "La méthode choisie est placé dans l'attribut `method` du formulaire."
   ]
  },
  {
   "cell_type": "markdown",
   "metadata": {},
   "source": [
    "Lorsque l'utilisateur envoie (*submit*) le formulaire, cela donne lieue à une requête du navigateur.\n",
    "\n",
    "Si la methode choisie est `GET`, le navigateur modifie l'**url** avec une **chaîne de requête** (qui suit le `?`) de la forme:"
   ]
  },
  {
   "cell_type": "markdown",
   "metadata": {},
   "source": [
    "<div style=\"text-align: center;\">\n",
    "    <code>base_url/chemin_prog<strong>?champ1=val1&champ2=val2&...</strong></code>\n",
    "</div>"
   ]
  },
  {
   "cell_type": "markdown",
   "metadata": {},
   "source": [
    "*Note*: si l'attribut `action` n'est pas précisé, la requête est envoyée à la ressource en cours."
   ]
  },
  {
   "cell_type": "markdown",
   "metadata": {},
   "source": [
    "Depuis un programme python, on peut récupérer cette chaîne de requête  depuis `os.environ[\"QUERY_STRING\"]` sous **forme brut** (*raw*)! Le programme n'a plus alors (!) qu'à extraire les champs et valeurs, effectuer les conversions nécessaires et à traiter le tout... autant vous dire que ce n'est pas facile du tout!"
   ]
  },
  {
   "cell_type": "markdown",
   "metadata": {},
   "source": [
    "**heureusement**, Python nous fournit des outils pour faire tout cela simplement. Il propose un module standard `cgi` dont le but est de produire une sorte de dictionnaire - un `FieldStorage` - qui permet d'accéder simplement aux différents champs (*fields*) de la chaîne de requête. "
   ]
  },
  {
   "cell_type": "markdown",
   "metadata": {},
   "source": [
    "Basiquement, cela s'utilise de la façon suivante:\n",
    "\n",
    "```python\n",
    "import cgi\n",
    "\n",
    "formulaire = cgi.FieldStorage()\n",
    "val1 = formulaire.getvalue('champ1')\n",
    "...\n",
    "```"
   ]
  },
  {
   "cell_type": "markdown",
   "metadata": {},
   "source": [
    "### Exemple"
   ]
  },
  {
   "cell_type": "markdown",
   "metadata": {},
   "source": [
    "Le programme cgi <a href=\"demo_web_cgi/cgi-bin/form_get.py\">form_get.py</a> (répertoire *demo_web_cgi/cgi-bin*) illustre très basiquement le traitement dynamique d'un formulaire soumis avec la méthode `GET`."
   ]
  },
  {
   "cell_type": "markdown",
   "metadata": {},
   "source": [
    "En testant l'exemple, modifier la chaîne de requête à la main pour voir ce que cela fait; observer aussi comment le navigateur encode le `#` de la couleur..."
   ]
  },
  {
   "cell_type": "markdown",
   "metadata": {},
   "source": [
    "### Vidéo d'aide"
   ]
  },
  {
   "cell_type": "code",
   "execution_count": 5,
   "metadata": {},
   "outputs": [
    {
     "data": {
      "text/html": [
       "<iframe src=\"https://player.vimeo.com/video/403633637\" width=\"640\" height=\"564\" frameborder=\"0\" allow=\"autoplay; fullscreen\" allowfullscreen></iframe>\n"
      ],
      "text/plain": [
       "<IPython.core.display.HTML object>"
      ]
     },
     "metadata": {},
     "output_type": "display_data"
    }
   ],
   "source": [
    "%%HTML\n",
    "<iframe src=\"https://player.vimeo.com/video/403633637\" width=\"640\" height=\"564\" frameborder=\"0\" allow=\"autoplay; fullscreen\" allowfullscreen></iframe>"
   ]
  }
 ],
 "metadata": {
  "kernelspec": {
   "display_name": "Python 3",
   "language": "python",
   "name": "python3"
  },
  "language_info": {
   "codemirror_mode": {
    "name": "ipython",
    "version": 3
   },
   "file_extension": ".py",
   "mimetype": "text/x-python",
   "name": "python",
   "nbconvert_exporter": "python",
   "pygments_lexer": "ipython3",
   "version": "3.7.3"
  }
 },
 "nbformat": 4,
 "nbformat_minor": 4
}
