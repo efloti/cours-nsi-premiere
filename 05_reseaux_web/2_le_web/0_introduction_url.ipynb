{
 "cells": [
  {
   "cell_type": "markdown",
   "metadata": {},
   "source": [
    "# Introduction au web"
   ]
  },
  {
   "cell_type": "markdown",
   "metadata": {},
   "source": [
    "On confond souvent internet et le web alors que le premier naît dans les années 1970 et le second est inventé par *Tim Bernes-Lee* dans les années 1990."
   ]
  },
  {
   "cell_type": "markdown",
   "metadata": {},
   "source": [
    "Voici une vidéo sur l'histoire d'internet et qui mentionne aussi l'une de ses applications les plus importantes: le web (exécuter la cellule qui suit pour voir la vidéo)"
   ]
  },
  {
   "cell_type": "code",
   "execution_count": null,
   "metadata": {},
   "outputs": [],
   "source": [
    "%%HTML\n",
    "<iframe width=\"676\" height=\"380\" src=\"https://www.youtube.com/embed/GTP4vDelF_g\" allowfullscreen></iframe>"
   ]
  },
  {
   "cell_type": "markdown",
   "metadata": {},
   "source": [
    "En voici une seconde, qui nous parle un peu plus de Tim Bernes-Lee et son invention: le web"
   ]
  },
  {
   "cell_type": "code",
   "execution_count": null,
   "metadata": {},
   "outputs": [],
   "source": [
    "%%HTML\n",
    "<iframe width=\"676\" height=\"380\" src=\"https://www.youtube.com/embed/PbCG_BeL5dY\" allowfullscreen></iframe>"
   ]
  },
  {
   "cell_type": "markdown",
   "metadata": {},
   "source": [
    "**note**: le code magique `%%HTML` permet d'indiquer à la cellule de code qu'on souhaite voir «rendu» la partie html qui suit sans altération."
   ]
  },
  {
   "cell_type": "markdown",
   "metadata": {},
   "source": [
    "**Internet** consiste en l'ensemble des moyens pour permettre à deux applications (logiciels) distantes de communiquer et cela quelle que soit l'organisation sous-jacente des réseaux, sous réseaux etc.; internet s'incarne dans deux protocoles **TCP** et **IP**."
   ]
  },
  {
   "cell_type": "markdown",
   "metadata": {},
   "source": [
    "Le **web** (abréviation des 3W - *World Wide Web* - la toile d'araignée mondiale) est une (des nombreuses) **application d'internet**. Il utilise un modèle de dialogue *client/serveur* et s'incarne principalement dans quelques notions clés:\n",
    "- **URL**: sert à décrire la localisation d'une ressource sur internet,\n",
    "- **http** (*Hyper Text Transport Protocol*): un protocole de la *couche application* qui organise le dialogue entre clients et serveur «web»,\n",
    "- **HTML** (*Hyper Text Markup Language*):un langage de description de document, : langage à balise proposant des «hyper text» c'est à dire des liens cliquables permettant d'accéder à d'autres documents.\n",
    "- **CSS** (*Cascading Style Sheet* - feuille de style en cascade): un langage de mise en forme."
   ]
  },
  {
   "cell_type": "markdown",
   "metadata": {},
   "source": [
    "## Les URL(s) - *Uniform Ressource Locator*"
   ]
  },
  {
   "cell_type": "markdown",
   "metadata": {},
   "source": [
    "une **URL** - «localiseur uniforme de ressource» - précise basiquement:\n",
    "- un **protocole**: généralement `http` ou `https` (s pour sécurisé) pour le web, \n",
    "- un **hôte** du réseau (machine): son ip (et éventuellement un port) ou son nom de domaine,\n",
    "- et le **chemin d'accès** à une ressource (fichier) par rapport à un répertoire de référence sur cette machine.\n",
    "\n",
    "Sa *syntaxe* simplifiée est:\n",
    "\n",
    "        protocole://nom_ou_adresse_hote/chemin_vers_fichier\n",
    "        \n"
   ]
  },
  {
   "cell_type": "markdown",
   "metadata": {},
   "source": [
    "*Exemple*: lorsqu'on saisit l'url [https://docs.python.org/fr/3/library/functions.html#open](https://docs.python.org/fr/3/library/functions.html#open) (ou qu'on clique sur un lien dont l'attribut *href* est cette url) dans un navigateur web:\n",
    "1. le navigateur isole le nom de domaine *docs.python.org* et effectue une requête DNS pour obtenir l'ip associé (ici *151.101.120.223* - vérifier avec la commande `host`),\n",
    "2. puis il se connecte à cette adresse, en utilisant TCP, sur le port 443 (port par défaut pour https),\n",
    "3. il envoie alors un certain nombre de messages en se conformant au protocole *https* afin d'obtenir la ressource `/fr/3/library/functions.html`,\n",
    "4. enfin, il affiche le fichier html obtenu puis cherche dans le document une ancre `<a href=\"#open\">..</a>` afin de se positionner au bon endroit dans la page."
   ]
  },
  {
   "cell_type": "markdown",
   "metadata": {},
   "source": [
    "## «Jouons» un peu avec Python"
   ]
  },
  {
   "cell_type": "markdown",
   "metadata": {},
   "source": [
    "### Parser une url"
   ]
  },
  {
   "cell_type": "markdown",
   "metadata": {},
   "source": [
    "Le module standard `urllib.parse` contient tous les outils nécessaires pour «démembrer» (on dit «parser») une url, en particulier la fonction `urlparse()`."
   ]
  },
  {
   "cell_type": "code",
   "execution_count": null,
   "metadata": {},
   "outputs": [],
   "source": [
    "from urllib.parse import urlparse\n",
    "\n",
    "parties = urlparse(\"https://docs.python.org/fr/3/library/functions.html#open\")\n",
    "print(parties)\n",
    "print(f\"type du résultat: {type(parties)}\")"
   ]
  },
  {
   "cell_type": "markdown",
   "metadata": {},
   "source": [
    "pour récupérer les parties de l'url, on utilise une notation pointée de la forme `var.attribut`. "
   ]
  },
  {
   "cell_type": "code",
   "execution_count": null,
   "metadata": {},
   "outputs": [],
   "source": [
    "protocole = parties.scheme\n",
    "nom_domaine = parties.netloc\n",
    "chemin = parties.path\n",
    "ancre = parties.fragment\n",
    "print(\n",
    "    f\"\"\"\n",
    "    protocole: {protocole},\n",
    "    nom de domaine: {nom_domaine},\n",
    "    chemin ressource: {chemin},\n",
    "    ancre dans la ressource: {ancre}\"\"\"\n",
    ")"
   ]
  },
  {
   "cell_type": "markdown",
   "metadata": {},
   "source": [
    "### Un client web minimaliste"
   ]
  },
  {
   "cell_type": "markdown",
   "metadata": {},
   "source": [
    "Il est même possible de réaliser une sorte de client bas niveau effectuant des requêtes en utilisant une url."
   ]
  },
  {
   "cell_type": "markdown",
   "metadata": {},
   "source": [
    "La fonction `urlopen(url, timeout=tps_en_s)` du module standard `urllib.request` fait cela."
   ]
  },
  {
   "cell_type": "code",
   "execution_count": null,
   "metadata": {},
   "outputs": [],
   "source": [
    "from urllib.request import urlopen\n",
    "\n",
    "reponse = urlopen(\"https://python.org\", timeout=5)\n",
    "entetes = reponse.getheaders()\n",
    "message = reponse.read()\n",
    "reponse.close() # voir la zone cachée pour cette ligne"
   ]
  },
  {
   "cell_type": "markdown",
   "metadata": {},
   "source": [
    "**Note**"
   ]
  },
  {
   "cell_type": "markdown",
   "metadata": {
    "jupyter": {
     "source_hidden": true
    }
   },
   "source": [
    "l'objet `reponse` demande, pour être créé, des ressources: ici une zone mémoire géré par le système d'exploitation appelé tampon (*buffer*).\n",
    "\n",
    "Cette ressource n'est pas libérée automatiquement (le même phénomène se produit avec un fichier par exemple). \n",
    "\n",
    "C'est de la **responsabilité du programmeur** d'indiquer qu'il en a terminé avec la ressource en appelant `reponse.close()` ce qui permet à l'OS de libérer la zone mémoire occupée et donc de la recycler.\n",
    "\n",
    "En réalité, Python possède une syntaxe spéciale pour ce type de situation (appelé manager de contexte):\n",
    "        \n",
    "```python\n",
    "with demande_ressource as nom_ressource:\n",
    "    # utiliser la ressource à l'aide de \n",
    "    # son «handler» (variable qui la représente)\n",
    "    # nom_ressource\n",
    "\n",
    "# ici, la ressource a été libérée car nous sommes sortis de la zone «with»\n",
    "```\n",
    "\n",
    "Ainsi, dans notre cas, il aurait mieux valu écrire (plus court et plus propre):\n",
    "\n",
    "```python\n",
    "with urlopen(\"https://python.org\", timeout=5) as reponse:\n",
    "    entetes = reponse.getheaders()\n",
    "    message = reponse.read()\n",
    "```"
   ]
  },
  {
   "cell_type": "markdown",
   "metadata": {},
   "source": [
    "Voyons un peu à quoi ressemble ces éléments de la réponse:"
   ]
  },
  {
   "cell_type": "code",
   "execution_count": null,
   "metadata": {},
   "outputs": [],
   "source": [
    "# liste de tuples (cle, valeur)\n",
    "print(entetes)"
   ]
  },
  {
   "cell_type": "markdown",
   "metadata": {},
   "source": [
    "En **un peu** moins désagréable... (avec une révision en prime) :-o"
   ]
  },
  {
   "cell_type": "code",
   "execution_count": null,
   "metadata": {},
   "outputs": [],
   "source": [
    "print(\"\\n\".join([\n",
    "    f\"{cle}: {valeur}\"\n",
    "    for cle, valeur in entetes\n",
    "]))"
   ]
  },
  {
   "cell_type": "markdown",
   "metadata": {},
   "source": [
    "Vous avez maintenant une idée de ce à quoi ressemble le protocole http(s)!"
   ]
  },
  {
   "cell_type": "markdown",
   "metadata": {},
   "source": [
    "Enfin, voici le message transmis (ces 1000 premiers octets)"
   ]
  },
  {
   "cell_type": "code",
   "execution_count": null,
   "metadata": {},
   "outputs": [],
   "source": [
    "# le message est de type bytes, si on veut une chaîne il faut décoder... (utf-8 par défaut)\n",
    "print(message[:1000].decode())"
   ]
  },
  {
   "cell_type": "markdown",
   "metadata": {},
   "source": [
    "## Surfer sur le web dans la console"
   ]
  },
  {
   "cell_type": "markdown",
   "metadata": {},
   "source": [
    "Il est utile de pouvoir réaliser toutes les opérations ordinaires en mode texte (sans GUI)"
   ]
  },
  {
   "cell_type": "markdown",
   "metadata": {},
   "source": [
    "Pour cette raison, je vous propose d'explorer (un peu) le web en mode texte avec **lynx** en suivant cette vidéo."
   ]
  },
  {
   "cell_type": "code",
   "execution_count": null,
   "metadata": {},
   "outputs": [],
   "source": [
    "%%HTML\n",
    "<iframe src=\"https://player.vimeo.com/video/398790387\" width=\"640\" height=\"437\" frameborder=\"0\" allow=\"autoplay; fullscreen\" allowfullscreen></iframe>"
   ]
  }
 ],
 "metadata": {
  "kernelspec": {
   "display_name": "Python 3",
   "language": "python",
   "name": "python3"
  },
  "language_info": {
   "codemirror_mode": {
    "name": "ipython",
    "version": 3
   },
   "file_extension": ".py",
   "mimetype": "text/x-python",
   "name": "python",
   "nbconvert_exporter": "python",
   "pygments_lexer": "ipython3",
   "version": "3.6.8"
  }
 },
 "nbformat": 4,
 "nbformat_minor": 4
}
