{
 "cells": [
  {
   "cell_type": "markdown",
   "metadata": {},
   "source": [
    "# Programmation côté serveur - 1ère partie"
   ]
  },
  {
   "cell_type": "markdown",
   "metadata": {},
   "source": [
    "L'objectif ici est de s'*initier à la programmation côté serveur*, c'est-à-dire à la **réalisation de programmes** auquel le serveur web va **déléguer** le traitement des requêtes qu'il reçoit.\n",
    "\n",
    "Ces programmes peuvent être réalisés dans de nombreux langages: C, **PHP**, Perl, ruby, **Python**, ...\n",
    "\n",
    "Nous nous limiterons bien sûr à Python qui est très bien équipé pour cela."
   ]
  },
  {
   "cell_type": "markdown",
   "metadata": {},
   "source": [
    "La librairie standard de python contient notamment le module `http.server` qu'on peut utiliser pour mettre un serveur web en route avec quelques lignes de code. On peut notamment:\n",
    "- **lancer un serveur web «statique»** qui se contente de renvoyer les fichiers html, css, images, ... situés dans *son répertoire courant* et ses sous réperoires.\n",
    "- **lancer un serveur web «dynamique»** qui exécute des programmes en leur transmettant les paramètres de la requête. "
   ]
  },
  {
   "cell_type": "markdown",
   "metadata": {},
   "source": [
    "## Statique versus Dynamique"
   ]
  },
  {
   "cell_type": "markdown",
   "metadata": {},
   "source": [
    "Certains sites web (de moins en moins à vrai dire) ne font que présenter de l'information sans jamais demander quoi que ce soit à l'utilisateur. Le serveur se contente de transmettre des fichiers sans les modifier; il est **statique**.\n",
    "\n",
    "D'autres, au contraire, demande aux utilisateurs d'ouvrir un compte, de se connecter; cela fait, l'utilisateur peut interagir avec le site en produisant du contenu (réseaux sociaux, blogs), en réalisant des achats etc. Les ressources transmises par le serveur dépendent des interactions initiées par le client; il est **dynamique**."
   ]
  },
  {
   "cell_type": "markdown",
   "metadata": {},
   "source": [
    "## Communication serveur/programme"
   ]
  },
  {
   "cell_type": "markdown",
   "metadata": {},
   "source": [
    "Pour réaliser un site web «dynamique», il est nécessaire que les données transmises au serveur par le navigateur soit **traitées**."
   ]
  },
  {
   "cell_type": "markdown",
   "metadata": {},
   "source": [
    "Pour y parvenir, un serveur web «dynamique» utilise **un mécanisme de délégation**; cela se passe dans les grandes lignes comme suit:\n",
    "1. le serveur reçoit une requête du client dont le chemin mène à **un programme exécutable** comme `GET /login.py ...` (autrement, il renvoie le fichier en réponse)\n",
    "\n",
    "2. il positionne alors des **variables d'environnement** avec les éléments principaux de la requête ...,\n",
    "\n",
    "3. ... puis lance l'exécution du programme indiqué *dans cet environnement*,\n",
    "\n",
    "4. lequel construit la réponse http en écrivant sur sa *sortie standard*,\n",
    "\n",
    "5. laquelle est reliée au serveur qui retransmet et finalise la réponse http."
   ]
  },
  {
   "cell_type": "markdown",
   "metadata": {},
   "source": [
    "Un tel serveur devient alors une sorte de *passerelle* (*gateway*) entre le navigateur et le programme qui **calcule** la réponse http."
   ]
  },
  {
   "cell_type": "markdown",
   "metadata": {},
   "source": [
    "Pour que cela fonctionne bien, le serveur et le programme doivent respecter des règles de communication ... un **protocole**; et il y en a beaucoup..."
   ]
  },
  {
   "cell_type": "markdown",
   "metadata": {},
   "source": [
    "L'un d'eux est le *protocole* **CGI** (pour *Common Gateway Interface*), c'est celui que nous utiliserons pour comprendre les bases de la programmation côté serveur."
   ]
  },
  {
   "cell_type": "markdown",
   "metadata": {},
   "source": [
    "## Lancer un serveur «cgi» dans la console"
   ]
  },
  {
   "cell_type": "markdown",
   "metadata": {},
   "source": [
    "Après s'être positionné - `cd` - dans un répertoire qui contient des «ressources web», on lance le serveur comme suit:\n",
    "```\n",
    "$ cd <chemin_repertoire_web>\n",
    "$ python -m http.serveur --cgi <port>\n",
    "Serving HTTP on 0.0.0.0 port <port> (http://0.0.0.0:<port>/) ...\n",
    "```\n",
    "\n",
    "Vous pouvez alors accéder au serveur à partir du navigateur en saisissant l'url `https://jhub.fdex.eu:<port>` (si le serveur est lancé depuis le hub).\n",
    "\n",
    "À chaque requête, le serveur affiche dans la console un message comme:\n",
    "\n",
    "```\n",
    "<ip_demandeur> - - [23/Mar/2020 15:44:41] \"GET / HTTP/1.1\" 200 -\n",
    "```\n",
    "\n",
    "Pour arrêter le serveur, saisir `CTRL+C` dans la console.\n",
    "\n",
    "**En pratique, choisir un port supérieur à 1000** pour lancer le serveur, expérimenter ... puis **arrêter** le serveur."
   ]
  },
  {
   "cell_type": "markdown",
   "metadata": {},
   "source": [
    "## Premier programme CGI"
   ]
  },
  {
   "cell_type": "markdown",
   "metadata": {},
   "source": [
    "**Convention**: j'appelle `web` le répertoire à partir duquel le serveur est lancé. Ce répertoire contient un sous-répertoire `cgi-bin`. \n",
    "\n",
    "Dans le sous répertoire `cgi-bin`, créer un fichier `hello.py` contenant:\n",
    "\n",
    "```python\n",
    "#!<chemin_absolue_vers_python>\n",
    "\n",
    "from random inport randint\n",
    "\n",
    "# entête de la réponse\n",
    "print(f\"content-type: text/html\\n\")\n",
    "\n",
    "# corps de la réponse\n",
    "print(f\"<h2>hello world dynamique - {randint(1, 1000)}</h2>\")\n",
    "```"
   ]
  },
  {
   "cell_type": "markdown",
   "metadata": {},
   "source": [
    "Dans un système UNIX, pour trouver le *chemin absolu vers python* (afin de compléter la ligne shebang `!#...`), saisir `which python` dans la console et copier coller le résultat."
   ]
  },
  {
   "cell_type": "markdown",
   "metadata": {},
   "source": [
    "Enfin, n'oublier pas de rendre ce fichier exécutable avec `chmod +x ...`"
   ]
  },
  {
   "cell_type": "markdown",
   "metadata": {},
   "source": [
    "Note: Pour windows, les deux étapes précédentes ne sont pas nécessaires..."
   ]
  },
  {
   "cell_type": "markdown",
   "metadata": {},
   "source": [
    "Depuis le navigateur, l'url `http://jhub.fdex.eu:<port_choisi>/cgi-bin/hello_world_cgi.py` vous permet d'accéder au résultat (qui ne devrait pas vous surprendre!)."
   ]
  },
  {
   "cell_type": "markdown",
   "metadata": {},
   "source": [
    "**Note**: il est tout à fait possible de faire cela localement (sur votre ordinateur). Si c'est le cas, remplacer le nom de domaine par `127.0.0.1` ou `localhost` (alias local)."
   ]
  },
  {
   "cell_type": "markdown",
   "metadata": {},
   "source": [
    "Une vidéo pour récapituler tout ça."
   ]
  },
  {
   "cell_type": "code",
   "execution_count": 1,
   "metadata": {},
   "outputs": [
    {
     "data": {
      "text/html": [
       "<iframe src=\"https://player.vimeo.com/video/399935074\" width=\"640\" height=\"520\" frameborder=\"0\" allow=\"autoplay; fullscreen\" allowfullscreen></iframe>\n"
      ],
      "text/plain": [
       "<IPython.core.display.HTML object>"
      ]
     },
     "metadata": {},
     "output_type": "display_data"
    }
   ],
   "source": [
    "%%HTML\n",
    "<iframe src=\"https://player.vimeo.com/video/399935074\" width=\"640\" height=\"520\" frameborder=\"0\" allow=\"autoplay; fullscreen\" allowfullscreen></iframe>"
   ]
  }
 ],
 "metadata": {
  "kernelspec": {
   "display_name": "Python 3",
   "language": "python",
   "name": "python3"
  },
  "language_info": {
   "codemirror_mode": {
    "name": "ipython",
    "version": 3
   },
   "file_extension": ".py",
   "mimetype": "text/x-python",
   "name": "python",
   "nbconvert_exporter": "python",
   "pygments_lexer": "ipython3",
   "version": "3.7.3"
  }
 },
 "nbformat": 4,
 "nbformat_minor": 4
}
