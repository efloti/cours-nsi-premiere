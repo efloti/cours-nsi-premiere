{
 "cells": [
  {
   "cell_type": "markdown",
   "metadata": {},
   "source": [
    "# Le protocole HTTP"
   ]
  },
  {
   "cell_type": "markdown",
   "metadata": {},
   "source": [
    "Il est temps d'entrer un peu dans les détails du protocole de la couche application le plus utilisé au monde: **http**"
   ]
  },
  {
   "cell_type": "markdown",
   "metadata": {},
   "source": [
    "**HTTP** est l'acronyme de *Hyper Text Transport Protocole*."
   ]
  },
  {
   "cell_type": "markdown",
   "metadata": {},
   "source": [
    "Comme tout protocole, son objectif n'est pas d'être «sympathique», mais de permettre effectivement la communication entre deux entités distantes (un client et un serveur web) qui s'échangent en réalité des suite d'octets!"
   ]
  },
  {
   "cell_type": "markdown",
   "metadata": {},
   "source": [
    "Dans les deux vidéos qui suivent, nous l'explorerons tour à tour en mode texte puis par l'intermédiaire d'un navigateur web. Répéter les expériences proposées par vous même."
   ]
  },
  {
   "cell_type": "markdown",
   "metadata": {},
   "source": [
    "**Rappel**: pour voir la vidéo, exécuter la cellule."
   ]
  },
  {
   "cell_type": "code",
   "execution_count": null,
   "metadata": {},
   "outputs": [],
   "source": [
    "%%HTML\n",
    "<iframe src=\"https://player.vimeo.com/video/398769748\" width=\"640\" height=\"480\" frameborder=\"0\" allow=\"autoplay; fullscreen\" allowfullscreen></iframe>"
   ]
  },
  {
   "cell_type": "markdown",
   "metadata": {
    "jupyter": {
     "source_hidden": true
    }
   },
   "source": [
    "Mémo:\n",
    "- `telnet hote port`: tente d'établir une connexion TCP avec un programme distant qui s'exécute sur `hote` en écoutant `port`. \n",
    "\n",
    "   *ex*: `telnet fdex.eu 80` pour accéder au serveur web de l'hôte `fdex.eu`.\n",
    "- Une fois connecté, une requête basique est `GET / HTTP/1.0` (à valider deux fois)."
   ]
  },
  {
   "cell_type": "code",
   "execution_count": null,
   "metadata": {},
   "outputs": [],
   "source": [
    "%%HTML\n",
    "<iframe src=\"https://player.vimeo.com/video/398785864\" width=\"640\" height=\"437\" frameborder=\"0\" allow=\"autoplay; fullscreen\" allowfullscreen></iframe>"
   ]
  },
  {
   "cell_type": "markdown",
   "metadata": {
    "jupyter": {
     "source_hidden": true
    }
   },
   "source": [
    "Mémo:\n",
    "\n",
    "On peut explorer la communication http entre un client et un serveur web en utilisant l'outil de développement web de firefox (ou chrome): sélectionner son onglet réseaux."
   ]
  },
  {
   "cell_type": "markdown",
   "metadata": {},
   "source": [
    "## Requête du client - `GET` ou `POST`"
   ]
  },
  {
   "cell_type": "markdown",
   "metadata": {},
   "source": [
    "Une **requête** HTTP (donc produit par un client web) basique est:\n",
    "\n",
    "        GET / HTTP/1.1\n",
    "        Host: www.fdex.eu\n",
    "\n",
    "Sa structure est:\n",
    "- l'**entête** de la requête:\n",
    "    - débute par une **ligne de requête** de la forme: `methode chemin HTTP/version` suivi par,\n",
    "    - des lignes de la forme `attribut_http: valeur`, leur rôle est de préciser la requête.\n",
    "\n",
    "\n",
    "- le **corps** de la requête (qui est optionnel): il est souvent utilisé avec la méthode `POST` pour transmettre des informations saisis par l'utilisateur via un formulaire."
   ]
  },
  {
   "cell_type": "markdown",
   "metadata": {},
   "source": [
    "Notez qu'il y a plusieurs «méthodes» de requête, retenir principalement: `GET` et `POST`."
   ]
  },
  {
   "cell_type": "markdown",
   "metadata": {},
   "source": [
    "Par exemple, lorsqu'un utilisateur renseigne un formulaire et le valide:\n",
    "- si la méthode `GET` est employée, les informations de la requête sont insérées dans l'url qui prend la forme:\n",
    "  \n",
    "      ...?nom_info1=val1&nom_info2=val2...\n",
    "\n",
    "\n",
    "- si c'est la méthode `POST`, les informations sont transmises dans le corps de la requête et n'apparaissent pas."
   ]
  },
  {
   "cell_type": "markdown",
   "metadata": {},
   "source": [
    "## Réponse du serveur"
   ]
  },
  {
   "cell_type": "markdown",
   "metadata": {},
   "source": [
    "La requête précédente donne lieu à la réponse HTTP:\n",
    "\n",
    "        HTTP/1.1 200 OK\n",
    "        Server: nginx/1.14.0 (Ubuntu)\n",
    "        Date: Thu, 19 Mar 2020 15:04:44 GMT\n",
    "        Content-Type: text/html\n",
    "        Content-Length: 181\n",
    "        Last-Modified: Tue, 22 Jul 2014 08:25:44 GMT\n",
    "        Connection: keep-alive\n",
    "        ETag: \"53ce2008-b5\"\n",
    "        Accept-Ranges: bytes\n",
    "\n",
    "        <html>\n",
    "        <head><meta content=\"text/html; charset=utf-8\" http-equiv=\"Content-Type\"></head>\n",
    "        <body><h1>It works!</h1>\n",
    "        <p>This is the default web page for this server.</p>\n",
    "        </body></html>"
   ]
  },
  {
   "cell_type": "markdown",
   "metadata": {},
   "source": [
    "Elle a la même forme générale - entête, corps - que la requête.\n",
    "\n",
    "La première ligne de l'entête est la **ligne de status** qui indique si tout c'est bien passé (code de status de la forme 2xx ou 3xx) ou pas (4xx ou 5xx).\n",
    "\n",
    "Les lignes qui suivent servent à donner des précisions sur la réponse (date, encodage, serveur, taille, état de la connexion ...).\n",
    "\n",
    "Enfin, le corps de la réponse contient la ressource demandée en cas de succès, ou un message d'erreur en HTML autrement."
   ]
  }
 ],
 "metadata": {
  "kernelspec": {
   "display_name": "Python 3",
   "language": "python",
   "name": "python3"
  },
  "language_info": {
   "codemirror_mode": {
    "name": "ipython",
    "version": 3
   },
   "file_extension": ".py",
   "mimetype": "text/x-python",
   "name": "python",
   "nbconvert_exporter": "python",
   "pygments_lexer": "ipython3",
   "version": "3.6.8"
  }
 },
 "nbformat": 4,
 "nbformat_minor": 4
}
