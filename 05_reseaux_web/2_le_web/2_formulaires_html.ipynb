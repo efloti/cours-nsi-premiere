{
 "cells": [
  {
   "cell_type": "markdown",
   "metadata": {},
   "source": [
    "# Interactions avec l'utilisateur - formulaires"
   ]
  },
  {
   "cell_type": "markdown",
   "metadata": {},
   "source": [
    "Les pages web modernes permettent des **interactions** sophistiquées avec l'utilisateur, elles utilisent pour cela des **widgets** réunis dans des **formulaires**."
   ]
  },
  {
   "cell_type": "markdown",
   "metadata": {},
   "source": [
    "## Quelques Widgets du web"
   ]
  },
  {
   "cell_type": "markdown",
   "metadata": {},
   "source": [
    "Il s'agit de petits composants graphiques permettant à l'utilisateur d'intéragir avec la page web en cours."
   ]
  },
  {
   "cell_type": "markdown",
   "metadata": {},
   "source": [
    "### Les `<input type=\"...\" .../>`"
   ]
  },
  {
   "cell_type": "markdown",
   "metadata": {},
   "source": [
    "En voici un exemple - **à exécuter** (de même pour la suite...)"
   ]
  },
  {
   "cell_type": "code",
   "execution_count": null,
   "metadata": {},
   "outputs": [],
   "source": [
    "%%HTML\n",
    "<input type=\"file\"/>"
   ]
  },
  {
   "cell_type": "markdown",
   "metadata": {},
   "source": [
    "Il y a beaucoup de valeurs possible pour l'attribut `type` (**les essayer**): `text`, `password`, `date`, `color`, `range`, `file` [etc.](https://www.w3schools.com/html/html_form_input_types.asp)"
   ]
  },
  {
   "cell_type": "markdown",
   "metadata": {},
   "source": [
    "Il est possible d'indiquer une *valeur par défaut* (elle doit bien sûr être compatible avec le type du widget) ou une *indication de saisie* (*placeholder*)"
   ]
  },
  {
   "cell_type": "code",
   "execution_count": null,
   "metadata": {},
   "outputs": [],
   "source": [
    "%%HTML\n",
    "<input type=\"date\" value=\"2020-03-19\"/><br/>\n",
    "<input type=\"text\" placeholder=\"tape ici...\"/>\n",
    "<input type=\"button\" value=\"valider\"/>"
   ]
  },
  {
   "cell_type": "markdown",
   "metadata": {},
   "source": [
    "Au fait, à quoi sert la balise `<br/>` manifestement?"
   ]
  },
  {
   "cell_type": "markdown",
   "metadata": {},
   "source": [
    "**boîtes à cocher**"
   ]
  },
  {
   "cell_type": "code",
   "execution_count": null,
   "metadata": {},
   "outputs": [],
   "source": [
    "%%HTML\n",
    "<input type=\"checkbox\"/> URL\n",
    "<input type=\"checkbox\"/> HTTP\n",
    "<input type=\"checkbox\"/> HTML"
   ]
  },
  {
   "cell_type": "markdown",
   "metadata": {},
   "source": [
    "Noter que la multi-sélection est possible ..."
   ]
  },
  {
   "cell_type": "markdown",
   "metadata": {},
   "source": [
    "#### Cas particulier des boutons radio"
   ]
  },
  {
   "cell_type": "code",
   "execution_count": null,
   "metadata": {},
   "outputs": [],
   "source": [
    "%%HTML\n",
    "<input type=\"radio\" name=\"choix\" value=\"o\"/>\n",
    "<label>oui</label>\n",
    "<input type=\"radio\" name=\"choix\" value=\"n\"/>\n",
    "<label>non</label>"
   ]
  },
  {
   "cell_type": "markdown",
   "metadata": {},
   "source": [
    "les boutons doivent être *liées* par l'attribut **name** qui doit avoir la même valeur pour chaque bouton radio (afin de s'exclure mutuellement)."
   ]
  },
  {
   "cell_type": "markdown",
   "metadata": {},
   "source": [
    "### Liste déroulante avec `<select> et <option>`"
   ]
  },
  {
   "cell_type": "code",
   "execution_count": null,
   "metadata": {},
   "outputs": [],
   "source": [
    "%%HTML\n",
    "<select>\n",
    "    <option>un</option>\n",
    "    <option>deux</option>\n",
    "    <option>trois</option>\n",
    "</select>"
   ]
  },
  {
   "cell_type": "markdown",
   "metadata": {},
   "source": [
    "### Zone de saisie multilignes - `<textarea>`"
   ]
  },
  {
   "cell_type": "code",
   "execution_count": null,
   "metadata": {},
   "outputs": [],
   "source": [
    "%%HTML\n",
    "<textarea placeholder=\"réponse libre...\"></textarea>"
   ]
  },
  {
   "cell_type": "markdown",
   "metadata": {},
   "source": [
    "J'espère que ça vous donne un bon aperçu des possibilités de base; si vous souhaitez approfondir visitez la [w3school](https://www.w3schools.com/html/html_forms.asp)."
   ]
  },
  {
   "cell_type": "markdown",
   "metadata": {},
   "source": [
    "## Notion de formulaire - `<form>`"
   ]
  },
  {
   "cell_type": "markdown",
   "metadata": {},
   "source": [
    "Un formulaire est un groupement de widgets formant un tout. Son rôle est de:\n",
    "- grouper les widgets et surtout de,\n",
    "- **préciser l'action à entreprendre** lorsque l'utilisateur le valide (soumet - *submit*)."
   ]
  },
  {
   "cell_type": "markdown",
   "metadata": {},
   "source": [
    "Il n'est pas possible d'exécuter dans le notebook un tel formulaire, mais voici à quoi cela ressemble:\n",
    "\n",
    "```html\n",
    "<form method=\"post\" action=\"url_du_programme_sur_serveur\">\n",
    "    <!-- zone où on place les widgets -->\n",
    "    <input type=\"submit\" value=\"valider\"/>\n",
    "</form>\n",
    "```"
   ]
  },
  {
   "cell_type": "markdown",
   "metadata": {},
   "source": [
    "Voici un exemple graphique mais désactivé... (cliquer sur la cellule pour voir le code HTML)"
   ]
  },
  {
   "cell_type": "markdown",
   "metadata": {},
   "source": [
    "<form method=\"post\" action=\"login.py\">\n",
    "    Identifiant:\n",
    "    <input type=\"text\" name=\"ident\"/><br/>\n",
    "    Mot de passe:\n",
    "    <input type=\"password\" name=\"pass\"/><br/>\n",
    "    <input type=\"submit\" />\n",
    "</form>"
   ]
  },
  {
   "cell_type": "markdown",
   "metadata": {},
   "source": [
    "Si l'on pouvait soumettre ce petit formulaire (nous le ferons bientôt), voilà ce qui arriverait normalement:\n",
    "1. le navigateur produirait une requête avec une méthode `POST` vers le serveur,\n",
    "2. lequel transmettra les données reçus au fichier *login.py* (situé dans le même répertoire que le fichier HTML contenant le formulaire),\n",
    "3. le programme *login.py* se lance et traite les données reçus pour produire une nouvelle page HTML...,\n",
    "4. ...que le serveur transmet dans sa réponse au client."
   ]
  },
  {
   "cell_type": "markdown",
   "metadata": {},
   "source": [
    "Pour pouvoir expérimenter le «web dynamique» (capable de réagir à des requêtes contenant des données), nous allons devoir découvrir la **programmation côté serveur**."
   ]
  },
  {
   "cell_type": "markdown",
   "metadata": {},
   "source": [
    "## Programme python exécutable"
   ]
  },
  {
   "cell_type": "markdown",
   "metadata": {},
   "source": [
    "Pour comprendre la programmation côté serveur, nous avons besoin de savoir **rendre un script python exécutable**.\n",
    "\n",
    "Voyez cette vidéo qui vous explique pas à pas comment faire (sur un système UNIX). Nous en aurons besoin pour la suite."
   ]
  },
  {
   "cell_type": "code",
   "execution_count": null,
   "metadata": {},
   "outputs": [],
   "source": [
    "%%HTML\n",
    "<iframe src=\"https://player.vimeo.com/video/398805308\" width=\"640\" height=\"437\" frameborder=\"0\" allow=\"autoplay; fullscreen\" allowfullscreen></iframe>"
   ]
  },
  {
   "cell_type": "markdown",
   "metadata": {},
   "source": [
    "Résumé des points essentiels:\n",
    "\n",
    "1. `python fichier.py`: exécute le programme contenu dans le script Python *fichier.py*\n",
    "\n",
    "2. `./fichier.py` réalise la même chose si deux conditions sont réunis:\n",
    "    - **ligne «shebang»**: la première ligne de ce fichier est `#!<chemin_python>`\n",
    "      \n",
    "      le chemin se trouve avec `which python`...\n",
    "    - le fichier doit-être rendu **exécutable** (`chmod +x fichier.py`),\n",
    "\n",
    "\n",
    "3. Pour faire de `fichier.py` une *commande*:\n",
    "    1. Créer le répertoire `bin` dans votre répertoire personnel (`mkdir ~/bin`),\n",
    "    \n",
    "    2. redémarrer le shell et vérifier que `~/bin` est bien dans le *path* (`echo $PASS`),\n",
    "   \n",
    "    3. déplacer votre fichier python dans ce répertoire (`mv fichier.py ~/bin/`)"
   ]
  }
 ],
 "metadata": {
  "kernelspec": {
   "display_name": "Python 3",
   "language": "python",
   "name": "python3"
  },
  "language_info": {
   "codemirror_mode": {
    "name": "ipython",
    "version": 3
   },
   "file_extension": ".py",
   "mimetype": "text/x-python",
   "name": "python",
   "nbconvert_exporter": "python",
   "pygments_lexer": "ipython3",
   "version": "3.7.3"
  }
 },
 "nbformat": 4,
 "nbformat_minor": 4
}
