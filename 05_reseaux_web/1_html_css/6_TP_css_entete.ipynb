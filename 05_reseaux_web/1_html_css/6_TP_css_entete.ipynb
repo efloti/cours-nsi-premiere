{
 "cells": [
  {
   "cell_type": "markdown",
   "metadata": {},
   "source": [
    "# Mise en forme de l'entête de page - `<header>`"
   ]
  },
  {
   "cell_type": "markdown",
   "metadata": {},
   "source": [
    "## Structure html"
   ]
  },
  {
   "cell_type": "markdown",
   "metadata": {},
   "source": [
    "```html\n",
    "<header>\n",
    "    <div id=\"titre_principal\">\n",
    "        <img ... />\n",
    "        <h1>...</h1>\n",
    "        <h2>...</h2>\n",
    "    </div>\n",
    "    <nav>\n",
    "        <ul>\n",
    "            <li><a ...>Accueil</a></li>\n",
    "            ...\n",
    "        </ul>\n",
    "    </nav>\n",
    "</header>\n",
    "```"
   ]
  },
  {
   "cell_type": "markdown",
   "metadata": {},
   "source": [
    "qu'on peut résumer en:\n",
    "```\n",
    "header\n",
    "    div\n",
    "        img, h1, h2\n",
    "    nav\n",
    "        ul\n",
    "            li a, ...\n",
    "```"
   ]
  },
  {
   "cell_type": "markdown",
   "metadata": {},
   "source": [
    "## Un séparateur pour le `<header>`\n",
    "\n",
    "En utilisant l'image - *separateur.png* - comme image de fond - `background` - qu'on va répéter selon x (horizontalement) - `repeat-x` - au bas de la boîte - `bottom`:"
   ]
  },
  {
   "cell_type": "markdown",
   "metadata": {},
   "source": [
    "```css\n",
    "header {\n",
    "    background: url(images/separateur.png) repeat-x bottom;\n",
    "}\n",
    "```"
   ]
  },
  {
   "cell_type": "markdown",
   "metadata": {},
   "source": [
    "## Gestion des titres de niveau 1 et 2"
   ]
  },
  {
   "cell_type": "markdown",
   "metadata": {},
   "source": [
    "Le **titre principal** aura une taille de police - `font-size` - 2,5 fois plus grande que celle du reste de la page - `2.5em` - et on ne veut pas qu'ils soient en gras : `font-weight: normal;`\n",
    "\n",
    "Le **sous-titre** aura une taille de police 1,1 fois plus grande que celle du reste de la page - 1.1em - et ne sera pas en gras non plus.\n",
    "\n",
    "Nous souhaitons encore que le logo et le titre de niveau 1 soit l'un à côté de l'autre. Pour cela on change leur **mode de rendu** (voir plus loin) avec la *directive* : `display: inline-block;`:"
   ]
  },
  {
   "cell_type": "markdown",
   "metadata": {},
   "source": [
    "```css\n",
    "header h1 {\n",
    "    font-size: 2.5em;\n",
    "    font-weight: normal;\n",
    "}\n",
    " \n",
    "header h2 {\n",
    "    font-size: 1.1em;\n",
    "    font-weight: normal;\n",
    "}\n",
    "\n",
    "#logo, header h1 {\n",
    "    display: inline-block;\n",
    "}\n",
    "```"
   ]
  },
  {
   "cell_type": "markdown",
   "metadata": {},
   "source": [
    "## Rapprochement du titre et du sous-titre\n",
    "\n",
    "L'éloignement du titre et du sous-titre provient des *marges externes* - `margin` - appliqué par défaut (par le navigateur) aux titres `hn`.\n",
    "\n",
    "Pour les rapprocher, il suffit d'annuler la **marge inférieure** - `margin-bottom` - du `h1` et la **marge supérieur** - `margin-top` - de `h2`."
   ]
  },
  {
   "cell_type": "markdown",
   "metadata": {},
   "source": [
    "```css\n",
    "header h1 {\n",
    "    ...\n",
    "    margin-bottom: 0px;\n",
    "}\n",
    " \n",
    "header h2 {\n",
    "    ...\n",
    "    margin-top: 0px;\n",
    "}\n",
    "```"
   ]
  },
  {
   "cell_type": "markdown",
   "metadata": {},
   "source": [
    "## Alignement horizontal du titre principale et de la barre de navigation"
   ]
  },
  {
   "cell_type": "markdown",
   "metadata": {},
   "source": [
    "On souhaite avoir le titre principal et le menu de navigation (voir chapitre suivant) sur la même ligne horizontale, chacun ayant la moitié de la largeur totale :\n"
   ]
  },
  {
   "cell_type": "markdown",
   "metadata": {},
   "source": [
    "```css\n",
    "header {\n",
    "    ...\n",
    "    display: flex; /* chaque enfant direct ... */\n",
    "}\n",
    "\n",
    "#titre_principal, nav {\n",
    "    flex: 1; /* ... occupe le même espace horizontal par rapport au parent header */\n",
    "}\n",
    "```"
   ]
  },
  {
   "cell_type": "markdown",
   "metadata": {},
   "source": [
    "## Menu de navigation"
   ]
  },
  {
   "cell_type": "markdown",
   "metadata": {},
   "source": [
    "On va aligner son contenu à droite et en bas ..."
   ]
  },
  {
   "cell_type": "markdown",
   "metadata": {},
   "source": [
    "```css\n",
    "nav {\n",
    "    display: flex;\n",
    "    justify-content: flex-end; /* à droite */\n",
    "    align-items: flex-end; /* et en bas */\n",
    "}\n",
    "```"
   ]
  },
  {
   "cell_type": "markdown",
   "metadata": {},
   "source": [
    "... puis aligner horizontalement les items de la liste tout en supprimant les puces - `list-style-type: none;`"
   ]
  },
  {
   "cell_type": "markdown",
   "metadata": {},
   "source": [
    "```css\n",
    "nav ul {\n",
    "    display: flex;\n",
    "}\n",
    "\n",
    "nav li {\n",
    "    list-style-type: none;\n",
    "}\n",
    "```"
   ]
  },
  {
   "cell_type": "markdown",
   "metadata": {},
   "source": [
    "Rajoutons une petite marge à droite de 15 pixels à chaque item de la liste"
   ]
  },
  {
   "cell_type": "markdown",
   "metadata": {},
   "source": [
    "```css\n",
    "nav li {\n",
    "    ...\n",
    "    margin-right: 15px;\n",
    "}\n",
    "```"
   ]
  },
  {
   "cell_type": "markdown",
   "metadata": {},
   "source": [
    "Améliorons enfin l'aspect des liens qui forment le menu en augmentant un peu la taille de la police, en modifiant la couleur et en supprimant le soulignement:"
   ]
  },
  {
   "cell_type": "markdown",
   "metadata": {},
   "source": [
    "```css\n",
    "nav a {\n",
    "    font-size: 1.3em;\n",
    "    color: DarkSlateGray;\n",
    "    text-decoration: none;\n",
    "}\n",
    "```"
   ]
  },
  {
   "cell_type": "markdown",
   "metadata": {},
   "source": [
    "Enfin, nous utiliserons le *pseudo sélecteur* `:hover` (dessus) pour styler les liens au passage de la souris."
   ]
  },
  {
   "cell_type": "markdown",
   "metadata": {},
   "source": [
    "```css\n",
    "nav a:hover{\n",
    "    color: DarkRed;\n",
    "    border-bottom: 3px solid DarkRed;\n",
    "}\n",
    "```"
   ]
  }
 ],
 "metadata": {
  "kernelspec": {
   "display_name": "Python 3",
   "language": "python",
   "name": "python3"
  },
  "language_info": {
   "codemirror_mode": {
    "name": "ipython",
    "version": 3
   },
   "file_extension": ".py",
   "mimetype": "text/x-python",
   "name": "python",
   "nbconvert_exporter": "python",
   "pygments_lexer": "ipython3",
   "version": "3.6.8"
  }
 },
 "nbformat": 4,
 "nbformat_minor": 4
}
