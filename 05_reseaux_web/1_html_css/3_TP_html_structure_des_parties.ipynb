{
 "cells": [
  {
   "cell_type": "markdown",
   "metadata": {},
   "source": [
    "# TP - Compléter le fichier HTML"
   ]
  },
  {
   "cell_type": "markdown",
   "metadata": {},
   "source": [
    "Après avoir structuré la page dans son ensemble, on s'occupe de chacune de ses parties *sans se préoccuper de la mise en forme* qui viendra plus tard avec **CSS**."
   ]
  },
  {
   "cell_type": "markdown",
   "metadata": {},
   "source": [
    "**Instructions de mise en place**: \n",
    "1. Télécharge l'archive *web-zozor_0.zip* (clic droit et Download) *sans l'ouvrir*,\n",
    "2. créé un dossier `SNT_web` et déplace l'archive téléchargée dans ce dossier,\n",
    "3. dans le dossier `SNT_web`, clic droit sur l'archive et choisis *extraire...*,\n",
    "4. ouvre le dossier `web_zozo_0`, tu y trouveras le fichier *index.html*,\n",
    "5. Cherche le logiciel Geany et ouvre le fichier *index.html* avec ce logiciel,\n",
    "6. Enfin, **avec Firefox**, ouvre à nouveau le fichier *index.html*: cherche *ouvrir un fichier* (ou CTRL+O). \n",
    "\n",
    "\n",
    "Au fur et à mesure de la lecture du document, complète le fichier *index.html* dans Geany en **copiant-collant intelligemment** les portions de HTML qui suivent (dans le fichier index.html) **de façon à bien respecter l'imbrication des balises** ainsi que l'indentation pour que le fichier reste lisible.\n",
    "\n",
    "Cela fait, recharche la page du navigateur - `CTRL+R` - pour visualiser: attention, il n'y a pas de mise en forme pour l'instant, nous nous occupons de la structure."
   ]
  },
  {
   "cell_type": "markdown",
   "metadata": {},
   "source": [
    "## L'entête `head`"
   ]
  },
  {
   "cell_type": "markdown",
   "metadata": {},
   "source": [
    "Sert à déclarer des informations globales de la page comme par exemple :\n",
    "\n",
    "- `meta`: des métadonnés comme par exemple l'encodage utilisé,\n",
    "- `link`: des liens vers des ressources externes comme une **feuille de style CSS** (nous en reparlerons plus tard) ou du code **javascript**,\n",
    "- `title`: le titre de la page,\n",
    "\n",
    "À l'intérieur de `head`:\n",
    "```html\n",
    "<meta charset=\"utf-8\"/>\n",
    "<link rel=\"stylesheet\" href=\"style.css\" />\n",
    "<title>Zozor - Carnets de voyage</title>\n",
    "```"
   ]
  },
  {
   "cell_type": "markdown",
   "metadata": {},
   "source": [
    "# L'entête de la page"
   ]
  },
  {
   "cell_type": "markdown",
   "metadata": {},
   "source": [
    "## Le titre principale: `body div#bloc_page header`"
   ]
  },
  {
   "cell_type": "markdown",
   "metadata": {},
   "source": [
    "`body div#bloc_page header` est un raccourci pour te dire «dans le `header` de la `div` d'identifiant `\"bloc_page\"` elle-même située dans le `body`». Soit bien attentif à ces indications pour **localiser** le «point d'insertion» dans le fichier *index.html*."
   ]
  },
  {
   "cell_type": "markdown",
   "metadata": {},
   "source": [
    "<img src=\"images/header_main.png\"/>"
   ]
  },
  {
   "cell_type": "markdown",
   "metadata": {},
   "source": [
    "Pour cette portion, nous utiliserons une division générique `div` laquelle contiendra un logo `img`, un titre `h1` et un sous-titre `h2`. Cela donne:"
   ]
  },
  {
   "cell_type": "markdown",
   "metadata": {},
   "source": [
    "```html\n",
    "<div id=\"titre_principal\">\n",
    "    <img src=\"images/zozor_logo.png\" id=\"logo\" />\n",
    "    <h1>Zozor</h1>\n",
    "    <h2>Carnets de voyage</h2>\n",
    "</div>\n",
    "```"
   ]
  },
  {
   "cell_type": "markdown",
   "metadata": {},
   "source": [
    "## Le menu de navigation: `... header nav`"
   ]
  },
  {
   "cell_type": "markdown",
   "metadata": {},
   "source": [
    "<img src=\"images/header_nav.png\"/>"
   ]
  },
  {
   "cell_type": "markdown",
   "metadata": {},
   "source": [
    "C'est une liste `ul` de liens `a`:"
   ]
  },
  {
   "cell_type": "markdown",
   "metadata": {},
   "source": [
    "```html\n",
    "<ul>\n",
    "    <li><a href=\"#\">Accueil</a></li>\n",
    "    <li><a href=\"#\">Blog</a></li>\n",
    "    <li><a href=\"#\">CV</a></li>\n",
    "    <li><a href=\"#\">Contact</a></li>\n",
    "</ul>\n",
    "```"
   ]
  },
  {
   "cell_type": "markdown",
   "metadata": {},
   "source": [
    "# La bannière `... div#banniere_image`"
   ]
  },
  {
   "cell_type": "markdown",
   "metadata": {},
   "source": [
    "<img src=\"images/banniere.png\"/>"
   ]
  },
  {
   "cell_type": "markdown",
   "metadata": {},
   "source": [
    "Nous nous occuperons de l'image principale plus tard avec CSS.\n",
    "\n",
    "Pour l'instant, on va s'occuper de la sous-division `div` qui concerne la description de la bannière et du bouton \"voir l'article\".\n",
    "\n",
    "Nous allons le modéliser à l'aide d'une ancre `a` «marquée» (avec l'attribut `class`)."
   ]
  },
  {
   "cell_type": "markdown",
   "metadata": {},
   "source": [
    "```html\n",
    "<div id=\"banniere_description\">\n",
    "    Retour sur mes vacances aux États-Unis...\n",
    "    <a href=\"#\" class=\"bouton_rouge\">Voir l'article <img src=\"images/flecheblanchedroite.png\"/></a>\n",
    "</div>\n",
    "```"
   ]
  },
  {
   "cell_type": "markdown",
   "metadata": {},
   "source": [
    "# L'article `... section article`"
   ]
  },
  {
   "cell_type": "markdown",
   "metadata": {},
   "source": [
    "<img src=\"images/article.png\"/>"
   ]
  },
  {
   "cell_type": "markdown",
   "metadata": {},
   "source": [
    "Il comporte un titre principal `h1` doté d'une `img` puis de quelques paragraphes `p` avec du texte au hasard ([voir ce lien](https://www.faux-texte.com/))."
   ]
  },
  {
   "cell_type": "markdown",
   "metadata": {},
   "source": [
    "```html\n",
    "<h1>\n",
    "    <img src=\"images/ico_epingle.png\" class=\"ico_categorie\" />\n",
    "    Je suis un grand voyageur\n",
    "</h1>\n",
    "<p>\n",
    "    Lorem ipsum dolor sit amet...\n",
    "</p>\n",
    "<p>\n",
    "    Vivamus sed libero nec mauris pulvinar facilisis ut non sem...\n",
    "</p>\n",
    "<p>\n",
    "    Phasellus ligula massa, congue ac vulputate non, dignissim at augue...\n",
    "</p>\n",
    "```"
   ]
  },
  {
   "cell_type": "markdown",
   "metadata": {},
   "source": [
    "## Contenu relatif à l'article `article aside`"
   ]
  },
  {
   "cell_type": "markdown",
   "metadata": {},
   "source": [
    "<img src=\"images/aside.png\"/>"
   ]
  },
  {
   "cell_type": "markdown",
   "metadata": {},
   "source": [
    "Nous avons un titre principal `h1`, l'image `img` d'une petite flèche qui pointe vers l'article, l'image `img` de l'auteur dans on paragraphe `p` etc. "
   ]
  },
  {
   "cell_type": "markdown",
   "metadata": {},
   "source": [
    "```html\n",
    "<h1>\n",
    "    À propos de l'auteur\n",
    "</h1>\n",
    "<img src=\"images/bulle.png\" id=\"fleche_bulle\"/>\n",
    "<p id=\"photo_zozor\">\n",
    "    <img src=\"images/zozor_classe.png\"/>\n",
    "</p>\n",
    "<p>\n",
    "    Laisse-moi le temps de me présenter : je m'appelle Zozor, je suis né un 23 novembre 2005.\n",
    "</p>\n",
    "<p>\n",
    "    Bien maigre, n'est-ce pas ? C'est pourquoi, aujourd'hui, j'ai décidé d'écrire ma biographie (ou zBiographie, comme vous voulez !) afin que les zéros sachent qui je suis réellement.\n",
    "</p>\n",
    "<p id=\"reseaux_sociaux\">\n",
    "    <img src=\"images/facebook.png\"/>\n",
    "    <img src=\"images/twitter.png\"/>\n",
    "    <img src=\"images/vimeo.png\"/>\n",
    "    <img src=\"images/flickr.png\"/>\n",
    "    <img src=\"images/rss.png\"/>\n",
    "</p>\n",
    "```"
   ]
  },
  {
   "cell_type": "markdown",
   "metadata": {},
   "source": [
    "# Le pied de page `... footer`"
   ]
  },
  {
   "cell_type": "markdown",
   "metadata": {},
   "source": [
    "<img src=\"images/footer.png\"/>"
   ]
  },
  {
   "cell_type": "markdown",
   "metadata": {},
   "source": [
    "Il est formé de trois sous divisions `div` et on procède pour chacune d'elle comme précédemment (ou de manière proche): \n"
   ]
  },
  {
   "cell_type": "markdown",
   "metadata": {},
   "source": [
    "```html\n",
    "<div id=\"tweet\">\n",
    "    <h1>Mon dernier tweet</h1>\n",
    "    <p>Hii haaaaaan !</p>\n",
    "    <p>le 12 mai à 23h12</p>\n",
    "</div>\n",
    "\n",
    "<div id=\"mes_photos\">\n",
    "    <h1>Mes photos</h1>\n",
    "    <p>\n",
    "        <img src=\"images/photo1.jpg\"/>\n",
    "        <img src=\"images/photo2.jpg\"/>\n",
    "        <img src=\"images/photo3.jpg\"/>\n",
    "        <img src=\"images/photo4.jpg\"/>\n",
    "    </p>\n",
    "</div>\n",
    "\n",
    "<div id=\"mes_amis\">\n",
    "    <h1>Mes amis</h1>\n",
    "    <ul>\n",
    "        <li><a href=\"#\">Pupi le lapin</a></li>\n",
    "        <li><a href=\"#\">Mr Baobab</a></li>\n",
    "        <li><a href=\"#\">Kaiwaii</a></li>\n",
    "        <li><a href=\"#\">Perceval.eu</a></li>\n",
    "    </ul>\n",
    "    <ul>\n",
    "        <li><a href=\"#\">Belette</a></li>\n",
    "        <li><a href=\"#\">Le concombre masqué</a></li>\n",
    "        <li><a href=\"#\">Ptit prince</a></li>\n",
    "        <li><a href=\"#\">Mr Fan</a></li>\n",
    "    </ul>\n",
    "</div>\n",
    "```"
   ]
  }
 ],
 "metadata": {
  "kernelspec": {
   "display_name": "Python 3",
   "language": "python",
   "name": "python3"
  },
  "language_info": {
   "codemirror_mode": {
    "name": "ipython",
    "version": 3
   },
   "file_extension": ".py",
   "mimetype": "text/x-python",
   "name": "python",
   "nbconvert_exporter": "python",
   "pygments_lexer": "ipython3",
   "version": "3.7.3"
  }
 },
 "nbformat": 4,
 "nbformat_minor": 4
}
