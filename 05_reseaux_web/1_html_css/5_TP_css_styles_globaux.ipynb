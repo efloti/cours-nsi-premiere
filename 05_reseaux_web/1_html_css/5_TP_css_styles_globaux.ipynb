{
 "cells": [
  {
   "cell_type": "markdown",
   "metadata": {},
   "source": [
    "# Définition des styles principaux"
   ]
  },
  {
   "cell_type": "markdown",
   "metadata": {},
   "source": [
    "**Instructions**:\n",
    "- ouvre le fichier *index.css* avec Geany,\n",
    "- au fur et à mesure, copie-colle les règles css indiquée dans ce fichier et\n",
    "- n'oublie pas de regarder les changement dans firefox en rechargeant la page (CTRL+R)."
   ]
  },
  {
   "cell_type": "markdown",
   "metadata": {},
   "source": [
    "## Structure html du `body`"
   ]
  },
  {
   "cell_type": "markdown",
   "metadata": {},
   "source": [
    "```html\n",
    "<body>\n",
    "    <div id=\"bloc_page\">\n",
    "        <header>...</header>\n",
    "        <div id=\"banniere_image\">...</div>\n",
    "        <section>...</section>\n",
    "        <footer>...</footer>\n",
    "    </div>\n",
    "</body>\n",
    "```"
   ]
  },
  {
   "cell_type": "markdown",
   "metadata": {},
   "source": [
    "## Le corps de la page - `body`"
   ]
  },
  {
   "cell_type": "markdown",
   "metadata": {},
   "source": [
    "Nous utiliserons une image pour l'arrière plan `background`, puis une police de caractères `font-family` particulière et nous préciserons une couleur de texte - `color` gris clair:"
   ]
  },
  {
   "cell_type": "markdown",
   "metadata": {},
   "source": [
    "```css\n",
    "body {\n",
    "    background: url('images/fond_jaune.png');\n",
    "    font-family: \"Trebuchet MS\";\n",
    "    color: DarkSlateGray;\n",
    "}\n",
    "```"
   ]
  },
  {
   "cell_type": "markdown",
   "metadata": {},
   "source": [
    "Nous allons aussi **dimensionner** le bloc de page à `900px` de large `width` et le **centrer** en donnant à ses marges gauches et droites `margin-left` et `margin-right` la valeur `auto`: "
   ]
  },
  {
   "cell_type": "markdown",
   "metadata": {},
   "source": [
    "```css\n",
    "#bloc_page {\n",
    "  width: 900px;\n",
    "  margin-left: auto;\n",
    "  margin-right: auto;\n",
    "}\n",
    "```"
   ]
  },
  {
   "cell_type": "markdown",
   "metadata": {},
   "source": [
    "## Titres pour `section` et `footer` et liens de navigation"
   ]
  },
  {
   "cell_type": "markdown",
   "metadata": {},
   "source": [
    "On les sélectionne avec `section h1`, `footer h1` et `nav a`.\n",
    "\n",
    "Nous allons les mettre en majuscule `text-transform: uppercase` et modifier la «graisse» de la fonte `font-weight`:\n"
   ]
  },
  {
   "cell_type": "markdown",
   "metadata": {},
   "source": [
    "```css\n",
    "section h1, footer h1, nav a {\n",
    "   text-transform: uppercase;\n",
    "   font-weight: normal;\n",
    "}\n",
    "```"
   ]
  }
 ],
 "metadata": {
  "kernelspec": {
   "display_name": "Python 3",
   "language": "python",
   "name": "python3"
  },
  "language_info": {
   "codemirror_mode": {
    "name": "ipython",
    "version": 3
   },
   "file_extension": ".py",
   "mimetype": "text/x-python",
   "name": "python",
   "nbconvert_exporter": "python",
   "pygments_lexer": "ipython3",
   "version": "3.6.8"
  }
 },
 "nbformat": 4,
 "nbformat_minor": 4
}
