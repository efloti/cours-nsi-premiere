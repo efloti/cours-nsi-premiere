{
 "cells": [
  {
   "cell_type": "markdown",
   "metadata": {},
   "source": [
    "# Section centrale"
   ]
  },
  {
   "cell_type": "markdown",
   "metadata": {},
   "source": [
    "Ici, il vous faudra compléter vous-même les parties manquantes `___`, cela afin de vous préparer au TP final où il faudra vous débrouiller par vous-même.\n",
    "\n",
    "Noter que l'indication `...` signifie que la règle est déjà partiellement écrite et qu'il faut la **compléter** (et non en refaire une nouvelle)."
   ]
  },
  {
   "cell_type": "markdown",
   "metadata": {},
   "source": [
    "## Structure html"
   ]
  },
  {
   "cell_type": "markdown",
   "metadata": {},
   "source": [
    "```html\n",
    "<section>\n",
    "    <article>\n",
    "        <h1><img ... class=\"ico_categorie\"/> ... </h1>\n",
    "        \n",
    "    </article>\n",
    "    <aside>\n",
    "        <h1> ... </h1>\n",
    "        <img ... id=\"fleche_bulle\"/>\n",
    "        <p id=\"photo_zozor\"><img .../></p>\n",
    "        <p> ... </p>   \n",
    "        <p id=\"reseaux_sociaux\"><img .../><img .../><img .../><img .../></p>\n",
    "    </aside>\n",
    "</section>\n",
    "```"
   ]
  },
  {
   "cell_type": "markdown",
   "metadata": {},
   "source": [
    "## Du texte au hasard comme gabarit"
   ]
  },
  {
   "cell_type": "markdown",
   "metadata": {},
   "source": [
    "Bourrons un peu la zone `article` de *index.html* avec un peu plus de texte (choisi au hasard sur [faux-texte](http://www.faux-texte.com/))."
   ]
  },
  {
   "cell_type": "markdown",
   "metadata": {},
   "source": [
    "```html\n",
    "<p>Isdem diebus Apollinaris Domitiani gener, paulo ante agens palatii Caesaris curam, ad Mesopotamiam missus a socero per militares numeros immodice scrutabatur, an quaedam altiora meditantis iam Galli secreta susceperint scripta, qui conpertis Antiochiae gestis per minorem Armeniam lapsus Constantinopolim petit exindeque per protectores retractus artissime tenebatur.</p>\n",
    "<p>Et interdum acciderat, ut siquid in penetrali secreto nullo citerioris vitae ministro praesente paterfamilias uxori susurrasset in aurem, velut Amphiarao referente aut Marcio, quondam vatibus inclitis, postridie disceret imperator. ideoque etiam parietes arcanorum soli conscii timebantur.</p>\n",
    "<p>Itaque verae amicitiae difficillime reperiuntur in iis qui in honoribus reque publica versantur; ubi enim istum invenias qui honorem amici anteponat suo? Quid? Haec ut omittam, quam graves, quam difficiles plerisque videntur calamitatum societates! Ad quas non est facile inventu qui descendant. Quamquam Ennius recte.</p>\n",
    "<p>Sed laeditur hic coetuum magnificus splendor <a href=\"#\">levitate</a> paucorum incondita, ubi nati sunt non reputantium, sed tamquam indulta licentia vitiis ad errores lapsorum ac lasciviam. ut enim Simonides lyricus docet, beate perfecta ratione vieturo ante alia patriam esse convenit gloriosam.</p>\n",
    "<p>Hac ex causa conlaticia stipe Valerius humatur ille Publicola et subsidiis amicorum mariti inops cum liberis uxor alitur Reguli et dotatur ex aerario filia Scipionis, cum nobilitas florem adultae virginis diuturnum absentia pauperis erubesceret patris.</p>\n",
    "<p>Duplexque isdem diebus acciderat malum, quod et Theophilum insontem atrox interceperat casus, et Serenianus dignus exsecratione cunctorum, innoxius, modo non reclamante publico vigore, discessit.</p>\n",
    "```"
   ]
  },
  {
   "cell_type": "markdown",
   "metadata": {},
   "source": [
    "## Positionnement de l'`article` et de l'`aside`"
   ]
  },
  {
   "cell_type": "markdown",
   "metadata": {},
   "source": [
    "1. Positionner côte à côte l'article et l'aside de façon que le premier soit **2** fois plus large que le second:\n",
    "\n",
    "2. la hauteur de l'`aside` soit déterminée *par son contenu*. Pour y parvenir nous utilisons la propriété `align-items` avec la valeur `flex-start`. *Expérimenter avec le navigateur pour comprendre* en ajoutant une couleur de fond `background: blue;` à l'aside.\n",
    "\n",
    "3. décoller l'`aside` de l'`article` avec un peu de marge."
   ]
  },
  {
   "cell_type": "markdown",
   "metadata": {},
   "source": [
    "```css\n",
    "section {\n",
    "    display: ___; /* 1 */\n",
    "    align-items: flex-start; /* 2 */\n",
    "}\n",
    "\n",
    "/* proportion 2/3 et 1/3 */\n",
    "\n",
    "article {\n",
    "    flex: ___; /* 1 aide: c'est un nombre simple */\n",
    "}\n",
    "\n",
    "aside {\n",
    "    flex: ___; /* 1 voir l'aide */\n",
    "    margin-___: 15px; /* 3 */\n",
    "}\n",
    "```"
   ]
  },
  {
   "cell_type": "markdown",
   "metadata": {
    "jupyter": {
     "source_hidden": true
    }
   },
   "source": [
    "```css\n",
    "section {\n",
    "    display: flex;\n",
    "    align-items: flex-start;\n",
    "}\n",
    "\n",
    "/* proportion 2/3 et 1/3 */\n",
    "\n",
    "article {\n",
    "    flex: 2;\n",
    "}\n",
    "\n",
    "aside {\n",
    "    flex: 1;\n",
    "    margin-left: 15px;\n",
    "}\n",
    "```"
   ]
  },
  {
   "cell_type": "markdown",
   "metadata": {},
   "source": [
    "## Mise en forme de l'`aside`"
   ]
  },
  {
   "cell_type": "markdown",
   "metadata": {},
   "source": [
    "1. Modifier sa couleur de fond (en utilisant celle de la petite flèche mesurée avec l'outil pipette d'un logiciel d'image) - `rgb(112, 107, 100)`,\n",
    "\n",
    "2. utiliser une couleur claire pour le texte comme `rgb(230, 230, 230)` (gris clair),\n",
    "\n",
    "3. décoller le texte avec un peu de marge interne\n",
    "\n",
    "4. plaçer la petite flèche (éteindre la couleur de fond avec le navigateur pour la voir) sur le côté gauche à 30% du haut; pour y parvenir il faut «positionner» l'`aside`,\n",
    "\n",
    "5. arrondir les coins."
   ]
  },
  {
   "cell_type": "markdown",
   "metadata": {},
   "source": [
    "```css\n",
    "aside {\n",
    "    ...\n",
    "    ___: rgb(112, 107, 100); /* 1 */\n",
    "    ___: rgb(230, 230, 230); /* 2 */\n",
    "    ___: 1em; /* 3 */\n",
    "    position: ___; /* 4 */\n",
    "    border-___: 5px; /* 5 */\n",
    "}\n",
    "\n",
    "#fleche_bulle {\n",
    "    position: absolute; /* 4 */\n",
    "    left: -12px; /* 4 après avoir mesuré la largeur de la flèche */\n",
    "    ___: 30%; /* 4 */\n",
    "}\n",
    "```"
   ]
  },
  {
   "cell_type": "markdown",
   "metadata": {
    "jupyter": {
     "source_hidden": true
    }
   },
   "source": [
    "```css\n",
    "aside {\n",
    "    flex: 1;\n",
    "    margin-left: 15px;\n",
    "    background: rgb(112, 107, 100);\n",
    "    color: rgb(230, 230, 230);\n",
    "    padding: 1em;\n",
    "    position: relative;\n",
    "    border-radius: 5px;\n",
    "}\n",
    "\n",
    "#fleche_bulle {\n",
    "    position: absolute;\n",
    "    left: -12px;\n",
    "    top: 30%;\n",
    "}\n",
    "```"
   ]
  },
  {
   "cell_type": "markdown",
   "metadata": {},
   "source": [
    "6. centrer horizontalement l'image de zozor,\n",
    "\n",
    "7. ajouter une bordure noire d'1 pixel autour de cet image,\n",
    "\n",
    "8. centrer horizontalement les images des réseaux sociaux.\n",
    "\n",
    "9. puis supprimer la marge basse du conteneur."
   ]
  },
  {
   "cell_type": "markdown",
   "metadata": {},
   "source": [
    "```css\n",
    "#___ { /* 6 */\n",
    "    text-align: center;\n",
    "}\n",
    "\n",
    "#photo_zozor img {\n",
    "    ___: 1px solid black; /* 7 */\n",
    "}\n",
    "\n",
    "#reseaux_sociaux {\n",
    "    display: ___; /* 8 */\n",
    "    justify-content: space-evenly; /* 8 */\n",
    "    margin-___: 0; /* 9 */\n",
    "}\n",
    "```"
   ]
  },
  {
   "cell_type": "markdown",
   "metadata": {
    "jupyter": {
     "source_hidden": true
    }
   },
   "source": [
    "```css\n",
    "#photo_zozor {\n",
    "    text-align: center;\n",
    "}\n",
    "\n",
    "#photo_zozor img {\n",
    "    border: 1px solid black;\n",
    "}\n",
    "\n",
    "#reseaux_sociaux {\n",
    "    display: flex;\n",
    "    justify-content: space-evenly;\n",
    "    margin-bottom: 0;\n",
    "}\n",
    "```"
   ]
  },
  {
   "cell_type": "markdown",
   "metadata": {},
   "source": [
    "## Finition"
   ]
  },
  {
   "cell_type": "markdown",
   "metadata": {},
   "source": [
    "1. justifier le texte de toute la section,\n",
    "\n",
    "2. mettre une ligne de séparation tout en bas de la section,\n",
    "\n",
    "3. aligner verticalement le titre de l'article et son icone ...,\n",
    "\n",
    "4. ... et mettre un peu d'espace entre les deux,\n",
    "\n",
    "5. diminuer un peu la taille du texte de l'article,\n",
    "\n",
    "6. ajouter un peu d'ombrage au texte de l'aside."
   ]
  },
  {
   "cell_type": "markdown",
   "metadata": {},
   "source": [
    "```css\n",
    "___ { /* 1 */\n",
    "    ...\n",
    "    text-align: justify;\n",
    "    ___: url(images/separateur.png) repeat-x ___; /* 2 */\n",
    "}\n",
    "\n",
    "___ { /* 3 */\n",
    "    vertical-align: middle;\n",
    "    margin-___: 5px; /* 4 */\n",
    "}\n",
    "\n",
    "article {\n",
    "    ...\n",
    "    font-___: 0.9em; /* 5 */\n",
    "}\n",
    "\n",
    "aside {\n",
    "    ...\n",
    "    /* 6 chercher sur internet */\n",
    "    text-___: 4px 4px 5px rgba(30, 30, 30, 1); \n",
    "}\n",
    "```"
   ]
  },
  {
   "cell_type": "markdown",
   "metadata": {
    "jupyter": {
     "source_hidden": true
    }
   },
   "source": [
    "```css\n",
    "section {\n",
    "    ...\n",
    "    text-align: justify;\n",
    "    background: url(images/separateur.png) repeat-x bottom;\n",
    "}\n",
    "\n",
    "img.ico_categorie {\n",
    "    vertical-align: middle;\n",
    "    margin-right: 5px; /* 4 */\n",
    "}\n",
    "\n",
    "article {\n",
    "    ...\n",
    "    font-size: 0.9em;\n",
    "}\n",
    "\n",
    "aside {\n",
    "    ...\n",
    "    text-shadow: 4px 4px 5px rgba(30, 30, 30, 1); \n",
    "}\n",
    "```"
   ]
  },
  {
   "cell_type": "markdown",
   "metadata": {},
   "source": [
    "7. **globalement**, modifier la couleur de *tous les liens*."
   ]
  },
  {
   "cell_type": "markdown",
   "metadata": {},
   "source": [
    "```css\n",
    "__ {\n",
    "    __: DarkRed;\n",
    "}\n",
    "```"
   ]
  }
 ],
 "metadata": {
  "kernelspec": {
   "display_name": "Python 3",
   "language": "python",
   "name": "python3"
  },
  "language_info": {
   "codemirror_mode": {
    "name": "ipython",
    "version": 3
   },
   "file_extension": ".py",
   "mimetype": "text/x-python",
   "name": "python",
   "nbconvert_exporter": "python",
   "pygments_lexer": "ipython3",
   "version": "3.7.3"
  }
 },
 "nbformat": 4,
 "nbformat_minor": 4
}
