{
 "cells": [
  {
   "cell_type": "markdown",
   "metadata": {
    "slideshow": {
     "slide_type": "slide"
    }
   },
   "source": [
    "# CSS - Les feuilles de style en cascade - *Cascading Style Sheet*"
   ]
  },
  {
   "cell_type": "markdown",
   "metadata": {
    "slideshow": {
     "slide_type": "fragment"
    }
   },
   "source": [
    "Dans `head`, nous avions mis le lien `link` suivant:\n",
    "\n",
    "```html\n",
    "<link rel=\"stylesheet\" href=\"style.css\" />\n",
    "```"
   ]
  },
  {
   "cell_type": "markdown",
   "metadata": {
    "slideshow": {
     "slide_type": "fragment"
    }
   },
   "source": [
    "Cela demande au navigateur de charger le fichier de style `style.css`."
   ]
  },
  {
   "cell_type": "markdown",
   "metadata": {
    "slideshow": {
     "slide_type": "slide"
    }
   },
   "source": [
    "## Les règles CSS"
   ]
  },
  {
   "cell_type": "markdown",
   "metadata": {
    "slideshow": {
     "slide_type": "fragment"
    }
   },
   "source": [
    "Ce fichier texte contient des **règles** de la forme:\n",
    "\n",
    "        «sélecteur» {\n",
    "           propriété1: valeur(s);\n",
    "           propriété2: valeur(s);\n",
    "           etc.\n",
    "        }"
   ]
  },
  {
   "cell_type": "markdown",
   "metadata": {
    "slideshow": {
     "slide_type": "fragment"
    }
   },
   "source": [
    "Faites bien attention au `;`."
   ]
  },
  {
   "cell_type": "markdown",
   "metadata": {
    "slideshow": {
     "slide_type": "subslide"
    }
   },
   "source": [
    "Le **sélecteur** sert à préciser à quoi s'applique la règle:"
   ]
  },
  {
   "cell_type": "markdown",
   "metadata": {
    "slideshow": {
     "slide_type": "fragment"
    }
   },
   "source": [
    "- `*` : à tout le monde,"
   ]
  },
  {
   "cell_type": "markdown",
   "metadata": {
    "slideshow": {
     "slide_type": "fragment"
    }
   },
   "source": [
    "- `balise1, balise2` : aux balises `balise1` **et** aux balises `balise2`,"
   ]
  },
  {
   "cell_type": "markdown",
   "metadata": {
    "slideshow": {
     "slide_type": "fragment"
    }
   },
   "source": [
    "- `balise1 balise2` : aux balises `balise2` **imbriquées** dans `balise1`,"
   ]
  },
  {
   "cell_type": "markdown",
   "metadata": {
    "slideshow": {
     "slide_type": "fragment"
    }
   },
   "source": [
    "- `#truc` : aux balises dont l'**identifiant** `id` a la valeur \"truc\": `<balise id=\"truc\">`"
   ]
  },
  {
   "cell_type": "markdown",
   "metadata": {
    "slideshow": {
     "slide_type": "fragment"
    }
   },
   "source": [
    "- `.truc` : aux balises dont l'attribut de **classe** `class` est égale à \"truc\": `<balise class=\"truc\">`"
   ]
  },
  {
   "cell_type": "markdown",
   "metadata": {
    "slideshow": {
     "slide_type": "subslide"
    }
   },
   "source": [
    "Les lignes à l'intérieur des accolades `{...}`, obligatoirement terminées par `;`, s'appellent des **déclarations**.\n",
    "\n",
    "Dans une *déclaration*, les **propriétés** précise *ce qu'on veut modifier* et leur **valeur** *comment*. Quelques exemples:"
   ]
  },
  {
   "cell_type": "markdown",
   "metadata": {
    "slideshow": {
     "slide_type": "fragment"
    }
   },
   "source": [
    "- `background-color: blue;`: la couleur de fond est bleue,"
   ]
  },
  {
   "cell_type": "markdown",
   "metadata": {
    "slideshow": {
     "slide_type": "fragment"
    }
   },
   "source": [
    "- `width: 100px;`: la largeur du contenu de la balise occupe 100 pixels à l'écran,"
   ]
  },
  {
   "cell_type": "markdown",
   "metadata": {
    "slideshow": {
     "slide_type": "fragment"
    }
   },
   "source": [
    "- `margin-top: 5px`: marge externe haute (voir modèle en boîte juste après) de 5 pixels,"
   ]
  },
  {
   "cell_type": "markdown",
   "metadata": {
    "slideshow": {
     "slide_type": "fragment"
    }
   },
   "source": [
    "- `padding: 6px`: toutes les marges \"internes\" (haute `-top`, droite `-right`, basse `-bottom` et gauche `-left`) à 6px."
   ]
  },
  {
   "cell_type": "markdown",
   "metadata": {
    "slideshow": {
     "slide_type": "fragment"
    }
   },
   "source": [
    "Il y en a beaucoup d'autres (voir par exemple [là](https://developer.mozilla.org/fr/docs/Web/CSS/Reference))"
   ]
  },
  {
   "cell_type": "markdown",
   "metadata": {
    "slideshow": {
     "slide_type": "slide"
    }
   },
   "source": [
    "## Le modèle en boîte"
   ]
  },
  {
   "cell_type": "markdown",
   "metadata": {},
   "source": [
    "Chaque **balise** est affiché par la navigateur à l'aide d'une «boîte» dont voici les caractéristiques:"
   ]
  },
  {
   "cell_type": "markdown",
   "metadata": {},
   "source": [
    "<img src=\"images/box-model-mod.png\"/>"
   ]
  },
  {
   "cell_type": "markdown",
   "metadata": {
    "slideshow": {
     "slide_type": "subslide"
    }
   },
   "source": [
    "En css cela donne:\n",
    "\n",
    "```css\n",
    "... {\n",
    "    margin: 20px; border: 6px; padding: 20px;\n",
    "    width: 400px; height: 100px;\n",
    "    ...\n",
    "}\n",
    "```"
   ]
  },
  {
   "cell_type": "markdown",
   "metadata": {
    "slideshow": {
     "slide_type": "fragment"
    }
   },
   "source": [
    "Il est possible de préciser la marge externe droite - `margin-right` - celle du bas - `margin-bottom` etc. \n",
    "\n",
    "De même pour `border` et pour `padding`..."
   ]
  },
  {
   "cell_type": "markdown",
   "metadata": {
    "slideshow": {
     "slide_type": "subslide"
    }
   },
   "source": [
    "Notons encore que la **largeur totale** occupée par la *boîte* à l'écran n'est pas `width` (qui est la largeur du contenu) mais:\n",
    "\n",
    "    largeur totale = margin-left + border-left + padding-left \n",
    "                    + width \n",
    "                    + padding-right + border-right + margin-right"
   ]
  }
 ],
 "metadata": {
  "kernelspec": {
   "display_name": "Python 3",
   "language": "python",
   "name": "python3"
  },
  "language_info": {
   "codemirror_mode": {
    "name": "ipython",
    "version": 3
   },
   "file_extension": ".py",
   "mimetype": "text/x-python",
   "name": "python",
   "nbconvert_exporter": "python",
   "pygments_lexer": "ipython3",
   "version": "3.6.8"
  }
 },
 "nbformat": 4,
 "nbformat_minor": 4
}
