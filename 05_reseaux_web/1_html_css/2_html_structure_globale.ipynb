{
 "cells": [
  {
   "cell_type": "markdown",
   "metadata": {},
   "source": [
    "Nous allons procéder en deux temps:\n",
    "1. **HTML**: construire la **structure** (ou squelette de la page) petit à petit,\n",
    "2. **CSS**: habiller la structure (mettre de la chair), **mettre en forme**."
   ]
  },
  {
   "cell_type": "markdown",
   "metadata": {},
   "source": [
    "# La structure de la page"
   ]
  },
  {
   "cell_type": "markdown",
   "metadata": {},
   "source": [
    "Pour réaliser une telle page, on commence par bien analyser son **organisation logique** (sa *structure*) afin de pouvoir trouver les balises adéquates ainsi que leur **imbrication**. "
   ]
  },
  {
   "cell_type": "markdown",
   "metadata": {},
   "source": [
    "<img src=\"images/structure_page.png\"/>"
   ]
  },
  {
   "cell_type": "markdown",
   "metadata": {},
   "source": [
    "On obtient ainsi une ébauche du corps de page (à mettre dans le `body`) en quatre grandes parties: l'entête de page, la bannière, la section principale et le pied de page:"
   ]
  },
  {
   "cell_type": "markdown",
   "metadata": {},
   "source": [
    "```html\n",
    "<header>...<nav>...</nav></header>\n",
    "    \n",
    "<div id=\"banniere_image\">...</div>\n",
    "\n",
    "<section><article>...</article><aside>...</aside></section>\n",
    "\n",
    "<footer><div>...</div><div>...</div><div>...</div></footer>\n",
    "```"
   ]
  },
  {
   "cell_type": "markdown",
   "metadata": {},
   "source": [
    "*Note*: la balise générique de la bannière de page contient un attribut `id` qui nous permettra, plus tard, de la sélectionner afin de gérer sa mise en forme."
   ]
  },
  {
   "cell_type": "markdown",
   "metadata": {},
   "source": [
    "Explications complémentaires sur les balises utilisées:\n",
    "\n",
    "- `div`: balise générique servant à diviser la page, toutes les autres balises qui suivent sont proche d'une div mais elle précise leur rôle par leur nom.\n",
    "\n",
    "- `nav`: représente une section de liens de navigation.\n",
    "\n",
    "- `section`: représente les grandes sections d'un document comme par exemple les chapitres\n",
    "\n",
    "- `article`: représente un texte indépendant, une portion de contenu, comme par exemple un article de journal, de blog ou de forum.\n",
    "\n",
    "- `header`: représente l'en-tête d'une section ou d'une page.\n",
    "\n",
    "- `footer`: représente le pied de page d'une section ou d'une page pour mettre les informations concernant l'auteur, les mentions légales etc.\n",
    "\n",
    "- `aside`: représente une portion associée à une autre afin d'apporter des informations complémentaires."
   ]
  },
  {
   "cell_type": "markdown",
   "metadata": {},
   "source": [
    "*NOTE*: Pour diviser le document, on pourrait n'utiliser que des `div`, cela ne changerait pas grand chose. \n",
    "\n",
    "Le fait d'utiliser une balise `header` (par exemple) plutôt qu'une balise `div` permet à l'auteur de la page de mieux préciser son intention et aux «bots» (sorte de programme qui scrute internet) de mieux référencer les contenus (moteur de recherche)."
   ]
  }
 ],
 "metadata": {
  "kernelspec": {
   "display_name": "Python 3",
   "language": "python",
   "name": "python3"
  },
  "language_info": {
   "codemirror_mode": {
    "name": "ipython",
    "version": 3
   },
   "file_extension": ".py",
   "mimetype": "text/x-python",
   "name": "python",
   "nbconvert_exporter": "python",
   "pygments_lexer": "ipython3",
   "version": "3.7.3"
  }
 },
 "nbformat": 4,
 "nbformat_minor": 4
}
