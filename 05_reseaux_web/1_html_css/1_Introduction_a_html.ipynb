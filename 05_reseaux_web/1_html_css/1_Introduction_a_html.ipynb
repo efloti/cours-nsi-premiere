{
 "cells": [
  {
   "cell_type": "markdown",
   "metadata": {},
   "source": [
    "# Introduction"
   ]
  },
  {
   "cell_type": "markdown",
   "metadata": {},
   "source": [
    "Dans ce TP sur le **web**, nous allons réaliser une page web (blog) proche de celle-ci:"
   ]
  },
  {
   "cell_type": "markdown",
   "metadata": {},
   "source": [
    "<img src=\"images/vue_page.png\"/>"
   ]
  },
  {
   "cell_type": "markdown",
   "metadata": {},
   "source": [
    "## Présentation de **HTML**"
   ]
  },
  {
   "cell_type": "markdown",
   "metadata": {},
   "source": [
    "Un site web est composé de pages au format **HTML** (*HyperText Markup Language*).\n",
    "\n",
    "Ces pages HTML sont de simples **fichiers texte** de la forme suivante:"
   ]
  },
  {
   "cell_type": "markdown",
   "metadata": {},
   "source": [
    "```html\n",
    "<!DOCTYPE html>\n",
    "<html>\n",
    "    <head>\n",
    "        <!-- entête du document -->\n",
    "        <title>titre du document</title>\n",
    "    </head>\n",
    "    <body>\n",
    "        <!-- corps du document -->\n",
    "    </body>\n",
    "</html>\n",
    "```"
   ]
  },
  {
   "cell_type": "markdown",
   "metadata": {},
   "source": [
    "### Notion de balise (*tag*)"
   ]
  },
  {
   "cell_type": "markdown",
   "metadata": {},
   "source": [
    "L'écriture `<balise>` s'appelle une **balise** (*tag*):\n",
    "\n",
    "- `<balise>` est une balise **ouvrante** (*open*),\n",
    "- `</balise>` sa balise **fermante** (*closing*)."
   ]
  },
  {
   "cell_type": "markdown",
   "metadata": {},
   "source": [
    "On trouve aussi des balises «auto-fermantes»: `<balise/>`"
   ]
  },
  {
   "cell_type": "markdown",
   "metadata": {},
   "source": [
    "Les balises peuvent s'*imbriquer* - `<a><b>..</b></a>` ...\n",
    "\n",
    "... mais **pas** «se chevaucher»: `<a><b>...</a></b>` est **invalide**."
   ]
  },
  {
   "cell_type": "markdown",
   "metadata": {},
   "source": [
    "*Exemple*:\n",
    "\n",
    "```html\n",
    "<p>Un <strong>simple</strong> paragraphe.</p>\n",
    "```"
   ]
  },
  {
   "cell_type": "markdown",
   "metadata": {},
   "source": [
    "donnera (double clic sur la cellule ci-dessous pour voir le html puis CTRL+Entrée pour voir le rendu à nouveau):"
   ]
  },
  {
   "cell_type": "markdown",
   "metadata": {},
   "source": [
    "<div style=\"border: 1px solid black;\">\n",
    "    <p>Un <strong>simple</strong> paragraphe.</p><p>un deuxième paragraphe</p>\n",
    "</div>"
   ]
  },
  {
   "cell_type": "markdown",
   "metadata": {},
   "source": [
    "La balise `p` (*paragraph*) sert à produire un paragraphe et `strong` à mettre en valeur une partie du texte."
   ]
  },
  {
   "cell_type": "markdown",
   "metadata": {},
   "source": [
    "### Balises de type «bloc» ou «en ligne»"
   ]
  },
  {
   "cell_type": "markdown",
   "metadata": {},
   "source": [
    "Une balise de type **bloc**, comme `p`, occupe par défaut *toute la largeur disponible*.\n",
    "\n",
    "Une balise **en ligne** ne marque qu'une partie du texte."
   ]
  },
  {
   "cell_type": "markdown",
   "metadata": {},
   "source": [
    "Les premières servent à *structurer la page*, les secondes à insérer des liens, des images, à mettre en valeur des parties du textes."
   ]
  },
  {
   "cell_type": "markdown",
   "metadata": {},
   "source": [
    "*Exemple*: Pour visualiser la différence, affichons des bordures (double clic - CTRL+Entrée...):"
   ]
  },
  {
   "cell_type": "markdown",
   "metadata": {},
   "source": [
    "<div style=\"border: 1px solid black; padding: 2em;\">\n",
    "    <p style=\"border: 1px solid;\">\n",
    "        je <strong style=\"border: 1px dashed green;\">suis</strong> \n",
    "        de type bloc\n",
    "    </p>\n",
    "    <p style=\"border: 1px solid blue;\">moi aussi!</p>\n",
    "</div>"
   ]
  },
  {
   "cell_type": "markdown",
   "metadata": {},
   "source": [
    "*note*: l'écriture `style=\"border: ...\"` de la forme `attribut=\"propriété: valeur;\"` sert à demander au navigateur web d'afficher une bordure de 1 pixel continue ou en pointillé avec la couleur indiquée. Nous la détaillerons un peu plus tard."
   ]
  },
  {
   "cell_type": "markdown",
   "metadata": {},
   "source": [
    "#### Quelques balises «bloc»\n",
    "\n",
    "- Pour diviser la page: `div`, `p`, `header`, `section`, `article`, `aside`, `nav`, `footer`, ...\n",
    "- Balises de niveau de titre: `h1`, `h2`, ..., `h6`,\n",
    "- Pour gérer des listes non ordonnés `ul` (*unordered list*) ou ordonné `ol` (*ordered list*) et leur items `li` (*list item*)"
   ]
  },
  {
   "cell_type": "markdown",
   "metadata": {},
   "source": [
    "*Exemple* (double clic puis CTRL+Entrée)"
   ]
  },
  {
   "cell_type": "markdown",
   "metadata": {
    "toc-hr-collapsed": true
   },
   "source": [
    "<div style=\"border: 1px solid black; padding: 2em;\">\n",
    "    <article style=\"border: 1px solid blue;\">\n",
    "        <nav style=\"border: 1px solid blue;\"> navigation</nav>\n",
    "        <h1>Titre de mon article</h1>\n",
    "        <h2>Introduction</h2>\n",
    "        <p> blah blah blah</p>\n",
    "        <ul> \n",
    "            <li style=\"border: 1px solid blue;\">Premier point</li>\n",
    "            <li>Deuxième point</li>\n",
    "        </ul>\n",
    "        <h3>Exemple</h3>\n",
    "        <h2>Première partie</h2>\n",
    "        <p>...</p>\n",
    "    </article>\n",
    "</div>"
   ]
  },
  {
   "cell_type": "markdown",
   "metadata": {},
   "source": [
    "#### Quelques balises «en ligne»\n",
    "\n",
    "- insertion d'image: `<img src=\"fichier_image_ou_url\"/>`,\n",
    "- lien hypertexte: `<a href=\"url_de_la_page_a_ouvrir\">texte du lien</a>` (`a` pou *anchor* - ancre)\n",
    "- les marqueurs d'importance: `strong`, `em` (*emphasized*), `mark`\n",
    "- retour à la ligne: `<br/>`,\n",
    "- balise en ligne générique: `span`.\n"
   ]
  },
  {
   "cell_type": "markdown",
   "metadata": {},
   "source": [
    "*Exemple*:"
   ]
  },
  {
   "cell_type": "markdown",
   "metadata": {},
   "source": [
    "<p>\n",
    "    Voici un \n",
    "    <span>span</span>,\n",
    "    puis un <strong>strong</strong>,\n",
    "    puis un <em>em</em> et\n",
    "    un <mark>mark</mark>.\n",
    "    Une image <img src=\"https://upload.wikimedia.org/wikipedia/commons/thumb/8/85/Smiley.svg/80px-Smiley.svg.png\" width=\"30\"/>\n",
    "    et <a href=\"https://www.w3schools.com/\"> un lien</a>\n",
    "</p>"
   ]
  },
  {
   "cell_type": "markdown",
   "metadata": {},
   "source": [
    "### Les attributs standards `id`, `class` et `style`"
   ]
  },
  {
   "cell_type": "markdown",
   "metadata": {},
   "source": [
    "Chaque balise peut être munie de ces attributs qui serviront à mettre en forme la page HTML. \n",
    "- `id=\"identifiant\"`: sert à identifier une balise,\n",
    "- `class=\"nom_classe\"`: permet de grouper différentes balises,\n",
    "- `style=\"attribut1: valeur1; attribut2: valeur2; ...\"`: pour mettre en forme la balise.\n",
    "\n",
    "Nous y reviendrons plus tard mais voici quelques éléments de syntaxe:"
   ]
  },
  {
   "cell_type": "markdown",
   "metadata": {},
   "source": [
    "```html\n",
    "<div id=\"banniere\">la bannière...</div>\n",
    "<p class=\"important\">soyez très attentif à cette information...</p>\n",
    "<p style=\"background: blue; color: white; text-align: center; margin-top: 50px;\">du texte</p>\n",
    "```"
   ]
  },
  {
   "cell_type": "markdown",
   "metadata": {},
   "source": [
    "<div style=\"border: 1px solid black; padding: 2em;\">\n",
    "    <div id=\"banniere\">la bannière...</div>\n",
    "    <p class=\"important\">soyez très attentif à cette information...</p>\n",
    "    <p style=\"background: blue; color: white; text-align: center; margin-top: 50px;\">du texte</p>\n",
    "</div>"
   ]
  }
 ],
 "metadata": {
  "kernelspec": {
   "display_name": "Python 3",
   "language": "python",
   "name": "python3"
  },
  "language_info": {
   "codemirror_mode": {
    "name": "ipython",
    "version": 3
   },
   "file_extension": ".py",
   "mimetype": "text/x-python",
   "name": "python",
   "nbconvert_exporter": "python",
   "pygments_lexer": "ipython3",
   "version": "3.6.8"
  }
 },
 "nbformat": 4,
 "nbformat_minor": 4
}
