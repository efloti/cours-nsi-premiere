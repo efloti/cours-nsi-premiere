{
 "cells": [
  {
   "cell_type": "markdown",
   "metadata": {},
   "source": [
    "# Mise en forme de la bannière"
   ]
  },
  {
   "cell_type": "markdown",
   "metadata": {},
   "source": [
    "## Structure html"
   ]
  },
  {
   "cell_type": "markdown",
   "metadata": {},
   "source": [
    "```html\n",
    "<div id=\"banniere_image\">\n",
    "    <div id=\"banniere_description\">\n",
    "        ...\n",
    "        <a ... class=\"bouton_rouge\">...<img .../></a>\n",
    "    </div>\n",
    "</div>\n",
    "```"
   ]
  },
  {
   "cell_type": "markdown",
   "metadata": {},
   "source": [
    "## L'image de fond\n",
    "\n",
    "Nous utiliserons *sanfrancisco.jpg*"
   ]
  },
  {
   "cell_type": "markdown",
   "metadata": {},
   "source": [
    "```css\n",
    "#banniere_image {\n",
    "    background: url(images/sanfrancisco.jpg);\n",
    "}\n",
    "```"
   ]
  },
  {
   "cell_type": "markdown",
   "metadata": {},
   "source": [
    "hum... en ouvrant l'image avec un logiciel adapté, on voit qu'elle a une hauteur de **219 pixels** ... profitons en pour mettre un peu de marge haute et basse et pour arrondir les angles -`border-radius`."
   ]
  },
  {
   "cell_type": "markdown",
   "metadata": {},
   "source": [
    "```css\n",
    "#banniere_image {\n",
    "    ...\n",
    "    height: 219px;\n",
    "    margin-top: 15px;\n",
    "    margin-bottom: 20px;\n",
    "    border-radius: 5px;\n",
    "}\n",
    "```"
   ]
  },
  {
   "cell_type": "markdown",
   "metadata": {},
   "source": [
    "## La description de la bannière"
   ]
  },
  {
   "cell_type": "markdown",
   "metadata": {},
   "source": [
    "Donnons lui une une hauteur et un peu de marge ..."
   ]
  },
  {
   "cell_type": "markdown",
   "metadata": {},
   "source": [
    "```css\n",
    "#banniere_description {\n",
    "    box-sizing: border-box;\n",
    "    width: 100%;\n",
    "    height: 55px;\n",
    "    padding-top: 15px;\n",
    "    padding-left: 2%;\n",
    "    background: rgba(10, 10, 10, 0.6);\n",
    "    color: white;\n",
    "}\n",
    "```"
   ]
  },
  {
   "cell_type": "markdown",
   "metadata": {},
   "source": [
    "Puis le lien en lui donnant l'allure d'un bouton à l'aide de l'image *fond_degraderouge.png*:"
   ]
  },
  {
   "cell_type": "markdown",
   "metadata": {},
   "source": [
    "```css\n",
    ".bouton_rouge {\n",
    "    background: url(images/fond_degraderouge.png) repeat-x;\n",
    "    display: inline-block;\n",
    "    height: 21px;\n",
    "    padding: 4px 2px 4px 2px;\n",
    "    text-decoration: none;\n",
    "    color: white;\n",
    "    border-radius: 3px;\n",
    "}\n",
    "```"
   ]
  },
  {
   "cell_type": "markdown",
   "metadata": {},
   "source": [
    "## La position de la description et du «bouton»"
   ]
  },
  {
   "cell_type": "markdown",
   "metadata": {},
   "source": [
    "Nous souhaitons qu'elle apparaisse en bas de son **parent**:\n",
    "- On positionne le parent: `position: relative`\n",
    "- puis l'enfant (la description) dans son parent: `position: absolute` et `bottom: 0`"
   ]
  },
  {
   "cell_type": "markdown",
   "metadata": {},
   "source": [
    "```css\n",
    "#banniere_image {\n",
    "    ...\n",
    "    position: relative;\n",
    "}\n",
    "\n",
    "#banniere_description {\n",
    "    ...\n",
    "    position: absolute;\n",
    "    bottom: 0;\n",
    "}\n",
    "```"
   ]
  },
  {
   "cell_type": "markdown",
   "metadata": {},
   "source": [
    "### position du «bouton»"
   ]
  },
  {
   "cell_type": "markdown",
   "metadata": {},
   "source": [
    "on veut le mettre tout à droite de la description"
   ]
  },
  {
   "cell_type": "markdown",
   "metadata": {},
   "source": [
    "```css\n",
    ".bouton_rouge {\n",
    "    ...\n",
    "    position: absolute;\n",
    "    right: 0;\n",
    "}\n",
    "```"
   ]
  },
  {
   "cell_type": "markdown",
   "metadata": {},
   "source": [
    "### finition"
   ]
  },
  {
   "cell_type": "markdown",
   "metadata": {},
   "source": [
    "Oups! dernier détail, arrondir les coins bas de la description ..."
   ]
  },
  {
   "cell_type": "markdown",
   "metadata": {},
   "source": [
    "```css\n",
    "#banniere_description {\n",
    "    ...\n",
    "    border-bottom-right-radius: 5px;\n",
    "    border-bottom-left-radius: 5px;\n",
    "}\n",
    "```"
   ]
  }
 ],
 "metadata": {
  "kernelspec": {
   "display_name": "Python 3",
   "language": "python",
   "name": "python3"
  },
  "language_info": {
   "codemirror_mode": {
    "name": "ipython",
    "version": 3
   },
   "file_extension": ".py",
   "mimetype": "text/x-python",
   "name": "python",
   "nbconvert_exporter": "python",
   "pygments_lexer": "ipython3",
   "version": "3.7.3"
  }
 },
 "nbformat": 4,
 "nbformat_minor": 4
}
