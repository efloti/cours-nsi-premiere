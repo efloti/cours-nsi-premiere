{
 "cells": [
  {
   "cell_type": "markdown",
   "metadata": {
    "slideshow": {
     "slide_type": "slide"
    }
   },
   "source": [
    "# Système de fichiers"
   ]
  },
  {
   "cell_type": "markdown",
   "metadata": {
    "slideshow": {
     "slide_type": "slide"
    }
   },
   "source": [
    "## Système d'exploitation - *Operating System*"
   ]
  },
  {
   "cell_type": "markdown",
   "metadata": {
    "slideshow": {
     "slide_type": "subslide"
    }
   },
   "source": [
    "Le **système d'exploitation** (ou OS pour *Operating System*) d'un ordinateur est un programme dont le rôle est (entre autres):\n",
    "- de **piloter le matériel**, par exemple la mémoire vive, le ou les disques durs (ou SSD), l'écran, le clavier, la souris etc.\n",
    "- d'offrir à l'utilisateur une **Interface Homme Machine** (IHM) commode pour interagir avec le matériel ...\n",
    "    - ... notamment un **système de fichiers**\n",
    "- et beaucoup d'autres choses ..."
   ]
  },
  {
   "cell_type": "markdown",
   "metadata": {
    "slideshow": {
     "slide_type": "subslide"
    }
   },
   "source": [
    "Il y a différent systèmes d'exploitation pour les machines «standards»: \n",
    "- d'un côté **Windows** de MicroSoft,\n",
    "- de l'autre les membres d'une *grande famille*: la famille **UNIX**; notamment:\n",
    "    - MacOS (Apple)\n",
    "    - Linux sur lequel se base Android (google)\n",
    "    - ..."
   ]
  },
  {
   "cell_type": "markdown",
   "metadata": {
    "slideshow": {
     "slide_type": "slide"
    }
   },
   "source": [
    "## Systèmes de fichiers - *File System*"
   ]
  },
  {
   "cell_type": "markdown",
   "metadata": {
    "slideshow": {
     "slide_type": "subslide"
    }
   },
   "source": [
    "Tous les *systèmes d'exploitation* mentionnés organisent notamment l'accès aux *périphériques de stockage* (disque dur, SSD, USB, carte SD) à l'aide d'une abstraction appelée **système de fichiers** (*File System*)."
   ]
  },
  {
   "cell_type": "markdown",
   "metadata": {
    "slideshow": {
     "slide_type": "subslide"
    }
   },
   "source": [
    "Ils offrent tous une **Interface Homme Machine** (IHM) pour manipuler le système de fichiers; cette interface peut être:"
   ]
  },
  {
   "cell_type": "markdown",
   "metadata": {
    "slideshow": {
     "slide_type": "fragment"
    }
   },
   "source": [
    "- **Graphique**: navigateur de fichiers habituel,\n"
   ]
  },
  {
   "cell_type": "markdown",
   "metadata": {
    "slideshow": {
     "slide_type": "subslide"
    }
   },
   "source": [
    "- **Textuelle**: on parle alors de **shell** (coquille en anglais) qui est l'*interpréteur* du langage de **commandes** associé."
   ]
  },
  {
   "cell_type": "markdown",
   "metadata": {
    "slideshow": {
     "slide_type": "slide"
    }
   },
   "source": [
    "## Le(s) shell(s)"
   ]
  },
  {
   "cell_type": "markdown",
   "metadata": {
    "slideshow": {
     "slide_type": "subslide"
    }
   },
   "source": [
    "Un **shell** est un *interpréteur*,\n",
    "\n",
    "il *interprète* un certain **langage de commande**,\n",
    "\n",
    "dans le but de dialoguer avec le **système d'exploitation**,\n",
    "\n",
    "lequel pilote la **machine physique**."
   ]
  },
  {
   "cell_type": "markdown",
   "metadata": {
    "slideshow": {
     "slide_type": "subslide"
    }
   },
   "source": [
    "Nous laisserons de côté le shell de l'OS *Windows* car il ne respecte pas le standard *POSIX* auquel se conforment tous les OS de la famille **Unix**.\n",
    "\n",
    "Il y a plusieurs **shells** qui respectent le standard *POSIX*,\n",
    "\n",
    "Celui que nous utiliserons effectivement se nomme **bash** (le plus utilisé!)"
   ]
  },
  {
   "cell_type": "markdown",
   "metadata": {
    "slideshow": {
     "slide_type": "subslide"
    }
   },
   "source": [
    "nous nous limiterons ici à l'étude des *commandes bash* qui servent à interagir avec le *système de fichiers*."
   ]
  },
  {
   "cell_type": "markdown",
   "metadata": {
    "slideshow": {
     "slide_type": "slide"
    }
   },
   "source": [
    "## Avertissement"
   ]
  },
  {
   "cell_type": "markdown",
   "metadata": {
    "slideshow": {
     "slide_type": "subslide"
    }
   },
   "source": [
    "Lorsqu'on débute en shell, c'est le **choc**; tout paraît *compliqué*, *vieux*, *malcommode* ... on se dit «je pourrais faire la même chose plus simplement!!!»"
   ]
  },
  {
   "cell_type": "markdown",
   "metadata": {
    "slideshow": {
     "slide_type": "fragment"
    }
   },
   "source": [
    "ALORS POURQUOI APPRENDRE LE SHELL ????"
   ]
  },
  {
   "cell_type": "markdown",
   "metadata": {
    "slideshow": {
     "slide_type": "subslide"
    }
   },
   "source": [
    "**Raison1**: le shell est très **puissant** (contrairement aux apparences du début) et permet de faire des choses qu'aucune interface graphique ne permet de faire..."
   ]
  },
  {
   "cell_type": "markdown",
   "metadata": {
    "slideshow": {
     "slide_type": "fragment"
    }
   },
   "source": [
    "**Raison2**: Il y a de nombreuses «machines» sans *interfaces graphiques*: le **seul moyen** de les utiliser c'est le shell..."
   ]
  },
  {
   "cell_type": "markdown",
   "metadata": {
    "slideshow": {
     "slide_type": "fragment"
    }
   },
   "source": [
    "**Raison3**: les programmes graphiques s'appuient sur le **shell** (or vous n'êtes plus de «simples» utilisateurs)."
   ]
  },
  {
   "cell_type": "markdown",
   "metadata": {
    "slideshow": {
     "slide_type": "fragment"
    }
   },
   "source": [
    "**Conclusion**: courage et patience ... "
   ]
  },
  {
   "cell_type": "markdown",
   "metadata": {
    "slideshow": {
     "slide_type": "slide"
    }
   },
   "source": [
    "## Se repérer et se déplacer - `pwd`, `ls` et `cd`"
   ]
  },
  {
   "cell_type": "markdown",
   "metadata": {
    "slideshow": {
     "slide_type": "subslide"
    }
   },
   "source": [
    "`pwd` - **P**rint **W**orking **D**irectory: afficher le *répertoire courant*."
   ]
  },
  {
   "cell_type": "markdown",
   "metadata": {
    "slideshow": {
     "slide_type": "fragment"
    }
   },
   "source": [
    "`ls` - **L**i**S**t: afficher le contenu d'un répertoire."
   ]
  },
  {
   "cell_type": "markdown",
   "metadata": {
    "slideshow": {
     "slide_type": "fragment"
    }
   },
   "source": [
    "`cd` - **C**hange working **D**irectory: Changer de *répertoire courant*. "
   ]
  },
  {
   "cell_type": "markdown",
   "metadata": {
    "slideshow": {
     "slide_type": "subslide"
    }
   },
   "source": [
    "Le système de fichiers est organisé à l'aide de **répertoires** (*directory*) qui servent à grouper les fichiers et, éventuellement d'autres répertoires."
   ]
  },
  {
   "cell_type": "markdown",
   "metadata": {
    "slideshow": {
     "slide_type": "subslide"
    }
   },
   "source": [
    "Il présente une **structure arborescente** de la forme:\n",
    "\n",
    "```\n",
    "/\n",
    "  home/\n",
    "    user1/\n",
    "      fichier1.py\n",
    "      fichier2.txt\n",
    "    user2/\n",
    "      fichier1.py\n",
    "      cours/\n",
    "        python.ipynb\n",
    "        ...\n",
    "  bin/\n",
    "    cat\n",
    "    ls\n",
    "    rm\n",
    "    ...\n",
    "  ...\n",
    "```"
   ]
  },
  {
   "cell_type": "markdown",
   "metadata": {
    "slideshow": {
     "slide_type": "slide"
    }
   },
   "source": [
    "## Créer des répertoires ou des fichiers - `mkdir`, `touch`, `cat` et `nano`"
   ]
  },
  {
   "cell_type": "markdown",
   "metadata": {
    "slideshow": {
     "slide_type": "subslide"
    }
   },
   "source": [
    "`mkdir` - **M**a**K**e **DIR**ectory: créer un répertoire."
   ]
  },
  {
   "cell_type": "markdown",
   "metadata": {
    "slideshow": {
     "slide_type": "fragment"
    }
   },
   "source": [
    "`touch`: créer un fichier vide."
   ]
  },
  {
   "cell_type": "markdown",
   "metadata": {
    "slideshow": {
     "slide_type": "fragment"
    }
   },
   "source": [
    "`cat` - **C**onc**AT**enate: afficher un fichier dans le terminal"
   ]
  },
  {
   "cell_type": "markdown",
   "metadata": {
    "slideshow": {
     "slide_type": "fragment"
    }
   },
   "source": [
    "`nano`: éditeur de texte «basique»"
   ]
  },
  {
   "cell_type": "markdown",
   "metadata": {
    "slideshow": {
     "slide_type": "slide"
    }
   },
   "source": [
    "## Supprimer ...: `rm` et `rmdir`"
   ]
  },
  {
   "cell_type": "markdown",
   "metadata": {
    "slideshow": {
     "slide_type": "subslide"
    }
   },
   "source": [
    "`rm` - **R**e**M**ove: supprimer un fichier"
   ]
  },
  {
   "cell_type": "markdown",
   "metadata": {
    "slideshow": {
     "slide_type": "fragment"
    }
   },
   "source": [
    "`rmdir`: supprimer un répertoire."
   ]
  },
  {
   "cell_type": "markdown",
   "metadata": {
    "slideshow": {
     "slide_type": "slide"
    }
   },
   "source": [
    "## Copier, renommer, déplacer - `cp`, `mv`"
   ]
  },
  {
   "cell_type": "markdown",
   "metadata": {
    "slideshow": {
     "slide_type": "subslide"
    }
   },
   "source": [
    "`cp` - **C**o**P**y: copier un fichier ou un répertoire"
   ]
  },
  {
   "cell_type": "markdown",
   "metadata": {
    "slideshow": {
     "slide_type": "fragment"
    }
   },
   "source": [
    "`mv` - **M**o**V**e: déplacer et/ou renommer un fichier ou un répertoire."
   ]
  },
  {
   "cell_type": "markdown",
   "metadata": {
    "slideshow": {
     "slide_type": "slide"
    }
   },
   "source": [
    "## Autres commandes utiles ..."
   ]
  },
  {
   "cell_type": "markdown",
   "metadata": {
    "slideshow": {
     "slide_type": "subslide"
    }
   },
   "source": [
    "- `man` - **MAN**ual: affiche le manuel d'utilisation d'une commande\n",
    "\n",
    "- `head` et `tail`: afficher le début ou la fin d'un fichier\n",
    "\n",
    "- `less`: affiche un fichier page par page (*pager*)\n",
    "\n",
    "- `file` et `stat`: afficher des informations sur un fichier\n",
    "\n",
    "- `wc` - **W**ord **C**ount: sert à compter les lignes, mots d'un fichier."
   ]
  }
 ],
 "metadata": {
  "celltoolbar": "Diaporama",
  "kernelspec": {
   "display_name": "Python 3",
   "language": "python",
   "name": "python3"
  },
  "language_info": {
   "codemirror_mode": {
    "name": "ipython",
    "version": 3
   },
   "file_extension": ".py",
   "mimetype": "text/x-python",
   "name": "python",
   "nbconvert_exporter": "python",
   "pygments_lexer": "ipython3",
   "version": "3.6.8"
  }
 },
 "nbformat": 4,
 "nbformat_minor": 4
}
