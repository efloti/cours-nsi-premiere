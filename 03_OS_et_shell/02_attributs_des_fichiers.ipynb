{
 "cells": [
  {
   "cell_type": "markdown",
   "metadata": {},
   "source": [
    "# Utilisateurs, groupes et permissions des fichiers"
   ]
  },
  {
   "cell_type": "markdown",
   "metadata": {},
   "source": [
    "## Vue d'ensemble de la hiérarchie du système de fichiers - *fhs* "
   ]
  },
  {
   "cell_type": "markdown",
   "metadata": {},
   "source": [
    "<img src=\"http://www.alessioligabue.it/sites/default/files/file-system.jpg\" />"
   ]
  },
  {
   "cell_type": "markdown",
   "metadata": {},
   "source": [
    "**note**: *loader*: chargeur; *device*: périphérique; *shared*: partagé."
   ]
  },
  {
   "cell_type": "markdown",
   "metadata": {},
   "source": [
    "### Astuces et pratique"
   ]
  },
  {
   "cell_type": "markdown",
   "metadata": {},
   "source": [
    "1. L'option `-L <num>` de la commande `tree` permet d'afficher l'arborescence jusqu'à `<num>` niveaux; l'option `-d` sert à n'afficher que les répertoires; ex:\n",
    "\n",
    "    - `tree -dL 1 /` affiche le premier niveau du fhs.\n",
    "\n",
    "\n",
    "2. `whereis <cmd>`: affiche (entre autres) les différents chemins menant au fichier binaire de la commande. ex:\n",
    "    \n",
    "    - `whereis python`: ... `/usr/bin/python` ... \n",
    "\n",
    "\n",
    "3. `which <cmd>` affiche le chemin absolu du fichier binaire `<commande>` utilisé effectivement par le shell; exemple:\n",
    "    \n",
    "    - `which ls` affiche `/bin/ls`\n",
    "    - `which head` affiche `/usr/bin/head`\n",
    "\n",
    "\n",
    "4. La commande `ls -l <rep> | wc -l` affiche le nombre de lignes produites par la commande `ls -l <rep>`. *note*: nous reviendrons sur le caractère `|` prochaînement.\n",
    "\n",
    "    - Sachant que les principales commandes du système sont dans `/bin` et `/usr/bin`, combien y en a-t-il environ?"
   ]
  },
  {
   "cell_type": "markdown",
   "metadata": {},
   "source": [
    "## Utilisateurs et groupes"
   ]
  },
  {
   "cell_type": "markdown",
   "metadata": {},
   "source": [
    "Les OS qui suivent la norme POSIX sont *multi-utilisateurs*.\n",
    "\n",
    "Chaque utilisateur possède un **identifiant de connexion** (*login*) et un **mot de passe** (*password*) avec lesquels il peut **ouvrir une session** (se connecter au système).\n",
    "\n",
    "À chaque *identifiant de connexion* correspond un **identifiant numérique** unique nommé **UID** (pour *User IDentifier*), le seul vraiment utilisé par le système.\n",
    "\n",
    "Les utilisateurs peuvent être réunis en **groupes**. Chaque groupe possède un nom ainsi qu'un identifiant numérique nommé **GID** (*Group IDentifier*).\n",
    "\n",
    "Chaque utilisateur est membre d'un **groupe principal** et le **GID** d'un utilisateur se réfère à ce groupe.\n",
    "\n",
    "La commande `id` affiche ces informations pour l'utilisateur qui la lance:\n",
    "\n",
    "```\n",
    "$ id\n",
    "uid=1000(jupyter-etienne) gid=1002(jupyter-etienne) groups=1002(jupyter-etienne),1000(jup\n",
    "yterhub-admins),...\n",
    "```"
   ]
  },
  {
   "cell_type": "markdown",
   "metadata": {},
   "source": [
    "Enfin, il existe un utilisateur spécial nommé **root**, dont l'**UID** et le **GID** valent **0**. On l'appelle *super-utilisateur* et il peut modifier tout le système à sa guise."
   ]
  },
  {
   "cell_type": "markdown",
   "metadata": {},
   "source": [
    "### Astuces et pratique"
   ]
  },
  {
   "cell_type": "markdown",
   "metadata": {},
   "source": [
    "1. Les utilisateurs et les groupes du système sont «catalogués» dans les fichiers `/etc/passwd` et `/etc/group`. Forme des lignes:\n",
    "\n",
    "    - `user:pass:uid:gid:details:home_dir:shell` pour le premier,\n",
    "    - `grp:pass:gid:mbr_grp,...` pour le second\n",
    "\n",
    "\n",
    "2. `grep mot fichier` affiche toutes les lignes de fichier contenant \"mot\"\n",
    "\n",
    "3. `cat fichier | wc -l` donne le nombre de ligne d'un fichier. Combien y a-t-il d'utilisateurs du système? de groupes?"
   ]
  },
  {
   "cell_type": "markdown",
   "metadata": {},
   "source": [
    "## Permissions d'un fichier"
   ]
  },
  {
   "cell_type": "markdown",
   "metadata": {},
   "source": [
    "Dans les systèmes POSIX, «fichier» est un terme générique qui recouvre les fichier ordinaires, les répertoires et encore bien d'autres ressources... "
   ]
  },
  {
   "cell_type": "markdown",
   "metadata": {},
   "source": [
    "Chaque fichier est associé à un *propriétaire* et à un *groupe propriétaire* (généralement le groupe principal du propriétaire).\n",
    "\n",
    "De plus, il est possible de définir des **permissions** pour trois catégories d'utilisateurs:\n",
    "- le propriétaire - `u` (*user*),\n",
    "- les membres du groupe propriétaire - `g` (*group*),\n",
    "- tous les autres utilisateurs - `o` (*other*)"
   ]
  },
  {
   "cell_type": "markdown",
   "metadata": {},
   "source": [
    "Les **permissions** sont de la forme «**r**ead **w**rite e**x**ecute» (lecture, écriture, exécution).\n",
    "\n",
    "Par exemple, si le fichier «régulier» `test` propriété de *paul* et de groupe propriétaire *famille* a les permissions:\n",
    "- fichier régulier: `-`\n",
    "- lecture, écriture, exécution pour -`u` - paul: `rwx`\n",
    "- lecture, écriture pour le -`g`- groupe propriétaire: `rw-`\n",
    "- exécution pour - `o` - tous les autres - `--x`\n"
   ]
  },
  {
   "cell_type": "markdown",
   "metadata": {},
   "source": [
    "Ces permissions sont exprimées brièvement par `-rwxrw---x paul famille` (lire par groupe de 3 après le premier tiret - `u` puis `g` puis `o`)"
   ]
  },
  {
   "cell_type": "markdown",
   "metadata": {},
   "source": [
    "<img src=\"https://img.over-blog-kiwi.com/2/64/77/55/20180720/ob_62623c_unixpermissions.gif\"/>"
   ]
  },
  {
   "cell_type": "markdown",
   "metadata": {},
   "source": [
    "L'option `-l` (pour *long*) de la commande `ls` affiche ces informations et d'autres.\n",
    "\n",
    "```\n",
    "$ cd provisoire\n",
    "$ mkdir rep\n",
    "$ touch fichier\n",
    "$ ls -l\n",
    "-rw-r--r-- 1 etienne etienne   13 déc.   8 18:00 fichier\n",
    "drwxr-xr-x 2 etienne etienne 4096 déc.   8 19:23 rep\n",
    "```"
   ]
  },
  {
   "cell_type": "markdown",
   "metadata": {},
   "source": [
    "Ainsi `fichier` est la propriété de l'utilisateur «etienne» et du groupe propriétaire «etienne»:\n",
    "- le propriétaire peut lire et modifier le contenu du fichier,\n",
    "- tout membre du groupe etienne peut lire le fichier,\n",
    "- tout autre utilisateur peut aussi le lire."
   ]
  },
  {
   "cell_type": "markdown",
   "metadata": {},
   "source": [
    "Les autres informations sont le nombre de liens vers ce fichier, la taille du fichier en octet, la date de création du fichier."
   ]
  },
  {
   "cell_type": "markdown",
   "metadata": {},
   "source": [
    "Pour le répertoire `rep`, la lettre `d` (pour *directory*) du début indique qu'il s'agit d'un «fichier de type répertoire» (`-` indique un fichier régulier) et les permissions d'interprètent différemment:\n",
    "- `r`: signifie qu'on peut lister son contenu,\n",
    "- `w`: qu'on peut y ajouter des fichiers et d'autres répertoires\n",
    "- `x`: qu'on peut en faire son répertoire courant avec la commande `cd`."
   ]
  },
  {
   "cell_type": "markdown",
   "metadata": {},
   "source": [
    "**note**: l'absence de la permission `x` rend quasiment inaccessible le répertoire."
   ]
  },
  {
   "cell_type": "markdown",
   "metadata": {},
   "source": [
    "### Astuces et pratique"
   ]
  },
  {
   "cell_type": "markdown",
   "metadata": {
    "jupyter": {
     "source_hidden": true
    }
   },
   "source": [
    "1. La commande `ls -l <rep> | grep ^b` affiche toutes les lignes produites par `ls -l <rep>` qui débuttent par la lettre `b`.  Ex:\n",
    "\n",
    "    - `ls -l /dev | grep ^b` affiche tous les périphériques de type «bloc» du système (notamment les disques et leur partitions)\n",
    "\n",
    "\n",
    "2. La commande `ls -l <rep> | wc -l` affiche le nombre de lignes produites par la commande `ls -l <rep>`\n",
    "\n",
    "    - Sachant que les principales commandes du système sont dans `/bin` et `/usr/bin`, combien y en a-t-il environ?"
   ]
  },
  {
   "cell_type": "markdown",
   "metadata": {},
   "source": [
    "## Agir sur les permissions d'un fichier - `chmod`"
   ]
  },
  {
   "cell_type": "markdown",
   "metadata": {},
   "source": [
    "La commande `chmod` sert à modifier les permissions des fichiers dont on est propriétaire, en voici quelques exemples:\n",
    "- `chmod u-w <fichier>`: \"fichier\" n'est plus accessible en écriture pour le propriétaire,\n",
    "- `chmod o-r,o-w,o+x <fichier>`: supprime les droits de lecture, écriture pour les «autres» mais leur permet l'exécution."
   ]
  },
  {
   "cell_type": "markdown",
   "metadata": {},
   "source": [
    "## La famille des OS UNIX au cours du temps"
   ]
  },
  {
   "cell_type": "markdown",
   "metadata": {},
   "source": [
    "<img src=\"https://upload.wikimedia.org/wikipedia/commons/thumb/7/77/Unix_history-simple.svg/1960px-Unix_history-simple.svg.png\"/>"
   ]
  }
 ],
 "metadata": {
  "kernelspec": {
   "display_name": "Python 3",
   "language": "python",
   "name": "python3"
  },
  "language_info": {
   "codemirror_mode": {
    "name": "ipython",
    "version": 3
   },
   "file_extension": ".py",
   "mimetype": "text/x-python",
   "name": "python",
   "nbconvert_exporter": "python",
   "pygments_lexer": "ipython3",
   "version": "3.6.8"
  }
 },
 "nbformat": 4,
 "nbformat_minor": 4
}
