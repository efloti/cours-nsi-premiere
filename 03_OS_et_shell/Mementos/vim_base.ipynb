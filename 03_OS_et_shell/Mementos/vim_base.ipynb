{
 "cells": [
  {
   "cell_type": "markdown",
   "metadata": {},
   "source": [
    "# Initiation à l'éditeur vim"
   ]
  },
  {
   "cell_type": "markdown",
   "metadata": {},
   "source": [
    "[Vidéo d'accompagnement](https://vimeo.com/473815375)"
   ]
  },
  {
   "cell_type": "markdown",
   "metadata": {},
   "source": [
    "## Incontournables!"
   ]
  },
  {
   "cell_type": "markdown",
   "metadata": {},
   "source": [
    "**i**: passe en mode *insertion*\n",
    "\n",
    "**Esc**: passe en mode *normal*\n",
    "\n",
    "**:q!**: sortir de vim sans sauvegarder.\n",
    "\n",
    "**:wq**: sauvegarder et sortir"
   ]
  },
  {
   "cell_type": "markdown",
   "metadata": {},
   "source": [
    "**u**: undo"
   ]
  },
  {
   "cell_type": "markdown",
   "metadata": {},
   "source": [
    "## Déplacement"
   ]
  },
  {
   "cell_type": "markdown",
   "metadata": {},
   "source": [
    "**h - j - k - l**: se déplacer (car directement sous la main droite)."
   ]
  },
  {
   "cell_type": "markdown",
   "metadata": {},
   "source": [
    "**b - e - w**: begin, end, word"
   ]
  },
  {
   "cell_type": "markdown",
   "metadata": {},
   "source": [
    "**0** et **\\$**: début, fin de ligne "
   ]
  },
  {
   "cell_type": "markdown",
   "metadata": {},
   "source": [
    "**zz**: recentrer l'écran au par rapport au curseur."
   ]
  },
  {
   "cell_type": "markdown",
   "metadata": {},
   "source": [
    "## Agir en mode normal"
   ]
  },
  {
   "cell_type": "markdown",
   "metadata": {},
   "source": [
    "**v** ou **V**: passer en mode visuel (mot ou ligne)."
   ]
  },
  {
   "cell_type": "markdown",
   "metadata": {},
   "source": [
    "**~**: mettre en majuscule"
   ]
  },
  {
   "cell_type": "markdown",
   "metadata": {},
   "source": [
    "**d \\<quoi\\>**: supprimer quelque chose -> **dd** (ligne), **d \\<mvt\\>**, **D** eq. *d\\$*, **daw** (le mot sous le curseur) ou **diw**,"
   ]
  },
  {
   "cell_type": "markdown",
   "metadata": {},
   "source": [
    "**y**: copier"
   ]
  },
  {
   "cell_type": "markdown",
   "metadata": {},
   "source": [
    "**p** ou **P**: coller avant le curseur ou après."
   ]
  },
  {
   "cell_type": "markdown",
   "metadata": {},
   "source": [
    "## Retour sur l'insertion"
   ]
  },
  {
   "cell_type": "markdown",
   "metadata": {},
   "source": [
    "**A**, **a**, **I**: insertion en «fin», «après», «début»"
   ]
  },
  {
   "cell_type": "markdown",
   "metadata": {},
   "source": [
    "**o**, **O**: insérer une ligne après ou avant la ligne courante"
   ]
  },
  {
   "cell_type": "markdown",
   "metadata": {},
   "source": [
    "**c \\<quoi\\>**: changer quelque chose (passe en mode insertion)"
   ]
  },
  {
   "cell_type": "markdown",
   "metadata": {},
   "source": [
    "**/** ou **?**: rechercher (**n** pour se déplacer)"
   ]
  },
  {
   "cell_type": "markdown",
   "metadata": {},
   "source": [
    "## Sauts et marques"
   ]
  },
  {
   "cell_type": "markdown",
   "metadata": {},
   "source": [
    "**gg** et **G**: aller au début ou à la fin du fichier."
   ]
  },
  {
   "cell_type": "markdown",
   "metadata": {},
   "source": [
    "**''**: revenir à la position avant un saut."
   ]
  },
  {
   "cell_type": "markdown",
   "metadata": {},
   "source": [
    "**m\\<lettre>** et **'\\<lettre>**: marque et saut à la marque."
   ]
  },
  {
   "cell_type": "markdown",
   "metadata": {},
   "source": [
    "## Macros"
   ]
  },
  {
   "cell_type": "markdown",
   "metadata": {},
   "source": [
    "**q\\<lettre>**: enregistre une macro (**q** pour finir, **@\\<lettre>** pour rejouer la macro)"
   ]
  }
 ],
 "metadata": {
  "kernelspec": {
   "display_name": "Python 3",
   "language": "python",
   "name": "python3"
  },
  "language_info": {
   "codemirror_mode": {
    "name": "ipython",
    "version": 3
   },
   "file_extension": ".py",
   "mimetype": "text/x-python",
   "name": "python",
   "nbconvert_exporter": "python",
   "pygments_lexer": "ipython3",
   "version": "3.7.3"
  }
 },
 "nbformat": 4,
 "nbformat_minor": 4
}
