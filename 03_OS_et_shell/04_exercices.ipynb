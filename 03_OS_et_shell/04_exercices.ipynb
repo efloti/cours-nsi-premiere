{
 "cells": [
  {
   "cell_type": "markdown",
   "metadata": {},
   "source": [
    "# Exercices sur le shell"
   ]
  },
  {
   "cell_type": "markdown",
   "metadata": {},
   "source": [
    "[Vidéo](https://vimeo.com/481801616)"
   ]
  },
  {
   "cell_type": "markdown",
   "metadata": {},
   "source": [
    "## Ex1 - système de fichier"
   ]
  },
  {
   "cell_type": "markdown",
   "metadata": {},
   "source": [
    "On suppose que le répertoire personnel de l'utilisateur courant est vide. Décrire l'effet de chacune des commandes suivantes, en supposant qu'elles sont exécutées les unes à la suite des autres.\n",
    "\n",
    "    1. cd ~                          5. cd ..\n",
    "    2. mkdir NSI                     6. ls\n",
    "    3. mkdir NSI/TP_SHELL            7. chmod u+rwx,g-rwx,o-rwx TP_SHELL\n",
    "    4. cd NSI/TP_SHELL\n",
    "\n",
    "Ouvrir un terminal et effectuer ces commandes. Constater que tout se déroule comme prévu."
   ]
  },
  {
   "cell_type": "markdown",
   "metadata": {
    "jupyter": {
     "source_hidden": true
    }
   },
   "source": [
    "1. le répertoire courant est le répertoire personnel de l'utilisateur,\n",
    "2. création du répertoire NSI,\n",
    "\n",
    "    ~/\n",
    "        NSI/\n",
    "3. puis du sous-répertoire TP_SHELL dans le répertoire NSI,\n",
    "    \n",
    "    ~/\n",
    "        NSI/\n",
    "            TP_SHELL/\n",
    "4. le réperoire courant devient TP_SHELL (marqué par une étoile),\n",
    "    \n",
    "    ~/\n",
    "        NSI/\n",
    "            TP_SHELL*/\n",
    "5. Le nouveau répertoire courant est le parent de l'ancien,\n",
    "\n",
    "    ~/\n",
    "        NSI*/\n",
    "            TP_SHELL/\n",
    "6. affiche le contenu du répertoire NSI c'est-à-dire TP_SHELL\n",
    "7. Modifie les permissions du répertoire TP_SHELL:\n",
    "  - le propriétaire peut le lister (r), modifier son contenu (w) et en faire son répertoire courant (x)\n",
    "  - les membres du groupe et les autres utilisateurs ne peuvent ni se placer sur ce répertoire, ni en lister le contenu ni le modifier"
   ]
  },
  {
   "cell_type": "markdown",
   "metadata": {},
   "source": [
    "## Ex2 - système de fichier encore"
   ]
  },
  {
   "cell_type": "markdown",
   "metadata": {},
   "source": [
    "On suppose que l'on se trouve dans un répertoire *TEST*, que ce dernier est vide et que l'on exécute les sept commandes suivantes. Dessiner l'arborescence finale des fichiers et répertoires (on utilisera *TEST* comme racine de l'arborescence).\n",
    "\n",
    "    1. mkdir a b c d                  5. cd ..\n",
    "    2. touch a/t.txt d/foo.txt        6. cp */*.txt c/g\n",
    "    3. cd c                           7. rm -rf d\n",
    "    4. mkdir ../b/e f g"
   ]
  },
  {
   "cell_type": "markdown",
   "metadata": {
    "jupyter": {
     "source_hidden": true
    }
   },
   "source": [
    "Le résultat final est (`*` marque le répertoire courant):\n",
    "\n",
    "     TEST*/\n",
    "         a/\n",
    "             t.txt\n",
    "         b/\n",
    "             e/\n",
    "         c/\n",
    "             f/\n",
    "             g/\n",
    "                 t.txt\n",
    "                 foo.txt\n",
    "             \n",
    "Pour les détails consulter la suite (ouvrir une autre vue pour le notebook - clic-droit sur l'onglet et *New view for notebook*)"
   ]
  },
  {
   "cell_type": "markdown",
   "metadata": {
    "jupyter": {
     "source_hidden": true
    }
   },
   "source": [
    "1. \n",
    "    \n",
    "        TEST*/\n",
    "            a/\n",
    "            b/\n",
    "            c/\n",
    "            d/\n",
    "2.\n",
    "   \n",
    "       TEST*/\n",
    "            a/\n",
    "                t.txt\n",
    "            b/\n",
    "            c/\n",
    "            d/\n",
    "                foo.txt\n",
    "3. \n",
    "\n",
    "        TEST/\n",
    "            a/\n",
    "                t.txt\n",
    "            b/\n",
    "            c*/\n",
    "            d/\n",
    "                foo.txt\n",
    "\n",
    "4. `..` ici est `TEST` donc:\n",
    "    \n",
    "        TEST/\n",
    "            a/\n",
    "                t.txt\n",
    "            b/\n",
    "                e/\n",
    "            c*/\n",
    "                f/\n",
    "                g/\n",
    "            d/\n",
    "                foo.txt\n",
    "5. \n",
    "    \n",
    "        TEST*/\n",
    "            a/\n",
    "                t.txt\n",
    "            b/\n",
    "                e/\n",
    "            c/\n",
    "                f/\n",
    "                g/\n",
    "            d/\n",
    "                foo.txt\n",
    "\n",
    "6. copier tous les fichiers d'un sous-répertoire de `TEST` dont le nom se termine par `.txt` dans `g/`:\n",
    "    \n",
    "        TEST*/\n",
    "            a/\n",
    "                t.txt\n",
    "            b/\n",
    "                e/\n",
    "            c/\n",
    "                f/\n",
    "                g/\n",
    "                    t.txt\n",
    "                    foo.txt\n",
    "            d/\n",
    "                foo.txt\n",
    "7. supprimer le répertoire d (option -r) en «force» si besoin (option -r):\n",
    "    \n",
    "        TEST*/\n",
    "            a/\n",
    "                t.txt\n",
    "            b/\n",
    "                e/\n",
    "            c/\n",
    "                f/\n",
    "                g/\n",
    "                    t.txt\n",
    "                    foo.txt"
   ]
  },
  {
   "cell_type": "markdown",
   "metadata": {},
   "source": [
    "## Ex3 - motifs *glob*"
   ]
  },
  {
   "cell_type": "markdown",
   "metadata": {},
   "source": [
    "Pour chacun des motifs «*glob*» ci-dessous, donner une suite de caractères (de longueur au moins un) reconnue par le motif.\n",
    "\n",
    "    1. *.jpg                         5. ?????\n",
    "    2. [0-9]*[a-z]                   6. ?*?\n",
    "    3. *.???                         7. *[^.]???\n",
    "    4. *[^A-Z]*"
   ]
  },
  {
   "cell_type": "markdown",
   "metadata": {
    "jupyter": {
     "source_hidden": true
    }
   },
   "source": [
    "1. Tout fichier (au sens large) se terminant par `.jpg`. Par exemple `truc.jpg` ou `1.jpg`.\n",
    "2. Tout fichier débutant par (au moins) un chiffre décimal et se terminant par une lettre minuscule: `5cent` mais pas `5cent1`. Le `-` dans la notation `[]` signifie tous les caractères «entre» les deux donnés (dans un sens ordinaire).\n",
    "3. Tout fichier dont l'extension possède exactement trois caractères: `test.aBc` ou `a.123` mais pas `a.bCde` ni `photo.jpeg`.\n",
    "4. Tout fichier dont le nom ne contient aucune majuscule. `bla` passe mais pas `bLa`. Le caractère `^` au début de la notation `[]` signifie «tout sauf».\n",
    "5. Tout fichier dont le nom contient exactement 5 caractères. ex: `trois` mais pas `quatre`.\n",
    "6. Tout fichier ayant au moins deux caractères. `a` ne convient pas! mais `a2` oui.\n",
    "7. Tout fichier dont le nom se termine par 4 caractères où le 4ème en partant de la fin n'est pas un `.`. `truc.text` fonctionne mais pas `truc.txt`."
   ]
  },
  {
   "cell_type": "markdown",
   "metadata": {},
   "source": [
    "Tester les réponses dans le terminal. Pour cela, se placer dans le répertoire TP_SHELL, créer des fichiers vides au moyen de la commande `touch` et tester l'expression au moyen de `ls <motifs>`. Le fichier que vous venez de créer doit être listé (au moins lui). Par exemple,"
   ]
  },
  {
   "cell_type": "markdown",
   "metadata": {},
   "source": [
    "```\n",
    "    $ touch \"toto.txt\" \n",
    "    $ ls *txt             \n",
    "```"
   ]
  },
  {
   "cell_type": "markdown",
   "metadata": {},
   "source": [
    "affiche *toto.txt*. Les guillements simples sont nécessaires si le nom testé contient des caractères spéciaux (espace, ~, etc.)."
   ]
  },
  {
   "cell_type": "markdown",
   "metadata": {},
   "source": [
    "## Ex4 - gérer les permissions"
   ]
  },
  {
   "cell_type": "markdown",
   "metadata": {},
   "source": [
    "On suppose pour cet exercice que le répertoire courant est le répertoire personnel. De plus, on suppose que les répertoires *NSI* et *NSI/TP_SHELL* existent. Donner les commandes permettant de mettre les permissions demandées, quelles que soit les permissions initiales sur le fichier ou répertoire."
   ]
  },
  {
   "cell_type": "markdown",
   "metadata": {},
   "source": [
    "1. Le répertoire personnel possède tous les droits pour l'utilisateur et uniquement le droit d'exécution pour le groupe et les autres."
   ]
  },
  {
   "cell_type": "markdown",
   "metadata": {},
   "source": [
    "`chmod 711 .` ou `chmod u+rwx g-rw o-rw g+x o+x .`. `~` à la place de `.` fonctionne aussi."
   ]
  },
  {
   "cell_type": "markdown",
   "metadata": {},
   "source": [
    "2. Les répertoires *NSI* et *NSI/TP_SHELL* possèdent tous les droits pour l'utilisateur et les droits de lecture et d'exécution pour le groupe et les autres (une commande par répertoire)."
   ]
  },
  {
   "cell_type": "markdown",
   "metadata": {
    "jupyter": {
     "source_hidden": true
    }
   },
   "source": [
    "`chmod 755 NSI` et `chmod 755 NSI/TP_SHELL` \n",
    "\n",
    "Ou bien (mais c'est lourd): `chmod u+rwx g+rx o+rx g-w o-w NSI` et de même pour l'autre répertoire."
   ]
  },
  {
   "cell_type": "markdown",
   "metadata": {},
   "source": [
    "3. Le fichier *lisible.txt* du répertoire *NSI/TP_SHELL* possède les droits de lecture/écriture pour l'utilisateur et uniquement les droits de lectures pour le groupe et les autres."
   ]
  },
  {
   "cell_type": "markdown",
   "metadata": {
    "jupyter": {
     "source_hidden": true
    }
   },
   "source": [
    "`chmod 644 NSI/TP_SHELL/lisible.txt` ou `chmod u+rw g+r o+r g-wx o-wx NSI/TP_SHELL/lisible.txt`"
   ]
  },
  {
   "cell_type": "markdown",
   "metadata": {},
   "source": [
    "4. Le fichier *secret.txt* du répertoire *NSI/TP_SHELL* possède les droites de lecture/écriture pour l'utilisateur et aucun droit pour le groupe et pour les autres."
   ]
  },
  {
   "cell_type": "markdown",
   "metadata": {
    "jupyter": {
     "source_hidden": true
    }
   },
   "source": [
    "`chmod 600 NSI/TP_SHELL/secret.txt` ou `chmod u+rw g-rwx o-rwx NSI/TP_SHELL/secret.txt`"
   ]
  },
  {
   "cell_type": "markdown",
   "metadata": {},
   "source": [
    "## Ex5 - combiner des commandes\n",
    "\n",
    "```\n",
    "BRESIL,CAMEROUN,A     | MAROC,JAPON,C          | ARGENTINE,NIGERIA,F\n",
    "BRESIL,CROATIE,A      | GRECE,JAPON,C          | BOSNIE,IRAN,F\n",
    "BRESIL,MEXIQUE,A      | ANGLETERRE,SÉNÉGAL,D   | BOSNIE,NIGERIA,F\n",
    "CAMEROUN,CROATIE,A    | ANGLETERRE,ITALIE,D    | IRAN,NIGERIA,F\n",
    "CAMEROUN,MEXIQUE,A    | ANGLETERRE,URUGUAY,D   | ALLEMAGNE,ETATS-UNIS,G\n",
    "CROATIE,MEXIQUE,A     | SÉNÉGAL,ITALIE,D       | ALLEMAGNE,GHANA,G\n",
    "AUSTRALIE,CHILI,B     | SÉNÉGAL,URUGUAY,D      | ALLEMAGNE,PORTUGAL,G\n",
    "AUSTRALIE,ESPAGNE,B   | ITALIE,URUGUAY,D       | ETATS-UNIS,GHANA,G\n",
    "AUSTRALIE,PAYS-BAS,B  | EQUATEUR,FRANCE,E      | ETATS-UNIS,PORTUGAL,G\n",
    "CHILI,ESPAGNE,B       | EQUATEUR,HONDURAS,E    | GHANA,PORTUGAL,G\n",
    "CHILI,PAYS-BAS,B      | EQUATEUR,SUISSE,E      | ALGERIE,BELGIQUE,H\n",
    "ESPAGNE,PAYS-BAS,B    | FRANCE,HONDURAS,E      | ALGERIE,COREE DU SUD,H\n",
    "COLOMBIE,MAROC,C      | FRANCE,SUISSE,E        | ALGERIE,RUSSIE,H\n",
    "COLOMBIE,GRECE,C      | HONDURAS,SUISSE,E      | BELGIQUE,COREE DU SUD,H\n",
    "COLOMBIE,JAPON,C      | ARGENTINE,BOSNIE,F     | BELGIQUE,RUSSIE,H\n",
    "MAROC,GRECE,C         | ARGENTINE,IRAN,F       | COREE DU SUD,RUSSIE,H\n",
    "```\n",
    "\n",
    "On considère le fichier *cm.csv* dont le contenu est donné ci-dessus.\n",
    "Ce fichier représente des matchs entre pays lors d'une compétition sportive (la lettre dans le troisième champ est le groupe). On souhaite déterminer combien de pays distincts sont dans le fichier."
   ]
  },
  {
   "cell_type": "markdown",
   "metadata": {},
   "source": [
    "1. Lire la page de manuel de la commande `cut`. Déterminer comment extraire uniquement la première «colonne» du fichier *cm.csv* (c'est-à-dire comment afficher uniquement le premier champ \\[*field*\\] de chaque ligne, en spécifiant que le délimiteur de champ est «, »)."
   ]
  },
  {
   "cell_type": "markdown",
   "metadata": {
    "jupyter": {
     "source_hidden": true
    }
   },
   "source": [
    "Il est facile de trouver l'option pour le délimiteur `-d` et un peu de recherche montre que le mot «champ» se traduit par *field* et l'option correpondant est `-f`.\n",
    "\n",
    "Finalement, après quelques essais:\n",
    "\n",
    "    cut -d , -f 1 cm.csv"
   ]
  },
  {
   "cell_type": "markdown",
   "metadata": {},
   "source": [
    "2. Sauver le résultat de la première commande dans un fichier *liste1.txt*. Sauver de la même manière la deuxième colonne du fichier *cm.csv* dans un fichier *liste2.txt*."
   ]
  },
  {
   "cell_type": "markdown",
   "metadata": {
    "jupyter": {
     "source_hidden": true
    }
   },
   "source": [
    "        cut -d , -f 1 cm.csv > liste1.txt\n",
    "        cut -d , -f 2 cm.csv > liste2.txt"
   ]
  },
  {
   "cell_type": "markdown",
   "metadata": {},
   "source": [
    "3. Afficher les fichiers *liste1.txt* et *liste2.txt* l'un à la suite de l'autre puis enchaîner le résultat avec la commande `sort`."
   ]
  },
  {
   "cell_type": "markdown",
   "metadata": {
    "jupyter": {
     "source_hidden": true
    }
   },
   "source": [
    "    cat liste1.txt liste2.txt | sort"
   ]
  },
  {
   "cell_type": "markdown",
   "metadata": {},
   "source": [
    "4. Consulter la page de manuel de `sort` pour trouver l'option qui permet de supprimer les doublons. Afficher la liste des pays sans doublons."
   ]
  },
  {
   "cell_type": "markdown",
   "metadata": {
    "jupyter": {
     "source_hidden": true
    }
   },
   "source": [
    "        cat liste1.txt liste2.txt | sort -u"
   ]
  },
  {
   "cell_type": "markdown",
   "metadata": {},
   "source": [
    "5. Consulter la page de manuel de la commande `wc` (Word Count) pour savoir comment compter le nombre de lignes d'un fichier. En déduire la commande permettant de déterminer le nombre de pays distincts."
   ]
  },
  {
   "cell_type": "markdown",
   "metadata": {
    "jupyter": {
     "source_hidden": true
    }
   },
   "source": [
    "        cat liste1.txt liste2.txt | sort -u | wc -l\n",
    "\n",
    "On trouve que **32** pays participent à ce championnat."
   ]
  }
 ],
 "metadata": {
  "kernelspec": {
   "display_name": "Python 3",
   "language": "python",
   "name": "python3"
  },
  "language_info": {
   "codemirror_mode": {
    "name": "ipython",
    "version": 3
   },
   "file_extension": ".py",
   "mimetype": "text/x-python",
   "name": "python",
   "nbconvert_exporter": "python",
   "pygments_lexer": "ipython3",
   "version": "3.7.3"
  }
 },
 "nbformat": 4,
 "nbformat_minor": 4
}
