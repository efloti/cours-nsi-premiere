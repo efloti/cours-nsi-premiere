{
 "cells": [
  {
   "cell_type": "markdown",
   "metadata": {},
   "source": [
    "# Exercices sur le shell"
   ]
  },
  {
   "cell_type": "markdown",
   "metadata": {},
   "source": [
    "## Ex1 - système de fichier\n",
    "\n",
    "On suppose que le répertoire personnel de l'utilisateur courant est vide. Décrire l'effet de chacune des commandes suivantes, en supposant qu'elles sont exécutées les unes à la suite des autres.\n",
    "\n",
    "    1. cd ~                          5. cd ..\n",
    "    2. mkdir NSI                     6. ls\n",
    "    3. mkdir NSI/TP_SHELL            7. chmod u+rwx,g-rwx,o-rwx TP_SHELL\n",
    "    4. cd NSI/TP_SHELL\n",
    "\n",
    "Ouvrir un terminal et effectuer ces commandes. Constater que tout se déroule comme prévu."
   ]
  },
  {
   "cell_type": "markdown",
   "metadata": {},
   "source": [
    "## Ex2 - système de fichier encore\n",
    "\n",
    "On suppose que l'on se trouve dans un répertoire *TEST*, que ce dernier est vide et que l'on exécute les sept commandes suivantes. Dessiner l'arborescence finale des fichiers et répertoires (on utilisera *TEST* comme racine de l'arborescence).\n",
    "\n",
    "    1. mkdir a b c d                  5. cd ..\n",
    "    2. touch a/t.txt d/foo.txt        6. cp */*.txt c/g\n",
    "    3. cd c                           7. rm -rf d\n",
    "    4. mkdir ../b/e f g"
   ]
  },
  {
   "cell_type": "markdown",
   "metadata": {},
   "source": [
    "## Ex3 - motifs *glob*\n",
    "\n",
    "Pour chacun des motifs «*glob*» ci-dessous, donner une suite de caractères (de longueur au moins un) reconnue par le motif.\n",
    "\n",
    "    1. *.jpg                         5. ?????\n",
    "    2. [0-9]*[a-z]                   6. ?*?\n",
    "    3. *.???                         7. *[^.]???\n",
    "    4. *[^A-Z]*\n",
    "\n",
    "Tester les réponses dans le terminal. Pour cela, se placer dans le répertoire TP_SHELL, créer des fichiers vides au moyen de la commande `touch` et tester l'expression au moyen de `ls <motifs>`. Le fichier que vous venez de créer doit être listé (au moins lui). Par exemple,\n",
    "     "
   ]
  },
  {
   "cell_type": "markdown",
   "metadata": {},
   "source": [
    "```\n",
    "    $ touch \"toto.txt\" \n",
    "    $ ls *txt             \n",
    "```"
   ]
  },
  {
   "cell_type": "markdown",
   "metadata": {},
   "source": [
    "affiche *toto.txt*. Les guillements simples sont nécessaires si le nom testé contient des caractères spéciaux (espace, ~, etc.)."
   ]
  },
  {
   "cell_type": "markdown",
   "metadata": {},
   "source": [
    "## Ex4 - gérer les permissions\n",
    "\n",
    "On suppose pour cet exercice que le répertoire courant est le répertoire personnel. De plus, on suppose que les répertoires *NSI* et *NSI/TP_SHELL* existent. Donner les commandes permettant de mettre les permissions demandées, quelles que soit les permissions initiales sur le fichier ou répertoire.\n",
    "\n",
    "1. Le répertoire personnel possède tous les droits pour l'utilisateur et uniquement le droit d'exécution pour le groupe et les autres.\n",
    "\n",
    "2. Les répertoires *NSI* et *NSI/TP_SHELL* possèdent tous les droits pour l'utilisateur et les droits de lecture et d'exécution pour le groupe et les autres (une commande par répertoire).\n",
    "\n",
    "3. Le fichier *lisible.txt* du répertoire *NSI/TP_SHELL* possède les droits de lecture/écriture pour l'utilisateur et uniquement les droits de lectures pour le groupe et les autres.\n",
    "\n",
    "4. Le fichier *secret.txt* du répertoire *NSI/TP_SHELL* possède les droites de lecture/écriture pour l'utilisateur et aucun droit pour le groupe et pour les autres."
   ]
  },
  {
   "cell_type": "markdown",
   "metadata": {},
   "source": [
    "## Ex5 - combiner des commandes\n",
    "\n",
    "```\n",
    "BRESIL,CAMEROUN,A     | MAROC,JAPON,C          | ARGENTINE,NIGERIA,F\n",
    "BRESIL,CROATIE,A      | GRECE,JAPON,C          | BOSNIE,IRAN,F\n",
    "BRESIL,MEXIQUE,A      | ANGLETERRE,SÉNÉGAL,D   | BOSNIE,NIGERIA,F\n",
    "CAMEROUN,CROATIE,A    | ANGLETERRE,ITALIE,D    | IRAN,NIGERIA,F\n",
    "CAMEROUN,MEXIQUE,A    | ANGLETERRE,URUGUAY,D   | ALLEMAGNE,ETATS-UNIS,G\n",
    "CROATIE,MEXIQUE,A     | SÉNÉGAL,ITALIE,D       | ALLEMAGNE,GHANA,G\n",
    "AUSTRALIE,CHILI,B     | SÉNÉGAL,URUGUAY,D      | ALLEMAGNE,PORTUGAL,G\n",
    "AUSTRALIE,ESPAGNE,B   | ITALIE,URUGUAY,D       | ETATS-UNIS,GHANA,G\n",
    "AUSTRALIE,PAYS-BAS,B  | EQUATEUR,FRANCE,E      | ETATS-UNIS,PORTUGAL,G\n",
    "CHILI,ESPAGNE,B       | EQUATEUR,HONDURAS,E    | GHANA,PORTUGAL,G\n",
    "CHILI,PAYS-BAS,B      | EQUATEUR,SUISSE,E      | ALGERIE,BELGIQUE,H\n",
    "ESPAGNE,PAYS-BAS,B    | FRANCE,HONDURAS,E      | ALGERIE,COREE DU SUD,H\n",
    "COLOMBIE,MAROC,C      | FRANCE,SUISSE,E        | ALGERIE,RUSSIE,H\n",
    "COLOMBIE,GRECE,C      | HONDURAS,SUISSE,E      | BELGIQUE,COREE DU SUD,H\n",
    "COLOMBIE,JAPON,C      | ARGENTINE,BOSNIE,F     | BELGIQUE,RUSSIE,H\n",
    "MAROC,GRECE,C         | ARGENTINE,IRAN,F       | COREE DU SUD,RUSSIE,H\n",
    "```\n",
    "\n",
    "On considère le fichier *cm.csv* dont le contenu est donné ci-dessus.\n",
    "Ce fichier représente des matchs entre pays lors d'une compétition sportive (la lettre dans le troisième champ est le groupe). On souhaite déterminer combien de pays distincts sont dans le fichier.\n",
    "\n",
    "1. Lire la page de manuel de la commande `cut`. Déterminer comment extraire uniquement la première «colonne» du fichier *cm.csv* (c'est-à-dire comment afficher uniquement le premier champ de chaque ligne, en spécifiant que le délimiteur de champ est «, »).\n",
    "\n",
    "2. Sauver le résultat de la première commande dans un fichier *liste1.txt*. Sauver de la même manière la deuxième colonne du fichier *cm.csv* dans un fichier *liste2.txt*.\n",
    "\n",
    "3. Afficher les fichiers *liste1.txt* et *liste2.txt* l'un à la suite de l'autre puis enchaîner le résultat avec la commande `sort`.\n",
    "\n",
    "4. Consulter la page de manuel de `sort` pour trouver l'option qui permet de supprimer les doublons. Afficher la liste des pays sans doublons.\n",
    "\n",
    "5. Consulter la page de manuel de la commande `wc` (Word Count) pour savoir comment compter le nombre de lignes d'un fichier. En déduire la commande permettant de déterminer le nombre de pays distincts."
   ]
  }
 ],
 "metadata": {
  "kernelspec": {
   "display_name": "Python 3",
   "language": "python",
   "name": "python3"
  },
  "language_info": {
   "codemirror_mode": {
    "name": "ipython",
    "version": 3
   },
   "file_extension": ".py",
   "mimetype": "text/x-python",
   "name": "python",
   "nbconvert_exporter": "python",
   "pygments_lexer": "ipython3",
   "version": "3.6.8"
  }
 },
 "nbformat": 4,
 "nbformat_minor": 4
}
