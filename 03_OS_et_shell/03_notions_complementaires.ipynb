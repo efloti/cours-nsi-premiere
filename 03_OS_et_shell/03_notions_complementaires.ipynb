{
 "cells": [
  {
   "cell_type": "markdown",
   "metadata": {
    "toc-hr-collapsed": false
   },
   "source": [
    "# Compléments sur le shell"
   ]
  },
  {
   "cell_type": "markdown",
   "metadata": {
    "toc-hr-collapsed": true
   },
   "source": [
    "## Caractères spéciaux"
   ]
  },
  {
   "cell_type": "markdown",
   "metadata": {},
   "source": [
    "Dans le terminal, le shell *interprète* certains caractères dits *spéciaux* et les remplace à la volée en fonction du contexte.\n",
    "\n",
    "Voici quelques-uns de ces **caractères spéciaux** ([liste plus détaillée](https://abs.traduc.org/abs-5.1-fr/ch03.html)) et des exemples pour «sentir» comment cela fonctionne par la pratique: "
   ]
  },
  {
   "cell_type": "markdown",
   "metadata": {},
   "source": [
    "| Caractères spéciaux |                                   Commentaires                                  |               Exemples à tester                        |\n",
    "|:-------------------:|:-------------------------------------------------------------------------------:|:------------------------------------------------------:|\n",
    "|         `*`         |                            *jocker* multi-caractères                            |                 `ls /bin/c*`                           |\n",
    "|         `?`         |                              *jocker* uni-caractère                             |                 `ls /bin/*o?`                          |\n",
    "|      `[` et `]`     |                              *classe* de caractères                             |                `ls /bin/[cd]*`                         |\n",
    "|         `~`         |                          répertoire de l'utilisateur                            |                 `ls ~/P*/*1`                           |\n",
    "|  `<espace>` ou ` `  |                              séparateur d'arguments                             |              `mkdir -p a b c d/e/f`                    |\n",
    "|         `-`         |                        préfixe d'option «courte» de commande                    |                 `ls -l -h ~`                           |\n",
    "|         `\\|`        |                         tube (*pipe*) - voir un peu plus loin...                |           `ls -l /bin \\| wc -l`                        |\n",
    "|         `;`         |                             séquencer des commandes                             |             `cd ~/P*/*1; ls; pwd`                      |\n",
    "|         `$`         |                              contenu d'une variable                             |  `a=52; echo a; echo $a`ou  `echo $USER`               |\n",
    "|         `#`         |                                   commentaire                                   |  `wc -w f.txt  # affiche le nb de mots ...`            |\n",
    "|      `<CTRL+C>`     |                   termine une commande en cours de traitement                   |  `ls -R /` saisir <CTRL+C> pour interrompre            |\n",
    "|      `<CTRL+D>`     |                               EOF - *End Of File*                               | `cat` puis saisir: un <entrée> deux <entrée>  <CTRL+D> |\n",
    "|      `\"` et `'`     |  *quotes* - atténue ou supprime l'interprétation des caractères spéciaux        |  `echo *; echo \"*\"; echo \"$a\"; echo '$a'`              |\n"
   ]
  },
  {
   "cell_type": "markdown",
   "metadata": {},
   "source": [
    "#### Notes et astuces"
   ]
  },
  {
   "cell_type": "markdown",
   "metadata": {},
   "source": [
    "- `echo` affiche ses arguments à l'écran (*sortie standard*),\n",
    "\n",
    "- `mkdir`: option `p` pour créer tous les répertoires intermédiaires d'un - «**p**ath» - chemin,\n",
    "\n",
    "- `ls`: option `h` pour afficher la taille des fichiers dans un format «**h**umain» (plutôt que des octets); option `R` pour lister les répertoires «**R**écursivement»,\n",
    "\n",
    "- `wc` (*word count*): option `w` pour afficher le nombre de - «**w**ords» - mots, option `l` pour le nombre de lignes,\n",
    "\n",
    "-  ... mais on trouve tout ça dans le ... `man <nom_cmd>` ...!; pour chercher dans le **man**uel:\n",
    "    - **se déplacer**: `G` -> aller tout à la fin, `gg` -> aller tout au début, `<espace>` -> avancer d'une page;\n",
    "    - **chercher**: `/<motif>` où motif peut être un mot ou une *expression régulière* (prog. Term...) comme (à tester!) `/\\s+-r` où `\\s+` signifie un caractère blanc ou plus ...\n",
    "        - une fois la recherche lancée: `n` -> sauter à la prochaine occurence, `N` -> à la précédente, `<ESC>-u` pour sortir...\n",
    "    - arghhh! comment retenir tout ça ??? ... et bien je ne peux que te conseiller de *commencer* ton apprentissage de l'**éditeur vim** en lançant la commande `vimtutor`..."
   ]
  },
  {
   "cell_type": "markdown",
   "metadata": {},
   "source": [
    "## Notion de processus - *Process* - ou tâche - *Task*"
   ]
  },
  {
   "cell_type": "markdown",
   "metadata": {},
   "source": [
    "Dans les sytèmes **multi-tâches** de type UNIX, chaque programme *en cours d'exécution* est qualifié de **processus** (abrégé *ps*).\n",
    "\n",
    "#### Exemple\n",
    "\n",
    "La commande `ls` est un fichier binaire exécutable `/bin/ls` qu'on appelle **programme**.\n",
    "Lorsque vous saisissez cette commande dans le shell, puis que vous valider, ce *programme* est chargé par le système d'exploitation et devient dès lors un **processus**.\n",
    "\n",
    "#### **En pratique**\n",
    "- `ps -A`: affiche la liste de tous les processus en cours (option `A` pour **A**ll)\n",
    "- `top`: affiche tous les processus à intervalle de temps régulier ... tape `q` pour quitter. "
   ]
  },
  {
   "cell_type": "markdown",
   "metadata": {
    "toc-hr-collapsed": true
   },
   "source": [
    "## Des processus, un processeur: l'ordonnancement"
   ]
  },
  {
   "cell_type": "markdown",
   "metadata": {},
   "source": [
    "L'un des rôles d'un système d'exploitation est d'**ordonnancer les processus** (*scheduler*). Voilà la situation:\n",
    "\n",
    "- D'une part, **des**  *processus* en attente (environ une *centaine*) ... d'une **ressource**,\n",
    "- d'autre part, **un** (quelques pour un multi-coeurs) *processeur*(s) - **la ressource attendu** par les processus ...\n",
    "\n",
    "Le **problème** est donc: comment faire fonctionner tout ça en donnant l'**illusion** à l'utilisateur que tout se déroule en même temps - *multi-tâche*.\n",
    "\n",
    "**Solution**: Partager le temps pendant lequel **la ressource processeur** est attribuée - *allouée* - à l'**un** des processus en cours; on appelle cela l'**ordonnancement** des processus.\n",
    "\n",
    "Voilà comment cela se passe dans les grandes lignes ...:\n",
    "1. Sélectionner un processus «prêt» et lui *allouer* le processeur (état «élu»),\n",
    "2. attendre un laps de temps donné - *quantum* - de l'ordre de quelques dizaine de millisecondes,\n",
    "3. le processus «élu» est **préempté** et passe à l'état «prêt» s'il n'a pas terminé: le processeur est alors de nouveau libre,\n",
    "4. reprendre à l'étape 1....\n",
    "\n",
    "**Résultat**: l'*illusion* que tout se déroule en même temps (en parallèles) alors qu'en fait, *à un instant donné*, seul un processus s'exécute sur le processeur!"
   ]
  },
  {
   "cell_type": "markdown",
   "metadata": {},
   "source": [
    "<img src=\"https://www.supinfo.com/cours/1OSS/chapitres/images/02-initialOrdonnancementProcessus.png\" />"
   ]
  },
  {
   "cell_type": "markdown",
   "metadata": {},
   "source": [
    "#### Note sur l'état «bloqué»"
   ]
  },
  {
   "cell_type": "markdown",
   "metadata": {
    "jupyter": {
     "source_hidden": true
    }
   },
   "source": [
    "Le **blocage** correspond, par exemple, à l'*ouverture d'un fichier* (de l'ordre de la milliseconde: $10^{-6}$s) par le processus «élu».\n",
    "\n",
    "Cette ouverture est **longue à l'échelle du processeur** (de l'ordre de la nanoseconde: $10^{-9}$s) qui ne peut plus rien faire avant que le fichier ne soit chargé en **mémoire centrale** - RAM.\n",
    "\n",
    "L'ordonnanceur du système d'exploitation «bloque» alors le processus «élu» et libère le processeur (en attendant que la ressource demandée arrive du disque)...\n",
    "\n",
    "... puis il sélectionne un processus dans l'état «prêt» et lui alloue le processeur...\n",
    "\n",
    "... le fichier arrive finalement ... l'ordonnanceur débloque le processus «bloqué» c'est-à-dire le fait passer dans l'état «prêt» (et non élu!)."
   ]
  },
  {
   "cell_type": "markdown",
   "metadata": {
    "toc-hr-collapsed": false
   },
   "source": [
    "## Entrée et sortie standard d'un processus"
   ]
  },
  {
   "cell_type": "markdown",
   "metadata": {},
   "source": [
    "À chaque **processus** UNIX - votre programme *python* lorsque vous l'exécuter! - est associé par défaut:\n",
    "\n",
    "- une **entrée standard** (*standard input*) - **stdin** - un fichier spécial par le biais duquel:\n",
    "\n",
    "  - il peut **recevoir** des données du système - souvent rattaché au **clavier** (*keyboard*)\n",
    "\n",
    "\n",
    "- une **sortie standard** (*standard output*) - **stdout** - fichier spécial par le biais duquel:\n",
    "\n",
    "  - il peut **fournir** des données au système - souvent rattaché à l'**écran** (*display*)"
   ]
  },
  {
   "cell_type": "markdown",
   "metadata": {},
   "source": [
    "<img src=\"https://upload.wikimedia.org/wikipedia/commons/thumb/7/70/Stdstreams-notitle.svg/400px-Stdstreams-notitle.svg.png\" />"
   ]
  },
  {
   "cell_type": "markdown",
   "metadata": {},
   "source": [
    "#### Notes pour les curieux"
   ]
  },
  {
   "cell_type": "markdown",
   "metadata": {},
   "source": [
    "- En toute rigueur, il y a aussi une **sortie d'erreur standard** - *stderr* - elle aussi souvent reliée à l'écran,\n",
    "- chaque processus possède un identifiant numérique appelé **pid** (**P**rocess **ID**entifier).\n",
    "- Les processus sont en fait reliés entre eux et forment une arborescence un peu comme le système de fichier: essayer la commande `pstree`."
   ]
  },
  {
   "cell_type": "markdown",
   "metadata": {
    "toc-hr-collapsed": false
   },
   "source": [
    "## Redirections et tubes - *pipes*"
   ]
  },
  {
   "cell_type": "markdown",
   "metadata": {},
   "source": [
    "L' *entrée* et la *sortie* standard d'un processus peuvent-être **redirigées**."
   ]
  },
  {
   "cell_type": "markdown",
   "metadata": {
    "toc-hr-collapsed": true
   },
   "source": [
    "### Redirection de la sortie standard\n",
    "\n",
    "Au lieu d'afficher à l'écran - *sortie standard* - ce que produit la commande `ls` (des lignes de texte), on souhaite **rediriger** ce texte dans ... un fichier.\n",
    "\n",
    "Nous voulons donc rediriger le **stdout** du processus `ls` afin que ce soit un fichier; Pour cela on utilise l'un des *caractères spéciaux*:\n",
    "\n",
    "- `>` suivi d'un nom de fichier: \n",
    "\n",
    "    modifie la *sortie standard* de la commande - **stdout** - afin de la faire «pointer» sur le fichier (s'il existe son contenu est écrasé, sinon le fichier est créé)\n",
    "\n",
    "- `>>` suivi d'un nom de fichier:\n",
    "    \n",
    "    idem mais la sortie de la commande est **ajoutée** après la dernière ligne du fichier existant (mode *append*)"
   ]
  },
  {
   "cell_type": "markdown",
   "metadata": {},
   "source": [
    "#### Exemple1"
   ]
  },
  {
   "cell_type": "markdown",
   "metadata": {},
   "source": [
    "```\n",
    "$ ls -l > lsfich\n",
    "$ echo \"trop fort\" >> lsfich\n",
    "$ tail lsfich\n",
    "```"
   ]
  },
  {
   "cell_type": "markdown",
   "metadata": {},
   "source": [
    "#### Exemple2"
   ]
  },
  {
   "cell_type": "markdown",
   "metadata": {},
   "source": [
    "```\n",
    "$ echo '#!/usr/bin/python3' > oh\n",
    "$ file oh\n",
    "... (voir note)\n",
    "$ echo 'print(\"cool!\")' >> oh\n",
    "$ chmod u+x oh\n",
    "$ oh\n",
    "erreur ... lire le message!\n",
    "$ ./oh # rappel «.» désigne le répertoire courant ...\n",
    "Pyth et ls, c'est ... :-o\n",
    "$ ./oh > testfich\n",
    "$ cat testfich\n",
    "```"
   ]
  },
  {
   "cell_type": "markdown",
   "metadata": {},
   "source": [
    "#### Notes pour l'exemple 2"
   ]
  },
  {
   "cell_type": "markdown",
   "metadata": {
    "jupyter": {
     "source_hidden": true
    }
   },
   "source": [
    "- **ligne shebang**: c'est le nom qu'on donne à l'écriture `#!/usr/bin/python3` (sans espace) dans les systèmes UNIX.\n",
    "\n",
    "  Cette ligne, qui doit être la première et qui est de la forme `#!<chemin_programme>`, indique à l'OS que, pour exécuter ce fichier, il faut faire appel au programme interpréteur indiqué.\n",
    "\n",
    "\n",
    "- Pour exécuter un fichier «exécutable», on ne peut directement fournir son nom, car le shell cherche les commandes dans un certain nombre de répertoires prédéfinis. Pour connaître ces répertoire saisir `echo $PATH` qui est une variable «spéciale» et très importante du shell.\n",
    "    - petite expérience pour bien comprendre: `echo $PATH; PATH=\".:\"$PATH; echo $PATH; oh`\n",
    "\n",
    "\n",
    "- *Petite question en passant*: devines-tu pourquoi on ne peut pas écrire `a = 12` dans le shell (mais `a=12` est ok)??? Tu as toutes les informations pour le comprendre ... réfléchis!"
   ]
  },
  {
   "cell_type": "markdown",
   "metadata": {},
   "source": [
    "### Redirection de l'entrée standard"
   ]
  },
  {
   "cell_type": "markdown",
   "metadata": {},
   "source": [
    "Moins utile en pratique, nous n'en parlerons pas sauf dans le cadre des tubes ci-après."
   ]
  },
  {
   "cell_type": "markdown",
   "metadata": {},
   "source": [
    "### Chaînage de commande: Les tubes ou *pipes*"
   ]
  },
  {
   "cell_type": "markdown",
   "metadata": {},
   "source": [
    "**Idée clé au coeur des systèmes UNIX**\n",
    "\n",
    "> Chaque commande fait une petite tâche et la fait bien,\n",
    ">\n",
    "> chaque commande est conçue pour travailler avec les autres,\n",
    ">\n",
    "> pour faire une tâche «complexe», **combine** ces commandes avec des **tubes**."
   ]
  },
  {
   "cell_type": "markdown",
   "metadata": {},
   "source": [
    "Un «tube» - *pipe* - entre deux commandes est de la forme:  «`cmd1 | cmd2`» \n",
    "\n",
    "L'idée d'un tube est de *rediriger* la sortie de `cmd1` (son *stdout*) sur l'entrée de `cmd2` (son *stdin*). \n",
    "\n",
    "On peut s'imaginer que `cmd1` jette sa sortie à l'entrée du tube et que `cmd2` prend son entrée à la sortie du même tube."
   ]
  },
  {
   "cell_type": "markdown",
   "metadata": {},
   "source": [
    "#### Exemple\n",
    "\n",
    "L'écriture `ls | wc` s'interprète comme suit:\n",
    "\n",
    "- `ls` envoi la chaîne de caractères des fichiers du répertoire courant dans le **tube**,\n",
    "- `wc` récupère en entrée cette chaîne, fait son travail (compter les lignes, mots ...) et affiche le résultat sur sa sortie (l'écran). "
   ]
  },
  {
   "cell_type": "markdown",
   "metadata": {},
   "source": [
    "<img src=\"unix_pipe.png\" />"
   ]
  },
  {
   "cell_type": "markdown",
   "metadata": {},
   "source": [
    "Bien sûr, on peut «chaîner» autant de commandes que l'on veut."
   ]
  },
  {
   "cell_type": "markdown",
   "metadata": {},
   "source": [
    "<img src=\"https://wiki-gateway.frdic.com/wikipedia_zh/I/m/Pipeline.svg.png\"/>"
   ]
  },
  {
   "cell_type": "markdown",
   "metadata": {},
   "source": [
    "**Note**: on devrait mettre *Process* au lieu de *Program* dans la figure ci-dessus."
   ]
  },
  {
   "cell_type": "markdown",
   "metadata": {},
   "source": [
    "#### Un exemple pour trois commandes"
   ]
  },
  {
   "cell_type": "markdown",
   "metadata": {},
   "source": [
    "`cat /proc/cpuinfo | grep processor | wc -l` permet de connaître le nombre de processeurs..."
   ]
  }
 ],
 "metadata": {
  "kernelspec": {
   "display_name": "Python 3",
   "language": "python",
   "name": "python3"
  },
  "language_info": {
   "codemirror_mode": {
    "name": "ipython",
    "version": 3
   },
   "file_extension": ".py",
   "mimetype": "text/x-python",
   "name": "python",
   "nbconvert_exporter": "python",
   "pygments_lexer": "ipython3",
   "version": "3.6.8"
  },
  "toc-autonumbering": false,
  "toc-showcode": false,
  "toc-showmarkdowntxt": false
 },
 "nbformat": 4,
 "nbformat_minor": 4
}
